{
 "cells": [
  {
   "cell_type": "markdown",
   "id": "53d9dc44-8e5e-4246-87e9-5c25726234b0",
   "metadata": {},
   "source": [
    "# Experiments KuHar\n",
    "\n",
    "This notebook will perform basic experiments on the balanced KuHar dataset with the following steps:\n",
    "1. Quick load train, test and validation CSV subsets from the balanced KuHar dataset using `PandasDatasetsIO` helper\n",
    "2. Subclassing the `Dataset` interface using `PandasMultiModalDataset`\n",
    "3. Apply the fourier transform on the dataset\n",
    "4. Train and evaluate SVM, KNN and Random Forest classification models in both time and frequency domains\n",
    "\n",
    "The experiments will evaluate the performance of SVM, KNN and RF models on the balanced KuHar dataset in both time and frequency domains."
   ]
  },
  {
   "cell_type": "markdown",
   "id": "b9e9fd58-02a1-488b-8eab-064b7fdae874",
   "metadata": {},
   "source": [
    "## Common imports and definitions"
   ]
  },
  {
   "cell_type": "code",
   "execution_count": 1,
   "id": "ec6da551-6b53-4ed0-b382-65b3b9d1181c",
   "metadata": {
    "tags": []
   },
   "outputs": [
    {
     "name": "stderr",
     "output_type": "stream",
     "text": [
      "2022-09-05 13:26:19.398633: W tensorflow/stream_executor/platform/default/dso_loader.cc:64] Could not load dynamic library 'libcudart.so.11.0'; dlerror: libcudart.so.11.0: cannot open shared object file: No such file or directory\n",
      "2022-09-05 13:26:19.398654: I tensorflow/stream_executor/cuda/cudart_stub.cc:29] Ignore above cudart dlerror if you do not have a GPU set up on your machine.\n"
     ]
    }
   ],
   "source": [
    "from pathlib import Path  # For defining dataset Paths\n",
    "import sys                # For include librep package\n",
    "\n",
    "# This must be done if librep is not installed via pip,\n",
    "# as this directory (examples) is appart from librep package root\n",
    "sys.path.append(\"..\")\n",
    "\n",
    "# Third party imports\n",
    "import pandas as pd\n",
    "import numpy as np\n",
    "\n",
    "# Librep imports\n",
    "from librep.utils.dataset import PandasDatasetsIO          # For quick load train, test and validation CSVs\n",
    "from librep.datasets.multimodal import PandasMultiModalDataset # Wrap CSVs to librep's `Dataset` interface"
   ]
  },
  {
   "cell_type": "markdown",
   "id": "76dc7e5c-c0b5-4e1c-be82-935aebb822f6",
   "metadata": {},
   "source": [
    "## Loading data\n",
    "Change the path to use in other datasets"
   ]
  },
  {
   "cell_type": "code",
   "execution_count": 2,
   "id": "58562d97-10a2-4081-a773-eb34a2da75f4",
   "metadata": {
    "tags": []
   },
   "outputs": [],
   "source": [
    "# Path for KuHar balanced view with the same activities (and labels numbers)\n",
    "# It is assumed that the directory will contain (train.csv, test.csv and validation.csv)\n",
    "dataset_path = Path(\"../data/views/KuHar/balanced_view\")"
   ]
  },
  {
   "cell_type": "markdown",
   "id": "25ad8212-0cb3-4080-8345-c771ca6eda24",
   "metadata": {},
   "source": [
    "Once paths is defined, we can load the CSV as pandas dataframes"
   ]
  },
  {
   "cell_type": "code",
   "execution_count": 3,
   "id": "00dc7ad4-7931-4985-be40-f29f3ddf0739",
   "metadata": {
    "tags": []
   },
   "outputs": [],
   "source": [
    "# Kuhar dataframes\n",
    "train, validation, test = PandasDatasetsIO(dataset_path).load()"
   ]
  },
  {
   "cell_type": "markdown",
   "id": "9e88a3de-5f0f-4799-b947-e16fab0fd7e2",
   "metadata": {},
   "source": [
    "Letś take a look in the train dataframes"
   ]
  },
  {
   "cell_type": "code",
   "execution_count": 4,
   "id": "6bf01fc5-59c6-4318-8e24-87b2b6e52b6e",
   "metadata": {
    "tags": []
   },
   "outputs": [
    {
     "data": {
      "text/html": [
       "<div>\n",
       "<style scoped>\n",
       "    .dataframe tbody tr th:only-of-type {\n",
       "        vertical-align: middle;\n",
       "    }\n",
       "\n",
       "    .dataframe tbody tr th {\n",
       "        vertical-align: top;\n",
       "    }\n",
       "\n",
       "    .dataframe thead th {\n",
       "        text-align: right;\n",
       "    }\n",
       "</style>\n",
       "<table border=\"1\" class=\"dataframe\">\n",
       "  <thead>\n",
       "    <tr style=\"text-align: right;\">\n",
       "      <th></th>\n",
       "      <th>Unnamed: 0</th>\n",
       "      <th>accel-x-0</th>\n",
       "      <th>accel-x-1</th>\n",
       "      <th>accel-x-2</th>\n",
       "      <th>accel-x-3</th>\n",
       "      <th>accel-x-4</th>\n",
       "      <th>accel-x-5</th>\n",
       "      <th>accel-x-6</th>\n",
       "      <th>accel-x-7</th>\n",
       "      <th>accel-x-8</th>\n",
       "      <th>...</th>\n",
       "      <th>gyro-z-299</th>\n",
       "      <th>accel-start-time</th>\n",
       "      <th>gyro-start-time</th>\n",
       "      <th>accel-end-time</th>\n",
       "      <th>gyro-end-time</th>\n",
       "      <th>activity code</th>\n",
       "      <th>length</th>\n",
       "      <th>serial</th>\n",
       "      <th>index</th>\n",
       "      <th>user</th>\n",
       "    </tr>\n",
       "  </thead>\n",
       "  <tbody>\n",
       "    <tr>\n",
       "      <th>0</th>\n",
       "      <td>0</td>\n",
       "      <td>-0.007251</td>\n",
       "      <td>-0.016431</td>\n",
       "      <td>-0.001900</td>\n",
       "      <td>-0.020529</td>\n",
       "      <td>-0.027133</td>\n",
       "      <td>-0.019558</td>\n",
       "      <td>-0.014525</td>\n",
       "      <td>-0.002541</td>\n",
       "      <td>0.016369</td>\n",
       "      <td>...</td>\n",
       "      <td>0.002956</td>\n",
       "      <td>23.235</td>\n",
       "      <td>23.223</td>\n",
       "      <td>26.260</td>\n",
       "      <td>26.249</td>\n",
       "      <td>0</td>\n",
       "      <td>300</td>\n",
       "      <td>1</td>\n",
       "      <td>2100</td>\n",
       "      <td>1051</td>\n",
       "    </tr>\n",
       "    <tr>\n",
       "      <th>1</th>\n",
       "      <td>1</td>\n",
       "      <td>-0.008128</td>\n",
       "      <td>-0.006837</td>\n",
       "      <td>0.008597</td>\n",
       "      <td>0.014337</td>\n",
       "      <td>0.006973</td>\n",
       "      <td>0.003250</td>\n",
       "      <td>-0.005086</td>\n",
       "      <td>-0.014379</td>\n",
       "      <td>-0.007034</td>\n",
       "      <td>...</td>\n",
       "      <td>0.001709</td>\n",
       "      <td>56.292</td>\n",
       "      <td>56.292</td>\n",
       "      <td>59.245</td>\n",
       "      <td>59.245</td>\n",
       "      <td>0</td>\n",
       "      <td>300</td>\n",
       "      <td>1</td>\n",
       "      <td>5700</td>\n",
       "      <td>1037</td>\n",
       "    </tr>\n",
       "    <tr>\n",
       "      <th>2</th>\n",
       "      <td>2</td>\n",
       "      <td>-0.033081</td>\n",
       "      <td>-0.037222</td>\n",
       "      <td>-0.043654</td>\n",
       "      <td>-0.038211</td>\n",
       "      <td>0.014246</td>\n",
       "      <td>0.063478</td>\n",
       "      <td>0.043582</td>\n",
       "      <td>-0.013673</td>\n",
       "      <td>-0.029928</td>\n",
       "      <td>...</td>\n",
       "      <td>0.002550</td>\n",
       "      <td>27.268</td>\n",
       "      <td>27.267</td>\n",
       "      <td>30.290</td>\n",
       "      <td>30.291</td>\n",
       "      <td>0</td>\n",
       "      <td>300</td>\n",
       "      <td>1</td>\n",
       "      <td>2700</td>\n",
       "      <td>1075</td>\n",
       "    </tr>\n",
       "    <tr>\n",
       "      <th>3</th>\n",
       "      <td>3</td>\n",
       "      <td>-0.009740</td>\n",
       "      <td>-0.016656</td>\n",
       "      <td>0.002454</td>\n",
       "      <td>-0.023503</td>\n",
       "      <td>-0.023115</td>\n",
       "      <td>-0.006241</td>\n",
       "      <td>0.017415</td>\n",
       "      <td>0.014765</td>\n",
       "      <td>0.019231</td>\n",
       "      <td>...</td>\n",
       "      <td>0.002969</td>\n",
       "      <td>39.421</td>\n",
       "      <td>39.420</td>\n",
       "      <td>42.441</td>\n",
       "      <td>42.440</td>\n",
       "      <td>0</td>\n",
       "      <td>300</td>\n",
       "      <td>6</td>\n",
       "      <td>3900</td>\n",
       "      <td>1008</td>\n",
       "    </tr>\n",
       "    <tr>\n",
       "      <th>4</th>\n",
       "      <td>4</td>\n",
       "      <td>0.029113</td>\n",
       "      <td>0.042745</td>\n",
       "      <td>0.017337</td>\n",
       "      <td>-0.015903</td>\n",
       "      <td>-0.027398</td>\n",
       "      <td>-0.010438</td>\n",
       "      <td>-0.026766</td>\n",
       "      <td>-0.013397</td>\n",
       "      <td>-0.008499</td>\n",
       "      <td>...</td>\n",
       "      <td>0.006943</td>\n",
       "      <td>23.703</td>\n",
       "      <td>23.703</td>\n",
       "      <td>26.656</td>\n",
       "      <td>26.656</td>\n",
       "      <td>0</td>\n",
       "      <td>300</td>\n",
       "      <td>1</td>\n",
       "      <td>2400</td>\n",
       "      <td>1038</td>\n",
       "    </tr>\n",
       "  </tbody>\n",
       "</table>\n",
       "<p>5 rows × 1810 columns</p>\n",
       "</div>"
      ],
      "text/plain": [
       "   Unnamed: 0  accel-x-0  accel-x-1  accel-x-2  accel-x-3  accel-x-4  \\\n",
       "0           0  -0.007251  -0.016431  -0.001900  -0.020529  -0.027133   \n",
       "1           1  -0.008128  -0.006837   0.008597   0.014337   0.006973   \n",
       "2           2  -0.033081  -0.037222  -0.043654  -0.038211   0.014246   \n",
       "3           3  -0.009740  -0.016656   0.002454  -0.023503  -0.023115   \n",
       "4           4   0.029113   0.042745   0.017337  -0.015903  -0.027398   \n",
       "\n",
       "   accel-x-5  accel-x-6  accel-x-7  accel-x-8  ...  gyro-z-299  \\\n",
       "0  -0.019558  -0.014525  -0.002541   0.016369  ...    0.002956   \n",
       "1   0.003250  -0.005086  -0.014379  -0.007034  ...    0.001709   \n",
       "2   0.063478   0.043582  -0.013673  -0.029928  ...    0.002550   \n",
       "3  -0.006241   0.017415   0.014765   0.019231  ...    0.002969   \n",
       "4  -0.010438  -0.026766  -0.013397  -0.008499  ...    0.006943   \n",
       "\n",
       "   accel-start-time  gyro-start-time  accel-end-time  gyro-end-time  \\\n",
       "0            23.235           23.223          26.260         26.249   \n",
       "1            56.292           56.292          59.245         59.245   \n",
       "2            27.268           27.267          30.290         30.291   \n",
       "3            39.421           39.420          42.441         42.440   \n",
       "4            23.703           23.703          26.656         26.656   \n",
       "\n",
       "   activity code  length  serial  index  user  \n",
       "0              0     300       1   2100  1051  \n",
       "1              0     300       1   5700  1037  \n",
       "2              0     300       1   2700  1075  \n",
       "3              0     300       6   3900  1008  \n",
       "4              0     300       1   2400  1038  \n",
       "\n",
       "[5 rows x 1810 columns]"
      ]
     },
     "execution_count": 4,
     "metadata": {},
     "output_type": "execute_result"
    }
   ],
   "source": [
    "train.head()"
   ]
  },
  {
   "cell_type": "markdown",
   "id": "5a58623b-b64f-4fba-9622-e906e7ea87a7",
   "metadata": {},
   "source": [
    "## Creating a Librep dataset from pandas dataframes\n",
    "\n",
    "Change the features to use in other datasets"
   ]
  },
  {
   "cell_type": "code",
   "execution_count": 5,
   "id": "b83aae79-f28a-41a7-a82b-87d45375a947",
   "metadata": {
    "tags": []
   },
   "outputs": [],
   "source": [
    "# Kuhar features to select\n",
    "features = [\n",
    "    \"accel-x\",\n",
    "    \"accel-y\",\n",
    "    \"accel-z\",\n",
    "    \"gyro-x\",\n",
    "    \"gyro-y\",\n",
    "    \"gyro-z\"\n",
    "]\n",
    "\n",
    "# Creating the datasets\n",
    "\n",
    "# Train\n",
    "train_dataset = PandasMultiModalDataset(\n",
    "    train,\n",
    "    feature_prefixes=features,\n",
    "    label_columns=\"activity code\",\n",
    "    as_array=True\n",
    ")\n",
    "\n",
    "# Validation\n",
    "validation_dataset = PandasMultiModalDataset(\n",
    "    validation,\n",
    "    feature_prefixes=features,\n",
    "    label_columns=\"activity code\",\n",
    "    as_array=True\n",
    ")\n",
    "\n",
    "# Test\n",
    "test_dataset = PandasMultiModalDataset(\n",
    "    test,\n",
    "    feature_prefixes=features,\n",
    "    label_columns=\"activity code\",\n",
    "    as_array=True\n",
    ")"
   ]
  },
  {
   "cell_type": "markdown",
   "id": "4e1a6ac9-c31d-48b4-8cb4-bb10e7a4b659",
   "metadata": {},
   "source": [
    "## Inspect sample"
   ]
  },
  {
   "cell_type": "code",
   "execution_count": 6,
   "id": "424755b0-8954-4b4f-b9d1-616ccdff7f08",
   "metadata": {
    "tags": []
   },
   "outputs": [
    {
     "name": "stdout",
     "output_type": "stream",
     "text": [
      "(array([-0.00725079, -0.01643086, -0.00189972, ...,  0.00295611,\n",
      "        0.00295611,  0.00295611]), 0)\n"
     ]
    }
   ],
   "source": [
    "# Lets print the first sample of kh_train dataset.\n",
    "# Is a tuple, with an vector of 1800 elements as first element and the label as second\n",
    "x = train_dataset[0]\n",
    "print(x)"
   ]
  },
  {
   "cell_type": "code",
   "execution_count": 7,
   "id": "e5ed5b71-6cdb-4c3f-9e08-d2e21a26520e",
   "metadata": {
    "tags": []
   },
   "outputs": [
    {
     "name": "stdout",
     "output_type": "stream",
     "text": [
      "The sample 0: [-0.00725079 -0.01643086 -0.00189972 ...  0.00295611  0.00295611\n",
      "  0.00295611]\n",
      "Shape of sample 0: (1800,)\n",
      "The label of sample 0: 0\n"
     ]
    }
   ],
   "source": [
    "# Inspecting sample\n",
    "print(f\"The sample 0: {x[0]}\")\n",
    "print(f\"Shape of sample 0: {x[0].shape}\")\n",
    "print(f\"The label of sample 0: {x[1]}\")"
   ]
  },
  {
   "cell_type": "markdown",
   "id": "e044f068-d9a0-4ede-a83c-da1d99c97b38",
   "metadata": {},
   "source": [
    "## Fourier Transform"
   ]
  },
  {
   "cell_type": "code",
   "execution_count": 8,
   "id": "3dcdbe38-67ed-4fa0-9fec-003ad5650f7d",
   "metadata": {
    "tags": []
   },
   "outputs": [],
   "source": [
    "from librep.datasets.multimodal import TransformMultiModalDataset\n",
    "from librep.transforms.fft import FFT"
   ]
  },
  {
   "cell_type": "code",
   "execution_count": 9,
   "id": "8ff029d9-ac41-4a29-9170-7d547fac4684",
   "metadata": {
    "tags": []
   },
   "outputs": [],
   "source": [
    "fft_transform = FFT(centered = True)\n",
    "transformer = TransformMultiModalDataset(transforms=[fft_transform], new_window_name_prefix=\"fft.\")"
   ]
  },
  {
   "cell_type": "markdown",
   "id": "14432baa-cec3-4b58-bd91-cb24ac2cba51",
   "metadata": {},
   "source": [
    "### Use FFT in Kuhar"
   ]
  },
  {
   "cell_type": "code",
   "execution_count": 10,
   "id": "b3f13126-ca3c-416b-ac68-5d40e46050c3",
   "metadata": {
    "tags": []
   },
   "outputs": [],
   "source": [
    "train_dataset_fft = transformer(train_dataset)\n",
    "validation_dataset_fft = transformer(validation_dataset)\n",
    "test_dataset_fft = transformer(test_dataset)"
   ]
  },
  {
   "cell_type": "code",
   "execution_count": 11,
   "id": "e06eb8db-9ee0-400c-8d31-13495c9a567b",
   "metadata": {
    "tags": []
   },
   "outputs": [
    {
     "data": {
      "text/plain": [
       "array([[-7.2507860e-03, -1.6430855e-02, -1.8997192e-03, ...,\n",
       "         2.9561063e-03,  2.9561063e-03,  2.9561063e-03],\n",
       "       [-8.1281660e-03, -6.8368910e-03,  8.5973740e-03, ...,\n",
       "         3.8299560e-03,  2.7618408e-03,  1.7089844e-03],\n",
       "       [-3.3081055e-02, -3.7221910e-02, -4.3654440e-02, ...,\n",
       "         3.6152380e-03,  2.5499745e-03,  2.5499745e-03],\n",
       "       ...,\n",
       "       [ 3.5006000e-01,  2.6262000e-01, -1.7055000e-01, ...,\n",
       "         1.5103000e-01,  1.5636000e-01,  1.6275000e-01],\n",
       "       [-1.6479000e+00, -1.6806000e+00, -1.3551000e+00, ...,\n",
       "         5.5797000e-01,  5.4838000e-01,  5.3240000e-01],\n",
       "       [-6.2135534e+00, -7.1491690e+00, -8.0634130e+00, ...,\n",
       "         1.2653333e-01,  4.5037340e-01,  7.2521144e-01]])"
      ]
     },
     "execution_count": 11,
     "metadata": {},
     "output_type": "execute_result"
    }
   ],
   "source": [
    "train_dataset[:][0]"
   ]
  },
  {
   "cell_type": "code",
   "execution_count": 12,
   "id": "17b3fd29-8045-47d8-b6df-096c93cce0e3",
   "metadata": {},
   "outputs": [
    {
     "data": {
      "text/plain": [
       "array([[1.04461665e-01, 5.60405443e-01, 3.01849883e-01, ...,\n",
       "        1.65037529e-02, 1.63466728e-02, 1.24300339e-02],\n",
       "       [7.69014383e-02, 4.12171994e-01, 2.09383077e-01, ...,\n",
       "        2.63120409e-03, 9.48805261e-03, 5.18175730e-03],\n",
       "       [2.60636336e-01, 2.41408098e-01, 4.46786522e-01, ...,\n",
       "        3.69022318e-03, 1.16167546e-02, 1.45708099e-03],\n",
       "       ...,\n",
       "       [1.23297140e+01, 1.48896039e+02, 1.29219421e+02, ...,\n",
       "        2.89959395e-01, 2.99217590e-01, 3.00465532e-01],\n",
       "       [1.56351597e+01, 1.06429741e+02, 4.65818805e+01, ...,\n",
       "        4.51856425e-01, 3.94662803e-01, 4.98044870e-01],\n",
       "       [7.44451167e+01, 3.31692910e+01, 4.29451498e+01, ...,\n",
       "        1.67725714e+00, 1.48620599e+00, 1.40784994e+00]])"
      ]
     },
     "execution_count": 12,
     "metadata": {},
     "output_type": "execute_result"
    }
   ],
   "source": [
    "train_dataset_fft[:][0]"
   ]
  },
  {
   "cell_type": "markdown",
   "id": "e4387db2-e8c0-4d6c-9534-32266dd829f4",
   "metadata": {},
   "source": [
    "## Train and evaluate Random Forest classifier"
   ]
  },
  {
   "cell_type": "code",
   "execution_count": 13,
   "id": "a4cac18a-20d2-4c42-8805-7d02c4dabba0",
   "metadata": {},
   "outputs": [],
   "source": [
    "from librep.utils.workflow import SimpleTrainEvalWorkflow, MultiRunWorkflow\n",
    "from librep.estimators import RandomForestClassifier\n",
    "from librep.metrics.report import ClassificationReport\n",
    "import yaml\n",
    "\n",
    "reporter = ClassificationReport(use_accuracy=True, use_f1_score=True, use_classification_report=False, use_confusion_matrix=False, plot_confusion_matrix=False)\n",
    "experiment = SimpleTrainEvalWorkflow(estimator=RandomForestClassifier, estimator_creation_kwags ={'n_estimators':100} , do_not_instantiate=False, do_fit=True, evaluator=reporter)\n",
    "multi_run_experiment = MultiRunWorkflow(workflow=experiment, num_runs=3, debug=False)"
   ]
  },
  {
   "cell_type": "code",
   "execution_count": 22,
   "id": "c80ec130-2533-4e34-9c9c-deda4a50eb0b",
   "metadata": {},
   "outputs": [
    {
     "name": "stdout",
     "output_type": "stream",
     "text": [
      "(array([-0.00725079, -0.01643086, -0.00189972, ...,  0.00295611,\n",
      "        0.00295611,  0.00295611]), 0)\n",
      "The sample 0: [-0.00725079 -0.01643086 -0.00189972 ...  0.00295611  0.00295611\n",
      "  0.00295611]\n",
      "Shape of sample 0: (1800,)\n",
      "The label of sample 0: 0\n",
      "PandasMultiModalDataset: samples=3330, features=1800, no. window=6\n",
      "PandasMultiModalDataset: samples=108, features=1800, no. window=6\n",
      "PandasMultiModalDataset: samples=3438, features=1800, no. window=6\n",
      "runs:\n",
      "-   end: 1662384844.76248\n",
      "    result:\n",
      "    -   accuracy: 0.3888888888888889\n",
      "        f1 score (macro): 0.3883578776298696\n",
      "        f1 score (micro): 0.3888888888888889\n",
      "        f1 score (weighted): 0.3894199001479082\n",
      "    run id: 1\n",
      "    start: 1662384844.695297\n",
      "    time taken: 0.06718301773071289\n",
      "-   end: 1662384844.8289225\n",
      "    result:\n",
      "    -   accuracy: 0.3888888888888889\n",
      "        f1 score (macro): 0.3883578776298696\n",
      "        f1 score (micro): 0.3888888888888889\n",
      "        f1 score (weighted): 0.3894199001479082\n",
      "    run id: 2\n",
      "    start: 1662384844.762483\n",
      "    time taken: 0.06643962860107422\n",
      "-   end: 1662384844.8946528\n",
      "    result:\n",
      "    -   accuracy: 0.3888888888888889\n",
      "        f1 score (macro): 0.3883578776298696\n",
      "        f1 score (micro): 0.3888888888888889\n",
      "        f1 score (weighted): 0.3894199001479082\n",
      "    run id: 3\n",
      "    start: 1662384844.8289254\n",
      "    time taken: 0.06572747230529785\n",
      "\n"
     ]
    }
   ],
   "source": [
    "combined_train_dset = PandasMultiModalDataset(\n",
    "    pd.concat([train, validation], ignore_index=True),\n",
    "    feature_prefixes=features,\n",
    "    label_columns=\"activity code\",\n",
    "    as_array=True\n",
    ")\n",
    "\n",
    "x = combined_train_dset[0]\n",
    "print(x)\n",
    "print(f\"The sample 0: {x[0]}\")\n",
    "print(f\"Shape of sample 0: {x[0].shape}\")\n",
    "print(f\"The label of sample 0: {x[1]}\")\n",
    "print(train_dataset)\n",
    "print(validation_dataset)\n",
    "print(combined_train_dset)\n",
    "\n",
    "result = multi_run_experiment(combined_train_dset, test_dataset)\n",
    "print(yaml.dump(result, sort_keys=True, indent=4))"
   ]
  },
  {
   "cell_type": "code",
   "execution_count": 15,
   "id": "8144d32a-0f46-4019-a8b8-94f925102dab",
   "metadata": {},
   "outputs": [
    {
     "name": "stdout",
     "output_type": "stream",
     "text": [
      "runs:\n",
      "-   end: 1662384418.4568903\n",
      "    result:\n",
      "    -   accuracy: 0.783068783068783\n",
      "        f1 score (macro): 0.7808929070599591\n",
      "        f1 score (micro): 0.7830687830687831\n",
      "        f1 score (weighted): 0.785244659077607\n",
      "    run id: 1\n",
      "    start: 1662384412.5481153\n",
      "    time taken: 5.908775091171265\n",
      "-   end: 1662384424.4287639\n",
      "    result:\n",
      "    -   accuracy: 0.7883597883597884\n",
      "        f1 score (macro): 0.7848541859483434\n",
      "        f1 score (micro): 0.7883597883597884\n",
      "        f1 score (weighted): 0.7918653907712332\n",
      "    run id: 2\n",
      "    start: 1662384418.4568925\n",
      "    time taken: 5.971871376037598\n",
      "-   end: 1662384430.420034\n",
      "    result:\n",
      "    -   accuracy: 0.7777777777777778\n",
      "        f1 score (macro): 0.7730427641500177\n",
      "        f1 score (micro): 0.7777777777777778\n",
      "        f1 score (weighted): 0.7825127914055378\n",
      "    run id: 3\n",
      "    start: 1662384424.428767\n",
      "    time taken: 5.991266965866089\n",
      "\n"
     ]
    }
   ],
   "source": [
    "combined_train_dset_fft = transformer(combined_train_dset)\n",
    "\n",
    "result = multi_run_experiment(combined_train_dset_fft, test_dataset_fft)\n",
    "print(yaml.dump(result, sort_keys=True, indent=4))"
   ]
  },
  {
   "cell_type": "markdown",
   "id": "f1d5da25-a1dd-472f-9ed9-a3f456022c31",
   "metadata": {},
   "source": [
    "## Train and evaluate Support Vector Machine classifier"
   ]
  },
  {
   "cell_type": "code",
   "execution_count": 16,
   "id": "009a6764-6b45-4d88-a437-b58bbcc7debc",
   "metadata": {},
   "outputs": [
    {
     "name": "stdout",
     "output_type": "stream",
     "text": [
      "runs:\n",
      "-   end: 1662384436.1339922\n",
      "    result:\n",
      "    -   accuracy: 0.4497354497354497\n",
      "        f1 score (macro): 0.4260833681093106\n",
      "        f1 score (micro): 0.4497354497354497\n",
      "        f1 score (weighted): 0.4733875313615887\n",
      "    run id: 1\n",
      "    start: 1662384430.4254065\n",
      "    time taken: 5.708585739135742\n",
      "-   end: 1662384441.7608743\n",
      "    result:\n",
      "    -   accuracy: 0.4497354497354497\n",
      "        f1 score (macro): 0.4260833681093106\n",
      "        f1 score (micro): 0.4497354497354497\n",
      "        f1 score (weighted): 0.4733875313615887\n",
      "    run id: 2\n",
      "    start: 1662384436.133994\n",
      "    time taken: 5.626880168914795\n",
      "-   end: 1662384447.3747075\n",
      "    result:\n",
      "    -   accuracy: 0.4497354497354497\n",
      "        f1 score (macro): 0.4260833681093106\n",
      "        f1 score (micro): 0.4497354497354497\n",
      "        f1 score (weighted): 0.4733875313615887\n",
      "    run id: 3\n",
      "    start: 1662384441.7608767\n",
      "    time taken: 5.613830804824829\n",
      "\n"
     ]
    }
   ],
   "source": [
    "#from librep.estimators import SVC\n",
    "from sklearn.svm import SVC\n",
    "\n",
    "experiment = SimpleTrainEvalWorkflow(estimator=SVC, estimator_creation_kwags ={'C':3.0, 'kernel':\"rbf\"} , do_not_instantiate=False, do_fit=True, evaluator=reporter)\n",
    "multi_run_experiment = MultiRunWorkflow(workflow=experiment, num_runs=3, debug=False)\n",
    "\n",
    "result = multi_run_experiment(combined_train_dset, test_dataset)\n",
    "print(yaml.dump(result, sort_keys=True, indent=4))"
   ]
  },
  {
   "cell_type": "code",
   "execution_count": 17,
   "id": "8e2d9c26-f8f7-42aa-9d80-d9f103a2f06e",
   "metadata": {},
   "outputs": [
    {
     "name": "stdout",
     "output_type": "stream",
     "text": [
      "runs:\n",
      "-   end: 1662384448.734352\n",
      "    result:\n",
      "    -   accuracy: 0.791005291005291\n",
      "        f1 score (macro): 0.7733134329979361\n",
      "        f1 score (micro): 0.791005291005291\n",
      "        f1 score (weighted): 0.808697149012646\n",
      "    run id: 1\n",
      "    start: 1662384447.3800087\n",
      "    time taken: 1.3543434143066406\n",
      "-   end: 1662384450.080104\n",
      "    result:\n",
      "    -   accuracy: 0.791005291005291\n",
      "        f1 score (macro): 0.7733134329979361\n",
      "        f1 score (micro): 0.791005291005291\n",
      "        f1 score (weighted): 0.808697149012646\n",
      "    run id: 2\n",
      "    start: 1662384448.7343543\n",
      "    time taken: 1.345749855041504\n",
      "-   end: 1662384451.447714\n",
      "    result:\n",
      "    -   accuracy: 0.791005291005291\n",
      "        f1 score (macro): 0.7733134329979361\n",
      "        f1 score (micro): 0.791005291005291\n",
      "        f1 score (weighted): 0.808697149012646\n",
      "    run id: 3\n",
      "    start: 1662384450.080106\n",
      "    time taken: 1.3676080703735352\n",
      "\n"
     ]
    }
   ],
   "source": [
    "result = multi_run_experiment(combined_train_dset_fft, test_dataset_fft)\n",
    "print(yaml.dump(result, sort_keys=True, indent=4))"
   ]
  },
  {
   "cell_type": "markdown",
   "id": "2cf2bcb7-eb7c-46f5-9542-b873ae14f5af",
   "metadata": {},
   "source": [
    "## Train and evaluate K Neighbors Classifier classifier"
   ]
  },
  {
   "cell_type": "code",
   "execution_count": 18,
   "id": "267f4b44-2bc5-40a2-bae2-85ddbd9697c5",
   "metadata": {},
   "outputs": [
    {
     "name": "stdout",
     "output_type": "stream",
     "text": [
      "runs:\n",
      "-   end: 1662384451.6437302\n",
      "    result:\n",
      "    -   accuracy: 0.3888888888888889\n",
      "        f1 score (macro): 0.3883578776298696\n",
      "        f1 score (micro): 0.3888888888888889\n",
      "        f1 score (weighted): 0.3894199001479082\n",
      "    run id: 1\n",
      "    start: 1662384451.4532526\n",
      "    time taken: 0.19047760963439941\n",
      "-   end: 1662384451.7111523\n",
      "    result:\n",
      "    -   accuracy: 0.3888888888888889\n",
      "        f1 score (macro): 0.3883578776298696\n",
      "        f1 score (micro): 0.3888888888888889\n",
      "        f1 score (weighted): 0.3894199001479082\n",
      "    run id: 2\n",
      "    start: 1662384451.6437347\n",
      "    time taken: 0.06741762161254883\n",
      "-   end: 1662384451.778556\n",
      "    result:\n",
      "    -   accuracy: 0.3888888888888889\n",
      "        f1 score (macro): 0.3883578776298696\n",
      "        f1 score (micro): 0.3888888888888889\n",
      "        f1 score (weighted): 0.3894199001479082\n",
      "    run id: 3\n",
      "    start: 1662384451.7111547\n",
      "    time taken: 0.06740140914916992\n",
      "\n"
     ]
    }
   ],
   "source": [
    "#from librep.estimators import KNeighborsClassifier\n",
    "from sklearn.neighbors import KNeighborsClassifier\n",
    "\n",
    "experiment = SimpleTrainEvalWorkflow(estimator=KNeighborsClassifier, estimator_creation_kwags ={'n_neighbors' :1} , do_not_instantiate=False, do_fit=True, evaluator=reporter)\n",
    "multi_run_experiment = MultiRunWorkflow(workflow=experiment, num_runs=3, debug=False)\n",
    "\n",
    "result = multi_run_experiment(combined_train_dset, test_dataset)\n",
    "print(yaml.dump(result, sort_keys=True, indent=4))"
   ]
  },
  {
   "cell_type": "code",
   "execution_count": 19,
   "id": "d464e02b-a75f-4f19-9446-f717fa0d5d5b",
   "metadata": {},
   "outputs": [
    {
     "name": "stdout",
     "output_type": "stream",
     "text": [
      "runs:\n",
      "-   end: 1662384451.8095093\n",
      "    result:\n",
      "    -   accuracy: 0.8253968253968254\n",
      "        f1 score (macro): 0.8247611415029943\n",
      "        f1 score (micro): 0.8253968253968254\n",
      "        f1 score (weighted): 0.8260325092906565\n",
      "    run id: 1\n",
      "    start: 1662384451.7847493\n",
      "    time taken: 0.024760007858276367\n",
      "-   end: 1662384451.8335404\n",
      "    result:\n",
      "    -   accuracy: 0.8253968253968254\n",
      "        f1 score (macro): 0.8247611415029943\n",
      "        f1 score (micro): 0.8253968253968254\n",
      "        f1 score (weighted): 0.8260325092906565\n",
      "    run id: 2\n",
      "    start: 1662384451.8095114\n",
      "    time taken: 0.024029016494750977\n",
      "-   end: 1662384451.8584514\n",
      "    result:\n",
      "    -   accuracy: 0.8253968253968254\n",
      "        f1 score (macro): 0.8247611415029943\n",
      "        f1 score (micro): 0.8253968253968254\n",
      "        f1 score (weighted): 0.8260325092906565\n",
      "    run id: 3\n",
      "    start: 1662384451.8335423\n",
      "    time taken: 0.024909019470214844\n",
      "\n"
     ]
    }
   ],
   "source": [
    "result = multi_run_experiment(combined_train_dset_fft, test_dataset_fft)\n",
    "print(yaml.dump(result, sort_keys=True, indent=4))"
   ]
  },
  {
   "cell_type": "code",
   "execution_count": null,
   "id": "5ecc7c88-1978-4f00-9f91-a0de55294868",
   "metadata": {},
   "outputs": [],
   "source": []
  }
 ],
 "metadata": {
  "kernelspec": {
   "display_name": "Python 3 (ipykernel)",
   "language": "python",
   "name": "python3"
  },
  "language_info": {
   "codemirror_mode": {
    "name": "ipython",
    "version": 3
   },
   "file_extension": ".py",
   "mimetype": "text/x-python",
   "name": "python",
   "nbconvert_exporter": "python",
   "pygments_lexer": "ipython3",
   "version": "3.8.10"
  }
 },
 "nbformat": 4,
 "nbformat_minor": 5
}
