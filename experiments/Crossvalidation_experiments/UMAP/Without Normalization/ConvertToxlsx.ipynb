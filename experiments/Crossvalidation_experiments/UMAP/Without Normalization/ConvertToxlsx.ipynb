{
 "cells": [
  {
   "cell_type": "code",
   "execution_count": 3,
   "id": "2405ce97-68e6-4596-8121-89c89c775c32",
   "metadata": {},
   "outputs": [],
   "source": [
    "import numpy as np\n",
    "import pandas as pd\n",
    "import pickle"
   ]
  },
  {
   "cell_type": "code",
   "execution_count": 3,
   "id": "52697afb",
   "metadata": {},
   "outputs": [],
   "source": [
    "# # Save results\n",
    "# import pickle\n",
    "\n",
    "# with open('df_results_base.pkl', 'wb') as file:\n",
    "#     pickle.dump(df_results, file)\n",
    "    \n",
    "# with open('results_dict_base.pkl', 'wb') as file:\n",
    "#     pickle.dump(results_dict, file)"
   ]
  },
  {
   "cell_type": "code",
   "execution_count": 1,
   "id": "22dd80cf-8245-47ca-828f-8dff63c5dfdd",
   "metadata": {},
   "outputs": [],
   "source": [
    "# with open('df_results.pkl', 'rb') as f:\n",
    "#     df = pickle.load(f)\n",
    "# df"
   ]
  },
  {
   "cell_type": "code",
   "execution_count": 2,
   "id": "8e9aa9f3-2811-4840-9092-e57ead2f1bbb",
   "metadata": {},
   "outputs": [],
   "source": [
    "# # creating an output excel file\n",
    "# resultExcelFile = pd.ExcelWriter('ResultCrossValidationExcelFile.xlsx')\n",
    "\n",
    "# # converting the csv file to an excel file\n",
    "# df.to_excel(resultExcelFile, index=False)\n",
    "\n",
    "# # saving the excel file\n",
    "# resultExcelFile.save()"
   ]
  },
  {
   "cell_type": "code",
   "execution_count": 6,
   "id": "73aa5146-5789-4693-ae08-a19907ed6ace",
   "metadata": {},
   "outputs": [],
   "source": [
    "# df = pd.read_csv('df_results.csv')\n",
    "# df"
   ]
  },
  {
   "cell_type": "code",
   "execution_count": null,
   "id": "2c4fcd3f-68e2-4be1-892d-ad321c530d76",
   "metadata": {},
   "outputs": [],
   "source": []
  }
 ],
 "metadata": {
  "kernelspec": {
   "display_name": "Python 3 (ipykernel)",
   "language": "python",
   "name": "python3"
  },
  "language_info": {
   "codemirror_mode": {
    "name": "ipython",
    "version": 3
   },
   "file_extension": ".py",
   "mimetype": "text/x-python",
   "name": "python",
   "nbconvert_exporter": "python",
   "pygments_lexer": "ipython3",
   "version": "3.8.10"
  }
 },
 "nbformat": 4,
 "nbformat_minor": 5
}
