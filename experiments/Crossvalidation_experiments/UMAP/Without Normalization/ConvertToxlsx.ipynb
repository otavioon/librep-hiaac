{
 "cells": [
  {
   "cell_type": "code",
   "execution_count": 1,
   "id": "2405ce97-68e6-4596-8121-89c89c775c32",
   "metadata": {},
   "outputs": [],
   "source": [
    "import numpy as np\n",
    "import pandas as pd\n",
    "import pickle"
   ]
  },
  {
   "cell_type": "code",
   "execution_count": 2,
   "id": "a99b256d-e1bc-405c-bb7c-034649906c59",
   "metadata": {
    "hidden": true
   },
   "outputs": [
    {
     "ename": "NameError",
     "evalue": "name 'KuHar_BalancedView20HzMotionSenseEquivalent' is not defined",
     "output_type": "error",
     "traceback": [
      "\u001b[0;31m---------------------------------------------------------------------------\u001b[0m",
      "\u001b[0;31mNameError\u001b[0m                                 Traceback (most recent call last)",
      "Input \u001b[0;32mIn [2]\u001b[0m, in \u001b[0;36m<cell line: 2>\u001b[0;34m()\u001b[0m\n\u001b[1;32m      1\u001b[0m \u001b[38;5;66;03m# Load KuHar, creating PandasMultiModalDatasets with the correct pre-defined windows\u001b[39;00m\n\u001b[0;32m----> 2\u001b[0m loader \u001b[38;5;241m=\u001b[39m \u001b[43mKuHar_BalancedView20HzMotionSenseEquivalent\u001b[49m(\n\u001b[1;32m      3\u001b[0m     Root\u001b[38;5;241m+\u001b[39m\u001b[38;5;124m\"\u001b[39m\u001b[38;5;124m/data/views/KuHar/balanced_20Hz_motionsense_equivalent-v1\u001b[39m\u001b[38;5;124m\"\u001b[39m, \n\u001b[1;32m      4\u001b[0m     download\u001b[38;5;241m=\u001b[39m\u001b[38;5;28;01mFalse\u001b[39;00m)\n\u001b[1;32m      5\u001b[0m train_val_kuhar, test_kuhar \u001b[38;5;241m=\u001b[39m loader\u001b[38;5;241m.\u001b[39mload(concat_train_validation\u001b[38;5;241m=\u001b[39m\u001b[38;5;28;01mTrue\u001b[39;00m, label\u001b[38;5;241m=\u001b[39m\u001b[38;5;124m\"\u001b[39m\u001b[38;5;124mstandard activity code\u001b[39m\u001b[38;5;124m\"\u001b[39m)\n\u001b[1;32m      6\u001b[0m train_val_kuhar, test_kuhar\n",
      "\u001b[0;31mNameError\u001b[0m: name 'KuHar_BalancedView20HzMotionSenseEquivalent' is not defined"
     ]
    }
   ],
   "source": [
    "# Load KuHar, creating PandasMultiModalDatasets with the correct pre-defined windows\n",
    "loader = KuHar_BalancedView20HzMotionSenseEquivalent(\n",
    "    Root+\"/data/views/KuHar/balanced_20Hz_motionsense_equivalent-v1\", \n",
    "    download=False)\n",
    "train_val_kuhar, test_kuhar = loader.load(concat_train_validation=True, label=\"standard activity code\")\n",
    "train_val_kuhar, test_kuhar"
   ]
  },
  {
   "cell_type": "code",
   "execution_count": null,
   "id": "1edc7aca-39d1-4fbb-a992-fc677a440583",
   "metadata": {
    "hidden": true
   },
   "outputs": [],
   "source": [
    "train_val_kuhar.data.iloc[:,:-10]"
   ]
  },
  {
   "cell_type": "code",
   "execution_count": null,
   "id": "efe00606-2cfc-4886-918d-547b17478a38",
   "metadata": {
    "hidden": true
   },
   "outputs": [],
   "source": [
    "train_kuhar_X = train_val_kuhar.data.iloc[:,:-10]\n",
    "train_kuhar_Y = train_val_kuhar.data['standard activity code']\n",
    "tam = len(train_kuhar_Y)\n",
    "train_kuhar_id_dataset = np.array(['KuHar']*tam)\n",
    "train_kuhar_label = np.array([labels_activity[i] + ' - ' + labels_dataset[j] for i, j in zip(train_kuhar_Y, train_kuhar_id_dataset)])"
   ]
  },
  {
   "cell_type": "code",
   "execution_count": null,
   "id": "355aafef",
   "metadata": {
    "hidden": true
   },
   "outputs": [],
   "source": [
    "test_kuhar_X = test_kuhar.data.iloc[:,:-10]\n",
    "test_kuhar_Y = test_kuhar.data['standard activity code']\n",
    "tam = len(test_kuhar_Y)\n",
    "test_kuhar_id_dataset = np.array(['KuHar']*tam)\n",
    "test_kuhar_label = np.array([labels_activity[i] + ' - ' + labels_dataset[j] for i, j in zip(test_kuhar_Y, test_kuhar_id_dataset)])"
   ]
  },
  {
   "cell_type": "code",
   "execution_count": null,
   "id": "021b2f98-c868-45d9-b4c1-6775c20e064e",
   "metadata": {
    "hidden": true
   },
   "outputs": [],
   "source": [
    "loader = MotionSense_BalancedView20HZ(\n",
    "    Root+\"/data/views/MotionSense/balanced_20Hz_filtered\", \n",
    "    download=False) \n",
    "train_val_motion, test_motion = loader.load(concat_train_validation=True, label=\"standard activity code\")\n",
    "train_val_motion, test_motion"
   ]
  },
  {
   "cell_type": "code",
   "execution_count": null,
   "id": "7c0fb2ad-5ae7-4c71-8704-0bcf7c6fb1c9",
   "metadata": {
    "hidden": true
   },
   "outputs": [],
   "source": [
    "train_val_motion.data.iloc[:,540:-6]"
   ]
  },
  {
   "cell_type": "code",
   "execution_count": null,
   "id": "15799c9c-1f91-47ee-8c73-886d1b066420",
   "metadata": {
    "hidden": true
   },
   "outputs": [],
   "source": [
    "train_val_motion.data.iloc[:,360:540]"
   ]
  },
  {
   "cell_type": "code",
   "execution_count": null,
   "id": "09aee6e0-53fc-4914-aaeb-edf59b860cbe",
   "metadata": {
    "hidden": true
   },
   "outputs": [],
   "source": [
    "train_motion_X = pd.concat([train_val_motion.data.iloc[:,540:-6], train_val_motion.data.iloc[:,360:540]], axis=1)\n",
    "train_motion_Y = train_val_motion.data['standard activity code']\n",
    "tam = len(train_motion_Y)\n",
    "train_motion_id_dataset = np.array(['MotionSense']*tam)\n",
    "train_motion_label = np.array([labels_activity[i] + ' - ' + labels_dataset[j] for i, j in zip(train_motion_Y, train_motion_id_dataset)])"
   ]
  },
  {
   "cell_type": "code",
   "execution_count": null,
   "id": "737b24ac",
   "metadata": {
    "hidden": true
   },
   "outputs": [],
   "source": [
    "test_motion_X = pd.concat([test_motion.data.iloc[:,540:-6], test_motion.data.iloc[:,360:540]], axis=1)\n",
    "test_motion_Y = test_motion.data['standard activity code']\n",
    "tam = len(test_motion_Y)\n",
    "test_motion_id_dataset = np.array(['MotionSense']*tam)\n",
    "test_motion_label = np.array([labels_activity[i] + ' - ' + labels_dataset[j] for i, j in zip(test_motion_Y, test_motion_id_dataset)])"
   ]
  },
  {
   "cell_type": "code",
   "execution_count": null,
   "id": "fedf158c-58fb-4103-ac6c-f7edf1947638",
   "metadata": {
    "hidden": true
   },
   "outputs": [],
   "source": [
    "test_motion_X"
   ]
  },
  {
   "cell_type": "code",
   "execution_count": null,
   "id": "d75707bb-be50-43d7-9426-2c1cbd0add5c",
   "metadata": {
    "hidden": true
   },
   "outputs": [],
   "source": [
    "loader = UCIHAR_UnbalancedView20Hz(\n",
    "    Root+\"/data/views/UCI-HAR/balanced_20Hz_filtered\",\n",
    "    download=False) \n",
    "train_val_uci, test_uci = loader.load(concat_train_validation=True, label=\"standard activity code\")\n",
    "train_val_uci, test_uci"
   ]
  },
  {
   "cell_type": "code",
   "execution_count": null,
   "id": "e678c596-d055-4eaf-bf4c-f75e07357fda",
   "metadata": {
    "hidden": true
   },
   "outputs": [],
   "source": [
    "train_val_uci.data.iloc[:,:-3]"
   ]
  },
  {
   "cell_type": "code",
   "execution_count": null,
   "id": "f8ae0678-1734-4e52-8c72-723a76828f6e",
   "metadata": {
    "hidden": true
   },
   "outputs": [],
   "source": [
    "train_uci_X = train_val_uci.data.iloc[:,:-3]\n",
    "train_uci_Y = train_val_uci.data['standard activity code']\n",
    "\n",
    "tam = len(train_uci_Y)\n",
    "train_uci_id_dataset = np.array(['UCI']*tam)\n",
    "train_uci_label = np.array([labels_activity[i] + ' - ' + labels_dataset[j] for i, j in zip(train_uci_Y, train_uci_id_dataset)])"
   ]
  },
  {
   "cell_type": "code",
   "execution_count": null,
   "id": "4d4773ca",
   "metadata": {
    "hidden": true
   },
   "outputs": [],
   "source": [
    "test_uci_X = test_uci.data.iloc[:,:-3]\n",
    "test_uci_Y = test_uci.data['standard activity code']\n",
    "\n",
    "tam = len(test_uci_Y)\n",
    "test_uci_id_dataset = np.array(['UCI']*tam)\n",
    "test_uci_label = np.array([labels_activity[i] + ' - ' + labels_dataset[j] for i, j in zip(test_uci_Y, test_uci_id_dataset)])"
   ]
  },
  {
   "cell_type": "code",
   "execution_count": null,
   "id": "7a7c54a5-0e28-4841-8384-62ba771609c0",
   "metadata": {
    "hidden": true
   },
   "outputs": [],
   "source": [
    "loader = UCIHAR_UnbalancedView20Hz(\n",
    "    Root+\"/data/views/WISDM/balanced_20Hz_filtered\", \n",
    "    download=False) \n",
    "train_val_wisdm, test_wisdm = loader.load(concat_train_validation=True, label=\"standard activity code\")\n",
    "train_val_wisdm, test_wisdm"
   ]
  },
  {
   "cell_type": "code",
   "execution_count": null,
   "id": "4bbce7ca-ba1d-4657-855d-08b852bfa195",
   "metadata": {
    "hidden": true
   },
   "outputs": [],
   "source": [
    "train_val_wisdm.data['standard activity code'].unique()"
   ]
  },
  {
   "cell_type": "code",
   "execution_count": null,
   "id": "46205b24-a842-4e04-bb6c-2e76b445b637",
   "metadata": {
    "hidden": true
   },
   "outputs": [],
   "source": [
    "train_val_wisdm.data.iloc[:,:-3]"
   ]
  },
  {
   "cell_type": "code",
   "execution_count": null,
   "id": "a0d36edf-b9a3-4a60-944f-61af28c2af78",
   "metadata": {
    "hidden": true
   },
   "outputs": [],
   "source": [
    "train_wisdm_X = train_val_wisdm.data.iloc[:,:-3]\n",
    "train_wisdm_Y = train_val_wisdm.data['standard activity code']\n",
    "\n",
    "tam = len(train_wisdm_Y)\n",
    "train_wisdm_id_dataset = np.array(['WISDM']*tam)\n",
    "train_wisdm_label = np.array([labels_activity[i] + ' - ' + labels_dataset[j] for i, j in zip(train_wisdm_Y, train_wisdm_id_dataset)])"
   ]
  },
  {
   "cell_type": "code",
   "execution_count": null,
   "id": "2f1a9153",
   "metadata": {
    "hidden": true
   },
   "outputs": [],
   "source": [
    "test_wisdm_X = test_wisdm.data.iloc[:,:-3]\n",
    "test_wisdm_Y = test_wisdm.data['standard activity code']\n",
    "\n",
    "tam = len(test_wisdm_Y)\n",
    "test_wisdm_id_dataset = np.array(['WISDM']*tam)\n",
    "test_wisdm_label = np.array([labels_activity[i] + ' - ' + labels_dataset[j] for i, j in zip(test_wisdm_Y, test_wisdm_id_dataset)])"
   ]
  },
  {
   "cell_type": "code",
   "execution_count": null,
   "id": "fae0e9a0",
   "metadata": {
    "hidden": true
   },
   "outputs": [],
   "source": [
    "loader = ExtraSensorySense_UnbalancedView20HZ(\n",
    "    Root+\"/data/views/ExtraSensory/unbalanced_20Hz_train-gnoravity-v1\", \n",
    "    download=False) \n",
    "train_val_extrasensory, test_extrasensory = loader.load(concat_train_validation=True, label=\"standard activity code\")\n",
    "train_val_extrasensory, test_extrasensory"
   ]
  },
  {
   "cell_type": "code",
   "execution_count": null,
   "id": "d924e9a2",
   "metadata": {
    "hidden": true
   },
   "outputs": [],
   "source": [
    "train_val_extrasensory.data.iloc[:,1:-8]"
   ]
  },
  {
   "cell_type": "code",
   "execution_count": null,
   "id": "618197f9",
   "metadata": {
    "hidden": true
   },
   "outputs": [],
   "source": [
    "train_extrasensory_X = train_val_extrasensory.data.iloc[:,1:-8]\n",
    "train_extrasensory_Y = train_val_extrasensory.data['standard activity code']\n",
    "\n",
    "tam = len(train_extrasensory_Y)\n",
    "train_extrasensory_id_dataset = np.array(['ExtraSensory']*tam)\n",
    "train_extrasensory_label = np.array([labels_activity[i] + ' - ' + labels_dataset[j] \n",
    "for i, j in zip(train_extrasensory_Y, train_extrasensory_id_dataset)])"
   ]
  },
  {
   "cell_type": "code",
   "execution_count": null,
   "id": "7864a7b5-a670-4011-8c5e-1e048b7bc816",
   "metadata": {},
   "outputs": [],
   "source": [
    "test_extrasensory_X = test_extrasensory.data.iloc[:,1:-8]\n",
    "test_extrasensory_Y = test_extrasensory.data['standard activity code']\n",
    "\n",
    "tam = len(test_extrasensory_Y)\n",
    "test_extrasensory_id_dataset = np.array(['ExtraSensory']*tam)\n",
    "test_extrasensory_label = np.array([labels_activity[i] + ' - ' + labels_dataset[j] \n",
    "for i, j in zip(test_extrasensory_Y, test_extrasensory_id_dataset)])"
   ]
  },
  {
   "cell_type": "code",
   "execution_count": 3,
   "id": "52697afb",
   "metadata": {},
   "outputs": [],
   "source": [
    "# # Save results\n",
    "# import pickle\n",
    "\n",
    "# with open('df_results_base.pkl', 'wb') as file:\n",
    "#     pickle.dump(df_results, file)\n",
    "    \n",
    "# with open('results_dict_base.pkl', 'wb') as file:\n",
    "#     pickle.dump(results_dict, file)"
   ]
  },
  {
   "cell_type": "code",
   "execution_count": 4,
   "id": "22dd80cf-8245-47ca-828f-8dff63c5dfdd",
   "metadata": {},
   "outputs": [
    {
     "data": {
      "text/html": [
       "<div>\n",
       "<style scoped>\n",
       "    .dataframe tbody tr th:only-of-type {\n",
       "        vertical-align: middle;\n",
       "    }\n",
       "\n",
       "    .dataframe tbody tr th {\n",
       "        vertical-align: top;\n",
       "    }\n",
       "\n",
       "    .dataframe thead th {\n",
       "        text-align: right;\n",
       "    }\n",
       "</style>\n",
       "<table border=\"1\" class=\"dataframe\">\n",
       "  <thead>\n",
       "    <tr style=\"text-align: right;\">\n",
       "      <th></th>\n",
       "      <th>Classifier</th>\n",
       "      <th>Umap</th>\n",
       "      <th>Train</th>\n",
       "      <th>Test</th>\n",
       "      <th>accuracy - mean</th>\n",
       "      <th>accuracy - std</th>\n",
       "      <th>f1 score (weighted) - mean</th>\n",
       "      <th>f1 score (weighted) - std</th>\n",
       "      <th>f1-score - mean - sit</th>\n",
       "      <th>f1-score - mean - stand</th>\n",
       "      <th>...</th>\n",
       "      <th>support - mean - stair down</th>\n",
       "      <th>support - mean - run</th>\n",
       "      <th>support - mean - stair up and down</th>\n",
       "      <th>support - std - sit</th>\n",
       "      <th>support - std - stand</th>\n",
       "      <th>support - std - walk</th>\n",
       "      <th>support - std - stair up</th>\n",
       "      <th>support - std - stair down</th>\n",
       "      <th>support - std - run</th>\n",
       "      <th>support - std - stair up and down</th>\n",
       "    </tr>\n",
       "  </thead>\n",
       "  <tbody>\n",
       "    <tr>\n",
       "      <th>0</th>\n",
       "      <td>RandomForest</td>\n",
       "      <td>[-]</td>\n",
       "      <td>[KuHar]</td>\n",
       "      <td>KuHar</td>\n",
       "      <td>0.768293</td>\n",
       "      <td>0.006029</td>\n",
       "      <td>0.768886</td>\n",
       "      <td>0.006274</td>\n",
       "      <td>0.831091</td>\n",
       "      <td>0.772338</td>\n",
       "      <td>...</td>\n",
       "      <td>41.0</td>\n",
       "      <td>41.0</td>\n",
       "      <td>NaN</td>\n",
       "      <td>0.0</td>\n",
       "      <td>0.0</td>\n",
       "      <td>0.0</td>\n",
       "      <td>0.0</td>\n",
       "      <td>0.0</td>\n",
       "      <td>0.0</td>\n",
       "      <td>NaN</td>\n",
       "    </tr>\n",
       "    <tr>\n",
       "      <th>1</th>\n",
       "      <td>SVC</td>\n",
       "      <td>[-]</td>\n",
       "      <td>[KuHar]</td>\n",
       "      <td>KuHar</td>\n",
       "      <td>0.678862</td>\n",
       "      <td>0.000000</td>\n",
       "      <td>0.678892</td>\n",
       "      <td>0.000000</td>\n",
       "      <td>0.792079</td>\n",
       "      <td>0.666667</td>\n",
       "      <td>...</td>\n",
       "      <td>41.0</td>\n",
       "      <td>41.0</td>\n",
       "      <td>NaN</td>\n",
       "      <td>0.0</td>\n",
       "      <td>0.0</td>\n",
       "      <td>0.0</td>\n",
       "      <td>0.0</td>\n",
       "      <td>0.0</td>\n",
       "      <td>0.0</td>\n",
       "      <td>NaN</td>\n",
       "    </tr>\n",
       "    <tr>\n",
       "      <th>2</th>\n",
       "      <td>KNN</td>\n",
       "      <td>[-]</td>\n",
       "      <td>[KuHar]</td>\n",
       "      <td>KuHar</td>\n",
       "      <td>0.747967</td>\n",
       "      <td>0.000000</td>\n",
       "      <td>0.747640</td>\n",
       "      <td>0.000000</td>\n",
       "      <td>0.800000</td>\n",
       "      <td>0.724638</td>\n",
       "      <td>...</td>\n",
       "      <td>41.0</td>\n",
       "      <td>41.0</td>\n",
       "      <td>NaN</td>\n",
       "      <td>0.0</td>\n",
       "      <td>0.0</td>\n",
       "      <td>0.0</td>\n",
       "      <td>0.0</td>\n",
       "      <td>0.0</td>\n",
       "      <td>0.0</td>\n",
       "      <td>NaN</td>\n",
       "    </tr>\n",
       "    <tr>\n",
       "      <th>3</th>\n",
       "      <td>RandomForest</td>\n",
       "      <td>[-]</td>\n",
       "      <td>[KuHar]</td>\n",
       "      <td>MotionSense</td>\n",
       "      <td>0.471795</td>\n",
       "      <td>0.006324</td>\n",
       "      <td>0.465758</td>\n",
       "      <td>0.007534</td>\n",
       "      <td>0.519285</td>\n",
       "      <td>0.656061</td>\n",
       "      <td>...</td>\n",
       "      <td>156.0</td>\n",
       "      <td>156.0</td>\n",
       "      <td>NaN</td>\n",
       "      <td>0.0</td>\n",
       "      <td>0.0</td>\n",
       "      <td>0.0</td>\n",
       "      <td>0.0</td>\n",
       "      <td>0.0</td>\n",
       "      <td>0.0</td>\n",
       "      <td>NaN</td>\n",
       "    </tr>\n",
       "    <tr>\n",
       "      <th>4</th>\n",
       "      <td>SVC</td>\n",
       "      <td>[-]</td>\n",
       "      <td>[KuHar]</td>\n",
       "      <td>MotionSense</td>\n",
       "      <td>0.392094</td>\n",
       "      <td>0.000000</td>\n",
       "      <td>0.346528</td>\n",
       "      <td>0.000000</td>\n",
       "      <td>0.562738</td>\n",
       "      <td>0.681440</td>\n",
       "      <td>...</td>\n",
       "      <td>156.0</td>\n",
       "      <td>156.0</td>\n",
       "      <td>NaN</td>\n",
       "      <td>0.0</td>\n",
       "      <td>0.0</td>\n",
       "      <td>0.0</td>\n",
       "      <td>0.0</td>\n",
       "      <td>0.0</td>\n",
       "      <td>0.0</td>\n",
       "      <td>NaN</td>\n",
       "    </tr>\n",
       "    <tr>\n",
       "      <th>...</th>\n",
       "      <td>...</td>\n",
       "      <td>...</td>\n",
       "      <td>...</td>\n",
       "      <td>...</td>\n",
       "      <td>...</td>\n",
       "      <td>...</td>\n",
       "      <td>...</td>\n",
       "      <td>...</td>\n",
       "      <td>...</td>\n",
       "      <td>...</td>\n",
       "      <td>...</td>\n",
       "      <td>...</td>\n",
       "      <td>...</td>\n",
       "      <td>...</td>\n",
       "      <td>...</td>\n",
       "      <td>...</td>\n",
       "      <td>...</td>\n",
       "      <td>...</td>\n",
       "      <td>...</td>\n",
       "      <td>...</td>\n",
       "      <td>...</td>\n",
       "    </tr>\n",
       "    <tr>\n",
       "      <th>11515</th>\n",
       "      <td>SVC</td>\n",
       "      <td>[KuHar, MotionSense, ExtraSensory, WISDM, UCI]</td>\n",
       "      <td>[KuHar, MotionSense, ExtraSensory, WISDM, UCI]</td>\n",
       "      <td>WISDM</td>\n",
       "      <td>0.652369</td>\n",
       "      <td>0.000000</td>\n",
       "      <td>0.687058</td>\n",
       "      <td>0.000000</td>\n",
       "      <td>0.681712</td>\n",
       "      <td>0.579323</td>\n",
       "      <td>...</td>\n",
       "      <td>NaN</td>\n",
       "      <td>590.0</td>\n",
       "      <td>531.0</td>\n",
       "      <td>0.0</td>\n",
       "      <td>0.0</td>\n",
       "      <td>0.0</td>\n",
       "      <td>NaN</td>\n",
       "      <td>NaN</td>\n",
       "      <td>0.0</td>\n",
       "      <td>0.0</td>\n",
       "    </tr>\n",
       "    <tr>\n",
       "      <th>11516</th>\n",
       "      <td>KNN</td>\n",
       "      <td>[KuHar, MotionSense, ExtraSensory, WISDM, UCI]</td>\n",
       "      <td>[KuHar, MotionSense, ExtraSensory, WISDM, UCI]</td>\n",
       "      <td>WISDM</td>\n",
       "      <td>0.664822</td>\n",
       "      <td>0.000000</td>\n",
       "      <td>0.701279</td>\n",
       "      <td>0.000000</td>\n",
       "      <td>0.705882</td>\n",
       "      <td>0.659227</td>\n",
       "      <td>...</td>\n",
       "      <td>NaN</td>\n",
       "      <td>590.0</td>\n",
       "      <td>531.0</td>\n",
       "      <td>0.0</td>\n",
       "      <td>0.0</td>\n",
       "      <td>0.0</td>\n",
       "      <td>NaN</td>\n",
       "      <td>NaN</td>\n",
       "      <td>0.0</td>\n",
       "      <td>0.0</td>\n",
       "    </tr>\n",
       "    <tr>\n",
       "      <th>11517</th>\n",
       "      <td>RandomForest</td>\n",
       "      <td>[KuHar, MotionSense, ExtraSensory, WISDM, UCI]</td>\n",
       "      <td>[KuHar, MotionSense, ExtraSensory, WISDM, UCI]</td>\n",
       "      <td>UCI</td>\n",
       "      <td>0.744262</td>\n",
       "      <td>0.006771</td>\n",
       "      <td>0.742966</td>\n",
       "      <td>0.006830</td>\n",
       "      <td>0.644185</td>\n",
       "      <td>0.620960</td>\n",
       "      <td>...</td>\n",
       "      <td>126.0</td>\n",
       "      <td>NaN</td>\n",
       "      <td>NaN</td>\n",
       "      <td>0.0</td>\n",
       "      <td>0.0</td>\n",
       "      <td>0.0</td>\n",
       "      <td>0.0</td>\n",
       "      <td>0.0</td>\n",
       "      <td>NaN</td>\n",
       "      <td>NaN</td>\n",
       "    </tr>\n",
       "    <tr>\n",
       "      <th>11518</th>\n",
       "      <td>SVC</td>\n",
       "      <td>[KuHar, MotionSense, ExtraSensory, WISDM, UCI]</td>\n",
       "      <td>[KuHar, MotionSense, ExtraSensory, WISDM, UCI]</td>\n",
       "      <td>UCI</td>\n",
       "      <td>0.605067</td>\n",
       "      <td>0.000000</td>\n",
       "      <td>0.584226</td>\n",
       "      <td>0.000000</td>\n",
       "      <td>0.569832</td>\n",
       "      <td>0.252427</td>\n",
       "      <td>...</td>\n",
       "      <td>126.0</td>\n",
       "      <td>NaN</td>\n",
       "      <td>NaN</td>\n",
       "      <td>0.0</td>\n",
       "      <td>0.0</td>\n",
       "      <td>0.0</td>\n",
       "      <td>0.0</td>\n",
       "      <td>0.0</td>\n",
       "      <td>NaN</td>\n",
       "      <td>NaN</td>\n",
       "    </tr>\n",
       "    <tr>\n",
       "      <th>11519</th>\n",
       "      <td>KNN</td>\n",
       "      <td>[KuHar, MotionSense, ExtraSensory, WISDM, UCI]</td>\n",
       "      <td>[KuHar, MotionSense, ExtraSensory, WISDM, UCI]</td>\n",
       "      <td>UCI</td>\n",
       "      <td>0.692996</td>\n",
       "      <td>0.000000</td>\n",
       "      <td>0.694864</td>\n",
       "      <td>0.000000</td>\n",
       "      <td>0.547945</td>\n",
       "      <td>0.514706</td>\n",
       "      <td>...</td>\n",
       "      <td>126.0</td>\n",
       "      <td>NaN</td>\n",
       "      <td>NaN</td>\n",
       "      <td>0.0</td>\n",
       "      <td>0.0</td>\n",
       "      <td>0.0</td>\n",
       "      <td>0.0</td>\n",
       "      <td>0.0</td>\n",
       "      <td>NaN</td>\n",
       "      <td>NaN</td>\n",
       "    </tr>\n",
       "  </tbody>\n",
       "</table>\n",
       "<p>11520 rows × 64 columns</p>\n",
       "</div>"
      ],
      "text/plain": [
       "         Classifier                                            Umap  \\\n",
       "0      RandomForest                                             [-]   \n",
       "1               SVC                                             [-]   \n",
       "2               KNN                                             [-]   \n",
       "3      RandomForest                                             [-]   \n",
       "4               SVC                                             [-]   \n",
       "...             ...                                             ...   \n",
       "11515           SVC  [KuHar, MotionSense, ExtraSensory, WISDM, UCI]   \n",
       "11516           KNN  [KuHar, MotionSense, ExtraSensory, WISDM, UCI]   \n",
       "11517  RandomForest  [KuHar, MotionSense, ExtraSensory, WISDM, UCI]   \n",
       "11518           SVC  [KuHar, MotionSense, ExtraSensory, WISDM, UCI]   \n",
       "11519           KNN  [KuHar, MotionSense, ExtraSensory, WISDM, UCI]   \n",
       "\n",
       "                                                Train         Test  \\\n",
       "0                                             [KuHar]        KuHar   \n",
       "1                                             [KuHar]        KuHar   \n",
       "2                                             [KuHar]        KuHar   \n",
       "3                                             [KuHar]  MotionSense   \n",
       "4                                             [KuHar]  MotionSense   \n",
       "...                                               ...          ...   \n",
       "11515  [KuHar, MotionSense, ExtraSensory, WISDM, UCI]        WISDM   \n",
       "11516  [KuHar, MotionSense, ExtraSensory, WISDM, UCI]        WISDM   \n",
       "11517  [KuHar, MotionSense, ExtraSensory, WISDM, UCI]          UCI   \n",
       "11518  [KuHar, MotionSense, ExtraSensory, WISDM, UCI]          UCI   \n",
       "11519  [KuHar, MotionSense, ExtraSensory, WISDM, UCI]          UCI   \n",
       "\n",
       "       accuracy - mean  accuracy - std  f1 score (weighted) - mean  \\\n",
       "0             0.768293        0.006029                    0.768886   \n",
       "1             0.678862        0.000000                    0.678892   \n",
       "2             0.747967        0.000000                    0.747640   \n",
       "3             0.471795        0.006324                    0.465758   \n",
       "4             0.392094        0.000000                    0.346528   \n",
       "...                ...             ...                         ...   \n",
       "11515         0.652369        0.000000                    0.687058   \n",
       "11516         0.664822        0.000000                    0.701279   \n",
       "11517         0.744262        0.006771                    0.742966   \n",
       "11518         0.605067        0.000000                    0.584226   \n",
       "11519         0.692996        0.000000                    0.694864   \n",
       "\n",
       "       f1 score (weighted) - std  f1-score - mean - sit  \\\n",
       "0                       0.006274               0.831091   \n",
       "1                       0.000000               0.792079   \n",
       "2                       0.000000               0.800000   \n",
       "3                       0.007534               0.519285   \n",
       "4                       0.000000               0.562738   \n",
       "...                          ...                    ...   \n",
       "11515                   0.000000               0.681712   \n",
       "11516                   0.000000               0.705882   \n",
       "11517                   0.006830               0.644185   \n",
       "11518                   0.000000               0.569832   \n",
       "11519                   0.000000               0.547945   \n",
       "\n",
       "       f1-score - mean - stand  ...  support - mean - stair down  \\\n",
       "0                     0.772338  ...                         41.0   \n",
       "1                     0.666667  ...                         41.0   \n",
       "2                     0.724638  ...                         41.0   \n",
       "3                     0.656061  ...                        156.0   \n",
       "4                     0.681440  ...                        156.0   \n",
       "...                        ...  ...                          ...   \n",
       "11515                 0.579323  ...                          NaN   \n",
       "11516                 0.659227  ...                          NaN   \n",
       "11517                 0.620960  ...                        126.0   \n",
       "11518                 0.252427  ...                        126.0   \n",
       "11519                 0.514706  ...                        126.0   \n",
       "\n",
       "       support - mean - run  support - mean - stair up and down  \\\n",
       "0                      41.0                                 NaN   \n",
       "1                      41.0                                 NaN   \n",
       "2                      41.0                                 NaN   \n",
       "3                     156.0                                 NaN   \n",
       "4                     156.0                                 NaN   \n",
       "...                     ...                                 ...   \n",
       "11515                 590.0                               531.0   \n",
       "11516                 590.0                               531.0   \n",
       "11517                   NaN                                 NaN   \n",
       "11518                   NaN                                 NaN   \n",
       "11519                   NaN                                 NaN   \n",
       "\n",
       "       support - std - sit  support - std - stand  support - std - walk  \\\n",
       "0                      0.0                    0.0                   0.0   \n",
       "1                      0.0                    0.0                   0.0   \n",
       "2                      0.0                    0.0                   0.0   \n",
       "3                      0.0                    0.0                   0.0   \n",
       "4                      0.0                    0.0                   0.0   \n",
       "...                    ...                    ...                   ...   \n",
       "11515                  0.0                    0.0                   0.0   \n",
       "11516                  0.0                    0.0                   0.0   \n",
       "11517                  0.0                    0.0                   0.0   \n",
       "11518                  0.0                    0.0                   0.0   \n",
       "11519                  0.0                    0.0                   0.0   \n",
       "\n",
       "       support - std - stair up  support - std - stair down  \\\n",
       "0                           0.0                         0.0   \n",
       "1                           0.0                         0.0   \n",
       "2                           0.0                         0.0   \n",
       "3                           0.0                         0.0   \n",
       "4                           0.0                         0.0   \n",
       "...                         ...                         ...   \n",
       "11515                       NaN                         NaN   \n",
       "11516                       NaN                         NaN   \n",
       "11517                       0.0                         0.0   \n",
       "11518                       0.0                         0.0   \n",
       "11519                       0.0                         0.0   \n",
       "\n",
       "       support - std - run  support - std - stair up and down  \n",
       "0                      0.0                                NaN  \n",
       "1                      0.0                                NaN  \n",
       "2                      0.0                                NaN  \n",
       "3                      0.0                                NaN  \n",
       "4                      0.0                                NaN  \n",
       "...                    ...                                ...  \n",
       "11515                  0.0                                0.0  \n",
       "11516                  0.0                                0.0  \n",
       "11517                  NaN                                NaN  \n",
       "11518                  NaN                                NaN  \n",
       "11519                  NaN                                NaN  \n",
       "\n",
       "[11520 rows x 64 columns]"
      ]
     },
     "execution_count": 4,
     "metadata": {},
     "output_type": "execute_result"
    }
   ],
   "source": [
    "with open('df_results.pkl', 'rb') as f:\n",
    "    df = pickle.load(f)\n",
    "df"
   ]
  },
  {
   "cell_type": "code",
   "execution_count": 5,
   "id": "8e9aa9f3-2811-4840-9092-e57ead2f1bbb",
   "metadata": {},
   "outputs": [],
   "source": [
    "# creating an output excel file\n",
    "resultExcelFile = pd.ExcelWriter('ResultCrossValidationExcelFile.xlsx')\n",
    "\n",
    "# converting the csv file to an excel file\n",
    "df.to_excel(resultExcelFile, index=False)\n",
    "\n",
    "# saving the excel file\n",
    "resultExcelFile.save()"
   ]
  },
  {
   "cell_type": "code",
   "execution_count": null,
   "id": "73aa5146-5789-4693-ae08-a19907ed6ace",
   "metadata": {},
   "outputs": [],
   "source": []
  }
 ],
 "metadata": {
  "kernelspec": {
   "display_name": "Python 3 (ipykernel)",
   "language": "python",
   "name": "python3"
  },
  "language_info": {
   "codemirror_mode": {
    "name": "ipython",
    "version": 3
   },
   "file_extension": ".py",
   "mimetype": "text/x-python",
   "name": "python",
   "nbconvert_exporter": "python",
   "pygments_lexer": "ipython3",
   "version": "3.8.10"
  }
 },
 "nbformat": 4,
 "nbformat_minor": 5
}
