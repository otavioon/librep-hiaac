{
 "cells": [
  {
   "cell_type": "markdown",
   "id": "fcc64e80-f814-4eae-b75a-bc7d732d8f39",
   "metadata": {},
   "source": [
    "# Train without normalize\n",
    "# Train with datasets: KuHar and MotionSense\n",
    "# Test with dataset: CHARM\n",
    "\n",
    "1. Apply DFT over dataset windows and universal UMAP\n",
    "2. Train three times with RF, SVM and KNN, and take the average accuracy and f1-score"
   ]
  },
  {
   "cell_type": "markdown",
   "id": "0dd34244-97be-4c14-806d-778d8182eabe",
   "metadata": {},
   "source": [
    "# Crossvalidation experiments with KuHar and MotionSense as base and Charm as target\n",
    "\n",
    "This notebook will perform crossvalidation experiments using the KuHar and MotionSense datasets at 20 Hz as training dataset. It will contain the following steps:\n",
    "\n",
    "1. Quick load train, test and validation CSV subsets from the balanced KuHar and MotionSense datasets at 20 Hz using `PandasDatasetsIO` helper\n",
    "2. Quick load train, test and validation CSV subsets from other relevant datasets using `PandasDatasetsIO` helper\n",
    "3. Subclassing the `Dataset` interface using `PandasMultiModalDataset`\n",
    "4. Apply the fourier transform on Charm\n",
    "5. Apply universal UMAP\n",
    "6. Train SVM, KNN and Random Forest classification models on the KuHar and MotionSense dataset in the frequency domain with dimensionality reduction\n",
    "7. Evaluate SVM, KNN and Random Forest classification models on Charm in the frequency domain with dimensionality reduction\n",
    "\n",
    "The experiments will evaluate the performance of SVM, KNN and RF models trained on a balanced KuHar and MotionSense datasets and tested on Charm in the frequency domain with dimensionality reduction."
   ]
  },
  {
   "cell_type": "code",
   "execution_count": 1,
   "id": "798ee558-bb9f-4b19-b325-0481439c3317",
   "metadata": {},
   "outputs": [],
   "source": [
    "from pathlib import Path  # For defining dataset Paths\n",
    "import sys\n",
    "sys.path.append(\"../../../..\")"
   ]
  },
  {
   "cell_type": "code",
   "execution_count": 2,
   "id": "2405ce97-68e6-4596-8121-89c89c775c32",
   "metadata": {},
   "outputs": [
    {
     "name": "stderr",
     "output_type": "stream",
     "text": [
      "2022-10-03 14:27:45.497891: W tensorflow/stream_executor/platform/default/dso_loader.cc:64] Could not load dynamic library 'libcudart.so.11.0'; dlerror: libcudart.so.11.0: cannot open shared object file: No such file or directory\n",
      "2022-10-03 14:27:45.497965: I tensorflow/stream_executor/cuda/cudart_stub.cc:29] Ignore above cudart dlerror if you do not have a GPU set up on your machine.\n"
     ]
    }
   ],
   "source": [
    "import numpy as np\n",
    "import pandas as pd\n",
    "import matplotlib.pyplot as plt\n",
    "from umap import UMAP\n",
    "#from sklearn.preprocessing import StandardScaler\n",
    "from sklearn.manifold import TSNE\n",
    "\n",
    "# Librep imports\n",
    "from librep.utils.dataset import PandasDatasetsIO          # For quick load train, test and validation CSVs\n",
    "from librep.datasets.har.loaders import ExtraSensoryBalancedResampledView20HZ, UCIHARUnbalancedView, WISDMInterpolatedUnbalancedView, CHARMUnbalancedView, KuHarResampledView20HZ, MotionSenseResampledView20HZ\n",
    "\n",
    "from librep.datasets.multimodal import PandasMultiModalDataset, TransformMultiModalDataset, WindowedTransform\n",
    "from librep.transforms.fft import FFT\n",
    "from librep.utils.workflow import SimpleTrainEvalWorkflow, MultiRunWorkflow\n",
    "from librep.estimators import RandomForestClassifier, SVC, KNeighborsClassifier\n",
    "from librep.metrics.report import ClassificationReport\n",
    "from librep.transforms.resampler import SimpleResampler"
   ]
  },
  {
   "cell_type": "markdown",
   "id": "fd3de491-58ff-4120-8d43-1cff78bffb69",
   "metadata": {
    "tags": []
   },
   "source": [
    "# Datasets to train the manifold"
   ]
  },
  {
   "cell_type": "markdown",
   "id": "b4fa0ec6-0204-459e-a3a7-3ba0294c1a46",
   "metadata": {
    "tags": []
   },
   "source": [
    "## Load ExtraSensory"
   ]
  },
  {
   "cell_type": "code",
   "execution_count": 3,
   "id": "2add566a-32ef-43b6-893f-01d727432559",
   "metadata": {},
   "outputs": [
    {
     "data": {
      "text/html": [
       "<div>\n",
       "<style scoped>\n",
       "    .dataframe tbody tr th:only-of-type {\n",
       "        vertical-align: middle;\n",
       "    }\n",
       "\n",
       "    .dataframe tbody tr th {\n",
       "        vertical-align: top;\n",
       "    }\n",
       "\n",
       "    .dataframe thead th {\n",
       "        text-align: right;\n",
       "    }\n",
       "</style>\n",
       "<table border=\"1\" class=\"dataframe\">\n",
       "  <thead>\n",
       "    <tr style=\"text-align: right;\">\n",
       "      <th></th>\n",
       "      <th>accelerometer-x-0</th>\n",
       "      <th>accelerometer-x-1</th>\n",
       "      <th>accelerometer-x-2</th>\n",
       "      <th>accelerometer-x-3</th>\n",
       "      <th>accelerometer-x-4</th>\n",
       "      <th>accelerometer-x-5</th>\n",
       "      <th>accelerometer-x-6</th>\n",
       "      <th>accelerometer-x-7</th>\n",
       "      <th>accelerometer-x-8</th>\n",
       "      <th>accelerometer-x-9</th>\n",
       "      <th>...</th>\n",
       "      <th>gyroscope-z-50</th>\n",
       "      <th>gyroscope-z-51</th>\n",
       "      <th>gyroscope-z-52</th>\n",
       "      <th>gyroscope-z-53</th>\n",
       "      <th>gyroscope-z-54</th>\n",
       "      <th>gyroscope-z-55</th>\n",
       "      <th>gyroscope-z-56</th>\n",
       "      <th>gyroscope-z-57</th>\n",
       "      <th>gyroscope-z-58</th>\n",
       "      <th>gyroscope-z-59</th>\n",
       "    </tr>\n",
       "  </thead>\n",
       "  <tbody>\n",
       "    <tr>\n",
       "      <th>0</th>\n",
       "      <td>-0.724789</td>\n",
       "      <td>-0.507973</td>\n",
       "      <td>0.107924</td>\n",
       "      <td>-0.052122</td>\n",
       "      <td>-0.308210</td>\n",
       "      <td>-0.327109</td>\n",
       "      <td>-0.144647</td>\n",
       "      <td>-0.061857</td>\n",
       "      <td>-0.075849</td>\n",
       "      <td>-0.108986</td>\n",
       "      <td>...</td>\n",
       "      <td>-0.029486</td>\n",
       "      <td>0.011534</td>\n",
       "      <td>-0.032998</td>\n",
       "      <td>0.016543</td>\n",
       "      <td>-0.041989</td>\n",
       "      <td>0.027790</td>\n",
       "      <td>-0.045943</td>\n",
       "      <td>0.052013</td>\n",
       "      <td>-0.077395</td>\n",
       "      <td>0.111475</td>\n",
       "    </tr>\n",
       "    <tr>\n",
       "      <th>1</th>\n",
       "      <td>-0.013220</td>\n",
       "      <td>-0.019134</td>\n",
       "      <td>-0.002889</td>\n",
       "      <td>-0.008703</td>\n",
       "      <td>0.013098</td>\n",
       "      <td>0.018542</td>\n",
       "      <td>0.009620</td>\n",
       "      <td>0.016564</td>\n",
       "      <td>0.006461</td>\n",
       "      <td>0.004548</td>\n",
       "      <td>...</td>\n",
       "      <td>0.000029</td>\n",
       "      <td>0.004917</td>\n",
       "      <td>-0.018431</td>\n",
       "      <td>0.004122</td>\n",
       "      <td>0.019265</td>\n",
       "      <td>0.014980</td>\n",
       "      <td>0.022228</td>\n",
       "      <td>0.023919</td>\n",
       "      <td>0.028533</td>\n",
       "      <td>0.013692</td>\n",
       "    </tr>\n",
       "    <tr>\n",
       "      <th>2</th>\n",
       "      <td>-0.214355</td>\n",
       "      <td>-0.206973</td>\n",
       "      <td>-0.219664</td>\n",
       "      <td>-0.225939</td>\n",
       "      <td>-0.219012</td>\n",
       "      <td>-0.208570</td>\n",
       "      <td>-0.195748</td>\n",
       "      <td>-0.212864</td>\n",
       "      <td>-0.227196</td>\n",
       "      <td>-0.245031</td>\n",
       "      <td>...</td>\n",
       "      <td>0.002744</td>\n",
       "      <td>0.005068</td>\n",
       "      <td>0.010737</td>\n",
       "      <td>0.009596</td>\n",
       "      <td>0.007746</td>\n",
       "      <td>0.004763</td>\n",
       "      <td>0.013354</td>\n",
       "      <td>0.005289</td>\n",
       "      <td>0.002381</td>\n",
       "      <td>0.008331</td>\n",
       "    </tr>\n",
       "    <tr>\n",
       "      <th>3</th>\n",
       "      <td>0.761069</td>\n",
       "      <td>0.757731</td>\n",
       "      <td>0.752873</td>\n",
       "      <td>0.753823</td>\n",
       "      <td>0.753913</td>\n",
       "      <td>0.756301</td>\n",
       "      <td>0.758194</td>\n",
       "      <td>0.756618</td>\n",
       "      <td>0.756947</td>\n",
       "      <td>0.756485</td>\n",
       "      <td>...</td>\n",
       "      <td>0.001041</td>\n",
       "      <td>-0.000783</td>\n",
       "      <td>-0.002598</td>\n",
       "      <td>0.001302</td>\n",
       "      <td>0.000400</td>\n",
       "      <td>0.000531</td>\n",
       "      <td>-0.002842</td>\n",
       "      <td>0.000469</td>\n",
       "      <td>0.000963</td>\n",
       "      <td>-0.001895</td>\n",
       "    </tr>\n",
       "    <tr>\n",
       "      <th>4</th>\n",
       "      <td>-0.001454</td>\n",
       "      <td>-0.008433</td>\n",
       "      <td>-0.004865</td>\n",
       "      <td>-0.006524</td>\n",
       "      <td>-0.005949</td>\n",
       "      <td>-0.006001</td>\n",
       "      <td>-0.007217</td>\n",
       "      <td>-0.008985</td>\n",
       "      <td>-0.007185</td>\n",
       "      <td>-0.003809</td>\n",
       "      <td>...</td>\n",
       "      <td>-0.001976</td>\n",
       "      <td>-0.000086</td>\n",
       "      <td>-0.000245</td>\n",
       "      <td>0.001119</td>\n",
       "      <td>-0.001033</td>\n",
       "      <td>0.001574</td>\n",
       "      <td>-0.001405</td>\n",
       "      <td>-0.000204</td>\n",
       "      <td>-0.003032</td>\n",
       "      <td>0.002380</td>\n",
       "    </tr>\n",
       "    <tr>\n",
       "      <th>...</th>\n",
       "      <td>...</td>\n",
       "      <td>...</td>\n",
       "      <td>...</td>\n",
       "      <td>...</td>\n",
       "      <td>...</td>\n",
       "      <td>...</td>\n",
       "      <td>...</td>\n",
       "      <td>...</td>\n",
       "      <td>...</td>\n",
       "      <td>...</td>\n",
       "      <td>...</td>\n",
       "      <td>...</td>\n",
       "      <td>...</td>\n",
       "      <td>...</td>\n",
       "      <td>...</td>\n",
       "      <td>...</td>\n",
       "      <td>...</td>\n",
       "      <td>...</td>\n",
       "      <td>...</td>\n",
       "      <td>...</td>\n",
       "      <td>...</td>\n",
       "    </tr>\n",
       "    <tr>\n",
       "      <th>139</th>\n",
       "      <td>1.318814</td>\n",
       "      <td>0.820496</td>\n",
       "      <td>0.829511</td>\n",
       "      <td>1.464799</td>\n",
       "      <td>1.194766</td>\n",
       "      <td>1.340308</td>\n",
       "      <td>0.655106</td>\n",
       "      <td>0.642922</td>\n",
       "      <td>1.672151</td>\n",
       "      <td>1.631894</td>\n",
       "      <td>...</td>\n",
       "      <td>-0.071705</td>\n",
       "      <td>0.560008</td>\n",
       "      <td>0.477855</td>\n",
       "      <td>0.188169</td>\n",
       "      <td>0.514792</td>\n",
       "      <td>-0.305859</td>\n",
       "      <td>-0.512085</td>\n",
       "      <td>-0.384287</td>\n",
       "      <td>-0.300596</td>\n",
       "      <td>-0.197638</td>\n",
       "    </tr>\n",
       "    <tr>\n",
       "      <th>140</th>\n",
       "      <td>-3.755993</td>\n",
       "      <td>-2.862513</td>\n",
       "      <td>-2.130942</td>\n",
       "      <td>1.607675</td>\n",
       "      <td>3.116307</td>\n",
       "      <td>2.871448</td>\n",
       "      <td>1.015326</td>\n",
       "      <td>3.089434</td>\n",
       "      <td>5.513042</td>\n",
       "      <td>4.221506</td>\n",
       "      <td>...</td>\n",
       "      <td>-1.275709</td>\n",
       "      <td>-2.031439</td>\n",
       "      <td>-3.953223</td>\n",
       "      <td>-4.451037</td>\n",
       "      <td>-2.519823</td>\n",
       "      <td>-1.071030</td>\n",
       "      <td>-2.209544</td>\n",
       "      <td>-2.579949</td>\n",
       "      <td>-0.775481</td>\n",
       "      <td>0.184701</td>\n",
       "    </tr>\n",
       "    <tr>\n",
       "      <th>141</th>\n",
       "      <td>-0.046923</td>\n",
       "      <td>-0.052641</td>\n",
       "      <td>-0.047726</td>\n",
       "      <td>-0.048309</td>\n",
       "      <td>-0.047292</td>\n",
       "      <td>-0.043157</td>\n",
       "      <td>-0.039521</td>\n",
       "      <td>-0.041308</td>\n",
       "      <td>-0.040168</td>\n",
       "      <td>-0.044390</td>\n",
       "      <td>...</td>\n",
       "      <td>-0.006601</td>\n",
       "      <td>-0.004064</td>\n",
       "      <td>0.002956</td>\n",
       "      <td>0.005797</td>\n",
       "      <td>0.001869</td>\n",
       "      <td>-0.003331</td>\n",
       "      <td>0.004593</td>\n",
       "      <td>-0.004651</td>\n",
       "      <td>0.003989</td>\n",
       "      <td>-0.001190</td>\n",
       "    </tr>\n",
       "    <tr>\n",
       "      <th>142</th>\n",
       "      <td>-6.725034</td>\n",
       "      <td>-4.565210</td>\n",
       "      <td>-6.688427</td>\n",
       "      <td>-8.245128</td>\n",
       "      <td>-2.401993</td>\n",
       "      <td>6.173494</td>\n",
       "      <td>6.665963</td>\n",
       "      <td>7.925987</td>\n",
       "      <td>2.102236</td>\n",
       "      <td>-0.814744</td>\n",
       "      <td>...</td>\n",
       "      <td>7.413526</td>\n",
       "      <td>2.151802</td>\n",
       "      <td>-1.035741</td>\n",
       "      <td>0.370291</td>\n",
       "      <td>-0.468816</td>\n",
       "      <td>-1.549655</td>\n",
       "      <td>-2.854839</td>\n",
       "      <td>-5.031104</td>\n",
       "      <td>-7.418414</td>\n",
       "      <td>-6.967641</td>\n",
       "    </tr>\n",
       "    <tr>\n",
       "      <th>143</th>\n",
       "      <td>1.673295</td>\n",
       "      <td>0.648118</td>\n",
       "      <td>1.938106</td>\n",
       "      <td>2.269328</td>\n",
       "      <td>2.072472</td>\n",
       "      <td>0.703544</td>\n",
       "      <td>0.751445</td>\n",
       "      <td>0.409002</td>\n",
       "      <td>0.861191</td>\n",
       "      <td>0.816700</td>\n",
       "      <td>...</td>\n",
       "      <td>1.328039</td>\n",
       "      <td>1.013904</td>\n",
       "      <td>0.393804</td>\n",
       "      <td>0.194440</td>\n",
       "      <td>1.273596</td>\n",
       "      <td>0.768974</td>\n",
       "      <td>1.165304</td>\n",
       "      <td>0.638523</td>\n",
       "      <td>0.639406</td>\n",
       "      <td>-1.272607</td>\n",
       "    </tr>\n",
       "  </tbody>\n",
       "</table>\n",
       "<p>144 rows × 360 columns</p>\n",
       "</div>"
      ],
      "text/plain": [
       "     accelerometer-x-0  accelerometer-x-1  accelerometer-x-2  \\\n",
       "0            -0.724789          -0.507973           0.107924   \n",
       "1            -0.013220          -0.019134          -0.002889   \n",
       "2            -0.214355          -0.206973          -0.219664   \n",
       "3             0.761069           0.757731           0.752873   \n",
       "4            -0.001454          -0.008433          -0.004865   \n",
       "..                 ...                ...                ...   \n",
       "139           1.318814           0.820496           0.829511   \n",
       "140          -3.755993          -2.862513          -2.130942   \n",
       "141          -0.046923          -0.052641          -0.047726   \n",
       "142          -6.725034          -4.565210          -6.688427   \n",
       "143           1.673295           0.648118           1.938106   \n",
       "\n",
       "     accelerometer-x-3  accelerometer-x-4  accelerometer-x-5  \\\n",
       "0            -0.052122          -0.308210          -0.327109   \n",
       "1            -0.008703           0.013098           0.018542   \n",
       "2            -0.225939          -0.219012          -0.208570   \n",
       "3             0.753823           0.753913           0.756301   \n",
       "4            -0.006524          -0.005949          -0.006001   \n",
       "..                 ...                ...                ...   \n",
       "139           1.464799           1.194766           1.340308   \n",
       "140           1.607675           3.116307           2.871448   \n",
       "141          -0.048309          -0.047292          -0.043157   \n",
       "142          -8.245128          -2.401993           6.173494   \n",
       "143           2.269328           2.072472           0.703544   \n",
       "\n",
       "     accelerometer-x-6  accelerometer-x-7  accelerometer-x-8  \\\n",
       "0            -0.144647          -0.061857          -0.075849   \n",
       "1             0.009620           0.016564           0.006461   \n",
       "2            -0.195748          -0.212864          -0.227196   \n",
       "3             0.758194           0.756618           0.756947   \n",
       "4            -0.007217          -0.008985          -0.007185   \n",
       "..                 ...                ...                ...   \n",
       "139           0.655106           0.642922           1.672151   \n",
       "140           1.015326           3.089434           5.513042   \n",
       "141          -0.039521          -0.041308          -0.040168   \n",
       "142           6.665963           7.925987           2.102236   \n",
       "143           0.751445           0.409002           0.861191   \n",
       "\n",
       "     accelerometer-x-9  ...  gyroscope-z-50  gyroscope-z-51  gyroscope-z-52  \\\n",
       "0            -0.108986  ...       -0.029486        0.011534       -0.032998   \n",
       "1             0.004548  ...        0.000029        0.004917       -0.018431   \n",
       "2            -0.245031  ...        0.002744        0.005068        0.010737   \n",
       "3             0.756485  ...        0.001041       -0.000783       -0.002598   \n",
       "4            -0.003809  ...       -0.001976       -0.000086       -0.000245   \n",
       "..                 ...  ...             ...             ...             ...   \n",
       "139           1.631894  ...       -0.071705        0.560008        0.477855   \n",
       "140           4.221506  ...       -1.275709       -2.031439       -3.953223   \n",
       "141          -0.044390  ...       -0.006601       -0.004064        0.002956   \n",
       "142          -0.814744  ...        7.413526        2.151802       -1.035741   \n",
       "143           0.816700  ...        1.328039        1.013904        0.393804   \n",
       "\n",
       "     gyroscope-z-53  gyroscope-z-54  gyroscope-z-55  gyroscope-z-56  \\\n",
       "0          0.016543       -0.041989        0.027790       -0.045943   \n",
       "1          0.004122        0.019265        0.014980        0.022228   \n",
       "2          0.009596        0.007746        0.004763        0.013354   \n",
       "3          0.001302        0.000400        0.000531       -0.002842   \n",
       "4          0.001119       -0.001033        0.001574       -0.001405   \n",
       "..              ...             ...             ...             ...   \n",
       "139        0.188169        0.514792       -0.305859       -0.512085   \n",
       "140       -4.451037       -2.519823       -1.071030       -2.209544   \n",
       "141        0.005797        0.001869       -0.003331        0.004593   \n",
       "142        0.370291       -0.468816       -1.549655       -2.854839   \n",
       "143        0.194440        1.273596        0.768974        1.165304   \n",
       "\n",
       "     gyroscope-z-57  gyroscope-z-58  gyroscope-z-59  \n",
       "0          0.052013       -0.077395        0.111475  \n",
       "1          0.023919        0.028533        0.013692  \n",
       "2          0.005289        0.002381        0.008331  \n",
       "3          0.000469        0.000963       -0.001895  \n",
       "4         -0.000204       -0.003032        0.002380  \n",
       "..              ...             ...             ...  \n",
       "139       -0.384287       -0.300596       -0.197638  \n",
       "140       -2.579949       -0.775481        0.184701  \n",
       "141       -0.004651        0.003989       -0.001190  \n",
       "142       -5.031104       -7.418414       -6.967641  \n",
       "143        0.638523        0.639406       -1.272607  \n",
       "\n",
       "[144 rows x 360 columns]"
      ]
     },
     "execution_count": 3,
     "metadata": {},
     "output_type": "execute_result"
    }
   ],
   "source": [
    "# Load ExtraSensory, creating PandasMultiModalDatasets with the correct pre-defined windows\n",
    "loader = ExtraSensoryBalancedResampledView20HZ(\"../../../../data/views/ExtraSensory/balanced_view_resampled_20hz\", download=False)\n",
    "train_val_es, test_es = loader.load(concat_train_validation=True)\n",
    "# X_ es = train_val_es.data.iloc\n",
    "# X_es = train_val_es.data.iloc[:,1:-6]\n",
    "\n",
    "\n",
    "train_val_es.data.iloc[:,1:-6]"
   ]
  },
  {
   "cell_type": "code",
   "execution_count": 4,
   "id": "3bf4c5ef-f8cc-473c-a808-37aa9c48c4c0",
   "metadata": {},
   "outputs": [],
   "source": [
    "# Train set\n",
    "extrasensory_train_X = np.array(train_val_es.data.iloc[:,1:-6])\n",
    "extrasensory_train_Y = np.array(train_val_es.data['activity code'])\n",
    "tam = len(extrasensory_train_Y)\n",
    "extrasensory_train_id_dataset = np.array(['E']*tam)"
   ]
  },
  {
   "cell_type": "code",
   "execution_count": 5,
   "id": "9f8d9e84-f5da-4a9c-acd7-49801233ca70",
   "metadata": {},
   "outputs": [],
   "source": [
    "# Teste set\n",
    "extrasensory_test_X = np.array(test_es.data.iloc[:,1:-6])\n",
    "extrasensory_test_Y = np.array(test_es.data['activity code'])\n",
    "tam = len(extrasensory_test_Y)\n",
    "extrasensory_test_id_dataset = np.array(['E']*tam)"
   ]
  },
  {
   "cell_type": "markdown",
   "id": "55b1ece3-0724-4d2d-b929-c56d1e8673ec",
   "metadata": {
    "tags": []
   },
   "source": [
    "## Load UCI-HAR"
   ]
  },
  {
   "cell_type": "code",
   "execution_count": 6,
   "id": "aed490e0-2b9c-4ab2-9f50-3ebb91ec29eb",
   "metadata": {},
   "outputs": [],
   "source": [
    "# Load UCI-HAR, creating PandasMultiModalDatasets with the correct pre-defined windows\n",
    "loader = UCIHARUnbalancedView(\"../../../../data/views/UCI-HAR/unbalanced_view_train_test-v1\", download=False)\n",
    "train_val_uci, test_uci = loader.load(concat_train_validation=True)\n",
    "\n",
    "train_val_uci.data['activity code'] = train_val_uci.data['activity code'].astype('int')"
   ]
  },
  {
   "cell_type": "code",
   "execution_count": 7,
   "id": "f8ae0678-1734-4e52-8c72-723a76828f6e",
   "metadata": {},
   "outputs": [],
   "source": [
    "# Resampling the dataset to 20 Hz\n",
    "resampler = SimpleResampler(new_sample_size=60)\n",
    "transformer = TransformMultiModalDataset(\n",
    "    transforms=[resampler], new_window_name_prefix=\"resampled.\"\n",
    ")\n",
    "train_val_uci = transformer(train_val_uci)\n",
    "test_uci = transformer(test_uci)\n",
    "\n",
    "# Train set\n",
    "uci_train_X = train_val_uci.X\n",
    "uci_train_Y = train_val_uci.y\n",
    "\n",
    "tam = len(uci_train_Y)\n",
    "uci_train_id_dataset = np.array(['U']*tam)"
   ]
  },
  {
   "cell_type": "code",
   "execution_count": 8,
   "id": "1f75a53f-875c-449a-81b8-80eca1325abb",
   "metadata": {},
   "outputs": [],
   "source": [
    "# Test set\n",
    "\n",
    "uci_test_X = test_uci.X\n",
    "uci_test_Y = test_uci.y\n",
    "\n",
    "tam = len(uci_test_Y)\n",
    "uci_test_id_dataset = np.array(['U']*tam)"
   ]
  },
  {
   "cell_type": "markdown",
   "id": "d794fa0a-3102-497f-88af-76af6668faa1",
   "metadata": {
    "tags": []
   },
   "source": [
    "## Load WISDM"
   ]
  },
  {
   "cell_type": "code",
   "execution_count": 9,
   "id": "41df3535-f000-4a54-a6ba-74d41c395fe7",
   "metadata": {},
   "outputs": [],
   "source": [
    "# Load WISDM and create PandasMultiModalDatasets with the correct pre-defined windows\n",
    "loader = WISDMInterpolatedUnbalancedView(\"../../../../data/views/WISDM/interpolated_unbalanced_view_train_test-v1\", download=False)\n",
    "train_val_wisdm, test_wisdm = loader.load(concat_train_validation=True)\n",
    "\n",
    "#rename \"activity\" with \"activity code\"\n",
    "train_val_wisdm.data.rename(columns = {'activity':'activity code'}, inplace = True)\n",
    "#test.data.rename(columns = {'activity':'activity code'}, inplace = True)\n",
    "\n",
    "train_val_wisdm.data['activity code'] = train_val_wisdm.data['activity code'].astype('int')\n"
   ]
  },
  {
   "cell_type": "code",
   "execution_count": 10,
   "id": "4416facd-93a0-4928-a62e-22dcf7167214",
   "metadata": {},
   "outputs": [],
   "source": [
    "# Train set\n",
    "wisdm_train_X = np.array(train_val_wisdm.data.iloc[:,:-2])\n",
    "wisdm_train_Y = np.array(train_val_wisdm.data['activity code'])\n",
    "\n",
    "tam = len(wisdm_train_Y)\n",
    "wisdm_train_id_dataset = np.array(['W']*tam)"
   ]
  },
  {
   "cell_type": "code",
   "execution_count": 11,
   "id": "eeddbd1a-c89d-4f3f-a8b4-228355ac7bbd",
   "metadata": {},
   "outputs": [],
   "source": [
    "# Test set\n",
    "wisdm_test_X = np.array(test_wisdm.data.iloc[:,:-2])\n",
    "wisdm_test_Y = np.array(test_wisdm.data['activity code'])\n",
    "\n",
    "tam = len(wisdm_test_Y)\n",
    "wisdm_test_id_dataset = np.array(['W']*tam)"
   ]
  },
  {
   "cell_type": "markdown",
   "id": "1d4feb2a-79ad-4b98-8a8d-7b069c918e03",
   "metadata": {
    "tags": []
   },
   "source": [
    "## Concatenate datasets"
   ]
  },
  {
   "cell_type": "code",
   "execution_count": 12,
   "id": "9189ee5a-526b-41f9-b3d3-b7076b26d70a",
   "metadata": {},
   "outputs": [
    {
     "data": {
      "text/plain": [
       "(['accelerometer-x',\n",
       "  'accelerometer-y',\n",
       "  'accelerometer-z',\n",
       "  'gyroscope-x',\n",
       "  'gyroscope-y',\n",
       "  'gyroscope-z'],\n",
       " ['resampled.accel-x',\n",
       "  'resampled.accel-y',\n",
       "  'resampled.accel-z',\n",
       "  'resampled.gyro-x',\n",
       "  'resampled.gyro-y',\n",
       "  'resampled.gyro-z'],\n",
       " ['accel-x', 'accel-y', 'accel-z', 'gyro-x', 'gyro-y', 'gyro-z'])"
      ]
     },
     "execution_count": 12,
     "metadata": {},
     "output_type": "execute_result"
    }
   ],
   "source": [
    "columns = list(train_val_wisdm.data.iloc[:,:-2].columns)\n",
    "train_val_es.window_names, train_val_uci.window_names, train_val_wisdm.window_names"
   ]
  },
  {
   "cell_type": "code",
   "execution_count": 13,
   "id": "8c96a656-8227-4a93-b422-4d5c241395bc",
   "metadata": {},
   "outputs": [
    {
     "data": {
      "text/plain": [
       "((14016, 360), (5645, 360))"
      ]
     },
     "execution_count": 13,
     "metadata": {},
     "output_type": "execute_result"
    }
   ],
   "source": [
    "train_universal_X = np.concatenate([wisdm_train_X, uci_train_X, extrasensory_train_X])\n",
    "test_universal_X = np.concatenate([wisdm_test_X, uci_test_X, extrasensory_test_X])\n",
    "\n",
    "train_universal_X.shape, test_universal_X.shape"
   ]
  },
  {
   "cell_type": "code",
   "execution_count": 14,
   "id": "a4b6fa6d-0c0e-43ef-8f64-8d527b95ae11",
   "metadata": {},
   "outputs": [
    {
     "data": {
      "text/plain": [
       "((14016,), (5645,))"
      ]
     },
     "execution_count": 14,
     "metadata": {},
     "output_type": "execute_result"
    }
   ],
   "source": [
    "train_universal_Y = np.concatenate([wisdm_train_Y, uci_train_Y, extrasensory_train_Y])\n",
    "test_universal_Y = np.concatenate([wisdm_test_Y, uci_test_Y, extrasensory_test_Y])\n",
    "\n",
    "train_universal_Y.shape, test_universal_Y.shape"
   ]
  },
  {
   "cell_type": "code",
   "execution_count": 15,
   "id": "f6d08814-3d39-4f81-a173-c8f7523f220d",
   "metadata": {},
   "outputs": [],
   "source": [
    "train_universal_id_dataset = np.concatenate([wisdm_train_id_dataset, uci_train_id_dataset, extrasensory_train_id_dataset])\n",
    "test_universal_id_dataset = np.concatenate([wisdm_test_id_dataset, uci_test_id_dataset, extrasensory_test_id_dataset])"
   ]
  },
  {
   "cell_type": "code",
   "execution_count": 16,
   "id": "f8577b0c-40b1-4671-9189-a80e18ca1fee",
   "metadata": {},
   "outputs": [],
   "source": [
    "train_universal = pd.DataFrame(train_universal_X, columns=columns)\n",
    "train_universal['Id Dataset'] = train_universal_id_dataset\n",
    "\n",
    "test_universal = pd.DataFrame(test_universal_X, columns=columns)\n",
    "test_universal['Id Dataset'] = test_universal_id_dataset"
   ]
  },
  {
   "cell_type": "code",
   "execution_count": 17,
   "id": "8fe7a1b6-45f8-4a06-81a6-95a848882f7f",
   "metadata": {},
   "outputs": [],
   "source": [
    "# Preaper the train and test universal datasets\n",
    "# Features to select\n",
    "features = [\n",
    "    \"accel-x\",\n",
    "    \"accel-y\",\n",
    "    \"accel-z\",\n",
    "    \"gyro-x\",\n",
    "    \"gyro-y\",\n",
    "    \"gyro-z\"\n",
    "]\n",
    "\n",
    "# Creating the datasets\n",
    "\n",
    "# Train\n",
    "train_universal = PandasMultiModalDataset(\n",
    "    train_universal,\n",
    "    feature_prefixes=features,\n",
    "    label_columns=\"Id Dataset\",\n",
    "    as_array=True\n",
    ")\n",
    "\n",
    "# Test\n",
    "test_universal = PandasMultiModalDataset(\n",
    "    test_universal,\n",
    "    feature_prefixes=features,\n",
    "    label_columns=\"Id Dataset\",\n",
    "    as_array=True\n",
    ")"
   ]
  },
  {
   "cell_type": "markdown",
   "id": "893f48f6-aaa1-4ad6-a821-15a342d456d8",
   "metadata": {
    "tags": []
   },
   "source": [
    "## Train universal UMAP"
   ]
  },
  {
   "cell_type": "code",
   "execution_count": 18,
   "id": "0b7984ee-ba01-4bcf-aec1-9acb67423b59",
   "metadata": {},
   "outputs": [
    {
     "data": {
      "text/html": [
       "<style>#sk-container-id-1 {color: black;background-color: white;}#sk-container-id-1 pre{padding: 0;}#sk-container-id-1 div.sk-toggleable {background-color: white;}#sk-container-id-1 label.sk-toggleable__label {cursor: pointer;display: block;width: 100%;margin-bottom: 0;padding: 0.3em;box-sizing: border-box;text-align: center;}#sk-container-id-1 label.sk-toggleable__label-arrow:before {content: \"▸\";float: left;margin-right: 0.25em;color: #696969;}#sk-container-id-1 label.sk-toggleable__label-arrow:hover:before {color: black;}#sk-container-id-1 div.sk-estimator:hover label.sk-toggleable__label-arrow:before {color: black;}#sk-container-id-1 div.sk-toggleable__content {max-height: 0;max-width: 0;overflow: hidden;text-align: left;background-color: #f0f8ff;}#sk-container-id-1 div.sk-toggleable__content pre {margin: 0.2em;color: black;border-radius: 0.25em;background-color: #f0f8ff;}#sk-container-id-1 input.sk-toggleable__control:checked~div.sk-toggleable__content {max-height: 200px;max-width: 100%;overflow: auto;}#sk-container-id-1 input.sk-toggleable__control:checked~label.sk-toggleable__label-arrow:before {content: \"▾\";}#sk-container-id-1 div.sk-estimator input.sk-toggleable__control:checked~label.sk-toggleable__label {background-color: #d4ebff;}#sk-container-id-1 div.sk-label input.sk-toggleable__control:checked~label.sk-toggleable__label {background-color: #d4ebff;}#sk-container-id-1 input.sk-hidden--visually {border: 0;clip: rect(1px 1px 1px 1px);clip: rect(1px, 1px, 1px, 1px);height: 1px;margin: -1px;overflow: hidden;padding: 0;position: absolute;width: 1px;}#sk-container-id-1 div.sk-estimator {font-family: monospace;background-color: #f0f8ff;border: 1px dotted black;border-radius: 0.25em;box-sizing: border-box;margin-bottom: 0.5em;}#sk-container-id-1 div.sk-estimator:hover {background-color: #d4ebff;}#sk-container-id-1 div.sk-parallel-item::after {content: \"\";width: 100%;border-bottom: 1px solid gray;flex-grow: 1;}#sk-container-id-1 div.sk-label:hover label.sk-toggleable__label {background-color: #d4ebff;}#sk-container-id-1 div.sk-serial::before {content: \"\";position: absolute;border-left: 1px solid gray;box-sizing: border-box;top: 0;bottom: 0;left: 50%;z-index: 0;}#sk-container-id-1 div.sk-serial {display: flex;flex-direction: column;align-items: center;background-color: white;padding-right: 0.2em;padding-left: 0.2em;position: relative;}#sk-container-id-1 div.sk-item {position: relative;z-index: 1;}#sk-container-id-1 div.sk-parallel {display: flex;align-items: stretch;justify-content: center;background-color: white;position: relative;}#sk-container-id-1 div.sk-item::before, #sk-container-id-1 div.sk-parallel-item::before {content: \"\";position: absolute;border-left: 1px solid gray;box-sizing: border-box;top: 0;bottom: 0;left: 50%;z-index: -1;}#sk-container-id-1 div.sk-parallel-item {display: flex;flex-direction: column;z-index: 1;position: relative;background-color: white;}#sk-container-id-1 div.sk-parallel-item:first-child::after {align-self: flex-end;width: 50%;}#sk-container-id-1 div.sk-parallel-item:last-child::after {align-self: flex-start;width: 50%;}#sk-container-id-1 div.sk-parallel-item:only-child::after {width: 0;}#sk-container-id-1 div.sk-dashed-wrapped {border: 1px dashed gray;margin: 0 0.4em 0.5em 0.4em;box-sizing: border-box;padding-bottom: 0.4em;background-color: white;}#sk-container-id-1 div.sk-label label {font-family: monospace;font-weight: bold;display: inline-block;line-height: 1.2em;}#sk-container-id-1 div.sk-label-container {text-align: center;}#sk-container-id-1 div.sk-container {/* jupyter's `normalize.less` sets `[hidden] { display: none; }` but bootstrap.min.css set `[hidden] { display: none !important; }` so we also need the `!important` here to be able to override the default hidden behavior on the sphinx rendered scikit-learn.org. See: https://github.com/scikit-learn/scikit-learn/issues/21755 */display: inline-block !important;position: relative;}#sk-container-id-1 div.sk-text-repr-fallback {display: none;}</style><div id=\"sk-container-id-1\" class=\"sk-top-container\"><div class=\"sk-text-repr-fallback\"><pre>UMAP(n_components=10, random_state=42, tqdm_kwds={&#x27;bar_format&#x27;: &#x27;{desc}: {percentage:3.0f}%| {bar} {n_fmt}/{total_fmt} [{elapsed}]&#x27;, &#x27;desc&#x27;: &#x27;Epochs completed&#x27;, &#x27;disable&#x27;: True})</pre><b>In a Jupyter environment, please rerun this cell to show the HTML representation or trust the notebook. <br />On GitHub, the HTML representation is unable to render, please try loading this page with nbviewer.org.</b></div><div class=\"sk-container\" hidden><div class=\"sk-item\"><div class=\"sk-estimator sk-toggleable\"><input class=\"sk-toggleable__control sk-hidden--visually\" id=\"sk-estimator-id-1\" type=\"checkbox\" checked><label for=\"sk-estimator-id-1\" class=\"sk-toggleable__label sk-toggleable__label-arrow\">UMAP</label><div class=\"sk-toggleable__content\"><pre>UMAP(n_components=10, random_state=42, tqdm_kwds={&#x27;bar_format&#x27;: &#x27;{desc}: {percentage:3.0f}%| {bar} {n_fmt}/{total_fmt} [{elapsed}]&#x27;, &#x27;desc&#x27;: &#x27;Epochs completed&#x27;, &#x27;disable&#x27;: True})</pre></div></div></div></div></div>"
      ],
      "text/plain": [
       "UMAP(n_components=10, random_state=42, tqdm_kwds={'bar_format': '{desc}: {percentage:3.0f}%| {bar} {n_fmt}/{total_fmt} [{elapsed}]', 'desc': 'Epochs completed', 'disable': True})"
      ]
     },
     "execution_count": 18,
     "metadata": {},
     "output_type": "execute_result"
    }
   ],
   "source": [
    "fft_transform = FFT()\n",
    "\n",
    "# Compose the transform\n",
    "# First apply the normalizer over whole dataset and then apply FFT over each window\n",
    "transformer = TransformMultiModalDataset(\n",
    "    transforms=[#scaler_transform,\n",
    "                fft_transform], new_window_name_prefix=\"scaled.\"\n",
    ")\n",
    "\n",
    "# Transform it and generate a new dataset!\n",
    "train_universal_fft = transformer(train_universal)\n",
    "test_fft = transformer(test_universal)\n",
    "\n",
    "umap = UMAP(n_components=10, random_state=42)\n",
    "umap.fit(train_universal_fft[:][0])"
   ]
  },
  {
   "cell_type": "markdown",
   "id": "e0cacb30-ae3c-457d-bc3e-2414e2426507",
   "metadata": {
    "tags": []
   },
   "source": [
    "# Datasets to evaluate the manifold"
   ]
  },
  {
   "cell_type": "markdown",
   "id": "37be9f0f-be78-463c-88fe-2fd0a3933e0d",
   "metadata": {
    "tags": []
   },
   "source": [
    "## Load KuHar"
   ]
  },
  {
   "cell_type": "code",
   "execution_count": 19,
   "id": "ec3d4c60-7c00-46f1-bba1-6e80ed58cbff",
   "metadata": {},
   "outputs": [],
   "source": [
    "# Path for KuHar resampled to 20Hz view with the same activities (and labels numbers)\n",
    "# It is assumed that the directory will contain (train.csv, test.csv and validation.csv)\n",
    "#dataset_path = Path(\"../../../../data/views/KuHar/resampled_view_20Hz\")\n",
    "loader = KuHarResampledView20HZ(\"../../../../../data/views/KuHar/balanced_motionsense_equivalent_view\", download=False)\n",
    "train_val_kh, test_kh = loader.load(concat_train_validation=True)"
   ]
  },
  {
   "cell_type": "code",
   "execution_count": 20,
   "id": "d8e3b190-f090-4831-b1a9-cf18bcd51097",
   "metadata": {},
   "outputs": [],
   "source": [
    "# Resampling the dataset to 20 Hz\n",
    "resampler = SimpleResampler(new_sample_size=60)\n",
    "transformer = TransformMultiModalDataset(\n",
    "    transforms=[resampler], new_window_name_prefix=\"resampled.\"\n",
    ")\n",
    "train_val_kh = transformer(train_val_kh)\n",
    "test_kh = transformer(test_kh)"
   ]
  },
  {
   "cell_type": "code",
   "execution_count": 21,
   "id": "6d6388c7-ce1f-4538-8295-78301695d1fd",
   "metadata": {},
   "outputs": [],
   "source": [
    "# Train Set\n",
    "kuhar_train_X = train_val_kh.X\n",
    "kuhar_train_Y = train_val_kh.y\n",
    "tam = len(kuhar_train_Y)\n",
    "kuhar_train_id_dataset = np.array(['K']*tam)"
   ]
  },
  {
   "cell_type": "code",
   "execution_count": 22,
   "id": "0d38eb76-2668-45e5-9aac-ba6d52e6bb17",
   "metadata": {},
   "outputs": [],
   "source": [
    "# Train Set\n",
    "kuhar_test_X = test_kh.X\n",
    "kuhar_test_Y = test_kh.y\n",
    "tam = len(kuhar_test_Y)\n",
    "kuhar_test_id_dataset = np.array(['K']*tam)"
   ]
  },
  {
   "cell_type": "markdown",
   "id": "de434c32-d785-42c2-a869-bffd0dc7e853",
   "metadata": {
    "tags": []
   },
   "source": [
    "## Load MotionSense"
   ]
  },
  {
   "cell_type": "code",
   "execution_count": 23,
   "id": "7ca9908d-509b-497a-a9b2-be30c02f1afa",
   "metadata": {},
   "outputs": [],
   "source": [
    "loader = MotionSenseResampledView20HZ(\"../../../../../data/views/MotionSense/resampled_view_20Hz\", download=False)\n",
    "train_val_motion, test_motion = loader.load(concat_train_validation=True)"
   ]
  },
  {
   "cell_type": "code",
   "execution_count": 24,
   "id": "6ae6904f-289d-4559-91ec-86b18b4ff30d",
   "metadata": {},
   "outputs": [
    {
     "data": {
      "text/html": [
       "<div>\n",
       "<style scoped>\n",
       "    .dataframe tbody tr th:only-of-type {\n",
       "        vertical-align: middle;\n",
       "    }\n",
       "\n",
       "    .dataframe tbody tr th {\n",
       "        vertical-align: top;\n",
       "    }\n",
       "\n",
       "    .dataframe thead th {\n",
       "        text-align: right;\n",
       "    }\n",
       "</style>\n",
       "<table border=\"1\" class=\"dataframe\">\n",
       "  <thead>\n",
       "    <tr style=\"text-align: right;\">\n",
       "      <th></th>\n",
       "      <th>userAcceleration.x-0</th>\n",
       "      <th>userAcceleration.x-1</th>\n",
       "      <th>userAcceleration.x-2</th>\n",
       "      <th>userAcceleration.x-3</th>\n",
       "      <th>userAcceleration.x-4</th>\n",
       "      <th>userAcceleration.x-5</th>\n",
       "      <th>userAcceleration.x-6</th>\n",
       "      <th>userAcceleration.x-7</th>\n",
       "      <th>userAcceleration.x-8</th>\n",
       "      <th>userAcceleration.x-9</th>\n",
       "      <th>...</th>\n",
       "      <th>rotationRate.z-50</th>\n",
       "      <th>rotationRate.z-51</th>\n",
       "      <th>rotationRate.z-52</th>\n",
       "      <th>rotationRate.z-53</th>\n",
       "      <th>rotationRate.z-54</th>\n",
       "      <th>rotationRate.z-55</th>\n",
       "      <th>rotationRate.z-56</th>\n",
       "      <th>rotationRate.z-57</th>\n",
       "      <th>rotationRate.z-58</th>\n",
       "      <th>rotationRate.z-59</th>\n",
       "    </tr>\n",
       "  </thead>\n",
       "  <tbody>\n",
       "    <tr>\n",
       "      <th>0</th>\n",
       "      <td>-0.101581</td>\n",
       "      <td>-0.221355</td>\n",
       "      <td>-0.234016</td>\n",
       "      <td>-0.264552</td>\n",
       "      <td>-0.200991</td>\n",
       "      <td>-0.208962</td>\n",
       "      <td>-0.308408</td>\n",
       "      <td>0.089943</td>\n",
       "      <td>-0.382516</td>\n",
       "      <td>-0.077553</td>\n",
       "      <td>...</td>\n",
       "      <td>0.338630</td>\n",
       "      <td>0.630162</td>\n",
       "      <td>0.010132</td>\n",
       "      <td>-0.357627</td>\n",
       "      <td>-0.270421</td>\n",
       "      <td>-0.099006</td>\n",
       "      <td>-0.171130</td>\n",
       "      <td>0.292608</td>\n",
       "      <td>0.932535</td>\n",
       "      <td>0.782147</td>\n",
       "    </tr>\n",
       "    <tr>\n",
       "      <th>1</th>\n",
       "      <td>-0.082527</td>\n",
       "      <td>0.201136</td>\n",
       "      <td>-0.017408</td>\n",
       "      <td>0.120404</td>\n",
       "      <td>-0.179599</td>\n",
       "      <td>-0.013960</td>\n",
       "      <td>-0.014233</td>\n",
       "      <td>0.253264</td>\n",
       "      <td>0.684288</td>\n",
       "      <td>0.154172</td>\n",
       "      <td>...</td>\n",
       "      <td>-0.188645</td>\n",
       "      <td>0.175246</td>\n",
       "      <td>-0.369358</td>\n",
       "      <td>0.338468</td>\n",
       "      <td>-0.711659</td>\n",
       "      <td>-0.838042</td>\n",
       "      <td>0.241819</td>\n",
       "      <td>0.718420</td>\n",
       "      <td>0.336507</td>\n",
       "      <td>0.936563</td>\n",
       "    </tr>\n",
       "    <tr>\n",
       "      <th>2</th>\n",
       "      <td>0.108323</td>\n",
       "      <td>-0.045941</td>\n",
       "      <td>0.017410</td>\n",
       "      <td>0.010881</td>\n",
       "      <td>0.019035</td>\n",
       "      <td>-0.157225</td>\n",
       "      <td>0.016889</td>\n",
       "      <td>-0.076276</td>\n",
       "      <td>0.149599</td>\n",
       "      <td>0.016328</td>\n",
       "      <td>...</td>\n",
       "      <td>0.105371</td>\n",
       "      <td>0.025860</td>\n",
       "      <td>1.168944</td>\n",
       "      <td>0.831773</td>\n",
       "      <td>-0.490816</td>\n",
       "      <td>0.497304</td>\n",
       "      <td>0.732298</td>\n",
       "      <td>0.667477</td>\n",
       "      <td>-0.025386</td>\n",
       "      <td>-0.037093</td>\n",
       "    </tr>\n",
       "    <tr>\n",
       "      <th>3</th>\n",
       "      <td>-0.370755</td>\n",
       "      <td>-0.495850</td>\n",
       "      <td>0.205895</td>\n",
       "      <td>0.455012</td>\n",
       "      <td>0.113117</td>\n",
       "      <td>-0.327512</td>\n",
       "      <td>0.111760</td>\n",
       "      <td>0.001935</td>\n",
       "      <td>-0.844532</td>\n",
       "      <td>0.440440</td>\n",
       "      <td>...</td>\n",
       "      <td>-2.477212</td>\n",
       "      <td>-1.612381</td>\n",
       "      <td>-0.416034</td>\n",
       "      <td>0.802364</td>\n",
       "      <td>0.116252</td>\n",
       "      <td>0.919908</td>\n",
       "      <td>0.037076</td>\n",
       "      <td>-0.993926</td>\n",
       "      <td>-0.182277</td>\n",
       "      <td>0.317828</td>\n",
       "    </tr>\n",
       "    <tr>\n",
       "      <th>4</th>\n",
       "      <td>-0.005683</td>\n",
       "      <td>0.452370</td>\n",
       "      <td>0.028475</td>\n",
       "      <td>0.402016</td>\n",
       "      <td>0.168378</td>\n",
       "      <td>0.353346</td>\n",
       "      <td>0.182684</td>\n",
       "      <td>0.042545</td>\n",
       "      <td>0.001530</td>\n",
       "      <td>-0.009679</td>\n",
       "      <td>...</td>\n",
       "      <td>-0.533618</td>\n",
       "      <td>-0.931536</td>\n",
       "      <td>-0.890335</td>\n",
       "      <td>-0.515152</td>\n",
       "      <td>-0.552368</td>\n",
       "      <td>-0.060734</td>\n",
       "      <td>0.496173</td>\n",
       "      <td>1.265226</td>\n",
       "      <td>1.502311</td>\n",
       "      <td>0.857408</td>\n",
       "    </tr>\n",
       "    <tr>\n",
       "      <th>...</th>\n",
       "      <td>...</td>\n",
       "      <td>...</td>\n",
       "      <td>...</td>\n",
       "      <td>...</td>\n",
       "      <td>...</td>\n",
       "      <td>...</td>\n",
       "      <td>...</td>\n",
       "      <td>...</td>\n",
       "      <td>...</td>\n",
       "      <td>...</td>\n",
       "      <td>...</td>\n",
       "      <td>...</td>\n",
       "      <td>...</td>\n",
       "      <td>...</td>\n",
       "      <td>...</td>\n",
       "      <td>...</td>\n",
       "      <td>...</td>\n",
       "      <td>...</td>\n",
       "      <td>...</td>\n",
       "      <td>...</td>\n",
       "      <td>...</td>\n",
       "    </tr>\n",
       "    <tr>\n",
       "      <th>4015</th>\n",
       "      <td>-0.007693</td>\n",
       "      <td>0.374393</td>\n",
       "      <td>-0.103716</td>\n",
       "      <td>0.514280</td>\n",
       "      <td>0.141910</td>\n",
       "      <td>0.196481</td>\n",
       "      <td>0.390237</td>\n",
       "      <td>-1.349047</td>\n",
       "      <td>-0.513315</td>\n",
       "      <td>0.040985</td>\n",
       "      <td>...</td>\n",
       "      <td>0.332628</td>\n",
       "      <td>-0.564182</td>\n",
       "      <td>1.271037</td>\n",
       "      <td>2.880865</td>\n",
       "      <td>2.318440</td>\n",
       "      <td>0.053538</td>\n",
       "      <td>-0.589413</td>\n",
       "      <td>-1.091889</td>\n",
       "      <td>1.141263</td>\n",
       "      <td>-0.552978</td>\n",
       "    </tr>\n",
       "    <tr>\n",
       "      <th>4016</th>\n",
       "      <td>-0.785497</td>\n",
       "      <td>-0.465941</td>\n",
       "      <td>1.356811</td>\n",
       "      <td>-0.254648</td>\n",
       "      <td>-1.731042</td>\n",
       "      <td>-0.297563</td>\n",
       "      <td>1.190248</td>\n",
       "      <td>-1.193936</td>\n",
       "      <td>0.560628</td>\n",
       "      <td>0.325113</td>\n",
       "      <td>...</td>\n",
       "      <td>-2.720648</td>\n",
       "      <td>-1.525806</td>\n",
       "      <td>-0.443669</td>\n",
       "      <td>0.836655</td>\n",
       "      <td>1.793170</td>\n",
       "      <td>2.214804</td>\n",
       "      <td>2.611230</td>\n",
       "      <td>1.658511</td>\n",
       "      <td>1.304156</td>\n",
       "      <td>-2.120086</td>\n",
       "    </tr>\n",
       "    <tr>\n",
       "      <th>4017</th>\n",
       "      <td>0.892239</td>\n",
       "      <td>0.629815</td>\n",
       "      <td>0.395018</td>\n",
       "      <td>-0.061029</td>\n",
       "      <td>0.418810</td>\n",
       "      <td>0.094484</td>\n",
       "      <td>0.048136</td>\n",
       "      <td>-1.074050</td>\n",
       "      <td>0.657432</td>\n",
       "      <td>0.022222</td>\n",
       "      <td>...</td>\n",
       "      <td>1.203391</td>\n",
       "      <td>0.940672</td>\n",
       "      <td>1.160005</td>\n",
       "      <td>0.241466</td>\n",
       "      <td>-1.654988</td>\n",
       "      <td>-0.728725</td>\n",
       "      <td>1.016603</td>\n",
       "      <td>-1.277840</td>\n",
       "      <td>-2.122599</td>\n",
       "      <td>-1.689117</td>\n",
       "    </tr>\n",
       "    <tr>\n",
       "      <th>4018</th>\n",
       "      <td>-0.136312</td>\n",
       "      <td>-0.461621</td>\n",
       "      <td>-0.561228</td>\n",
       "      <td>-0.670517</td>\n",
       "      <td>0.174832</td>\n",
       "      <td>-0.068340</td>\n",
       "      <td>-0.384419</td>\n",
       "      <td>-0.207647</td>\n",
       "      <td>0.030618</td>\n",
       "      <td>-0.006123</td>\n",
       "      <td>...</td>\n",
       "      <td>-0.281189</td>\n",
       "      <td>-0.078258</td>\n",
       "      <td>0.658548</td>\n",
       "      <td>1.646081</td>\n",
       "      <td>1.596760</td>\n",
       "      <td>1.686676</td>\n",
       "      <td>1.358415</td>\n",
       "      <td>1.432210</td>\n",
       "      <td>0.481120</td>\n",
       "      <td>-2.242066</td>\n",
       "    </tr>\n",
       "    <tr>\n",
       "      <th>4019</th>\n",
       "      <td>0.756364</td>\n",
       "      <td>0.159591</td>\n",
       "      <td>0.577745</td>\n",
       "      <td>-0.916347</td>\n",
       "      <td>0.010319</td>\n",
       "      <td>0.708373</td>\n",
       "      <td>-0.074046</td>\n",
       "      <td>-0.515924</td>\n",
       "      <td>-0.869029</td>\n",
       "      <td>0.072688</td>\n",
       "      <td>...</td>\n",
       "      <td>0.669265</td>\n",
       "      <td>-0.912824</td>\n",
       "      <td>-1.896063</td>\n",
       "      <td>1.205133</td>\n",
       "      <td>0.028326</td>\n",
       "      <td>-2.537223</td>\n",
       "      <td>-1.535808</td>\n",
       "      <td>-2.316044</td>\n",
       "      <td>-1.944616</td>\n",
       "      <td>0.714153</td>\n",
       "    </tr>\n",
       "  </tbody>\n",
       "</table>\n",
       "<p>4020 rows × 360 columns</p>\n",
       "</div>"
      ],
      "text/plain": [
       "      userAcceleration.x-0  userAcceleration.x-1  userAcceleration.x-2  \\\n",
       "0                -0.101581             -0.221355             -0.234016   \n",
       "1                -0.082527              0.201136             -0.017408   \n",
       "2                 0.108323             -0.045941              0.017410   \n",
       "3                -0.370755             -0.495850              0.205895   \n",
       "4                -0.005683              0.452370              0.028475   \n",
       "...                    ...                   ...                   ...   \n",
       "4015             -0.007693              0.374393             -0.103716   \n",
       "4016             -0.785497             -0.465941              1.356811   \n",
       "4017              0.892239              0.629815              0.395018   \n",
       "4018             -0.136312             -0.461621             -0.561228   \n",
       "4019              0.756364              0.159591              0.577745   \n",
       "\n",
       "      userAcceleration.x-3  userAcceleration.x-4  userAcceleration.x-5  \\\n",
       "0                -0.264552             -0.200991             -0.208962   \n",
       "1                 0.120404             -0.179599             -0.013960   \n",
       "2                 0.010881              0.019035             -0.157225   \n",
       "3                 0.455012              0.113117             -0.327512   \n",
       "4                 0.402016              0.168378              0.353346   \n",
       "...                    ...                   ...                   ...   \n",
       "4015              0.514280              0.141910              0.196481   \n",
       "4016             -0.254648             -1.731042             -0.297563   \n",
       "4017             -0.061029              0.418810              0.094484   \n",
       "4018             -0.670517              0.174832             -0.068340   \n",
       "4019             -0.916347              0.010319              0.708373   \n",
       "\n",
       "      userAcceleration.x-6  userAcceleration.x-7  userAcceleration.x-8  \\\n",
       "0                -0.308408              0.089943             -0.382516   \n",
       "1                -0.014233              0.253264              0.684288   \n",
       "2                 0.016889             -0.076276              0.149599   \n",
       "3                 0.111760              0.001935             -0.844532   \n",
       "4                 0.182684              0.042545              0.001530   \n",
       "...                    ...                   ...                   ...   \n",
       "4015              0.390237             -1.349047             -0.513315   \n",
       "4016              1.190248             -1.193936              0.560628   \n",
       "4017              0.048136             -1.074050              0.657432   \n",
       "4018             -0.384419             -0.207647              0.030618   \n",
       "4019             -0.074046             -0.515924             -0.869029   \n",
       "\n",
       "      userAcceleration.x-9  ...  rotationRate.z-50  rotationRate.z-51  \\\n",
       "0                -0.077553  ...           0.338630           0.630162   \n",
       "1                 0.154172  ...          -0.188645           0.175246   \n",
       "2                 0.016328  ...           0.105371           0.025860   \n",
       "3                 0.440440  ...          -2.477212          -1.612381   \n",
       "4                -0.009679  ...          -0.533618          -0.931536   \n",
       "...                    ...  ...                ...                ...   \n",
       "4015              0.040985  ...           0.332628          -0.564182   \n",
       "4016              0.325113  ...          -2.720648          -1.525806   \n",
       "4017              0.022222  ...           1.203391           0.940672   \n",
       "4018             -0.006123  ...          -0.281189          -0.078258   \n",
       "4019              0.072688  ...           0.669265          -0.912824   \n",
       "\n",
       "      rotationRate.z-52  rotationRate.z-53  rotationRate.z-54  \\\n",
       "0              0.010132          -0.357627          -0.270421   \n",
       "1             -0.369358           0.338468          -0.711659   \n",
       "2              1.168944           0.831773          -0.490816   \n",
       "3             -0.416034           0.802364           0.116252   \n",
       "4             -0.890335          -0.515152          -0.552368   \n",
       "...                 ...                ...                ...   \n",
       "4015           1.271037           2.880865           2.318440   \n",
       "4016          -0.443669           0.836655           1.793170   \n",
       "4017           1.160005           0.241466          -1.654988   \n",
       "4018           0.658548           1.646081           1.596760   \n",
       "4019          -1.896063           1.205133           0.028326   \n",
       "\n",
       "      rotationRate.z-55  rotationRate.z-56  rotationRate.z-57  \\\n",
       "0             -0.099006          -0.171130           0.292608   \n",
       "1             -0.838042           0.241819           0.718420   \n",
       "2              0.497304           0.732298           0.667477   \n",
       "3              0.919908           0.037076          -0.993926   \n",
       "4             -0.060734           0.496173           1.265226   \n",
       "...                 ...                ...                ...   \n",
       "4015           0.053538          -0.589413          -1.091889   \n",
       "4016           2.214804           2.611230           1.658511   \n",
       "4017          -0.728725           1.016603          -1.277840   \n",
       "4018           1.686676           1.358415           1.432210   \n",
       "4019          -2.537223          -1.535808          -2.316044   \n",
       "\n",
       "      rotationRate.z-58  rotationRate.z-59  \n",
       "0              0.932535           0.782147  \n",
       "1              0.336507           0.936563  \n",
       "2             -0.025386          -0.037093  \n",
       "3             -0.182277           0.317828  \n",
       "4              1.502311           0.857408  \n",
       "...                 ...                ...  \n",
       "4015           1.141263          -0.552978  \n",
       "4016           1.304156          -2.120086  \n",
       "4017          -2.122599          -1.689117  \n",
       "4018           0.481120          -2.242066  \n",
       "4019          -1.944616           0.714153  \n",
       "\n",
       "[4020 rows x 360 columns]"
      ]
     },
     "execution_count": 24,
     "metadata": {},
     "output_type": "execute_result"
    }
   ],
   "source": [
    "train_val_motion.data.iloc[:,1:-6]"
   ]
  },
  {
   "cell_type": "code",
   "execution_count": 25,
   "id": "2b501d31-4078-47ba-9441-0938e11671f1",
   "metadata": {},
   "outputs": [],
   "source": [
    "# Train set\n",
    "motion_train_X = np.array(train_val_motion.data.iloc[:,1:-6])\n",
    "motion_train_Y = np.array(train_val_motion.data['normalized activity code'])\n",
    "tam = len(motion_train_Y)\n",
    "motion_train_id_dataset = np.array(['M']*tam)"
   ]
  },
  {
   "cell_type": "code",
   "execution_count": 26,
   "id": "c5dc3041-201a-42f6-ba5b-4e6ba8b9dcdf",
   "metadata": {},
   "outputs": [],
   "source": [
    "# Test set\n",
    "motion_test_X = np.array(test_motion.data.iloc[:,1:-6])\n",
    "motion_test_Y = np.array(test_motion.data['normalized activity code'])\n",
    "tam = len(motion_test_Y)\n",
    "motion_test_id_dataset = np.array(['M']*tam)"
   ]
  },
  {
   "cell_type": "markdown",
   "id": "8bb0d52c-b853-41c7-9ca4-f24b569290d0",
   "metadata": {
    "tags": []
   },
   "source": [
    "## Load CHARM"
   ]
  },
  {
   "cell_type": "code",
   "execution_count": 27,
   "id": "34cd4c3b-96a3-4bc1-8eeb-2d2631f0edda",
   "metadata": {},
   "outputs": [],
   "source": [
    "# Load CHARM, creating PandasMultiModalDatasets with the correct pre-defined windows\n",
    "loader = CHARMUnbalancedView(\"../../../../data/views/CHARM/unbalanced_view_train_test-v1\", download=False)\n",
    "train_val_charm, test_charm = loader.load(concat_train_validation=True)\n",
    "\n",
    "#rename \"activity\" with \"activity code\"\n",
    "#train_val.data.rename(columns = {'activity':'activity code'}, inplace = True)\n",
    "#test.data.rename(columns = {'activity':'activity code'}, inplace = True)\n",
    "\n",
    "train_val_charm.data['activity code'] = train_val_charm.data['activity code'].astype('int')"
   ]
  },
  {
   "cell_type": "code",
   "execution_count": 28,
   "id": "42543b48-bea9-492d-b488-e5cee158d722",
   "metadata": {},
   "outputs": [],
   "source": [
    "#Selecting only classes of interest\n",
    "train_val_charm.data = train_val_charm.data[train_val_charm.data['activity code'].isin([0, 2, 6, 7, 8, 9])]\n",
    "test_charm.data = test_charm.data[test_charm.data['activity code'].isin([0, 2, 6, 7, 8, 9])]\n",
    "\n",
    "# 0: \"Sitting in a Chair\", \n",
    "# 2: \"Standing\", \n",
    "# 6: \"Walking\", \n",
    "# 7: \"Running\", \n",
    "# 8: \"Walking Upstairs\", \n",
    "# 9: \"Walking Downstairs\""
   ]
  },
  {
   "cell_type": "code",
   "execution_count": 29,
   "id": "3ad84cd4-0a03-4b08-94ca-8727aeb4c053",
   "metadata": {},
   "outputs": [],
   "source": [
    "train_val_charm.data.loc[train_val_charm.data['activity code'] == 0, 'activity code'] = 0\n",
    "train_val_charm.data.loc[train_val_charm.data['activity code'] == 2, 'activity code'] = 1\n",
    "train_val_charm.data.loc[train_val_charm.data['activity code'] == 6, 'activity code'] = 2\n",
    "train_val_charm.data.loc[train_val_charm.data['activity code'] == 7, 'activity code'] = 5\n",
    "train_val_charm.data.loc[train_val_charm.data['activity code'] == 8, 'activity code'] = 3\n",
    "train_val_charm.data.loc[train_val_charm.data['activity code'] == 9, 'activity code'] = 4\n",
    "\n",
    "# 0 - Sit\n",
    "# 1 - Stand\n",
    "# 2 - Walk \n",
    "# 3 - Upstairs \n",
    "# 4 - Downstairs\n",
    "# 5 - Run/Jogging"
   ]
  },
  {
   "cell_type": "code",
   "execution_count": 30,
   "id": "86632399-4197-4b12-9add-75a2191c08e1",
   "metadata": {},
   "outputs": [],
   "source": [
    "test_charm.data.loc[test_charm.data['activity code'] == 0, 'activity code'] = 0\n",
    "test_charm.data.loc[test_charm.data['activity code'] == 2, 'activity code'] = 1\n",
    "test_charm.data.loc[test_charm.data['activity code'] == 6, 'activity code'] = 2\n",
    "test_charm.data.loc[test_charm.data['activity code'] == 7, 'activity code'] = 5\n",
    "test_charm.data.loc[test_charm.data['activity code'] == 8, 'activity code'] = 3\n",
    "test_charm.data.loc[test_charm.data['activity code'] == 9, 'activity code'] = 4\n",
    "\n",
    "# 0 - Sit\n",
    "# 1 - Stand\n",
    "# 2 - Walk \n",
    "# 3 - Upstairs \n",
    "# 4 - Downstairs\n",
    "# 5 - Run/Jogging"
   ]
  },
  {
   "cell_type": "code",
   "execution_count": 31,
   "id": "2e03b938-8aae-4c16-b1c9-6976c391c3c5",
   "metadata": {},
   "outputs": [
    {
     "data": {
      "text/html": [
       "<div>\n",
       "<style scoped>\n",
       "    .dataframe tbody tr th:only-of-type {\n",
       "        vertical-align: middle;\n",
       "    }\n",
       "\n",
       "    .dataframe tbody tr th {\n",
       "        vertical-align: top;\n",
       "    }\n",
       "\n",
       "    .dataframe thead th {\n",
       "        text-align: right;\n",
       "    }\n",
       "</style>\n",
       "<table border=\"1\" class=\"dataframe\">\n",
       "  <thead>\n",
       "    <tr style=\"text-align: right;\">\n",
       "      <th></th>\n",
       "      <th>accel-x-0</th>\n",
       "      <th>accel-x-1</th>\n",
       "      <th>accel-x-2</th>\n",
       "      <th>accel-x-3</th>\n",
       "      <th>accel-x-4</th>\n",
       "      <th>accel-x-5</th>\n",
       "      <th>accel-x-6</th>\n",
       "      <th>accel-x-7</th>\n",
       "      <th>accel-x-8</th>\n",
       "      <th>accel-x-9</th>\n",
       "      <th>...</th>\n",
       "      <th>gyro-z-50</th>\n",
       "      <th>gyro-z-51</th>\n",
       "      <th>gyro-z-52</th>\n",
       "      <th>gyro-z-53</th>\n",
       "      <th>gyro-z-54</th>\n",
       "      <th>gyro-z-55</th>\n",
       "      <th>gyro-z-56</th>\n",
       "      <th>gyro-z-57</th>\n",
       "      <th>gyro-z-58</th>\n",
       "      <th>gyro-z-59</th>\n",
       "    </tr>\n",
       "  </thead>\n",
       "  <tbody>\n",
       "    <tr>\n",
       "      <th>0</th>\n",
       "      <td>1.879448</td>\n",
       "      <td>1.500681</td>\n",
       "      <td>-1.174169</td>\n",
       "      <td>-1.630500</td>\n",
       "      <td>-0.099836</td>\n",
       "      <td>0.597497</td>\n",
       "      <td>-0.103199</td>\n",
       "      <td>-1.061374</td>\n",
       "      <td>-2.035104e-01</td>\n",
       "      <td>0.931233</td>\n",
       "      <td>...</td>\n",
       "      <td>7.464156</td>\n",
       "      <td>7.526118</td>\n",
       "      <td>7.610852</td>\n",
       "      <td>7.690204</td>\n",
       "      <td>7.743561</td>\n",
       "      <td>7.768027</td>\n",
       "      <td>7.763106</td>\n",
       "      <td>7.728302</td>\n",
       "      <td>7.663215</td>\n",
       "      <td>7.571209</td>\n",
       "    </tr>\n",
       "    <tr>\n",
       "      <th>1</th>\n",
       "      <td>0.011971</td>\n",
       "      <td>0.096702</td>\n",
       "      <td>-0.042733</td>\n",
       "      <td>0.079931</td>\n",
       "      <td>0.047884</td>\n",
       "      <td>0.121492</td>\n",
       "      <td>-0.042865</td>\n",
       "      <td>0.067758</td>\n",
       "      <td>8.501802e-07</td>\n",
       "      <td>-0.394896</td>\n",
       "      <td>...</td>\n",
       "      <td>7.537324</td>\n",
       "      <td>7.551921</td>\n",
       "      <td>7.563939</td>\n",
       "      <td>7.569555</td>\n",
       "      <td>7.565093</td>\n",
       "      <td>7.552101</td>\n",
       "      <td>7.538564</td>\n",
       "      <td>7.532864</td>\n",
       "      <td>7.543381</td>\n",
       "      <td>7.576013</td>\n",
       "    </tr>\n",
       "    <tr>\n",
       "      <th>2</th>\n",
       "      <td>0.064720</td>\n",
       "      <td>0.101952</td>\n",
       "      <td>0.106021</td>\n",
       "      <td>0.099464</td>\n",
       "      <td>0.114984</td>\n",
       "      <td>0.089651</td>\n",
       "      <td>0.057067</td>\n",
       "      <td>0.086416</td>\n",
       "      <td>4.653369e-02</td>\n",
       "      <td>0.017879</td>\n",
       "      <td>...</td>\n",
       "      <td>7.596793</td>\n",
       "      <td>7.540030</td>\n",
       "      <td>7.485392</td>\n",
       "      <td>7.458254</td>\n",
       "      <td>7.468905</td>\n",
       "      <td>7.495811</td>\n",
       "      <td>7.513399</td>\n",
       "      <td>7.507430</td>\n",
       "      <td>7.505726</td>\n",
       "      <td>7.522257</td>\n",
       "    </tr>\n",
       "    <tr>\n",
       "      <th>3</th>\n",
       "      <td>0.143652</td>\n",
       "      <td>0.114068</td>\n",
       "      <td>0.104190</td>\n",
       "      <td>0.099443</td>\n",
       "      <td>0.081403</td>\n",
       "      <td>0.118386</td>\n",
       "      <td>0.115311</td>\n",
       "      <td>0.092937</td>\n",
       "      <td>1.987187e-01</td>\n",
       "      <td>0.086573</td>\n",
       "      <td>...</td>\n",
       "      <td>7.478630</td>\n",
       "      <td>7.448785</td>\n",
       "      <td>7.464705</td>\n",
       "      <td>7.503505</td>\n",
       "      <td>7.547525</td>\n",
       "      <td>7.590124</td>\n",
       "      <td>7.626060</td>\n",
       "      <td>7.650090</td>\n",
       "      <td>7.656973</td>\n",
       "      <td>7.641466</td>\n",
       "    </tr>\n",
       "    <tr>\n",
       "      <th>4</th>\n",
       "      <td>0.239420</td>\n",
       "      <td>-0.119342</td>\n",
       "      <td>0.222922</td>\n",
       "      <td>0.227157</td>\n",
       "      <td>0.230869</td>\n",
       "      <td>0.210684</td>\n",
       "      <td>-0.047215</td>\n",
       "      <td>-0.043566</td>\n",
       "      <td>-5.267240e-02</td>\n",
       "      <td>-0.005764</td>\n",
       "      <td>...</td>\n",
       "      <td>7.398662</td>\n",
       "      <td>7.440133</td>\n",
       "      <td>7.402848</td>\n",
       "      <td>7.433113</td>\n",
       "      <td>7.529797</td>\n",
       "      <td>7.656387</td>\n",
       "      <td>7.776371</td>\n",
       "      <td>7.843522</td>\n",
       "      <td>7.777644</td>\n",
       "      <td>7.591982</td>\n",
       "    </tr>\n",
       "    <tr>\n",
       "      <th>...</th>\n",
       "      <td>...</td>\n",
       "      <td>...</td>\n",
       "      <td>...</td>\n",
       "      <td>...</td>\n",
       "      <td>...</td>\n",
       "      <td>...</td>\n",
       "      <td>...</td>\n",
       "      <td>...</td>\n",
       "      <td>...</td>\n",
       "      <td>...</td>\n",
       "      <td>...</td>\n",
       "      <td>...</td>\n",
       "      <td>...</td>\n",
       "      <td>...</td>\n",
       "      <td>...</td>\n",
       "      <td>...</td>\n",
       "      <td>...</td>\n",
       "      <td>...</td>\n",
       "      <td>...</td>\n",
       "      <td>...</td>\n",
       "      <td>...</td>\n",
       "    </tr>\n",
       "    <tr>\n",
       "      <th>742</th>\n",
       "      <td>-0.967297</td>\n",
       "      <td>-0.904365</td>\n",
       "      <td>-0.491548</td>\n",
       "      <td>-0.349609</td>\n",
       "      <td>-0.255211</td>\n",
       "      <td>-0.218702</td>\n",
       "      <td>-0.064379</td>\n",
       "      <td>0.195237</td>\n",
       "      <td>-6.829680e-01</td>\n",
       "      <td>-0.804258</td>\n",
       "      <td>...</td>\n",
       "      <td>9.015866</td>\n",
       "      <td>8.990211</td>\n",
       "      <td>8.965254</td>\n",
       "      <td>8.941047</td>\n",
       "      <td>8.917637</td>\n",
       "      <td>8.895075</td>\n",
       "      <td>8.873409</td>\n",
       "      <td>8.852688</td>\n",
       "      <td>8.832961</td>\n",
       "      <td>8.814279</td>\n",
       "    </tr>\n",
       "    <tr>\n",
       "      <th>743</th>\n",
       "      <td>-0.593638</td>\n",
       "      <td>-0.254300</td>\n",
       "      <td>-0.152600</td>\n",
       "      <td>-0.030320</td>\n",
       "      <td>0.137307</td>\n",
       "      <td>-0.270682</td>\n",
       "      <td>-0.129898</td>\n",
       "      <td>-0.569453</td>\n",
       "      <td>-5.696658e-01</td>\n",
       "      <td>-0.300620</td>\n",
       "      <td>...</td>\n",
       "      <td>9.677094</td>\n",
       "      <td>9.702890</td>\n",
       "      <td>9.727524</td>\n",
       "      <td>9.750908</td>\n",
       "      <td>9.772955</td>\n",
       "      <td>9.793576</td>\n",
       "      <td>9.812683</td>\n",
       "      <td>9.830190</td>\n",
       "      <td>9.846007</td>\n",
       "      <td>9.860048</td>\n",
       "    </tr>\n",
       "    <tr>\n",
       "      <th>744</th>\n",
       "      <td>-0.474044</td>\n",
       "      <td>-0.398683</td>\n",
       "      <td>-0.436124</td>\n",
       "      <td>-0.337572</td>\n",
       "      <td>-0.441708</td>\n",
       "      <td>-0.294742</td>\n",
       "      <td>-0.542583</td>\n",
       "      <td>-0.427829</td>\n",
       "      <td>-7.259730e-03</td>\n",
       "      <td>0.112430</td>\n",
       "      <td>...</td>\n",
       "      <td>8.445660</td>\n",
       "      <td>8.466347</td>\n",
       "      <td>8.490395</td>\n",
       "      <td>8.517407</td>\n",
       "      <td>8.546990</td>\n",
       "      <td>8.578746</td>\n",
       "      <td>8.612282</td>\n",
       "      <td>8.647202</td>\n",
       "      <td>8.683111</td>\n",
       "      <td>8.719614</td>\n",
       "    </tr>\n",
       "    <tr>\n",
       "      <th>745</th>\n",
       "      <td>-1.247899</td>\n",
       "      <td>-0.850150</td>\n",
       "      <td>-1.352727</td>\n",
       "      <td>0.112613</td>\n",
       "      <td>-1.459835</td>\n",
       "      <td>-2.899197</td>\n",
       "      <td>-0.724845</td>\n",
       "      <td>-1.209904</td>\n",
       "      <td>-9.698346e-01</td>\n",
       "      <td>-1.278050</td>\n",
       "      <td>...</td>\n",
       "      <td>9.214954</td>\n",
       "      <td>9.043058</td>\n",
       "      <td>8.915422</td>\n",
       "      <td>8.826874</td>\n",
       "      <td>8.772245</td>\n",
       "      <td>8.746366</td>\n",
       "      <td>8.744065</td>\n",
       "      <td>8.760173</td>\n",
       "      <td>8.789520</td>\n",
       "      <td>8.826937</td>\n",
       "    </tr>\n",
       "    <tr>\n",
       "      <th>746</th>\n",
       "      <td>0.012652</td>\n",
       "      <td>0.224206</td>\n",
       "      <td>0.481053</td>\n",
       "      <td>0.532179</td>\n",
       "      <td>0.694074</td>\n",
       "      <td>0.577492</td>\n",
       "      <td>0.426853</td>\n",
       "      <td>-0.199421</td>\n",
       "      <td>-2.033025e-01</td>\n",
       "      <td>0.284067</td>\n",
       "      <td>...</td>\n",
       "      <td>8.569284</td>\n",
       "      <td>8.546590</td>\n",
       "      <td>8.524449</td>\n",
       "      <td>8.502931</td>\n",
       "      <td>8.482105</td>\n",
       "      <td>8.462040</td>\n",
       "      <td>8.442808</td>\n",
       "      <td>8.424478</td>\n",
       "      <td>8.407118</td>\n",
       "      <td>8.390800</td>\n",
       "    </tr>\n",
       "  </tbody>\n",
       "</table>\n",
       "<p>405 rows × 360 columns</p>\n",
       "</div>"
      ],
      "text/plain": [
       "     accel-x-0  accel-x-1  accel-x-2  accel-x-3  accel-x-4  accel-x-5  \\\n",
       "0     1.879448   1.500681  -1.174169  -1.630500  -0.099836   0.597497   \n",
       "1     0.011971   0.096702  -0.042733   0.079931   0.047884   0.121492   \n",
       "2     0.064720   0.101952   0.106021   0.099464   0.114984   0.089651   \n",
       "3     0.143652   0.114068   0.104190   0.099443   0.081403   0.118386   \n",
       "4     0.239420  -0.119342   0.222922   0.227157   0.230869   0.210684   \n",
       "..         ...        ...        ...        ...        ...        ...   \n",
       "742  -0.967297  -0.904365  -0.491548  -0.349609  -0.255211  -0.218702   \n",
       "743  -0.593638  -0.254300  -0.152600  -0.030320   0.137307  -0.270682   \n",
       "744  -0.474044  -0.398683  -0.436124  -0.337572  -0.441708  -0.294742   \n",
       "745  -1.247899  -0.850150  -1.352727   0.112613  -1.459835  -2.899197   \n",
       "746   0.012652   0.224206   0.481053   0.532179   0.694074   0.577492   \n",
       "\n",
       "     accel-x-6  accel-x-7     accel-x-8  accel-x-9  ...  gyro-z-50  gyro-z-51  \\\n",
       "0    -0.103199  -1.061374 -2.035104e-01   0.931233  ...   7.464156   7.526118   \n",
       "1    -0.042865   0.067758  8.501802e-07  -0.394896  ...   7.537324   7.551921   \n",
       "2     0.057067   0.086416  4.653369e-02   0.017879  ...   7.596793   7.540030   \n",
       "3     0.115311   0.092937  1.987187e-01   0.086573  ...   7.478630   7.448785   \n",
       "4    -0.047215  -0.043566 -5.267240e-02  -0.005764  ...   7.398662   7.440133   \n",
       "..         ...        ...           ...        ...  ...        ...        ...   \n",
       "742  -0.064379   0.195237 -6.829680e-01  -0.804258  ...   9.015866   8.990211   \n",
       "743  -0.129898  -0.569453 -5.696658e-01  -0.300620  ...   9.677094   9.702890   \n",
       "744  -0.542583  -0.427829 -7.259730e-03   0.112430  ...   8.445660   8.466347   \n",
       "745  -0.724845  -1.209904 -9.698346e-01  -1.278050  ...   9.214954   9.043058   \n",
       "746   0.426853  -0.199421 -2.033025e-01   0.284067  ...   8.569284   8.546590   \n",
       "\n",
       "     gyro-z-52  gyro-z-53  gyro-z-54  gyro-z-55  gyro-z-56  gyro-z-57  \\\n",
       "0     7.610852   7.690204   7.743561   7.768027   7.763106   7.728302   \n",
       "1     7.563939   7.569555   7.565093   7.552101   7.538564   7.532864   \n",
       "2     7.485392   7.458254   7.468905   7.495811   7.513399   7.507430   \n",
       "3     7.464705   7.503505   7.547525   7.590124   7.626060   7.650090   \n",
       "4     7.402848   7.433113   7.529797   7.656387   7.776371   7.843522   \n",
       "..         ...        ...        ...        ...        ...        ...   \n",
       "742   8.965254   8.941047   8.917637   8.895075   8.873409   8.852688   \n",
       "743   9.727524   9.750908   9.772955   9.793576   9.812683   9.830190   \n",
       "744   8.490395   8.517407   8.546990   8.578746   8.612282   8.647202   \n",
       "745   8.915422   8.826874   8.772245   8.746366   8.744065   8.760173   \n",
       "746   8.524449   8.502931   8.482105   8.462040   8.442808   8.424478   \n",
       "\n",
       "     gyro-z-58  gyro-z-59  \n",
       "0     7.663215   7.571209  \n",
       "1     7.543381   7.576013  \n",
       "2     7.505726   7.522257  \n",
       "3     7.656973   7.641466  \n",
       "4     7.777644   7.591982  \n",
       "..         ...        ...  \n",
       "742   8.832961   8.814279  \n",
       "743   9.846007   9.860048  \n",
       "744   8.683111   8.719614  \n",
       "745   8.789520   8.826937  \n",
       "746   8.407118   8.390800  \n",
       "\n",
       "[405 rows x 360 columns]"
      ]
     },
     "execution_count": 31,
     "metadata": {},
     "output_type": "execute_result"
    }
   ],
   "source": [
    "test_charm.data.iloc[:,:-2]"
   ]
  },
  {
   "cell_type": "code",
   "execution_count": 32,
   "id": "ef5e8ef9-efa6-4664-87ba-dc80f9ac979f",
   "metadata": {},
   "outputs": [],
   "source": [
    "# Train set\n",
    "charm_train_X = np.array(train_val_charm.data.iloc[:,:-2])\n",
    "charm_train_Y = np.array(train_val_charm.data['activity code'])\n",
    "tam = len(charm_train_Y)\n",
    "charm_train_id_dataset = np.array(['C']*tam)"
   ]
  },
  {
   "cell_type": "code",
   "execution_count": 33,
   "id": "4c3ea640-2ea2-4d49-8141-5c8210101fb0",
   "metadata": {},
   "outputs": [],
   "source": [
    "# Test set\n",
    "charm_test_X = np.array(test_charm.data.iloc[:,:-2])\n",
    "charm_test_Y = np.array(test_charm.data['activity code'])\n",
    "tam = len(charm_test_Y)\n",
    "charm_test_id_dataset = np.array(['C']*tam)"
   ]
  },
  {
   "cell_type": "markdown",
   "id": "516a197b-444c-477f-a7da-319ea501eb9f",
   "metadata": {},
   "source": [
    "## Prepare train and test datas"
   ]
  },
  {
   "cell_type": "code",
   "execution_count": 34,
   "id": "32eeab3e-73f5-4fda-a154-e088a52827f8",
   "metadata": {},
   "outputs": [],
   "source": [
    "# train_X = np.concatenate([charm_train_X, motion_train_X, kuhar_train_X])\n",
    "# train_Y = np.concatenate([charm_train_Y, motion_train_Y, kuhar_train_Y])\n",
    "# train_id_dataset = np.concatenate([charm_train_id_dataset, motion_train_id_dataset, kuhar_train_id_dataset])\n",
    "\n",
    "# test_X = np.concatenate([charm_test_X, motion_test_X, kuhar_test_X])\n",
    "# test_Y = np.concatenate([charm_test_Y, motion_test_Y, kuhar_test_Y])\n",
    "# test_id_dataset = np.concatenate([charm_test_id_dataset, motion_test_id_dataset, kuhar_test_id_dataset])"
   ]
  },
  {
   "cell_type": "code",
   "execution_count": 35,
   "id": "0c853027-16ff-4881-992d-7d3fc7efe6ad",
   "metadata": {},
   "outputs": [],
   "source": [
    "train_X = np.concatenate([motion_train_X, kuhar_train_X])\n",
    "train_Y = np.concatenate([motion_train_Y, kuhar_train_Y])\n",
    "train_id_dataset = np.concatenate([motion_train_id_dataset, kuhar_train_id_dataset])\n",
    "\n",
    "test_X = np.concatenate([charm_test_X])\n",
    "test_Y = np.concatenate([charm_test_Y])\n",
    "test_id_dataset = np.concatenate([charm_test_id_dataset])"
   ]
  },
  {
   "cell_type": "code",
   "execution_count": 36,
   "id": "b0a3d33d-f632-4bee-b4b4-1ed6bfb6c398",
   "metadata": {},
   "outputs": [],
   "source": [
    "# Train set to classifiers\n",
    "train = pd.DataFrame(train_X, columns=columns)\n",
    "train['normalized activity code'] = train_Y\n",
    "train['Id Dataset'] = train_id_dataset\n",
    "\n",
    "# Test set to classifiers\n",
    "test = pd.DataFrame(test_X, columns=columns)\n",
    "test['normalized activity code'] = test_Y\n",
    "test['Id Dataset'] = test_id_dataset"
   ]
  },
  {
   "cell_type": "code",
   "execution_count": 37,
   "id": "dd42cbef-6d6d-4172-9b78-745b6db99e72",
   "metadata": {},
   "outputs": [],
   "source": [
    "# Features to select\n",
    "features = [\n",
    "    \"accel-x\",\n",
    "    \"accel-y\",\n",
    "    \"accel-z\",\n",
    "    \"gyro-x\",\n",
    "    \"gyro-y\",\n",
    "    \"gyro-z\"\n",
    "]\n",
    "\n",
    "# Creating the datasets\n",
    "\n",
    "# Train\n",
    "train = PandasMultiModalDataset(\n",
    "    train,\n",
    "    feature_prefixes=features,\n",
    "    label_columns=\"normalized activity code\",\n",
    "    as_array=True\n",
    ")\n",
    "\n",
    "# Test\n",
    "test = PandasMultiModalDataset(\n",
    "    test,\n",
    "    feature_prefixes=features,\n",
    "    label_columns=\"normalized activity code\",\n",
    "    as_array=True\n",
    ")"
   ]
  },
  {
   "cell_type": "markdown",
   "id": "43bcb350-1f52-441e-a51d-ad6fd21f602a",
   "metadata": {
    "tags": []
   },
   "source": [
    "# Evaluate the manifold"
   ]
  },
  {
   "cell_type": "markdown",
   "id": "8f263834-32d6-4e6a-ad35-6f1f30cdb7b6",
   "metadata": {},
   "source": [
    "Let's create the transforms. In general (by default) transforms are applyied over each window of the dataset, separadetly. We can control how transform will be applyied using Wrapping the transform arround `WindowedTransform`. \n",
    "\n",
    "The `WindowedTransform` receives, as argument to the constructor:\n",
    "\n",
    "- The transform to be wrapped\n",
    "- `fit_on`: can be \"all\" (apply fit over the whole dataset), \"window\" (apply fit over each window) or None (does not do fit).\n",
    "- `transform_on`: can be \"all\" (apply transform over the whole dataset) or \"window\" (apply transform over each window)\n",
    "\n",
    "\n",
    "One transformers will be created:\n",
    "\n",
    "- `fft_transform`: Apply the transforms over windows of the dataset"
   ]
  },
  {
   "cell_type": "code",
   "execution_count": 38,
   "id": "7ac76705-ef00-4097-a992-8aaf58cf38f8",
   "metadata": {},
   "outputs": [],
   "source": [
    "# Create the objects\n",
    "umap_transform = WindowedTransform(\n",
    "   transform=umap, fit_on=None, transform_on=\"all\")\n",
    "\n",
    "fft_transform = FFT()\n",
    "\n",
    "# Compose the transform\n",
    "# First apply the normalizer over whole dataset and then apply FFT over each window\n",
    "transformer = TransformMultiModalDataset(\n",
    "    transforms=[fft_transform, \n",
    "                umap_transform], new_window_name_prefix=\"reduced.\"\n",
    ")"
   ]
  },
  {
   "cell_type": "code",
   "execution_count": 39,
   "id": "c332caf7-dd47-4a02-b430-44f781c7d953",
   "metadata": {},
   "outputs": [],
   "source": [
    "# Transform it and generate a new dataset!\n",
    "train_reduced = transformer(train)\n",
    "test_reduced = transformer(test)"
   ]
  },
  {
   "cell_type": "code",
   "execution_count": 40,
   "id": "0d98324e-d947-4419-9856-0db55322b72c",
   "metadata": {},
   "outputs": [
    {
     "data": {
      "text/plain": [
       "array([[14.944041 ,  4.4442058,  1.2300074, ...,  5.2624087,  7.3093286,\n",
       "         3.3325233],\n",
       "       [14.966556 ,  4.444792 ,  1.4157178, ...,  5.298009 ,  7.281443 ,\n",
       "         3.2526412],\n",
       "       [15.02026  ,  5.589076 ,  0.9863482, ...,  5.335604 ,  6.4551506,\n",
       "         3.2830937],\n",
       "       ...,\n",
       "       [10.40868  ,  5.101887 ,  2.5372744, ...,  4.177062 , 14.038764 ,\n",
       "         7.908273 ],\n",
       "       [ 5.4200435,  5.7970495,  2.1259205, ..., 10.475141 ,  6.7301526,\n",
       "         5.6091065],\n",
       "       [10.235456 ,  5.197738 ,  2.4612513, ...,  4.3687725, 14.011669 ,\n",
       "         8.279638 ]], dtype=float32)"
      ]
     },
     "execution_count": 40,
     "metadata": {},
     "output_type": "execute_result"
    }
   ],
   "source": [
    "# Checking the whole data...\n",
    "train_reduced[:][0]"
   ]
  },
  {
   "cell_type": "markdown",
   "id": "1dd3b086-9c88-406e-a209-bbf20a8a41fa",
   "metadata": {},
   "source": [
    "## Classification\n",
    "\n",
    "Let's take the transformed datasets and train using RandomForest, SVM and KNN 3 times each. Then take the average accuracy and f1-score over the runs"
   ]
  },
  {
   "cell_type": "code",
   "execution_count": 41,
   "id": "99f6a48a-2e43-4c22-ad7d-0d816872e649",
   "metadata": {},
   "outputs": [],
   "source": [
    "# The reporter will be the same\n",
    "\n",
    "reporter = ClassificationReport(\n",
    "    use_accuracy=True,\n",
    "    use_f1_score=True,\n",
    "    use_classification_report=True,\n",
    "    use_confusion_matrix=True,\n",
    "    plot_confusion_matrix=True,\n",
    "    # normalize='true'\n",
    ")"
   ]
  },
  {
   "cell_type": "markdown",
   "id": "229e6d8a-f1a2-4da7-99ae-a3d6eedbd66b",
   "metadata": {},
   "source": [
    "### RandomForest"
   ]
  },
  {
   "cell_type": "code",
   "execution_count": 42,
   "id": "3ea6e5cf-8e16-4ab0-a51a-0285fad98ec3",
   "metadata": {},
   "outputs": [
    {
     "name": "stderr",
     "output_type": "stream",
     "text": [
      "/usr/local/lib/python3.8/dist-packages/sklearn/metrics/_classification.py:1334: UndefinedMetricWarning: Recall and F-score are ill-defined and being set to 0.0 in labels with no true samples. Use `zero_division` parameter to control this behavior.\n",
      "  _warn_prf(average, modifier, msg_start, len(result))\n",
      "/usr/local/lib/python3.8/dist-packages/sklearn/metrics/_classification.py:1334: UndefinedMetricWarning: Recall and F-score are ill-defined and being set to 0.0 in labels with no true samples. Use `zero_division` parameter to control this behavior.\n",
      "  _warn_prf(average, modifier, msg_start, len(result))\n",
      "/usr/local/lib/python3.8/dist-packages/sklearn/metrics/_classification.py:1334: UndefinedMetricWarning: Recall and F-score are ill-defined and being set to 0.0 in labels with no true samples. Use `zero_division` parameter to control this behavior.\n",
      "  _warn_prf(average, modifier, msg_start, len(result))\n"
     ]
    },
    {
     "data": {
      "image/png": "[encoded data removed]",
      "text/plain": [
       "<Figure size 640x480 with 2 Axes>"
      ]
     },
     "metadata": {},
     "output_type": "display_data"
    },
    {
     "name": "stderr",
     "output_type": "stream",
     "text": [
      "/usr/local/lib/python3.8/dist-packages/sklearn/metrics/_classification.py:1334: UndefinedMetricWarning: Recall and F-score are ill-defined and being set to 0.0 in labels with no true samples. Use `zero_division` parameter to control this behavior.\n",
      "  _warn_prf(average, modifier, msg_start, len(result))\n",
      "/usr/local/lib/python3.8/dist-packages/sklearn/metrics/_classification.py:1334: UndefinedMetricWarning: Recall and F-score are ill-defined and being set to 0.0 in labels with no true samples. Use `zero_division` parameter to control this behavior.\n",
      "  _warn_prf(average, modifier, msg_start, len(result))\n",
      "/usr/local/lib/python3.8/dist-packages/sklearn/metrics/_classification.py:1334: UndefinedMetricWarning: Recall and F-score are ill-defined and being set to 0.0 in labels with no true samples. Use `zero_division` parameter to control this behavior.\n",
      "  _warn_prf(average, modifier, msg_start, len(result))\n"
     ]
    },
    {
     "data": {
      "image/png": "[encoded data removed]",
      "text/plain": [
       "<Figure size 640x480 with 2 Axes>"
      ]
     },
     "metadata": {},
     "output_type": "display_data"
    },
    {
     "name": "stderr",
     "output_type": "stream",
     "text": [
      "/usr/local/lib/python3.8/dist-packages/sklearn/metrics/_classification.py:1334: UndefinedMetricWarning: Recall and F-score are ill-defined and being set to 0.0 in labels with no true samples. Use `zero_division` parameter to control this behavior.\n",
      "  _warn_prf(average, modifier, msg_start, len(result))\n",
      "/usr/local/lib/python3.8/dist-packages/sklearn/metrics/_classification.py:1334: UndefinedMetricWarning: Recall and F-score are ill-defined and being set to 0.0 in labels with no true samples. Use `zero_division` parameter to control this behavior.\n",
      "  _warn_prf(average, modifier, msg_start, len(result))\n",
      "/usr/local/lib/python3.8/dist-packages/sklearn/metrics/_classification.py:1334: UndefinedMetricWarning: Recall and F-score are ill-defined and being set to 0.0 in labels with no true samples. Use `zero_division` parameter to control this behavior.\n",
      "  _warn_prf(average, modifier, msg_start, len(result))\n"
     ]
    },
    {
     "data": {
      "image/png": "[encoded data removed]",
      "text/plain": [
       "<Figure size 640x480 with 2 Axes>"
      ]
     },
     "metadata": {},
     "output_type": "display_data"
    },
    {
     "name": "stderr",
     "output_type": "stream",
     "text": [
      "/usr/local/lib/python3.8/dist-packages/sklearn/metrics/_classification.py:1334: UndefinedMetricWarning: Recall and F-score are ill-defined and being set to 0.0 in labels with no true samples. Use `zero_division` parameter to control this behavior.\n",
      "  _warn_prf(average, modifier, msg_start, len(result))\n",
      "/usr/local/lib/python3.8/dist-packages/sklearn/metrics/_classification.py:1334: UndefinedMetricWarning: Recall and F-score are ill-defined and being set to 0.0 in labels with no true samples. Use `zero_division` parameter to control this behavior.\n",
      "  _warn_prf(average, modifier, msg_start, len(result))\n",
      "/usr/local/lib/python3.8/dist-packages/sklearn/metrics/_classification.py:1334: UndefinedMetricWarning: Recall and F-score are ill-defined and being set to 0.0 in labels with no true samples. Use `zero_division` parameter to control this behavior.\n",
      "  _warn_prf(average, modifier, msg_start, len(result))\n"
     ]
    },
    {
     "data": {
      "image/png": "[encoded data removed]",
      "text/plain": [
       "<Figure size 640x480 with 2 Axes>"
      ]
     },
     "metadata": {},
     "output_type": "display_data"
    },
    {
     "name": "stderr",
     "output_type": "stream",
     "text": [
      "/usr/local/lib/python3.8/dist-packages/sklearn/metrics/_classification.py:1334: UndefinedMetricWarning: Recall and F-score are ill-defined and being set to 0.0 in labels with no true samples. Use `zero_division` parameter to control this behavior.\n",
      "  _warn_prf(average, modifier, msg_start, len(result))\n",
      "/usr/local/lib/python3.8/dist-packages/sklearn/metrics/_classification.py:1334: UndefinedMetricWarning: Recall and F-score are ill-defined and being set to 0.0 in labels with no true samples. Use `zero_division` parameter to control this behavior.\n",
      "  _warn_prf(average, modifier, msg_start, len(result))\n",
      "/usr/local/lib/python3.8/dist-packages/sklearn/metrics/_classification.py:1334: UndefinedMetricWarning: Recall and F-score are ill-defined and being set to 0.0 in labels with no true samples. Use `zero_division` parameter to control this behavior.\n",
      "  _warn_prf(average, modifier, msg_start, len(result))\n"
     ]
    },
    {
     "data": {
      "image/png": "[encoded data removed]",
      "text/plain": [
       "<Figure size 640x480 with 2 Axes>"
      ]
     },
     "metadata": {},
     "output_type": "display_data"
    },
    {
     "name": "stderr",
     "output_type": "stream",
     "text": [
      "/usr/local/lib/python3.8/dist-packages/sklearn/metrics/_classification.py:1334: UndefinedMetricWarning: Recall and F-score are ill-defined and being set to 0.0 in labels with no true samples. Use `zero_division` parameter to control this behavior.\n",
      "  _warn_prf(average, modifier, msg_start, len(result))\n",
      "/usr/local/lib/python3.8/dist-packages/sklearn/metrics/_classification.py:1334: UndefinedMetricWarning: Recall and F-score are ill-defined and being set to 0.0 in labels with no true samples. Use `zero_division` parameter to control this behavior.\n",
      "  _warn_prf(average, modifier, msg_start, len(result))\n",
      "/usr/local/lib/python3.8/dist-packages/sklearn/metrics/_classification.py:1334: UndefinedMetricWarning: Recall and F-score are ill-defined and being set to 0.0 in labels with no true samples. Use `zero_division` parameter to control this behavior.\n",
      "  _warn_prf(average, modifier, msg_start, len(result))\n"
     ]
    },
    {
     "data": {
      "image/png": "[encoded data removed]",
      "text/plain": [
       "<Figure size 640x480 with 2 Axes>"
      ]
     },
     "metadata": {},
     "output_type": "display_data"
    },
    {
     "name": "stderr",
     "output_type": "stream",
     "text": [
      "/usr/local/lib/python3.8/dist-packages/sklearn/metrics/_classification.py:1334: UndefinedMetricWarning: Recall and F-score are ill-defined and being set to 0.0 in labels with no true samples. Use `zero_division` parameter to control this behavior.\n",
      "  _warn_prf(average, modifier, msg_start, len(result))\n",
      "/usr/local/lib/python3.8/dist-packages/sklearn/metrics/_classification.py:1334: UndefinedMetricWarning: Recall and F-score are ill-defined and being set to 0.0 in labels with no true samples. Use `zero_division` parameter to control this behavior.\n",
      "  _warn_prf(average, modifier, msg_start, len(result))\n",
      "/usr/local/lib/python3.8/dist-packages/sklearn/metrics/_classification.py:1334: UndefinedMetricWarning: Recall and F-score are ill-defined and being set to 0.0 in labels with no true samples. Use `zero_division` parameter to control this behavior.\n",
      "  _warn_prf(average, modifier, msg_start, len(result))\n"
     ]
    },
    {
     "data": {
      "image/png": "[encoded data removed]",
      "text/plain": [
       "<Figure size 640x480 with 2 Axes>"
      ]
     },
     "metadata": {},
     "output_type": "display_data"
    },
    {
     "name": "stderr",
     "output_type": "stream",
     "text": [
      "/usr/local/lib/python3.8/dist-packages/sklearn/metrics/_classification.py:1334: UndefinedMetricWarning: Recall and F-score are ill-defined and being set to 0.0 in labels with no true samples. Use `zero_division` parameter to control this behavior.\n",
      "  _warn_prf(average, modifier, msg_start, len(result))\n",
      "/usr/local/lib/python3.8/dist-packages/sklearn/metrics/_classification.py:1334: UndefinedMetricWarning: Recall and F-score are ill-defined and being set to 0.0 in labels with no true samples. Use `zero_division` parameter to control this behavior.\n",
      "  _warn_prf(average, modifier, msg_start, len(result))\n",
      "/usr/local/lib/python3.8/dist-packages/sklearn/metrics/_classification.py:1334: UndefinedMetricWarning: Recall and F-score are ill-defined and being set to 0.0 in labels with no true samples. Use `zero_division` parameter to control this behavior.\n",
      "  _warn_prf(average, modifier, msg_start, len(result))\n"
     ]
    },
    {
     "data": {
      "image/png": "[encoded data removed]",
      "text/plain": [
       "<Figure size 640x480 with 2 Axes>"
      ]
     },
     "metadata": {},
     "output_type": "display_data"
    },
    {
     "name": "stderr",
     "output_type": "stream",
     "text": [
      "/usr/local/lib/python3.8/dist-packages/sklearn/metrics/_classification.py:1334: UndefinedMetricWarning: Recall and F-score are ill-defined and being set to 0.0 in labels with no true samples. Use `zero_division` parameter to control this behavior.\n",
      "  _warn_prf(average, modifier, msg_start, len(result))\n",
      "/usr/local/lib/python3.8/dist-packages/sklearn/metrics/_classification.py:1334: UndefinedMetricWarning: Recall and F-score are ill-defined and being set to 0.0 in labels with no true samples. Use `zero_division` parameter to control this behavior.\n",
      "  _warn_prf(average, modifier, msg_start, len(result))\n",
      "/usr/local/lib/python3.8/dist-packages/sklearn/metrics/_classification.py:1334: UndefinedMetricWarning: Recall and F-score are ill-defined and being set to 0.0 in labels with no true samples. Use `zero_division` parameter to control this behavior.\n",
      "  _warn_prf(average, modifier, msg_start, len(result))\n"
     ]
    },
    {
     "data": {
      "image/png": "[encoded data removed]",
      "text/plain": [
       "<Figure size 640x480 with 2 Axes>"
      ]
     },
     "metadata": {},
     "output_type": "display_data"
    },
    {
     "name": "stderr",
     "output_type": "stream",
     "text": [
      "/usr/local/lib/python3.8/dist-packages/sklearn/metrics/_classification.py:1334: UndefinedMetricWarning: Recall and F-score are ill-defined and being set to 0.0 in labels with no true samples. Use `zero_division` parameter to control this behavior.\n",
      "  _warn_prf(average, modifier, msg_start, len(result))\n",
      "/usr/local/lib/python3.8/dist-packages/sklearn/metrics/_classification.py:1334: UndefinedMetricWarning: Recall and F-score are ill-defined and being set to 0.0 in labels with no true samples. Use `zero_division` parameter to control this behavior.\n",
      "  _warn_prf(average, modifier, msg_start, len(result))\n",
      "/usr/local/lib/python3.8/dist-packages/sklearn/metrics/_classification.py:1334: UndefinedMetricWarning: Recall and F-score are ill-defined and being set to 0.0 in labels with no true samples. Use `zero_division` parameter to control this behavior.\n",
      "  _warn_prf(average, modifier, msg_start, len(result))\n"
     ]
    },
    {
     "data": {
      "image/png": "[encoded data removed]",
      "text/plain": [
       "<Figure size 640x480 with 2 Axes>"
      ]
     },
     "metadata": {},
     "output_type": "display_data"
    },
    {
     "name": "stdout",
     "output_type": "stream",
     "text": [
      "Mean accuracy (10 runs): 0.2232. Mean f1-score: 0.3521.Std accuracy (10 runs): 0.0155. Std f1-score: 0.0108\n"
     ]
    }
   ],
   "source": [
    "experiment = SimpleTrainEvalWorkflow(\n",
    "    estimator=RandomForestClassifier,\n",
    "    do_not_instantiate=False,\n",
    "    do_fit=True,\n",
    "    evaluator=reporter,\n",
    ")\n",
    "\n",
    "multi_run_experiment = MultiRunWorkflow(workflow=experiment, num_runs=10, debug=False)\n",
    "results = multi_run_experiment(train_reduced, [test_reduced])\n",
    "\n",
    "mean_acc = np.average(\n",
    "    [res[\"result\"][0][\"accuracy\"] for res in results[\"runs\"]]\n",
    ")\n",
    "\n",
    "std_acc = np.std(\n",
    "    [res[\"result\"][0][\"accuracy\"] for res in results[\"runs\"]]\n",
    ")\n",
    "\n",
    "mean_f1 = np.average(\n",
    "    [res[\"result\"][0][\"f1 score (weighted)\"] for res in results[\"runs\"]]\n",
    ")\n",
    "std_f1 = np.std(\n",
    "    [res[\"result\"][0][\"f1 score (weighted)\"] for res in results[\"runs\"]]\n",
    ")\n",
    "\n",
    "print(f\"Mean accuracy (10 runs): {mean_acc:.4f}. Mean f1-score: {mean_f1:.4f}.Std accuracy (10 runs): {std_acc:.4f}. Std f1-score: {std_f1:.4f}\")"
   ]
  },
  {
   "cell_type": "markdown",
   "id": "23d156af-4b04-4764-88fb-cffb1e3d5ea3",
   "metadata": {},
   "source": [
    "### SVM"
   ]
  },
  {
   "cell_type": "code",
   "execution_count": 43,
   "id": "f242dd6b-68eb-4b12-beb4-82fbbe5c5382",
   "metadata": {},
   "outputs": [
    {
     "name": "stderr",
     "output_type": "stream",
     "text": [
      "/usr/local/lib/python3.8/dist-packages/sklearn/metrics/_classification.py:1334: UndefinedMetricWarning: Recall and F-score are ill-defined and being set to 0.0 in labels with no true samples. Use `zero_division` parameter to control this behavior.\n",
      "  _warn_prf(average, modifier, msg_start, len(result))\n",
      "/usr/local/lib/python3.8/dist-packages/sklearn/metrics/_classification.py:1334: UndefinedMetricWarning: Recall and F-score are ill-defined and being set to 0.0 in labels with no true samples. Use `zero_division` parameter to control this behavior.\n",
      "  _warn_prf(average, modifier, msg_start, len(result))\n",
      "/usr/local/lib/python3.8/dist-packages/sklearn/metrics/_classification.py:1334: UndefinedMetricWarning: Recall and F-score are ill-defined and being set to 0.0 in labels with no true samples. Use `zero_division` parameter to control this behavior.\n",
      "  _warn_prf(average, modifier, msg_start, len(result))\n"
     ]
    },
    {
     "data": {
      "image/png": "[encoded data removed]",
      "text/plain": [
       "<Figure size 640x480 with 2 Axes>"
      ]
     },
     "metadata": {},
     "output_type": "display_data"
    },
    {
     "name": "stdout",
     "output_type": "stream",
     "text": [
      "Mean accuracy (1 runs): 0.2123. Mean f1-score: 0.3442.Std accuracy (1 runs): 0.0000. Std f1-score: 0.0000\n"
     ]
    }
   ],
   "source": [
    "experiment = SimpleTrainEvalWorkflow(\n",
    "    estimator=SVC,\n",
    "    do_not_instantiate=False,\n",
    "    do_fit=True,\n",
    "    evaluator=reporter,\n",
    ")\n",
    "\n",
    "multi_run_experiment = MultiRunWorkflow(workflow=experiment, num_runs=1, debug=False)\n",
    "results = multi_run_experiment(train_reduced, [test_reduced])\n",
    "\n",
    "mean_acc = np.average(\n",
    "    [res[\"result\"][0][\"accuracy\"] for res in results[\"runs\"]]\n",
    ")\n",
    "\n",
    "std_acc = np.std(\n",
    "    [res[\"result\"][0][\"accuracy\"] for res in results[\"runs\"]]\n",
    ")\n",
    "\n",
    "mean_f1 = np.average(\n",
    "    [res[\"result\"][0][\"f1 score (weighted)\"] for res in results[\"runs\"]]\n",
    ")\n",
    "std_f1 = np.std(\n",
    "    [res[\"result\"][0][\"f1 score (weighted)\"] for res in results[\"runs\"]]\n",
    ")\n",
    "\n",
    "print(f\"Mean accuracy (1 runs): {mean_acc:.4f}. Mean f1-score: {mean_f1:.4f}.Std accuracy (1 runs): {std_acc:.4f}. Std f1-score: {std_f1:.4f}\")"
   ]
  },
  {
   "cell_type": "markdown",
   "id": "64964332-8108-4ee2-b424-3d463780e24e",
   "metadata": {
    "tags": []
   },
   "source": [
    "### KNN"
   ]
  },
  {
   "cell_type": "code",
   "execution_count": 44,
   "id": "382deb11-46f4-4067-ad12-bcce80dfbec8",
   "metadata": {},
   "outputs": [
    {
     "name": "stderr",
     "output_type": "stream",
     "text": [
      "/usr/local/lib/python3.8/dist-packages/sklearn/metrics/_classification.py:1334: UndefinedMetricWarning: Recall and F-score are ill-defined and being set to 0.0 in labels with no true samples. Use `zero_division` parameter to control this behavior.\n",
      "  _warn_prf(average, modifier, msg_start, len(result))\n",
      "/usr/local/lib/python3.8/dist-packages/sklearn/metrics/_classification.py:1334: UndefinedMetricWarning: Recall and F-score are ill-defined and being set to 0.0 in labels with no true samples. Use `zero_division` parameter to control this behavior.\n",
      "  _warn_prf(average, modifier, msg_start, len(result))\n",
      "/usr/local/lib/python3.8/dist-packages/sklearn/metrics/_classification.py:1334: UndefinedMetricWarning: Recall and F-score are ill-defined and being set to 0.0 in labels with no true samples. Use `zero_division` parameter to control this behavior.\n",
      "  _warn_prf(average, modifier, msg_start, len(result))\n"
     ]
    },
    {
     "data": {
      "image/png": "[encoded data removed]",
      "text/plain": [
       "<Figure size 640x480 with 2 Axes>"
      ]
     },
     "metadata": {},
     "output_type": "display_data"
    },
    {
     "name": "stdout",
     "output_type": "stream",
     "text": [
      "Mean accuracy (1 runs): 0.2148. Mean f1-score: 0.3458.Std accuracy (1 runs): 0.0000. Std f1-score: 0.0000\n"
     ]
    }
   ],
   "source": [
    "experiment = SimpleTrainEvalWorkflow(\n",
    "    estimator=KNeighborsClassifier,\n",
    "    do_not_instantiate=False,\n",
    "    do_fit=True,\n",
    "    evaluator=reporter,\n",
    ")\n",
    "\n",
    "multi_run_experiment = MultiRunWorkflow(workflow=experiment, num_runs=1, debug=False)\n",
    "results = multi_run_experiment(train_reduced, [test_reduced])\n",
    "\n",
    "mean_acc = np.average(\n",
    "    [res[\"result\"][0][\"accuracy\"] for res in results[\"runs\"]]\n",
    ")\n",
    "\n",
    "std_acc = np.std(\n",
    "    [res[\"result\"][0][\"accuracy\"] for res in results[\"runs\"]]\n",
    ")\n",
    "\n",
    "mean_f1 = np.average(\n",
    "    [res[\"result\"][0][\"f1 score (weighted)\"] for res in results[\"runs\"]]\n",
    ")\n",
    "std_f1 = np.std(\n",
    "    [res[\"result\"][0][\"f1 score (weighted)\"] for res in results[\"runs\"]]\n",
    ")\n",
    "\n",
    "print(f\"Mean accuracy (1 runs): {mean_acc:.4f}. Mean f1-score: {mean_f1:.4f}.Std accuracy (1 runs): {std_acc:.4f}. Std f1-score: {std_f1:.4f}\")"
   ]
  },
  {
   "cell_type": "markdown",
   "id": "4c5d4e09-3446-45eb-8099-7a4130ce1cc8",
   "metadata": {
    "tags": []
   },
   "source": [
    "## Plot UMAP and T-SNE"
   ]
  },
  {
   "cell_type": "code",
   "execution_count": 45,
   "id": "bed1490a-8a3d-41cd-91dd-31ae7a249863",
   "metadata": {},
   "outputs": [],
   "source": [
    "# def plot(df, figsize: tuple = (5, 5), title: str = None, labels: dict = None):\n",
    "#     fig, ax = plt.subplots(figsize=figsize)\n",
    "#     for label, group_df in df.groupby(\"label\"):\n",
    "#         label = labels[label] if labels is not None else label\n",
    "#         ax.scatter(group_df.x, group_df.y, label=label)\n",
    "#     ax.legend()\n",
    "#     plt.title(title)\n",
    "#     plt.show()"
   ]
  },
  {
   "cell_type": "code",
   "execution_count": 46,
   "id": "c48c2bb3-7223-4936-ad88-dda568893363",
   "metadata": {},
   "outputs": [],
   "source": [
    "# labels = {0: \"Sitting in a Chair\", 1: \"Sitting in a Couch\", 2: \"Standing\", 3: \"Lying up\", 4: \"Lying side\", 5: \"Device on surface\",\n",
    "# 6: \"Walking\", 7: \"Running\", 8: \"Walking Upstairs\", 9: \"Walking Downstairs\"}\n",
    "# print(labels)"
   ]
  },
  {
   "cell_type": "code",
   "execution_count": 47,
   "id": "56f0719f-db90-4055-9c36-c39317e2df15",
   "metadata": {},
   "outputs": [],
   "source": [
    "# labels = {'K': 'KuHar', \n",
    "#           'M': 'MotionSense',\n",
    "#           'C': 'CHARM',\n",
    "#           'E': 'ExtraSensory',\n",
    "#           'W': 'WISDM',\n",
    "#           'U': 'UCI',\n",
    "#          }\n",
    "\n",
    "# # KuHAR\tK\n",
    "# # MotionSense\tM\n",
    "# # CHARM\tC\n",
    "# # ExtraSensory\tE\n",
    "# # WISDM\tW\n",
    "# # UCI\tU"
   ]
  },
  {
   "cell_type": "markdown",
   "id": "2a53aff1-d4ad-43a9-b8d7-0de7b19fe328",
   "metadata": {},
   "source": [
    "### UMAP"
   ]
  },
  {
   "cell_type": "code",
   "execution_count": 48,
   "id": "ac4370c0-3ef1-457c-b40a-c1a694d0ff06",
   "metadata": {},
   "outputs": [],
   "source": [
    "# model = UMAP(n_components=2, random_state=42)\n",
    "# result = pd.DataFrame(model.fit_transform(train_universal_fft[:][0]), columns=[\"x\", \"y\"])\n",
    "# result[\"label\"] = train_universal_fft[:][1]\n",
    "# plot(result, title=\"UMAP on ExtraSensory, UCI-HAR, and WISDM FFT data\", labels = labels)"
   ]
  },
  {
   "cell_type": "code",
   "execution_count": 49,
   "id": "dbf7ecf3-157e-49fe-b57c-f32030636c96",
   "metadata": {},
   "outputs": [],
   "source": [
    "# # model = UMAP(n_components=2)\n",
    "# result = pd.DataFrame(model.transform(test_fft[:][0]), columns=[\"x\", \"y\"])\n",
    "# result[\"label\"] = test_fft[:][1]\n",
    "# plot(result, title=\"UMAP projection on KuHar, MotionSense, and CHARM FFT data\", labels = labels)"
   ]
  },
  {
   "cell_type": "markdown",
   "id": "8a037a09-188e-44a8-b9e7-da03d9f7a062",
   "metadata": {},
   "source": [
    "### T-SNE"
   ]
  },
  {
   "cell_type": "code",
   "execution_count": 50,
   "id": "b9b16bbe-e637-4368-a499-bc7d3b48f6e2",
   "metadata": {},
   "outputs": [],
   "source": [
    "# model = TSNE(n_components=2, random_state=42)\n",
    "# result = pd.DataFrame(model.fit_transform(train_universal[:][0]), columns=[\"x\", \"y\"])\n",
    "# result[\"label\"] = train_universal[:][1]\n",
    "# plot(result, title=\"T-SNE on ExtraSensory, UCI-HAR, and WISDM FFT data\", labels=labels)"
   ]
  },
  {
   "cell_type": "code",
   "execution_count": null,
   "id": "4a3fc2d8-c3b2-471c-9d8b-830a51f0309a",
   "metadata": {},
   "outputs": [],
   "source": []
  }
 ],
 "metadata": {
  "kernelspec": {
   "display_name": "Python 3 (ipykernel)",
   "language": "python",
   "name": "python3"
  },
  "language_info": {
   "codemirror_mode": {
    "name": "ipython",
    "version": 3
   },
   "file_extension": ".py",
   "mimetype": "text/x-python",
   "name": "python",
   "nbconvert_exporter": "python",
   "pygments_lexer": "ipython3",
   "version": "3.8.10"
  }
 },
 "nbformat": 4,
 "nbformat_minor": 5
}
