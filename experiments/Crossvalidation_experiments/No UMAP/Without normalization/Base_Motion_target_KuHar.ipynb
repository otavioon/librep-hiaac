{
 "cells": [
  {
   "cell_type": "markdown",
   "id": "0f6d848d-ea67-4050-bd4a-8fefa10d28c2",
   "metadata": {},
   "source": [
    "# Crossvalidation experiments with MotionSense as base and KuHar as target\n",
    "\n",
    "This notebook will perform crossvalidation experiments using the MotionSense dataset at 20 Hz as training dataset. It will contain the following steps:\n",
    "\n",
    "1. Quick load train, test and validation CSV subsets from the balanced MotionSense dataset at 20 Hz using `PandasDatasetsIO` helper\n",
    "2. Quick load train, test and validation CSV subsets from other relevant datasets using `PandasDatasetsIO` helper\n",
    "3. Subclassing the `Dataset` interface using `PandasMultiModalDataset`\n",
    "4. Apply the fourier transform on KuHar\n",
    "5. Train SVM, KNN and Random Forest classification models on the MotionSense dataset in the frequency domain\n",
    "6. Evaluate SVM, KNN and Random Forest classification models on KuHar in the frequency domain\n",
    "\n",
    "The experiments will evaluate the performance of SVM, KNN and RF models trained on a balanced MotionSense dataset and tested on KuHar in the frequency domains."
   ]
  },
  {
   "cell_type": "markdown",
   "id": "b9e9fd58-02a1-488b-8eab-064b7fdae874",
   "metadata": {},
   "source": [
    "## Common imports and definitions"
   ]
  },
  {
   "cell_type": "code",
   "execution_count": 1,
   "id": "97061a46-a9c1-45b8-903c-ef438e615680",
   "metadata": {},
   "outputs": [],
   "source": [
    "from pathlib import Path  # For defining dataset Paths\n",
    "import sys                # For include librep package\n",
    "\n",
    "# This must be done if librep is not installed via pip,\n",
    "# as this directory (examples) is appart from librep package root\n",
    "sys.path.append(\"..\")"
   ]
  },
  {
   "cell_type": "code",
   "execution_count": 2,
   "id": "ec6da551-6b53-4ed0-b382-65b3b9d1181c",
   "metadata": {
    "tags": []
   },
   "outputs": [
    {
     "name": "stderr",
     "output_type": "stream",
     "text": [
      "2022-09-28 01:06:41.251383: W tensorflow/stream_executor/platform/default/dso_loader.cc:64] Could not load dynamic library 'libcudart.so.11.0'; dlerror: libcudart.so.11.0: cannot open shared object file: No such file or directory\n",
      "2022-09-28 01:06:41.251404: I tensorflow/stream_executor/cuda/cudart_stub.cc:29] Ignore above cudart dlerror if you do not have a GPU set up on your machine.\n"
     ]
    }
   ],
   "source": [
    "# Third party imports\n",
    "import pandas as pd\n",
    "import numpy as np\n",
    "import matplotlib.pyplot as plt\n",
    "from umap import UMAP\n",
    "from sklearn.manifold import TSNE\n",
    "\n",
    "\n",
    "# Librep imports\n",
    "from librep.utils.dataset import PandasDatasetsIO          # For quick load train, test and validation CSVs\n",
    "from librep.datasets.multimodal import PandasMultiModalDataset, TransformMultiModalDataset, WindowedTransform\n",
    "from librep.transforms.fft import FFT\n",
    "from librep.utils.workflow import SimpleTrainEvalWorkflow, MultiRunWorkflow\n",
    "from librep.estimators import RandomForestClassifier, SVC, KNeighborsClassifier\n",
    "from librep.metrics.report import ClassificationReport\n",
    "from librep.transforms.resampler import SimpleResampler"
   ]
  },
  {
   "cell_type": "markdown",
   "id": "76dc7e5c-c0b5-4e1c-be82-935aebb822f6",
   "metadata": {},
   "source": [
    "## Loading data from base dataset\n",
    "Change the path here to use in other dataset as base"
   ]
  },
  {
   "cell_type": "code",
   "execution_count": 20,
   "id": "58562d97-10a2-4081-a773-eb34a2da75f4",
   "metadata": {
    "tags": []
   },
   "outputs": [],
   "source": [
    "# Path for KuHar resampled to 30Hz view with the same activities (and labels numbers)\n",
    "# It is assumed that the directory will contain (train.csv, test.csv and validation.csv)\n",
    "dataset_path = Path(\"../data/views/KuHar/resampled_view_20Hz\")"
   ]
  },
  {
   "cell_type": "markdown",
   "id": "25ad8212-0cb3-4080-8345-c771ca6eda24",
   "metadata": {},
   "source": [
    "Once paths is defined, we can load the CSV as pandas dataframes"
   ]
  },
  {
   "cell_type": "code",
   "execution_count": 21,
   "id": "00dc7ad4-7931-4985-be40-f29f3ddf0739",
   "metadata": {
    "tags": []
   },
   "outputs": [],
   "source": [
    "# Kuhar dataframes\n",
    "train_base, validation_base, test_base = PandasDatasetsIO(dataset_path).load()"
   ]
  },
  {
   "cell_type": "markdown",
   "id": "9e88a3de-5f0f-4799-b947-e16fab0fd7e2",
   "metadata": {},
   "source": [
    "Letś take a look in the train dataframes"
   ]
  },
  {
   "cell_type": "code",
   "execution_count": 22,
   "id": "6bf01fc5-59c6-4318-8e24-87b2b6e52b6e",
   "metadata": {
    "tags": []
   },
   "outputs": [
    {
     "data": {
      "text/html": [
       "<div>\n",
       "<style scoped>\n",
       "    .dataframe tbody tr th:only-of-type {\n",
       "        vertical-align: middle;\n",
       "    }\n",
       "\n",
       "    .dataframe tbody tr th {\n",
       "        vertical-align: top;\n",
       "    }\n",
       "\n",
       "    .dataframe thead th {\n",
       "        text-align: right;\n",
       "    }\n",
       "</style>\n",
       "<table border=\"1\" class=\"dataframe\">\n",
       "  <thead>\n",
       "    <tr style=\"text-align: right;\">\n",
       "      <th></th>\n",
       "      <th>Unnamed: 0</th>\n",
       "      <th>accel-x-0</th>\n",
       "      <th>accel-x-1</th>\n",
       "      <th>accel-x-2</th>\n",
       "      <th>accel-x-3</th>\n",
       "      <th>accel-x-4</th>\n",
       "      <th>accel-x-5</th>\n",
       "      <th>accel-x-6</th>\n",
       "      <th>accel-x-7</th>\n",
       "      <th>accel-x-8</th>\n",
       "      <th>...</th>\n",
       "      <th>gyro-z-59</th>\n",
       "      <th>gyro-start-time</th>\n",
       "      <th>accel-end-time</th>\n",
       "      <th>gyro-end-time</th>\n",
       "      <th>activity code</th>\n",
       "      <th>length</th>\n",
       "      <th>serial</th>\n",
       "      <th>index</th>\n",
       "      <th>user</th>\n",
       "      <th>normalized activity code</th>\n",
       "    </tr>\n",
       "  </thead>\n",
       "  <tbody>\n",
       "    <tr>\n",
       "      <th>0</th>\n",
       "      <td>0</td>\n",
       "      <td>0.001911</td>\n",
       "      <td>-0.014536</td>\n",
       "      <td>0.005845</td>\n",
       "      <td>0.003675</td>\n",
       "      <td>-0.014972</td>\n",
       "      <td>0.025607</td>\n",
       "      <td>0.000478</td>\n",
       "      <td>-0.031141</td>\n",
       "      <td>-0.014827</td>\n",
       "      <td>...</td>\n",
       "      <td>0.004456</td>\n",
       "      <td>23.223</td>\n",
       "      <td>26.260</td>\n",
       "      <td>26.249</td>\n",
       "      <td>0</td>\n",
       "      <td>300</td>\n",
       "      <td>1</td>\n",
       "      <td>2100</td>\n",
       "      <td>1051</td>\n",
       "      <td>1</td>\n",
       "    </tr>\n",
       "    <tr>\n",
       "      <th>1</th>\n",
       "      <td>1</td>\n",
       "      <td>0.004114</td>\n",
       "      <td>-0.003186</td>\n",
       "      <td>0.000759</td>\n",
       "      <td>0.012450</td>\n",
       "      <td>-0.032074</td>\n",
       "      <td>0.007270</td>\n",
       "      <td>-0.000470</td>\n",
       "      <td>0.006980</td>\n",
       "      <td>0.021400</td>\n",
       "      <td>...</td>\n",
       "      <td>0.002979</td>\n",
       "      <td>56.292</td>\n",
       "      <td>59.245</td>\n",
       "      <td>59.245</td>\n",
       "      <td>0</td>\n",
       "      <td>300</td>\n",
       "      <td>1</td>\n",
       "      <td>5700</td>\n",
       "      <td>1037</td>\n",
       "      <td>1</td>\n",
       "    </tr>\n",
       "    <tr>\n",
       "      <th>2</th>\n",
       "      <td>2</td>\n",
       "      <td>-0.011282</td>\n",
       "      <td>-0.002432</td>\n",
       "      <td>-0.003199</td>\n",
       "      <td>0.008152</td>\n",
       "      <td>-0.021763</td>\n",
       "      <td>0.000309</td>\n",
       "      <td>-0.004968</td>\n",
       "      <td>-0.009551</td>\n",
       "      <td>0.001497</td>\n",
       "      <td>...</td>\n",
       "      <td>0.003343</td>\n",
       "      <td>27.267</td>\n",
       "      <td>30.290</td>\n",
       "      <td>30.291</td>\n",
       "      <td>0</td>\n",
       "      <td>300</td>\n",
       "      <td>1</td>\n",
       "      <td>2700</td>\n",
       "      <td>1075</td>\n",
       "      <td>1</td>\n",
       "    </tr>\n",
       "    <tr>\n",
       "      <th>3</th>\n",
       "      <td>3</td>\n",
       "      <td>-0.009241</td>\n",
       "      <td>-0.004666</td>\n",
       "      <td>0.021606</td>\n",
       "      <td>-0.007200</td>\n",
       "      <td>0.003091</td>\n",
       "      <td>0.001630</td>\n",
       "      <td>0.005057</td>\n",
       "      <td>-0.008149</td>\n",
       "      <td>0.013167</td>\n",
       "      <td>...</td>\n",
       "      <td>-0.002053</td>\n",
       "      <td>39.420</td>\n",
       "      <td>42.441</td>\n",
       "      <td>42.440</td>\n",
       "      <td>0</td>\n",
       "      <td>300</td>\n",
       "      <td>6</td>\n",
       "      <td>3900</td>\n",
       "      <td>1008</td>\n",
       "      <td>1</td>\n",
       "    </tr>\n",
       "    <tr>\n",
       "      <th>4</th>\n",
       "      <td>4</td>\n",
       "      <td>-0.013083</td>\n",
       "      <td>-0.005612</td>\n",
       "      <td>0.001645</td>\n",
       "      <td>0.006823</td>\n",
       "      <td>-0.004159</td>\n",
       "      <td>0.000415</td>\n",
       "      <td>0.008178</td>\n",
       "      <td>0.002637</td>\n",
       "      <td>-0.000827</td>\n",
       "      <td>...</td>\n",
       "      <td>0.002603</td>\n",
       "      <td>23.703</td>\n",
       "      <td>26.656</td>\n",
       "      <td>26.656</td>\n",
       "      <td>0</td>\n",
       "      <td>300</td>\n",
       "      <td>1</td>\n",
       "      <td>2400</td>\n",
       "      <td>1038</td>\n",
       "      <td>1</td>\n",
       "    </tr>\n",
       "  </tbody>\n",
       "</table>\n",
       "<p>5 rows × 370 columns</p>\n",
       "</div>"
      ],
      "text/plain": [
       "   Unnamed: 0  accel-x-0  accel-x-1  accel-x-2  accel-x-3  accel-x-4  \\\n",
       "0           0   0.001911  -0.014536   0.005845   0.003675  -0.014972   \n",
       "1           1   0.004114  -0.003186   0.000759   0.012450  -0.032074   \n",
       "2           2  -0.011282  -0.002432  -0.003199   0.008152  -0.021763   \n",
       "3           3  -0.009241  -0.004666   0.021606  -0.007200   0.003091   \n",
       "4           4  -0.013083  -0.005612   0.001645   0.006823  -0.004159   \n",
       "\n",
       "   accel-x-5  accel-x-6  accel-x-7  accel-x-8  ...  gyro-z-59  \\\n",
       "0   0.025607   0.000478  -0.031141  -0.014827  ...   0.004456   \n",
       "1   0.007270  -0.000470   0.006980   0.021400  ...   0.002979   \n",
       "2   0.000309  -0.004968  -0.009551   0.001497  ...   0.003343   \n",
       "3   0.001630   0.005057  -0.008149   0.013167  ...  -0.002053   \n",
       "4   0.000415   0.008178   0.002637  -0.000827  ...   0.002603   \n",
       "\n",
       "   gyro-start-time  accel-end-time  gyro-end-time  activity code  length  \\\n",
       "0           23.223          26.260         26.249              0     300   \n",
       "1           56.292          59.245         59.245              0     300   \n",
       "2           27.267          30.290         30.291              0     300   \n",
       "3           39.420          42.441         42.440              0     300   \n",
       "4           23.703          26.656         26.656              0     300   \n",
       "\n",
       "   serial  index  user  normalized activity code  \n",
       "0       1   2100  1051                         1  \n",
       "1       1   5700  1037                         1  \n",
       "2       1   2700  1075                         1  \n",
       "3       6   3900  1008                         1  \n",
       "4       1   2400  1038                         1  \n",
       "\n",
       "[5 rows x 370 columns]"
      ]
     },
     "execution_count": 22,
     "metadata": {},
     "output_type": "execute_result"
    }
   ],
   "source": [
    "train_base.head()"
   ]
  },
  {
   "cell_type": "markdown",
   "id": "5a58623b-b64f-4fba-9622-e906e7ea87a7",
   "metadata": {},
   "source": [
    "## Creating a Librep dataset from pandas dataframes\n",
    "\n",
    "Change the features to use in other datasets"
   ]
  },
  {
   "cell_type": "code",
   "execution_count": 6,
   "id": "b83aae79-f28a-41a7-a82b-87d45375a947",
   "metadata": {
    "tags": []
   },
   "outputs": [],
   "source": [
    "# Kuhar features to select\n",
    "features = [\n",
    "    \"accel-x\",\n",
    "    \"accel-y\",\n",
    "    \"accel-z\",\n",
    "    \"gyro-x\",\n",
    "    \"gyro-y\",\n",
    "    \"gyro-z\"\n",
    "]\n",
    "\n",
    "combined_df = pd.concat([train_base, validation_base, test_base], ignore_index=True)\n",
    "df2 = combined_df.query(\"`activity code` == 0 or `activity code` == 1 or `activity code` == 11 or `activity code` == 14  or `activity code` == 15 or `activity code` == 16\")\n",
    "df2.loc[ df2['activity code'] == 0, 'activity code'] = 3\n",
    "df2.loc[ df2['activity code'] == 1, 'activity code'] = 2\n",
    "df2.loc[ df2['activity code'] == 11, 'activity code'] = 4\n",
    "df2.loc[ df2['activity code'] == 14, 'activity code'] = 5\n",
    "df2.loc[ df2['activity code'] == 15, 'activity code'] = 1\n",
    "df2.loc[ df2['activity code'] == 16, 'activity code'] = 0\n"
   ]
  },
  {
   "cell_type": "code",
   "execution_count": 7,
   "id": "e96bfbde-86e0-4fa7-a629-e62619b42b5c",
   "metadata": {},
   "outputs": [
    {
     "data": {
      "text/html": [
       "<div>\n",
       "<style scoped>\n",
       "    .dataframe tbody tr th:only-of-type {\n",
       "        vertical-align: middle;\n",
       "    }\n",
       "\n",
       "    .dataframe tbody tr th {\n",
       "        vertical-align: top;\n",
       "    }\n",
       "\n",
       "    .dataframe thead th {\n",
       "        text-align: right;\n",
       "    }\n",
       "</style>\n",
       "<table border=\"1\" class=\"dataframe\">\n",
       "  <thead>\n",
       "    <tr style=\"text-align: right;\">\n",
       "      <th></th>\n",
       "      <th>Unnamed: 0</th>\n",
       "      <th>accel-x-0</th>\n",
       "      <th>accel-x-1</th>\n",
       "      <th>accel-x-2</th>\n",
       "      <th>accel-x-3</th>\n",
       "      <th>accel-x-4</th>\n",
       "      <th>accel-x-5</th>\n",
       "      <th>accel-x-6</th>\n",
       "      <th>accel-x-7</th>\n",
       "      <th>accel-x-8</th>\n",
       "      <th>...</th>\n",
       "      <th>gyro-z-59</th>\n",
       "      <th>gyro-start-time</th>\n",
       "      <th>accel-end-time</th>\n",
       "      <th>gyro-end-time</th>\n",
       "      <th>activity code</th>\n",
       "      <th>length</th>\n",
       "      <th>serial</th>\n",
       "      <th>index</th>\n",
       "      <th>user</th>\n",
       "      <th>normalized activity code</th>\n",
       "    </tr>\n",
       "  </thead>\n",
       "  <tbody>\n",
       "    <tr>\n",
       "      <th>0</th>\n",
       "      <td>0</td>\n",
       "      <td>0.001911</td>\n",
       "      <td>-0.014536</td>\n",
       "      <td>0.005845</td>\n",
       "      <td>0.003675</td>\n",
       "      <td>-0.014972</td>\n",
       "      <td>0.025607</td>\n",
       "      <td>0.000478</td>\n",
       "      <td>-0.031141</td>\n",
       "      <td>-0.014827</td>\n",
       "      <td>...</td>\n",
       "      <td>0.004456</td>\n",
       "      <td>23.223</td>\n",
       "      <td>26.260</td>\n",
       "      <td>26.249</td>\n",
       "      <td>3</td>\n",
       "      <td>300</td>\n",
       "      <td>1</td>\n",
       "      <td>2100</td>\n",
       "      <td>1051</td>\n",
       "      <td>1</td>\n",
       "    </tr>\n",
       "    <tr>\n",
       "      <th>1</th>\n",
       "      <td>1</td>\n",
       "      <td>0.004114</td>\n",
       "      <td>-0.003186</td>\n",
       "      <td>0.000759</td>\n",
       "      <td>0.012450</td>\n",
       "      <td>-0.032074</td>\n",
       "      <td>0.007270</td>\n",
       "      <td>-0.000470</td>\n",
       "      <td>0.006980</td>\n",
       "      <td>0.021400</td>\n",
       "      <td>...</td>\n",
       "      <td>0.002979</td>\n",
       "      <td>56.292</td>\n",
       "      <td>59.245</td>\n",
       "      <td>59.245</td>\n",
       "      <td>3</td>\n",
       "      <td>300</td>\n",
       "      <td>1</td>\n",
       "      <td>5700</td>\n",
       "      <td>1037</td>\n",
       "      <td>1</td>\n",
       "    </tr>\n",
       "    <tr>\n",
       "      <th>2</th>\n",
       "      <td>2</td>\n",
       "      <td>-0.011282</td>\n",
       "      <td>-0.002432</td>\n",
       "      <td>-0.003199</td>\n",
       "      <td>0.008152</td>\n",
       "      <td>-0.021763</td>\n",
       "      <td>0.000309</td>\n",
       "      <td>-0.004968</td>\n",
       "      <td>-0.009551</td>\n",
       "      <td>0.001497</td>\n",
       "      <td>...</td>\n",
       "      <td>0.003343</td>\n",
       "      <td>27.267</td>\n",
       "      <td>30.290</td>\n",
       "      <td>30.291</td>\n",
       "      <td>3</td>\n",
       "      <td>300</td>\n",
       "      <td>1</td>\n",
       "      <td>2700</td>\n",
       "      <td>1075</td>\n",
       "      <td>1</td>\n",
       "    </tr>\n",
       "    <tr>\n",
       "      <th>3</th>\n",
       "      <td>3</td>\n",
       "      <td>-0.009241</td>\n",
       "      <td>-0.004666</td>\n",
       "      <td>0.021606</td>\n",
       "      <td>-0.007200</td>\n",
       "      <td>0.003091</td>\n",
       "      <td>0.001630</td>\n",
       "      <td>0.005057</td>\n",
       "      <td>-0.008149</td>\n",
       "      <td>0.013167</td>\n",
       "      <td>...</td>\n",
       "      <td>-0.002053</td>\n",
       "      <td>39.420</td>\n",
       "      <td>42.441</td>\n",
       "      <td>42.440</td>\n",
       "      <td>3</td>\n",
       "      <td>300</td>\n",
       "      <td>6</td>\n",
       "      <td>3900</td>\n",
       "      <td>1008</td>\n",
       "      <td>1</td>\n",
       "    </tr>\n",
       "    <tr>\n",
       "      <th>4</th>\n",
       "      <td>4</td>\n",
       "      <td>-0.013083</td>\n",
       "      <td>-0.005612</td>\n",
       "      <td>0.001645</td>\n",
       "      <td>0.006823</td>\n",
       "      <td>-0.004159</td>\n",
       "      <td>0.000415</td>\n",
       "      <td>0.008178</td>\n",
       "      <td>0.002637</td>\n",
       "      <td>-0.000827</td>\n",
       "      <td>...</td>\n",
       "      <td>0.002603</td>\n",
       "      <td>23.703</td>\n",
       "      <td>26.656</td>\n",
       "      <td>26.656</td>\n",
       "      <td>3</td>\n",
       "      <td>300</td>\n",
       "      <td>1</td>\n",
       "      <td>2400</td>\n",
       "      <td>1038</td>\n",
       "      <td>1</td>\n",
       "    </tr>\n",
       "  </tbody>\n",
       "</table>\n",
       "<p>5 rows × 370 columns</p>\n",
       "</div>"
      ],
      "text/plain": [
       "   Unnamed: 0  accel-x-0  accel-x-1  accel-x-2  accel-x-3  accel-x-4  \\\n",
       "0           0   0.001911  -0.014536   0.005845   0.003675  -0.014972   \n",
       "1           1   0.004114  -0.003186   0.000759   0.012450  -0.032074   \n",
       "2           2  -0.011282  -0.002432  -0.003199   0.008152  -0.021763   \n",
       "3           3  -0.009241  -0.004666   0.021606  -0.007200   0.003091   \n",
       "4           4  -0.013083  -0.005612   0.001645   0.006823  -0.004159   \n",
       "\n",
       "   accel-x-5  accel-x-6  accel-x-7  accel-x-8  ...  gyro-z-59  \\\n",
       "0   0.025607   0.000478  -0.031141  -0.014827  ...   0.004456   \n",
       "1   0.007270  -0.000470   0.006980   0.021400  ...   0.002979   \n",
       "2   0.000309  -0.004968  -0.009551   0.001497  ...   0.003343   \n",
       "3   0.001630   0.005057  -0.008149   0.013167  ...  -0.002053   \n",
       "4   0.000415   0.008178   0.002637  -0.000827  ...   0.002603   \n",
       "\n",
       "   gyro-start-time  accel-end-time  gyro-end-time  activity code  length  \\\n",
       "0           23.223          26.260         26.249              3     300   \n",
       "1           56.292          59.245         59.245              3     300   \n",
       "2           27.267          30.290         30.291              3     300   \n",
       "3           39.420          42.441         42.440              3     300   \n",
       "4           23.703          26.656         26.656              3     300   \n",
       "\n",
       "   serial  index  user  normalized activity code  \n",
       "0       1   2100  1051                         1  \n",
       "1       1   5700  1037                         1  \n",
       "2       1   2700  1075                         1  \n",
       "3       6   3900  1008                         1  \n",
       "4       1   2400  1038                         1  \n",
       "\n",
       "[5 rows x 370 columns]"
      ]
     },
     "execution_count": 7,
     "metadata": {},
     "output_type": "execute_result"
    }
   ],
   "source": [
    "df2.head()"
   ]
  },
  {
   "cell_type": "code",
   "execution_count": 8,
   "id": "f8ebbbec-2eb2-4df5-b7de-3179777323a3",
   "metadata": {},
   "outputs": [],
   "source": [
    "# Creating the train dataset\n",
    "\n",
    "combined_train_dset = PandasMultiModalDataset(\n",
    "    df2,\n",
    "    feature_prefixes=features,\n",
    "    label_columns=\"activity code\",\n",
    "    as_array=True\n",
    ")"
   ]
  },
  {
   "cell_type": "markdown",
   "id": "4e1a6ac9-c31d-48b4-8cb4-bb10e7a4b659",
   "metadata": {},
   "source": [
    "## Inspect sample"
   ]
  },
  {
   "cell_type": "code",
   "execution_count": 9,
   "id": "424755b0-8954-4b4f-b9d1-616ccdff7f08",
   "metadata": {
    "tags": []
   },
   "outputs": [],
   "source": [
    "# Lets print the first sample of combined_train dataset.\n",
    "# Is a tuple, with an vector of 360 elements as first element and the label as second\n",
    "x = combined_train_dset[0]\n",
    "#print(x)"
   ]
  },
  {
   "cell_type": "code",
   "execution_count": 10,
   "id": "e5ed5b71-6cdb-4c3f-9e08-d2e21a26520e",
   "metadata": {
    "tags": []
   },
   "outputs": [
    {
     "name": "stdout",
     "output_type": "stream",
     "text": [
      "Shape of sample 0: (360,)\n",
      "The label of sample 0: 3\n"
     ]
    }
   ],
   "source": [
    "# Inspecting sample\n",
    "#print(f\"The sample 0: {x[0]}\")\n",
    "print(f\"Shape of sample 0: {x[0].shape}\")\n",
    "print(f\"The label of sample 0: {x[1]}\")"
   ]
  },
  {
   "cell_type": "markdown",
   "id": "e044f068-d9a0-4ede-a83c-da1d99c97b38",
   "metadata": {},
   "source": [
    "## Fourier Transform"
   ]
  },
  {
   "cell_type": "code",
   "execution_count": 11,
   "id": "8ff029d9-ac41-4a29-9170-7d547fac4684",
   "metadata": {
    "tags": []
   },
   "outputs": [],
   "source": [
    "#fft_transform = FFT(centered = True)\n",
    "fft_transform = FFT()\n",
    "transformer = TransformMultiModalDataset(transforms=[fft_transform], new_window_name_prefix=\"fft.\")"
   ]
  },
  {
   "cell_type": "markdown",
   "id": "14432baa-cec3-4b58-bd91-cb24ac2cba51",
   "metadata": {},
   "source": [
    "### Use FFT in the base dataset"
   ]
  },
  {
   "cell_type": "code",
   "execution_count": 12,
   "id": "b3f13126-ca3c-416b-ac68-5d40e46050c3",
   "metadata": {
    "tags": []
   },
   "outputs": [],
   "source": [
    "combined_train_dset_fft = transformer(combined_train_dset)"
   ]
  },
  {
   "cell_type": "code",
   "execution_count": 13,
   "id": "e06eb8db-9ee0-400c-8d31-13495c9a567b",
   "metadata": {
    "tags": []
   },
   "outputs": [
    {
     "data": {
      "text/plain": [
       "array([[ 1.91093286e-03, -1.45361925e-02,  5.84452385e-03, ...,\n",
       "         3.45654902e-03,  2.32869360e-03,  4.45589801e-03],\n",
       "       [ 4.11395657e-03, -3.18646610e-03,  7.58931558e-04, ...,\n",
       "        -9.94428406e-04, -1.82853273e-03,  2.97903419e-03],\n",
       "       [-1.12820040e-02, -2.43180090e-03, -3.19908050e-03, ...,\n",
       "         3.56838998e-03,  4.38234273e-03,  3.34301636e-03],\n",
       "       ...,\n",
       "       [-2.98870193e+00, -1.39523386e-01, -6.52441382e+00, ...,\n",
       "        -7.48947780e-02, -3.92595416e-01, -2.17587752e-01],\n",
       "       [ 7.96914982e+00,  1.20087272e+01, -3.34976629e+00, ...,\n",
       "         1.08870693e-01,  4.74598944e-01,  2.26891463e-02],\n",
       "       [-8.22046480e+00, -4.99540410e+00,  1.68743679e+01, ...,\n",
       "         6.03348395e-01,  2.79978155e-01, -1.70569178e-01]])"
      ]
     },
     "execution_count": 13,
     "metadata": {},
     "output_type": "execute_result"
    }
   ],
   "source": [
    "combined_train_dset[:][0]"
   ]
  },
  {
   "cell_type": "code",
   "execution_count": 14,
   "id": "17b3fd29-8045-47d8-b6df-096c93cce0e3",
   "metadata": {},
   "outputs": [
    {
     "data": {
      "text/plain": [
       "array([[2.08923330e-02, 1.12081089e-01, 6.03699767e-02, ...,\n",
       "        5.31635769e-02, 3.12414586e-02, 1.40369727e-01],\n",
       "       [1.53802877e-02, 8.24343989e-02, 4.18766153e-02, ...,\n",
       "        9.66322286e-03, 2.59289385e-02, 2.52929170e-02],\n",
       "       [5.21272671e-02, 4.82816195e-02, 8.93573044e-02, ...,\n",
       "        1.93188738e-02, 4.41668326e-02, 6.26341618e-02],\n",
       "       ...,\n",
       "       [1.66125362e+01, 6.98974508e+00, 1.66400551e+01, ...,\n",
       "        1.28320305e+01, 1.65101034e+00, 1.28001347e+00],\n",
       "       [2.83744371e+01, 2.64833653e+01, 2.09319955e+01, ...,\n",
       "        3.63490975e+00, 4.42132193e+00, 1.50278269e+00],\n",
       "       [2.12598609e+01, 1.75026493e+01, 1.66059199e+01, ...,\n",
       "        2.61860549e+00, 4.18991461e+00, 2.71745950e+00]])"
      ]
     },
     "execution_count": 14,
     "metadata": {},
     "output_type": "execute_result"
    }
   ],
   "source": [
    "combined_train_dset_fft[:][0]"
   ]
  },
  {
   "cell_type": "markdown",
   "id": "29731ead-15b6-4a58-b8ef-1bb6c257efad",
   "metadata": {},
   "source": [
    "## Loading data from a target dataset B - MotionSense\n",
    "In this case we use the MotionSense dataset resampled at 20 Hz"
   ]
  },
  {
   "cell_type": "code",
   "execution_count": 15,
   "id": "58c59370-9d9f-401d-a6ab-be0d715459fe",
   "metadata": {},
   "outputs": [],
   "source": [
    "dataset_path = Path(\"../data/views/MotionSense/resampled_view_20Hz\")"
   ]
  },
  {
   "cell_type": "code",
   "execution_count": 16,
   "id": "5551c2f7-38aa-4057-88f6-13fb3bedf73b",
   "metadata": {},
   "outputs": [],
   "source": [
    "# Motionsense dataframe\n",
    "train_targetB, validation_targetB, test_targetB = PandasDatasetsIO(dataset_path).load()\n"
   ]
  },
  {
   "cell_type": "code",
   "execution_count": 17,
   "id": "d2d194ff-b774-4e39-815f-9da6897e2c63",
   "metadata": {},
   "outputs": [
    {
     "data": {
      "text/html": [
       "<div>\n",
       "<style scoped>\n",
       "    .dataframe tbody tr th:only-of-type {\n",
       "        vertical-align: middle;\n",
       "    }\n",
       "\n",
       "    .dataframe tbody tr th {\n",
       "        vertical-align: top;\n",
       "    }\n",
       "\n",
       "    .dataframe thead th {\n",
       "        text-align: right;\n",
       "    }\n",
       "</style>\n",
       "<table border=\"1\" class=\"dataframe\">\n",
       "  <thead>\n",
       "    <tr style=\"text-align: right;\">\n",
       "      <th></th>\n",
       "      <th>Unnamed: 0</th>\n",
       "      <th>accel-x-0</th>\n",
       "      <th>accel-x-1</th>\n",
       "      <th>accel-x-2</th>\n",
       "      <th>accel-x-3</th>\n",
       "      <th>accel-x-4</th>\n",
       "      <th>accel-x-5</th>\n",
       "      <th>accel-x-6</th>\n",
       "      <th>accel-x-7</th>\n",
       "      <th>accel-x-8</th>\n",
       "      <th>...</th>\n",
       "      <th>gyro-z-59</th>\n",
       "      <th>gyro-start-time</th>\n",
       "      <th>accel-end-time</th>\n",
       "      <th>gyro-end-time</th>\n",
       "      <th>activity code</th>\n",
       "      <th>length</th>\n",
       "      <th>serial</th>\n",
       "      <th>index</th>\n",
       "      <th>user</th>\n",
       "      <th>normalized activity code</th>\n",
       "    </tr>\n",
       "  </thead>\n",
       "  <tbody>\n",
       "    <tr>\n",
       "      <th>0</th>\n",
       "      <td>0</td>\n",
       "      <td>0.001911</td>\n",
       "      <td>-0.014536</td>\n",
       "      <td>0.005845</td>\n",
       "      <td>0.003675</td>\n",
       "      <td>-0.014972</td>\n",
       "      <td>0.025607</td>\n",
       "      <td>0.000478</td>\n",
       "      <td>-0.031141</td>\n",
       "      <td>-0.014827</td>\n",
       "      <td>...</td>\n",
       "      <td>0.004456</td>\n",
       "      <td>23.223</td>\n",
       "      <td>26.260</td>\n",
       "      <td>26.249</td>\n",
       "      <td>0</td>\n",
       "      <td>300</td>\n",
       "      <td>1</td>\n",
       "      <td>2100</td>\n",
       "      <td>1051</td>\n",
       "      <td>1</td>\n",
       "    </tr>\n",
       "    <tr>\n",
       "      <th>1</th>\n",
       "      <td>1</td>\n",
       "      <td>0.004114</td>\n",
       "      <td>-0.003186</td>\n",
       "      <td>0.000759</td>\n",
       "      <td>0.012450</td>\n",
       "      <td>-0.032074</td>\n",
       "      <td>0.007270</td>\n",
       "      <td>-0.000470</td>\n",
       "      <td>0.006980</td>\n",
       "      <td>0.021400</td>\n",
       "      <td>...</td>\n",
       "      <td>0.002979</td>\n",
       "      <td>56.292</td>\n",
       "      <td>59.245</td>\n",
       "      <td>59.245</td>\n",
       "      <td>0</td>\n",
       "      <td>300</td>\n",
       "      <td>1</td>\n",
       "      <td>5700</td>\n",
       "      <td>1037</td>\n",
       "      <td>1</td>\n",
       "    </tr>\n",
       "    <tr>\n",
       "      <th>2</th>\n",
       "      <td>2</td>\n",
       "      <td>-0.011282</td>\n",
       "      <td>-0.002432</td>\n",
       "      <td>-0.003199</td>\n",
       "      <td>0.008152</td>\n",
       "      <td>-0.021763</td>\n",
       "      <td>0.000309</td>\n",
       "      <td>-0.004968</td>\n",
       "      <td>-0.009551</td>\n",
       "      <td>0.001497</td>\n",
       "      <td>...</td>\n",
       "      <td>0.003343</td>\n",
       "      <td>27.267</td>\n",
       "      <td>30.290</td>\n",
       "      <td>30.291</td>\n",
       "      <td>0</td>\n",
       "      <td>300</td>\n",
       "      <td>1</td>\n",
       "      <td>2700</td>\n",
       "      <td>1075</td>\n",
       "      <td>1</td>\n",
       "    </tr>\n",
       "    <tr>\n",
       "      <th>3</th>\n",
       "      <td>3</td>\n",
       "      <td>-0.009241</td>\n",
       "      <td>-0.004666</td>\n",
       "      <td>0.021606</td>\n",
       "      <td>-0.007200</td>\n",
       "      <td>0.003091</td>\n",
       "      <td>0.001630</td>\n",
       "      <td>0.005057</td>\n",
       "      <td>-0.008149</td>\n",
       "      <td>0.013167</td>\n",
       "      <td>...</td>\n",
       "      <td>-0.002053</td>\n",
       "      <td>39.420</td>\n",
       "      <td>42.441</td>\n",
       "      <td>42.440</td>\n",
       "      <td>0</td>\n",
       "      <td>300</td>\n",
       "      <td>6</td>\n",
       "      <td>3900</td>\n",
       "      <td>1008</td>\n",
       "      <td>1</td>\n",
       "    </tr>\n",
       "    <tr>\n",
       "      <th>4</th>\n",
       "      <td>4</td>\n",
       "      <td>-0.013083</td>\n",
       "      <td>-0.005612</td>\n",
       "      <td>0.001645</td>\n",
       "      <td>0.006823</td>\n",
       "      <td>-0.004159</td>\n",
       "      <td>0.000415</td>\n",
       "      <td>0.008178</td>\n",
       "      <td>0.002637</td>\n",
       "      <td>-0.000827</td>\n",
       "      <td>...</td>\n",
       "      <td>0.002603</td>\n",
       "      <td>23.703</td>\n",
       "      <td>26.656</td>\n",
       "      <td>26.656</td>\n",
       "      <td>0</td>\n",
       "      <td>300</td>\n",
       "      <td>1</td>\n",
       "      <td>2400</td>\n",
       "      <td>1038</td>\n",
       "      <td>1</td>\n",
       "    </tr>\n",
       "  </tbody>\n",
       "</table>\n",
       "<p>5 rows × 370 columns</p>\n",
       "</div>"
      ],
      "text/plain": [
       "   Unnamed: 0  accel-x-0  accel-x-1  accel-x-2  accel-x-3  accel-x-4  \\\n",
       "0           0   0.001911  -0.014536   0.005845   0.003675  -0.014972   \n",
       "1           1   0.004114  -0.003186   0.000759   0.012450  -0.032074   \n",
       "2           2  -0.011282  -0.002432  -0.003199   0.008152  -0.021763   \n",
       "3           3  -0.009241  -0.004666   0.021606  -0.007200   0.003091   \n",
       "4           4  -0.013083  -0.005612   0.001645   0.006823  -0.004159   \n",
       "\n",
       "   accel-x-5  accel-x-6  accel-x-7  accel-x-8  ...  gyro-z-59  \\\n",
       "0   0.025607   0.000478  -0.031141  -0.014827  ...   0.004456   \n",
       "1   0.007270  -0.000470   0.006980   0.021400  ...   0.002979   \n",
       "2   0.000309  -0.004968  -0.009551   0.001497  ...   0.003343   \n",
       "3   0.001630   0.005057  -0.008149   0.013167  ...  -0.002053   \n",
       "4   0.000415   0.008178   0.002637  -0.000827  ...   0.002603   \n",
       "\n",
       "   gyro-start-time  accel-end-time  gyro-end-time  activity code  length  \\\n",
       "0           23.223          26.260         26.249              0     300   \n",
       "1           56.292          59.245         59.245              0     300   \n",
       "2           27.267          30.290         30.291              0     300   \n",
       "3           39.420          42.441         42.440              0     300   \n",
       "4           23.703          26.656         26.656              0     300   \n",
       "\n",
       "   serial  index  user  normalized activity code  \n",
       "0       1   2100  1051                         1  \n",
       "1       1   5700  1037                         1  \n",
       "2       1   2700  1075                         1  \n",
       "3       6   3900  1008                         1  \n",
       "4       1   2400  1038                         1  \n",
       "\n",
       "[5 rows x 370 columns]"
      ]
     },
     "execution_count": 17,
     "metadata": {},
     "output_type": "execute_result"
    }
   ],
   "source": [
    "train_base.head()"
   ]
  },
  {
   "cell_type": "code",
   "execution_count": 18,
   "id": "45809c0a-3a59-4bb1-bfd1-47918c2c5589",
   "metadata": {},
   "outputs": [],
   "source": [
    "# MotionSense features to select\n",
    "features = [\n",
    "    \"userAcceleration.x\",\n",
    "    \"userAcceleration.y\",\n",
    "    \"userAcceleration.z\",\n",
    "    \"rotationRate.x\",\n",
    "    \"rotationRate.y\",\n",
    "    \"rotationRate.z\"\n",
    "]\n",
    "\n",
    "# Creating the train dataset\n",
    "\n",
    "combined_target_dsetB = PandasMultiModalDataset(\n",
    "    pd.concat([train_targetB, validation_targetB, test_targetB], ignore_index=True),\n",
    "    feature_prefixes=features,\n",
    "    label_columns=\"activity code\",\n",
    "    as_array=True\n",
    ")"
   ]
  },
  {
   "cell_type": "code",
   "execution_count": 19,
   "id": "4bb6c0e8-3d23-4aac-a1e9-cf8bf71462ab",
   "metadata": {},
   "outputs": [
    {
     "ename": "KeyError",
     "evalue": "'activity code'",
     "output_type": "error",
     "traceback": [
      "\u001b[0;31m---------------------------------------------------------------------------\u001b[0m",
      "\u001b[0;31mKeyError\u001b[0m                                  Traceback (most recent call last)",
      "File \u001b[0;32m/usr/local/lib/python3.8/dist-packages/pandas/core/indexes/base.py:3621\u001b[0m, in \u001b[0;36mIndex.get_loc\u001b[0;34m(self, key, method, tolerance)\u001b[0m\n\u001b[1;32m   3620\u001b[0m \u001b[38;5;28;01mtry\u001b[39;00m:\n\u001b[0;32m-> 3621\u001b[0m     \u001b[38;5;28;01mreturn\u001b[39;00m \u001b[38;5;28;43mself\u001b[39;49m\u001b[38;5;241;43m.\u001b[39;49m\u001b[43m_engine\u001b[49m\u001b[38;5;241;43m.\u001b[39;49m\u001b[43mget_loc\u001b[49m\u001b[43m(\u001b[49m\u001b[43mcasted_key\u001b[49m\u001b[43m)\u001b[49m\n\u001b[1;32m   3622\u001b[0m \u001b[38;5;28;01mexcept\u001b[39;00m \u001b[38;5;167;01mKeyError\u001b[39;00m \u001b[38;5;28;01mas\u001b[39;00m err:\n",
      "File \u001b[0;32m/usr/local/lib/python3.8/dist-packages/pandas/_libs/index.pyx:136\u001b[0m, in \u001b[0;36mpandas._libs.index.IndexEngine.get_loc\u001b[0;34m()\u001b[0m\n",
      "File \u001b[0;32m/usr/local/lib/python3.8/dist-packages/pandas/_libs/index.pyx:163\u001b[0m, in \u001b[0;36mpandas._libs.index.IndexEngine.get_loc\u001b[0;34m()\u001b[0m\n",
      "File \u001b[0;32mpandas/_libs/hashtable_class_helper.pxi:5198\u001b[0m, in \u001b[0;36mpandas._libs.hashtable.PyObjectHashTable.get_item\u001b[0;34m()\u001b[0m\n",
      "File \u001b[0;32mpandas/_libs/hashtable_class_helper.pxi:5206\u001b[0m, in \u001b[0;36mpandas._libs.hashtable.PyObjectHashTable.get_item\u001b[0;34m()\u001b[0m\n",
      "\u001b[0;31mKeyError\u001b[0m: 'activity code'",
      "\nThe above exception was the direct cause of the following exception:\n",
      "\u001b[0;31mKeyError\u001b[0m                                  Traceback (most recent call last)",
      "Input \u001b[0;32mIn [19]\u001b[0m, in \u001b[0;36m<cell line: 3>\u001b[0;34m()\u001b[0m\n\u001b[1;32m      1\u001b[0m \u001b[38;5;66;03m# Lets print the first sample of combined_target dataset.\u001b[39;00m\n\u001b[1;32m      2\u001b[0m \u001b[38;5;66;03m# Is a tuple, with an vector of 180 elements as first element and the label as second\u001b[39;00m\n\u001b[0;32m----> 3\u001b[0m x \u001b[38;5;241m=\u001b[39m \u001b[43mcombined_target_dsetB\u001b[49m\u001b[43m[\u001b[49m\u001b[38;5;241;43m0\u001b[39;49m\u001b[43m]\u001b[49m\n",
      "File \u001b[0;32m~/.local/lib/python3.8/site-packages/librep/datasets/common.py:20\u001b[0m, in \u001b[0;36mPandasDataset.__getitem__\u001b[0;34m(self, index)\u001b[0m\n\u001b[1;32m     18\u001b[0m \u001b[38;5;28;01mdef\u001b[39;00m \u001b[38;5;21m__getitem__\u001b[39m(\u001b[38;5;28mself\u001b[39m, index: \u001b[38;5;28mint\u001b[39m) \u001b[38;5;241m-\u001b[39m\u001b[38;5;241m>\u001b[39m Tuple[ArrayLike, Any]:\n\u001b[1;32m     19\u001b[0m     data \u001b[38;5;241m=\u001b[39m \u001b[38;5;28mself\u001b[39m\u001b[38;5;241m.\u001b[39mdata\u001b[38;5;241m.\u001b[39mloc[index, \u001b[38;5;28mself\u001b[39m\u001b[38;5;241m.\u001b[39mfeature_columns]\n\u001b[0;32m---> 20\u001b[0m     label \u001b[38;5;241m=\u001b[39m \u001b[38;5;28;43mself\u001b[39;49m\u001b[38;5;241;43m.\u001b[39;49m\u001b[43mdata\u001b[49m\u001b[38;5;241;43m.\u001b[39;49m\u001b[43mloc\u001b[49m\u001b[43m[\u001b[49m\u001b[43mindex\u001b[49m\u001b[43m,\u001b[49m\u001b[43m \u001b[49m\u001b[38;5;28;43mself\u001b[39;49m\u001b[38;5;241;43m.\u001b[39;49m\u001b[43mlabel_columns\u001b[49m\u001b[43m]\u001b[49m\n\u001b[1;32m     22\u001b[0m     \u001b[38;5;28;01mif\u001b[39;00m \u001b[38;5;28mself\u001b[39m\u001b[38;5;241m.\u001b[39mas_array:\n\u001b[1;32m     23\u001b[0m         data \u001b[38;5;241m=\u001b[39m data\u001b[38;5;241m.\u001b[39mvalues\n",
      "File \u001b[0;32m/usr/local/lib/python3.8/dist-packages/pandas/core/indexing.py:960\u001b[0m, in \u001b[0;36m_LocationIndexer.__getitem__\u001b[0;34m(self, key)\u001b[0m\n\u001b[1;32m    958\u001b[0m     key \u001b[38;5;241m=\u001b[39m \u001b[38;5;28mtuple\u001b[39m(com\u001b[38;5;241m.\u001b[39mapply_if_callable(x, \u001b[38;5;28mself\u001b[39m\u001b[38;5;241m.\u001b[39mobj) \u001b[38;5;28;01mfor\u001b[39;00m x \u001b[38;5;129;01min\u001b[39;00m key)\n\u001b[1;32m    959\u001b[0m     \u001b[38;5;28;01mif\u001b[39;00m \u001b[38;5;28mself\u001b[39m\u001b[38;5;241m.\u001b[39m_is_scalar_access(key):\n\u001b[0;32m--> 960\u001b[0m         \u001b[38;5;28;01mreturn\u001b[39;00m \u001b[38;5;28;43mself\u001b[39;49m\u001b[38;5;241;43m.\u001b[39;49m\u001b[43mobj\u001b[49m\u001b[38;5;241;43m.\u001b[39;49m\u001b[43m_get_value\u001b[49m\u001b[43m(\u001b[49m\u001b[38;5;241;43m*\u001b[39;49m\u001b[43mkey\u001b[49m\u001b[43m,\u001b[49m\u001b[43m \u001b[49m\u001b[43mtakeable\u001b[49m\u001b[38;5;241;43m=\u001b[39;49m\u001b[38;5;28;43mself\u001b[39;49m\u001b[38;5;241;43m.\u001b[39;49m\u001b[43m_takeable\u001b[49m\u001b[43m)\u001b[49m\n\u001b[1;32m    961\u001b[0m     \u001b[38;5;28;01mreturn\u001b[39;00m \u001b[38;5;28mself\u001b[39m\u001b[38;5;241m.\u001b[39m_getitem_tuple(key)\n\u001b[1;32m    962\u001b[0m \u001b[38;5;28;01melse\u001b[39;00m:\n\u001b[1;32m    963\u001b[0m     \u001b[38;5;66;03m# we by definition only have the 0th axis\u001b[39;00m\n",
      "File \u001b[0;32m/usr/local/lib/python3.8/dist-packages/pandas/core/frame.py:3615\u001b[0m, in \u001b[0;36mDataFrame._get_value\u001b[0;34m(self, index, col, takeable)\u001b[0m\n\u001b[1;32m   3612\u001b[0m     series \u001b[38;5;241m=\u001b[39m \u001b[38;5;28mself\u001b[39m\u001b[38;5;241m.\u001b[39m_ixs(col, axis\u001b[38;5;241m=\u001b[39m\u001b[38;5;241m1\u001b[39m)\n\u001b[1;32m   3613\u001b[0m     \u001b[38;5;28;01mreturn\u001b[39;00m series\u001b[38;5;241m.\u001b[39m_values[index]\n\u001b[0;32m-> 3615\u001b[0m series \u001b[38;5;241m=\u001b[39m \u001b[38;5;28;43mself\u001b[39;49m\u001b[38;5;241;43m.\u001b[39;49m\u001b[43m_get_item_cache\u001b[49m\u001b[43m(\u001b[49m\u001b[43mcol\u001b[49m\u001b[43m)\u001b[49m\n\u001b[1;32m   3616\u001b[0m engine \u001b[38;5;241m=\u001b[39m \u001b[38;5;28mself\u001b[39m\u001b[38;5;241m.\u001b[39mindex\u001b[38;5;241m.\u001b[39m_engine\n\u001b[1;32m   3618\u001b[0m \u001b[38;5;28;01mif\u001b[39;00m \u001b[38;5;129;01mnot\u001b[39;00m \u001b[38;5;28misinstance\u001b[39m(\u001b[38;5;28mself\u001b[39m\u001b[38;5;241m.\u001b[39mindex, MultiIndex):\n\u001b[1;32m   3619\u001b[0m     \u001b[38;5;66;03m# CategoricalIndex: Trying to use the engine fastpath may give incorrect\u001b[39;00m\n\u001b[1;32m   3620\u001b[0m     \u001b[38;5;66;03m#  results if our categories are integers that dont match our codes\u001b[39;00m\n\u001b[1;32m   3621\u001b[0m     \u001b[38;5;66;03m# IntervalIndex: IntervalTree has no get_loc\u001b[39;00m\n",
      "File \u001b[0;32m/usr/local/lib/python3.8/dist-packages/pandas/core/frame.py:3931\u001b[0m, in \u001b[0;36mDataFrame._get_item_cache\u001b[0;34m(self, item)\u001b[0m\n\u001b[1;32m   3926\u001b[0m res \u001b[38;5;241m=\u001b[39m cache\u001b[38;5;241m.\u001b[39mget(item)\n\u001b[1;32m   3927\u001b[0m \u001b[38;5;28;01mif\u001b[39;00m res \u001b[38;5;129;01mis\u001b[39;00m \u001b[38;5;28;01mNone\u001b[39;00m:\n\u001b[1;32m   3928\u001b[0m     \u001b[38;5;66;03m# All places that call _get_item_cache have unique columns,\u001b[39;00m\n\u001b[1;32m   3929\u001b[0m     \u001b[38;5;66;03m#  pending resolution of GH#33047\u001b[39;00m\n\u001b[0;32m-> 3931\u001b[0m     loc \u001b[38;5;241m=\u001b[39m \u001b[38;5;28;43mself\u001b[39;49m\u001b[38;5;241;43m.\u001b[39;49m\u001b[43mcolumns\u001b[49m\u001b[38;5;241;43m.\u001b[39;49m\u001b[43mget_loc\u001b[49m\u001b[43m(\u001b[49m\u001b[43mitem\u001b[49m\u001b[43m)\u001b[49m\n\u001b[1;32m   3932\u001b[0m     res \u001b[38;5;241m=\u001b[39m \u001b[38;5;28mself\u001b[39m\u001b[38;5;241m.\u001b[39m_ixs(loc, axis\u001b[38;5;241m=\u001b[39m\u001b[38;5;241m1\u001b[39m)\n\u001b[1;32m   3934\u001b[0m     cache[item] \u001b[38;5;241m=\u001b[39m res\n",
      "File \u001b[0;32m/usr/local/lib/python3.8/dist-packages/pandas/core/indexes/base.py:3623\u001b[0m, in \u001b[0;36mIndex.get_loc\u001b[0;34m(self, key, method, tolerance)\u001b[0m\n\u001b[1;32m   3621\u001b[0m     \u001b[38;5;28;01mreturn\u001b[39;00m \u001b[38;5;28mself\u001b[39m\u001b[38;5;241m.\u001b[39m_engine\u001b[38;5;241m.\u001b[39mget_loc(casted_key)\n\u001b[1;32m   3622\u001b[0m \u001b[38;5;28;01mexcept\u001b[39;00m \u001b[38;5;167;01mKeyError\u001b[39;00m \u001b[38;5;28;01mas\u001b[39;00m err:\n\u001b[0;32m-> 3623\u001b[0m     \u001b[38;5;28;01mraise\u001b[39;00m \u001b[38;5;167;01mKeyError\u001b[39;00m(key) \u001b[38;5;28;01mfrom\u001b[39;00m \u001b[38;5;21;01merr\u001b[39;00m\n\u001b[1;32m   3624\u001b[0m \u001b[38;5;28;01mexcept\u001b[39;00m \u001b[38;5;167;01mTypeError\u001b[39;00m:\n\u001b[1;32m   3625\u001b[0m     \u001b[38;5;66;03m# If we have a listlike key, _check_indexing_error will raise\u001b[39;00m\n\u001b[1;32m   3626\u001b[0m     \u001b[38;5;66;03m#  InvalidIndexError. Otherwise we fall through and re-raise\u001b[39;00m\n\u001b[1;32m   3627\u001b[0m     \u001b[38;5;66;03m#  the TypeError.\u001b[39;00m\n\u001b[1;32m   3628\u001b[0m     \u001b[38;5;28mself\u001b[39m\u001b[38;5;241m.\u001b[39m_check_indexing_error(key)\n",
      "\u001b[0;31mKeyError\u001b[0m: 'activity code'"
     ]
    }
   ],
   "source": [
    "# Lets print the first sample of combined_target dataset.\n",
    "# Is a tuple, with an vector of 180 elements as first element and the label as second\n",
    "x = combined_target_dsetB[0]\n",
    "#print(x)"
   ]
  },
  {
   "cell_type": "code",
   "execution_count": null,
   "id": "f8a9ee00-99ae-446a-ad87-dc49f3eeda04",
   "metadata": {},
   "outputs": [],
   "source": [
    "# Inspecting sample\n",
    "print(f\"The sample 0: {x[0]}\")\n",
    "print(f\"Shape of sample 0: {x[0].shape}\")\n",
    "print(f\"The label of sample 0: {x[1]}\")"
   ]
  },
  {
   "cell_type": "code",
   "execution_count": null,
   "id": "de47b25e-89e7-436f-a093-e49803a356d3",
   "metadata": {},
   "outputs": [],
   "source": [
    "combined_target_dsetB_fft = transformer(combined_target_dsetB)"
   ]
  },
  {
   "cell_type": "code",
   "execution_count": null,
   "id": "79a0106b-0c8a-4639-9332-866fae9de4f8",
   "metadata": {},
   "outputs": [],
   "source": [
    "combined_target_dsetB[:][0]"
   ]
  },
  {
   "cell_type": "code",
   "execution_count": null,
   "id": "5e035b2e-7660-4848-8e59-530ab915670c",
   "metadata": {},
   "outputs": [],
   "source": [
    "combined_target_dsetB_fft[:][0]"
   ]
  },
  {
   "cell_type": "markdown",
   "id": "e4387db2-e8c0-4d6c-9534-32266dd829f4",
   "metadata": {},
   "source": [
    "## Train and evaluate Random Forest classifier"
   ]
  },
  {
   "cell_type": "code",
   "execution_count": null,
   "id": "a4cac18a-20d2-4c42-8805-7d02c4dabba0",
   "metadata": {},
   "outputs": [],
   "source": [
    "# The reporter will be the same\n",
    "\n",
    "reporter = ClassificationReport(\n",
    "    use_accuracy=True,\n",
    "    use_f1_score=True,\n",
    "    use_classification_report=True,\n",
    "    use_confusion_matrix=True,\n",
    "    plot_confusion_matrix=True,\n",
    "    #normalize='true'\n",
    ")\n",
    "\n",
    "experiment = SimpleTrainEvalWorkflow(\n",
    "    estimator=RandomForestClassifier, \n",
    "    estimator_creation_kwags ={'n_estimators':100}, \n",
    "    do_not_instantiate=False, \n",
    "    do_fit=True, \n",
    "    evaluator=reporter)\n",
    "\n",
    "multi_run_experiment = MultiRunWorkflow(workflow=experiment, num_runs=10, debug=False)"
   ]
  },
  {
   "cell_type": "code",
   "execution_count": null,
   "id": "c80ec130-2533-4e34-9c9c-deda4a50eb0b",
   "metadata": {},
   "outputs": [],
   "source": [
    "results = multi_run_experiment(combined_train_dset_fft, combined_target_dsetB_fft)\n",
    "\n",
    "mean_acc = np.average(\n",
    "    [res[\"result\"][0][\"accuracy\"] for res in results[\"runs\"]]\n",
    ")\n",
    "mean_f1 = np.average(\n",
    "    [res[\"result\"][0][\"f1 score (weighted)\"] for res in results[\"runs\"]]\n",
    ")\n",
    "print(f\"Mean accuracy (10 runs): {mean_acc:.4f}. Mean f1-score: {mean_f1:.4f}\")"
   ]
  },
  {
   "cell_type": "markdown",
   "id": "f1d5da25-a1dd-472f-9ed9-a3f456022c31",
   "metadata": {},
   "source": [
    "## Train and evaluate Support Vector Machine classifier"
   ]
  },
  {
   "cell_type": "code",
   "execution_count": null,
   "id": "009a6764-6b45-4d88-a437-b58bbcc7debc",
   "metadata": {},
   "outputs": [],
   "source": [
    "experiment = SimpleTrainEvalWorkflow(estimator=SVC, estimator_creation_kwags ={'C':3.0, 'kernel':\"rbf\"} , do_not_instantiate=False, do_fit=True, evaluator=reporter)\n",
    "multi_run_experiment = MultiRunWorkflow(workflow=experiment, num_runs=10, debug=False)"
   ]
  },
  {
   "cell_type": "code",
   "execution_count": null,
   "id": "8e2d9c26-f8f7-42aa-9d80-d9f103a2f06e",
   "metadata": {},
   "outputs": [],
   "source": [
    "results = multi_run_experiment(combined_train_dset_fft, combined_target_dsetB_fft)\n",
    "\n",
    "mean_acc = np.average(\n",
    "    [res[\"result\"][0][\"accuracy\"] for res in results[\"runs\"]]\n",
    ")\n",
    "mean_f1 = np.average(\n",
    "    [res[\"result\"][0][\"f1 score (weighted)\"] for res in results[\"runs\"]]\n",
    ")\n",
    "print(f\"Mean accuracy (10 runs): {mean_acc:.4f}. Mean f1-score: {mean_f1:.4f}\")"
   ]
  },
  {
   "cell_type": "markdown",
   "id": "2cf2bcb7-eb7c-46f5-9542-b873ae14f5af",
   "metadata": {},
   "source": [
    "## Train and evaluate K Neighbors Classifier classifier"
   ]
  },
  {
   "cell_type": "code",
   "execution_count": null,
   "id": "267f4b44-2bc5-40a2-bae2-85ddbd9697c5",
   "metadata": {},
   "outputs": [],
   "source": [
    "experiment = SimpleTrainEvalWorkflow(estimator=KNeighborsClassifier, estimator_creation_kwags ={'n_neighbors' :1} , do_not_instantiate=False, do_fit=True, evaluator=reporter)\n",
    "multi_run_experiment = MultiRunWorkflow(workflow=experiment, num_runs=10, debug=False)"
   ]
  },
  {
   "cell_type": "code",
   "execution_count": null,
   "id": "d464e02b-a75f-4f19-9446-f717fa0d5d5b",
   "metadata": {},
   "outputs": [],
   "source": [
    "results = multi_run_experiment(combined_train_dset_fft, combined_target_dsetB_fft)\n",
    "\n",
    "mean_acc = np.average(\n",
    "    [res[\"result\"][0][\"accuracy\"] for res in results[\"runs\"]]\n",
    ")\n",
    "mean_f1 = np.average(\n",
    "    [res[\"result\"][0][\"f1 score (weighted)\"] for res in results[\"runs\"]]\n",
    ")\n",
    "print(f\"Mean accuracy (10 runs): {mean_acc:.4f}. Mean f1-score: {mean_f1:.4f}\")"
   ]
  },
  {
   "cell_type": "code",
   "execution_count": null,
   "id": "cce2eaaf-8307-4c54-a20c-491a555cc8d2",
   "metadata": {},
   "outputs": [],
   "source": []
  },
  {
   "cell_type": "code",
   "execution_count": null,
   "id": "34f71500-4420-48dd-bfb7-baf775e6d26a",
   "metadata": {},
   "outputs": [],
   "source": []
  },
  {
   "cell_type": "code",
   "execution_count": null,
   "id": "b29b7060-852d-4516-b0e7-292035f6665e",
   "metadata": {},
   "outputs": [],
   "source": []
  },
  {
   "cell_type": "code",
   "execution_count": null,
   "id": "2686556f-8cf1-4521-a07a-95f29319c0f9",
   "metadata": {},
   "outputs": [],
   "source": []
  }
 ],
 "metadata": {
  "kernelspec": {
   "display_name": "Python 3 (ipykernel)",
   "language": "python",
   "name": "python3"
  },
  "language_info": {
   "codemirror_mode": {
    "name": "ipython",
    "version": 3
   },
   "file_extension": ".py",
   "mimetype": "text/x-python",
   "name": "python",
   "nbconvert_exporter": "python",
   "pygments_lexer": "ipython3",
   "version": "3.8.10"
  }
 },
 "nbformat": 4,
 "nbformat_minor": 5
}
