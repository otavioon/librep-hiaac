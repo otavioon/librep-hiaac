{
 "cells": [
  {
   "cell_type": "markdown",
   "id": "53d9dc44-8e5e-4246-87e9-5c25726234b0",
   "metadata": {},
   "source": [
    "# Experiments MotionSense resampled to 20Hz\n",
    "\n",
    "This notebook will perform basic experiments on the balanced MotionSense dataset with the following steps:\n",
    "1. Quick load train, test and validation CSV subsets from the balanced MotionSense dataset using `PandasDatasetsIO` helper\n",
    "2. Subclassing the `Dataset` interface using `PandasMultiModalDataset`\n",
    "3. Apply the fourier transform on the dataset\n",
    "4. Train and evaluate SVM, KNN and Random Forest classification models in both time and frequency domains\n",
    "\n",
    "The experiments will evaluate the performance of SVM, KNN and RF models on the balanced MotionSense dataset in both time and frequency domains."
   ]
  },
  {
   "cell_type": "markdown",
   "id": "b9e9fd58-02a1-488b-8eab-064b7fdae874",
   "metadata": {},
   "source": [
    "## Common imports and definitions"
   ]
  },
  {
   "cell_type": "code",
   "execution_count": 1,
   "id": "ec6da551-6b53-4ed0-b382-65b3b9d1181c",
   "metadata": {
    "tags": []
   },
   "outputs": [
    {
     "name": "stderr",
     "output_type": "stream",
     "text": [
      "2022-09-12 01:30:53.298122: W tensorflow/stream_executor/platform/default/dso_loader.cc:64] Could not load dynamic library 'libcudart.so.11.0'; dlerror: libcudart.so.11.0: cannot open shared object file: No such file or directory\n",
      "2022-09-12 01:30:53.298143: I tensorflow/stream_executor/cuda/cudart_stub.cc:29] Ignore above cudart dlerror if you do not have a GPU set up on your machine.\n"
     ]
    }
   ],
   "source": [
    "from pathlib import Path  # For defining dataset Paths\n",
    "import sys                # For include librep package\n",
    "\n",
    "# This must be done if librep is not installed via pip,\n",
    "# as this directory (examples) is appart from librep package root\n",
    "sys.path.append(\"..\")\n",
    "\n",
    "# Third party imports\n",
    "import pandas as pd\n",
    "import numpy as np\n",
    "\n",
    "# Librep imports\n",
    "from librep.utils.dataset import PandasDatasetsIO          # For quick load train, test and validation CSVs\n",
    "from librep.datasets.multimodal import PandasMultiModalDataset # Wrap CSVs to librep's `Dataset` interface"
   ]
  },
  {
   "cell_type": "markdown",
   "id": "76dc7e5c-c0b5-4e1c-be82-935aebb822f6",
   "metadata": {},
   "source": [
    "## Loading data\n",
    "Change the path to use in other datasets"
   ]
  },
  {
   "cell_type": "code",
   "execution_count": 2,
   "id": "58562d97-10a2-4081-a773-eb34a2da75f4",
   "metadata": {
    "tags": []
   },
   "outputs": [],
   "source": [
    "# Path for MotionSense balanced view resampled to 20Hz with the same activities (and labels numbers)\n",
    "# It is assumed that the directory will contain (train.csv, test.csv and validation.csv)\n",
    "dataset_path = Path(\"../data/views/MotionSense/resampled_view_20Hz\")"
   ]
  },
  {
   "cell_type": "markdown",
   "id": "25ad8212-0cb3-4080-8345-c771ca6eda24",
   "metadata": {},
   "source": [
    "Once paths is defined, we can load the CSV as pandas dataframes"
   ]
  },
  {
   "cell_type": "code",
   "execution_count": 3,
   "id": "00dc7ad4-7931-4985-be40-f29f3ddf0739",
   "metadata": {
    "tags": []
   },
   "outputs": [],
   "source": [
    "# MotionSense dataframes\n",
    "train, validation, test = PandasDatasetsIO(dataset_path).load()"
   ]
  },
  {
   "cell_type": "markdown",
   "id": "9e88a3de-5f0f-4799-b947-e16fab0fd7e2",
   "metadata": {},
   "source": [
    "Letś take a look in the train dataframes"
   ]
  },
  {
   "cell_type": "code",
   "execution_count": 4,
   "id": "6bf01fc5-59c6-4318-8e24-87b2b6e52b6e",
   "metadata": {
    "tags": []
   },
   "outputs": [
    {
     "data": {
      "text/html": [
       "<div>\n",
       "<style scoped>\n",
       "    .dataframe tbody tr th:only-of-type {\n",
       "        vertical-align: middle;\n",
       "    }\n",
       "\n",
       "    .dataframe tbody tr th {\n",
       "        vertical-align: top;\n",
       "    }\n",
       "\n",
       "    .dataframe thead th {\n",
       "        text-align: right;\n",
       "    }\n",
       "</style>\n",
       "<table border=\"1\" class=\"dataframe\">\n",
       "  <thead>\n",
       "    <tr style=\"text-align: right;\">\n",
       "      <th></th>\n",
       "      <th>Unnamed: 0</th>\n",
       "      <th>userAcceleration.x-0</th>\n",
       "      <th>userAcceleration.x-1</th>\n",
       "      <th>userAcceleration.x-2</th>\n",
       "      <th>userAcceleration.x-3</th>\n",
       "      <th>userAcceleration.x-4</th>\n",
       "      <th>userAcceleration.x-5</th>\n",
       "      <th>userAcceleration.x-6</th>\n",
       "      <th>userAcceleration.x-7</th>\n",
       "      <th>userAcceleration.x-8</th>\n",
       "      <th>...</th>\n",
       "      <th>rotationRate.z-55</th>\n",
       "      <th>rotationRate.z-56</th>\n",
       "      <th>rotationRate.z-57</th>\n",
       "      <th>rotationRate.z-58</th>\n",
       "      <th>rotationRate.z-59</th>\n",
       "      <th>activity code</th>\n",
       "      <th>length</th>\n",
       "      <th>trial_code</th>\n",
       "      <th>index</th>\n",
       "      <th>user</th>\n",
       "    </tr>\n",
       "  </thead>\n",
       "  <tbody>\n",
       "    <tr>\n",
       "      <th>0</th>\n",
       "      <td>0</td>\n",
       "      <td>-0.101581</td>\n",
       "      <td>-0.221355</td>\n",
       "      <td>-0.234016</td>\n",
       "      <td>-0.264552</td>\n",
       "      <td>-0.200991</td>\n",
       "      <td>-0.208962</td>\n",
       "      <td>-0.308408</td>\n",
       "      <td>0.089943</td>\n",
       "      <td>-0.382516</td>\n",
       "      <td>...</td>\n",
       "      <td>-0.099006</td>\n",
       "      <td>-0.171130</td>\n",
       "      <td>0.292608</td>\n",
       "      <td>0.932535</td>\n",
       "      <td>0.782147</td>\n",
       "      <td>0</td>\n",
       "      <td>150</td>\n",
       "      <td>1</td>\n",
       "      <td>150</td>\n",
       "      <td>11</td>\n",
       "    </tr>\n",
       "    <tr>\n",
       "      <th>1</th>\n",
       "      <td>1</td>\n",
       "      <td>-0.082527</td>\n",
       "      <td>0.201136</td>\n",
       "      <td>-0.017408</td>\n",
       "      <td>0.120404</td>\n",
       "      <td>-0.179599</td>\n",
       "      <td>-0.013960</td>\n",
       "      <td>-0.014233</td>\n",
       "      <td>0.253264</td>\n",
       "      <td>0.684288</td>\n",
       "      <td>...</td>\n",
       "      <td>-0.838042</td>\n",
       "      <td>0.241819</td>\n",
       "      <td>0.718420</td>\n",
       "      <td>0.336507</td>\n",
       "      <td>0.936563</td>\n",
       "      <td>0</td>\n",
       "      <td>150</td>\n",
       "      <td>1</td>\n",
       "      <td>900</td>\n",
       "      <td>12</td>\n",
       "    </tr>\n",
       "    <tr>\n",
       "      <th>2</th>\n",
       "      <td>2</td>\n",
       "      <td>0.108323</td>\n",
       "      <td>-0.045941</td>\n",
       "      <td>0.017410</td>\n",
       "      <td>0.010881</td>\n",
       "      <td>0.019035</td>\n",
       "      <td>-0.157225</td>\n",
       "      <td>0.016889</td>\n",
       "      <td>-0.076276</td>\n",
       "      <td>0.149599</td>\n",
       "      <td>...</td>\n",
       "      <td>0.497304</td>\n",
       "      <td>0.732298</td>\n",
       "      <td>0.667477</td>\n",
       "      <td>-0.025386</td>\n",
       "      <td>-0.037093</td>\n",
       "      <td>0</td>\n",
       "      <td>150</td>\n",
       "      <td>1</td>\n",
       "      <td>1050</td>\n",
       "      <td>21</td>\n",
       "    </tr>\n",
       "    <tr>\n",
       "      <th>3</th>\n",
       "      <td>3</td>\n",
       "      <td>-0.370755</td>\n",
       "      <td>-0.495850</td>\n",
       "      <td>0.205895</td>\n",
       "      <td>0.455012</td>\n",
       "      <td>0.113117</td>\n",
       "      <td>-0.327512</td>\n",
       "      <td>0.111760</td>\n",
       "      <td>0.001935</td>\n",
       "      <td>-0.844532</td>\n",
       "      <td>...</td>\n",
       "      <td>0.919908</td>\n",
       "      <td>0.037076</td>\n",
       "      <td>-0.993926</td>\n",
       "      <td>-0.182277</td>\n",
       "      <td>0.317828</td>\n",
       "      <td>0</td>\n",
       "      <td>150</td>\n",
       "      <td>2</td>\n",
       "      <td>150</td>\n",
       "      <td>17</td>\n",
       "    </tr>\n",
       "    <tr>\n",
       "      <th>4</th>\n",
       "      <td>4</td>\n",
       "      <td>-0.005683</td>\n",
       "      <td>0.452370</td>\n",
       "      <td>0.028475</td>\n",
       "      <td>0.402016</td>\n",
       "      <td>0.168378</td>\n",
       "      <td>0.353346</td>\n",
       "      <td>0.182684</td>\n",
       "      <td>0.042545</td>\n",
       "      <td>0.001530</td>\n",
       "      <td>...</td>\n",
       "      <td>-0.060734</td>\n",
       "      <td>0.496173</td>\n",
       "      <td>1.265226</td>\n",
       "      <td>1.502311</td>\n",
       "      <td>0.857408</td>\n",
       "      <td>0</td>\n",
       "      <td>150</td>\n",
       "      <td>11</td>\n",
       "      <td>450</td>\n",
       "      <td>21</td>\n",
       "    </tr>\n",
       "  </tbody>\n",
       "</table>\n",
       "<p>5 rows × 366 columns</p>\n",
       "</div>"
      ],
      "text/plain": [
       "   Unnamed: 0  userAcceleration.x-0  userAcceleration.x-1  \\\n",
       "0           0             -0.101581             -0.221355   \n",
       "1           1             -0.082527              0.201136   \n",
       "2           2              0.108323             -0.045941   \n",
       "3           3             -0.370755             -0.495850   \n",
       "4           4             -0.005683              0.452370   \n",
       "\n",
       "   userAcceleration.x-2  userAcceleration.x-3  userAcceleration.x-4  \\\n",
       "0             -0.234016             -0.264552             -0.200991   \n",
       "1             -0.017408              0.120404             -0.179599   \n",
       "2              0.017410              0.010881              0.019035   \n",
       "3              0.205895              0.455012              0.113117   \n",
       "4              0.028475              0.402016              0.168378   \n",
       "\n",
       "   userAcceleration.x-5  userAcceleration.x-6  userAcceleration.x-7  \\\n",
       "0             -0.208962             -0.308408              0.089943   \n",
       "1             -0.013960             -0.014233              0.253264   \n",
       "2             -0.157225              0.016889             -0.076276   \n",
       "3             -0.327512              0.111760              0.001935   \n",
       "4              0.353346              0.182684              0.042545   \n",
       "\n",
       "   userAcceleration.x-8  ...  rotationRate.z-55  rotationRate.z-56  \\\n",
       "0             -0.382516  ...          -0.099006          -0.171130   \n",
       "1              0.684288  ...          -0.838042           0.241819   \n",
       "2              0.149599  ...           0.497304           0.732298   \n",
       "3             -0.844532  ...           0.919908           0.037076   \n",
       "4              0.001530  ...          -0.060734           0.496173   \n",
       "\n",
       "   rotationRate.z-57  rotationRate.z-58  rotationRate.z-59  activity code  \\\n",
       "0           0.292608           0.932535           0.782147              0   \n",
       "1           0.718420           0.336507           0.936563              0   \n",
       "2           0.667477          -0.025386          -0.037093              0   \n",
       "3          -0.993926          -0.182277           0.317828              0   \n",
       "4           1.265226           1.502311           0.857408              0   \n",
       "\n",
       "   length  trial_code  index  user  \n",
       "0     150           1    150    11  \n",
       "1     150           1    900    12  \n",
       "2     150           1   1050    21  \n",
       "3     150           2    150    17  \n",
       "4     150          11    450    21  \n",
       "\n",
       "[5 rows x 366 columns]"
      ]
     },
     "execution_count": 4,
     "metadata": {},
     "output_type": "execute_result"
    }
   ],
   "source": [
    "train.head()"
   ]
  },
  {
   "cell_type": "markdown",
   "id": "5a58623b-b64f-4fba-9622-e906e7ea87a7",
   "metadata": {},
   "source": [
    "## Creating a Librep dataset from pandas dataframes\n",
    "\n",
    "Change the features to use in other datasets"
   ]
  },
  {
   "cell_type": "code",
   "execution_count": 5,
   "id": "b83aae79-f28a-41a7-a82b-87d45375a947",
   "metadata": {
    "tags": []
   },
   "outputs": [],
   "source": [
    "# MotionSense features to select\n",
    "features = [\n",
    "    \"userAcceleration.x\",\n",
    "    \"userAcceleration.y\",\n",
    "    \"userAcceleration.z\",\n",
    "    \"rotationRate.x\",\n",
    "    \"rotationRate.y\",\n",
    "    \"rotationRate.z\"\n",
    "]\n",
    "\n",
    "# Creating the datasets\n",
    "\n",
    "# Train\n",
    "train_dataset = PandasMultiModalDataset(\n",
    "    train,\n",
    "    feature_prefixes=features,\n",
    "    label_columns=\"activity code\",\n",
    "    as_array=True\n",
    ")\n",
    "\n",
    "# Validation\n",
    "validation_dataset = PandasMultiModalDataset(\n",
    "    validation,\n",
    "    feature_prefixes=features,\n",
    "    label_columns=\"activity code\",\n",
    "    as_array=True\n",
    ")\n",
    "\n",
    "# Test\n",
    "test_dataset = PandasMultiModalDataset(\n",
    "    test,\n",
    "    feature_prefixes=features,\n",
    "    label_columns=\"activity code\",\n",
    "    as_array=True\n",
    ")"
   ]
  },
  {
   "cell_type": "markdown",
   "id": "4e1a6ac9-c31d-48b4-8cb4-bb10e7a4b659",
   "metadata": {},
   "source": [
    "## Inspect sample"
   ]
  },
  {
   "cell_type": "code",
   "execution_count": 6,
   "id": "424755b0-8954-4b4f-b9d1-616ccdff7f08",
   "metadata": {
    "tags": []
   },
   "outputs": [
    {
     "name": "stdout",
     "output_type": "stream",
     "text": [
      "(array([-1.01580660e-01, -2.21355124e-01, -2.34015566e-01, -2.64551900e-01,\n",
      "       -2.00990656e-01, -2.08961907e-01, -3.08408466e-01,  8.99426214e-02,\n",
      "       -3.82515554e-01, -7.75533852e-02,  1.46318283e-01, -4.93770905e-02,\n",
      "       -2.09640201e-02, -3.17307189e-02, -3.74259464e-01, -1.52182310e-01,\n",
      "        1.05233312e-01,  1.11319758e-01, -5.38330158e-02, -3.14136807e-01,\n",
      "       -2.08472528e-01, -3.23492282e-01, -1.91815150e-01, -1.88533126e-01,\n",
      "       -4.71212234e-01, -3.96779870e-01,  5.07970584e-01,  5.27352561e-02,\n",
      "        1.59006497e-01,  3.15998485e-02, -1.98139909e-01,  2.08691866e-01,\n",
      "       -1.08432318e-01, -4.06142257e-01,  1.66143634e-01,  7.70059198e-06,\n",
      "       -5.77953517e-02, -5.52501402e-02, -2.20866812e-01, -3.14509600e-01,\n",
      "        2.84967949e-01,  1.34890424e-01,  6.60941177e-02,  6.91335728e-02,\n",
      "       -3.98362725e-01,  6.46615090e-02,  1.24072879e-01, -2.26239499e-01,\n",
      "       -3.26437858e-01, -1.39575067e-01, -1.09824066e-02, -7.93132478e-02,\n",
      "       -4.57364775e-01, -1.14570859e-01,  2.62746376e-01, -1.53196322e-01,\n",
      "        3.57891496e-01, -2.31041538e-01, -2.26239680e-01,  3.22787316e-01,\n",
      "       -1.46334906e-01,  8.85522704e-02,  8.55083328e-03,  1.92003856e-01,\n",
      "        4.84875752e-02,  5.62213912e-01,  5.08423413e-01,  7.94423779e-02,\n",
      "        9.57242358e-02,  7.05699046e-01, -3.16161748e-01, -2.76275219e-01,\n",
      "       -5.00447122e-01,  2.05919315e-01,  3.20092457e-02,  3.22844607e-01,\n",
      "        2.79613121e-02,  5.55550653e-02,  2.98957750e-01, -6.05720268e-02,\n",
      "       -1.27392420e-01, -2.32632385e-01, -5.30753386e-02, -4.29417388e-01,\n",
      "        2.75018848e-01,  6.94440362e-01, -5.83105835e-02,  7.75377140e-02,\n",
      "        6.85940254e-02, -6.60282495e-01, -4.76725597e-01,  1.29841588e-01,\n",
      "        3.97188962e-02,  1.91233214e-01,  9.44704921e-01, -1.88568839e-01,\n",
      "        1.29057635e-01,  1.67564825e-01, -3.12998490e-01,  6.75581641e-02,\n",
      "        1.29687436e-01, -1.48684287e-01,  1.87015967e-01, -3.78468368e-01,\n",
      "       -3.29381797e-01,  5.50976484e-02,  7.34289761e-02, -1.85569828e-01,\n",
      "        3.05285834e-01,  1.01976136e-01, -7.30634292e-01,  3.31446235e-01,\n",
      "       -1.75829122e-01,  1.20788012e-01, -3.17363418e-01, -2.34360971e-01,\n",
      "        3.23183729e-01, -3.32131843e-01, -2.23717980e-01,  4.23661484e-01,\n",
      "        1.58932011e-01,  1.81764923e-02,  1.79522425e-01, -8.99299538e-02,\n",
      "        4.67477579e-02,  5.90542093e-02,  1.45436901e-01, -1.25674985e-01,\n",
      "       -3.68135485e-01, -3.09850335e-01, -3.42556173e-01, -3.32373703e-01,\n",
      "       -2.43294146e-01,  2.23142586e-01,  4.96597558e-01, -4.16885775e-01,\n",
      "       -5.88734003e-01, -1.96132523e-01,  5.93247139e-03, -4.74342945e-02,\n",
      "        3.75444339e-02,  1.73737388e-01,  8.50837855e-02,  4.72616579e-02,\n",
      "       -2.14709370e-02, -1.44517005e-01, -1.82748073e-01, -7.74145937e-02,\n",
      "       -2.68040751e-01,  3.06441308e-02, -2.30167919e-02, -2.08336555e-01,\n",
      "        2.61735673e-01,  2.78618703e-01,  2.25079690e-01, -2.45632175e-01,\n",
      "        7.74222521e-02,  4.01038163e-01,  7.22454080e-02, -5.17124267e-02,\n",
      "       -2.62726737e-01, -3.33545881e-02, -1.33117457e-01, -6.23470790e-02,\n",
      "        2.79909447e-01, -2.86316818e-01,  3.39644788e-01, -3.40782363e-02,\n",
      "       -1.84593484e-01, -2.35029173e-01, -3.54189996e-02,  2.75756255e-01,\n",
      "       -7.88133478e-03, -8.18289079e-02, -4.34027643e-01,  4.25208529e-02,\n",
      "       -1.44986577e-01,  2.60010504e-01, -5.39591558e-02, -2.26363069e-01,\n",
      "        6.58001812e-01,  6.47520721e-01,  8.43076888e-01,  8.82357900e-01,\n",
      "        3.89599108e-01, -3.85128343e-01, -2.05312782e+00, -3.12097226e+00,\n",
      "       -2.68328049e+00, -1.70933881e+00, -1.39348207e+00, -9.22572997e-01,\n",
      "       -1.06807526e-01,  5.96290198e-01, -5.86668657e-01, -7.01089787e-01,\n",
      "       -1.83144766e-02, -2.56665483e-01,  1.95403604e-01,  9.25721337e-01,\n",
      "        3.69459299e-01,  1.87217559e-02, -6.33738588e-01, -8.05374314e-01,\n",
      "       -6.86056541e-01, -2.08162452e+00, -2.47300075e+00, -5.54419829e-01,\n",
      "        5.48566430e-01,  1.61116508e+00,  2.31028226e+00,  1.12496802e+00,\n",
      "        1.37367488e+00,  4.28165290e-01, -1.37633297e+00, -1.64737052e-01,\n",
      "        3.95031893e-01, -1.80764741e-02, -3.21018804e-01, -1.93763610e+00,\n",
      "       -3.00961819e+00, -1.62990919e+00,  1.34864924e-01,  1.38446021e+00,\n",
      "        3.01330594e+00,  2.22084045e+00,  7.66003747e-01,  4.90485222e-01,\n",
      "       -6.45242964e-01, -4.60000865e-01, -2.12304692e-01, -1.65776356e-02,\n",
      "       -3.05884020e-01, -2.40287780e+00, -3.40834682e+00, -1.24053107e+00,\n",
      "        7.82607625e-01,  1.73378975e+00,  2.73872154e+00,  1.88386161e+00,\n",
      "       -1.67775128e+00, -7.81839336e-01, -9.44709996e-01, -9.81273246e-02,\n",
      "       -7.06070877e-01, -6.07058025e-01, -5.51745554e-01, -7.77289609e-02,\n",
      "       -4.11210189e-01, -1.39002398e+00, -1.83228025e+00, -2.30091613e+00,\n",
      "       -2.05271256e+00, -2.51914093e+00, -1.59459604e+00, -1.48848843e-01,\n",
      "       -6.11760894e-01, -1.79558577e+00, -1.68995279e+00, -7.21257800e-01,\n",
      "       -9.16930820e-01, -3.86299920e-01,  4.45735635e-01,  3.17914567e-01,\n",
      "        7.23119649e-01,  2.43014169e-01, -8.27138569e-01, -1.27271169e-01,\n",
      "        9.66052546e-03, -1.23697915e+00,  4.51824093e-01, -1.26290753e+00,\n",
      "       -2.28836471e-01,  3.40964592e-01, -1.07485217e-01,  2.96759028e-01,\n",
      "       -3.19023258e-02,  2.27457622e-01,  1.35834202e+00,  1.31615591e+00,\n",
      "        3.12001058e-01, -9.12945538e-02,  1.31572898e+00, -1.02699324e+00,\n",
      "       -6.22943151e-01, -1.46906831e+00, -1.21294875e+00,  1.33602609e+00,\n",
      "       -5.33305957e-01,  4.24090294e-01, -4.13700767e-01,  7.81880435e-01,\n",
      "        1.20309684e+00,  1.08760609e+00, -5.81022298e-01,  2.86756363e-01,\n",
      "        8.22188239e-01, -1.80405809e+00,  2.14708779e-01, -2.43589116e+00,\n",
      "       -6.20286949e-02,  1.93204780e-01,  2.93168766e-01,  3.47423005e-01,\n",
      "       -1.59719443e-01, -1.91627609e-01, -7.58065807e-01, -4.88422694e-01,\n",
      "       -8.42653941e-01, -1.44536778e+00, -1.62087047e+00, -9.72207926e-01,\n",
      "       -8.66922053e-02,  2.95189721e-01, -1.94675944e-01, -9.82614536e-01,\n",
      "       -1.09186019e+00,  4.08893958e-01,  4.47616543e-02, -2.29037803e-01,\n",
      "       -2.02452582e-01, -2.47667817e-01, -3.90696207e-01, -1.56112774e-01,\n",
      "        3.65484514e-02, -1.20340313e+00, -1.56254186e+00, -5.82186156e-01,\n",
      "       -4.92365507e-01,  1.18715614e-01,  1.25031708e+00,  1.16329377e+00,\n",
      "       -3.14874895e-01, -1.03329989e+00, -4.86244475e-01, -3.95614448e-01,\n",
      "        2.12943920e-01,  3.94969693e-01,  5.15698211e-01,  1.31120917e-01,\n",
      "       -6.07191101e-01, -4.94056801e-01,  3.47744153e-02,  5.22219270e-01,\n",
      "        1.24516184e+00,  7.58566082e-01, -8.85370596e-02, -8.81665241e-01,\n",
      "       -1.02429759e-01, -8.23865007e-01,  3.38629534e-01,  6.30161988e-01,\n",
      "        1.01321173e-02, -3.57627170e-01, -2.70420804e-01, -9.90058650e-02,\n",
      "       -1.71129639e-01,  2.92608050e-01,  9.32535001e-01,  7.82146995e-01]), 0)\n"
     ]
    }
   ],
   "source": [
    "# Lets print the first sample of kh_train dataset.\n",
    "# Is a tuple, with an vector of 1800 elements as first element and the label as second\n",
    "x = train_dataset[0]\n",
    "print(x)"
   ]
  },
  {
   "cell_type": "code",
   "execution_count": 7,
   "id": "e5ed5b71-6cdb-4c3f-9e08-d2e21a26520e",
   "metadata": {
    "tags": []
   },
   "outputs": [
    {
     "name": "stdout",
     "output_type": "stream",
     "text": [
      "The sample 0: [-1.01580660e-01 -2.21355124e-01 -2.34015566e-01 -2.64551900e-01\n",
      " -2.00990656e-01 -2.08961907e-01 -3.08408466e-01  8.99426214e-02\n",
      " -3.82515554e-01 -7.75533852e-02  1.46318283e-01 -4.93770905e-02\n",
      " -2.09640201e-02 -3.17307189e-02 -3.74259464e-01 -1.52182310e-01\n",
      "  1.05233312e-01  1.11319758e-01 -5.38330158e-02 -3.14136807e-01\n",
      " -2.08472528e-01 -3.23492282e-01 -1.91815150e-01 -1.88533126e-01\n",
      " -4.71212234e-01 -3.96779870e-01  5.07970584e-01  5.27352561e-02\n",
      "  1.59006497e-01  3.15998485e-02 -1.98139909e-01  2.08691866e-01\n",
      " -1.08432318e-01 -4.06142257e-01  1.66143634e-01  7.70059198e-06\n",
      " -5.77953517e-02 -5.52501402e-02 -2.20866812e-01 -3.14509600e-01\n",
      "  2.84967949e-01  1.34890424e-01  6.60941177e-02  6.91335728e-02\n",
      " -3.98362725e-01  6.46615090e-02  1.24072879e-01 -2.26239499e-01\n",
      " -3.26437858e-01 -1.39575067e-01 -1.09824066e-02 -7.93132478e-02\n",
      " -4.57364775e-01 -1.14570859e-01  2.62746376e-01 -1.53196322e-01\n",
      "  3.57891496e-01 -2.31041538e-01 -2.26239680e-01  3.22787316e-01\n",
      " -1.46334906e-01  8.85522704e-02  8.55083328e-03  1.92003856e-01\n",
      "  4.84875752e-02  5.62213912e-01  5.08423413e-01  7.94423779e-02\n",
      "  9.57242358e-02  7.05699046e-01 -3.16161748e-01 -2.76275219e-01\n",
      " -5.00447122e-01  2.05919315e-01  3.20092457e-02  3.22844607e-01\n",
      "  2.79613121e-02  5.55550653e-02  2.98957750e-01 -6.05720268e-02\n",
      " -1.27392420e-01 -2.32632385e-01 -5.30753386e-02 -4.29417388e-01\n",
      "  2.75018848e-01  6.94440362e-01 -5.83105835e-02  7.75377140e-02\n",
      "  6.85940254e-02 -6.60282495e-01 -4.76725597e-01  1.29841588e-01\n",
      "  3.97188962e-02  1.91233214e-01  9.44704921e-01 -1.88568839e-01\n",
      "  1.29057635e-01  1.67564825e-01 -3.12998490e-01  6.75581641e-02\n",
      "  1.29687436e-01 -1.48684287e-01  1.87015967e-01 -3.78468368e-01\n",
      " -3.29381797e-01  5.50976484e-02  7.34289761e-02 -1.85569828e-01\n",
      "  3.05285834e-01  1.01976136e-01 -7.30634292e-01  3.31446235e-01\n",
      " -1.75829122e-01  1.20788012e-01 -3.17363418e-01 -2.34360971e-01\n",
      "  3.23183729e-01 -3.32131843e-01 -2.23717980e-01  4.23661484e-01\n",
      "  1.58932011e-01  1.81764923e-02  1.79522425e-01 -8.99299538e-02\n",
      "  4.67477579e-02  5.90542093e-02  1.45436901e-01 -1.25674985e-01\n",
      " -3.68135485e-01 -3.09850335e-01 -3.42556173e-01 -3.32373703e-01\n",
      " -2.43294146e-01  2.23142586e-01  4.96597558e-01 -4.16885775e-01\n",
      " -5.88734003e-01 -1.96132523e-01  5.93247139e-03 -4.74342945e-02\n",
      "  3.75444339e-02  1.73737388e-01  8.50837855e-02  4.72616579e-02\n",
      " -2.14709370e-02 -1.44517005e-01 -1.82748073e-01 -7.74145937e-02\n",
      " -2.68040751e-01  3.06441308e-02 -2.30167919e-02 -2.08336555e-01\n",
      "  2.61735673e-01  2.78618703e-01  2.25079690e-01 -2.45632175e-01\n",
      "  7.74222521e-02  4.01038163e-01  7.22454080e-02 -5.17124267e-02\n",
      " -2.62726737e-01 -3.33545881e-02 -1.33117457e-01 -6.23470790e-02\n",
      "  2.79909447e-01 -2.86316818e-01  3.39644788e-01 -3.40782363e-02\n",
      " -1.84593484e-01 -2.35029173e-01 -3.54189996e-02  2.75756255e-01\n",
      " -7.88133478e-03 -8.18289079e-02 -4.34027643e-01  4.25208529e-02\n",
      " -1.44986577e-01  2.60010504e-01 -5.39591558e-02 -2.26363069e-01\n",
      "  6.58001812e-01  6.47520721e-01  8.43076888e-01  8.82357900e-01\n",
      "  3.89599108e-01 -3.85128343e-01 -2.05312782e+00 -3.12097226e+00\n",
      " -2.68328049e+00 -1.70933881e+00 -1.39348207e+00 -9.22572997e-01\n",
      " -1.06807526e-01  5.96290198e-01 -5.86668657e-01 -7.01089787e-01\n",
      " -1.83144766e-02 -2.56665483e-01  1.95403604e-01  9.25721337e-01\n",
      "  3.69459299e-01  1.87217559e-02 -6.33738588e-01 -8.05374314e-01\n",
      " -6.86056541e-01 -2.08162452e+00 -2.47300075e+00 -5.54419829e-01\n",
      "  5.48566430e-01  1.61116508e+00  2.31028226e+00  1.12496802e+00\n",
      "  1.37367488e+00  4.28165290e-01 -1.37633297e+00 -1.64737052e-01\n",
      "  3.95031893e-01 -1.80764741e-02 -3.21018804e-01 -1.93763610e+00\n",
      " -3.00961819e+00 -1.62990919e+00  1.34864924e-01  1.38446021e+00\n",
      "  3.01330594e+00  2.22084045e+00  7.66003747e-01  4.90485222e-01\n",
      " -6.45242964e-01 -4.60000865e-01 -2.12304692e-01 -1.65776356e-02\n",
      " -3.05884020e-01 -2.40287780e+00 -3.40834682e+00 -1.24053107e+00\n",
      "  7.82607625e-01  1.73378975e+00  2.73872154e+00  1.88386161e+00\n",
      " -1.67775128e+00 -7.81839336e-01 -9.44709996e-01 -9.81273246e-02\n",
      " -7.06070877e-01 -6.07058025e-01 -5.51745554e-01 -7.77289609e-02\n",
      " -4.11210189e-01 -1.39002398e+00 -1.83228025e+00 -2.30091613e+00\n",
      " -2.05271256e+00 -2.51914093e+00 -1.59459604e+00 -1.48848843e-01\n",
      " -6.11760894e-01 -1.79558577e+00 -1.68995279e+00 -7.21257800e-01\n",
      " -9.16930820e-01 -3.86299920e-01  4.45735635e-01  3.17914567e-01\n",
      "  7.23119649e-01  2.43014169e-01 -8.27138569e-01 -1.27271169e-01\n",
      "  9.66052546e-03 -1.23697915e+00  4.51824093e-01 -1.26290753e+00\n",
      " -2.28836471e-01  3.40964592e-01 -1.07485217e-01  2.96759028e-01\n",
      " -3.19023258e-02  2.27457622e-01  1.35834202e+00  1.31615591e+00\n",
      "  3.12001058e-01 -9.12945538e-02  1.31572898e+00 -1.02699324e+00\n",
      " -6.22943151e-01 -1.46906831e+00 -1.21294875e+00  1.33602609e+00\n",
      " -5.33305957e-01  4.24090294e-01 -4.13700767e-01  7.81880435e-01\n",
      "  1.20309684e+00  1.08760609e+00 -5.81022298e-01  2.86756363e-01\n",
      "  8.22188239e-01 -1.80405809e+00  2.14708779e-01 -2.43589116e+00\n",
      " -6.20286949e-02  1.93204780e-01  2.93168766e-01  3.47423005e-01\n",
      " -1.59719443e-01 -1.91627609e-01 -7.58065807e-01 -4.88422694e-01\n",
      " -8.42653941e-01 -1.44536778e+00 -1.62087047e+00 -9.72207926e-01\n",
      " -8.66922053e-02  2.95189721e-01 -1.94675944e-01 -9.82614536e-01\n",
      " -1.09186019e+00  4.08893958e-01  4.47616543e-02 -2.29037803e-01\n",
      " -2.02452582e-01 -2.47667817e-01 -3.90696207e-01 -1.56112774e-01\n",
      "  3.65484514e-02 -1.20340313e+00 -1.56254186e+00 -5.82186156e-01\n",
      " -4.92365507e-01  1.18715614e-01  1.25031708e+00  1.16329377e+00\n",
      " -3.14874895e-01 -1.03329989e+00 -4.86244475e-01 -3.95614448e-01\n",
      "  2.12943920e-01  3.94969693e-01  5.15698211e-01  1.31120917e-01\n",
      " -6.07191101e-01 -4.94056801e-01  3.47744153e-02  5.22219270e-01\n",
      "  1.24516184e+00  7.58566082e-01 -8.85370596e-02 -8.81665241e-01\n",
      " -1.02429759e-01 -8.23865007e-01  3.38629534e-01  6.30161988e-01\n",
      "  1.01321173e-02 -3.57627170e-01 -2.70420804e-01 -9.90058650e-02\n",
      " -1.71129639e-01  2.92608050e-01  9.32535001e-01  7.82146995e-01]\n",
      "Shape of sample 0: (360,)\n",
      "The label of sample 0: 0\n"
     ]
    }
   ],
   "source": [
    "# Inspecting sample\n",
    "print(f\"The sample 0: {x[0]}\")\n",
    "print(f\"Shape of sample 0: {x[0].shape}\")\n",
    "print(f\"The label of sample 0: {x[1]}\")"
   ]
  },
  {
   "cell_type": "markdown",
   "id": "e044f068-d9a0-4ede-a83c-da1d99c97b38",
   "metadata": {},
   "source": [
    "## Fourier Transform"
   ]
  },
  {
   "cell_type": "code",
   "execution_count": 8,
   "id": "3dcdbe38-67ed-4fa0-9fec-003ad5650f7d",
   "metadata": {
    "tags": []
   },
   "outputs": [],
   "source": [
    "from librep.datasets.multimodal import TransformMultiModalDataset\n",
    "from librep.transforms.fft import FFT"
   ]
  },
  {
   "cell_type": "code",
   "execution_count": 9,
   "id": "8ff029d9-ac41-4a29-9170-7d547fac4684",
   "metadata": {
    "tags": []
   },
   "outputs": [],
   "source": [
    "fft_transform = FFT(centered = True)\n",
    "transformer = TransformMultiModalDataset(transforms=[fft_transform], new_window_name_prefix=\"fft.\")"
   ]
  },
  {
   "cell_type": "markdown",
   "id": "14432baa-cec3-4b58-bd91-cb24ac2cba51",
   "metadata": {},
   "source": [
    "### Use FFT in MotionSense"
   ]
  },
  {
   "cell_type": "code",
   "execution_count": 10,
   "id": "b3f13126-ca3c-416b-ac68-5d40e46050c3",
   "metadata": {
    "tags": []
   },
   "outputs": [],
   "source": [
    "train_dataset_fft = transformer(train_dataset)\n",
    "validation_dataset_fft = transformer(validation_dataset)\n",
    "test_dataset_fft = transformer(test_dataset)"
   ]
  },
  {
   "cell_type": "code",
   "execution_count": 11,
   "id": "e06eb8db-9ee0-400c-8d31-13495c9a567b",
   "metadata": {
    "tags": []
   },
   "outputs": [
    {
     "data": {
      "text/plain": [
       "array([[-0.10158066, -0.22135512, -0.23401557, ...,  0.29260805,\n",
       "         0.932535  ,  0.78214699],\n",
       "       [-0.08252731,  0.20113614, -0.017408  , ...,  0.71842028,\n",
       "         0.33650671,  0.93656304],\n",
       "       [ 0.10832292, -0.04594076,  0.01741017, ...,  0.66747733,\n",
       "        -0.0253858 , -0.03709332],\n",
       "       ...,\n",
       "       [ 0.19266143,  0.10970878,  0.28033436, ..., -0.39853684,\n",
       "        -0.17416418, -0.04600792],\n",
       "       [ 0.69634911,  1.57399343, -0.05390784, ...,  2.05972956,\n",
       "         3.92681916,  1.76309344],\n",
       "       [-0.69489245,  0.10504003,  0.50498891, ..., -2.74187909,\n",
       "        -3.1827423 , -3.9243559 ]])"
      ]
     },
     "execution_count": 11,
     "metadata": {},
     "output_type": "execute_result"
    }
   ],
   "source": [
    "train_dataset[:][0]"
   ]
  },
  {
   "cell_type": "code",
   "execution_count": 12,
   "id": "17b3fd29-8045-47d8-b6df-096c93cce0e3",
   "metadata": {},
   "outputs": [
    {
     "data": {
      "text/plain": [
       "array([[ 5.2349672 ,  1.31500631,  0.62294979, ...,  1.51949579,\n",
       "         1.40946664,  2.67359214],\n",
       "       [ 0.4195556 ,  1.47781888,  0.7555246 , ...,  3.16244675,\n",
       "         1.15978979,  1.87787114],\n",
       "       [ 2.1285244 ,  1.03841388,  0.40157264, ...,  0.31071895,\n",
       "         2.31689217,  1.23138236],\n",
       "       ...,\n",
       "       [ 1.42114   ,  0.65160823,  1.25705442, ...,  1.84423902,\n",
       "         3.08233644,  6.43174028],\n",
       "       [ 4.8760868 ,  3.38651808,  3.43928376, ..., 10.83724915,\n",
       "        19.81342536,  2.8192645 ],\n",
       "       [ 8.1994832 ,  1.53695342,  3.1026772 , ...,  6.69953404,\n",
       "        20.53527595,  6.08226567]])"
      ]
     },
     "execution_count": 12,
     "metadata": {},
     "output_type": "execute_result"
    }
   ],
   "source": [
    "train_dataset_fft[:][0]"
   ]
  },
  {
   "cell_type": "markdown",
   "id": "e4387db2-e8c0-4d6c-9534-32266dd829f4",
   "metadata": {},
   "source": [
    "## Train and evaluate Random Forest classifier"
   ]
  },
  {
   "cell_type": "code",
   "execution_count": 13,
   "id": "a4cac18a-20d2-4c42-8805-7d02c4dabba0",
   "metadata": {},
   "outputs": [],
   "source": [
    "from librep.utils.workflow import SimpleTrainEvalWorkflow, MultiRunWorkflow\n",
    "from librep.estimators import RandomForestClassifier\n",
    "from librep.metrics.report import ClassificationReport\n",
    "import yaml\n",
    "\n",
    "reporter = ClassificationReport(use_accuracy=True, use_f1_score=True, use_classification_report=False, use_confusion_matrix=False, plot_confusion_matrix=False)\n",
    "experiment = SimpleTrainEvalWorkflow(estimator=RandomForestClassifier, estimator_creation_kwags ={'n_estimators':100} , do_not_instantiate=False, do_fit=True, evaluator=reporter)\n",
    "multi_run_experiment = MultiRunWorkflow(workflow=experiment, num_runs=3, debug=False)"
   ]
  },
  {
   "cell_type": "code",
   "execution_count": 14,
   "id": "c80ec130-2533-4e34-9c9c-deda4a50eb0b",
   "metadata": {},
   "outputs": [
    {
     "name": "stdout",
     "output_type": "stream",
     "text": [
      "runs:\n",
      "-   end: 1662946259.7251973\n",
      "    result:\n",
      "    -   accuracy: 0.7941176470588235\n",
      "        f1 score (macro): 0.7945803591043178\n",
      "        f1 score (micro): 0.7941176470588235\n",
      "        f1 score (weighted): 0.7936549350133294\n",
      "    run id: 1\n",
      "    start: 1662946255.7958398\n",
      "    time taken: 3.9293575286865234\n",
      "-   end: 1662946263.6127312\n",
      "    result:\n",
      "    -   accuracy: 0.8058823529411765\n",
      "        f1 score (macro): 0.8052478115067453\n",
      "        f1 score (micro): 0.8058823529411765\n",
      "        f1 score (weighted): 0.8065168943756078\n",
      "    run id: 2\n",
      "    start: 1662946259.7251995\n",
      "    time taken: 3.8875317573547363\n",
      "-   end: 1662946267.4796536\n",
      "    result:\n",
      "    -   accuracy: 0.807843137254902\n",
      "        f1 score (macro): 0.8083873125009667\n",
      "        f1 score (micro): 0.807843137254902\n",
      "        f1 score (weighted): 0.8072989620088372\n",
      "    run id: 3\n",
      "    start: 1662946263.6127326\n",
      "    time taken: 3.8669209480285645\n",
      "\n"
     ]
    }
   ],
   "source": [
    "combined_train_dset = PandasMultiModalDataset(\n",
    "    pd.concat([train, validation]),\n",
    "    feature_prefixes=features,\n",
    "    label_columns=\"activity code\",\n",
    "    as_array=True\n",
    ")\n",
    "\n",
    "\n",
    "result = multi_run_experiment(combined_train_dset, test_dataset)\n",
    "print(yaml.dump(result, sort_keys=True, indent=4))"
   ]
  },
  {
   "cell_type": "code",
   "execution_count": 15,
   "id": "8144d32a-0f46-4019-a8b8-94f925102dab",
   "metadata": {},
   "outputs": [
    {
     "name": "stdout",
     "output_type": "stream",
     "text": [
      "runs:\n",
      "-   end: 1662946270.1721408\n",
      "    result:\n",
      "    -   accuracy: 0.8401960784313726\n",
      "        f1 score (macro): 0.8450572294039255\n",
      "        f1 score (micro): 0.8401960784313726\n",
      "        f1 score (weighted): 0.8353349274588198\n",
      "    run id: 1\n",
      "    start: 1662946267.6317942\n",
      "    time taken: 2.540346622467041\n",
      "-   end: 1662946272.7333715\n",
      "    result:\n",
      "    -   accuracy: 0.846078431372549\n",
      "        f1 score (macro): 0.8506697695433227\n",
      "        f1 score (micro): 0.846078431372549\n",
      "        f1 score (weighted): 0.8414870932017754\n",
      "    run id: 2\n",
      "    start: 1662946270.1721425\n",
      "    time taken: 2.5612289905548096\n",
      "-   end: 1662946275.2740645\n",
      "    result:\n",
      "    -   accuracy: 0.8441176470588235\n",
      "        f1 score (macro): 0.8487874396226154\n",
      "        f1 score (micro): 0.8441176470588234\n",
      "        f1 score (weighted): 0.8394478544950316\n",
      "    run id: 3\n",
      "    start: 1662946272.7333732\n",
      "    time taken: 2.540691375732422\n",
      "\n"
     ]
    }
   ],
   "source": [
    "combined_train_dset_fft = transformer(combined_train_dset)\n",
    "\n",
    "result = multi_run_experiment(combined_train_dset_fft, test_dataset_fft)\n",
    "print(yaml.dump(result, sort_keys=True, indent=4))"
   ]
  },
  {
   "cell_type": "markdown",
   "id": "f1d5da25-a1dd-472f-9ed9-a3f456022c31",
   "metadata": {},
   "source": [
    "## Train and evaluate Support Vector Machine classifier"
   ]
  },
  {
   "cell_type": "code",
   "execution_count": 16,
   "id": "009a6764-6b45-4d88-a437-b58bbcc7debc",
   "metadata": {},
   "outputs": [
    {
     "name": "stdout",
     "output_type": "stream",
     "text": [
      "runs:\n",
      "-   end: 1662946277.0871634\n",
      "    result:\n",
      "    -   accuracy: 0.6166666666666667\n",
      "        f1 score (macro): 0.5991285350102015\n",
      "        f1 score (micro): 0.6166666666666667\n",
      "        f1 score (weighted): 0.6342047983231319\n",
      "    run id: 1\n",
      "    start: 1662946275.2794306\n",
      "    time taken: 1.8077328205108643\n",
      "-   end: 1662946278.9083006\n",
      "    result:\n",
      "    -   accuracy: 0.6166666666666667\n",
      "        f1 score (macro): 0.5991285350102015\n",
      "        f1 score (micro): 0.6166666666666667\n",
      "        f1 score (weighted): 0.6342047983231319\n",
      "    run id: 2\n",
      "    start: 1662946277.0871654\n",
      "    time taken: 1.8211352825164795\n",
      "-   end: 1662946280.6965876\n",
      "    result:\n",
      "    -   accuracy: 0.6166666666666667\n",
      "        f1 score (macro): 0.5991285350102015\n",
      "        f1 score (micro): 0.6166666666666667\n",
      "        f1 score (weighted): 0.6342047983231319\n",
      "    run id: 3\n",
      "    start: 1662946278.9083028\n",
      "    time taken: 1.7882847785949707\n",
      "\n"
     ]
    }
   ],
   "source": [
    "#from librep.estimators import SVC\n",
    "from sklearn.svm import SVC\n",
    "\n",
    "experiment = SimpleTrainEvalWorkflow(estimator=SVC, estimator_creation_kwags ={'C':3.0, 'kernel':\"rbf\"} , do_not_instantiate=False, do_fit=True, evaluator=reporter)\n",
    "multi_run_experiment = MultiRunWorkflow(workflow=experiment, num_runs=3, debug=False)\n",
    "\n",
    "result = multi_run_experiment(combined_train_dset, test_dataset)\n",
    "print(yaml.dump(result, sort_keys=True, indent=4))"
   ]
  },
  {
   "cell_type": "code",
   "execution_count": 17,
   "id": "8e2d9c26-f8f7-42aa-9d80-d9f103a2f06e",
   "metadata": {},
   "outputs": [
    {
     "name": "stdout",
     "output_type": "stream",
     "text": [
      "runs:\n",
      "-   end: 1662946281.1805005\n",
      "    result:\n",
      "    -   accuracy: 0.8303921568627451\n",
      "        f1 score (macro): 0.8346168154346197\n",
      "        f1 score (micro): 0.8303921568627451\n",
      "        f1 score (weighted): 0.8261674982908706\n",
      "    run id: 1\n",
      "    start: 1662946280.7017505\n",
      "    time taken: 0.47874999046325684\n",
      "-   end: 1662946281.6543446\n",
      "    result:\n",
      "    -   accuracy: 0.8303921568627451\n",
      "        f1 score (macro): 0.8346168154346197\n",
      "        f1 score (micro): 0.8303921568627451\n",
      "        f1 score (weighted): 0.8261674982908706\n",
      "    run id: 2\n",
      "    start: 1662946281.1805022\n",
      "    time taken: 0.4738423824310303\n",
      "-   end: 1662946282.1283693\n",
      "    result:\n",
      "    -   accuracy: 0.8303921568627451\n",
      "        f1 score (macro): 0.8346168154346197\n",
      "        f1 score (micro): 0.8303921568627451\n",
      "        f1 score (weighted): 0.8261674982908706\n",
      "    run id: 3\n",
      "    start: 1662946281.6543462\n",
      "    time taken: 0.47402310371398926\n",
      "\n"
     ]
    }
   ],
   "source": [
    "result = multi_run_experiment(combined_train_dset_fft, test_dataset_fft)\n",
    "print(yaml.dump(result, sort_keys=True, indent=4))"
   ]
  },
  {
   "cell_type": "markdown",
   "id": "2cf2bcb7-eb7c-46f5-9542-b873ae14f5af",
   "metadata": {},
   "source": [
    "## Train and evaluate K Neighbors Classifier classifier"
   ]
  },
  {
   "cell_type": "code",
   "execution_count": 18,
   "id": "267f4b44-2bc5-40a2-bae2-85ddbd9697c5",
   "metadata": {},
   "outputs": [
    {
     "name": "stdout",
     "output_type": "stream",
     "text": [
      "runs:\n",
      "-   end: 1662946282.318519\n",
      "    result:\n",
      "    -   accuracy: 0.5813725490196079\n",
      "        f1 score (macro): 0.57652308813541\n",
      "        f1 score (micro): 0.5813725490196079\n",
      "        f1 score (weighted): 0.5862220099038056\n",
      "    run id: 1\n",
      "    start: 1662946282.1341512\n",
      "    time taken: 0.18436789512634277\n",
      "-   end: 1662946282.3659525\n",
      "    result:\n",
      "    -   accuracy: 0.5813725490196079\n",
      "        f1 score (macro): 0.57652308813541\n",
      "        f1 score (micro): 0.5813725490196079\n",
      "        f1 score (weighted): 0.5862220099038056\n",
      "    run id: 2\n",
      "    start: 1662946282.318521\n",
      "    time taken: 0.04743146896362305\n",
      "-   end: 1662946282.4086316\n",
      "    result:\n",
      "    -   accuracy: 0.5813725490196079\n",
      "        f1 score (macro): 0.57652308813541\n",
      "        f1 score (micro): 0.5813725490196079\n",
      "        f1 score (weighted): 0.5862220099038056\n",
      "    run id: 3\n",
      "    start: 1662946282.3659544\n",
      "    time taken: 0.04267716407775879\n",
      "\n"
     ]
    }
   ],
   "source": [
    "#from librep.estimators import KNeighborsClassifier\n",
    "from sklearn.neighbors import KNeighborsClassifier\n",
    "\n",
    "experiment = SimpleTrainEvalWorkflow(estimator=KNeighborsClassifier, estimator_creation_kwags ={'n_neighbors' :1} , do_not_instantiate=False, do_fit=True, evaluator=reporter)\n",
    "multi_run_experiment = MultiRunWorkflow(workflow=experiment, num_runs=3, debug=False)\n",
    "\n",
    "result = multi_run_experiment(combined_train_dset, test_dataset)\n",
    "print(yaml.dump(result, sort_keys=True, indent=4))"
   ]
  },
  {
   "cell_type": "code",
   "execution_count": 19,
   "id": "d464e02b-a75f-4f19-9446-f717fa0d5d5b",
   "metadata": {},
   "outputs": [
    {
     "name": "stdout",
     "output_type": "stream",
     "text": [
      "runs:\n",
      "-   end: 1662946282.4466975\n",
      "    result:\n",
      "    -   accuracy: 0.7294117647058823\n",
      "        f1 score (macro): 0.7322267426617582\n",
      "        f1 score (micro): 0.7294117647058823\n",
      "        f1 score (weighted): 0.7265967867500063\n",
      "    run id: 1\n",
      "    start: 1662946282.4166644\n",
      "    time taken: 0.030033111572265625\n",
      "-   end: 1662946282.4746978\n",
      "    result:\n",
      "    -   accuracy: 0.7294117647058823\n",
      "        f1 score (macro): 0.7322267426617582\n",
      "        f1 score (micro): 0.7294117647058823\n",
      "        f1 score (weighted): 0.7265967867500063\n",
      "    run id: 2\n",
      "    start: 1662946282.4466996\n",
      "    time taken: 0.02799820899963379\n",
      "-   end: 1662946282.502856\n",
      "    result:\n",
      "    -   accuracy: 0.7294117647058823\n",
      "        f1 score (macro): 0.7322267426617582\n",
      "        f1 score (micro): 0.7294117647058823\n",
      "        f1 score (weighted): 0.7265967867500063\n",
      "    run id: 3\n",
      "    start: 1662946282.4746995\n",
      "    time taken: 0.028156518936157227\n",
      "\n"
     ]
    }
   ],
   "source": [
    "result = multi_run_experiment(combined_train_dset_fft, test_dataset_fft)\n",
    "print(yaml.dump(result, sort_keys=True, indent=4))"
   ]
  },
  {
   "cell_type": "code",
   "execution_count": null,
   "id": "5ecc7c88-1978-4f00-9f91-a0de55294868",
   "metadata": {},
   "outputs": [],
   "source": []
  }
 ],
 "metadata": {
  "kernelspec": {
   "display_name": "Python 3 (ipykernel)",
   "language": "python",
   "name": "python3"
  },
  "language_info": {
   "codemirror_mode": {
    "name": "ipython",
    "version": 3
   },
   "file_extension": ".py",
   "mimetype": "text/x-python",
   "name": "python",
   "nbconvert_exporter": "python",
   "pygments_lexer": "ipython3",
   "version": "3.8.10"
  }
 },
 "nbformat": 4,
 "nbformat_minor": 5
}
