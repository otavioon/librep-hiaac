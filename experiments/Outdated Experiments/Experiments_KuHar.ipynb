{
 "cells": [
  {
   "cell_type": "markdown",
   "id": "53d9dc44-8e5e-4246-87e9-5c25726234b0",
   "metadata": {},
   "source": [
    "# Experiments KuHar\n",
    "\n",
    "This notebook will perform basic experiments on the balanced KuHar dataset with the following steps:\n",
    "1. Quick load train, test and validation CSV subsets from the balanced KuHar dataset using `PandasDatasetsIO` helper\n",
    "2. Subclassing the `Dataset` interface using `PandasMultiModalDataset`\n",
    "3. Apply the fourier transform on the dataset\n",
    "4. Train and evaluate SVM, KNN and Random Forest classification models in both time and frequency domains\n",
    "\n",
    "The experiments will evaluate the performance of SVM, KNN and RF models on the balanced KuHar dataset in both time and frequency domains."
   ]
  },
  {
   "cell_type": "markdown",
   "id": "b9e9fd58-02a1-488b-8eab-064b7fdae874",
   "metadata": {},
   "source": [
    "## Common imports and definitions"
   ]
  },
  {
   "cell_type": "code",
   "execution_count": 1,
   "id": "ec6da551-6b53-4ed0-b382-65b3b9d1181c",
   "metadata": {
    "tags": []
   },
   "outputs": [
    {
     "name": "stderr",
     "output_type": "stream",
     "text": [
      "2022-09-01 18:48:53.258299: W tensorflow/stream_executor/platform/default/dso_loader.cc:64] Could not load dynamic library 'libcudart.so.11.0'; dlerror: libcudart.so.11.0: cannot open shared object file: No such file or directory\n",
      "2022-09-01 18:48:53.258320: I tensorflow/stream_executor/cuda/cudart_stub.cc:29] Ignore above cudart dlerror if you do not have a GPU set up on your machine.\n"
     ]
    }
   ],
   "source": [
    "from pathlib import Path  # For defining dataset Paths\n",
    "import sys                # For include librep package\n",
    "\n",
    "# This must be done if librep is not installed via pip,\n",
    "# as this directory (examples) is appart from librep package root\n",
    "sys.path.append(\"..\")\n",
    "\n",
    "# Third party imports\n",
    "import pandas as pd\n",
    "import numpy as np\n",
    "\n",
    "# Librep imports\n",
    "from librep.utils.dataset import PandasDatasetsIO          # For quick load train, test and validation CSVs\n",
    "from librep.datasets.multimodal import PandasMultiModalDataset # Wrap CSVs to librep's `Dataset` interface"
   ]
  },
  {
   "cell_type": "markdown",
   "id": "76dc7e5c-c0b5-4e1c-be82-935aebb822f6",
   "metadata": {},
   "source": [
    "## Loading data\n",
    "Change the path to use in other datasets"
   ]
  },
  {
   "cell_type": "code",
   "execution_count": 2,
   "id": "58562d97-10a2-4081-a773-eb34a2da75f4",
   "metadata": {
    "tags": []
   },
   "outputs": [],
   "source": [
    "# Path for KuHar balanced view with the same activities (and labels numbers)\n",
    "# It is assumed that the directory will contain (train.csv, test.csv and validation.csv)\n",
    "dataset_path = Path(\"../data/views/KuHar/balanced_view\")"
   ]
  },
  {
   "cell_type": "markdown",
   "id": "25ad8212-0cb3-4080-8345-c771ca6eda24",
   "metadata": {},
   "source": [
    "Once paths is defined, we can load the CSV as pandas dataframes"
   ]
  },
  {
   "cell_type": "code",
   "execution_count": 3,
   "id": "00dc7ad4-7931-4985-be40-f29f3ddf0739",
   "metadata": {
    "tags": []
   },
   "outputs": [],
   "source": [
    "# Kuhar dataframes\n",
    "train, validation, test = PandasDatasetsIO(dataset_path).load()"
   ]
  },
  {
   "cell_type": "markdown",
   "id": "9e88a3de-5f0f-4799-b947-e16fab0fd7e2",
   "metadata": {},
   "source": [
    "Letś take a look in the train dataframes"
   ]
  },
  {
   "cell_type": "code",
   "execution_count": 4,
   "id": "6bf01fc5-59c6-4318-8e24-87b2b6e52b6e",
   "metadata": {
    "tags": []
   },
   "outputs": [
    {
     "data": {
      "text/html": [
       "<div>\n",
       "<style scoped>\n",
       "    .dataframe tbody tr th:only-of-type {\n",
       "        vertical-align: middle;\n",
       "    }\n",
       "\n",
       "    .dataframe tbody tr th {\n",
       "        vertical-align: top;\n",
       "    }\n",
       "\n",
       "    .dataframe thead th {\n",
       "        text-align: right;\n",
       "    }\n",
       "</style>\n",
       "<table border=\"1\" class=\"dataframe\">\n",
       "  <thead>\n",
       "    <tr style=\"text-align: right;\">\n",
       "      <th></th>\n",
       "      <th>Unnamed: 0</th>\n",
       "      <th>accel-x-0</th>\n",
       "      <th>accel-x-1</th>\n",
       "      <th>accel-x-2</th>\n",
       "      <th>accel-x-3</th>\n",
       "      <th>accel-x-4</th>\n",
       "      <th>accel-x-5</th>\n",
       "      <th>accel-x-6</th>\n",
       "      <th>accel-x-7</th>\n",
       "      <th>accel-x-8</th>\n",
       "      <th>...</th>\n",
       "      <th>gyro-z-299</th>\n",
       "      <th>accel-start-time</th>\n",
       "      <th>gyro-start-time</th>\n",
       "      <th>accel-end-time</th>\n",
       "      <th>gyro-end-time</th>\n",
       "      <th>activity code</th>\n",
       "      <th>length</th>\n",
       "      <th>serial</th>\n",
       "      <th>index</th>\n",
       "      <th>user</th>\n",
       "    </tr>\n",
       "  </thead>\n",
       "  <tbody>\n",
       "    <tr>\n",
       "      <th>0</th>\n",
       "      <td>0</td>\n",
       "      <td>-0.056118</td>\n",
       "      <td>0.034403</td>\n",
       "      <td>0.052704</td>\n",
       "      <td>0.070734</td>\n",
       "      <td>0.020224</td>\n",
       "      <td>-0.048252</td>\n",
       "      <td>-0.033161</td>\n",
       "      <td>-0.006543</td>\n",
       "      <td>-0.001562</td>\n",
       "      <td>...</td>\n",
       "      <td>-0.005646</td>\n",
       "      <td>30.379</td>\n",
       "      <td>30.331</td>\n",
       "      <td>33.433</td>\n",
       "      <td>33.352</td>\n",
       "      <td>0</td>\n",
       "      <td>300</td>\n",
       "      <td>6</td>\n",
       "      <td>3000</td>\n",
       "      <td>1040</td>\n",
       "    </tr>\n",
       "    <tr>\n",
       "      <th>1</th>\n",
       "      <td>1</td>\n",
       "      <td>-0.019538</td>\n",
       "      <td>-0.016915</td>\n",
       "      <td>0.021001</td>\n",
       "      <td>0.055937</td>\n",
       "      <td>0.036128</td>\n",
       "      <td>0.004878</td>\n",
       "      <td>-0.032916</td>\n",
       "      <td>-0.044168</td>\n",
       "      <td>-0.048170</td>\n",
       "      <td>...</td>\n",
       "      <td>-0.005636</td>\n",
       "      <td>35.360</td>\n",
       "      <td>35.349</td>\n",
       "      <td>38.380</td>\n",
       "      <td>38.371</td>\n",
       "      <td>0</td>\n",
       "      <td>300</td>\n",
       "      <td>1</td>\n",
       "      <td>3300</td>\n",
       "      <td>1025</td>\n",
       "    </tr>\n",
       "    <tr>\n",
       "      <th>2</th>\n",
       "      <td>2</td>\n",
       "      <td>0.078851</td>\n",
       "      <td>0.067761</td>\n",
       "      <td>0.042445</td>\n",
       "      <td>-0.016207</td>\n",
       "      <td>-0.060515</td>\n",
       "      <td>-0.052389</td>\n",
       "      <td>-0.039572</td>\n",
       "      <td>-0.020855</td>\n",
       "      <td>-0.020164</td>\n",
       "      <td>...</td>\n",
       "      <td>0.000831</td>\n",
       "      <td>0.006</td>\n",
       "      <td>0.009</td>\n",
       "      <td>2.995</td>\n",
       "      <td>2.997</td>\n",
       "      <td>0</td>\n",
       "      <td>300</td>\n",
       "      <td>1</td>\n",
       "      <td>0</td>\n",
       "      <td>1010</td>\n",
       "    </tr>\n",
       "    <tr>\n",
       "      <th>3</th>\n",
       "      <td>3</td>\n",
       "      <td>-0.067950</td>\n",
       "      <td>0.001450</td>\n",
       "      <td>0.095617</td>\n",
       "      <td>0.070418</td>\n",
       "      <td>-0.008559</td>\n",
       "      <td>-0.001449</td>\n",
       "      <td>-0.013325</td>\n",
       "      <td>-0.036775</td>\n",
       "      <td>-0.043285</td>\n",
       "      <td>...</td>\n",
       "      <td>0.001721</td>\n",
       "      <td>3.045</td>\n",
       "      <td>3.034</td>\n",
       "      <td>6.067</td>\n",
       "      <td>6.057</td>\n",
       "      <td>0</td>\n",
       "      <td>300</td>\n",
       "      <td>1</td>\n",
       "      <td>300</td>\n",
       "      <td>1058</td>\n",
       "    </tr>\n",
       "    <tr>\n",
       "      <th>4</th>\n",
       "      <td>4</td>\n",
       "      <td>-0.030760</td>\n",
       "      <td>-0.005518</td>\n",
       "      <td>0.005185</td>\n",
       "      <td>0.029851</td>\n",
       "      <td>0.029403</td>\n",
       "      <td>0.007791</td>\n",
       "      <td>0.007751</td>\n",
       "      <td>-0.005227</td>\n",
       "      <td>-0.019164</td>\n",
       "      <td>...</td>\n",
       "      <td>0.011505</td>\n",
       "      <td>0.001</td>\n",
       "      <td>0.001</td>\n",
       "      <td>2.957</td>\n",
       "      <td>2.956</td>\n",
       "      <td>0</td>\n",
       "      <td>300</td>\n",
       "      <td>1</td>\n",
       "      <td>0</td>\n",
       "      <td>1015</td>\n",
       "    </tr>\n",
       "  </tbody>\n",
       "</table>\n",
       "<p>5 rows × 1810 columns</p>\n",
       "</div>"
      ],
      "text/plain": [
       "   Unnamed: 0  accel-x-0  accel-x-1  accel-x-2  accel-x-3  accel-x-4  \\\n",
       "0           0  -0.056118   0.034403   0.052704   0.070734   0.020224   \n",
       "1           1  -0.019538  -0.016915   0.021001   0.055937   0.036128   \n",
       "2           2   0.078851   0.067761   0.042445  -0.016207  -0.060515   \n",
       "3           3  -0.067950   0.001450   0.095617   0.070418  -0.008559   \n",
       "4           4  -0.030760  -0.005518   0.005185   0.029851   0.029403   \n",
       "\n",
       "   accel-x-5  accel-x-6  accel-x-7  accel-x-8  ...  gyro-z-299  \\\n",
       "0  -0.048252  -0.033161  -0.006543  -0.001562  ...   -0.005646   \n",
       "1   0.004878  -0.032916  -0.044168  -0.048170  ...   -0.005636   \n",
       "2  -0.052389  -0.039572  -0.020855  -0.020164  ...    0.000831   \n",
       "3  -0.001449  -0.013325  -0.036775  -0.043285  ...    0.001721   \n",
       "4   0.007791   0.007751  -0.005227  -0.019164  ...    0.011505   \n",
       "\n",
       "   accel-start-time  gyro-start-time  accel-end-time  gyro-end-time  \\\n",
       "0            30.379           30.331          33.433         33.352   \n",
       "1            35.360           35.349          38.380         38.371   \n",
       "2             0.006            0.009           2.995          2.997   \n",
       "3             3.045            3.034           6.067          6.057   \n",
       "4             0.001            0.001           2.957          2.956   \n",
       "\n",
       "   activity code  length  serial  index  user  \n",
       "0              0     300       6   3000  1040  \n",
       "1              0     300       1   3300  1025  \n",
       "2              0     300       1      0  1010  \n",
       "3              0     300       1    300  1058  \n",
       "4              0     300       1      0  1015  \n",
       "\n",
       "[5 rows x 1810 columns]"
      ]
     },
     "execution_count": 4,
     "metadata": {},
     "output_type": "execute_result"
    }
   ],
   "source": [
    "train.head()"
   ]
  },
  {
   "cell_type": "markdown",
   "id": "5a58623b-b64f-4fba-9622-e906e7ea87a7",
   "metadata": {},
   "source": [
    "## Creating a Librep dataset from pandas dataframes\n",
    "\n",
    "Change the features to use in other datasets"
   ]
  },
  {
   "cell_type": "code",
   "execution_count": 5,
   "id": "b83aae79-f28a-41a7-a82b-87d45375a947",
   "metadata": {
    "tags": []
   },
   "outputs": [],
   "source": [
    "# Kuhar features to select\n",
    "features = [\n",
    "    \"accel-x\",\n",
    "    \"accel-y\",\n",
    "    \"accel-z\",\n",
    "    \"gyro-x\",\n",
    "    \"gyro-y\",\n",
    "    \"gyro-z\"\n",
    "]\n",
    "\n",
    "# Creating the datasets\n",
    "\n",
    "# Train\n",
    "train_dataset = PandasMultiModalDataset(\n",
    "    train,\n",
    "    feature_prefixes=features,\n",
    "    label_columns=\"activity code\",\n",
    "    as_array=True\n",
    ")\n",
    "\n",
    "# Validation\n",
    "validation_dataset = PandasMultiModalDataset(\n",
    "    validation,\n",
    "    feature_prefixes=features,\n",
    "    label_columns=\"activity code\",\n",
    "    as_array=True\n",
    ")\n",
    "\n",
    "# Test\n",
    "test_dataset = PandasMultiModalDataset(\n",
    "    test,\n",
    "    feature_prefixes=features,\n",
    "    label_columns=\"activity code\",\n",
    "    as_array=True\n",
    ")"
   ]
  },
  {
   "cell_type": "markdown",
   "id": "4e1a6ac9-c31d-48b4-8cb4-bb10e7a4b659",
   "metadata": {},
   "source": [
    "## Inspect sample"
   ]
  },
  {
   "cell_type": "code",
   "execution_count": 6,
   "id": "424755b0-8954-4b4f-b9d1-616ccdff7f08",
   "metadata": {
    "tags": []
   },
   "outputs": [
    {
     "name": "stdout",
     "output_type": "stream",
     "text": [
      "(array([-0.05611801,  0.03440285,  0.05270386, ..., -0.00777642,\n",
      "       -0.00671116, -0.0056459 ]), 0)\n"
     ]
    }
   ],
   "source": [
    "# Lets print the first sample of kh_train dataset.\n",
    "# Is a tuple, with an vector of 1800 elements as first element and the label as second\n",
    "x = train_dataset[0]\n",
    "print(x)"
   ]
  },
  {
   "cell_type": "code",
   "execution_count": 7,
   "id": "e5ed5b71-6cdb-4c3f-9e08-d2e21a26520e",
   "metadata": {
    "tags": []
   },
   "outputs": [
    {
     "name": "stdout",
     "output_type": "stream",
     "text": [
      "The sample 0: [-0.05611801  0.03440285  0.05270386 ... -0.00777642 -0.00671116\n",
      " -0.0056459 ]\n",
      "Shape of sample 0: (1800,)\n",
      "The label of sample 0: 0\n"
     ]
    }
   ],
   "source": [
    "# Inspecting sample\n",
    "print(f\"The sample 0: {x[0]}\")\n",
    "print(f\"Shape of sample 0: {x[0].shape}\")\n",
    "print(f\"The label of sample 0: {x[1]}\")"
   ]
  },
  {
   "cell_type": "markdown",
   "id": "e044f068-d9a0-4ede-a83c-da1d99c97b38",
   "metadata": {},
   "source": [
    "## Fourier Transform"
   ]
  },
  {
   "cell_type": "code",
   "execution_count": 8,
   "id": "3dcdbe38-67ed-4fa0-9fec-003ad5650f7d",
   "metadata": {
    "tags": []
   },
   "outputs": [],
   "source": [
    "from librep.datasets.multimodal import TransformMultiModalDataset\n",
    "from librep.transforms.fft import FFT"
   ]
  },
  {
   "cell_type": "code",
   "execution_count": 9,
   "id": "8ff029d9-ac41-4a29-9170-7d547fac4684",
   "metadata": {
    "tags": []
   },
   "outputs": [],
   "source": [
    "fft_transform = FFT(centered = True)\n",
    "transformer = TransformMultiModalDataset(transforms=[fft_transform], new_window_name_prefix=\"fft.\")"
   ]
  },
  {
   "cell_type": "markdown",
   "id": "14432baa-cec3-4b58-bd91-cb24ac2cba51",
   "metadata": {},
   "source": [
    "### Use FFT in Kuhar"
   ]
  },
  {
   "cell_type": "code",
   "execution_count": 10,
   "id": "b3f13126-ca3c-416b-ac68-5d40e46050c3",
   "metadata": {
    "tags": []
   },
   "outputs": [],
   "source": [
    "train_dataset_fft = transformer(train_dataset)\n",
    "validation_dataset_fft = transformer(validation_dataset)\n",
    "test_dataset_fft = transformer(test_dataset)"
   ]
  },
  {
   "cell_type": "code",
   "execution_count": 11,
   "id": "e06eb8db-9ee0-400c-8d31-13495c9a567b",
   "metadata": {
    "tags": []
   },
   "outputs": [
    {
     "data": {
      "text/plain": [
       "array([[-5.61180100e-02,  3.44028470e-02,  5.27038570e-02, ...,\n",
       "        -7.77642340e-03, -6.71116000e-03, -5.64589630e-03],\n",
       "       [-1.95379260e-02, -1.69153210e-02,  2.10008620e-02, ...,\n",
       "        -5.63590970e-03, -5.63590970e-03, -5.63590970e-03],\n",
       "       [ 7.88507460e-02,  6.77614200e-02,  4.24451830e-02, ...,\n",
       "         2.66335900e-03,  4.49595400e-03,  8.30763950e-04],\n",
       "       ...,\n",
       "       [-4.49047000e+00, -4.37737460e+00, -3.15459060e+00, ...,\n",
       "         1.55295460e-01,  2.96276410e-03, -2.68679440e-01],\n",
       "       [-1.35669830e+01, -1.23066845e+01, -1.06537895e+01, ...,\n",
       "         7.37994550e-01,  8.41325160e-01,  9.55308400e-01],\n",
       "       [-6.65145870e+00, -4.99298000e+00, -3.75397440e+00, ...,\n",
       "         9.16958870e-01,  8.77544050e-01,  8.98849370e-01]])"
      ]
     },
     "execution_count": 11,
     "metadata": {},
     "output_type": "execute_result"
    }
   ],
   "source": [
    "train_dataset[:][0]"
   ]
  },
  {
   "cell_type": "code",
   "execution_count": 12,
   "id": "17b3fd29-8045-47d8-b6df-096c93cce0e3",
   "metadata": {},
   "outputs": [
    {
     "data": {
      "text/plain": [
       "array([[1.40451425e-01, 2.64954973e-01, 2.33269584e-01, ...,\n",
       "        5.54874483e-03, 1.31394597e-02, 1.02363685e-02],\n",
       "       [1.03750273e-02, 2.86165385e-01, 2.29687236e-01, ...,\n",
       "        1.58202500e-02, 1.23533180e-02, 1.48931568e-02],\n",
       "       [7.98449419e+00, 8.36490063e-01, 7.98251733e-01, ...,\n",
       "        3.19458726e-02, 1.32013312e-02, 9.01949793e-03],\n",
       "       ...,\n",
       "       [1.17398675e+02, 4.41272871e+01, 1.13623326e+02, ...,\n",
       "        1.74773671e-01, 2.30094237e-01, 2.01677331e-01],\n",
       "       [6.21067120e+01, 1.78165592e+02, 1.04645300e+02, ...,\n",
       "        6.27752450e-01, 6.57386879e-01, 5.43437751e-01],\n",
       "       [1.95639551e+02, 1.46506404e+02, 6.75411949e+01, ...,\n",
       "        2.49181044e-01, 2.13343332e-01, 1.39736334e-01]])"
      ]
     },
     "execution_count": 12,
     "metadata": {},
     "output_type": "execute_result"
    }
   ],
   "source": [
    "train_dataset_fft[:][0]"
   ]
  },
  {
   "cell_type": "markdown",
   "id": "e4387db2-e8c0-4d6c-9534-32266dd829f4",
   "metadata": {},
   "source": [
    "## Train and evaluate Random Forest classifier"
   ]
  },
  {
   "cell_type": "code",
   "execution_count": 22,
   "id": "a4cac18a-20d2-4c42-8805-7d02c4dabba0",
   "metadata": {},
   "outputs": [],
   "source": [
    "from librep.utils.workflow import SimpleTrainEvalWorkflow, MultiRunWorkflow\n",
    "from librep.estimators import RandomForestClassifier\n",
    "from librep.metrics.report import ClassificationReport\n",
    "import yaml\n",
    "\n",
    "reporter = ClassificationReport(use_accuracy=True, use_f1_score=True, use_classification_report=False, use_confusion_matrix=False, plot_confusion_matrix=False)\n",
    "experiment = SimpleTrainEvalWorkflow(estimator=RandomForestClassifier, estimator_creation_kwags ={'n_estimators':100} , do_not_instantiate=False, do_fit=True, evaluator=reporter)\n",
    "multi_run_experiment = MultiRunWorkflow(workflow=experiment, num_runs=3, debug=False)"
   ]
  },
  {
   "cell_type": "code",
   "execution_count": 26,
   "id": "c80ec130-2533-4e34-9c9c-deda4a50eb0b",
   "metadata": {},
   "outputs": [
    {
     "name": "stdout",
     "output_type": "stream",
     "text": [
      "(array([[-0.05611801,  0.03440285,  0.05270386, ..., -0.00777642,\n",
      "        -0.00671116, -0.0056459 ],\n",
      "       [-0.12517166, -0.07503891, -0.02219009, ..., -0.0005188 ,\n",
      "        -0.00263977, -0.00370789]]), 0    0\n",
      "0    0\n",
      "Name: activity code, dtype: int64)\n",
      "The sample 0: [[-0.05611801  0.03440285  0.05270386 ... -0.00777642 -0.00671116\n",
      "  -0.0056459 ]\n",
      " [-0.12517166 -0.07503891 -0.02219009 ... -0.0005188  -0.00263977\n",
      "  -0.00370789]]\n",
      "Shape of sample 0: (2, 1800)\n",
      "The label of sample 0: 0    0\n",
      "0    0\n",
      "Name: activity code, dtype: int64\n",
      "PandasMultiModalDataset: samples=3168, features=1800, no. window=6\n",
      "PandasMultiModalDataset: samples=234, features=1800, no. window=6\n",
      "PandasMultiModalDataset: samples=3402, features=1800, no. window=6\n",
      "runs:\n",
      "-   end: 1662384876.1513305\n",
      "    result:\n",
      "    -   accuracy: 0.7106481481481481\n",
      "        f1 score (macro): 0.697919052379794\n",
      "        f1 score (micro): 0.710648148148148\n",
      "        f1 score (weighted): 0.7233772439165023\n",
      "    run id: 1\n",
      "    start: 1662384866.423788\n",
      "    time taken: 9.727542400360107\n",
      "-   end: 1662384885.9100766\n",
      "    result:\n",
      "    -   accuracy: 0.6782407407407407\n",
      "        f1 score (macro): 0.6620992899538766\n",
      "        f1 score (micro): 0.6782407407407407\n",
      "        f1 score (weighted): 0.6943821915276047\n",
      "    run id: 2\n",
      "    start: 1662384876.1513326\n",
      "    time taken: 9.75874400138855\n",
      "-   end: 1662384895.6116548\n",
      "    result:\n",
      "    -   accuracy: 0.6921296296296297\n",
      "        f1 score (macro): 0.6791858185760085\n",
      "        f1 score (micro): 0.6921296296296297\n",
      "        f1 score (weighted): 0.705073440683251\n",
      "    run id: 3\n",
      "    start: 1662384885.9100785\n",
      "    time taken: 9.701576232910156\n",
      "\n"
     ]
    }
   ],
   "source": [
    "combined_train_dset = PandasMultiModalDataset(\n",
    "    pd.concat([train, validation]),\n",
    "    feature_prefixes=features,\n",
    "    label_columns=\"activity code\",\n",
    "    as_array=True\n",
    ")\n",
    "\n",
    "x = combined_train_dset[0]\n",
    "print(x)\n",
    "print(f\"The sample 0: {x[0]}\")\n",
    "print(f\"Shape of sample 0: {x[0].shape}\")\n",
    "print(f\"The label of sample 0: {x[1]}\")\n",
    "print(train_dataset)\n",
    "print(validation_dataset)\n",
    "print(combined_train_dset)\n",
    "\n",
    "\n",
    "result = multi_run_experiment(combined_train_dset, test_dataset)\n",
    "print(yaml.dump(result, sort_keys=True, indent=4))"
   ]
  },
  {
   "cell_type": "code",
   "execution_count": 15,
   "id": "8144d32a-0f46-4019-a8b8-94f925102dab",
   "metadata": {},
   "outputs": [
    {
     "name": "stdout",
     "output_type": "stream",
     "text": [
      "runs:\n",
      "-   end: 1662058171.5942078\n",
      "    result:\n",
      "    -   accuracy: 0.8287037037037037\n",
      "        f1 score (macro): 0.8287587527804129\n",
      "        f1 score (micro): 0.8287037037037037\n",
      "        f1 score (weighted): 0.8286486546269943\n",
      "    run id: 1\n",
      "    start: 1662058165.8094182\n",
      "    time taken: 5.784789562225342\n",
      "-   end: 1662058177.4075127\n",
      "    result:\n",
      "    -   accuracy: 0.8310185185185185\n",
      "        f1 score (macro): 0.8288986729825647\n",
      "        f1 score (micro): 0.8310185185185185\n",
      "        f1 score (weighted): 0.8331383640544722\n",
      "    run id: 2\n",
      "    start: 1662058171.59421\n",
      "    time taken: 5.813302755355835\n",
      "-   end: 1662058183.2215347\n",
      "    result:\n",
      "    -   accuracy: 0.8402777777777778\n",
      "        f1 score (macro): 0.8396976809360595\n",
      "        f1 score (micro): 0.8402777777777778\n",
      "        f1 score (weighted): 0.840857874619496\n",
      "    run id: 3\n",
      "    start: 1662058177.4075143\n",
      "    time taken: 5.814020395278931\n",
      "\n"
     ]
    }
   ],
   "source": [
    "combined_train_dset_fft = transformer(combined_train_dset)\n",
    "\n",
    "result = multi_run_experiment(combined_train_dset_fft, test_dataset_fft)\n",
    "print(yaml.dump(result, sort_keys=True, indent=4))"
   ]
  },
  {
   "cell_type": "markdown",
   "id": "f1d5da25-a1dd-472f-9ed9-a3f456022c31",
   "metadata": {},
   "source": [
    "## Train and evaluate Support Vector Machine classifier"
   ]
  },
  {
   "cell_type": "code",
   "execution_count": 16,
   "id": "009a6764-6b45-4d88-a437-b58bbcc7debc",
   "metadata": {},
   "outputs": [
    {
     "name": "stdout",
     "output_type": "stream",
     "text": [
      "runs:\n",
      "-   end: 1662058188.820096\n",
      "    result:\n",
      "    -   accuracy: 0.42592592592592593\n",
      "        f1 score (macro): 0.4038146377355998\n",
      "        f1 score (micro): 0.42592592592592593\n",
      "        f1 score (weighted): 0.44803721411625214\n",
      "    run id: 1\n",
      "    start: 1662058183.2274892\n",
      "    time taken: 5.592606782913208\n",
      "-   end: 1662058194.379537\n",
      "    result:\n",
      "    -   accuracy: 0.42592592592592593\n",
      "        f1 score (macro): 0.4038146377355998\n",
      "        f1 score (micro): 0.42592592592592593\n",
      "        f1 score (weighted): 0.44803721411625214\n",
      "    run id: 2\n",
      "    start: 1662058188.8200982\n",
      "    time taken: 5.559438943862915\n",
      "-   end: 1662058200.1113172\n",
      "    result:\n",
      "    -   accuracy: 0.42592592592592593\n",
      "        f1 score (macro): 0.4038146377355998\n",
      "        f1 score (micro): 0.42592592592592593\n",
      "        f1 score (weighted): 0.44803721411625214\n",
      "    run id: 3\n",
      "    start: 1662058194.3795393\n",
      "    time taken: 5.731777906417847\n",
      "\n"
     ]
    }
   ],
   "source": [
    "#from librep.estimators import SVC\n",
    "from sklearn.svm import SVC\n",
    "\n",
    "experiment = SimpleTrainEvalWorkflow(estimator=SVC, estimator_creation_kwags ={'C':3.0, 'kernel':\"rbf\"} , do_not_instantiate=False, do_fit=True, evaluator=reporter)\n",
    "multi_run_experiment = MultiRunWorkflow(workflow=experiment, num_runs=3, debug=False)\n",
    "\n",
    "result = multi_run_experiment(combined_train_dset, test_dataset)\n",
    "print(yaml.dump(result, sort_keys=True, indent=4))"
   ]
  },
  {
   "cell_type": "code",
   "execution_count": 17,
   "id": "8e2d9c26-f8f7-42aa-9d80-d9f103a2f06e",
   "metadata": {},
   "outputs": [
    {
     "name": "stdout",
     "output_type": "stream",
     "text": [
      "runs:\n",
      "-   end: 1662058201.4200947\n",
      "    result:\n",
      "    -   accuracy: 0.7685185185185185\n",
      "        f1 score (macro): 0.7510101967323339\n",
      "        f1 score (micro): 0.7685185185185186\n",
      "        f1 score (weighted): 0.7860268403047032\n",
      "    run id: 1\n",
      "    start: 1662058200.116313\n",
      "    time taken: 1.3037817478179932\n",
      "-   end: 1662058202.7162719\n",
      "    result:\n",
      "    -   accuracy: 0.7685185185185185\n",
      "        f1 score (macro): 0.7510101967323339\n",
      "        f1 score (micro): 0.7685185185185186\n",
      "        f1 score (weighted): 0.7860268403047032\n",
      "    run id: 2\n",
      "    start: 1662058201.4200969\n",
      "    time taken: 1.2961750030517578\n",
      "-   end: 1662058204.0127006\n",
      "    result:\n",
      "    -   accuracy: 0.7685185185185185\n",
      "        f1 score (macro): 0.7510101967323339\n",
      "        f1 score (micro): 0.7685185185185186\n",
      "        f1 score (weighted): 0.7860268403047032\n",
      "    run id: 3\n",
      "    start: 1662058202.716274\n",
      "    time taken: 1.29642653465271\n",
      "\n"
     ]
    }
   ],
   "source": [
    "result = multi_run_experiment(combined_train_dset_fft, test_dataset_fft)\n",
    "print(yaml.dump(result, sort_keys=True, indent=4))"
   ]
  },
  {
   "cell_type": "markdown",
   "id": "2cf2bcb7-eb7c-46f5-9542-b873ae14f5af",
   "metadata": {},
   "source": [
    "## Train and evaluate K Neighbors Classifier classifier"
   ]
  },
  {
   "cell_type": "code",
   "execution_count": 18,
   "id": "267f4b44-2bc5-40a2-bae2-85ddbd9697c5",
   "metadata": {},
   "outputs": [
    {
     "name": "stdout",
     "output_type": "stream",
     "text": [
      "runs:\n",
      "-   end: 1662058204.2287405\n",
      "    result:\n",
      "    -   accuracy: 0.3773148148148148\n",
      "        f1 score (macro): 0.3769408236270271\n",
      "        f1 score (micro): 0.3773148148148149\n",
      "        f1 score (weighted): 0.3776888060026025\n",
      "    run id: 1\n",
      "    start: 1662058204.0184376\n",
      "    time taken: 0.21030282974243164\n",
      "-   end: 1662058204.301439\n",
      "    result:\n",
      "    -   accuracy: 0.3773148148148148\n",
      "        f1 score (macro): 0.3769408236270271\n",
      "        f1 score (micro): 0.3773148148148149\n",
      "        f1 score (weighted): 0.3776888060026025\n",
      "    run id: 2\n",
      "    start: 1662058204.228744\n",
      "    time taken: 0.07269501686096191\n",
      "-   end: 1662058204.373066\n",
      "    result:\n",
      "    -   accuracy: 0.3773148148148148\n",
      "        f1 score (macro): 0.3769408236270271\n",
      "        f1 score (micro): 0.3773148148148149\n",
      "        f1 score (weighted): 0.3776888060026025\n",
      "    run id: 3\n",
      "    start: 1662058204.3014412\n",
      "    time taken: 0.071624755859375\n",
      "\n"
     ]
    }
   ],
   "source": [
    "#from librep.estimators import KNeighborsClassifier\n",
    "from sklearn.neighbors import KNeighborsClassifier\n",
    "\n",
    "experiment = SimpleTrainEvalWorkflow(estimator=KNeighborsClassifier, estimator_creation_kwags ={'n_neighbors' :1} , do_not_instantiate=False, do_fit=True, evaluator=reporter)\n",
    "multi_run_experiment = MultiRunWorkflow(workflow=experiment, num_runs=3, debug=False)\n",
    "\n",
    "result = multi_run_experiment(combined_train_dset, test_dataset)\n",
    "print(yaml.dump(result, sort_keys=True, indent=4))"
   ]
  },
  {
   "cell_type": "code",
   "execution_count": 19,
   "id": "d464e02b-a75f-4f19-9446-f717fa0d5d5b",
   "metadata": {},
   "outputs": [
    {
     "name": "stdout",
     "output_type": "stream",
     "text": [
      "runs:\n",
      "-   end: 1662058204.412305\n",
      "    result:\n",
      "    -   accuracy: 0.8194444444444444\n",
      "        f1 score (macro): 0.8212660219703911\n",
      "        f1 score (micro): 0.8194444444444444\n",
      "        f1 score (weighted): 0.8176228669184978\n",
      "    run id: 1\n",
      "    start: 1662058204.3797736\n",
      "    time taken: 0.0325314998626709\n",
      "-   end: 1662058204.4388378\n",
      "    result:\n",
      "    -   accuracy: 0.8194444444444444\n",
      "        f1 score (macro): 0.8212660219703911\n",
      "        f1 score (micro): 0.8194444444444444\n",
      "        f1 score (weighted): 0.8176228669184978\n",
      "    run id: 2\n",
      "    start: 1662058204.4123073\n",
      "    time taken: 0.02653050422668457\n",
      "-   end: 1662058204.467535\n",
      "    result:\n",
      "    -   accuracy: 0.8194444444444444\n",
      "        f1 score (macro): 0.8212660219703911\n",
      "        f1 score (micro): 0.8194444444444444\n",
      "        f1 score (weighted): 0.8176228669184978\n",
      "    run id: 3\n",
      "    start: 1662058204.43884\n",
      "    time taken: 0.028695106506347656\n",
      "\n"
     ]
    }
   ],
   "source": [
    "result = multi_run_experiment(combined_train_dset_fft, test_dataset_fft)\n",
    "print(yaml.dump(result, sort_keys=True, indent=4))"
   ]
  },
  {
   "cell_type": "code",
   "execution_count": null,
   "id": "5ecc7c88-1978-4f00-9f91-a0de55294868",
   "metadata": {},
   "outputs": [],
   "source": []
  }
 ],
 "metadata": {
  "kernelspec": {
   "display_name": "Python 3 (ipykernel)",
   "language": "python",
   "name": "python3"
  },
  "language_info": {
   "codemirror_mode": {
    "name": "ipython",
    "version": 3
   },
   "file_extension": ".py",
   "mimetype": "text/x-python",
   "name": "python",
   "nbconvert_exporter": "python",
   "pygments_lexer": "ipython3",
   "version": "3.8.10"
  }
 },
 "nbformat": 4,
 "nbformat_minor": 5
}
