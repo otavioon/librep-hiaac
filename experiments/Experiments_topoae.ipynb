{
 "cells": [
  {
   "cell_type": "code",
   "execution_count": 1,
   "id": "613ad9ec-94ee-4fc5-9c8b-247f7477935e",
   "metadata": {},
   "outputs": [],
   "source": [
    "%load_ext autoreload\n",
    "%autoreload 2"
   ]
  },
  {
   "cell_type": "code",
   "execution_count": 2,
   "id": "36684cb7-1477-4a9f-adea-c7ef95e3898f",
   "metadata": {},
   "outputs": [],
   "source": [
    "import sys\n",
    "import pandas as pd\n",
    "from pathlib import Path\n",
    "\n",
    "sys.path.append(\"..\")"
   ]
  },
  {
   "cell_type": "code",
   "execution_count": 3,
   "id": "31d903a6-f59c-4ca7-ada9-297f29dbcb38",
   "metadata": {},
   "outputs": [
    {
     "name": "stderr",
     "output_type": "stream",
     "text": [
      "2022-09-20 04:33:46.097264: W tensorflow/stream_executor/platform/default/dso_loader.cc:64] Could not load dynamic library 'libcudart.so.11.0'; dlerror: libcudart.so.11.0: cannot open shared object file: No such file or directory\n",
      "2022-09-20 04:33:46.097283: I tensorflow/stream_executor/cuda/cudart_stub.cc:29] Ignore above cudart dlerror if you do not have a GPU set up on your machine.\n"
     ]
    }
   ],
   "source": [
    "import tensorflow as tf\n",
    "import torch\n",
    "\n",
    "from librep.transforms import TSNE\n",
    "from librep.transforms import UMAP\n",
    "from librep.datasets.multimodal import TransformMultiModalDataset, ArrayMultiModalDataset\n",
    "from librep.metrics.dimred_evaluator import DimensionalityReductionQualityReport"
   ]
  },
  {
   "cell_type": "code",
   "execution_count": 4,
   "id": "c8922a71-9ec5-4237-a52d-ed4469bf3d4e",
   "metadata": {},
   "outputs": [],
   "source": [
    "dataset = tf.keras.datasets.mnist.load_data(path=\"mnist.npz\")\n",
    "(train_x, train_y), (test_x, test_y) = dataset"
   ]
  },
  {
   "cell_type": "code",
   "execution_count": 5,
   "id": "94e4d347-e89e-45cf-85aa-ab529d1cf93f",
   "metadata": {},
   "outputs": [
    {
     "name": "stdout",
     "output_type": "stream",
     "text": [
      "TRAIN_X_REORDERED (60000, 784)\n",
      "TEST_X_REORDERED (10000, 784)\n"
     ]
    }
   ],
   "source": [
    "train_x_reordered = train_x.reshape((60000,-1))\n",
    "print('TRAIN_X_REORDERED', train_x_reordered.shape)\n",
    "\n",
    "test_x_reordered = test_x.reshape((10000,-1))\n",
    "print('TEST_X_REORDERED', test_x_reordered.shape)\n"
   ]
  },
  {
   "cell_type": "code",
   "execution_count": 6,
   "id": "0c2ea0e6-2a39-472c-bfd5-946414afb558",
   "metadata": {},
   "outputs": [],
   "source": [
    "mnist_dataset_train = ArrayMultiModalDataset(X=train_x_reordered, y=train_y, window_slices=[(0, 28*28)], \n",
    "                                             window_names=[\"px\"])\n",
    "mnist_dataset_test = ArrayMultiModalDataset(X=test_x_reordered, y=test_y, window_slices=[(0, 28*28)], \n",
    "                                             window_names=[\"px\"])"
   ]
  },
  {
   "cell_type": "code",
   "execution_count": 7,
   "id": "5a3e36eb-ebca-482d-8f7d-d5ce04d94176",
   "metadata": {},
   "outputs": [],
   "source": [
    "from librep.transforms.topo_ae import TopologicalDimensionalityReduction\n",
    "from librep.estimators.ae.torch.models.topological_ae.topological_ae import TopologicallyRegularizedAutoencoder"
   ]
  },
  {
   "cell_type": "code",
   "execution_count": 8,
   "id": "70cdabdd-c769-4b17-98c3-f325f7ccd50d",
   "metadata": {},
   "outputs": [
    {
     "name": "stdout",
     "output_type": "stream",
     "text": [
      "Using python to compute signatures\n"
     ]
    }
   ],
   "source": [
    "# topo_transformer = TopologicallyRegularizedAutoencoder(autoencoder_model='DeepAE')\n",
    "# optimizer = torch.optim.Adam(topo_transformer.parameters(), lr=1e-3, weight_decay=1e-5)\n",
    "# autoencoder_model='DeepAE'\n",
    "# data_loader = torch.utils.data.DataLoader(dataset=train_x, batch_size=128, shuffle=True)"
   ]
  },
  {
   "cell_type": "code",
   "execution_count": 15,
   "id": "8233d325-8faa-4005-b0d9-4b110ab17e86",
   "metadata": {},
   "outputs": [
    {
     "name": "stdout",
     "output_type": "stream",
     "text": [
      "Topological DeepAE\n",
      "Using python to compute signatures\n",
      "Epoch:1, Loss:6838.5918\n",
      "Epoch:2, Loss:7692.8037\n",
      "Epoch:3, Loss:7542.8457\n",
      "Epoch:4, Loss:7693.5801\n",
      "Epoch:5, Loss:7557.3994\n",
      "Epoch:6, Loss:6822.8433\n",
      "Epoch:7, Loss:7471.2964\n",
      "Epoch:8, Loss:7664.0977\n",
      "Epoch:9, Loss:7590.1279\n",
      "Epoch:10, Loss:7589.0073\n",
      "Epoch:11, Loss:7383.7358\n",
      "Epoch:12, Loss:6936.3936\n",
      "Epoch:13, Loss:7674.0063\n"
     ]
    },
    {
     "data": {
      "text/plain": [
       "<librep.transforms.topo_ae.TopologicalDimensionalityReduction at 0x7f93a8768790>"
      ]
     },
     "execution_count": 15,
     "metadata": {},
     "output_type": "execute_result"
    }
   ],
   "source": [
    "transform_topoae = TopologicalDimensionalityReduction(ae_model='DeepAE')\n",
    "transform_topoae.fit(mnist_dataset_train.X)"
   ]
  },
  {
   "cell_type": "code",
   "execution_count": 13,
   "id": "bc29ee9a-0fa1-4982-94aa-a6abc06e0dbb",
   "metadata": {},
   "outputs": [],
   "source": [
    "test_applied_topoae = transform_topoae.transform(mnist_dataset_test.X)"
   ]
  },
  {
   "cell_type": "code",
   "execution_count": 14,
   "id": "d1760b77-4b99-430d-8721-d68de5e69d41",
   "metadata": {},
   "outputs": [
    {
     "name": "stdout",
     "output_type": "stream",
     "text": [
      "(10000, 2)\n"
     ]
    }
   ],
   "source": [
    "print(test_applied_topoae.shape)"
   ]
  },
  {
   "cell_type": "code",
   "execution_count": null,
   "id": "ea22003c-1041-40b6-b745-0e5a4bd19ad9",
   "metadata": {},
   "outputs": [],
   "source": []
  },
  {
   "cell_type": "code",
   "execution_count": 20,
   "id": "cd654a21-500c-4856-bbce-39775f7aba4c",
   "metadata": {},
   "outputs": [
    {
     "name": "stdout",
     "output_type": "stream",
     "text": [
      "{'residual variance (pearson)': 0.9246437458825869, 'residual variance (spearman)': 0.9556982407321778, 'trustworthiness': 0.7075530823070193, 'continuity': 0.7617092220930803, 'co k nearest neighbor size': 0.30087194629517466, 'local continuity meta criterion': 0.17388781931104766, 'local property': 0.21597443066450644, 'global property': 0.6328359673144206}\n"
     ]
    }
   ],
   "source": [
    "metrics_reporter = DimensionalityReductionQualityReport(sampling_threshold=128)\n",
    "metrics_train_applied_topoae = metrics_reporter.evaluate([mnist_dataset_test, test_applied_topoae])\n",
    "print(metrics_train_applied_topoae)"
   ]
  },
  {
   "cell_type": "code",
   "execution_count": 21,
   "id": "8041b8f8-b6bd-46fc-b143-d4ab4ed54685",
   "metadata": {},
   "outputs": [
    {
     "name": "stdout",
     "output_type": "stream",
     "text": [
      "{'residual variance (pearson)': 0.9584142086930323, 'residual variance (spearman)': 0.9701272731080088, 'trustworthiness': 0.6858645917748105, 'continuity': 0.7945079026965339, 'co k nearest neighbor size': 0.16332665330661322, 'local continuity meta criterion': 0.13119813925038837, 'local property': 0.19839350218310767, 'global property': 0.6248983029187553}\n"
     ]
    }
   ],
   "source": [
    "metrics_reporter = DimensionalityReductionQualityReport(sampling_threshold=500)\n",
    "metrics_train_applied_topoae = metrics_reporter.evaluate([mnist_dataset_test, test_applied_topoae])\n",
    "print(metrics_train_applied_topoae)"
   ]
  },
  {
   "cell_type": "code",
   "execution_count": 22,
   "id": "bf94d609-d965-47ac-927e-f9840b2a2330",
   "metadata": {},
   "outputs": [
    {
     "name": "stdout",
     "output_type": "stream",
     "text": [
      "{'residual variance (pearson)': 0.9656163132223349, 'residual variance (spearman)': 0.9724199868883134, 'trustworthiness': 0.6819253129019152, 'continuity': 0.8131425055664911, 'co k nearest neighbor size': 0.11419753086419752, 'local continuity meta criterion': 0.09816546673594102, 'local property': 0.1954404389695359, 'global property': 0.625258618900966}\n"
     ]
    }
   ],
   "source": [
    "metrics_reporter = DimensionalityReductionQualityReport(sampling_threshold=1000)\n",
    "metrics_train_applied_topoae = metrics_reporter.evaluate([mnist_dataset_test, test_applied_topoae])\n",
    "print(metrics_train_applied_topoae)"
   ]
  }
 ],
 "metadata": {
  "kernelspec": {
   "display_name": "Python 3 (ipykernel)",
   "language": "python",
   "name": "python3"
  },
  "language_info": {
   "codemirror_mode": {
    "name": "ipython",
    "version": 3
   },
   "file_extension": ".py",
   "mimetype": "text/x-python",
   "name": "python",
   "nbconvert_exporter": "python",
   "pygments_lexer": "ipython3",
   "version": "3.8.10"
  }
 },
 "nbformat": 4,
 "nbformat_minor": 5
}
