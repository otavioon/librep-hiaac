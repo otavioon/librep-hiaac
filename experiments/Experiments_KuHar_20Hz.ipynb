{
 "cells": [
  {
   "cell_type": "markdown",
   "id": "53d9dc44-8e5e-4246-87e9-5c25726234b0",
   "metadata": {},
   "source": [
    "# Experiments on KuHar Resampled to 20Hz\n",
    "\n",
    "This notebook will perform basic experiments on the balanced KuHar dataset with the following steps:\n",
    "1. Quick load train, test and validation CSV subsets from the balanced KuHar dataset using `PandasDatasetsIO` helper\n",
    "2. Subclassing the `Dataset` interface using `PandasMultiModalDataset`\n",
    "3. Apply the fourier transform on the dataset\n",
    "4. Train and evaluate SVM, KNN and Random Forest classification models in both time and frequency domains\n",
    "\n",
    "The experiments will evaluate the performance of SVM, KNN and RF models on the balanced KuHar dataset in both time and frequency domains."
   ]
  },
  {
   "cell_type": "markdown",
   "id": "b9e9fd58-02a1-488b-8eab-064b7fdae874",
   "metadata": {},
   "source": [
    "## Common imports and definitions"
   ]
  },
  {
   "cell_type": "code",
   "execution_count": 1,
   "id": "ec6da551-6b53-4ed0-b382-65b3b9d1181c",
   "metadata": {
    "tags": []
   },
   "outputs": [
    {
     "name": "stderr",
     "output_type": "stream",
     "text": [
      "2022-09-12 01:26:01.158485: W tensorflow/stream_executor/platform/default/dso_loader.cc:64] Could not load dynamic library 'libcudart.so.11.0'; dlerror: libcudart.so.11.0: cannot open shared object file: No such file or directory\n",
      "2022-09-12 01:26:01.158506: I tensorflow/stream_executor/cuda/cudart_stub.cc:29] Ignore above cudart dlerror if you do not have a GPU set up on your machine.\n"
     ]
    }
   ],
   "source": [
    "from pathlib import Path  # For defining dataset Paths\n",
    "import sys                # For include librep package\n",
    "\n",
    "# This must be done if librep is not installed via pip,\n",
    "# as this directory (examples) is appart from librep package root\n",
    "sys.path.append(\"..\")\n",
    "\n",
    "# Third party imports\n",
    "import pandas as pd\n",
    "import numpy as np\n",
    "\n",
    "# Librep imports\n",
    "from librep.utils.dataset import PandasDatasetsIO          # For quick load train, test and validation CSVs\n",
    "from librep.datasets.multimodal import PandasMultiModalDataset # Wrap CSVs to librep's `Dataset` interface"
   ]
  },
  {
   "cell_type": "markdown",
   "id": "76dc7e5c-c0b5-4e1c-be82-935aebb822f6",
   "metadata": {},
   "source": [
    "## Loading data\n",
    "Change the path to use in other datasets"
   ]
  },
  {
   "cell_type": "code",
   "execution_count": 2,
   "id": "58562d97-10a2-4081-a773-eb34a2da75f4",
   "metadata": {
    "tags": []
   },
   "outputs": [],
   "source": [
    "# Path for KuHar resampled to 20Hz view with the same activities (and labels numbers)\n",
    "# It is assumed that the directory will contain (train.csv, test.csv and validation.csv)\n",
    "dataset_path = Path(\"../data/views/KuHar/resampled_view_20Hz\")"
   ]
  },
  {
   "cell_type": "markdown",
   "id": "25ad8212-0cb3-4080-8345-c771ca6eda24",
   "metadata": {},
   "source": [
    "Once paths is defined, we can load the CSV as pandas dataframes"
   ]
  },
  {
   "cell_type": "code",
   "execution_count": 3,
   "id": "00dc7ad4-7931-4985-be40-f29f3ddf0739",
   "metadata": {
    "tags": []
   },
   "outputs": [],
   "source": [
    "# Kuhar dataframes\n",
    "train, validation, test = PandasDatasetsIO(dataset_path).load()"
   ]
  },
  {
   "cell_type": "markdown",
   "id": "9e88a3de-5f0f-4799-b947-e16fab0fd7e2",
   "metadata": {},
   "source": [
    "Letś take a look in the train dataframes"
   ]
  },
  {
   "cell_type": "code",
   "execution_count": 4,
   "id": "6bf01fc5-59c6-4318-8e24-87b2b6e52b6e",
   "metadata": {
    "tags": []
   },
   "outputs": [
    {
     "data": {
      "text/html": [
       "<div>\n",
       "<style scoped>\n",
       "    .dataframe tbody tr th:only-of-type {\n",
       "        vertical-align: middle;\n",
       "    }\n",
       "\n",
       "    .dataframe tbody tr th {\n",
       "        vertical-align: top;\n",
       "    }\n",
       "\n",
       "    .dataframe thead th {\n",
       "        text-align: right;\n",
       "    }\n",
       "</style>\n",
       "<table border=\"1\" class=\"dataframe\">\n",
       "  <thead>\n",
       "    <tr style=\"text-align: right;\">\n",
       "      <th></th>\n",
       "      <th>Unnamed: 0</th>\n",
       "      <th>accel-x-0</th>\n",
       "      <th>accel-x-1</th>\n",
       "      <th>accel-x-2</th>\n",
       "      <th>accel-x-3</th>\n",
       "      <th>accel-x-4</th>\n",
       "      <th>accel-x-5</th>\n",
       "      <th>accel-x-6</th>\n",
       "      <th>accel-x-7</th>\n",
       "      <th>accel-x-8</th>\n",
       "      <th>...</th>\n",
       "      <th>gyro-z-59</th>\n",
       "      <th>accel-start-time</th>\n",
       "      <th>gyro-start-time</th>\n",
       "      <th>accel-end-time</th>\n",
       "      <th>gyro-end-time</th>\n",
       "      <th>activity code</th>\n",
       "      <th>length</th>\n",
       "      <th>serial</th>\n",
       "      <th>index</th>\n",
       "      <th>user</th>\n",
       "    </tr>\n",
       "  </thead>\n",
       "  <tbody>\n",
       "    <tr>\n",
       "      <th>0</th>\n",
       "      <td>0</td>\n",
       "      <td>0.001911</td>\n",
       "      <td>-0.014536</td>\n",
       "      <td>0.005845</td>\n",
       "      <td>0.003675</td>\n",
       "      <td>-0.014972</td>\n",
       "      <td>0.025607</td>\n",
       "      <td>0.000478</td>\n",
       "      <td>-0.031141</td>\n",
       "      <td>-0.014827</td>\n",
       "      <td>...</td>\n",
       "      <td>0.004456</td>\n",
       "      <td>23.235</td>\n",
       "      <td>23.223</td>\n",
       "      <td>26.260</td>\n",
       "      <td>26.249</td>\n",
       "      <td>0</td>\n",
       "      <td>300</td>\n",
       "      <td>1</td>\n",
       "      <td>2100</td>\n",
       "      <td>1051</td>\n",
       "    </tr>\n",
       "    <tr>\n",
       "      <th>1</th>\n",
       "      <td>1</td>\n",
       "      <td>0.004114</td>\n",
       "      <td>-0.003186</td>\n",
       "      <td>0.000759</td>\n",
       "      <td>0.012450</td>\n",
       "      <td>-0.032074</td>\n",
       "      <td>0.007270</td>\n",
       "      <td>-0.000470</td>\n",
       "      <td>0.006980</td>\n",
       "      <td>0.021400</td>\n",
       "      <td>...</td>\n",
       "      <td>0.002979</td>\n",
       "      <td>56.292</td>\n",
       "      <td>56.292</td>\n",
       "      <td>59.245</td>\n",
       "      <td>59.245</td>\n",
       "      <td>0</td>\n",
       "      <td>300</td>\n",
       "      <td>1</td>\n",
       "      <td>5700</td>\n",
       "      <td>1037</td>\n",
       "    </tr>\n",
       "    <tr>\n",
       "      <th>2</th>\n",
       "      <td>2</td>\n",
       "      <td>-0.011282</td>\n",
       "      <td>-0.002432</td>\n",
       "      <td>-0.003199</td>\n",
       "      <td>0.008152</td>\n",
       "      <td>-0.021763</td>\n",
       "      <td>0.000309</td>\n",
       "      <td>-0.004968</td>\n",
       "      <td>-0.009551</td>\n",
       "      <td>0.001497</td>\n",
       "      <td>...</td>\n",
       "      <td>0.003343</td>\n",
       "      <td>27.268</td>\n",
       "      <td>27.267</td>\n",
       "      <td>30.290</td>\n",
       "      <td>30.291</td>\n",
       "      <td>0</td>\n",
       "      <td>300</td>\n",
       "      <td>1</td>\n",
       "      <td>2700</td>\n",
       "      <td>1075</td>\n",
       "    </tr>\n",
       "    <tr>\n",
       "      <th>3</th>\n",
       "      <td>3</td>\n",
       "      <td>-0.009241</td>\n",
       "      <td>-0.004666</td>\n",
       "      <td>0.021606</td>\n",
       "      <td>-0.007200</td>\n",
       "      <td>0.003091</td>\n",
       "      <td>0.001630</td>\n",
       "      <td>0.005057</td>\n",
       "      <td>-0.008149</td>\n",
       "      <td>0.013167</td>\n",
       "      <td>...</td>\n",
       "      <td>-0.002053</td>\n",
       "      <td>39.421</td>\n",
       "      <td>39.420</td>\n",
       "      <td>42.441</td>\n",
       "      <td>42.440</td>\n",
       "      <td>0</td>\n",
       "      <td>300</td>\n",
       "      <td>6</td>\n",
       "      <td>3900</td>\n",
       "      <td>1008</td>\n",
       "    </tr>\n",
       "    <tr>\n",
       "      <th>4</th>\n",
       "      <td>4</td>\n",
       "      <td>-0.013083</td>\n",
       "      <td>-0.005612</td>\n",
       "      <td>0.001645</td>\n",
       "      <td>0.006823</td>\n",
       "      <td>-0.004159</td>\n",
       "      <td>0.000415</td>\n",
       "      <td>0.008178</td>\n",
       "      <td>0.002637</td>\n",
       "      <td>-0.000827</td>\n",
       "      <td>...</td>\n",
       "      <td>0.002603</td>\n",
       "      <td>23.703</td>\n",
       "      <td>23.703</td>\n",
       "      <td>26.656</td>\n",
       "      <td>26.656</td>\n",
       "      <td>0</td>\n",
       "      <td>300</td>\n",
       "      <td>1</td>\n",
       "      <td>2400</td>\n",
       "      <td>1038</td>\n",
       "    </tr>\n",
       "  </tbody>\n",
       "</table>\n",
       "<p>5 rows × 370 columns</p>\n",
       "</div>"
      ],
      "text/plain": [
       "   Unnamed: 0  accel-x-0  accel-x-1  accel-x-2  accel-x-3  accel-x-4  \\\n",
       "0           0   0.001911  -0.014536   0.005845   0.003675  -0.014972   \n",
       "1           1   0.004114  -0.003186   0.000759   0.012450  -0.032074   \n",
       "2           2  -0.011282  -0.002432  -0.003199   0.008152  -0.021763   \n",
       "3           3  -0.009241  -0.004666   0.021606  -0.007200   0.003091   \n",
       "4           4  -0.013083  -0.005612   0.001645   0.006823  -0.004159   \n",
       "\n",
       "   accel-x-5  accel-x-6  accel-x-7  accel-x-8  ...  gyro-z-59  \\\n",
       "0   0.025607   0.000478  -0.031141  -0.014827  ...   0.004456   \n",
       "1   0.007270  -0.000470   0.006980   0.021400  ...   0.002979   \n",
       "2   0.000309  -0.004968  -0.009551   0.001497  ...   0.003343   \n",
       "3   0.001630   0.005057  -0.008149   0.013167  ...  -0.002053   \n",
       "4   0.000415   0.008178   0.002637  -0.000827  ...   0.002603   \n",
       "\n",
       "   accel-start-time  gyro-start-time  accel-end-time  gyro-end-time  \\\n",
       "0            23.235           23.223          26.260         26.249   \n",
       "1            56.292           56.292          59.245         59.245   \n",
       "2            27.268           27.267          30.290         30.291   \n",
       "3            39.421           39.420          42.441         42.440   \n",
       "4            23.703           23.703          26.656         26.656   \n",
       "\n",
       "   activity code  length  serial  index  user  \n",
       "0              0     300       1   2100  1051  \n",
       "1              0     300       1   5700  1037  \n",
       "2              0     300       1   2700  1075  \n",
       "3              0     300       6   3900  1008  \n",
       "4              0     300       1   2400  1038  \n",
       "\n",
       "[5 rows x 370 columns]"
      ]
     },
     "execution_count": 4,
     "metadata": {},
     "output_type": "execute_result"
    }
   ],
   "source": [
    "train.head()"
   ]
  },
  {
   "cell_type": "markdown",
   "id": "5a58623b-b64f-4fba-9622-e906e7ea87a7",
   "metadata": {},
   "source": [
    "## Creating a Librep dataset from pandas dataframes\n",
    "\n",
    "Change the features to use in other datasets"
   ]
  },
  {
   "cell_type": "code",
   "execution_count": 5,
   "id": "b83aae79-f28a-41a7-a82b-87d45375a947",
   "metadata": {
    "tags": []
   },
   "outputs": [],
   "source": [
    "# Kuhar features to select\n",
    "features = [\n",
    "    \"accel-x\",\n",
    "    \"accel-y\",\n",
    "    \"accel-z\",\n",
    "    \"gyro-x\",\n",
    "    \"gyro-y\",\n",
    "    \"gyro-z\"\n",
    "]\n",
    "\n",
    "# Creating the datasets\n",
    "\n",
    "# Train\n",
    "train_dataset = PandasMultiModalDataset(\n",
    "    train,\n",
    "    feature_prefixes=features,\n",
    "    label_columns=\"activity code\",\n",
    "    as_array=True\n",
    ")\n",
    "\n",
    "# Validation\n",
    "validation_dataset = PandasMultiModalDataset(\n",
    "    validation,\n",
    "    feature_prefixes=features,\n",
    "    label_columns=\"activity code\",\n",
    "    as_array=True\n",
    ")\n",
    "\n",
    "# Test\n",
    "test_dataset = PandasMultiModalDataset(\n",
    "    test,\n",
    "    feature_prefixes=features,\n",
    "    label_columns=\"activity code\",\n",
    "    as_array=True\n",
    ")"
   ]
  },
  {
   "cell_type": "markdown",
   "id": "4e1a6ac9-c31d-48b4-8cb4-bb10e7a4b659",
   "metadata": {},
   "source": [
    "## Inspect sample"
   ]
  },
  {
   "cell_type": "code",
   "execution_count": 6,
   "id": "424755b0-8954-4b4f-b9d1-616ccdff7f08",
   "metadata": {
    "tags": []
   },
   "outputs": [
    {
     "name": "stdout",
     "output_type": "stream",
     "text": [
      "(array([ 1.91093286e-03, -1.45361925e-02,  5.84452385e-03,  3.67495627e-03,\n",
      "       -1.49718059e-02,  2.56068907e-02,  4.77538088e-04, -3.11405362e-02,\n",
      "       -1.48270261e-02,  7.69834863e-03,  1.06101665e-02, -5.96475630e-02,\n",
      "       -3.35511310e-03, -1.65885925e-03,  3.94389738e-02, -4.28711994e-02,\n",
      "       -4.65577088e-03, -1.44686791e-02, -7.36948774e-03, -3.87024460e-03,\n",
      "        6.24744252e-02, -1.79626835e-02,  3.22744928e-03, -3.75961022e-03,\n",
      "        1.46163449e-02, -1.07502353e-02, -9.27218103e-03,  5.06417325e-03,\n",
      "        1.40691624e-02,  1.60138354e-02, -5.34838152e-02, -3.29858611e-03,\n",
      "        2.31031426e-02,  2.27906805e-02,  2.54595798e-03,  1.75255266e-02,\n",
      "       -5.10498318e-03, -2.07463519e-02,  1.32902011e-02,  1.37572046e-02,\n",
      "        7.17675958e-03, -2.01445217e-02,  5.47817384e-03, -7.66570074e-04,\n",
      "        1.94831071e-02, -1.11694213e-03,  2.27235363e-02, -1.49616813e-02,\n",
      "       -9.71672954e-03, -7.12839038e-03,  9.02811373e-03, -1.57676951e-03,\n",
      "       -5.51378813e-03, -3.61854449e-03, -9.16178207e-03,  1.69776410e-02,\n",
      "       -3.65341848e-03, -2.29361283e-02, -2.51271512e-03,  3.50588067e-02,\n",
      "        1.34097916e-02, -2.86866022e-02,  3.13640354e-02,  2.14215116e-02,\n",
      "        3.76450564e-02,  2.72862467e-02,  1.18754617e-02, -8.73142208e-03,\n",
      "        1.56951736e-02, -9.60600105e-03, -8.02965606e-03, -1.05411233e-02,\n",
      "        8.81743755e-03,  1.05434222e-03,  3.57281273e-02,  2.85509448e-02,\n",
      "       -8.11741138e-03,  1.01184825e-02,  6.48321568e-03,  2.80916583e-02,\n",
      "        2.88418042e-02, -1.58334984e-02, -5.94322804e-03,  1.68041560e-02,\n",
      "       -1.35507525e-02,  1.42835046e-03,  3.70229135e-02, -1.52175851e-02,\n",
      "        1.81973624e-02, -2.02431129e-02,  5.88782102e-03, -1.67712935e-02,\n",
      "        4.15055713e-02,  3.76236078e-02,  2.19586336e-02, -3.88094867e-02,\n",
      "       -1.89869025e-02, -1.90194601e-02,  6.39374426e-03, -7.14791916e-04,\n",
      "        4.34153850e-03, -1.90827653e-02,  4.59865180e-02, -1.56772566e-02,\n",
      "        8.96156458e-03,  1.82556948e-02,  3.37270797e-03,  3.75693740e-03,\n",
      "        1.04510934e-02,  1.11305805e-02,  1.73146210e-03, -2.45532444e-04,\n",
      "        1.75448576e-02, -1.42765479e-02,  2.24175603e-02, -1.33758721e-02,\n",
      "        3.71316100e-02,  7.20344782e-04,  2.56569482e-02,  1.53204085e-02,\n",
      "        4.13408630e-02,  9.53977102e-03,  1.88488717e-02,  5.31042211e-04,\n",
      "        1.89937465e-02,  1.71144631e-03, -1.25389876e-02,  6.01461319e-02,\n",
      "       -2.08127468e-02, -1.66242802e-02,  2.88122438e-02,  4.54398706e-02,\n",
      "        2.84262845e-02, -8.14001007e-03, -2.50915735e-02,  1.73446860e-02,\n",
      "       -1.96477605e-02, -3.99661544e-03,  1.62781505e-02, -3.03350627e-02,\n",
      "       -3.09627855e-02,  9.20580431e-02,  1.22237525e-02,  1.27397116e-02,\n",
      "       -2.27211872e-02, -4.41356155e-03, -4.37855741e-04,  3.42928352e-03,\n",
      "       -2.26680512e-02,  2.44519406e-02,  3.33897989e-02,  3.65026211e-02,\n",
      "       -3.24061174e-03, -1.56898823e-02, -2.46776979e-03, -1.64977781e-02,\n",
      "        1.17570524e-02,  1.20854136e-02, -1.37706039e-02, -5.93245313e-03,\n",
      "        9.60821658e-03,  2.31071984e-02,  4.06783195e-03, -1.01720614e-02,\n",
      "        4.96362266e-03, -2.30411016e-02,  1.57054006e-02, -1.10608521e-03,\n",
      "       -1.39945640e-03, -6.05414417e-03,  1.16314467e-02, -2.65536489e-02,\n",
      "        3.23659084e-02,  2.70854070e-03,  9.71409212e-03, -2.89741786e-02,\n",
      "       -1.80448634e-02,  1.98445981e-03,  1.82632584e-02, -4.15042289e-02,\n",
      "       -7.02005930e-04, -1.71430948e-03,  1.02124586e-02,  4.13945018e-03,\n",
      "        2.15593418e-04,  7.73742476e-04, -2.22867310e-03,  6.67756884e-04,\n",
      "        6.88333095e-03,  9.71816337e-03,  9.65125257e-03,  7.78365689e-03,\n",
      "        1.15265992e-02,  1.14950023e-02,  5.87734654e-03, -3.13029193e-03,\n",
      "        6.98508048e-03,  9.14435740e-03,  8.08203037e-03,  6.70093116e-03,\n",
      "       -2.02473995e-03, -3.85983972e-03,  2.65903073e-03,  8.69244805e-03,\n",
      "        8.40438413e-03,  1.03157723e-02,  7.37343578e-03,  7.26032030e-03,\n",
      "        1.11106755e-02,  8.11344459e-03,  1.26662654e-02,  1.47307212e-02,\n",
      "        1.63745136e-02,  5.68322553e-03, -1.41754379e-04,  1.23455285e-03,\n",
      "        5.17628433e-03,  1.02147651e-02,  1.18328984e-02,  1.28249489e-02,\n",
      "        1.20594695e-02,  1.38056682e-02,  8.73994471e-03,  1.66651934e-03,\n",
      "        2.10280602e-03, -2.39456086e-03, -2.15244985e-03,  4.44813522e-03,\n",
      "        7.36722376e-03,  6.71221261e-03,  1.02594611e-02,  1.01624543e-02,\n",
      "        8.17515129e-03,  1.15769729e-02,  1.33690791e-02,  1.47692500e-02,\n",
      "        1.23967867e-02,  1.01232441e-02,  7.87240871e-03,  4.69532232e-03,\n",
      "        6.58407198e-03,  1.47788664e-03,  5.05246681e-03,  4.68545991e-03,\n",
      "        2.57068698e-03,  1.12845290e-03,  8.91959459e-03, -1.87966215e-03,\n",
      "       -2.73838444e-03, -3.45441871e-03,  3.38269409e-03,  7.21707236e-04,\n",
      "        9.98568549e-05,  3.19009532e-03,  1.66967855e-02,  1.52996999e-02,\n",
      "        6.02541679e-03,  1.36155560e-03, -1.35444518e-02, -1.70457541e-02,\n",
      "       -7.62469462e-03, -2.37015872e-03, -3.24957075e-03, -2.31124467e-04,\n",
      "       -7.99090189e-03, -2.04476179e-03, -9.55618825e-03, -7.96606084e-03,\n",
      "       -9.43930540e-03, -2.24625471e-03, -5.07889164e-03, -1.91768315e-02,\n",
      "       -1.18343283e-02, -1.14688285e-02,  2.72726320e-03, -5.44057656e-03,\n",
      "        8.15101970e-03, -3.66968816e-04, -5.19386881e-03, -2.21638316e-03,\n",
      "        7.22586505e-04, -5.23040354e-03, -1.00092196e-03, -6.47100058e-03,\n",
      "       -5.29216649e-03, -4.33703686e-03, -2.62992491e-03,  2.25779011e-03,\n",
      "       -8.96403768e-03, -7.01505332e-03, -4.21662193e-03,  5.40173782e-03,\n",
      "        7.89641691e-05, -5.85682507e-04,  8.97479774e-04, -2.38163515e-03,\n",
      "        5.95296435e-03, -3.40176037e-03, -1.11610067e-02, -7.39497622e-04,\n",
      "       -8.17403979e-04,  7.91188456e-04,  2.35790599e-03, -7.63296478e-04,\n",
      "       -3.97019896e-03, -1.28618541e-03, -3.24486581e-03, -3.33107507e-03,\n",
      "       -2.34526713e-03,  1.96906384e-03,  8.05225728e-04,  4.72270099e-03,\n",
      "        9.31744850e-03,  8.20026220e-03,  3.30221329e-03,  1.76438423e-03,\n",
      "        7.53322879e-03,  7.05281468e-03,  7.43511617e-03,  7.47282645e-03,\n",
      "        6.81188044e-03,  1.12811297e-03,  7.13475257e-03,  8.82500450e-03,\n",
      "        9.14488397e-03,  7.47806552e-03,  9.97418548e-03,  1.18400235e-02,\n",
      "        1.02508038e-02,  9.25750437e-03,  9.06417247e-03,  1.07677978e-02,\n",
      "        1.22450681e-02,  6.88661580e-03,  4.93114258e-03,  6.51178367e-03,\n",
      "        5.73218396e-03,  7.48079129e-03,  8.68261382e-03,  9.33316823e-03,\n",
      "        9.26778214e-03,  6.69900231e-03,  5.46731233e-03,  2.17066768e-03,\n",
      "        9.31033096e-04, -5.57211486e-04,  1.12075129e-05, -3.60370070e-04,\n",
      "       -1.97137189e-03, -2.44242144e-03, -3.03315609e-04,  3.38358141e-03,\n",
      "        1.82513508e-03,  1.37147931e-03,  1.83300530e-03,  4.46431044e-03,\n",
      "        1.80080189e-03,  3.45654902e-03,  2.32869360e-03,  4.45589801e-03]), 0)\n"
     ]
    }
   ],
   "source": [
    "# Lets print the first sample of kh_train dataset.\n",
    "# Is a tuple, with an vector of 1800 elements as first element and the label as second\n",
    "x = train_dataset[0]\n",
    "print(x)"
   ]
  },
  {
   "cell_type": "code",
   "execution_count": 7,
   "id": "e5ed5b71-6cdb-4c3f-9e08-d2e21a26520e",
   "metadata": {
    "tags": []
   },
   "outputs": [
    {
     "name": "stdout",
     "output_type": "stream",
     "text": [
      "The sample 0: [ 1.91093286e-03 -1.45361925e-02  5.84452385e-03  3.67495627e-03\n",
      " -1.49718059e-02  2.56068907e-02  4.77538088e-04 -3.11405362e-02\n",
      " -1.48270261e-02  7.69834863e-03  1.06101665e-02 -5.96475630e-02\n",
      " -3.35511310e-03 -1.65885925e-03  3.94389738e-02 -4.28711994e-02\n",
      " -4.65577088e-03 -1.44686791e-02 -7.36948774e-03 -3.87024460e-03\n",
      "  6.24744252e-02 -1.79626835e-02  3.22744928e-03 -3.75961022e-03\n",
      "  1.46163449e-02 -1.07502353e-02 -9.27218103e-03  5.06417325e-03\n",
      "  1.40691624e-02  1.60138354e-02 -5.34838152e-02 -3.29858611e-03\n",
      "  2.31031426e-02  2.27906805e-02  2.54595798e-03  1.75255266e-02\n",
      " -5.10498318e-03 -2.07463519e-02  1.32902011e-02  1.37572046e-02\n",
      "  7.17675958e-03 -2.01445217e-02  5.47817384e-03 -7.66570074e-04\n",
      "  1.94831071e-02 -1.11694213e-03  2.27235363e-02 -1.49616813e-02\n",
      " -9.71672954e-03 -7.12839038e-03  9.02811373e-03 -1.57676951e-03\n",
      " -5.51378813e-03 -3.61854449e-03 -9.16178207e-03  1.69776410e-02\n",
      " -3.65341848e-03 -2.29361283e-02 -2.51271512e-03  3.50588067e-02\n",
      "  1.34097916e-02 -2.86866022e-02  3.13640354e-02  2.14215116e-02\n",
      "  3.76450564e-02  2.72862467e-02  1.18754617e-02 -8.73142208e-03\n",
      "  1.56951736e-02 -9.60600105e-03 -8.02965606e-03 -1.05411233e-02\n",
      "  8.81743755e-03  1.05434222e-03  3.57281273e-02  2.85509448e-02\n",
      " -8.11741138e-03  1.01184825e-02  6.48321568e-03  2.80916583e-02\n",
      "  2.88418042e-02 -1.58334984e-02 -5.94322804e-03  1.68041560e-02\n",
      " -1.35507525e-02  1.42835046e-03  3.70229135e-02 -1.52175851e-02\n",
      "  1.81973624e-02 -2.02431129e-02  5.88782102e-03 -1.67712935e-02\n",
      "  4.15055713e-02  3.76236078e-02  2.19586336e-02 -3.88094867e-02\n",
      " -1.89869025e-02 -1.90194601e-02  6.39374426e-03 -7.14791916e-04\n",
      "  4.34153850e-03 -1.90827653e-02  4.59865180e-02 -1.56772566e-02\n",
      "  8.96156458e-03  1.82556948e-02  3.37270797e-03  3.75693740e-03\n",
      "  1.04510934e-02  1.11305805e-02  1.73146210e-03 -2.45532444e-04\n",
      "  1.75448576e-02 -1.42765479e-02  2.24175603e-02 -1.33758721e-02\n",
      "  3.71316100e-02  7.20344782e-04  2.56569482e-02  1.53204085e-02\n",
      "  4.13408630e-02  9.53977102e-03  1.88488717e-02  5.31042211e-04\n",
      "  1.89937465e-02  1.71144631e-03 -1.25389876e-02  6.01461319e-02\n",
      " -2.08127468e-02 -1.66242802e-02  2.88122438e-02  4.54398706e-02\n",
      "  2.84262845e-02 -8.14001007e-03 -2.50915735e-02  1.73446860e-02\n",
      " -1.96477605e-02 -3.99661544e-03  1.62781505e-02 -3.03350627e-02\n",
      " -3.09627855e-02  9.20580431e-02  1.22237525e-02  1.27397116e-02\n",
      " -2.27211872e-02 -4.41356155e-03 -4.37855741e-04  3.42928352e-03\n",
      " -2.26680512e-02  2.44519406e-02  3.33897989e-02  3.65026211e-02\n",
      " -3.24061174e-03 -1.56898823e-02 -2.46776979e-03 -1.64977781e-02\n",
      "  1.17570524e-02  1.20854136e-02 -1.37706039e-02 -5.93245313e-03\n",
      "  9.60821658e-03  2.31071984e-02  4.06783195e-03 -1.01720614e-02\n",
      "  4.96362266e-03 -2.30411016e-02  1.57054006e-02 -1.10608521e-03\n",
      " -1.39945640e-03 -6.05414417e-03  1.16314467e-02 -2.65536489e-02\n",
      "  3.23659084e-02  2.70854070e-03  9.71409212e-03 -2.89741786e-02\n",
      " -1.80448634e-02  1.98445981e-03  1.82632584e-02 -4.15042289e-02\n",
      " -7.02005930e-04 -1.71430948e-03  1.02124586e-02  4.13945018e-03\n",
      "  2.15593418e-04  7.73742476e-04 -2.22867310e-03  6.67756884e-04\n",
      "  6.88333095e-03  9.71816337e-03  9.65125257e-03  7.78365689e-03\n",
      "  1.15265992e-02  1.14950023e-02  5.87734654e-03 -3.13029193e-03\n",
      "  6.98508048e-03  9.14435740e-03  8.08203037e-03  6.70093116e-03\n",
      " -2.02473995e-03 -3.85983972e-03  2.65903073e-03  8.69244805e-03\n",
      "  8.40438413e-03  1.03157723e-02  7.37343578e-03  7.26032030e-03\n",
      "  1.11106755e-02  8.11344459e-03  1.26662654e-02  1.47307212e-02\n",
      "  1.63745136e-02  5.68322553e-03 -1.41754379e-04  1.23455285e-03\n",
      "  5.17628433e-03  1.02147651e-02  1.18328984e-02  1.28249489e-02\n",
      "  1.20594695e-02  1.38056682e-02  8.73994471e-03  1.66651934e-03\n",
      "  2.10280602e-03 -2.39456086e-03 -2.15244985e-03  4.44813522e-03\n",
      "  7.36722376e-03  6.71221261e-03  1.02594611e-02  1.01624543e-02\n",
      "  8.17515129e-03  1.15769729e-02  1.33690791e-02  1.47692500e-02\n",
      "  1.23967867e-02  1.01232441e-02  7.87240871e-03  4.69532232e-03\n",
      "  6.58407198e-03  1.47788664e-03  5.05246681e-03  4.68545991e-03\n",
      "  2.57068698e-03  1.12845290e-03  8.91959459e-03 -1.87966215e-03\n",
      " -2.73838444e-03 -3.45441871e-03  3.38269409e-03  7.21707236e-04\n",
      "  9.98568549e-05  3.19009532e-03  1.66967855e-02  1.52996999e-02\n",
      "  6.02541679e-03  1.36155560e-03 -1.35444518e-02 -1.70457541e-02\n",
      " -7.62469462e-03 -2.37015872e-03 -3.24957075e-03 -2.31124467e-04\n",
      " -7.99090189e-03 -2.04476179e-03 -9.55618825e-03 -7.96606084e-03\n",
      " -9.43930540e-03 -2.24625471e-03 -5.07889164e-03 -1.91768315e-02\n",
      " -1.18343283e-02 -1.14688285e-02  2.72726320e-03 -5.44057656e-03\n",
      "  8.15101970e-03 -3.66968816e-04 -5.19386881e-03 -2.21638316e-03\n",
      "  7.22586505e-04 -5.23040354e-03 -1.00092196e-03 -6.47100058e-03\n",
      " -5.29216649e-03 -4.33703686e-03 -2.62992491e-03  2.25779011e-03\n",
      " -8.96403768e-03 -7.01505332e-03 -4.21662193e-03  5.40173782e-03\n",
      "  7.89641691e-05 -5.85682507e-04  8.97479774e-04 -2.38163515e-03\n",
      "  5.95296435e-03 -3.40176037e-03 -1.11610067e-02 -7.39497622e-04\n",
      " -8.17403979e-04  7.91188456e-04  2.35790599e-03 -7.63296478e-04\n",
      " -3.97019896e-03 -1.28618541e-03 -3.24486581e-03 -3.33107507e-03\n",
      " -2.34526713e-03  1.96906384e-03  8.05225728e-04  4.72270099e-03\n",
      "  9.31744850e-03  8.20026220e-03  3.30221329e-03  1.76438423e-03\n",
      "  7.53322879e-03  7.05281468e-03  7.43511617e-03  7.47282645e-03\n",
      "  6.81188044e-03  1.12811297e-03  7.13475257e-03  8.82500450e-03\n",
      "  9.14488397e-03  7.47806552e-03  9.97418548e-03  1.18400235e-02\n",
      "  1.02508038e-02  9.25750437e-03  9.06417247e-03  1.07677978e-02\n",
      "  1.22450681e-02  6.88661580e-03  4.93114258e-03  6.51178367e-03\n",
      "  5.73218396e-03  7.48079129e-03  8.68261382e-03  9.33316823e-03\n",
      "  9.26778214e-03  6.69900231e-03  5.46731233e-03  2.17066768e-03\n",
      "  9.31033096e-04 -5.57211486e-04  1.12075129e-05 -3.60370070e-04\n",
      " -1.97137189e-03 -2.44242144e-03 -3.03315609e-04  3.38358141e-03\n",
      "  1.82513508e-03  1.37147931e-03  1.83300530e-03  4.46431044e-03\n",
      "  1.80080189e-03  3.45654902e-03  2.32869360e-03  4.45589801e-03]\n",
      "Shape of sample 0: (360,)\n",
      "The label of sample 0: 0\n"
     ]
    }
   ],
   "source": [
    "# Inspecting sample\n",
    "print(f\"The sample 0: {x[0]}\")\n",
    "print(f\"Shape of sample 0: {x[0].shape}\")\n",
    "print(f\"The label of sample 0: {x[1]}\")"
   ]
  },
  {
   "cell_type": "markdown",
   "id": "e044f068-d9a0-4ede-a83c-da1d99c97b38",
   "metadata": {},
   "source": [
    "## Fourier Transform"
   ]
  },
  {
   "cell_type": "code",
   "execution_count": 8,
   "id": "3dcdbe38-67ed-4fa0-9fec-003ad5650f7d",
   "metadata": {
    "tags": []
   },
   "outputs": [],
   "source": [
    "from librep.datasets.multimodal import TransformMultiModalDataset\n",
    "from librep.transforms.fft import FFT"
   ]
  },
  {
   "cell_type": "code",
   "execution_count": 9,
   "id": "8ff029d9-ac41-4a29-9170-7d547fac4684",
   "metadata": {
    "tags": []
   },
   "outputs": [],
   "source": [
    "fft_transform = FFT(centered = True)\n",
    "transformer = TransformMultiModalDataset(transforms=[fft_transform], new_window_name_prefix=\"fft.\")"
   ]
  },
  {
   "cell_type": "markdown",
   "id": "14432baa-cec3-4b58-bd91-cb24ac2cba51",
   "metadata": {},
   "source": [
    "### Use FFT in Kuhar"
   ]
  },
  {
   "cell_type": "code",
   "execution_count": 10,
   "id": "b3f13126-ca3c-416b-ac68-5d40e46050c3",
   "metadata": {
    "tags": []
   },
   "outputs": [],
   "source": [
    "train_dataset_fft = transformer(train_dataset)\n",
    "validation_dataset_fft = transformer(validation_dataset)\n",
    "test_dataset_fft = transformer(test_dataset)"
   ]
  },
  {
   "cell_type": "code",
   "execution_count": 11,
   "id": "e06eb8db-9ee0-400c-8d31-13495c9a567b",
   "metadata": {
    "tags": []
   },
   "outputs": [
    {
     "data": {
      "text/plain": [
       "array([[ 1.91093286e-03, -1.45361925e-02,  5.84452385e-03, ...,\n",
       "         3.45654902e-03,  2.32869360e-03,  4.45589801e-03],\n",
       "       [ 4.11395657e-03, -3.18646610e-03,  7.58931558e-04, ...,\n",
       "        -9.94428406e-04, -1.82853273e-03,  2.97903419e-03],\n",
       "       [-1.12820040e-02, -2.43180090e-03, -3.19908050e-03, ...,\n",
       "         3.56838998e-03,  4.38234273e-03,  3.34301636e-03],\n",
       "       ...,\n",
       "       [-3.59406279e-01, -1.19101056e+00, -8.73361291e-01, ...,\n",
       "         3.80289216e-01,  2.18364177e-01,  2.06985897e-01],\n",
       "       [-2.03856397e+00,  1.39151562e+00,  1.99333519e+00, ...,\n",
       "         4.45907215e-01,  5.24997532e-01,  6.63564268e-01],\n",
       "       [-3.72664939e+00, -1.19035790e+01, -4.04218490e+00, ...,\n",
       "         4.09155302e-01,  3.60494266e-01, -1.44081320e-04]])"
      ]
     },
     "execution_count": 11,
     "metadata": {},
     "output_type": "execute_result"
    }
   ],
   "source": [
    "train_dataset[:][0]"
   ]
  },
  {
   "cell_type": "code",
   "execution_count": 12,
   "id": "17b3fd29-8045-47d8-b6df-096c93cce0e3",
   "metadata": {},
   "outputs": [
    {
     "data": {
      "text/plain": [
       "array([[2.08923330e-02, 1.12081089e-01, 6.03699767e-02, ...,\n",
       "        6.86907330e-03, 1.25349286e-02, 1.69158661e-02],\n",
       "       [1.53802877e-02, 8.24343989e-02, 4.18766153e-02, ...,\n",
       "        3.72912157e-03, 3.98584265e-03, 1.71193131e-02],\n",
       "       [5.21272671e-02, 4.82816195e-02, 8.93573044e-02, ...,\n",
       "        9.75422945e-03, 2.66463902e-02, 7.84359780e-03],\n",
       "       ...,\n",
       "       [2.46594280e+00, 2.97792077e+01, 2.58438841e+01, ...,\n",
       "        1.43625028e+00, 7.98405975e-01, 2.66617405e-01],\n",
       "       [3.12703194e+00, 2.12859482e+01, 9.31637610e+00, ...,\n",
       "        4.71804217e-01, 9.06413206e-01, 6.75740676e-01],\n",
       "       [1.48890233e+01, 6.63385820e+00, 8.58902995e+00, ...,\n",
       "        3.19953749e-01, 1.27100790e-01, 3.83110579e-01]])"
      ]
     },
     "execution_count": 12,
     "metadata": {},
     "output_type": "execute_result"
    }
   ],
   "source": [
    "train_dataset_fft[:][0]"
   ]
  },
  {
   "cell_type": "markdown",
   "id": "e4387db2-e8c0-4d6c-9534-32266dd829f4",
   "metadata": {},
   "source": [
    "## Train and evaluate Random Forest classifier"
   ]
  },
  {
   "cell_type": "code",
   "execution_count": 13,
   "id": "a4cac18a-20d2-4c42-8805-7d02c4dabba0",
   "metadata": {},
   "outputs": [],
   "source": [
    "from librep.utils.workflow import SimpleTrainEvalWorkflow, MultiRunWorkflow\n",
    "from librep.estimators import RandomForestClassifier\n",
    "from librep.metrics.report import ClassificationReport\n",
    "import yaml\n",
    "\n",
    "reporter = ClassificationReport(use_accuracy=True, use_f1_score=True, use_classification_report=False, use_confusion_matrix=False, plot_confusion_matrix=False)\n",
    "experiment = SimpleTrainEvalWorkflow(estimator=RandomForestClassifier, estimator_creation_kwags ={'n_estimators':100} , do_not_instantiate=False, do_fit=True, evaluator=reporter)\n",
    "multi_run_experiment = MultiRunWorkflow(workflow=experiment, num_runs=3, debug=False)"
   ]
  },
  {
   "cell_type": "code",
   "execution_count": 14,
   "id": "c80ec130-2533-4e34-9c9c-deda4a50eb0b",
   "metadata": {},
   "outputs": [
    {
     "name": "stdout",
     "output_type": "stream",
     "text": [
      "runs:\n",
      "-   end: 1662945968.2656271\n",
      "    result:\n",
      "    -   accuracy: 0.6772486772486772\n",
      "        f1 score (macro): 0.6678879234801423\n",
      "        f1 score (micro): 0.6772486772486772\n",
      "        f1 score (weighted): 0.6866094310172122\n",
      "    run id: 1\n",
      "    start: 1662945963.8253286\n",
      "    time taken: 4.440298557281494\n",
      "-   end: 1662945972.564448\n",
      "    result:\n",
      "    -   accuracy: 0.708994708994709\n",
      "        f1 score (macro): 0.7020199931651915\n",
      "        f1 score (micro): 0.708994708994709\n",
      "        f1 score (weighted): 0.7159694248242263\n",
      "    run id: 2\n",
      "    start: 1662945968.2656293\n",
      "    time taken: 4.298818826675415\n",
      "-   end: 1662945976.8605897\n",
      "    result:\n",
      "    -   accuracy: 0.7037037037037037\n",
      "        f1 score (macro): 0.6929442374103094\n",
      "        f1 score (micro): 0.7037037037037037\n",
      "        f1 score (weighted): 0.714463169997098\n",
      "    run id: 3\n",
      "    start: 1662945972.56445\n",
      "    time taken: 4.296139717102051\n",
      "\n"
     ]
    }
   ],
   "source": [
    "combined_train_dset = PandasMultiModalDataset(\n",
    "    pd.concat([train, validation]),\n",
    "    feature_prefixes=features,\n",
    "    label_columns=\"activity code\",\n",
    "    as_array=True\n",
    ")\n",
    "\n",
    "\n",
    "result = multi_run_experiment(combined_train_dset, test_dataset)\n",
    "print(yaml.dump(result, sort_keys=True, indent=4))"
   ]
  },
  {
   "cell_type": "code",
   "execution_count": 15,
   "id": "8144d32a-0f46-4019-a8b8-94f925102dab",
   "metadata": {},
   "outputs": [
    {
     "name": "stdout",
     "output_type": "stream",
     "text": [
      "runs:\n",
      "-   end: 1662945979.565638\n",
      "    result:\n",
      "    -   accuracy: 0.8174603174603174\n",
      "        f1 score (macro): 0.8138427799981984\n",
      "        f1 score (micro): 0.8174603174603176\n",
      "        f1 score (weighted): 0.8210778549224366\n",
      "    run id: 1\n",
      "    start: 1662945977.0002391\n",
      "    time taken: 2.565398931503296\n",
      "-   end: 1662945982.1550117\n",
      "    result:\n",
      "    -   accuracy: 0.8518518518518519\n",
      "        f1 score (macro): 0.8497917699922641\n",
      "        f1 score (micro): 0.8518518518518519\n",
      "        f1 score (weighted): 0.8539119337114395\n",
      "    run id: 2\n",
      "    start: 1662945979.56564\n",
      "    time taken: 2.589371681213379\n",
      "-   end: 1662945984.7115672\n",
      "    result:\n",
      "    -   accuracy: 0.8201058201058201\n",
      "        f1 score (macro): 0.8172024871252938\n",
      "        f1 score (micro): 0.8201058201058201\n",
      "        f1 score (weighted): 0.8230091530863464\n",
      "    run id: 3\n",
      "    start: 1662945982.1550133\n",
      "    time taken: 2.556553840637207\n",
      "\n"
     ]
    }
   ],
   "source": [
    "combined_train_dset_fft = transformer(combined_train_dset)\n",
    "\n",
    "result = multi_run_experiment(combined_train_dset_fft, test_dataset_fft)\n",
    "print(yaml.dump(result, sort_keys=True, indent=4))"
   ]
  },
  {
   "cell_type": "markdown",
   "id": "f1d5da25-a1dd-472f-9ed9-a3f456022c31",
   "metadata": {},
   "source": [
    "## Train and evaluate Support Vector Machine classifier"
   ]
  },
  {
   "cell_type": "code",
   "execution_count": 16,
   "id": "009a6764-6b45-4d88-a437-b58bbcc7debc",
   "metadata": {},
   "outputs": [
    {
     "name": "stdout",
     "output_type": "stream",
     "text": [
      "runs:\n",
      "-   end: 1662945986.1398034\n",
      "    result:\n",
      "    -   accuracy: 0.47883597883597884\n",
      "        f1 score (macro): 0.4577020753647976\n",
      "        f1 score (micro): 0.4788359788359789\n",
      "        f1 score (weighted): 0.49996988230716005\n",
      "    run id: 1\n",
      "    start: 1662945984.7173824\n",
      "    time taken: 1.4224209785461426\n",
      "-   end: 1662945987.5187905\n",
      "    result:\n",
      "    -   accuracy: 0.47883597883597884\n",
      "        f1 score (macro): 0.4577020753647976\n",
      "        f1 score (micro): 0.4788359788359789\n",
      "        f1 score (weighted): 0.49996988230716005\n",
      "    run id: 2\n",
      "    start: 1662945986.1398056\n",
      "    time taken: 1.3789849281311035\n",
      "-   end: 1662945988.8941143\n",
      "    result:\n",
      "    -   accuracy: 0.47883597883597884\n",
      "        f1 score (macro): 0.4577020753647976\n",
      "        f1 score (micro): 0.4788359788359789\n",
      "        f1 score (weighted): 0.49996988230716005\n",
      "    run id: 3\n",
      "    start: 1662945987.5187924\n",
      "    time taken: 1.375321865081787\n",
      "\n"
     ]
    }
   ],
   "source": [
    "#from librep.estimators import SVC\n",
    "from sklearn.svm import SVC\n",
    "\n",
    "experiment = SimpleTrainEvalWorkflow(estimator=SVC, estimator_creation_kwags ={'C':3.0, 'kernel':\"rbf\"} , do_not_instantiate=False, do_fit=True, evaluator=reporter)\n",
    "multi_run_experiment = MultiRunWorkflow(workflow=experiment, num_runs=3, debug=False)\n",
    "\n",
    "result = multi_run_experiment(combined_train_dset, test_dataset)\n",
    "print(yaml.dump(result, sort_keys=True, indent=4))"
   ]
  },
  {
   "cell_type": "code",
   "execution_count": 17,
   "id": "8e2d9c26-f8f7-42aa-9d80-d9f103a2f06e",
   "metadata": {},
   "outputs": [
    {
     "name": "stdout",
     "output_type": "stream",
     "text": [
      "runs:\n",
      "-   end: 1662945989.320505\n",
      "    result:\n",
      "    -   accuracy: 0.7936507936507936\n",
      "        f1 score (macro): 0.7760122723591896\n",
      "        f1 score (micro): 0.7936507936507936\n",
      "        f1 score (weighted): 0.8112893149423979\n",
      "    run id: 1\n",
      "    start: 1662945988.8994958\n",
      "    time taken: 0.4210090637207031\n",
      "-   end: 1662945989.7350264\n",
      "    result:\n",
      "    -   accuracy: 0.7936507936507936\n",
      "        f1 score (macro): 0.7760122723591896\n",
      "        f1 score (micro): 0.7936507936507936\n",
      "        f1 score (weighted): 0.8112893149423979\n",
      "    run id: 2\n",
      "    start: 1662945989.3205068\n",
      "    time taken: 0.4145195484161377\n",
      "-   end: 1662945990.1553805\n",
      "    result:\n",
      "    -   accuracy: 0.7936507936507936\n",
      "        f1 score (macro): 0.7760122723591896\n",
      "        f1 score (micro): 0.7936507936507936\n",
      "        f1 score (weighted): 0.8112893149423979\n",
      "    run id: 3\n",
      "    start: 1662945989.7350285\n",
      "    time taken: 0.4203519821166992\n",
      "\n"
     ]
    }
   ],
   "source": [
    "result = multi_run_experiment(combined_train_dset_fft, test_dataset_fft)\n",
    "print(yaml.dump(result, sort_keys=True, indent=4))"
   ]
  },
  {
   "cell_type": "markdown",
   "id": "2cf2bcb7-eb7c-46f5-9542-b873ae14f5af",
   "metadata": {},
   "source": [
    "## Train and evaluate K Neighbors Classifier classifier"
   ]
  },
  {
   "cell_type": "code",
   "execution_count": 18,
   "id": "267f4b44-2bc5-40a2-bae2-85ddbd9697c5",
   "metadata": {},
   "outputs": [
    {
     "name": "stdout",
     "output_type": "stream",
     "text": [
      "runs:\n",
      "-   end: 1662945990.3258417\n",
      "    result:\n",
      "    -   accuracy: 0.4470899470899471\n",
      "        f1 score (macro): 0.44767892953100336\n",
      "        f1 score (micro): 0.4470899470899471\n",
      "        f1 score (weighted): 0.44650096464889066\n",
      "    run id: 1\n",
      "    start: 1662945990.161067\n",
      "    time taken: 0.16477465629577637\n",
      "-   end: 1662945990.3509066\n",
      "    result:\n",
      "    -   accuracy: 0.4470899470899471\n",
      "        f1 score (macro): 0.44767892953100336\n",
      "        f1 score (micro): 0.4470899470899471\n",
      "        f1 score (weighted): 0.44650096464889066\n",
      "    run id: 2\n",
      "    start: 1662945990.3258452\n",
      "    time taken: 0.025061368942260742\n",
      "-   end: 1662945990.3748505\n",
      "    result:\n",
      "    -   accuracy: 0.4470899470899471\n",
      "        f1 score (macro): 0.44767892953100336\n",
      "        f1 score (micro): 0.4470899470899471\n",
      "        f1 score (weighted): 0.44650096464889066\n",
      "    run id: 3\n",
      "    start: 1662945990.350909\n",
      "    time taken: 0.023941516876220703\n",
      "\n"
     ]
    }
   ],
   "source": [
    "#from librep.estimators import KNeighborsClassifier\n",
    "from sklearn.neighbors import KNeighborsClassifier\n",
    "\n",
    "experiment = SimpleTrainEvalWorkflow(estimator=KNeighborsClassifier, estimator_creation_kwags ={'n_neighbors' :1} , do_not_instantiate=False, do_fit=True, evaluator=reporter)\n",
    "multi_run_experiment = MultiRunWorkflow(workflow=experiment, num_runs=3, debug=False)\n",
    "\n",
    "result = multi_run_experiment(combined_train_dset, test_dataset)\n",
    "print(yaml.dump(result, sort_keys=True, indent=4))"
   ]
  },
  {
   "cell_type": "code",
   "execution_count": 19,
   "id": "d464e02b-a75f-4f19-9446-f717fa0d5d5b",
   "metadata": {},
   "outputs": [
    {
     "name": "stdout",
     "output_type": "stream",
     "text": [
      "runs:\n",
      "-   end: 1662945990.402439\n",
      "    result:\n",
      "    -   accuracy: 0.8333333333333334\n",
      "        f1 score (macro): 0.8318913869639928\n",
      "        f1 score (micro): 0.8333333333333334\n",
      "        f1 score (weighted): 0.8347752797026738\n",
      "    run id: 1\n",
      "    start: 1662945990.383144\n",
      "    time taken: 0.019295215606689453\n",
      "-   end: 1662945990.4158952\n",
      "    result:\n",
      "    -   accuracy: 0.8333333333333334\n",
      "        f1 score (macro): 0.8318913869639928\n",
      "        f1 score (micro): 0.8333333333333334\n",
      "        f1 score (weighted): 0.8347752797026738\n",
      "    run id: 2\n",
      "    start: 1662945990.402441\n",
      "    time taken: 0.013454198837280273\n",
      "-   end: 1662945990.4288878\n",
      "    result:\n",
      "    -   accuracy: 0.8333333333333334\n",
      "        f1 score (macro): 0.8318913869639928\n",
      "        f1 score (micro): 0.8333333333333334\n",
      "        f1 score (weighted): 0.8347752797026738\n",
      "    run id: 3\n",
      "    start: 1662945990.4158971\n",
      "    time taken: 0.012990713119506836\n",
      "\n"
     ]
    }
   ],
   "source": [
    "result = multi_run_experiment(combined_train_dset_fft, test_dataset_fft)\n",
    "print(yaml.dump(result, sort_keys=True, indent=4))"
   ]
  }
 ],
 "metadata": {
  "kernelspec": {
   "display_name": "Python 3 (ipykernel)",
   "language": "python",
   "name": "python3"
  },
  "language_info": {
   "codemirror_mode": {
    "name": "ipython",
    "version": 3
   },
   "file_extension": ".py",
   "mimetype": "text/x-python",
   "name": "python",
   "nbconvert_exporter": "python",
   "pygments_lexer": "ipython3",
   "version": "3.8.10"
  }
 },
 "nbformat": 4,
 "nbformat_minor": 5
}
