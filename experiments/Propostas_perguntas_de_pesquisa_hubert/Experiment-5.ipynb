{
 "cells": [
  {
   "cell_type": "markdown",
   "id": "331354a0-1ad0-431a-954c-da40a85fc2cc",
   "metadata": {},
   "source": [
    "# Question 5\n",
    "\n",
    "\n",
    "*Partindo dos dados já normatizados, compararmos os resultados do treinamento/teste inter-dataset com e sem o UMAP para verificar se o UMAP melhorou ou piorou os resultados. Ou seja, verificar se ajudou a reduzir o efeito do domain-shift*"
   ]
  },
  {
   "cell_type": "code",
   "execution_count": null,
   "id": "64d61f76-b435-4df5-b248-e7a23b2747a2",
   "metadata": {
    "tags": []
   },
   "outputs": [],
   "source": [
    "%load_ext autoreload\n",
    "%autoreload 2"
   ]
  },
  {
   "cell_type": "code",
   "execution_count": null,
   "id": "6e004a6e-724b-488d-9575-4e34a8e9b87e",
   "metadata": {
    "tags": []
   },
   "outputs": [],
   "source": [
    "import sys\n",
    "sys_base_dir = \"../../\"\n",
    "sys.path.append(sys_base_dir)"
   ]
  },
  {
   "cell_type": "markdown",
   "id": "7163255a-a9a4-458c-b9ba-b2fe4eaef54c",
   "metadata": {},
   "source": [
    "## Subexperimento 1: Apenas 2 datasets (KuHar e MotionSense)\n",
    "- Carregar dados do KuHar\n",
    "- Carregar dados do MotionSense\n"
   ]
  },
  {
   "cell_type": "code",
   "execution_count": null,
   "id": "270b37a4-75a6-49e9-a864-955dcff3de2f",
   "metadata": {
    "tags": []
   },
   "outputs": [],
   "source": [
    "# Loading KuHar\n",
    "from librep.datasets.har.loaders import (\n",
    "    MotionSense_BalancedView20HZ,\n",
    "    KuHar_BalancedView20HzMotionSenseEquivalent\n",
    ")"
   ]
  },
  {
   "cell_type": "code",
   "execution_count": null,
   "id": "44af500b-5b8a-4f95-a7bd-a854086842e2",
   "metadata": {
    "tags": []
   },
   "outputs": [],
   "source": [
    "kuhar = {\n",
    "    'loader': KuHar_BalancedView20HzMotionSenseEquivalent(\n",
    "    root_dir=sys_base_dir + \"data/views/KuHar/balanced_20Hz_motionsense_equivalent-v1\",\n",
    "    download=False)\n",
    "}\n",
    "motionsense = {\n",
    "    'loader': MotionSense_BalancedView20HZ(\n",
    "        root_dir=sys_base_dir + \"data/views/MotionSense/balanced_view_20Hz_with_gravity_9.81_acc_standard\", \n",
    "        download=False)\n",
    "}\n",
    "\n",
    "kuhar_train, kuhar_test = kuhar_loader.load(concat_train_validation=True, label=loader.standard_label)\n",
    "k-train_val, test = loader.load(concat_train_validation=True, label=loader.standard_label)\n",
    "m-train_val, test = loader.load(concat_train_validation=True, label=loader.standard_label)\n",
    "\n",
    "datasets = [\n",
    "    {\n",
    "        'loader': \n",
    "    },\n",
    "    {\n",
    "        \n",
    "    }\n",
    "]"
   ]
  }
 ],
 "metadata": {
  "kernelspec": {
   "display_name": "Python 3 (ipykernel)",
   "language": "python",
   "name": "python3"
  },
  "language_info": {
   "codemirror_mode": {
    "name": "ipython",
    "version": 3
   },
   "file_extension": ".py",
   "mimetype": "text/x-python",
   "name": "python",
   "nbconvert_exporter": "python",
   "pygments_lexer": "ipython3",
   "version": "3.8.10"
  }
 },
 "nbformat": 4,
 "nbformat_minor": 5
}
