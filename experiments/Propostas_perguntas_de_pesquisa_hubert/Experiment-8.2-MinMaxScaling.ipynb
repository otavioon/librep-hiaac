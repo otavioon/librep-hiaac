{
 "cells": [
  {
   "cell_type": "code",
   "execution_count": 1,
   "id": "e97647d5-ecc0-4216-9974-3f4d29053664",
   "metadata": {
    "execution": {
     "iopub.execute_input": "2022-12-22T12:14:08.101264Z",
     "iopub.status.busy": "2022-12-22T12:14:08.100960Z",
     "iopub.status.idle": "2022-12-22T12:14:08.116792Z",
     "shell.execute_reply": "2022-12-22T12:14:08.116111Z",
     "shell.execute_reply.started": "2022-12-22T12:14:08.101232Z"
    }
   },
   "outputs": [],
   "source": [
    "%load_ext autoreload\n",
    "%autoreload 2"
   ]
  },
  {
   "cell_type": "code",
   "execution_count": 2,
   "id": "37d74b99-b09a-429e-b003-48dbb58a1c8c",
   "metadata": {
    "execution": {
     "iopub.execute_input": "2022-12-22T12:14:08.117937Z",
     "iopub.status.busy": "2022-12-22T12:14:08.117670Z",
     "iopub.status.idle": "2022-12-22T12:14:08.180127Z",
     "shell.execute_reply": "2022-12-22T12:14:08.179258Z",
     "shell.execute_reply.started": "2022-12-22T12:14:08.117914Z"
    },
    "tags": []
   },
   "outputs": [],
   "source": [
    "import sys\n",
    "sys.path.append(\"../..\")"
   ]
  },
  {
   "cell_type": "code",
   "execution_count": 3,
   "id": "57b785a3-df6a-4901-9f0d-53d6ee04bad5",
   "metadata": {
    "execution": {
     "iopub.execute_input": "2022-12-22T12:14:08.182108Z",
     "iopub.status.busy": "2022-12-22T12:14:08.181734Z",
     "iopub.status.idle": "2022-12-22T12:14:08.442101Z",
     "shell.execute_reply": "2022-12-22T12:14:08.441349Z",
     "shell.execute_reply.started": "2022-12-22T12:14:08.182078Z"
    },
    "tags": []
   },
   "outputs": [],
   "source": [
    "import numpy as np"
   ]
  },
  {
   "cell_type": "code",
   "execution_count": 4,
   "id": "8d4d65cf-1354-4cd9-9890-4d2de635a7c9",
   "metadata": {
    "execution": {
     "iopub.execute_input": "2022-12-22T12:14:08.444724Z",
     "iopub.status.busy": "2022-12-22T12:14:08.444380Z",
     "iopub.status.idle": "2022-12-22T12:14:16.478467Z",
     "shell.execute_reply": "2022-12-22T12:14:16.477595Z",
     "shell.execute_reply.started": "2022-12-22T12:14:08.444702Z"
    },
    "tags": []
   },
   "outputs": [
    {
     "name": "stderr",
     "output_type": "stream",
     "text": [
      "2022-12-22 12:14:14.412986: I tensorflow/core/platform/cpu_feature_guard.cc:193] This TensorFlow binary is optimized with oneAPI Deep Neural Network Library (oneDNN) to use the following CPU instructions in performance-critical operations:  AVX2 FMA\n",
      "To enable them in other operations, rebuild TensorFlow with the appropriate compiler flags.\n",
      "2022-12-22 12:14:14.529225: W tensorflow/compiler/xla/stream_executor/platform/default/dso_loader.cc:64] Could not load dynamic library 'libcudart.so.11.0'; dlerror: libcudart.so.11.0: cannot open shared object file: No such file or directory\n",
      "2022-12-22 12:14:14.529249: I tensorflow/compiler/xla/stream_executor/cuda/cudart_stub.cc:29] Ignore above cudart dlerror if you do not have a GPU set up on your machine.\n",
      "2022-12-22 12:14:15.310560: W tensorflow/compiler/xla/stream_executor/platform/default/dso_loader.cc:64] Could not load dynamic library 'libnvinfer.so.7'; dlerror: libnvinfer.so.7: cannot open shared object file: No such file or directory\n",
      "2022-12-22 12:14:15.310640: W tensorflow/compiler/xla/stream_executor/platform/default/dso_loader.cc:64] Could not load dynamic library 'libnvinfer_plugin.so.7'; dlerror: libnvinfer_plugin.so.7: cannot open shared object file: No such file or directory\n",
      "2022-12-22 12:14:15.310651: W tensorflow/compiler/tf2tensorrt/utils/py_utils.cc:38] TF-TRT Warning: Cannot dlopen some TensorRT libraries. If you would like to use Nvidia GPU with TensorRT, please make sure the missing libraries mentioned above are installed properly.\n"
     ]
    }
   ],
   "source": [
    "from librep.datasets.har.loaders import (\n",
    "    MotionSense_BalancedView20HZ\n",
    ")\n",
    "from experiments.Experiment_utils import run_experiments_accuracy_f1\n",
    "from librep.transforms.fft import FFT\n",
    "from librep.datasets.multimodal import TransformMultiModalDataset"
   ]
  },
  {
   "cell_type": "markdown",
   "id": "e2533511-fcfd-4637-a85a-5167c705d20c",
   "metadata": {},
   "source": [
    "# Experimento 8:\n",
    "*Aplicar dois tipos de normalização (Scaling e Z-norm) no dado já transformado pela função não paramétrica (p.ex,  no domínio da frequência, caso esta seja a melhor) e verificar para um dataset apenas*"
   ]
  },
  {
   "cell_type": "markdown",
   "id": "4ef4ca12-b8f3-415a-8aa6-3ff7ae9dfc14",
   "metadata": {
    "tags": []
   },
   "source": [
    "## Pasos a seguir:\n",
    "- Carregar o dataset MotionSense.\n",
    "- Aplicar Fourier para deixar MotionSense no dominio da frequencia\n",
    "- Aplicar a normalização MinMaxScaling\n",
    "- Aplicar a normalização Znorm\n",
    "- Comparar acurácias com modelos sem normalização "
   ]
  },
  {
   "cell_type": "markdown",
   "id": "b647afd1-592a-4025-9c69-457a0d467362",
   "metadata": {},
   "source": [
    "## Subexperimento 8.2 - Normalização MinMaxScaling"
   ]
  },
  {
   "cell_type": "markdown",
   "id": "529d2499-49dc-454d-86fd-8373c6875065",
   "metadata": {
    "tags": []
   },
   "source": [
    "### MotionSense"
   ]
  },
  {
   "cell_type": "code",
   "execution_count": 5,
   "id": "484829b1-ffdb-4a08-b438-e40a9a54f425",
   "metadata": {
    "execution": {
     "iopub.execute_input": "2022-12-22T12:14:16.479868Z",
     "iopub.status.busy": "2022-12-22T12:14:16.479463Z",
     "iopub.status.idle": "2022-12-22T12:14:16.530397Z",
     "shell.execute_reply": "2022-12-22T12:14:16.529709Z",
     "shell.execute_reply.started": "2022-12-22T12:14:16.479844Z"
    },
    "tags": []
   },
   "outputs": [],
   "source": [
    "# MotionSense Loader\n",
    "loader = MotionSense_BalancedView20HZ(\n",
    "    root_dir=\"../../data/views/MotionSense/balanced_view_20Hz_with_gravity_9.81_acc_standard\", \n",
    "    download=False\n",
    ")"
   ]
  },
  {
   "cell_type": "code",
   "execution_count": 6,
   "id": "7ed42e47-3dbe-4c9e-a083-975c10146993",
   "metadata": {
    "execution": {
     "iopub.execute_input": "2022-12-22T12:14:16.531971Z",
     "iopub.status.busy": "2022-12-22T12:14:16.531599Z",
     "iopub.status.idle": "2022-12-22T12:14:17.049868Z",
     "shell.execute_reply": "2022-12-22T12:14:17.049093Z",
     "shell.execute_reply.started": "2022-12-22T12:14:16.531941Z"
    }
   },
   "outputs": [],
   "source": [
    "train_val, test = loader.load(concat_train_validation=True, label=loader.standard_label)"
   ]
  },
  {
   "cell_type": "code",
   "execution_count": 7,
   "id": "398b09a6-0324-4d4c-9567-158e5445ae78",
   "metadata": {
    "execution": {
     "iopub.execute_input": "2022-12-22T12:14:17.051162Z",
     "iopub.status.busy": "2022-12-22T12:14:17.050801Z",
     "iopub.status.idle": "2022-12-22T12:14:17.119649Z",
     "shell.execute_reply": "2022-12-22T12:14:17.118872Z",
     "shell.execute_reply.started": "2022-12-22T12:14:17.051129Z"
    },
    "tags": []
   },
   "outputs": [],
   "source": [
    "train_HD = np.array(train_val[:][0])\n",
    "train_Y = np.array(train_val[:][1])\n",
    "test_HD = np.array(test[:][0])\n",
    "test_Y = np.array(test[:][1])"
   ]
  },
  {
   "cell_type": "markdown",
   "id": "de0f061c-1ff1-432d-9f47-c2d30a46cbdb",
   "metadata": {
    "tags": []
   },
   "source": [
    "### FFT"
   ]
  },
  {
   "cell_type": "code",
   "execution_count": 8,
   "id": "26e4627c-dc02-43e7-a3f5-c73d36785756",
   "metadata": {
    "execution": {
     "iopub.execute_input": "2022-12-22T12:14:17.120911Z",
     "iopub.status.busy": "2022-12-22T12:14:17.120593Z",
     "iopub.status.idle": "2022-12-22T12:14:17.277274Z",
     "shell.execute_reply": "2022-12-22T12:14:17.275599Z",
     "shell.execute_reply.started": "2022-12-22T12:14:17.120888Z"
    }
   },
   "outputs": [],
   "source": [
    "fft_transform = FFT(centered = True)\n",
    "transformer = TransformMultiModalDataset(\n",
    "    transforms=[fft_transform],\n",
    "    new_window_name_prefix=\"fft.\"\n",
    ")"
   ]
  },
  {
   "cell_type": "code",
   "execution_count": 9,
   "id": "3052e265-18fd-4e09-ad10-2b626e24da51",
   "metadata": {
    "execution": {
     "iopub.execute_input": "2022-12-22T12:14:17.279874Z",
     "iopub.status.busy": "2022-12-22T12:14:17.279336Z",
     "iopub.status.idle": "2022-12-22T12:14:17.798132Z",
     "shell.execute_reply": "2022-12-22T12:14:17.797384Z",
     "shell.execute_reply.started": "2022-12-22T12:14:17.279823Z"
    }
   },
   "outputs": [],
   "source": [
    "train_dataset_fft = transformer(train_val)\n",
    "test_dataset_fft = transformer(test)"
   ]
  },
  {
   "cell_type": "code",
   "execution_count": 10,
   "id": "c7e618c5-21da-4c21-a3cd-02afaf135c27",
   "metadata": {
    "execution": {
     "iopub.execute_input": "2022-12-22T12:14:17.799392Z",
     "iopub.status.busy": "2022-12-22T12:14:17.799065Z",
     "iopub.status.idle": "2022-12-22T12:14:17.868280Z",
     "shell.execute_reply": "2022-12-22T12:14:17.867542Z",
     "shell.execute_reply.started": "2022-12-22T12:14:17.799369Z"
    }
   },
   "outputs": [
    {
     "name": "stdout",
     "output_type": "stream",
     "text": [
      "(4020, 180)\n",
      "(1020, 180)\n"
     ]
    }
   ],
   "source": [
    "print(train_dataset_fft.X.shape)\n",
    "print(test_dataset_fft.X.shape)"
   ]
  },
  {
   "cell_type": "code",
   "execution_count": 11,
   "id": "34000a4b-e6c6-4060-8a8c-c51f5e5b2ae6",
   "metadata": {
    "execution": {
     "iopub.execute_input": "2022-12-22T12:14:17.869443Z",
     "iopub.status.busy": "2022-12-22T12:14:17.869210Z",
     "iopub.status.idle": "2022-12-22T12:14:17.938755Z",
     "shell.execute_reply": "2022-12-22T12:14:17.937756Z",
     "shell.execute_reply.started": "2022-12-22T12:14:17.869420Z"
    }
   },
   "outputs": [
    {
     "name": "stdout",
     "output_type": "stream",
     "text": [
      "797.3368276806895\n"
     ]
    }
   ],
   "source": [
    "print(np.max(train_dataset_fft.X))"
   ]
  },
  {
   "cell_type": "code",
   "execution_count": 12,
   "id": "7fcb5d41-db25-4927-bc68-6e76deb2e9db",
   "metadata": {
    "execution": {
     "iopub.execute_input": "2022-12-22T12:14:17.940390Z",
     "iopub.status.busy": "2022-12-22T12:14:17.940059Z",
     "iopub.status.idle": "2022-12-22T12:14:18.004210Z",
     "shell.execute_reply": "2022-12-22T12:14:18.003350Z",
     "shell.execute_reply.started": "2022-12-22T12:14:17.940357Z"
    }
   },
   "outputs": [],
   "source": [
    "train_HD = train_dataset_fft.X\n",
    "train_LD = None\n",
    "train_Y = train_dataset_fft.y\n",
    "test_HD = test_dataset_fft.X\n",
    "test_LD = None\n",
    "test_Y = test_dataset_fft.y"
   ]
  },
  {
   "cell_type": "code",
   "execution_count": 13,
   "id": "0e46a6ef-55cf-47ce-be9f-59baf41b2b2a",
   "metadata": {
    "execution": {
     "iopub.execute_input": "2022-12-22T12:14:18.005574Z",
     "iopub.status.busy": "2022-12-22T12:14:18.005312Z",
     "iopub.status.idle": "2022-12-22T12:14:18.079728Z",
     "shell.execute_reply": "2022-12-22T12:14:18.078832Z",
     "shell.execute_reply.started": "2022-12-22T12:14:18.005549Z"
    },
    "tags": []
   },
   "outputs": [
    {
     "name": "stdout",
     "output_type": "stream",
     "text": [
      "(4020, 180) (4020,) (1020, 180) (1020,)\n"
     ]
    }
   ],
   "source": [
    "print(train_HD.shape, train_Y.shape, test_HD.shape, test_Y.shape)"
   ]
  },
  {
   "cell_type": "markdown",
   "id": "f9ad6a44-293f-4a04-85b2-283ca3b1bf60",
   "metadata": {},
   "source": [
    "### MinMaxScaling"
   ]
  },
  {
   "cell_type": "code",
   "execution_count": 14,
   "id": "2f4e8b89-0e80-410c-8012-ce6fb3a2ef7a",
   "metadata": {
    "execution": {
     "iopub.execute_input": "2022-12-22T12:14:18.085028Z",
     "iopub.status.busy": "2022-12-22T12:14:18.084698Z",
     "iopub.status.idle": "2022-12-22T12:14:18.167981Z",
     "shell.execute_reply": "2022-12-22T12:14:18.167048Z",
     "shell.execute_reply.started": "2022-12-22T12:14:18.084996Z"
    },
    "tags": []
   },
   "outputs": [],
   "source": [
    "from sklearn.preprocessing import MinMaxScaler\n",
    "\n",
    "scaler = MinMaxScaler()\n",
    "scaler.fit(train_HD)\n",
    "train_HD = scaler.transform(train_HD)\n",
    "test_HD = scaler.transform(test_HD)"
   ]
  },
  {
   "cell_type": "markdown",
   "id": "f03ac7df-3803-4c37-a2ef-55c73c5506e0",
   "metadata": {},
   "source": [
    "### Acurácia e F1"
   ]
  },
  {
   "cell_type": "code",
   "execution_count": 15,
   "id": "85a5d59a-3804-4839-8b55-4b03bebf516b",
   "metadata": {
    "execution": {
     "iopub.execute_input": "2022-12-22T12:14:18.169507Z",
     "iopub.status.busy": "2022-12-22T12:14:18.169180Z",
     "iopub.status.idle": "2022-12-22T12:14:50.408923Z",
     "shell.execute_reply": "2022-12-22T12:14:50.408017Z",
     "shell.execute_reply.started": "2022-12-22T12:14:18.169475Z"
    },
    "tags": []
   },
   "outputs": [],
   "source": [
    "experiments_result_min_max = run_experiments_accuracy_f1(train_HD, train_Y, test_HD, test_Y)"
   ]
  },
  {
   "cell_type": "code",
   "execution_count": 16,
   "id": "be749677-c127-4047-aef4-cabab32e1667",
   "metadata": {
    "execution": {
     "iopub.execute_input": "2022-12-22T12:14:50.410326Z",
     "iopub.status.busy": "2022-12-22T12:14:50.410022Z",
     "iopub.status.idle": "2022-12-22T12:14:50.466356Z",
     "shell.execute_reply": "2022-12-22T12:14:50.465616Z",
     "shell.execute_reply.started": "2022-12-22T12:14:50.410300Z"
    },
    "tags": []
   },
   "outputs": [
    {
     "name": "stdout",
     "output_type": "stream",
     "text": [
      "Stored 'experiments_result_min_max' (dict)\n"
     ]
    }
   ],
   "source": [
    "%store experiments_result_min_max"
   ]
  }
 ],
 "metadata": {
  "kernelspec": {
   "display_name": "Python 3 (ipykernel)",
   "language": "python",
   "name": "python3"
  },
  "language_info": {
   "codemirror_mode": {
    "name": "ipython",
    "version": 3
   },
   "file_extension": ".py",
   "mimetype": "text/x-python",
   "name": "python",
   "nbconvert_exporter": "python",
   "pygments_lexer": "ipython3",
   "version": "3.8.10"
  }
 },
 "nbformat": 4,
 "nbformat_minor": 5
}
