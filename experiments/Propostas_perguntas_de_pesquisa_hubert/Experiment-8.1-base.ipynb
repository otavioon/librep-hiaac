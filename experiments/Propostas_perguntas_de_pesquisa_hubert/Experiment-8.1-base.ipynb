{
 "cells": [
  {
   "cell_type": "code",
   "execution_count": 1,
   "id": "e97647d5-ecc0-4216-9974-3f4d29053664",
   "metadata": {
    "execution": {
     "iopub.execute_input": "2022-12-22T12:14:03.849011Z",
     "iopub.status.busy": "2022-12-22T12:14:03.848712Z",
     "iopub.status.idle": "2022-12-22T12:14:03.867337Z",
     "shell.execute_reply": "2022-12-22T12:14:03.866657Z",
     "shell.execute_reply.started": "2022-12-22T12:14:03.848985Z"
    }
   },
   "outputs": [],
   "source": [
    "%load_ext autoreload\n",
    "%autoreload 2"
   ]
  },
  {
   "cell_type": "code",
   "execution_count": 2,
   "id": "37d74b99-b09a-429e-b003-48dbb58a1c8c",
   "metadata": {
    "execution": {
     "iopub.execute_input": "2022-12-22T12:14:03.868783Z",
     "iopub.status.busy": "2022-12-22T12:14:03.868500Z",
     "iopub.status.idle": "2022-12-22T12:14:03.931858Z",
     "shell.execute_reply": "2022-12-22T12:14:03.930518Z",
     "shell.execute_reply.started": "2022-12-22T12:14:03.868759Z"
    },
    "tags": []
   },
   "outputs": [],
   "source": [
    "import sys\n",
    "sys.path.append(\"../..\")"
   ]
  },
  {
   "cell_type": "code",
   "execution_count": 3,
   "id": "57b785a3-df6a-4901-9f0d-53d6ee04bad5",
   "metadata": {
    "execution": {
     "iopub.execute_input": "2022-12-22T12:14:03.934064Z",
     "iopub.status.busy": "2022-12-22T12:14:03.933537Z",
     "iopub.status.idle": "2022-12-22T12:14:04.140367Z",
     "shell.execute_reply": "2022-12-22T12:14:04.139474Z",
     "shell.execute_reply.started": "2022-12-22T12:14:03.934020Z"
    },
    "tags": []
   },
   "outputs": [],
   "source": [
    "import numpy as np"
   ]
  },
  {
   "cell_type": "code",
   "execution_count": 4,
   "id": "8d4d65cf-1354-4cd9-9890-4d2de635a7c9",
   "metadata": {
    "execution": {
     "iopub.execute_input": "2022-12-22T12:14:04.143170Z",
     "iopub.status.busy": "2022-12-22T12:14:04.141212Z",
     "iopub.status.idle": "2022-12-22T12:14:12.196081Z",
     "shell.execute_reply": "2022-12-22T12:14:12.195172Z",
     "shell.execute_reply.started": "2022-12-22T12:14:04.143145Z"
    },
    "tags": []
   },
   "outputs": [
    {
     "name": "stderr",
     "output_type": "stream",
     "text": [
      "2022-12-22 12:14:10.158913: I tensorflow/core/platform/cpu_feature_guard.cc:193] This TensorFlow binary is optimized with oneAPI Deep Neural Network Library (oneDNN) to use the following CPU instructions in performance-critical operations:  AVX2 FMA\n",
      "To enable them in other operations, rebuild TensorFlow with the appropriate compiler flags.\n",
      "2022-12-22 12:14:10.276064: W tensorflow/compiler/xla/stream_executor/platform/default/dso_loader.cc:64] Could not load dynamic library 'libcudart.so.11.0'; dlerror: libcudart.so.11.0: cannot open shared object file: No such file or directory\n",
      "2022-12-22 12:14:10.276092: I tensorflow/compiler/xla/stream_executor/cuda/cudart_stub.cc:29] Ignore above cudart dlerror if you do not have a GPU set up on your machine.\n",
      "2022-12-22 12:14:11.068659: W tensorflow/compiler/xla/stream_executor/platform/default/dso_loader.cc:64] Could not load dynamic library 'libnvinfer.so.7'; dlerror: libnvinfer.so.7: cannot open shared object file: No such file or directory\n",
      "2022-12-22 12:14:11.068753: W tensorflow/compiler/xla/stream_executor/platform/default/dso_loader.cc:64] Could not load dynamic library 'libnvinfer_plugin.so.7'; dlerror: libnvinfer_plugin.so.7: cannot open shared object file: No such file or directory\n",
      "2022-12-22 12:14:11.068766: W tensorflow/compiler/tf2tensorrt/utils/py_utils.cc:38] TF-TRT Warning: Cannot dlopen some TensorRT libraries. If you would like to use Nvidia GPU with TensorRT, please make sure the missing libraries mentioned above are installed properly.\n"
     ]
    }
   ],
   "source": [
    "from librep.datasets.har.loaders import (\n",
    "    MotionSense_BalancedView20HZ\n",
    ")\n",
    "from experiments.Experiment_utils import run_experiments_accuracy_f1\n",
    "from librep.transforms.fft import FFT\n",
    "from librep.datasets.multimodal import TransformMultiModalDataset"
   ]
  },
  {
   "cell_type": "markdown",
   "id": "e2533511-fcfd-4637-a85a-5167c705d20c",
   "metadata": {},
   "source": [
    "# Experimento 8:\n",
    "*Aplicar dois tipos de normalização (Scaling e Z-norm) no dado já transformado pela função não paramétrica (p.ex,  no domínio da frequência, caso esta seja a melhor) e verificar para um dataset apenas*"
   ]
  },
  {
   "cell_type": "markdown",
   "id": "4ef4ca12-b8f3-415a-8aa6-3ff7ae9dfc14",
   "metadata": {
    "tags": []
   },
   "source": [
    "## Pasos a seguir:\n",
    "- Carregar o dataset MotionSense.\n",
    "- Aplicar Fourier para deixar MotionSense no dominio da frequencia\n",
    "- Aplicar a normalização MinMaxScaling\n",
    "- Aplicar a normalização Znorm\n",
    "- Comparar acurácias com modelos sem normalização "
   ]
  },
  {
   "cell_type": "markdown",
   "id": "b647afd1-592a-4025-9c69-457a0d467362",
   "metadata": {},
   "source": [
    "## Subexperimento 8.1 - Sem normalização"
   ]
  },
  {
   "cell_type": "markdown",
   "id": "529d2499-49dc-454d-86fd-8373c6875065",
   "metadata": {
    "tags": []
   },
   "source": [
    "### MotionSense"
   ]
  },
  {
   "cell_type": "code",
   "execution_count": 5,
   "id": "484829b1-ffdb-4a08-b438-e40a9a54f425",
   "metadata": {
    "execution": {
     "iopub.execute_input": "2022-12-22T12:14:12.197531Z",
     "iopub.status.busy": "2022-12-22T12:14:12.197076Z",
     "iopub.status.idle": "2022-12-22T12:14:12.246525Z",
     "shell.execute_reply": "2022-12-22T12:14:12.245820Z",
     "shell.execute_reply.started": "2022-12-22T12:14:12.197507Z"
    },
    "tags": []
   },
   "outputs": [],
   "source": [
    "# MotionSense Loader\n",
    "loader = MotionSense_BalancedView20HZ(\n",
    "    root_dir=\"../../data/views/MotionSense/balanced_view_20Hz_with_gravity_9.81_acc_standard\", \n",
    "    download=False\n",
    ")"
   ]
  },
  {
   "cell_type": "code",
   "execution_count": 6,
   "id": "7ed42e47-3dbe-4c9e-a083-975c10146993",
   "metadata": {
    "execution": {
     "iopub.execute_input": "2022-12-22T12:14:12.247832Z",
     "iopub.status.busy": "2022-12-22T12:14:12.247549Z",
     "iopub.status.idle": "2022-12-22T12:14:12.763496Z",
     "shell.execute_reply": "2022-12-22T12:14:12.762643Z",
     "shell.execute_reply.started": "2022-12-22T12:14:12.247809Z"
    }
   },
   "outputs": [],
   "source": [
    "train_val, test = loader.load(concat_train_validation=True, label=loader.standard_label)"
   ]
  },
  {
   "cell_type": "code",
   "execution_count": 7,
   "id": "398b09a6-0324-4d4c-9567-158e5445ae78",
   "metadata": {
    "execution": {
     "iopub.execute_input": "2022-12-22T12:14:12.767023Z",
     "iopub.status.busy": "2022-12-22T12:14:12.766779Z",
     "iopub.status.idle": "2022-12-22T12:14:12.832803Z",
     "shell.execute_reply": "2022-12-22T12:14:12.832025Z",
     "shell.execute_reply.started": "2022-12-22T12:14:12.766993Z"
    },
    "tags": []
   },
   "outputs": [],
   "source": [
    "train_HD = np.array(train_val[:][0])\n",
    "train_Y = np.array(train_val[:][1])\n",
    "test_HD = np.array(test[:][0])\n",
    "test_Y = np.array(test[:][1])"
   ]
  },
  {
   "cell_type": "markdown",
   "id": "de0f061c-1ff1-432d-9f47-c2d30a46cbdb",
   "metadata": {
    "tags": []
   },
   "source": [
    "### FFT"
   ]
  },
  {
   "cell_type": "code",
   "execution_count": 8,
   "id": "26e4627c-dc02-43e7-a3f5-c73d36785756",
   "metadata": {
    "execution": {
     "iopub.execute_input": "2022-12-22T12:14:12.833961Z",
     "iopub.status.busy": "2022-12-22T12:14:12.833718Z",
     "iopub.status.idle": "2022-12-22T12:14:12.912239Z",
     "shell.execute_reply": "2022-12-22T12:14:12.911356Z",
     "shell.execute_reply.started": "2022-12-22T12:14:12.833938Z"
    }
   },
   "outputs": [],
   "source": [
    "fft_transform = FFT(centered = True)\n",
    "transformer = TransformMultiModalDataset(\n",
    "    transforms=[fft_transform],\n",
    "    new_window_name_prefix=\"fft.\"\n",
    ")"
   ]
  },
  {
   "cell_type": "code",
   "execution_count": 9,
   "id": "3052e265-18fd-4e09-ad10-2b626e24da51",
   "metadata": {
    "execution": {
     "iopub.execute_input": "2022-12-22T12:14:12.913507Z",
     "iopub.status.busy": "2022-12-22T12:14:12.913217Z",
     "iopub.status.idle": "2022-12-22T12:14:13.443086Z",
     "shell.execute_reply": "2022-12-22T12:14:13.442380Z",
     "shell.execute_reply.started": "2022-12-22T12:14:12.913483Z"
    }
   },
   "outputs": [],
   "source": [
    "train_dataset_fft = transformer(train_val)\n",
    "test_dataset_fft = transformer(test)"
   ]
  },
  {
   "cell_type": "code",
   "execution_count": 10,
   "id": "c7e618c5-21da-4c21-a3cd-02afaf135c27",
   "metadata": {
    "execution": {
     "iopub.execute_input": "2022-12-22T12:14:13.444265Z",
     "iopub.status.busy": "2022-12-22T12:14:13.444034Z",
     "iopub.status.idle": "2022-12-22T12:14:13.493934Z",
     "shell.execute_reply": "2022-12-22T12:14:13.493313Z",
     "shell.execute_reply.started": "2022-12-22T12:14:13.444241Z"
    }
   },
   "outputs": [
    {
     "name": "stdout",
     "output_type": "stream",
     "text": [
      "(4020, 180)\n",
      "(1020, 180)\n"
     ]
    }
   ],
   "source": [
    "print(train_dataset_fft.X.shape)\n",
    "print(test_dataset_fft.X.shape)"
   ]
  },
  {
   "cell_type": "code",
   "execution_count": 11,
   "id": "34000a4b-e6c6-4060-8a8c-c51f5e5b2ae6",
   "metadata": {
    "execution": {
     "iopub.execute_input": "2022-12-22T12:14:13.495319Z",
     "iopub.status.busy": "2022-12-22T12:14:13.494849Z",
     "iopub.status.idle": "2022-12-22T12:14:13.581013Z",
     "shell.execute_reply": "2022-12-22T12:14:13.580008Z",
     "shell.execute_reply.started": "2022-12-22T12:14:13.495294Z"
    }
   },
   "outputs": [
    {
     "name": "stdout",
     "output_type": "stream",
     "text": [
      "797.3368276806895\n"
     ]
    }
   ],
   "source": [
    "print(np.max(train_dataset_fft.X))"
   ]
  },
  {
   "cell_type": "code",
   "execution_count": 12,
   "id": "7fcb5d41-db25-4927-bc68-6e76deb2e9db",
   "metadata": {
    "execution": {
     "iopub.execute_input": "2022-12-22T12:14:13.582704Z",
     "iopub.status.busy": "2022-12-22T12:14:13.582295Z",
     "iopub.status.idle": "2022-12-22T12:14:13.656074Z",
     "shell.execute_reply": "2022-12-22T12:14:13.654915Z",
     "shell.execute_reply.started": "2022-12-22T12:14:13.582671Z"
    }
   },
   "outputs": [],
   "source": [
    "train_HD = train_dataset_fft.X\n",
    "train_LD = None\n",
    "train_Y = train_dataset_fft.y\n",
    "test_HD = test_dataset_fft.X\n",
    "test_LD = None\n",
    "test_Y = test_dataset_fft.y"
   ]
  },
  {
   "cell_type": "code",
   "execution_count": 13,
   "id": "0e46a6ef-55cf-47ce-be9f-59baf41b2b2a",
   "metadata": {
    "execution": {
     "iopub.execute_input": "2022-12-22T12:14:13.658080Z",
     "iopub.status.busy": "2022-12-22T12:14:13.657572Z",
     "iopub.status.idle": "2022-12-22T12:14:13.739029Z",
     "shell.execute_reply": "2022-12-22T12:14:13.738042Z",
     "shell.execute_reply.started": "2022-12-22T12:14:13.658038Z"
    },
    "tags": []
   },
   "outputs": [
    {
     "name": "stdout",
     "output_type": "stream",
     "text": [
      "(4020, 180) (4020,) (1020, 180) (1020,)\n"
     ]
    }
   ],
   "source": [
    "print(train_HD.shape, train_Y.shape, test_HD.shape, test_Y.shape)"
   ]
  },
  {
   "cell_type": "markdown",
   "id": "f03ac7df-3803-4c37-a2ef-55c73c5506e0",
   "metadata": {},
   "source": [
    "### Acurácia e F1"
   ]
  },
  {
   "cell_type": "code",
   "execution_count": 14,
   "id": "85a5d59a-3804-4839-8b55-4b03bebf516b",
   "metadata": {
    "execution": {
     "iopub.execute_input": "2022-12-22T12:14:13.740716Z",
     "iopub.status.busy": "2022-12-22T12:14:13.740292Z",
     "iopub.status.idle": "2022-12-22T12:14:46.191202Z",
     "shell.execute_reply": "2022-12-22T12:14:46.190289Z",
     "shell.execute_reply.started": "2022-12-22T12:14:13.740683Z"
    }
   },
   "outputs": [],
   "source": [
    "experiments_result_base = run_experiments_accuracy_f1(train_HD, train_Y, test_HD, test_Y)"
   ]
  },
  {
   "cell_type": "code",
   "execution_count": 15,
   "id": "be749677-c127-4047-aef4-cabab32e1667",
   "metadata": {
    "execution": {
     "iopub.execute_input": "2022-12-22T12:14:46.192712Z",
     "iopub.status.busy": "2022-12-22T12:14:46.192406Z",
     "iopub.status.idle": "2022-12-22T12:14:46.276033Z",
     "shell.execute_reply": "2022-12-22T12:14:46.274826Z",
     "shell.execute_reply.started": "2022-12-22T12:14:46.192684Z"
    },
    "tags": []
   },
   "outputs": [
    {
     "name": "stdout",
     "output_type": "stream",
     "text": [
      "Stored 'experiments_result_base' (dict)\n"
     ]
    }
   ],
   "source": [
    "%store experiments_result_base"
   ]
  },
  {
   "cell_type": "code",
   "execution_count": 16,
   "id": "417c65d5-3250-4544-94f8-476ac21ba301",
   "metadata": {
    "execution": {
     "iopub.execute_input": "2022-12-22T12:26:55.055156Z",
     "iopub.status.busy": "2022-12-22T12:26:55.054506Z",
     "iopub.status.idle": "2022-12-22T12:26:55.123408Z",
     "shell.execute_reply": "2022-12-22T12:26:55.122669Z",
     "shell.execute_reply.started": "2022-12-22T12:26:55.055067Z"
    },
    "tags": []
   },
   "outputs": [
    {
     "data": {
      "text/plain": [
       "{'RF-ACC': 0.8780392156862744,\n",
       " 'RF-F1': 0.8735310362128788,\n",
       " 'SVC-ACC': 0.9068627450980392,\n",
       " 'SVC-F1': 0.9088525697119879,\n",
       " 'KNN-ACC': 0.8470588235294118,\n",
       " 'KNN-F1': 0.84669223262764}"
      ]
     },
     "execution_count": 16,
     "metadata": {},
     "output_type": "execute_result"
    }
   ],
   "source": [
    "experiments_result_base"
   ]
  }
 ],
 "metadata": {
  "kernelspec": {
   "display_name": "Python 3 (ipykernel)",
   "language": "python",
   "name": "python3"
  },
  "language_info": {
   "codemirror_mode": {
    "name": "ipython",
    "version": 3
   },
   "file_extension": ".py",
   "mimetype": "text/x-python",
   "name": "python",
   "nbconvert_exporter": "python",
   "pygments_lexer": "ipython3",
   "version": "3.8.10"
  }
 },
 "nbformat": 4,
 "nbformat_minor": 5
}
