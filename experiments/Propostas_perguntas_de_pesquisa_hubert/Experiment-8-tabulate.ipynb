{
 "cells": [
  {
   "cell_type": "code",
   "execution_count": 1,
   "id": "82b8802a-df88-47b2-8ec3-b06797a48f92",
   "metadata": {
    "execution": {
     "iopub.execute_input": "2022-12-24T12:08:19.044729Z",
     "iopub.status.busy": "2022-12-24T12:08:19.044432Z",
     "iopub.status.idle": "2022-12-24T12:08:19.173770Z",
     "shell.execute_reply": "2022-12-24T12:08:19.172996Z",
     "shell.execute_reply.started": "2022-12-24T12:08:19.044697Z"
    },
    "tags": []
   },
   "outputs": [],
   "source": [
    "%store -r experiments_result_base\n",
    "%store -r experiments_result_min_max\n",
    "%store -r experiments_result_znorm\n",
    "%store -r experiments_result_robust_scaler"
   ]
  },
  {
   "cell_type": "code",
   "execution_count": 2,
   "id": "9c8524ea-5e31-4586-8a29-5cd941b70fb0",
   "metadata": {
    "execution": {
     "iopub.execute_input": "2022-12-24T12:08:19.175066Z",
     "iopub.status.busy": "2022-12-24T12:08:19.174717Z",
     "iopub.status.idle": "2022-12-24T12:08:19.189419Z",
     "shell.execute_reply": "2022-12-24T12:08:19.188646Z",
     "shell.execute_reply.started": "2022-12-24T12:08:19.175040Z"
    },
    "tags": []
   },
   "outputs": [
    {
     "name": "stdout",
     "output_type": "stream",
     "text": [
      "╒═══════════════╤══════════╤═════════╤═══════════╤══════════╤═══════════╤══════════╕\n",
      "│ Experiment    │   RF-ACC │   RF-F1 │   SVC-ACC │   SVC-F1 │   KNN-ACC │   KNN-F1 │\n",
      "╞═══════════════╪══════════╪═════════╪═══════════╪══════════╪═══════════╪══════════╡\n",
      "│ Base          │   0.8780 │  0.8735 │    0.9069 │   0.9089 │    0.8471 │   0.8467 │\n",
      "├───────────────┼──────────┼─────────┼───────────┼──────────┼───────────┼──────────┤\n",
      "│ MinMaxScaling │   0.8780 │  0.8734 │    0.9039 │   0.9036 │    0.8314 │   0.8308 │\n",
      "├───────────────┼──────────┼─────────┼───────────┼──────────┼───────────┼──────────┤\n",
      "│ Znorm         │   0.8730 │  0.8683 │    0.8912 │   0.8916 │    0.8137 │   0.8123 │\n",
      "├───────────────┼──────────┼─────────┼───────────┼──────────┼───────────┼──────────┤\n",
      "│ RobustScaler  │   0.8796 │  0.8751 │    0.9255 │   0.9267 │    0.8245 │   0.8233 │\n",
      "╘═══════════════╧══════════╧═════════╧═══════════╧══════════╧═══════════╧══════════╛\n",
      "╒═══════════════╤══════════╤═════════╤═══════════╤══════════╤═══════════╤══════════╕\n",
      "│ Experiment    │   RF-ACC │   RF-F1 │   SVC-ACC │   SVC-F1 │   KNN-ACC │   KNN-F1 │\n",
      "╞═══════════════╪══════════╪═════════╪═══════════╪══════════╪═══════════╪══════════╡\n",
      "│ Base          │   0.0000 │  0.0000 │    0.0000 │   0.0000 │    0.0000 │   0.0000 │\n",
      "├───────────────┼──────────┼─────────┼───────────┼──────────┼───────────┼──────────┤\n",
      "│ MinMaxScaling │  -0.0000 │  0.0001 │    0.0029 │   0.0053 │    0.0157 │   0.0159 │\n",
      "├───────────────┼──────────┼─────────┼───────────┼──────────┼───────────┼──────────┤\n",
      "│ Znorm         │   0.0050 │  0.0052 │    0.0157 │   0.0172 │    0.0333 │   0.0344 │\n",
      "├───────────────┼──────────┼─────────┼───────────┼──────────┼───────────┼──────────┤\n",
      "│ RobustScaler  │  -0.0016 │ -0.0016 │   -0.0186 │  -0.0178 │    0.0225 │   0.0234 │\n",
      "╘═══════════════╧══════════╧═════════╧═══════════╧══════════╧═══════════╧══════════╛\n"
     ]
    }
   ],
   "source": [
    "from tabulate import tabulate\n",
    "info = {\n",
    "    'Experiment': ['Base', 'MinMaxScaling', 'Znorm', 'RobustScaler'],\n",
    "    'RF-ACC': [],\n",
    "    'RF-F1': [],\n",
    "    'SVC-ACC': [],\n",
    "    'SVC-F1': [],\n",
    "    'KNN-ACC': [],\n",
    "    'KNN-F1': []\n",
    "}\n",
    "info2 = {\n",
    "    'Experiment': ['Base', 'MinMaxScaling', 'Znorm', 'RobustScaler'],\n",
    "    'RF-ACC': [],\n",
    "    'RF-F1': [],\n",
    "    'SVC-ACC': [],\n",
    "    'SVC-F1': [],\n",
    "    'KNN-ACC': [],\n",
    "    'KNN-F1': []\n",
    "}\n",
    "external_data = [\n",
    "    experiments_result_base, experiments_result_min_max,\n",
    "    experiments_result_znorm, experiments_result_robust_scaler\n",
    "]\n",
    "for data in external_data:\n",
    "    for tag in data:\n",
    "        info[tag].append(data[tag])\n",
    "        info2[tag].append(experiments_result_base[tag] - data[tag])\n",
    "print(tabulate(info, headers='keys', tablefmt='fancy_grid', missingval='-', floatfmt=\".4f\"))\n",
    "print(tabulate(info2, headers='keys', tablefmt='fancy_grid', missingval='-', floatfmt=\".4f\"))"
   ]
  }
 ],
 "metadata": {
  "kernelspec": {
   "display_name": "Python 3 (ipykernel)",
   "language": "python",
   "name": "python3"
  },
  "language_info": {
   "codemirror_mode": {
    "name": "ipython",
    "version": 3
   },
   "file_extension": ".py",
   "mimetype": "text/x-python",
   "name": "python",
   "nbconvert_exporter": "python",
   "pygments_lexer": "ipython3",
   "version": "3.8.10"
  }
 },
 "nbformat": 4,
 "nbformat_minor": 5
}
