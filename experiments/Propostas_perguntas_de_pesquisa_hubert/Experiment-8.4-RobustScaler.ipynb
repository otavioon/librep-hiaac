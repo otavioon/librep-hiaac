{
 "cells": [
  {
   "cell_type": "code",
   "execution_count": 1,
   "id": "e97647d5-ecc0-4216-9974-3f4d29053664",
   "metadata": {
    "execution": {
     "iopub.execute_input": "2022-12-22T13:28:49.517657Z",
     "iopub.status.busy": "2022-12-22T13:28:49.517276Z",
     "iopub.status.idle": "2022-12-22T13:28:49.536906Z",
     "shell.execute_reply": "2022-12-22T13:28:49.536181Z",
     "shell.execute_reply.started": "2022-12-22T13:28:49.517625Z"
    }
   },
   "outputs": [],
   "source": [
    "%load_ext autoreload\n",
    "%autoreload 2"
   ]
  },
  {
   "cell_type": "code",
   "execution_count": 2,
   "id": "37d74b99-b09a-429e-b003-48dbb58a1c8c",
   "metadata": {
    "execution": {
     "iopub.execute_input": "2022-12-22T13:28:49.538508Z",
     "iopub.status.busy": "2022-12-22T13:28:49.537927Z",
     "iopub.status.idle": "2022-12-22T13:28:49.582510Z",
     "shell.execute_reply": "2022-12-22T13:28:49.581824Z",
     "shell.execute_reply.started": "2022-12-22T13:28:49.538476Z"
    },
    "tags": []
   },
   "outputs": [],
   "source": [
    "import sys\n",
    "sys.path.append(\"../..\")"
   ]
  },
  {
   "cell_type": "code",
   "execution_count": 3,
   "id": "57b785a3-df6a-4901-9f0d-53d6ee04bad5",
   "metadata": {
    "execution": {
     "iopub.execute_input": "2022-12-22T13:28:49.584843Z",
     "iopub.status.busy": "2022-12-22T13:28:49.584332Z",
     "iopub.status.idle": "2022-12-22T13:28:49.741647Z",
     "shell.execute_reply": "2022-12-22T13:28:49.740935Z",
     "shell.execute_reply.started": "2022-12-22T13:28:49.584798Z"
    },
    "tags": []
   },
   "outputs": [],
   "source": [
    "import numpy as np"
   ]
  },
  {
   "cell_type": "code",
   "execution_count": 4,
   "id": "8d4d65cf-1354-4cd9-9890-4d2de635a7c9",
   "metadata": {
    "execution": {
     "iopub.execute_input": "2022-12-22T13:28:49.743262Z",
     "iopub.status.busy": "2022-12-22T13:28:49.742785Z",
     "iopub.status.idle": "2022-12-22T13:28:57.648599Z",
     "shell.execute_reply": "2022-12-22T13:28:57.647806Z",
     "shell.execute_reply.started": "2022-12-22T13:28:49.743229Z"
    },
    "tags": []
   },
   "outputs": [
    {
     "name": "stderr",
     "output_type": "stream",
     "text": [
      "2022-12-22 13:28:55.620873: I tensorflow/core/platform/cpu_feature_guard.cc:193] This TensorFlow binary is optimized with oneAPI Deep Neural Network Library (oneDNN) to use the following CPU instructions in performance-critical operations:  AVX2 FMA\n",
      "To enable them in other operations, rebuild TensorFlow with the appropriate compiler flags.\n",
      "2022-12-22 13:28:55.735384: W tensorflow/compiler/xla/stream_executor/platform/default/dso_loader.cc:64] Could not load dynamic library 'libcudart.so.11.0'; dlerror: libcudart.so.11.0: cannot open shared object file: No such file or directory\n",
      "2022-12-22 13:28:55.735406: I tensorflow/compiler/xla/stream_executor/cuda/cudart_stub.cc:29] Ignore above cudart dlerror if you do not have a GPU set up on your machine.\n",
      "2022-12-22 13:28:56.521155: W tensorflow/compiler/xla/stream_executor/platform/default/dso_loader.cc:64] Could not load dynamic library 'libnvinfer.so.7'; dlerror: libnvinfer.so.7: cannot open shared object file: No such file or directory\n",
      "2022-12-22 13:28:56.521246: W tensorflow/compiler/xla/stream_executor/platform/default/dso_loader.cc:64] Could not load dynamic library 'libnvinfer_plugin.so.7'; dlerror: libnvinfer_plugin.so.7: cannot open shared object file: No such file or directory\n",
      "2022-12-22 13:28:56.521257: W tensorflow/compiler/tf2tensorrt/utils/py_utils.cc:38] TF-TRT Warning: Cannot dlopen some TensorRT libraries. If you would like to use Nvidia GPU with TensorRT, please make sure the missing libraries mentioned above are installed properly.\n"
     ]
    }
   ],
   "source": [
    "from librep.datasets.har.loaders import (\n",
    "    MotionSense_BalancedView20HZ\n",
    ")\n",
    "from experiments.Experiment_utils import run_experiments_accuracy_f1\n",
    "from librep.transforms.fft import FFT\n",
    "from librep.datasets.multimodal import TransformMultiModalDataset"
   ]
  },
  {
   "cell_type": "markdown",
   "id": "e2533511-fcfd-4637-a85a-5167c705d20c",
   "metadata": {},
   "source": [
    "# Experimento 8:\n",
    "*Aplicar dois tipos de normalização (Scaling e Z-norm) no dado já transformado pela função não paramétrica (p.ex,  no domínio da frequência, caso esta seja a melhor) e verificar para um dataset apenas*"
   ]
  },
  {
   "cell_type": "markdown",
   "id": "4ef4ca12-b8f3-415a-8aa6-3ff7ae9dfc14",
   "metadata": {
    "tags": []
   },
   "source": [
    "## Pasos a seguir:\n",
    "- Carregar o dataset MotionSense.\n",
    "- Aplicar Fourier para deixar MotionSense no dominio da frequencia\n",
    "- Aplicar a normalização MinMaxScaling\n",
    "- Aplicar a normalização Znorm\n",
    "- Comparar acurácias com modelos sem normalização "
   ]
  },
  {
   "cell_type": "markdown",
   "id": "b647afd1-592a-4025-9c69-457a0d467362",
   "metadata": {},
   "source": [
    "## Subexperimento 8.3 - Normalização ZNorm"
   ]
  },
  {
   "cell_type": "markdown",
   "id": "529d2499-49dc-454d-86fd-8373c6875065",
   "metadata": {
    "tags": []
   },
   "source": [
    "### MotionSense"
   ]
  },
  {
   "cell_type": "code",
   "execution_count": 5,
   "id": "484829b1-ffdb-4a08-b438-e40a9a54f425",
   "metadata": {
    "execution": {
     "iopub.execute_input": "2022-12-22T13:28:57.649949Z",
     "iopub.status.busy": "2022-12-22T13:28:57.649547Z",
     "iopub.status.idle": "2022-12-22T13:28:57.699843Z",
     "shell.execute_reply": "2022-12-22T13:28:57.699039Z",
     "shell.execute_reply.started": "2022-12-22T13:28:57.649925Z"
    },
    "tags": []
   },
   "outputs": [],
   "source": [
    "# MotionSense Loader\n",
    "loader = MotionSense_BalancedView20HZ(\n",
    "    root_dir=\"../../data/views/MotionSense/balanced_view_20Hz_with_gravity_9.81_acc_standard\", \n",
    "    download=False\n",
    ")"
   ]
  },
  {
   "cell_type": "code",
   "execution_count": 6,
   "id": "7ed42e47-3dbe-4c9e-a083-975c10146993",
   "metadata": {
    "execution": {
     "iopub.execute_input": "2022-12-22T13:28:57.702974Z",
     "iopub.status.busy": "2022-12-22T13:28:57.702684Z",
     "iopub.status.idle": "2022-12-22T13:28:58.192547Z",
     "shell.execute_reply": "2022-12-22T13:28:58.191893Z",
     "shell.execute_reply.started": "2022-12-22T13:28:57.702952Z"
    }
   },
   "outputs": [],
   "source": [
    "train_val, test = loader.load(concat_train_validation=True, label=loader.standard_label)"
   ]
  },
  {
   "cell_type": "code",
   "execution_count": 7,
   "id": "398b09a6-0324-4d4c-9567-158e5445ae78",
   "metadata": {
    "execution": {
     "iopub.execute_input": "2022-12-22T13:28:58.193924Z",
     "iopub.status.busy": "2022-12-22T13:28:58.193695Z",
     "iopub.status.idle": "2022-12-22T13:28:58.259868Z",
     "shell.execute_reply": "2022-12-22T13:28:58.259091Z",
     "shell.execute_reply.started": "2022-12-22T13:28:58.193902Z"
    },
    "tags": []
   },
   "outputs": [],
   "source": [
    "train_HD = np.array(train_val[:][0])\n",
    "train_Y = np.array(train_val[:][1])\n",
    "test_HD = np.array(test[:][0])\n",
    "test_Y = np.array(test[:][1])"
   ]
  },
  {
   "cell_type": "markdown",
   "id": "de0f061c-1ff1-432d-9f47-c2d30a46cbdb",
   "metadata": {
    "tags": []
   },
   "source": [
    "### FFT"
   ]
  },
  {
   "cell_type": "code",
   "execution_count": 8,
   "id": "26e4627c-dc02-43e7-a3f5-c73d36785756",
   "metadata": {
    "execution": {
     "iopub.execute_input": "2022-12-22T13:28:58.261109Z",
     "iopub.status.busy": "2022-12-22T13:28:58.260822Z",
     "iopub.status.idle": "2022-12-22T13:28:58.310622Z",
     "shell.execute_reply": "2022-12-22T13:28:58.309925Z",
     "shell.execute_reply.started": "2022-12-22T13:28:58.261086Z"
    }
   },
   "outputs": [],
   "source": [
    "fft_transform = FFT(centered = True)\n",
    "transformer = TransformMultiModalDataset(\n",
    "    transforms=[fft_transform],\n",
    "    new_window_name_prefix=\"fft.\"\n",
    ")"
   ]
  },
  {
   "cell_type": "code",
   "execution_count": 9,
   "id": "3052e265-18fd-4e09-ad10-2b626e24da51",
   "metadata": {
    "execution": {
     "iopub.execute_input": "2022-12-22T13:28:58.311986Z",
     "iopub.status.busy": "2022-12-22T13:28:58.311673Z",
     "iopub.status.idle": "2022-12-22T13:28:58.849016Z",
     "shell.execute_reply": "2022-12-22T13:28:58.848297Z",
     "shell.execute_reply.started": "2022-12-22T13:28:58.311963Z"
    }
   },
   "outputs": [],
   "source": [
    "train_dataset_fft = transformer(train_val)\n",
    "test_dataset_fft = transformer(test)"
   ]
  },
  {
   "cell_type": "code",
   "execution_count": 10,
   "id": "c7e618c5-21da-4c21-a3cd-02afaf135c27",
   "metadata": {
    "execution": {
     "iopub.execute_input": "2022-12-22T13:28:58.850216Z",
     "iopub.status.busy": "2022-12-22T13:28:58.849989Z",
     "iopub.status.idle": "2022-12-22T13:28:58.900219Z",
     "shell.execute_reply": "2022-12-22T13:28:58.899437Z",
     "shell.execute_reply.started": "2022-12-22T13:28:58.850194Z"
    }
   },
   "outputs": [
    {
     "name": "stdout",
     "output_type": "stream",
     "text": [
      "(4020, 180)\n",
      "(1020, 180)\n"
     ]
    }
   ],
   "source": [
    "print(train_dataset_fft.X.shape)\n",
    "print(test_dataset_fft.X.shape)"
   ]
  },
  {
   "cell_type": "code",
   "execution_count": 11,
   "id": "34000a4b-e6c6-4060-8a8c-c51f5e5b2ae6",
   "metadata": {
    "execution": {
     "iopub.execute_input": "2022-12-22T13:28:58.901761Z",
     "iopub.status.busy": "2022-12-22T13:28:58.901380Z",
     "iopub.status.idle": "2022-12-22T13:28:58.965741Z",
     "shell.execute_reply": "2022-12-22T13:28:58.964770Z",
     "shell.execute_reply.started": "2022-12-22T13:28:58.901731Z"
    }
   },
   "outputs": [
    {
     "name": "stdout",
     "output_type": "stream",
     "text": [
      "797.3368276806895\n"
     ]
    }
   ],
   "source": [
    "print(np.max(train_dataset_fft.X))"
   ]
  },
  {
   "cell_type": "code",
   "execution_count": 12,
   "id": "7fcb5d41-db25-4927-bc68-6e76deb2e9db",
   "metadata": {
    "execution": {
     "iopub.execute_input": "2022-12-22T13:28:58.967764Z",
     "iopub.status.busy": "2022-12-22T13:28:58.967266Z",
     "iopub.status.idle": "2022-12-22T13:28:59.023419Z",
     "shell.execute_reply": "2022-12-22T13:28:59.022752Z",
     "shell.execute_reply.started": "2022-12-22T13:28:58.967723Z"
    }
   },
   "outputs": [],
   "source": [
    "train_HD = train_dataset_fft.X\n",
    "train_LD = None\n",
    "train_Y = train_dataset_fft.y\n",
    "test_HD = test_dataset_fft.X\n",
    "test_LD = None\n",
    "test_Y = test_dataset_fft.y"
   ]
  },
  {
   "cell_type": "code",
   "execution_count": 13,
   "id": "0e46a6ef-55cf-47ce-be9f-59baf41b2b2a",
   "metadata": {
    "execution": {
     "iopub.execute_input": "2022-12-22T13:28:59.024869Z",
     "iopub.status.busy": "2022-12-22T13:28:59.024586Z",
     "iopub.status.idle": "2022-12-22T13:28:59.077533Z",
     "shell.execute_reply": "2022-12-22T13:28:59.076600Z",
     "shell.execute_reply.started": "2022-12-22T13:28:59.024846Z"
    },
    "tags": []
   },
   "outputs": [
    {
     "name": "stdout",
     "output_type": "stream",
     "text": [
      "(4020, 180) (4020,) (1020, 180) (1020,)\n"
     ]
    }
   ],
   "source": [
    "print(train_HD.shape, train_Y.shape, test_HD.shape, test_Y.shape)"
   ]
  },
  {
   "cell_type": "markdown",
   "id": "f9ad6a44-293f-4a04-85b2-283ca3b1bf60",
   "metadata": {},
   "source": [
    "### RobustScaler"
   ]
  },
  {
   "cell_type": "code",
   "execution_count": 14,
   "id": "2f4e8b89-0e80-410c-8012-ce6fb3a2ef7a",
   "metadata": {
    "execution": {
     "iopub.execute_input": "2022-12-22T13:28:59.078863Z",
     "iopub.status.busy": "2022-12-22T13:28:59.078521Z",
     "iopub.status.idle": "2022-12-22T13:28:59.215506Z",
     "shell.execute_reply": "2022-12-22T13:28:59.214427Z",
     "shell.execute_reply.started": "2022-12-22T13:28:59.078840Z"
    },
    "tags": []
   },
   "outputs": [],
   "source": [
    "from sklearn.preprocessing import RobustScaler\n",
    "\n",
    "scaler = RobustScaler()\n",
    "scaler.fit(train_HD)\n",
    "train_HD = scaler.transform(train_HD)\n",
    "test_HD = scaler.transform(test_HD)"
   ]
  },
  {
   "cell_type": "markdown",
   "id": "f03ac7df-3803-4c37-a2ef-55c73c5506e0",
   "metadata": {},
   "source": [
    "### Acurácia e F1"
   ]
  },
  {
   "cell_type": "code",
   "execution_count": 15,
   "id": "85a5d59a-3804-4839-8b55-4b03bebf516b",
   "metadata": {
    "execution": {
     "iopub.execute_input": "2022-12-22T13:28:59.216893Z",
     "iopub.status.busy": "2022-12-22T13:28:59.216548Z",
     "iopub.status.idle": "2022-12-22T13:29:31.891260Z",
     "shell.execute_reply": "2022-12-22T13:29:31.890325Z",
     "shell.execute_reply.started": "2022-12-22T13:28:59.216869Z"
    },
    "tags": []
   },
   "outputs": [],
   "source": [
    "experiments_result_robust_scaler = run_experiments_accuracy_f1(train_HD, train_Y, test_HD, test_Y)"
   ]
  },
  {
   "cell_type": "code",
   "execution_count": 16,
   "id": "be749677-c127-4047-aef4-cabab32e1667",
   "metadata": {
    "execution": {
     "iopub.execute_input": "2022-12-22T13:29:31.892629Z",
     "iopub.status.busy": "2022-12-22T13:29:31.892383Z",
     "iopub.status.idle": "2022-12-22T13:29:31.949876Z",
     "shell.execute_reply": "2022-12-22T13:29:31.949143Z",
     "shell.execute_reply.started": "2022-12-22T13:29:31.892603Z"
    },
    "tags": []
   },
   "outputs": [
    {
     "name": "stdout",
     "output_type": "stream",
     "text": [
      "Stored 'experiments_result_robust_scaler' (dict)\n"
     ]
    }
   ],
   "source": [
    "%store experiments_result_robust_scaler"
   ]
  }
 ],
 "metadata": {
  "kernelspec": {
   "display_name": "Python 3 (ipykernel)",
   "language": "python",
   "name": "python3"
  },
  "language_info": {
   "codemirror_mode": {
    "name": "ipython",
    "version": 3
   },
   "file_extension": ".py",
   "mimetype": "text/x-python",
   "name": "python",
   "nbconvert_exporter": "python",
   "pygments_lexer": "ipython3",
   "version": "3.8.10"
  }
 },
 "nbformat": 4,
 "nbformat_minor": 5
}
