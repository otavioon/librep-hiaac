{
 "cells": [
  {
   "cell_type": "code",
   "execution_count": 1,
   "id": "e97647d5-ecc0-4216-9974-3f4d29053664",
   "metadata": {
    "execution": {
     "iopub.execute_input": "2022-12-22T12:47:54.452884Z",
     "iopub.status.busy": "2022-12-22T12:47:54.452600Z",
     "iopub.status.idle": "2022-12-22T12:47:54.472918Z",
     "shell.execute_reply": "2022-12-22T12:47:54.472091Z",
     "shell.execute_reply.started": "2022-12-22T12:47:54.452853Z"
    }
   },
   "outputs": [],
   "source": [
    "%load_ext autoreload\n",
    "%autoreload 2"
   ]
  },
  {
   "cell_type": "code",
   "execution_count": 2,
   "id": "37d74b99-b09a-429e-b003-48dbb58a1c8c",
   "metadata": {
    "execution": {
     "iopub.execute_input": "2022-12-22T12:47:54.474769Z",
     "iopub.status.busy": "2022-12-22T12:47:54.474421Z",
     "iopub.status.idle": "2022-12-22T12:47:54.541194Z",
     "shell.execute_reply": "2022-12-22T12:47:54.540311Z",
     "shell.execute_reply.started": "2022-12-22T12:47:54.474739Z"
    },
    "tags": []
   },
   "outputs": [],
   "source": [
    "import sys\n",
    "sys.path.append(\"../..\")"
   ]
  },
  {
   "cell_type": "code",
   "execution_count": 3,
   "id": "57b785a3-df6a-4901-9f0d-53d6ee04bad5",
   "metadata": {
    "execution": {
     "iopub.execute_input": "2022-12-22T12:47:54.542946Z",
     "iopub.status.busy": "2022-12-22T12:47:54.542661Z",
     "iopub.status.idle": "2022-12-22T12:47:54.732910Z",
     "shell.execute_reply": "2022-12-22T12:47:54.731741Z",
     "shell.execute_reply.started": "2022-12-22T12:47:54.542916Z"
    },
    "tags": []
   },
   "outputs": [],
   "source": [
    "import numpy as np"
   ]
  },
  {
   "cell_type": "code",
   "execution_count": 4,
   "id": "8d4d65cf-1354-4cd9-9890-4d2de635a7c9",
   "metadata": {
    "execution": {
     "iopub.execute_input": "2022-12-22T12:47:54.735068Z",
     "iopub.status.busy": "2022-12-22T12:47:54.734483Z",
     "iopub.status.idle": "2022-12-22T12:48:02.619794Z",
     "shell.execute_reply": "2022-12-22T12:48:02.618869Z",
     "shell.execute_reply.started": "2022-12-22T12:47:54.735029Z"
    },
    "tags": []
   },
   "outputs": [
    {
     "name": "stderr",
     "output_type": "stream",
     "text": [
      "2022-12-22 12:48:00.618690: I tensorflow/core/platform/cpu_feature_guard.cc:193] This TensorFlow binary is optimized with oneAPI Deep Neural Network Library (oneDNN) to use the following CPU instructions in performance-critical operations:  AVX2 FMA\n",
      "To enable them in other operations, rebuild TensorFlow with the appropriate compiler flags.\n",
      "2022-12-22 12:48:00.732848: W tensorflow/compiler/xla/stream_executor/platform/default/dso_loader.cc:64] Could not load dynamic library 'libcudart.so.11.0'; dlerror: libcudart.so.11.0: cannot open shared object file: No such file or directory\n",
      "2022-12-22 12:48:00.732878: I tensorflow/compiler/xla/stream_executor/cuda/cudart_stub.cc:29] Ignore above cudart dlerror if you do not have a GPU set up on your machine.\n",
      "2022-12-22 12:48:01.499919: W tensorflow/compiler/xla/stream_executor/platform/default/dso_loader.cc:64] Could not load dynamic library 'libnvinfer.so.7'; dlerror: libnvinfer.so.7: cannot open shared object file: No such file or directory\n",
      "2022-12-22 12:48:01.500002: W tensorflow/compiler/xla/stream_executor/platform/default/dso_loader.cc:64] Could not load dynamic library 'libnvinfer_plugin.so.7'; dlerror: libnvinfer_plugin.so.7: cannot open shared object file: No such file or directory\n",
      "2022-12-22 12:48:01.500013: W tensorflow/compiler/tf2tensorrt/utils/py_utils.cc:38] TF-TRT Warning: Cannot dlopen some TensorRT libraries. If you would like to use Nvidia GPU with TensorRT, please make sure the missing libraries mentioned above are installed properly.\n"
     ]
    }
   ],
   "source": [
    "from librep.datasets.har.loaders import (\n",
    "    MotionSense_BalancedView20HZ\n",
    ")\n",
    "from experiments.Experiment_utils import run_experiments_accuracy_f1\n",
    "from librep.transforms.fft import FFT\n",
    "from librep.datasets.multimodal import TransformMultiModalDataset"
   ]
  },
  {
   "cell_type": "markdown",
   "id": "e2533511-fcfd-4637-a85a-5167c705d20c",
   "metadata": {},
   "source": [
    "# Experimento 8:\n",
    "*Aplicar dois tipos de normalização (Scaling e Z-norm) no dado já transformado pela função não paramétrica (p.ex,  no domínio da frequência, caso esta seja a melhor) e verificar para um dataset apenas*"
   ]
  },
  {
   "cell_type": "markdown",
   "id": "4ef4ca12-b8f3-415a-8aa6-3ff7ae9dfc14",
   "metadata": {
    "tags": []
   },
   "source": [
    "## Pasos a seguir:\n",
    "- Carregar o dataset MotionSense.\n",
    "- Aplicar Fourier para deixar MotionSense no dominio da frequencia\n",
    "- Aplicar a normalização MinMaxScaling\n",
    "- Aplicar a normalização Znorm\n",
    "- Comparar acurácias com modelos sem normalização "
   ]
  },
  {
   "cell_type": "markdown",
   "id": "b647afd1-592a-4025-9c69-457a0d467362",
   "metadata": {},
   "source": [
    "## Subexperimento 8.3 - Normalização ZNorm"
   ]
  },
  {
   "cell_type": "markdown",
   "id": "529d2499-49dc-454d-86fd-8373c6875065",
   "metadata": {
    "tags": []
   },
   "source": [
    "### MotionSense"
   ]
  },
  {
   "cell_type": "code",
   "execution_count": 5,
   "id": "484829b1-ffdb-4a08-b438-e40a9a54f425",
   "metadata": {
    "execution": {
     "iopub.execute_input": "2022-12-22T12:48:02.621240Z",
     "iopub.status.busy": "2022-12-22T12:48:02.620837Z",
     "iopub.status.idle": "2022-12-22T12:48:02.673689Z",
     "shell.execute_reply": "2022-12-22T12:48:02.672963Z",
     "shell.execute_reply.started": "2022-12-22T12:48:02.621217Z"
    },
    "tags": []
   },
   "outputs": [],
   "source": [
    "# MotionSense Loader\n",
    "loader = MotionSense_BalancedView20HZ(\n",
    "    root_dir=\"../../data/views/MotionSense/balanced_view_20Hz_with_gravity_9.81_acc_standard\", \n",
    "    download=False\n",
    ")"
   ]
  },
  {
   "cell_type": "code",
   "execution_count": 6,
   "id": "7ed42e47-3dbe-4c9e-a083-975c10146993",
   "metadata": {
    "execution": {
     "iopub.execute_input": "2022-12-22T12:48:02.677322Z",
     "iopub.status.busy": "2022-12-22T12:48:02.677091Z",
     "iopub.status.idle": "2022-12-22T12:48:03.206000Z",
     "shell.execute_reply": "2022-12-22T12:48:03.205233Z",
     "shell.execute_reply.started": "2022-12-22T12:48:02.677299Z"
    }
   },
   "outputs": [],
   "source": [
    "train_val, test = loader.load(concat_train_validation=True, label=loader.standard_label)"
   ]
  },
  {
   "cell_type": "code",
   "execution_count": 7,
   "id": "398b09a6-0324-4d4c-9567-158e5445ae78",
   "metadata": {
    "execution": {
     "iopub.execute_input": "2022-12-22T12:48:03.207193Z",
     "iopub.status.busy": "2022-12-22T12:48:03.206932Z",
     "iopub.status.idle": "2022-12-22T12:48:03.274249Z",
     "shell.execute_reply": "2022-12-22T12:48:03.273491Z",
     "shell.execute_reply.started": "2022-12-22T12:48:03.207170Z"
    },
    "tags": []
   },
   "outputs": [],
   "source": [
    "train_HD = np.array(train_val[:][0])\n",
    "train_Y = np.array(train_val[:][1])\n",
    "test_HD = np.array(test[:][0])\n",
    "test_Y = np.array(test[:][1])"
   ]
  },
  {
   "cell_type": "markdown",
   "id": "de0f061c-1ff1-432d-9f47-c2d30a46cbdb",
   "metadata": {
    "tags": []
   },
   "source": [
    "### FFT"
   ]
  },
  {
   "cell_type": "code",
   "execution_count": 8,
   "id": "26e4627c-dc02-43e7-a3f5-c73d36785756",
   "metadata": {
    "execution": {
     "iopub.execute_input": "2022-12-22T12:48:03.275555Z",
     "iopub.status.busy": "2022-12-22T12:48:03.275217Z",
     "iopub.status.idle": "2022-12-22T12:48:03.340236Z",
     "shell.execute_reply": "2022-12-22T12:48:03.339204Z",
     "shell.execute_reply.started": "2022-12-22T12:48:03.275532Z"
    }
   },
   "outputs": [],
   "source": [
    "fft_transform = FFT(centered = True)\n",
    "transformer = TransformMultiModalDataset(\n",
    "    transforms=[fft_transform],\n",
    "    new_window_name_prefix=\"fft.\"\n",
    ")"
   ]
  },
  {
   "cell_type": "code",
   "execution_count": 9,
   "id": "3052e265-18fd-4e09-ad10-2b626e24da51",
   "metadata": {
    "execution": {
     "iopub.execute_input": "2022-12-22T12:48:03.341885Z",
     "iopub.status.busy": "2022-12-22T12:48:03.341547Z",
     "iopub.status.idle": "2022-12-22T12:48:03.883270Z",
     "shell.execute_reply": "2022-12-22T12:48:03.882503Z",
     "shell.execute_reply.started": "2022-12-22T12:48:03.341853Z"
    }
   },
   "outputs": [],
   "source": [
    "train_dataset_fft = transformer(train_val)\n",
    "test_dataset_fft = transformer(test)"
   ]
  },
  {
   "cell_type": "code",
   "execution_count": 10,
   "id": "c7e618c5-21da-4c21-a3cd-02afaf135c27",
   "metadata": {
    "execution": {
     "iopub.execute_input": "2022-12-22T12:48:03.884445Z",
     "iopub.status.busy": "2022-12-22T12:48:03.884211Z",
     "iopub.status.idle": "2022-12-22T12:48:03.934309Z",
     "shell.execute_reply": "2022-12-22T12:48:03.933581Z",
     "shell.execute_reply.started": "2022-12-22T12:48:03.884422Z"
    }
   },
   "outputs": [
    {
     "name": "stdout",
     "output_type": "stream",
     "text": [
      "(4020, 180)\n",
      "(1020, 180)\n"
     ]
    }
   ],
   "source": [
    "print(train_dataset_fft.X.shape)\n",
    "print(test_dataset_fft.X.shape)"
   ]
  },
  {
   "cell_type": "code",
   "execution_count": 11,
   "id": "34000a4b-e6c6-4060-8a8c-c51f5e5b2ae6",
   "metadata": {
    "execution": {
     "iopub.execute_input": "2022-12-22T12:48:03.935580Z",
     "iopub.status.busy": "2022-12-22T12:48:03.935227Z",
     "iopub.status.idle": "2022-12-22T12:48:04.015984Z",
     "shell.execute_reply": "2022-12-22T12:48:04.014944Z",
     "shell.execute_reply.started": "2022-12-22T12:48:03.935556Z"
    }
   },
   "outputs": [
    {
     "name": "stdout",
     "output_type": "stream",
     "text": [
      "797.3368276806895\n"
     ]
    }
   ],
   "source": [
    "print(np.max(train_dataset_fft.X))"
   ]
  },
  {
   "cell_type": "code",
   "execution_count": 12,
   "id": "7fcb5d41-db25-4927-bc68-6e76deb2e9db",
   "metadata": {
    "execution": {
     "iopub.execute_input": "2022-12-22T12:48:04.017636Z",
     "iopub.status.busy": "2022-12-22T12:48:04.017279Z",
     "iopub.status.idle": "2022-12-22T12:48:04.090682Z",
     "shell.execute_reply": "2022-12-22T12:48:04.089688Z",
     "shell.execute_reply.started": "2022-12-22T12:48:04.017603Z"
    }
   },
   "outputs": [],
   "source": [
    "train_HD = train_dataset_fft.X\n",
    "train_LD = None\n",
    "train_Y = train_dataset_fft.y\n",
    "test_HD = test_dataset_fft.X\n",
    "test_LD = None\n",
    "test_Y = test_dataset_fft.y"
   ]
  },
  {
   "cell_type": "code",
   "execution_count": 13,
   "id": "0e46a6ef-55cf-47ce-be9f-59baf41b2b2a",
   "metadata": {
    "execution": {
     "iopub.execute_input": "2022-12-22T12:48:04.092217Z",
     "iopub.status.busy": "2022-12-22T12:48:04.091890Z",
     "iopub.status.idle": "2022-12-22T12:48:04.165409Z",
     "shell.execute_reply": "2022-12-22T12:48:04.164474Z",
     "shell.execute_reply.started": "2022-12-22T12:48:04.092185Z"
    },
    "tags": []
   },
   "outputs": [
    {
     "name": "stdout",
     "output_type": "stream",
     "text": [
      "(4020, 180) (4020,) (1020, 180) (1020,)\n"
     ]
    }
   ],
   "source": [
    "print(train_HD.shape, train_Y.shape, test_HD.shape, test_Y.shape)"
   ]
  },
  {
   "cell_type": "markdown",
   "id": "f9ad6a44-293f-4a04-85b2-283ca3b1bf60",
   "metadata": {},
   "source": [
    "### ZNorm"
   ]
  },
  {
   "cell_type": "code",
   "execution_count": 14,
   "id": "2f4e8b89-0e80-410c-8012-ce6fb3a2ef7a",
   "metadata": {
    "execution": {
     "iopub.execute_input": "2022-12-22T12:48:04.166951Z",
     "iopub.status.busy": "2022-12-22T12:48:04.166623Z",
     "iopub.status.idle": "2022-12-22T12:48:04.251318Z",
     "shell.execute_reply": "2022-12-22T12:48:04.250480Z",
     "shell.execute_reply.started": "2022-12-22T12:48:04.166919Z"
    },
    "tags": []
   },
   "outputs": [],
   "source": [
    "from sklearn.preprocessing import StandardScaler\n",
    "\n",
    "scaler = StandardScaler()\n",
    "scaler.fit(train_HD)\n",
    "train_HD = scaler.transform(train_HD)\n",
    "test_HD = scaler.transform(test_HD)"
   ]
  },
  {
   "cell_type": "markdown",
   "id": "f03ac7df-3803-4c37-a2ef-55c73c5506e0",
   "metadata": {},
   "source": [
    "### Acurácia e F1"
   ]
  },
  {
   "cell_type": "code",
   "execution_count": 15,
   "id": "85a5d59a-3804-4839-8b55-4b03bebf516b",
   "metadata": {
    "execution": {
     "iopub.execute_input": "2022-12-22T12:48:04.252483Z",
     "iopub.status.busy": "2022-12-22T12:48:04.252256Z",
     "iopub.status.idle": "2022-12-22T12:48:36.640912Z",
     "shell.execute_reply": "2022-12-22T12:48:36.639980Z",
     "shell.execute_reply.started": "2022-12-22T12:48:04.252461Z"
    },
    "tags": []
   },
   "outputs": [],
   "source": [
    "experiments_result_znorm = run_experiments_accuracy_f1(train_HD, train_Y, test_HD, test_Y)"
   ]
  },
  {
   "cell_type": "code",
   "execution_count": 16,
   "id": "be749677-c127-4047-aef4-cabab32e1667",
   "metadata": {
    "execution": {
     "iopub.execute_input": "2022-12-22T12:48:36.642396Z",
     "iopub.status.busy": "2022-12-22T12:48:36.642065Z",
     "iopub.status.idle": "2022-12-22T12:48:36.698714Z",
     "shell.execute_reply": "2022-12-22T12:48:36.697981Z",
     "shell.execute_reply.started": "2022-12-22T12:48:36.642370Z"
    },
    "tags": []
   },
   "outputs": [
    {
     "name": "stdout",
     "output_type": "stream",
     "text": [
      "Stored 'experiments_result_znorm' (dict)\n"
     ]
    }
   ],
   "source": [
    "%store experiments_result_znorm"
   ]
  }
 ],
 "metadata": {
  "kernelspec": {
   "display_name": "Python 3 (ipykernel)",
   "language": "python",
   "name": "python3"
  },
  "language_info": {
   "codemirror_mode": {
    "name": "ipython",
    "version": 3
   },
   "file_extension": ".py",
   "mimetype": "text/x-python",
   "name": "python",
   "nbconvert_exporter": "python",
   "pygments_lexer": "ipython3",
   "version": "3.8.10"
  }
 },
 "nbformat": 4,
 "nbformat_minor": 5
}
