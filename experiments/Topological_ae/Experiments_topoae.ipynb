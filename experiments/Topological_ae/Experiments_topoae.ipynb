{
 "cells": [
  {
   "cell_type": "code",
   "execution_count": 1,
   "id": "613ad9ec-94ee-4fc5-9c8b-247f7477935e",
   "metadata": {},
   "outputs": [],
   "source": [
    "%load_ext autoreload\n",
    "%autoreload 2"
   ]
  },
  {
   "cell_type": "code",
   "execution_count": 2,
   "id": "36684cb7-1477-4a9f-adea-c7ef95e3898f",
   "metadata": {},
   "outputs": [],
   "source": [
    "import sys\n",
    "import pandas as pd\n",
    "from pathlib import Path\n",
    "\n",
    "sys.path.append(\"../..\")"
   ]
  },
  {
   "cell_type": "code",
   "execution_count": 3,
   "id": "31d903a6-f59c-4ca7-ada9-297f29dbcb38",
   "metadata": {},
   "outputs": [
    {
     "name": "stderr",
     "output_type": "stream",
     "text": [
      "2022-10-04 04:04:47.432347: W tensorflow/stream_executor/platform/default/dso_loader.cc:64] Could not load dynamic library 'libcudart.so.11.0'; dlerror: libcudart.so.11.0: cannot open shared object file: No such file or directory\n",
      "2022-10-04 04:04:47.432366: I tensorflow/stream_executor/cuda/cudart_stub.cc:29] Ignore above cudart dlerror if you do not have a GPU set up on your machine.\n"
     ]
    }
   ],
   "source": [
    "import tensorflow as tf\n",
    "import torch\n",
    "\n",
    "from librep.transforms import TSNE\n",
    "from librep.transforms import UMAP\n",
    "from librep.datasets.multimodal import TransformMultiModalDataset, ArrayMultiModalDataset\n",
    "from librep.metrics.dimred_evaluator import DimensionalityReductionQualityReport"
   ]
  },
  {
   "cell_type": "code",
   "execution_count": 4,
   "id": "c8922a71-9ec5-4237-a52d-ed4469bf3d4e",
   "metadata": {},
   "outputs": [],
   "source": [
    "dataset = tf.keras.datasets.mnist.load_data(path=\"mnist.npz\")\n",
    "(train_x, train_y), (test_x, test_y) = dataset"
   ]
  },
  {
   "cell_type": "code",
   "execution_count": 5,
   "id": "94e4d347-e89e-45cf-85aa-ab529d1cf93f",
   "metadata": {},
   "outputs": [
    {
     "name": "stdout",
     "output_type": "stream",
     "text": [
      "TRAIN_X_REORDERED (60000, 784)\n",
      "TEST_X_REORDERED (10000, 784)\n"
     ]
    }
   ],
   "source": [
    "train_x_reordered = train_x.reshape((60000,-1))\n",
    "print('TRAIN_X_REORDERED', train_x_reordered.shape)\n",
    "\n",
    "test_x_reordered = test_x.reshape((10000,-1))\n",
    "print('TEST_X_REORDERED', test_x_reordered.shape)\n"
   ]
  },
  {
   "cell_type": "code",
   "execution_count": 6,
   "id": "0c2ea0e6-2a39-472c-bfd5-946414afb558",
   "metadata": {},
   "outputs": [],
   "source": [
    "mnist_dataset_train = ArrayMultiModalDataset(X=train_x_reordered, y=train_y, window_slices=[(0, 28*28)], \n",
    "                                             window_names=[\"px\"])\n",
    "mnist_dataset_test = ArrayMultiModalDataset(X=test_x_reordered, y=test_y, window_slices=[(0, 28*28)], \n",
    "                                             window_names=[\"px\"])"
   ]
  },
  {
   "cell_type": "code",
   "execution_count": 7,
   "id": "5a3e36eb-ebca-482d-8f7d-d5ce04d94176",
   "metadata": {},
   "outputs": [],
   "source": [
    "from librep.transforms.topo_ae import TopologicalDimensionalityReduction\n",
    "from librep.estimators.ae.torch.models.topological_ae.topological_ae import TopologicallyRegularizedAutoencoder"
   ]
  },
  {
   "cell_type": "code",
   "execution_count": 8,
   "id": "70cdabdd-c769-4b17-98c3-f325f7ccd50d",
   "metadata": {},
   "outputs": [
    {
     "data": {
      "text/plain": [
       "array([[0, 0, 0, ..., 0, 0, 0],\n",
       "       [0, 0, 0, ..., 0, 0, 0],\n",
       "       [0, 0, 0, ..., 0, 0, 0],\n",
       "       ...,\n",
       "       [0, 0, 0, ..., 0, 0, 0],\n",
       "       [0, 0, 0, ..., 0, 0, 0],\n",
       "       [0, 0, 0, ..., 0, 0, 0]], dtype=uint8)"
      ]
     },
     "execution_count": 8,
     "metadata": {},
     "output_type": "execute_result"
    }
   ],
   "source": [
    "mnist_dataset_train.X"
   ]
  },
  {
   "cell_type": "code",
   "execution_count": 11,
   "id": "8233d325-8faa-4005-b0d9-4b110ab17e86",
   "metadata": {},
   "outputs": [
    {
     "name": "stdout",
     "output_type": "stream",
     "text": [
      "Topologically Regularized DeepAE\n",
      "Using python to compute signatures\n",
      "Epoch:1, P:10, Loss:11305.7989, Loss-ae:7213.6113, Loss-topo:409.2188\n",
      "Epoch:2, P:9, Loss:7944.6129, Loss-ae:7207.8717, Loss-topo:73.6741\n",
      "Epoch:3, P:10, Loss:7908.7341, Loss-ae:7207.8581, Loss-topo:70.0876\n",
      "Epoch:4, P:10, Loss:7893.4606, Loss-ae:7207.8585, Loss-topo:68.5602\n",
      "Epoch:5, P:10, Loss:7908.8545, Loss-ae:7207.8604, Loss-topo:70.0994\n",
      "Epoch:6, P:9, Loss:7917.4603, Loss-ae:7207.8728, Loss-topo:70.9588\n",
      "Epoch:7, P:8, Loss:7906.3749, Loss-ae:7207.8712, Loss-topo:69.8504\n",
      "Epoch:8, P:7, Loss:7908.7763, Loss-ae:7207.8689, Loss-topo:70.0907\n",
      "Epoch:9, P:6, Loss:7899.3497, Loss-ae:7207.8656, Loss-topo:69.1484\n",
      "Epoch:10, P:5, Loss:7897.0835, Loss-ae:7207.8651, Loss-topo:68.9218\n",
      "Epoch:11, P:4, Loss:7903.7151, Loss-ae:7207.8630, Loss-topo:69.5852\n",
      "Epoch:12, P:3, Loss:7884.0445, Loss-ae:7207.8549, Loss-topo:67.6190\n",
      "Epoch:13, P:10, Loss:7872.3425, Loss-ae:7207.8570, Loss-topo:66.4486\n",
      "Epoch:14, P:10, Loss:7891.0588, Loss-ae:7207.8544, Loss-topo:68.3204\n",
      "Epoch:15, P:9, Loss:7901.2506, Loss-ae:7207.8570, Loss-topo:69.3394\n",
      "Epoch:16, P:8, Loss:7885.3576, Loss-ae:7207.8613, Loss-topo:67.7496\n",
      "Epoch:17, P:7, Loss:7898.8707, Loss-ae:7207.8607, Loss-topo:69.1010\n",
      "Epoch:18, P:6, Loss:7873.7784, Loss-ae:7207.8574, Loss-topo:66.5921\n",
      "Epoch:19, P:5, Loss:7897.2008, Loss-ae:7207.8521, Loss-topo:68.9349\n",
      "Epoch:20, P:4, Loss:7880.6731, Loss-ae:7207.8477, Loss-topo:67.2825\n",
      "Epoch:21, P:3, Loss:7895.4581, Loss-ae:7207.8469, Loss-topo:68.7611\n",
      "Epoch:22, P:2, Loss:7895.1228, Loss-ae:7207.8390, Loss-topo:68.7284\n",
      "Epoch:23, P:1, Loss:7897.2505, Loss-ae:7207.8348, Loss-topo:68.9416\n",
      "Epoch:24, P:0, Loss:7895.1753, Loss-ae:7207.8327, Loss-topo:68.7343\n"
     ]
    },
    {
     "data": {
      "image/png": "[encoded data removed]",
      "text/plain": [
       "<Figure size 640x480 with 1 Axes>"
      ]
     },
     "metadata": {},
     "output_type": "display_data"
    },
    {
     "data": {
      "text/plain": [
       "<librep.transforms.topo_ae.TopologicalDimensionalityReduction at 0x7f92922b5670>"
      ]
     },
     "execution_count": 11,
     "metadata": {},
     "output_type": "execute_result"
    }
   ],
   "source": [
    "transform_topoae = TopologicalDimensionalityReduction(ae_model='DeepAE', lam=10.)\n",
    "transform_topoae.fit(mnist_dataset_train.X, mnist_dataset_train.y)"
   ]
  },
  {
   "cell_type": "code",
   "execution_count": null,
   "id": "bc29ee9a-0fa1-4982-94aa-a6abc06e0dbb",
   "metadata": {},
   "outputs": [],
   "source": [
    "test_applied_topoae = transform_topoae.transform(mnist_dataset_test.X)"
   ]
  },
  {
   "cell_type": "code",
   "execution_count": null,
   "id": "d1760b77-4b99-430d-8721-d68de5e69d41",
   "metadata": {},
   "outputs": [],
   "source": [
    "print(test_applied_topoae.shape)"
   ]
  },
  {
   "cell_type": "code",
   "execution_count": null,
   "id": "ea22003c-1041-40b6-b745-0e5a4bd19ad9",
   "metadata": {},
   "outputs": [],
   "source": [
    "from librep.transforms import TSNE\n",
    "import numpy as np\n",
    "import matplotlib.pyplot as plt\n",
    "\n",
    "def visualize(X, Y):\n",
    "    data_grouped = list(zip(X, Y))\n",
    "    uniques = np.unique(Y)\n",
    "    for uval in np.unique(Y):\n",
    "        data = [pair[0] for pair in data_grouped if pair[1]==uval]\n",
    "        data_x = [unit[0] for unit in data]\n",
    "        data_y = [unit[1] for unit in data]\n",
    "        plt.scatter(data_x, data_y, label = uval)\n",
    "    # print(data)\n",
    "    plt.legend()\n",
    "    plt.show()\n"
   ]
  },
  {
   "cell_type": "code",
   "execution_count": null,
   "id": "f62fafca-dd34-4e5c-af27-be18ace78951",
   "metadata": {
    "tags": []
   },
   "outputs": [],
   "source": [
    "transformed = TSNE().fit_transform(mnist_dataset_test.X)"
   ]
  },
  {
   "cell_type": "code",
   "execution_count": null,
   "id": "958819e1-af8f-44bf-87a7-deaf1c27da81",
   "metadata": {},
   "outputs": [],
   "source": [
    "visualize(transformed, mnist_dataset_test.y)"
   ]
  },
  {
   "cell_type": "code",
   "execution_count": null,
   "id": "cd654a21-500c-4856-bbce-39775f7aba4c",
   "metadata": {},
   "outputs": [],
   "source": [
    "metrics_reporter = DimensionalityReductionQualityReport(sampling_threshold=128)\n",
    "metrics_train_applied_topoae = metrics_reporter.evaluate([mnist_dataset_test, test_applied_topoae])\n",
    "print(metrics_train_applied_topoae)"
   ]
  },
  {
   "cell_type": "code",
   "execution_count": null,
   "id": "8041b8f8-b6bd-46fc-b143-d4ab4ed54685",
   "metadata": {},
   "outputs": [],
   "source": [
    "metrics_reporter = DimensionalityReductionQualityReport(sampling_threshold=500)\n",
    "metrics_train_applied_topoae = metrics_reporter.evaluate([mnist_dataset_test, test_applied_topoae])\n",
    "print(metrics_train_applied_topoae)"
   ]
  },
  {
   "cell_type": "code",
   "execution_count": null,
   "id": "bf94d609-d965-47ac-927e-f9840b2a2330",
   "metadata": {},
   "outputs": [],
   "source": [
    "metrics_reporter = DimensionalityReductionQualityReport(sampling_threshold=1000)\n",
    "metrics_train_applied_topoae = metrics_reporter.evaluate([mnist_dataset_test, test_applied_topoae])\n",
    "print(metrics_train_applied_topoae)"
   ]
  }
 ],
 "metadata": {
  "kernelspec": {
   "display_name": "Python 3 (ipykernel)",
   "language": "python",
   "name": "python3"
  },
  "language_info": {
   "codemirror_mode": {
    "name": "ipython",
    "version": 3
   },
   "file_extension": ".py",
   "mimetype": "text/x-python",
   "name": "python",
   "nbconvert_exporter": "python",
   "pygments_lexer": "ipython3",
   "version": "3.8.10"
  }
 },
 "nbformat": 4,
 "nbformat_minor": 5
}
