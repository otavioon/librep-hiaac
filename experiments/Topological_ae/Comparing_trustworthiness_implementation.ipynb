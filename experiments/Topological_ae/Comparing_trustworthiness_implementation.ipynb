{
 "cells": [
  {
   "cell_type": "markdown",
   "id": "f69d16ea-b742-48c3-8b7a-ff46ea7da1a3",
   "metadata": {},
   "source": [
    "# Basic imports"
   ]
  },
  {
   "cell_type": "code",
   "execution_count": 1,
   "id": "f5ec61d1-fc56-43ad-b899-c57e51535ad4",
   "metadata": {},
   "outputs": [],
   "source": [
    "%load_ext autoreload\n",
    "%autoreload 2"
   ]
  },
  {
   "cell_type": "code",
   "execution_count": 2,
   "id": "62720f42-4f89-4115-ac1d-a96d6acb4ef8",
   "metadata": {},
   "outputs": [
    {
     "name": "stderr",
     "output_type": "stream",
     "text": [
      "2022-10-10 23:11:30.215442: W tensorflow/stream_executor/platform/default/dso_loader.cc:64] Could not load dynamic library 'libcudart.so.11.0'; dlerror: libcudart.so.11.0: cannot open shared object file: No such file or directory\n",
      "2022-10-10 23:11:30.215462: I tensorflow/stream_executor/cuda/cudart_stub.cc:29] Ignore above cudart dlerror if you do not have a GPU set up on your machine.\n"
     ]
    },
    {
     "name": "stdout",
     "output_type": "stream",
     "text": [
      "['/home/hubert/librep-hiaac/experiments/Topological_ae', '/usr/lib/python38.zip', '/usr/lib/python3.8', '/usr/lib/python3.8/lib-dynload', '', '/usr/local/lib/python3.8/dist-packages', '/usr/lib/python3/dist-packages']\n"
     ]
    }
   ],
   "source": [
    "import tensorflow as tf\n",
    "import sys\n",
    "import numpy as np\n",
    "import pandas as pd\n",
    "from pathlib import Path\n",
    "print(sys.path)\n",
    "sys.path.append(\"..\")\n",
    "sys.path.append(\"../..\")\n",
    "sys.path.append(\"../../..\")"
   ]
  },
  {
   "cell_type": "code",
   "execution_count": 9,
   "id": "aee84eca-52a4-429d-ab1c-61086cab9b73",
   "metadata": {},
   "outputs": [],
   "source": [
    "# from librep.transforms import TSNE\n",
    "# from librep.transforms import UMAP\n",
    "from librep.datasets.multimodal import TransformMultiModalDataset, ArrayMultiModalDataset, WindowedTransform\n",
    "# from librep.metrics.dimred_evaluator import DimensionalityReductionQualityReport, MultiDimensionalityReductionQualityReport\n",
    "# from librep.datasets.har.loaders import MNISTView\n",
    "from sklearn.decomposition import PCA"
   ]
  },
  {
   "cell_type": "code",
   "execution_count": 31,
   "id": "3bd49ab4-423a-48b5-9483-d6b1941234bb",
   "metadata": {},
   "outputs": [],
   "source": [
    "from TopoAEMetrics import MeasureCalculator\n",
    "from pyDRMetrics.pyDRMetrics import DRMetrics"
   ]
  },
  {
   "cell_type": "markdown",
   "id": "930ed345-3c35-4243-8be6-85f9704bcf6e",
   "metadata": {},
   "source": [
    "# Loading MNIST"
   ]
  },
  {
   "cell_type": "code",
   "execution_count": 11,
   "id": "773c9a7d-2a3f-4758-a492-f41b4d13592c",
   "metadata": {},
   "outputs": [],
   "source": [
    "(x_train, y_train), (x_test, y_test) = tf.keras.datasets.mnist.load_data()\n",
    "train_val_pd_X = np.reshape(x_train, (-1, 28*28))\n",
    "train_val_pd_Y = y_train\n",
    "test_pd_X = np.reshape(x_test, (-1, 28*28))\n",
    "test_pd_Y = y_test"
   ]
  },
  {
   "cell_type": "code",
   "execution_count": 12,
   "id": "f1f12bcd-9ca6-4737-a286-b8919d263abb",
   "metadata": {},
   "outputs": [
    {
     "data": {
      "text/plain": [
       "(10000, 784)"
      ]
     },
     "execution_count": 12,
     "metadata": {},
     "output_type": "execute_result"
    }
   ],
   "source": [
    "test_pd_X.shape"
   ]
  },
  {
   "cell_type": "markdown",
   "id": "4406db93-a697-4616-bda0-a2eacacb9931",
   "metadata": {},
   "source": [
    "# Reduce with PCA"
   ]
  },
  {
   "cell_type": "code",
   "execution_count": 17,
   "id": "54909c29-6a18-4d2d-8511-e9beb81efa81",
   "metadata": {},
   "outputs": [],
   "source": [
    "reducer = PCA(n_components=2)\n",
    "train_val_pd_X_reduced = reducer.fit_transform(train_val_pd_X)\n",
    "test_pd_X_reduced = reducer.fit_transform(test_pd_X)"
   ]
  },
  {
   "cell_type": "code",
   "execution_count": 19,
   "id": "0fce0624-d746-47b1-ae7b-373f56fef263",
   "metadata": {},
   "outputs": [
    {
     "data": {
      "text/plain": [
       "(60000, 2)"
      ]
     },
     "execution_count": 19,
     "metadata": {},
     "output_type": "execute_result"
    }
   ],
   "source": [
    "train_val_pd_X_reduced.shape"
   ]
  },
  {
   "cell_type": "code",
   "execution_count": 20,
   "id": "7b33815e-dba2-4cdd-a336-8ddaade5bf3c",
   "metadata": {},
   "outputs": [
    {
     "data": {
      "text/plain": [
       "(10000, 2)"
      ]
     },
     "execution_count": 20,
     "metadata": {},
     "output_type": "execute_result"
    }
   ],
   "source": [
    "test_pd_X_reduced.shape"
   ]
  },
  {
   "cell_type": "code",
   "execution_count": 21,
   "id": "5c4389b5-a2e0-4f9a-bcc4-7e695f681cba",
   "metadata": {},
   "outputs": [
    {
     "data": {
      "text/plain": [
       "(500, 784)"
      ]
     },
     "execution_count": 21,
     "metadata": {},
     "output_type": "execute_result"
    }
   ],
   "source": [
    "test_pd_X_500 = test_pd_X[:500,:]\n",
    "test_pd_X_500.shape"
   ]
  },
  {
   "cell_type": "code",
   "execution_count": 22,
   "id": "c6e9bdab-7975-4084-b167-0e7ec131e6e8",
   "metadata": {},
   "outputs": [
    {
     "data": {
      "text/plain": [
       "(500, 2)"
      ]
     },
     "execution_count": 22,
     "metadata": {},
     "output_type": "execute_result"
    }
   ],
   "source": [
    "test_pd_X_500_reduced = test_pd_X_reduced[:500,:]\n",
    "test_pd_X_500_reduced.shape"
   ]
  },
  {
   "cell_type": "markdown",
   "id": "8f853085-a835-4543-a904-9338f01a8f2f",
   "metadata": {},
   "source": [
    "# Trustworthiness - TopoAE version"
   ]
  },
  {
   "cell_type": "code",
   "execution_count": 45,
   "id": "5294f31e-bf51-4e5e-b100-dfa6492ff202",
   "metadata": {},
   "outputs": [],
   "source": [
    "mcalculator = MeasureCalculator(test_pd_X_500, test_pd_X_500_reduced, 15)"
   ]
  },
  {
   "cell_type": "code",
   "execution_count": 46,
   "id": "d5f36e93-3932-4760-a03a-89779ae85c76",
   "metadata": {},
   "outputs": [
    {
     "data": {
      "text/plain": [
       "0.7381003494060099"
      ]
     },
     "execution_count": 46,
     "metadata": {},
     "output_type": "execute_result"
    }
   ],
   "source": [
    "mcalculator.trustworthiness(15)"
   ]
  },
  {
   "cell_type": "markdown",
   "id": "af55b912-05af-4369-98ee-2e99cdfba3b8",
   "metadata": {},
   "source": [
    "# Trustworthiness - pyDRMetrics version"
   ]
  },
  {
   "cell_type": "code",
   "execution_count": 32,
   "id": "cdd24b6c-df41-4961-8743-ed70ef3efca1",
   "metadata": {},
   "outputs": [],
   "source": [
    "drm = DRMetrics(test_pd_X_500, test_pd_X_500_reduced)"
   ]
  },
  {
   "cell_type": "code",
   "execution_count": 36,
   "id": "7079e680-1c80-400b-bfd6-c703ae893073",
   "metadata": {},
   "outputs": [
    {
     "data": {
      "text/plain": [
       "array([0.76225551, 0.7591624 , 0.75891416, 0.75847808, 0.75931505,\n",
       "       0.75856579, 0.75962909, 0.75949265, 0.75954716, 0.75823882])"
      ]
     },
     "execution_count": 36,
     "metadata": {},
     "output_type": "execute_result"
    }
   ],
   "source": [
    "drm.T[10:20]"
   ]
  },
  {
   "cell_type": "markdown",
   "id": "c33b1bb1-0aa6-40c1-a0ec-902ffdf1849d",
   "metadata": {},
   "source": [
    "# Comparing execution time"
   ]
  },
  {
   "cell_type": "code",
   "execution_count": 50,
   "id": "fc99c10c-b941-4c18-b96d-f129f279ec57",
   "metadata": {},
   "outputs": [
    {
     "name": "stdout",
     "output_type": "stream",
     "text": [
      "[0.76225551 0.7591624  0.75891416 0.75847808 0.75931505 0.75856579\n",
      " 0.75962909 0.75949265 0.75954716 0.75823882]\n",
      "0.7381003494060099\n",
      "         54555 function calls (51997 primitive calls) in 0.413 seconds\n",
      "\n",
      "   Ordered by: cumulative time\n",
      "   List reduced from 339 to 10 due to restriction <10>\n",
      "\n",
      "   ncalls  tottime  percall  cumtime  percall filename:lineno(function)\n",
      "        1    0.000    0.000    0.335    0.335 /usr/local/lib/python3.8/dist-packages/pyDRMetrics/pyDRMetrics.py:22(__init__)\n",
      "6549/4018    0.005    0.000    0.157    0.000 {built-in method numpy.core._multiarray_umath.implement_array_function}\n",
      "        1    0.145    0.145    0.145    0.145 /usr/local/lib/python3.8/dist-packages/pyDRMetrics/coranking_matrix.py:40(coranking_matrix)\n",
      "     2506    0.106    0.000    0.106    0.000 {method 'argsort' of 'numpy.ndarray' objects}\n",
      "     2004    0.001    0.000    0.093    0.000 <__array_function__ internals>:177(argsort)\n",
      "     2004    0.001    0.000    0.092    0.000 /usr/local/lib/python3.8/dist-packages/numpy/core/fromnumeric.py:1012(argsort)\n",
      "     2010    0.001    0.000    0.092    0.000 /usr/local/lib/python3.8/dist-packages/numpy/core/fromnumeric.py:51(_wrapfunc)\n",
      "        1    0.052    0.052    0.090    0.090 /usr/local/lib/python3.8/dist-packages/pyDRMetrics/coranking_matrix.py:78(coranking_matrix_metrics)\n",
      "        1    0.000    0.000    0.059    0.059 /home/hubert/librep-hiaac/experiments/Topological_ae/TopoAEMetrics.py:6(__init__)\n",
      "        1    0.000    0.000    0.053    0.053 /usr/local/lib/python3.8/dist-packages/scipy/stats/_stats_py.py:4729(spearmanr)\n",
      "\n",
      "\n",
      "         54555 function calls (51997 primitive calls) in 0.413 seconds\n",
      "\n",
      "   Ordered by: internal time\n",
      "   List reduced from 339 to 10 due to restriction <10>\n",
      "\n",
      "   ncalls  tottime  percall  cumtime  percall filename:lineno(function)\n",
      "        1    0.145    0.145    0.145    0.145 /usr/local/lib/python3.8/dist-packages/pyDRMetrics/coranking_matrix.py:40(coranking_matrix)\n",
      "     2506    0.106    0.000    0.106    0.000 {method 'argsort' of 'numpy.ndarray' objects}\n",
      "        1    0.052    0.052    0.090    0.090 /usr/local/lib/python3.8/dist-packages/pyDRMetrics/coranking_matrix.py:78(coranking_matrix_metrics)\n",
      "     1514    0.032    0.000    0.032    0.000 {method 'reduce' of 'numpy.ufunc' objects}\n",
      "        2    0.027    0.013    0.027    0.013 {built-in method scipy.spatial._distance_pybind.pdist_euclidean}\n",
      "        2    0.008    0.004    0.049    0.025 /usr/local/lib/python3.8/dist-packages/scipy/stats/_stats_py.py:9047(rankdata)\n",
      "6549/4018    0.005    0.000    0.157    0.000 {built-in method numpy.core._multiarray_umath.implement_array_function}\n",
      "     1000    0.004    0.000    0.005    0.000 /usr/local/lib/python3.8/dist-packages/numpy/lib/arraysetops.py:320(_unique1d)\n",
      "        1    0.003    0.003    0.019    0.019 /home/hubert/librep-hiaac/experiments/Topological_ae/TopoAEMetrics.py:43(_trustworthiness)\n",
      "      500    0.003    0.000    0.006    0.000 /usr/local/lib/python3.8/dist-packages/numpy/lib/arraysetops.py:519(in1d)\n",
      "\n",
      "\n"
     ]
    }
   ],
   "source": [
    "import cProfile\n",
    "import pstats\n",
    "from pstats import SortKey\n",
    "\n",
    "with cProfile.Profile() as pr:\n",
    "    drm = DRMetrics(test_pd_X_500, test_pd_X_500_reduced)\n",
    "    print(drm.T[10:20])\n",
    "    mcalculator = MeasureCalculator(test_pd_X_500, test_pd_X_500_reduced, 15)\n",
    "    print(mcalculator.trustworthiness(15))\n",
    "    stats = pstats.Stats(pr)\n",
    "    stats.sort_stats(SortKey.CUMULATIVE).print_stats(10)\n",
    "    stats.sort_stats(SortKey.TIME).print_stats(10)"
   ]
  }
 ],
 "metadata": {
  "kernelspec": {
   "display_name": "Python 3 (ipykernel)",
   "language": "python",
   "name": "python3"
  },
  "language_info": {
   "codemirror_mode": {
    "name": "ipython",
    "version": 3
   },
   "file_extension": ".py",
   "mimetype": "text/x-python",
   "name": "python",
   "nbconvert_exporter": "python",
   "pygments_lexer": "ipython3",
   "version": "3.8.10"
  }
 },
 "nbformat": 4,
 "nbformat_minor": 5
}
