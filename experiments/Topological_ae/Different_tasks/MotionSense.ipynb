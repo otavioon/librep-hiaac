{
 "cells": [
  {
   "cell_type": "code",
   "execution_count": 1,
   "id": "62a496e0-c9f3-42c4-858b-b7db983400cd",
   "metadata": {},
   "outputs": [],
   "source": [
    "%load_ext autoreload\n",
    "%autoreload 2"
   ]
  },
  {
   "cell_type": "code",
   "execution_count": 2,
   "id": "678feb40-9747-4841-b5c6-2a44125c8563",
   "metadata": {},
   "outputs": [],
   "source": [
    "import sys\n",
    "sys.path.append(\"../../..\")"
   ]
  },
  {
   "cell_type": "code",
   "execution_count": 3,
   "id": "4d97dc1f-2aed-4b76-8220-f228279528de",
   "metadata": {},
   "outputs": [],
   "source": [
    "import numpy as np\n",
    "import pandas as pd\n",
    "import matplotlib.pyplot as plt"
   ]
  },
  {
   "cell_type": "code",
   "execution_count": 4,
   "id": "c24ecc90-b2ac-44bd-bb8b-0e00dc8e9027",
   "metadata": {},
   "outputs": [
    {
     "name": "stderr",
     "output_type": "stream",
     "text": [
      "2022-11-10 20:07:22.773822: W tensorflow/stream_executor/platform/default/dso_loader.cc:64] Could not load dynamic library 'libcudart.so.11.0'; dlerror: libcudart.so.11.0: cannot open shared object file: No such file or directory\n",
      "2022-11-10 20:07:22.773842: I tensorflow/stream_executor/cuda/cudart_stub.cc:29] Ignore above cudart dlerror if you do not have a GPU set up on your machine.\n"
     ]
    }
   ],
   "source": [
    "from librep.datasets.har.loaders import (\n",
    "    MotionSense_BalancedView20HZ\n",
    ")"
   ]
  },
  {
   "cell_type": "code",
   "execution_count": 5,
   "id": "358ae395-0297-435f-adf3-7a48d969bc07",
   "metadata": {},
   "outputs": [],
   "source": [
    "from librep.transforms.topo_ae import (\n",
    "    TopologicalDimensionalityReduction,\n",
    "    ConvolutionalTopologicalDimensionalityReduction,\n",
    "    CustomTopoDimRedTransform\n",
    ")\n",
    "from librep.transforms import UMAP\n",
    "from sklearn.manifold import TSNE\n",
    "from experiments.Topological_ae.Experiment_utils import *\n",
    "from librep.datasets.multimodal import TransformMultiModalDataset\n",
    "from librep.transforms.fft import FFT"
   ]
  },
  {
   "cell_type": "code",
   "execution_count": 6,
   "id": "c85cc63f-e3eb-4f0a-850e-ef8bd1d01dc1",
   "metadata": {},
   "outputs": [
    {
     "data": {
      "text/markdown": [
       "# Balanced MotionSense View Resampled to 20Hz with Gravity - Multiplied acc by 9.81m/s²\n",
       "\n",
       "This is a view from [MotionSense] that was spllited into 3s windows and was resampled to 20Hz using the [FFT method](https://docs.scipy.org/doc/scipy/reference/generated/scipy.signal.resample.html#scipy.signal.resample). \n",
       "\n",
       "The data was first splitted in three sets: train, validation and test. Each one with the following proportions:\n",
       "- Train: 70% of samples\n",
       "- Validation: 10% of samples\n",
       "- Test: 20% of samples\n",
       "\n",
       "After splits, the datasets were balanced in relation to the activity code column, that is, each subset have the same number of activitiy samples.\n",
       "\n",
       "**NOTE**: Each subset contain samples from distinct users, that is, samples of one user belongs exclusivelly to one of three subsets.\n",
       "\n",
       "## Activity codes\n",
       "- 0: downstairs (569 train, 101 validation, 170 test) \n",
       "- 1: upstairs (569 train, 101 validation, 170 test) \n",
       "- 2: sitting (569 train, 101 validation, 170 test) \n",
       "- 3: standing (569 train, 101 validation, 170 test) \n",
       "- 4: walking (569 train, 101 validation, 170 test) \n",
       "- 5: jogging (569 train, 101 validation, 170 test) \n",
       " \n",
       "\n",
       "## Standartized activity codes\n",
       "- 0: sit (569 train, 101 validation, 170 test) \n",
       "- 1: stand (569 train, 101 validation, 170 test) \n",
       "- 2: walk (569 train, 101 validation, 170 test) \n",
       "- 3: stair up (569 train, 101 validation, 170 test) \n",
       "- 4: stair down (569 train, 101 validation, 170 test) \n",
       "- 5: run (569 train, 101 validation, 170 test) \n",
       "      \n",
       "\n",
       "\n"
      ],
      "text/plain": [
       "<IPython.core.display.Markdown object>"
      ]
     },
     "metadata": {},
     "output_type": "display_data"
    }
   ],
   "source": [
    "# MotionSense Loader\n",
    "loader = MotionSense_BalancedView20HZ(\n",
    "    root_dir=\"../../../data/views/MotionSense/balanced_view_20Hz_with_gravity_9.81_acc_standard\", \n",
    "    download=False\n",
    ")\n",
    "\n",
    "# Print the readme (optional)\n",
    "loader.print_readme()"
   ]
  },
  {
   "cell_type": "code",
   "execution_count": 7,
   "id": "8ff73a4e-131a-478a-ab73-739cf9f7cdca",
   "metadata": {},
   "outputs": [
    {
     "data": {
      "text/plain": [
       "(PandasMultiModalDataset: samples=4020, features=360, no. window=6, label_columns='user',\n",
       " PandasMultiModalDataset: samples=1020, features=360, no. window=6, label_columns='user')"
      ]
     },
     "execution_count": 7,
     "metadata": {},
     "output_type": "execute_result"
    }
   ],
   "source": [
    "# Load the dataset\n",
    "# If concat_train_validation is true, return a tuple (train+validation, test)\n",
    "train_val, test = loader.load(concat_train_validation=True, label='user')\n",
    "train_val, test"
   ]
  },
  {
   "cell_type": "code",
   "execution_count": 8,
   "id": "3bcc3bdc-a9fe-43e3-a72a-0387ac228f88",
   "metadata": {},
   "outputs": [],
   "source": [
    "train_HD = np.array(train_val[:][0])\n",
    "train_Y = np.array(train_val[:][1])\n",
    "test_HD = np.array(test[:][0])\n",
    "test_Y = np.array(test[:][1])"
   ]
  },
  {
   "cell_type": "code",
   "execution_count": 9,
   "id": "a2313b1f-961c-4881-8bf0-7fb636d884aa",
   "metadata": {},
   "outputs": [
    {
     "name": "stdout",
     "output_type": "stream",
     "text": [
      "(4020, 360) (4020,) (1020, 360) (1020,)\n"
     ]
    }
   ],
   "source": [
    "print(train_HD.shape, train_Y.shape, test_HD.shape, test_Y.shape)"
   ]
  },
  {
   "cell_type": "code",
   "execution_count": 10,
   "id": "27b1c066-ee52-4d80-adbe-d026465ad2a5",
   "metadata": {},
   "outputs": [
    {
     "name": "stdout",
     "output_type": "stream",
     "text": [
      "(3,       0\n",
      "5     3\n",
      "12    3\n",
      "15    3\n",
      "21    3\n",
      "22    3\n",
      "...  ..\n",
      "1005  3\n",
      "1008  3\n",
      "1010  3\n",
      "1015  3\n",
      "1018  3\n",
      "\n",
      "[222 rows x 1 columns])\n",
      "(14,        0\n",
      "0     14\n",
      "18    14\n",
      "19    14\n",
      "44    14\n",
      "47    14\n",
      "...   ..\n",
      "987   14\n",
      "992   14\n",
      "994   14\n",
      "1011  14\n",
      "1012  14\n",
      "\n",
      "[183 rows x 1 columns])\n",
      "(18,        0\n",
      "4     18\n",
      "6     18\n",
      "7     18\n",
      "8     18\n",
      "11    18\n",
      "...   ..\n",
      "1007  18\n",
      "1013  18\n",
      "1014  18\n",
      "1017  18\n",
      "1019  18\n",
      "\n",
      "[223 rows x 1 columns])\n",
      "(19,        0\n",
      "1     19\n",
      "2     19\n",
      "3     19\n",
      "9     19\n",
      "10    19\n",
      "...   ..\n",
      "998   19\n",
      "999   19\n",
      "1001  19\n",
      "1006  19\n",
      "1009  19\n",
      "\n",
      "[233 rows x 1 columns])\n",
      "(24,        0\n",
      "16    24\n",
      "24    24\n",
      "29    24\n",
      "32    24\n",
      "33    24\n",
      "...   ..\n",
      "974   24\n",
      "977   24\n",
      "979   24\n",
      "1002  24\n",
      "1016  24\n",
      "\n",
      "[159 rows x 1 columns])\n"
     ]
    }
   ],
   "source": [
    "# Como hacer un dataset válido?\n",
    "# Como fue extraido kuhar?\n",
    "\n",
    "y_df = pd.DataFrame(test_Y)\n",
    "# np.unique(test_Y)\n",
    "for val in y_df.groupby(0):\n",
    "    # print('\\n', val[0], val[1])\n",
    "    print(val)"
   ]
  },
  {
   "cell_type": "code",
   "execution_count": 20,
   "id": "f94c64b4-ae04-4575-bcd2-063c8073fb1c",
   "metadata": {},
   "outputs": [
    {
     "name": "stdout",
     "output_type": "stream",
     "text": [
      "[ 1  2  4  5  6  7  8  9 10 11 12 13 15 16 17 20 21 22 23]\n",
      "[ 3 14 18 19 24]\n"
     ]
    }
   ],
   "source": [
    "print(np.unique(train_Y))\n",
    "print(np.unique(test_Y))"
   ]
  },
  {
   "cell_type": "markdown",
   "id": "18386fe2-c8e0-499f-9908-c43be1aa0eff",
   "metadata": {},
   "source": [
    "# Aplicar FFT"
   ]
  },
  {
   "cell_type": "code",
   "execution_count": 12,
   "id": "44df1380-475f-4541-a2cb-dfd4975d13ab",
   "metadata": {},
   "outputs": [],
   "source": [
    "fft_transform = FFT(centered = True)\n",
    "transformer = TransformMultiModalDataset(\n",
    "    transforms=[fft_transform],\n",
    "    new_window_name_prefix=\"fft.\"\n",
    ")"
   ]
  },
  {
   "cell_type": "code",
   "execution_count": 13,
   "id": "389f38e7-97ee-4d60-a79a-5b7569f3d85b",
   "metadata": {},
   "outputs": [],
   "source": [
    "train_dataset_fft = transformer(train_val)\n",
    "# validation_dataset_fft = transformer(validation_dataset)\n",
    "test_dataset_fft = transformer(test)"
   ]
  },
  {
   "cell_type": "code",
   "execution_count": 14,
   "id": "e005a1a1-e02c-4aa7-8ed6-47441806e08f",
   "metadata": {},
   "outputs": [
    {
     "name": "stdout",
     "output_type": "stream",
     "text": [
      "(4020, 180)\n",
      "(1020, 180)\n"
     ]
    }
   ],
   "source": [
    "print(train_dataset_fft.X.shape)\n",
    "# print(validation_dataset_fft.X.shape)\n",
    "print(test_dataset_fft.X.shape)"
   ]
  },
  {
   "cell_type": "code",
   "execution_count": 15,
   "id": "51fd00c6-eb6a-413f-b1cb-1d5e60c8755a",
   "metadata": {},
   "outputs": [
    {
     "name": "stdout",
     "output_type": "stream",
     "text": [
      "797.3368276806895\n"
     ]
    }
   ],
   "source": [
    "print(np.max(train_dataset_fft.X))"
   ]
  },
  {
   "cell_type": "code",
   "execution_count": 16,
   "id": "837c84fe-88ad-4d90-a918-9929f993dbc0",
   "metadata": {},
   "outputs": [
    {
     "data": {
      "text/plain": [
       "array([[117.47446671,   7.69616708,   9.12345317, ...,   1.58565333,\n",
       "          1.92709353,   2.56103481],\n",
       "       [ 56.99305528,   7.03810632,  21.13174295, ...,   3.59397955,\n",
       "          1.24491107,   2.19807336],\n",
       "       [ 43.67148129,   9.31303897,  48.54955013, ...,   0.20668447,\n",
       "          2.1782541 ,   1.17453151],\n",
       "       ...,\n",
       "       [ 48.49117037,   5.91621941,  13.46303591, ...,   0.95960646,\n",
       "          3.65355504,   4.60541355],\n",
       "       [ 88.69039888,  27.8862055 ,  19.11225658, ...,   1.48263297,\n",
       "          3.9119881 ,   2.55326373],\n",
       "       [ 55.520648  ,   2.58290685,   8.95693627, ...,   5.4340967 ,\n",
       "          4.2408613 ,  10.63953696]])"
      ]
     },
     "execution_count": 16,
     "metadata": {},
     "output_type": "execute_result"
    }
   ],
   "source": [
    "train_dataset_fft.X"
   ]
  },
  {
   "cell_type": "code",
   "execution_count": 17,
   "id": "ed781e68-7410-4d73-bfdf-e5cbecad9305",
   "metadata": {},
   "outputs": [],
   "source": [
    "train_HD = train_dataset_fft.X\n",
    "train_LD = None\n",
    "train_Y = train_dataset_fft.y\n",
    "test_HD = test_dataset_fft.X\n",
    "test_LD = None\n",
    "test_Y = test_dataset_fft.y"
   ]
  },
  {
   "cell_type": "code",
   "execution_count": 18,
   "id": "d693369d-8bdf-4b7b-81c0-27aeb606510d",
   "metadata": {},
   "outputs": [
    {
     "name": "stdout",
     "output_type": "stream",
     "text": [
      "(4020, 180) (4020,) (1020, 180) (1020,)\n"
     ]
    }
   ],
   "source": [
    "print(train_HD.shape, train_Y.shape, test_HD.shape, test_Y.shape)"
   ]
  },
  {
   "cell_type": "code",
   "execution_count": 19,
   "id": "cc5691e0-e711-41da-a80f-f084d7f64ddc",
   "metadata": {},
   "outputs": [
    {
     "ename": "NameError",
     "evalue": "name 'asd' is not defined",
     "output_type": "error",
     "traceback": [
      "\u001b[0;31m---------------------------------------------------------------------------\u001b[0m",
      "\u001b[0;31mNameError\u001b[0m                                 Traceback (most recent call last)",
      "Input \u001b[0;32mIn [19]\u001b[0m, in \u001b[0;36m<cell line: 1>\u001b[0;34m()\u001b[0m\n\u001b[0;32m----> 1\u001b[0m \u001b[43masd\u001b[49m\n",
      "\u001b[0;31mNameError\u001b[0m: name 'asd' is not defined"
     ]
    }
   ],
   "source": [
    "asd"
   ]
  }
 ],
 "metadata": {
  "kernelspec": {
   "display_name": "Python 3 (ipykernel)",
   "language": "python",
   "name": "python3"
  },
  "language_info": {
   "codemirror_mode": {
    "name": "ipython",
    "version": 3
   },
   "file_extension": ".py",
   "mimetype": "text/x-python",
   "name": "python",
   "nbconvert_exporter": "python",
   "pygments_lexer": "ipython3",
   "version": "3.8.10"
  }
 },
 "nbformat": 4,
 "nbformat_minor": 5
}
