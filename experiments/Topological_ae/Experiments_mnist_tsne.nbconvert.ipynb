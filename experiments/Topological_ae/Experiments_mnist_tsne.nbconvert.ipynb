{
 "cells": [
  {
   "cell_type": "markdown",
   "id": "bdd291af-db8b-4107-8057-6b6ea9b005c9",
   "metadata": {},
   "source": [
    "# Experiment MNIST - TSNE\n",
    "\n",
    "This experiment tries to replicate the reult obtained by the paper https://arxiv.org/pdf/1906.00722.pdf where a process of dimensionality reduction was applied on the mnist dataset, and values of 0.946 for Trustworthiness and 0.938 for continuity were obtained. "
   ]
  },
  {
   "cell_type": "markdown",
   "id": "702416b0-6a22-4b4d-8df7-55146a3318a9",
   "metadata": {},
   "source": [
    "## Basic imports"
   ]
  },
  {
   "cell_type": "code",
   "execution_count": 1,
   "id": "46de2ac5-1944-44fc-9230-f3e33c1100fd",
   "metadata": {
    "execution": {
     "iopub.execute_input": "2022-10-09T19:10:07.233434Z",
     "iopub.status.busy": "2022-10-09T19:10:07.232447Z",
     "iopub.status.idle": "2022-10-09T19:10:07.288685Z",
     "shell.execute_reply": "2022-10-09T19:10:07.287731Z"
    }
   },
   "outputs": [],
   "source": [
    "%load_ext autoreload\n",
    "%autoreload 2"
   ]
  },
  {
   "cell_type": "code",
   "execution_count": 2,
   "id": "29206a2e-4b50-42d5-9eeb-7c23a49e2db9",
   "metadata": {
    "execution": {
     "iopub.execute_input": "2022-10-09T19:10:07.296180Z",
     "iopub.status.busy": "2022-10-09T19:10:07.295661Z",
     "iopub.status.idle": "2022-10-09T19:10:10.730667Z",
     "shell.execute_reply": "2022-10-09T19:10:10.728758Z"
    }
   },
   "outputs": [
    {
     "name": "stderr",
     "output_type": "stream",
     "text": [
      "2022-10-09 19:10:07.317684: I tensorflow/core/platform/cpu_feature_guard.cc:193] This TensorFlow binary is optimized with oneAPI Deep Neural Network Library (oneDNN) to use the following CPU instructions in performance-critical operations:  AVX2 AVX512F FMA\n",
      "To enable them in other operations, rebuild TensorFlow with the appropriate compiler flags.\n",
      "2022-10-09 19:10:07.556284: W tensorflow/stream_executor/platform/default/dso_loader.cc:64] Could not load dynamic library 'libcudart.so.11.0'; dlerror: libcudart.so.11.0: cannot open shared object file: No such file or directory\n",
      "2022-10-09 19:10:07.556326: I tensorflow/stream_executor/cuda/cudart_stub.cc:29] Ignore above cudart dlerror if you do not have a GPU set up on your machine.\n",
      "2022-10-09 19:10:07.609235: E tensorflow/stream_executor/cuda/cuda_blas.cc:2981] Unable to register cuBLAS factory: Attempting to register factory for plugin cuBLAS when one has already been registered\n",
      "2022-10-09 19:10:08.890641: W tensorflow/stream_executor/platform/default/dso_loader.cc:64] Could not load dynamic library 'libnvinfer.so.7'; dlerror: libnvinfer.so.7: cannot open shared object file: No such file or directory\n",
      "2022-10-09 19:10:08.890763: W tensorflow/stream_executor/platform/default/dso_loader.cc:64] Could not load dynamic library 'libnvinfer_plugin.so.7'; dlerror: libnvinfer_plugin.so.7: cannot open shared object file: No such file or directory\n",
      "2022-10-09 19:10:08.890778: W tensorflow/compiler/tf2tensorrt/utils/py_utils.cc:38] TF-TRT Warning: Cannot dlopen some TensorRT libraries. If you would like to use Nvidia GPU with TensorRT, please make sure the missing libraries mentioned above are installed properly.\n"
     ]
    },
    {
     "name": "stdout",
     "output_type": "stream",
     "text": [
      "['/home/darlinne.soto/librep-hiaac/experiments/Topological_ae', '/usr/lib/python38.zip', '/usr/lib/python3.8', '/usr/lib/python3.8/lib-dynload', '', '/usr/local/lib/python3.8/dist-packages', '/usr/lib/python3/dist-packages']\n"
     ]
    }
   ],
   "source": [
    "import tensorflow as tf\n",
    "import sys\n",
    "import numpy as np\n",
    "import pandas as pd\n",
    "from pathlib import Path\n",
    "print(sys.path)\n",
    "sys.path.append(\"../../\")"
   ]
  },
  {
   "cell_type": "markdown",
   "id": "ddf0f407-1d31-470a-9c2c-8e23400a6d7c",
   "metadata": {},
   "source": [
    "## Loading the dataset"
   ]
  },
  {
   "cell_type": "markdown",
   "id": "09ab4df5-5fa7-41aa-a125-6879b8ea3be1",
   "metadata": {},
   "source": [
    "The dataset is loaded with Keras temporarily because thers is no access to a local mnist dataset. Further versions will use the dataset properly."
   ]
  },
  {
   "cell_type": "code",
   "execution_count": 3,
   "id": "e4076acd-7480-4ba1-8ff7-9b7164f5a49f",
   "metadata": {
    "execution": {
     "iopub.execute_input": "2022-10-09T19:10:10.743489Z",
     "iopub.status.busy": "2022-10-09T19:10:10.742479Z",
     "iopub.status.idle": "2022-10-09T19:10:37.074662Z",
     "shell.execute_reply": "2022-10-09T19:10:37.072796Z"
    }
   },
   "outputs": [],
   "source": [
    "from librep.transforms import TSNE\n",
    "from librep.transforms import UMAP\n",
    "from librep.datasets.multimodal import TransformMultiModalDataset, ArrayMultiModalDataset, WindowedTransform\n",
    "from librep.metrics.dimred_evaluator import DimensionalityReductionQualityReport, MultiDimensionalityReductionQualityReport\n",
    "from librep.datasets.har.loaders import MNISTView"
   ]
  },
  {
   "cell_type": "code",
   "execution_count": 4,
   "id": "f5d96530-95af-4f91-b8e2-b8294833215e",
   "metadata": {
    "execution": {
     "iopub.execute_input": "2022-10-09T19:10:37.084102Z",
     "iopub.status.busy": "2022-10-09T19:10:37.083560Z",
     "iopub.status.idle": "2022-10-09T19:10:37.157026Z",
     "shell.execute_reply": "2022-10-09T19:10:37.155710Z"
    }
   },
   "outputs": [],
   "source": [
    "# loader = MNISTView(\"../../data/old-views/MNIST/default/\", download=False)\n",
    "# train_val_mnist, test_mnist = loader.load(concat_train_validation=True)"
   ]
  },
  {
   "cell_type": "code",
   "execution_count": 5,
   "id": "37285d43-e6f5-46b1-a43d-028afeafc4fa",
   "metadata": {
    "execution": {
     "iopub.execute_input": "2022-10-09T19:10:37.164256Z",
     "iopub.status.busy": "2022-10-09T19:10:37.163704Z",
     "iopub.status.idle": "2022-10-09T19:10:37.235183Z",
     "shell.execute_reply": "2022-10-09T19:10:37.233878Z"
    }
   },
   "outputs": [],
   "source": [
    "# train_val_mnist, test_mnist"
   ]
  },
  {
   "cell_type": "code",
   "execution_count": 6,
   "id": "5bbc66fa-24a9-42c4-bd75-9aeeb1353f60",
   "metadata": {
    "execution": {
     "iopub.execute_input": "2022-10-09T19:10:37.242778Z",
     "iopub.status.busy": "2022-10-09T19:10:37.242105Z",
     "iopub.status.idle": "2022-10-09T19:10:37.314852Z",
     "shell.execute_reply": "2022-10-09T19:10:37.313124Z"
    }
   },
   "outputs": [],
   "source": [
    "# train_val_pd_X = train_val_mnist.data.iloc[:,1:]\n",
    "# train_val_pd_Y = train_val_mnist.data.iloc[:,0]\n",
    "# test_pd_X = test_mnist.data.iloc[:,1:]\n",
    "# test_pd_Y = test_mnist.data.iloc[:,0]"
   ]
  },
  {
   "cell_type": "code",
   "execution_count": 7,
   "id": "11641dc6-de0b-4563-921d-840fc879ee52",
   "metadata": {
    "execution": {
     "iopub.execute_input": "2022-10-09T19:10:37.322324Z",
     "iopub.status.busy": "2022-10-09T19:10:37.321734Z",
     "iopub.status.idle": "2022-10-09T19:10:38.438392Z",
     "shell.execute_reply": "2022-10-09T19:10:38.436696Z"
    }
   },
   "outputs": [
    {
     "name": "stdout",
     "output_type": "stream",
     "text": [
      "Downloading data from https://storage.googleapis.com/tensorflow/tf-keras-datasets/mnist.npz\n",
      "11490434/11490434 [==============================] - 0s 0us/step\n"
     ]
    }
   ],
   "source": [
    "(x_train, y_train), (x_test, y_test) = tf.keras.datasets.mnist.load_data()\n",
    "assert x_train.shape == (60000, 28, 28)\n",
    "assert x_test.shape == (10000, 28, 28)\n",
    "assert y_train.shape == (60000,)\n",
    "assert y_test.shape == (10000,)\n",
    "train_val_pd_X = np.reshape(x_train, (-1, 28*28))\n",
    "train_val_pd_Y = y_train\n",
    "test_pd_X = np.reshape(x_test, (-1, 28*28))\n",
    "test_pd_Y = y_test"
   ]
  },
  {
   "cell_type": "code",
   "execution_count": 8,
   "id": "dd7465d6-66a2-4a2e-958c-80e76cf1f070",
   "metadata": {
    "execution": {
     "iopub.execute_input": "2022-10-09T19:10:38.447398Z",
     "iopub.status.busy": "2022-10-09T19:10:38.446700Z",
     "iopub.status.idle": "2022-10-09T19:10:38.531930Z",
     "shell.execute_reply": "2022-10-09T19:10:38.530580Z"
    }
   },
   "outputs": [
    {
     "data": {
      "text/plain": [
       "(10000, 784)"
      ]
     },
     "execution_count": 8,
     "metadata": {},
     "output_type": "execute_result"
    }
   ],
   "source": [
    "test_pd_X.shape"
   ]
  },
  {
   "cell_type": "code",
   "execution_count": 9,
   "id": "21e31303-2227-45b7-b793-6a1277396f0c",
   "metadata": {
    "execution": {
     "iopub.execute_input": "2022-10-09T19:10:38.541758Z",
     "iopub.status.busy": "2022-10-09T19:10:38.541052Z",
     "iopub.status.idle": "2022-10-09T19:10:38.613651Z",
     "shell.execute_reply": "2022-10-09T19:10:38.612345Z"
    }
   },
   "outputs": [],
   "source": [
    "# # Code to create new view for mnist\n",
    "# columns = ['pixel-' + str(val) for val in range(784)]\n",
    "# columns.insert(0, 'label')\n",
    "# train_val_mnist.data.columns = columns\n",
    "# train_val_mnist.data.to_csv('DATA_MNIST.csv', index=False)"
   ]
  },
  {
   "cell_type": "markdown",
   "id": "6fa792ad-dac5-4786-aede-f4376f386e05",
   "metadata": {},
   "source": [
    "# Reduce with TSNE"
   ]
  },
  {
   "cell_type": "markdown",
   "id": "af75217d-8f4e-4c21-8f16-22b48d274174",
   "metadata": {},
   "source": [
    "TSNE is applied to the train and test mnist datasets. TSNE was applied directly temporarily. The DimensionalityReductionQualityReport evaluates a set of datasets, where the first is the high-dimensional dataset and the second is the low-dimensional dataset. Further versions of DimensionalityReductionQualityReport will evaluate a set of low-dimensional datasets to plot metrics over dimensions.\n",
    "The test for the 60000 datapoints was commented until a more powerful machine is available."
   ]
  },
  {
   "cell_type": "code",
   "execution_count": 10,
   "id": "d23735ef-17c3-42f4-b004-5689de40e43c",
   "metadata": {
    "execution": {
     "iopub.execute_input": "2022-10-09T19:10:38.620509Z",
     "iopub.status.busy": "2022-10-09T19:10:38.619959Z",
     "iopub.status.idle": "2022-10-09T19:23:45.276314Z",
     "shell.execute_reply": "2022-10-09T19:23:45.274531Z"
    },
    "tags": []
   },
   "outputs": [
    {
     "name": "stderr",
     "output_type": "stream",
     "text": [
      "/usr/local/lib/python3.8/dist-packages/sklearn/manifold/_t_sne.py:800: FutureWarning: The default initialization in TSNE will change from 'random' to 'pca' in 1.2.\n",
      "  warnings.warn(\n",
      "/usr/local/lib/python3.8/dist-packages/sklearn/manifold/_t_sne.py:810: FutureWarning: The default learning rate in TSNE will change from 200.0 to 'auto' in 1.2.\n",
      "  warnings.warn(\n",
      "/usr/local/lib/python3.8/dist-packages/sklearn/manifold/_t_sne.py:800: FutureWarning: The default initialization in TSNE will change from 'random' to 'pca' in 1.2.\n",
      "  warnings.warn(\n",
      "/usr/local/lib/python3.8/dist-packages/sklearn/manifold/_t_sne.py:810: FutureWarning: The default learning rate in TSNE will change from 200.0 to 'auto' in 1.2.\n",
      "  warnings.warn(\n"
     ]
    }
   ],
   "source": [
    "tsne_reducer = TSNE()\n",
    "train_val_pd_X_reduced = tsne_reducer.fit_transform(train_val_pd_X)\n",
    "test_pd_X_reduced = tsne_reducer.fit_transform(test_pd_X)"
   ]
  },
  {
   "cell_type": "code",
   "execution_count": 11,
   "id": "fa033187-34c2-4a6f-b697-ed1b6c4c3b93",
   "metadata": {
    "execution": {
     "iopub.execute_input": "2022-10-09T19:23:45.282464Z",
     "iopub.status.busy": "2022-10-09T19:23:45.281978Z",
     "iopub.status.idle": "2022-10-09T19:23:45.404748Z",
     "shell.execute_reply": "2022-10-09T19:23:45.403141Z"
    }
   },
   "outputs": [],
   "source": [
    "# train_x = np.array(train_val_mnist.data.iloc[:,1:])\n",
    "# train_y = np.array(train_val_mnist.data.iloc[:,0])\n",
    "# test_x = np.array(test_mnist.data.iloc[:,1:])\n",
    "# test_y = np.array(test_mnist.data.iloc[:,0])"
   ]
  },
  {
   "cell_type": "code",
   "execution_count": 12,
   "id": "9ba19d17-98fc-4692-99e9-d17c7503ebbc",
   "metadata": {
    "execution": {
     "iopub.execute_input": "2022-10-09T19:23:45.412392Z",
     "iopub.status.busy": "2022-10-09T19:23:45.411681Z",
     "iopub.status.idle": "2022-10-09T19:23:45.486086Z",
     "shell.execute_reply": "2022-10-09T19:23:45.484770Z"
    }
   },
   "outputs": [],
   "source": [
    "# mnist_dataset_train = ArrayMultiModalDataset(X=train_x, y=train_y, window_slices=[(0, 28*28)], \n",
    "#                                              window_names=[\"px\"])\n",
    "# mnist_dataset_test = ArrayMultiModalDataset(X=test_x, y=test_y, window_slices=[(0, 28*28)], \n",
    "#                                              window_names=[\"px\"])"
   ]
  },
  {
   "cell_type": "code",
   "execution_count": 13,
   "id": "9a5984f3-50e4-4447-a2fb-394c44183a52",
   "metadata": {
    "execution": {
     "iopub.execute_input": "2022-10-09T19:23:45.493467Z",
     "iopub.status.busy": "2022-10-09T19:23:45.492857Z",
     "iopub.status.idle": "2022-10-09T19:23:45.565159Z",
     "shell.execute_reply": "2022-10-09T19:23:45.563991Z"
    }
   },
   "outputs": [],
   "source": [
    "# transform_tsne = TSNE()\n",
    "# transformer = TransformMultiModalDataset(transforms=[transform_tsne])\n",
    "# train_applied_tsne = transformer(mnist_dataset_train)\n",
    "# test_applied_tsne = transformer(mnist_dataset_test)"
   ]
  },
  {
   "cell_type": "code",
   "execution_count": 14,
   "id": "cf6f4020-a41d-4c08-8d50-a4faced7defc",
   "metadata": {
    "execution": {
     "iopub.execute_input": "2022-10-09T19:23:45.571935Z",
     "iopub.status.busy": "2022-10-09T19:23:45.571400Z",
     "iopub.status.idle": "2022-10-09T19:23:45.641320Z",
     "shell.execute_reply": "2022-10-09T19:23:45.640011Z"
    }
   },
   "outputs": [],
   "source": [
    "# metrics_reporter = DimensionalityReductionQualityReport()\n",
    "# metrics_train_applied_tsne = metrics_reporter.evaluate([train_val_pd_X, train_val_pd_X_reduced])\n",
    "# print(metrics_train_applied_tsne)"
   ]
  },
  {
   "cell_type": "code",
   "execution_count": 15,
   "id": "33b831fb-6607-4974-8f29-48742093647e",
   "metadata": {
    "execution": {
     "iopub.execute_input": "2022-10-09T19:23:45.648053Z",
     "iopub.status.busy": "2022-10-09T19:23:45.647512Z",
     "iopub.status.idle": "2022-10-09T20:25:36.271205Z",
     "shell.execute_reply": "2022-10-09T20:25:36.269539Z"
    }
   },
   "outputs": [
    {
     "name": "stdout",
     "output_type": "stream",
     "text": [
      "{'residual variance (pearson)': 0.8257997496975751, 'residual variance (spearman)': 0.8549140049495447, 'trustworthiness': 0.9821331207797731, 'continuity': 0.9722094855483745, 'co k nearest neighbor size': 0.411459895989599, 'local continuity meta criterion': 0.4098595759255862, 'local property': 0.5234523452345234, 'global property': 0.6590193760049603}\n"
     ]
    }
   ],
   "source": [
    "metrics_reporter = DimensionalityReductionQualityReport()\n",
    "metrics_test_applied_tsne = metrics_reporter.evaluate([test_pd_X, test_pd_X_reduced])\n",
    "print(metrics_test_applied_tsne)"
   ]
  },
  {
   "cell_type": "markdown",
   "id": "c8ab174e-3411-4b29-82be-79ae73e6b384",
   "metadata": {},
   "source": [
    "# Reduce with UMAP"
   ]
  },
  {
   "cell_type": "code",
   "execution_count": 16,
   "id": "d6ce7dba-7123-4b5e-b49d-c88e0f1470a8",
   "metadata": {
    "execution": {
     "iopub.execute_input": "2022-10-09T20:25:36.285173Z",
     "iopub.status.busy": "2022-10-09T20:25:36.284735Z",
     "iopub.status.idle": "2022-10-09T20:27:46.081288Z",
     "shell.execute_reply": "2022-10-09T20:27:46.079382Z"
    }
   },
   "outputs": [],
   "source": [
    "umap_reducer = UMAP()\n",
    "train_val_pd_X_reduced = umap_reducer.fit_transform(train_val_pd_X)\n",
    "test_pd_X_reduced = umap_reducer.fit_transform(test_pd_X)"
   ]
  },
  {
   "cell_type": "code",
   "execution_count": 17,
   "id": "274d1af7-0144-4470-928a-5e18da821aac",
   "metadata": {
    "execution": {
     "iopub.execute_input": "2022-10-09T20:27:46.090031Z",
     "iopub.status.busy": "2022-10-09T20:27:46.089592Z",
     "iopub.status.idle": "2022-10-09T20:27:46.197675Z",
     "shell.execute_reply": "2022-10-09T20:27:46.196684Z"
    }
   },
   "outputs": [],
   "source": [
    "# metrics_reporter = DimensionalityReductionQualityReport()\n",
    "# metrics_train_applied_tsne = metrics_reporter.evaluate([train_val_pd_X, train_val_pd_X_reduced])\n",
    "# print(metrics_train_applied_tsne)"
   ]
  },
  {
   "cell_type": "code",
   "execution_count": 18,
   "id": "10e73cc5-91e8-44b2-ad65-dd3e83321450",
   "metadata": {
    "execution": {
     "iopub.execute_input": "2022-10-09T20:27:46.206360Z",
     "iopub.status.busy": "2022-10-09T20:27:46.205616Z",
     "iopub.status.idle": "2022-10-09T21:27:47.850433Z",
     "shell.execute_reply": "2022-10-09T21:27:47.848931Z"
    }
   },
   "outputs": [
    {
     "name": "stdout",
     "output_type": "stream",
     "text": [
      "{'residual variance (pearson)': 0.8404193225039035, 'residual variance (spearman)': 0.8672144754557534, 'trustworthiness': 0.961414842651249, 'continuity': 0.9738931377110465, 'co k nearest neighbor size': 0.28272827282728275, 'local continuity meta criterion': 0.28112795276326996, 'local property': 0.4379871410880463, 'global property': 0.6596151426648349}\n"
     ]
    }
   ],
   "source": [
    "metrics_reporter = DimensionalityReductionQualityReport()\n",
    "metrics_test_applied_tsne = metrics_reporter.evaluate([test_pd_X, test_pd_X_reduced])\n",
    "print(metrics_test_applied_tsne)"
   ]
  },
  {
   "cell_type": "code",
   "execution_count": 19,
   "id": "5024a8e7-0e5a-4d54-8e76-27f353981ee1",
   "metadata": {
    "execution": {
     "iopub.execute_input": "2022-10-09T21:27:47.863641Z",
     "iopub.status.busy": "2022-10-09T21:27:47.862635Z",
     "iopub.status.idle": "2022-10-09T21:27:48.035756Z",
     "shell.execute_reply": "2022-10-09T21:27:48.034142Z"
    }
   },
   "outputs": [],
   "source": [
    "# transform_umap = UMAP()\n",
    "# transformer = TransformMultiModalDataset(transforms=[transform_umap])\n",
    "# train_applied_umap = transformer(mnist_dataset_train)\n",
    "# test_applied_umap = transformer(mnist_dataset_test)"
   ]
  },
  {
   "cell_type": "code",
   "execution_count": 20,
   "id": "3e3ee9e8-e752-474a-b3f4-fd0e99bfbbfb",
   "metadata": {
    "execution": {
     "iopub.execute_input": "2022-10-09T21:27:48.043912Z",
     "iopub.status.busy": "2022-10-09T21:27:48.043223Z",
     "iopub.status.idle": "2022-10-09T21:27:48.116306Z",
     "shell.execute_reply": "2022-10-09T21:27:48.115334Z"
    }
   },
   "outputs": [],
   "source": [
    "# metrics_reporter = DimensionalityReductionQualityReport(sampling_threshold=60000)\n",
    "# metrics_train_applied_umap = metrics_reporter.evaluate([mnist_dataset_train, train_applied_umap])\n",
    "# print(metrics_train_applied_umap)"
   ]
  },
  {
   "cell_type": "code",
   "execution_count": 21,
   "id": "8d42d5c8-8fcd-48a9-b36f-0ef94b66fe57",
   "metadata": {
    "execution": {
     "iopub.execute_input": "2022-10-09T21:27:48.123373Z",
     "iopub.status.busy": "2022-10-09T21:27:48.122799Z",
     "iopub.status.idle": "2022-10-09T21:27:48.192533Z",
     "shell.execute_reply": "2022-10-09T21:27:48.191565Z"
    }
   },
   "outputs": [],
   "source": [
    "# metrics_reporter = DimensionalityReductionQualityReport(sampling_threshold=10000)\n",
    "# metrics_test_applied_umap = metrics_reporter.evaluate([mnist_dataset_test, test_applied_umap])\n",
    "# print(metrics_test_applied_umap)"
   ]
  },
  {
   "cell_type": "code",
   "execution_count": null,
   "id": "5c23835e-ffc8-4067-9384-e975806f80f8",
   "metadata": {},
   "outputs": [],
   "source": []
  }
 ],
 "metadata": {
  "kernelspec": {
   "display_name": "Python 3 (ipykernel)",
   "language": "python",
   "name": "python3"
  },
  "language_info": {
   "codemirror_mode": {
    "name": "ipython",
    "version": 3
   },
   "file_extension": ".py",
   "mimetype": "text/x-python",
   "name": "python",
   "nbconvert_exporter": "python",
   "pygments_lexer": "ipython3",
   "version": "3.8.10"
  }
 },
 "nbformat": 4,
 "nbformat_minor": 5
}
