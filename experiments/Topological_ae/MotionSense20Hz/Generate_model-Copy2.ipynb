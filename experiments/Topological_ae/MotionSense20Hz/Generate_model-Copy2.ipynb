{
 "cells": [
  {
   "cell_type": "code",
   "execution_count": 1,
   "id": "7e1630ed-63c8-4ee7-86c9-62dfb528b9a2",
   "metadata": {
    "execution": {
     "iopub.execute_input": "2022-11-29T02:19:28.003224Z",
     "iopub.status.busy": "2022-11-29T02:19:28.002794Z",
     "iopub.status.idle": "2022-11-29T02:19:28.028904Z",
     "shell.execute_reply": "2022-11-29T02:19:28.027388Z",
     "shell.execute_reply.started": "2022-11-29T02:19:28.003182Z"
    }
   },
   "outputs": [],
   "source": [
    "%load_ext autoreload\n",
    "%autoreload 2"
   ]
  },
  {
   "cell_type": "code",
   "execution_count": 2,
   "id": "fedad853",
   "metadata": {
    "execution": {
     "iopub.execute_input": "2022-11-29T02:19:28.030787Z",
     "iopub.status.busy": "2022-11-29T02:19:28.030429Z",
     "iopub.status.idle": "2022-11-29T02:19:28.083817Z",
     "shell.execute_reply": "2022-11-29T02:19:28.082353Z",
     "shell.execute_reply.started": "2022-11-29T02:19:28.030754Z"
    }
   },
   "outputs": [],
   "source": [
    "import os\n",
    "os.environ[\"CUDA_VISIBLE_DEVICES\"] = \"0\""
   ]
  },
  {
   "cell_type": "code",
   "execution_count": 3,
   "id": "c1e18129",
   "metadata": {
    "execution": {
     "iopub.execute_input": "2022-11-29T02:19:28.085742Z",
     "iopub.status.busy": "2022-11-29T02:19:28.085350Z",
     "iopub.status.idle": "2022-11-29T02:19:30.794648Z",
     "shell.execute_reply": "2022-11-29T02:19:30.792560Z",
     "shell.execute_reply.started": "2022-11-29T02:19:28.085706Z"
    }
   },
   "outputs": [
    {
     "name": "stdout",
     "output_type": "stream",
     "text": [
      "True\n",
      "1\n",
      "0\n",
      "<torch.cuda.device object at 0x7f077377bbe0>\n",
      "NVIDIA TITAN Xp\n"
     ]
    }
   ],
   "source": [
    "import torch\n",
    "print(torch.cuda.is_available()) # True\n",
    "print(torch.cuda.device_count()) # 1\n",
    "print(torch.cuda.current_device()) # 0\n",
    "print(torch.cuda.device(0)) # <torch.cuda.device at 0x7efce0b03be0>\n",
    "print(torch.cuda.get_device_name(0)) # 'GeForce GTX 950M'"
   ]
  },
  {
   "cell_type": "code",
   "execution_count": 4,
   "id": "2da911e3-e82f-47c9-8090-f71f453956ee",
   "metadata": {
    "execution": {
     "iopub.execute_input": "2022-11-29T02:19:30.799180Z",
     "iopub.status.busy": "2022-11-29T02:19:30.798181Z",
     "iopub.status.idle": "2022-11-29T02:19:30.836379Z",
     "shell.execute_reply": "2022-11-29T02:19:30.835000Z",
     "shell.execute_reply.started": "2022-11-29T02:19:30.799103Z"
    }
   },
   "outputs": [],
   "source": [
    "import sys\n",
    "sys.path.append(\"../../..\")"
   ]
  },
  {
   "cell_type": "code",
   "execution_count": 5,
   "id": "5f067405-ab8c-4f22-b056-ab9e1febe71c",
   "metadata": {
    "execution": {
     "iopub.execute_input": "2022-11-29T02:19:30.838535Z",
     "iopub.status.busy": "2022-11-29T02:19:30.837976Z",
     "iopub.status.idle": "2022-11-29T02:19:32.008260Z",
     "shell.execute_reply": "2022-11-29T02:19:32.006329Z",
     "shell.execute_reply.started": "2022-11-29T02:19:30.838498Z"
    }
   },
   "outputs": [],
   "source": [
    "import numpy as np\n",
    "import pandas as pd\n",
    "import matplotlib.pyplot as plt"
   ]
  },
  {
   "cell_type": "code",
   "execution_count": 6,
   "id": "cc5007e3-ef19-4658-ac7d-2a6f617bb9c6",
   "metadata": {
    "execution": {
     "iopub.execute_input": "2022-11-29T02:19:32.011030Z",
     "iopub.status.busy": "2022-11-29T02:19:32.010248Z",
     "iopub.status.idle": "2022-11-29T02:19:44.111922Z",
     "shell.execute_reply": "2022-11-29T02:19:44.110777Z",
     "shell.execute_reply.started": "2022-11-29T02:19:32.010974Z"
    }
   },
   "outputs": [
    {
     "name": "stderr",
     "output_type": "stream",
     "text": [
      "2022-11-29 02:19:40.939511: I tensorflow/core/platform/cpu_feature_guard.cc:193] This TensorFlow binary is optimized with oneAPI Deep Neural Network Library (oneDNN) to use the following CPU instructions in performance-critical operations:  AVX2 AVX512F FMA\n",
      "To enable them in other operations, rebuild TensorFlow with the appropriate compiler flags.\n",
      "2022-11-29 02:19:42.596291: W tensorflow/compiler/xla/stream_executor/platform/default/dso_loader.cc:64] Could not load dynamic library 'libnvinfer.so.7'; dlerror: libnvinfer.so.7: cannot open shared object file: No such file or directory\n",
      "2022-11-29 02:19:42.596418: W tensorflow/compiler/xla/stream_executor/platform/default/dso_loader.cc:64] Could not load dynamic library 'libnvinfer_plugin.so.7'; dlerror: libnvinfer_plugin.so.7: cannot open shared object file: No such file or directory\n",
      "2022-11-29 02:19:42.596433: W tensorflow/compiler/tf2tensorrt/utils/py_utils.cc:38] TF-TRT Warning: Cannot dlopen some TensorRT libraries. If you would like to use Nvidia GPU with TensorRT, please make sure the missing libraries mentioned above are installed properly.\n"
     ]
    }
   ],
   "source": [
    "from librep.datasets.har.loaders import (\n",
    "    MotionSense_BalancedView20HZ\n",
    ")"
   ]
  },
  {
   "cell_type": "code",
   "execution_count": 7,
   "id": "2f9f66b2-7b1c-4d4e-a0e3-cde9552a595a",
   "metadata": {
    "execution": {
     "iopub.execute_input": "2022-11-29T02:19:44.117988Z",
     "iopub.status.busy": "2022-11-29T02:19:44.117091Z",
     "iopub.status.idle": "2022-11-29T02:19:44.230436Z",
     "shell.execute_reply": "2022-11-29T02:19:44.229417Z",
     "shell.execute_reply.started": "2022-11-29T02:19:44.117944Z"
    }
   },
   "outputs": [],
   "source": [
    "from librep.transforms.topo_ae import (\n",
    "    TopologicalDimensionalityReduction,\n",
    "    CustomTopoDimRedTransform\n",
    ")\n",
    "from librep.transforms import UMAP\n",
    "from sklearn.manifold import TSNE\n",
    "from experiments.Topological_ae.Experiment_utils import *\n",
    "from librep.datasets.multimodal import TransformMultiModalDataset\n",
    "from librep.transforms.fft import FFT"
   ]
  },
  {
   "cell_type": "code",
   "execution_count": 8,
   "id": "85bea424-07ff-47ec-945a-aef385afe7a7",
   "metadata": {
    "execution": {
     "iopub.execute_input": "2022-11-29T02:19:44.232473Z",
     "iopub.status.busy": "2022-11-29T02:19:44.231894Z",
     "iopub.status.idle": "2022-11-29T02:19:44.327701Z",
     "shell.execute_reply": "2022-11-29T02:19:44.326695Z",
     "shell.execute_reply.started": "2022-11-29T02:19:44.232434Z"
    }
   },
   "outputs": [],
   "source": [
    "# MotionSense Loader\n",
    "loader = MotionSense_BalancedView20HZ(\n",
    "    root_dir=\"../../../data/views/MotionSense/balanced_view_20Hz_with_gravity_9.81_acc_standard\", \n",
    "    download=False\n",
    ")"
   ]
  },
  {
   "cell_type": "code",
   "execution_count": 9,
   "id": "3d817b0c-4e6b-4227-9b48-cd23c3df190d",
   "metadata": {
    "execution": {
     "iopub.execute_input": "2022-11-29T02:19:44.329454Z",
     "iopub.status.busy": "2022-11-29T02:19:44.329074Z",
     "iopub.status.idle": "2022-11-29T02:19:45.150509Z",
     "shell.execute_reply": "2022-11-29T02:19:45.149077Z",
     "shell.execute_reply.started": "2022-11-29T02:19:44.329420Z"
    }
   },
   "outputs": [
    {
     "data": {
      "text/plain": [
       "(PandasMultiModalDataset: samples=4020, features=360, no. window=6, label_columns='standard activity code',\n",
       " PandasMultiModalDataset: samples=1020, features=360, no. window=6, label_columns='standard activity code')"
      ]
     },
     "execution_count": 9,
     "metadata": {},
     "output_type": "execute_result"
    }
   ],
   "source": [
    "# Load the dataset\n",
    "train_val, test = loader.load(concat_train_validation=True, label=loader.standard_label)\n",
    "train_val, test"
   ]
  },
  {
   "cell_type": "code",
   "execution_count": 10,
   "id": "9491b1e0-0b60-439c-9bed-ea0ee7918b68",
   "metadata": {
    "execution": {
     "iopub.execute_input": "2022-11-29T02:19:45.152954Z",
     "iopub.status.busy": "2022-11-29T02:19:45.152332Z",
     "iopub.status.idle": "2022-11-29T02:19:45.289466Z",
     "shell.execute_reply": "2022-11-29T02:19:45.288143Z",
     "shell.execute_reply.started": "2022-11-29T02:19:45.152915Z"
    }
   },
   "outputs": [],
   "source": [
    "train_HD = np.array(train_val[:][0])\n",
    "train_LD = None\n",
    "train_Y = np.array(train_val[:][1])\n",
    "test_HD = np.array(test[:][0])\n",
    "test_LD = None\n",
    "test_Y = np.array(test[:][1])"
   ]
  },
  {
   "cell_type": "code",
   "execution_count": 11,
   "id": "cc4810ac-c560-4b23-9b72-481a2d0f1a91",
   "metadata": {
    "execution": {
     "iopub.execute_input": "2022-11-29T02:19:45.291890Z",
     "iopub.status.busy": "2022-11-29T02:19:45.291237Z",
     "iopub.status.idle": "2022-11-29T02:19:45.401100Z",
     "shell.execute_reply": "2022-11-29T02:19:45.399440Z",
     "shell.execute_reply.started": "2022-11-29T02:19:45.291844Z"
    }
   },
   "outputs": [
    {
     "name": "stdout",
     "output_type": "stream",
     "text": [
      "(4020, 360) (4020,) (1020, 360) (1020,)\n"
     ]
    }
   ],
   "source": [
    "print(train_HD.shape, train_Y.shape, test_HD.shape, test_Y.shape)"
   ]
  },
  {
   "cell_type": "markdown",
   "id": "4c93d061-6ea0-418b-b690-2d977f6297c9",
   "metadata": {},
   "source": [
    "# Aplicar FFT"
   ]
  },
  {
   "cell_type": "code",
   "execution_count": 12,
   "id": "e5255de5-0259-404a-a2d8-507ad4f2ee2f",
   "metadata": {
    "execution": {
     "iopub.execute_input": "2022-11-29T02:19:45.403322Z",
     "iopub.status.busy": "2022-11-29T02:19:45.402724Z",
     "iopub.status.idle": "2022-11-29T02:19:45.492906Z",
     "shell.execute_reply": "2022-11-29T02:19:45.491222Z",
     "shell.execute_reply.started": "2022-11-29T02:19:45.403287Z"
    }
   },
   "outputs": [],
   "source": [
    "fft_transform = FFT(centered = True)\n",
    "transformer = TransformMultiModalDataset(\n",
    "    transforms=[fft_transform],\n",
    "    new_window_name_prefix=\"fft.\"\n",
    ")"
   ]
  },
  {
   "cell_type": "code",
   "execution_count": 13,
   "id": "29195f38-f8a9-4167-937f-d3f98ddc7642",
   "metadata": {
    "execution": {
     "iopub.execute_input": "2022-11-29T02:19:45.495087Z",
     "iopub.status.busy": "2022-11-29T02:19:45.494521Z",
     "iopub.status.idle": "2022-11-29T02:19:46.232357Z",
     "shell.execute_reply": "2022-11-29T02:19:46.230181Z",
     "shell.execute_reply.started": "2022-11-29T02:19:45.495051Z"
    }
   },
   "outputs": [],
   "source": [
    "train_dataset_fft = transformer(train_val)\n",
    "test_dataset_fft = transformer(test)"
   ]
  },
  {
   "cell_type": "code",
   "execution_count": 14,
   "id": "3c8cfc25-0323-498a-931d-1249078f2796",
   "metadata": {
    "execution": {
     "iopub.execute_input": "2022-11-29T02:19:46.235218Z",
     "iopub.status.busy": "2022-11-29T02:19:46.234574Z",
     "iopub.status.idle": "2022-11-29T02:19:46.341974Z",
     "shell.execute_reply": "2022-11-29T02:19:46.340653Z",
     "shell.execute_reply.started": "2022-11-29T02:19:46.235167Z"
    }
   },
   "outputs": [
    {
     "name": "stdout",
     "output_type": "stream",
     "text": [
      "(4020, 180)\n",
      "(1020, 180)\n"
     ]
    }
   ],
   "source": [
    "print(train_dataset_fft.X.shape)\n",
    "print(test_dataset_fft.X.shape)"
   ]
  },
  {
   "cell_type": "code",
   "execution_count": 15,
   "id": "d413cc20-e5b5-4594-b1f7-f11153c00c5f",
   "metadata": {
    "execution": {
     "iopub.execute_input": "2022-11-29T02:19:46.344026Z",
     "iopub.status.busy": "2022-11-29T02:19:46.343475Z",
     "iopub.status.idle": "2022-11-29T02:19:46.433980Z",
     "shell.execute_reply": "2022-11-29T02:19:46.433083Z",
     "shell.execute_reply.started": "2022-11-29T02:19:46.343990Z"
    }
   },
   "outputs": [
    {
     "name": "stdout",
     "output_type": "stream",
     "text": [
      "797.3368276806895\n"
     ]
    }
   ],
   "source": [
    "print(np.max(train_dataset_fft.X))"
   ]
  },
  {
   "cell_type": "code",
   "execution_count": 16,
   "id": "fea2e105-a571-4a2f-ac76-096b08a6ef2f",
   "metadata": {
    "execution": {
     "iopub.execute_input": "2022-11-29T02:19:46.436452Z",
     "iopub.status.busy": "2022-11-29T02:19:46.435666Z",
     "iopub.status.idle": "2022-11-29T02:19:46.607846Z",
     "shell.execute_reply": "2022-11-29T02:19:46.606624Z",
     "shell.execute_reply.started": "2022-11-29T02:19:46.436409Z"
    }
   },
   "outputs": [],
   "source": [
    "train_HD = train_dataset_fft.X\n",
    "train_LD = None\n",
    "train_Y = train_dataset_fft.y\n",
    "test_HD = test_dataset_fft.X\n",
    "test_LD = None\n",
    "test_Y = test_dataset_fft.y"
   ]
  },
  {
   "cell_type": "code",
   "execution_count": 17,
   "id": "ee13aef1-77c7-42a9-930b-b1a56f980d25",
   "metadata": {
    "execution": {
     "iopub.execute_input": "2022-11-29T02:19:46.609906Z",
     "iopub.status.busy": "2022-11-29T02:19:46.609345Z",
     "iopub.status.idle": "2022-11-29T02:19:46.698442Z",
     "shell.execute_reply": "2022-11-29T02:19:46.696935Z",
     "shell.execute_reply.started": "2022-11-29T02:19:46.609867Z"
    }
   },
   "outputs": [
    {
     "name": "stdout",
     "output_type": "stream",
     "text": [
      "(4020, 180) (4020,) (1020, 180) (1020,)\n"
     ]
    }
   ],
   "source": [
    "print(train_HD.shape, train_Y.shape, test_HD.shape, test_Y.shape)"
   ]
  },
  {
   "cell_type": "code",
   "execution_count": null,
   "id": "6190c34b-327b-494b-bdd9-b7dad773ddb4",
   "metadata": {
    "execution": {
     "iopub.execute_input": "2022-11-29T02:19:46.700481Z",
     "iopub.status.busy": "2022-11-29T02:19:46.700009Z"
    },
    "tags": []
   },
   "outputs": [
    {
     "name": "stdout",
     "output_type": "stream",
     "text": [
      "Topologically Regularized ConvolutionalAutoencoder_custom_dim3\n",
      "Using python to compute signatures\n",
      "ConvAECustomDim, Input: (1, 180) Inner dim: 10\n",
      "ENCODER STRUCT torch.Size([4, 8, 5])\n"
     ]
    },
    {
     "name": "stderr",
     "output_type": "stream",
     "text": [
      "/home/darlinne.soto/librep-hiaac/experiments/Topological_ae/MotionSense20Hz/../../../librep/transforms/topo_ae.py:75: UserWarning: To copy construct from a tensor, it is recommended to use sourceTensor.clone().detach() or sourceTensor.clone().detach().requires_grad_(True), rather than torch.tensor(sourceTensor).\n",
      "  in_tensor = torch.tensor(reshaped_data, device=cuda0).float()\n",
      "/home/darlinne.soto/librep-hiaac/experiments/Topological_ae/MotionSense20Hz/../../../librep/transforms/topo_ae.py:87: UserWarning: To copy construct from a tensor, it is recommended to use sourceTensor.clone().detach() or sourceTensor.clone().detach().requires_grad_(True), rather than torch.tensor(sourceTensor).\n",
      "  in_tensor = torch.tensor(reshaped_data, device=cuda0).float()\n"
     ]
    },
    {
     "name": "stdout",
     "output_type": "stream",
     "text": [
      "Epoch:1, P:None, Loss:2600.1191, Loss-ae:2600.1180, Loss-topo:0.0011\n",
      "Epoch:2, P:None, Loss:2611.9884, Loss-ae:2611.9880, Loss-topo:0.0004\n",
      "Epoch:3, P:None, Loss:2594.5722, Loss-ae:2594.5718, Loss-topo:0.0004\n",
      "Epoch:4, P:None, Loss:2605.6018, Loss-ae:2605.6015, Loss-topo:0.0003\n",
      "Epoch:5, P:None, Loss:2623.2743, Loss-ae:2623.2739, Loss-topo:0.0004\n",
      "Epoch:6, P:None, Loss:2613.6753, Loss-ae:2613.6749, Loss-topo:0.0004\n",
      "Epoch:7, P:None, Loss:2589.1611, Loss-ae:2589.1589, Loss-topo:0.0023\n",
      "Epoch:8, P:None, Loss:2594.4584, Loss-ae:2594.4576, Loss-topo:0.0008\n",
      "Epoch:9, P:None, Loss:2598.5377, Loss-ae:2598.5371, Loss-topo:0.0006\n",
      "Epoch:10, P:None, Loss:2620.7883, Loss-ae:2620.7877, Loss-topo:0.0006\n",
      "Epoch:11, P:None, Loss:2592.0766, Loss-ae:2592.0761, Loss-topo:0.0004\n",
      "Epoch:12, P:None, Loss:2581.0151, Loss-ae:2581.0145, Loss-topo:0.0006\n",
      "Epoch:13, P:None, Loss:2611.3853, Loss-ae:2611.3849, Loss-topo:0.0004\n",
      "Epoch:14, P:None, Loss:2620.3410, Loss-ae:2620.3406, Loss-topo:0.0004\n",
      "Epoch:15, P:None, Loss:2596.2184, Loss-ae:2596.2181, Loss-topo:0.0003\n",
      "Epoch:16, P:None, Loss:2602.6388, Loss-ae:2602.6385, Loss-topo:0.0004\n",
      "Epoch:17, P:None, Loss:2602.0113, Loss-ae:2602.0108, Loss-topo:0.0005\n",
      "Epoch:18, P:None, Loss:2601.4139, Loss-ae:2601.4134, Loss-topo:0.0005\n",
      "Epoch:19, P:None, Loss:2570.9188, Loss-ae:2570.9184, Loss-topo:0.0004\n",
      "Epoch:20, P:None, Loss:2592.3122, Loss-ae:2592.3118, Loss-topo:0.0003\n",
      "Epoch:21, P:None, Loss:2582.1231, Loss-ae:2582.1228, Loss-topo:0.0003\n",
      "Epoch:22, P:None, Loss:2605.6788, Loss-ae:2605.6785, Loss-topo:0.0003\n",
      "Epoch:23, P:None, Loss:2589.9109, Loss-ae:2589.9106, Loss-topo:0.0003\n",
      "Epoch:24, P:None, Loss:2590.2713, Loss-ae:2590.2710, Loss-topo:0.0003\n",
      "Epoch:25, P:None, Loss:2584.2436, Loss-ae:2584.2431, Loss-topo:0.0005\n",
      "Epoch:26, P:None, Loss:2588.1057, Loss-ae:2588.1052, Loss-topo:0.0004\n",
      "Epoch:27, P:None, Loss:2605.9144, Loss-ae:2605.9142, Loss-topo:0.0002\n",
      "Epoch:28, P:None, Loss:2569.0323, Loss-ae:2569.0319, Loss-topo:0.0003\n",
      "Epoch:29, P:None, Loss:2604.8322, Loss-ae:2604.8318, Loss-topo:0.0005\n",
      "Epoch:30, P:None, Loss:2634.1106, Loss-ae:2634.1102, Loss-topo:0.0004\n",
      "Epoch:31, P:None, Loss:2615.9114, Loss-ae:2615.9109, Loss-topo:0.0005\n",
      "Epoch:32, P:None, Loss:2614.9655, Loss-ae:2614.9647, Loss-topo:0.0008\n",
      "Epoch:33, P:None, Loss:2581.9984, Loss-ae:2581.9979, Loss-topo:0.0005\n",
      "Epoch:34, P:None, Loss:2584.0517, Loss-ae:2584.0514, Loss-topo:0.0003\n",
      "Epoch:35, P:None, Loss:2619.0761, Loss-ae:2619.0758, Loss-topo:0.0003\n",
      "Epoch:36, P:None, Loss:2619.9727, Loss-ae:2619.9723, Loss-topo:0.0004\n",
      "Epoch:37, P:None, Loss:2591.0485, Loss-ae:2591.0481, Loss-topo:0.0003\n",
      "Epoch:38, P:None, Loss:2576.1515, Loss-ae:2576.1508, Loss-topo:0.0006\n",
      "Epoch:39, P:None, Loss:2599.8303, Loss-ae:2599.8300, Loss-topo:0.0003\n",
      "Epoch:40, P:None, Loss:2612.1227, Loss-ae:2612.1222, Loss-topo:0.0004\n",
      "Epoch:41, P:None, Loss:2601.5843, Loss-ae:2601.5838, Loss-topo:0.0005\n",
      "Epoch:42, P:None, Loss:2599.3976, Loss-ae:2599.3972, Loss-topo:0.0004\n",
      "Epoch:43, P:None, Loss:2600.3945, Loss-ae:2600.3939, Loss-topo:0.0006\n",
      "Epoch:44, P:None, Loss:2584.5073, Loss-ae:2584.5068, Loss-topo:0.0004\n",
      "Epoch:45, P:None, Loss:2575.9752, Loss-ae:2575.9746, Loss-topo:0.0006\n",
      "Epoch:46, P:None, Loss:2583.7867, Loss-ae:2583.7862, Loss-topo:0.0004\n",
      "Epoch:47, P:None, Loss:2596.1311, Loss-ae:2596.1307, Loss-topo:0.0004\n",
      "Epoch:48, P:None, Loss:2580.1182, Loss-ae:2580.1178, Loss-topo:0.0003\n",
      "Epoch:49, P:None, Loss:2592.8202, Loss-ae:2592.8198, Loss-topo:0.0004\n",
      "Epoch:50, P:None, Loss:2607.8273, Loss-ae:2607.8267, Loss-topo:0.0006\n",
      "Epoch:51, P:None, Loss:2624.3230, Loss-ae:2624.3225, Loss-topo:0.0005\n",
      "Epoch:52, P:None, Loss:2601.0589, Loss-ae:2601.0583, Loss-topo:0.0006\n",
      "Epoch:53, P:None, Loss:2632.1008, Loss-ae:2632.1004, Loss-topo:0.0004\n",
      "Epoch:54, P:None, Loss:2605.4344, Loss-ae:2605.4339, Loss-topo:0.0005\n",
      "Epoch:55, P:None, Loss:2598.5769, Loss-ae:2598.5763, Loss-topo:0.0006\n",
      "Epoch:56, P:None, Loss:2581.0091, Loss-ae:2581.0087, Loss-topo:0.0004\n",
      "Epoch:57, P:None, Loss:2597.1911, Loss-ae:2597.1908, Loss-topo:0.0003\n",
      "Epoch:58, P:None, Loss:2579.2070, Loss-ae:2579.2063, Loss-topo:0.0007\n",
      "Epoch:59, P:None, Loss:2597.2662, Loss-ae:2597.2658, Loss-topo:0.0005\n",
      "Epoch:60, P:None, Loss:2602.4976, Loss-ae:2602.4972, Loss-topo:0.0004\n",
      "Epoch:61, P:None, Loss:2627.4634, Loss-ae:2627.4632, Loss-topo:0.0003\n",
      "Epoch:62, P:None, Loss:2578.4726, Loss-ae:2578.4720, Loss-topo:0.0005\n",
      "Epoch:63, P:None, Loss:2573.3333, Loss-ae:2573.3326, Loss-topo:0.0007\n",
      "Epoch:64, P:None, Loss:2609.8964, Loss-ae:2609.8959, Loss-topo:0.0005\n",
      "Epoch:65, P:None, Loss:2602.1493, Loss-ae:2602.1483, Loss-topo:0.0010\n",
      "Epoch:66, P:None, Loss:2628.0973, Loss-ae:2628.0964, Loss-topo:0.0009\n",
      "Epoch:67, P:None, Loss:2594.8433, Loss-ae:2594.8429, Loss-topo:0.0005\n",
      "Epoch:68, P:None, Loss:2622.7173, Loss-ae:2622.7169, Loss-topo:0.0004\n",
      "Epoch:69, P:None, Loss:2601.0272, Loss-ae:2601.0267, Loss-topo:0.0005\n",
      "Epoch:70, P:None, Loss:2600.7364, Loss-ae:2600.7361, Loss-topo:0.0003\n",
      "Epoch:71, P:None, Loss:2604.8962, Loss-ae:2604.8954, Loss-topo:0.0007\n",
      "Epoch:72, P:None, Loss:2610.9307, Loss-ae:2610.9302, Loss-topo:0.0004\n",
      "Epoch:73, P:None, Loss:2597.7983, Loss-ae:2597.7979, Loss-topo:0.0005\n",
      "Epoch:74, P:None, Loss:2591.2910, Loss-ae:2591.2905, Loss-topo:0.0005\n",
      "Epoch:75, P:None, Loss:2683.5729, Loss-ae:2683.5725, Loss-topo:0.0004\n",
      "Epoch:76, P:None, Loss:2584.5897, Loss-ae:2584.5894, Loss-topo:0.0003\n",
      "Epoch:77, P:None, Loss:2609.2709, Loss-ae:2609.2705, Loss-topo:0.0004\n",
      "Epoch:78, P:None, Loss:2621.2872, Loss-ae:2621.2869, Loss-topo:0.0004\n",
      "Epoch:79, P:None, Loss:2621.8128, Loss-ae:2621.8124, Loss-topo:0.0004\n",
      "Epoch:80, P:None, Loss:2565.2937, Loss-ae:2565.2933, Loss-topo:0.0004\n",
      "Epoch:81, P:None, Loss:2582.1039, Loss-ae:2582.1035, Loss-topo:0.0005\n",
      "Epoch:82, P:None, Loss:2613.0455, Loss-ae:2613.0450, Loss-topo:0.0006\n",
      "Epoch:83, P:None, Loss:2618.4486, Loss-ae:2618.4479, Loss-topo:0.0006\n",
      "Epoch:84, P:None, Loss:2579.6888, Loss-ae:2579.6885, Loss-topo:0.0003\n",
      "Epoch:85, P:None, Loss:2621.6569, Loss-ae:2621.6566, Loss-topo:0.0004\n",
      "Epoch:86, P:None, Loss:2589.5499, Loss-ae:2589.5494, Loss-topo:0.0005\n",
      "Epoch:87, P:None, Loss:2608.5450, Loss-ae:2608.5444, Loss-topo:0.0006\n",
      "Epoch:88, P:None, Loss:2591.5018, Loss-ae:2591.5013, Loss-topo:0.0005\n",
      "Epoch:89, P:None, Loss:2596.5616, Loss-ae:2596.5611, Loss-topo:0.0005\n",
      "Epoch:90, P:None, Loss:2579.1138, Loss-ae:2579.1134, Loss-topo:0.0005\n",
      "Epoch:91, P:None, Loss:2602.1715, Loss-ae:2602.1710, Loss-topo:0.0005\n",
      "Epoch:92, P:None, Loss:2584.1528, Loss-ae:2584.1521, Loss-topo:0.0007\n",
      "Epoch:93, P:None, Loss:2585.6786, Loss-ae:2585.6777, Loss-topo:0.0009\n",
      "Epoch:94, P:None, Loss:2593.0165, Loss-ae:2593.0160, Loss-topo:0.0004\n",
      "Epoch:95, P:None, Loss:2646.5050, Loss-ae:2646.5044, Loss-topo:0.0007\n",
      "Epoch:96, P:None, Loss:2601.0056, Loss-ae:2601.0050, Loss-topo:0.0006\n",
      "Epoch:97, P:None, Loss:2619.6654, Loss-ae:2619.6649, Loss-topo:0.0004\n",
      "Epoch:98, P:None, Loss:2617.0955, Loss-ae:2617.0949, Loss-topo:0.0005\n",
      "Epoch:99, P:None, Loss:2599.1960, Loss-ae:2599.1955, Loss-topo:0.0005\n",
      "Epoch:100, P:None, Loss:2605.8357, Loss-ae:2605.8351, Loss-topo:0.0006\n",
      "Epoch:101, P:None, Loss:2591.6266, Loss-ae:2591.6260, Loss-topo:0.0007\n",
      "Epoch:102, P:None, Loss:2593.7374, Loss-ae:2593.7370, Loss-topo:0.0004\n",
      "Epoch:103, P:None, Loss:2610.5934, Loss-ae:2610.5928, Loss-topo:0.0005\n",
      "Epoch:104, P:None, Loss:2575.1918, Loss-ae:2575.1912, Loss-topo:0.0006\n",
      "Epoch:105, P:None, Loss:2610.3585, Loss-ae:2610.3579, Loss-topo:0.0006\n",
      "Epoch:106, P:None, Loss:2586.9683, Loss-ae:2586.9678, Loss-topo:0.0005\n",
      "Epoch:107, P:None, Loss:2604.0008, Loss-ae:2604.0000, Loss-topo:0.0008\n",
      "Epoch:108, P:None, Loss:2602.7189, Loss-ae:2602.7176, Loss-topo:0.0012\n",
      "Epoch:109, P:None, Loss:2578.9259, Loss-ae:2578.9253, Loss-topo:0.0006\n",
      "Epoch:110, P:None, Loss:2606.5894, Loss-ae:2606.5889, Loss-topo:0.0005\n",
      "Epoch:111, P:None, Loss:2572.1514, Loss-ae:2572.1506, Loss-topo:0.0007\n",
      "Epoch:112, P:None, Loss:2129.8168, Loss-ae:2128.6508, Loss-topo:1.1659\n",
      "Epoch:113, P:None, Loss:1885.3988, Loss-ae:1884.8652, Loss-topo:0.5336\n",
      "Epoch:114, P:None, Loss:1813.7241, Loss-ae:1813.1084, Loss-topo:0.6157\n",
      "Epoch:115, P:None, Loss:1648.7450, Loss-ae:1648.1409, Loss-topo:0.6041\n",
      "Epoch:116, P:None, Loss:1191.5460, Loss-ae:1189.9828, Loss-topo:1.5632\n",
      "Epoch:117, P:None, Loss:730.9506, Loss-ae:722.5451, Loss-topo:8.4056\n",
      "Epoch:118, P:None, Loss:534.3530, Loss-ae:520.3068, Loss-topo:14.0462\n",
      "Epoch:119, P:None, Loss:482.0940, Loss-ae:469.2569, Loss-topo:12.8371\n",
      "Epoch:120, P:None, Loss:467.0757, Loss-ae:458.0326, Loss-topo:9.0431\n",
      "Epoch:121, P:None, Loss:447.7696, Loss-ae:441.3096, Loss-topo:6.4600\n",
      "Epoch:122, P:None, Loss:437.9111, Loss-ae:431.1712, Loss-topo:6.7399\n",
      "Epoch:123, P:None, Loss:448.0417, Loss-ae:442.8989, Loss-topo:5.1428\n",
      "Epoch:124, P:None, Loss:434.6119, Loss-ae:429.3593, Loss-topo:5.2526\n",
      "Epoch:125, P:None, Loss:431.5946, Loss-ae:425.9760, Loss-topo:5.6185\n",
      "Epoch:126, P:None, Loss:418.0411, Loss-ae:412.6611, Loss-topo:5.3800\n",
      "Epoch:127, P:None, Loss:411.1896, Loss-ae:406.6617, Loss-topo:4.5279\n",
      "Epoch:128, P:None, Loss:415.1042, Loss-ae:410.3052, Loss-topo:4.7990\n",
      "Epoch:129, P:None, Loss:423.4092, Loss-ae:418.6640, Loss-topo:4.7452\n",
      "Epoch:130, P:None, Loss:422.5850, Loss-ae:417.1520, Loss-topo:5.4330\n",
      "Epoch:131, P:None, Loss:412.2872, Loss-ae:408.0570, Loss-topo:4.2303\n",
      "Epoch:132, P:None, Loss:425.3285, Loss-ae:420.8751, Loss-topo:4.4534\n",
      "Epoch:133, P:None, Loss:403.0575, Loss-ae:398.8420, Loss-topo:4.2155\n",
      "Epoch:134, P:None, Loss:400.4674, Loss-ae:396.4145, Loss-topo:4.0529\n",
      "Epoch:135, P:None, Loss:406.6878, Loss-ae:403.2533, Loss-topo:3.4345\n",
      "Epoch:136, P:None, Loss:409.0983, Loss-ae:405.7572, Loss-topo:3.3412\n",
      "Epoch:137, P:None, Loss:410.4878, Loss-ae:406.7884, Loss-topo:3.6995\n",
      "Epoch:138, P:None, Loss:393.4194, Loss-ae:389.6955, Loss-topo:3.7239\n",
      "Epoch:139, P:None, Loss:390.8275, Loss-ae:387.3918, Loss-topo:3.4357\n",
      "Epoch:140, P:None, Loss:403.5747, Loss-ae:400.2371, Loss-topo:3.3376\n",
      "Epoch:141, P:None, Loss:388.9800, Loss-ae:385.6025, Loss-topo:3.3775\n",
      "Epoch:142, P:None, Loss:384.4638, Loss-ae:381.3109, Loss-topo:3.1529\n",
      "Epoch:143, P:None, Loss:378.4177, Loss-ae:374.7369, Loss-topo:3.6808\n",
      "Epoch:144, P:None, Loss:372.5074, Loss-ae:368.4188, Loss-topo:4.0886\n",
      "Epoch:145, P:None, Loss:346.5240, Loss-ae:341.6975, Loss-topo:4.8264\n",
      "Epoch:146, P:None, Loss:329.8752, Loss-ae:325.2097, Loss-topo:4.6655\n",
      "Epoch:147, P:None, Loss:327.9818, Loss-ae:322.4487, Loss-topo:5.5331\n",
      "Epoch:148, P:None, Loss:315.6052, Loss-ae:309.8256, Loss-topo:5.7797\n",
      "Epoch:149, P:None, Loss:300.4634, Loss-ae:293.6095, Loss-topo:6.8539\n",
      "Epoch:150, P:None, Loss:289.7746, Loss-ae:278.0497, Loss-topo:11.7249\n",
      "Epoch:151, P:None, Loss:265.1106, Loss-ae:255.7202, Loss-topo:9.3905\n",
      "Epoch:152, P:None, Loss:249.4142, Loss-ae:239.3155, Loss-topo:10.0987\n",
      "Epoch:153, P:None, Loss:239.8923, Loss-ae:231.3384, Loss-topo:8.5539\n",
      "Epoch:154, P:None, Loss:233.4998, Loss-ae:224.9307, Loss-topo:8.5691\n",
      "Epoch:155, P:None, Loss:219.8450, Loss-ae:212.1206, Loss-topo:7.7243\n",
      "Epoch:156, P:None, Loss:211.0439, Loss-ae:201.7240, Loss-topo:9.3199\n",
      "Epoch:157, P:None, Loss:208.3521, Loss-ae:199.3967, Loss-topo:8.9555\n",
      "Epoch:158, P:None, Loss:206.3294, Loss-ae:197.0496, Loss-topo:9.2798\n",
      "Epoch:159, P:None, Loss:200.4126, Loss-ae:192.8074, Loss-topo:7.6053\n",
      "Epoch:160, P:None, Loss:202.9378, Loss-ae:195.5646, Loss-topo:7.3732\n",
      "Epoch:161, P:None, Loss:201.5430, Loss-ae:194.8596, Loss-topo:6.6834\n",
      "Epoch:162, P:None, Loss:188.6920, Loss-ae:182.7991, Loss-topo:5.8928\n",
      "Epoch:163, P:None, Loss:192.0639, Loss-ae:185.7211, Loss-topo:6.3428\n",
      "Epoch:164, P:None, Loss:191.4040, Loss-ae:185.1421, Loss-topo:6.2618\n",
      "Epoch:165, P:None, Loss:186.7147, Loss-ae:180.5205, Loss-topo:6.1941\n",
      "Epoch:166, P:None, Loss:178.0706, Loss-ae:172.7820, Loss-topo:5.2886\n",
      "Epoch:167, P:None, Loss:189.7480, Loss-ae:183.4541, Loss-topo:6.2939\n",
      "Epoch:168, P:None, Loss:185.1240, Loss-ae:179.6648, Loss-topo:5.4592\n",
      "Epoch:169, P:None, Loss:175.4567, Loss-ae:170.4687, Loss-topo:4.9880\n",
      "Epoch:170, P:None, Loss:174.5710, Loss-ae:169.5324, Loss-topo:5.0386\n",
      "Epoch:171, P:None, Loss:179.9471, Loss-ae:174.1764, Loss-topo:5.7707\n",
      "Epoch:172, P:None, Loss:182.0348, Loss-ae:176.5673, Loss-topo:5.4675\n",
      "Epoch:173, P:None, Loss:179.3389, Loss-ae:174.6482, Loss-topo:4.6907\n",
      "Epoch:174, P:None, Loss:174.2591, Loss-ae:168.6991, Loss-topo:5.5601\n",
      "Epoch:175, P:None, Loss:172.7519, Loss-ae:167.5148, Loss-topo:5.2371\n",
      "Epoch:176, P:None, Loss:170.4145, Loss-ae:165.5334, Loss-topo:4.8811\n",
      "Epoch:177, P:None, Loss:164.8105, Loss-ae:160.5517, Loss-topo:4.2588\n",
      "Epoch:178, P:None, Loss:176.1397, Loss-ae:171.6080, Loss-topo:4.5317\n",
      "Epoch:179, P:None, Loss:171.8376, Loss-ae:167.2034, Loss-topo:4.6342\n",
      "Epoch:180, P:None, Loss:159.2548, Loss-ae:155.3098, Loss-topo:3.9450\n",
      "Epoch:181, P:None, Loss:163.4619, Loss-ae:159.9344, Loss-topo:3.5275\n",
      "Epoch:182, P:None, Loss:169.8116, Loss-ae:165.9960, Loss-topo:3.8156\n",
      "Epoch:183, P:None, Loss:170.6848, Loss-ae:167.3765, Loss-topo:3.3083\n",
      "Epoch:184, P:None, Loss:165.2458, Loss-ae:161.7006, Loss-topo:3.5452\n",
      "Epoch:185, P:None, Loss:171.9373, Loss-ae:168.0061, Loss-topo:3.9312\n",
      "Epoch:186, P:None, Loss:167.5291, Loss-ae:163.7642, Loss-topo:3.7649\n",
      "Epoch:187, P:None, Loss:161.7570, Loss-ae:158.3288, Loss-topo:3.4282\n",
      "Epoch:188, P:None, Loss:159.8392, Loss-ae:156.3071, Loss-topo:3.5321\n",
      "Epoch:189, P:None, Loss:162.8523, Loss-ae:159.3763, Loss-topo:3.4761\n",
      "Epoch:190, P:None, Loss:159.2885, Loss-ae:156.0974, Loss-topo:3.1911\n",
      "Epoch:191, P:None, Loss:165.4107, Loss-ae:162.3613, Loss-topo:3.0494\n",
      "Epoch:192, P:None, Loss:167.1883, Loss-ae:163.5901, Loss-topo:3.5982\n",
      "Epoch:193, P:None, Loss:160.0934, Loss-ae:156.9523, Loss-topo:3.1411\n",
      "Epoch:194, P:None, Loss:161.8325, Loss-ae:158.4957, Loss-topo:3.3368\n",
      "Epoch:195, P:None, Loss:165.2690, Loss-ae:161.8477, Loss-topo:3.4214\n",
      "Epoch:196, P:None, Loss:157.8650, Loss-ae:154.8745, Loss-topo:2.9905\n",
      "Epoch:197, P:None, Loss:160.7673, Loss-ae:157.2571, Loss-topo:3.5102\n",
      "Epoch:198, P:None, Loss:163.4824, Loss-ae:160.4400, Loss-topo:3.0424\n",
      "Epoch:199, P:None, Loss:159.5460, Loss-ae:156.2307, Loss-topo:3.3153\n",
      "Epoch:200, P:None, Loss:154.1908, Loss-ae:151.3200, Loss-topo:2.8708\n",
      "Epoch:201, P:None, Loss:153.5878, Loss-ae:150.2953, Loss-topo:3.2925\n",
      "Epoch:202, P:None, Loss:155.5556, Loss-ae:152.7400, Loss-topo:2.8156\n",
      "Epoch:203, P:None, Loss:161.6069, Loss-ae:158.4477, Loss-topo:3.1591\n",
      "Epoch:204, P:None, Loss:159.3709, Loss-ae:156.5644, Loss-topo:2.8066\n",
      "Epoch:205, P:None, Loss:158.6851, Loss-ae:155.7164, Loss-topo:2.9687\n",
      "Epoch:206, P:None, Loss:151.8116, Loss-ae:148.7041, Loss-topo:3.1075\n",
      "Epoch:207, P:None, Loss:161.5694, Loss-ae:158.6229, Loss-topo:2.9464\n",
      "Epoch:208, P:None, Loss:154.7317, Loss-ae:152.0067, Loss-topo:2.7250\n",
      "Epoch:209, P:None, Loss:157.3102, Loss-ae:154.5191, Loss-topo:2.7912\n",
      "Epoch:210, P:None, Loss:149.2508, Loss-ae:146.5296, Loss-topo:2.7212\n",
      "Epoch:211, P:None, Loss:156.2525, Loss-ae:153.6351, Loss-topo:2.6174\n",
      "Epoch:212, P:None, Loss:150.2441, Loss-ae:147.3026, Loss-topo:2.9415\n",
      "Epoch:213, P:None, Loss:155.1540, Loss-ae:152.4299, Loss-topo:2.7241\n",
      "Epoch:214, P:None, Loss:148.6899, Loss-ae:146.0019, Loss-topo:2.6880\n",
      "Epoch:215, P:None, Loss:148.9304, Loss-ae:146.4097, Loss-topo:2.5207\n",
      "Epoch:216, P:None, Loss:157.9973, Loss-ae:155.1444, Loss-topo:2.8528\n",
      "Epoch:217, P:None, Loss:149.5371, Loss-ae:146.9329, Loss-topo:2.6041\n",
      "Epoch:218, P:None, Loss:146.1451, Loss-ae:143.5991, Loss-topo:2.5460\n",
      "Epoch:219, P:None, Loss:150.3011, Loss-ae:147.9677, Loss-topo:2.3333\n",
      "Epoch:220, P:None, Loss:149.3896, Loss-ae:146.9138, Loss-topo:2.4758\n",
      "Epoch:221, P:None, Loss:147.5222, Loss-ae:145.2605, Loss-topo:2.2616\n",
      "Epoch:222, P:None, Loss:150.7782, Loss-ae:148.3230, Loss-topo:2.4552\n",
      "Epoch:223, P:None, Loss:149.5776, Loss-ae:146.8748, Loss-topo:2.7029\n",
      "Epoch:224, P:None, Loss:148.6377, Loss-ae:146.0237, Loss-topo:2.6140\n",
      "Epoch:225, P:None, Loss:146.5165, Loss-ae:144.2356, Loss-topo:2.2809\n",
      "Epoch:226, P:None, Loss:147.1189, Loss-ae:144.5651, Loss-topo:2.5539\n",
      "Epoch:227, P:None, Loss:145.7481, Loss-ae:143.4106, Loss-topo:2.3374\n",
      "Epoch:228, P:None, Loss:145.8519, Loss-ae:143.5769, Loss-topo:2.2750\n",
      "Epoch:229, P:None, Loss:145.6702, Loss-ae:143.3766, Loss-topo:2.2936\n",
      "Epoch:230, P:None, Loss:145.4570, Loss-ae:143.1188, Loss-topo:2.3382\n",
      "Epoch:231, P:None, Loss:146.6989, Loss-ae:144.5811, Loss-topo:2.1178\n",
      "Epoch:232, P:None, Loss:142.5929, Loss-ae:140.2995, Loss-topo:2.2933\n",
      "Epoch:233, P:None, Loss:144.6508, Loss-ae:142.3911, Loss-topo:2.2597\n",
      "Epoch:234, P:None, Loss:141.7291, Loss-ae:139.5566, Loss-topo:2.1725\n",
      "Epoch:235, P:None, Loss:141.4660, Loss-ae:139.1151, Loss-topo:2.3509\n",
      "Epoch:236, P:None, Loss:138.9392, Loss-ae:136.9882, Loss-topo:1.9510\n",
      "Epoch:237, P:None, Loss:146.6826, Loss-ae:144.4146, Loss-topo:2.2679\n",
      "Epoch:238, P:None, Loss:143.2725, Loss-ae:140.9821, Loss-topo:2.2905\n",
      "Epoch:239, P:None, Loss:149.3561, Loss-ae:146.9226, Loss-topo:2.4336\n",
      "Epoch:240, P:None, Loss:137.1348, Loss-ae:135.2002, Loss-topo:1.9346\n",
      "Epoch:241, P:None, Loss:140.8157, Loss-ae:138.7288, Loss-topo:2.0869\n",
      "Epoch:242, P:None, Loss:139.6760, Loss-ae:137.5367, Loss-topo:2.1393\n",
      "Epoch:243, P:None, Loss:143.8326, Loss-ae:141.6385, Loss-topo:2.1940\n",
      "Epoch:244, P:None, Loss:145.2763, Loss-ae:143.2519, Loss-topo:2.0244\n",
      "Epoch:245, P:None, Loss:138.4391, Loss-ae:136.4943, Loss-topo:1.9448\n",
      "Epoch:246, P:None, Loss:136.6055, Loss-ae:134.7057, Loss-topo:1.8998\n",
      "Epoch:247, P:None, Loss:136.3648, Loss-ae:134.3323, Loss-topo:2.0324\n",
      "Epoch:248, P:None, Loss:139.4398, Loss-ae:137.5874, Loss-topo:1.8525\n",
      "Epoch:249, P:None, Loss:135.7658, Loss-ae:133.9011, Loss-topo:1.8647\n",
      "Epoch:250, P:None, Loss:142.0878, Loss-ae:140.0847, Loss-topo:2.0030\n",
      "Epoch:251, P:None, Loss:137.1595, Loss-ae:135.3743, Loss-topo:1.7852\n",
      "Epoch:252, P:None, Loss:137.2530, Loss-ae:135.2423, Loss-topo:2.0107\n",
      "Epoch:253, P:None, Loss:137.0525, Loss-ae:135.3626, Loss-topo:1.6899\n",
      "Epoch:254, P:None, Loss:135.2439, Loss-ae:133.3416, Loss-topo:1.9024\n",
      "Epoch:255, P:None, Loss:141.0983, Loss-ae:139.1701, Loss-topo:1.9282\n",
      "Epoch:256, P:None, Loss:137.6497, Loss-ae:135.7908, Loss-topo:1.8590\n",
      "Epoch:257, P:None, Loss:137.5750, Loss-ae:135.7687, Loss-topo:1.8063\n",
      "Epoch:258, P:None, Loss:138.4397, Loss-ae:136.6884, Loss-topo:1.7513\n",
      "Epoch:259, P:None, Loss:137.5413, Loss-ae:135.9432, Loss-topo:1.5981\n",
      "Epoch:260, P:None, Loss:135.6003, Loss-ae:133.8427, Loss-topo:1.7576\n",
      "Epoch:261, P:None, Loss:140.2182, Loss-ae:138.2810, Loss-topo:1.9372\n",
      "Epoch:262, P:None, Loss:134.5971, Loss-ae:132.9012, Loss-topo:1.6958\n",
      "Epoch:263, P:None, Loss:132.6919, Loss-ae:130.9012, Loss-topo:1.7907\n",
      "Epoch:264, P:None, Loss:133.2979, Loss-ae:131.6774, Loss-topo:1.6205\n",
      "Epoch:265, P:None, Loss:132.4039, Loss-ae:130.6103, Loss-topo:1.7936\n",
      "Epoch:266, P:None, Loss:133.9742, Loss-ae:132.1673, Loss-topo:1.8069\n",
      "Epoch:267, P:None, Loss:132.7764, Loss-ae:131.0525, Loss-topo:1.7239\n",
      "Epoch:268, P:None, Loss:133.2839, Loss-ae:131.4932, Loss-topo:1.7907\n",
      "Epoch:269, P:None, Loss:130.8490, Loss-ae:129.1701, Loss-topo:1.6789\n",
      "Epoch:270, P:None, Loss:128.6481, Loss-ae:126.9088, Loss-topo:1.7393\n",
      "Epoch:271, P:None, Loss:128.9334, Loss-ae:127.2784, Loss-topo:1.6550\n",
      "Epoch:272, P:None, Loss:133.1104, Loss-ae:131.3305, Loss-topo:1.7799\n",
      "Epoch:273, P:None, Loss:130.2251, Loss-ae:128.6841, Loss-topo:1.5410\n",
      "Epoch:274, P:None, Loss:131.9522, Loss-ae:130.1561, Loss-topo:1.7962\n",
      "Epoch:275, P:None, Loss:133.2630, Loss-ae:131.4327, Loss-topo:1.8303\n",
      "Epoch:276, P:None, Loss:127.3425, Loss-ae:125.8111, Loss-topo:1.5315\n",
      "Epoch:277, P:None, Loss:133.2931, Loss-ae:131.6921, Loss-topo:1.6011\n",
      "Epoch:278, P:None, Loss:126.2369, Loss-ae:124.6181, Loss-topo:1.6188\n",
      "Epoch:279, P:None, Loss:129.6470, Loss-ae:127.9775, Loss-topo:1.6695\n",
      "Epoch:280, P:None, Loss:128.2023, Loss-ae:126.6167, Loss-topo:1.5856\n",
      "Epoch:281, P:None, Loss:130.1492, Loss-ae:128.5028, Loss-topo:1.6463\n",
      "Epoch:282, P:None, Loss:126.8641, Loss-ae:125.2008, Loss-topo:1.6632\n",
      "Epoch:283, P:None, Loss:125.9910, Loss-ae:124.4154, Loss-topo:1.5755\n",
      "Epoch:284, P:None, Loss:128.2109, Loss-ae:126.5207, Loss-topo:1.6902\n",
      "Epoch:285, P:None, Loss:128.2621, Loss-ae:126.7313, Loss-topo:1.5308\n",
      "Epoch:286, P:None, Loss:126.5161, Loss-ae:124.9015, Loss-topo:1.6146\n",
      "Epoch:287, P:None, Loss:124.9856, Loss-ae:123.3455, Loss-topo:1.6401\n",
      "Epoch:288, P:None, Loss:121.8232, Loss-ae:120.3183, Loss-topo:1.5050\n",
      "Epoch:289, P:None, Loss:128.5164, Loss-ae:126.8761, Loss-topo:1.6403\n",
      "Epoch:290, P:None, Loss:125.7065, Loss-ae:124.0450, Loss-topo:1.6615\n",
      "Epoch:291, P:None, Loss:125.9943, Loss-ae:124.3594, Loss-topo:1.6349\n",
      "Epoch:292, P:None, Loss:124.7061, Loss-ae:123.1051, Loss-topo:1.6010\n",
      "Epoch:293, P:None, Loss:126.9410, Loss-ae:125.3094, Loss-topo:1.6316\n",
      "Epoch:294, P:None, Loss:127.3224, Loss-ae:125.7532, Loss-topo:1.5692\n",
      "Epoch:295, P:None, Loss:122.1329, Loss-ae:120.5498, Loss-topo:1.5831\n",
      "Epoch:296, P:None, Loss:125.0901, Loss-ae:123.3788, Loss-topo:1.7114\n",
      "Epoch:297, P:None, Loss:124.5821, Loss-ae:123.0799, Loss-topo:1.5022\n",
      "Epoch:298, P:None, Loss:120.1915, Loss-ae:118.6901, Loss-topo:1.5013\n",
      "Epoch:299, P:None, Loss:128.4619, Loss-ae:126.8923, Loss-topo:1.5697\n",
      "Epoch:300, P:None, Loss:122.2511, Loss-ae:120.7722, Loss-topo:1.4790\n",
      "Epoch:301, P:None, Loss:119.5878, Loss-ae:118.0340, Loss-topo:1.5537\n",
      "Epoch:302, P:None, Loss:123.9882, Loss-ae:122.4194, Loss-topo:1.5688\n",
      "Epoch:303, P:None, Loss:119.7814, Loss-ae:118.3654, Loss-topo:1.4159\n",
      "Epoch:304, P:None, Loss:120.7753, Loss-ae:119.2535, Loss-topo:1.5219\n",
      "Epoch:305, P:None, Loss:120.8508, Loss-ae:119.3615, Loss-topo:1.4893\n",
      "Epoch:306, P:None, Loss:120.2735, Loss-ae:118.8708, Loss-topo:1.4028\n",
      "Epoch:307, P:None, Loss:120.6417, Loss-ae:119.2141, Loss-topo:1.4277\n",
      "Epoch:308, P:None, Loss:123.3483, Loss-ae:121.9389, Loss-topo:1.4093\n",
      "Epoch:309, P:None, Loss:121.9910, Loss-ae:120.4920, Loss-topo:1.4990\n",
      "Epoch:310, P:None, Loss:123.6289, Loss-ae:121.9750, Loss-topo:1.6539\n",
      "Epoch:311, P:None, Loss:122.8362, Loss-ae:121.2768, Loss-topo:1.5595\n",
      "Epoch:312, P:None, Loss:119.0287, Loss-ae:117.5203, Loss-topo:1.5084\n",
      "Epoch:313, P:None, Loss:119.5747, Loss-ae:118.2009, Loss-topo:1.3738\n",
      "Epoch:314, P:None, Loss:124.0503, Loss-ae:122.5050, Loss-topo:1.5453\n",
      "Epoch:315, P:None, Loss:117.8118, Loss-ae:116.3762, Loss-topo:1.4357\n",
      "Epoch:316, P:None, Loss:117.0342, Loss-ae:115.6922, Loss-topo:1.3421\n",
      "Epoch:317, P:None, Loss:121.4390, Loss-ae:120.0272, Loss-topo:1.4119\n",
      "Epoch:318, P:None, Loss:122.6988, Loss-ae:121.1570, Loss-topo:1.5418\n",
      "Epoch:319, P:None, Loss:118.4693, Loss-ae:117.0929, Loss-topo:1.3764\n",
      "Epoch:320, P:None, Loss:119.1396, Loss-ae:117.6867, Loss-topo:1.4529\n",
      "Epoch:321, P:None, Loss:117.8915, Loss-ae:116.4074, Loss-topo:1.4841\n",
      "Epoch:322, P:None, Loss:120.2989, Loss-ae:118.8163, Loss-topo:1.4826\n",
      "Epoch:323, P:None, Loss:117.9880, Loss-ae:116.5076, Loss-topo:1.4804\n",
      "Epoch:324, P:None, Loss:119.8320, Loss-ae:118.4122, Loss-topo:1.4198\n",
      "Epoch:325, P:None, Loss:116.6339, Loss-ae:115.1768, Loss-topo:1.4571\n",
      "Epoch:326, P:None, Loss:119.9755, Loss-ae:118.5028, Loss-topo:1.4727\n",
      "Epoch:327, P:None, Loss:114.3973, Loss-ae:113.0755, Loss-topo:1.3218\n",
      "Epoch:328, P:None, Loss:119.8062, Loss-ae:118.4408, Loss-topo:1.3653\n",
      "Epoch:329, P:None, Loss:115.0235, Loss-ae:113.6038, Loss-topo:1.4197\n",
      "Epoch:330, P:None, Loss:114.9239, Loss-ae:113.5065, Loss-topo:1.4174\n",
      "Epoch:331, P:None, Loss:117.2957, Loss-ae:115.9031, Loss-topo:1.3926\n",
      "Epoch:332, P:None, Loss:114.1845, Loss-ae:112.8807, Loss-topo:1.3038\n",
      "Epoch:333, P:None, Loss:117.4598, Loss-ae:116.0974, Loss-topo:1.3624\n",
      "Epoch:334, P:None, Loss:111.9188, Loss-ae:110.6374, Loss-topo:1.2815\n",
      "Epoch:335, P:None, Loss:115.6144, Loss-ae:114.2170, Loss-topo:1.3974\n",
      "Epoch:336, P:None, Loss:115.3881, Loss-ae:114.1329, Loss-topo:1.2552\n",
      "Epoch:337, P:None, Loss:114.3946, Loss-ae:113.0303, Loss-topo:1.3643\n",
      "Epoch:338, P:None, Loss:111.6506, Loss-ae:110.2398, Loss-topo:1.4108\n",
      "Epoch:339, P:None, Loss:117.1865, Loss-ae:115.7708, Loss-topo:1.4157\n",
      "Epoch:340, P:None, Loss:115.4187, Loss-ae:114.1150, Loss-topo:1.3037\n",
      "Epoch:341, P:None, Loss:116.9831, Loss-ae:115.5427, Loss-topo:1.4404\n",
      "Epoch:342, P:None, Loss:111.8500, Loss-ae:110.6203, Loss-topo:1.2297\n",
      "Epoch:343, P:None, Loss:117.3458, Loss-ae:116.0463, Loss-topo:1.2995\n",
      "Epoch:344, P:None, Loss:113.6375, Loss-ae:112.3443, Loss-topo:1.2932\n",
      "Epoch:345, P:None, Loss:115.3179, Loss-ae:114.0701, Loss-topo:1.2478\n",
      "Epoch:346, P:None, Loss:112.5746, Loss-ae:111.2378, Loss-topo:1.3368\n",
      "Epoch:347, P:None, Loss:117.2468, Loss-ae:115.9940, Loss-topo:1.2529\n",
      "Epoch:348, P:None, Loss:117.6047, Loss-ae:116.3240, Loss-topo:1.2807\n",
      "Epoch:349, P:None, Loss:113.3681, Loss-ae:112.1447, Loss-topo:1.2235\n",
      "Epoch:350, P:None, Loss:114.0634, Loss-ae:112.7276, Loss-topo:1.3357\n",
      "Epoch:351, P:None, Loss:111.9667, Loss-ae:110.8427, Loss-topo:1.1240\n",
      "Epoch:352, P:None, Loss:114.2397, Loss-ae:112.9260, Loss-topo:1.3138\n",
      "Epoch:353, P:None, Loss:115.7804, Loss-ae:114.5083, Loss-topo:1.2721\n",
      "Epoch:354, P:None, Loss:111.5399, Loss-ae:110.4250, Loss-topo:1.1149\n",
      "Epoch:355, P:None, Loss:112.6638, Loss-ae:111.4897, Loss-topo:1.1741\n",
      "Epoch:356, P:None, Loss:109.8303, Loss-ae:108.7139, Loss-topo:1.1164\n",
      "Epoch:357, P:None, Loss:113.4202, Loss-ae:112.1785, Loss-topo:1.2416\n",
      "Epoch:358, P:None, Loss:111.9196, Loss-ae:110.7895, Loss-topo:1.1301\n",
      "Epoch:359, P:None, Loss:112.9297, Loss-ae:111.7519, Loss-topo:1.1778\n",
      "Epoch:360, P:None, Loss:112.2910, Loss-ae:111.1151, Loss-topo:1.1759\n",
      "Epoch:361, P:None, Loss:111.3873, Loss-ae:110.2489, Loss-topo:1.1384\n",
      "Epoch:362, P:None, Loss:111.5870, Loss-ae:110.5086, Loss-topo:1.0784\n",
      "Epoch:363, P:None, Loss:109.1510, Loss-ae:108.0480, Loss-topo:1.1031\n",
      "Epoch:364, P:None, Loss:116.3189, Loss-ae:115.1491, Loss-topo:1.1699\n",
      "Epoch:365, P:None, Loss:110.1287, Loss-ae:109.0546, Loss-topo:1.0741\n",
      "Epoch:366, P:None, Loss:113.0478, Loss-ae:111.9385, Loss-topo:1.1092\n",
      "Epoch:367, P:None, Loss:108.3908, Loss-ae:107.2233, Loss-topo:1.1676\n",
      "Epoch:368, P:None, Loss:107.8465, Loss-ae:106.7884, Loss-topo:1.0581\n",
      "Epoch:369, P:None, Loss:109.4744, Loss-ae:108.3478, Loss-topo:1.1266\n",
      "Epoch:370, P:None, Loss:110.0252, Loss-ae:108.9530, Loss-topo:1.0722\n",
      "Epoch:371, P:None, Loss:106.0793, Loss-ae:105.1079, Loss-topo:0.9715\n",
      "Epoch:372, P:None, Loss:108.1460, Loss-ae:107.0649, Loss-topo:1.0812\n",
      "Epoch:373, P:None, Loss:112.9564, Loss-ae:111.8268, Loss-topo:1.1296\n",
      "Epoch:374, P:None, Loss:112.8070, Loss-ae:111.8118, Loss-topo:0.9952\n",
      "Epoch:375, P:None, Loss:108.8150, Loss-ae:107.8223, Loss-topo:0.9927\n",
      "Epoch:376, P:None, Loss:106.7778, Loss-ae:105.7497, Loss-topo:1.0281\n",
      "Epoch:377, P:None, Loss:109.4316, Loss-ae:108.3784, Loss-topo:1.0533\n",
      "Epoch:378, P:None, Loss:105.3842, Loss-ae:104.3086, Loss-topo:1.0757\n",
      "Epoch:379, P:None, Loss:108.8806, Loss-ae:107.9092, Loss-topo:0.9714\n",
      "Epoch:380, P:None, Loss:108.0343, Loss-ae:107.0174, Loss-topo:1.0169\n",
      "Epoch:381, P:None, Loss:107.7688, Loss-ae:106.7447, Loss-topo:1.0241\n",
      "Epoch:382, P:None, Loss:104.4602, Loss-ae:103.5327, Loss-topo:0.9275\n",
      "Epoch:383, P:None, Loss:106.2415, Loss-ae:105.3417, Loss-topo:0.8998\n",
      "Epoch:384, P:None, Loss:105.2266, Loss-ae:104.3332, Loss-topo:0.8933\n",
      "Epoch:385, P:None, Loss:107.8232, Loss-ae:106.8643, Loss-topo:0.9588\n",
      "Epoch:386, P:None, Loss:104.6695, Loss-ae:103.7783, Loss-topo:0.8912\n",
      "Epoch:387, P:None, Loss:109.6569, Loss-ae:108.6237, Loss-topo:1.0332\n",
      "Epoch:388, P:None, Loss:106.6081, Loss-ae:105.6941, Loss-topo:0.9140\n",
      "Epoch:389, P:None, Loss:105.7769, Loss-ae:104.8507, Loss-topo:0.9262\n",
      "Epoch:390, P:None, Loss:107.6382, Loss-ae:106.6658, Loss-topo:0.9724\n",
      "Epoch:391, P:None, Loss:106.5261, Loss-ae:105.5764, Loss-topo:0.9497\n",
      "Epoch:392, P:None, Loss:104.4608, Loss-ae:103.4870, Loss-topo:0.9739\n",
      "Epoch:393, P:None, Loss:107.0463, Loss-ae:106.1684, Loss-topo:0.8780\n",
      "Epoch:394, P:None, Loss:105.2397, Loss-ae:104.3343, Loss-topo:0.9053\n",
      "Epoch:395, P:None, Loss:108.1896, Loss-ae:107.3166, Loss-topo:0.8730\n",
      "Epoch:396, P:None, Loss:108.0275, Loss-ae:107.0645, Loss-topo:0.9630\n",
      "Epoch:397, P:None, Loss:101.8800, Loss-ae:101.0193, Loss-topo:0.8607\n",
      "Epoch:398, P:None, Loss:103.9837, Loss-ae:103.1534, Loss-topo:0.8304\n",
      "Epoch:399, P:None, Loss:105.6511, Loss-ae:104.7735, Loss-topo:0.8776\n",
      "Epoch:400, P:None, Loss:105.8534, Loss-ae:104.9782, Loss-topo:0.8752\n",
      "Epoch:401, P:None, Loss:102.8738, Loss-ae:102.0512, Loss-topo:0.8227\n",
      "Epoch:402, P:None, Loss:102.0798, Loss-ae:101.2373, Loss-topo:0.8425\n",
      "Epoch:403, P:None, Loss:103.4003, Loss-ae:102.5851, Loss-topo:0.8152\n",
      "Epoch:404, P:None, Loss:106.4761, Loss-ae:105.6459, Loss-topo:0.8302\n",
      "Epoch:405, P:None, Loss:104.6053, Loss-ae:103.7458, Loss-topo:0.8595\n",
      "Epoch:406, P:None, Loss:102.9148, Loss-ae:102.1264, Loss-topo:0.7884\n",
      "Epoch:407, P:None, Loss:105.2615, Loss-ae:104.3940, Loss-topo:0.8676\n",
      "Epoch:408, P:None, Loss:103.7348, Loss-ae:102.8968, Loss-topo:0.8380\n",
      "Epoch:409, P:None, Loss:104.2014, Loss-ae:103.3484, Loss-topo:0.8530\n",
      "Epoch:410, P:None, Loss:104.4259, Loss-ae:103.5887, Loss-topo:0.8372\n",
      "Epoch:411, P:None, Loss:101.2273, Loss-ae:100.4522, Loss-topo:0.7751\n",
      "Epoch:412, P:None, Loss:104.6329, Loss-ae:103.7539, Loss-topo:0.8791\n",
      "Epoch:413, P:None, Loss:102.2438, Loss-ae:101.4828, Loss-topo:0.7610\n",
      "Epoch:414, P:None, Loss:106.0412, Loss-ae:105.1663, Loss-topo:0.8748\n",
      "Epoch:415, P:None, Loss:101.1099, Loss-ae:100.2849, Loss-topo:0.8250\n",
      "Epoch:416, P:None, Loss:102.0902, Loss-ae:101.2769, Loss-topo:0.8133\n",
      "Epoch:417, P:None, Loss:104.2368, Loss-ae:103.4299, Loss-topo:0.8069\n",
      "Epoch:418, P:None, Loss:104.1010, Loss-ae:103.2787, Loss-topo:0.8223\n",
      "Epoch:419, P:None, Loss:103.0349, Loss-ae:102.2516, Loss-topo:0.7833\n",
      "Epoch:420, P:None, Loss:103.3048, Loss-ae:102.4229, Loss-topo:0.8818\n",
      "Epoch:421, P:None, Loss:102.6986, Loss-ae:101.9673, Loss-topo:0.7313\n",
      "Epoch:422, P:None, Loss:108.3600, Loss-ae:107.5004, Loss-topo:0.8596\n",
      "Epoch:423, P:None, Loss:101.0459, Loss-ae:100.3105, Loss-topo:0.7354\n",
      "Epoch:424, P:None, Loss:104.7841, Loss-ae:103.9929, Loss-topo:0.7912\n",
      "Epoch:425, P:None, Loss:106.3676, Loss-ae:105.5526, Loss-topo:0.8150\n",
      "Epoch:426, P:None, Loss:102.7836, Loss-ae:102.0365, Loss-topo:0.7470\n",
      "Epoch:427, P:None, Loss:101.5872, Loss-ae:100.8374, Loss-topo:0.7498\n",
      "Epoch:428, P:None, Loss:101.8826, Loss-ae:101.0696, Loss-topo:0.8130\n",
      "Epoch:429, P:None, Loss:102.4386, Loss-ae:101.6982, Loss-topo:0.7404\n",
      "Epoch:430, P:None, Loss:104.8343, Loss-ae:103.9894, Loss-topo:0.8448\n",
      "Epoch:431, P:None, Loss:103.9616, Loss-ae:103.2126, Loss-topo:0.7491\n",
      "Epoch:432, P:None, Loss:107.9842, Loss-ae:107.2586, Loss-topo:0.7256\n",
      "Epoch:433, P:None, Loss:104.7351, Loss-ae:103.9664, Loss-topo:0.7687\n",
      "Epoch:434, P:None, Loss:101.6440, Loss-ae:100.8922, Loss-topo:0.7517\n",
      "Epoch:435, P:None, Loss:103.1428, Loss-ae:102.3524, Loss-topo:0.7904\n",
      "Epoch:436, P:None, Loss:103.2765, Loss-ae:102.5514, Loss-topo:0.7251\n",
      "Epoch:437, P:None, Loss:104.2429, Loss-ae:103.5501, Loss-topo:0.6928\n",
      "Epoch:438, P:None, Loss:106.9998, Loss-ae:106.2064, Loss-topo:0.7934\n",
      "Epoch:439, P:None, Loss:100.8199, Loss-ae:100.0782, Loss-topo:0.7416\n",
      "Epoch:440, P:None, Loss:103.1801, Loss-ae:102.4401, Loss-topo:0.7400\n",
      "Epoch:441, P:None, Loss:103.0813, Loss-ae:102.3507, Loss-topo:0.7306\n",
      "Epoch:442, P:None, Loss:101.4557, Loss-ae:100.7515, Loss-topo:0.7041\n",
      "Epoch:443, P:None, Loss:101.7898, Loss-ae:101.0763, Loss-topo:0.7135\n",
      "Epoch:444, P:None, Loss:104.2708, Loss-ae:103.5692, Loss-topo:0.7016\n",
      "Epoch:445, P:None, Loss:101.2314, Loss-ae:100.4778, Loss-topo:0.7535\n",
      "Epoch:446, P:None, Loss:98.9578, Loss-ae:98.3321, Loss-topo:0.6257\n",
      "Epoch:447, P:None, Loss:101.0704, Loss-ae:100.4156, Loss-topo:0.6548\n",
      "Epoch:448, P:None, Loss:98.6728, Loss-ae:97.9627, Loss-topo:0.7101\n",
      "Epoch:449, P:None, Loss:103.9957, Loss-ae:103.2346, Loss-topo:0.7611\n",
      "Epoch:450, P:None, Loss:104.1246, Loss-ae:103.4045, Loss-topo:0.7202\n",
      "Epoch:451, P:None, Loss:102.4467, Loss-ae:101.7157, Loss-topo:0.7310\n",
      "Epoch:452, P:None, Loss:100.1029, Loss-ae:99.4449, Loss-topo:0.6579\n",
      "Epoch:453, P:None, Loss:100.9123, Loss-ae:100.2739, Loss-topo:0.6384\n",
      "Epoch:454, P:None, Loss:103.3477, Loss-ae:102.5910, Loss-topo:0.7567\n",
      "Epoch:455, P:None, Loss:100.4385, Loss-ae:99.7728, Loss-topo:0.6656\n",
      "Epoch:456, P:None, Loss:101.2679, Loss-ae:100.5871, Loss-topo:0.6808\n",
      "Epoch:457, P:None, Loss:103.7567, Loss-ae:103.0327, Loss-topo:0.7240\n",
      "Epoch:458, P:None, Loss:102.0400, Loss-ae:101.3573, Loss-topo:0.6827\n",
      "Epoch:459, P:None, Loss:99.5908, Loss-ae:98.9232, Loss-topo:0.6676\n",
      "Epoch:460, P:None, Loss:98.8371, Loss-ae:98.1864, Loss-topo:0.6507\n",
      "Epoch:461, P:None, Loss:101.9443, Loss-ae:101.2777, Loss-topo:0.6666\n",
      "Epoch:462, P:None, Loss:99.1988, Loss-ae:98.5927, Loss-topo:0.6062\n",
      "Epoch:463, P:None, Loss:101.3405, Loss-ae:100.6336, Loss-topo:0.7069\n",
      "Epoch:464, P:None, Loss:101.2125, Loss-ae:100.5695, Loss-topo:0.6430\n",
      "Epoch:465, P:None, Loss:99.5551, Loss-ae:98.9027, Loss-topo:0.6524\n",
      "Epoch:466, P:None, Loss:103.3137, Loss-ae:102.6210, Loss-topo:0.6927\n",
      "Epoch:467, P:None, Loss:98.5364, Loss-ae:97.9306, Loss-topo:0.6058\n",
      "Epoch:468, P:None, Loss:100.3164, Loss-ae:99.6669, Loss-topo:0.6495\n",
      "Epoch:469, P:None, Loss:99.3298, Loss-ae:98.6818, Loss-topo:0.6479\n",
      "Epoch:470, P:None, Loss:99.0969, Loss-ae:98.5211, Loss-topo:0.5758\n",
      "Epoch:471, P:None, Loss:100.4003, Loss-ae:99.7453, Loss-topo:0.6550\n",
      "Epoch:472, P:None, Loss:98.6664, Loss-ae:98.0469, Loss-topo:0.6194\n",
      "Epoch:473, P:None, Loss:100.9813, Loss-ae:100.2989, Loss-topo:0.6824\n",
      "Epoch:474, P:None, Loss:101.9111, Loss-ae:101.2517, Loss-topo:0.6593\n",
      "Epoch:475, P:None, Loss:99.1857, Loss-ae:98.5735, Loss-topo:0.6122\n"
     ]
    }
   ],
   "source": [
    "import pickle\n",
    "\n",
    "# Variables to reuse\n",
    "save_id = 2\n",
    "model_name = 'ConvolutionalAutoencoder_custom_dim3'\n",
    "model_dim = 10\n",
    "model_epc = 500\n",
    "model_lams = [1, 10, 100, 1000]\n",
    "\n",
    "for model_lam in model_lams:\n",
    "    # Training model\n",
    "    topo_reducer = CustomTopoDimRedTransform(\n",
    "        model_name=model_name,\n",
    "        model_lambda=model_lam,\n",
    "        patience=None,\n",
    "        num_epochs=model_epc,\n",
    "        from_dim=180,\n",
    "        to_dim=model_dim\n",
    "    )\n",
    "\n",
    "    title_plot = \"MotionSense 20Hz\\nTopoAE lambda {}\".format(model_lam)\n",
    "    topo_reducer.fit(train_HD, train_Y, title_plot=title_plot)\n",
    "\n",
    "    # Variables to reuse\n",
    "    filename = 'data/{}_{}_{}_{}_{}.pkl'.format(model_name, model_lam, model_dim, model_epc, save_id)\n",
    "\n",
    "    filehandler = open(filename, 'wb')\n",
    "    pickle.dump(topo_reducer, filehandler)\n",
    "    filehandler.close()"
   ]
  }
 ],
 "metadata": {
  "kernelspec": {
   "display_name": "Python 3 (ipykernel)",
   "language": "python",
   "name": "python3"
  },
  "language_info": {
   "codemirror_mode": {
    "name": "ipython",
    "version": 3
   },
   "file_extension": ".py",
   "mimetype": "text/x-python",
   "name": "python",
   "nbconvert_exporter": "python",
   "pygments_lexer": "ipython3",
   "version": "3.8.10"
  }
 },
 "nbformat": 4,
 "nbformat_minor": 5
}
