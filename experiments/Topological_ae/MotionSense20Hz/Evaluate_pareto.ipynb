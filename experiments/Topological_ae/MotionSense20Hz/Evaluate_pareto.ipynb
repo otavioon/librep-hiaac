{
 "cells": [
  {
   "cell_type": "code",
   "execution_count": 1,
   "id": "7e1630ed-63c8-4ee7-86c9-62dfb528b9a2",
   "metadata": {
    "execution": {
     "iopub.execute_input": "2023-01-04T11:54:18.517654Z",
     "iopub.status.busy": "2023-01-04T11:54:18.517337Z",
     "iopub.status.idle": "2023-01-04T11:54:18.536394Z",
     "shell.execute_reply": "2023-01-04T11:54:18.535541Z",
     "shell.execute_reply.started": "2023-01-04T11:54:18.517621Z"
    }
   },
   "outputs": [],
   "source": [
    "%load_ext autoreload\n",
    "%autoreload 2"
   ]
  },
  {
   "cell_type": "code",
   "execution_count": 2,
   "id": "2da911e3-e82f-47c9-8090-f71f453956ee",
   "metadata": {
    "execution": {
     "iopub.execute_input": "2023-01-04T11:54:18.537713Z",
     "iopub.status.busy": "2023-01-04T11:54:18.537464Z",
     "iopub.status.idle": "2023-01-04T11:54:18.613182Z",
     "shell.execute_reply": "2023-01-04T11:54:18.611887Z",
     "shell.execute_reply.started": "2023-01-04T11:54:18.537688Z"
    },
    "tags": []
   },
   "outputs": [],
   "source": [
    "import sys\n",
    "sys.path.append(\"../../..\")"
   ]
  },
  {
   "cell_type": "code",
   "execution_count": 3,
   "id": "d10e6eca-1a65-4c73-90cb-ee5b35c49aac",
   "metadata": {
    "execution": {
     "iopub.execute_input": "2023-01-04T11:54:18.615180Z",
     "iopub.status.busy": "2023-01-04T11:54:18.614659Z",
     "iopub.status.idle": "2023-01-04T11:54:20.243498Z",
     "shell.execute_reply": "2023-01-04T11:54:20.241594Z",
     "shell.execute_reply.started": "2023-01-04T11:54:18.615139Z"
    },
    "tags": []
   },
   "outputs": [
    {
     "name": "stdout",
     "output_type": "stream",
     "text": [
      "True\n",
      "1\n",
      "0\n",
      "<torch.cuda.device object at 0x7f8e8066e550>\n",
      "NVIDIA GeForce GTX 1080 Ti\n"
     ]
    }
   ],
   "source": [
    "import torch\n",
    "print(torch.cuda.is_available()) # True\n",
    "print(torch.cuda.device_count()) # 1\n",
    "print(torch.cuda.current_device()) # 0\n",
    "print(torch.cuda.device(0)) # <torch.cuda.device at 0x7efce0b03be0>\n",
    "print(torch.cuda.get_device_name(0)) # 'GeForce GTX 950M'"
   ]
  },
  {
   "cell_type": "code",
   "execution_count": 4,
   "id": "5f067405-ab8c-4f22-b056-ab9e1febe71c",
   "metadata": {
    "execution": {
     "iopub.execute_input": "2023-01-04T11:54:20.247790Z",
     "iopub.status.busy": "2023-01-04T11:54:20.246362Z",
     "iopub.status.idle": "2023-01-04T11:54:20.884303Z",
     "shell.execute_reply": "2023-01-04T11:54:20.883400Z",
     "shell.execute_reply.started": "2023-01-04T11:54:20.247707Z"
    }
   },
   "outputs": [],
   "source": [
    "import numpy as np\n",
    "import pandas as pd\n",
    "import matplotlib.pyplot as plt"
   ]
  },
  {
   "cell_type": "code",
   "execution_count": 5,
   "id": "cc5007e3-ef19-4658-ac7d-2a6f617bb9c6",
   "metadata": {
    "execution": {
     "iopub.execute_input": "2023-01-04T11:54:20.885918Z",
     "iopub.status.busy": "2023-01-04T11:54:20.885489Z",
     "iopub.status.idle": "2023-01-04T11:54:28.004019Z",
     "shell.execute_reply": "2023-01-04T11:54:28.003018Z",
     "shell.execute_reply.started": "2023-01-04T11:54:20.885884Z"
    }
   },
   "outputs": [
    {
     "name": "stderr",
     "output_type": "stream",
     "text": [
      "2023-01-04 11:54:26.123720: I tensorflow/core/platform/cpu_feature_guard.cc:193] This TensorFlow binary is optimized with oneAPI Deep Neural Network Library (oneDNN) to use the following CPU instructions in performance-critical operations:  AVX2 FMA\n",
      "To enable them in other operations, rebuild TensorFlow with the appropriate compiler flags.\n",
      "2023-01-04 11:54:27.060678: W tensorflow/compiler/xla/stream_executor/platform/default/dso_loader.cc:64] Could not load dynamic library 'libnvinfer.so.7'; dlerror: libnvinfer.so.7: cannot open shared object file: No such file or directory\n",
      "2023-01-04 11:54:27.060771: W tensorflow/compiler/xla/stream_executor/platform/default/dso_loader.cc:64] Could not load dynamic library 'libnvinfer_plugin.so.7'; dlerror: libnvinfer_plugin.so.7: cannot open shared object file: No such file or directory\n",
      "2023-01-04 11:54:27.060782: W tensorflow/compiler/tf2tensorrt/utils/py_utils.cc:38] TF-TRT Warning: Cannot dlopen some TensorRT libraries. If you would like to use Nvidia GPU with TensorRT, please make sure the missing libraries mentioned above are installed properly.\n"
     ]
    }
   ],
   "source": [
    "from librep.datasets.har.loaders import (\n",
    "    MotionSense_BalancedView20HZ\n",
    ")"
   ]
  },
  {
   "cell_type": "code",
   "execution_count": 6,
   "id": "2f9f66b2-7b1c-4d4e-a0e3-cde9552a595a",
   "metadata": {
    "execution": {
     "iopub.execute_input": "2023-01-04T11:54:28.005374Z",
     "iopub.status.busy": "2023-01-04T11:54:28.004986Z",
     "iopub.status.idle": "2023-01-04T11:54:28.073210Z",
     "shell.execute_reply": "2023-01-04T11:54:28.072502Z",
     "shell.execute_reply.started": "2023-01-04T11:54:28.005351Z"
    },
    "tags": []
   },
   "outputs": [],
   "source": [
    "from librep.transforms.topo_ae import (\n",
    "    TopologicalDimensionalityReduction,\n",
    "    CustomTopoDimRedTransform\n",
    ")\n",
    "from librep.transforms import UMAP\n",
    "from sklearn.manifold import TSNE\n",
    "from experiments.Topological_ae.Experiment_utils import *\n",
    "from librep.datasets.multimodal import TransformMultiModalDataset\n",
    "from librep.transforms.fft import FFT\n",
    "from tqdm.notebook import tqdm"
   ]
  },
  {
   "cell_type": "code",
   "execution_count": 7,
   "id": "038d8f56-504e-4e69-b3a2-1061de238c91",
   "metadata": {
    "execution": {
     "iopub.execute_input": "2023-01-04T11:54:28.076628Z",
     "iopub.status.busy": "2023-01-04T11:54:28.076378Z",
     "iopub.status.idle": "2023-01-04T11:54:31.166144Z",
     "shell.execute_reply": "2023-01-04T11:54:31.165412Z",
     "shell.execute_reply.started": "2023-01-04T11:54:28.076604Z"
    },
    "tags": []
   },
   "outputs": [
    {
     "data": {
      "application/vnd.jupyter.widget-view+json": {
       "model_id": "5104a1a715c34b53a2c0ced547cae3d4",
       "version_major": 2,
       "version_minor": 0
      },
      "text/plain": [
       "  0%|          | 0/32 [00:00<?, ?it/s]"
      ]
     },
     "metadata": {},
     "output_type": "display_data"
    },
    {
     "data": {
      "application/vnd.jupyter.widget-view+json": {
       "model_id": "3aad26d1e20043318b52caaa9654f836",
       "version_major": 2,
       "version_minor": 0
      },
      "text/plain": [
       "  0%|          | 0/1 [00:00<?, ?it/s]"
      ]
     },
     "metadata": {},
     "output_type": "display_data"
    },
    {
     "data": {
      "application/vnd.jupyter.widget-view+json": {
       "model_id": "ff6f5b5b695548449b87a5df755e25d3",
       "version_major": 2,
       "version_minor": 0
      },
      "text/plain": [
       "  0%|          | 0/1 [00:00<?, ?it/s]"
      ]
     },
     "metadata": {},
     "output_type": "display_data"
    },
    {
     "data": {
      "application/vnd.jupyter.widget-view+json": {
       "model_id": "4ef4d2fc7ec547aab1f7d1d174935b87",
       "version_major": 2,
       "version_minor": 0
      },
      "text/plain": [
       "  0%|          | 0/1 [00:00<?, ?it/s]"
      ]
     },
     "metadata": {},
     "output_type": "display_data"
    },
    {
     "data": {
      "application/vnd.jupyter.widget-view+json": {
       "model_id": "8ac325d226cd45538732a8811117fd89",
       "version_major": 2,
       "version_minor": 0
      },
      "text/plain": [
       "  0%|          | 0/1 [00:00<?, ?it/s]"
      ]
     },
     "metadata": {},
     "output_type": "display_data"
    },
    {
     "data": {
      "application/vnd.jupyter.widget-view+json": {
       "model_id": "3327ad0fa4014c1e982cc65536b3aec3",
       "version_major": 2,
       "version_minor": 0
      },
      "text/plain": [
       "  0%|          | 0/1 [00:00<?, ?it/s]"
      ]
     },
     "metadata": {},
     "output_type": "display_data"
    },
    {
     "data": {
      "application/vnd.jupyter.widget-view+json": {
       "model_id": "eab80dfeb82245b5b1902210eb6a2125",
       "version_major": 2,
       "version_minor": 0
      },
      "text/plain": [
       "  0%|          | 0/1 [00:00<?, ?it/s]"
      ]
     },
     "metadata": {},
     "output_type": "display_data"
    },
    {
     "data": {
      "application/vnd.jupyter.widget-view+json": {
       "model_id": "be5b940f1a974fcebe63a2a22ac63ef0",
       "version_major": 2,
       "version_minor": 0
      },
      "text/plain": [
       "  0%|          | 0/1 [00:00<?, ?it/s]"
      ]
     },
     "metadata": {},
     "output_type": "display_data"
    },
    {
     "data": {
      "application/vnd.jupyter.widget-view+json": {
       "model_id": "7969c6651f094161961961732c875383",
       "version_major": 2,
       "version_minor": 0
      },
      "text/plain": [
       "  0%|          | 0/1 [00:00<?, ?it/s]"
      ]
     },
     "metadata": {},
     "output_type": "display_data"
    },
    {
     "data": {
      "application/vnd.jupyter.widget-view+json": {
       "model_id": "d3f3f71f135042dcba741d9e2063efe3",
       "version_major": 2,
       "version_minor": 0
      },
      "text/plain": [
       "  0%|          | 0/1 [00:00<?, ?it/s]"
      ]
     },
     "metadata": {},
     "output_type": "display_data"
    },
    {
     "data": {
      "application/vnd.jupyter.widget-view+json": {
       "model_id": "82a89d6c079d493884c99a2502e097d2",
       "version_major": 2,
       "version_minor": 0
      },
      "text/plain": [
       "  0%|          | 0/1 [00:00<?, ?it/s]"
      ]
     },
     "metadata": {},
     "output_type": "display_data"
    },
    {
     "data": {
      "application/vnd.jupyter.widget-view+json": {
       "model_id": "5a8b9a387138442fa84fbba12909478f",
       "version_major": 2,
       "version_minor": 0
      },
      "text/plain": [
       "  0%|          | 0/1 [00:00<?, ?it/s]"
      ]
     },
     "metadata": {},
     "output_type": "display_data"
    },
    {
     "data": {
      "application/vnd.jupyter.widget-view+json": {
       "model_id": "b9a8e8c4ee824c88aaa193c7aab0d54d",
       "version_major": 2,
       "version_minor": 0
      },
      "text/plain": [
       "  0%|          | 0/1 [00:00<?, ?it/s]"
      ]
     },
     "metadata": {},
     "output_type": "display_data"
    },
    {
     "data": {
      "application/vnd.jupyter.widget-view+json": {
       "model_id": "a21042ab21bf4ffbb6373f5ebe0625fd",
       "version_major": 2,
       "version_minor": 0
      },
      "text/plain": [
       "  0%|          | 0/1 [00:00<?, ?it/s]"
      ]
     },
     "metadata": {},
     "output_type": "display_data"
    },
    {
     "data": {
      "application/vnd.jupyter.widget-view+json": {
       "model_id": "e6fa5c59a07f408cb63cc39fd8a8a880",
       "version_major": 2,
       "version_minor": 0
      },
      "text/plain": [
       "  0%|          | 0/1 [00:00<?, ?it/s]"
      ]
     },
     "metadata": {},
     "output_type": "display_data"
    },
    {
     "data": {
      "application/vnd.jupyter.widget-view+json": {
       "model_id": "598ef09e211d43e18fec68964b6dfb26",
       "version_major": 2,
       "version_minor": 0
      },
      "text/plain": [
       "  0%|          | 0/1 [00:00<?, ?it/s]"
      ]
     },
     "metadata": {},
     "output_type": "display_data"
    },
    {
     "data": {
      "application/vnd.jupyter.widget-view+json": {
       "model_id": "9c39e4a895254b8d849fb53c85d77bb3",
       "version_major": 2,
       "version_minor": 0
      },
      "text/plain": [
       "  0%|          | 0/1 [00:00<?, ?it/s]"
      ]
     },
     "metadata": {},
     "output_type": "display_data"
    },
    {
     "data": {
      "application/vnd.jupyter.widget-view+json": {
       "model_id": "411a189c65144d919247e7704125deba",
       "version_major": 2,
       "version_minor": 0
      },
      "text/plain": [
       "  0%|          | 0/1 [00:00<?, ?it/s]"
      ]
     },
     "metadata": {},
     "output_type": "display_data"
    },
    {
     "data": {
      "application/vnd.jupyter.widget-view+json": {
       "model_id": "91108c6f75294aa5a055039549e54fdd",
       "version_major": 2,
       "version_minor": 0
      },
      "text/plain": [
       "  0%|          | 0/1 [00:00<?, ?it/s]"
      ]
     },
     "metadata": {},
     "output_type": "display_data"
    },
    {
     "data": {
      "application/vnd.jupyter.widget-view+json": {
       "model_id": "046b1db9c90345e5a604d0a2377933e8",
       "version_major": 2,
       "version_minor": 0
      },
      "text/plain": [
       "  0%|          | 0/1 [00:00<?, ?it/s]"
      ]
     },
     "metadata": {},
     "output_type": "display_data"
    },
    {
     "data": {
      "application/vnd.jupyter.widget-view+json": {
       "model_id": "22d98b6e9adc41b69394025c4b2b2ff2",
       "version_major": 2,
       "version_minor": 0
      },
      "text/plain": [
       "  0%|          | 0/1 [00:00<?, ?it/s]"
      ]
     },
     "metadata": {},
     "output_type": "display_data"
    },
    {
     "data": {
      "application/vnd.jupyter.widget-view+json": {
       "model_id": "1aecbb8563e14d5ea42a36d31a6e2bf2",
       "version_major": 2,
       "version_minor": 0
      },
      "text/plain": [
       "  0%|          | 0/1 [00:00<?, ?it/s]"
      ]
     },
     "metadata": {},
     "output_type": "display_data"
    },
    {
     "data": {
      "application/vnd.jupyter.widget-view+json": {
       "model_id": "026121ae2bc24097a6f5a2edc786629d",
       "version_major": 2,
       "version_minor": 0
      },
      "text/plain": [
       "  0%|          | 0/1 [00:00<?, ?it/s]"
      ]
     },
     "metadata": {},
     "output_type": "display_data"
    },
    {
     "data": {
      "application/vnd.jupyter.widget-view+json": {
       "model_id": "5431505fab764aac901ae3b6dd1cd0f3",
       "version_major": 2,
       "version_minor": 0
      },
      "text/plain": [
       "  0%|          | 0/1 [00:00<?, ?it/s]"
      ]
     },
     "metadata": {},
     "output_type": "display_data"
    },
    {
     "data": {
      "application/vnd.jupyter.widget-view+json": {
       "model_id": "046d9569ef3d44ffa780ed802fb7efa8",
       "version_major": 2,
       "version_minor": 0
      },
      "text/plain": [
       "  0%|          | 0/1 [00:00<?, ?it/s]"
      ]
     },
     "metadata": {},
     "output_type": "display_data"
    },
    {
     "data": {
      "application/vnd.jupyter.widget-view+json": {
       "model_id": "f3bdef77d9a643669314888180ac087c",
       "version_major": 2,
       "version_minor": 0
      },
      "text/plain": [
       "  0%|          | 0/1 [00:00<?, ?it/s]"
      ]
     },
     "metadata": {},
     "output_type": "display_data"
    },
    {
     "data": {
      "application/vnd.jupyter.widget-view+json": {
       "model_id": "e88c758d69e84b91a2c867987e8eb1a5",
       "version_major": 2,
       "version_minor": 0
      },
      "text/plain": [
       "  0%|          | 0/1 [00:00<?, ?it/s]"
      ]
     },
     "metadata": {},
     "output_type": "display_data"
    },
    {
     "data": {
      "application/vnd.jupyter.widget-view+json": {
       "model_id": "d91422008fe74121bc009561160aff00",
       "version_major": 2,
       "version_minor": 0
      },
      "text/plain": [
       "  0%|          | 0/1 [00:00<?, ?it/s]"
      ]
     },
     "metadata": {},
     "output_type": "display_data"
    },
    {
     "data": {
      "application/vnd.jupyter.widget-view+json": {
       "model_id": "7a268e57b98549db8fe6c2684a6d39c9",
       "version_major": 2,
       "version_minor": 0
      },
      "text/plain": [
       "  0%|          | 0/1 [00:00<?, ?it/s]"
      ]
     },
     "metadata": {},
     "output_type": "display_data"
    },
    {
     "data": {
      "application/vnd.jupyter.widget-view+json": {
       "model_id": "dfee4193aad04f2c9acb0c68833645e6",
       "version_major": 2,
       "version_minor": 0
      },
      "text/plain": [
       "  0%|          | 0/1 [00:00<?, ?it/s]"
      ]
     },
     "metadata": {},
     "output_type": "display_data"
    },
    {
     "data": {
      "application/vnd.jupyter.widget-view+json": {
       "model_id": "a82a718a8d694a8d8867d53576f11b3a",
       "version_major": 2,
       "version_minor": 0
      },
      "text/plain": [
       "  0%|          | 0/1 [00:00<?, ?it/s]"
      ]
     },
     "metadata": {},
     "output_type": "display_data"
    },
    {
     "data": {
      "application/vnd.jupyter.widget-view+json": {
       "model_id": "89f52454a157416ea2aab576a43b6416",
       "version_major": 2,
       "version_minor": 0
      },
      "text/plain": [
       "  0%|          | 0/1 [00:00<?, ?it/s]"
      ]
     },
     "metadata": {},
     "output_type": "display_data"
    },
    {
     "data": {
      "application/vnd.jupyter.widget-view+json": {
       "model_id": "a35e8e5a783a4d378b296c340003fa8d",
       "version_major": 2,
       "version_minor": 0
      },
      "text/plain": [
       "  0%|          | 0/1 [00:00<?, ?it/s]"
      ]
     },
     "metadata": {},
     "output_type": "display_data"
    }
   ],
   "source": [
    "import pickle\n",
    "model_name = 'ConvolutionalAutoencoder_custom_dim3'\n",
    "model_lambdas = [0.01, 0.1, 0, 1, 10, 100]\n",
    "model_lambdas = [1]\n",
    "model_startdim = 180\n",
    "model_latentdim = 10\n",
    "model_epochs = list(range(250, 5001, 250))\n",
    "model_ids = list(range(0, 32))\n",
    "pdata = {}\n",
    "eval_models = ['RF', 'SVC', 'KNN']\n",
    "eval_types = ['ACC', 'F1']\n",
    "for e_m in eval_models:\n",
    "    for e_t in eval_types:\n",
    "        eval_obj = {}\n",
    "        for m_e in model_epochs:\n",
    "            eval_obj[m_e] = []\n",
    "        pdata[e_m + '-' + e_t] = eval_obj\n",
    "for id_used in tqdm(model_ids):\n",
    "    for lambda_used in tqdm(model_lambdas):\n",
    "        filename = 'data_eval/ConvolutionalAutoencoder_custom_dim3_{}_180-10_5000_{}.acc_f1.pkl'.format(lambda_used, id_used)\n",
    "        filehandler = open(filename, 'rb')\n",
    "        model_data = pickle.load(filehandler)\n",
    "        filehandler.close()\n",
    "        # print(model_data['model_lambda'], model_data['results'])\n",
    "        \n",
    "        filename = 'data/ConvolutionalAutoencoder_custom_dim3_{}_180-10_5000_{}.pkl'.format(lambda_used, id_used)\n",
    "        filehandler = open(filename, 'rb')\n",
    "        model_reducer = pickle.load(filehandler)\n",
    "        filehandler.close()\n",
    "        # print(model_reducer.history)\n",
    "        # print(model_data['results'])\n",
    "        for pair in model_data['results']:\n",
    "            # epoch = pair[0]\n",
    "            val_error = model_reducer.history['val_error'][pair[0]-1]\n",
    "            metric_obj = pair[1]\n",
    "            for metric_key in metric_obj:\n",
    "                for m_val in metric_obj[metric_key]:\n",
    "                    pdata[metric_key][pair[0]].append((val_error, m_val))\n",
    "            #############VER#################\n",
    "        # for epoch in model_epochs:\n",
    "        #     val_error = model_reducer.history['val_error'][epoch-1]\n",
    "        #     rf_acc = model_data\n",
    "        # print(pdata)\n",
    "        # assert 1==0"
   ]
  },
  {
   "cell_type": "code",
   "execution_count": 35,
   "id": "db2c61d3-2e9a-43a2-804c-3d4b832b8a2b",
   "metadata": {
    "execution": {
     "iopub.execute_input": "2023-01-06T13:16:53.059232Z",
     "iopub.status.busy": "2023-01-06T13:16:53.058507Z",
     "iopub.status.idle": "2023-01-06T13:16:53.149652Z",
     "shell.execute_reply": "2023-01-06T13:16:53.148531Z",
     "shell.execute_reply.started": "2023-01-06T13:16:53.059166Z"
    },
    "tags": []
   },
   "outputs": [
    {
     "data": {
      "text/plain": [
       "[1, 2, 3, 4]"
      ]
     },
     "execution_count": 35,
     "metadata": {},
     "output_type": "execute_result"
    }
   ],
   "source": [
    "a = [1, 2]\n",
    "b = [3, 4]\n",
    "a+b"
   ]
  },
  {
   "cell_type": "code",
   "execution_count": 37,
   "id": "7e428c31-3dce-4295-b0d8-78093365df89",
   "metadata": {
    "execution": {
     "iopub.execute_input": "2023-01-06T13:18:24.280503Z",
     "iopub.status.busy": "2023-01-06T13:18:24.279803Z",
     "iopub.status.idle": "2023-01-06T13:18:24.834537Z",
     "shell.execute_reply": "2023-01-06T13:18:24.833771Z",
     "shell.execute_reply.started": "2023-01-06T13:18:24.280440Z"
    },
    "tags": []
   },
   "outputs": [
    {
     "data": {
      "image/png": "[encoded data removed]",
      "text/plain": [
       "<Figure size 640x480 with 1 Axes>"
      ]
     },
     "metadata": {},
     "output_type": "display_data"
    }
   ],
   "source": [
    "# print(model_reducer.history['val_error'])\n",
    "# model_reducer.plot_training()\n",
    "# model_data['results']\n",
    "# len(pdata['RF-ACC'][2250])\n",
    "keys_to_consider = model_epochs\n",
    "keys_to_consider = [1000, 2000, 3000, 4000, 5000]\n",
    "for mkey in keys_to_consider:\n",
    "    x0 = [pair[0] for pair in pdata['RF-ACC'][mkey]]\n",
    "    y0 = [pair[1] for pair in pdata['RF-ACC'][mkey]]\n",
    "    x1 = [pair[0] for pair in pdata['RF-ACC'][mkey-250]]\n",
    "    y1 = [pair[1] for pair in pdata['RF-ACC'][mkey-250]]\n",
    "    x2 = [pair[0] for pair in pdata['RF-ACC'][mkey-500]]\n",
    "    y2 = [pair[1] for pair in pdata['RF-ACC'][mkey-500]]\n",
    "    x3 = [pair[0] for pair in pdata['RF-ACC'][mkey-750]]\n",
    "    y3 = [pair[1] for pair in pdata['RF-ACC'][mkey-750]]\n",
    "    x = x0 + x1 + x2 + x3 \n",
    "    y = y0 + y1 + y2 + y3\n",
    "    plt.scatter(x, y, label=str(mkey-750) + '-' + str(mkey), s=1)\n",
    "    plt.ylim((0.75, 1))\n",
    "    plt.xlim((50, 150))\n",
    "    plt.legend()\n",
    "    plt.title('MotionSense models grouped by epochs')\n",
    "    plt.xlabel('VAL-ERROR')\n",
    "    plt.ylabel('RF-ACC')"
   ]
  },
  {
   "cell_type": "code",
   "execution_count": 27,
   "id": "fc8f5e0f-fa59-4a42-8185-7711101fc621",
   "metadata": {
    "execution": {
     "iopub.execute_input": "2023-01-04T12:03:57.768855Z",
     "iopub.status.busy": "2023-01-04T12:03:57.768139Z",
     "iopub.status.idle": "2023-01-04T12:03:57.842769Z",
     "shell.execute_reply": "2023-01-04T12:03:57.841905Z",
     "shell.execute_reply.started": "2023-01-04T12:03:57.768790Z"
    },
    "tags": []
   },
   "outputs": [],
   "source": [
    "# pdata['RF-ACC'][250]"
   ]
  },
  {
   "cell_type": "code",
   "execution_count": 10,
   "id": "37ae00a8-c6a3-4bec-8e86-553ba9ef915b",
   "metadata": {
    "execution": {
     "iopub.execute_input": "2023-01-04T11:54:32.515576Z",
     "iopub.status.busy": "2023-01-04T11:54:32.515320Z",
     "iopub.status.idle": "2023-01-04T11:54:32.587151Z",
     "shell.execute_reply": "2023-01-04T11:54:32.586283Z",
     "shell.execute_reply.started": "2023-01-04T11:54:32.515553Z"
    }
   },
   "outputs": [
    {
     "name": "stdout",
     "output_type": "stream",
     "text": [
      "(500, {'RF-ACC': [0.9009803921568628, 0.9009803921568628, 0.9019607843137255, 0.9019607843137255, 0.907843137254902, 0.9049019607843137, 0.907843137254902, 0.9009803921568628, 0.903921568627451, 0.8980392156862745], 'RF-F1': [0.901185828761331, 0.901270630142591, 0.9022598076500604, 0.9023214169579444, 0.9080119615745122, 0.9051018758390784, 0.9081805599506075, 0.9011492171870802, 0.9040893654799241, 0.8985282726434471], 'SVC-ACC': [0.9019607843137255], 'SVC-F1': [0.9026034835419132], 'KNN-ACC': [0.8607843137254902], 'KNN-F1': [0.8604010709913317]})\n"
     ]
    }
   ],
   "source": [
    "filename = 'data_eval/ConvolutionalAutoencoder_custom_dim3_0.01_180-10_5000_0.acc_f1.pkl'\n",
    "filehandler = open(filename, 'rb')\n",
    "data = pickle.load(filehandler)\n",
    "print(data['results'][1])\n",
    "filehandler.close()"
   ]
  },
  {
   "cell_type": "code",
   "execution_count": 30,
   "id": "43e5c0c2-a099-489f-b760-b1428dd8ad5a",
   "metadata": {
    "execution": {
     "iopub.execute_input": "2023-01-04T14:58:57.719881Z",
     "iopub.status.busy": "2023-01-04T14:58:57.718995Z",
     "iopub.status.idle": "2023-01-04T14:58:57.816684Z",
     "shell.execute_reply": "2023-01-04T14:58:57.815591Z",
     "shell.execute_reply.started": "2023-01-04T14:58:57.719817Z"
    },
    "tags": []
   },
   "outputs": [
    {
     "name": "stdout",
     "output_type": "stream",
     "text": [
      "[(0, 0), (1, 1), (2, 3), (0, 3), (0, 4), (3, 1), (2, 4), (2, 2)]\n",
      "[(0, 0), (1, 1), (3, 1), (2, 2), (2, 3), (0, 3), (0, 4), (2, 4)]\n",
      "[(1, 1), (3, 1), (2, 2), (2, 3), (2, 4)]\n",
      "[(3, 1), (2, 2), (2, 3), (2, 4)]\n",
      "[]\n",
      "[0, 1, 3] [0, 1, 1]\n"
     ]
    }
   ],
   "source": [
    "import matplotlib.pyplot as plt\n",
    "import numpy as np\n",
    "points = [(0, 0), (1, 1), (2, 3), (0, 3), (0, 4), (3, 1), (2, 4), (2, 2)]\n",
    "print(points)\n",
    "# points = sorted(points)\n",
    "points.sort(key=lambda pair: pair[1])\n",
    "print(points)\n",
    "\n",
    "x = [point[0] for point in points]\n",
    "y = [point[1] for point in points]\n",
    "p_x = []\n",
    "p_y = []\n",
    "while len(points) > 0:\n",
    "    p_x.append(points[0][0])\n",
    "    p_y.append(points[0][1])\n",
    "    limit_x = points[0][0]\n",
    "    limit_y = points[0][1]\n",
    "    points = list(filter(lambda p: p[0] > limit_x, points))\n",
    "    print(points)\n",
    "print(p_x, p_y)"
   ]
  },
  {
   "cell_type": "code",
   "execution_count": 12,
   "id": "bdf89e0d-5fc8-485e-bd20-e69709a5fde6",
   "metadata": {
    "execution": {
     "iopub.execute_input": "2023-01-04T11:54:32.654378Z",
     "iopub.status.busy": "2023-01-04T11:54:32.654144Z",
     "iopub.status.idle": "2023-01-04T11:54:32.727986Z",
     "shell.execute_reply": "2023-01-04T11:54:32.727011Z",
     "shell.execute_reply.started": "2023-01-04T11:54:32.654355Z"
    },
    "tags": []
   },
   "outputs": [
    {
     "name": "stdout",
     "output_type": "stream",
     "text": [
      "[]\n",
      "[]\n"
     ]
    }
   ],
   "source": [
    "print(points)\n",
    "print(sorted(points, reverse=True))"
   ]
  },
  {
   "cell_type": "code",
   "execution_count": 13,
   "id": "917e5f56-480d-488b-96ac-13836782e137",
   "metadata": {
    "execution": {
     "iopub.execute_input": "2023-01-04T11:54:32.729524Z",
     "iopub.status.busy": "2023-01-04T11:54:32.729201Z",
     "iopub.status.idle": "2023-01-04T11:54:32.956924Z",
     "shell.execute_reply": "2023-01-04T11:54:32.956241Z",
     "shell.execute_reply.started": "2023-01-04T11:54:32.729493Z"
    },
    "tags": []
   },
   "outputs": [
    {
     "data": {
      "image/png": "[encoded data removed]",
      "text/plain": [
       "<Figure size 640x480 with 1 Axes>"
      ]
     },
     "metadata": {},
     "output_type": "display_data"
    }
   ],
   "source": [
    "def plot_pareto(x, y, min_x=True, min_y=True):\n",
    "    # Min y\n",
    "    # Max x\n",
    "    # if min_y\n",
    "    plt.scatter(x, y)\n",
    "    pareto_x = [0, 1, 1, 3, 3]\n",
    "    pareto_y = [0, 0, 1, 1, 4]\n",
    "    p_x = []\n",
    "    p_y = []\n",
    "    \n",
    "    plt.plot(pareto_x, pareto_y, linestyle='--')\n",
    "    \n",
    "plot_pareto(x,y)"
   ]
  },
  {
   "cell_type": "markdown",
   "id": "d49f04a7-fe78-4692-b571-44911744a350",
   "metadata": {},
   "source": [
    "## Reading model"
   ]
  },
  {
   "cell_type": "code",
   "execution_count": 14,
   "id": "61b896c7-2cf0-43ab-ab29-e5cca2314518",
   "metadata": {
    "execution": {
     "iopub.execute_input": "2023-01-04T11:54:32.958232Z",
     "iopub.status.busy": "2023-01-04T11:54:32.958004Z",
     "iopub.status.idle": "2023-01-04T11:54:33.984565Z",
     "shell.execute_reply": "2023-01-04T11:54:33.954635Z",
     "shell.execute_reply.started": "2023-01-04T11:54:32.958210Z"
    },
    "tags": []
   },
   "outputs": [
    {
     "ename": "FileNotFoundError",
     "evalue": "[Errno 2] No such file or directory: 'data/ConvolutionalAutoencoder_custom_dim3_0_10_500_0.pkl'",
     "output_type": "error",
     "traceback": [
      "\u001b[0;31m---------------------------------------------------------------------------\u001b[0m",
      "\u001b[0;31mFileNotFoundError\u001b[0m                         Traceback (most recent call last)",
      "Cell \u001b[0;32mIn[14], line 30\u001b[0m\n\u001b[1;32m     28\u001b[0m \u001b[38;5;28;01mfor\u001b[39;00m save_id \u001b[38;5;129;01min\u001b[39;00m save_ids:\n\u001b[1;32m     29\u001b[0m     filename \u001b[38;5;241m=\u001b[39m \u001b[38;5;124m'\u001b[39m\u001b[38;5;124mdata/\u001b[39m\u001b[38;5;132;01m{}\u001b[39;00m\u001b[38;5;124m_\u001b[39m\u001b[38;5;132;01m{}\u001b[39;00m\u001b[38;5;124m_\u001b[39m\u001b[38;5;132;01m{}\u001b[39;00m\u001b[38;5;124m_\u001b[39m\u001b[38;5;132;01m{}\u001b[39;00m\u001b[38;5;124m_\u001b[39m\u001b[38;5;132;01m{}\u001b[39;00m\u001b[38;5;124m.pkl\u001b[39m\u001b[38;5;124m'\u001b[39m\u001b[38;5;241m.\u001b[39mformat(model_name, model_lam, model_dim, model_epc, save_id)\n\u001b[0;32m---> 30\u001b[0m     filehandler \u001b[38;5;241m=\u001b[39m \u001b[38;5;28;43mopen\u001b[39;49m\u001b[43m(\u001b[49m\u001b[43mfilename\u001b[49m\u001b[43m,\u001b[49m\u001b[43m \u001b[49m\u001b[38;5;124;43m'\u001b[39;49m\u001b[38;5;124;43mrb\u001b[39;49m\u001b[38;5;124;43m'\u001b[39;49m\u001b[43m)\u001b[49m\n\u001b[1;32m     31\u001b[0m     model \u001b[38;5;241m=\u001b[39m pickle\u001b[38;5;241m.\u001b[39mload(filehandler)\n\u001b[1;32m     32\u001b[0m     filehandler\u001b[38;5;241m.\u001b[39mclose()\n",
      "File \u001b[0;32m/usr/local/lib/python3.8/dist-packages/IPython/core/interactiveshell.py:282\u001b[0m, in \u001b[0;36m_modified_open\u001b[0;34m(file, *args, **kwargs)\u001b[0m\n\u001b[1;32m    275\u001b[0m \u001b[38;5;28;01mif\u001b[39;00m file \u001b[38;5;129;01min\u001b[39;00m {\u001b[38;5;241m0\u001b[39m, \u001b[38;5;241m1\u001b[39m, \u001b[38;5;241m2\u001b[39m}:\n\u001b[1;32m    276\u001b[0m     \u001b[38;5;28;01mraise\u001b[39;00m \u001b[38;5;167;01mValueError\u001b[39;00m(\n\u001b[1;32m    277\u001b[0m         \u001b[38;5;124mf\u001b[39m\u001b[38;5;124m\"\u001b[39m\u001b[38;5;124mIPython won\u001b[39m\u001b[38;5;124m'\u001b[39m\u001b[38;5;124mt let you open fd=\u001b[39m\u001b[38;5;132;01m{\u001b[39;00mfile\u001b[38;5;132;01m}\u001b[39;00m\u001b[38;5;124m by default \u001b[39m\u001b[38;5;124m\"\u001b[39m\n\u001b[1;32m    278\u001b[0m         \u001b[38;5;124m\"\u001b[39m\u001b[38;5;124mas it is likely to crash IPython. If you know what you are doing, \u001b[39m\u001b[38;5;124m\"\u001b[39m\n\u001b[1;32m    279\u001b[0m         \u001b[38;5;124m\"\u001b[39m\u001b[38;5;124myou can use builtins\u001b[39m\u001b[38;5;124m'\u001b[39m\u001b[38;5;124m open.\u001b[39m\u001b[38;5;124m\"\u001b[39m\n\u001b[1;32m    280\u001b[0m     )\n\u001b[0;32m--> 282\u001b[0m \u001b[38;5;28;01mreturn\u001b[39;00m \u001b[43mio_open\u001b[49m\u001b[43m(\u001b[49m\u001b[43mfile\u001b[49m\u001b[43m,\u001b[49m\u001b[43m \u001b[49m\u001b[38;5;241;43m*\u001b[39;49m\u001b[43margs\u001b[49m\u001b[43m,\u001b[49m\u001b[43m \u001b[49m\u001b[38;5;241;43m*\u001b[39;49m\u001b[38;5;241;43m*\u001b[39;49m\u001b[43mkwargs\u001b[49m\u001b[43m)\u001b[49m\n",
      "\u001b[0;31mFileNotFoundError\u001b[0m: [Errno 2] No such file or directory: 'data/ConvolutionalAutoencoder_custom_dim3_0_10_500_0.pkl'"
     ]
    },
    {
     "data": {
      "image/png": "[encoded data removed]",
      "text/plain": [
       "<Figure size 1200x1000 with 6 Axes>"
      ]
     },
     "metadata": {},
     "output_type": "display_data"
    }
   ],
   "source": [
    "import pickle\n",
    "import matplotlib.pyplot as plt\n",
    "# Variables to reuse\n",
    "save_ids = range(5)\n",
    "model_name = 'ConvolutionalAutoencoder_custom_dim3'\n",
    "model_dim = 10\n",
    "model_epc = 500\n",
    "model_lams = [0, 0.1, 0.01, 1, 10, 100]\n",
    "\n",
    "all_rf_acc = []\n",
    "all_rf_f1 = []\n",
    "all_svc_acc = []\n",
    "all_svc_f1 = []\n",
    "all_knn_acc = []\n",
    "all_knn_f1 = []\n",
    "all_y = []\n",
    "f, axs = plt.subplots(2, 3, sharey=True, figsize=(12, 10))\n",
    "f.suptitle('Pareto frontier for Conv3')\n",
    "\n",
    "for model_lam in model_lams:\n",
    "    rf_acc = []\n",
    "    rf_f1 = []\n",
    "    svc_acc = []\n",
    "    svc_f1 = []\n",
    "    knn_acc = []\n",
    "    knn_f1 = []\n",
    "    recon_error = []\n",
    "    for save_id in save_ids:\n",
    "        filename = 'data/{}_{}_{}_{}_{}.pkl'.format(model_name, model_lam, model_dim, model_epc, save_id)\n",
    "        filehandler = open(filename, 'rb')\n",
    "        model = pickle.load(filehandler)\n",
    "        filehandler.close()\n",
    "        recon_error.append(model.train_recon_error[-1])\n",
    "        all_y.append(model.train_recon_error[-1])\n",
    "        # print(model.train_recon_error[-1])\n",
    "        filename = 'data/{}_{}_{}_{}_{}.acc_f1.pkl'.format(model_name, model_lam, model_dim, model_epc, save_id)\n",
    "        filehandler = open(filename, 'rb')\n",
    "        evaluation = pickle.load(filehandler)\n",
    "        filehandler.close()\n",
    "        rf_acc.append(evaluation['RF-ACC'])\n",
    "        all_rf_acc.append(evaluation['RF-ACC'])\n",
    "        rf_f1.append(evaluation['RF-F1'])\n",
    "        all_rf_f1.append(evaluation['RF-F1'])\n",
    "        svc_acc.append(evaluation['SVC-ACC'])\n",
    "        all_svc_acc.append(evaluation['SVC-ACC'])\n",
    "        svc_f1.append(evaluation['SVC-F1'])\n",
    "        all_svc_f1.append(evaluation['SVC-F1'])\n",
    "        knn_acc.append(evaluation['KNN-ACC'])\n",
    "        all_knn_acc.append(evaluation['KNN-ACC'])\n",
    "        knn_f1.append(evaluation['KNN-F1'])\n",
    "        all_knn_f1.append(evaluation['KNN-F1'])\n",
    "    axs[0, 0].set_title('RF-ACC')\n",
    "    axs[0, 0].set_xlim((0.75, 1))\n",
    "    axs[0, 0].scatter(rf_acc, recon_error, label=str(model_lam))\n",
    "    axs[1, 0].set_title('RF-F1')\n",
    "    axs[1, 0].set_xlim((0.75, 1))\n",
    "    axs[1, 0].scatter(rf_f1, recon_error, label=str(model_lam))\n",
    "    axs[0, 1].set_title('SVC-ACC')\n",
    "    axs[0, 1].set_xlim((0.75, 1))\n",
    "    axs[0, 1].scatter(svc_acc, recon_error, label=str(model_lam))\n",
    "    axs[1, 1].set_title('SVC-F1')\n",
    "    axs[1, 1].set_xlim((0.75, 1))\n",
    "    axs[1, 1].scatter(svc_f1, recon_error, label=str(model_lam))\n",
    "    axs[0, 2].set_title('KNN-ACC')\n",
    "    axs[0, 2].set_xlim((0.75, 1))\n",
    "    axs[0, 2].scatter(knn_acc, recon_error, label=str(model_lam))\n",
    "    axs[1, 2].set_title('KNN-F1')\n",
    "    axs[1, 2].set_xlim((0.75, 1))\n",
    "    axs[1, 2].scatter(knn_f1, recon_error, label=str(model_lam))\n",
    "\n",
    "    axs[1, 2].legend(loc='center left', bbox_to_anchor=(1, 1))\n",
    "\n",
    "plot_data = [\n",
    "    {\n",
    "        'axs_x': 0,\n",
    "        'axs_y': 0,\n",
    "        'title': 'RF-ACC',\n",
    "        'Xs': all_rf_acc\n",
    "    },\n",
    "    {\n",
    "        'axs_x': 1,\n",
    "        'axs_y': 0,\n",
    "        'title': 'RF-F1',\n",
    "        'Xs': all_rf_f1\n",
    "    },\n",
    "    {\n",
    "        'axs_x': 0,\n",
    "        'axs_y': 1,\n",
    "        'title': 'SVC-ACC',\n",
    "        'Xs': all_svc_acc\n",
    "    },\n",
    "    {\n",
    "        'axs_x': 1,\n",
    "        'axs_y': 1,\n",
    "        'title': 'SVC-F1',\n",
    "        'Xs': all_svc_f1\n",
    "    },\n",
    "    {\n",
    "        'axs_x': 0,\n",
    "        'axs_y': 2,\n",
    "        'title': 'KNN-ACC',\n",
    "        'Xs': all_knn_acc\n",
    "    },\n",
    "    {\n",
    "        'axs_x': 1,\n",
    "        'axs_y': 2,\n",
    "        'title': 'KNN-F1',\n",
    "        'Xs': all_knn_f1\n",
    "    }\n",
    "]\n",
    "for p_data in plot_data:\n",
    "    maxX = True\n",
    "    maxY = False\n",
    "    Xs = p_data['Xs']\n",
    "    Ys = all_y\n",
    "    sorted_list = sorted([[Xs[i], Ys[i]] for i in range(len(Xs))], reverse=maxX)\n",
    "    pareto_front = [sorted_list[0]]\n",
    "    for pair in sorted_list[1:]:\n",
    "        if maxY:\n",
    "            if pair[1] >= pareto_front[-1][1]:\n",
    "                pareto_front.append(pair)\n",
    "        else:\n",
    "            if pair[1] <= pareto_front[-1][1]:\n",
    "                pareto_front.append(pair)\n",
    "\n",
    "    '''Plotting process'''\n",
    "    # plt.scatter(Xs,Ys)\n",
    "    pf_X = [pair[0] for pair in pareto_front]\n",
    "    pf_Y = [pair[1] for pair in pareto_front]\n",
    "    axs[p_data['axs_x'], p_data['axs_y']].plot(pf_X, pf_Y)\n",
    "    if p_data['axs_x'] == 0:\n",
    "        axs[p_data['axs_x'], p_data['axs_y']].set_xlabel('Accuracy value')\n",
    "    else:\n",
    "        axs[p_data['axs_x'], p_data['axs_y']].set_xlabel('F1 value')\n",
    "    # print(pf_X, pf_Y)\n",
    "    # plt.show()"
   ]
  },
  {
   "cell_type": "code",
   "execution_count": null,
   "id": "e5653cb6-a4c4-49f1-8f20-d9c291e6dea5",
   "metadata": {
    "execution": {
     "iopub.status.busy": "2023-01-04T11:54:33.985500Z",
     "iopub.status.idle": "2023-01-04T11:54:33.985812Z",
     "shell.execute_reply": "2023-01-04T11:54:33.985666Z",
     "shell.execute_reply.started": "2023-01-04T11:54:33.985650Z"
    },
    "tags": []
   },
   "outputs": [],
   "source": [
    "# First create some toy data:\n",
    "x = np.linspace(0, 2*np.pi, 400)\n",
    "y = np.sin(x**2)\n",
    "\n",
    "# Create just a figure and only one subplot\n",
    "fig, ax = plt.subplots()\n",
    "ax.plot(x, y)\n",
    "ax.set_title('Simple plot')\n",
    "\n",
    "# Create two subplots and unpack the output array immediately\n",
    "f, (ax1, ax2) = plt.subplots(1, 2, sharey=True)\n",
    "ax1.plot(x, y)\n",
    "ax1.set_title('Sharing Y axis')\n",
    "ax2.scatter(x, y)\n",
    "\n",
    "# Create four polar axes and access them through the returned array\n",
    "fig, axs = plt.subplots(2, 2, subplot_kw=dict(projection=\"polar\"))\n",
    "axs[0, 0].plot(x, y)\n",
    "axs[1, 1].scatter(x, y)\n",
    "\n",
    "# Share a X axis with each column of subplots\n",
    "plt.subplots(2, 2, sharex='col')\n",
    "\n",
    "# Share a Y axis with each row of subplots\n",
    "plt.subplots(2, 2, sharey='row')\n",
    "\n",
    "# Share both X and Y axes with all subplots\n",
    "plt.subplots(2, 2, sharex='all', sharey='all')\n",
    "\n",
    "# Note that this is the same as\n",
    "plt.subplots(2, 2, sharex=True, sharey=True)\n",
    "\n",
    "# Create figure number 10 with a single subplot\n",
    "# and clears it if it already exists.\n",
    "fig, ax = plt.subplots(num=10, clear=True)"
   ]
  }
 ],
 "metadata": {
  "kernelspec": {
   "display_name": "Python 3 (ipykernel)",
   "language": "python",
   "name": "python3"
  },
  "language_info": {
   "codemirror_mode": {
    "name": "ipython",
    "version": 3
   },
   "file_extension": ".py",
   "mimetype": "text/x-python",
   "name": "python",
   "nbconvert_exporter": "python",
   "pygments_lexer": "ipython3",
   "version": "3.8.10"
  }
 },
 "nbformat": 4,
 "nbformat_minor": 5
}
