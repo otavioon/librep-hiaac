{
 "cells": [
  {
   "cell_type": "code",
   "execution_count": 1,
   "id": "7e1630ed-63c8-4ee7-86c9-62dfb528b9a2",
   "metadata": {
    "execution": {
     "iopub.execute_input": "2022-11-29T02:19:15.972170Z",
     "iopub.status.busy": "2022-11-29T02:19:15.971329Z",
     "iopub.status.idle": "2022-11-29T02:19:16.000274Z",
     "shell.execute_reply": "2022-11-29T02:19:15.999098Z",
     "shell.execute_reply.started": "2022-11-29T02:19:15.972125Z"
    }
   },
   "outputs": [],
   "source": [
    "%load_ext autoreload\n",
    "%autoreload 2"
   ]
  },
  {
   "cell_type": "code",
   "execution_count": 2,
   "id": "fedad853",
   "metadata": {
    "execution": {
     "iopub.execute_input": "2022-11-29T02:19:16.002053Z",
     "iopub.status.busy": "2022-11-29T02:19:16.001687Z",
     "iopub.status.idle": "2022-11-29T02:19:16.047407Z",
     "shell.execute_reply": "2022-11-29T02:19:16.042365Z",
     "shell.execute_reply.started": "2022-11-29T02:19:16.002020Z"
    }
   },
   "outputs": [],
   "source": [
    "import os\n",
    "os.environ[\"CUDA_VISIBLE_DEVICES\"] = \"0\""
   ]
  },
  {
   "cell_type": "code",
   "execution_count": 3,
   "id": "c1e18129",
   "metadata": {
    "execution": {
     "iopub.execute_input": "2022-11-29T02:19:16.049376Z",
     "iopub.status.busy": "2022-11-29T02:19:16.049018Z",
     "iopub.status.idle": "2022-11-29T02:19:18.571715Z",
     "shell.execute_reply": "2022-11-29T02:19:18.570329Z",
     "shell.execute_reply.started": "2022-11-29T02:19:16.049343Z"
    }
   },
   "outputs": [
    {
     "name": "stdout",
     "output_type": "stream",
     "text": [
      "True\n",
      "1\n",
      "0\n",
      "<torch.cuda.device object at 0x7f91aebbe940>\n",
      "NVIDIA TITAN Xp\n"
     ]
    }
   ],
   "source": [
    "import torch\n",
    "print(torch.cuda.is_available()) # True\n",
    "print(torch.cuda.device_count()) # 1\n",
    "print(torch.cuda.current_device()) # 0\n",
    "print(torch.cuda.device(0)) # <torch.cuda.device at 0x7efce0b03be0>\n",
    "print(torch.cuda.get_device_name(0)) # 'GeForce GTX 950M'"
   ]
  },
  {
   "cell_type": "code",
   "execution_count": 4,
   "id": "2da911e3-e82f-47c9-8090-f71f453956ee",
   "metadata": {
    "execution": {
     "iopub.execute_input": "2022-11-29T02:19:18.574263Z",
     "iopub.status.busy": "2022-11-29T02:19:18.573606Z",
     "iopub.status.idle": "2022-11-29T02:19:18.609000Z",
     "shell.execute_reply": "2022-11-29T02:19:18.607744Z",
     "shell.execute_reply.started": "2022-11-29T02:19:18.574227Z"
    }
   },
   "outputs": [],
   "source": [
    "import sys\n",
    "sys.path.append(\"../../..\")"
   ]
  },
  {
   "cell_type": "code",
   "execution_count": 5,
   "id": "5f067405-ab8c-4f22-b056-ab9e1febe71c",
   "metadata": {
    "execution": {
     "iopub.execute_input": "2022-11-29T02:19:18.613756Z",
     "iopub.status.busy": "2022-11-29T02:19:18.613200Z",
     "iopub.status.idle": "2022-11-29T02:19:20.054862Z",
     "shell.execute_reply": "2022-11-29T02:19:20.053012Z",
     "shell.execute_reply.started": "2022-11-29T02:19:18.613720Z"
    }
   },
   "outputs": [],
   "source": [
    "import numpy as np\n",
    "import pandas as pd\n",
    "import matplotlib.pyplot as plt"
   ]
  },
  {
   "cell_type": "code",
   "execution_count": 6,
   "id": "cc5007e3-ef19-4658-ac7d-2a6f617bb9c6",
   "metadata": {
    "execution": {
     "iopub.execute_input": "2022-11-29T02:19:20.057624Z",
     "iopub.status.busy": "2022-11-29T02:19:20.056792Z",
     "iopub.status.idle": "2022-11-29T02:19:41.821659Z",
     "shell.execute_reply": "2022-11-29T02:19:41.819885Z",
     "shell.execute_reply.started": "2022-11-29T02:19:20.057582Z"
    }
   },
   "outputs": [
    {
     "name": "stderr",
     "output_type": "stream",
     "text": [
      "2022-11-29 02:19:38.878026: I tensorflow/core/platform/cpu_feature_guard.cc:193] This TensorFlow binary is optimized with oneAPI Deep Neural Network Library (oneDNN) to use the following CPU instructions in performance-critical operations:  AVX2 AVX512F FMA\n",
      "To enable them in other operations, rebuild TensorFlow with the appropriate compiler flags.\n",
      "2022-11-29 02:19:40.547658: W tensorflow/compiler/xla/stream_executor/platform/default/dso_loader.cc:64] Could not load dynamic library 'libnvinfer.so.7'; dlerror: libnvinfer.so.7: cannot open shared object file: No such file or directory\n",
      "2022-11-29 02:19:40.547773: W tensorflow/compiler/xla/stream_executor/platform/default/dso_loader.cc:64] Could not load dynamic library 'libnvinfer_plugin.so.7'; dlerror: libnvinfer_plugin.so.7: cannot open shared object file: No such file or directory\n",
      "2022-11-29 02:19:40.547789: W tensorflow/compiler/tf2tensorrt/utils/py_utils.cc:38] TF-TRT Warning: Cannot dlopen some TensorRT libraries. If you would like to use Nvidia GPU with TensorRT, please make sure the missing libraries mentioned above are installed properly.\n"
     ]
    }
   ],
   "source": [
    "from librep.datasets.har.loaders import (\n",
    "    MotionSense_BalancedView20HZ\n",
    ")"
   ]
  },
  {
   "cell_type": "code",
   "execution_count": 7,
   "id": "2f9f66b2-7b1c-4d4e-a0e3-cde9552a595a",
   "metadata": {
    "execution": {
     "iopub.execute_input": "2022-11-29T02:19:41.824363Z",
     "iopub.status.busy": "2022-11-29T02:19:41.823494Z",
     "iopub.status.idle": "2022-11-29T02:19:41.938483Z",
     "shell.execute_reply": "2022-11-29T02:19:41.937100Z",
     "shell.execute_reply.started": "2022-11-29T02:19:41.824320Z"
    }
   },
   "outputs": [],
   "source": [
    "from librep.transforms.topo_ae import (\n",
    "    TopologicalDimensionalityReduction,\n",
    "    CustomTopoDimRedTransform\n",
    ")\n",
    "from librep.transforms import UMAP\n",
    "from sklearn.manifold import TSNE\n",
    "from experiments.Topological_ae.Experiment_utils import *\n",
    "from librep.datasets.multimodal import TransformMultiModalDataset\n",
    "from librep.transforms.fft import FFT"
   ]
  },
  {
   "cell_type": "code",
   "execution_count": 8,
   "id": "85bea424-07ff-47ec-945a-aef385afe7a7",
   "metadata": {
    "execution": {
     "iopub.execute_input": "2022-11-29T02:19:41.940686Z",
     "iopub.status.busy": "2022-11-29T02:19:41.940153Z",
     "iopub.status.idle": "2022-11-29T02:19:42.042330Z",
     "shell.execute_reply": "2022-11-29T02:19:42.040360Z",
     "shell.execute_reply.started": "2022-11-29T02:19:41.940643Z"
    }
   },
   "outputs": [],
   "source": [
    "# MotionSense Loader\n",
    "loader = MotionSense_BalancedView20HZ(\n",
    "    root_dir=\"../../../data/views/MotionSense/balanced_view_20Hz_with_gravity_9.81_acc_standard\", \n",
    "    download=False\n",
    ")"
   ]
  },
  {
   "cell_type": "code",
   "execution_count": 9,
   "id": "3d817b0c-4e6b-4227-9b48-cd23c3df190d",
   "metadata": {
    "execution": {
     "iopub.execute_input": "2022-11-29T02:19:42.045623Z",
     "iopub.status.busy": "2022-11-29T02:19:42.044776Z",
     "iopub.status.idle": "2022-11-29T02:19:42.816995Z",
     "shell.execute_reply": "2022-11-29T02:19:42.815917Z",
     "shell.execute_reply.started": "2022-11-29T02:19:42.045560Z"
    }
   },
   "outputs": [
    {
     "data": {
      "text/plain": [
       "(PandasMultiModalDataset: samples=4020, features=360, no. window=6, label_columns='standard activity code',\n",
       " PandasMultiModalDataset: samples=1020, features=360, no. window=6, label_columns='standard activity code')"
      ]
     },
     "execution_count": 9,
     "metadata": {},
     "output_type": "execute_result"
    }
   ],
   "source": [
    "# Load the dataset\n",
    "train_val, test = loader.load(concat_train_validation=True, label=loader.standard_label)\n",
    "train_val, test"
   ]
  },
  {
   "cell_type": "code",
   "execution_count": 10,
   "id": "9491b1e0-0b60-439c-9bed-ea0ee7918b68",
   "metadata": {
    "execution": {
     "iopub.execute_input": "2022-11-29T02:19:42.818871Z",
     "iopub.status.busy": "2022-11-29T02:19:42.818363Z",
     "iopub.status.idle": "2022-11-29T02:19:42.947643Z",
     "shell.execute_reply": "2022-11-29T02:19:42.945867Z",
     "shell.execute_reply.started": "2022-11-29T02:19:42.818836Z"
    }
   },
   "outputs": [],
   "source": [
    "train_HD = np.array(train_val[:][0])\n",
    "train_LD = None\n",
    "train_Y = np.array(train_val[:][1])\n",
    "test_HD = np.array(test[:][0])\n",
    "test_LD = None\n",
    "test_Y = np.array(test[:][1])"
   ]
  },
  {
   "cell_type": "code",
   "execution_count": 11,
   "id": "cc4810ac-c560-4b23-9b72-481a2d0f1a91",
   "metadata": {
    "execution": {
     "iopub.execute_input": "2022-11-29T02:19:42.950175Z",
     "iopub.status.busy": "2022-11-29T02:19:42.949528Z",
     "iopub.status.idle": "2022-11-29T02:19:43.050573Z",
     "shell.execute_reply": "2022-11-29T02:19:43.048701Z",
     "shell.execute_reply.started": "2022-11-29T02:19:42.950130Z"
    }
   },
   "outputs": [
    {
     "name": "stdout",
     "output_type": "stream",
     "text": [
      "(4020, 360) (4020,) (1020, 360) (1020,)\n"
     ]
    }
   ],
   "source": [
    "print(train_HD.shape, train_Y.shape, test_HD.shape, test_Y.shape)"
   ]
  },
  {
   "cell_type": "markdown",
   "id": "4c93d061-6ea0-418b-b690-2d977f6297c9",
   "metadata": {},
   "source": [
    "# Aplicar FFT"
   ]
  },
  {
   "cell_type": "code",
   "execution_count": 12,
   "id": "e5255de5-0259-404a-a2d8-507ad4f2ee2f",
   "metadata": {
    "execution": {
     "iopub.execute_input": "2022-11-29T02:19:43.053852Z",
     "iopub.status.busy": "2022-11-29T02:19:43.053183Z",
     "iopub.status.idle": "2022-11-29T02:19:43.148528Z",
     "shell.execute_reply": "2022-11-29T02:19:43.147077Z",
     "shell.execute_reply.started": "2022-11-29T02:19:43.053782Z"
    }
   },
   "outputs": [],
   "source": [
    "fft_transform = FFT(centered = True)\n",
    "transformer = TransformMultiModalDataset(\n",
    "    transforms=[fft_transform],\n",
    "    new_window_name_prefix=\"fft.\"\n",
    ")"
   ]
  },
  {
   "cell_type": "code",
   "execution_count": 13,
   "id": "29195f38-f8a9-4167-937f-d3f98ddc7642",
   "metadata": {
    "execution": {
     "iopub.execute_input": "2022-11-29T02:19:43.150836Z",
     "iopub.status.busy": "2022-11-29T02:19:43.150254Z",
     "iopub.status.idle": "2022-11-29T02:19:43.897701Z",
     "shell.execute_reply": "2022-11-29T02:19:43.896049Z",
     "shell.execute_reply.started": "2022-11-29T02:19:43.150797Z"
    }
   },
   "outputs": [],
   "source": [
    "train_dataset_fft = transformer(train_val)\n",
    "test_dataset_fft = transformer(test)"
   ]
  },
  {
   "cell_type": "code",
   "execution_count": 14,
   "id": "3c8cfc25-0323-498a-931d-1249078f2796",
   "metadata": {
    "execution": {
     "iopub.execute_input": "2022-11-29T02:19:43.899882Z",
     "iopub.status.busy": "2022-11-29T02:19:43.899325Z",
     "iopub.status.idle": "2022-11-29T02:19:43.989318Z",
     "shell.execute_reply": "2022-11-29T02:19:43.987827Z",
     "shell.execute_reply.started": "2022-11-29T02:19:43.899847Z"
    }
   },
   "outputs": [
    {
     "name": "stdout",
     "output_type": "stream",
     "text": [
      "(4020, 180)\n",
      "(1020, 180)\n"
     ]
    }
   ],
   "source": [
    "print(train_dataset_fft.X.shape)\n",
    "print(test_dataset_fft.X.shape)"
   ]
  },
  {
   "cell_type": "code",
   "execution_count": 15,
   "id": "d413cc20-e5b5-4594-b1f7-f11153c00c5f",
   "metadata": {
    "execution": {
     "iopub.execute_input": "2022-11-29T02:19:43.991493Z",
     "iopub.status.busy": "2022-11-29T02:19:43.991038Z",
     "iopub.status.idle": "2022-11-29T02:19:44.083204Z",
     "shell.execute_reply": "2022-11-29T02:19:44.081783Z",
     "shell.execute_reply.started": "2022-11-29T02:19:43.991452Z"
    }
   },
   "outputs": [
    {
     "name": "stdout",
     "output_type": "stream",
     "text": [
      "797.3368276806895\n"
     ]
    }
   ],
   "source": [
    "print(np.max(train_dataset_fft.X))"
   ]
  },
  {
   "cell_type": "code",
   "execution_count": 16,
   "id": "fea2e105-a571-4a2f-ac76-096b08a6ef2f",
   "metadata": {
    "execution": {
     "iopub.execute_input": "2022-11-29T02:19:44.085171Z",
     "iopub.status.busy": "2022-11-29T02:19:44.084785Z",
     "iopub.status.idle": "2022-11-29T02:19:44.178818Z",
     "shell.execute_reply": "2022-11-29T02:19:44.177446Z",
     "shell.execute_reply.started": "2022-11-29T02:19:44.085137Z"
    }
   },
   "outputs": [],
   "source": [
    "train_HD = train_dataset_fft.X\n",
    "train_LD = None\n",
    "train_Y = train_dataset_fft.y\n",
    "test_HD = test_dataset_fft.X\n",
    "test_LD = None\n",
    "test_Y = test_dataset_fft.y"
   ]
  },
  {
   "cell_type": "code",
   "execution_count": 17,
   "id": "ee13aef1-77c7-42a9-930b-b1a56f980d25",
   "metadata": {
    "execution": {
     "iopub.execute_input": "2022-11-29T02:19:44.180942Z",
     "iopub.status.busy": "2022-11-29T02:19:44.180571Z",
     "iopub.status.idle": "2022-11-29T02:19:44.276143Z",
     "shell.execute_reply": "2022-11-29T02:19:44.274953Z",
     "shell.execute_reply.started": "2022-11-29T02:19:44.180909Z"
    }
   },
   "outputs": [
    {
     "name": "stdout",
     "output_type": "stream",
     "text": [
      "(4020, 180) (4020,) (1020, 180) (1020,)\n"
     ]
    }
   ],
   "source": [
    "print(train_HD.shape, train_Y.shape, test_HD.shape, test_Y.shape)"
   ]
  },
  {
   "cell_type": "code",
   "execution_count": null,
   "id": "80f4771a-da3f-407b-9fa9-b0619a129e66",
   "metadata": {
    "execution": {
     "iopub.execute_input": "2022-11-29T02:19:44.278153Z",
     "iopub.status.busy": "2022-11-29T02:19:44.277610Z"
    },
    "tags": []
   },
   "outputs": [
    {
     "name": "stdout",
     "output_type": "stream",
     "text": [
      "Topologically Regularized ConvolutionalAutoencoder_custom_dim3\n",
      "Using python to compute signatures\n",
      "ConvAECustomDim, Input: (1, 180) Inner dim: 10\n",
      "ENCODER STRUCT torch.Size([4, 8, 5])\n"
     ]
    },
    {
     "name": "stderr",
     "output_type": "stream",
     "text": [
      "/home/darlinne.soto/librep-hiaac/experiments/Topological_ae/MotionSense20Hz/../../../librep/transforms/topo_ae.py:75: UserWarning: To copy construct from a tensor, it is recommended to use sourceTensor.clone().detach() or sourceTensor.clone().detach().requires_grad_(True), rather than torch.tensor(sourceTensor).\n",
      "  in_tensor = torch.tensor(reshaped_data, device=cuda0).float()\n",
      "/home/darlinne.soto/librep-hiaac/experiments/Topological_ae/MotionSense20Hz/../../../librep/transforms/topo_ae.py:87: UserWarning: To copy construct from a tensor, it is recommended to use sourceTensor.clone().detach() or sourceTensor.clone().detach().requires_grad_(True), rather than torch.tensor(sourceTensor).\n",
      "  in_tensor = torch.tensor(reshaped_data, device=cuda0).float()\n"
     ]
    },
    {
     "name": "stdout",
     "output_type": "stream",
     "text": [
      "Epoch:1, P:None, Loss:2108.6865, Loss-ae:2085.0855, Loss-topo:23.6009\n",
      "Epoch:2, P:None, Loss:1009.9620, Loss-ae:961.4392, Loss-topo:48.5228\n",
      "Epoch:3, P:None, Loss:805.1818, Loss-ae:758.6578, Loss-topo:46.5240\n",
      "Epoch:4, P:None, Loss:753.3754, Loss-ae:707.5318, Loss-topo:45.8436\n",
      "Epoch:5, P:None, Loss:633.9738, Loss-ae:590.8689, Loss-topo:43.1049\n",
      "Epoch:6, P:None, Loss:548.9347, Loss-ae:503.0626, Loss-topo:45.8721\n",
      "Epoch:7, P:None, Loss:460.9702, Loss-ae:414.9077, Loss-topo:46.0624\n",
      "Epoch:8, P:None, Loss:406.1291, Loss-ae:375.8533, Loss-topo:30.2757\n",
      "Epoch:9, P:None, Loss:370.6505, Loss-ae:345.7448, Loss-topo:24.9057\n",
      "Epoch:10, P:None, Loss:360.1359, Loss-ae:333.5472, Loss-topo:26.5887\n",
      "Epoch:11, P:None, Loss:352.3176, Loss-ae:333.7235, Loss-topo:18.5940\n",
      "Epoch:12, P:None, Loss:338.1015, Loss-ae:320.1631, Loss-topo:17.9384\n",
      "Epoch:13, P:None, Loss:326.8175, Loss-ae:312.5800, Loss-topo:14.2375\n",
      "Epoch:14, P:None, Loss:323.2812, Loss-ae:308.2817, Loss-topo:14.9995\n",
      "Epoch:15, P:None, Loss:329.6314, Loss-ae:317.5830, Loss-topo:12.0484\n",
      "Epoch:16, P:None, Loss:329.3021, Loss-ae:316.6770, Loss-topo:12.6251\n",
      "Epoch:17, P:None, Loss:332.0289, Loss-ae:319.3888, Loss-topo:12.6401\n",
      "Epoch:18, P:None, Loss:327.7698, Loss-ae:314.9820, Loss-topo:12.7878\n",
      "Epoch:19, P:None, Loss:308.7620, Loss-ae:298.0861, Loss-topo:10.6759\n",
      "Epoch:20, P:None, Loss:316.2083, Loss-ae:306.1715, Loss-topo:10.0368\n",
      "Epoch:21, P:None, Loss:313.3425, Loss-ae:303.4649, Loss-topo:9.8775\n",
      "Epoch:22, P:None, Loss:314.1196, Loss-ae:303.4232, Loss-topo:10.6964\n",
      "Epoch:23, P:None, Loss:301.3667, Loss-ae:291.7891, Loss-topo:9.5775\n",
      "Epoch:24, P:None, Loss:320.0009, Loss-ae:310.1269, Loss-topo:9.8741\n",
      "Epoch:25, P:None, Loss:306.5290, Loss-ae:296.1704, Loss-topo:10.3587\n",
      "Epoch:26, P:None, Loss:300.1693, Loss-ae:290.2154, Loss-topo:9.9539\n",
      "Epoch:27, P:None, Loss:287.7972, Loss-ae:278.3420, Loss-topo:9.4551\n",
      "Epoch:28, P:None, Loss:303.7781, Loss-ae:292.4648, Loss-topo:11.3133\n",
      "Epoch:29, P:None, Loss:287.1008, Loss-ae:276.9686, Loss-topo:10.1323\n",
      "Epoch:30, P:None, Loss:284.5784, Loss-ae:274.1251, Loss-topo:10.4533\n",
      "Epoch:31, P:None, Loss:285.1247, Loss-ae:272.7463, Loss-topo:12.3784\n",
      "Epoch:32, P:None, Loss:285.6589, Loss-ae:273.9316, Loss-topo:11.7273\n",
      "Epoch:33, P:None, Loss:277.7165, Loss-ae:265.3589, Loss-topo:12.3576\n",
      "Epoch:34, P:None, Loss:269.6394, Loss-ae:256.9814, Loss-topo:12.6580\n",
      "Epoch:35, P:None, Loss:263.9933, Loss-ae:249.3403, Loss-topo:14.6530\n",
      "Epoch:36, P:None, Loss:250.0905, Loss-ae:233.7923, Loss-topo:16.2982\n",
      "Epoch:37, P:None, Loss:243.3322, Loss-ae:226.6093, Loss-topo:16.7229\n",
      "Epoch:38, P:None, Loss:238.9292, Loss-ae:220.0334, Loss-topo:18.8958\n",
      "Epoch:39, P:None, Loss:214.2548, Loss-ae:199.5825, Loss-topo:14.6723\n",
      "Epoch:40, P:None, Loss:214.9268, Loss-ae:196.4349, Loss-topo:18.4919\n",
      "Epoch:41, P:None, Loss:207.6637, Loss-ae:192.3100, Loss-topo:15.3536\n",
      "Epoch:42, P:None, Loss:198.4267, Loss-ae:185.6723, Loss-topo:12.7544\n",
      "Epoch:43, P:None, Loss:190.5134, Loss-ae:179.0046, Loss-topo:11.5087\n",
      "Epoch:44, P:None, Loss:190.2967, Loss-ae:176.7780, Loss-topo:13.5187\n",
      "Epoch:45, P:None, Loss:187.2604, Loss-ae:174.5994, Loss-topo:12.6610\n",
      "Epoch:46, P:None, Loss:182.7674, Loss-ae:170.4634, Loss-topo:12.3041\n",
      "Epoch:47, P:None, Loss:176.4360, Loss-ae:164.0711, Loss-topo:12.3649\n",
      "Epoch:48, P:None, Loss:180.6053, Loss-ae:166.9409, Loss-topo:13.6644\n",
      "Epoch:49, P:None, Loss:176.0954, Loss-ae:164.6251, Loss-topo:11.4702\n",
      "Epoch:50, P:None, Loss:175.9087, Loss-ae:164.7824, Loss-topo:11.1263\n",
      "Epoch:51, P:None, Loss:166.4259, Loss-ae:155.4504, Loss-topo:10.9756\n",
      "Epoch:52, P:None, Loss:163.6979, Loss-ae:153.0012, Loss-topo:10.6967\n",
      "Epoch:53, P:None, Loss:157.6314, Loss-ae:147.7836, Loss-topo:9.8479\n",
      "Epoch:54, P:None, Loss:159.9317, Loss-ae:150.6490, Loss-topo:9.2827\n",
      "Epoch:55, P:None, Loss:162.0073, Loss-ae:150.8508, Loss-topo:11.1566\n",
      "Epoch:56, P:None, Loss:150.2679, Loss-ae:141.3111, Loss-topo:8.9567\n",
      "Epoch:57, P:None, Loss:154.7688, Loss-ae:145.6375, Loss-topo:9.1313\n",
      "Epoch:58, P:None, Loss:160.5172, Loss-ae:150.7054, Loss-topo:9.8118\n",
      "Epoch:59, P:None, Loss:149.3100, Loss-ae:140.5808, Loss-topo:8.7292\n",
      "Epoch:60, P:None, Loss:149.1289, Loss-ae:140.6319, Loss-topo:8.4970\n",
      "Epoch:61, P:None, Loss:145.0979, Loss-ae:136.3164, Loss-topo:8.7815\n",
      "Epoch:62, P:None, Loss:144.2968, Loss-ae:135.9288, Loss-topo:8.3679\n",
      "Epoch:63, P:None, Loss:149.0638, Loss-ae:140.7580, Loss-topo:8.3058\n",
      "Epoch:64, P:None, Loss:148.3448, Loss-ae:140.2543, Loss-topo:8.0905\n",
      "Epoch:65, P:None, Loss:144.0279, Loss-ae:135.7453, Loss-topo:8.2825\n",
      "Epoch:66, P:None, Loss:143.9804, Loss-ae:136.7014, Loss-topo:7.2791\n",
      "Epoch:67, P:None, Loss:141.8820, Loss-ae:134.1263, Loss-topo:7.7557\n",
      "Epoch:68, P:None, Loss:143.7430, Loss-ae:136.3572, Loss-topo:7.3858\n",
      "Epoch:69, P:None, Loss:137.0782, Loss-ae:130.5021, Loss-topo:6.5760\n",
      "Epoch:70, P:None, Loss:139.0582, Loss-ae:131.9792, Loss-topo:7.0790\n",
      "Epoch:71, P:None, Loss:137.2367, Loss-ae:130.7005, Loss-topo:6.5362\n",
      "Epoch:72, P:None, Loss:139.1913, Loss-ae:132.1649, Loss-topo:7.0264\n",
      "Epoch:73, P:None, Loss:132.2563, Loss-ae:126.1203, Loss-topo:6.1360\n",
      "Epoch:74, P:None, Loss:136.2755, Loss-ae:130.1731, Loss-topo:6.1024\n",
      "Epoch:75, P:None, Loss:132.7334, Loss-ae:125.5304, Loss-topo:7.2030\n",
      "Epoch:76, P:None, Loss:139.1638, Loss-ae:132.7149, Loss-topo:6.4489\n",
      "Epoch:77, P:None, Loss:136.1065, Loss-ae:129.2580, Loss-topo:6.8485\n",
      "Epoch:78, P:None, Loss:130.6082, Loss-ae:124.2555, Loss-topo:6.3527\n",
      "Epoch:79, P:None, Loss:131.3464, Loss-ae:125.2510, Loss-topo:6.0954\n",
      "Epoch:80, P:None, Loss:127.8859, Loss-ae:121.4154, Loss-topo:6.4705\n",
      "Epoch:81, P:None, Loss:124.5799, Loss-ae:119.1078, Loss-topo:5.4721\n",
      "Epoch:82, P:None, Loss:127.5728, Loss-ae:122.1531, Loss-topo:5.4197\n",
      "Epoch:83, P:None, Loss:125.1812, Loss-ae:119.4674, Loss-topo:5.7138\n",
      "Epoch:84, P:None, Loss:125.1369, Loss-ae:119.8671, Loss-topo:5.2698\n",
      "Epoch:85, P:None, Loss:125.8098, Loss-ae:120.2009, Loss-topo:5.6089\n",
      "Epoch:86, P:None, Loss:122.6824, Loss-ae:117.0435, Loss-topo:5.6389\n",
      "Epoch:87, P:None, Loss:125.6677, Loss-ae:119.7547, Loss-topo:5.9130\n",
      "Epoch:88, P:None, Loss:123.1095, Loss-ae:117.7417, Loss-topo:5.3678\n",
      "Epoch:89, P:None, Loss:126.0085, Loss-ae:120.5005, Loss-topo:5.5080\n",
      "Epoch:90, P:None, Loss:120.6218, Loss-ae:115.3271, Loss-topo:5.2946\n",
      "Epoch:91, P:None, Loss:126.4599, Loss-ae:120.6996, Loss-topo:5.7603\n",
      "Epoch:92, P:None, Loss:122.1888, Loss-ae:116.7147, Loss-topo:5.4741\n",
      "Epoch:93, P:None, Loss:119.2348, Loss-ae:113.7876, Loss-topo:5.4472\n",
      "Epoch:94, P:None, Loss:118.1685, Loss-ae:112.7648, Loss-topo:5.4037\n",
      "Epoch:95, P:None, Loss:121.6947, Loss-ae:116.7619, Loss-topo:4.9328\n",
      "Epoch:96, P:None, Loss:114.5693, Loss-ae:109.8277, Loss-topo:4.7415\n",
      "Epoch:97, P:None, Loss:120.7875, Loss-ae:115.5373, Loss-topo:5.2501\n",
      "Epoch:98, P:None, Loss:119.6651, Loss-ae:114.7393, Loss-topo:4.9259\n",
      "Epoch:99, P:None, Loss:119.2851, Loss-ae:114.0896, Loss-topo:5.1955\n",
      "Epoch:100, P:None, Loss:117.1082, Loss-ae:112.2078, Loss-topo:4.9004\n",
      "Epoch:101, P:None, Loss:119.7872, Loss-ae:114.4928, Loss-topo:5.2944\n",
      "Epoch:102, P:None, Loss:122.0534, Loss-ae:116.8489, Loss-topo:5.2045\n",
      "Epoch:103, P:None, Loss:115.7337, Loss-ae:110.7820, Loss-topo:4.9517\n",
      "Epoch:104, P:None, Loss:116.7240, Loss-ae:111.8067, Loss-topo:4.9173\n",
      "Epoch:105, P:None, Loss:117.2390, Loss-ae:112.3681, Loss-topo:4.8709\n",
      "Epoch:106, P:None, Loss:112.0667, Loss-ae:107.2975, Loss-topo:4.7692\n",
      "Epoch:107, P:None, Loss:113.2733, Loss-ae:108.0051, Loss-topo:5.2682\n",
      "Epoch:108, P:None, Loss:116.0412, Loss-ae:111.0719, Loss-topo:4.9693\n",
      "Epoch:109, P:None, Loss:111.0053, Loss-ae:106.3355, Loss-topo:4.6697\n",
      "Epoch:110, P:None, Loss:115.6875, Loss-ae:110.5133, Loss-topo:5.1741\n",
      "Epoch:111, P:None, Loss:109.0530, Loss-ae:104.3691, Loss-topo:4.6839\n",
      "Epoch:112, P:None, Loss:111.5700, Loss-ae:106.8517, Loss-topo:4.7182\n",
      "Epoch:113, P:None, Loss:106.2523, Loss-ae:101.9500, Loss-topo:4.3023\n",
      "Epoch:114, P:None, Loss:107.4277, Loss-ae:102.7284, Loss-topo:4.6994\n",
      "Epoch:115, P:None, Loss:110.4610, Loss-ae:105.7369, Loss-topo:4.7241\n",
      "Epoch:116, P:None, Loss:110.6936, Loss-ae:106.2124, Loss-topo:4.4812\n",
      "Epoch:117, P:None, Loss:109.0355, Loss-ae:104.6803, Loss-topo:4.3552\n",
      "Epoch:118, P:None, Loss:108.8764, Loss-ae:104.6811, Loss-topo:4.1952\n",
      "Epoch:119, P:None, Loss:101.3357, Loss-ae:97.4671, Loss-topo:3.8685\n",
      "Epoch:120, P:None, Loss:111.2576, Loss-ae:106.9144, Loss-topo:4.3432\n",
      "Epoch:121, P:None, Loss:107.8230, Loss-ae:103.5976, Loss-topo:4.2254\n",
      "Epoch:122, P:None, Loss:105.5658, Loss-ae:101.6511, Loss-topo:3.9146\n",
      "Epoch:123, P:None, Loss:107.8234, Loss-ae:103.9750, Loss-topo:3.8484\n",
      "Epoch:124, P:None, Loss:106.6816, Loss-ae:102.5679, Loss-topo:4.1137\n",
      "Epoch:125, P:None, Loss:109.9498, Loss-ae:105.7548, Loss-topo:4.1950\n",
      "Epoch:126, P:None, Loss:107.7739, Loss-ae:103.9163, Loss-topo:3.8576\n",
      "Epoch:127, P:None, Loss:103.8411, Loss-ae:100.1384, Loss-topo:3.7027\n",
      "Epoch:128, P:None, Loss:103.3030, Loss-ae:99.6806, Loss-topo:3.6223\n",
      "Epoch:129, P:None, Loss:102.3206, Loss-ae:98.4862, Loss-topo:3.8345\n",
      "Epoch:130, P:None, Loss:103.3416, Loss-ae:99.6433, Loss-topo:3.6983\n",
      "Epoch:131, P:None, Loss:102.2361, Loss-ae:98.6080, Loss-topo:3.6281\n",
      "Epoch:132, P:None, Loss:104.2400, Loss-ae:100.5398, Loss-topo:3.7002\n",
      "Epoch:133, P:None, Loss:103.2726, Loss-ae:99.6903, Loss-topo:3.5823\n",
      "Epoch:134, P:None, Loss:102.1064, Loss-ae:98.9217, Loss-topo:3.1847\n",
      "Epoch:135, P:None, Loss:105.5229, Loss-ae:101.5897, Loss-topo:3.9331\n",
      "Epoch:136, P:None, Loss:99.8172, Loss-ae:96.6520, Loss-topo:3.1651\n",
      "Epoch:137, P:None, Loss:99.8141, Loss-ae:96.3785, Loss-topo:3.4356\n",
      "Epoch:138, P:None, Loss:101.7936, Loss-ae:98.5524, Loss-topo:3.2412\n",
      "Epoch:139, P:None, Loss:105.1528, Loss-ae:101.8432, Loss-topo:3.3096\n",
      "Epoch:140, P:None, Loss:98.9945, Loss-ae:95.6805, Loss-topo:3.3140\n",
      "Epoch:141, P:None, Loss:100.4538, Loss-ae:97.4057, Loss-topo:3.0481\n",
      "Epoch:142, P:None, Loss:96.3284, Loss-ae:93.3114, Loss-topo:3.0171\n",
      "Epoch:143, P:None, Loss:101.7712, Loss-ae:98.4521, Loss-topo:3.3192\n",
      "Epoch:144, P:None, Loss:100.3586, Loss-ae:97.0972, Loss-topo:3.2614\n",
      "Epoch:145, P:None, Loss:99.0260, Loss-ae:95.7987, Loss-topo:3.2273\n",
      "Epoch:146, P:None, Loss:94.7594, Loss-ae:91.9502, Loss-topo:2.8092\n",
      "Epoch:147, P:None, Loss:100.2894, Loss-ae:96.9751, Loss-topo:3.3143\n",
      "Epoch:148, P:None, Loss:97.0291, Loss-ae:93.9458, Loss-topo:3.0832\n",
      "Epoch:149, P:None, Loss:99.1482, Loss-ae:96.0316, Loss-topo:3.1166\n",
      "Epoch:150, P:None, Loss:99.5033, Loss-ae:96.6256, Loss-topo:2.8778\n",
      "Epoch:151, P:None, Loss:92.9408, Loss-ae:90.2870, Loss-topo:2.6538\n",
      "Epoch:152, P:None, Loss:97.3769, Loss-ae:94.4166, Loss-topo:2.9603\n",
      "Epoch:153, P:None, Loss:97.0821, Loss-ae:94.2511, Loss-topo:2.8310\n",
      "Epoch:154, P:None, Loss:97.7433, Loss-ae:94.9178, Loss-topo:2.8255\n",
      "Epoch:155, P:None, Loss:97.1134, Loss-ae:94.5376, Loss-topo:2.5758\n",
      "Epoch:156, P:None, Loss:94.9155, Loss-ae:92.3099, Loss-topo:2.6056\n",
      "Epoch:157, P:None, Loss:95.3665, Loss-ae:92.6434, Loss-topo:2.7231\n",
      "Epoch:158, P:None, Loss:98.8800, Loss-ae:96.0538, Loss-topo:2.8262\n",
      "Epoch:159, P:None, Loss:95.7932, Loss-ae:93.0031, Loss-topo:2.7902\n",
      "Epoch:160, P:None, Loss:94.4529, Loss-ae:91.8750, Loss-topo:2.5779\n",
      "Epoch:161, P:None, Loss:96.0989, Loss-ae:93.5177, Loss-topo:2.5812\n",
      "Epoch:162, P:None, Loss:95.8063, Loss-ae:93.2690, Loss-topo:2.5373\n",
      "Epoch:163, P:None, Loss:95.0914, Loss-ae:92.5294, Loss-topo:2.5620\n",
      "Epoch:164, P:None, Loss:93.5938, Loss-ae:91.0763, Loss-topo:2.5175\n",
      "Epoch:165, P:None, Loss:95.3097, Loss-ae:92.8162, Loss-topo:2.4936\n",
      "Epoch:166, P:None, Loss:96.3438, Loss-ae:93.7932, Loss-topo:2.5506\n",
      "Epoch:167, P:None, Loss:96.1014, Loss-ae:93.2972, Loss-topo:2.8042\n",
      "Epoch:168, P:None, Loss:94.3864, Loss-ae:91.9032, Loss-topo:2.4832\n",
      "Epoch:169, P:None, Loss:94.6837, Loss-ae:92.1807, Loss-topo:2.5030\n",
      "Epoch:170, P:None, Loss:94.2534, Loss-ae:91.8549, Loss-topo:2.3985\n",
      "Epoch:171, P:None, Loss:92.7291, Loss-ae:90.4832, Loss-topo:2.2459\n",
      "Epoch:172, P:None, Loss:94.7538, Loss-ae:92.3536, Loss-topo:2.4002\n",
      "Epoch:173, P:None, Loss:92.4063, Loss-ae:90.1669, Loss-topo:2.2394\n",
      "Epoch:174, P:None, Loss:93.4394, Loss-ae:91.0505, Loss-topo:2.3889\n",
      "Epoch:175, P:None, Loss:93.8656, Loss-ae:91.4312, Loss-topo:2.4344\n",
      "Epoch:176, P:None, Loss:92.9854, Loss-ae:90.6776, Loss-topo:2.3078\n",
      "Epoch:177, P:None, Loss:97.3903, Loss-ae:95.0621, Loss-topo:2.3282\n",
      "Epoch:178, P:None, Loss:94.5837, Loss-ae:92.4425, Loss-topo:2.1412\n",
      "Epoch:179, P:None, Loss:95.2696, Loss-ae:93.0483, Loss-topo:2.2213\n",
      "Epoch:180, P:None, Loss:94.0572, Loss-ae:91.8637, Loss-topo:2.1935\n",
      "Epoch:181, P:None, Loss:91.6658, Loss-ae:89.5140, Loss-topo:2.1518\n",
      "Epoch:182, P:None, Loss:93.7438, Loss-ae:91.6244, Loss-topo:2.1194\n",
      "Epoch:183, P:None, Loss:90.0992, Loss-ae:88.1404, Loss-topo:1.9588\n",
      "Epoch:184, P:None, Loss:93.6789, Loss-ae:91.4437, Loss-topo:2.2352\n",
      "Epoch:185, P:None, Loss:90.8571, Loss-ae:88.7687, Loss-topo:2.0884\n",
      "Epoch:186, P:None, Loss:91.6430, Loss-ae:89.5169, Loss-topo:2.1261\n",
      "Epoch:187, P:None, Loss:89.0832, Loss-ae:87.0329, Loss-topo:2.0503\n",
      "Epoch:188, P:None, Loss:90.1400, Loss-ae:88.1768, Loss-topo:1.9632\n",
      "Epoch:189, P:None, Loss:91.4823, Loss-ae:89.3995, Loss-topo:2.0828\n",
      "Epoch:190, P:None, Loss:90.0648, Loss-ae:88.1602, Loss-topo:1.9046\n",
      "Epoch:191, P:None, Loss:91.4956, Loss-ae:89.2742, Loss-topo:2.2214\n",
      "Epoch:192, P:None, Loss:89.0589, Loss-ae:87.0533, Loss-topo:2.0056\n",
      "Epoch:193, P:None, Loss:90.9521, Loss-ae:89.0107, Loss-topo:1.9414\n",
      "Epoch:194, P:None, Loss:90.0976, Loss-ae:88.2701, Loss-topo:1.8275\n",
      "Epoch:195, P:None, Loss:90.8087, Loss-ae:88.8076, Loss-topo:2.0011\n",
      "Epoch:196, P:None, Loss:91.9899, Loss-ae:90.0824, Loss-topo:1.9076\n",
      "Epoch:197, P:None, Loss:88.3702, Loss-ae:86.4446, Loss-topo:1.9255\n",
      "Epoch:198, P:None, Loss:86.8252, Loss-ae:84.9936, Loss-topo:1.8316\n",
      "Epoch:199, P:None, Loss:90.1541, Loss-ae:88.1739, Loss-topo:1.9802\n",
      "Epoch:200, P:None, Loss:87.1108, Loss-ae:85.4021, Loss-topo:1.7088\n",
      "Epoch:201, P:None, Loss:91.4720, Loss-ae:89.6014, Loss-topo:1.8706\n",
      "Epoch:202, P:None, Loss:89.4961, Loss-ae:87.7748, Loss-topo:1.7212\n",
      "Epoch:203, P:None, Loss:90.2601, Loss-ae:88.4877, Loss-topo:1.7724\n",
      "Epoch:204, P:None, Loss:87.8436, Loss-ae:86.1905, Loss-topo:1.6531\n",
      "Epoch:205, P:None, Loss:89.3659, Loss-ae:87.6293, Loss-topo:1.7365\n",
      "Epoch:206, P:None, Loss:87.2294, Loss-ae:85.6135, Loss-topo:1.6159\n",
      "Epoch:207, P:None, Loss:87.5406, Loss-ae:85.7964, Loss-topo:1.7442\n",
      "Epoch:208, P:None, Loss:89.4763, Loss-ae:87.8086, Loss-topo:1.6678\n",
      "Epoch:209, P:None, Loss:87.4389, Loss-ae:85.7712, Loss-topo:1.6678\n",
      "Epoch:210, P:None, Loss:90.9736, Loss-ae:89.2685, Loss-topo:1.7050\n",
      "Epoch:211, P:None, Loss:89.3191, Loss-ae:87.5639, Loss-topo:1.7552\n",
      "Epoch:212, P:None, Loss:86.7463, Loss-ae:85.1841, Loss-topo:1.5622\n",
      "Epoch:213, P:None, Loss:89.7811, Loss-ae:88.1612, Loss-topo:1.6199\n",
      "Epoch:214, P:None, Loss:87.1551, Loss-ae:85.5930, Loss-topo:1.5622\n",
      "Epoch:215, P:None, Loss:89.0776, Loss-ae:87.4274, Loss-topo:1.6502\n",
      "Epoch:216, P:None, Loss:88.6943, Loss-ae:87.0712, Loss-topo:1.6231\n",
      "Epoch:217, P:None, Loss:87.3766, Loss-ae:85.7303, Loss-topo:1.6463\n",
      "Epoch:218, P:None, Loss:89.8705, Loss-ae:88.3678, Loss-topo:1.5027\n",
      "Epoch:219, P:None, Loss:89.0170, Loss-ae:87.3139, Loss-topo:1.7031\n",
      "Epoch:220, P:None, Loss:87.3962, Loss-ae:85.7329, Loss-topo:1.6633\n",
      "Epoch:221, P:None, Loss:87.1451, Loss-ae:85.6292, Loss-topo:1.5159\n",
      "Epoch:222, P:None, Loss:89.0579, Loss-ae:87.5142, Loss-topo:1.5436\n",
      "Epoch:223, P:None, Loss:88.0351, Loss-ae:86.4464, Loss-topo:1.5887\n",
      "Epoch:224, P:None, Loss:86.9098, Loss-ae:85.4617, Loss-topo:1.4481\n",
      "Epoch:225, P:None, Loss:86.5208, Loss-ae:85.0744, Loss-topo:1.4464\n",
      "Epoch:226, P:None, Loss:85.7002, Loss-ae:84.2487, Loss-topo:1.4516\n",
      "Epoch:227, P:None, Loss:90.6720, Loss-ae:89.1535, Loss-topo:1.5185\n",
      "Epoch:228, P:None, Loss:89.0342, Loss-ae:87.5067, Loss-topo:1.5275\n",
      "Epoch:229, P:None, Loss:84.5510, Loss-ae:83.0517, Loss-topo:1.4992\n",
      "Epoch:230, P:None, Loss:85.6683, Loss-ae:84.2963, Loss-topo:1.3720\n",
      "Epoch:231, P:None, Loss:84.4705, Loss-ae:83.0113, Loss-topo:1.4592\n",
      "Epoch:232, P:None, Loss:87.8517, Loss-ae:86.2925, Loss-topo:1.5593\n",
      "Epoch:233, P:None, Loss:84.5285, Loss-ae:83.1308, Loss-topo:1.3977\n",
      "Epoch:234, P:None, Loss:87.1495, Loss-ae:85.6924, Loss-topo:1.4571\n",
      "Epoch:235, P:None, Loss:87.7964, Loss-ae:86.4043, Loss-topo:1.3921\n",
      "Epoch:236, P:None, Loss:83.3349, Loss-ae:82.0247, Loss-topo:1.3102\n",
      "Epoch:237, P:None, Loss:84.9405, Loss-ae:83.5865, Loss-topo:1.3540\n",
      "Epoch:238, P:None, Loss:87.6774, Loss-ae:86.3628, Loss-topo:1.3146\n",
      "Epoch:239, P:None, Loss:85.3971, Loss-ae:84.0398, Loss-topo:1.3572\n",
      "Epoch:240, P:None, Loss:83.9137, Loss-ae:82.6159, Loss-topo:1.2978\n",
      "Epoch:241, P:None, Loss:86.9092, Loss-ae:85.5868, Loss-topo:1.3224\n",
      "Epoch:242, P:None, Loss:84.1951, Loss-ae:82.9000, Loss-topo:1.2952\n",
      "Epoch:243, P:None, Loss:87.5191, Loss-ae:86.1960, Loss-topo:1.3231\n",
      "Epoch:244, P:None, Loss:84.8988, Loss-ae:83.5941, Loss-topo:1.3047\n",
      "Epoch:245, P:None, Loss:85.7618, Loss-ae:84.5104, Loss-topo:1.2514\n",
      "Epoch:246, P:None, Loss:84.9433, Loss-ae:83.6932, Loss-topo:1.2502\n",
      "Epoch:247, P:None, Loss:85.2970, Loss-ae:83.9814, Loss-topo:1.3156\n",
      "Epoch:248, P:None, Loss:86.6849, Loss-ae:85.3458, Loss-topo:1.3391\n",
      "Epoch:249, P:None, Loss:86.5028, Loss-ae:85.2675, Loss-topo:1.2352\n",
      "Epoch:250, P:None, Loss:85.8937, Loss-ae:84.6572, Loss-topo:1.2365\n",
      "Epoch:251, P:None, Loss:85.3419, Loss-ae:84.0693, Loss-topo:1.2726\n",
      "Epoch:252, P:None, Loss:86.2533, Loss-ae:84.9783, Loss-topo:1.2750\n",
      "Epoch:253, P:None, Loss:84.3111, Loss-ae:83.0934, Loss-topo:1.2177\n",
      "Epoch:254, P:None, Loss:85.6604, Loss-ae:84.3398, Loss-topo:1.3206\n",
      "Epoch:255, P:None, Loss:83.8023, Loss-ae:82.6911, Loss-topo:1.1111\n",
      "Epoch:256, P:None, Loss:84.1906, Loss-ae:82.9565, Loss-topo:1.2341\n",
      "Epoch:257, P:None, Loss:83.8031, Loss-ae:82.6226, Loss-topo:1.1805\n",
      "Epoch:258, P:None, Loss:85.8002, Loss-ae:84.5216, Loss-topo:1.2787\n",
      "Epoch:259, P:None, Loss:84.5542, Loss-ae:83.2565, Loss-topo:1.2977\n",
      "Epoch:260, P:None, Loss:83.2087, Loss-ae:82.0853, Loss-topo:1.1234\n",
      "Epoch:261, P:None, Loss:83.4506, Loss-ae:82.2009, Loss-topo:1.2497\n",
      "Epoch:262, P:None, Loss:83.6561, Loss-ae:82.5533, Loss-topo:1.1028\n",
      "Epoch:263, P:None, Loss:83.9243, Loss-ae:82.7702, Loss-topo:1.1541\n",
      "Epoch:264, P:None, Loss:80.5939, Loss-ae:79.4904, Loss-topo:1.1035\n",
      "Epoch:265, P:None, Loss:85.3986, Loss-ae:84.2859, Loss-topo:1.1127\n",
      "Epoch:266, P:None, Loss:81.5158, Loss-ae:80.5220, Loss-topo:0.9937\n",
      "Epoch:267, P:None, Loss:86.0271, Loss-ae:84.7876, Loss-topo:1.2395\n",
      "Epoch:268, P:None, Loss:83.0646, Loss-ae:82.0091, Loss-topo:1.0555\n",
      "Epoch:269, P:None, Loss:83.5871, Loss-ae:82.4307, Loss-topo:1.1564\n",
      "Epoch:270, P:None, Loss:82.5024, Loss-ae:81.4095, Loss-topo:1.0929\n",
      "Epoch:271, P:None, Loss:81.0646, Loss-ae:79.9946, Loss-topo:1.0699\n",
      "Epoch:272, P:None, Loss:82.5685, Loss-ae:81.6090, Loss-topo:0.9596\n",
      "Epoch:273, P:None, Loss:81.2864, Loss-ae:80.2107, Loss-topo:1.0758\n",
      "Epoch:274, P:None, Loss:82.3159, Loss-ae:81.2936, Loss-topo:1.0223\n",
      "Epoch:275, P:None, Loss:85.3882, Loss-ae:84.2679, Loss-topo:1.1204\n",
      "Epoch:276, P:None, Loss:83.5512, Loss-ae:82.5192, Loss-topo:1.0320\n",
      "Epoch:277, P:None, Loss:84.6543, Loss-ae:83.4930, Loss-topo:1.1613\n",
      "Epoch:278, P:None, Loss:80.5720, Loss-ae:79.5671, Loss-topo:1.0049\n",
      "Epoch:279, P:None, Loss:85.6962, Loss-ae:84.5946, Loss-topo:1.1015\n",
      "Epoch:280, P:None, Loss:81.5473, Loss-ae:80.5252, Loss-topo:1.0222\n",
      "Epoch:281, P:None, Loss:85.2439, Loss-ae:84.1621, Loss-topo:1.0819\n",
      "Epoch:282, P:None, Loss:80.8188, Loss-ae:79.8456, Loss-topo:0.9732\n",
      "Epoch:283, P:None, Loss:81.1329, Loss-ae:80.2589, Loss-topo:0.8739\n",
      "Epoch:284, P:None, Loss:82.6121, Loss-ae:81.5883, Loss-topo:1.0238\n",
      "Epoch:285, P:None, Loss:81.3714, Loss-ae:80.4467, Loss-topo:0.9247\n",
      "Epoch:286, P:None, Loss:80.6469, Loss-ae:79.7222, Loss-topo:0.9247\n",
      "Epoch:287, P:None, Loss:84.3010, Loss-ae:83.2909, Loss-topo:1.0101\n",
      "Epoch:288, P:None, Loss:82.6413, Loss-ae:81.6353, Loss-topo:1.0060\n",
      "Epoch:289, P:None, Loss:79.5421, Loss-ae:78.6548, Loss-topo:0.8872\n",
      "Epoch:290, P:None, Loss:81.2420, Loss-ae:80.3721, Loss-topo:0.8700\n",
      "Epoch:291, P:None, Loss:83.3361, Loss-ae:82.3291, Loss-topo:1.0070\n",
      "Epoch:292, P:None, Loss:79.4771, Loss-ae:78.5687, Loss-topo:0.9084\n",
      "Epoch:293, P:None, Loss:81.7965, Loss-ae:80.8366, Loss-topo:0.9599\n",
      "Epoch:294, P:None, Loss:84.7598, Loss-ae:83.7082, Loss-topo:1.0516\n",
      "Epoch:295, P:None, Loss:81.8122, Loss-ae:80.8725, Loss-topo:0.9396\n",
      "Epoch:296, P:None, Loss:82.0485, Loss-ae:81.0862, Loss-topo:0.9623\n",
      "Epoch:297, P:None, Loss:81.8728, Loss-ae:80.9147, Loss-topo:0.9582\n",
      "Epoch:298, P:None, Loss:85.2141, Loss-ae:84.1396, Loss-topo:1.0745\n",
      "Epoch:299, P:None, Loss:81.6335, Loss-ae:80.7032, Loss-topo:0.9303\n",
      "Epoch:300, P:None, Loss:82.1778, Loss-ae:81.2337, Loss-topo:0.9440\n",
      "Epoch:301, P:None, Loss:81.9091, Loss-ae:81.0081, Loss-topo:0.9010\n",
      "Epoch:302, P:None, Loss:82.8456, Loss-ae:81.8775, Loss-topo:0.9682\n",
      "Epoch:303, P:None, Loss:80.0503, Loss-ae:79.1666, Loss-topo:0.8837\n",
      "Epoch:304, P:None, Loss:81.0085, Loss-ae:80.1351, Loss-topo:0.8734\n",
      "Epoch:305, P:None, Loss:81.6667, Loss-ae:80.8482, Loss-topo:0.8184\n",
      "Epoch:306, P:None, Loss:80.8197, Loss-ae:79.8276, Loss-topo:0.9921\n",
      "Epoch:307, P:None, Loss:80.4229, Loss-ae:79.5902, Loss-topo:0.8327\n",
      "Epoch:308, P:None, Loss:82.4861, Loss-ae:81.5662, Loss-topo:0.9199\n",
      "Epoch:309, P:None, Loss:80.2117, Loss-ae:79.2915, Loss-topo:0.9202\n",
      "Epoch:310, P:None, Loss:81.7699, Loss-ae:80.9315, Loss-topo:0.8384\n",
      "Epoch:311, P:None, Loss:80.6302, Loss-ae:79.8411, Loss-topo:0.7892\n",
      "Epoch:312, P:None, Loss:83.8298, Loss-ae:82.9548, Loss-topo:0.8750\n",
      "Epoch:313, P:None, Loss:77.7678, Loss-ae:77.0185, Loss-topo:0.7494\n",
      "Epoch:314, P:None, Loss:81.1590, Loss-ae:80.2933, Loss-topo:0.8657\n",
      "Epoch:315, P:None, Loss:80.9103, Loss-ae:80.0907, Loss-topo:0.8196\n",
      "Epoch:316, P:None, Loss:81.5487, Loss-ae:80.7524, Loss-topo:0.7963\n",
      "Epoch:317, P:None, Loss:81.2819, Loss-ae:80.4128, Loss-topo:0.8691\n",
      "Epoch:318, P:None, Loss:82.7111, Loss-ae:81.8683, Loss-topo:0.8429\n",
      "Epoch:319, P:None, Loss:81.1689, Loss-ae:80.3755, Loss-topo:0.7934\n",
      "Epoch:320, P:None, Loss:79.0937, Loss-ae:78.2647, Loss-topo:0.8291\n",
      "Epoch:321, P:None, Loss:78.2691, Loss-ae:77.5504, Loss-topo:0.7187\n",
      "Epoch:322, P:None, Loss:78.6974, Loss-ae:77.9178, Loss-topo:0.7796\n",
      "Epoch:323, P:None, Loss:78.7118, Loss-ae:77.9609, Loss-topo:0.7509\n",
      "Epoch:324, P:None, Loss:80.3438, Loss-ae:79.5468, Loss-topo:0.7970\n",
      "Epoch:325, P:None, Loss:78.4352, Loss-ae:77.6108, Loss-topo:0.8244\n",
      "Epoch:326, P:None, Loss:78.9324, Loss-ae:78.1359, Loss-topo:0.7964\n",
      "Epoch:327, P:None, Loss:81.1723, Loss-ae:80.4265, Loss-topo:0.7459\n",
      "Epoch:328, P:None, Loss:78.7854, Loss-ae:77.9944, Loss-topo:0.7909\n",
      "Epoch:329, P:None, Loss:83.2575, Loss-ae:82.3935, Loss-topo:0.8640\n",
      "Epoch:330, P:None, Loss:79.4925, Loss-ae:78.6403, Loss-topo:0.8521\n",
      "Epoch:331, P:None, Loss:78.7276, Loss-ae:77.9587, Loss-topo:0.7689\n",
      "Epoch:332, P:None, Loss:77.2978, Loss-ae:76.5864, Loss-topo:0.7114\n",
      "Epoch:333, P:None, Loss:80.6138, Loss-ae:79.8220, Loss-topo:0.7918\n",
      "Epoch:334, P:None, Loss:79.4149, Loss-ae:78.6578, Loss-topo:0.7571\n",
      "Epoch:335, P:None, Loss:79.5528, Loss-ae:78.7335, Loss-topo:0.8193\n",
      "Epoch:336, P:None, Loss:83.1367, Loss-ae:82.2986, Loss-topo:0.8381\n",
      "Epoch:337, P:None, Loss:82.7872, Loss-ae:82.0465, Loss-topo:0.7407\n",
      "Epoch:338, P:None, Loss:78.5169, Loss-ae:77.7984, Loss-topo:0.7185\n",
      "Epoch:339, P:None, Loss:80.5487, Loss-ae:79.8508, Loss-topo:0.6979\n",
      "Epoch:340, P:None, Loss:80.0005, Loss-ae:79.2653, Loss-topo:0.7351\n",
      "Epoch:341, P:None, Loss:79.6717, Loss-ae:78.8658, Loss-topo:0.8059\n",
      "Epoch:342, P:None, Loss:79.4295, Loss-ae:78.6690, Loss-topo:0.7606\n",
      "Epoch:343, P:None, Loss:80.6836, Loss-ae:79.9815, Loss-topo:0.7021\n",
      "Epoch:344, P:None, Loss:79.8155, Loss-ae:79.1208, Loss-topo:0.6946\n",
      "Epoch:345, P:None, Loss:77.9213, Loss-ae:77.2566, Loss-topo:0.6646\n",
      "Epoch:346, P:None, Loss:79.2503, Loss-ae:78.6272, Loss-topo:0.6231\n",
      "Epoch:347, P:None, Loss:80.2769, Loss-ae:79.4516, Loss-topo:0.8253\n",
      "Epoch:348, P:None, Loss:78.9447, Loss-ae:78.2583, Loss-topo:0.6863\n",
      "Epoch:349, P:None, Loss:79.6098, Loss-ae:78.9052, Loss-topo:0.7046\n",
      "Epoch:350, P:None, Loss:78.0002, Loss-ae:77.2862, Loss-topo:0.7140\n",
      "Epoch:351, P:None, Loss:80.0751, Loss-ae:79.4085, Loss-topo:0.6666\n",
      "Epoch:352, P:None, Loss:79.7208, Loss-ae:79.0594, Loss-topo:0.6613\n",
      "Epoch:353, P:None, Loss:80.2060, Loss-ae:79.4867, Loss-topo:0.7193\n",
      "Epoch:354, P:None, Loss:76.8874, Loss-ae:76.3037, Loss-topo:0.5837\n",
      "Epoch:355, P:None, Loss:77.1394, Loss-ae:76.5469, Loss-topo:0.5925\n",
      "Epoch:356, P:None, Loss:79.0296, Loss-ae:78.3575, Loss-topo:0.6721\n",
      "Epoch:357, P:None, Loss:78.6772, Loss-ae:77.9870, Loss-topo:0.6902\n",
      "Epoch:358, P:None, Loss:79.6351, Loss-ae:79.0006, Loss-topo:0.6344\n",
      "Epoch:359, P:None, Loss:77.3509, Loss-ae:76.7186, Loss-topo:0.6323\n",
      "Epoch:360, P:None, Loss:80.5240, Loss-ae:79.8566, Loss-topo:0.6675\n",
      "Epoch:361, P:None, Loss:77.9816, Loss-ae:77.3182, Loss-topo:0.6634\n",
      "Epoch:362, P:None, Loss:77.5632, Loss-ae:76.9461, Loss-topo:0.6171\n",
      "Epoch:363, P:None, Loss:79.4612, Loss-ae:78.7933, Loss-topo:0.6679\n",
      "Epoch:364, P:None, Loss:77.3139, Loss-ae:76.7008, Loss-topo:0.6131\n",
      "Epoch:365, P:None, Loss:77.7226, Loss-ae:77.1207, Loss-topo:0.6019\n",
      "Epoch:366, P:None, Loss:76.8267, Loss-ae:76.2246, Loss-topo:0.6021\n",
      "Epoch:367, P:None, Loss:80.4863, Loss-ae:79.8184, Loss-topo:0.6679\n",
      "Epoch:368, P:None, Loss:78.8763, Loss-ae:78.1913, Loss-topo:0.6850\n",
      "Epoch:369, P:None, Loss:78.6704, Loss-ae:78.0774, Loss-topo:0.5930\n",
      "Epoch:370, P:None, Loss:79.2996, Loss-ae:78.6756, Loss-topo:0.6240\n",
      "Epoch:371, P:None, Loss:79.9747, Loss-ae:79.3869, Loss-topo:0.5878\n",
      "Epoch:372, P:None, Loss:79.6331, Loss-ae:79.0653, Loss-topo:0.5679\n",
      "Epoch:373, P:None, Loss:77.1490, Loss-ae:76.5828, Loss-topo:0.5662\n",
      "Epoch:374, P:None, Loss:77.5113, Loss-ae:76.8771, Loss-topo:0.6343\n",
      "Epoch:375, P:None, Loss:75.7912, Loss-ae:75.1644, Loss-topo:0.6268\n",
      "Epoch:376, P:None, Loss:77.8004, Loss-ae:77.1912, Loss-topo:0.6092\n",
      "Epoch:377, P:None, Loss:76.4988, Loss-ae:75.9708, Loss-topo:0.5280\n",
      "Epoch:378, P:None, Loss:78.5258, Loss-ae:77.9342, Loss-topo:0.5916\n",
      "Epoch:379, P:None, Loss:76.7000, Loss-ae:76.1519, Loss-topo:0.5480\n",
      "Epoch:380, P:None, Loss:77.5633, Loss-ae:76.9378, Loss-topo:0.6255\n",
      "Epoch:381, P:None, Loss:78.7662, Loss-ae:78.1657, Loss-topo:0.6005\n",
      "Epoch:382, P:None, Loss:78.0728, Loss-ae:77.5290, Loss-topo:0.5438\n",
      "Epoch:383, P:None, Loss:78.8210, Loss-ae:78.1895, Loss-topo:0.6315\n",
      "Epoch:384, P:None, Loss:77.7776, Loss-ae:77.2266, Loss-topo:0.5510\n",
      "Epoch:385, P:None, Loss:80.1773, Loss-ae:79.6112, Loss-topo:0.5661\n",
      "Epoch:386, P:None, Loss:78.3916, Loss-ae:77.8648, Loss-topo:0.5268\n",
      "Epoch:387, P:None, Loss:77.7148, Loss-ae:77.1170, Loss-topo:0.5978\n",
      "Epoch:388, P:None, Loss:79.4446, Loss-ae:78.7974, Loss-topo:0.6472\n",
      "Epoch:389, P:None, Loss:80.1777, Loss-ae:79.6640, Loss-topo:0.5137\n",
      "Epoch:390, P:None, Loss:77.3802, Loss-ae:76.8079, Loss-topo:0.5723\n",
      "Epoch:391, P:None, Loss:80.8961, Loss-ae:80.3117, Loss-topo:0.5844\n",
      "Epoch:392, P:None, Loss:78.5304, Loss-ae:77.9563, Loss-topo:0.5742\n",
      "Epoch:393, P:None, Loss:77.7026, Loss-ae:77.1758, Loss-topo:0.5268\n",
      "Epoch:394, P:None, Loss:76.8521, Loss-ae:76.3525, Loss-topo:0.4996\n",
      "Epoch:395, P:None, Loss:75.5502, Loss-ae:74.9948, Loss-topo:0.5554\n",
      "Epoch:396, P:None, Loss:78.3741, Loss-ae:77.8249, Loss-topo:0.5492\n",
      "Epoch:397, P:None, Loss:77.4803, Loss-ae:76.9361, Loss-topo:0.5442\n",
      "Epoch:398, P:None, Loss:75.3980, Loss-ae:74.9346, Loss-topo:0.4634\n",
      "Epoch:399, P:None, Loss:78.2221, Loss-ae:77.7319, Loss-topo:0.4902\n",
      "Epoch:400, P:None, Loss:76.5620, Loss-ae:76.0562, Loss-topo:0.5058\n",
      "Epoch:401, P:None, Loss:76.5749, Loss-ae:76.1003, Loss-topo:0.4746\n",
      "Epoch:402, P:None, Loss:76.0257, Loss-ae:75.5064, Loss-topo:0.5194\n",
      "Epoch:403, P:None, Loss:76.6716, Loss-ae:76.1980, Loss-topo:0.4736\n",
      "Epoch:404, P:None, Loss:76.9660, Loss-ae:76.3974, Loss-topo:0.5685\n",
      "Epoch:405, P:None, Loss:75.7445, Loss-ae:75.2579, Loss-topo:0.4867\n",
      "Epoch:406, P:None, Loss:76.2342, Loss-ae:75.7525, Loss-topo:0.4817\n",
      "Epoch:407, P:None, Loss:75.4526, Loss-ae:74.9898, Loss-topo:0.4628\n",
      "Epoch:408, P:None, Loss:75.3185, Loss-ae:74.8739, Loss-topo:0.4446\n",
      "Epoch:409, P:None, Loss:76.7260, Loss-ae:76.1970, Loss-topo:0.5290\n",
      "Epoch:410, P:None, Loss:77.0973, Loss-ae:76.6373, Loss-topo:0.4600\n",
      "Epoch:411, P:None, Loss:77.8454, Loss-ae:77.3703, Loss-topo:0.4751\n",
      "Epoch:412, P:None, Loss:78.5157, Loss-ae:77.9877, Loss-topo:0.5280\n",
      "Epoch:413, P:None, Loss:75.0859, Loss-ae:74.6696, Loss-topo:0.4163\n",
      "Epoch:414, P:None, Loss:75.9304, Loss-ae:75.5030, Loss-topo:0.4274\n",
      "Epoch:415, P:None, Loss:76.7550, Loss-ae:76.3071, Loss-topo:0.4479\n",
      "Epoch:416, P:None, Loss:76.4444, Loss-ae:75.9772, Loss-topo:0.4672\n",
      "Epoch:417, P:None, Loss:75.9182, Loss-ae:75.4482, Loss-topo:0.4700\n",
      "Epoch:418, P:None, Loss:77.2360, Loss-ae:76.7988, Loss-topo:0.4372\n",
      "Epoch:419, P:None, Loss:80.0439, Loss-ae:79.5195, Loss-topo:0.5244\n",
      "Epoch:420, P:None, Loss:77.0953, Loss-ae:76.6618, Loss-topo:0.4334\n",
      "Epoch:421, P:None, Loss:74.8566, Loss-ae:74.4131, Loss-topo:0.4435\n",
      "Epoch:422, P:None, Loss:77.2517, Loss-ae:76.7856, Loss-topo:0.4661\n",
      "Epoch:423, P:None, Loss:77.8439, Loss-ae:77.3550, Loss-topo:0.4889\n",
      "Epoch:424, P:None, Loss:75.7259, Loss-ae:75.2712, Loss-topo:0.4547\n",
      "Epoch:425, P:None, Loss:78.2059, Loss-ae:77.7800, Loss-topo:0.4259\n",
      "Epoch:426, P:None, Loss:78.7175, Loss-ae:78.2669, Loss-topo:0.4505\n",
      "Epoch:427, P:None, Loss:77.4800, Loss-ae:77.0279, Loss-topo:0.4521\n",
      "Epoch:428, P:None, Loss:75.4634, Loss-ae:75.0483, Loss-topo:0.4151\n",
      "Epoch:429, P:None, Loss:75.5592, Loss-ae:75.1087, Loss-topo:0.4504\n",
      "Epoch:430, P:None, Loss:77.5127, Loss-ae:77.0745, Loss-topo:0.4382\n",
      "Epoch:431, P:None, Loss:78.4126, Loss-ae:77.9361, Loss-topo:0.4765\n",
      "Epoch:432, P:None, Loss:74.9132, Loss-ae:74.5094, Loss-topo:0.4038\n",
      "Epoch:433, P:None, Loss:76.8385, Loss-ae:76.3987, Loss-topo:0.4399\n",
      "Epoch:434, P:None, Loss:74.6883, Loss-ae:74.2711, Loss-topo:0.4172\n",
      "Epoch:435, P:None, Loss:77.1231, Loss-ae:76.6648, Loss-topo:0.4583\n",
      "Epoch:436, P:None, Loss:75.0694, Loss-ae:74.6389, Loss-topo:0.4304\n",
      "Epoch:437, P:None, Loss:75.6935, Loss-ae:75.2580, Loss-topo:0.4354\n",
      "Epoch:438, P:None, Loss:77.5529, Loss-ae:77.1124, Loss-topo:0.4405\n",
      "Epoch:439, P:None, Loss:75.4284, Loss-ae:75.0332, Loss-topo:0.3951\n",
      "Epoch:440, P:None, Loss:76.9290, Loss-ae:76.5339, Loss-topo:0.3951\n",
      "Epoch:441, P:None, Loss:77.3553, Loss-ae:76.9374, Loss-topo:0.4179\n",
      "Epoch:442, P:None, Loss:78.1687, Loss-ae:77.7706, Loss-topo:0.3980\n",
      "Epoch:443, P:None, Loss:74.8360, Loss-ae:74.4607, Loss-topo:0.3753\n",
      "Epoch:444, P:None, Loss:77.0499, Loss-ae:76.6064, Loss-topo:0.4435\n",
      "Epoch:445, P:None, Loss:77.1094, Loss-ae:76.7285, Loss-topo:0.3809\n",
      "Epoch:446, P:None, Loss:73.1206, Loss-ae:72.7355, Loss-topo:0.3851\n",
      "Epoch:447, P:None, Loss:76.2008, Loss-ae:75.8170, Loss-topo:0.3838\n",
      "Epoch:448, P:None, Loss:76.2450, Loss-ae:75.8636, Loss-topo:0.3814\n",
      "Epoch:449, P:None, Loss:73.6309, Loss-ae:73.2657, Loss-topo:0.3652\n",
      "Epoch:450, P:None, Loss:77.3005, Loss-ae:76.8711, Loss-topo:0.4294\n",
      "Epoch:451, P:None, Loss:79.3594, Loss-ae:78.9229, Loss-topo:0.4365\n",
      "Epoch:452, P:None, Loss:75.5170, Loss-ae:75.1465, Loss-topo:0.3706\n",
      "Epoch:453, P:None, Loss:77.7506, Loss-ae:77.3729, Loss-topo:0.3778\n",
      "Epoch:454, P:None, Loss:74.1514, Loss-ae:73.7899, Loss-topo:0.3615\n",
      "Epoch:455, P:None, Loss:74.8207, Loss-ae:74.4497, Loss-topo:0.3710\n",
      "Epoch:456, P:None, Loss:76.5667, Loss-ae:76.1462, Loss-topo:0.4205\n",
      "Epoch:457, P:None, Loss:76.3414, Loss-ae:75.9609, Loss-topo:0.3805\n",
      "Epoch:458, P:None, Loss:73.4808, Loss-ae:73.1246, Loss-topo:0.3562\n",
      "Epoch:459, P:None, Loss:76.8130, Loss-ae:76.4517, Loss-topo:0.3614\n",
      "Epoch:460, P:None, Loss:75.6659, Loss-ae:75.2532, Loss-topo:0.4127\n",
      "Epoch:461, P:None, Loss:78.1686, Loss-ae:77.8029, Loss-topo:0.3658\n",
      "Epoch:462, P:None, Loss:74.1421, Loss-ae:73.8147, Loss-topo:0.3274\n",
      "Epoch:463, P:None, Loss:75.6178, Loss-ae:75.2241, Loss-topo:0.3937\n",
      "Epoch:464, P:None, Loss:75.7103, Loss-ae:75.3563, Loss-topo:0.3540\n",
      "Epoch:465, P:None, Loss:74.4882, Loss-ae:74.1460, Loss-topo:0.3422\n",
      "Epoch:466, P:None, Loss:75.5924, Loss-ae:75.2366, Loss-topo:0.3558\n",
      "Epoch:467, P:None, Loss:76.4312, Loss-ae:76.0517, Loss-topo:0.3795\n",
      "Epoch:468, P:None, Loss:79.3096, Loss-ae:78.9165, Loss-topo:0.3931\n",
      "Epoch:469, P:None, Loss:77.5156, Loss-ae:77.1876, Loss-topo:0.3281\n",
      "Epoch:470, P:None, Loss:76.8316, Loss-ae:76.4709, Loss-topo:0.3606\n",
      "Epoch:471, P:None, Loss:78.4512, Loss-ae:78.0957, Loss-topo:0.3556\n",
      "Epoch:472, P:None, Loss:76.7944, Loss-ae:76.4720, Loss-topo:0.3225\n",
      "Epoch:473, P:None, Loss:75.5558, Loss-ae:75.2287, Loss-topo:0.3270\n",
      "Epoch:474, P:None, Loss:75.2154, Loss-ae:74.8361, Loss-topo:0.3793\n",
      "Epoch:475, P:None, Loss:79.5901, Loss-ae:79.2372, Loss-topo:0.3529\n",
      "Epoch:476, P:None, Loss:74.0805, Loss-ae:73.7523, Loss-topo:0.3282\n",
      "Epoch:477, P:None, Loss:74.9905, Loss-ae:74.6377, Loss-topo:0.3527\n",
      "Epoch:478, P:None, Loss:75.2296, Loss-ae:74.9013, Loss-topo:0.3284\n",
      "Epoch:479, P:None, Loss:76.0206, Loss-ae:75.7122, Loss-topo:0.3084\n",
      "Epoch:480, P:None, Loss:72.0560, Loss-ae:71.7543, Loss-topo:0.3018\n",
      "Epoch:481, P:None, Loss:74.4882, Loss-ae:74.1512, Loss-topo:0.3370\n",
      "Epoch:482, P:None, Loss:75.7679, Loss-ae:75.4544, Loss-topo:0.3135\n",
      "Epoch:483, P:None, Loss:75.4013, Loss-ae:75.0671, Loss-topo:0.3343\n",
      "Epoch:484, P:None, Loss:77.7878, Loss-ae:77.4790, Loss-topo:0.3088\n"
     ]
    }
   ],
   "source": [
    "import pickle\n",
    "\n",
    "# Variables to reuse\n",
    "save_id = 0\n",
    "model_name = 'ConvolutionalAutoencoder_custom_dim3'\n",
    "model_dim = 10\n",
    "model_epc = 500\n",
    "model_lams = [1, 10, 100, 1000]\n",
    "\n",
    "for model_lam in model_lams:\n",
    "    # Training model\n",
    "    topo_reducer = CustomTopoDimRedTransform(\n",
    "        model_name=model_name,\n",
    "        model_lambda=model_lam,\n",
    "        patience=None,\n",
    "        num_epochs=model_epc,\n",
    "        from_dim=180,\n",
    "        to_dim=model_dim\n",
    "    )\n",
    "\n",
    "    title_plot = \"MotionSense 20Hz\\nTopoAE lambda {}\".format(model_lam)\n",
    "    topo_reducer.fit(train_HD, train_Y, title_plot=title_plot)\n",
    "\n",
    "    # Variables to reuse\n",
    "    filename = 'data/{}_{}_{}_{}_{}.pkl'.format(model_name, model_lam, model_dim, model_epc, save_id)\n",
    "\n",
    "    filehandler = open(filename, 'wb')\n",
    "    pickle.dump(topo_reducer, filehandler)\n",
    "    filehandler.close()"
   ]
  }
 ],
 "metadata": {
  "kernelspec": {
   "display_name": "Python 3 (ipykernel)",
   "language": "python",
   "name": "python3"
  },
  "language_info": {
   "codemirror_mode": {
    "name": "ipython",
    "version": 3
   },
   "file_extension": ".py",
   "mimetype": "text/x-python",
   "name": "python",
   "nbconvert_exporter": "python",
   "pygments_lexer": "ipython3",
   "version": "3.8.10"
  }
 },
 "nbformat": 4,
 "nbformat_minor": 5
}
