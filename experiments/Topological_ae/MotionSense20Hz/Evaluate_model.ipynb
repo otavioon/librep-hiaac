{
 "cells": [
  {
   "cell_type": "code",
   "execution_count": 1,
   "id": "7e1630ed-63c8-4ee7-86c9-62dfb528b9a2",
   "metadata": {
    "execution": {
     "iopub.execute_input": "2023-01-04T11:34:33.739582Z",
     "iopub.status.busy": "2023-01-04T11:34:33.739331Z",
     "iopub.status.idle": "2023-01-04T11:34:33.759792Z",
     "shell.execute_reply": "2023-01-04T11:34:33.759036Z",
     "shell.execute_reply.started": "2023-01-04T11:34:33.739557Z"
    }
   },
   "outputs": [],
   "source": [
    "%load_ext autoreload\n",
    "%autoreload 2"
   ]
  },
  {
   "cell_type": "code",
   "execution_count": 2,
   "id": "2da911e3-e82f-47c9-8090-f71f453956ee",
   "metadata": {
    "execution": {
     "iopub.execute_input": "2023-01-04T11:34:33.761224Z",
     "iopub.status.busy": "2023-01-04T11:34:33.760812Z",
     "iopub.status.idle": "2023-01-04T11:34:33.836622Z",
     "shell.execute_reply": "2023-01-04T11:34:33.835551Z",
     "shell.execute_reply.started": "2023-01-04T11:34:33.761199Z"
    }
   },
   "outputs": [],
   "source": [
    "import sys\n",
    "sys.path.append(\"../../..\")"
   ]
  },
  {
   "cell_type": "code",
   "execution_count": 3,
   "id": "5f067405-ab8c-4f22-b056-ab9e1febe71c",
   "metadata": {
    "execution": {
     "iopub.execute_input": "2023-01-04T11:34:33.838871Z",
     "iopub.status.busy": "2023-01-04T11:34:33.838411Z",
     "iopub.status.idle": "2023-01-04T11:34:34.636833Z",
     "shell.execute_reply": "2023-01-04T11:34:34.635952Z",
     "shell.execute_reply.started": "2023-01-04T11:34:33.838835Z"
    }
   },
   "outputs": [],
   "source": [
    "import numpy as np\n",
    "import pandas as pd\n",
    "import matplotlib.pyplot as plt"
   ]
  },
  {
   "cell_type": "code",
   "execution_count": 4,
   "id": "cc5007e3-ef19-4658-ac7d-2a6f617bb9c6",
   "metadata": {
    "execution": {
     "iopub.execute_input": "2023-01-04T11:34:34.638268Z",
     "iopub.status.busy": "2023-01-04T11:34:34.637975Z",
     "iopub.status.idle": "2023-01-04T11:34:41.636968Z",
     "shell.execute_reply": "2023-01-04T11:34:41.636060Z",
     "shell.execute_reply.started": "2023-01-04T11:34:34.638245Z"
    }
   },
   "outputs": [
    {
     "name": "stderr",
     "output_type": "stream",
     "text": [
      "2023-01-04 11:34:39.836476: I tensorflow/core/platform/cpu_feature_guard.cc:193] This TensorFlow binary is optimized with oneAPI Deep Neural Network Library (oneDNN) to use the following CPU instructions in performance-critical operations:  AVX2 FMA\n",
      "To enable them in other operations, rebuild TensorFlow with the appropriate compiler flags.\n",
      "2023-01-04 11:34:39.983625: W tensorflow/compiler/xla/stream_executor/platform/default/dso_loader.cc:64] Could not load dynamic library 'libcudart.so.11.0'; dlerror: libcudart.so.11.0: cannot open shared object file: No such file or directory\n",
      "2023-01-04 11:34:39.983648: I tensorflow/compiler/xla/stream_executor/cuda/cudart_stub.cc:29] Ignore above cudart dlerror if you do not have a GPU set up on your machine.\n",
      "2023-01-04 11:34:40.746712: W tensorflow/compiler/xla/stream_executor/platform/default/dso_loader.cc:64] Could not load dynamic library 'libnvinfer.so.7'; dlerror: libnvinfer.so.7: cannot open shared object file: No such file or directory\n",
      "2023-01-04 11:34:40.746801: W tensorflow/compiler/xla/stream_executor/platform/default/dso_loader.cc:64] Could not load dynamic library 'libnvinfer_plugin.so.7'; dlerror: libnvinfer_plugin.so.7: cannot open shared object file: No such file or directory\n",
      "2023-01-04 11:34:40.746811: W tensorflow/compiler/tf2tensorrt/utils/py_utils.cc:38] TF-TRT Warning: Cannot dlopen some TensorRT libraries. If you would like to use Nvidia GPU with TensorRT, please make sure the missing libraries mentioned above are installed properly.\n"
     ]
    }
   ],
   "source": [
    "from librep.datasets.har.loaders import (\n",
    "    MotionSense_BalancedView20HZ\n",
    ")"
   ]
  },
  {
   "cell_type": "code",
   "execution_count": 5,
   "id": "2f9f66b2-7b1c-4d4e-a0e3-cde9552a595a",
   "metadata": {
    "execution": {
     "iopub.execute_input": "2023-01-04T11:34:41.638477Z",
     "iopub.status.busy": "2023-01-04T11:34:41.638081Z",
     "iopub.status.idle": "2023-01-04T11:34:43.067370Z",
     "shell.execute_reply": "2023-01-04T11:34:43.066406Z",
     "shell.execute_reply.started": "2023-01-04T11:34:41.638453Z"
    },
    "tags": []
   },
   "outputs": [],
   "source": [
    "from librep.transforms.topo_ae import (\n",
    "    TopologicalDimensionalityReduction,\n",
    "    CustomTopoDimRedTransform\n",
    ")\n",
    "from librep.transforms import UMAP\n",
    "from sklearn.manifold import TSNE\n",
    "from experiments.Experiment_utils import *\n",
    "from librep.datasets.multimodal import TransformMultiModalDataset\n",
    "from librep.transforms.fft import FFT\n",
    "from tqdm.notebook import tqdm"
   ]
  },
  {
   "cell_type": "code",
   "execution_count": 6,
   "id": "85bea424-07ff-47ec-945a-aef385afe7a7",
   "metadata": {
    "execution": {
     "iopub.execute_input": "2023-01-04T11:34:43.068807Z",
     "iopub.status.busy": "2023-01-04T11:34:43.068400Z",
     "iopub.status.idle": "2023-01-04T11:34:43.126479Z",
     "shell.execute_reply": "2023-01-04T11:34:43.125613Z",
     "shell.execute_reply.started": "2023-01-04T11:34:43.068784Z"
    }
   },
   "outputs": [],
   "source": [
    "# MotionSense Loader\n",
    "loader = MotionSense_BalancedView20HZ(\n",
    "    root_dir=\"../../../data/views/MotionSense/balanced_view_20Hz_with_gravity_9.81_acc_standard\", \n",
    "    download=False\n",
    ")\n",
    "\n",
    "# Print the readme (optional)\n",
    "# loader.print_readme()"
   ]
  },
  {
   "cell_type": "code",
   "execution_count": 7,
   "id": "3d817b0c-4e6b-4227-9b48-cd23c3df190d",
   "metadata": {
    "execution": {
     "iopub.execute_input": "2023-01-04T11:34:43.130630Z",
     "iopub.status.busy": "2023-01-04T11:34:43.130402Z",
     "iopub.status.idle": "2023-01-04T11:34:43.797011Z",
     "shell.execute_reply": "2023-01-04T11:34:43.796162Z",
     "shell.execute_reply.started": "2023-01-04T11:34:43.130608Z"
    }
   },
   "outputs": [
    {
     "data": {
      "text/plain": [
       "(PandasMultiModalDataset: samples=4020, features=360, no. window=6, label_columns='standard activity code',\n",
       " PandasMultiModalDataset: samples=1020, features=360, no. window=6, label_columns='standard activity code')"
      ]
     },
     "execution_count": 7,
     "metadata": {},
     "output_type": "execute_result"
    }
   ],
   "source": [
    "# Load the dataset\n",
    "# If concat_train_validation is true, return a tuple (train+validation, test)\n",
    "train_val, test = loader.load(concat_train_validation=True, label=loader.standard_label)\n",
    "train_val, test"
   ]
  },
  {
   "cell_type": "code",
   "execution_count": 8,
   "id": "9491b1e0-0b60-439c-9bed-ea0ee7918b68",
   "metadata": {
    "execution": {
     "iopub.execute_input": "2023-01-04T11:34:43.798209Z",
     "iopub.status.busy": "2023-01-04T11:34:43.797975Z",
     "iopub.status.idle": "2023-01-04T11:34:43.876246Z",
     "shell.execute_reply": "2023-01-04T11:34:43.875171Z",
     "shell.execute_reply.started": "2023-01-04T11:34:43.798187Z"
    }
   },
   "outputs": [],
   "source": [
    "train_HD = np.array(train_val[:][0])\n",
    "train_Y = np.array(train_val[:][1])\n",
    "test_HD = np.array(test[:][0])\n",
    "test_Y = np.array(test[:][1])"
   ]
  },
  {
   "cell_type": "code",
   "execution_count": 9,
   "id": "cc4810ac-c560-4b23-9b72-481a2d0f1a91",
   "metadata": {
    "execution": {
     "iopub.execute_input": "2023-01-04T11:34:43.877390Z",
     "iopub.status.busy": "2023-01-04T11:34:43.877165Z",
     "iopub.status.idle": "2023-01-04T11:34:43.971210Z",
     "shell.execute_reply": "2023-01-04T11:34:43.969986Z",
     "shell.execute_reply.started": "2023-01-04T11:34:43.877367Z"
    }
   },
   "outputs": [
    {
     "name": "stdout",
     "output_type": "stream",
     "text": [
      "(4020, 360) (4020,) (1020, 360) (1020,)\n"
     ]
    }
   ],
   "source": [
    "print(train_HD.shape, train_Y.shape, test_HD.shape, test_Y.shape)"
   ]
  },
  {
   "cell_type": "markdown",
   "id": "4c93d061-6ea0-418b-b690-2d977f6297c9",
   "metadata": {},
   "source": [
    "# Aplicar FFT"
   ]
  },
  {
   "cell_type": "code",
   "execution_count": 10,
   "id": "e5255de5-0259-404a-a2d8-507ad4f2ee2f",
   "metadata": {
    "execution": {
     "iopub.execute_input": "2023-01-04T11:34:43.972960Z",
     "iopub.status.busy": "2023-01-04T11:34:43.972652Z",
     "iopub.status.idle": "2023-01-04T11:34:44.045334Z",
     "shell.execute_reply": "2023-01-04T11:34:44.044320Z",
     "shell.execute_reply.started": "2023-01-04T11:34:43.972929Z"
    }
   },
   "outputs": [],
   "source": [
    "fft_transform = FFT(centered = True)\n",
    "transformer = TransformMultiModalDataset(\n",
    "    transforms=[fft_transform],\n",
    "    new_window_name_prefix=\"fft.\"\n",
    ")"
   ]
  },
  {
   "cell_type": "code",
   "execution_count": 11,
   "id": "29195f38-f8a9-4167-937f-d3f98ddc7642",
   "metadata": {
    "execution": {
     "iopub.execute_input": "2023-01-04T11:34:44.046955Z",
     "iopub.status.busy": "2023-01-04T11:34:44.046648Z",
     "iopub.status.idle": "2023-01-04T11:34:44.529605Z",
     "shell.execute_reply": "2023-01-04T11:34:44.528705Z",
     "shell.execute_reply.started": "2023-01-04T11:34:44.046924Z"
    }
   },
   "outputs": [],
   "source": [
    "train_dataset_fft = transformer(train_val)\n",
    "test_dataset_fft = transformer(test)"
   ]
  },
  {
   "cell_type": "code",
   "execution_count": 12,
   "id": "3c8cfc25-0323-498a-931d-1249078f2796",
   "metadata": {
    "execution": {
     "iopub.execute_input": "2023-01-04T11:34:44.530791Z",
     "iopub.status.busy": "2023-01-04T11:34:44.530567Z",
     "iopub.status.idle": "2023-01-04T11:34:44.589467Z",
     "shell.execute_reply": "2023-01-04T11:34:44.588543Z",
     "shell.execute_reply.started": "2023-01-04T11:34:44.530769Z"
    }
   },
   "outputs": [
    {
     "name": "stdout",
     "output_type": "stream",
     "text": [
      "(4020, 180)\n",
      "(1020, 180)\n"
     ]
    }
   ],
   "source": [
    "print(train_dataset_fft.X.shape)\n",
    "print(test_dataset_fft.X.shape)"
   ]
  },
  {
   "cell_type": "code",
   "execution_count": 13,
   "id": "d413cc20-e5b5-4594-b1f7-f11153c00c5f",
   "metadata": {
    "execution": {
     "iopub.execute_input": "2023-01-04T11:34:44.590645Z",
     "iopub.status.busy": "2023-01-04T11:34:44.590423Z",
     "iopub.status.idle": "2023-01-04T11:34:44.662838Z",
     "shell.execute_reply": "2023-01-04T11:34:44.661867Z",
     "shell.execute_reply.started": "2023-01-04T11:34:44.590623Z"
    }
   },
   "outputs": [
    {
     "name": "stdout",
     "output_type": "stream",
     "text": [
      "797.3368276806895\n"
     ]
    }
   ],
   "source": [
    "print(np.max(train_dataset_fft.X))"
   ]
  },
  {
   "cell_type": "code",
   "execution_count": 14,
   "id": "fea2e105-a571-4a2f-ac76-096b08a6ef2f",
   "metadata": {
    "execution": {
     "iopub.execute_input": "2023-01-04T11:34:44.664840Z",
     "iopub.status.busy": "2023-01-04T11:34:44.664527Z",
     "iopub.status.idle": "2023-01-04T11:34:44.728430Z",
     "shell.execute_reply": "2023-01-04T11:34:44.727537Z",
     "shell.execute_reply.started": "2023-01-04T11:34:44.664809Z"
    }
   },
   "outputs": [],
   "source": [
    "train_HD = train_dataset_fft.X\n",
    "train_LD = None\n",
    "train_Y = train_dataset_fft.y\n",
    "test_HD = test_dataset_fft.X\n",
    "test_LD = None\n",
    "test_Y = test_dataset_fft.y"
   ]
  },
  {
   "cell_type": "code",
   "execution_count": 15,
   "id": "ee13aef1-77c7-42a9-930b-b1a56f980d25",
   "metadata": {
    "execution": {
     "iopub.execute_input": "2023-01-04T11:34:44.729546Z",
     "iopub.status.busy": "2023-01-04T11:34:44.729329Z",
     "iopub.status.idle": "2023-01-04T11:34:44.795358Z",
     "shell.execute_reply": "2023-01-04T11:34:44.794445Z",
     "shell.execute_reply.started": "2023-01-04T11:34:44.729525Z"
    }
   },
   "outputs": [
    {
     "name": "stdout",
     "output_type": "stream",
     "text": [
      "(4020, 180) (4020,) (1020, 180) (1020,)\n"
     ]
    }
   ],
   "source": [
    "print(train_HD.shape, train_Y.shape, test_HD.shape, test_Y.shape)"
   ]
  },
  {
   "cell_type": "markdown",
   "id": "6fbc472d-1bf4-4c67-b0b1-d567ebf77708",
   "metadata": {},
   "source": [
    "## Preparing for evaluation"
   ]
  },
  {
   "cell_type": "markdown",
   "id": "5c8016f9-3ffd-489d-aed6-3b749b762132",
   "metadata": {},
   "source": [
    "### Reporter"
   ]
  },
  {
   "cell_type": "code",
   "execution_count": 16,
   "id": "e83c38ad-ba56-4014-aca1-0c81766e386c",
   "metadata": {
    "execution": {
     "iopub.execute_input": "2023-01-04T11:34:44.797235Z",
     "iopub.status.busy": "2023-01-04T11:34:44.796574Z",
     "iopub.status.idle": "2023-01-04T11:34:44.861380Z",
     "shell.execute_reply": "2023-01-04T11:34:44.860520Z",
     "shell.execute_reply.started": "2023-01-04T11:34:44.797208Z"
    },
    "tags": []
   },
   "outputs": [],
   "source": [
    "reporter = ClassificationReport(\n",
    "    use_accuracy=True,\n",
    "    use_f1_score=True,\n",
    "    use_classification_report=False,\n",
    "    use_confusion_matrix=False,\n",
    "    plot_confusion_matrix=False\n",
    ")"
   ]
  },
  {
   "cell_type": "markdown",
   "id": "3bb710fc-f4eb-4529-9104-da60633c026d",
   "metadata": {},
   "source": [
    "### Defining experiments"
   ]
  },
  {
   "cell_type": "code",
   "execution_count": 17,
   "id": "c168fc51-01d4-4712-945c-1ed9cdac0933",
   "metadata": {
    "execution": {
     "iopub.execute_input": "2023-01-04T11:34:44.862533Z",
     "iopub.status.busy": "2023-01-04T11:34:44.862314Z",
     "iopub.status.idle": "2023-01-04T11:34:44.927968Z",
     "shell.execute_reply": "2023-01-04T11:34:44.927160Z",
     "shell.execute_reply.started": "2023-01-04T11:34:44.862511Z"
    },
    "tags": []
   },
   "outputs": [],
   "source": [
    "experiments = [\n",
    "    {\n",
    "        'estimator_tag': 'RF',\n",
    "        'estimator': RandomForestClassifier,\n",
    "        'estimator_creation_kwags': {'n_estimators':100},\n",
    "        'num_runs': 10\n",
    "    },\n",
    "    {\n",
    "        'estimator_tag': 'SVC', \n",
    "        'estimator': SVC,\n",
    "        'estimator_creation_kwags': {'C': 3.0, 'kernel': \"rbf\"},\n",
    "        'num_runs': 1\n",
    "    },\n",
    "    {\n",
    "        'estimator_tag': 'KNN',\n",
    "        'estimator': KNeighborsClassifier,\n",
    "        'estimator_creation_kwags': {'n_neighbors' :1},\n",
    "        'num_runs': 1\n",
    "    }\n",
    "]"
   ]
  },
  {
   "cell_type": "markdown",
   "id": "d49f04a7-fe78-4692-b571-44911744a350",
   "metadata": {},
   "source": [
    "## Reading model"
   ]
  },
  {
   "cell_type": "code",
   "execution_count": 18,
   "id": "caa2cead-2de4-4c0a-b585-5376c40571ed",
   "metadata": {
    "execution": {
     "iopub.execute_input": "2023-01-04T11:34:44.930096Z",
     "iopub.status.busy": "2023-01-04T11:34:44.929742Z",
     "iopub.status.idle": "2023-01-04T11:51:30.143411Z",
     "shell.execute_reply": "2023-01-04T11:51:30.142330Z",
     "shell.execute_reply.started": "2023-01-04T11:34:44.930063Z"
    },
    "tags": []
   },
   "outputs": [
    {
     "data": {
      "application/vnd.jupyter.widget-view+json": {
       "model_id": "dbc62cf4e3254daa879835d8f755fbef",
       "version_major": 2,
       "version_minor": 0
      },
      "text/plain": [
       "  0%|          | 0/1 [00:00<?, ?it/s]"
      ]
     },
     "metadata": {},
     "output_type": "display_data"
    },
    {
     "data": {
      "application/vnd.jupyter.widget-view+json": {
       "model_id": "571f2e4ab7d742dab988baf612f6fa06",
       "version_major": 2,
       "version_minor": 0
      },
      "text/plain": [
       "  0%|          | 0/6 [00:00<?, ?it/s]"
      ]
     },
     "metadata": {},
     "output_type": "display_data"
    },
    {
     "data": {
      "application/vnd.jupyter.widget-view+json": {
       "model_id": "b08c419fa1e5411fa94e54f69ece6285",
       "version_major": 2,
       "version_minor": 0
      },
      "text/plain": [
       "  0%|          | 0/20 [00:00<?, ?it/s]"
      ]
     },
     "metadata": {},
     "output_type": "display_data"
    },
    {
     "data": {
      "application/vnd.jupyter.widget-view+json": {
       "model_id": "c510644c1116417682df52ead6b7b29a",
       "version_major": 2,
       "version_minor": 0
      },
      "text/plain": [
       "  0%|          | 0/20 [00:00<?, ?it/s]"
      ]
     },
     "metadata": {},
     "output_type": "display_data"
    },
    {
     "data": {
      "application/vnd.jupyter.widget-view+json": {
       "model_id": "a0bb5792945e441fb100c814bbc53f3b",
       "version_major": 2,
       "version_minor": 0
      },
      "text/plain": [
       "  0%|          | 0/20 [00:00<?, ?it/s]"
      ]
     },
     "metadata": {},
     "output_type": "display_data"
    },
    {
     "data": {
      "application/vnd.jupyter.widget-view+json": {
       "model_id": "75149e0151894ced9614b435e9b61a3c",
       "version_major": 2,
       "version_minor": 0
      },
      "text/plain": [
       "  0%|          | 0/20 [00:00<?, ?it/s]"
      ]
     },
     "metadata": {},
     "output_type": "display_data"
    },
    {
     "data": {
      "application/vnd.jupyter.widget-view+json": {
       "model_id": "cf7984f1ff134512a532ac41b323e3a1",
       "version_major": 2,
       "version_minor": 0
      },
      "text/plain": [
       "  0%|          | 0/20 [00:00<?, ?it/s]"
      ]
     },
     "metadata": {},
     "output_type": "display_data"
    },
    {
     "data": {
      "application/vnd.jupyter.widget-view+json": {
       "model_id": "4c1bd298f5f340429aa802d0695f5fe4",
       "version_major": 2,
       "version_minor": 0
      },
      "text/plain": [
       "  0%|          | 0/20 [00:00<?, ?it/s]"
      ]
     },
     "metadata": {},
     "output_type": "display_data"
    }
   ],
   "source": [
    "import pickle\n",
    "model_name = 'ConvolutionalAutoencoder_custom_dim3'\n",
    "model_lambdas = [0.01, 0.1, 0, 1, 10, 100]\n",
    "model_startdim = 180\n",
    "model_latentdim = 10\n",
    "model_epochs = list(range(250, 5001, 250))\n",
    "model_ids = list(range(15, 35))\n",
    "model_ids = [14]\n",
    "for id_used in tqdm(model_ids):\n",
    "    for lambda_used in tqdm(model_lambdas):\n",
    "        experiments_result = {\n",
    "            'model_name':model_name,\n",
    "            'model_lambda': lambda_used,\n",
    "            'results': []\n",
    "        }\n",
    "        for epoch_used in tqdm(model_epochs):\n",
    "            filename = 'data/{}_{}_180-10_5000_{}.pkl'.format(model_name, lambda_used, id_used)\n",
    "            filehandler = open(filename, 'rb')\n",
    "            model_reducer = pickle.load(filehandler)\n",
    "            filehandler.close()\n",
    "            model_reducer.partial_load(epoch_used)\n",
    "            train_LD = model_reducer.transform(train_HD)\n",
    "            test_LD = model_reducer.transform(test_HD)\n",
    "            train_LD = np.reshape(train_LD, (-1, model_latentdim))\n",
    "            test_LD = np.reshape(test_LD, (-1, model_latentdim))\n",
    "            eval_obj = {}\n",
    "            for experiment in experiments:\n",
    "                simple_workflow = SimpleTrainEvalWorkflow(\n",
    "                    estimator=experiment['estimator'],\n",
    "                    estimator_creation_kwags=experiment['estimator_creation_kwags'],\n",
    "                    evaluator=reporter\n",
    "                )\n",
    "                multi_run_experiment = MultiRunWorkflow(\n",
    "                    workflow=simple_workflow,\n",
    "                    num_runs=experiment['num_runs']\n",
    "                )\n",
    "                result = multi_run_experiment(\n",
    "                    ArrayMultiModalDataset(train_LD, train_Y, window_slices=[]),\n",
    "                    ArrayMultiModalDataset(test_LD, test_Y, window_slices=[])\n",
    "                )\n",
    "                eval_obj[experiment['estimator_tag']+'-ACC'] = [run['result'][0]['accuracy'] for run in result['runs']]\n",
    "                eval_obj[experiment['estimator_tag']+'-F1'] = [run['result'][0]['f1 score (weighted)'] for run in result['runs']]\n",
    "            experiments_result['results'].append((epoch_used, eval_obj))\n",
    "        filename_to_save = 'data_eval/{}_{}_180-10_5000_{}.acc_f1.pkl'.format(model_name, lambda_used, id_used)\n",
    "        filehandler = open(filename_to_save, 'wb')\n",
    "        pickle.dump(experiments_result, filehandler)\n",
    "        filehandler.close()"
   ]
  },
  {
   "cell_type": "code",
   "execution_count": 19,
   "id": "60358460-6e6f-4fff-895c-7dcd7e6e8fec",
   "metadata": {
    "execution": {
     "iopub.execute_input": "2023-01-04T11:51:30.146043Z",
     "iopub.status.busy": "2023-01-04T11:51:30.145663Z",
     "iopub.status.idle": "2023-01-04T11:51:30.226665Z",
     "shell.execute_reply": "2023-01-04T11:51:30.225719Z",
     "shell.execute_reply.started": "2023-01-04T11:51:30.146006Z"
    },
    "tags": []
   },
   "outputs": [
    {
     "name": "stdout",
     "output_type": "stream",
     "text": [
      "(500, {'RF-ACC': [0.9009803921568628, 0.9009803921568628, 0.9019607843137255, 0.9019607843137255, 0.907843137254902, 0.9049019607843137, 0.907843137254902, 0.9009803921568628, 0.903921568627451, 0.8980392156862745], 'RF-F1': [0.901185828761331, 0.901270630142591, 0.9022598076500604, 0.9023214169579444, 0.9080119615745122, 0.9051018758390784, 0.9081805599506075, 0.9011492171870802, 0.9040893654799241, 0.8985282726434471], 'SVC-ACC': [0.9019607843137255], 'SVC-F1': [0.9026034835419132], 'KNN-ACC': [0.8607843137254902], 'KNN-F1': [0.8604010709913317]})\n"
     ]
    }
   ],
   "source": [
    "filename = 'data_eval/ConvolutionalAutoencoder_custom_dim3_0.01_180-10_5000_0.acc_f1.pkl'\n",
    "filehandler = open(filename, 'rb')\n",
    "data = pickle.load(filehandler)\n",
    "print(data['results'][1])\n",
    "filehandler.close()"
   ]
  },
  {
   "cell_type": "code",
   "execution_count": 20,
   "id": "fe995a21-ae87-4a7f-9381-f4cc8ba9672a",
   "metadata": {
    "execution": {
     "iopub.execute_input": "2023-01-04T11:51:30.228146Z",
     "iopub.status.busy": "2023-01-04T11:51:30.227898Z",
     "iopub.status.idle": "2023-01-04T11:51:30.536923Z",
     "shell.execute_reply": "2023-01-04T11:51:30.526873Z",
     "shell.execute_reply.started": "2023-01-04T11:51:30.228121Z"
    }
   },
   "outputs": [
    {
     "ename": "AssertionError",
     "evalue": "",
     "output_type": "error",
     "traceback": [
      "\u001b[0;31m---------------------------------------------------------------------------\u001b[0m",
      "\u001b[0;31mAssertionError\u001b[0m                            Traceback (most recent call last)",
      "Cell \u001b[0;32mIn[20], line 1\u001b[0m\n\u001b[0;32m----> 1\u001b[0m \u001b[38;5;28;01massert\u001b[39;00m \u001b[38;5;241m1\u001b[39m\u001b[38;5;241m==\u001b[39m\u001b[38;5;241m0\u001b[39m\n",
      "\u001b[0;31mAssertionError\u001b[0m: "
     ]
    }
   ],
   "source": [
    "assert 1==0"
   ]
  },
  {
   "cell_type": "code",
   "execution_count": null,
   "id": "61b896c7-2cf0-43ab-ab29-e5cca2314518",
   "metadata": {
    "execution": {
     "iopub.status.busy": "2023-01-04T11:51:30.537832Z",
     "iopub.status.idle": "2023-01-04T11:51:30.538171Z",
     "shell.execute_reply": "2023-01-04T11:51:30.538010Z",
     "shell.execute_reply.started": "2023-01-04T11:51:30.537993Z"
    },
    "tags": []
   },
   "outputs": [],
   "source": [
    "import pickle\n",
    "\n",
    "# Variables to reuse\n",
    "save_ids = range(5)\n",
    "model_name = 'ConvolutionalAutoencoder_custom_dim3'\n",
    "model_dim = 10\n",
    "model_epc = 500\n",
    "model_lams = [100]\n",
    "\n",
    "for model_lam in model_lams:\n",
    "    for save_id in save_ids:\n",
    "        filename = 'data/{}_{}_{}_{}_{}.pkl'.format(model_name, model_lam, model_dim, model_epc, save_id)\n",
    "        filehandler = open(filename, 'rb')\n",
    "        model_reducer = pickle.load(filehandler)\n",
    "        filehandler.close()\n",
    "        train_LD = model_reducer.transform(train_HD)\n",
    "        test_LD = model_reducer.transform(test_HD)\n",
    "        train_LD = np.reshape(train_LD, (-1, model_dim))\n",
    "        print('TRAIN LD RESHAPED', train_LD.shape)\n",
    "        test_LD = np.reshape(test_LD, (-1, model_dim))\n",
    "        print('TEST LD RESHAPED', test_LD.shape)\n",
    "        experiments_result = run_experiments(train_HD, train_LD, train_Y, test_HD, test_LD, test_Y)\n",
    "        filename_to_save = 'data/{}_{}_{}_{}_{}.acc_f1.pkl'.format(model_name, model_lam, model_dim, model_epc, save_id)\n",
    "        filehandler = open(filename_to_save, 'wb')\n",
    "        pickle.dump(experiments_result, filehandler)\n",
    "        filehandler.close()"
   ]
  }
 ],
 "metadata": {
  "kernelspec": {
   "display_name": "Python 3 (ipykernel)",
   "language": "python",
   "name": "python3"
  },
  "language_info": {
   "codemirror_mode": {
    "name": "ipython",
    "version": 3
   },
   "file_extension": ".py",
   "mimetype": "text/x-python",
   "name": "python",
   "nbconvert_exporter": "python",
   "pygments_lexer": "ipython3",
   "version": "3.8.10"
  }
 },
 "nbformat": 4,
 "nbformat_minor": 5
}
