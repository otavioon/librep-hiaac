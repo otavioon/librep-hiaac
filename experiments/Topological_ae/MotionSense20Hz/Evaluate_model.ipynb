{
 "cells": [
  {
   "cell_type": "code",
   "execution_count": 1,
   "id": "7e1630ed-63c8-4ee7-86c9-62dfb528b9a2",
   "metadata": {
    "execution": {
     "iopub.execute_input": "2022-11-29T03:05:14.406233Z",
     "iopub.status.busy": "2022-11-29T03:05:14.405841Z",
     "iopub.status.idle": "2022-11-29T03:05:14.437613Z",
     "shell.execute_reply": "2022-11-29T03:05:14.436422Z",
     "shell.execute_reply.started": "2022-11-29T03:05:14.406194Z"
    }
   },
   "outputs": [],
   "source": [
    "%load_ext autoreload\n",
    "%autoreload 2"
   ]
  },
  {
   "cell_type": "code",
   "execution_count": 2,
   "id": "2da911e3-e82f-47c9-8090-f71f453956ee",
   "metadata": {
    "execution": {
     "iopub.execute_input": "2022-11-29T03:05:14.439756Z",
     "iopub.status.busy": "2022-11-29T03:05:14.439392Z",
     "iopub.status.idle": "2022-11-29T03:05:14.479376Z",
     "shell.execute_reply": "2022-11-29T03:05:14.477888Z",
     "shell.execute_reply.started": "2022-11-29T03:05:14.439720Z"
    }
   },
   "outputs": [],
   "source": [
    "import sys\n",
    "sys.path.append(\"../../..\")"
   ]
  },
  {
   "cell_type": "code",
   "execution_count": 3,
   "id": "5f067405-ab8c-4f22-b056-ab9e1febe71c",
   "metadata": {
    "execution": {
     "iopub.execute_input": "2022-11-29T03:05:14.482704Z",
     "iopub.status.busy": "2022-11-29T03:05:14.481784Z",
     "iopub.status.idle": "2022-11-29T03:05:15.768141Z",
     "shell.execute_reply": "2022-11-29T03:05:15.766259Z",
     "shell.execute_reply.started": "2022-11-29T03:05:14.482632Z"
    }
   },
   "outputs": [],
   "source": [
    "import numpy as np\n",
    "import pandas as pd\n",
    "import matplotlib.pyplot as plt"
   ]
  },
  {
   "cell_type": "code",
   "execution_count": 4,
   "id": "cc5007e3-ef19-4658-ac7d-2a6f617bb9c6",
   "metadata": {
    "execution": {
     "iopub.execute_input": "2022-11-29T03:05:15.770600Z",
     "iopub.status.busy": "2022-11-29T03:05:15.769875Z",
     "iopub.status.idle": "2022-11-29T03:05:27.876308Z",
     "shell.execute_reply": "2022-11-29T03:05:27.874232Z",
     "shell.execute_reply.started": "2022-11-29T03:05:15.770561Z"
    }
   },
   "outputs": [
    {
     "name": "stderr",
     "output_type": "stream",
     "text": [
      "2022-11-29 03:05:24.706798: I tensorflow/core/platform/cpu_feature_guard.cc:193] This TensorFlow binary is optimized with oneAPI Deep Neural Network Library (oneDNN) to use the following CPU instructions in performance-critical operations:  AVX2 AVX512F FMA\n",
      "To enable them in other operations, rebuild TensorFlow with the appropriate compiler flags.\n",
      "2022-11-29 03:05:24.934208: W tensorflow/compiler/xla/stream_executor/platform/default/dso_loader.cc:64] Could not load dynamic library 'libcudart.so.11.0'; dlerror: libcudart.so.11.0: cannot open shared object file: No such file or directory\n",
      "2022-11-29 03:05:24.934245: I tensorflow/compiler/xla/stream_executor/cuda/cudart_stub.cc:29] Ignore above cudart dlerror if you do not have a GPU set up on your machine.\n",
      "2022-11-29 03:05:26.313820: W tensorflow/compiler/xla/stream_executor/platform/default/dso_loader.cc:64] Could not load dynamic library 'libnvinfer.so.7'; dlerror: libnvinfer.so.7: cannot open shared object file: No such file or directory\n",
      "2022-11-29 03:05:26.313950: W tensorflow/compiler/xla/stream_executor/platform/default/dso_loader.cc:64] Could not load dynamic library 'libnvinfer_plugin.so.7'; dlerror: libnvinfer_plugin.so.7: cannot open shared object file: No such file or directory\n",
      "2022-11-29 03:05:26.313966: W tensorflow/compiler/tf2tensorrt/utils/py_utils.cc:38] TF-TRT Warning: Cannot dlopen some TensorRT libraries. If you would like to use Nvidia GPU with TensorRT, please make sure the missing libraries mentioned above are installed properly.\n"
     ]
    }
   ],
   "source": [
    "from librep.datasets.har.loaders import (\n",
    "    MotionSense_BalancedView20HZ\n",
    ")"
   ]
  },
  {
   "cell_type": "code",
   "execution_count": 5,
   "id": "2f9f66b2-7b1c-4d4e-a0e3-cde9552a595a",
   "metadata": {
    "execution": {
     "iopub.execute_input": "2022-11-29T03:05:27.879757Z",
     "iopub.status.busy": "2022-11-29T03:05:27.878634Z",
     "iopub.status.idle": "2022-11-29T03:05:30.520141Z",
     "shell.execute_reply": "2022-11-29T03:05:30.518284Z",
     "shell.execute_reply.started": "2022-11-29T03:05:27.879691Z"
    }
   },
   "outputs": [],
   "source": [
    "from librep.transforms.topo_ae import (\n",
    "    TopologicalDimensionalityReduction,\n",
    "    CustomTopoDimRedTransform\n",
    ")\n",
    "from librep.transforms import UMAP\n",
    "from sklearn.manifold import TSNE\n",
    "from experiments.Topological_ae.Experiment_utils import *\n",
    "from librep.datasets.multimodal import TransformMultiModalDataset\n",
    "from librep.transforms.fft import FFT"
   ]
  },
  {
   "cell_type": "code",
   "execution_count": 6,
   "id": "85bea424-07ff-47ec-945a-aef385afe7a7",
   "metadata": {
    "execution": {
     "iopub.execute_input": "2022-11-29T03:05:30.522993Z",
     "iopub.status.busy": "2022-11-29T03:05:30.522024Z",
     "iopub.status.idle": "2022-11-29T03:05:30.621319Z",
     "shell.execute_reply": "2022-11-29T03:05:30.619314Z",
     "shell.execute_reply.started": "2022-11-29T03:05:30.522951Z"
    }
   },
   "outputs": [],
   "source": [
    "# MotionSense Loader\n",
    "loader = MotionSense_BalancedView20HZ(\n",
    "    root_dir=\"../../../data/views/MotionSense/balanced_view_20Hz_with_gravity_9.81_acc_standard\", \n",
    "    download=False\n",
    ")\n",
    "\n",
    "# Print the readme (optional)\n",
    "# loader.print_readme()"
   ]
  },
  {
   "cell_type": "code",
   "execution_count": 7,
   "id": "3d817b0c-4e6b-4227-9b48-cd23c3df190d",
   "metadata": {
    "execution": {
     "iopub.execute_input": "2022-11-29T03:05:30.627357Z",
     "iopub.status.busy": "2022-11-29T03:05:30.626590Z",
     "iopub.status.idle": "2022-11-29T03:05:31.470215Z",
     "shell.execute_reply": "2022-11-29T03:05:31.468843Z",
     "shell.execute_reply.started": "2022-11-29T03:05:30.627299Z"
    }
   },
   "outputs": [
    {
     "data": {
      "text/plain": [
       "(PandasMultiModalDataset: samples=4020, features=360, no. window=6, label_columns='standard activity code',\n",
       " PandasMultiModalDataset: samples=1020, features=360, no. window=6, label_columns='standard activity code')"
      ]
     },
     "execution_count": 7,
     "metadata": {},
     "output_type": "execute_result"
    }
   ],
   "source": [
    "# Load the dataset\n",
    "# If concat_train_validation is true, return a tuple (train+validation, test)\n",
    "train_val, test = loader.load(concat_train_validation=True, label=loader.standard_label)\n",
    "train_val, test"
   ]
  },
  {
   "cell_type": "code",
   "execution_count": 8,
   "id": "9491b1e0-0b60-439c-9bed-ea0ee7918b68",
   "metadata": {
    "execution": {
     "iopub.execute_input": "2022-11-29T03:05:31.472594Z",
     "iopub.status.busy": "2022-11-29T03:05:31.472087Z",
     "iopub.status.idle": "2022-11-29T03:05:31.623582Z",
     "shell.execute_reply": "2022-11-29T03:05:31.622291Z",
     "shell.execute_reply.started": "2022-11-29T03:05:31.472549Z"
    }
   },
   "outputs": [],
   "source": [
    "train_HD = np.array(train_val[:][0])\n",
    "train_Y = np.array(train_val[:][1])\n",
    "test_HD = np.array(test[:][0])\n",
    "test_Y = np.array(test[:][1])"
   ]
  },
  {
   "cell_type": "code",
   "execution_count": 9,
   "id": "cc4810ac-c560-4b23-9b72-481a2d0f1a91",
   "metadata": {
    "execution": {
     "iopub.execute_input": "2022-11-29T03:05:31.625725Z",
     "iopub.status.busy": "2022-11-29T03:05:31.625079Z",
     "iopub.status.idle": "2022-11-29T03:05:31.720345Z",
     "shell.execute_reply": "2022-11-29T03:05:31.718928Z",
     "shell.execute_reply.started": "2022-11-29T03:05:31.625686Z"
    }
   },
   "outputs": [
    {
     "name": "stdout",
     "output_type": "stream",
     "text": [
      "(4020, 360) (4020,) (1020, 360) (1020,)\n"
     ]
    }
   ],
   "source": [
    "print(train_HD.shape, train_Y.shape, test_HD.shape, test_Y.shape)"
   ]
  },
  {
   "cell_type": "markdown",
   "id": "4c93d061-6ea0-418b-b690-2d977f6297c9",
   "metadata": {},
   "source": [
    "# Aplicar FFT"
   ]
  },
  {
   "cell_type": "code",
   "execution_count": 10,
   "id": "e5255de5-0259-404a-a2d8-507ad4f2ee2f",
   "metadata": {
    "execution": {
     "iopub.execute_input": "2022-11-29T03:05:31.722364Z",
     "iopub.status.busy": "2022-11-29T03:05:31.721972Z",
     "iopub.status.idle": "2022-11-29T03:05:31.815627Z",
     "shell.execute_reply": "2022-11-29T03:05:31.813965Z",
     "shell.execute_reply.started": "2022-11-29T03:05:31.722329Z"
    }
   },
   "outputs": [],
   "source": [
    "fft_transform = FFT(centered = True)\n",
    "transformer = TransformMultiModalDataset(\n",
    "    transforms=[fft_transform],\n",
    "    new_window_name_prefix=\"fft.\"\n",
    ")"
   ]
  },
  {
   "cell_type": "code",
   "execution_count": 11,
   "id": "29195f38-f8a9-4167-937f-d3f98ddc7642",
   "metadata": {
    "execution": {
     "iopub.execute_input": "2022-11-29T03:05:31.817890Z",
     "iopub.status.busy": "2022-11-29T03:05:31.817268Z",
     "iopub.status.idle": "2022-11-29T03:05:32.554691Z",
     "shell.execute_reply": "2022-11-29T03:05:32.553178Z",
     "shell.execute_reply.started": "2022-11-29T03:05:31.817852Z"
    }
   },
   "outputs": [],
   "source": [
    "train_dataset_fft = transformer(train_val)\n",
    "test_dataset_fft = transformer(test)"
   ]
  },
  {
   "cell_type": "code",
   "execution_count": 12,
   "id": "3c8cfc25-0323-498a-931d-1249078f2796",
   "metadata": {
    "execution": {
     "iopub.execute_input": "2022-11-29T03:05:32.557248Z",
     "iopub.status.busy": "2022-11-29T03:05:32.556585Z",
     "iopub.status.idle": "2022-11-29T03:05:32.662887Z",
     "shell.execute_reply": "2022-11-29T03:05:32.661410Z",
     "shell.execute_reply.started": "2022-11-29T03:05:32.557203Z"
    }
   },
   "outputs": [
    {
     "name": "stdout",
     "output_type": "stream",
     "text": [
      "(4020, 180)\n",
      "(1020, 180)\n"
     ]
    }
   ],
   "source": [
    "print(train_dataset_fft.X.shape)\n",
    "print(test_dataset_fft.X.shape)"
   ]
  },
  {
   "cell_type": "code",
   "execution_count": 13,
   "id": "d413cc20-e5b5-4594-b1f7-f11153c00c5f",
   "metadata": {
    "execution": {
     "iopub.execute_input": "2022-11-29T03:05:32.665439Z",
     "iopub.status.busy": "2022-11-29T03:05:32.664888Z",
     "iopub.status.idle": "2022-11-29T03:05:32.762593Z",
     "shell.execute_reply": "2022-11-29T03:05:32.761067Z",
     "shell.execute_reply.started": "2022-11-29T03:05:32.665383Z"
    }
   },
   "outputs": [
    {
     "name": "stdout",
     "output_type": "stream",
     "text": [
      "797.3368276806895\n"
     ]
    }
   ],
   "source": [
    "print(np.max(train_dataset_fft.X))"
   ]
  },
  {
   "cell_type": "code",
   "execution_count": 14,
   "id": "fea2e105-a571-4a2f-ac76-096b08a6ef2f",
   "metadata": {
    "execution": {
     "iopub.execute_input": "2022-11-29T03:05:32.765874Z",
     "iopub.status.busy": "2022-11-29T03:05:32.765083Z",
     "iopub.status.idle": "2022-11-29T03:05:32.861527Z",
     "shell.execute_reply": "2022-11-29T03:05:32.859829Z",
     "shell.execute_reply.started": "2022-11-29T03:05:32.765803Z"
    }
   },
   "outputs": [],
   "source": [
    "train_HD = train_dataset_fft.X\n",
    "train_LD = None\n",
    "train_Y = train_dataset_fft.y\n",
    "test_HD = test_dataset_fft.X\n",
    "test_LD = None\n",
    "test_Y = test_dataset_fft.y"
   ]
  },
  {
   "cell_type": "code",
   "execution_count": 15,
   "id": "ee13aef1-77c7-42a9-930b-b1a56f980d25",
   "metadata": {
    "execution": {
     "iopub.execute_input": "2022-11-29T03:05:32.863491Z",
     "iopub.status.busy": "2022-11-29T03:05:32.863102Z",
     "iopub.status.idle": "2022-11-29T03:05:32.956617Z",
     "shell.execute_reply": "2022-11-29T03:05:32.955502Z",
     "shell.execute_reply.started": "2022-11-29T03:05:32.863457Z"
    }
   },
   "outputs": [
    {
     "name": "stdout",
     "output_type": "stream",
     "text": [
      "(4020, 180) (4020,) (1020, 180) (1020,)\n"
     ]
    }
   ],
   "source": [
    "print(train_HD.shape, train_Y.shape, test_HD.shape, test_Y.shape)"
   ]
  },
  {
   "cell_type": "markdown",
   "id": "d49f04a7-fe78-4692-b571-44911744a350",
   "metadata": {},
   "source": [
    "## Reading model"
   ]
  },
  {
   "cell_type": "code",
   "execution_count": 17,
   "id": "61b896c7-2cf0-43ab-ab29-e5cca2314518",
   "metadata": {
    "execution": {
     "iopub.execute_input": "2022-11-29T03:15:21.837356Z",
     "iopub.status.busy": "2022-11-29T03:15:21.836473Z",
     "iopub.status.idle": "2022-11-29T03:16:43.371441Z",
     "shell.execute_reply": "2022-11-29T03:16:43.369612Z",
     "shell.execute_reply.started": "2022-11-29T03:15:21.837283Z"
    },
    "tags": []
   },
   "outputs": [
    {
     "name": "stdout",
     "output_type": "stream",
     "text": [
      "TRAIN LD RESHAPED (4020, 10)\n",
      "TEST LD RESHAPED (1020, 10)\n",
      "TRAIN LD RESHAPED (4020, 10)\n",
      "TEST LD RESHAPED (1020, 10)\n",
      "TRAIN LD RESHAPED (4020, 10)\n",
      "TEST LD RESHAPED (1020, 10)\n",
      "TRAIN LD RESHAPED (4020, 10)\n",
      "TEST LD RESHAPED (1020, 10)\n",
      "TRAIN LD RESHAPED (4020, 10)\n",
      "TEST LD RESHAPED (1020, 10)\n"
     ]
    }
   ],
   "source": [
    "import pickle\n",
    "\n",
    "# Variables to reuse\n",
    "save_ids = range(5)\n",
    "model_name = 'ConvolutionalAutoencoder_custom_dim3'\n",
    "model_dim = 10\n",
    "model_epc = 500\n",
    "model_lams = [100]\n",
    "\n",
    "for model_lam in model_lams:\n",
    "    for save_id in save_ids:\n",
    "        filename = 'data/{}_{}_{}_{}_{}.pkl'.format(model_name, model_lam, model_dim, model_epc, save_id)\n",
    "        filehandler = open(filename, 'rb')\n",
    "        model_reducer = pickle.load(filehandler)\n",
    "        filehandler.close()\n",
    "        train_LD = model_reducer.transform(train_HD)\n",
    "        test_LD = model_reducer.transform(test_HD)\n",
    "        train_LD = np.reshape(train_LD, (-1, model_dim))\n",
    "        print('TRAIN LD RESHAPED', train_LD.shape)\n",
    "        test_LD = np.reshape(test_LD, (-1, model_dim))\n",
    "        print('TEST LD RESHAPED', test_LD.shape)\n",
    "        experiments_result = run_experiments(train_HD, train_LD, train_Y, test_HD, test_LD, test_Y)\n",
    "        filename_to_save = 'data/{}_{}_{}_{}_{}.acc_f1.pkl'.format(model_name, model_lam, model_dim, model_epc, save_id)\n",
    "        filehandler = open(filename_to_save, 'wb')\n",
    "        pickle.dump(experiments_result, filehandler)\n",
    "        filehandler.close()"
   ]
  }
 ],
 "metadata": {
  "kernelspec": {
   "display_name": "Python 3 (ipykernel)",
   "language": "python",
   "name": "python3"
  },
  "language_info": {
   "codemirror_mode": {
    "name": "ipython",
    "version": 3
   },
   "file_extension": ".py",
   "mimetype": "text/x-python",
   "name": "python",
   "nbconvert_exporter": "python",
   "pygments_lexer": "ipython3",
   "version": "3.8.10"
  }
 },
 "nbformat": 4,
 "nbformat_minor": 5
}
