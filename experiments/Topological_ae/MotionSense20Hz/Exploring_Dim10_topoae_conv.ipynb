{
 "cells": [
  {
   "cell_type": "code",
   "execution_count": 1,
   "id": "7e1630ed-63c8-4ee7-86c9-62dfb528b9a2",
   "metadata": {
    "execution": {
     "iopub.execute_input": "2022-11-28T18:42:02.854077Z",
     "iopub.status.busy": "2022-11-28T18:42:02.853680Z",
     "iopub.status.idle": "2022-11-28T18:42:02.880838Z",
     "shell.execute_reply": "2022-11-28T18:42:02.879404Z",
     "shell.execute_reply.started": "2022-11-28T18:42:02.854037Z"
    }
   },
   "outputs": [],
   "source": [
    "%load_ext autoreload\n",
    "%autoreload 2"
   ]
  },
  {
   "cell_type": "code",
   "execution_count": 2,
   "id": "2da911e3-e82f-47c9-8090-f71f453956ee",
   "metadata": {
    "execution": {
     "iopub.execute_input": "2022-11-28T18:42:02.882628Z",
     "iopub.status.busy": "2022-11-28T18:42:02.882244Z",
     "iopub.status.idle": "2022-11-28T18:42:02.921679Z",
     "shell.execute_reply": "2022-11-28T18:42:02.919832Z",
     "shell.execute_reply.started": "2022-11-28T18:42:02.882593Z"
    }
   },
   "outputs": [],
   "source": [
    "import sys\n",
    "sys.path.append(\"../../..\")"
   ]
  },
  {
   "cell_type": "code",
   "execution_count": 3,
   "id": "5f067405-ab8c-4f22-b056-ab9e1febe71c",
   "metadata": {
    "execution": {
     "iopub.execute_input": "2022-11-28T18:42:02.924650Z",
     "iopub.status.busy": "2022-11-28T18:42:02.923986Z",
     "iopub.status.idle": "2022-11-28T18:42:04.092416Z",
     "shell.execute_reply": "2022-11-28T18:42:04.090477Z",
     "shell.execute_reply.started": "2022-11-28T18:42:02.924589Z"
    }
   },
   "outputs": [],
   "source": [
    "import numpy as np\n",
    "import pandas as pd\n",
    "import matplotlib.pyplot as plt"
   ]
  },
  {
   "cell_type": "code",
   "execution_count": 4,
   "id": "cc5007e3-ef19-4658-ac7d-2a6f617bb9c6",
   "metadata": {
    "execution": {
     "iopub.execute_input": "2022-11-28T18:42:04.097294Z",
     "iopub.status.busy": "2022-11-28T18:42:04.095386Z",
     "iopub.status.idle": "2022-11-28T18:42:15.472506Z",
     "shell.execute_reply": "2022-11-28T18:42:15.471031Z",
     "shell.execute_reply.started": "2022-11-28T18:42:04.097215Z"
    }
   },
   "outputs": [
    {
     "name": "stderr",
     "output_type": "stream",
     "text": [
      "2022-11-28 18:42:12.626831: I tensorflow/core/platform/cpu_feature_guard.cc:193] This TensorFlow binary is optimized with oneAPI Deep Neural Network Library (oneDNN) to use the following CPU instructions in performance-critical operations:  AVX2 AVX512F FMA\n",
      "To enable them in other operations, rebuild TensorFlow with the appropriate compiler flags.\n",
      "2022-11-28 18:42:12.860102: W tensorflow/compiler/xla/stream_executor/platform/default/dso_loader.cc:64] Could not load dynamic library 'libcudart.so.11.0'; dlerror: libcudart.so.11.0: cannot open shared object file: No such file or directory\n",
      "2022-11-28 18:42:12.860143: I tensorflow/compiler/xla/stream_executor/cuda/cudart_stub.cc:29] Ignore above cudart dlerror if you do not have a GPU set up on your machine.\n",
      "2022-11-28 18:42:14.079380: W tensorflow/compiler/xla/stream_executor/platform/default/dso_loader.cc:64] Could not load dynamic library 'libnvinfer.so.7'; dlerror: libnvinfer.so.7: cannot open shared object file: No such file or directory\n",
      "2022-11-28 18:42:14.079512: W tensorflow/compiler/xla/stream_executor/platform/default/dso_loader.cc:64] Could not load dynamic library 'libnvinfer_plugin.so.7'; dlerror: libnvinfer_plugin.so.7: cannot open shared object file: No such file or directory\n",
      "2022-11-28 18:42:14.079527: W tensorflow/compiler/tf2tensorrt/utils/py_utils.cc:38] TF-TRT Warning: Cannot dlopen some TensorRT libraries. If you would like to use Nvidia GPU with TensorRT, please make sure the missing libraries mentioned above are installed properly.\n"
     ]
    }
   ],
   "source": [
    "from librep.datasets.har.loaders import (\n",
    "    MotionSense_BalancedView20HZ\n",
    ")"
   ]
  },
  {
   "cell_type": "code",
   "execution_count": 5,
   "id": "2f9f66b2-7b1c-4d4e-a0e3-cde9552a595a",
   "metadata": {
    "execution": {
     "iopub.execute_input": "2022-11-28T18:42:15.478019Z",
     "iopub.status.busy": "2022-11-28T18:42:15.477272Z",
     "iopub.status.idle": "2022-11-28T18:42:17.921481Z",
     "shell.execute_reply": "2022-11-28T18:42:17.919459Z",
     "shell.execute_reply.started": "2022-11-28T18:42:15.477973Z"
    }
   },
   "outputs": [],
   "source": [
    "from librep.transforms.topo_ae import (\n",
    "    TopologicalDimensionalityReduction,\n",
    "    CustomTopoDimRedTransform\n",
    ")\n",
    "from librep.transforms import UMAP\n",
    "from sklearn.manifold import TSNE\n",
    "from experiments.Topological_ae.Experiment_utils import *\n",
    "from librep.datasets.multimodal import TransformMultiModalDataset\n",
    "from librep.transforms.fft import FFT"
   ]
  },
  {
   "cell_type": "code",
   "execution_count": 6,
   "id": "85bea424-07ff-47ec-945a-aef385afe7a7",
   "metadata": {
    "execution": {
     "iopub.execute_input": "2022-11-28T18:42:18.035251Z",
     "iopub.status.busy": "2022-11-28T18:42:18.034854Z",
     "iopub.status.idle": "2022-11-28T18:42:18.134492Z",
     "shell.execute_reply": "2022-11-28T18:42:18.132997Z",
     "shell.execute_reply.started": "2022-11-28T18:42:18.035216Z"
    }
   },
   "outputs": [],
   "source": [
    "# MotionSense Loader\n",
    "loader = MotionSense_BalancedView20HZ(\n",
    "    root_dir=\"../../../data/views/MotionSense/balanced_view_20Hz_with_gravity_9.81_acc_standard\", \n",
    "    download=False\n",
    ")\n",
    "\n",
    "# Print the readme (optional)\n",
    "# loader.print_readme()"
   ]
  },
  {
   "cell_type": "code",
   "execution_count": 7,
   "id": "3d817b0c-4e6b-4227-9b48-cd23c3df190d",
   "metadata": {
    "execution": {
     "iopub.execute_input": "2022-11-28T18:42:18.229888Z",
     "iopub.status.busy": "2022-11-28T18:42:18.229327Z",
     "iopub.status.idle": "2022-11-28T18:42:20.188600Z",
     "shell.execute_reply": "2022-11-28T18:42:20.186952Z",
     "shell.execute_reply.started": "2022-11-28T18:42:18.229852Z"
    }
   },
   "outputs": [
    {
     "data": {
      "text/plain": [
       "(PandasMultiModalDataset: samples=4020, features=360, no. window=6, label_columns='standard activity code',\n",
       " PandasMultiModalDataset: samples=1020, features=360, no. window=6, label_columns='standard activity code')"
      ]
     },
     "execution_count": 7,
     "metadata": {},
     "output_type": "execute_result"
    }
   ],
   "source": [
    "# Load the dataset\n",
    "# If concat_train_validation is true, return a tuple (train+validation, test)\n",
    "train_val, test = loader.load(concat_train_validation=True, label=loader.standard_label)\n",
    "train_val, test"
   ]
  },
  {
   "cell_type": "code",
   "execution_count": 8,
   "id": "9491b1e0-0b60-439c-9bed-ea0ee7918b68",
   "metadata": {
    "execution": {
     "iopub.execute_input": "2022-11-28T18:42:20.283797Z",
     "iopub.status.busy": "2022-11-28T18:42:20.283425Z",
     "iopub.status.idle": "2022-11-28T18:42:20.415687Z",
     "shell.execute_reply": "2022-11-28T18:42:20.413773Z",
     "shell.execute_reply.started": "2022-11-28T18:42:20.283764Z"
    }
   },
   "outputs": [],
   "source": [
    "train_HD = np.array(train_val[:][0])\n",
    "train_Y = np.array(train_val[:][1])\n",
    "test_HD = np.array(test[:][0])\n",
    "test_Y = np.array(test[:][1])"
   ]
  },
  {
   "cell_type": "code",
   "execution_count": 9,
   "id": "cc4810ac-c560-4b23-9b72-481a2d0f1a91",
   "metadata": {
    "execution": {
     "iopub.execute_input": "2022-11-28T18:42:20.540719Z",
     "iopub.status.busy": "2022-11-28T18:42:20.540027Z",
     "iopub.status.idle": "2022-11-28T18:42:20.652707Z",
     "shell.execute_reply": "2022-11-28T18:42:20.650774Z",
     "shell.execute_reply.started": "2022-11-28T18:42:20.540673Z"
    }
   },
   "outputs": [
    {
     "name": "stdout",
     "output_type": "stream",
     "text": [
      "(4020, 360) (4020,) (1020, 360) (1020,)\n"
     ]
    }
   ],
   "source": [
    "print(train_HD.shape, train_Y.shape, test_HD.shape, test_Y.shape)"
   ]
  },
  {
   "cell_type": "markdown",
   "id": "4c93d061-6ea0-418b-b690-2d977f6297c9",
   "metadata": {},
   "source": [
    "# Aplicar FFT"
   ]
  },
  {
   "cell_type": "code",
   "execution_count": 10,
   "id": "e5255de5-0259-404a-a2d8-507ad4f2ee2f",
   "metadata": {
    "execution": {
     "iopub.execute_input": "2022-11-28T18:42:20.656007Z",
     "iopub.status.busy": "2022-11-28T18:42:20.655191Z",
     "iopub.status.idle": "2022-11-28T18:42:20.747762Z",
     "shell.execute_reply": "2022-11-28T18:42:20.746291Z",
     "shell.execute_reply.started": "2022-11-28T18:42:20.655941Z"
    }
   },
   "outputs": [],
   "source": [
    "fft_transform = FFT(centered = True)\n",
    "transformer = TransformMultiModalDataset(\n",
    "    transforms=[fft_transform],\n",
    "    new_window_name_prefix=\"fft.\"\n",
    ")"
   ]
  },
  {
   "cell_type": "code",
   "execution_count": 11,
   "id": "29195f38-f8a9-4167-937f-d3f98ddc7642",
   "metadata": {
    "execution": {
     "iopub.execute_input": "2022-11-28T18:42:20.749871Z",
     "iopub.status.busy": "2022-11-28T18:42:20.749278Z",
     "iopub.status.idle": "2022-11-28T18:42:21.453033Z",
     "shell.execute_reply": "2022-11-28T18:42:21.451334Z",
     "shell.execute_reply.started": "2022-11-28T18:42:20.749835Z"
    }
   },
   "outputs": [],
   "source": [
    "train_dataset_fft = transformer(train_val)\n",
    "test_dataset_fft = transformer(test)"
   ]
  },
  {
   "cell_type": "code",
   "execution_count": 12,
   "id": "3c8cfc25-0323-498a-931d-1249078f2796",
   "metadata": {
    "execution": {
     "iopub.execute_input": "2022-11-28T18:42:21.455080Z",
     "iopub.status.busy": "2022-11-28T18:42:21.454658Z",
     "iopub.status.idle": "2022-11-28T18:42:21.542393Z",
     "shell.execute_reply": "2022-11-28T18:42:21.541288Z",
     "shell.execute_reply.started": "2022-11-28T18:42:21.455044Z"
    }
   },
   "outputs": [
    {
     "name": "stdout",
     "output_type": "stream",
     "text": [
      "(4020, 180)\n",
      "(1020, 180)\n"
     ]
    }
   ],
   "source": [
    "print(train_dataset_fft.X.shape)\n",
    "print(test_dataset_fft.X.shape)"
   ]
  },
  {
   "cell_type": "code",
   "execution_count": 13,
   "id": "d413cc20-e5b5-4594-b1f7-f11153c00c5f",
   "metadata": {
    "execution": {
     "iopub.execute_input": "2022-11-28T18:42:21.544396Z",
     "iopub.status.busy": "2022-11-28T18:42:21.543842Z",
     "iopub.status.idle": "2022-11-28T18:42:21.629325Z",
     "shell.execute_reply": "2022-11-28T18:42:21.628124Z",
     "shell.execute_reply.started": "2022-11-28T18:42:21.544361Z"
    }
   },
   "outputs": [
    {
     "name": "stdout",
     "output_type": "stream",
     "text": [
      "797.3368276806895\n"
     ]
    }
   ],
   "source": [
    "print(np.max(train_dataset_fft.X))"
   ]
  },
  {
   "cell_type": "code",
   "execution_count": 14,
   "id": "fea2e105-a571-4a2f-ac76-096b08a6ef2f",
   "metadata": {
    "execution": {
     "iopub.execute_input": "2022-11-28T18:42:21.631286Z",
     "iopub.status.busy": "2022-11-28T18:42:21.630857Z",
     "iopub.status.idle": "2022-11-28T18:42:21.715869Z",
     "shell.execute_reply": "2022-11-28T18:42:21.714347Z",
     "shell.execute_reply.started": "2022-11-28T18:42:21.631249Z"
    }
   },
   "outputs": [],
   "source": [
    "train_HD = train_dataset_fft.X\n",
    "train_LD = None\n",
    "train_Y = train_dataset_fft.y\n",
    "test_HD = test_dataset_fft.X\n",
    "test_LD = None\n",
    "test_Y = test_dataset_fft.y"
   ]
  },
  {
   "cell_type": "code",
   "execution_count": 15,
   "id": "ee13aef1-77c7-42a9-930b-b1a56f980d25",
   "metadata": {
    "execution": {
     "iopub.execute_input": "2022-11-28T18:42:21.725672Z",
     "iopub.status.busy": "2022-11-28T18:42:21.725075Z",
     "iopub.status.idle": "2022-11-28T18:42:21.810262Z",
     "shell.execute_reply": "2022-11-28T18:42:21.808775Z",
     "shell.execute_reply.started": "2022-11-28T18:42:21.725634Z"
    }
   },
   "outputs": [
    {
     "name": "stdout",
     "output_type": "stream",
     "text": [
      "(4020, 180) (4020,) (1020, 180) (1020,)\n"
     ]
    }
   ],
   "source": [
    "print(train_HD.shape, train_Y.shape, test_HD.shape, test_Y.shape)"
   ]
  },
  {
   "cell_type": "markdown",
   "id": "04adbc2e-4af6-40a4-85dc-99b2336d656c",
   "metadata": {},
   "source": [
    "# Visualization helper"
   ]
  },
  {
   "cell_type": "code",
   "execution_count": 16,
   "id": "d56d7ec7-6bf5-4c32-91aa-d48a8746a71e",
   "metadata": {
    "execution": {
     "iopub.execute_input": "2022-11-28T18:42:21.919688Z",
     "iopub.status.busy": "2022-11-28T18:42:21.918712Z",
     "iopub.status.idle": "2022-11-28T18:42:22.013530Z",
     "shell.execute_reply": "2022-11-28T18:42:22.011784Z",
     "shell.execute_reply.started": "2022-11-28T18:42:21.919616Z"
    }
   },
   "outputs": [],
   "source": [
    "# 0: sit (569 train, 101 validation, 170 test)\n",
    "# 1: stand (569 train, 101 validation, 170 test)\n",
    "# 2: walk (569 train, 101 validation, 170 test)\n",
    "# 3: stair up (569 train, 101 validation, 170 test)\n",
    "# 4: stair down (569 train, 101 validation, 170 test)\n",
    "# 5: run (569 train, 101 validation, 170 test)\n",
    "def visualize(X, Y):\n",
    "    labels = ['sit', 'stand', 'walk', 'stair up', 'stair down', 'run']\n",
    "    df = pd.DataFrame(dict(x=X[:,0], y=X[:,1], label=Y))\n",
    "    groups = df.groupby('label')\n",
    "    fig, ax = plt.subplots()\n",
    "    ax.margins(0.05)\n",
    "    for name, group in groups:\n",
    "        ax.plot(group.x, group.y, marker='.', linestyle='', ms=8, label=labels[name])\n",
    "    # Shrink current axis by 20%\n",
    "    box = ax.get_position()\n",
    "    ax.set_position([box.x0, box.y0, box.width * 0.8, box.height])\n",
    "\n",
    "    # Put a legend to the right of the current axis\n",
    "    ax.legend(loc='center left', bbox_to_anchor=(1, 0.5))\n",
    "    plt.show()"
   ]
  },
  {
   "cell_type": "code",
   "execution_count": 17,
   "id": "80f4771a-da3f-407b-9fa9-b0619a129e66",
   "metadata": {
    "execution": {
     "iopub.execute_input": "2022-11-28T18:42:22.116804Z",
     "iopub.status.busy": "2022-11-28T18:42:22.116119Z",
     "iopub.status.idle": "2022-11-28T18:42:22.220360Z",
     "shell.execute_reply": "2022-11-28T18:42:22.218792Z",
     "shell.execute_reply.started": "2022-11-28T18:42:22.116758Z"
    }
   },
   "outputs": [],
   "source": [
    "# Variables to reuse\n",
    "model_dim = 10\n",
    "model_epc = 10"
   ]
  },
  {
   "cell_type": "markdown",
   "id": "0c8264b9-7756-4a8d-a8c0-18a1645b8e28",
   "metadata": {},
   "source": [
    "# Reducing with Convolutional Topological Autoencoders"
   ]
  },
  {
   "cell_type": "code",
   "execution_count": 18,
   "id": "8eefd1ec-28b6-4937-872a-ce26dc99d4ea",
   "metadata": {
    "execution": {
     "iopub.execute_input": "2022-11-28T18:42:22.321448Z",
     "iopub.status.busy": "2022-11-28T18:42:22.320766Z",
     "iopub.status.idle": "2022-11-28T18:42:24.967869Z",
     "shell.execute_reply": "2022-11-28T18:42:24.966033Z",
     "shell.execute_reply.started": "2022-11-28T18:42:22.321403Z"
    }
   },
   "outputs": [
    {
     "name": "stdout",
     "output_type": "stream",
     "text": [
      "Topologically Regularized ConvolutionalAutoencoder_custom_dim\n",
      "Using python to compute signatures\n",
      "ConvAECustomDim, Input: (1, 180) Inner dim: 10\n"
     ]
    }
   ],
   "source": [
    "model_lam = 1\n",
    "model_dim = 10\n",
    "model_epc = 1500\n",
    "topo_reducer = TopologicalDimensionalityReduction(\n",
    "    ae_model='ConvolutionalAutoencoder_custom_dim',\n",
    "    lam = model_lam,\n",
    "    ae_kwargs = {'input_dims':(1, 180), 'custom_dim':model_dim},\n",
    "    input_shape = (-1, 1, 1, 180),\n",
    "    patience = None,\n",
    "    num_epochs = model_epc\n",
    ")"
   ]
  },
  {
   "cell_type": "code",
   "execution_count": 19,
   "id": "d80ae63d-92f7-49c6-9527-212af7500573",
   "metadata": {
    "execution": {
     "iopub.execute_input": "2022-11-28T18:42:25.080951Z",
     "iopub.status.busy": "2022-11-28T18:42:25.080564Z",
     "iopub.status.idle": "2022-11-28T18:42:25.170967Z",
     "shell.execute_reply": "2022-11-28T18:42:25.169787Z",
     "shell.execute_reply.started": "2022-11-28T18:42:25.080916Z"
    }
   },
   "outputs": [
    {
     "name": "stdout",
     "output_type": "stream",
     "text": [
      "Topologically Regularized ConvolutionalAutoencoder_custom_dim\n",
      "Using python to compute signatures\n",
      "ConvAECustomDim, Input: (1, 180) Inner dim: 10\n"
     ]
    }
   ],
   "source": [
    "model_lam = 1\n",
    "topo_reducer = CustomTopoDimRedTransform(\n",
    "    model_name='ConvolutionalAutoencoder_custom_dim',\n",
    "    model_lambda=model_lam,\n",
    "    patience=None,\n",
    "    num_epochs=model_epc,\n",
    "    from_dim=180,\n",
    "    to_dim=model_dim\n",
    ")"
   ]
  },
  {
   "cell_type": "code",
   "execution_count": null,
   "id": "d46f8ff8-e7a8-42e1-9fd2-d1e9a17b8cad",
   "metadata": {
    "execution": {
     "iopub.execute_input": "2022-11-28T18:42:25.270526Z",
     "iopub.status.busy": "2022-11-28T18:42:25.269873Z"
    },
    "tags": []
   },
   "outputs": [
    {
     "name": "stderr",
     "output_type": "stream",
     "text": [
      "/home/darlinne.soto/librep-hiaac/experiments/Topological_ae/MotionSense20Hz/../../../librep/transforms/topo_ae.py:75: UserWarning: To copy construct from a tensor, it is recommended to use sourceTensor.clone().detach() or sourceTensor.clone().detach().requires_grad_(True), rather than torch.tensor(sourceTensor).\n",
      "  in_tensor = torch.tensor(reshaped_data, device=cuda0).float()\n",
      "/home/darlinne.soto/librep-hiaac/experiments/Topological_ae/MotionSense20Hz/../../../librep/transforms/topo_ae.py:87: UserWarning: To copy construct from a tensor, it is recommended to use sourceTensor.clone().detach() or sourceTensor.clone().detach().requires_grad_(True), rather than torch.tensor(sourceTensor).\n",
      "  in_tensor = torch.tensor(reshaped_data, device=cuda0).float()\n"
     ]
    },
    {
     "name": "stdout",
     "output_type": "stream",
     "text": [
      "Epoch:1, P:None, Loss:2604.6298, Loss-ae:2604.3579, Loss-topo:0.2720\n",
      "Epoch:2, P:None, Loss:2435.7174, Loss-ae:2413.8709, Loss-topo:21.8465\n",
      "Epoch:3, P:None, Loss:2187.4292, Loss-ae:2124.0901, Loss-topo:63.3391\n",
      "Epoch:4, P:None, Loss:1930.2315, Loss-ae:1841.6120, Loss-topo:88.6195\n",
      "Epoch:5, P:None, Loss:1681.0849, Loss-ae:1555.6267, Loss-topo:125.4582\n",
      "Epoch:6, P:None, Loss:1546.2941, Loss-ae:1440.8407, Loss-topo:105.4534\n",
      "Epoch:7, P:None, Loss:1474.2610, Loss-ae:1377.1883, Loss-topo:97.0727\n",
      "Epoch:8, P:None, Loss:1310.2841, Loss-ae:1263.0820, Loss-topo:47.2021\n",
      "Epoch:9, P:None, Loss:1257.3439, Loss-ae:1173.0277, Loss-topo:84.3162\n",
      "Epoch:10, P:None, Loss:1177.3939, Loss-ae:1110.7083, Loss-topo:66.6856\n",
      "Epoch:11, P:None, Loss:1138.1823, Loss-ae:1066.0505, Loss-topo:72.1317\n",
      "Epoch:12, P:None, Loss:1064.1698, Loss-ae:1007.8553, Loss-topo:56.3145\n",
      "Epoch:13, P:None, Loss:1008.4779, Loss-ae:934.6213, Loss-topo:73.8566\n",
      "Epoch:14, P:None, Loss:974.1586, Loss-ae:920.3676, Loss-topo:53.7911\n",
      "Epoch:15, P:None, Loss:969.8139, Loss-ae:918.1350, Loss-topo:51.6789\n",
      "Epoch:16, P:None, Loss:959.9944, Loss-ae:918.5251, Loss-topo:41.4692\n",
      "Epoch:17, P:None, Loss:949.2045, Loss-ae:900.9399, Loss-topo:48.2646\n",
      "Epoch:18, P:None, Loss:917.3523, Loss-ae:885.6246, Loss-topo:31.7277\n",
      "Epoch:19, P:None, Loss:925.7506, Loss-ae:884.5913, Loss-topo:41.1593\n",
      "Epoch:20, P:None, Loss:913.5129, Loss-ae:880.5804, Loss-topo:32.9325\n",
      "Epoch:21, P:None, Loss:900.4698, Loss-ae:874.0094, Loss-topo:26.4604\n",
      "Epoch:22, P:None, Loss:883.9273, Loss-ae:859.3218, Loss-topo:24.6055\n",
      "Epoch:23, P:None, Loss:905.4997, Loss-ae:872.5538, Loss-topo:32.9459\n",
      "Epoch:24, P:None, Loss:864.8090, Loss-ae:826.8508, Loss-topo:37.9581\n",
      "Epoch:25, P:None, Loss:866.6087, Loss-ae:840.9212, Loss-topo:25.6875\n",
      "Epoch:26, P:None, Loss:855.4136, Loss-ae:827.9338, Loss-topo:27.4798\n",
      "Epoch:27, P:None, Loss:849.1720, Loss-ae:823.9201, Loss-topo:25.2519\n",
      "Epoch:28, P:None, Loss:822.2412, Loss-ae:790.5026, Loss-topo:31.7386\n",
      "Epoch:29, P:None, Loss:844.8681, Loss-ae:816.6646, Loss-topo:28.2035\n"
     ]
    }
   ],
   "source": [
    "title_plot = \"MotionSense 20Hz\\nTopoAE lambda {}\".format(model_lam)\n",
    "topo_reducer.fit(train_HD, train_Y, title_plot=title_plot)"
   ]
  },
  {
   "cell_type": "code",
   "execution_count": null,
   "id": "3e98d66c-b630-493e-a3d0-6aee364a1caa",
   "metadata": {},
   "outputs": [],
   "source": [
    "train_LD = topo_reducer.transform(train_HD)\n",
    "test_LD = topo_reducer.transform(test_HD)"
   ]
  },
  {
   "cell_type": "code",
   "execution_count": null,
   "id": "4456c1f2-f856-44b5-b4c3-1c1b59781951",
   "metadata": {},
   "outputs": [],
   "source": [
    "train_LD = np.reshape(topo_reducer.transform(train_HD), (-1, model_dim))\n",
    "print('TRAIN LD RESHAPED', train_LD.shape)\n",
    "test_LD = np.reshape(topo_reducer.transform(test_HD), (-1, model_dim))\n",
    "print('TEST LD RESHAPED', test_LD.shape)"
   ]
  },
  {
   "cell_type": "code",
   "execution_count": null,
   "id": "52697960-6cb0-4f76-a033-21828d9effbd",
   "metadata": {},
   "outputs": [],
   "source": [
    "experiments_result = run_experiments(train_HD, train_LD, train_Y, test_HD, test_LD, test_Y)\n",
    "experiments_result"
   ]
  },
  {
   "cell_type": "code",
   "execution_count": null,
   "id": "97126520-db06-4926-9f62-b8382a68d077",
   "metadata": {},
   "outputs": [],
   "source": [
    "# Visualizing\n",
    "tsne = TSNE()\n",
    "test_2D = tsne.fit_transform(test_LD)\n",
    "visualize(test_2D, test_Y)"
   ]
  },
  {
   "cell_type": "markdown",
   "id": "ae1d394d-adf1-4b47-90dc-47d402fc389b",
   "metadata": {},
   "source": [
    "# Reducing with Topological Autoencoders (L=1)"
   ]
  },
  {
   "cell_type": "code",
   "execution_count": null,
   "id": "35a246d2-1000-4a0b-a833-e13b05bfaf3d",
   "metadata": {},
   "outputs": [],
   "source": [
    "model_lam = 1\n",
    "topo_reducer = CustomTopoDimRedTransform(\n",
    "    model_name='DeepAE_custom_dim2',\n",
    "    model_lambda=model_lam,\n",
    "    patience=None,\n",
    "    num_epochs=model_epc,\n",
    "    from_dim=180,\n",
    "    to_dim=model_dim\n",
    ")"
   ]
  },
  {
   "cell_type": "code",
   "execution_count": null,
   "id": "5bd10d4c-3f50-46a1-89e7-5d03513b1908",
   "metadata": {
    "tags": []
   },
   "outputs": [],
   "source": [
    "title_plot = \"MotionSense 20Hz\\nTopoAE lambda {}\".format(model_lam)\n",
    "topo_reducer.fit(train_HD, train_Y, title_plot=title_plot)"
   ]
  },
  {
   "cell_type": "code",
   "execution_count": null,
   "id": "b3455110-7d0f-4ae3-981b-dfc4d60b390b",
   "metadata": {},
   "outputs": [],
   "source": [
    "train_LD = topo_reducer.transform(train_HD)\n",
    "test_LD = topo_reducer.transform(test_HD)"
   ]
  },
  {
   "cell_type": "code",
   "execution_count": null,
   "id": "d43a5042-2a17-405a-9050-d4db3696d401",
   "metadata": {},
   "outputs": [],
   "source": [
    "train_LD = np.reshape(topo_reducer.transform(train_HD), (-1, model_dim))\n",
    "print('TRAIN LD RESHAPED', train_LD.shape)\n",
    "test_LD = np.reshape(topo_reducer.transform(test_HD), (-1, model_dim))\n",
    "print('TEST LD RESHAPED', test_LD.shape)"
   ]
  },
  {
   "cell_type": "code",
   "execution_count": null,
   "id": "91cc9431-db7f-4d90-842a-5973855211e3",
   "metadata": {},
   "outputs": [],
   "source": [
    "experiments_result = run_experiments(train_HD, train_LD, train_Y, test_HD, test_LD, test_Y)\n",
    "experiments_result"
   ]
  },
  {
   "cell_type": "code",
   "execution_count": null,
   "id": "3db0e416-dedc-42bf-ae22-3de332d7f5c5",
   "metadata": {},
   "outputs": [],
   "source": [
    "# Visualizing\n",
    "tsne = TSNE()\n",
    "test_2D = tsne.fit_transform(test_LD)\n",
    "visualize(test_2D, test_Y)"
   ]
  },
  {
   "cell_type": "markdown",
   "id": "cc62e6a4-6962-47e2-84f9-29fff5c662f3",
   "metadata": {},
   "source": [
    "# Reducing with Topological Autoencoders (L=5)"
   ]
  },
  {
   "cell_type": "code",
   "execution_count": null,
   "id": "d0eb29ec-76b3-4f98-bdd5-404e64da5c33",
   "metadata": {},
   "outputs": [],
   "source": [
    "model_lam = 5\n",
    "topo_reducer = CustomTopoDimRedTransform(\n",
    "    model_name='DeepAE_custom_dim2',\n",
    "    model_lambda=model_lam,\n",
    "    patience=None,\n",
    "    num_epochs=model_epc,\n",
    "    from_dim=180,\n",
    "    to_dim=model_dim\n",
    ")"
   ]
  },
  {
   "cell_type": "code",
   "execution_count": null,
   "id": "b8782b60-204a-4e91-a8fd-a56ab3d50a18",
   "metadata": {
    "tags": []
   },
   "outputs": [],
   "source": [
    "title_plot = \"MotionSense 20Hz\\nTopoAE lambda {}\".format(model_lam)\n",
    "topo_reducer.fit(train_HD, train_Y, title_plot=title_plot)"
   ]
  },
  {
   "cell_type": "code",
   "execution_count": null,
   "id": "0a924330-75ac-40f1-9756-b7f56c2df3e3",
   "metadata": {},
   "outputs": [],
   "source": [
    "train_LD = topo_reducer.transform(train_HD)\n",
    "test_LD = topo_reducer.transform(test_HD)"
   ]
  },
  {
   "cell_type": "code",
   "execution_count": null,
   "id": "c24a64ca-2da3-41bb-b20c-3566ae56876b",
   "metadata": {},
   "outputs": [],
   "source": [
    "train_LD = np.reshape(topo_reducer.transform(train_HD), (-1, model_dim))\n",
    "print('TRAIN LD RESHAPED', train_LD.shape)\n",
    "test_LD = np.reshape(topo_reducer.transform(test_HD), (-1, model_dim))\n",
    "print('TEST LD RESHAPED', test_LD.shape)"
   ]
  },
  {
   "cell_type": "code",
   "execution_count": null,
   "id": "0b8dac9c-8a14-41a9-8974-27708e65a385",
   "metadata": {},
   "outputs": [],
   "source": [
    "experiments_result = run_experiments(train_HD, train_LD, train_Y, test_HD, test_LD, test_Y)\n",
    "experiments_result"
   ]
  },
  {
   "cell_type": "code",
   "execution_count": null,
   "id": "260f9fad-ac7a-4e0c-986b-9b4488e9f24e",
   "metadata": {},
   "outputs": [],
   "source": [
    "# Visualizing\n",
    "tsne = TSNE()\n",
    "test_2D = tsne.fit_transform(test_LD)\n",
    "visualize(test_2D, test_Y)"
   ]
  },
  {
   "cell_type": "markdown",
   "id": "0d9003d3-7f20-4458-bcf2-29e3e96eeb2d",
   "metadata": {},
   "source": [
    "# Reducing with Topological Autoencoders (L=10)"
   ]
  },
  {
   "cell_type": "code",
   "execution_count": null,
   "id": "58053da5-5f27-4cc1-b960-a1091462f1f3",
   "metadata": {},
   "outputs": [],
   "source": [
    "model_lam = 10\n",
    "topo_reducer = CustomTopoDimRedTransform(\n",
    "    model_name='DeepAE_custom_dim2',\n",
    "    model_lambda=model_lam,\n",
    "    patience=None,\n",
    "    num_epochs=model_epc,\n",
    "    from_dim=180,\n",
    "    to_dim=model_dim\n",
    ")"
   ]
  },
  {
   "cell_type": "code",
   "execution_count": null,
   "id": "8c90b324-05ae-46ea-871b-cd1bf602cf57",
   "metadata": {
    "tags": []
   },
   "outputs": [],
   "source": [
    "title_plot = \"MotionSense 20Hz\\nTopoAE lambda {}\".format(model_lam)\n",
    "topo_reducer.fit(train_HD, train_Y, title_plot=title_plot)"
   ]
  },
  {
   "cell_type": "code",
   "execution_count": null,
   "id": "f4f32e46-bfa8-4fd9-97e4-becfe3c0c071",
   "metadata": {},
   "outputs": [],
   "source": [
    "train_LD = topo_reducer.transform(train_HD)\n",
    "test_LD = topo_reducer.transform(test_HD)"
   ]
  },
  {
   "cell_type": "code",
   "execution_count": null,
   "id": "6e2948fd-3ff5-4055-bd5d-1ea460ece54a",
   "metadata": {},
   "outputs": [],
   "source": [
    "train_LD = np.reshape(topo_reducer.transform(train_HD), (-1, model_dim))\n",
    "print('TRAIN LD RESHAPED', train_LD.shape)\n",
    "test_LD = np.reshape(topo_reducer.transform(test_HD), (-1, model_dim))\n",
    "print('TEST LD RESHAPED', test_LD.shape)"
   ]
  },
  {
   "cell_type": "code",
   "execution_count": null,
   "id": "92f48f0c-8167-4f92-b5e3-41026aeca3e9",
   "metadata": {},
   "outputs": [],
   "source": [
    "experiments_result = run_experiments(train_HD, train_LD, train_Y, test_HD, test_LD, test_Y)\n",
    "experiments_result"
   ]
  },
  {
   "cell_type": "code",
   "execution_count": null,
   "id": "d49a7cfa-75b3-453e-b1d9-ded339fb22e8",
   "metadata": {},
   "outputs": [],
   "source": [
    "# Visualizing\n",
    "tsne = TSNE()\n",
    "test_2D = tsne.fit_transform(test_LD)\n",
    "visualize(test_2D, test_Y)"
   ]
  },
  {
   "cell_type": "markdown",
   "id": "2b63bc06-eb93-4755-8ee3-6add8e40f7c1",
   "metadata": {},
   "source": [
    "# Reducing with Topological Autoencoders (L=100)"
   ]
  },
  {
   "cell_type": "code",
   "execution_count": null,
   "id": "4454ea1e-b392-4867-8f6d-8d04ffcee910",
   "metadata": {},
   "outputs": [],
   "source": [
    "model_lam = 100\n",
    "topo_reducer = CustomTopoDimRedTransform(\n",
    "    model_name='DeepAE_custom_dim2',\n",
    "    model_lambda=model_lam,\n",
    "    patience=None,\n",
    "    num_epochs=model_epc,\n",
    "    from_dim=180,\n",
    "    to_dim=model_dim\n",
    ")"
   ]
  },
  {
   "cell_type": "code",
   "execution_count": null,
   "id": "122769a9-ea11-49de-8476-cd57135a5f4d",
   "metadata": {
    "tags": []
   },
   "outputs": [],
   "source": [
    "title_plot = \"MotionSense 20Hz\\nTopoAE lambda {}\".format(model_lam)\n",
    "topo_reducer.fit(train_HD, train_Y, title_plot=title_plot)"
   ]
  },
  {
   "cell_type": "code",
   "execution_count": null,
   "id": "f23bb0dd-d189-4e9b-83de-2d9371e450cc",
   "metadata": {},
   "outputs": [],
   "source": [
    "train_LD = topo_reducer.transform(train_HD)\n",
    "test_LD = topo_reducer.transform(test_HD)"
   ]
  },
  {
   "cell_type": "code",
   "execution_count": null,
   "id": "1a42d610-e5ac-4c50-97cd-830abea35003",
   "metadata": {},
   "outputs": [],
   "source": [
    "train_LD = np.reshape(topo_reducer.transform(train_HD), (-1, model_dim))\n",
    "print('TRAIN LD RESHAPED', train_LD.shape)\n",
    "test_LD = np.reshape(topo_reducer.transform(test_HD), (-1, model_dim))\n",
    "print('TEST LD RESHAPED', test_LD.shape)"
   ]
  },
  {
   "cell_type": "code",
   "execution_count": null,
   "id": "ae177f50-7f6e-4af4-85c4-94684b3557aa",
   "metadata": {},
   "outputs": [],
   "source": [
    "experiments_result = run_experiments(train_HD, train_LD, train_Y, test_HD, test_LD, test_Y)\n",
    "experiments_result"
   ]
  },
  {
   "cell_type": "code",
   "execution_count": null,
   "id": "3be4c244-97bd-4d17-b263-88ec61dcfef8",
   "metadata": {},
   "outputs": [],
   "source": [
    "# Visualizing\n",
    "tsne = TSNE()\n",
    "test_2D = tsne.fit_transform(test_LD)\n",
    "visualize(test_2D, test_Y)"
   ]
  },
  {
   "cell_type": "code",
   "execution_count": null,
   "id": "a6c976d2-0a0e-4182-bd33-2b80770c1803",
   "metadata": {},
   "outputs": [],
   "source": [
    "# Reducing with Convolutional Topological Autoencoders"
   ]
  },
  {
   "cell_type": "code",
   "execution_count": null,
   "id": "852209ec-7f7b-4f21-8f46-a49b400908bb",
   "metadata": {},
   "outputs": [],
   "source": [
    "# model_lam = 1\n",
    "# model_dim = 10\n",
    "# model_epc = 200\n",
    "# topo_reducer = TopologicalDimensionalityReduction(\n",
    "#     ae_model='ConvolutionalAutoencoder_custom_dim',\n",
    "#     lam = model_lam,\n",
    "#     ae_kwargs = {'input_dims':(1, 360), 'custom_dim':model_dim},\n",
    "#     input_shape = (-1, 1, 1, 360),\n",
    "#     patience = None,\n",
    "#     num_epochs = model_epc\n",
    "# )"
   ]
  },
  {
   "cell_type": "code",
   "execution_count": null,
   "id": "6f1b59a5-053a-421e-b61f-50209c36a08e",
   "metadata": {
    "tags": []
   },
   "outputs": [],
   "source": [
    "# title_plot = \"MotionSense 20Hz\\nTopoAE lambda {}\".format(model_lam)\n",
    "# topo_reducer.fit(train_HD, train_Y, title_plot=title_plot)"
   ]
  },
  {
   "cell_type": "code",
   "execution_count": null,
   "id": "edf2efc3-cff5-4500-b9d3-270d3bcf66a0",
   "metadata": {},
   "outputs": [],
   "source": [
    "# train_LD = topo_reducer.transform(train_HD)\n",
    "# test_LD = topo_reducer.transform(test_HD)"
   ]
  },
  {
   "cell_type": "code",
   "execution_count": null,
   "id": "cc6f8f6d-a630-4f07-92bd-aba4c7da436d",
   "metadata": {},
   "outputs": [],
   "source": [
    "# train_LD = np.reshape(topo_reducer.transform(train_HD), (-1, model_dim))\n",
    "# print('TRAIN LD RESHAPED', train_LD.shape)\n",
    "# test_LD = np.reshape(topo_reducer.transform(test_HD), (-1, model_dim))\n",
    "# print('TEST LD RESHAPED', test_LD.shape)"
   ]
  },
  {
   "cell_type": "code",
   "execution_count": null,
   "id": "f5672350-3d30-4e77-b43a-79271ebf2f40",
   "metadata": {},
   "outputs": [],
   "source": [
    "# experiments_result = run_experiments(train_HD, train_LD, train_Y, test_HD, test_LD, test_Y)\n",
    "# experiments_result"
   ]
  },
  {
   "cell_type": "code",
   "execution_count": null,
   "id": "f6e07fc9-8512-434f-84da-53e7366cccfd",
   "metadata": {},
   "outputs": [],
   "source": []
  }
 ],
 "metadata": {
  "kernelspec": {
   "display_name": "Python 3 (ipykernel)",
   "language": "python",
   "name": "python3"
  },
  "language_info": {
   "codemirror_mode": {
    "name": "ipython",
    "version": 3
   },
   "file_extension": ".py",
   "mimetype": "text/x-python",
   "name": "python",
   "nbconvert_exporter": "python",
   "pygments_lexer": "ipython3",
   "version": "3.8.10"
  }
 },
 "nbformat": 4,
 "nbformat_minor": 5
}
