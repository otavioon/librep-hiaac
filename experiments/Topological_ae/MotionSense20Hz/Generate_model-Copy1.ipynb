{
 "cells": [
  {
   "cell_type": "code",
   "execution_count": 1,
   "id": "7e1630ed-63c8-4ee7-86c9-62dfb528b9a2",
   "metadata": {
    "execution": {
     "iopub.execute_input": "2022-12-24T12:12:49.715483Z",
     "iopub.status.busy": "2022-12-24T12:12:49.714965Z",
     "iopub.status.idle": "2022-12-24T12:12:49.735223Z",
     "shell.execute_reply": "2022-12-24T12:12:49.734581Z",
     "shell.execute_reply.started": "2022-12-24T12:12:49.715438Z"
    },
    "tags": []
   },
   "outputs": [],
   "source": [
    "%load_ext autoreload\n",
    "%autoreload 2"
   ]
  },
  {
   "cell_type": "code",
   "execution_count": 2,
   "id": "fedad853",
   "metadata": {
    "execution": {
     "iopub.execute_input": "2022-12-24T12:12:49.736361Z",
     "iopub.status.busy": "2022-12-24T12:12:49.736048Z",
     "iopub.status.idle": "2022-12-24T12:12:49.765714Z",
     "shell.execute_reply": "2022-12-24T12:12:49.764553Z",
     "shell.execute_reply.started": "2022-12-24T12:12:49.736338Z"
    }
   },
   "outputs": [],
   "source": [
    "import os\n",
    "os.environ[\"CUDA_VISIBLE_DEVICES\"] = \"0\""
   ]
  },
  {
   "cell_type": "code",
   "execution_count": 3,
   "id": "c1e18129",
   "metadata": {
    "execution": {
     "iopub.execute_input": "2022-12-24T12:12:49.767458Z",
     "iopub.status.busy": "2022-12-24T12:12:49.767017Z",
     "iopub.status.idle": "2022-12-24T12:12:51.381146Z",
     "shell.execute_reply": "2022-12-24T12:12:51.380283Z",
     "shell.execute_reply.started": "2022-12-24T12:12:49.767423Z"
    }
   },
   "outputs": [
    {
     "name": "stdout",
     "output_type": "stream",
     "text": [
      "True\n",
      "1\n",
      "0\n",
      "<torch.cuda.device object at 0x7f9458495760>\n",
      "NVIDIA GeForce GTX 1080 Ti\n"
     ]
    }
   ],
   "source": [
    "import torch\n",
    "print(torch.cuda.is_available()) # True\n",
    "print(torch.cuda.device_count()) # 1\n",
    "print(torch.cuda.current_device()) # 0\n",
    "print(torch.cuda.device(0)) # <torch.cuda.device at 0x7efce0b03be0>\n",
    "print(torch.cuda.get_device_name(0)) # 'GeForce GTX 950M'"
   ]
  },
  {
   "cell_type": "code",
   "execution_count": 4,
   "id": "2da911e3-e82f-47c9-8090-f71f453956ee",
   "metadata": {
    "execution": {
     "iopub.execute_input": "2022-12-24T12:12:51.384109Z",
     "iopub.status.busy": "2022-12-24T12:12:51.383810Z",
     "iopub.status.idle": "2022-12-24T12:12:51.407686Z",
     "shell.execute_reply": "2022-12-24T12:12:51.406869Z",
     "shell.execute_reply.started": "2022-12-24T12:12:51.384085Z"
    }
   },
   "outputs": [],
   "source": [
    "import sys\n",
    "sys.path.append(\"../../..\")"
   ]
  },
  {
   "cell_type": "code",
   "execution_count": 5,
   "id": "5f067405-ab8c-4f22-b056-ab9e1febe71c",
   "metadata": {
    "execution": {
     "iopub.execute_input": "2022-12-24T12:12:51.408717Z",
     "iopub.status.busy": "2022-12-24T12:12:51.408495Z",
     "iopub.status.idle": "2022-12-24T12:12:52.071624Z",
     "shell.execute_reply": "2022-12-24T12:12:52.070805Z",
     "shell.execute_reply.started": "2022-12-24T12:12:51.408696Z"
    }
   },
   "outputs": [],
   "source": [
    "import numpy as np\n",
    "import pandas as pd\n",
    "import matplotlib.pyplot as plt"
   ]
  },
  {
   "cell_type": "code",
   "execution_count": 6,
   "id": "cc5007e3-ef19-4658-ac7d-2a6f617bb9c6",
   "metadata": {
    "execution": {
     "iopub.execute_input": "2022-12-24T12:12:52.073276Z",
     "iopub.status.busy": "2022-12-24T12:12:52.072643Z",
     "iopub.status.idle": "2022-12-24T12:12:59.343769Z",
     "shell.execute_reply": "2022-12-24T12:12:59.342811Z",
     "shell.execute_reply.started": "2022-12-24T12:12:52.073252Z"
    }
   },
   "outputs": [
    {
     "name": "stderr",
     "output_type": "stream",
     "text": [
      "2022-12-24 12:12:57.429712: I tensorflow/core/platform/cpu_feature_guard.cc:193] This TensorFlow binary is optimized with oneAPI Deep Neural Network Library (oneDNN) to use the following CPU instructions in performance-critical operations:  AVX2 FMA\n",
      "To enable them in other operations, rebuild TensorFlow with the appropriate compiler flags.\n",
      "2022-12-24 12:12:58.378270: W tensorflow/compiler/xla/stream_executor/platform/default/dso_loader.cc:64] Could not load dynamic library 'libnvinfer.so.7'; dlerror: libnvinfer.so.7: cannot open shared object file: No such file or directory\n",
      "2022-12-24 12:12:58.378364: W tensorflow/compiler/xla/stream_executor/platform/default/dso_loader.cc:64] Could not load dynamic library 'libnvinfer_plugin.so.7'; dlerror: libnvinfer_plugin.so.7: cannot open shared object file: No such file or directory\n",
      "2022-12-24 12:12:58.378376: W tensorflow/compiler/tf2tensorrt/utils/py_utils.cc:38] TF-TRT Warning: Cannot dlopen some TensorRT libraries. If you would like to use Nvidia GPU with TensorRT, please make sure the missing libraries mentioned above are installed properly.\n"
     ]
    }
   ],
   "source": [
    "from librep.datasets.har.loaders import (\n",
    "    MotionSense_BalancedView20HZ\n",
    ")"
   ]
  },
  {
   "cell_type": "code",
   "execution_count": 7,
   "id": "2f9f66b2-7b1c-4d4e-a0e3-cde9552a595a",
   "metadata": {
    "execution": {
     "iopub.execute_input": "2022-12-24T12:12:59.345307Z",
     "iopub.status.busy": "2022-12-24T12:12:59.344911Z",
     "iopub.status.idle": "2022-12-24T12:12:59.424891Z",
     "shell.execute_reply": "2022-12-24T12:12:59.424107Z",
     "shell.execute_reply.started": "2022-12-24T12:12:59.345283Z"
    },
    "tags": []
   },
   "outputs": [],
   "source": [
    "from librep.transforms.topo_ae import (\n",
    "    TopologicalDimensionalityReduction,\n",
    "    CustomTopoDimRedTransform\n",
    ")\n",
    "from librep.transforms import UMAP\n",
    "from sklearn.manifold import TSNE\n",
    "from experiments.Topological_ae.Experiment_utils import *\n",
    "from librep.datasets.multimodal import TransformMultiModalDataset\n",
    "from librep.transforms.fft import FFT"
   ]
  },
  {
   "cell_type": "code",
   "execution_count": 8,
   "id": "85bea424-07ff-47ec-945a-aef385afe7a7",
   "metadata": {
    "execution": {
     "iopub.execute_input": "2022-12-24T12:12:59.426150Z",
     "iopub.status.busy": "2022-12-24T12:12:59.425918Z",
     "iopub.status.idle": "2022-12-24T12:12:59.489547Z",
     "shell.execute_reply": "2022-12-24T12:12:59.488608Z",
     "shell.execute_reply.started": "2022-12-24T12:12:59.426126Z"
    }
   },
   "outputs": [],
   "source": [
    "# MotionSense Loader\n",
    "loader = MotionSense_BalancedView20HZ(\n",
    "    root_dir=\"../../../data/views/MotionSense/balanced_view_20Hz_with_gravity_9.81_acc_standard\", \n",
    "    download=False\n",
    ")"
   ]
  },
  {
   "cell_type": "code",
   "execution_count": 9,
   "id": "3d817b0c-4e6b-4227-9b48-cd23c3df190d",
   "metadata": {
    "execution": {
     "iopub.execute_input": "2022-12-24T12:12:59.490900Z",
     "iopub.status.busy": "2022-12-24T12:12:59.490644Z",
     "iopub.status.idle": "2022-12-24T12:13:00.000718Z",
     "shell.execute_reply": "2022-12-24T12:12:59.998988Z",
     "shell.execute_reply.started": "2022-12-24T12:12:59.490876Z"
    }
   },
   "outputs": [
    {
     "data": {
      "text/plain": [
       "(PandasMultiModalDataset: samples=4020, features=360, no. window=6, label_columns='standard activity code',\n",
       " PandasMultiModalDataset: samples=1020, features=360, no. window=6, label_columns='standard activity code')"
      ]
     },
     "execution_count": 9,
     "metadata": {},
     "output_type": "execute_result"
    }
   ],
   "source": [
    "# Load the dataset\n",
    "train_val, test = loader.load(concat_train_validation=True, label=loader.standard_label)\n",
    "train_val, test"
   ]
  },
  {
   "cell_type": "code",
   "execution_count": 10,
   "id": "9491b1e0-0b60-439c-9bed-ea0ee7918b68",
   "metadata": {
    "execution": {
     "iopub.execute_input": "2022-12-24T12:13:00.003752Z",
     "iopub.status.busy": "2022-12-24T12:13:00.003169Z",
     "iopub.status.idle": "2022-12-24T12:13:00.085843Z",
     "shell.execute_reply": "2022-12-24T12:13:00.085040Z",
     "shell.execute_reply.started": "2022-12-24T12:13:00.003696Z"
    }
   },
   "outputs": [],
   "source": [
    "train_HD = np.array(train_val[:][0])\n",
    "train_LD = None\n",
    "train_Y = np.array(train_val[:][1])\n",
    "test_HD = np.array(test[:][0])\n",
    "test_LD = None\n",
    "test_Y = np.array(test[:][1])"
   ]
  },
  {
   "cell_type": "code",
   "execution_count": 11,
   "id": "cc4810ac-c560-4b23-9b72-481a2d0f1a91",
   "metadata": {
    "execution": {
     "iopub.execute_input": "2022-12-24T12:13:00.087235Z",
     "iopub.status.busy": "2022-12-24T12:13:00.086989Z",
     "iopub.status.idle": "2022-12-24T12:13:00.151155Z",
     "shell.execute_reply": "2022-12-24T12:13:00.150225Z",
     "shell.execute_reply.started": "2022-12-24T12:13:00.087212Z"
    }
   },
   "outputs": [
    {
     "name": "stdout",
     "output_type": "stream",
     "text": [
      "(4020, 360) (4020,) (1020, 360) (1020,)\n"
     ]
    }
   ],
   "source": [
    "print(train_HD.shape, train_Y.shape, test_HD.shape, test_Y.shape)"
   ]
  },
  {
   "cell_type": "markdown",
   "id": "4c93d061-6ea0-418b-b690-2d977f6297c9",
   "metadata": {},
   "source": [
    "# Aplicar FFT"
   ]
  },
  {
   "cell_type": "code",
   "execution_count": 12,
   "id": "e5255de5-0259-404a-a2d8-507ad4f2ee2f",
   "metadata": {
    "execution": {
     "iopub.execute_input": "2022-12-24T12:13:00.152446Z",
     "iopub.status.busy": "2022-12-24T12:13:00.152213Z",
     "iopub.status.idle": "2022-12-24T12:13:00.215087Z",
     "shell.execute_reply": "2022-12-24T12:13:00.214047Z",
     "shell.execute_reply.started": "2022-12-24T12:13:00.152423Z"
    }
   },
   "outputs": [],
   "source": [
    "fft_transform = FFT(centered = True)\n",
    "transformer = TransformMultiModalDataset(\n",
    "    transforms=[fft_transform],\n",
    "    new_window_name_prefix=\"fft.\"\n",
    ")"
   ]
  },
  {
   "cell_type": "code",
   "execution_count": 13,
   "id": "29195f38-f8a9-4167-937f-d3f98ddc7642",
   "metadata": {
    "execution": {
     "iopub.execute_input": "2022-12-24T12:13:00.216236Z",
     "iopub.status.busy": "2022-12-24T12:13:00.216005Z",
     "iopub.status.idle": "2022-12-24T12:13:00.739154Z",
     "shell.execute_reply": "2022-12-24T12:13:00.738247Z",
     "shell.execute_reply.started": "2022-12-24T12:13:00.216213Z"
    }
   },
   "outputs": [],
   "source": [
    "train_dataset_fft = transformer(train_val)\n",
    "test_dataset_fft = transformer(test)"
   ]
  },
  {
   "cell_type": "code",
   "execution_count": 14,
   "id": "3c8cfc25-0323-498a-931d-1249078f2796",
   "metadata": {
    "execution": {
     "iopub.execute_input": "2022-12-24T12:13:00.744559Z",
     "iopub.status.busy": "2022-12-24T12:13:00.744324Z",
     "iopub.status.idle": "2022-12-24T12:13:00.805197Z",
     "shell.execute_reply": "2022-12-24T12:13:00.804021Z",
     "shell.execute_reply.started": "2022-12-24T12:13:00.744536Z"
    }
   },
   "outputs": [
    {
     "name": "stdout",
     "output_type": "stream",
     "text": [
      "(4020, 180)\n",
      "(1020, 180)\n"
     ]
    }
   ],
   "source": [
    "print(train_dataset_fft.X.shape)\n",
    "print(test_dataset_fft.X.shape)"
   ]
  },
  {
   "cell_type": "code",
   "execution_count": 15,
   "id": "d413cc20-e5b5-4594-b1f7-f11153c00c5f",
   "metadata": {
    "execution": {
     "iopub.execute_input": "2022-12-24T12:13:00.806599Z",
     "iopub.status.busy": "2022-12-24T12:13:00.806262Z",
     "iopub.status.idle": "2022-12-24T12:13:00.869587Z",
     "shell.execute_reply": "2022-12-24T12:13:00.868414Z",
     "shell.execute_reply.started": "2022-12-24T12:13:00.806570Z"
    }
   },
   "outputs": [
    {
     "name": "stdout",
     "output_type": "stream",
     "text": [
      "797.3368276806895\n"
     ]
    }
   ],
   "source": [
    "print(np.max(train_dataset_fft.X))"
   ]
  },
  {
   "cell_type": "code",
   "execution_count": 16,
   "id": "fea2e105-a571-4a2f-ac76-096b08a6ef2f",
   "metadata": {
    "execution": {
     "iopub.execute_input": "2022-12-24T12:13:00.871235Z",
     "iopub.status.busy": "2022-12-24T12:13:00.870797Z",
     "iopub.status.idle": "2022-12-24T12:13:00.931942Z",
     "shell.execute_reply": "2022-12-24T12:13:00.930922Z",
     "shell.execute_reply.started": "2022-12-24T12:13:00.871204Z"
    }
   },
   "outputs": [],
   "source": [
    "train_HD = train_dataset_fft.X\n",
    "train_LD = None\n",
    "train_Y = train_dataset_fft.y\n",
    "test_HD = test_dataset_fft.X\n",
    "test_LD = None\n",
    "test_Y = test_dataset_fft.y"
   ]
  },
  {
   "cell_type": "code",
   "execution_count": 17,
   "id": "ee13aef1-77c7-42a9-930b-b1a56f980d25",
   "metadata": {
    "execution": {
     "iopub.execute_input": "2022-12-24T12:13:00.933690Z",
     "iopub.status.busy": "2022-12-24T12:13:00.933045Z",
     "iopub.status.idle": "2022-12-24T12:13:00.994087Z",
     "shell.execute_reply": "2022-12-24T12:13:00.992905Z",
     "shell.execute_reply.started": "2022-12-24T12:13:00.933657Z"
    }
   },
   "outputs": [
    {
     "name": "stdout",
     "output_type": "stream",
     "text": [
      "(4020, 180) (4020,) (1020, 180) (1020,)\n"
     ]
    }
   ],
   "source": [
    "print(train_HD.shape, train_Y.shape, test_HD.shape, test_Y.shape)"
   ]
  },
  {
   "cell_type": "code",
   "execution_count": 18,
   "id": "80f4771a-da3f-407b-9fa9-b0619a129e66",
   "metadata": {
    "execution": {
     "iopub.execute_input": "2022-12-24T12:13:00.995876Z",
     "iopub.status.busy": "2022-12-24T12:13:00.995486Z",
     "iopub.status.idle": "2022-12-24T12:13:01.054751Z",
     "shell.execute_reply": "2022-12-24T12:13:01.053975Z",
     "shell.execute_reply.started": "2022-12-24T12:13:00.995843Z"
    },
    "tags": []
   },
   "outputs": [],
   "source": [
    "# Variables to reuse\n",
    "save_ids = [19, 20, 21, 22, 23, 24]\n",
    "model_name = 'ConvolutionalAutoencoder_custom_dim3'\n",
    "model_dim = 10\n",
    "model_epc = 5000\n",
    "model_lam = 0\n",
    "save_freq = 250"
   ]
  },
  {
   "cell_type": "markdown",
   "id": "0c8264b9-7756-4a8d-a8c0-18a1645b8e28",
   "metadata": {},
   "source": [
    "# Reducing with Convolutional Topological Autoencoders"
   ]
  },
  {
   "cell_type": "code",
   "execution_count": 19,
   "id": "d80ae63d-92f7-49c6-9527-212af7500573",
   "metadata": {
    "execution": {
     "iopub.execute_input": "2022-12-24T12:13:01.056455Z",
     "iopub.status.busy": "2022-12-24T12:13:01.055859Z",
     "iopub.status.idle": "2022-12-30T01:27:29.778078Z",
     "shell.execute_reply": "2022-12-30T01:27:29.776567Z",
     "shell.execute_reply.started": "2022-12-24T12:13:01.056422Z"
    },
    "tags": []
   },
   "outputs": [
    {
     "name": "stdout",
     "output_type": "stream",
     "text": [
      "Topologically Regularized ConvolutionalAutoencoder_custom_dim3\n",
      "Using python to compute signatures\n",
      "ConvAECustomDim, Input: (1, 180) Inner dim: 10\n",
      "ENCODER STRUCT torch.Size([4, 8, 5])\n"
     ]
    },
    {
     "data": {
      "application/vnd.jupyter.widget-view+json": {
       "model_id": "22cb5f735d9d45fe94c144d28e5debac",
       "version_major": 2,
       "version_minor": 0
      },
      "text/plain": [
       "  0%|          | 0/5000 [00:00<?, ?it/s]"
      ]
     },
     "metadata": {},
     "output_type": "display_data"
    },
    {
     "name": "stderr",
     "output_type": "stream",
     "text": [
      "/home/darlinne.soto/dl02/librep-hiaac/experiments/Topological_ae/MotionSense20Hz/../../../librep/transforms/topo_ae.py:107: UserWarning: To copy construct from a tensor, it is recommended to use sourceTensor.clone().detach() or sourceTensor.clone().detach().requires_grad_(True), rather than torch.tensor(sourceTensor).\n",
      "  in_tensor = torch.tensor(reshaped_data, device=self.cuda_device).float()\n",
      "/home/darlinne.soto/dl02/librep-hiaac/experiments/Topological_ae/MotionSense20Hz/../../../librep/transforms/topo_ae.py:119: UserWarning: To copy construct from a tensor, it is recommended to use sourceTensor.clone().detach() or sourceTensor.clone().detach().requires_grad_(True), rather than torch.tensor(sourceTensor).\n",
      "  in_tensor = torch.tensor(reshaped_data, device=self.cuda_device).float()\n",
      "IOPub message rate exceeded.\n",
      "The Jupyter server will temporarily stop sending output\n",
      "to the client in order to avoid crashing it.\n",
      "To change this limit, set the config variable\n",
      "`--ServerApp.iopub_msg_rate_limit`.\n",
      "\n",
      "Current values:\n",
      "ServerApp.iopub_msg_rate_limit=1000.0 (msgs/sec)\n",
      "ServerApp.rate_limit_window=3.0 (secs)\n",
      "\n"
     ]
    },
    {
     "name": "stdout",
     "output_type": "stream",
     "text": [
      "Saved  data/ConvolutionalAutoencoder_custom_dim3_0.01_180-10_5000_19.pkl\n",
      "Topologically Regularized ConvolutionalAutoencoder_custom_dim3\n",
      "Using python to compute signatures\n",
      "ConvAECustomDim, Input: (1, 180) Inner dim: 10\n",
      "ENCODER STRUCT torch.Size([4, 8, 5])\n"
     ]
    },
    {
     "data": {
      "application/vnd.jupyter.widget-view+json": {
       "model_id": "7106e1f5c01248668fd780a1080f3823",
       "version_major": 2,
       "version_minor": 0
      },
      "text/plain": [
       "  0%|          | 0/5000 [00:00<?, ?it/s]"
      ]
     },
     "metadata": {},
     "output_type": "display_data"
    },
    {
     "name": "stderr",
     "output_type": "stream",
     "text": [
      "/home/darlinne.soto/dl02/librep-hiaac/experiments/Topological_ae/MotionSense20Hz/../../../librep/transforms/topo_ae.py:107: UserWarning: To copy construct from a tensor, it is recommended to use sourceTensor.clone().detach() or sourceTensor.clone().detach().requires_grad_(True), rather than torch.tensor(sourceTensor).\n",
      "  in_tensor = torch.tensor(reshaped_data, device=self.cuda_device).float()\n",
      "/home/darlinne.soto/dl02/librep-hiaac/experiments/Topological_ae/MotionSense20Hz/../../../librep/transforms/topo_ae.py:119: UserWarning: To copy construct from a tensor, it is recommended to use sourceTensor.clone().detach() or sourceTensor.clone().detach().requires_grad_(True), rather than torch.tensor(sourceTensor).\n",
      "  in_tensor = torch.tensor(reshaped_data, device=self.cuda_device).float()\n",
      "IOPub message rate exceeded.\n",
      "The Jupyter server will temporarily stop sending output\n",
      "to the client in order to avoid crashing it.\n",
      "To change this limit, set the config variable\n",
      "`--ServerApp.iopub_msg_rate_limit`.\n",
      "\n",
      "Current values:\n",
      "ServerApp.iopub_msg_rate_limit=1000.0 (msgs/sec)\n",
      "ServerApp.rate_limit_window=3.0 (secs)\n",
      "\n",
      "IOPub message rate exceeded.\n",
      "The Jupyter server will temporarily stop sending output\n",
      "to the client in order to avoid crashing it.\n",
      "To change this limit, set the config variable\n",
      "`--ServerApp.iopub_msg_rate_limit`.\n",
      "\n",
      "Current values:\n",
      "ServerApp.iopub_msg_rate_limit=1000.0 (msgs/sec)\n",
      "ServerApp.rate_limit_window=3.0 (secs)\n",
      "\n",
      "IOPub message rate exceeded.\n",
      "The Jupyter server will temporarily stop sending output\n",
      "to the client in order to avoid crashing it.\n",
      "To change this limit, set the config variable\n",
      "`--ServerApp.iopub_msg_rate_limit`.\n",
      "\n",
      "Current values:\n",
      "ServerApp.iopub_msg_rate_limit=1000.0 (msgs/sec)\n",
      "ServerApp.rate_limit_window=3.0 (secs)\n",
      "\n",
      "IOPub message rate exceeded.\n",
      "The Jupyter server will temporarily stop sending output\n",
      "to the client in order to avoid crashing it.\n",
      "To change this limit, set the config variable\n",
      "`--ServerApp.iopub_msg_rate_limit`.\n",
      "\n",
      "Current values:\n",
      "ServerApp.iopub_msg_rate_limit=1000.0 (msgs/sec)\n",
      "ServerApp.rate_limit_window=3.0 (secs)\n",
      "\n",
      "IOPub message rate exceeded.\n",
      "The Jupyter server will temporarily stop sending output\n",
      "to the client in order to avoid crashing it.\n",
      "To change this limit, set the config variable\n",
      "`--ServerApp.iopub_msg_rate_limit`.\n",
      "\n",
      "Current values:\n",
      "ServerApp.iopub_msg_rate_limit=1000.0 (msgs/sec)\n",
      "ServerApp.rate_limit_window=3.0 (secs)\n",
      "\n"
     ]
    },
    {
     "name": "stdout",
     "output_type": "stream",
     "text": [
      "Saved  data/ConvolutionalAutoencoder_custom_dim3_10_180-10_5000_19.pkl\n",
      "Topologically Regularized ConvolutionalAutoencoder_custom_dim3\n",
      "Using python to compute signatures\n",
      "ConvAECustomDim, Input: (1, 180) Inner dim: 10\n",
      "ENCODER STRUCT torch.Size([4, 8, 5])\n"
     ]
    },
    {
     "data": {
      "application/vnd.jupyter.widget-view+json": {
       "model_id": "da256daa735840af8c8e8be385592ed8",
       "version_major": 2,
       "version_minor": 0
      },
      "text/plain": [
       "  0%|          | 0/5000 [00:00<?, ?it/s]"
      ]
     },
     "metadata": {},
     "output_type": "display_data"
    },
    {
     "name": "stderr",
     "output_type": "stream",
     "text": [
      "/home/darlinne.soto/dl02/librep-hiaac/experiments/Topological_ae/MotionSense20Hz/../../../librep/transforms/topo_ae.py:107: UserWarning: To copy construct from a tensor, it is recommended to use sourceTensor.clone().detach() or sourceTensor.clone().detach().requires_grad_(True), rather than torch.tensor(sourceTensor).\n",
      "  in_tensor = torch.tensor(reshaped_data, device=self.cuda_device).float()\n",
      "/home/darlinne.soto/dl02/librep-hiaac/experiments/Topological_ae/MotionSense20Hz/../../../librep/transforms/topo_ae.py:119: UserWarning: To copy construct from a tensor, it is recommended to use sourceTensor.clone().detach() or sourceTensor.clone().detach().requires_grad_(True), rather than torch.tensor(sourceTensor).\n",
      "  in_tensor = torch.tensor(reshaped_data, device=self.cuda_device).float()\n",
      "IOPub message rate exceeded.\n",
      "The Jupyter server will temporarily stop sending output\n",
      "to the client in order to avoid crashing it.\n",
      "To change this limit, set the config variable\n",
      "`--ServerApp.iopub_msg_rate_limit`.\n",
      "\n",
      "Current values:\n",
      "ServerApp.iopub_msg_rate_limit=1000.0 (msgs/sec)\n",
      "ServerApp.rate_limit_window=3.0 (secs)\n",
      "\n",
      "IOPub message rate exceeded.\n",
      "The Jupyter server will temporarily stop sending output\n",
      "to the client in order to avoid crashing it.\n",
      "To change this limit, set the config variable\n",
      "`--ServerApp.iopub_msg_rate_limit`.\n",
      "\n",
      "Current values:\n",
      "ServerApp.iopub_msg_rate_limit=1000.0 (msgs/sec)\n",
      "ServerApp.rate_limit_window=3.0 (secs)\n",
      "\n",
      "IOPub message rate exceeded.\n",
      "The Jupyter server will temporarily stop sending output\n",
      "to the client in order to avoid crashing it.\n",
      "To change this limit, set the config variable\n",
      "`--ServerApp.iopub_msg_rate_limit`.\n",
      "\n",
      "Current values:\n",
      "ServerApp.iopub_msg_rate_limit=1000.0 (msgs/sec)\n",
      "ServerApp.rate_limit_window=3.0 (secs)\n",
      "\n",
      "IOPub message rate exceeded.\n",
      "The Jupyter server will temporarily stop sending output\n",
      "to the client in order to avoid crashing it.\n",
      "To change this limit, set the config variable\n",
      "`--ServerApp.iopub_msg_rate_limit`.\n",
      "\n",
      "Current values:\n",
      "ServerApp.iopub_msg_rate_limit=1000.0 (msgs/sec)\n",
      "ServerApp.rate_limit_window=3.0 (secs)\n",
      "\n",
      "IOPub message rate exceeded.\n",
      "The Jupyter server will temporarily stop sending output\n",
      "to the client in order to avoid crashing it.\n",
      "To change this limit, set the config variable\n",
      "`--ServerApp.iopub_msg_rate_limit`.\n",
      "\n",
      "Current values:\n",
      "ServerApp.iopub_msg_rate_limit=1000.0 (msgs/sec)\n",
      "ServerApp.rate_limit_window=3.0 (secs)\n",
      "\n"
     ]
    },
    {
     "name": "stdout",
     "output_type": "stream",
     "text": [
      "Saved  data/ConvolutionalAutoencoder_custom_dim3_0_180-10_5000_20.pkl\n",
      "Topologically Regularized ConvolutionalAutoencoder_custom_dim3\n",
      "Using python to compute signatures\n",
      "ConvAECustomDim, Input: (1, 180) Inner dim: 10\n",
      "ENCODER STRUCT torch.Size([4, 8, 5])\n"
     ]
    },
    {
     "data": {
      "application/vnd.jupyter.widget-view+json": {
       "model_id": "8137fc8a6bff4ea59cdcbc32c473bdd1",
       "version_major": 2,
       "version_minor": 0
      },
      "text/plain": [
       "  0%|          | 0/5000 [00:00<?, ?it/s]"
      ]
     },
     "metadata": {},
     "output_type": "display_data"
    },
    {
     "name": "stderr",
     "output_type": "stream",
     "text": [
      "/home/darlinne.soto/dl02/librep-hiaac/experiments/Topological_ae/MotionSense20Hz/../../../librep/transforms/topo_ae.py:107: UserWarning: To copy construct from a tensor, it is recommended to use sourceTensor.clone().detach() or sourceTensor.clone().detach().requires_grad_(True), rather than torch.tensor(sourceTensor).\n",
      "  in_tensor = torch.tensor(reshaped_data, device=self.cuda_device).float()\n",
      "/home/darlinne.soto/dl02/librep-hiaac/experiments/Topological_ae/MotionSense20Hz/../../../librep/transforms/topo_ae.py:119: UserWarning: To copy construct from a tensor, it is recommended to use sourceTensor.clone().detach() or sourceTensor.clone().detach().requires_grad_(True), rather than torch.tensor(sourceTensor).\n",
      "  in_tensor = torch.tensor(reshaped_data, device=self.cuda_device).float()\n",
      "IOPub message rate exceeded.\n",
      "The Jupyter server will temporarily stop sending output\n",
      "to the client in order to avoid crashing it.\n",
      "To change this limit, set the config variable\n",
      "`--ServerApp.iopub_msg_rate_limit`.\n",
      "\n",
      "Current values:\n",
      "ServerApp.iopub_msg_rate_limit=1000.0 (msgs/sec)\n",
      "ServerApp.rate_limit_window=3.0 (secs)\n",
      "\n",
      "IOPub message rate exceeded.\n",
      "The Jupyter server will temporarily stop sending output\n",
      "to the client in order to avoid crashing it.\n",
      "To change this limit, set the config variable\n",
      "`--ServerApp.iopub_msg_rate_limit`.\n",
      "\n",
      "Current values:\n",
      "ServerApp.iopub_msg_rate_limit=1000.0 (msgs/sec)\n",
      "ServerApp.rate_limit_window=3.0 (secs)\n",
      "\n",
      "IOPub message rate exceeded.\n",
      "The Jupyter server will temporarily stop sending output\n",
      "to the client in order to avoid crashing it.\n",
      "To change this limit, set the config variable\n",
      "`--ServerApp.iopub_msg_rate_limit`.\n",
      "\n",
      "Current values:\n",
      "ServerApp.iopub_msg_rate_limit=1000.0 (msgs/sec)\n",
      "ServerApp.rate_limit_window=3.0 (secs)\n",
      "\n",
      "IOPub message rate exceeded.\n",
      "The Jupyter server will temporarily stop sending output\n",
      "to the client in order to avoid crashing it.\n",
      "To change this limit, set the config variable\n",
      "`--ServerApp.iopub_msg_rate_limit`.\n",
      "\n",
      "Current values:\n",
      "ServerApp.iopub_msg_rate_limit=1000.0 (msgs/sec)\n",
      "ServerApp.rate_limit_window=3.0 (secs)\n",
      "\n",
      "IOPub message rate exceeded.\n",
      "The Jupyter server will temporarily stop sending output\n",
      "to the client in order to avoid crashing it.\n",
      "To change this limit, set the config variable\n",
      "`--ServerApp.iopub_msg_rate_limit`.\n",
      "\n",
      "Current values:\n",
      "ServerApp.iopub_msg_rate_limit=1000.0 (msgs/sec)\n",
      "ServerApp.rate_limit_window=3.0 (secs)\n",
      "\n",
      "IOPub message rate exceeded.\n",
      "The Jupyter server will temporarily stop sending output\n",
      "to the client in order to avoid crashing it.\n",
      "To change this limit, set the config variable\n",
      "`--ServerApp.iopub_msg_rate_limit`.\n",
      "\n",
      "Current values:\n",
      "ServerApp.iopub_msg_rate_limit=1000.0 (msgs/sec)\n",
      "ServerApp.rate_limit_window=3.0 (secs)\n",
      "\n",
      "IOPub message rate exceeded.\n",
      "The Jupyter server will temporarily stop sending output\n",
      "to the client in order to avoid crashing it.\n",
      "To change this limit, set the config variable\n",
      "`--ServerApp.iopub_msg_rate_limit`.\n",
      "\n",
      "Current values:\n",
      "ServerApp.iopub_msg_rate_limit=1000.0 (msgs/sec)\n",
      "ServerApp.rate_limit_window=3.0 (secs)\n",
      "\n"
     ]
    },
    {
     "name": "stdout",
     "output_type": "stream",
     "text": [
      "Saved  data/ConvolutionalAutoencoder_custom_dim3_100_180-10_5000_20.pkl\n",
      "Topologically Regularized ConvolutionalAutoencoder_custom_dim3\n",
      "Using python to compute signatures\n",
      "ConvAECustomDim, Input: (1, 180) Inner dim: 10\n",
      "ENCODER STRUCT torch.Size([4, 8, 5])\n"
     ]
    },
    {
     "data": {
      "application/vnd.jupyter.widget-view+json": {
       "model_id": "4409813dc21548a8855cf863a4b30897",
       "version_major": 2,
       "version_minor": 0
      },
      "text/plain": [
       "  0%|          | 0/5000 [00:00<?, ?it/s]"
      ]
     },
     "metadata": {},
     "output_type": "display_data"
    },
    {
     "name": "stderr",
     "output_type": "stream",
     "text": [
      "/home/darlinne.soto/dl02/librep-hiaac/experiments/Topological_ae/MotionSense20Hz/../../../librep/transforms/topo_ae.py:107: UserWarning: To copy construct from a tensor, it is recommended to use sourceTensor.clone().detach() or sourceTensor.clone().detach().requires_grad_(True), rather than torch.tensor(sourceTensor).\n",
      "  in_tensor = torch.tensor(reshaped_data, device=self.cuda_device).float()\n",
      "/home/darlinne.soto/dl02/librep-hiaac/experiments/Topological_ae/MotionSense20Hz/../../../librep/transforms/topo_ae.py:119: UserWarning: To copy construct from a tensor, it is recommended to use sourceTensor.clone().detach() or sourceTensor.clone().detach().requires_grad_(True), rather than torch.tensor(sourceTensor).\n",
      "  in_tensor = torch.tensor(reshaped_data, device=self.cuda_device).float()\n",
      "IOPub message rate exceeded.\n",
      "The Jupyter server will temporarily stop sending output\n",
      "to the client in order to avoid crashing it.\n",
      "To change this limit, set the config variable\n",
      "`--ServerApp.iopub_msg_rate_limit`.\n",
      "\n",
      "Current values:\n",
      "ServerApp.iopub_msg_rate_limit=1000.0 (msgs/sec)\n",
      "ServerApp.rate_limit_window=3.0 (secs)\n",
      "\n",
      "IOPub message rate exceeded.\n",
      "The Jupyter server will temporarily stop sending output\n",
      "to the client in order to avoid crashing it.\n",
      "To change this limit, set the config variable\n",
      "`--ServerApp.iopub_msg_rate_limit`.\n",
      "\n",
      "Current values:\n",
      "ServerApp.iopub_msg_rate_limit=1000.0 (msgs/sec)\n",
      "ServerApp.rate_limit_window=3.0 (secs)\n",
      "\n",
      "IOPub message rate exceeded.\n",
      "The Jupyter server will temporarily stop sending output\n",
      "to the client in order to avoid crashing it.\n",
      "To change this limit, set the config variable\n",
      "`--ServerApp.iopub_msg_rate_limit`.\n",
      "\n",
      "Current values:\n",
      "ServerApp.iopub_msg_rate_limit=1000.0 (msgs/sec)\n",
      "ServerApp.rate_limit_window=3.0 (secs)\n",
      "\n"
     ]
    },
    {
     "name": "stdout",
     "output_type": "stream",
     "text": [
      "Saved  data/ConvolutionalAutoencoder_custom_dim3_0.01_180-10_5000_21.pkl\n",
      "Topologically Regularized ConvolutionalAutoencoder_custom_dim3\n",
      "Using python to compute signatures\n",
      "ConvAECustomDim, Input: (1, 180) Inner dim: 10\n",
      "ENCODER STRUCT torch.Size([4, 8, 5])\n"
     ]
    },
    {
     "data": {
      "application/vnd.jupyter.widget-view+json": {
       "model_id": "86b06c59845d4adab12f5c66e71faa84",
       "version_major": 2,
       "version_minor": 0
      },
      "text/plain": [
       "  0%|          | 0/5000 [00:00<?, ?it/s]"
      ]
     },
     "metadata": {},
     "output_type": "display_data"
    },
    {
     "name": "stderr",
     "output_type": "stream",
     "text": [
      "/home/darlinne.soto/dl02/librep-hiaac/experiments/Topological_ae/MotionSense20Hz/../../../librep/transforms/topo_ae.py:107: UserWarning: To copy construct from a tensor, it is recommended to use sourceTensor.clone().detach() or sourceTensor.clone().detach().requires_grad_(True), rather than torch.tensor(sourceTensor).\n",
      "  in_tensor = torch.tensor(reshaped_data, device=self.cuda_device).float()\n",
      "/home/darlinne.soto/dl02/librep-hiaac/experiments/Topological_ae/MotionSense20Hz/../../../librep/transforms/topo_ae.py:119: UserWarning: To copy construct from a tensor, it is recommended to use sourceTensor.clone().detach() or sourceTensor.clone().detach().requires_grad_(True), rather than torch.tensor(sourceTensor).\n",
      "  in_tensor = torch.tensor(reshaped_data, device=self.cuda_device).float()\n",
      "IOPub message rate exceeded.\n",
      "The Jupyter server will temporarily stop sending output\n",
      "to the client in order to avoid crashing it.\n",
      "To change this limit, set the config variable\n",
      "`--ServerApp.iopub_msg_rate_limit`.\n",
      "\n",
      "Current values:\n",
      "ServerApp.iopub_msg_rate_limit=1000.0 (msgs/sec)\n",
      "ServerApp.rate_limit_window=3.0 (secs)\n",
      "\n"
     ]
    },
    {
     "name": "stdout",
     "output_type": "stream",
     "text": [
      "Saved  data/ConvolutionalAutoencoder_custom_dim3_0.1_180-10_5000_21.pkl\n",
      "Topologically Regularized ConvolutionalAutoencoder_custom_dim3\n",
      "Using python to compute signatures\n",
      "ConvAECustomDim, Input: (1, 180) Inner dim: 10\n",
      "ENCODER STRUCT torch.Size([4, 8, 5])\n"
     ]
    },
    {
     "data": {
      "application/vnd.jupyter.widget-view+json": {
       "model_id": "e50535ee564f419eae73a672bf3c9904",
       "version_major": 2,
       "version_minor": 0
      },
      "text/plain": [
       "  0%|          | 0/5000 [00:00<?, ?it/s]"
      ]
     },
     "metadata": {},
     "output_type": "display_data"
    },
    {
     "name": "stderr",
     "output_type": "stream",
     "text": [
      "/home/darlinne.soto/dl02/librep-hiaac/experiments/Topological_ae/MotionSense20Hz/../../../librep/transforms/topo_ae.py:107: UserWarning: To copy construct from a tensor, it is recommended to use sourceTensor.clone().detach() or sourceTensor.clone().detach().requires_grad_(True), rather than torch.tensor(sourceTensor).\n",
      "  in_tensor = torch.tensor(reshaped_data, device=self.cuda_device).float()\n",
      "/home/darlinne.soto/dl02/librep-hiaac/experiments/Topological_ae/MotionSense20Hz/../../../librep/transforms/topo_ae.py:119: UserWarning: To copy construct from a tensor, it is recommended to use sourceTensor.clone().detach() or sourceTensor.clone().detach().requires_grad_(True), rather than torch.tensor(sourceTensor).\n",
      "  in_tensor = torch.tensor(reshaped_data, device=self.cuda_device).float()\n",
      "IOPub message rate exceeded.\n",
      "The Jupyter server will temporarily stop sending output\n",
      "to the client in order to avoid crashing it.\n",
      "To change this limit, set the config variable\n",
      "`--ServerApp.iopub_msg_rate_limit`.\n",
      "\n",
      "Current values:\n",
      "ServerApp.iopub_msg_rate_limit=1000.0 (msgs/sec)\n",
      "ServerApp.rate_limit_window=3.0 (secs)\n",
      "\n"
     ]
    },
    {
     "name": "stdout",
     "output_type": "stream",
     "text": [
      "Saved  data/ConvolutionalAutoencoder_custom_dim3_0_180-10_5000_21.pkl\n",
      "Topologically Regularized ConvolutionalAutoencoder_custom_dim3\n",
      "Using python to compute signatures\n",
      "ConvAECustomDim, Input: (1, 180) Inner dim: 10\n",
      "ENCODER STRUCT torch.Size([4, 8, 5])\n"
     ]
    },
    {
     "data": {
      "application/vnd.jupyter.widget-view+json": {
       "model_id": "b410fa63faa443a9bee68f194dab1359",
       "version_major": 2,
       "version_minor": 0
      },
      "text/plain": [
       "  0%|          | 0/5000 [00:00<?, ?it/s]"
      ]
     },
     "metadata": {},
     "output_type": "display_data"
    },
    {
     "name": "stderr",
     "output_type": "stream",
     "text": [
      "/home/darlinne.soto/dl02/librep-hiaac/experiments/Topological_ae/MotionSense20Hz/../../../librep/transforms/topo_ae.py:107: UserWarning: To copy construct from a tensor, it is recommended to use sourceTensor.clone().detach() or sourceTensor.clone().detach().requires_grad_(True), rather than torch.tensor(sourceTensor).\n",
      "  in_tensor = torch.tensor(reshaped_data, device=self.cuda_device).float()\n",
      "/home/darlinne.soto/dl02/librep-hiaac/experiments/Topological_ae/MotionSense20Hz/../../../librep/transforms/topo_ae.py:119: UserWarning: To copy construct from a tensor, it is recommended to use sourceTensor.clone().detach() or sourceTensor.clone().detach().requires_grad_(True), rather than torch.tensor(sourceTensor).\n",
      "  in_tensor = torch.tensor(reshaped_data, device=self.cuda_device).float()\n",
      "IOPub message rate exceeded.\n",
      "The Jupyter server will temporarily stop sending output\n",
      "to the client in order to avoid crashing it.\n",
      "To change this limit, set the config variable\n",
      "`--ServerApp.iopub_msg_rate_limit`.\n",
      "\n",
      "Current values:\n",
      "ServerApp.iopub_msg_rate_limit=1000.0 (msgs/sec)\n",
      "ServerApp.rate_limit_window=3.0 (secs)\n",
      "\n"
     ]
    },
    {
     "name": "stdout",
     "output_type": "stream",
     "text": [
      "Saved  data/ConvolutionalAutoencoder_custom_dim3_1_180-10_5000_21.pkl\n",
      "Topologically Regularized ConvolutionalAutoencoder_custom_dim3\n",
      "Using python to compute signatures\n",
      "ConvAECustomDim, Input: (1, 180) Inner dim: 10\n",
      "ENCODER STRUCT torch.Size([4, 8, 5])\n"
     ]
    },
    {
     "data": {
      "application/vnd.jupyter.widget-view+json": {
       "model_id": "438bca2697ef4b9abf3c7269031a503e",
       "version_major": 2,
       "version_minor": 0
      },
      "text/plain": [
       "  0%|          | 0/5000 [00:00<?, ?it/s]"
      ]
     },
     "metadata": {},
     "output_type": "display_data"
    },
    {
     "name": "stderr",
     "output_type": "stream",
     "text": [
      "/home/darlinne.soto/dl02/librep-hiaac/experiments/Topological_ae/MotionSense20Hz/../../../librep/transforms/topo_ae.py:107: UserWarning: To copy construct from a tensor, it is recommended to use sourceTensor.clone().detach() or sourceTensor.clone().detach().requires_grad_(True), rather than torch.tensor(sourceTensor).\n",
      "  in_tensor = torch.tensor(reshaped_data, device=self.cuda_device).float()\n",
      "/home/darlinne.soto/dl02/librep-hiaac/experiments/Topological_ae/MotionSense20Hz/../../../librep/transforms/topo_ae.py:119: UserWarning: To copy construct from a tensor, it is recommended to use sourceTensor.clone().detach() or sourceTensor.clone().detach().requires_grad_(True), rather than torch.tensor(sourceTensor).\n",
      "  in_tensor = torch.tensor(reshaped_data, device=self.cuda_device).float()\n",
      "IOPub message rate exceeded.\n",
      "The Jupyter server will temporarily stop sending output\n",
      "to the client in order to avoid crashing it.\n",
      "To change this limit, set the config variable\n",
      "`--ServerApp.iopub_msg_rate_limit`.\n",
      "\n",
      "Current values:\n",
      "ServerApp.iopub_msg_rate_limit=1000.0 (msgs/sec)\n",
      "ServerApp.rate_limit_window=3.0 (secs)\n",
      "\n",
      "IOPub message rate exceeded.\n",
      "The Jupyter server will temporarily stop sending output\n",
      "to the client in order to avoid crashing it.\n",
      "To change this limit, set the config variable\n",
      "`--ServerApp.iopub_msg_rate_limit`.\n",
      "\n",
      "Current values:\n",
      "ServerApp.iopub_msg_rate_limit=1000.0 (msgs/sec)\n",
      "ServerApp.rate_limit_window=3.0 (secs)\n",
      "\n",
      "IOPub message rate exceeded.\n",
      "The Jupyter server will temporarily stop sending output\n",
      "to the client in order to avoid crashing it.\n",
      "To change this limit, set the config variable\n",
      "`--ServerApp.iopub_msg_rate_limit`.\n",
      "\n",
      "Current values:\n",
      "ServerApp.iopub_msg_rate_limit=1000.0 (msgs/sec)\n",
      "ServerApp.rate_limit_window=3.0 (secs)\n",
      "\n",
      "IOPub message rate exceeded.\n",
      "The Jupyter server will temporarily stop sending output\n",
      "to the client in order to avoid crashing it.\n",
      "To change this limit, set the config variable\n",
      "`--ServerApp.iopub_msg_rate_limit`.\n",
      "\n",
      "Current values:\n",
      "ServerApp.iopub_msg_rate_limit=1000.0 (msgs/sec)\n",
      "ServerApp.rate_limit_window=3.0 (secs)\n",
      "\n",
      "IOPub message rate exceeded.\n",
      "The Jupyter server will temporarily stop sending output\n",
      "to the client in order to avoid crashing it.\n",
      "To change this limit, set the config variable\n",
      "`--ServerApp.iopub_msg_rate_limit`.\n",
      "\n",
      "Current values:\n",
      "ServerApp.iopub_msg_rate_limit=1000.0 (msgs/sec)\n",
      "ServerApp.rate_limit_window=3.0 (secs)\n",
      "\n",
      "IOPub message rate exceeded.\n",
      "The Jupyter server will temporarily stop sending output\n",
      "to the client in order to avoid crashing it.\n",
      "To change this limit, set the config variable\n",
      "`--ServerApp.iopub_msg_rate_limit`.\n",
      "\n",
      "Current values:\n",
      "ServerApp.iopub_msg_rate_limit=1000.0 (msgs/sec)\n",
      "ServerApp.rate_limit_window=3.0 (secs)\n",
      "\n"
     ]
    },
    {
     "name": "stdout",
     "output_type": "stream",
     "text": [
      "Saved  data/ConvolutionalAutoencoder_custom_dim3_0_180-10_5000_22.pkl\n",
      "Topologically Regularized ConvolutionalAutoencoder_custom_dim3\n",
      "Using python to compute signatures\n",
      "ConvAECustomDim, Input: (1, 180) Inner dim: 10\n",
      "ENCODER STRUCT torch.Size([4, 8, 5])\n"
     ]
    },
    {
     "data": {
      "application/vnd.jupyter.widget-view+json": {
       "model_id": "6a3c8eb296e346498300f4e484c1c8ef",
       "version_major": 2,
       "version_minor": 0
      },
      "text/plain": [
       "  0%|          | 0/5000 [00:00<?, ?it/s]"
      ]
     },
     "metadata": {},
     "output_type": "display_data"
    },
    {
     "name": "stderr",
     "output_type": "stream",
     "text": [
      "/home/darlinne.soto/dl02/librep-hiaac/experiments/Topological_ae/MotionSense20Hz/../../../librep/transforms/topo_ae.py:107: UserWarning: To copy construct from a tensor, it is recommended to use sourceTensor.clone().detach() or sourceTensor.clone().detach().requires_grad_(True), rather than torch.tensor(sourceTensor).\n",
      "  in_tensor = torch.tensor(reshaped_data, device=self.cuda_device).float()\n",
      "/home/darlinne.soto/dl02/librep-hiaac/experiments/Topological_ae/MotionSense20Hz/../../../librep/transforms/topo_ae.py:119: UserWarning: To copy construct from a tensor, it is recommended to use sourceTensor.clone().detach() or sourceTensor.clone().detach().requires_grad_(True), rather than torch.tensor(sourceTensor).\n",
      "  in_tensor = torch.tensor(reshaped_data, device=self.cuda_device).float()\n",
      "IOPub message rate exceeded.\n",
      "The Jupyter server will temporarily stop sending output\n",
      "to the client in order to avoid crashing it.\n",
      "To change this limit, set the config variable\n",
      "`--ServerApp.iopub_msg_rate_limit`.\n",
      "\n",
      "Current values:\n",
      "ServerApp.iopub_msg_rate_limit=1000.0 (msgs/sec)\n",
      "ServerApp.rate_limit_window=3.0 (secs)\n",
      "\n"
     ]
    },
    {
     "name": "stdout",
     "output_type": "stream",
     "text": [
      "Saved  data/ConvolutionalAutoencoder_custom_dim3_1_180-10_5000_22.pkl\n",
      "Topologically Regularized ConvolutionalAutoencoder_custom_dim3\n",
      "Using python to compute signatures\n",
      "ConvAECustomDim, Input: (1, 180) Inner dim: 10\n",
      "ENCODER STRUCT torch.Size([4, 8, 5])\n"
     ]
    },
    {
     "data": {
      "application/vnd.jupyter.widget-view+json": {
       "model_id": "3297d95efb5b4cddadbe6f8c87969417",
       "version_major": 2,
       "version_minor": 0
      },
      "text/plain": [
       "  0%|          | 0/5000 [00:00<?, ?it/s]"
      ]
     },
     "metadata": {},
     "output_type": "display_data"
    },
    {
     "name": "stderr",
     "output_type": "stream",
     "text": [
      "/home/darlinne.soto/dl02/librep-hiaac/experiments/Topological_ae/MotionSense20Hz/../../../librep/transforms/topo_ae.py:107: UserWarning: To copy construct from a tensor, it is recommended to use sourceTensor.clone().detach() or sourceTensor.clone().detach().requires_grad_(True), rather than torch.tensor(sourceTensor).\n",
      "  in_tensor = torch.tensor(reshaped_data, device=self.cuda_device).float()\n",
      "/home/darlinne.soto/dl02/librep-hiaac/experiments/Topological_ae/MotionSense20Hz/../../../librep/transforms/topo_ae.py:119: UserWarning: To copy construct from a tensor, it is recommended to use sourceTensor.clone().detach() or sourceTensor.clone().detach().requires_grad_(True), rather than torch.tensor(sourceTensor).\n",
      "  in_tensor = torch.tensor(reshaped_data, device=self.cuda_device).float()\n",
      "IOPub message rate exceeded.\n",
      "The Jupyter server will temporarily stop sending output\n",
      "to the client in order to avoid crashing it.\n",
      "To change this limit, set the config variable\n",
      "`--ServerApp.iopub_msg_rate_limit`.\n",
      "\n",
      "Current values:\n",
      "ServerApp.iopub_msg_rate_limit=1000.0 (msgs/sec)\n",
      "ServerApp.rate_limit_window=3.0 (secs)\n",
      "\n",
      "IOPub message rate exceeded.\n",
      "The Jupyter server will temporarily stop sending output\n",
      "to the client in order to avoid crashing it.\n",
      "To change this limit, set the config variable\n",
      "`--ServerApp.iopub_msg_rate_limit`.\n",
      "\n",
      "Current values:\n",
      "ServerApp.iopub_msg_rate_limit=1000.0 (msgs/sec)\n",
      "ServerApp.rate_limit_window=3.0 (secs)\n",
      "\n",
      "IOPub message rate exceeded.\n",
      "The Jupyter server will temporarily stop sending output\n",
      "to the client in order to avoid crashing it.\n",
      "To change this limit, set the config variable\n",
      "`--ServerApp.iopub_msg_rate_limit`.\n",
      "\n",
      "Current values:\n",
      "ServerApp.iopub_msg_rate_limit=1000.0 (msgs/sec)\n",
      "ServerApp.rate_limit_window=3.0 (secs)\n",
      "\n",
      "IOPub message rate exceeded.\n",
      "The Jupyter server will temporarily stop sending output\n",
      "to the client in order to avoid crashing it.\n",
      "To change this limit, set the config variable\n",
      "`--ServerApp.iopub_msg_rate_limit`.\n",
      "\n",
      "Current values:\n",
      "ServerApp.iopub_msg_rate_limit=1000.0 (msgs/sec)\n",
      "ServerApp.rate_limit_window=3.0 (secs)\n",
      "\n",
      "IOPub message rate exceeded.\n",
      "The Jupyter server will temporarily stop sending output\n",
      "to the client in order to avoid crashing it.\n",
      "To change this limit, set the config variable\n",
      "`--ServerApp.iopub_msg_rate_limit`.\n",
      "\n",
      "Current values:\n",
      "ServerApp.iopub_msg_rate_limit=1000.0 (msgs/sec)\n",
      "ServerApp.rate_limit_window=3.0 (secs)\n",
      "\n"
     ]
    },
    {
     "name": "stdout",
     "output_type": "stream",
     "text": [
      "Saved  data/ConvolutionalAutoencoder_custom_dim3_0.1_180-10_5000_23.pkl\n",
      "Topologically Regularized ConvolutionalAutoencoder_custom_dim3\n",
      "Using python to compute signatures\n",
      "ConvAECustomDim, Input: (1, 180) Inner dim: 10\n",
      "ENCODER STRUCT torch.Size([4, 8, 5])\n"
     ]
    },
    {
     "data": {
      "application/vnd.jupyter.widget-view+json": {
       "model_id": "9b566c46e16d444da18b702f348bf619",
       "version_major": 2,
       "version_minor": 0
      },
      "text/plain": [
       "  0%|          | 0/5000 [00:00<?, ?it/s]"
      ]
     },
     "metadata": {},
     "output_type": "display_data"
    },
    {
     "name": "stderr",
     "output_type": "stream",
     "text": [
      "/home/darlinne.soto/dl02/librep-hiaac/experiments/Topological_ae/MotionSense20Hz/../../../librep/transforms/topo_ae.py:107: UserWarning: To copy construct from a tensor, it is recommended to use sourceTensor.clone().detach() or sourceTensor.clone().detach().requires_grad_(True), rather than torch.tensor(sourceTensor).\n",
      "  in_tensor = torch.tensor(reshaped_data, device=self.cuda_device).float()\n",
      "/home/darlinne.soto/dl02/librep-hiaac/experiments/Topological_ae/MotionSense20Hz/../../../librep/transforms/topo_ae.py:119: UserWarning: To copy construct from a tensor, it is recommended to use sourceTensor.clone().detach() or sourceTensor.clone().detach().requires_grad_(True), rather than torch.tensor(sourceTensor).\n",
      "  in_tensor = torch.tensor(reshaped_data, device=self.cuda_device).float()\n",
      "IOPub message rate exceeded.\n",
      "The Jupyter server will temporarily stop sending output\n",
      "to the client in order to avoid crashing it.\n",
      "To change this limit, set the config variable\n",
      "`--ServerApp.iopub_msg_rate_limit`.\n",
      "\n",
      "Current values:\n",
      "ServerApp.iopub_msg_rate_limit=1000.0 (msgs/sec)\n",
      "ServerApp.rate_limit_window=3.0 (secs)\n",
      "\n"
     ]
    },
    {
     "name": "stdout",
     "output_type": "stream",
     "text": [
      "Saved  data/ConvolutionalAutoencoder_custom_dim3_0_180-10_5000_23.pkl\n",
      "Topologically Regularized ConvolutionalAutoencoder_custom_dim3\n",
      "Using python to compute signatures\n",
      "ConvAECustomDim, Input: (1, 180) Inner dim: 10\n",
      "ENCODER STRUCT torch.Size([4, 8, 5])\n"
     ]
    },
    {
     "data": {
      "application/vnd.jupyter.widget-view+json": {
       "model_id": "7f535ae04e3e4d79811d5b70bbd47b05",
       "version_major": 2,
       "version_minor": 0
      },
      "text/plain": [
       "  0%|          | 0/5000 [00:00<?, ?it/s]"
      ]
     },
     "metadata": {},
     "output_type": "display_data"
    },
    {
     "name": "stderr",
     "output_type": "stream",
     "text": [
      "/home/darlinne.soto/dl02/librep-hiaac/experiments/Topological_ae/MotionSense20Hz/../../../librep/transforms/topo_ae.py:107: UserWarning: To copy construct from a tensor, it is recommended to use sourceTensor.clone().detach() or sourceTensor.clone().detach().requires_grad_(True), rather than torch.tensor(sourceTensor).\n",
      "  in_tensor = torch.tensor(reshaped_data, device=self.cuda_device).float()\n",
      "/home/darlinne.soto/dl02/librep-hiaac/experiments/Topological_ae/MotionSense20Hz/../../../librep/transforms/topo_ae.py:119: UserWarning: To copy construct from a tensor, it is recommended to use sourceTensor.clone().detach() or sourceTensor.clone().detach().requires_grad_(True), rather than torch.tensor(sourceTensor).\n",
      "  in_tensor = torch.tensor(reshaped_data, device=self.cuda_device).float()\n",
      "IOPub message rate exceeded.\n",
      "The Jupyter server will temporarily stop sending output\n",
      "to the client in order to avoid crashing it.\n",
      "To change this limit, set the config variable\n",
      "`--ServerApp.iopub_msg_rate_limit`.\n",
      "\n",
      "Current values:\n",
      "ServerApp.iopub_msg_rate_limit=1000.0 (msgs/sec)\n",
      "ServerApp.rate_limit_window=3.0 (secs)\n",
      "\n"
     ]
    },
    {
     "name": "stdout",
     "output_type": "stream",
     "text": [
      "Saved  data/ConvolutionalAutoencoder_custom_dim3_1_180-10_5000_23.pkl\n",
      "Topologically Regularized ConvolutionalAutoencoder_custom_dim3\n",
      "Using python to compute signatures\n",
      "ConvAECustomDim, Input: (1, 180) Inner dim: 10\n",
      "ENCODER STRUCT torch.Size([4, 8, 5])\n"
     ]
    },
    {
     "data": {
      "application/vnd.jupyter.widget-view+json": {
       "model_id": "0ba553320e9f43d7925311758095603c",
       "version_major": 2,
       "version_minor": 0
      },
      "text/plain": [
       "  0%|          | 0/5000 [00:00<?, ?it/s]"
      ]
     },
     "metadata": {},
     "output_type": "display_data"
    },
    {
     "name": "stderr",
     "output_type": "stream",
     "text": [
      "/home/darlinne.soto/dl02/librep-hiaac/experiments/Topological_ae/MotionSense20Hz/../../../librep/transforms/topo_ae.py:107: UserWarning: To copy construct from a tensor, it is recommended to use sourceTensor.clone().detach() or sourceTensor.clone().detach().requires_grad_(True), rather than torch.tensor(sourceTensor).\n",
      "  in_tensor = torch.tensor(reshaped_data, device=self.cuda_device).float()\n",
      "/home/darlinne.soto/dl02/librep-hiaac/experiments/Topological_ae/MotionSense20Hz/../../../librep/transforms/topo_ae.py:119: UserWarning: To copy construct from a tensor, it is recommended to use sourceTensor.clone().detach() or sourceTensor.clone().detach().requires_grad_(True), rather than torch.tensor(sourceTensor).\n",
      "  in_tensor = torch.tensor(reshaped_data, device=self.cuda_device).float()\n",
      "IOPub message rate exceeded.\n",
      "The Jupyter server will temporarily stop sending output\n",
      "to the client in order to avoid crashing it.\n",
      "To change this limit, set the config variable\n",
      "`--ServerApp.iopub_msg_rate_limit`.\n",
      "\n",
      "Current values:\n",
      "ServerApp.iopub_msg_rate_limit=1000.0 (msgs/sec)\n",
      "ServerApp.rate_limit_window=3.0 (secs)\n",
      "\n",
      "IOPub message rate exceeded.\n",
      "The Jupyter server will temporarily stop sending output\n",
      "to the client in order to avoid crashing it.\n",
      "To change this limit, set the config variable\n",
      "`--ServerApp.iopub_msg_rate_limit`.\n",
      "\n",
      "Current values:\n",
      "ServerApp.iopub_msg_rate_limit=1000.0 (msgs/sec)\n",
      "ServerApp.rate_limit_window=3.0 (secs)\n",
      "\n",
      "IOPub message rate exceeded.\n",
      "The Jupyter server will temporarily stop sending output\n",
      "to the client in order to avoid crashing it.\n",
      "To change this limit, set the config variable\n",
      "`--ServerApp.iopub_msg_rate_limit`.\n",
      "\n",
      "Current values:\n",
      "ServerApp.iopub_msg_rate_limit=1000.0 (msgs/sec)\n",
      "ServerApp.rate_limit_window=3.0 (secs)\n",
      "\n",
      "IOPub message rate exceeded.\n",
      "The Jupyter server will temporarily stop sending output\n",
      "to the client in order to avoid crashing it.\n",
      "To change this limit, set the config variable\n",
      "`--ServerApp.iopub_msg_rate_limit`.\n",
      "\n",
      "Current values:\n",
      "ServerApp.iopub_msg_rate_limit=1000.0 (msgs/sec)\n",
      "ServerApp.rate_limit_window=3.0 (secs)\n",
      "\n"
     ]
    },
    {
     "name": "stdout",
     "output_type": "stream",
     "text": [
      "Saved  data/ConvolutionalAutoencoder_custom_dim3_0.01_180-10_5000_24.pkl\n",
      "Topologically Regularized ConvolutionalAutoencoder_custom_dim3\n",
      "Using python to compute signatures\n",
      "ConvAECustomDim, Input: (1, 180) Inner dim: 10\n",
      "ENCODER STRUCT torch.Size([4, 8, 5])\n"
     ]
    },
    {
     "data": {
      "application/vnd.jupyter.widget-view+json": {
       "model_id": "d97749bccb7047deb6d4ab751dfc5f5e",
       "version_major": 2,
       "version_minor": 0
      },
      "text/plain": [
       "  0%|          | 0/5000 [00:00<?, ?it/s]"
      ]
     },
     "metadata": {},
     "output_type": "display_data"
    },
    {
     "name": "stderr",
     "output_type": "stream",
     "text": [
      "/home/darlinne.soto/dl02/librep-hiaac/experiments/Topological_ae/MotionSense20Hz/../../../librep/transforms/topo_ae.py:107: UserWarning: To copy construct from a tensor, it is recommended to use sourceTensor.clone().detach() or sourceTensor.clone().detach().requires_grad_(True), rather than torch.tensor(sourceTensor).\n",
      "  in_tensor = torch.tensor(reshaped_data, device=self.cuda_device).float()\n",
      "/home/darlinne.soto/dl02/librep-hiaac/experiments/Topological_ae/MotionSense20Hz/../../../librep/transforms/topo_ae.py:119: UserWarning: To copy construct from a tensor, it is recommended to use sourceTensor.clone().detach() or sourceTensor.clone().detach().requires_grad_(True), rather than torch.tensor(sourceTensor).\n",
      "  in_tensor = torch.tensor(reshaped_data, device=self.cuda_device).float()\n",
      "IOPub message rate exceeded.\n",
      "The Jupyter server will temporarily stop sending output\n",
      "to the client in order to avoid crashing it.\n",
      "To change this limit, set the config variable\n",
      "`--ServerApp.iopub_msg_rate_limit`.\n",
      "\n",
      "Current values:\n",
      "ServerApp.iopub_msg_rate_limit=1000.0 (msgs/sec)\n",
      "ServerApp.rate_limit_window=3.0 (secs)\n",
      "\n"
     ]
    },
    {
     "name": "stdout",
     "output_type": "stream",
     "text": [
      "Saved  data/ConvolutionalAutoencoder_custom_dim3_0.1_180-10_5000_24.pkl\n",
      "Topologically Regularized ConvolutionalAutoencoder_custom_dim3\n",
      "Using python to compute signatures\n",
      "ConvAECustomDim, Input: (1, 180) Inner dim: 10\n",
      "ENCODER STRUCT torch.Size([4, 8, 5])\n"
     ]
    },
    {
     "data": {
      "application/vnd.jupyter.widget-view+json": {
       "model_id": "d82fa0fc0cab4c0090397275d1ca3442",
       "version_major": 2,
       "version_minor": 0
      },
      "text/plain": [
       "  0%|          | 0/5000 [00:00<?, ?it/s]"
      ]
     },
     "metadata": {},
     "output_type": "display_data"
    },
    {
     "name": "stderr",
     "output_type": "stream",
     "text": [
      "/home/darlinne.soto/dl02/librep-hiaac/experiments/Topological_ae/MotionSense20Hz/../../../librep/transforms/topo_ae.py:107: UserWarning: To copy construct from a tensor, it is recommended to use sourceTensor.clone().detach() or sourceTensor.clone().detach().requires_grad_(True), rather than torch.tensor(sourceTensor).\n",
      "  in_tensor = torch.tensor(reshaped_data, device=self.cuda_device).float()\n",
      "/home/darlinne.soto/dl02/librep-hiaac/experiments/Topological_ae/MotionSense20Hz/../../../librep/transforms/topo_ae.py:119: UserWarning: To copy construct from a tensor, it is recommended to use sourceTensor.clone().detach() or sourceTensor.clone().detach().requires_grad_(True), rather than torch.tensor(sourceTensor).\n",
      "  in_tensor = torch.tensor(reshaped_data, device=self.cuda_device).float()\n",
      "IOPub message rate exceeded.\n",
      "The Jupyter server will temporarily stop sending output\n",
      "to the client in order to avoid crashing it.\n",
      "To change this limit, set the config variable\n",
      "`--ServerApp.iopub_msg_rate_limit`.\n",
      "\n",
      "Current values:\n",
      "ServerApp.iopub_msg_rate_limit=1000.0 (msgs/sec)\n",
      "ServerApp.rate_limit_window=3.0 (secs)\n",
      "\n",
      "IOPub message rate exceeded.\n",
      "The Jupyter server will temporarily stop sending output\n",
      "to the client in order to avoid crashing it.\n",
      "To change this limit, set the config variable\n",
      "`--ServerApp.iopub_msg_rate_limit`.\n",
      "\n",
      "Current values:\n",
      "ServerApp.iopub_msg_rate_limit=1000.0 (msgs/sec)\n",
      "ServerApp.rate_limit_window=3.0 (secs)\n",
      "\n",
      "IOPub message rate exceeded.\n",
      "The Jupyter server will temporarily stop sending output\n",
      "to the client in order to avoid crashing it.\n",
      "To change this limit, set the config variable\n",
      "`--ServerApp.iopub_msg_rate_limit`.\n",
      "\n",
      "Current values:\n",
      "ServerApp.iopub_msg_rate_limit=1000.0 (msgs/sec)\n",
      "ServerApp.rate_limit_window=3.0 (secs)\n",
      "\n"
     ]
    },
    {
     "name": "stdout",
     "output_type": "stream",
     "text": [
      "Saved  data/ConvolutionalAutoencoder_custom_dim3_1_180-10_5000_24.pkl\n",
      "Topologically Regularized ConvolutionalAutoencoder_custom_dim3\n",
      "Using python to compute signatures\n",
      "ConvAECustomDim, Input: (1, 180) Inner dim: 10\n",
      "ENCODER STRUCT torch.Size([4, 8, 5])\n"
     ]
    },
    {
     "data": {
      "application/vnd.jupyter.widget-view+json": {
       "model_id": "cc21fdc149074ff4b52be5be73a58195",
       "version_major": 2,
       "version_minor": 0
      },
      "text/plain": [
       "  0%|          | 0/5000 [00:00<?, ?it/s]"
      ]
     },
     "metadata": {},
     "output_type": "display_data"
    },
    {
     "name": "stderr",
     "output_type": "stream",
     "text": [
      "/home/darlinne.soto/dl02/librep-hiaac/experiments/Topological_ae/MotionSense20Hz/../../../librep/transforms/topo_ae.py:107: UserWarning: To copy construct from a tensor, it is recommended to use sourceTensor.clone().detach() or sourceTensor.clone().detach().requires_grad_(True), rather than torch.tensor(sourceTensor).\n",
      "  in_tensor = torch.tensor(reshaped_data, device=self.cuda_device).float()\n",
      "/home/darlinne.soto/dl02/librep-hiaac/experiments/Topological_ae/MotionSense20Hz/../../../librep/transforms/topo_ae.py:119: UserWarning: To copy construct from a tensor, it is recommended to use sourceTensor.clone().detach() or sourceTensor.clone().detach().requires_grad_(True), rather than torch.tensor(sourceTensor).\n",
      "  in_tensor = torch.tensor(reshaped_data, device=self.cuda_device).float()\n",
      "IOPub message rate exceeded.\n",
      "The Jupyter server will temporarily stop sending output\n",
      "to the client in order to avoid crashing it.\n",
      "To change this limit, set the config variable\n",
      "`--ServerApp.iopub_msg_rate_limit`.\n",
      "\n",
      "Current values:\n",
      "ServerApp.iopub_msg_rate_limit=1000.0 (msgs/sec)\n",
      "ServerApp.rate_limit_window=3.0 (secs)\n",
      "\n",
      "IOPub message rate exceeded.\n",
      "The Jupyter server will temporarily stop sending output\n",
      "to the client in order to avoid crashing it.\n",
      "To change this limit, set the config variable\n",
      "`--ServerApp.iopub_msg_rate_limit`.\n",
      "\n",
      "Current values:\n",
      "ServerApp.iopub_msg_rate_limit=1000.0 (msgs/sec)\n",
      "ServerApp.rate_limit_window=3.0 (secs)\n",
      "\n",
      "IOPub message rate exceeded.\n",
      "The Jupyter server will temporarily stop sending output\n",
      "to the client in order to avoid crashing it.\n",
      "To change this limit, set the config variable\n",
      "`--ServerApp.iopub_msg_rate_limit`.\n",
      "\n",
      "Current values:\n",
      "ServerApp.iopub_msg_rate_limit=1000.0 (msgs/sec)\n",
      "ServerApp.rate_limit_window=3.0 (secs)\n",
      "\n"
     ]
    }
   ],
   "source": [
    "lambdas = [0.01, 0.1, 0, 1, 10, 100]\n",
    "# lambdas = [0, 1]\n",
    "for save_id in save_ids:\n",
    "    for model_lam in lambdas:\n",
    "        topo_reducer = CustomTopoDimRedTransform(\n",
    "            model_name=model_name,\n",
    "            model_lambda=model_lam,\n",
    "            patience=None,\n",
    "            num_epochs=model_epc,\n",
    "            start_dim=180,\n",
    "            latent_dim=model_dim,\n",
    "            save_dir='data/',\n",
    "            save_tag=save_id,\n",
    "            save_frequency=save_freq\n",
    "        )\n",
    "        topo_reducer.fit(train_HD, train_Y)\n",
    "        filename = topo_reducer.save()"
   ]
  },
  {
   "cell_type": "code",
   "execution_count": 20,
   "id": "3789d7d0-4122-456f-a456-39b86751e72b",
   "metadata": {
    "execution": {
     "iopub.execute_input": "2022-12-30T01:27:29.781043Z",
     "iopub.status.busy": "2022-12-30T01:27:29.780275Z",
     "iopub.status.idle": "2022-12-30T01:27:30.105104Z",
     "shell.execute_reply": "2022-12-30T01:27:30.069573Z",
     "shell.execute_reply.started": "2022-12-30T01:27:29.780972Z"
    },
    "tags": []
   },
   "outputs": [
    {
     "ename": "AssertionError",
     "evalue": "",
     "output_type": "error",
     "traceback": [
      "\u001b[0;31m---------------------------------------------------------------------------\u001b[0m",
      "\u001b[0;31mAssertionError\u001b[0m                            Traceback (most recent call last)",
      "Cell \u001b[0;32mIn[20], line 1\u001b[0m\n\u001b[0;32m----> 1\u001b[0m \u001b[38;5;28;01massert\u001b[39;00m \u001b[38;5;241m1\u001b[39m\u001b[38;5;241m==\u001b[39m\u001b[38;5;241m0\u001b[39m\n",
      "\u001b[0;31mAssertionError\u001b[0m: "
     ]
    }
   ],
   "source": [
    "assert 1==0"
   ]
  },
  {
   "cell_type": "code",
   "execution_count": null,
   "id": "44198afa-6130-4b02-9a6a-3bbe7c0e5890",
   "metadata": {
    "execution": {
     "iopub.status.busy": "2022-12-30T01:27:30.106183Z",
     "iopub.status.idle": "2022-12-30T01:27:30.106642Z",
     "shell.execute_reply": "2022-12-30T01:27:30.106418Z",
     "shell.execute_reply.started": "2022-12-30T01:27:30.106396Z"
    },
    "tags": []
   },
   "outputs": [],
   "source": [
    "# Example of loading\n",
    "import pickle\n",
    "filename = 'data/ConvolutionalAutoencoder_custom_dim3_0_180-10_10_0.pkl'\n",
    "filehandler = open(filename, 'rb')\n",
    "model_loaded = pickle.load(filehandler)\n",
    "filehandler.close()"
   ]
  },
  {
   "cell_type": "code",
   "execution_count": null,
   "id": "6b00e643-9e41-4138-adaf-3087b001225c",
   "metadata": {
    "execution": {
     "iopub.status.busy": "2022-12-30T01:27:30.108317Z",
     "iopub.status.idle": "2022-12-30T01:27:30.108860Z",
     "shell.execute_reply": "2022-12-30T01:27:30.108637Z",
     "shell.execute_reply.started": "2022-12-30T01:27:30.108614Z"
    },
    "tags": []
   },
   "outputs": [],
   "source": [
    "model_loaded.history"
   ]
  }
 ],
 "metadata": {
  "kernelspec": {
   "display_name": "Python 3 (ipykernel)",
   "language": "python",
   "name": "python3"
  },
  "language_info": {
   "codemirror_mode": {
    "name": "ipython",
    "version": 3
   },
   "file_extension": ".py",
   "mimetype": "text/x-python",
   "name": "python",
   "nbconvert_exporter": "python",
   "pygments_lexer": "ipython3",
   "version": "3.8.10"
  }
 },
 "nbformat": 4,
 "nbformat_minor": 5
}
