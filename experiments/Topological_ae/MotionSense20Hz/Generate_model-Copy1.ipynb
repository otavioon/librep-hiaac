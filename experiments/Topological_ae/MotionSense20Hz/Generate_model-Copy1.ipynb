{
 "cells": [
  {
   "cell_type": "code",
   "execution_count": 1,
   "id": "7e1630ed-63c8-4ee7-86c9-62dfb528b9a2",
   "metadata": {
    "execution": {
     "iopub.execute_input": "2022-11-29T02:19:24.234475Z",
     "iopub.status.busy": "2022-11-29T02:19:24.233701Z",
     "iopub.status.idle": "2022-11-29T02:19:24.266516Z",
     "shell.execute_reply": "2022-11-29T02:19:24.265070Z",
     "shell.execute_reply.started": "2022-11-29T02:19:24.234411Z"
    }
   },
   "outputs": [],
   "source": [
    "%load_ext autoreload\n",
    "%autoreload 2"
   ]
  },
  {
   "cell_type": "code",
   "execution_count": 2,
   "id": "fedad853",
   "metadata": {
    "execution": {
     "iopub.execute_input": "2022-11-29T02:19:24.268548Z",
     "iopub.status.busy": "2022-11-29T02:19:24.268166Z",
     "iopub.status.idle": "2022-11-29T02:19:24.334705Z",
     "shell.execute_reply": "2022-11-29T02:19:24.333143Z",
     "shell.execute_reply.started": "2022-11-29T02:19:24.268514Z"
    }
   },
   "outputs": [],
   "source": [
    "import os\n",
    "os.environ[\"CUDA_VISIBLE_DEVICES\"] = \"0\""
   ]
  },
  {
   "cell_type": "code",
   "execution_count": 3,
   "id": "c1e18129",
   "metadata": {
    "execution": {
     "iopub.execute_input": "2022-11-29T02:19:24.336488Z",
     "iopub.status.busy": "2022-11-29T02:19:24.336127Z",
     "iopub.status.idle": "2022-11-29T02:19:26.916605Z",
     "shell.execute_reply": "2022-11-29T02:19:26.915424Z",
     "shell.execute_reply.started": "2022-11-29T02:19:24.336455Z"
    }
   },
   "outputs": [
    {
     "name": "stdout",
     "output_type": "stream",
     "text": [
      "True\n",
      "1\n",
      "0\n",
      "<torch.cuda.device object at 0x7fe314598a00>\n",
      "NVIDIA TITAN Xp\n"
     ]
    }
   ],
   "source": [
    "import torch\n",
    "print(torch.cuda.is_available()) # True\n",
    "print(torch.cuda.device_count()) # 1\n",
    "print(torch.cuda.current_device()) # 0\n",
    "print(torch.cuda.device(0)) # <torch.cuda.device at 0x7efce0b03be0>\n",
    "print(torch.cuda.get_device_name(0)) # 'GeForce GTX 950M'"
   ]
  },
  {
   "cell_type": "code",
   "execution_count": 4,
   "id": "2da911e3-e82f-47c9-8090-f71f453956ee",
   "metadata": {
    "execution": {
     "iopub.execute_input": "2022-11-29T02:19:26.918835Z",
     "iopub.status.busy": "2022-11-29T02:19:26.918186Z",
     "iopub.status.idle": "2022-11-29T02:19:26.953913Z",
     "shell.execute_reply": "2022-11-29T02:19:26.952565Z",
     "shell.execute_reply.started": "2022-11-29T02:19:26.918796Z"
    }
   },
   "outputs": [],
   "source": [
    "import sys\n",
    "sys.path.append(\"../../..\")"
   ]
  },
  {
   "cell_type": "code",
   "execution_count": 5,
   "id": "5f067405-ab8c-4f22-b056-ab9e1febe71c",
   "metadata": {
    "execution": {
     "iopub.execute_input": "2022-11-29T02:19:26.958453Z",
     "iopub.status.busy": "2022-11-29T02:19:26.957897Z",
     "iopub.status.idle": "2022-11-29T02:19:28.042257Z",
     "shell.execute_reply": "2022-11-29T02:19:28.041132Z",
     "shell.execute_reply.started": "2022-11-29T02:19:26.958418Z"
    }
   },
   "outputs": [],
   "source": [
    "import numpy as np\n",
    "import pandas as pd\n",
    "import matplotlib.pyplot as plt"
   ]
  },
  {
   "cell_type": "code",
   "execution_count": 6,
   "id": "cc5007e3-ef19-4658-ac7d-2a6f617bb9c6",
   "metadata": {
    "execution": {
     "iopub.execute_input": "2022-11-29T02:19:28.044303Z",
     "iopub.status.busy": "2022-11-29T02:19:28.043647Z",
     "iopub.status.idle": "2022-11-29T02:19:41.875883Z",
     "shell.execute_reply": "2022-11-29T02:19:41.874441Z",
     "shell.execute_reply.started": "2022-11-29T02:19:28.044266Z"
    }
   },
   "outputs": [
    {
     "name": "stderr",
     "output_type": "stream",
     "text": [
      "2022-11-29 02:19:39.070250: I tensorflow/core/platform/cpu_feature_guard.cc:193] This TensorFlow binary is optimized with oneAPI Deep Neural Network Library (oneDNN) to use the following CPU instructions in performance-critical operations:  AVX2 AVX512F FMA\n",
      "To enable them in other operations, rebuild TensorFlow with the appropriate compiler flags.\n",
      "2022-11-29 02:19:40.394570: W tensorflow/compiler/xla/stream_executor/platform/default/dso_loader.cc:64] Could not load dynamic library 'libnvinfer.so.7'; dlerror: libnvinfer.so.7: cannot open shared object file: No such file or directory\n",
      "2022-11-29 02:19:40.394711: W tensorflow/compiler/xla/stream_executor/platform/default/dso_loader.cc:64] Could not load dynamic library 'libnvinfer_plugin.so.7'; dlerror: libnvinfer_plugin.so.7: cannot open shared object file: No such file or directory\n",
      "2022-11-29 02:19:40.394727: W tensorflow/compiler/tf2tensorrt/utils/py_utils.cc:38] TF-TRT Warning: Cannot dlopen some TensorRT libraries. If you would like to use Nvidia GPU with TensorRT, please make sure the missing libraries mentioned above are installed properly.\n"
     ]
    }
   ],
   "source": [
    "from librep.datasets.har.loaders import (\n",
    "    MotionSense_BalancedView20HZ\n",
    ")"
   ]
  },
  {
   "cell_type": "code",
   "execution_count": 7,
   "id": "2f9f66b2-7b1c-4d4e-a0e3-cde9552a595a",
   "metadata": {
    "execution": {
     "iopub.execute_input": "2022-11-29T02:19:41.878230Z",
     "iopub.status.busy": "2022-11-29T02:19:41.877484Z",
     "iopub.status.idle": "2022-11-29T02:19:41.985710Z",
     "shell.execute_reply": "2022-11-29T02:19:41.984334Z",
     "shell.execute_reply.started": "2022-11-29T02:19:41.878191Z"
    }
   },
   "outputs": [],
   "source": [
    "from librep.transforms.topo_ae import (\n",
    "    TopologicalDimensionalityReduction,\n",
    "    CustomTopoDimRedTransform\n",
    ")\n",
    "from librep.transforms import UMAP\n",
    "from sklearn.manifold import TSNE\n",
    "from experiments.Topological_ae.Experiment_utils import *\n",
    "from librep.datasets.multimodal import TransformMultiModalDataset\n",
    "from librep.transforms.fft import FFT"
   ]
  },
  {
   "cell_type": "code",
   "execution_count": 8,
   "id": "85bea424-07ff-47ec-945a-aef385afe7a7",
   "metadata": {
    "execution": {
     "iopub.execute_input": "2022-11-29T02:19:41.987941Z",
     "iopub.status.busy": "2022-11-29T02:19:41.987358Z",
     "iopub.status.idle": "2022-11-29T02:19:42.360782Z",
     "shell.execute_reply": "2022-11-29T02:19:42.358752Z",
     "shell.execute_reply.started": "2022-11-29T02:19:41.987904Z"
    }
   },
   "outputs": [],
   "source": [
    "# MotionSense Loader\n",
    "loader = MotionSense_BalancedView20HZ(\n",
    "    root_dir=\"../../../data/views/MotionSense/balanced_view_20Hz_with_gravity_9.81_acc_standard\", \n",
    "    download=False\n",
    ")"
   ]
  },
  {
   "cell_type": "code",
   "execution_count": 9,
   "id": "3d817b0c-4e6b-4227-9b48-cd23c3df190d",
   "metadata": {
    "execution": {
     "iopub.execute_input": "2022-11-29T02:19:42.363840Z",
     "iopub.status.busy": "2022-11-29T02:19:42.363298Z",
     "iopub.status.idle": "2022-11-29T02:19:43.159657Z",
     "shell.execute_reply": "2022-11-29T02:19:43.158110Z",
     "shell.execute_reply.started": "2022-11-29T02:19:42.363796Z"
    }
   },
   "outputs": [
    {
     "data": {
      "text/plain": [
       "(PandasMultiModalDataset: samples=4020, features=360, no. window=6, label_columns='standard activity code',\n",
       " PandasMultiModalDataset: samples=1020, features=360, no. window=6, label_columns='standard activity code')"
      ]
     },
     "execution_count": 9,
     "metadata": {},
     "output_type": "execute_result"
    }
   ],
   "source": [
    "# Load the dataset\n",
    "train_val, test = loader.load(concat_train_validation=True, label=loader.standard_label)\n",
    "train_val, test"
   ]
  },
  {
   "cell_type": "code",
   "execution_count": 10,
   "id": "9491b1e0-0b60-439c-9bed-ea0ee7918b68",
   "metadata": {
    "execution": {
     "iopub.execute_input": "2022-11-29T02:19:43.162540Z",
     "iopub.status.busy": "2022-11-29T02:19:43.161305Z",
     "iopub.status.idle": "2022-11-29T02:19:43.302116Z",
     "shell.execute_reply": "2022-11-29T02:19:43.300456Z",
     "shell.execute_reply.started": "2022-11-29T02:19:43.162457Z"
    }
   },
   "outputs": [],
   "source": [
    "train_HD = np.array(train_val[:][0])\n",
    "train_LD = None\n",
    "train_Y = np.array(train_val[:][1])\n",
    "test_HD = np.array(test[:][0])\n",
    "test_LD = None\n",
    "test_Y = np.array(test[:][1])"
   ]
  },
  {
   "cell_type": "code",
   "execution_count": 11,
   "id": "cc4810ac-c560-4b23-9b72-481a2d0f1a91",
   "metadata": {
    "execution": {
     "iopub.execute_input": "2022-11-29T02:19:43.304401Z",
     "iopub.status.busy": "2022-11-29T02:19:43.303760Z",
     "iopub.status.idle": "2022-11-29T02:19:43.418618Z",
     "shell.execute_reply": "2022-11-29T02:19:43.416834Z",
     "shell.execute_reply.started": "2022-11-29T02:19:43.304364Z"
    }
   },
   "outputs": [
    {
     "name": "stdout",
     "output_type": "stream",
     "text": [
      "(4020, 360) (4020,) (1020, 360) (1020,)\n"
     ]
    }
   ],
   "source": [
    "print(train_HD.shape, train_Y.shape, test_HD.shape, test_Y.shape)"
   ]
  },
  {
   "cell_type": "markdown",
   "id": "4c93d061-6ea0-418b-b690-2d977f6297c9",
   "metadata": {},
   "source": [
    "# Aplicar FFT"
   ]
  },
  {
   "cell_type": "code",
   "execution_count": 12,
   "id": "e5255de5-0259-404a-a2d8-507ad4f2ee2f",
   "metadata": {
    "execution": {
     "iopub.execute_input": "2022-11-29T02:19:43.421967Z",
     "iopub.status.busy": "2022-11-29T02:19:43.421047Z",
     "iopub.status.idle": "2022-11-29T02:19:43.510065Z",
     "shell.execute_reply": "2022-11-29T02:19:43.508554Z",
     "shell.execute_reply.started": "2022-11-29T02:19:43.421907Z"
    }
   },
   "outputs": [],
   "source": [
    "fft_transform = FFT(centered = True)\n",
    "transformer = TransformMultiModalDataset(\n",
    "    transforms=[fft_transform],\n",
    "    new_window_name_prefix=\"fft.\"\n",
    ")"
   ]
  },
  {
   "cell_type": "code",
   "execution_count": 13,
   "id": "29195f38-f8a9-4167-937f-d3f98ddc7642",
   "metadata": {
    "execution": {
     "iopub.execute_input": "2022-11-29T02:19:43.512423Z",
     "iopub.status.busy": "2022-11-29T02:19:43.511616Z",
     "iopub.status.idle": "2022-11-29T02:19:44.214588Z",
     "shell.execute_reply": "2022-11-29T02:19:44.212952Z",
     "shell.execute_reply.started": "2022-11-29T02:19:43.512381Z"
    }
   },
   "outputs": [],
   "source": [
    "train_dataset_fft = transformer(train_val)\n",
    "test_dataset_fft = transformer(test)"
   ]
  },
  {
   "cell_type": "code",
   "execution_count": 14,
   "id": "3c8cfc25-0323-498a-931d-1249078f2796",
   "metadata": {
    "execution": {
     "iopub.execute_input": "2022-11-29T02:19:44.217652Z",
     "iopub.status.busy": "2022-11-29T02:19:44.216176Z",
     "iopub.status.idle": "2022-11-29T02:19:44.316058Z",
     "shell.execute_reply": "2022-11-29T02:19:44.314410Z",
     "shell.execute_reply.started": "2022-11-29T02:19:44.217563Z"
    }
   },
   "outputs": [
    {
     "name": "stdout",
     "output_type": "stream",
     "text": [
      "(4020, 180)\n",
      "(1020, 180)\n"
     ]
    }
   ],
   "source": [
    "print(train_dataset_fft.X.shape)\n",
    "print(test_dataset_fft.X.shape)"
   ]
  },
  {
   "cell_type": "code",
   "execution_count": 15,
   "id": "d413cc20-e5b5-4594-b1f7-f11153c00c5f",
   "metadata": {
    "execution": {
     "iopub.execute_input": "2022-11-29T02:19:44.318684Z",
     "iopub.status.busy": "2022-11-29T02:19:44.317953Z",
     "iopub.status.idle": "2022-11-29T02:19:44.610248Z",
     "shell.execute_reply": "2022-11-29T02:19:44.608220Z",
     "shell.execute_reply.started": "2022-11-29T02:19:44.318639Z"
    }
   },
   "outputs": [
    {
     "name": "stdout",
     "output_type": "stream",
     "text": [
      "797.3368276806895\n"
     ]
    }
   ],
   "source": [
    "print(np.max(train_dataset_fft.X))"
   ]
  },
  {
   "cell_type": "code",
   "execution_count": 16,
   "id": "fea2e105-a571-4a2f-ac76-096b08a6ef2f",
   "metadata": {
    "execution": {
     "iopub.execute_input": "2022-11-29T02:19:44.613632Z",
     "iopub.status.busy": "2022-11-29T02:19:44.612725Z",
     "iopub.status.idle": "2022-11-29T02:19:44.703369Z",
     "shell.execute_reply": "2022-11-29T02:19:44.701632Z",
     "shell.execute_reply.started": "2022-11-29T02:19:44.613586Z"
    }
   },
   "outputs": [],
   "source": [
    "train_HD = train_dataset_fft.X\n",
    "train_LD = None\n",
    "train_Y = train_dataset_fft.y\n",
    "test_HD = test_dataset_fft.X\n",
    "test_LD = None\n",
    "test_Y = test_dataset_fft.y"
   ]
  },
  {
   "cell_type": "code",
   "execution_count": 17,
   "id": "ee13aef1-77c7-42a9-930b-b1a56f980d25",
   "metadata": {
    "execution": {
     "iopub.execute_input": "2022-11-29T02:19:44.705896Z",
     "iopub.status.busy": "2022-11-29T02:19:44.705198Z",
     "iopub.status.idle": "2022-11-29T02:19:44.795974Z",
     "shell.execute_reply": "2022-11-29T02:19:44.794682Z",
     "shell.execute_reply.started": "2022-11-29T02:19:44.705853Z"
    }
   },
   "outputs": [
    {
     "name": "stdout",
     "output_type": "stream",
     "text": [
      "(4020, 180) (4020,) (1020, 180) (1020,)\n"
     ]
    }
   ],
   "source": [
    "print(train_HD.shape, train_Y.shape, test_HD.shape, test_Y.shape)"
   ]
  },
  {
   "cell_type": "code",
   "execution_count": null,
   "id": "e7f27b61-67c9-4927-bc55-aaa93f6591f3",
   "metadata": {
    "execution": {
     "iopub.execute_input": "2022-11-29T02:19:44.798533Z",
     "iopub.status.busy": "2022-11-29T02:19:44.797915Z"
    },
    "tags": []
   },
   "outputs": [
    {
     "name": "stdout",
     "output_type": "stream",
     "text": [
      "Topologically Regularized ConvolutionalAutoencoder_custom_dim3\n",
      "Using python to compute signatures\n",
      "ConvAECustomDim, Input: (1, 180) Inner dim: 10\n",
      "ENCODER STRUCT torch.Size([4, 8, 5])\n"
     ]
    },
    {
     "name": "stderr",
     "output_type": "stream",
     "text": [
      "/home/darlinne.soto/librep-hiaac/experiments/Topological_ae/MotionSense20Hz/../../../librep/transforms/topo_ae.py:75: UserWarning: To copy construct from a tensor, it is recommended to use sourceTensor.clone().detach() or sourceTensor.clone().detach().requires_grad_(True), rather than torch.tensor(sourceTensor).\n",
      "  in_tensor = torch.tensor(reshaped_data, device=cuda0).float()\n",
      "/home/darlinne.soto/librep-hiaac/experiments/Topological_ae/MotionSense20Hz/../../../librep/transforms/topo_ae.py:87: UserWarning: To copy construct from a tensor, it is recommended to use sourceTensor.clone().detach() or sourceTensor.clone().detach().requires_grad_(True), rather than torch.tensor(sourceTensor).\n",
      "  in_tensor = torch.tensor(reshaped_data, device=cuda0).float()\n"
     ]
    },
    {
     "name": "stdout",
     "output_type": "stream",
     "text": [
      "Epoch:1, P:None, Loss:2040.6556, Loss-ae:1796.9618, Loss-topo:243.6937\n",
      "Epoch:2, P:None, Loss:1034.9921, Loss-ae:981.9828, Loss-topo:53.0093\n",
      "Epoch:3, P:None, Loss:956.4432, Loss-ae:927.5306, Loss-topo:28.9125\n",
      "Epoch:4, P:None, Loss:925.0428, Loss-ae:895.2938, Loss-topo:29.7490\n",
      "Epoch:5, P:None, Loss:925.3632, Loss-ae:901.4273, Loss-topo:23.9360\n",
      "Epoch:6, P:None, Loss:912.9680, Loss-ae:892.4077, Loss-topo:20.5603\n",
      "Epoch:7, P:None, Loss:944.3194, Loss-ae:916.1058, Loss-topo:28.2137\n",
      "Epoch:8, P:None, Loss:911.9919, Loss-ae:895.4604, Loss-topo:16.5315\n",
      "Epoch:9, P:None, Loss:910.5260, Loss-ae:897.5157, Loss-topo:13.0104\n",
      "Epoch:10, P:None, Loss:930.7068, Loss-ae:914.8251, Loss-topo:15.8816\n",
      "Epoch:11, P:None, Loss:909.4633, Loss-ae:900.0549, Loss-topo:9.4083\n",
      "Epoch:12, P:None, Loss:899.6102, Loss-ae:892.2343, Loss-topo:7.3759\n",
      "Epoch:13, P:None, Loss:897.1316, Loss-ae:887.3326, Loss-topo:9.7990\n",
      "Epoch:14, P:None, Loss:912.3412, Loss-ae:906.1647, Loss-topo:6.1765\n",
      "Epoch:15, P:None, Loss:883.7213, Loss-ae:873.9181, Loss-topo:9.8032\n",
      "Epoch:16, P:None, Loss:900.3417, Loss-ae:892.7047, Loss-topo:7.6369\n",
      "Epoch:17, P:None, Loss:896.2193, Loss-ae:884.5623, Loss-topo:11.6570\n",
      "Epoch:18, P:None, Loss:846.3751, Loss-ae:830.7168, Loss-topo:15.6583\n",
      "Epoch:19, P:None, Loss:809.5111, Loss-ae:795.8632, Loss-topo:13.6480\n",
      "Epoch:20, P:None, Loss:827.7179, Loss-ae:816.6246, Loss-topo:11.0933\n",
      "Epoch:21, P:None, Loss:804.0891, Loss-ae:794.1138, Loss-topo:9.9753\n",
      "Epoch:22, P:None, Loss:833.8986, Loss-ae:823.3123, Loss-topo:10.5863\n",
      "Epoch:23, P:None, Loss:798.1400, Loss-ae:789.7276, Loss-topo:8.4124\n",
      "Epoch:24, P:None, Loss:776.8821, Loss-ae:768.9660, Loss-topo:7.9161\n",
      "Epoch:25, P:None, Loss:816.2506, Loss-ae:806.9321, Loss-topo:9.3185\n",
      "Epoch:26, P:None, Loss:790.9261, Loss-ae:783.9632, Loss-topo:6.9628\n",
      "Epoch:27, P:None, Loss:790.5620, Loss-ae:782.6382, Loss-topo:7.9239\n",
      "Epoch:28, P:None, Loss:796.7199, Loss-ae:788.4845, Loss-topo:8.2353\n",
      "Epoch:29, P:None, Loss:725.1505, Loss-ae:719.0590, Loss-topo:6.0915\n",
      "Epoch:30, P:None, Loss:690.9299, Loss-ae:684.1308, Loss-topo:6.7991\n",
      "Epoch:31, P:None, Loss:723.3599, Loss-ae:717.3812, Loss-topo:5.9787\n",
      "Epoch:32, P:None, Loss:686.3326, Loss-ae:679.9897, Loss-topo:6.3429\n",
      "Epoch:33, P:None, Loss:691.7911, Loss-ae:685.7408, Loss-topo:6.0502\n",
      "Epoch:34, P:None, Loss:685.5293, Loss-ae:678.8268, Loss-topo:6.7026\n",
      "Epoch:35, P:None, Loss:669.5510, Loss-ae:663.0542, Loss-topo:6.4968\n",
      "Epoch:36, P:None, Loss:688.0968, Loss-ae:681.2409, Loss-topo:6.8559\n",
      "Epoch:37, P:None, Loss:661.5899, Loss-ae:653.1315, Loss-topo:8.4584\n",
      "Epoch:38, P:None, Loss:640.9832, Loss-ae:631.4355, Loss-topo:9.5477\n",
      "Epoch:39, P:None, Loss:593.8646, Loss-ae:581.4038, Loss-topo:12.4608\n",
      "Epoch:40, P:None, Loss:490.4015, Loss-ae:473.3761, Loss-topo:17.0254\n",
      "Epoch:41, P:None, Loss:445.5613, Loss-ae:431.8146, Loss-topo:13.7468\n",
      "Epoch:42, P:None, Loss:433.0129, Loss-ae:419.5213, Loss-topo:13.4916\n",
      "Epoch:43, P:None, Loss:429.7468, Loss-ae:417.9625, Loss-topo:11.7843\n",
      "Epoch:44, P:None, Loss:407.2465, Loss-ae:396.7504, Loss-topo:10.4961\n",
      "Epoch:45, P:None, Loss:384.1951, Loss-ae:372.8434, Loss-topo:11.3517\n",
      "Epoch:46, P:None, Loss:383.1155, Loss-ae:372.6836, Loss-topo:10.4319\n",
      "Epoch:47, P:None, Loss:392.2447, Loss-ae:382.1679, Loss-topo:10.0768\n",
      "Epoch:48, P:None, Loss:384.4971, Loss-ae:375.3699, Loss-topo:9.1271\n",
      "Epoch:49, P:None, Loss:381.8721, Loss-ae:372.9535, Loss-topo:8.9186\n",
      "Epoch:50, P:None, Loss:378.0048, Loss-ae:368.4412, Loss-topo:9.5636\n",
      "Epoch:51, P:None, Loss:364.7329, Loss-ae:356.5314, Loss-topo:8.2014\n",
      "Epoch:52, P:None, Loss:362.2948, Loss-ae:353.9599, Loss-topo:8.3348\n",
      "Epoch:53, P:None, Loss:357.6432, Loss-ae:349.1725, Loss-topo:8.4707\n",
      "Epoch:54, P:None, Loss:366.4007, Loss-ae:357.1444, Loss-topo:9.2563\n",
      "Epoch:55, P:None, Loss:358.7855, Loss-ae:350.6468, Loss-topo:8.1386\n",
      "Epoch:56, P:None, Loss:351.0218, Loss-ae:343.5606, Loss-topo:7.4612\n",
      "Epoch:57, P:None, Loss:365.7608, Loss-ae:356.6606, Loss-topo:9.1002\n",
      "Epoch:58, P:None, Loss:352.2373, Loss-ae:345.3945, Loss-topo:6.8428\n",
      "Epoch:59, P:None, Loss:344.7954, Loss-ae:337.7464, Loss-topo:7.0490\n",
      "Epoch:60, P:None, Loss:345.4655, Loss-ae:338.7931, Loss-topo:6.6724\n",
      "Epoch:61, P:None, Loss:339.3994, Loss-ae:332.3104, Loss-topo:7.0890\n",
      "Epoch:62, P:None, Loss:336.7816, Loss-ae:329.6966, Loss-topo:7.0849\n",
      "Epoch:63, P:None, Loss:350.3578, Loss-ae:343.6940, Loss-topo:6.6638\n",
      "Epoch:64, P:None, Loss:341.4200, Loss-ae:334.8616, Loss-topo:6.5584\n",
      "Epoch:65, P:None, Loss:350.5454, Loss-ae:344.1964, Loss-topo:6.3490\n",
      "Epoch:66, P:None, Loss:335.4686, Loss-ae:329.8631, Loss-topo:5.6055\n",
      "Epoch:67, P:None, Loss:341.1252, Loss-ae:334.9925, Loss-topo:6.1327\n",
      "Epoch:68, P:None, Loss:342.4799, Loss-ae:336.5750, Loss-topo:5.9049\n",
      "Epoch:69, P:None, Loss:338.7655, Loss-ae:332.9649, Loss-topo:5.8006\n",
      "Epoch:70, P:None, Loss:330.3607, Loss-ae:324.8977, Loss-topo:5.4630\n",
      "Epoch:71, P:None, Loss:326.5577, Loss-ae:320.4633, Loss-topo:6.0945\n",
      "Epoch:72, P:None, Loss:321.4670, Loss-ae:315.4623, Loss-topo:6.0046\n",
      "Epoch:73, P:None, Loss:337.9647, Loss-ae:332.3896, Loss-topo:5.5751\n",
      "Epoch:74, P:None, Loss:333.6857, Loss-ae:327.5493, Loss-topo:6.1364\n",
      "Epoch:75, P:None, Loss:328.0561, Loss-ae:322.4614, Loss-topo:5.5946\n",
      "Epoch:76, P:None, Loss:321.6767, Loss-ae:316.2968, Loss-topo:5.3799\n",
      "Epoch:77, P:None, Loss:331.0692, Loss-ae:325.5775, Loss-topo:5.4917\n",
      "Epoch:78, P:None, Loss:319.1902, Loss-ae:313.8158, Loss-topo:5.3744\n",
      "Epoch:79, P:None, Loss:322.3385, Loss-ae:316.7548, Loss-topo:5.5837\n",
      "Epoch:80, P:None, Loss:321.9017, Loss-ae:316.6617, Loss-topo:5.2399\n",
      "Epoch:81, P:None, Loss:323.4334, Loss-ae:317.9756, Loss-topo:5.4577\n",
      "Epoch:82, P:None, Loss:327.5095, Loss-ae:322.3975, Loss-topo:5.1120\n",
      "Epoch:83, P:None, Loss:327.0372, Loss-ae:321.2099, Loss-topo:5.8273\n",
      "Epoch:84, P:None, Loss:318.7215, Loss-ae:313.4693, Loss-topo:5.2522\n",
      "Epoch:85, P:None, Loss:313.5850, Loss-ae:308.0588, Loss-topo:5.5263\n",
      "Epoch:86, P:None, Loss:313.1510, Loss-ae:307.9848, Loss-topo:5.1662\n",
      "Epoch:87, P:None, Loss:309.7077, Loss-ae:304.6976, Loss-topo:5.0101\n",
      "Epoch:88, P:None, Loss:313.9038, Loss-ae:308.9224, Loss-topo:4.9814\n",
      "Epoch:89, P:None, Loss:314.1029, Loss-ae:309.2035, Loss-topo:4.8995\n",
      "Epoch:90, P:None, Loss:313.3948, Loss-ae:308.3852, Loss-topo:5.0095\n",
      "Epoch:91, P:None, Loss:315.3960, Loss-ae:310.1105, Loss-topo:5.2856\n",
      "Epoch:92, P:None, Loss:320.3564, Loss-ae:315.7028, Loss-topo:4.6536\n",
      "Epoch:93, P:None, Loss:317.0848, Loss-ae:312.5431, Loss-topo:4.5417\n",
      "Epoch:94, P:None, Loss:308.5170, Loss-ae:304.2668, Loss-topo:4.2501\n",
      "Epoch:95, P:None, Loss:309.5414, Loss-ae:304.9013, Loss-topo:4.6401\n",
      "Epoch:96, P:None, Loss:308.1682, Loss-ae:303.7876, Loss-topo:4.3806\n",
      "Epoch:97, P:None, Loss:312.7933, Loss-ae:308.3727, Loss-topo:4.4206\n",
      "Epoch:98, P:None, Loss:313.5917, Loss-ae:309.1653, Loss-topo:4.4265\n",
      "Epoch:99, P:None, Loss:308.7198, Loss-ae:303.9613, Loss-topo:4.7586\n",
      "Epoch:100, P:None, Loss:311.7807, Loss-ae:307.0403, Loss-topo:4.7404\n",
      "Epoch:101, P:None, Loss:305.3560, Loss-ae:301.0880, Loss-topo:4.2680\n",
      "Epoch:102, P:None, Loss:302.1622, Loss-ae:298.2405, Loss-topo:3.9217\n",
      "Epoch:103, P:None, Loss:313.1642, Loss-ae:308.5135, Loss-topo:4.6507\n",
      "Epoch:104, P:None, Loss:308.5614, Loss-ae:304.3739, Loss-topo:4.1874\n",
      "Epoch:105, P:None, Loss:300.0045, Loss-ae:296.0599, Loss-topo:3.9447\n",
      "Epoch:106, P:None, Loss:298.3785, Loss-ae:294.0990, Loss-topo:4.2794\n",
      "Epoch:107, P:None, Loss:306.3114, Loss-ae:302.1726, Loss-topo:4.1388\n",
      "Epoch:108, P:None, Loss:299.2398, Loss-ae:295.4238, Loss-topo:3.8160\n",
      "Epoch:109, P:None, Loss:303.9178, Loss-ae:300.0484, Loss-topo:3.8695\n",
      "Epoch:110, P:None, Loss:301.5323, Loss-ae:297.5256, Loss-topo:4.0066\n",
      "Epoch:111, P:None, Loss:307.3772, Loss-ae:303.4271, Loss-topo:3.9501\n",
      "Epoch:112, P:None, Loss:310.7511, Loss-ae:306.9305, Loss-topo:3.8206\n",
      "Epoch:113, P:None, Loss:296.6301, Loss-ae:292.7449, Loss-topo:3.8852\n",
      "Epoch:114, P:None, Loss:300.6103, Loss-ae:297.0592, Loss-topo:3.5511\n",
      "Epoch:115, P:None, Loss:300.9267, Loss-ae:297.2747, Loss-topo:3.6520\n",
      "Epoch:116, P:None, Loss:300.5221, Loss-ae:297.1703, Loss-topo:3.3518\n",
      "Epoch:117, P:None, Loss:307.5969, Loss-ae:303.3760, Loss-topo:4.2209\n",
      "Epoch:118, P:None, Loss:300.9252, Loss-ae:297.3600, Loss-topo:3.5653\n",
      "Epoch:119, P:None, Loss:297.9254, Loss-ae:294.5312, Loss-topo:3.3942\n",
      "Epoch:120, P:None, Loss:299.4121, Loss-ae:295.8102, Loss-topo:3.6019\n",
      "Epoch:121, P:None, Loss:299.1146, Loss-ae:295.6702, Loss-topo:3.4444\n",
      "Epoch:122, P:None, Loss:312.3318, Loss-ae:309.2500, Loss-topo:3.0818\n",
      "Epoch:123, P:None, Loss:300.4971, Loss-ae:297.2151, Loss-topo:3.2821\n",
      "Epoch:124, P:None, Loss:293.8674, Loss-ae:290.3815, Loss-topo:3.4859\n",
      "Epoch:125, P:None, Loss:296.5942, Loss-ae:293.2800, Loss-topo:3.3143\n",
      "Epoch:126, P:None, Loss:301.4509, Loss-ae:297.8770, Loss-topo:3.5739\n",
      "Epoch:127, P:None, Loss:299.1320, Loss-ae:295.8723, Loss-topo:3.2597\n",
      "Epoch:128, P:None, Loss:287.4770, Loss-ae:284.5536, Loss-topo:2.9233\n",
      "Epoch:129, P:None, Loss:291.4166, Loss-ae:288.5381, Loss-topo:2.8785\n",
      "Epoch:130, P:None, Loss:295.5160, Loss-ae:292.5665, Loss-topo:2.9495\n",
      "Epoch:131, P:None, Loss:285.7195, Loss-ae:282.4905, Loss-topo:3.2289\n",
      "Epoch:132, P:None, Loss:298.4946, Loss-ae:295.2964, Loss-topo:3.1981\n",
      "Epoch:133, P:None, Loss:301.3755, Loss-ae:298.2164, Loss-topo:3.1592\n",
      "Epoch:134, P:None, Loss:283.8799, Loss-ae:281.0400, Loss-topo:2.8399\n",
      "Epoch:135, P:None, Loss:300.7421, Loss-ae:297.7438, Loss-topo:2.9983\n",
      "Epoch:136, P:None, Loss:290.8581, Loss-ae:287.9337, Loss-topo:2.9243\n",
      "Epoch:137, P:None, Loss:292.9723, Loss-ae:290.0239, Loss-topo:2.9483\n",
      "Epoch:138, P:None, Loss:290.4998, Loss-ae:287.5517, Loss-topo:2.9481\n",
      "Epoch:139, P:None, Loss:293.1332, Loss-ae:290.0528, Loss-topo:3.0804\n",
      "Epoch:140, P:None, Loss:280.8536, Loss-ae:278.0320, Loss-topo:2.8215\n",
      "Epoch:141, P:None, Loss:292.2547, Loss-ae:289.3045, Loss-topo:2.9502\n",
      "Epoch:142, P:None, Loss:281.0563, Loss-ae:278.5176, Loss-topo:2.5387\n",
      "Epoch:143, P:None, Loss:294.3610, Loss-ae:291.3342, Loss-topo:3.0269\n",
      "Epoch:144, P:None, Loss:286.7715, Loss-ae:283.8758, Loss-topo:2.8957\n",
      "Epoch:145, P:None, Loss:293.9071, Loss-ae:291.0990, Loss-topo:2.8081\n",
      "Epoch:146, P:None, Loss:286.1124, Loss-ae:283.3411, Loss-topo:2.7713\n",
      "Epoch:147, P:None, Loss:289.3903, Loss-ae:286.5959, Loss-topo:2.7944\n",
      "Epoch:148, P:None, Loss:286.8559, Loss-ae:284.0751, Loss-topo:2.7808\n",
      "Epoch:149, P:None, Loss:288.9806, Loss-ae:286.3491, Loss-topo:2.6315\n",
      "Epoch:150, P:None, Loss:284.6802, Loss-ae:281.9528, Loss-topo:2.7274\n",
      "Epoch:151, P:None, Loss:288.0548, Loss-ae:285.4413, Loss-topo:2.6135\n",
      "Epoch:152, P:None, Loss:277.0280, Loss-ae:274.6126, Loss-topo:2.4154\n",
      "Epoch:153, P:None, Loss:286.1878, Loss-ae:283.4119, Loss-topo:2.7759\n",
      "Epoch:154, P:None, Loss:288.5339, Loss-ae:286.0362, Loss-topo:2.4978\n",
      "Epoch:155, P:None, Loss:285.5732, Loss-ae:282.7666, Loss-topo:2.8065\n",
      "Epoch:156, P:None, Loss:283.3576, Loss-ae:280.7864, Loss-topo:2.5712\n",
      "Epoch:157, P:None, Loss:278.7946, Loss-ae:276.2579, Loss-topo:2.5367\n",
      "Epoch:158, P:None, Loss:286.7228, Loss-ae:284.2084, Loss-topo:2.5144\n",
      "Epoch:159, P:None, Loss:282.5229, Loss-ae:280.0615, Loss-topo:2.4614\n",
      "Epoch:160, P:None, Loss:280.8934, Loss-ae:278.3698, Loss-topo:2.5236\n",
      "Epoch:161, P:None, Loss:287.7426, Loss-ae:285.2007, Loss-topo:2.5419\n",
      "Epoch:162, P:None, Loss:280.4914, Loss-ae:277.9475, Loss-topo:2.5438\n",
      "Epoch:163, P:None, Loss:276.5259, Loss-ae:274.1645, Loss-topo:2.3615\n",
      "Epoch:164, P:None, Loss:273.2725, Loss-ae:271.0736, Loss-topo:2.1990\n",
      "Epoch:165, P:None, Loss:275.4856, Loss-ae:273.2963, Loss-topo:2.1893\n",
      "Epoch:166, P:None, Loss:286.5542, Loss-ae:284.2211, Loss-topo:2.3332\n",
      "Epoch:167, P:None, Loss:282.5526, Loss-ae:280.2630, Loss-topo:2.2896\n",
      "Epoch:168, P:None, Loss:273.9645, Loss-ae:271.8271, Loss-topo:2.1374\n",
      "Epoch:169, P:None, Loss:281.5194, Loss-ae:279.1545, Loss-topo:2.3650\n",
      "Epoch:170, P:None, Loss:275.9642, Loss-ae:273.6259, Loss-topo:2.3383\n",
      "Epoch:171, P:None, Loss:295.3945, Loss-ae:293.1135, Loss-topo:2.2810\n",
      "Epoch:172, P:None, Loss:270.2619, Loss-ae:268.1508, Loss-topo:2.1111\n",
      "Epoch:173, P:None, Loss:278.1621, Loss-ae:276.1812, Loss-topo:1.9809\n",
      "Epoch:174, P:None, Loss:272.7820, Loss-ae:270.6112, Loss-topo:2.1709\n",
      "Epoch:175, P:None, Loss:277.3026, Loss-ae:275.1117, Loss-topo:2.1909\n",
      "Epoch:176, P:None, Loss:277.4268, Loss-ae:275.2065, Loss-topo:2.2203\n",
      "Epoch:177, P:None, Loss:274.9200, Loss-ae:272.8459, Loss-topo:2.0741\n",
      "Epoch:178, P:None, Loss:267.2029, Loss-ae:265.2180, Loss-topo:1.9848\n",
      "Epoch:179, P:None, Loss:271.8983, Loss-ae:269.8837, Loss-topo:2.0146\n",
      "Epoch:180, P:None, Loss:281.5020, Loss-ae:279.5080, Loss-topo:1.9940\n",
      "Epoch:181, P:None, Loss:268.4614, Loss-ae:266.5468, Loss-topo:1.9146\n",
      "Epoch:182, P:None, Loss:277.8444, Loss-ae:275.9432, Loss-topo:1.9012\n",
      "Epoch:183, P:None, Loss:270.3905, Loss-ae:268.4838, Loss-topo:1.9067\n",
      "Epoch:184, P:None, Loss:274.2869, Loss-ae:272.3547, Loss-topo:1.9322\n",
      "Epoch:185, P:None, Loss:281.4523, Loss-ae:279.4270, Loss-topo:2.0253\n",
      "Epoch:186, P:None, Loss:274.4063, Loss-ae:272.4475, Loss-topo:1.9588\n",
      "Epoch:187, P:None, Loss:264.9722, Loss-ae:263.0623, Loss-topo:1.9099\n",
      "Epoch:188, P:None, Loss:275.6792, Loss-ae:273.6629, Loss-topo:2.0163\n",
      "Epoch:189, P:None, Loss:268.7503, Loss-ae:266.8538, Loss-topo:1.8964\n",
      "Epoch:190, P:None, Loss:273.4386, Loss-ae:271.5208, Loss-topo:1.9179\n",
      "Epoch:191, P:None, Loss:269.7442, Loss-ae:267.8763, Loss-topo:1.8679\n",
      "Epoch:192, P:None, Loss:261.8405, Loss-ae:260.1047, Loss-topo:1.7358\n",
      "Epoch:193, P:None, Loss:267.1081, Loss-ae:265.4097, Loss-topo:1.6985\n",
      "Epoch:194, P:None, Loss:273.5628, Loss-ae:271.8582, Loss-topo:1.7046\n",
      "Epoch:195, P:None, Loss:263.9048, Loss-ae:262.1253, Loss-topo:1.7796\n",
      "Epoch:196, P:None, Loss:270.0116, Loss-ae:268.2394, Loss-topo:1.7723\n",
      "Epoch:197, P:None, Loss:264.8088, Loss-ae:263.2331, Loss-topo:1.5757\n",
      "Epoch:198, P:None, Loss:260.5035, Loss-ae:258.8749, Loss-topo:1.6285\n",
      "Epoch:199, P:None, Loss:265.2794, Loss-ae:263.6189, Loss-topo:1.6605\n",
      "Epoch:200, P:None, Loss:260.9698, Loss-ae:259.3140, Loss-topo:1.6558\n",
      "Epoch:201, P:None, Loss:269.1337, Loss-ae:267.5361, Loss-topo:1.5976\n",
      "Epoch:202, P:None, Loss:265.9517, Loss-ae:264.2376, Loss-topo:1.7141\n",
      "Epoch:203, P:None, Loss:265.0870, Loss-ae:263.3807, Loss-topo:1.7063\n",
      "Epoch:204, P:None, Loss:267.9128, Loss-ae:266.3193, Loss-topo:1.5935\n",
      "Epoch:205, P:None, Loss:263.2551, Loss-ae:261.8053, Loss-topo:1.4498\n",
      "Epoch:206, P:None, Loss:256.1371, Loss-ae:254.5652, Loss-topo:1.5718\n",
      "Epoch:207, P:None, Loss:260.1714, Loss-ae:258.5336, Loss-topo:1.6378\n",
      "Epoch:208, P:None, Loss:254.6013, Loss-ae:252.9995, Loss-topo:1.6017\n",
      "Epoch:209, P:None, Loss:269.5324, Loss-ae:267.9107, Loss-topo:1.6216\n",
      "Epoch:210, P:None, Loss:258.5769, Loss-ae:257.1240, Loss-topo:1.4530\n",
      "Epoch:211, P:None, Loss:259.6960, Loss-ae:258.1669, Loss-topo:1.5291\n",
      "Epoch:212, P:None, Loss:257.9340, Loss-ae:256.5390, Loss-topo:1.3949\n",
      "Epoch:213, P:None, Loss:266.6122, Loss-ae:265.0713, Loss-topo:1.5409\n",
      "Epoch:214, P:None, Loss:255.5458, Loss-ae:254.0567, Loss-topo:1.4890\n",
      "Epoch:215, P:None, Loss:260.4480, Loss-ae:258.9796, Loss-topo:1.4684\n",
      "Epoch:216, P:None, Loss:267.6336, Loss-ae:266.0502, Loss-topo:1.5834\n",
      "Epoch:217, P:None, Loss:261.4864, Loss-ae:260.0942, Loss-topo:1.3921\n",
      "Epoch:218, P:None, Loss:263.8676, Loss-ae:262.4630, Loss-topo:1.4046\n",
      "Epoch:219, P:None, Loss:262.0564, Loss-ae:260.5957, Loss-topo:1.4606\n",
      "Epoch:220, P:None, Loss:251.5296, Loss-ae:250.1258, Loss-topo:1.4039\n",
      "Epoch:221, P:None, Loss:246.5739, Loss-ae:245.2593, Loss-topo:1.3146\n",
      "Epoch:222, P:None, Loss:259.3913, Loss-ae:258.0154, Loss-topo:1.3758\n",
      "Epoch:223, P:None, Loss:253.3987, Loss-ae:252.0036, Loss-topo:1.3952\n",
      "Epoch:224, P:None, Loss:266.5071, Loss-ae:265.0714, Loss-topo:1.4358\n",
      "Epoch:225, P:None, Loss:259.9088, Loss-ae:258.5814, Loss-topo:1.3274\n",
      "Epoch:226, P:None, Loss:257.5776, Loss-ae:256.3304, Loss-topo:1.2473\n",
      "Epoch:227, P:None, Loss:250.6161, Loss-ae:249.2417, Loss-topo:1.3744\n",
      "Epoch:228, P:None, Loss:247.9009, Loss-ae:246.5945, Loss-topo:1.3063\n",
      "Epoch:229, P:None, Loss:244.6786, Loss-ae:243.5183, Loss-topo:1.1603\n",
      "Epoch:230, P:None, Loss:255.1472, Loss-ae:253.7564, Loss-topo:1.3907\n",
      "Epoch:231, P:None, Loss:244.4250, Loss-ae:243.0661, Loss-topo:1.3589\n",
      "Epoch:232, P:None, Loss:253.8245, Loss-ae:252.6129, Loss-topo:1.2117\n",
      "Epoch:233, P:None, Loss:250.4410, Loss-ae:249.1813, Loss-topo:1.2597\n",
      "Epoch:234, P:None, Loss:242.6780, Loss-ae:241.4536, Loss-topo:1.2244\n",
      "Epoch:235, P:None, Loss:244.6064, Loss-ae:243.4199, Loss-topo:1.1865\n",
      "Epoch:236, P:None, Loss:243.6793, Loss-ae:242.4585, Loss-topo:1.2208\n",
      "Epoch:237, P:None, Loss:244.8497, Loss-ae:243.5386, Loss-topo:1.3112\n",
      "Epoch:238, P:None, Loss:246.2691, Loss-ae:245.0893, Loss-topo:1.1798\n",
      "Epoch:239, P:None, Loss:238.3360, Loss-ae:237.1183, Loss-topo:1.2177\n",
      "Epoch:240, P:None, Loss:242.5718, Loss-ae:241.3147, Loss-topo:1.2571\n",
      "Epoch:241, P:None, Loss:244.8171, Loss-ae:243.5022, Loss-topo:1.3149\n",
      "Epoch:242, P:None, Loss:234.7562, Loss-ae:233.5842, Loss-topo:1.1720\n",
      "Epoch:243, P:None, Loss:237.9093, Loss-ae:236.7673, Loss-topo:1.1420\n",
      "Epoch:244, P:None, Loss:239.2633, Loss-ae:238.1021, Loss-topo:1.1612\n",
      "Epoch:245, P:None, Loss:234.2313, Loss-ae:233.1786, Loss-topo:1.0527\n",
      "Epoch:246, P:None, Loss:234.1608, Loss-ae:232.9772, Loss-topo:1.1836\n",
      "Epoch:247, P:None, Loss:234.6655, Loss-ae:233.5406, Loss-topo:1.1249\n",
      "Epoch:248, P:None, Loss:234.5528, Loss-ae:233.4049, Loss-topo:1.1479\n",
      "Epoch:249, P:None, Loss:230.4828, Loss-ae:229.3779, Loss-topo:1.1049\n",
      "Epoch:250, P:None, Loss:229.0819, Loss-ae:228.0209, Loss-topo:1.0610\n",
      "Epoch:251, P:None, Loss:233.5521, Loss-ae:232.3976, Loss-topo:1.1545\n",
      "Epoch:252, P:None, Loss:236.6050, Loss-ae:235.4239, Loss-topo:1.1811\n",
      "Epoch:253, P:None, Loss:226.3475, Loss-ae:225.2192, Loss-topo:1.1283\n",
      "Epoch:254, P:None, Loss:227.8052, Loss-ae:226.7551, Loss-topo:1.0501\n",
      "Epoch:255, P:None, Loss:234.4291, Loss-ae:233.4294, Loss-topo:0.9997\n",
      "Epoch:256, P:None, Loss:233.6267, Loss-ae:232.6509, Loss-topo:0.9758\n",
      "Epoch:257, P:None, Loss:235.9172, Loss-ae:234.8030, Loss-topo:1.1142\n",
      "Epoch:258, P:None, Loss:235.3137, Loss-ae:234.2977, Loss-topo:1.0161\n",
      "Epoch:259, P:None, Loss:227.1626, Loss-ae:226.1169, Loss-topo:1.0457\n",
      "Epoch:260, P:None, Loss:235.1686, Loss-ae:234.0924, Loss-topo:1.0762\n",
      "Epoch:261, P:None, Loss:228.1665, Loss-ae:227.1092, Loss-topo:1.0573\n",
      "Epoch:262, P:None, Loss:231.9649, Loss-ae:231.0366, Loss-topo:0.9283\n",
      "Epoch:263, P:None, Loss:235.1924, Loss-ae:234.1807, Loss-topo:1.0117\n",
      "Epoch:264, P:None, Loss:231.2193, Loss-ae:230.2506, Loss-topo:0.9688\n",
      "Epoch:265, P:None, Loss:225.7566, Loss-ae:224.7440, Loss-topo:1.0126\n",
      "Epoch:266, P:None, Loss:222.3109, Loss-ae:221.3913, Loss-topo:0.9196\n",
      "Epoch:267, P:None, Loss:231.9380, Loss-ae:230.9005, Loss-topo:1.0375\n",
      "Epoch:268, P:None, Loss:219.8106, Loss-ae:218.7300, Loss-topo:1.0806\n",
      "Epoch:269, P:None, Loss:224.8157, Loss-ae:223.9089, Loss-topo:0.9068\n",
      "Epoch:270, P:None, Loss:221.5634, Loss-ae:220.5943, Loss-topo:0.9691\n",
      "Epoch:271, P:None, Loss:220.3061, Loss-ae:219.3744, Loss-topo:0.9316\n",
      "Epoch:272, P:None, Loss:220.7255, Loss-ae:219.7726, Loss-topo:0.9528\n",
      "Epoch:273, P:None, Loss:217.9342, Loss-ae:217.0099, Loss-topo:0.9243\n",
      "Epoch:274, P:None, Loss:227.0926, Loss-ae:226.1625, Loss-topo:0.9301\n",
      "Epoch:275, P:None, Loss:222.2778, Loss-ae:221.3087, Loss-topo:0.9691\n",
      "Epoch:276, P:None, Loss:226.7649, Loss-ae:225.6761, Loss-topo:1.0888\n",
      "Epoch:277, P:None, Loss:216.3683, Loss-ae:215.4119, Loss-topo:0.9563\n",
      "Epoch:278, P:None, Loss:214.3114, Loss-ae:213.3717, Loss-topo:0.9398\n",
      "Epoch:279, P:None, Loss:219.3822, Loss-ae:218.4482, Loss-topo:0.9341\n",
      "Epoch:280, P:None, Loss:214.0585, Loss-ae:213.2347, Loss-topo:0.8238\n",
      "Epoch:281, P:None, Loss:219.3805, Loss-ae:218.4244, Loss-topo:0.9562\n",
      "Epoch:282, P:None, Loss:213.7514, Loss-ae:212.7936, Loss-topo:0.9578\n",
      "Epoch:283, P:None, Loss:217.5338, Loss-ae:216.6283, Loss-topo:0.9055\n",
      "Epoch:284, P:None, Loss:208.8202, Loss-ae:207.8610, Loss-topo:0.9592\n",
      "Epoch:285, P:None, Loss:219.7829, Loss-ae:218.8876, Loss-topo:0.8952\n",
      "Epoch:286, P:None, Loss:216.6225, Loss-ae:215.7847, Loss-topo:0.8378\n",
      "Epoch:287, P:None, Loss:217.6511, Loss-ae:216.6927, Loss-topo:0.9585\n",
      "Epoch:288, P:None, Loss:217.8296, Loss-ae:216.9647, Loss-topo:0.8649\n",
      "Epoch:289, P:None, Loss:210.1146, Loss-ae:209.2670, Loss-topo:0.8476\n",
      "Epoch:290, P:None, Loss:209.7199, Loss-ae:208.7937, Loss-topo:0.9263\n",
      "Epoch:291, P:None, Loss:210.4659, Loss-ae:209.5649, Loss-topo:0.9009\n",
      "Epoch:292, P:None, Loss:211.8530, Loss-ae:211.0577, Loss-topo:0.7953\n",
      "Epoch:293, P:None, Loss:203.5425, Loss-ae:202.7167, Loss-topo:0.8258\n",
      "Epoch:294, P:None, Loss:207.6937, Loss-ae:206.8864, Loss-topo:0.8073\n",
      "Epoch:295, P:None, Loss:205.1660, Loss-ae:204.2400, Loss-topo:0.9260\n",
      "Epoch:296, P:None, Loss:212.5523, Loss-ae:211.6420, Loss-topo:0.9103\n",
      "Epoch:297, P:None, Loss:205.9771, Loss-ae:205.1497, Loss-topo:0.8273\n",
      "Epoch:298, P:None, Loss:208.3955, Loss-ae:207.5241, Loss-topo:0.8714\n",
      "Epoch:299, P:None, Loss:215.9962, Loss-ae:215.1272, Loss-topo:0.8690\n",
      "Epoch:300, P:None, Loss:208.2028, Loss-ae:207.3736, Loss-topo:0.8292\n",
      "Epoch:301, P:None, Loss:215.7745, Loss-ae:214.9580, Loss-topo:0.8166\n",
      "Epoch:302, P:None, Loss:208.0396, Loss-ae:207.2443, Loss-topo:0.7953\n",
      "Epoch:303, P:None, Loss:204.3565, Loss-ae:203.5552, Loss-topo:0.8013\n",
      "Epoch:304, P:None, Loss:212.0766, Loss-ae:211.3001, Loss-topo:0.7766\n",
      "Epoch:305, P:None, Loss:219.4760, Loss-ae:218.5926, Loss-topo:0.8834\n",
      "Epoch:306, P:None, Loss:204.6072, Loss-ae:203.7861, Loss-topo:0.8210\n",
      "Epoch:307, P:None, Loss:207.2235, Loss-ae:206.4227, Loss-topo:0.8008\n",
      "Epoch:308, P:None, Loss:204.2345, Loss-ae:203.4577, Loss-topo:0.7769\n",
      "Epoch:309, P:None, Loss:201.1089, Loss-ae:200.2405, Loss-topo:0.8684\n",
      "Epoch:310, P:None, Loss:207.8917, Loss-ae:207.0217, Loss-topo:0.8700\n",
      "Epoch:311, P:None, Loss:198.4140, Loss-ae:197.7219, Loss-topo:0.6921\n",
      "Epoch:312, P:None, Loss:200.3179, Loss-ae:199.6038, Loss-topo:0.7141\n",
      "Epoch:313, P:None, Loss:203.2576, Loss-ae:202.3883, Loss-topo:0.8693\n",
      "Epoch:314, P:None, Loss:204.4009, Loss-ae:203.7194, Loss-topo:0.6815\n",
      "Epoch:315, P:None, Loss:202.9311, Loss-ae:202.1715, Loss-topo:0.7596\n",
      "Epoch:316, P:None, Loss:200.6109, Loss-ae:199.7425, Loss-topo:0.8684\n",
      "Epoch:317, P:None, Loss:199.6637, Loss-ae:198.8911, Loss-topo:0.7726\n",
      "Epoch:318, P:None, Loss:200.0313, Loss-ae:199.2340, Loss-topo:0.7973\n",
      "Epoch:319, P:None, Loss:192.7774, Loss-ae:192.0489, Loss-topo:0.7285\n",
      "Epoch:320, P:None, Loss:198.7228, Loss-ae:197.9409, Loss-topo:0.7819\n",
      "Epoch:321, P:None, Loss:195.5706, Loss-ae:194.8284, Loss-topo:0.7422\n",
      "Epoch:322, P:None, Loss:194.4390, Loss-ae:193.7132, Loss-topo:0.7259\n",
      "Epoch:323, P:None, Loss:201.9896, Loss-ae:201.2578, Loss-topo:0.7318\n",
      "Epoch:324, P:None, Loss:193.5336, Loss-ae:192.7886, Loss-topo:0.7449\n",
      "Epoch:325, P:None, Loss:192.0990, Loss-ae:191.3632, Loss-topo:0.7359\n",
      "Epoch:326, P:None, Loss:193.2505, Loss-ae:192.4681, Loss-topo:0.7824\n",
      "Epoch:327, P:None, Loss:190.7959, Loss-ae:190.1463, Loss-topo:0.6496\n",
      "Epoch:328, P:None, Loss:197.3129, Loss-ae:196.6290, Loss-topo:0.6839\n",
      "Epoch:329, P:None, Loss:191.5181, Loss-ae:190.7435, Loss-topo:0.7746\n",
      "Epoch:330, P:None, Loss:189.5620, Loss-ae:188.8495, Loss-topo:0.7125\n",
      "Epoch:331, P:None, Loss:194.2610, Loss-ae:193.5678, Loss-topo:0.6932\n",
      "Epoch:332, P:None, Loss:184.9060, Loss-ae:184.2203, Loss-topo:0.6857\n",
      "Epoch:333, P:None, Loss:184.0958, Loss-ae:183.3980, Loss-topo:0.6978\n",
      "Epoch:334, P:None, Loss:185.7357, Loss-ae:185.0342, Loss-topo:0.7015\n",
      "Epoch:335, P:None, Loss:187.7243, Loss-ae:186.9811, Loss-topo:0.7433\n",
      "Epoch:336, P:None, Loss:187.8918, Loss-ae:187.2047, Loss-topo:0.6871\n",
      "Epoch:337, P:None, Loss:192.7384, Loss-ae:192.0296, Loss-topo:0.7088\n",
      "Epoch:338, P:None, Loss:188.1022, Loss-ae:187.3988, Loss-topo:0.7034\n",
      "Epoch:339, P:None, Loss:186.3600, Loss-ae:185.6606, Loss-topo:0.6994\n",
      "Epoch:340, P:None, Loss:187.0575, Loss-ae:186.3808, Loss-topo:0.6767\n",
      "Epoch:341, P:None, Loss:196.3788, Loss-ae:195.6563, Loss-topo:0.7225\n",
      "Epoch:342, P:None, Loss:179.7338, Loss-ae:179.0871, Loss-topo:0.6467\n",
      "Epoch:343, P:None, Loss:183.5907, Loss-ae:182.9266, Loss-topo:0.6641\n",
      "Epoch:344, P:None, Loss:182.4873, Loss-ae:181.8100, Loss-topo:0.6773\n",
      "Epoch:345, P:None, Loss:181.5628, Loss-ae:180.9593, Loss-topo:0.6035\n",
      "Epoch:346, P:None, Loss:185.0776, Loss-ae:184.3947, Loss-topo:0.6829\n",
      "Epoch:347, P:None, Loss:188.4022, Loss-ae:187.7121, Loss-topo:0.6901\n",
      "Epoch:348, P:None, Loss:185.6659, Loss-ae:185.0041, Loss-topo:0.6618\n",
      "Epoch:349, P:None, Loss:187.8985, Loss-ae:187.2377, Loss-topo:0.6608\n",
      "Epoch:350, P:None, Loss:179.6946, Loss-ae:179.0454, Loss-topo:0.6492\n",
      "Epoch:351, P:None, Loss:181.3662, Loss-ae:180.7007, Loss-topo:0.6654\n",
      "Epoch:352, P:None, Loss:184.5220, Loss-ae:183.8726, Loss-topo:0.6494\n",
      "Epoch:353, P:None, Loss:180.6635, Loss-ae:180.0058, Loss-topo:0.6577\n",
      "Epoch:354, P:None, Loss:184.4631, Loss-ae:183.8142, Loss-topo:0.6489\n",
      "Epoch:355, P:None, Loss:181.9887, Loss-ae:181.3455, Loss-topo:0.6433\n",
      "Epoch:356, P:None, Loss:182.0666, Loss-ae:181.4306, Loss-topo:0.6361\n",
      "Epoch:357, P:None, Loss:187.6861, Loss-ae:186.9527, Loss-topo:0.7334\n",
      "Epoch:358, P:None, Loss:184.2158, Loss-ae:183.5625, Loss-topo:0.6533\n",
      "Epoch:359, P:None, Loss:180.6164, Loss-ae:179.9637, Loss-topo:0.6526\n",
      "Epoch:360, P:None, Loss:176.5417, Loss-ae:175.8790, Loss-topo:0.6627\n",
      "Epoch:361, P:None, Loss:178.6300, Loss-ae:177.9845, Loss-topo:0.6455\n",
      "Epoch:362, P:None, Loss:178.3427, Loss-ae:177.7171, Loss-topo:0.6255\n",
      "Epoch:363, P:None, Loss:177.3284, Loss-ae:176.7123, Loss-topo:0.6161\n",
      "Epoch:364, P:None, Loss:177.4095, Loss-ae:176.8118, Loss-topo:0.5977\n",
      "Epoch:365, P:None, Loss:177.7978, Loss-ae:177.1664, Loss-topo:0.6314\n",
      "Epoch:366, P:None, Loss:173.7651, Loss-ae:173.2186, Loss-topo:0.5466\n",
      "Epoch:367, P:None, Loss:176.8480, Loss-ae:176.2333, Loss-topo:0.6147\n",
      "Epoch:368, P:None, Loss:174.7996, Loss-ae:174.2195, Loss-topo:0.5800\n",
      "Epoch:369, P:None, Loss:184.6671, Loss-ae:183.9887, Loss-topo:0.6783\n",
      "Epoch:370, P:None, Loss:182.3243, Loss-ae:181.7537, Loss-topo:0.5706\n",
      "Epoch:371, P:None, Loss:175.5937, Loss-ae:175.0277, Loss-topo:0.5661\n",
      "Epoch:372, P:None, Loss:171.4882, Loss-ae:170.9243, Loss-topo:0.5639\n",
      "Epoch:373, P:None, Loss:170.6797, Loss-ae:170.1317, Loss-topo:0.5481\n",
      "Epoch:374, P:None, Loss:178.3944, Loss-ae:177.8581, Loss-topo:0.5363\n",
      "Epoch:375, P:None, Loss:170.5547, Loss-ae:169.9728, Loss-topo:0.5819\n",
      "Epoch:376, P:None, Loss:170.4809, Loss-ae:169.9364, Loss-topo:0.5445\n",
      "Epoch:377, P:None, Loss:176.9712, Loss-ae:176.4000, Loss-topo:0.5712\n",
      "Epoch:378, P:None, Loss:174.8214, Loss-ae:174.2714, Loss-topo:0.5500\n",
      "Epoch:379, P:None, Loss:173.7735, Loss-ae:173.1798, Loss-topo:0.5937\n",
      "Epoch:380, P:None, Loss:167.1322, Loss-ae:166.5861, Loss-topo:0.5462\n",
      "Epoch:381, P:None, Loss:175.6535, Loss-ae:175.1631, Loss-topo:0.4905\n",
      "Epoch:382, P:None, Loss:174.8544, Loss-ae:174.3016, Loss-topo:0.5528\n",
      "Epoch:383, P:None, Loss:170.4941, Loss-ae:169.9779, Loss-topo:0.5162\n",
      "Epoch:384, P:None, Loss:183.6220, Loss-ae:183.0293, Loss-topo:0.5927\n",
      "Epoch:385, P:None, Loss:173.3874, Loss-ae:172.8462, Loss-topo:0.5412\n",
      "Epoch:386, P:None, Loss:167.8454, Loss-ae:167.3009, Loss-topo:0.5445\n",
      "Epoch:387, P:None, Loss:176.9173, Loss-ae:176.3320, Loss-topo:0.5854\n",
      "Epoch:388, P:None, Loss:165.2041, Loss-ae:164.6575, Loss-topo:0.5466\n",
      "Epoch:389, P:None, Loss:172.9611, Loss-ae:172.3844, Loss-topo:0.5767\n",
      "Epoch:390, P:None, Loss:169.8523, Loss-ae:169.3069, Loss-topo:0.5454\n",
      "Epoch:391, P:None, Loss:170.8179, Loss-ae:170.2616, Loss-topo:0.5562\n",
      "Epoch:392, P:None, Loss:166.1784, Loss-ae:165.6762, Loss-topo:0.5022\n",
      "Epoch:393, P:None, Loss:174.5191, Loss-ae:173.9666, Loss-topo:0.5525\n",
      "Epoch:394, P:None, Loss:165.4736, Loss-ae:164.9277, Loss-topo:0.5459\n",
      "Epoch:395, P:None, Loss:170.9892, Loss-ae:170.4876, Loss-topo:0.5016\n",
      "Epoch:396, P:None, Loss:168.6938, Loss-ae:168.1606, Loss-topo:0.5332\n",
      "Epoch:397, P:None, Loss:164.9497, Loss-ae:164.4423, Loss-topo:0.5074\n",
      "Epoch:398, P:None, Loss:170.8660, Loss-ae:170.3729, Loss-topo:0.4932\n",
      "Epoch:399, P:None, Loss:169.4449, Loss-ae:168.9347, Loss-topo:0.5101\n",
      "Epoch:400, P:None, Loss:172.3525, Loss-ae:171.8215, Loss-topo:0.5310\n",
      "Epoch:401, P:None, Loss:162.4947, Loss-ae:162.0566, Loss-topo:0.4382\n",
      "Epoch:402, P:None, Loss:173.0405, Loss-ae:172.4753, Loss-topo:0.5653\n",
      "Epoch:403, P:None, Loss:163.7316, Loss-ae:163.2649, Loss-topo:0.4668\n",
      "Epoch:404, P:None, Loss:178.7666, Loss-ae:178.2641, Loss-topo:0.5025\n",
      "Epoch:405, P:None, Loss:164.3419, Loss-ae:163.8537, Loss-topo:0.4882\n",
      "Epoch:406, P:None, Loss:161.0807, Loss-ae:160.5940, Loss-topo:0.4868\n",
      "Epoch:407, P:None, Loss:166.3851, Loss-ae:165.8960, Loss-topo:0.4892\n",
      "Epoch:408, P:None, Loss:168.2692, Loss-ae:167.7431, Loss-topo:0.5261\n",
      "Epoch:409, P:None, Loss:165.4659, Loss-ae:164.9783, Loss-topo:0.4876\n",
      "Epoch:410, P:None, Loss:162.1012, Loss-ae:161.6421, Loss-topo:0.4591\n",
      "Epoch:411, P:None, Loss:166.7087, Loss-ae:166.2833, Loss-topo:0.4253\n",
      "Epoch:412, P:None, Loss:166.0679, Loss-ae:165.5949, Loss-topo:0.4730\n",
      "Epoch:413, P:None, Loss:163.4162, Loss-ae:162.9904, Loss-topo:0.4259\n",
      "Epoch:414, P:None, Loss:166.7928, Loss-ae:166.3110, Loss-topo:0.4818\n",
      "Epoch:415, P:None, Loss:164.2748, Loss-ae:163.8074, Loss-topo:0.4675\n",
      "Epoch:416, P:None, Loss:161.8773, Loss-ae:161.4142, Loss-topo:0.4631\n",
      "Epoch:417, P:None, Loss:169.4988, Loss-ae:169.0655, Loss-topo:0.4334\n",
      "Epoch:418, P:None, Loss:166.2955, Loss-ae:165.8400, Loss-topo:0.4554\n",
      "Epoch:419, P:None, Loss:169.2148, Loss-ae:168.7522, Loss-topo:0.4626\n",
      "Epoch:420, P:None, Loss:161.2574, Loss-ae:160.8398, Loss-topo:0.4176\n",
      "Epoch:421, P:None, Loss:164.2686, Loss-ae:163.7805, Loss-topo:0.4881\n",
      "Epoch:422, P:None, Loss:163.7250, Loss-ae:163.3098, Loss-topo:0.4151\n",
      "Epoch:423, P:None, Loss:165.2361, Loss-ae:164.7873, Loss-topo:0.4488\n",
      "Epoch:424, P:None, Loss:162.1905, Loss-ae:161.7454, Loss-topo:0.4452\n",
      "Epoch:425, P:None, Loss:163.2068, Loss-ae:162.7512, Loss-topo:0.4557\n",
      "Epoch:426, P:None, Loss:163.9373, Loss-ae:163.4934, Loss-topo:0.4439\n",
      "Epoch:427, P:None, Loss:161.1700, Loss-ae:160.6960, Loss-topo:0.4740\n",
      "Epoch:428, P:None, Loss:162.9327, Loss-ae:162.4997, Loss-topo:0.4330\n",
      "Epoch:429, P:None, Loss:161.8942, Loss-ae:161.5102, Loss-topo:0.3840\n",
      "Epoch:430, P:None, Loss:160.3148, Loss-ae:159.9372, Loss-topo:0.3776\n",
      "Epoch:431, P:None, Loss:163.4465, Loss-ae:163.0330, Loss-topo:0.4135\n",
      "Epoch:432, P:None, Loss:163.3710, Loss-ae:162.9693, Loss-topo:0.4017\n",
      "Epoch:433, P:None, Loss:159.6036, Loss-ae:159.2152, Loss-topo:0.3884\n",
      "Epoch:434, P:None, Loss:165.2164, Loss-ae:164.7414, Loss-topo:0.4751\n",
      "Epoch:435, P:None, Loss:164.8018, Loss-ae:164.3794, Loss-topo:0.4224\n",
      "Epoch:436, P:None, Loss:160.9117, Loss-ae:160.4675, Loss-topo:0.4442\n",
      "Epoch:437, P:None, Loss:158.5981, Loss-ae:158.1837, Loss-topo:0.4144\n",
      "Epoch:438, P:None, Loss:159.9847, Loss-ae:159.5715, Loss-topo:0.4131\n",
      "Epoch:439, P:None, Loss:161.7128, Loss-ae:161.2921, Loss-topo:0.4207\n",
      "Epoch:440, P:None, Loss:166.9134, Loss-ae:166.4594, Loss-topo:0.4540\n",
      "Epoch:441, P:None, Loss:168.0138, Loss-ae:167.6268, Loss-topo:0.3870\n",
      "Epoch:442, P:None, Loss:162.9884, Loss-ae:162.5911, Loss-topo:0.3973\n",
      "Epoch:443, P:None, Loss:158.7132, Loss-ae:158.3695, Loss-topo:0.3437\n",
      "Epoch:444, P:None, Loss:161.0512, Loss-ae:160.6665, Loss-topo:0.3846\n",
      "Epoch:445, P:None, Loss:171.4050, Loss-ae:171.0233, Loss-topo:0.3818\n",
      "Epoch:446, P:None, Loss:160.0187, Loss-ae:159.6260, Loss-topo:0.3927\n",
      "Epoch:447, P:None, Loss:166.5017, Loss-ae:166.1152, Loss-topo:0.3866\n",
      "Epoch:448, P:None, Loss:162.0123, Loss-ae:161.6405, Loss-topo:0.3717\n",
      "Epoch:449, P:None, Loss:160.7167, Loss-ae:160.3659, Loss-topo:0.3509\n",
      "Epoch:450, P:None, Loss:160.1469, Loss-ae:159.7867, Loss-topo:0.3602\n",
      "Epoch:451, P:None, Loss:162.8903, Loss-ae:162.4776, Loss-topo:0.4128\n",
      "Epoch:452, P:None, Loss:161.9228, Loss-ae:161.5715, Loss-topo:0.3513\n",
      "Epoch:453, P:None, Loss:163.5746, Loss-ae:163.2073, Loss-topo:0.3673\n",
      "Epoch:454, P:None, Loss:158.8467, Loss-ae:158.5127, Loss-topo:0.3340\n",
      "Epoch:455, P:None, Loss:160.2411, Loss-ae:159.8992, Loss-topo:0.3419\n",
      "Epoch:456, P:None, Loss:161.4331, Loss-ae:161.0696, Loss-topo:0.3635\n",
      "Epoch:457, P:None, Loss:162.4656, Loss-ae:162.1360, Loss-topo:0.3297\n",
      "Epoch:458, P:None, Loss:162.0846, Loss-ae:161.7695, Loss-topo:0.3151\n",
      "Epoch:459, P:None, Loss:162.7782, Loss-ae:162.4266, Loss-topo:0.3517\n",
      "Epoch:460, P:None, Loss:160.6024, Loss-ae:160.2457, Loss-topo:0.3566\n",
      "Epoch:461, P:None, Loss:157.4968, Loss-ae:157.1690, Loss-topo:0.3279\n",
      "Epoch:462, P:None, Loss:160.1633, Loss-ae:159.7725, Loss-topo:0.3908\n",
      "Epoch:463, P:None, Loss:158.4832, Loss-ae:158.1388, Loss-topo:0.3444\n",
      "Epoch:464, P:None, Loss:161.8831, Loss-ae:161.5071, Loss-topo:0.3760\n",
      "Epoch:465, P:None, Loss:160.9534, Loss-ae:160.6163, Loss-topo:0.3371\n",
      "Epoch:466, P:None, Loss:167.7193, Loss-ae:167.4054, Loss-topo:0.3139\n",
      "Epoch:467, P:None, Loss:168.3080, Loss-ae:167.9327, Loss-topo:0.3753\n",
      "Epoch:468, P:None, Loss:163.9645, Loss-ae:163.6258, Loss-topo:0.3387\n",
      "Epoch:469, P:None, Loss:161.4413, Loss-ae:161.0997, Loss-topo:0.3416\n",
      "Epoch:470, P:None, Loss:162.0433, Loss-ae:161.7174, Loss-topo:0.3259\n",
      "Epoch:471, P:None, Loss:165.3073, Loss-ae:164.9644, Loss-topo:0.3429\n",
      "Epoch:472, P:None, Loss:163.9221, Loss-ae:163.5791, Loss-topo:0.3431\n",
      "Epoch:473, P:None, Loss:163.7577, Loss-ae:163.4309, Loss-topo:0.3268\n",
      "Epoch:474, P:None, Loss:162.3955, Loss-ae:162.1032, Loss-topo:0.2924\n",
      "Epoch:475, P:None, Loss:163.9306, Loss-ae:163.5868, Loss-topo:0.3438\n",
      "Epoch:476, P:None, Loss:160.4769, Loss-ae:160.2083, Loss-topo:0.2686\n",
      "Epoch:477, P:None, Loss:161.7778, Loss-ae:161.4749, Loss-topo:0.3029\n"
     ]
    }
   ],
   "source": [
    "import pickle\n",
    "\n",
    "# Variables to reuse\n",
    "save_id = 1\n",
    "model_name = 'ConvolutionalAutoencoder_custom_dim3'\n",
    "model_dim = 10\n",
    "model_epc = 500\n",
    "model_lams = [1, 10, 100, 1000]\n",
    "\n",
    "for model_lam in model_lams:\n",
    "    # Training model\n",
    "    topo_reducer = CustomTopoDimRedTransform(\n",
    "        model_name=model_name,\n",
    "        model_lambda=model_lam,\n",
    "        patience=None,\n",
    "        num_epochs=model_epc,\n",
    "        from_dim=180,\n",
    "        to_dim=model_dim\n",
    "    )\n",
    "\n",
    "    title_plot = \"MotionSense 20Hz\\nTopoAE lambda {}\".format(model_lam)\n",
    "    topo_reducer.fit(train_HD, train_Y, title_plot=title_plot)\n",
    "\n",
    "    # Variables to reuse\n",
    "    filename = 'data/{}_{}_{}_{}_{}.pkl'.format(model_name, model_lam, model_dim, model_epc, save_id)\n",
    "\n",
    "    filehandler = open(filename, 'wb')\n",
    "    pickle.dump(topo_reducer, filehandler)\n",
    "    filehandler.close()"
   ]
  }
 ],
 "metadata": {
  "kernelspec": {
   "display_name": "Python 3 (ipykernel)",
   "language": "python",
   "name": "python3"
  },
  "language_info": {
   "codemirror_mode": {
    "name": "ipython",
    "version": 3
   },
   "file_extension": ".py",
   "mimetype": "text/x-python",
   "name": "python",
   "nbconvert_exporter": "python",
   "pygments_lexer": "ipython3",
   "version": "3.8.10"
  }
 },
 "nbformat": 4,
 "nbformat_minor": 5
}
