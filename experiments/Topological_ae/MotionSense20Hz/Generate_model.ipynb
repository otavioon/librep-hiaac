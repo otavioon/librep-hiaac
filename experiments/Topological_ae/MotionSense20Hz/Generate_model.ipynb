{
 "cells": [
  {
   "cell_type": "code",
   "execution_count": 1,
   "id": "7e1630ed-63c8-4ee7-86c9-62dfb528b9a2",
   "metadata": {
    "execution": {
     "iopub.execute_input": "2022-12-14T13:57:32.884500Z",
     "iopub.status.busy": "2022-12-14T13:57:32.883686Z",
     "iopub.status.idle": "2022-12-14T13:57:32.917550Z",
     "shell.execute_reply": "2022-12-14T13:57:32.916052Z",
     "shell.execute_reply.started": "2022-12-14T13:57:32.884453Z"
    },
    "tags": []
   },
   "outputs": [],
   "source": [
    "%load_ext autoreload\n",
    "%autoreload 2"
   ]
  },
  {
   "cell_type": "code",
   "execution_count": 2,
   "id": "fedad853",
   "metadata": {
    "execution": {
     "iopub.execute_input": "2022-12-14T13:57:32.919861Z",
     "iopub.status.busy": "2022-12-14T13:57:32.919216Z",
     "iopub.status.idle": "2022-12-14T13:57:32.979518Z",
     "shell.execute_reply": "2022-12-14T13:57:32.977468Z",
     "shell.execute_reply.started": "2022-12-14T13:57:32.919818Z"
    }
   },
   "outputs": [],
   "source": [
    "import os\n",
    "os.environ[\"CUDA_VISIBLE_DEVICES\"] = \"0\""
   ]
  },
  {
   "cell_type": "code",
   "execution_count": 3,
   "id": "c1e18129",
   "metadata": {
    "execution": {
     "iopub.execute_input": "2022-12-14T13:57:32.982880Z",
     "iopub.status.busy": "2022-12-14T13:57:32.982136Z",
     "iopub.status.idle": "2022-12-14T13:57:35.629613Z",
     "shell.execute_reply": "2022-12-14T13:57:35.627511Z",
     "shell.execute_reply.started": "2022-12-14T13:57:32.982836Z"
    }
   },
   "outputs": [
    {
     "name": "stdout",
     "output_type": "stream",
     "text": [
      "True\n",
      "1\n",
      "0\n",
      "<torch.cuda.device object at 0x7fc94055fb80>\n",
      "NVIDIA TITAN Xp\n"
     ]
    }
   ],
   "source": [
    "import torch\n",
    "print(torch.cuda.is_available()) # True\n",
    "print(torch.cuda.device_count()) # 1\n",
    "print(torch.cuda.current_device()) # 0\n",
    "print(torch.cuda.device(0)) # <torch.cuda.device at 0x7efce0b03be0>\n",
    "print(torch.cuda.get_device_name(0)) # 'GeForce GTX 950M'"
   ]
  },
  {
   "cell_type": "code",
   "execution_count": 4,
   "id": "2da911e3-e82f-47c9-8090-f71f453956ee",
   "metadata": {
    "execution": {
     "iopub.execute_input": "2022-12-14T13:57:35.632676Z",
     "iopub.status.busy": "2022-12-14T13:57:35.632113Z",
     "iopub.status.idle": "2022-12-14T13:57:35.668692Z",
     "shell.execute_reply": "2022-12-14T13:57:35.667219Z",
     "shell.execute_reply.started": "2022-12-14T13:57:35.632632Z"
    }
   },
   "outputs": [],
   "source": [
    "import sys\n",
    "sys.path.append(\"../../..\")"
   ]
  },
  {
   "cell_type": "code",
   "execution_count": 5,
   "id": "5f067405-ab8c-4f22-b056-ab9e1febe71c",
   "metadata": {
    "execution": {
     "iopub.execute_input": "2022-12-14T13:57:35.673484Z",
     "iopub.status.busy": "2022-12-14T13:57:35.672905Z",
     "iopub.status.idle": "2022-12-14T13:57:36.761381Z",
     "shell.execute_reply": "2022-12-14T13:57:36.759552Z",
     "shell.execute_reply.started": "2022-12-14T13:57:35.673420Z"
    }
   },
   "outputs": [],
   "source": [
    "import numpy as np\n",
    "import pandas as pd\n",
    "import matplotlib.pyplot as plt"
   ]
  },
  {
   "cell_type": "code",
   "execution_count": 6,
   "id": "cc5007e3-ef19-4658-ac7d-2a6f617bb9c6",
   "metadata": {
    "execution": {
     "iopub.execute_input": "2022-12-14T13:57:36.764138Z",
     "iopub.status.busy": "2022-12-14T13:57:36.763356Z",
     "iopub.status.idle": "2022-12-14T13:57:48.215416Z",
     "shell.execute_reply": "2022-12-14T13:57:48.213358Z",
     "shell.execute_reply.started": "2022-12-14T13:57:36.764093Z"
    }
   },
   "outputs": [
    {
     "name": "stderr",
     "output_type": "stream",
     "text": [
      "2022-12-14 13:57:45.222732: I tensorflow/core/platform/cpu_feature_guard.cc:193] This TensorFlow binary is optimized with oneAPI Deep Neural Network Library (oneDNN) to use the following CPU instructions in performance-critical operations:  AVX2 AVX512F FMA\n",
      "To enable them in other operations, rebuild TensorFlow with the appropriate compiler flags.\n",
      "2022-12-14 13:57:46.716730: W tensorflow/compiler/xla/stream_executor/platform/default/dso_loader.cc:64] Could not load dynamic library 'libnvinfer.so.7'; dlerror: libnvinfer.so.7: cannot open shared object file: No such file or directory\n",
      "2022-12-14 13:57:46.716861: W tensorflow/compiler/xla/stream_executor/platform/default/dso_loader.cc:64] Could not load dynamic library 'libnvinfer_plugin.so.7'; dlerror: libnvinfer_plugin.so.7: cannot open shared object file: No such file or directory\n",
      "2022-12-14 13:57:46.716876: W tensorflow/compiler/tf2tensorrt/utils/py_utils.cc:38] TF-TRT Warning: Cannot dlopen some TensorRT libraries. If you would like to use Nvidia GPU with TensorRT, please make sure the missing libraries mentioned above are installed properly.\n"
     ]
    }
   ],
   "source": [
    "from librep.datasets.har.loaders import (\n",
    "    MotionSense_BalancedView20HZ\n",
    ")"
   ]
  },
  {
   "cell_type": "code",
   "execution_count": 7,
   "id": "2f9f66b2-7b1c-4d4e-a0e3-cde9552a595a",
   "metadata": {
    "execution": {
     "iopub.execute_input": "2022-12-14T13:57:48.218342Z",
     "iopub.status.busy": "2022-12-14T13:57:48.217438Z",
     "iopub.status.idle": "2022-12-14T13:57:48.329136Z",
     "shell.execute_reply": "2022-12-14T13:57:48.327821Z",
     "shell.execute_reply.started": "2022-12-14T13:57:48.218297Z"
    },
    "tags": []
   },
   "outputs": [],
   "source": [
    "from librep.transforms.topo_ae import (\n",
    "    TopologicalDimensionalityReduction,\n",
    "    CustomTopoDimRedTransform\n",
    ")\n",
    "from librep.transforms import UMAP\n",
    "from sklearn.manifold import TSNE\n",
    "from experiments.Topological_ae.Experiment_utils import *\n",
    "from librep.datasets.multimodal import TransformMultiModalDataset\n",
    "from librep.transforms.fft import FFT"
   ]
  },
  {
   "cell_type": "code",
   "execution_count": 8,
   "id": "85bea424-07ff-47ec-945a-aef385afe7a7",
   "metadata": {
    "execution": {
     "iopub.execute_input": "2022-12-14T13:57:48.331416Z",
     "iopub.status.busy": "2022-12-14T13:57:48.330757Z",
     "iopub.status.idle": "2022-12-14T13:57:48.416710Z",
     "shell.execute_reply": "2022-12-14T13:57:48.415255Z",
     "shell.execute_reply.started": "2022-12-14T13:57:48.331371Z"
    }
   },
   "outputs": [],
   "source": [
    "# MotionSense Loader\n",
    "loader = MotionSense_BalancedView20HZ(\n",
    "    root_dir=\"../../../data/views/MotionSense/balanced_view_20Hz_with_gravity_9.81_acc_standard\", \n",
    "    download=False\n",
    ")"
   ]
  },
  {
   "cell_type": "code",
   "execution_count": 9,
   "id": "3d817b0c-4e6b-4227-9b48-cd23c3df190d",
   "metadata": {
    "execution": {
     "iopub.execute_input": "2022-12-14T13:57:48.419039Z",
     "iopub.status.busy": "2022-12-14T13:57:48.418144Z",
     "iopub.status.idle": "2022-12-14T13:57:49.202171Z",
     "shell.execute_reply": "2022-12-14T13:57:49.200358Z",
     "shell.execute_reply.started": "2022-12-14T13:57:48.419004Z"
    }
   },
   "outputs": [
    {
     "data": {
      "text/plain": [
       "(PandasMultiModalDataset: samples=4020, features=360, no. window=6, label_columns='standard activity code',\n",
       " PandasMultiModalDataset: samples=1020, features=360, no. window=6, label_columns='standard activity code')"
      ]
     },
     "execution_count": 9,
     "metadata": {},
     "output_type": "execute_result"
    }
   ],
   "source": [
    "# Load the dataset\n",
    "train_val, test = loader.load(concat_train_validation=True, label=loader.standard_label)\n",
    "train_val, test"
   ]
  },
  {
   "cell_type": "code",
   "execution_count": 10,
   "id": "9491b1e0-0b60-439c-9bed-ea0ee7918b68",
   "metadata": {
    "execution": {
     "iopub.execute_input": "2022-12-14T13:57:49.204793Z",
     "iopub.status.busy": "2022-12-14T13:57:49.204123Z",
     "iopub.status.idle": "2022-12-14T13:57:49.327008Z",
     "shell.execute_reply": "2022-12-14T13:57:49.325249Z",
     "shell.execute_reply.started": "2022-12-14T13:57:49.204747Z"
    }
   },
   "outputs": [],
   "source": [
    "train_HD = np.array(train_val[:][0])\n",
    "train_LD = None\n",
    "train_Y = np.array(train_val[:][1])\n",
    "test_HD = np.array(test[:][0])\n",
    "test_LD = None\n",
    "test_Y = np.array(test[:][1])"
   ]
  },
  {
   "cell_type": "code",
   "execution_count": 11,
   "id": "cc4810ac-c560-4b23-9b72-481a2d0f1a91",
   "metadata": {
    "execution": {
     "iopub.execute_input": "2022-12-14T13:57:49.329597Z",
     "iopub.status.busy": "2022-12-14T13:57:49.328978Z",
     "iopub.status.idle": "2022-12-14T13:57:49.419595Z",
     "shell.execute_reply": "2022-12-14T13:57:49.417950Z",
     "shell.execute_reply.started": "2022-12-14T13:57:49.329557Z"
    }
   },
   "outputs": [
    {
     "name": "stdout",
     "output_type": "stream",
     "text": [
      "(4020, 360) (4020,) (1020, 360) (1020,)\n"
     ]
    }
   ],
   "source": [
    "print(train_HD.shape, train_Y.shape, test_HD.shape, test_Y.shape)"
   ]
  },
  {
   "cell_type": "markdown",
   "id": "4c93d061-6ea0-418b-b690-2d977f6297c9",
   "metadata": {},
   "source": [
    "# Aplicar FFT"
   ]
  },
  {
   "cell_type": "code",
   "execution_count": 12,
   "id": "e5255de5-0259-404a-a2d8-507ad4f2ee2f",
   "metadata": {
    "execution": {
     "iopub.execute_input": "2022-12-14T13:57:49.421946Z",
     "iopub.status.busy": "2022-12-14T13:57:49.421324Z",
     "iopub.status.idle": "2022-12-14T13:57:49.535000Z",
     "shell.execute_reply": "2022-12-14T13:57:49.533282Z",
     "shell.execute_reply.started": "2022-12-14T13:57:49.421904Z"
    }
   },
   "outputs": [],
   "source": [
    "fft_transform = FFT(centered = True)\n",
    "transformer = TransformMultiModalDataset(\n",
    "    transforms=[fft_transform],\n",
    "    new_window_name_prefix=\"fft.\"\n",
    ")"
   ]
  },
  {
   "cell_type": "code",
   "execution_count": 13,
   "id": "29195f38-f8a9-4167-937f-d3f98ddc7642",
   "metadata": {
    "execution": {
     "iopub.execute_input": "2022-12-14T13:57:49.537494Z",
     "iopub.status.busy": "2022-12-14T13:57:49.536824Z",
     "iopub.status.idle": "2022-12-14T13:57:50.439962Z",
     "shell.execute_reply": "2022-12-14T13:57:50.438269Z",
     "shell.execute_reply.started": "2022-12-14T13:57:49.537419Z"
    }
   },
   "outputs": [],
   "source": [
    "train_dataset_fft = transformer(train_val)\n",
    "test_dataset_fft = transformer(test)"
   ]
  },
  {
   "cell_type": "code",
   "execution_count": 14,
   "id": "3c8cfc25-0323-498a-931d-1249078f2796",
   "metadata": {
    "execution": {
     "iopub.execute_input": "2022-12-14T13:57:50.442357Z",
     "iopub.status.busy": "2022-12-14T13:57:50.441721Z",
     "iopub.status.idle": "2022-12-14T13:57:50.529985Z",
     "shell.execute_reply": "2022-12-14T13:57:50.528565Z",
     "shell.execute_reply.started": "2022-12-14T13:57:50.442314Z"
    }
   },
   "outputs": [
    {
     "name": "stdout",
     "output_type": "stream",
     "text": [
      "(4020, 180)\n",
      "(1020, 180)\n"
     ]
    }
   ],
   "source": [
    "print(train_dataset_fft.X.shape)\n",
    "print(test_dataset_fft.X.shape)"
   ]
  },
  {
   "cell_type": "code",
   "execution_count": 15,
   "id": "d413cc20-e5b5-4594-b1f7-f11153c00c5f",
   "metadata": {
    "execution": {
     "iopub.execute_input": "2022-12-14T13:57:50.531963Z",
     "iopub.status.busy": "2022-12-14T13:57:50.531423Z",
     "iopub.status.idle": "2022-12-14T13:57:50.619673Z",
     "shell.execute_reply": "2022-12-14T13:57:50.618364Z",
     "shell.execute_reply.started": "2022-12-14T13:57:50.531928Z"
    }
   },
   "outputs": [
    {
     "name": "stdout",
     "output_type": "stream",
     "text": [
      "797.3368276806895\n"
     ]
    }
   ],
   "source": [
    "print(np.max(train_dataset_fft.X))"
   ]
  },
  {
   "cell_type": "code",
   "execution_count": 16,
   "id": "fea2e105-a571-4a2f-ac76-096b08a6ef2f",
   "metadata": {
    "execution": {
     "iopub.execute_input": "2022-12-14T13:57:50.622016Z",
     "iopub.status.busy": "2022-12-14T13:57:50.621481Z",
     "iopub.status.idle": "2022-12-14T13:57:50.705695Z",
     "shell.execute_reply": "2022-12-14T13:57:50.704392Z",
     "shell.execute_reply.started": "2022-12-14T13:57:50.621983Z"
    }
   },
   "outputs": [],
   "source": [
    "train_HD = train_dataset_fft.X\n",
    "train_LD = None\n",
    "train_Y = train_dataset_fft.y\n",
    "test_HD = test_dataset_fft.X\n",
    "test_LD = None\n",
    "test_Y = test_dataset_fft.y"
   ]
  },
  {
   "cell_type": "code",
   "execution_count": 17,
   "id": "ee13aef1-77c7-42a9-930b-b1a56f980d25",
   "metadata": {
    "execution": {
     "iopub.execute_input": "2022-12-14T13:57:50.707610Z",
     "iopub.status.busy": "2022-12-14T13:57:50.707082Z",
     "iopub.status.idle": "2022-12-14T13:57:50.791310Z",
     "shell.execute_reply": "2022-12-14T13:57:50.789806Z",
     "shell.execute_reply.started": "2022-12-14T13:57:50.707576Z"
    }
   },
   "outputs": [
    {
     "name": "stdout",
     "output_type": "stream",
     "text": [
      "(4020, 180) (4020,) (1020, 180) (1020,)\n"
     ]
    }
   ],
   "source": [
    "print(train_HD.shape, train_Y.shape, test_HD.shape, test_Y.shape)"
   ]
  },
  {
   "cell_type": "code",
   "execution_count": 18,
   "id": "80f4771a-da3f-407b-9fa9-b0619a129e66",
   "metadata": {
    "execution": {
     "iopub.execute_input": "2022-12-14T13:57:50.793584Z",
     "iopub.status.busy": "2022-12-14T13:57:50.792971Z",
     "iopub.status.idle": "2022-12-14T13:57:50.877107Z",
     "shell.execute_reply": "2022-12-14T13:57:50.875721Z",
     "shell.execute_reply.started": "2022-12-14T13:57:50.793543Z"
    },
    "tags": []
   },
   "outputs": [],
   "source": [
    "# Variables to reuse\n",
    "save_id = 0\n",
    "model_name = 'ConvolutionalAutoencoder_custom_dim3'\n",
    "model_dim = 10\n",
    "model_epc = 250\n",
    "model_lam = 0"
   ]
  },
  {
   "cell_type": "markdown",
   "id": "0c8264b9-7756-4a8d-a8c0-18a1645b8e28",
   "metadata": {},
   "source": [
    "# Reducing with Convolutional Topological Autoencoders (L=0)"
   ]
  },
  {
   "cell_type": "code",
   "execution_count": 19,
   "id": "d80ae63d-92f7-49c6-9527-212af7500573",
   "metadata": {
    "execution": {
     "iopub.execute_input": "2022-12-14T13:57:50.884075Z",
     "iopub.status.busy": "2022-12-14T13:57:50.883522Z",
     "iopub.status.idle": "2022-12-14T14:04:58.461626Z",
     "shell.execute_reply": "2022-12-14T14:04:58.459490Z",
     "shell.execute_reply.started": "2022-12-14T13:57:50.884036Z"
    },
    "tags": []
   },
   "outputs": [
    {
     "name": "stdout",
     "output_type": "stream",
     "text": [
      "INIT_TopoDimRed\n",
      "Topologically Regularized ConvolutionalAutoencoder_custom_dim3\n",
      "Using python to compute signatures\n",
      "ConvAECustomDim, Input: (1, 180) Inner dim: 10\n",
      "ENCODER STRUCT torch.Size([4, 8, 5])\n"
     ]
    },
    {
     "data": {
      "application/vnd.jupyter.widget-view+json": {
       "model_id": "924a02ff11594b82ba32f6cc5a4ddc39",
       "version_major": 2,
       "version_minor": 0
      },
      "text/plain": [
       "  0%|          | 0/5 [00:00<?, ?it/s]"
      ]
     },
     "metadata": {},
     "output_type": "display_data"
    },
    {
     "name": "stderr",
     "output_type": "stream",
     "text": [
      "/home/darlinne.soto/librep-hiaac/experiments/Topological_ae/MotionSense20Hz/../../../librep/transforms/topo_ae.py:104: UserWarning: To copy construct from a tensor, it is recommended to use sourceTensor.clone().detach() or sourceTensor.clone().detach().requires_grad_(True), rather than torch.tensor(sourceTensor).\n",
      "  in_tensor = torch.tensor(reshaped_data, device=self.cuda_device).float()\n",
      "/home/darlinne.soto/librep-hiaac/experiments/Topological_ae/MotionSense20Hz/../../../librep/transforms/topo_ae.py:116: UserWarning: To copy construct from a tensor, it is recommended to use sourceTensor.clone().detach() or sourceTensor.clone().detach().requires_grad_(True), rather than torch.tensor(sourceTensor).\n",
      "  in_tensor = torch.tensor(reshaped_data, device=self.cuda_device).float()\n"
     ]
    },
    {
     "name": "stdout",
     "output_type": "stream",
     "text": [
      "Saved  data/ConvolutionalAutoencoder_custom_dim3_0.01_180-10_5_0.pkl\n"
     ]
    },
    {
     "data": {
      "application/vnd.jupyter.widget-view+json": {
       "model_id": "723102c78fe84a72a3297a21b64aa7b2",
       "version_major": 2,
       "version_minor": 0
      },
      "text/plain": [
       "  0%|          | 0/5 [00:00<?, ?it/s]"
      ]
     },
     "metadata": {},
     "output_type": "display_data"
    },
    {
     "name": "stderr",
     "output_type": "stream",
     "text": [
      "/home/darlinne.soto/librep-hiaac/experiments/Topological_ae/MotionSense20Hz/../../../librep/transforms/topo_ae.py:104: UserWarning: To copy construct from a tensor, it is recommended to use sourceTensor.clone().detach() or sourceTensor.clone().detach().requires_grad_(True), rather than torch.tensor(sourceTensor).\n",
      "  in_tensor = torch.tensor(reshaped_data, device=self.cuda_device).float()\n",
      "/home/darlinne.soto/librep-hiaac/experiments/Topological_ae/MotionSense20Hz/../../../librep/transforms/topo_ae.py:116: UserWarning: To copy construct from a tensor, it is recommended to use sourceTensor.clone().detach() or sourceTensor.clone().detach().requires_grad_(True), rather than torch.tensor(sourceTensor).\n",
      "  in_tensor = torch.tensor(reshaped_data, device=self.cuda_device).float()\n"
     ]
    },
    {
     "name": "stdout",
     "output_type": "stream",
     "text": [
      "Saved  data/ConvolutionalAutoencoder_custom_dim3_0.01_180-10_10_0.pkl\n"
     ]
    },
    {
     "data": {
      "application/vnd.jupyter.widget-view+json": {
       "model_id": "db3cbe436b9d4e228c485b66b1c71184",
       "version_major": 2,
       "version_minor": 0
      },
      "text/plain": [
       "  0%|          | 0/5 [00:00<?, ?it/s]"
      ]
     },
     "metadata": {},
     "output_type": "display_data"
    },
    {
     "name": "stderr",
     "output_type": "stream",
     "text": [
      "/home/darlinne.soto/librep-hiaac/experiments/Topological_ae/MotionSense20Hz/../../../librep/transforms/topo_ae.py:104: UserWarning: To copy construct from a tensor, it is recommended to use sourceTensor.clone().detach() or sourceTensor.clone().detach().requires_grad_(True), rather than torch.tensor(sourceTensor).\n",
      "  in_tensor = torch.tensor(reshaped_data, device=self.cuda_device).float()\n",
      "/home/darlinne.soto/librep-hiaac/experiments/Topological_ae/MotionSense20Hz/../../../librep/transforms/topo_ae.py:116: UserWarning: To copy construct from a tensor, it is recommended to use sourceTensor.clone().detach() or sourceTensor.clone().detach().requires_grad_(True), rather than torch.tensor(sourceTensor).\n",
      "  in_tensor = torch.tensor(reshaped_data, device=self.cuda_device).float()\n"
     ]
    },
    {
     "name": "stdout",
     "output_type": "stream",
     "text": [
      "Saved  data/ConvolutionalAutoencoder_custom_dim3_0.01_180-10_15_0.pkl\n"
     ]
    },
    {
     "data": {
      "application/vnd.jupyter.widget-view+json": {
       "model_id": "bd22ae1fd24449b0bc592d4d8c0468db",
       "version_major": 2,
       "version_minor": 0
      },
      "text/plain": [
       "  0%|          | 0/5 [00:00<?, ?it/s]"
      ]
     },
     "metadata": {},
     "output_type": "display_data"
    },
    {
     "name": "stderr",
     "output_type": "stream",
     "text": [
      "/home/darlinne.soto/librep-hiaac/experiments/Topological_ae/MotionSense20Hz/../../../librep/transforms/topo_ae.py:104: UserWarning: To copy construct from a tensor, it is recommended to use sourceTensor.clone().detach() or sourceTensor.clone().detach().requires_grad_(True), rather than torch.tensor(sourceTensor).\n",
      "  in_tensor = torch.tensor(reshaped_data, device=self.cuda_device).float()\n",
      "/home/darlinne.soto/librep-hiaac/experiments/Topological_ae/MotionSense20Hz/../../../librep/transforms/topo_ae.py:116: UserWarning: To copy construct from a tensor, it is recommended to use sourceTensor.clone().detach() or sourceTensor.clone().detach().requires_grad_(True), rather than torch.tensor(sourceTensor).\n",
      "  in_tensor = torch.tensor(reshaped_data, device=self.cuda_device).float()\n"
     ]
    },
    {
     "name": "stdout",
     "output_type": "stream",
     "text": [
      "Saved  data/ConvolutionalAutoencoder_custom_dim3_0.01_180-10_20_0.pkl\n"
     ]
    },
    {
     "data": {
      "application/vnd.jupyter.widget-view+json": {
       "model_id": "72ea4a6736be43ddaa51c83a2236d846",
       "version_major": 2,
       "version_minor": 0
      },
      "text/plain": [
       "  0%|          | 0/5 [00:00<?, ?it/s]"
      ]
     },
     "metadata": {},
     "output_type": "display_data"
    },
    {
     "name": "stderr",
     "output_type": "stream",
     "text": [
      "/home/darlinne.soto/librep-hiaac/experiments/Topological_ae/MotionSense20Hz/../../../librep/transforms/topo_ae.py:104: UserWarning: To copy construct from a tensor, it is recommended to use sourceTensor.clone().detach() or sourceTensor.clone().detach().requires_grad_(True), rather than torch.tensor(sourceTensor).\n",
      "  in_tensor = torch.tensor(reshaped_data, device=self.cuda_device).float()\n",
      "/home/darlinne.soto/librep-hiaac/experiments/Topological_ae/MotionSense20Hz/../../../librep/transforms/topo_ae.py:116: UserWarning: To copy construct from a tensor, it is recommended to use sourceTensor.clone().detach() or sourceTensor.clone().detach().requires_grad_(True), rather than torch.tensor(sourceTensor).\n",
      "  in_tensor = torch.tensor(reshaped_data, device=self.cuda_device).float()\n"
     ]
    },
    {
     "name": "stdout",
     "output_type": "stream",
     "text": [
      "Saved  data/ConvolutionalAutoencoder_custom_dim3_0.01_180-10_25_0.pkl\n",
      "INIT_TopoDimRed\n",
      "Topologically Regularized ConvolutionalAutoencoder_custom_dim3\n",
      "Using python to compute signatures\n",
      "ConvAECustomDim, Input: (1, 180) Inner dim: 10\n",
      "ENCODER STRUCT torch.Size([4, 8, 5])\n"
     ]
    },
    {
     "data": {
      "application/vnd.jupyter.widget-view+json": {
       "model_id": "ed232f6c0b554333964391fc3450b35c",
       "version_major": 2,
       "version_minor": 0
      },
      "text/plain": [
       "  0%|          | 0/5 [00:00<?, ?it/s]"
      ]
     },
     "metadata": {},
     "output_type": "display_data"
    },
    {
     "name": "stderr",
     "output_type": "stream",
     "text": [
      "/home/darlinne.soto/librep-hiaac/experiments/Topological_ae/MotionSense20Hz/../../../librep/transforms/topo_ae.py:104: UserWarning: To copy construct from a tensor, it is recommended to use sourceTensor.clone().detach() or sourceTensor.clone().detach().requires_grad_(True), rather than torch.tensor(sourceTensor).\n",
      "  in_tensor = torch.tensor(reshaped_data, device=self.cuda_device).float()\n",
      "/home/darlinne.soto/librep-hiaac/experiments/Topological_ae/MotionSense20Hz/../../../librep/transforms/topo_ae.py:116: UserWarning: To copy construct from a tensor, it is recommended to use sourceTensor.clone().detach() or sourceTensor.clone().detach().requires_grad_(True), rather than torch.tensor(sourceTensor).\n",
      "  in_tensor = torch.tensor(reshaped_data, device=self.cuda_device).float()\n"
     ]
    },
    {
     "name": "stdout",
     "output_type": "stream",
     "text": [
      "Saved  data/ConvolutionalAutoencoder_custom_dim3_0.1_180-10_5_0.pkl\n"
     ]
    },
    {
     "data": {
      "application/vnd.jupyter.widget-view+json": {
       "model_id": "c7c9497a37b84f67be59733503637ce8",
       "version_major": 2,
       "version_minor": 0
      },
      "text/plain": [
       "  0%|          | 0/5 [00:00<?, ?it/s]"
      ]
     },
     "metadata": {},
     "output_type": "display_data"
    },
    {
     "name": "stderr",
     "output_type": "stream",
     "text": [
      "/home/darlinne.soto/librep-hiaac/experiments/Topological_ae/MotionSense20Hz/../../../librep/transforms/topo_ae.py:104: UserWarning: To copy construct from a tensor, it is recommended to use sourceTensor.clone().detach() or sourceTensor.clone().detach().requires_grad_(True), rather than torch.tensor(sourceTensor).\n",
      "  in_tensor = torch.tensor(reshaped_data, device=self.cuda_device).float()\n",
      "/home/darlinne.soto/librep-hiaac/experiments/Topological_ae/MotionSense20Hz/../../../librep/transforms/topo_ae.py:116: UserWarning: To copy construct from a tensor, it is recommended to use sourceTensor.clone().detach() or sourceTensor.clone().detach().requires_grad_(True), rather than torch.tensor(sourceTensor).\n",
      "  in_tensor = torch.tensor(reshaped_data, device=self.cuda_device).float()\n"
     ]
    },
    {
     "name": "stdout",
     "output_type": "stream",
     "text": [
      "Saved  data/ConvolutionalAutoencoder_custom_dim3_0.1_180-10_10_0.pkl\n"
     ]
    },
    {
     "data": {
      "application/vnd.jupyter.widget-view+json": {
       "model_id": "5316dbbf51574d8b80274bc38ad66673",
       "version_major": 2,
       "version_minor": 0
      },
      "text/plain": [
       "  0%|          | 0/5 [00:00<?, ?it/s]"
      ]
     },
     "metadata": {},
     "output_type": "display_data"
    },
    {
     "name": "stderr",
     "output_type": "stream",
     "text": [
      "/home/darlinne.soto/librep-hiaac/experiments/Topological_ae/MotionSense20Hz/../../../librep/transforms/topo_ae.py:104: UserWarning: To copy construct from a tensor, it is recommended to use sourceTensor.clone().detach() or sourceTensor.clone().detach().requires_grad_(True), rather than torch.tensor(sourceTensor).\n",
      "  in_tensor = torch.tensor(reshaped_data, device=self.cuda_device).float()\n",
      "/home/darlinne.soto/librep-hiaac/experiments/Topological_ae/MotionSense20Hz/../../../librep/transforms/topo_ae.py:116: UserWarning: To copy construct from a tensor, it is recommended to use sourceTensor.clone().detach() or sourceTensor.clone().detach().requires_grad_(True), rather than torch.tensor(sourceTensor).\n",
      "  in_tensor = torch.tensor(reshaped_data, device=self.cuda_device).float()\n"
     ]
    },
    {
     "name": "stdout",
     "output_type": "stream",
     "text": [
      "Saved  data/ConvolutionalAutoencoder_custom_dim3_0.1_180-10_15_0.pkl\n"
     ]
    },
    {
     "data": {
      "application/vnd.jupyter.widget-view+json": {
       "model_id": "6fecdfa27204445d99800a0caa0e59c9",
       "version_major": 2,
       "version_minor": 0
      },
      "text/plain": [
       "  0%|          | 0/5 [00:00<?, ?it/s]"
      ]
     },
     "metadata": {},
     "output_type": "display_data"
    },
    {
     "name": "stderr",
     "output_type": "stream",
     "text": [
      "/home/darlinne.soto/librep-hiaac/experiments/Topological_ae/MotionSense20Hz/../../../librep/transforms/topo_ae.py:104: UserWarning: To copy construct from a tensor, it is recommended to use sourceTensor.clone().detach() or sourceTensor.clone().detach().requires_grad_(True), rather than torch.tensor(sourceTensor).\n",
      "  in_tensor = torch.tensor(reshaped_data, device=self.cuda_device).float()\n",
      "/home/darlinne.soto/librep-hiaac/experiments/Topological_ae/MotionSense20Hz/../../../librep/transforms/topo_ae.py:116: UserWarning: To copy construct from a tensor, it is recommended to use sourceTensor.clone().detach() or sourceTensor.clone().detach().requires_grad_(True), rather than torch.tensor(sourceTensor).\n",
      "  in_tensor = torch.tensor(reshaped_data, device=self.cuda_device).float()\n"
     ]
    },
    {
     "name": "stdout",
     "output_type": "stream",
     "text": [
      "Saved  data/ConvolutionalAutoencoder_custom_dim3_0.1_180-10_20_0.pkl\n"
     ]
    },
    {
     "data": {
      "application/vnd.jupyter.widget-view+json": {
       "model_id": "0d57f70afcdc4acc8de277eef15d2c1d",
       "version_major": 2,
       "version_minor": 0
      },
      "text/plain": [
       "  0%|          | 0/5 [00:00<?, ?it/s]"
      ]
     },
     "metadata": {},
     "output_type": "display_data"
    },
    {
     "name": "stderr",
     "output_type": "stream",
     "text": [
      "/home/darlinne.soto/librep-hiaac/experiments/Topological_ae/MotionSense20Hz/../../../librep/transforms/topo_ae.py:104: UserWarning: To copy construct from a tensor, it is recommended to use sourceTensor.clone().detach() or sourceTensor.clone().detach().requires_grad_(True), rather than torch.tensor(sourceTensor).\n",
      "  in_tensor = torch.tensor(reshaped_data, device=self.cuda_device).float()\n",
      "/home/darlinne.soto/librep-hiaac/experiments/Topological_ae/MotionSense20Hz/../../../librep/transforms/topo_ae.py:116: UserWarning: To copy construct from a tensor, it is recommended to use sourceTensor.clone().detach() or sourceTensor.clone().detach().requires_grad_(True), rather than torch.tensor(sourceTensor).\n",
      "  in_tensor = torch.tensor(reshaped_data, device=self.cuda_device).float()\n"
     ]
    },
    {
     "name": "stdout",
     "output_type": "stream",
     "text": [
      "Saved  data/ConvolutionalAutoencoder_custom_dim3_0.1_180-10_25_0.pkl\n",
      "INIT_TopoDimRed\n",
      "Topologically Regularized ConvolutionalAutoencoder_custom_dim3\n",
      "Using python to compute signatures\n",
      "ConvAECustomDim, Input: (1, 180) Inner dim: 10\n",
      "ENCODER STRUCT torch.Size([4, 8, 5])\n"
     ]
    },
    {
     "data": {
      "application/vnd.jupyter.widget-view+json": {
       "model_id": "b0385de77872405db3d3c805353fff01",
       "version_major": 2,
       "version_minor": 0
      },
      "text/plain": [
       "  0%|          | 0/5 [00:00<?, ?it/s]"
      ]
     },
     "metadata": {},
     "output_type": "display_data"
    },
    {
     "name": "stderr",
     "output_type": "stream",
     "text": [
      "/home/darlinne.soto/librep-hiaac/experiments/Topological_ae/MotionSense20Hz/../../../librep/transforms/topo_ae.py:104: UserWarning: To copy construct from a tensor, it is recommended to use sourceTensor.clone().detach() or sourceTensor.clone().detach().requires_grad_(True), rather than torch.tensor(sourceTensor).\n",
      "  in_tensor = torch.tensor(reshaped_data, device=self.cuda_device).float()\n",
      "/home/darlinne.soto/librep-hiaac/experiments/Topological_ae/MotionSense20Hz/../../../librep/transforms/topo_ae.py:116: UserWarning: To copy construct from a tensor, it is recommended to use sourceTensor.clone().detach() or sourceTensor.clone().detach().requires_grad_(True), rather than torch.tensor(sourceTensor).\n",
      "  in_tensor = torch.tensor(reshaped_data, device=self.cuda_device).float()\n"
     ]
    },
    {
     "name": "stdout",
     "output_type": "stream",
     "text": [
      "Saved  data/ConvolutionalAutoencoder_custom_dim3_0_180-10_5_0.pkl\n"
     ]
    },
    {
     "data": {
      "application/vnd.jupyter.widget-view+json": {
       "model_id": "d289449d3df74814b7ac02bf676deac0",
       "version_major": 2,
       "version_minor": 0
      },
      "text/plain": [
       "  0%|          | 0/5 [00:00<?, ?it/s]"
      ]
     },
     "metadata": {},
     "output_type": "display_data"
    },
    {
     "name": "stderr",
     "output_type": "stream",
     "text": [
      "/home/darlinne.soto/librep-hiaac/experiments/Topological_ae/MotionSense20Hz/../../../librep/transforms/topo_ae.py:104: UserWarning: To copy construct from a tensor, it is recommended to use sourceTensor.clone().detach() or sourceTensor.clone().detach().requires_grad_(True), rather than torch.tensor(sourceTensor).\n",
      "  in_tensor = torch.tensor(reshaped_data, device=self.cuda_device).float()\n",
      "/home/darlinne.soto/librep-hiaac/experiments/Topological_ae/MotionSense20Hz/../../../librep/transforms/topo_ae.py:116: UserWarning: To copy construct from a tensor, it is recommended to use sourceTensor.clone().detach() or sourceTensor.clone().detach().requires_grad_(True), rather than torch.tensor(sourceTensor).\n",
      "  in_tensor = torch.tensor(reshaped_data, device=self.cuda_device).float()\n"
     ]
    },
    {
     "name": "stdout",
     "output_type": "stream",
     "text": [
      "Saved  data/ConvolutionalAutoencoder_custom_dim3_0_180-10_10_0.pkl\n"
     ]
    },
    {
     "data": {
      "application/vnd.jupyter.widget-view+json": {
       "model_id": "af0e188475984b23800bc38c02d5cc09",
       "version_major": 2,
       "version_minor": 0
      },
      "text/plain": [
       "  0%|          | 0/5 [00:00<?, ?it/s]"
      ]
     },
     "metadata": {},
     "output_type": "display_data"
    },
    {
     "name": "stderr",
     "output_type": "stream",
     "text": [
      "/home/darlinne.soto/librep-hiaac/experiments/Topological_ae/MotionSense20Hz/../../../librep/transforms/topo_ae.py:104: UserWarning: To copy construct from a tensor, it is recommended to use sourceTensor.clone().detach() or sourceTensor.clone().detach().requires_grad_(True), rather than torch.tensor(sourceTensor).\n",
      "  in_tensor = torch.tensor(reshaped_data, device=self.cuda_device).float()\n",
      "/home/darlinne.soto/librep-hiaac/experiments/Topological_ae/MotionSense20Hz/../../../librep/transforms/topo_ae.py:116: UserWarning: To copy construct from a tensor, it is recommended to use sourceTensor.clone().detach() or sourceTensor.clone().detach().requires_grad_(True), rather than torch.tensor(sourceTensor).\n",
      "  in_tensor = torch.tensor(reshaped_data, device=self.cuda_device).float()\n"
     ]
    },
    {
     "name": "stdout",
     "output_type": "stream",
     "text": [
      "Saved  data/ConvolutionalAutoencoder_custom_dim3_0_180-10_15_0.pkl\n"
     ]
    },
    {
     "data": {
      "application/vnd.jupyter.widget-view+json": {
       "model_id": "08d9c30077474553900210a4b07e5446",
       "version_major": 2,
       "version_minor": 0
      },
      "text/plain": [
       "  0%|          | 0/5 [00:00<?, ?it/s]"
      ]
     },
     "metadata": {},
     "output_type": "display_data"
    },
    {
     "name": "stderr",
     "output_type": "stream",
     "text": [
      "/home/darlinne.soto/librep-hiaac/experiments/Topological_ae/MotionSense20Hz/../../../librep/transforms/topo_ae.py:104: UserWarning: To copy construct from a tensor, it is recommended to use sourceTensor.clone().detach() or sourceTensor.clone().detach().requires_grad_(True), rather than torch.tensor(sourceTensor).\n",
      "  in_tensor = torch.tensor(reshaped_data, device=self.cuda_device).float()\n",
      "/home/darlinne.soto/librep-hiaac/experiments/Topological_ae/MotionSense20Hz/../../../librep/transforms/topo_ae.py:116: UserWarning: To copy construct from a tensor, it is recommended to use sourceTensor.clone().detach() or sourceTensor.clone().detach().requires_grad_(True), rather than torch.tensor(sourceTensor).\n",
      "  in_tensor = torch.tensor(reshaped_data, device=self.cuda_device).float()\n"
     ]
    },
    {
     "name": "stdout",
     "output_type": "stream",
     "text": [
      "Saved  data/ConvolutionalAutoencoder_custom_dim3_0_180-10_20_0.pkl\n"
     ]
    },
    {
     "data": {
      "application/vnd.jupyter.widget-view+json": {
       "model_id": "284376bceec145b4971daafa92bc7036",
       "version_major": 2,
       "version_minor": 0
      },
      "text/plain": [
       "  0%|          | 0/5 [00:00<?, ?it/s]"
      ]
     },
     "metadata": {},
     "output_type": "display_data"
    },
    {
     "name": "stderr",
     "output_type": "stream",
     "text": [
      "/home/darlinne.soto/librep-hiaac/experiments/Topological_ae/MotionSense20Hz/../../../librep/transforms/topo_ae.py:104: UserWarning: To copy construct from a tensor, it is recommended to use sourceTensor.clone().detach() or sourceTensor.clone().detach().requires_grad_(True), rather than torch.tensor(sourceTensor).\n",
      "  in_tensor = torch.tensor(reshaped_data, device=self.cuda_device).float()\n",
      "/home/darlinne.soto/librep-hiaac/experiments/Topological_ae/MotionSense20Hz/../../../librep/transforms/topo_ae.py:116: UserWarning: To copy construct from a tensor, it is recommended to use sourceTensor.clone().detach() or sourceTensor.clone().detach().requires_grad_(True), rather than torch.tensor(sourceTensor).\n",
      "  in_tensor = torch.tensor(reshaped_data, device=self.cuda_device).float()\n"
     ]
    },
    {
     "name": "stdout",
     "output_type": "stream",
     "text": [
      "Saved  data/ConvolutionalAutoencoder_custom_dim3_0_180-10_25_0.pkl\n",
      "INIT_TopoDimRed\n",
      "Topologically Regularized ConvolutionalAutoencoder_custom_dim3\n",
      "Using python to compute signatures\n",
      "ConvAECustomDim, Input: (1, 180) Inner dim: 10\n",
      "ENCODER STRUCT torch.Size([4, 8, 5])\n"
     ]
    },
    {
     "data": {
      "application/vnd.jupyter.widget-view+json": {
       "model_id": "3b02000dc707467f9109c5f0e16623e8",
       "version_major": 2,
       "version_minor": 0
      },
      "text/plain": [
       "  0%|          | 0/5 [00:00<?, ?it/s]"
      ]
     },
     "metadata": {},
     "output_type": "display_data"
    },
    {
     "name": "stderr",
     "output_type": "stream",
     "text": [
      "/home/darlinne.soto/librep-hiaac/experiments/Topological_ae/MotionSense20Hz/../../../librep/transforms/topo_ae.py:104: UserWarning: To copy construct from a tensor, it is recommended to use sourceTensor.clone().detach() or sourceTensor.clone().detach().requires_grad_(True), rather than torch.tensor(sourceTensor).\n",
      "  in_tensor = torch.tensor(reshaped_data, device=self.cuda_device).float()\n",
      "/home/darlinne.soto/librep-hiaac/experiments/Topological_ae/MotionSense20Hz/../../../librep/transforms/topo_ae.py:116: UserWarning: To copy construct from a tensor, it is recommended to use sourceTensor.clone().detach() or sourceTensor.clone().detach().requires_grad_(True), rather than torch.tensor(sourceTensor).\n",
      "  in_tensor = torch.tensor(reshaped_data, device=self.cuda_device).float()\n"
     ]
    },
    {
     "name": "stdout",
     "output_type": "stream",
     "text": [
      "Saved  data/ConvolutionalAutoencoder_custom_dim3_1_180-10_5_0.pkl\n"
     ]
    },
    {
     "data": {
      "application/vnd.jupyter.widget-view+json": {
       "model_id": "6f8dd15bfd134f0ea3d772b92dd7f031",
       "version_major": 2,
       "version_minor": 0
      },
      "text/plain": [
       "  0%|          | 0/5 [00:00<?, ?it/s]"
      ]
     },
     "metadata": {},
     "output_type": "display_data"
    },
    {
     "name": "stderr",
     "output_type": "stream",
     "text": [
      "/home/darlinne.soto/librep-hiaac/experiments/Topological_ae/MotionSense20Hz/../../../librep/transforms/topo_ae.py:104: UserWarning: To copy construct from a tensor, it is recommended to use sourceTensor.clone().detach() or sourceTensor.clone().detach().requires_grad_(True), rather than torch.tensor(sourceTensor).\n",
      "  in_tensor = torch.tensor(reshaped_data, device=self.cuda_device).float()\n",
      "/home/darlinne.soto/librep-hiaac/experiments/Topological_ae/MotionSense20Hz/../../../librep/transforms/topo_ae.py:116: UserWarning: To copy construct from a tensor, it is recommended to use sourceTensor.clone().detach() or sourceTensor.clone().detach().requires_grad_(True), rather than torch.tensor(sourceTensor).\n",
      "  in_tensor = torch.tensor(reshaped_data, device=self.cuda_device).float()\n"
     ]
    },
    {
     "name": "stdout",
     "output_type": "stream",
     "text": [
      "Saved  data/ConvolutionalAutoencoder_custom_dim3_1_180-10_10_0.pkl\n"
     ]
    },
    {
     "data": {
      "application/vnd.jupyter.widget-view+json": {
       "model_id": "dad72cdaaa4e4db7bbce3729a50174bc",
       "version_major": 2,
       "version_minor": 0
      },
      "text/plain": [
       "  0%|          | 0/5 [00:00<?, ?it/s]"
      ]
     },
     "metadata": {},
     "output_type": "display_data"
    },
    {
     "name": "stderr",
     "output_type": "stream",
     "text": [
      "/home/darlinne.soto/librep-hiaac/experiments/Topological_ae/MotionSense20Hz/../../../librep/transforms/topo_ae.py:104: UserWarning: To copy construct from a tensor, it is recommended to use sourceTensor.clone().detach() or sourceTensor.clone().detach().requires_grad_(True), rather than torch.tensor(sourceTensor).\n",
      "  in_tensor = torch.tensor(reshaped_data, device=self.cuda_device).float()\n",
      "/home/darlinne.soto/librep-hiaac/experiments/Topological_ae/MotionSense20Hz/../../../librep/transforms/topo_ae.py:116: UserWarning: To copy construct from a tensor, it is recommended to use sourceTensor.clone().detach() or sourceTensor.clone().detach().requires_grad_(True), rather than torch.tensor(sourceTensor).\n",
      "  in_tensor = torch.tensor(reshaped_data, device=self.cuda_device).float()\n"
     ]
    },
    {
     "name": "stdout",
     "output_type": "stream",
     "text": [
      "Saved  data/ConvolutionalAutoencoder_custom_dim3_1_180-10_15_0.pkl\n"
     ]
    },
    {
     "data": {
      "application/vnd.jupyter.widget-view+json": {
       "model_id": "3d993fa6728e4e9a970af8b0607ae74a",
       "version_major": 2,
       "version_minor": 0
      },
      "text/plain": [
       "  0%|          | 0/5 [00:00<?, ?it/s]"
      ]
     },
     "metadata": {},
     "output_type": "display_data"
    },
    {
     "name": "stderr",
     "output_type": "stream",
     "text": [
      "/home/darlinne.soto/librep-hiaac/experiments/Topological_ae/MotionSense20Hz/../../../librep/transforms/topo_ae.py:104: UserWarning: To copy construct from a tensor, it is recommended to use sourceTensor.clone().detach() or sourceTensor.clone().detach().requires_grad_(True), rather than torch.tensor(sourceTensor).\n",
      "  in_tensor = torch.tensor(reshaped_data, device=self.cuda_device).float()\n",
      "/home/darlinne.soto/librep-hiaac/experiments/Topological_ae/MotionSense20Hz/../../../librep/transforms/topo_ae.py:116: UserWarning: To copy construct from a tensor, it is recommended to use sourceTensor.clone().detach() or sourceTensor.clone().detach().requires_grad_(True), rather than torch.tensor(sourceTensor).\n",
      "  in_tensor = torch.tensor(reshaped_data, device=self.cuda_device).float()\n"
     ]
    },
    {
     "name": "stdout",
     "output_type": "stream",
     "text": [
      "Saved  data/ConvolutionalAutoencoder_custom_dim3_1_180-10_20_0.pkl\n"
     ]
    },
    {
     "data": {
      "application/vnd.jupyter.widget-view+json": {
       "model_id": "19404f7c8579415e94479a648a4d3e28",
       "version_major": 2,
       "version_minor": 0
      },
      "text/plain": [
       "  0%|          | 0/5 [00:00<?, ?it/s]"
      ]
     },
     "metadata": {},
     "output_type": "display_data"
    },
    {
     "name": "stderr",
     "output_type": "stream",
     "text": [
      "/home/darlinne.soto/librep-hiaac/experiments/Topological_ae/MotionSense20Hz/../../../librep/transforms/topo_ae.py:104: UserWarning: To copy construct from a tensor, it is recommended to use sourceTensor.clone().detach() or sourceTensor.clone().detach().requires_grad_(True), rather than torch.tensor(sourceTensor).\n",
      "  in_tensor = torch.tensor(reshaped_data, device=self.cuda_device).float()\n",
      "/home/darlinne.soto/librep-hiaac/experiments/Topological_ae/MotionSense20Hz/../../../librep/transforms/topo_ae.py:116: UserWarning: To copy construct from a tensor, it is recommended to use sourceTensor.clone().detach() or sourceTensor.clone().detach().requires_grad_(True), rather than torch.tensor(sourceTensor).\n",
      "  in_tensor = torch.tensor(reshaped_data, device=self.cuda_device).float()\n"
     ]
    },
    {
     "name": "stdout",
     "output_type": "stream",
     "text": [
      "Saved  data/ConvolutionalAutoencoder_custom_dim3_1_180-10_25_0.pkl\n",
      "INIT_TopoDimRed\n",
      "Topologically Regularized ConvolutionalAutoencoder_custom_dim3\n",
      "Using python to compute signatures\n",
      "ConvAECustomDim, Input: (1, 180) Inner dim: 10\n",
      "ENCODER STRUCT torch.Size([4, 8, 5])\n"
     ]
    },
    {
     "data": {
      "application/vnd.jupyter.widget-view+json": {
       "model_id": "def1ac679ba14e19886ffb0a2238eb7f",
       "version_major": 2,
       "version_minor": 0
      },
      "text/plain": [
       "  0%|          | 0/5 [00:00<?, ?it/s]"
      ]
     },
     "metadata": {},
     "output_type": "display_data"
    },
    {
     "name": "stderr",
     "output_type": "stream",
     "text": [
      "/home/darlinne.soto/librep-hiaac/experiments/Topological_ae/MotionSense20Hz/../../../librep/transforms/topo_ae.py:104: UserWarning: To copy construct from a tensor, it is recommended to use sourceTensor.clone().detach() or sourceTensor.clone().detach().requires_grad_(True), rather than torch.tensor(sourceTensor).\n",
      "  in_tensor = torch.tensor(reshaped_data, device=self.cuda_device).float()\n",
      "/home/darlinne.soto/librep-hiaac/experiments/Topological_ae/MotionSense20Hz/../../../librep/transforms/topo_ae.py:116: UserWarning: To copy construct from a tensor, it is recommended to use sourceTensor.clone().detach() or sourceTensor.clone().detach().requires_grad_(True), rather than torch.tensor(sourceTensor).\n",
      "  in_tensor = torch.tensor(reshaped_data, device=self.cuda_device).float()\n"
     ]
    },
    {
     "name": "stdout",
     "output_type": "stream",
     "text": [
      "Saved  data/ConvolutionalAutoencoder_custom_dim3_10_180-10_5_0.pkl\n"
     ]
    },
    {
     "data": {
      "application/vnd.jupyter.widget-view+json": {
       "model_id": "087d9589b6b542a489bd6032cadd58fb",
       "version_major": 2,
       "version_minor": 0
      },
      "text/plain": [
       "  0%|          | 0/5 [00:00<?, ?it/s]"
      ]
     },
     "metadata": {},
     "output_type": "display_data"
    },
    {
     "name": "stderr",
     "output_type": "stream",
     "text": [
      "/home/darlinne.soto/librep-hiaac/experiments/Topological_ae/MotionSense20Hz/../../../librep/transforms/topo_ae.py:104: UserWarning: To copy construct from a tensor, it is recommended to use sourceTensor.clone().detach() or sourceTensor.clone().detach().requires_grad_(True), rather than torch.tensor(sourceTensor).\n",
      "  in_tensor = torch.tensor(reshaped_data, device=self.cuda_device).float()\n",
      "/home/darlinne.soto/librep-hiaac/experiments/Topological_ae/MotionSense20Hz/../../../librep/transforms/topo_ae.py:116: UserWarning: To copy construct from a tensor, it is recommended to use sourceTensor.clone().detach() or sourceTensor.clone().detach().requires_grad_(True), rather than torch.tensor(sourceTensor).\n",
      "  in_tensor = torch.tensor(reshaped_data, device=self.cuda_device).float()\n"
     ]
    },
    {
     "name": "stdout",
     "output_type": "stream",
     "text": [
      "Saved  data/ConvolutionalAutoencoder_custom_dim3_10_180-10_10_0.pkl\n"
     ]
    },
    {
     "data": {
      "application/vnd.jupyter.widget-view+json": {
       "model_id": "f20029eb232a4622a55fbaf9c2d278a1",
       "version_major": 2,
       "version_minor": 0
      },
      "text/plain": [
       "  0%|          | 0/5 [00:00<?, ?it/s]"
      ]
     },
     "metadata": {},
     "output_type": "display_data"
    },
    {
     "name": "stderr",
     "output_type": "stream",
     "text": [
      "/home/darlinne.soto/librep-hiaac/experiments/Topological_ae/MotionSense20Hz/../../../librep/transforms/topo_ae.py:104: UserWarning: To copy construct from a tensor, it is recommended to use sourceTensor.clone().detach() or sourceTensor.clone().detach().requires_grad_(True), rather than torch.tensor(sourceTensor).\n",
      "  in_tensor = torch.tensor(reshaped_data, device=self.cuda_device).float()\n",
      "/home/darlinne.soto/librep-hiaac/experiments/Topological_ae/MotionSense20Hz/../../../librep/transforms/topo_ae.py:116: UserWarning: To copy construct from a tensor, it is recommended to use sourceTensor.clone().detach() or sourceTensor.clone().detach().requires_grad_(True), rather than torch.tensor(sourceTensor).\n",
      "  in_tensor = torch.tensor(reshaped_data, device=self.cuda_device).float()\n"
     ]
    },
    {
     "name": "stdout",
     "output_type": "stream",
     "text": [
      "Saved  data/ConvolutionalAutoencoder_custom_dim3_10_180-10_15_0.pkl\n"
     ]
    },
    {
     "data": {
      "application/vnd.jupyter.widget-view+json": {
       "model_id": "cee2fbd6d5ce42f49374cbd1ba3529bc",
       "version_major": 2,
       "version_minor": 0
      },
      "text/plain": [
       "  0%|          | 0/5 [00:00<?, ?it/s]"
      ]
     },
     "metadata": {},
     "output_type": "display_data"
    },
    {
     "name": "stderr",
     "output_type": "stream",
     "text": [
      "/home/darlinne.soto/librep-hiaac/experiments/Topological_ae/MotionSense20Hz/../../../librep/transforms/topo_ae.py:104: UserWarning: To copy construct from a tensor, it is recommended to use sourceTensor.clone().detach() or sourceTensor.clone().detach().requires_grad_(True), rather than torch.tensor(sourceTensor).\n",
      "  in_tensor = torch.tensor(reshaped_data, device=self.cuda_device).float()\n",
      "/home/darlinne.soto/librep-hiaac/experiments/Topological_ae/MotionSense20Hz/../../../librep/transforms/topo_ae.py:116: UserWarning: To copy construct from a tensor, it is recommended to use sourceTensor.clone().detach() or sourceTensor.clone().detach().requires_grad_(True), rather than torch.tensor(sourceTensor).\n",
      "  in_tensor = torch.tensor(reshaped_data, device=self.cuda_device).float()\n"
     ]
    },
    {
     "name": "stdout",
     "output_type": "stream",
     "text": [
      "Saved  data/ConvolutionalAutoencoder_custom_dim3_10_180-10_20_0.pkl\n"
     ]
    },
    {
     "data": {
      "application/vnd.jupyter.widget-view+json": {
       "model_id": "eb27614c31e34d17a6cd156fa9573de6",
       "version_major": 2,
       "version_minor": 0
      },
      "text/plain": [
       "  0%|          | 0/5 [00:00<?, ?it/s]"
      ]
     },
     "metadata": {},
     "output_type": "display_data"
    },
    {
     "name": "stderr",
     "output_type": "stream",
     "text": [
      "/home/darlinne.soto/librep-hiaac/experiments/Topological_ae/MotionSense20Hz/../../../librep/transforms/topo_ae.py:104: UserWarning: To copy construct from a tensor, it is recommended to use sourceTensor.clone().detach() or sourceTensor.clone().detach().requires_grad_(True), rather than torch.tensor(sourceTensor).\n",
      "  in_tensor = torch.tensor(reshaped_data, device=self.cuda_device).float()\n",
      "/home/darlinne.soto/librep-hiaac/experiments/Topological_ae/MotionSense20Hz/../../../librep/transforms/topo_ae.py:116: UserWarning: To copy construct from a tensor, it is recommended to use sourceTensor.clone().detach() or sourceTensor.clone().detach().requires_grad_(True), rather than torch.tensor(sourceTensor).\n",
      "  in_tensor = torch.tensor(reshaped_data, device=self.cuda_device).float()\n"
     ]
    },
    {
     "name": "stdout",
     "output_type": "stream",
     "text": [
      "Saved  data/ConvolutionalAutoencoder_custom_dim3_10_180-10_25_0.pkl\n",
      "INIT_TopoDimRed\n",
      "Topologically Regularized ConvolutionalAutoencoder_custom_dim3\n",
      "Using python to compute signatures\n",
      "ConvAECustomDim, Input: (1, 180) Inner dim: 10\n",
      "ENCODER STRUCT torch.Size([4, 8, 5])\n"
     ]
    },
    {
     "data": {
      "application/vnd.jupyter.widget-view+json": {
       "model_id": "89d46f67d3724dbd87c2cf74fa36b216",
       "version_major": 2,
       "version_minor": 0
      },
      "text/plain": [
       "  0%|          | 0/5 [00:00<?, ?it/s]"
      ]
     },
     "metadata": {},
     "output_type": "display_data"
    },
    {
     "name": "stderr",
     "output_type": "stream",
     "text": [
      "/home/darlinne.soto/librep-hiaac/experiments/Topological_ae/MotionSense20Hz/../../../librep/transforms/topo_ae.py:104: UserWarning: To copy construct from a tensor, it is recommended to use sourceTensor.clone().detach() or sourceTensor.clone().detach().requires_grad_(True), rather than torch.tensor(sourceTensor).\n",
      "  in_tensor = torch.tensor(reshaped_data, device=self.cuda_device).float()\n",
      "/home/darlinne.soto/librep-hiaac/experiments/Topological_ae/MotionSense20Hz/../../../librep/transforms/topo_ae.py:116: UserWarning: To copy construct from a tensor, it is recommended to use sourceTensor.clone().detach() or sourceTensor.clone().detach().requires_grad_(True), rather than torch.tensor(sourceTensor).\n",
      "  in_tensor = torch.tensor(reshaped_data, device=self.cuda_device).float()\n"
     ]
    },
    {
     "name": "stdout",
     "output_type": "stream",
     "text": [
      "Saved  data/ConvolutionalAutoencoder_custom_dim3_100_180-10_5_0.pkl\n"
     ]
    },
    {
     "data": {
      "application/vnd.jupyter.widget-view+json": {
       "model_id": "cacccc8a5d0f46e3bf4e3f0320ebeab8",
       "version_major": 2,
       "version_minor": 0
      },
      "text/plain": [
       "  0%|          | 0/5 [00:00<?, ?it/s]"
      ]
     },
     "metadata": {},
     "output_type": "display_data"
    },
    {
     "name": "stderr",
     "output_type": "stream",
     "text": [
      "/home/darlinne.soto/librep-hiaac/experiments/Topological_ae/MotionSense20Hz/../../../librep/transforms/topo_ae.py:104: UserWarning: To copy construct from a tensor, it is recommended to use sourceTensor.clone().detach() or sourceTensor.clone().detach().requires_grad_(True), rather than torch.tensor(sourceTensor).\n",
      "  in_tensor = torch.tensor(reshaped_data, device=self.cuda_device).float()\n",
      "/home/darlinne.soto/librep-hiaac/experiments/Topological_ae/MotionSense20Hz/../../../librep/transforms/topo_ae.py:116: UserWarning: To copy construct from a tensor, it is recommended to use sourceTensor.clone().detach() or sourceTensor.clone().detach().requires_grad_(True), rather than torch.tensor(sourceTensor).\n",
      "  in_tensor = torch.tensor(reshaped_data, device=self.cuda_device).float()\n"
     ]
    },
    {
     "name": "stdout",
     "output_type": "stream",
     "text": [
      "Saved  data/ConvolutionalAutoencoder_custom_dim3_100_180-10_10_0.pkl\n"
     ]
    },
    {
     "data": {
      "application/vnd.jupyter.widget-view+json": {
       "model_id": "b39f388415d74545a509a72391dd9007",
       "version_major": 2,
       "version_minor": 0
      },
      "text/plain": [
       "  0%|          | 0/5 [00:00<?, ?it/s]"
      ]
     },
     "metadata": {},
     "output_type": "display_data"
    },
    {
     "name": "stderr",
     "output_type": "stream",
     "text": [
      "/home/darlinne.soto/librep-hiaac/experiments/Topological_ae/MotionSense20Hz/../../../librep/transforms/topo_ae.py:104: UserWarning: To copy construct from a tensor, it is recommended to use sourceTensor.clone().detach() or sourceTensor.clone().detach().requires_grad_(True), rather than torch.tensor(sourceTensor).\n",
      "  in_tensor = torch.tensor(reshaped_data, device=self.cuda_device).float()\n",
      "/home/darlinne.soto/librep-hiaac/experiments/Topological_ae/MotionSense20Hz/../../../librep/transforms/topo_ae.py:116: UserWarning: To copy construct from a tensor, it is recommended to use sourceTensor.clone().detach() or sourceTensor.clone().detach().requires_grad_(True), rather than torch.tensor(sourceTensor).\n",
      "  in_tensor = torch.tensor(reshaped_data, device=self.cuda_device).float()\n"
     ]
    },
    {
     "name": "stdout",
     "output_type": "stream",
     "text": [
      "Saved  data/ConvolutionalAutoencoder_custom_dim3_100_180-10_15_0.pkl\n"
     ]
    },
    {
     "data": {
      "application/vnd.jupyter.widget-view+json": {
       "model_id": "fb9ad5f5ddad49519ea9e05c8036983c",
       "version_major": 2,
       "version_minor": 0
      },
      "text/plain": [
       "  0%|          | 0/5 [00:00<?, ?it/s]"
      ]
     },
     "metadata": {},
     "output_type": "display_data"
    },
    {
     "name": "stderr",
     "output_type": "stream",
     "text": [
      "/home/darlinne.soto/librep-hiaac/experiments/Topological_ae/MotionSense20Hz/../../../librep/transforms/topo_ae.py:104: UserWarning: To copy construct from a tensor, it is recommended to use sourceTensor.clone().detach() or sourceTensor.clone().detach().requires_grad_(True), rather than torch.tensor(sourceTensor).\n",
      "  in_tensor = torch.tensor(reshaped_data, device=self.cuda_device).float()\n",
      "/home/darlinne.soto/librep-hiaac/experiments/Topological_ae/MotionSense20Hz/../../../librep/transforms/topo_ae.py:116: UserWarning: To copy construct from a tensor, it is recommended to use sourceTensor.clone().detach() or sourceTensor.clone().detach().requires_grad_(True), rather than torch.tensor(sourceTensor).\n",
      "  in_tensor = torch.tensor(reshaped_data, device=self.cuda_device).float()\n"
     ]
    },
    {
     "name": "stdout",
     "output_type": "stream",
     "text": [
      "Saved  data/ConvolutionalAutoencoder_custom_dim3_100_180-10_20_0.pkl\n"
     ]
    },
    {
     "data": {
      "application/vnd.jupyter.widget-view+json": {
       "model_id": "2d3a8840b7da4716a5939f24aef332ed",
       "version_major": 2,
       "version_minor": 0
      },
      "text/plain": [
       "  0%|          | 0/5 [00:00<?, ?it/s]"
      ]
     },
     "metadata": {},
     "output_type": "display_data"
    },
    {
     "name": "stderr",
     "output_type": "stream",
     "text": [
      "/home/darlinne.soto/librep-hiaac/experiments/Topological_ae/MotionSense20Hz/../../../librep/transforms/topo_ae.py:104: UserWarning: To copy construct from a tensor, it is recommended to use sourceTensor.clone().detach() or sourceTensor.clone().detach().requires_grad_(True), rather than torch.tensor(sourceTensor).\n",
      "  in_tensor = torch.tensor(reshaped_data, device=self.cuda_device).float()\n",
      "/home/darlinne.soto/librep-hiaac/experiments/Topological_ae/MotionSense20Hz/../../../librep/transforms/topo_ae.py:116: UserWarning: To copy construct from a tensor, it is recommended to use sourceTensor.clone().detach() or sourceTensor.clone().detach().requires_grad_(True), rather than torch.tensor(sourceTensor).\n",
      "  in_tensor = torch.tensor(reshaped_data, device=self.cuda_device).float()\n"
     ]
    },
    {
     "name": "stdout",
     "output_type": "stream",
     "text": [
      "Saved  data/ConvolutionalAutoencoder_custom_dim3_100_180-10_25_0.pkl\n"
     ]
    }
   ],
   "source": [
    "lambdas = [0.01, 0.1, 0, 1, 10, 100]\n",
    "training_times = 20\n",
    "\n",
    "for model_lam in lambdas:\n",
    "    topo_reducer = CustomTopoDimRedTransform(\n",
    "        model_name=model_name,\n",
    "        model_lambda=model_lam,\n",
    "        patience=None,\n",
    "        num_epochs=model_epc,\n",
    "        start_dim=180,\n",
    "        latent_dim=model_dim\n",
    "    )\n",
    "    for i in range(training_times):\n",
    "        topo_reducer.fit(train_HD, train_Y)\n",
    "        filename = topo_reducer.save('data/', save_id)"
   ]
  }
 ],
 "metadata": {
  "kernelspec": {
   "display_name": "Python 3 (ipykernel)",
   "language": "python",
   "name": "python3"
  },
  "language_info": {
   "codemirror_mode": {
    "name": "ipython",
    "version": 3
   },
   "file_extension": ".py",
   "mimetype": "text/x-python",
   "name": "python",
   "nbconvert_exporter": "python",
   "pygments_lexer": "ipython3",
   "version": "3.8.10"
  }
 },
 "nbformat": 4,
 "nbformat_minor": 5
}
