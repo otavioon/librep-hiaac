{
 "cells": [
  {
   "cell_type": "code",
   "execution_count": 1,
   "id": "7e1630ed-63c8-4ee7-86c9-62dfb528b9a2",
   "metadata": {
    "execution": {
     "iopub.execute_input": "2022-11-28T19:40:17.668035Z",
     "iopub.status.busy": "2022-11-28T19:40:17.667629Z",
     "iopub.status.idle": "2022-11-28T19:40:17.698589Z",
     "shell.execute_reply": "2022-11-28T19:40:17.697151Z",
     "shell.execute_reply.started": "2022-11-28T19:40:17.667994Z"
    }
   },
   "outputs": [],
   "source": [
    "%load_ext autoreload\n",
    "%autoreload 2"
   ]
  },
  {
   "cell_type": "code",
   "execution_count": 2,
   "id": "fedad853",
   "metadata": {
    "execution": {
     "iopub.execute_input": "2022-11-28T19:40:17.700422Z",
     "iopub.status.busy": "2022-11-28T19:40:17.700071Z",
     "iopub.status.idle": "2022-11-28T19:40:17.770868Z",
     "shell.execute_reply": "2022-11-28T19:40:17.769109Z",
     "shell.execute_reply.started": "2022-11-28T19:40:17.700390Z"
    }
   },
   "outputs": [],
   "source": [
    "import os\n",
    "os.environ[\"CUDA_VISIBLE_DEVICES\"] = \"0\""
   ]
  },
  {
   "cell_type": "code",
   "execution_count": 3,
   "id": "c1e18129",
   "metadata": {
    "execution": {
     "iopub.execute_input": "2022-11-28T19:40:17.774111Z",
     "iopub.status.busy": "2022-11-28T19:40:17.773379Z",
     "iopub.status.idle": "2022-11-28T19:40:20.346049Z",
     "shell.execute_reply": "2022-11-28T19:40:20.344096Z",
     "shell.execute_reply.started": "2022-11-28T19:40:17.774043Z"
    }
   },
   "outputs": [
    {
     "name": "stdout",
     "output_type": "stream",
     "text": [
      "True\n",
      "1\n",
      "0\n",
      "<torch.cuda.device object at 0x7f90b40f4100>\n",
      "NVIDIA TITAN Xp\n"
     ]
    }
   ],
   "source": [
    "import torch\n",
    "print(torch.cuda.is_available()) # True\n",
    "print(torch.cuda.device_count()) # 1\n",
    "print(torch.cuda.current_device()) # 0\n",
    "print(torch.cuda.device(0)) # <torch.cuda.device at 0x7efce0b03be0>\n",
    "print(torch.cuda.get_device_name(0)) # 'GeForce GTX 950M'"
   ]
  },
  {
   "cell_type": "code",
   "execution_count": 4,
   "id": "2da911e3-e82f-47c9-8090-f71f453956ee",
   "metadata": {
    "execution": {
     "iopub.execute_input": "2022-11-28T19:40:20.348732Z",
     "iopub.status.busy": "2022-11-28T19:40:20.348086Z",
     "iopub.status.idle": "2022-11-28T19:40:20.384165Z",
     "shell.execute_reply": "2022-11-28T19:40:20.382896Z",
     "shell.execute_reply.started": "2022-11-28T19:40:20.348682Z"
    }
   },
   "outputs": [],
   "source": [
    "import sys\n",
    "sys.path.append(\"../../..\")"
   ]
  },
  {
   "cell_type": "code",
   "execution_count": 5,
   "id": "5f067405-ab8c-4f22-b056-ab9e1febe71c",
   "metadata": {
    "execution": {
     "iopub.execute_input": "2022-11-28T19:40:20.386415Z",
     "iopub.status.busy": "2022-11-28T19:40:20.385795Z",
     "iopub.status.idle": "2022-11-28T19:40:21.470696Z",
     "shell.execute_reply": "2022-11-28T19:40:21.468929Z",
     "shell.execute_reply.started": "2022-11-28T19:40:20.386375Z"
    }
   },
   "outputs": [],
   "source": [
    "import numpy as np\n",
    "import pandas as pd\n",
    "import matplotlib.pyplot as plt"
   ]
  },
  {
   "cell_type": "code",
   "execution_count": 6,
   "id": "cc5007e3-ef19-4658-ac7d-2a6f617bb9c6",
   "metadata": {
    "execution": {
     "iopub.execute_input": "2022-11-28T19:40:21.473142Z",
     "iopub.status.busy": "2022-11-28T19:40:21.472643Z",
     "iopub.status.idle": "2022-11-28T19:40:32.940899Z",
     "shell.execute_reply": "2022-11-28T19:40:32.939245Z",
     "shell.execute_reply.started": "2022-11-28T19:40:21.473106Z"
    }
   },
   "outputs": [
    {
     "name": "stderr",
     "output_type": "stream",
     "text": [
      "2022-11-28 19:40:29.903646: I tensorflow/core/platform/cpu_feature_guard.cc:193] This TensorFlow binary is optimized with oneAPI Deep Neural Network Library (oneDNN) to use the following CPU instructions in performance-critical operations:  AVX2 AVX512F FMA\n",
      "To enable them in other operations, rebuild TensorFlow with the appropriate compiler flags.\n",
      "2022-11-28 19:40:31.465953: W tensorflow/compiler/xla/stream_executor/platform/default/dso_loader.cc:64] Could not load dynamic library 'libnvinfer.so.7'; dlerror: libnvinfer.so.7: cannot open shared object file: No such file or directory\n",
      "2022-11-28 19:40:31.466093: W tensorflow/compiler/xla/stream_executor/platform/default/dso_loader.cc:64] Could not load dynamic library 'libnvinfer_plugin.so.7'; dlerror: libnvinfer_plugin.so.7: cannot open shared object file: No such file or directory\n",
      "2022-11-28 19:40:31.466109: W tensorflow/compiler/tf2tensorrt/utils/py_utils.cc:38] TF-TRT Warning: Cannot dlopen some TensorRT libraries. If you would like to use Nvidia GPU with TensorRT, please make sure the missing libraries mentioned above are installed properly.\n"
     ]
    }
   ],
   "source": [
    "from librep.datasets.har.loaders import (\n",
    "    MotionSense_BalancedView20HZ\n",
    ")"
   ]
  },
  {
   "cell_type": "code",
   "execution_count": 7,
   "id": "2f9f66b2-7b1c-4d4e-a0e3-cde9552a595a",
   "metadata": {
    "execution": {
     "iopub.execute_input": "2022-11-28T19:40:32.947232Z",
     "iopub.status.busy": "2022-11-28T19:40:32.946270Z",
     "iopub.status.idle": "2022-11-28T19:40:33.054223Z",
     "shell.execute_reply": "2022-11-28T19:40:33.052600Z",
     "shell.execute_reply.started": "2022-11-28T19:40:32.947188Z"
    }
   },
   "outputs": [],
   "source": [
    "from librep.transforms.topo_ae import (\n",
    "    TopologicalDimensionalityReduction,\n",
    "    CustomTopoDimRedTransform\n",
    ")\n",
    "from librep.transforms import UMAP\n",
    "from sklearn.manifold import TSNE\n",
    "from experiments.Topological_ae.Experiment_utils import *\n",
    "from librep.datasets.multimodal import TransformMultiModalDataset\n",
    "from librep.transforms.fft import FFT"
   ]
  },
  {
   "cell_type": "code",
   "execution_count": 8,
   "id": "85bea424-07ff-47ec-945a-aef385afe7a7",
   "metadata": {
    "execution": {
     "iopub.execute_input": "2022-11-28T19:40:33.056588Z",
     "iopub.status.busy": "2022-11-28T19:40:33.056096Z",
     "iopub.status.idle": "2022-11-28T19:40:33.142920Z",
     "shell.execute_reply": "2022-11-28T19:40:33.141453Z",
     "shell.execute_reply.started": "2022-11-28T19:40:33.056544Z"
    }
   },
   "outputs": [],
   "source": [
    "# MotionSense Loader\n",
    "loader = MotionSense_BalancedView20HZ(\n",
    "    root_dir=\"../../../data/views/MotionSense/balanced_view_20Hz_with_gravity_9.81_acc_standard\", \n",
    "    download=False\n",
    ")"
   ]
  },
  {
   "cell_type": "code",
   "execution_count": 9,
   "id": "3d817b0c-4e6b-4227-9b48-cd23c3df190d",
   "metadata": {
    "execution": {
     "iopub.execute_input": "2022-11-28T19:40:33.145033Z",
     "iopub.status.busy": "2022-11-28T19:40:33.144590Z",
     "iopub.status.idle": "2022-11-28T19:40:33.911605Z",
     "shell.execute_reply": "2022-11-28T19:40:33.909603Z",
     "shell.execute_reply.started": "2022-11-28T19:40:33.144994Z"
    }
   },
   "outputs": [
    {
     "data": {
      "text/plain": [
       "(PandasMultiModalDataset: samples=4020, features=360, no. window=6, label_columns='standard activity code',\n",
       " PandasMultiModalDataset: samples=1020, features=360, no. window=6, label_columns='standard activity code')"
      ]
     },
     "execution_count": 9,
     "metadata": {},
     "output_type": "execute_result"
    }
   ],
   "source": [
    "# Load the dataset\n",
    "train_val, test = loader.load(concat_train_validation=True, label=loader.standard_label)\n",
    "train_val, test"
   ]
  },
  {
   "cell_type": "code",
   "execution_count": 10,
   "id": "9491b1e0-0b60-439c-9bed-ea0ee7918b68",
   "metadata": {
    "execution": {
     "iopub.execute_input": "2022-11-28T19:40:33.914086Z",
     "iopub.status.busy": "2022-11-28T19:40:33.913489Z",
     "iopub.status.idle": "2022-11-28T19:40:34.038421Z",
     "shell.execute_reply": "2022-11-28T19:40:34.036912Z",
     "shell.execute_reply.started": "2022-11-28T19:40:33.914028Z"
    }
   },
   "outputs": [],
   "source": [
    "train_HD = np.array(train_val[:][0])\n",
    "train_LD = None\n",
    "train_Y = np.array(train_val[:][1])\n",
    "test_HD = np.array(test[:][0])\n",
    "test_LD = None\n",
    "test_Y = np.array(test[:][1])"
   ]
  },
  {
   "cell_type": "code",
   "execution_count": 11,
   "id": "cc4810ac-c560-4b23-9b72-481a2d0f1a91",
   "metadata": {
    "execution": {
     "iopub.execute_input": "2022-11-28T19:40:34.040914Z",
     "iopub.status.busy": "2022-11-28T19:40:34.040236Z",
     "iopub.status.idle": "2022-11-28T19:40:34.148521Z",
     "shell.execute_reply": "2022-11-28T19:40:34.147197Z",
     "shell.execute_reply.started": "2022-11-28T19:40:34.040869Z"
    }
   },
   "outputs": [
    {
     "name": "stdout",
     "output_type": "stream",
     "text": [
      "(4020, 360) (4020,) (1020, 360) (1020,)\n"
     ]
    }
   ],
   "source": [
    "print(train_HD.shape, train_Y.shape, test_HD.shape, test_Y.shape)"
   ]
  },
  {
   "cell_type": "markdown",
   "id": "4c93d061-6ea0-418b-b690-2d977f6297c9",
   "metadata": {},
   "source": [
    "# Aplicar FFT"
   ]
  },
  {
   "cell_type": "code",
   "execution_count": 12,
   "id": "e5255de5-0259-404a-a2d8-507ad4f2ee2f",
   "metadata": {
    "execution": {
     "iopub.execute_input": "2022-11-28T19:40:34.150568Z",
     "iopub.status.busy": "2022-11-28T19:40:34.150023Z",
     "iopub.status.idle": "2022-11-28T19:40:34.236973Z",
     "shell.execute_reply": "2022-11-28T19:40:34.235496Z",
     "shell.execute_reply.started": "2022-11-28T19:40:34.150532Z"
    }
   },
   "outputs": [],
   "source": [
    "fft_transform = FFT(centered = True)\n",
    "transformer = TransformMultiModalDataset(\n",
    "    transforms=[fft_transform],\n",
    "    new_window_name_prefix=\"fft.\"\n",
    ")"
   ]
  },
  {
   "cell_type": "code",
   "execution_count": 13,
   "id": "29195f38-f8a9-4167-937f-d3f98ddc7642",
   "metadata": {
    "execution": {
     "iopub.execute_input": "2022-11-28T19:40:34.239084Z",
     "iopub.status.busy": "2022-11-28T19:40:34.238513Z",
     "iopub.status.idle": "2022-11-28T19:40:34.936964Z",
     "shell.execute_reply": "2022-11-28T19:40:34.935342Z",
     "shell.execute_reply.started": "2022-11-28T19:40:34.239047Z"
    }
   },
   "outputs": [],
   "source": [
    "train_dataset_fft = transformer(train_val)\n",
    "test_dataset_fft = transformer(test)"
   ]
  },
  {
   "cell_type": "code",
   "execution_count": 14,
   "id": "3c8cfc25-0323-498a-931d-1249078f2796",
   "metadata": {
    "execution": {
     "iopub.execute_input": "2022-11-28T19:40:34.939400Z",
     "iopub.status.busy": "2022-11-28T19:40:34.938517Z",
     "iopub.status.idle": "2022-11-28T19:40:35.036480Z",
     "shell.execute_reply": "2022-11-28T19:40:35.034868Z",
     "shell.execute_reply.started": "2022-11-28T19:40:34.939361Z"
    }
   },
   "outputs": [
    {
     "name": "stdout",
     "output_type": "stream",
     "text": [
      "(4020, 180)\n",
      "(1020, 180)\n"
     ]
    }
   ],
   "source": [
    "print(train_dataset_fft.X.shape)\n",
    "print(test_dataset_fft.X.shape)"
   ]
  },
  {
   "cell_type": "code",
   "execution_count": 15,
   "id": "d413cc20-e5b5-4594-b1f7-f11153c00c5f",
   "metadata": {
    "execution": {
     "iopub.execute_input": "2022-11-28T19:40:35.038742Z",
     "iopub.status.busy": "2022-11-28T19:40:35.038126Z",
     "iopub.status.idle": "2022-11-28T19:40:35.132926Z",
     "shell.execute_reply": "2022-11-28T19:40:35.131602Z",
     "shell.execute_reply.started": "2022-11-28T19:40:35.038700Z"
    }
   },
   "outputs": [
    {
     "name": "stdout",
     "output_type": "stream",
     "text": [
      "797.3368276806895\n"
     ]
    }
   ],
   "source": [
    "print(np.max(train_dataset_fft.X))"
   ]
  },
  {
   "cell_type": "code",
   "execution_count": 16,
   "id": "fea2e105-a571-4a2f-ac76-096b08a6ef2f",
   "metadata": {
    "execution": {
     "iopub.execute_input": "2022-11-28T19:40:35.135075Z",
     "iopub.status.busy": "2022-11-28T19:40:35.134532Z",
     "iopub.status.idle": "2022-11-28T19:40:35.221814Z",
     "shell.execute_reply": "2022-11-28T19:40:35.220319Z",
     "shell.execute_reply.started": "2022-11-28T19:40:35.135040Z"
    }
   },
   "outputs": [],
   "source": [
    "train_HD = train_dataset_fft.X\n",
    "train_LD = None\n",
    "train_Y = train_dataset_fft.y\n",
    "test_HD = test_dataset_fft.X\n",
    "test_LD = None\n",
    "test_Y = test_dataset_fft.y"
   ]
  },
  {
   "cell_type": "code",
   "execution_count": 17,
   "id": "ee13aef1-77c7-42a9-930b-b1a56f980d25",
   "metadata": {
    "execution": {
     "iopub.execute_input": "2022-11-28T19:40:35.223880Z",
     "iopub.status.busy": "2022-11-28T19:40:35.223325Z",
     "iopub.status.idle": "2022-11-28T19:40:35.310369Z",
     "shell.execute_reply": "2022-11-28T19:40:35.308667Z",
     "shell.execute_reply.started": "2022-11-28T19:40:35.223844Z"
    }
   },
   "outputs": [
    {
     "name": "stdout",
     "output_type": "stream",
     "text": [
      "(4020, 180) (4020,) (1020, 180) (1020,)\n"
     ]
    }
   ],
   "source": [
    "print(train_HD.shape, train_Y.shape, test_HD.shape, test_Y.shape)"
   ]
  },
  {
   "cell_type": "code",
   "execution_count": 24,
   "id": "80f4771a-da3f-407b-9fa9-b0619a129e66",
   "metadata": {
    "execution": {
     "iopub.execute_input": "2022-11-28T19:49:41.334169Z",
     "iopub.status.busy": "2022-11-28T19:49:41.333319Z",
     "iopub.status.idle": "2022-11-28T19:49:41.427190Z",
     "shell.execute_reply": "2022-11-28T19:49:41.425691Z",
     "shell.execute_reply.started": "2022-11-28T19:49:41.334096Z"
    },
    "tags": []
   },
   "outputs": [],
   "source": [
    "# Variables to reuse\n",
    "save_id = 0\n",
    "model_name = 'ConvolutionalAutoencoder_custom_dim3'\n",
    "model_dim = 10\n",
    "model_epc = 10\n",
    "model_lam = 0"
   ]
  },
  {
   "cell_type": "markdown",
   "id": "0c8264b9-7756-4a8d-a8c0-18a1645b8e28",
   "metadata": {},
   "source": [
    "# Reducing with Convolutional Topological Autoencoders (L=0)"
   ]
  },
  {
   "cell_type": "code",
   "execution_count": 19,
   "id": "d80ae63d-92f7-49c6-9527-212af7500573",
   "metadata": {
    "execution": {
     "iopub.execute_input": "2022-11-28T19:40:35.398879Z",
     "iopub.status.busy": "2022-11-28T19:40:35.398305Z",
     "iopub.status.idle": "2022-11-28T19:40:35.518012Z",
     "shell.execute_reply": "2022-11-28T19:40:35.516628Z",
     "shell.execute_reply.started": "2022-11-28T19:40:35.398841Z"
    },
    "tags": []
   },
   "outputs": [
    {
     "name": "stdout",
     "output_type": "stream",
     "text": [
      "Topologically Regularized ConvolutionalAutoencoder_custom_dim3\n",
      "Using python to compute signatures\n",
      "ConvAECustomDim, Input: (1, 180) Inner dim: 10\n",
      "ENCODER STRUCT torch.Size([4, 8, 5])\n"
     ]
    }
   ],
   "source": [
    "topo_reducer = CustomTopoDimRedTransform(\n",
    "    model_name=model_name,\n",
    "    model_lambda=model_lam,\n",
    "    patience=None,\n",
    "    num_epochs=model_epc,\n",
    "    from_dim=180,\n",
    "    to_dim=model_dim\n",
    ")"
   ]
  },
  {
   "cell_type": "code",
   "execution_count": 20,
   "id": "d46f8ff8-e7a8-42e1-9fd2-d1e9a17b8cad",
   "metadata": {
    "execution": {
     "iopub.execute_input": "2022-11-28T19:40:35.520091Z",
     "iopub.status.busy": "2022-11-28T19:40:35.519513Z",
     "iopub.status.idle": "2022-11-28T19:41:09.317850Z",
     "shell.execute_reply": "2022-11-28T19:41:09.316568Z",
     "shell.execute_reply.started": "2022-11-28T19:40:35.520054Z"
    },
    "tags": []
   },
   "outputs": [
    {
     "name": "stderr",
     "output_type": "stream",
     "text": [
      "/home/darlinne.soto/librep-hiaac/experiments/Topological_ae/MotionSense20Hz/../../../librep/transforms/topo_ae.py:75: UserWarning: To copy construct from a tensor, it is recommended to use sourceTensor.clone().detach() or sourceTensor.clone().detach().requires_grad_(True), rather than torch.tensor(sourceTensor).\n",
      "  in_tensor = torch.tensor(reshaped_data, device=cuda0).float()\n",
      "/home/darlinne.soto/librep-hiaac/experiments/Topological_ae/MotionSense20Hz/../../../librep/transforms/topo_ae.py:87: UserWarning: To copy construct from a tensor, it is recommended to use sourceTensor.clone().detach() or sourceTensor.clone().detach().requires_grad_(True), rather than torch.tensor(sourceTensor).\n",
      "  in_tensor = torch.tensor(reshaped_data, device=cuda0).float()\n"
     ]
    },
    {
     "name": "stdout",
     "output_type": "stream",
     "text": [
      "Epoch:1, P:None, Loss:2655.6355, Loss-ae:2655.6355, Loss-topo:0.0028\n",
      "Epoch:2, P:None, Loss:2605.3165, Loss-ae:2605.3165, Loss-topo:0.0253\n",
      "Epoch:3, P:None, Loss:2607.7461, Loss-ae:2607.7461, Loss-topo:0.0245\n",
      "Epoch:4, P:None, Loss:2586.4839, Loss-ae:2586.4839, Loss-topo:0.0255\n",
      "Epoch:5, P:None, Loss:2582.5334, Loss-ae:2582.5334, Loss-topo:0.0247\n",
      "Epoch:6, P:None, Loss:2610.2918, Loss-ae:2610.2918, Loss-topo:0.0257\n",
      "Epoch:7, P:None, Loss:2587.3954, Loss-ae:2587.3954, Loss-topo:0.0241\n",
      "Epoch:8, P:None, Loss:2599.0377, Loss-ae:2599.0377, Loss-topo:0.0253\n",
      "Epoch:9, P:None, Loss:2637.0212, Loss-ae:2637.0212, Loss-topo:0.0273\n",
      "Epoch:10, P:None, Loss:2597.6855, Loss-ae:2597.6855, Loss-topo:0.0260\n"
     ]
    },
    {
     "data": {
      "image/png": "[encoded data removed]",
      "text/plain": [
       "<Figure size 1000x1000 with 2 Axes>"
      ]
     },
     "metadata": {},
     "output_type": "display_data"
    },
    {
     "data": {
      "text/plain": [
       "<librep.transforms.topo_ae.CustomTopoDimRedTransform at 0x7f8fe156a460>"
      ]
     },
     "execution_count": 20,
     "metadata": {},
     "output_type": "execute_result"
    }
   ],
   "source": [
    "title_plot = \"MotionSense 20Hz\\nTopoAE lambda {}\".format(model_lam)\n",
    "topo_reducer.fit(train_HD, train_Y, title_plot=title_plot)"
   ]
  },
  {
   "cell_type": "markdown",
   "id": "8d33e0fe-1274-4879-9d37-ca7e88abc97c",
   "metadata": {},
   "source": [
    "## Save the model"
   ]
  },
  {
   "cell_type": "code",
   "execution_count": 25,
   "id": "6f3bd1a1-03d5-4497-89a2-306c72fa3a22",
   "metadata": {
    "execution": {
     "iopub.execute_input": "2022-11-28T19:49:44.910321Z",
     "iopub.status.busy": "2022-11-28T19:49:44.909446Z",
     "iopub.status.idle": "2022-11-28T19:49:45.025586Z",
     "shell.execute_reply": "2022-11-28T19:49:45.023547Z",
     "shell.execute_reply.started": "2022-11-28T19:49:44.910249Z"
    },
    "tags": []
   },
   "outputs": [
    {
     "name": "stdout",
     "output_type": "stream",
     "text": [
      "data/ConvolutionalAutoencoder_custom_dim3_0_10_10_0.pkl\n"
     ]
    },
    {
     "ename": "AssertionError",
     "evalue": "",
     "output_type": "error",
     "traceback": [
      "\u001b[0;31m---------------------------------------------------------------------------\u001b[0m",
      "\u001b[0;31mAssertionError\u001b[0m                            Traceback (most recent call last)",
      "Cell \u001b[0;32mIn [25], line 4\u001b[0m\n\u001b[1;32m      2\u001b[0m filename \u001b[38;5;241m=\u001b[39m \u001b[38;5;124m'\u001b[39m\u001b[38;5;124mdata/\u001b[39m\u001b[38;5;132;01m{}\u001b[39;00m\u001b[38;5;124m_\u001b[39m\u001b[38;5;132;01m{}\u001b[39;00m\u001b[38;5;124m_\u001b[39m\u001b[38;5;132;01m{}\u001b[39;00m\u001b[38;5;124m_\u001b[39m\u001b[38;5;132;01m{}\u001b[39;00m\u001b[38;5;124m_\u001b[39m\u001b[38;5;132;01m{}\u001b[39;00m\u001b[38;5;124m.pkl\u001b[39m\u001b[38;5;124m'\u001b[39m\u001b[38;5;241m.\u001b[39mformat(model_name, model_lam, model_dim, model_epc, save_id)\n\u001b[1;32m      3\u001b[0m \u001b[38;5;28mprint\u001b[39m(filename)\n\u001b[0;32m----> 4\u001b[0m \u001b[38;5;28;01massert\u001b[39;00m \u001b[38;5;241m1\u001b[39m\u001b[38;5;241m==\u001b[39m\u001b[38;5;241m0\u001b[39m\n",
      "\u001b[0;31mAssertionError\u001b[0m: "
     ]
    }
   ],
   "source": [
    "# Variables to reuse\n",
    "filename = 'data/{}_{}_{}_{}_{}.pkl'.format(model_name, model_lam, model_dim, model_epc, save_id)"
   ]
  },
  {
   "cell_type": "code",
   "execution_count": 22,
   "id": "d0a2f100-71ca-45de-b33f-7f1fdaeb483e",
   "metadata": {
    "execution": {
     "iopub.execute_input": "2022-11-28T19:41:09.418283Z",
     "iopub.status.busy": "2022-11-28T19:41:09.417742Z",
     "iopub.status.idle": "2022-11-28T19:41:09.683899Z",
     "shell.execute_reply": "2022-11-28T19:41:09.682536Z",
     "shell.execute_reply.started": "2022-11-28T19:41:09.418249Z"
    },
    "tags": []
   },
   "outputs": [],
   "source": [
    "import pickle\n",
    "filehandler = open(filename, 'wb')\n",
    "pickle.dump(topo_reducer, filehandler)\n",
    "filehandler.close()"
   ]
  }
 ],
 "metadata": {
  "kernelspec": {
   "display_name": "Python 3 (ipykernel)",
   "language": "python",
   "name": "python3"
  },
  "language_info": {
   "codemirror_mode": {
    "name": "ipython",
    "version": 3
   },
   "file_extension": ".py",
   "mimetype": "text/x-python",
   "name": "python",
   "nbconvert_exporter": "python",
   "pygments_lexer": "ipython3",
   "version": "3.8.10"
  }
 },
 "nbformat": 4,
 "nbformat_minor": 5
}
