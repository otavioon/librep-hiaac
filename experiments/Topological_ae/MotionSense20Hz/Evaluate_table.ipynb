{
 "cells": [
  {
   "cell_type": "code",
   "execution_count": 1,
   "id": "7e1630ed-63c8-4ee7-86c9-62dfb528b9a2",
   "metadata": {
    "execution": {
     "iopub.execute_input": "2022-11-29T10:39:09.809988Z",
     "iopub.status.busy": "2022-11-29T10:39:09.809603Z",
     "iopub.status.idle": "2022-11-29T10:39:09.840027Z",
     "shell.execute_reply": "2022-11-29T10:39:09.838762Z",
     "shell.execute_reply.started": "2022-11-29T10:39:09.809948Z"
    }
   },
   "outputs": [],
   "source": [
    "%load_ext autoreload\n",
    "%autoreload 2"
   ]
  },
  {
   "cell_type": "code",
   "execution_count": 2,
   "id": "2da911e3-e82f-47c9-8090-f71f453956ee",
   "metadata": {
    "execution": {
     "iopub.execute_input": "2022-11-29T10:39:09.842328Z",
     "iopub.status.busy": "2022-11-29T10:39:09.841779Z",
     "iopub.status.idle": "2022-11-29T10:39:09.911915Z",
     "shell.execute_reply": "2022-11-29T10:39:09.909884Z",
     "shell.execute_reply.started": "2022-11-29T10:39:09.842281Z"
    },
    "tags": []
   },
   "outputs": [],
   "source": [
    "import sys\n",
    "sys.path.append(\"../../..\")"
   ]
  },
  {
   "cell_type": "code",
   "execution_count": 3,
   "id": "5f067405-ab8c-4f22-b056-ab9e1febe71c",
   "metadata": {
    "execution": {
     "iopub.execute_input": "2022-11-29T10:39:09.914147Z",
     "iopub.status.busy": "2022-11-29T10:39:09.913588Z",
     "iopub.status.idle": "2022-11-29T10:39:11.197755Z",
     "shell.execute_reply": "2022-11-29T10:39:11.196149Z",
     "shell.execute_reply.started": "2022-11-29T10:39:09.914107Z"
    }
   },
   "outputs": [],
   "source": [
    "import numpy as np\n",
    "import pandas as pd\n",
    "import matplotlib.pyplot as plt"
   ]
  },
  {
   "cell_type": "code",
   "execution_count": 4,
   "id": "cc5007e3-ef19-4658-ac7d-2a6f617bb9c6",
   "metadata": {
    "execution": {
     "iopub.execute_input": "2022-11-29T10:39:11.200403Z",
     "iopub.status.busy": "2022-11-29T10:39:11.199563Z",
     "iopub.status.idle": "2022-11-29T10:39:23.199314Z",
     "shell.execute_reply": "2022-11-29T10:39:23.197464Z",
     "shell.execute_reply.started": "2022-11-29T10:39:11.200356Z"
    }
   },
   "outputs": [
    {
     "name": "stderr",
     "output_type": "stream",
     "text": [
      "2022-11-29 10:39:20.058593: I tensorflow/core/platform/cpu_feature_guard.cc:193] This TensorFlow binary is optimized with oneAPI Deep Neural Network Library (oneDNN) to use the following CPU instructions in performance-critical operations:  AVX2 AVX512F FMA\n",
      "To enable them in other operations, rebuild TensorFlow with the appropriate compiler flags.\n",
      "2022-11-29 10:39:20.296059: W tensorflow/compiler/xla/stream_executor/platform/default/dso_loader.cc:64] Could not load dynamic library 'libcudart.so.11.0'; dlerror: libcudart.so.11.0: cannot open shared object file: No such file or directory\n",
      "2022-11-29 10:39:20.296100: I tensorflow/compiler/xla/stream_executor/cuda/cudart_stub.cc:29] Ignore above cudart dlerror if you do not have a GPU set up on your machine.\n",
      "2022-11-29 10:39:21.616033: W tensorflow/compiler/xla/stream_executor/platform/default/dso_loader.cc:64] Could not load dynamic library 'libnvinfer.so.7'; dlerror: libnvinfer.so.7: cannot open shared object file: No such file or directory\n",
      "2022-11-29 10:39:21.616160: W tensorflow/compiler/xla/stream_executor/platform/default/dso_loader.cc:64] Could not load dynamic library 'libnvinfer_plugin.so.7'; dlerror: libnvinfer_plugin.so.7: cannot open shared object file: No such file or directory\n",
      "2022-11-29 10:39:21.616175: W tensorflow/compiler/tf2tensorrt/utils/py_utils.cc:38] TF-TRT Warning: Cannot dlopen some TensorRT libraries. If you would like to use Nvidia GPU with TensorRT, please make sure the missing libraries mentioned above are installed properly.\n"
     ]
    }
   ],
   "source": [
    "from librep.datasets.har.loaders import (\n",
    "    MotionSense_BalancedView20HZ\n",
    ")"
   ]
  },
  {
   "cell_type": "code",
   "execution_count": 5,
   "id": "2f9f66b2-7b1c-4d4e-a0e3-cde9552a595a",
   "metadata": {
    "execution": {
     "iopub.execute_input": "2022-11-29T10:39:23.202301Z",
     "iopub.status.busy": "2022-11-29T10:39:23.201260Z",
     "iopub.status.idle": "2022-11-29T10:39:25.775225Z",
     "shell.execute_reply": "2022-11-29T10:39:25.773810Z",
     "shell.execute_reply.started": "2022-11-29T10:39:23.202258Z"
    }
   },
   "outputs": [],
   "source": [
    "from librep.transforms.topo_ae import (\n",
    "    TopologicalDimensionalityReduction,\n",
    "    CustomTopoDimRedTransform\n",
    ")\n",
    "from librep.transforms import UMAP\n",
    "from sklearn.manifold import TSNE\n",
    "from experiments.Topological_ae.Experiment_utils import *\n",
    "from librep.datasets.multimodal import TransformMultiModalDataset\n",
    "from librep.transforms.fft import FFT"
   ]
  },
  {
   "cell_type": "markdown",
   "id": "d49f04a7-fe78-4692-b571-44911744a350",
   "metadata": {},
   "source": [
    "## Reading model"
   ]
  },
  {
   "cell_type": "code",
   "execution_count": 13,
   "id": "61b896c7-2cf0-43ab-ab29-e5cca2314518",
   "metadata": {
    "execution": {
     "iopub.execute_input": "2022-11-29T14:39:16.822008Z",
     "iopub.status.busy": "2022-11-29T14:39:16.821100Z",
     "iopub.status.idle": "2022-11-29T14:39:17.665236Z",
     "shell.execute_reply": "2022-11-29T14:39:17.663128Z",
     "shell.execute_reply.started": "2022-11-29T14:39:16.821929Z"
    },
    "tags": []
   },
   "outputs": [
    {
     "name": "stdout",
     "output_type": "stream",
     "text": [
      "0 [0.8963725490196077, 0.8661764705882353, 0.8373529411764705, 0.8418627450980392, 0.9009803921568625]\n",
      "0.1 [0.9171568627450981, 0.8994117647058824, 0.8698039215686274, 0.9031372549019607, 0.8492156862745098]\n",
      "0.01 [0.842156862745098, 0.8896078431372549, 0.866764705882353, 0.8660784313725491, 0.8784313725490195]\n",
      "1 [0.8835294117647059, 0.8558823529411764, 0.8665686274509804, 0.8697058823529412, 0.889313725490196]\n",
      "10 [0.8957843137254903, 0.8496078431372549, 0.8326470588235294, 0.8470588235294118, 0.894313725490196]\n",
      "100 [0.8698039215686274, 0.8650980392156862, 0.8683333333333334, 0.8005882352941176, 0.8427450980392157]\n",
      "╒══════════════════╤══════════╤═══════════════╤═══════════════╤═══════════════╤═══════════════╤═══════════════╤═══════════════╕\n",
      "│ Modelo           │   Lambda │ RF-ACC        │ RF-F1         │ SVC-ACC       │ SVC-F1        │ KNN-ACC       │ KNN-F1        │\n",
      "╞══════════════════╪══════════╪═══════════════╪═══════════════╪═══════════════╪═══════════════╪═══════════════╪═══════════════╡\n",
      "│ Conv_custom_dim3 │     0    │ 0.8685±0.0265 │ 0.8685±0.0262 │ 0.8761±0.0239 │ 0.8772±0.0239 │ 0.8284±0.0204 │ 0.8283±0.0211 │\n",
      "├──────────────────┼──────────┼───────────────┼───────────────┼───────────────┼───────────────┼───────────────┼───────────────┤\n",
      "│ Conv_custom_dim3 │     0.1  │ 0.8877±0.0247 │ 0.8881±0.0244 │ 0.9025±0.0135 │ 0.9036±0.0126 │ 0.8624±0.0141 │ 0.8624±0.0136 │\n",
      "├──────────────────┼──────────┼───────────────┼───────────────┼───────────────┼───────────────┼───────────────┼───────────────┤\n",
      "│ Conv_custom_dim3 │     0.01 │ 0.8686±0.0158 │ 0.8692±0.0154 │ 0.8802±0.0111 │ 0.8814±0.0106 │ 0.8541±0.0123 │ 0.8536±0.0125 │\n",
      "├──────────────────┼──────────┼───────────────┼───────────────┼───────────────┼───────────────┼───────────────┼───────────────┤\n",
      "│ Conv_custom_dim3 │     1    │ 0.8730±0.0120 │ 0.8736±0.0109 │ 0.8833±0.0109 │ 0.8849±0.0123 │ 0.8382±0.0119 │ 0.8378±0.0130 │\n",
      "├──────────────────┼──────────┼───────────────┼───────────────┼───────────────┼───────────────┼───────────────┼───────────────┤\n",
      "│ Conv_custom_dim3 │    10    │ 0.8639±0.0261 │ 0.8635±0.0264 │ 0.8845±0.0325 │ 0.8850±0.0330 │ 0.8390±0.0175 │ 0.8387±0.0176 │\n",
      "├──────────────────┼──────────┼───────────────┼───────────────┼───────────────┼───────────────┼───────────────┼───────────────┤\n",
      "│ Conv_custom_dim3 │   100    │ 0.8493±0.0263 │ 0.8485±0.0272 │ 0.8639±0.0195 │ 0.8644±0.0207 │ 0.8047±0.0164 │ 0.8028±0.0170 │\n",
      "╘══════════════════╧══════════╧═══════════════╧═══════════════╧═══════════════╧═══════════════╧═══════════════╧═══════════════╛\n"
     ]
    }
   ],
   "source": [
    "import pickle\n",
    "import matplotlib.pyplot as plt\n",
    "from tabulate import tabulate\n",
    "# Variables to reuse\n",
    "save_ids = range(5)\n",
    "model_name = 'ConvolutionalAutoencoder_custom_dim3'\n",
    "model_dim = 10\n",
    "model_epc = 500\n",
    "model_lams = [0, 0.1, 0.01, 1, 10, 100]\n",
    "\n",
    "data = {\n",
    "    'Modelo': ['Conv_custom_dim3']*len(model_lams),\n",
    "    'Lambda': model_lams,\n",
    "    'RF-ACC': [],\n",
    "    'RF-F1': [],\n",
    "    'SVC-ACC': [],\n",
    "    'SVC-F1': [],\n",
    "    'KNN-ACC': [],\n",
    "    'KNN-F1': [],\n",
    "    }\n",
    "for model_lam in model_lams:\n",
    "    rf_acc = []\n",
    "    rf_f1 = []\n",
    "    svc_acc = []\n",
    "    svc_f1 = []\n",
    "    knn_acc = []\n",
    "    knn_f1 = []\n",
    "    recon_error = []\n",
    "    for save_id in save_ids:\n",
    "        filename = 'data/{}_{}_{}_{}_{}.pkl'.format(model_name, model_lam, model_dim, model_epc, save_id)\n",
    "        filehandler = open(filename, 'rb')\n",
    "        model = pickle.load(filehandler)\n",
    "        filehandler.close()\n",
    "        recon_error.append(model.train_recon_error[-1])\n",
    "\n",
    "        filename = 'data/{}_{}_{}_{}_{}.acc_f1.pkl'.format(model_name, model_lam, model_dim, model_epc, save_id)\n",
    "        filehandler = open(filename, 'rb')\n",
    "        evaluation = pickle.load(filehandler)\n",
    "        filehandler.close()\n",
    "        rf_acc.append(evaluation['RF-ACC'])\n",
    "        rf_f1.append(evaluation['RF-F1'])\n",
    "        svc_acc.append(evaluation['SVC-ACC'])\n",
    "        svc_f1.append(evaluation['SVC-F1'])\n",
    "        knn_acc.append(evaluation['KNN-ACC'])\n",
    "        knn_f1.append(evaluation['KNN-F1'])\n",
    "    print(model_lam, rf_acc)\n",
    "    data['RF-ACC'].append(\"{:.4f}±{:.4f}\".format(np.mean(rf_acc), np.std(rf_acc)))\n",
    "    data['RF-F1'].append(\"{:.4f}±{:.4f}\".format(np.mean(rf_f1), np.std(rf_f1)))\n",
    "    data['SVC-ACC'].append(\"{:.4f}±{:.4f}\".format(np.mean(svc_acc), np.std(svc_acc)))\n",
    "    data['SVC-F1'].append(\"{:.4f}±{:.4f}\".format(np.mean(svc_f1), np.std(svc_f1)))\n",
    "    data['KNN-ACC'].append(\"{:.4f}±{:.4f}\".format(np.mean(knn_acc), np.std(knn_acc)))\n",
    "    data['KNN-F1'].append(\"{:.4f}±{:.4f}\".format(np.mean(knn_f1), np.std(knn_f1)))\n",
    "print(tabulate(data, headers='keys', tablefmt='fancy_grid'))"
   ]
  }
 ],
 "metadata": {
  "kernelspec": {
   "display_name": "Python 3 (ipykernel)",
   "language": "python",
   "name": "python3"
  },
  "language_info": {
   "codemirror_mode": {
    "name": "ipython",
    "version": 3
   },
   "file_extension": ".py",
   "mimetype": "text/x-python",
   "name": "python",
   "nbconvert_exporter": "python",
   "pygments_lexer": "ipython3",
   "version": "3.8.10"
  }
 },
 "nbformat": 4,
 "nbformat_minor": 5
}
