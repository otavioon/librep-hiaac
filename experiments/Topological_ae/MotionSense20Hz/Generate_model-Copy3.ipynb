{
 "cells": [
  {
   "cell_type": "code",
   "execution_count": 1,
   "id": "7e1630ed-63c8-4ee7-86c9-62dfb528b9a2",
   "metadata": {
    "execution": {
     "iopub.execute_input": "2022-11-29T02:19:31.193442Z",
     "iopub.status.busy": "2022-11-29T02:19:31.192832Z",
     "iopub.status.idle": "2022-11-29T02:19:31.240546Z",
     "shell.execute_reply": "2022-11-29T02:19:31.239401Z",
     "shell.execute_reply.started": "2022-11-29T02:19:31.193395Z"
    }
   },
   "outputs": [],
   "source": [
    "%load_ext autoreload\n",
    "%autoreload 2"
   ]
  },
  {
   "cell_type": "code",
   "execution_count": 2,
   "id": "fedad853",
   "metadata": {
    "execution": {
     "iopub.execute_input": "2022-11-29T02:19:31.242512Z",
     "iopub.status.busy": "2022-11-29T02:19:31.241992Z",
     "iopub.status.idle": "2022-11-29T02:19:31.267163Z",
     "shell.execute_reply": "2022-11-29T02:19:31.265505Z",
     "shell.execute_reply.started": "2022-11-29T02:19:31.242476Z"
    }
   },
   "outputs": [],
   "source": [
    "import os\n",
    "os.environ[\"CUDA_VISIBLE_DEVICES\"] = \"0\""
   ]
  },
  {
   "cell_type": "code",
   "execution_count": 3,
   "id": "c1e18129",
   "metadata": {
    "execution": {
     "iopub.execute_input": "2022-11-29T02:19:31.269728Z",
     "iopub.status.busy": "2022-11-29T02:19:31.269078Z",
     "iopub.status.idle": "2022-11-29T02:19:34.066252Z",
     "shell.execute_reply": "2022-11-29T02:19:34.064365Z",
     "shell.execute_reply.started": "2022-11-29T02:19:31.269678Z"
    }
   },
   "outputs": [
    {
     "name": "stdout",
     "output_type": "stream",
     "text": [
      "True\n",
      "1\n",
      "0\n",
      "<torch.cuda.device object at 0x7f3698554190>\n",
      "NVIDIA TITAN Xp\n"
     ]
    }
   ],
   "source": [
    "import torch\n",
    "print(torch.cuda.is_available()) # True\n",
    "print(torch.cuda.device_count()) # 1\n",
    "print(torch.cuda.current_device()) # 0\n",
    "print(torch.cuda.device(0)) # <torch.cuda.device at 0x7efce0b03be0>\n",
    "print(torch.cuda.get_device_name(0)) # 'GeForce GTX 950M'"
   ]
  },
  {
   "cell_type": "code",
   "execution_count": 4,
   "id": "2da911e3-e82f-47c9-8090-f71f453956ee",
   "metadata": {
    "execution": {
     "iopub.execute_input": "2022-11-29T02:19:34.068934Z",
     "iopub.status.busy": "2022-11-29T02:19:34.068192Z",
     "iopub.status.idle": "2022-11-29T02:19:34.105972Z",
     "shell.execute_reply": "2022-11-29T02:19:34.104387Z",
     "shell.execute_reply.started": "2022-11-29T02:19:34.068892Z"
    }
   },
   "outputs": [],
   "source": [
    "import sys\n",
    "sys.path.append(\"../../..\")"
   ]
  },
  {
   "cell_type": "code",
   "execution_count": 5,
   "id": "5f067405-ab8c-4f22-b056-ab9e1febe71c",
   "metadata": {
    "execution": {
     "iopub.execute_input": "2022-11-29T02:19:34.110903Z",
     "iopub.status.busy": "2022-11-29T02:19:34.110326Z",
     "iopub.status.idle": "2022-11-29T02:19:35.279444Z",
     "shell.execute_reply": "2022-11-29T02:19:35.277679Z",
     "shell.execute_reply.started": "2022-11-29T02:19:34.110865Z"
    }
   },
   "outputs": [],
   "source": [
    "import numpy as np\n",
    "import pandas as pd\n",
    "import matplotlib.pyplot as plt"
   ]
  },
  {
   "cell_type": "code",
   "execution_count": 6,
   "id": "cc5007e3-ef19-4658-ac7d-2a6f617bb9c6",
   "metadata": {
    "execution": {
     "iopub.execute_input": "2022-11-29T02:19:35.281879Z",
     "iopub.status.busy": "2022-11-29T02:19:35.281244Z",
     "iopub.status.idle": "2022-11-29T02:19:47.210771Z",
     "shell.execute_reply": "2022-11-29T02:19:47.209274Z",
     "shell.execute_reply.started": "2022-11-29T02:19:35.281835Z"
    }
   },
   "outputs": [
    {
     "name": "stderr",
     "output_type": "stream",
     "text": [
      "2022-11-29 02:19:43.996003: I tensorflow/core/platform/cpu_feature_guard.cc:193] This TensorFlow binary is optimized with oneAPI Deep Neural Network Library (oneDNN) to use the following CPU instructions in performance-critical operations:  AVX2 AVX512F FMA\n",
      "To enable them in other operations, rebuild TensorFlow with the appropriate compiler flags.\n",
      "2022-11-29 02:19:45.656138: W tensorflow/compiler/xla/stream_executor/platform/default/dso_loader.cc:64] Could not load dynamic library 'libnvinfer.so.7'; dlerror: libnvinfer.so.7: cannot open shared object file: No such file or directory\n",
      "2022-11-29 02:19:45.656269: W tensorflow/compiler/xla/stream_executor/platform/default/dso_loader.cc:64] Could not load dynamic library 'libnvinfer_plugin.so.7'; dlerror: libnvinfer_plugin.so.7: cannot open shared object file: No such file or directory\n",
      "2022-11-29 02:19:45.656285: W tensorflow/compiler/tf2tensorrt/utils/py_utils.cc:38] TF-TRT Warning: Cannot dlopen some TensorRT libraries. If you would like to use Nvidia GPU with TensorRT, please make sure the missing libraries mentioned above are installed properly.\n"
     ]
    }
   ],
   "source": [
    "from librep.datasets.har.loaders import (\n",
    "    MotionSense_BalancedView20HZ\n",
    ")"
   ]
  },
  {
   "cell_type": "code",
   "execution_count": 7,
   "id": "2f9f66b2-7b1c-4d4e-a0e3-cde9552a595a",
   "metadata": {
    "execution": {
     "iopub.execute_input": "2022-11-29T02:19:47.213405Z",
     "iopub.status.busy": "2022-11-29T02:19:47.212655Z",
     "iopub.status.idle": "2022-11-29T02:19:47.326193Z",
     "shell.execute_reply": "2022-11-29T02:19:47.324404Z",
     "shell.execute_reply.started": "2022-11-29T02:19:47.213358Z"
    }
   },
   "outputs": [],
   "source": [
    "from librep.transforms.topo_ae import (\n",
    "    TopologicalDimensionalityReduction,\n",
    "    CustomTopoDimRedTransform\n",
    ")\n",
    "from librep.transforms import UMAP\n",
    "from sklearn.manifold import TSNE\n",
    "from experiments.Topological_ae.Experiment_utils import *\n",
    "from librep.datasets.multimodal import TransformMultiModalDataset\n",
    "from librep.transforms.fft import FFT"
   ]
  },
  {
   "cell_type": "code",
   "execution_count": 8,
   "id": "85bea424-07ff-47ec-945a-aef385afe7a7",
   "metadata": {
    "execution": {
     "iopub.execute_input": "2022-11-29T02:19:47.328733Z",
     "iopub.status.busy": "2022-11-29T02:19:47.328093Z",
     "iopub.status.idle": "2022-11-29T02:19:47.418980Z",
     "shell.execute_reply": "2022-11-29T02:19:47.417556Z",
     "shell.execute_reply.started": "2022-11-29T02:19:47.328690Z"
    }
   },
   "outputs": [],
   "source": [
    "# MotionSense Loader\n",
    "loader = MotionSense_BalancedView20HZ(\n",
    "    root_dir=\"../../../data/views/MotionSense/balanced_view_20Hz_with_gravity_9.81_acc_standard\", \n",
    "    download=False\n",
    ")"
   ]
  },
  {
   "cell_type": "code",
   "execution_count": 9,
   "id": "3d817b0c-4e6b-4227-9b48-cd23c3df190d",
   "metadata": {
    "execution": {
     "iopub.execute_input": "2022-11-29T02:19:47.421386Z",
     "iopub.status.busy": "2022-11-29T02:19:47.420745Z",
     "iopub.status.idle": "2022-11-29T02:19:48.226617Z",
     "shell.execute_reply": "2022-11-29T02:19:48.225263Z",
     "shell.execute_reply.started": "2022-11-29T02:19:47.421344Z"
    }
   },
   "outputs": [
    {
     "data": {
      "text/plain": [
       "(PandasMultiModalDataset: samples=4020, features=360, no. window=6, label_columns='standard activity code',\n",
       " PandasMultiModalDataset: samples=1020, features=360, no. window=6, label_columns='standard activity code')"
      ]
     },
     "execution_count": 9,
     "metadata": {},
     "output_type": "execute_result"
    }
   ],
   "source": [
    "# Load the dataset\n",
    "train_val, test = loader.load(concat_train_validation=True, label=loader.standard_label)\n",
    "train_val, test"
   ]
  },
  {
   "cell_type": "code",
   "execution_count": 10,
   "id": "9491b1e0-0b60-439c-9bed-ea0ee7918b68",
   "metadata": {
    "execution": {
     "iopub.execute_input": "2022-11-29T02:19:48.229570Z",
     "iopub.status.busy": "2022-11-29T02:19:48.229031Z",
     "iopub.status.idle": "2022-11-29T02:19:48.376893Z",
     "shell.execute_reply": "2022-11-29T02:19:48.375431Z",
     "shell.execute_reply.started": "2022-11-29T02:19:48.229522Z"
    }
   },
   "outputs": [],
   "source": [
    "train_HD = np.array(train_val[:][0])\n",
    "train_LD = None\n",
    "train_Y = np.array(train_val[:][1])\n",
    "test_HD = np.array(test[:][0])\n",
    "test_LD = None\n",
    "test_Y = np.array(test[:][1])"
   ]
  },
  {
   "cell_type": "code",
   "execution_count": 11,
   "id": "cc4810ac-c560-4b23-9b72-481a2d0f1a91",
   "metadata": {
    "execution": {
     "iopub.execute_input": "2022-11-29T02:19:48.379095Z",
     "iopub.status.busy": "2022-11-29T02:19:48.378578Z",
     "iopub.status.idle": "2022-11-29T02:19:48.470323Z",
     "shell.execute_reply": "2022-11-29T02:19:48.468696Z",
     "shell.execute_reply.started": "2022-11-29T02:19:48.379060Z"
    }
   },
   "outputs": [
    {
     "name": "stdout",
     "output_type": "stream",
     "text": [
      "(4020, 360) (4020,) (1020, 360) (1020,)\n"
     ]
    }
   ],
   "source": [
    "print(train_HD.shape, train_Y.shape, test_HD.shape, test_Y.shape)"
   ]
  },
  {
   "cell_type": "markdown",
   "id": "4c93d061-6ea0-418b-b690-2d977f6297c9",
   "metadata": {},
   "source": [
    "# Aplicar FFT"
   ]
  },
  {
   "cell_type": "code",
   "execution_count": 12,
   "id": "e5255de5-0259-404a-a2d8-507ad4f2ee2f",
   "metadata": {
    "execution": {
     "iopub.execute_input": "2022-11-29T02:19:48.472836Z",
     "iopub.status.busy": "2022-11-29T02:19:48.472142Z",
     "iopub.status.idle": "2022-11-29T02:19:48.562874Z",
     "shell.execute_reply": "2022-11-29T02:19:48.561463Z",
     "shell.execute_reply.started": "2022-11-29T02:19:48.472787Z"
    }
   },
   "outputs": [],
   "source": [
    "fft_transform = FFT(centered = True)\n",
    "transformer = TransformMultiModalDataset(\n",
    "    transforms=[fft_transform],\n",
    "    new_window_name_prefix=\"fft.\"\n",
    ")"
   ]
  },
  {
   "cell_type": "code",
   "execution_count": 13,
   "id": "29195f38-f8a9-4167-937f-d3f98ddc7642",
   "metadata": {
    "execution": {
     "iopub.execute_input": "2022-11-29T02:19:48.565237Z",
     "iopub.status.busy": "2022-11-29T02:19:48.564673Z",
     "iopub.status.idle": "2022-11-29T02:19:49.282482Z",
     "shell.execute_reply": "2022-11-29T02:19:49.280809Z",
     "shell.execute_reply.started": "2022-11-29T02:19:48.565194Z"
    }
   },
   "outputs": [],
   "source": [
    "train_dataset_fft = transformer(train_val)\n",
    "test_dataset_fft = transformer(test)"
   ]
  },
  {
   "cell_type": "code",
   "execution_count": 14,
   "id": "3c8cfc25-0323-498a-931d-1249078f2796",
   "metadata": {
    "execution": {
     "iopub.execute_input": "2022-11-29T02:19:49.284726Z",
     "iopub.status.busy": "2022-11-29T02:19:49.284159Z",
     "iopub.status.idle": "2022-11-29T02:19:49.376640Z",
     "shell.execute_reply": "2022-11-29T02:19:49.374874Z",
     "shell.execute_reply.started": "2022-11-29T02:19:49.284690Z"
    }
   },
   "outputs": [
    {
     "name": "stdout",
     "output_type": "stream",
     "text": [
      "(4020, 180)\n",
      "(1020, 180)\n"
     ]
    }
   ],
   "source": [
    "print(train_dataset_fft.X.shape)\n",
    "print(test_dataset_fft.X.shape)"
   ]
  },
  {
   "cell_type": "code",
   "execution_count": 15,
   "id": "d413cc20-e5b5-4594-b1f7-f11153c00c5f",
   "metadata": {
    "execution": {
     "iopub.execute_input": "2022-11-29T02:19:49.380161Z",
     "iopub.status.busy": "2022-11-29T02:19:49.379223Z",
     "iopub.status.idle": "2022-11-29T02:19:49.486121Z",
     "shell.execute_reply": "2022-11-29T02:19:49.484719Z",
     "shell.execute_reply.started": "2022-11-29T02:19:49.380092Z"
    }
   },
   "outputs": [
    {
     "name": "stdout",
     "output_type": "stream",
     "text": [
      "797.3368276806895\n"
     ]
    }
   ],
   "source": [
    "print(np.max(train_dataset_fft.X))"
   ]
  },
  {
   "cell_type": "code",
   "execution_count": 16,
   "id": "fea2e105-a571-4a2f-ac76-096b08a6ef2f",
   "metadata": {
    "execution": {
     "iopub.execute_input": "2022-11-29T02:19:49.488868Z",
     "iopub.status.busy": "2022-11-29T02:19:49.488239Z",
     "iopub.status.idle": "2022-11-29T02:19:49.590402Z",
     "shell.execute_reply": "2022-11-29T02:19:49.589115Z",
     "shell.execute_reply.started": "2022-11-29T02:19:49.488813Z"
    }
   },
   "outputs": [],
   "source": [
    "train_HD = train_dataset_fft.X\n",
    "train_LD = None\n",
    "train_Y = train_dataset_fft.y\n",
    "test_HD = test_dataset_fft.X\n",
    "test_LD = None\n",
    "test_Y = test_dataset_fft.y"
   ]
  },
  {
   "cell_type": "code",
   "execution_count": 17,
   "id": "ee13aef1-77c7-42a9-930b-b1a56f980d25",
   "metadata": {
    "execution": {
     "iopub.execute_input": "2022-11-29T02:19:49.592536Z",
     "iopub.status.busy": "2022-11-29T02:19:49.591969Z",
     "iopub.status.idle": "2022-11-29T02:19:49.681939Z",
     "shell.execute_reply": "2022-11-29T02:19:49.680534Z",
     "shell.execute_reply.started": "2022-11-29T02:19:49.592501Z"
    }
   },
   "outputs": [
    {
     "name": "stdout",
     "output_type": "stream",
     "text": [
      "(4020, 180) (4020,) (1020, 180) (1020,)\n"
     ]
    }
   ],
   "source": [
    "print(train_HD.shape, train_Y.shape, test_HD.shape, test_Y.shape)"
   ]
  },
  {
   "cell_type": "code",
   "execution_count": null,
   "id": "6d679108-239c-45b6-98d2-da87453778cb",
   "metadata": {
    "execution": {
     "iopub.execute_input": "2022-11-29T02:19:49.684798Z",
     "iopub.status.busy": "2022-11-29T02:19:49.684076Z"
    },
    "tags": []
   },
   "outputs": [
    {
     "name": "stdout",
     "output_type": "stream",
     "text": [
      "Topologically Regularized ConvolutionalAutoencoder_custom_dim3\n",
      "Using python to compute signatures\n",
      "ConvAECustomDim, Input: (1, 180) Inner dim: 10\n",
      "ENCODER STRUCT torch.Size([4, 8, 5])\n"
     ]
    },
    {
     "name": "stderr",
     "output_type": "stream",
     "text": [
      "/home/darlinne.soto/librep-hiaac/experiments/Topological_ae/MotionSense20Hz/../../../librep/transforms/topo_ae.py:75: UserWarning: To copy construct from a tensor, it is recommended to use sourceTensor.clone().detach() or sourceTensor.clone().detach().requires_grad_(True), rather than torch.tensor(sourceTensor).\n",
      "  in_tensor = torch.tensor(reshaped_data, device=cuda0).float()\n",
      "/home/darlinne.soto/librep-hiaac/experiments/Topological_ae/MotionSense20Hz/../../../librep/transforms/topo_ae.py:87: UserWarning: To copy construct from a tensor, it is recommended to use sourceTensor.clone().detach() or sourceTensor.clone().detach().requires_grad_(True), rather than torch.tensor(sourceTensor).\n",
      "  in_tensor = torch.tensor(reshaped_data, device=cuda0).float()\n"
     ]
    },
    {
     "name": "stdout",
     "output_type": "stream",
     "text": [
      "Epoch:1, P:None, Loss:1808.9112, Loss-ae:1764.8368, Loss-topo:44.0744\n",
      "Epoch:2, P:None, Loss:998.7435, Loss-ae:905.0965, Loss-topo:93.6471\n",
      "Epoch:3, P:None, Loss:790.7257, Loss-ae:759.2235, Loss-topo:31.5022\n",
      "Epoch:4, P:None, Loss:784.7533, Loss-ae:759.2586, Loss-topo:25.4947\n",
      "Epoch:5, P:None, Loss:761.4826, Loss-ae:744.3412, Loss-topo:17.1414\n",
      "Epoch:6, P:None, Loss:732.1785, Loss-ae:711.2732, Loss-topo:20.9053\n",
      "Epoch:7, P:None, Loss:643.5313, Loss-ae:605.5235, Loss-topo:38.0078\n",
      "Epoch:8, P:None, Loss:544.4852, Loss-ae:505.2136, Loss-topo:39.2716\n",
      "Epoch:9, P:None, Loss:475.3427, Loss-ae:444.1653, Loss-topo:31.1774\n",
      "Epoch:10, P:None, Loss:446.0214, Loss-ae:422.2586, Loss-topo:23.7628\n",
      "Epoch:11, P:None, Loss:440.8490, Loss-ae:419.3698, Loss-topo:21.4792\n",
      "Epoch:12, P:None, Loss:422.3527, Loss-ae:405.6853, Loss-topo:16.6673\n",
      "Epoch:13, P:None, Loss:422.8629, Loss-ae:403.9839, Loss-topo:18.8790\n",
      "Epoch:14, P:None, Loss:421.1939, Loss-ae:403.2056, Loss-topo:17.9883\n",
      "Epoch:15, P:None, Loss:387.0551, Loss-ae:371.1696, Loss-topo:15.8855\n",
      "Epoch:16, P:None, Loss:340.6828, Loss-ae:326.3171, Loss-topo:14.3656\n",
      "Epoch:17, P:None, Loss:307.6123, Loss-ae:293.4400, Loss-topo:14.1723\n",
      "Epoch:18, P:None, Loss:304.6943, Loss-ae:292.4577, Loss-topo:12.2366\n",
      "Epoch:19, P:None, Loss:296.3065, Loss-ae:285.5166, Loss-topo:10.7899\n",
      "Epoch:20, P:None, Loss:299.0422, Loss-ae:289.5528, Loss-topo:9.4894\n",
      "Epoch:21, P:None, Loss:280.8852, Loss-ae:270.9658, Loss-topo:9.9194\n",
      "Epoch:22, P:None, Loss:284.2915, Loss-ae:272.7945, Loss-topo:11.4970\n",
      "Epoch:23, P:None, Loss:284.8898, Loss-ae:275.6165, Loss-topo:9.2733\n",
      "Epoch:24, P:None, Loss:274.0449, Loss-ae:264.9725, Loss-topo:9.0724\n",
      "Epoch:25, P:None, Loss:290.5438, Loss-ae:280.6335, Loss-topo:9.9103\n",
      "Epoch:26, P:None, Loss:286.5029, Loss-ae:277.7852, Loss-topo:8.7177\n",
      "Epoch:27, P:None, Loss:271.8774, Loss-ae:261.6475, Loss-topo:10.2299\n",
      "Epoch:28, P:None, Loss:264.8072, Loss-ae:254.6593, Loss-topo:10.1480\n",
      "Epoch:29, P:None, Loss:271.5673, Loss-ae:258.7775, Loss-topo:12.7898\n",
      "Epoch:30, P:None, Loss:245.4442, Loss-ae:233.3827, Loss-topo:12.0615\n",
      "Epoch:31, P:None, Loss:245.0823, Loss-ae:232.0365, Loss-topo:13.0458\n",
      "Epoch:32, P:None, Loss:246.6932, Loss-ae:229.5136, Loss-topo:17.1795\n",
      "Epoch:33, P:None, Loss:225.6494, Loss-ae:209.9951, Loss-topo:15.6543\n",
      "Epoch:34, P:None, Loss:220.5725, Loss-ae:203.8128, Loss-topo:16.7597\n",
      "Epoch:35, P:None, Loss:216.5005, Loss-ae:198.0618, Loss-topo:18.4387\n",
      "Epoch:36, P:None, Loss:208.5154, Loss-ae:189.1353, Loss-topo:19.3801\n",
      "Epoch:37, P:None, Loss:194.1026, Loss-ae:175.2915, Loss-topo:18.8110\n",
      "Epoch:38, P:None, Loss:192.6252, Loss-ae:174.7136, Loss-topo:17.9116\n",
      "Epoch:39, P:None, Loss:177.6771, Loss-ae:157.5922, Loss-topo:20.0849\n",
      "Epoch:40, P:None, Loss:172.4515, Loss-ae:157.2962, Loss-topo:15.1553\n",
      "Epoch:41, P:None, Loss:166.0141, Loss-ae:151.0750, Loss-topo:14.9391\n",
      "Epoch:42, P:None, Loss:161.0241, Loss-ae:146.0820, Loss-topo:14.9421\n",
      "Epoch:43, P:None, Loss:158.6251, Loss-ae:145.2978, Loss-topo:13.3273\n",
      "Epoch:44, P:None, Loss:152.4554, Loss-ae:140.1781, Loss-topo:12.2773\n",
      "Epoch:45, P:None, Loss:153.0587, Loss-ae:141.6874, Loss-topo:11.3712\n",
      "Epoch:46, P:None, Loss:148.4905, Loss-ae:136.1226, Loss-topo:12.3679\n",
      "Epoch:47, P:None, Loss:152.6965, Loss-ae:142.0496, Loss-topo:10.6469\n",
      "Epoch:48, P:None, Loss:142.6807, Loss-ae:132.4685, Loss-topo:10.2122\n",
      "Epoch:49, P:None, Loss:145.6338, Loss-ae:134.6460, Loss-topo:10.9878\n",
      "Epoch:50, P:None, Loss:145.8638, Loss-ae:136.1410, Loss-topo:9.7228\n",
      "Epoch:51, P:None, Loss:147.9640, Loss-ae:138.1585, Loss-topo:9.8055\n",
      "Epoch:52, P:None, Loss:142.7878, Loss-ae:134.5174, Loss-topo:8.2704\n",
      "Epoch:53, P:None, Loss:143.4123, Loss-ae:134.7750, Loss-topo:8.6373\n",
      "Epoch:54, P:None, Loss:139.5729, Loss-ae:130.1484, Loss-topo:9.4245\n",
      "Epoch:55, P:None, Loss:138.7878, Loss-ae:131.0139, Loss-topo:7.7739\n",
      "Epoch:56, P:None, Loss:132.2533, Loss-ae:124.4314, Loss-topo:7.8219\n",
      "Epoch:57, P:None, Loss:135.0203, Loss-ae:127.1187, Loss-topo:7.9016\n",
      "Epoch:58, P:None, Loss:132.5188, Loss-ae:125.5077, Loss-topo:7.0111\n",
      "Epoch:59, P:None, Loss:136.9306, Loss-ae:129.5923, Loss-topo:7.3384\n",
      "Epoch:60, P:None, Loss:133.8830, Loss-ae:126.5282, Loss-topo:7.3548\n",
      "Epoch:61, P:None, Loss:128.3832, Loss-ae:121.3049, Loss-topo:7.0783\n",
      "Epoch:62, P:None, Loss:131.1071, Loss-ae:124.0272, Loss-topo:7.0799\n",
      "Epoch:63, P:None, Loss:129.8609, Loss-ae:122.4037, Loss-topo:7.4572\n",
      "Epoch:64, P:None, Loss:130.5982, Loss-ae:123.4897, Loss-topo:7.1085\n",
      "Epoch:65, P:None, Loss:129.0767, Loss-ae:122.2624, Loss-topo:6.8143\n",
      "Epoch:66, P:None, Loss:125.7727, Loss-ae:118.9398, Loss-topo:6.8329\n",
      "Epoch:67, P:None, Loss:124.3402, Loss-ae:118.2189, Loss-topo:6.1213\n",
      "Epoch:68, P:None, Loss:132.9566, Loss-ae:126.8294, Loss-topo:6.1272\n",
      "Epoch:69, P:None, Loss:124.3943, Loss-ae:118.2036, Loss-topo:6.1907\n",
      "Epoch:70, P:None, Loss:121.6125, Loss-ae:115.4080, Loss-topo:6.2044\n",
      "Epoch:71, P:None, Loss:119.6805, Loss-ae:113.3839, Loss-topo:6.2966\n",
      "Epoch:72, P:None, Loss:125.5631, Loss-ae:119.1900, Loss-topo:6.3732\n",
      "Epoch:73, P:None, Loss:125.0217, Loss-ae:119.3669, Loss-topo:5.6548\n",
      "Epoch:74, P:None, Loss:120.4054, Loss-ae:114.7237, Loss-topo:5.6817\n",
      "Epoch:75, P:None, Loss:119.6456, Loss-ae:114.0181, Loss-topo:5.6275\n",
      "Epoch:76, P:None, Loss:115.5676, Loss-ae:110.4341, Loss-topo:5.1335\n",
      "Epoch:77, P:None, Loss:119.7466, Loss-ae:114.2578, Loss-topo:5.4888\n",
      "Epoch:78, P:None, Loss:119.7320, Loss-ae:114.2628, Loss-topo:5.4692\n",
      "Epoch:79, P:None, Loss:112.7674, Loss-ae:107.5975, Loss-topo:5.1699\n",
      "Epoch:80, P:None, Loss:114.9439, Loss-ae:109.5833, Loss-topo:5.3607\n",
      "Epoch:81, P:None, Loss:114.1652, Loss-ae:108.7894, Loss-topo:5.3758\n",
      "Epoch:82, P:None, Loss:112.0108, Loss-ae:107.1276, Loss-topo:4.8832\n",
      "Epoch:83, P:None, Loss:114.6913, Loss-ae:109.8680, Loss-topo:4.8233\n",
      "Epoch:84, P:None, Loss:113.0630, Loss-ae:108.0209, Loss-topo:5.0420\n",
      "Epoch:85, P:None, Loss:109.3512, Loss-ae:104.5648, Loss-topo:4.7864\n",
      "Epoch:86, P:None, Loss:110.8428, Loss-ae:105.9013, Loss-topo:4.9415\n",
      "Epoch:87, P:None, Loss:112.8706, Loss-ae:107.9012, Loss-topo:4.9694\n",
      "Epoch:88, P:None, Loss:108.8079, Loss-ae:104.2087, Loss-topo:4.5992\n",
      "Epoch:89, P:None, Loss:107.6346, Loss-ae:103.2063, Loss-topo:4.4283\n",
      "Epoch:90, P:None, Loss:109.1692, Loss-ae:104.4649, Loss-topo:4.7043\n",
      "Epoch:91, P:None, Loss:110.6326, Loss-ae:106.2808, Loss-topo:4.3518\n",
      "Epoch:92, P:None, Loss:106.9851, Loss-ae:102.0723, Loss-topo:4.9128\n",
      "Epoch:93, P:None, Loss:107.2246, Loss-ae:102.7110, Loss-topo:4.5136\n",
      "Epoch:94, P:None, Loss:109.4974, Loss-ae:104.7442, Loss-topo:4.7532\n",
      "Epoch:95, P:None, Loss:104.6177, Loss-ae:100.1477, Loss-topo:4.4700\n",
      "Epoch:96, P:None, Loss:107.9305, Loss-ae:103.5609, Loss-topo:4.3696\n",
      "Epoch:97, P:None, Loss:107.1728, Loss-ae:102.7630, Loss-topo:4.4098\n",
      "Epoch:98, P:None, Loss:107.7793, Loss-ae:102.9809, Loss-topo:4.7984\n",
      "Epoch:99, P:None, Loss:101.4991, Loss-ae:97.4262, Loss-topo:4.0729\n",
      "Epoch:100, P:None, Loss:100.8644, Loss-ae:96.6923, Loss-topo:4.1721\n",
      "Epoch:101, P:None, Loss:102.6811, Loss-ae:98.3669, Loss-topo:4.3142\n",
      "Epoch:102, P:None, Loss:105.1561, Loss-ae:100.7466, Loss-topo:4.4095\n",
      "Epoch:103, P:None, Loss:101.0716, Loss-ae:96.8764, Loss-topo:4.1952\n",
      "Epoch:104, P:None, Loss:98.9254, Loss-ae:95.0375, Loss-topo:3.8880\n",
      "Epoch:105, P:None, Loss:96.5856, Loss-ae:92.6465, Loss-topo:3.9392\n",
      "Epoch:106, P:None, Loss:102.0345, Loss-ae:97.4999, Loss-topo:4.5345\n",
      "Epoch:107, P:None, Loss:104.4303, Loss-ae:99.8779, Loss-topo:4.5524\n",
      "Epoch:108, P:None, Loss:99.9448, Loss-ae:95.8270, Loss-topo:4.1178\n",
      "Epoch:109, P:None, Loss:96.6518, Loss-ae:92.3703, Loss-topo:4.2816\n",
      "Epoch:110, P:None, Loss:96.8820, Loss-ae:92.9010, Loss-topo:3.9810\n",
      "Epoch:111, P:None, Loss:99.8188, Loss-ae:95.8505, Loss-topo:3.9683\n",
      "Epoch:112, P:None, Loss:98.4208, Loss-ae:94.6990, Loss-topo:3.7218\n",
      "Epoch:113, P:None, Loss:96.6713, Loss-ae:92.5663, Loss-topo:4.1050\n",
      "Epoch:114, P:None, Loss:93.6609, Loss-ae:89.8788, Loss-topo:3.7821\n",
      "Epoch:115, P:None, Loss:96.0123, Loss-ae:91.8934, Loss-topo:4.1189\n",
      "Epoch:116, P:None, Loss:99.0851, Loss-ae:95.0934, Loss-topo:3.9916\n",
      "Epoch:117, P:None, Loss:96.9219, Loss-ae:92.7690, Loss-topo:4.1529\n",
      "Epoch:118, P:None, Loss:96.5716, Loss-ae:92.7696, Loss-topo:3.8020\n",
      "Epoch:119, P:None, Loss:92.7757, Loss-ae:88.9635, Loss-topo:3.8122\n",
      "Epoch:120, P:None, Loss:92.0263, Loss-ae:88.5554, Loss-topo:3.4709\n",
      "Epoch:121, P:None, Loss:93.0895, Loss-ae:89.6364, Loss-topo:3.4530\n",
      "Epoch:122, P:None, Loss:91.2314, Loss-ae:87.7372, Loss-topo:3.4941\n",
      "Epoch:123, P:None, Loss:90.8180, Loss-ae:87.3543, Loss-topo:3.4636\n",
      "Epoch:124, P:None, Loss:90.4611, Loss-ae:87.0847, Loss-topo:3.3763\n",
      "Epoch:125, P:None, Loss:92.1441, Loss-ae:88.9009, Loss-topo:3.2431\n",
      "Epoch:126, P:None, Loss:89.8480, Loss-ae:86.5637, Loss-topo:3.2843\n",
      "Epoch:127, P:None, Loss:87.3712, Loss-ae:84.2342, Loss-topo:3.1370\n",
      "Epoch:128, P:None, Loss:91.7536, Loss-ae:88.4613, Loss-topo:3.2923\n",
      "Epoch:129, P:None, Loss:89.9528, Loss-ae:86.7944, Loss-topo:3.1584\n",
      "Epoch:130, P:None, Loss:89.8955, Loss-ae:86.5976, Loss-topo:3.2979\n",
      "Epoch:131, P:None, Loss:89.3992, Loss-ae:86.0896, Loss-topo:3.3096\n",
      "Epoch:132, P:None, Loss:86.5793, Loss-ae:83.6640, Loss-topo:2.9153\n",
      "Epoch:133, P:None, Loss:88.1457, Loss-ae:85.0087, Loss-topo:3.1370\n",
      "Epoch:134, P:None, Loss:90.2480, Loss-ae:87.0311, Loss-topo:3.2169\n",
      "Epoch:135, P:None, Loss:88.8625, Loss-ae:86.0566, Loss-topo:2.8058\n",
      "Epoch:136, P:None, Loss:85.5209, Loss-ae:82.6183, Loss-topo:2.9025\n",
      "Epoch:137, P:None, Loss:87.9754, Loss-ae:84.9507, Loss-topo:3.0247\n",
      "Epoch:138, P:None, Loss:88.3730, Loss-ae:85.5324, Loss-topo:2.8405\n",
      "Epoch:139, P:None, Loss:84.9725, Loss-ae:82.3156, Loss-topo:2.6569\n",
      "Epoch:140, P:None, Loss:86.4028, Loss-ae:83.8104, Loss-topo:2.5923\n",
      "Epoch:141, P:None, Loss:91.7855, Loss-ae:88.9039, Loss-topo:2.8816\n",
      "Epoch:142, P:None, Loss:87.8015, Loss-ae:85.0017, Loss-topo:2.7998\n",
      "Epoch:143, P:None, Loss:82.3780, Loss-ae:79.8736, Loss-topo:2.5044\n",
      "Epoch:144, P:None, Loss:86.5779, Loss-ae:84.0548, Loss-topo:2.5231\n",
      "Epoch:145, P:None, Loss:88.5509, Loss-ae:85.8989, Loss-topo:2.6520\n",
      "Epoch:146, P:None, Loss:88.2448, Loss-ae:85.7426, Loss-topo:2.5022\n",
      "Epoch:147, P:None, Loss:88.0865, Loss-ae:85.3917, Loss-topo:2.6948\n",
      "Epoch:148, P:None, Loss:86.0795, Loss-ae:83.4514, Loss-topo:2.6281\n",
      "Epoch:149, P:None, Loss:85.6296, Loss-ae:82.9504, Loss-topo:2.6792\n",
      "Epoch:150, P:None, Loss:84.5946, Loss-ae:82.0938, Loss-topo:2.5008\n",
      "Epoch:151, P:None, Loss:86.5603, Loss-ae:83.9641, Loss-topo:2.5962\n",
      "Epoch:152, P:None, Loss:84.1368, Loss-ae:81.6737, Loss-topo:2.4631\n",
      "Epoch:153, P:None, Loss:84.8605, Loss-ae:82.4918, Loss-topo:2.3687\n",
      "Epoch:154, P:None, Loss:83.7968, Loss-ae:81.2885, Loss-topo:2.5082\n",
      "Epoch:155, P:None, Loss:84.6257, Loss-ae:82.1817, Loss-topo:2.4440\n",
      "Epoch:156, P:None, Loss:83.8744, Loss-ae:81.6432, Loss-topo:2.2312\n",
      "Epoch:157, P:None, Loss:83.2632, Loss-ae:80.9930, Loss-topo:2.2701\n",
      "Epoch:158, P:None, Loss:85.3607, Loss-ae:82.8363, Loss-topo:2.5244\n",
      "Epoch:159, P:None, Loss:86.8961, Loss-ae:84.7024, Loss-topo:2.1937\n",
      "Epoch:160, P:None, Loss:85.2910, Loss-ae:83.2541, Loss-topo:2.0370\n",
      "Epoch:161, P:None, Loss:86.8970, Loss-ae:84.5176, Loss-topo:2.3794\n",
      "Epoch:162, P:None, Loss:81.9057, Loss-ae:79.8726, Loss-topo:2.0330\n",
      "Epoch:163, P:None, Loss:84.4004, Loss-ae:82.0898, Loss-topo:2.3106\n",
      "Epoch:164, P:None, Loss:82.3585, Loss-ae:80.3276, Loss-topo:2.0309\n",
      "Epoch:165, P:None, Loss:82.6287, Loss-ae:80.5425, Loss-topo:2.0863\n",
      "Epoch:166, P:None, Loss:81.9069, Loss-ae:79.7880, Loss-topo:2.1189\n",
      "Epoch:167, P:None, Loss:82.8374, Loss-ae:80.7586, Loss-topo:2.0788\n",
      "Epoch:168, P:None, Loss:85.0586, Loss-ae:83.1034, Loss-topo:1.9552\n",
      "Epoch:169, P:None, Loss:80.2311, Loss-ae:78.2856, Loss-topo:1.9455\n",
      "Epoch:170, P:None, Loss:81.0833, Loss-ae:79.2122, Loss-topo:1.8712\n",
      "Epoch:171, P:None, Loss:82.5763, Loss-ae:80.6764, Loss-topo:1.9000\n",
      "Epoch:172, P:None, Loss:80.7114, Loss-ae:78.9084, Loss-topo:1.8030\n",
      "Epoch:173, P:None, Loss:84.3372, Loss-ae:82.2660, Loss-topo:2.0712\n",
      "Epoch:174, P:None, Loss:81.7197, Loss-ae:79.7579, Loss-topo:1.9619\n",
      "Epoch:175, P:None, Loss:81.2656, Loss-ae:79.2963, Loss-topo:1.9693\n",
      "Epoch:176, P:None, Loss:79.7523, Loss-ae:77.8885, Loss-topo:1.8639\n",
      "Epoch:177, P:None, Loss:83.3477, Loss-ae:81.3999, Loss-topo:1.9477\n",
      "Epoch:178, P:None, Loss:83.6067, Loss-ae:81.6783, Loss-topo:1.9284\n",
      "Epoch:179, P:None, Loss:82.3216, Loss-ae:80.5965, Loss-topo:1.7250\n",
      "Epoch:180, P:None, Loss:82.3472, Loss-ae:80.5846, Loss-topo:1.7626\n",
      "Epoch:181, P:None, Loss:82.0810, Loss-ae:80.1702, Loss-topo:1.9108\n",
      "Epoch:182, P:None, Loss:79.8004, Loss-ae:78.1513, Loss-topo:1.6491\n",
      "Epoch:183, P:None, Loss:81.7072, Loss-ae:79.8104, Loss-topo:1.8968\n",
      "Epoch:184, P:None, Loss:79.1371, Loss-ae:77.4529, Loss-topo:1.6841\n",
      "Epoch:185, P:None, Loss:80.8663, Loss-ae:79.1382, Loss-topo:1.7281\n",
      "Epoch:186, P:None, Loss:78.5965, Loss-ae:76.9363, Loss-topo:1.6602\n",
      "Epoch:187, P:None, Loss:79.8506, Loss-ae:78.0886, Loss-topo:1.7620\n",
      "Epoch:188, P:None, Loss:84.2204, Loss-ae:82.2868, Loss-topo:1.9336\n",
      "Epoch:189, P:None, Loss:83.4386, Loss-ae:81.7475, Loss-topo:1.6911\n",
      "Epoch:190, P:None, Loss:78.7151, Loss-ae:77.1676, Loss-topo:1.5476\n",
      "Epoch:191, P:None, Loss:79.7611, Loss-ae:78.2439, Loss-topo:1.5172\n",
      "Epoch:192, P:None, Loss:81.7967, Loss-ae:79.9725, Loss-topo:1.8243\n",
      "Epoch:193, P:None, Loss:77.8657, Loss-ae:76.4169, Loss-topo:1.4488\n",
      "Epoch:194, P:None, Loss:80.9346, Loss-ae:79.0903, Loss-topo:1.8443\n",
      "Epoch:195, P:None, Loss:80.1744, Loss-ae:78.6617, Loss-topo:1.5127\n",
      "Epoch:196, P:None, Loss:80.9988, Loss-ae:79.4219, Loss-topo:1.5769\n",
      "Epoch:197, P:None, Loss:77.5060, Loss-ae:76.0151, Loss-topo:1.4909\n",
      "Epoch:198, P:None, Loss:80.2575, Loss-ae:78.5033, Loss-topo:1.7543\n",
      "Epoch:199, P:None, Loss:79.5846, Loss-ae:78.0638, Loss-topo:1.5208\n",
      "Epoch:200, P:None, Loss:77.6382, Loss-ae:76.2109, Loss-topo:1.4273\n",
      "Epoch:201, P:None, Loss:78.1352, Loss-ae:76.6817, Loss-topo:1.4535\n",
      "Epoch:202, P:None, Loss:77.7342, Loss-ae:76.3307, Loss-topo:1.4035\n",
      "Epoch:203, P:None, Loss:78.6379, Loss-ae:77.2245, Loss-topo:1.4134\n",
      "Epoch:204, P:None, Loss:80.0116, Loss-ae:78.5509, Loss-topo:1.4607\n",
      "Epoch:205, P:None, Loss:78.9044, Loss-ae:77.5644, Loss-topo:1.3400\n",
      "Epoch:206, P:None, Loss:76.5108, Loss-ae:75.0979, Loss-topo:1.4129\n",
      "Epoch:207, P:None, Loss:80.5048, Loss-ae:79.0937, Loss-topo:1.4110\n",
      "Epoch:208, P:None, Loss:80.2737, Loss-ae:78.7881, Loss-topo:1.4856\n",
      "Epoch:209, P:None, Loss:80.2919, Loss-ae:78.9076, Loss-topo:1.3844\n",
      "Epoch:210, P:None, Loss:78.0024, Loss-ae:76.6400, Loss-topo:1.3624\n",
      "Epoch:211, P:None, Loss:76.8667, Loss-ae:75.5115, Loss-topo:1.3552\n",
      "Epoch:212, P:None, Loss:78.0855, Loss-ae:76.7487, Loss-topo:1.3368\n",
      "Epoch:213, P:None, Loss:79.0883, Loss-ae:77.7080, Loss-topo:1.3803\n",
      "Epoch:214, P:None, Loss:83.8588, Loss-ae:82.3495, Loss-topo:1.5093\n",
      "Epoch:215, P:None, Loss:79.4615, Loss-ae:78.1005, Loss-topo:1.3610\n",
      "Epoch:216, P:None, Loss:75.4859, Loss-ae:74.2285, Loss-topo:1.2574\n",
      "Epoch:217, P:None, Loss:78.5594, Loss-ae:77.0111, Loss-topo:1.5483\n",
      "Epoch:218, P:None, Loss:78.6322, Loss-ae:77.2946, Loss-topo:1.3376\n",
      "Epoch:219, P:None, Loss:77.5314, Loss-ae:76.1795, Loss-topo:1.3519\n",
      "Epoch:220, P:None, Loss:78.9848, Loss-ae:77.7206, Loss-topo:1.2642\n",
      "Epoch:221, P:None, Loss:77.1023, Loss-ae:75.8521, Loss-topo:1.2503\n",
      "Epoch:222, P:None, Loss:79.8996, Loss-ae:78.6142, Loss-topo:1.2854\n",
      "Epoch:223, P:None, Loss:77.6644, Loss-ae:76.3364, Loss-topo:1.3280\n",
      "Epoch:224, P:None, Loss:75.8809, Loss-ae:74.6143, Loss-topo:1.2666\n",
      "Epoch:225, P:None, Loss:77.2481, Loss-ae:76.0308, Loss-topo:1.2174\n",
      "Epoch:226, P:None, Loss:78.0793, Loss-ae:76.8433, Loss-topo:1.2360\n",
      "Epoch:227, P:None, Loss:78.8054, Loss-ae:77.5049, Loss-topo:1.3005\n",
      "Epoch:228, P:None, Loss:76.9375, Loss-ae:75.7874, Loss-topo:1.1501\n",
      "Epoch:229, P:None, Loss:78.1312, Loss-ae:76.7449, Loss-topo:1.3863\n",
      "Epoch:230, P:None, Loss:77.1898, Loss-ae:75.9217, Loss-topo:1.2682\n",
      "Epoch:231, P:None, Loss:79.4524, Loss-ae:78.1203, Loss-topo:1.3322\n",
      "Epoch:232, P:None, Loss:76.5881, Loss-ae:75.4732, Loss-topo:1.1149\n",
      "Epoch:233, P:None, Loss:76.3070, Loss-ae:75.1048, Loss-topo:1.2022\n",
      "Epoch:234, P:None, Loss:77.1702, Loss-ae:76.0317, Loss-topo:1.1385\n",
      "Epoch:235, P:None, Loss:80.2572, Loss-ae:79.0031, Loss-topo:1.2542\n",
      "Epoch:236, P:None, Loss:78.5391, Loss-ae:77.3074, Loss-topo:1.2317\n",
      "Epoch:237, P:None, Loss:75.8726, Loss-ae:74.7548, Loss-topo:1.1178\n",
      "Epoch:238, P:None, Loss:78.3765, Loss-ae:77.0310, Loss-topo:1.3456\n",
      "Epoch:239, P:None, Loss:75.5842, Loss-ae:74.4143, Loss-topo:1.1699\n",
      "Epoch:240, P:None, Loss:74.9199, Loss-ae:73.8562, Loss-topo:1.0637\n",
      "Epoch:241, P:None, Loss:75.0248, Loss-ae:73.9586, Loss-topo:1.0662\n",
      "Epoch:242, P:None, Loss:77.3045, Loss-ae:76.2103, Loss-topo:1.0942\n",
      "Epoch:243, P:None, Loss:75.6219, Loss-ae:74.5195, Loss-topo:1.1023\n",
      "Epoch:244, P:None, Loss:75.4637, Loss-ae:74.4112, Loss-topo:1.0525\n",
      "Epoch:245, P:None, Loss:75.3948, Loss-ae:74.3100, Loss-topo:1.0849\n",
      "Epoch:246, P:None, Loss:75.6971, Loss-ae:74.5730, Loss-topo:1.1241\n",
      "Epoch:247, P:None, Loss:78.6067, Loss-ae:77.3607, Loss-topo:1.2460\n",
      "Epoch:248, P:None, Loss:78.6733, Loss-ae:77.6298, Loss-topo:1.0435\n",
      "Epoch:249, P:None, Loss:77.9731, Loss-ae:76.9617, Loss-topo:1.0114\n",
      "Epoch:250, P:None, Loss:74.4969, Loss-ae:73.4963, Loss-topo:1.0006\n",
      "Epoch:251, P:None, Loss:76.7786, Loss-ae:75.8135, Loss-topo:0.9651\n",
      "Epoch:252, P:None, Loss:73.6898, Loss-ae:72.6884, Loss-topo:1.0014\n",
      "Epoch:253, P:None, Loss:76.7145, Loss-ae:75.7131, Loss-topo:1.0015\n",
      "Epoch:254, P:None, Loss:74.4761, Loss-ae:73.4821, Loss-topo:0.9939\n",
      "Epoch:255, P:None, Loss:73.5950, Loss-ae:72.5770, Loss-topo:1.0180\n",
      "Epoch:256, P:None, Loss:73.9955, Loss-ae:73.0114, Loss-topo:0.9841\n",
      "Epoch:257, P:None, Loss:75.5479, Loss-ae:74.5356, Loss-topo:1.0123\n",
      "Epoch:258, P:None, Loss:74.5833, Loss-ae:73.5802, Loss-topo:1.0031\n",
      "Epoch:259, P:None, Loss:76.3323, Loss-ae:75.3683, Loss-topo:0.9640\n",
      "Epoch:260, P:None, Loss:77.1022, Loss-ae:76.1101, Loss-topo:0.9921\n",
      "Epoch:261, P:None, Loss:78.4171, Loss-ae:77.3571, Loss-topo:1.0600\n",
      "Epoch:262, P:None, Loss:74.6949, Loss-ae:73.6716, Loss-topo:1.0233\n",
      "Epoch:263, P:None, Loss:74.1862, Loss-ae:73.2529, Loss-topo:0.9333\n",
      "Epoch:264, P:None, Loss:75.7703, Loss-ae:74.7299, Loss-topo:1.0403\n",
      "Epoch:265, P:None, Loss:73.6463, Loss-ae:72.7690, Loss-topo:0.8773\n",
      "Epoch:266, P:None, Loss:72.4266, Loss-ae:71.5008, Loss-topo:0.9258\n",
      "Epoch:267, P:None, Loss:74.3700, Loss-ae:73.4919, Loss-topo:0.8781\n",
      "Epoch:268, P:None, Loss:71.7234, Loss-ae:70.9038, Loss-topo:0.8196\n",
      "Epoch:269, P:None, Loss:76.9085, Loss-ae:75.8591, Loss-topo:1.0494\n",
      "Epoch:270, P:None, Loss:74.2476, Loss-ae:73.3119, Loss-topo:0.9357\n",
      "Epoch:271, P:None, Loss:72.8586, Loss-ae:72.0609, Loss-topo:0.7977\n",
      "Epoch:272, P:None, Loss:73.4518, Loss-ae:72.5715, Loss-topo:0.8803\n",
      "Epoch:273, P:None, Loss:73.0112, Loss-ae:72.1312, Loss-topo:0.8800\n",
      "Epoch:274, P:None, Loss:75.4692, Loss-ae:74.5216, Loss-topo:0.9476\n",
      "Epoch:275, P:None, Loss:74.6277, Loss-ae:73.7073, Loss-topo:0.9203\n",
      "Epoch:276, P:None, Loss:75.8176, Loss-ae:74.8528, Loss-topo:0.9648\n",
      "Epoch:277, P:None, Loss:73.5186, Loss-ae:72.6775, Loss-topo:0.8411\n",
      "Epoch:278, P:None, Loss:74.2197, Loss-ae:73.3852, Loss-topo:0.8345\n",
      "Epoch:279, P:None, Loss:74.6067, Loss-ae:73.7540, Loss-topo:0.8527\n",
      "Epoch:280, P:None, Loss:73.9519, Loss-ae:73.1050, Loss-topo:0.8469\n",
      "Epoch:281, P:None, Loss:75.0516, Loss-ae:74.1537, Loss-topo:0.8979\n",
      "Epoch:282, P:None, Loss:75.4001, Loss-ae:74.5594, Loss-topo:0.8408\n",
      "Epoch:283, P:None, Loss:74.2723, Loss-ae:73.4041, Loss-topo:0.8683\n",
      "Epoch:284, P:None, Loss:75.2020, Loss-ae:74.3864, Loss-topo:0.8156\n",
      "Epoch:285, P:None, Loss:71.8538, Loss-ae:71.0464, Loss-topo:0.8075\n",
      "Epoch:286, P:None, Loss:72.9719, Loss-ae:72.0116, Loss-topo:0.9603\n",
      "Epoch:287, P:None, Loss:73.3200, Loss-ae:72.4889, Loss-topo:0.8311\n",
      "Epoch:288, P:None, Loss:71.7708, Loss-ae:70.9664, Loss-topo:0.8044\n",
      "Epoch:289, P:None, Loss:72.9943, Loss-ae:72.1229, Loss-topo:0.8714\n",
      "Epoch:290, P:None, Loss:75.3660, Loss-ae:74.5181, Loss-topo:0.8479\n",
      "Epoch:291, P:None, Loss:71.8805, Loss-ae:71.0980, Loss-topo:0.7825\n",
      "Epoch:292, P:None, Loss:73.1810, Loss-ae:72.3922, Loss-topo:0.7888\n",
      "Epoch:293, P:None, Loss:71.7040, Loss-ae:70.9366, Loss-topo:0.7674\n",
      "Epoch:294, P:None, Loss:75.1662, Loss-ae:74.3542, Loss-topo:0.8120\n",
      "Epoch:295, P:None, Loss:73.0357, Loss-ae:72.2542, Loss-topo:0.7815\n",
      "Epoch:296, P:None, Loss:73.0473, Loss-ae:72.3215, Loss-topo:0.7258\n",
      "Epoch:297, P:None, Loss:72.2057, Loss-ae:71.3657, Loss-topo:0.8400\n",
      "Epoch:298, P:None, Loss:70.7457, Loss-ae:70.0102, Loss-topo:0.7354\n",
      "Epoch:299, P:None, Loss:74.5337, Loss-ae:73.6962, Loss-topo:0.8375\n",
      "Epoch:300, P:None, Loss:71.7339, Loss-ae:70.9734, Loss-topo:0.7606\n",
      "Epoch:301, P:None, Loss:75.2420, Loss-ae:74.4741, Loss-topo:0.7679\n",
      "Epoch:302, P:None, Loss:70.7379, Loss-ae:69.9847, Loss-topo:0.7532\n",
      "Epoch:303, P:None, Loss:73.9013, Loss-ae:73.1278, Loss-topo:0.7736\n",
      "Epoch:304, P:None, Loss:70.6203, Loss-ae:69.9160, Loss-topo:0.7043\n",
      "Epoch:305, P:None, Loss:72.7122, Loss-ae:71.9519, Loss-topo:0.7602\n",
      "Epoch:306, P:None, Loss:70.2933, Loss-ae:69.5698, Loss-topo:0.7234\n",
      "Epoch:307, P:None, Loss:74.2580, Loss-ae:73.4977, Loss-topo:0.7604\n",
      "Epoch:308, P:None, Loss:72.0936, Loss-ae:71.3135, Loss-topo:0.7801\n",
      "Epoch:309, P:None, Loss:76.2220, Loss-ae:75.5022, Loss-topo:0.7198\n",
      "Epoch:310, P:None, Loss:71.8758, Loss-ae:71.1525, Loss-topo:0.7232\n",
      "Epoch:311, P:None, Loss:74.0999, Loss-ae:73.2944, Loss-topo:0.8055\n",
      "Epoch:312, P:None, Loss:73.5067, Loss-ae:72.7402, Loss-topo:0.7665\n",
      "Epoch:313, P:None, Loss:71.7775, Loss-ae:71.0750, Loss-topo:0.7025\n",
      "Epoch:314, P:None, Loss:71.6913, Loss-ae:70.9190, Loss-topo:0.7723\n",
      "Epoch:315, P:None, Loss:69.7462, Loss-ae:69.0787, Loss-topo:0.6675\n",
      "Epoch:316, P:None, Loss:73.2848, Loss-ae:72.5616, Loss-topo:0.7232\n",
      "Epoch:317, P:None, Loss:70.3969, Loss-ae:69.6458, Loss-topo:0.7511\n",
      "Epoch:318, P:None, Loss:70.5559, Loss-ae:69.8148, Loss-topo:0.7411\n",
      "Epoch:319, P:None, Loss:69.4008, Loss-ae:68.7471, Loss-topo:0.6537\n",
      "Epoch:320, P:None, Loss:71.4407, Loss-ae:70.7719, Loss-topo:0.6688\n",
      "Epoch:321, P:None, Loss:72.3198, Loss-ae:71.6876, Loss-topo:0.6322\n",
      "Epoch:322, P:None, Loss:73.4462, Loss-ae:72.7136, Loss-topo:0.7326\n",
      "Epoch:323, P:None, Loss:71.1880, Loss-ae:70.5044, Loss-topo:0.6837\n",
      "Epoch:324, P:None, Loss:72.5639, Loss-ae:71.8618, Loss-topo:0.7021\n",
      "Epoch:325, P:None, Loss:75.6020, Loss-ae:74.9341, Loss-topo:0.6679\n",
      "Epoch:326, P:None, Loss:70.1593, Loss-ae:69.5468, Loss-topo:0.6125\n",
      "Epoch:327, P:None, Loss:71.3605, Loss-ae:70.6971, Loss-topo:0.6634\n",
      "Epoch:328, P:None, Loss:73.3120, Loss-ae:72.5933, Loss-topo:0.7187\n",
      "Epoch:329, P:None, Loss:71.1997, Loss-ae:70.5409, Loss-topo:0.6588\n",
      "Epoch:330, P:None, Loss:71.3424, Loss-ae:70.7203, Loss-topo:0.6222\n",
      "Epoch:331, P:None, Loss:70.7490, Loss-ae:70.1106, Loss-topo:0.6384\n",
      "Epoch:332, P:None, Loss:71.3805, Loss-ae:70.7532, Loss-topo:0.6274\n",
      "Epoch:333, P:None, Loss:73.2416, Loss-ae:72.6102, Loss-topo:0.6314\n",
      "Epoch:334, P:None, Loss:73.2196, Loss-ae:72.5873, Loss-topo:0.6323\n",
      "Epoch:335, P:None, Loss:68.9341, Loss-ae:68.2649, Loss-topo:0.6692\n",
      "Epoch:336, P:None, Loss:69.0126, Loss-ae:68.4007, Loss-topo:0.6119\n",
      "Epoch:337, P:None, Loss:70.0284, Loss-ae:69.4684, Loss-topo:0.5601\n",
      "Epoch:338, P:None, Loss:73.6618, Loss-ae:73.0052, Loss-topo:0.6566\n",
      "Epoch:339, P:None, Loss:71.9681, Loss-ae:71.3486, Loss-topo:0.6195\n",
      "Epoch:340, P:None, Loss:70.9768, Loss-ae:70.3494, Loss-topo:0.6273\n",
      "Epoch:341, P:None, Loss:69.7690, Loss-ae:69.1741, Loss-topo:0.5949\n",
      "Epoch:342, P:None, Loss:70.2939, Loss-ae:69.6621, Loss-topo:0.6319\n",
      "Epoch:343, P:None, Loss:69.5962, Loss-ae:69.0040, Loss-topo:0.5923\n",
      "Epoch:344, P:None, Loss:71.1992, Loss-ae:70.5313, Loss-topo:0.6679\n",
      "Epoch:345, P:None, Loss:71.7445, Loss-ae:71.1408, Loss-topo:0.6037\n",
      "Epoch:346, P:None, Loss:69.3605, Loss-ae:68.7763, Loss-topo:0.5842\n",
      "Epoch:347, P:None, Loss:71.8633, Loss-ae:71.2287, Loss-topo:0.6345\n",
      "Epoch:348, P:None, Loss:71.1521, Loss-ae:70.5282, Loss-topo:0.6239\n",
      "Epoch:349, P:None, Loss:67.1865, Loss-ae:66.6199, Loss-topo:0.5666\n",
      "Epoch:350, P:None, Loss:70.2712, Loss-ae:69.6782, Loss-topo:0.5930\n",
      "Epoch:351, P:None, Loss:71.1946, Loss-ae:70.5558, Loss-topo:0.6388\n",
      "Epoch:352, P:None, Loss:70.8358, Loss-ae:70.2468, Loss-topo:0.5890\n",
      "Epoch:353, P:None, Loss:69.5484, Loss-ae:68.9494, Loss-topo:0.5990\n",
      "Epoch:354, P:None, Loss:68.2945, Loss-ae:67.7754, Loss-topo:0.5191\n",
      "Epoch:355, P:None, Loss:68.7148, Loss-ae:68.1769, Loss-topo:0.5379\n",
      "Epoch:356, P:None, Loss:71.0693, Loss-ae:70.5114, Loss-topo:0.5579\n",
      "Epoch:357, P:None, Loss:69.3889, Loss-ae:68.7786, Loss-topo:0.6102\n",
      "Epoch:358, P:None, Loss:70.2186, Loss-ae:69.6379, Loss-topo:0.5806\n",
      "Epoch:359, P:None, Loss:69.0977, Loss-ae:68.5065, Loss-topo:0.5912\n",
      "Epoch:360, P:None, Loss:71.3143, Loss-ae:70.7653, Loss-topo:0.5489\n",
      "Epoch:361, P:None, Loss:69.4371, Loss-ae:68.8673, Loss-topo:0.5697\n",
      "Epoch:362, P:None, Loss:68.9302, Loss-ae:68.3440, Loss-topo:0.5862\n",
      "Epoch:363, P:None, Loss:72.8890, Loss-ae:72.2750, Loss-topo:0.6140\n",
      "Epoch:364, P:None, Loss:67.0285, Loss-ae:66.5552, Loss-topo:0.4733\n",
      "Epoch:365, P:None, Loss:71.0900, Loss-ae:70.5097, Loss-topo:0.5803\n",
      "Epoch:366, P:None, Loss:71.9066, Loss-ae:71.4088, Loss-topo:0.4978\n",
      "Epoch:367, P:None, Loss:68.6479, Loss-ae:68.1141, Loss-topo:0.5338\n",
      "Epoch:368, P:None, Loss:68.8084, Loss-ae:68.2707, Loss-topo:0.5377\n",
      "Epoch:369, P:None, Loss:71.4275, Loss-ae:70.8654, Loss-topo:0.5622\n",
      "Epoch:370, P:None, Loss:68.5987, Loss-ae:68.1056, Loss-topo:0.4932\n",
      "Epoch:371, P:None, Loss:70.0877, Loss-ae:69.5355, Loss-topo:0.5523\n",
      "Epoch:372, P:None, Loss:71.0149, Loss-ae:70.4380, Loss-topo:0.5770\n",
      "Epoch:373, P:None, Loss:67.3285, Loss-ae:66.8478, Loss-topo:0.4808\n",
      "Epoch:374, P:None, Loss:65.6447, Loss-ae:65.1736, Loss-topo:0.4712\n",
      "Epoch:375, P:None, Loss:70.4460, Loss-ae:69.9111, Loss-topo:0.5349\n",
      "Epoch:376, P:None, Loss:71.4292, Loss-ae:70.8991, Loss-topo:0.5301\n",
      "Epoch:377, P:None, Loss:69.0188, Loss-ae:68.5020, Loss-topo:0.5168\n",
      "Epoch:378, P:None, Loss:68.8674, Loss-ae:68.3155, Loss-topo:0.5519\n",
      "Epoch:379, P:None, Loss:70.1118, Loss-ae:69.5944, Loss-topo:0.5174\n",
      "Epoch:380, P:None, Loss:72.1917, Loss-ae:71.6501, Loss-topo:0.5416\n",
      "Epoch:381, P:None, Loss:69.1693, Loss-ae:68.7159, Loss-topo:0.4534\n",
      "Epoch:382, P:None, Loss:70.3987, Loss-ae:69.9140, Loss-topo:0.4848\n",
      "Epoch:383, P:None, Loss:69.7008, Loss-ae:69.1901, Loss-topo:0.5106\n",
      "Epoch:384, P:None, Loss:67.4020, Loss-ae:66.9129, Loss-topo:0.4891\n",
      "Epoch:385, P:None, Loss:69.7733, Loss-ae:69.2854, Loss-topo:0.4878\n",
      "Epoch:386, P:None, Loss:69.5856, Loss-ae:69.1363, Loss-topo:0.4494\n",
      "Epoch:387, P:None, Loss:67.6422, Loss-ae:67.2085, Loss-topo:0.4337\n",
      "Epoch:388, P:None, Loss:71.3587, Loss-ae:70.8374, Loss-topo:0.5213\n",
      "Epoch:389, P:None, Loss:69.1055, Loss-ae:68.6352, Loss-topo:0.4703\n",
      "Epoch:390, P:None, Loss:69.0681, Loss-ae:68.5807, Loss-topo:0.4874\n",
      "Epoch:391, P:None, Loss:67.4024, Loss-ae:66.9341, Loss-topo:0.4683\n",
      "Epoch:392, P:None, Loss:71.0471, Loss-ae:70.5111, Loss-topo:0.5360\n",
      "Epoch:393, P:None, Loss:69.5342, Loss-ae:69.0632, Loss-topo:0.4710\n",
      "Epoch:394, P:None, Loss:68.1168, Loss-ae:67.6252, Loss-topo:0.4916\n",
      "Epoch:395, P:None, Loss:68.7899, Loss-ae:68.3084, Loss-topo:0.4815\n",
      "Epoch:396, P:None, Loss:68.3134, Loss-ae:67.8526, Loss-topo:0.4608\n",
      "Epoch:397, P:None, Loss:69.9058, Loss-ae:69.3863, Loss-topo:0.5195\n",
      "Epoch:398, P:None, Loss:72.2056, Loss-ae:71.7182, Loss-topo:0.4874\n",
      "Epoch:399, P:None, Loss:67.9764, Loss-ae:67.5451, Loss-topo:0.4313\n",
      "Epoch:400, P:None, Loss:66.2389, Loss-ae:65.7967, Loss-topo:0.4423\n",
      "Epoch:401, P:None, Loss:70.6430, Loss-ae:70.1624, Loss-topo:0.4806\n",
      "Epoch:402, P:None, Loss:70.9751, Loss-ae:70.5618, Loss-topo:0.4133\n",
      "Epoch:403, P:None, Loss:66.9642, Loss-ae:66.5617, Loss-topo:0.4026\n",
      "Epoch:404, P:None, Loss:67.5407, Loss-ae:67.1268, Loss-topo:0.4139\n",
      "Epoch:405, P:None, Loss:67.7768, Loss-ae:67.3290, Loss-topo:0.4478\n",
      "Epoch:406, P:None, Loss:67.7281, Loss-ae:67.3516, Loss-topo:0.3766\n",
      "Epoch:407, P:None, Loss:71.0018, Loss-ae:70.5391, Loss-topo:0.4628\n",
      "Epoch:408, P:None, Loss:67.1634, Loss-ae:66.7582, Loss-topo:0.4052\n",
      "Epoch:409, P:None, Loss:68.1162, Loss-ae:67.6854, Loss-topo:0.4308\n",
      "Epoch:410, P:None, Loss:67.9635, Loss-ae:67.5413, Loss-topo:0.4222\n",
      "Epoch:411, P:None, Loss:67.8912, Loss-ae:67.4971, Loss-topo:0.3940\n",
      "Epoch:412, P:None, Loss:67.1511, Loss-ae:66.7515, Loss-topo:0.3996\n",
      "Epoch:413, P:None, Loss:69.5601, Loss-ae:69.1281, Loss-topo:0.4321\n",
      "Epoch:414, P:None, Loss:68.6232, Loss-ae:68.2024, Loss-topo:0.4207\n",
      "Epoch:415, P:None, Loss:68.4526, Loss-ae:68.0350, Loss-topo:0.4176\n",
      "Epoch:416, P:None, Loss:68.4786, Loss-ae:68.0750, Loss-topo:0.4036\n",
      "Epoch:417, P:None, Loss:68.3951, Loss-ae:68.0078, Loss-topo:0.3873\n",
      "Epoch:418, P:None, Loss:70.6965, Loss-ae:70.2736, Loss-topo:0.4229\n",
      "Epoch:419, P:None, Loss:67.8053, Loss-ae:67.4022, Loss-topo:0.4031\n",
      "Epoch:420, P:None, Loss:69.2909, Loss-ae:68.8852, Loss-topo:0.4057\n",
      "Epoch:421, P:None, Loss:68.4307, Loss-ae:68.0358, Loss-topo:0.3949\n",
      "Epoch:422, P:None, Loss:69.4982, Loss-ae:69.0911, Loss-topo:0.4071\n",
      "Epoch:423, P:None, Loss:66.6169, Loss-ae:66.2400, Loss-topo:0.3769\n",
      "Epoch:424, P:None, Loss:69.5294, Loss-ae:69.1450, Loss-topo:0.3844\n",
      "Epoch:425, P:None, Loss:66.7095, Loss-ae:66.3115, Loss-topo:0.3980\n",
      "Epoch:426, P:None, Loss:69.3638, Loss-ae:68.9913, Loss-topo:0.3725\n",
      "Epoch:427, P:None, Loss:67.0891, Loss-ae:66.6421, Loss-topo:0.4470\n",
      "Epoch:428, P:None, Loss:69.2917, Loss-ae:68.9244, Loss-topo:0.3673\n",
      "Epoch:429, P:None, Loss:67.1789, Loss-ae:66.8011, Loss-topo:0.3778\n",
      "Epoch:430, P:None, Loss:66.8447, Loss-ae:66.4855, Loss-topo:0.3591\n",
      "Epoch:431, P:None, Loss:69.4920, Loss-ae:69.1110, Loss-topo:0.3810\n",
      "Epoch:432, P:None, Loss:67.2681, Loss-ae:66.8990, Loss-topo:0.3691\n",
      "Epoch:433, P:None, Loss:68.5599, Loss-ae:68.1627, Loss-topo:0.3973\n",
      "Epoch:434, P:None, Loss:67.4178, Loss-ae:67.0576, Loss-topo:0.3603\n",
      "Epoch:435, P:None, Loss:64.4145, Loss-ae:64.0902, Loss-topo:0.3243\n",
      "Epoch:436, P:None, Loss:67.2537, Loss-ae:66.9245, Loss-topo:0.3292\n",
      "Epoch:437, P:None, Loss:67.2985, Loss-ae:66.9427, Loss-topo:0.3558\n",
      "Epoch:438, P:None, Loss:66.2566, Loss-ae:65.8980, Loss-topo:0.3586\n",
      "Epoch:439, P:None, Loss:68.8790, Loss-ae:68.5220, Loss-topo:0.3570\n",
      "Epoch:440, P:None, Loss:69.0393, Loss-ae:68.6595, Loss-topo:0.3798\n",
      "Epoch:441, P:None, Loss:68.0698, Loss-ae:67.7089, Loss-topo:0.3609\n",
      "Epoch:442, P:None, Loss:67.9511, Loss-ae:67.5994, Loss-topo:0.3517\n",
      "Epoch:443, P:None, Loss:68.5324, Loss-ae:68.1822, Loss-topo:0.3502\n",
      "Epoch:444, P:None, Loss:69.2603, Loss-ae:68.9369, Loss-topo:0.3234\n",
      "Epoch:445, P:None, Loss:67.0507, Loss-ae:66.7241, Loss-topo:0.3267\n",
      "Epoch:446, P:None, Loss:67.3226, Loss-ae:66.9967, Loss-topo:0.3259\n",
      "Epoch:447, P:None, Loss:68.2945, Loss-ae:67.9471, Loss-topo:0.3474\n",
      "Epoch:448, P:None, Loss:67.5229, Loss-ae:67.2073, Loss-topo:0.3156\n",
      "Epoch:449, P:None, Loss:68.0495, Loss-ae:67.7017, Loss-topo:0.3478\n",
      "Epoch:450, P:None, Loss:70.3087, Loss-ae:69.9828, Loss-topo:0.3258\n",
      "Epoch:451, P:None, Loss:67.4501, Loss-ae:67.1107, Loss-topo:0.3394\n",
      "Epoch:452, P:None, Loss:70.1190, Loss-ae:69.7823, Loss-topo:0.3367\n",
      "Epoch:453, P:None, Loss:70.8620, Loss-ae:70.5164, Loss-topo:0.3456\n",
      "Epoch:454, P:None, Loss:66.4693, Loss-ae:66.1446, Loss-topo:0.3247\n",
      "Epoch:455, P:None, Loss:67.9794, Loss-ae:67.6403, Loss-topo:0.3391\n",
      "Epoch:456, P:None, Loss:66.6054, Loss-ae:66.2907, Loss-topo:0.3147\n",
      "Epoch:457, P:None, Loss:66.8899, Loss-ae:66.5954, Loss-topo:0.2945\n",
      "Epoch:458, P:None, Loss:69.5994, Loss-ae:69.2869, Loss-topo:0.3126\n",
      "Epoch:459, P:None, Loss:67.8310, Loss-ae:67.4890, Loss-topo:0.3420\n",
      "Epoch:460, P:None, Loss:69.6158, Loss-ae:69.2707, Loss-topo:0.3450\n",
      "Epoch:461, P:None, Loss:67.2547, Loss-ae:66.9403, Loss-topo:0.3145\n",
      "Epoch:462, P:None, Loss:64.5857, Loss-ae:64.3038, Loss-topo:0.2819\n",
      "Epoch:463, P:None, Loss:66.1161, Loss-ae:65.8245, Loss-topo:0.2916\n",
      "Epoch:464, P:None, Loss:65.9222, Loss-ae:65.6253, Loss-topo:0.2969\n",
      "Epoch:465, P:None, Loss:65.7417, Loss-ae:65.4686, Loss-topo:0.2731\n",
      "Epoch:466, P:None, Loss:65.6200, Loss-ae:65.3569, Loss-topo:0.2630\n",
      "Epoch:467, P:None, Loss:67.0451, Loss-ae:66.7630, Loss-topo:0.2822\n",
      "Epoch:468, P:None, Loss:67.0482, Loss-ae:66.7554, Loss-topo:0.2928\n",
      "Epoch:469, P:None, Loss:67.0777, Loss-ae:66.7722, Loss-topo:0.3056\n",
      "Epoch:470, P:None, Loss:65.8252, Loss-ae:65.5351, Loss-topo:0.2901\n",
      "Epoch:471, P:None, Loss:66.4733, Loss-ae:66.1668, Loss-topo:0.3065\n",
      "Epoch:472, P:None, Loss:66.8440, Loss-ae:66.5587, Loss-topo:0.2853\n",
      "Epoch:473, P:None, Loss:69.6734, Loss-ae:69.3325, Loss-topo:0.3409\n",
      "Epoch:474, P:None, Loss:66.0367, Loss-ae:65.7740, Loss-topo:0.2627\n",
      "Epoch:475, P:None, Loss:66.9566, Loss-ae:66.6428, Loss-topo:0.3138\n",
      "Epoch:476, P:None, Loss:67.8496, Loss-ae:67.5559, Loss-topo:0.2937\n",
      "Epoch:477, P:None, Loss:68.8463, Loss-ae:68.5479, Loss-topo:0.2984\n",
      "Epoch:478, P:None, Loss:65.6762, Loss-ae:65.4190, Loss-topo:0.2571\n",
      "Epoch:479, P:None, Loss:66.9404, Loss-ae:66.6489, Loss-topo:0.2916\n",
      "Epoch:480, P:None, Loss:66.5604, Loss-ae:66.3029, Loss-topo:0.2576\n",
      "Epoch:481, P:None, Loss:70.5246, Loss-ae:70.2282, Loss-topo:0.2965\n",
      "Epoch:482, P:None, Loss:68.2047, Loss-ae:67.9390, Loss-topo:0.2657\n"
     ]
    }
   ],
   "source": [
    "import pickle\n",
    "\n",
    "# Variables to reuse\n",
    "save_id = 3\n",
    "model_name = 'ConvolutionalAutoencoder_custom_dim3'\n",
    "model_dim = 10\n",
    "model_epc = 500\n",
    "model_lams = [1, 10, 100, 1000]\n",
    "\n",
    "for model_lam in model_lams:\n",
    "    # Training model\n",
    "    topo_reducer = CustomTopoDimRedTransform(\n",
    "        model_name=model_name,\n",
    "        model_lambda=model_lam,\n",
    "        patience=None,\n",
    "        num_epochs=model_epc,\n",
    "        from_dim=180,\n",
    "        to_dim=model_dim\n",
    "    )\n",
    "\n",
    "    title_plot = \"MotionSense 20Hz\\nTopoAE lambda {}\".format(model_lam)\n",
    "    topo_reducer.fit(train_HD, train_Y, title_plot=title_plot)\n",
    "\n",
    "    # Variables to reuse\n",
    "    filename = 'data/{}_{}_{}_{}_{}.pkl'.format(model_name, model_lam, model_dim, model_epc, save_id)\n",
    "\n",
    "    filehandler = open(filename, 'wb')\n",
    "    pickle.dump(topo_reducer, filehandler)\n",
    "    filehandler.close()"
   ]
  }
 ],
 "metadata": {
  "kernelspec": {
   "display_name": "Python 3 (ipykernel)",
   "language": "python",
   "name": "python3"
  },
  "language_info": {
   "codemirror_mode": {
    "name": "ipython",
    "version": 3
   },
   "file_extension": ".py",
   "mimetype": "text/x-python",
   "name": "python",
   "nbconvert_exporter": "python",
   "pygments_lexer": "ipython3",
   "version": "3.8.10"
  }
 },
 "nbformat": 4,
 "nbformat_minor": 5
}
