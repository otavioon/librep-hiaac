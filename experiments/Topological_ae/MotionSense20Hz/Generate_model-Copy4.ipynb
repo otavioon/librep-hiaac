{
 "cells": [
  {
   "cell_type": "code",
   "execution_count": 1,
   "id": "7e1630ed-63c8-4ee7-86c9-62dfb528b9a2",
   "metadata": {
    "execution": {
     "iopub.execute_input": "2022-11-29T02:19:41.537616Z",
     "iopub.status.busy": "2022-11-29T02:19:41.537200Z",
     "iopub.status.idle": "2022-11-29T02:19:41.571957Z",
     "shell.execute_reply": "2022-11-29T02:19:41.570400Z",
     "shell.execute_reply.started": "2022-11-29T02:19:41.537576Z"
    }
   },
   "outputs": [],
   "source": [
    "%load_ext autoreload\n",
    "%autoreload 2"
   ]
  },
  {
   "cell_type": "code",
   "execution_count": 2,
   "id": "fedad853",
   "metadata": {
    "execution": {
     "iopub.execute_input": "2022-11-29T02:19:41.574635Z",
     "iopub.status.busy": "2022-11-29T02:19:41.573984Z",
     "iopub.status.idle": "2022-11-29T02:19:41.624666Z",
     "shell.execute_reply": "2022-11-29T02:19:41.623071Z",
     "shell.execute_reply.started": "2022-11-29T02:19:41.574583Z"
    }
   },
   "outputs": [],
   "source": [
    "import os\n",
    "os.environ[\"CUDA_VISIBLE_DEVICES\"] = \"0\""
   ]
  },
  {
   "cell_type": "code",
   "execution_count": 3,
   "id": "c1e18129",
   "metadata": {
    "execution": {
     "iopub.execute_input": "2022-11-29T02:19:41.627001Z",
     "iopub.status.busy": "2022-11-29T02:19:41.626400Z",
     "iopub.status.idle": "2022-11-29T02:19:44.344820Z",
     "shell.execute_reply": "2022-11-29T02:19:44.343426Z",
     "shell.execute_reply.started": "2022-11-29T02:19:41.626961Z"
    }
   },
   "outputs": [
    {
     "name": "stdout",
     "output_type": "stream",
     "text": [
      "True\n",
      "1\n",
      "0\n",
      "<torch.cuda.device object at 0x7fe4b46c68e0>\n",
      "NVIDIA TITAN Xp\n"
     ]
    }
   ],
   "source": [
    "import torch\n",
    "print(torch.cuda.is_available()) # True\n",
    "print(torch.cuda.device_count()) # 1\n",
    "print(torch.cuda.current_device()) # 0\n",
    "print(torch.cuda.device(0)) # <torch.cuda.device at 0x7efce0b03be0>\n",
    "print(torch.cuda.get_device_name(0)) # 'GeForce GTX 950M'"
   ]
  },
  {
   "cell_type": "code",
   "execution_count": 4,
   "id": "2da911e3-e82f-47c9-8090-f71f453956ee",
   "metadata": {
    "execution": {
     "iopub.execute_input": "2022-11-29T02:19:44.347298Z",
     "iopub.status.busy": "2022-11-29T02:19:44.346551Z",
     "iopub.status.idle": "2022-11-29T02:19:44.385961Z",
     "shell.execute_reply": "2022-11-29T02:19:44.384359Z",
     "shell.execute_reply.started": "2022-11-29T02:19:44.347256Z"
    }
   },
   "outputs": [],
   "source": [
    "import sys\n",
    "sys.path.append(\"../../..\")"
   ]
  },
  {
   "cell_type": "code",
   "execution_count": 5,
   "id": "5f067405-ab8c-4f22-b056-ab9e1febe71c",
   "metadata": {
    "execution": {
     "iopub.execute_input": "2022-11-29T02:19:44.388395Z",
     "iopub.status.busy": "2022-11-29T02:19:44.387715Z",
     "iopub.status.idle": "2022-11-29T02:19:46.299263Z",
     "shell.execute_reply": "2022-11-29T02:19:46.297399Z",
     "shell.execute_reply.started": "2022-11-29T02:19:44.388348Z"
    }
   },
   "outputs": [],
   "source": [
    "import numpy as np\n",
    "import pandas as pd\n",
    "import matplotlib.pyplot as plt"
   ]
  },
  {
   "cell_type": "code",
   "execution_count": 6,
   "id": "cc5007e3-ef19-4658-ac7d-2a6f617bb9c6",
   "metadata": {
    "execution": {
     "iopub.execute_input": "2022-11-29T02:19:46.301884Z",
     "iopub.status.busy": "2022-11-29T02:19:46.301140Z",
     "iopub.status.idle": "2022-11-29T02:19:58.084738Z",
     "shell.execute_reply": "2022-11-29T02:19:58.082901Z",
     "shell.execute_reply.started": "2022-11-29T02:19:46.301835Z"
    }
   },
   "outputs": [
    {
     "name": "stderr",
     "output_type": "stream",
     "text": [
      "2022-11-29 02:19:55.156093: I tensorflow/core/platform/cpu_feature_guard.cc:193] This TensorFlow binary is optimized with oneAPI Deep Neural Network Library (oneDNN) to use the following CPU instructions in performance-critical operations:  AVX2 AVX512F FMA\n",
      "To enable them in other operations, rebuild TensorFlow with the appropriate compiler flags.\n",
      "2022-11-29 02:19:56.815959: W tensorflow/compiler/xla/stream_executor/platform/default/dso_loader.cc:64] Could not load dynamic library 'libnvinfer.so.7'; dlerror: libnvinfer.so.7: cannot open shared object file: No such file or directory\n",
      "2022-11-29 02:19:56.816082: W tensorflow/compiler/xla/stream_executor/platform/default/dso_loader.cc:64] Could not load dynamic library 'libnvinfer_plugin.so.7'; dlerror: libnvinfer_plugin.so.7: cannot open shared object file: No such file or directory\n",
      "2022-11-29 02:19:56.816099: W tensorflow/compiler/tf2tensorrt/utils/py_utils.cc:38] TF-TRT Warning: Cannot dlopen some TensorRT libraries. If you would like to use Nvidia GPU with TensorRT, please make sure the missing libraries mentioned above are installed properly.\n"
     ]
    }
   ],
   "source": [
    "from librep.datasets.har.loaders import (\n",
    "    MotionSense_BalancedView20HZ\n",
    ")"
   ]
  },
  {
   "cell_type": "code",
   "execution_count": 7,
   "id": "2f9f66b2-7b1c-4d4e-a0e3-cde9552a595a",
   "metadata": {
    "execution": {
     "iopub.execute_input": "2022-11-29T02:19:58.090418Z",
     "iopub.status.busy": "2022-11-29T02:19:58.089731Z",
     "iopub.status.idle": "2022-11-29T02:19:58.200614Z",
     "shell.execute_reply": "2022-11-29T02:19:58.198807Z",
     "shell.execute_reply.started": "2022-11-29T02:19:58.090378Z"
    }
   },
   "outputs": [],
   "source": [
    "from librep.transforms.topo_ae import (\n",
    "    TopologicalDimensionalityReduction,\n",
    "    CustomTopoDimRedTransform\n",
    ")\n",
    "from librep.transforms import UMAP\n",
    "from sklearn.manifold import TSNE\n",
    "from experiments.Topological_ae.Experiment_utils import *\n",
    "from librep.datasets.multimodal import TransformMultiModalDataset\n",
    "from librep.transforms.fft import FFT"
   ]
  },
  {
   "cell_type": "code",
   "execution_count": 8,
   "id": "85bea424-07ff-47ec-945a-aef385afe7a7",
   "metadata": {
    "execution": {
     "iopub.execute_input": "2022-11-29T02:19:58.203155Z",
     "iopub.status.busy": "2022-11-29T02:19:58.202638Z",
     "iopub.status.idle": "2022-11-29T02:19:58.291847Z",
     "shell.execute_reply": "2022-11-29T02:19:58.290108Z",
     "shell.execute_reply.started": "2022-11-29T02:19:58.203110Z"
    }
   },
   "outputs": [],
   "source": [
    "# MotionSense Loader\n",
    "loader = MotionSense_BalancedView20HZ(\n",
    "    root_dir=\"../../../data/views/MotionSense/balanced_view_20Hz_with_gravity_9.81_acc_standard\", \n",
    "    download=False\n",
    ")"
   ]
  },
  {
   "cell_type": "code",
   "execution_count": 9,
   "id": "3d817b0c-4e6b-4227-9b48-cd23c3df190d",
   "metadata": {
    "execution": {
     "iopub.execute_input": "2022-11-29T02:19:58.294063Z",
     "iopub.status.busy": "2022-11-29T02:19:58.293534Z",
     "iopub.status.idle": "2022-11-29T02:19:59.108162Z",
     "shell.execute_reply": "2022-11-29T02:19:59.106400Z",
     "shell.execute_reply.started": "2022-11-29T02:19:58.294027Z"
    }
   },
   "outputs": [
    {
     "data": {
      "text/plain": [
       "(PandasMultiModalDataset: samples=4020, features=360, no. window=6, label_columns='standard activity code',\n",
       " PandasMultiModalDataset: samples=1020, features=360, no. window=6, label_columns='standard activity code')"
      ]
     },
     "execution_count": 9,
     "metadata": {},
     "output_type": "execute_result"
    }
   ],
   "source": [
    "# Load the dataset\n",
    "train_val, test = loader.load(concat_train_validation=True, label=loader.standard_label)\n",
    "train_val, test"
   ]
  },
  {
   "cell_type": "code",
   "execution_count": 10,
   "id": "9491b1e0-0b60-439c-9bed-ea0ee7918b68",
   "metadata": {
    "execution": {
     "iopub.execute_input": "2022-11-29T02:19:59.110697Z",
     "iopub.status.busy": "2022-11-29T02:19:59.110054Z",
     "iopub.status.idle": "2022-11-29T02:19:59.243863Z",
     "shell.execute_reply": "2022-11-29T02:19:59.241953Z",
     "shell.execute_reply.started": "2022-11-29T02:19:59.110651Z"
    }
   },
   "outputs": [],
   "source": [
    "train_HD = np.array(train_val[:][0])\n",
    "train_LD = None\n",
    "train_Y = np.array(train_val[:][1])\n",
    "test_HD = np.array(test[:][0])\n",
    "test_LD = None\n",
    "test_Y = np.array(test[:][1])"
   ]
  },
  {
   "cell_type": "code",
   "execution_count": 11,
   "id": "cc4810ac-c560-4b23-9b72-481a2d0f1a91",
   "metadata": {
    "execution": {
     "iopub.execute_input": "2022-11-29T02:19:59.246893Z",
     "iopub.status.busy": "2022-11-29T02:19:59.245851Z",
     "iopub.status.idle": "2022-11-29T02:19:59.356397Z",
     "shell.execute_reply": "2022-11-29T02:19:59.354837Z",
     "shell.execute_reply.started": "2022-11-29T02:19:59.246847Z"
    }
   },
   "outputs": [
    {
     "name": "stdout",
     "output_type": "stream",
     "text": [
      "(4020, 360) (4020,) (1020, 360) (1020,)\n"
     ]
    }
   ],
   "source": [
    "print(train_HD.shape, train_Y.shape, test_HD.shape, test_Y.shape)"
   ]
  },
  {
   "cell_type": "markdown",
   "id": "4c93d061-6ea0-418b-b690-2d977f6297c9",
   "metadata": {},
   "source": [
    "# Aplicar FFT"
   ]
  },
  {
   "cell_type": "code",
   "execution_count": 12,
   "id": "e5255de5-0259-404a-a2d8-507ad4f2ee2f",
   "metadata": {
    "execution": {
     "iopub.execute_input": "2022-11-29T02:19:59.359071Z",
     "iopub.status.busy": "2022-11-29T02:19:59.358365Z",
     "iopub.status.idle": "2022-11-29T02:19:59.448306Z",
     "shell.execute_reply": "2022-11-29T02:19:59.446488Z",
     "shell.execute_reply.started": "2022-11-29T02:19:59.359024Z"
    }
   },
   "outputs": [],
   "source": [
    "fft_transform = FFT(centered = True)\n",
    "transformer = TransformMultiModalDataset(\n",
    "    transforms=[fft_transform],\n",
    "    new_window_name_prefix=\"fft.\"\n",
    ")"
   ]
  },
  {
   "cell_type": "code",
   "execution_count": 13,
   "id": "29195f38-f8a9-4167-937f-d3f98ddc7642",
   "metadata": {
    "execution": {
     "iopub.execute_input": "2022-11-29T02:19:59.450697Z",
     "iopub.status.busy": "2022-11-29T02:19:59.450128Z",
     "iopub.status.idle": "2022-11-29T02:20:00.193252Z",
     "shell.execute_reply": "2022-11-29T02:20:00.191516Z",
     "shell.execute_reply.started": "2022-11-29T02:19:59.450656Z"
    }
   },
   "outputs": [],
   "source": [
    "train_dataset_fft = transformer(train_val)\n",
    "test_dataset_fft = transformer(test)"
   ]
  },
  {
   "cell_type": "code",
   "execution_count": 14,
   "id": "3c8cfc25-0323-498a-931d-1249078f2796",
   "metadata": {
    "execution": {
     "iopub.execute_input": "2022-11-29T02:20:00.195208Z",
     "iopub.status.busy": "2022-11-29T02:20:00.194774Z",
     "iopub.status.idle": "2022-11-29T02:20:00.285820Z",
     "shell.execute_reply": "2022-11-29T02:20:00.284131Z",
     "shell.execute_reply.started": "2022-11-29T02:20:00.195171Z"
    }
   },
   "outputs": [
    {
     "name": "stdout",
     "output_type": "stream",
     "text": [
      "(4020, 180)\n",
      "(1020, 180)\n"
     ]
    }
   ],
   "source": [
    "print(train_dataset_fft.X.shape)\n",
    "print(test_dataset_fft.X.shape)"
   ]
  },
  {
   "cell_type": "code",
   "execution_count": 15,
   "id": "d413cc20-e5b5-4594-b1f7-f11153c00c5f",
   "metadata": {
    "execution": {
     "iopub.execute_input": "2022-11-29T02:20:00.289107Z",
     "iopub.status.busy": "2022-11-29T02:20:00.288301Z",
     "iopub.status.idle": "2022-11-29T02:20:00.382972Z",
     "shell.execute_reply": "2022-11-29T02:20:00.381248Z",
     "shell.execute_reply.started": "2022-11-29T02:20:00.289037Z"
    }
   },
   "outputs": [
    {
     "name": "stdout",
     "output_type": "stream",
     "text": [
      "797.3368276806895\n"
     ]
    }
   ],
   "source": [
    "print(np.max(train_dataset_fft.X))"
   ]
  },
  {
   "cell_type": "code",
   "execution_count": 16,
   "id": "fea2e105-a571-4a2f-ac76-096b08a6ef2f",
   "metadata": {
    "execution": {
     "iopub.execute_input": "2022-11-29T02:20:00.385226Z",
     "iopub.status.busy": "2022-11-29T02:20:00.384690Z",
     "iopub.status.idle": "2022-11-29T02:20:00.473511Z",
     "shell.execute_reply": "2022-11-29T02:20:00.471858Z",
     "shell.execute_reply.started": "2022-11-29T02:20:00.385188Z"
    }
   },
   "outputs": [],
   "source": [
    "train_HD = train_dataset_fft.X\n",
    "train_LD = None\n",
    "train_Y = train_dataset_fft.y\n",
    "test_HD = test_dataset_fft.X\n",
    "test_LD = None\n",
    "test_Y = test_dataset_fft.y"
   ]
  },
  {
   "cell_type": "code",
   "execution_count": 17,
   "id": "ee13aef1-77c7-42a9-930b-b1a56f980d25",
   "metadata": {
    "execution": {
     "iopub.execute_input": "2022-11-29T02:20:00.475763Z",
     "iopub.status.busy": "2022-11-29T02:20:00.475223Z",
     "iopub.status.idle": "2022-11-29T02:20:00.563949Z",
     "shell.execute_reply": "2022-11-29T02:20:00.562608Z",
     "shell.execute_reply.started": "2022-11-29T02:20:00.475725Z"
    }
   },
   "outputs": [
    {
     "name": "stdout",
     "output_type": "stream",
     "text": [
      "(4020, 180) (4020,) (1020, 180) (1020,)\n"
     ]
    }
   ],
   "source": [
    "print(train_HD.shape, train_Y.shape, test_HD.shape, test_Y.shape)"
   ]
  },
  {
   "cell_type": "code",
   "execution_count": null,
   "id": "d7684a14-e2b8-478f-a355-6b14c7e78d9f",
   "metadata": {
    "execution": {
     "iopub.execute_input": "2022-11-29T02:20:00.566038Z",
     "iopub.status.busy": "2022-11-29T02:20:00.565522Z"
    },
    "tags": []
   },
   "outputs": [
    {
     "name": "stdout",
     "output_type": "stream",
     "text": [
      "Topologically Regularized ConvolutionalAutoencoder_custom_dim3\n",
      "Using python to compute signatures\n",
      "ConvAECustomDim, Input: (1, 180) Inner dim: 10\n",
      "ENCODER STRUCT torch.Size([4, 8, 5])\n"
     ]
    },
    {
     "name": "stderr",
     "output_type": "stream",
     "text": [
      "/home/darlinne.soto/librep-hiaac/experiments/Topological_ae/MotionSense20Hz/../../../librep/transforms/topo_ae.py:75: UserWarning: To copy construct from a tensor, it is recommended to use sourceTensor.clone().detach() or sourceTensor.clone().detach().requires_grad_(True), rather than torch.tensor(sourceTensor).\n",
      "  in_tensor = torch.tensor(reshaped_data, device=cuda0).float()\n",
      "/home/darlinne.soto/librep-hiaac/experiments/Topological_ae/MotionSense20Hz/../../../librep/transforms/topo_ae.py:87: UserWarning: To copy construct from a tensor, it is recommended to use sourceTensor.clone().detach() or sourceTensor.clone().detach().requires_grad_(True), rather than torch.tensor(sourceTensor).\n",
      "  in_tensor = torch.tensor(reshaped_data, device=cuda0).float()\n"
     ]
    },
    {
     "name": "stdout",
     "output_type": "stream",
     "text": [
      "Epoch:1, P:None, Loss:2535.3549, Loss-ae:2534.8389, Loss-topo:0.5160\n",
      "Epoch:2, P:None, Loss:2262.8946, Loss-ae:2252.3015, Loss-topo:10.5931\n",
      "Epoch:3, P:None, Loss:1644.4260, Loss-ae:1617.1592, Loss-topo:27.2669\n",
      "Epoch:4, P:None, Loss:946.9706, Loss-ae:914.4370, Loss-topo:32.5337\n",
      "Epoch:5, P:None, Loss:774.4798, Loss-ae:755.3281, Loss-topo:19.1517\n",
      "Epoch:6, P:None, Loss:748.0071, Loss-ae:724.9144, Loss-topo:23.0927\n",
      "Epoch:7, P:None, Loss:692.9968, Loss-ae:661.5015, Loss-topo:31.4953\n",
      "Epoch:8, P:None, Loss:616.7681, Loss-ae:579.5072, Loss-topo:37.2609\n",
      "Epoch:9, P:None, Loss:547.7623, Loss-ae:516.7991, Loss-topo:30.9632\n",
      "Epoch:10, P:None, Loss:456.0129, Loss-ae:424.8837, Loss-topo:31.1292\n",
      "Epoch:11, P:None, Loss:419.8807, Loss-ae:382.7654, Loss-topo:37.1153\n",
      "Epoch:12, P:None, Loss:387.5985, Loss-ae:359.9440, Loss-topo:27.6546\n",
      "Epoch:13, P:None, Loss:356.9328, Loss-ae:338.0829, Loss-topo:18.8498\n",
      "Epoch:14, P:None, Loss:364.7940, Loss-ae:346.4286, Loss-topo:18.3654\n",
      "Epoch:15, P:None, Loss:345.4670, Loss-ae:327.9075, Loss-topo:17.5595\n",
      "Epoch:16, P:None, Loss:341.8898, Loss-ae:325.9681, Loss-topo:15.9217\n",
      "Epoch:17, P:None, Loss:333.6887, Loss-ae:320.1436, Loss-topo:13.5451\n",
      "Epoch:18, P:None, Loss:331.5365, Loss-ae:319.5749, Loss-topo:11.9617\n",
      "Epoch:19, P:None, Loss:332.1160, Loss-ae:320.1346, Loss-topo:11.9814\n",
      "Epoch:20, P:None, Loss:340.9182, Loss-ae:330.4916, Loss-topo:10.4267\n",
      "Epoch:21, P:None, Loss:323.1313, Loss-ae:313.3013, Loss-topo:9.8300\n",
      "Epoch:22, P:None, Loss:341.1542, Loss-ae:330.6048, Loss-topo:10.5494\n",
      "Epoch:23, P:None, Loss:341.2559, Loss-ae:329.7478, Loss-topo:11.5081\n",
      "Epoch:24, P:None, Loss:322.9984, Loss-ae:314.2466, Loss-topo:8.7518\n",
      "Epoch:25, P:None, Loss:321.6890, Loss-ae:313.4076, Loss-topo:8.2814\n",
      "Epoch:26, P:None, Loss:327.0443, Loss-ae:319.5090, Loss-topo:7.5353\n",
      "Epoch:27, P:None, Loss:321.2017, Loss-ae:311.9236, Loss-topo:9.2781\n",
      "Epoch:28, P:None, Loss:308.8939, Loss-ae:301.3476, Loss-topo:7.5463\n",
      "Epoch:29, P:None, Loss:306.6890, Loss-ae:298.7367, Loss-topo:7.9523\n",
      "Epoch:30, P:None, Loss:299.9433, Loss-ae:292.4586, Loss-topo:7.4847\n",
      "Epoch:31, P:None, Loss:296.2665, Loss-ae:288.9455, Loss-topo:7.3210\n",
      "Epoch:32, P:None, Loss:299.0588, Loss-ae:292.6664, Loss-topo:6.3923\n",
      "Epoch:33, P:None, Loss:304.3175, Loss-ae:296.6702, Loss-topo:7.6472\n",
      "Epoch:34, P:None, Loss:294.1946, Loss-ae:287.0464, Loss-topo:7.1481\n",
      "Epoch:35, P:None, Loss:304.9112, Loss-ae:297.5152, Loss-topo:7.3960\n",
      "Epoch:36, P:None, Loss:292.1313, Loss-ae:285.1380, Loss-topo:6.9933\n",
      "Epoch:37, P:None, Loss:295.4141, Loss-ae:288.9667, Loss-topo:6.4474\n",
      "Epoch:38, P:None, Loss:302.8496, Loss-ae:296.2291, Loss-topo:6.6205\n",
      "Epoch:39, P:None, Loss:286.9671, Loss-ae:279.6497, Loss-topo:7.3174\n",
      "Epoch:40, P:None, Loss:286.2566, Loss-ae:279.8181, Loss-topo:6.4385\n",
      "Epoch:41, P:None, Loss:284.5575, Loss-ae:278.9530, Loss-topo:5.6045\n",
      "Epoch:42, P:None, Loss:285.9233, Loss-ae:279.8611, Loss-topo:6.0622\n",
      "Epoch:43, P:None, Loss:285.8795, Loss-ae:278.8364, Loss-topo:7.0431\n",
      "Epoch:44, P:None, Loss:293.1115, Loss-ae:286.0571, Loss-topo:7.0545\n",
      "Epoch:45, P:None, Loss:292.0048, Loss-ae:286.1049, Loss-topo:5.8999\n",
      "Epoch:46, P:None, Loss:278.4394, Loss-ae:270.5065, Loss-topo:7.9329\n",
      "Epoch:47, P:None, Loss:290.7953, Loss-ae:284.1665, Loss-topo:6.6288\n",
      "Epoch:48, P:None, Loss:293.6696, Loss-ae:286.6769, Loss-topo:6.9927\n",
      "Epoch:49, P:None, Loss:282.0206, Loss-ae:272.3421, Loss-topo:9.6785\n",
      "Epoch:50, P:None, Loss:268.9848, Loss-ae:260.3955, Loss-topo:8.5893\n",
      "Epoch:51, P:None, Loss:270.5205, Loss-ae:261.0759, Loss-topo:9.4447\n",
      "Epoch:52, P:None, Loss:269.7382, Loss-ae:258.8627, Loss-topo:10.8755\n",
      "Epoch:53, P:None, Loss:265.4665, Loss-ae:255.6454, Loss-topo:9.8211\n",
      "Epoch:54, P:None, Loss:259.3969, Loss-ae:248.3347, Loss-topo:11.0622\n",
      "Epoch:55, P:None, Loss:249.8541, Loss-ae:237.1039, Loss-topo:12.7502\n",
      "Epoch:56, P:None, Loss:233.2048, Loss-ae:218.1225, Loss-topo:15.0823\n",
      "Epoch:57, P:None, Loss:233.4649, Loss-ae:219.2374, Loss-topo:14.2275\n",
      "Epoch:58, P:None, Loss:220.6682, Loss-ae:202.8684, Loss-topo:17.7997\n",
      "Epoch:59, P:None, Loss:213.8663, Loss-ae:201.2802, Loss-topo:12.5861\n",
      "Epoch:60, P:None, Loss:216.3974, Loss-ae:202.3280, Loss-topo:14.0694\n",
      "Epoch:61, P:None, Loss:206.3120, Loss-ae:195.4553, Loss-topo:10.8566\n",
      "Epoch:62, P:None, Loss:204.2728, Loss-ae:192.1257, Loss-topo:12.1471\n",
      "Epoch:63, P:None, Loss:204.5374, Loss-ae:193.6316, Loss-topo:10.9057\n",
      "Epoch:64, P:None, Loss:190.0923, Loss-ae:180.0109, Loss-topo:10.0814\n",
      "Epoch:65, P:None, Loss:197.3967, Loss-ae:187.1283, Loss-topo:10.2684\n",
      "Epoch:66, P:None, Loss:189.3200, Loss-ae:176.3187, Loss-topo:13.0013\n",
      "Epoch:67, P:None, Loss:177.5232, Loss-ae:167.3203, Loss-topo:10.2028\n",
      "Epoch:68, P:None, Loss:181.7356, Loss-ae:172.3693, Loss-topo:9.3663\n",
      "Epoch:69, P:None, Loss:177.3020, Loss-ae:167.8899, Loss-topo:9.4121\n",
      "Epoch:70, P:None, Loss:169.7371, Loss-ae:160.9391, Loss-topo:8.7980\n",
      "Epoch:71, P:None, Loss:174.5902, Loss-ae:165.1100, Loss-topo:9.4802\n",
      "Epoch:72, P:None, Loss:164.7410, Loss-ae:156.3845, Loss-topo:8.3565\n",
      "Epoch:73, P:None, Loss:165.3352, Loss-ae:156.3597, Loss-topo:8.9754\n",
      "Epoch:74, P:None, Loss:164.2055, Loss-ae:155.4933, Loss-topo:8.7122\n",
      "Epoch:75, P:None, Loss:157.8728, Loss-ae:150.1252, Loss-topo:7.7476\n",
      "Epoch:76, P:None, Loss:157.2794, Loss-ae:148.9298, Loss-topo:8.3496\n",
      "Epoch:77, P:None, Loss:168.8247, Loss-ae:159.8755, Loss-topo:8.9492\n",
      "Epoch:78, P:None, Loss:158.2545, Loss-ae:150.8830, Loss-topo:7.3716\n",
      "Epoch:79, P:None, Loss:155.7988, Loss-ae:148.0200, Loss-topo:7.7788\n",
      "Epoch:80, P:None, Loss:153.9523, Loss-ae:145.9044, Loss-topo:8.0479\n",
      "Epoch:81, P:None, Loss:159.1233, Loss-ae:151.6105, Loss-topo:7.5129\n",
      "Epoch:82, P:None, Loss:158.4159, Loss-ae:150.9755, Loss-topo:7.4404\n",
      "Epoch:83, P:None, Loss:150.7545, Loss-ae:143.8832, Loss-topo:6.8713\n",
      "Epoch:84, P:None, Loss:156.7927, Loss-ae:148.1700, Loss-topo:8.6227\n",
      "Epoch:85, P:None, Loss:150.0510, Loss-ae:142.9240, Loss-topo:7.1270\n",
      "Epoch:86, P:None, Loss:149.7841, Loss-ae:143.3421, Loss-topo:6.4420\n",
      "Epoch:87, P:None, Loss:151.5553, Loss-ae:144.2303, Loss-topo:7.3250\n",
      "Epoch:88, P:None, Loss:151.5472, Loss-ae:144.6440, Loss-topo:6.9031\n",
      "Epoch:89, P:None, Loss:148.4007, Loss-ae:141.5547, Loss-topo:6.8460\n",
      "Epoch:90, P:None, Loss:151.4723, Loss-ae:144.5826, Loss-topo:6.8897\n",
      "Epoch:91, P:None, Loss:144.0059, Loss-ae:137.6839, Loss-topo:6.3220\n",
      "Epoch:92, P:None, Loss:141.7082, Loss-ae:135.4739, Loss-topo:6.2343\n",
      "Epoch:93, P:None, Loss:139.7415, Loss-ae:133.8335, Loss-topo:5.9080\n",
      "Epoch:94, P:None, Loss:146.7490, Loss-ae:140.1608, Loss-topo:6.5882\n",
      "Epoch:95, P:None, Loss:142.6332, Loss-ae:135.8769, Loss-topo:6.7563\n",
      "Epoch:96, P:None, Loss:146.0409, Loss-ae:139.7877, Loss-topo:6.2532\n",
      "Epoch:97, P:None, Loss:136.5202, Loss-ae:130.4769, Loss-topo:6.0434\n",
      "Epoch:98, P:None, Loss:142.7564, Loss-ae:136.1489, Loss-topo:6.6075\n",
      "Epoch:99, P:None, Loss:139.0450, Loss-ae:133.1994, Loss-topo:5.8456\n",
      "Epoch:100, P:None, Loss:136.1005, Loss-ae:130.0675, Loss-topo:6.0330\n",
      "Epoch:101, P:None, Loss:138.2918, Loss-ae:132.6978, Loss-topo:5.5940\n",
      "Epoch:102, P:None, Loss:141.4546, Loss-ae:135.0645, Loss-topo:6.3901\n",
      "Epoch:103, P:None, Loss:137.9917, Loss-ae:132.1941, Loss-topo:5.7975\n",
      "Epoch:104, P:None, Loss:136.2363, Loss-ae:130.6396, Loss-topo:5.5967\n",
      "Epoch:105, P:None, Loss:130.6704, Loss-ae:125.0812, Loss-topo:5.5892\n",
      "Epoch:106, P:None, Loss:134.3332, Loss-ae:128.7100, Loss-topo:5.6233\n",
      "Epoch:107, P:None, Loss:129.2381, Loss-ae:123.9763, Loss-topo:5.2618\n",
      "Epoch:108, P:None, Loss:133.4037, Loss-ae:127.8019, Loss-topo:5.6018\n",
      "Epoch:109, P:None, Loss:130.8077, Loss-ae:125.7550, Loss-topo:5.0526\n",
      "Epoch:110, P:None, Loss:132.1786, Loss-ae:126.7540, Loss-topo:5.4246\n",
      "Epoch:111, P:None, Loss:128.4702, Loss-ae:123.5225, Loss-topo:4.9477\n",
      "Epoch:112, P:None, Loss:126.0115, Loss-ae:120.9182, Loss-topo:5.0933\n",
      "Epoch:113, P:None, Loss:124.0855, Loss-ae:119.0337, Loss-topo:5.0518\n",
      "Epoch:114, P:None, Loss:126.3137, Loss-ae:120.9069, Loss-topo:5.4067\n",
      "Epoch:115, P:None, Loss:127.0782, Loss-ae:122.0445, Loss-topo:5.0337\n",
      "Epoch:116, P:None, Loss:128.6415, Loss-ae:123.4045, Loss-topo:5.2370\n",
      "Epoch:117, P:None, Loss:124.6701, Loss-ae:119.5079, Loss-topo:5.1621\n",
      "Epoch:118, P:None, Loss:121.8852, Loss-ae:117.0790, Loss-topo:4.8061\n",
      "Epoch:119, P:None, Loss:125.0160, Loss-ae:119.7891, Loss-topo:5.2268\n",
      "Epoch:120, P:None, Loss:123.8764, Loss-ae:119.0351, Loss-topo:4.8413\n",
      "Epoch:121, P:None, Loss:119.9577, Loss-ae:115.8277, Loss-topo:4.1300\n",
      "Epoch:122, P:None, Loss:125.4761, Loss-ae:120.6556, Loss-topo:4.8204\n",
      "Epoch:123, P:None, Loss:120.0524, Loss-ae:115.2438, Loss-topo:4.8086\n",
      "Epoch:124, P:None, Loss:122.7264, Loss-ae:118.2280, Loss-topo:4.4984\n",
      "Epoch:125, P:None, Loss:123.5387, Loss-ae:118.9177, Loss-topo:4.6210\n",
      "Epoch:126, P:None, Loss:117.4331, Loss-ae:113.0615, Loss-topo:4.3716\n",
      "Epoch:127, P:None, Loss:118.0546, Loss-ae:113.6703, Loss-topo:4.3843\n",
      "Epoch:128, P:None, Loss:120.6639, Loss-ae:115.9855, Loss-topo:4.6785\n",
      "Epoch:129, P:None, Loss:123.3498, Loss-ae:118.3306, Loss-topo:5.0192\n",
      "Epoch:130, P:None, Loss:114.1638, Loss-ae:109.8905, Loss-topo:4.2733\n",
      "Epoch:131, P:None, Loss:118.2728, Loss-ae:113.8134, Loss-topo:4.4594\n",
      "Epoch:132, P:None, Loss:115.0281, Loss-ae:110.5419, Loss-topo:4.4862\n",
      "Epoch:133, P:None, Loss:120.3948, Loss-ae:115.8433, Loss-topo:4.5515\n",
      "Epoch:134, P:None, Loss:116.1293, Loss-ae:111.7312, Loss-topo:4.3980\n",
      "Epoch:135, P:None, Loss:115.6641, Loss-ae:111.3643, Loss-topo:4.2999\n",
      "Epoch:136, P:None, Loss:117.3305, Loss-ae:112.7067, Loss-topo:4.6238\n",
      "Epoch:137, P:None, Loss:113.4573, Loss-ae:108.9460, Loss-topo:4.5113\n",
      "Epoch:138, P:None, Loss:114.4358, Loss-ae:110.3439, Loss-topo:4.0919\n",
      "Epoch:139, P:None, Loss:113.6510, Loss-ae:109.2634, Loss-topo:4.3875\n",
      "Epoch:140, P:None, Loss:111.3065, Loss-ae:107.0865, Loss-topo:4.2200\n",
      "Epoch:141, P:None, Loss:108.3979, Loss-ae:104.3531, Loss-topo:4.0449\n",
      "Epoch:142, P:None, Loss:113.7410, Loss-ae:109.1257, Loss-topo:4.6153\n",
      "Epoch:143, P:None, Loss:111.1119, Loss-ae:107.0462, Loss-topo:4.0657\n",
      "Epoch:144, P:None, Loss:109.5832, Loss-ae:105.3668, Loss-topo:4.2164\n",
      "Epoch:145, P:None, Loss:108.6377, Loss-ae:104.6889, Loss-topo:3.9488\n",
      "Epoch:146, P:None, Loss:107.9705, Loss-ae:103.8760, Loss-topo:4.0946\n",
      "Epoch:147, P:None, Loss:107.5877, Loss-ae:103.5866, Loss-topo:4.0012\n",
      "Epoch:148, P:None, Loss:109.6017, Loss-ae:105.2386, Loss-topo:4.3631\n",
      "Epoch:149, P:None, Loss:105.8345, Loss-ae:102.0247, Loss-topo:3.8099\n",
      "Epoch:150, P:None, Loss:105.0707, Loss-ae:100.9180, Loss-topo:4.1527\n",
      "Epoch:151, P:None, Loss:104.5067, Loss-ae:100.5811, Loss-topo:3.9256\n",
      "Epoch:152, P:None, Loss:104.8713, Loss-ae:101.0642, Loss-topo:3.8071\n",
      "Epoch:153, P:None, Loss:106.5295, Loss-ae:102.4275, Loss-topo:4.1021\n",
      "Epoch:154, P:None, Loss:106.3468, Loss-ae:102.4225, Loss-topo:3.9243\n",
      "Epoch:155, P:None, Loss:106.3826, Loss-ae:102.1788, Loss-topo:4.2038\n",
      "Epoch:156, P:None, Loss:100.7902, Loss-ae:97.1402, Loss-topo:3.6501\n",
      "Epoch:157, P:None, Loss:103.7698, Loss-ae:99.5794, Loss-topo:4.1904\n",
      "Epoch:158, P:None, Loss:101.0208, Loss-ae:97.2136, Loss-topo:3.8072\n",
      "Epoch:159, P:None, Loss:109.4779, Loss-ae:105.5290, Loss-topo:3.9489\n",
      "Epoch:160, P:None, Loss:100.4422, Loss-ae:96.7043, Loss-topo:3.7378\n",
      "Epoch:161, P:None, Loss:99.1760, Loss-ae:95.6220, Loss-topo:3.5540\n",
      "Epoch:162, P:None, Loss:102.0868, Loss-ae:98.3166, Loss-topo:3.7702\n",
      "Epoch:163, P:None, Loss:100.2201, Loss-ae:96.6791, Loss-topo:3.5409\n",
      "Epoch:164, P:None, Loss:101.7936, Loss-ae:98.1675, Loss-topo:3.6261\n",
      "Epoch:165, P:None, Loss:99.1235, Loss-ae:95.4476, Loss-topo:3.6759\n",
      "Epoch:166, P:None, Loss:101.9972, Loss-ae:98.3177, Loss-topo:3.6795\n",
      "Epoch:167, P:None, Loss:100.1406, Loss-ae:96.7851, Loss-topo:3.3555\n",
      "Epoch:168, P:None, Loss:99.0325, Loss-ae:95.6776, Loss-topo:3.3549\n",
      "Epoch:169, P:None, Loss:100.8874, Loss-ae:97.3167, Loss-topo:3.5707\n",
      "Epoch:170, P:None, Loss:99.5900, Loss-ae:95.8559, Loss-topo:3.7341\n",
      "Epoch:171, P:None, Loss:98.2841, Loss-ae:94.9138, Loss-topo:3.3703\n",
      "Epoch:172, P:None, Loss:100.8766, Loss-ae:97.2169, Loss-topo:3.6598\n",
      "Epoch:173, P:None, Loss:101.1514, Loss-ae:97.7003, Loss-topo:3.4512\n",
      "Epoch:174, P:None, Loss:97.8292, Loss-ae:94.4529, Loss-topo:3.3763\n",
      "Epoch:175, P:None, Loss:95.5125, Loss-ae:92.5543, Loss-topo:2.9582\n",
      "Epoch:176, P:None, Loss:98.9511, Loss-ae:95.7238, Loss-topo:3.2273\n",
      "Epoch:177, P:None, Loss:97.3274, Loss-ae:93.8750, Loss-topo:3.4524\n",
      "Epoch:178, P:None, Loss:96.2080, Loss-ae:92.9623, Loss-topo:3.2456\n",
      "Epoch:179, P:None, Loss:99.4875, Loss-ae:96.1268, Loss-topo:3.3608\n",
      "Epoch:180, P:None, Loss:96.3383, Loss-ae:93.2399, Loss-topo:3.0984\n",
      "Epoch:181, P:None, Loss:94.9326, Loss-ae:91.7003, Loss-topo:3.2323\n",
      "Epoch:182, P:None, Loss:95.8805, Loss-ae:92.7868, Loss-topo:3.0937\n",
      "Epoch:183, P:None, Loss:93.2325, Loss-ae:90.3033, Loss-topo:2.9293\n",
      "Epoch:184, P:None, Loss:95.6726, Loss-ae:92.5857, Loss-topo:3.0868\n",
      "Epoch:185, P:None, Loss:94.0213, Loss-ae:91.0611, Loss-topo:2.9602\n",
      "Epoch:186, P:None, Loss:97.5534, Loss-ae:94.6261, Loss-topo:2.9273\n",
      "Epoch:187, P:None, Loss:93.5525, Loss-ae:90.7652, Loss-topo:2.7873\n",
      "Epoch:188, P:None, Loss:95.1832, Loss-ae:92.3165, Loss-topo:2.8667\n",
      "Epoch:189, P:None, Loss:92.8149, Loss-ae:90.0724, Loss-topo:2.7425\n",
      "Epoch:190, P:None, Loss:94.3841, Loss-ae:91.4053, Loss-topo:2.9788\n",
      "Epoch:191, P:None, Loss:93.1173, Loss-ae:90.3939, Loss-topo:2.7234\n",
      "Epoch:192, P:None, Loss:93.5606, Loss-ae:90.8573, Loss-topo:2.7033\n",
      "Epoch:193, P:None, Loss:97.7858, Loss-ae:95.0968, Loss-topo:2.6891\n",
      "Epoch:194, P:None, Loss:91.9089, Loss-ae:89.2531, Loss-topo:2.6557\n",
      "Epoch:195, P:None, Loss:94.5216, Loss-ae:91.6373, Loss-topo:2.8843\n",
      "Epoch:196, P:None, Loss:91.6480, Loss-ae:88.9722, Loss-topo:2.6759\n",
      "Epoch:197, P:None, Loss:94.5217, Loss-ae:91.9183, Loss-topo:2.6034\n",
      "Epoch:198, P:None, Loss:93.1192, Loss-ae:90.5456, Loss-topo:2.5736\n",
      "Epoch:199, P:None, Loss:93.3385, Loss-ae:90.8437, Loss-topo:2.4948\n",
      "Epoch:200, P:None, Loss:93.0724, Loss-ae:90.5796, Loss-topo:2.4928\n",
      "Epoch:201, P:None, Loss:91.5343, Loss-ae:89.1673, Loss-topo:2.3669\n",
      "Epoch:202, P:None, Loss:90.7879, Loss-ae:88.4601, Loss-topo:2.3278\n",
      "Epoch:203, P:None, Loss:92.2977, Loss-ae:89.8163, Loss-topo:2.4814\n",
      "Epoch:204, P:None, Loss:90.3370, Loss-ae:87.9237, Loss-topo:2.4133\n",
      "Epoch:205, P:None, Loss:95.4429, Loss-ae:92.8614, Loss-topo:2.5815\n",
      "Epoch:206, P:None, Loss:90.6275, Loss-ae:88.3757, Loss-topo:2.2517\n",
      "Epoch:207, P:None, Loss:88.8268, Loss-ae:86.4484, Loss-topo:2.3784\n",
      "Epoch:208, P:None, Loss:94.1644, Loss-ae:91.6734, Loss-topo:2.4910\n",
      "Epoch:209, P:None, Loss:94.6658, Loss-ae:92.1036, Loss-topo:2.5622\n",
      "Epoch:210, P:None, Loss:88.0603, Loss-ae:85.8313, Loss-topo:2.2290\n",
      "Epoch:211, P:None, Loss:93.5519, Loss-ae:91.2536, Loss-topo:2.2983\n",
      "Epoch:212, P:None, Loss:93.5917, Loss-ae:91.2434, Loss-topo:2.3483\n",
      "Epoch:213, P:None, Loss:89.3731, Loss-ae:87.2564, Loss-topo:2.1166\n",
      "Epoch:214, P:None, Loss:87.5233, Loss-ae:85.4934, Loss-topo:2.0299\n",
      "Epoch:215, P:None, Loss:93.8751, Loss-ae:91.5198, Loss-topo:2.3553\n",
      "Epoch:216, P:None, Loss:89.3568, Loss-ae:87.1402, Loss-topo:2.2166\n",
      "Epoch:217, P:None, Loss:91.0378, Loss-ae:88.8827, Loss-topo:2.1551\n",
      "Epoch:218, P:None, Loss:87.8871, Loss-ae:85.8562, Loss-topo:2.0309\n",
      "Epoch:219, P:None, Loss:87.6773, Loss-ae:85.5559, Loss-topo:2.1214\n",
      "Epoch:220, P:None, Loss:88.4889, Loss-ae:86.3524, Loss-topo:2.1364\n",
      "Epoch:221, P:None, Loss:92.3354, Loss-ae:90.1259, Loss-topo:2.2095\n",
      "Epoch:222, P:None, Loss:86.8091, Loss-ae:84.7175, Loss-topo:2.0915\n",
      "Epoch:223, P:None, Loss:88.6881, Loss-ae:86.6183, Loss-topo:2.0699\n",
      "Epoch:224, P:None, Loss:89.8685, Loss-ae:87.8763, Loss-topo:1.9922\n",
      "Epoch:225, P:None, Loss:88.1778, Loss-ae:86.2502, Loss-topo:1.9276\n",
      "Epoch:226, P:None, Loss:86.3544, Loss-ae:84.3843, Loss-topo:1.9702\n",
      "Epoch:227, P:None, Loss:88.0202, Loss-ae:86.1794, Loss-topo:1.8408\n",
      "Epoch:228, P:None, Loss:91.1483, Loss-ae:89.1056, Loss-topo:2.0426\n",
      "Epoch:229, P:None, Loss:88.2210, Loss-ae:86.3550, Loss-topo:1.8660\n",
      "Epoch:230, P:None, Loss:87.8388, Loss-ae:85.9771, Loss-topo:1.8617\n",
      "Epoch:231, P:None, Loss:88.6069, Loss-ae:86.6743, Loss-topo:1.9326\n",
      "Epoch:232, P:None, Loss:89.6699, Loss-ae:87.7124, Loss-topo:1.9574\n",
      "Epoch:233, P:None, Loss:88.5127, Loss-ae:86.5798, Loss-topo:1.9328\n",
      "Epoch:234, P:None, Loss:82.6395, Loss-ae:81.0100, Loss-topo:1.6295\n",
      "Epoch:235, P:None, Loss:88.5051, Loss-ae:86.7862, Loss-topo:1.7189\n",
      "Epoch:236, P:None, Loss:88.0275, Loss-ae:86.3551, Loss-topo:1.6725\n",
      "Epoch:237, P:None, Loss:87.0741, Loss-ae:85.2246, Loss-topo:1.8495\n",
      "Epoch:238, P:None, Loss:89.3991, Loss-ae:87.5128, Loss-topo:1.8863\n",
      "Epoch:239, P:None, Loss:86.1548, Loss-ae:84.4509, Loss-topo:1.7039\n",
      "Epoch:240, P:None, Loss:84.3565, Loss-ae:82.7281, Loss-topo:1.6285\n",
      "Epoch:241, P:None, Loss:86.2277, Loss-ae:84.4865, Loss-topo:1.7411\n",
      "Epoch:242, P:None, Loss:88.6979, Loss-ae:86.9164, Loss-topo:1.7815\n",
      "Epoch:243, P:None, Loss:83.5089, Loss-ae:81.8746, Loss-topo:1.6343\n",
      "Epoch:244, P:None, Loss:85.9043, Loss-ae:84.2321, Loss-topo:1.6722\n",
      "Epoch:245, P:None, Loss:84.3861, Loss-ae:82.7873, Loss-topo:1.5988\n",
      "Epoch:246, P:None, Loss:87.3981, Loss-ae:85.7808, Loss-topo:1.6173\n",
      "Epoch:247, P:None, Loss:84.3360, Loss-ae:82.7619, Loss-topo:1.5741\n",
      "Epoch:248, P:None, Loss:85.1322, Loss-ae:83.6049, Loss-topo:1.5273\n",
      "Epoch:249, P:None, Loss:82.9643, Loss-ae:81.4372, Loss-topo:1.5271\n",
      "Epoch:250, P:None, Loss:84.6006, Loss-ae:82.9450, Loss-topo:1.6556\n",
      "Epoch:251, P:None, Loss:85.5664, Loss-ae:84.0266, Loss-topo:1.5398\n",
      "Epoch:252, P:None, Loss:84.6944, Loss-ae:83.0458, Loss-topo:1.6487\n",
      "Epoch:253, P:None, Loss:85.1874, Loss-ae:83.6538, Loss-topo:1.5336\n",
      "Epoch:254, P:None, Loss:83.2440, Loss-ae:81.8393, Loss-topo:1.4047\n",
      "Epoch:255, P:None, Loss:91.4854, Loss-ae:89.9308, Loss-topo:1.5546\n",
      "Epoch:256, P:None, Loss:88.9137, Loss-ae:87.4878, Loss-topo:1.4259\n",
      "Epoch:257, P:None, Loss:84.1600, Loss-ae:82.7223, Loss-topo:1.4377\n",
      "Epoch:258, P:None, Loss:84.5598, Loss-ae:83.0723, Loss-topo:1.4875\n",
      "Epoch:259, P:None, Loss:85.0854, Loss-ae:83.6082, Loss-topo:1.4772\n",
      "Epoch:260, P:None, Loss:85.5143, Loss-ae:84.0459, Loss-topo:1.4684\n",
      "Epoch:261, P:None, Loss:87.8018, Loss-ae:86.2926, Loss-topo:1.5092\n",
      "Epoch:262, P:None, Loss:85.1577, Loss-ae:83.6897, Loss-topo:1.4679\n",
      "Epoch:263, P:None, Loss:85.9953, Loss-ae:84.5408, Loss-topo:1.4545\n",
      "Epoch:264, P:None, Loss:83.6776, Loss-ae:82.2726, Loss-topo:1.4050\n",
      "Epoch:265, P:None, Loss:83.4616, Loss-ae:82.0391, Loss-topo:1.4225\n",
      "Epoch:266, P:None, Loss:86.1799, Loss-ae:84.7385, Loss-topo:1.4415\n",
      "Epoch:267, P:None, Loss:86.7545, Loss-ae:85.3047, Loss-topo:1.4498\n",
      "Epoch:268, P:None, Loss:86.3679, Loss-ae:84.9690, Loss-topo:1.3989\n",
      "Epoch:269, P:None, Loss:83.9935, Loss-ae:82.6128, Loss-topo:1.3807\n",
      "Epoch:270, P:None, Loss:83.4294, Loss-ae:82.0444, Loss-topo:1.3850\n",
      "Epoch:271, P:None, Loss:84.9122, Loss-ae:83.5540, Loss-topo:1.3581\n",
      "Epoch:272, P:None, Loss:85.9870, Loss-ae:84.6075, Loss-topo:1.3796\n",
      "Epoch:273, P:None, Loss:83.4245, Loss-ae:82.0213, Loss-topo:1.4032\n",
      "Epoch:274, P:None, Loss:82.8045, Loss-ae:81.4815, Loss-topo:1.3230\n",
      "Epoch:275, P:None, Loss:85.9799, Loss-ae:84.6838, Loss-topo:1.2960\n",
      "Epoch:276, P:None, Loss:83.5325, Loss-ae:82.2682, Loss-topo:1.2643\n",
      "Epoch:277, P:None, Loss:81.3045, Loss-ae:79.9518, Loss-topo:1.3528\n",
      "Epoch:278, P:None, Loss:83.1465, Loss-ae:81.8138, Loss-topo:1.3326\n",
      "Epoch:279, P:None, Loss:86.1329, Loss-ae:84.7374, Loss-topo:1.3954\n",
      "Epoch:280, P:None, Loss:87.1826, Loss-ae:85.7924, Loss-topo:1.3902\n",
      "Epoch:281, P:None, Loss:84.1171, Loss-ae:82.7932, Loss-topo:1.3239\n",
      "Epoch:282, P:None, Loss:84.0313, Loss-ae:82.8042, Loss-topo:1.2270\n",
      "Epoch:283, P:None, Loss:81.2877, Loss-ae:80.0428, Loss-topo:1.2449\n",
      "Epoch:284, P:None, Loss:82.6214, Loss-ae:81.3286, Loss-topo:1.2928\n",
      "Epoch:285, P:None, Loss:83.6339, Loss-ae:82.4027, Loss-topo:1.2312\n",
      "Epoch:286, P:None, Loss:83.9506, Loss-ae:82.7639, Loss-topo:1.1867\n",
      "Epoch:287, P:None, Loss:80.8985, Loss-ae:79.7169, Loss-topo:1.1816\n",
      "Epoch:288, P:None, Loss:83.4800, Loss-ae:82.2443, Loss-topo:1.2357\n",
      "Epoch:289, P:None, Loss:82.9819, Loss-ae:81.7827, Loss-topo:1.1992\n",
      "Epoch:290, P:None, Loss:82.2662, Loss-ae:81.1078, Loss-topo:1.1584\n",
      "Epoch:291, P:None, Loss:81.7249, Loss-ae:80.5526, Loss-topo:1.1722\n",
      "Epoch:292, P:None, Loss:81.3899, Loss-ae:80.2772, Loss-topo:1.1127\n",
      "Epoch:293, P:None, Loss:80.5485, Loss-ae:79.4225, Loss-topo:1.1261\n",
      "Epoch:294, P:None, Loss:82.5597, Loss-ae:81.3261, Loss-topo:1.2336\n",
      "Epoch:295, P:None, Loss:81.1750, Loss-ae:80.0064, Loss-topo:1.1686\n",
      "Epoch:296, P:None, Loss:82.4375, Loss-ae:81.2660, Loss-topo:1.1715\n",
      "Epoch:297, P:None, Loss:84.2666, Loss-ae:83.0354, Loss-topo:1.2312\n",
      "Epoch:298, P:None, Loss:82.4433, Loss-ae:81.3436, Loss-topo:1.0997\n",
      "Epoch:299, P:None, Loss:80.7606, Loss-ae:79.6934, Loss-topo:1.0672\n",
      "Epoch:300, P:None, Loss:82.4875, Loss-ae:81.4080, Loss-topo:1.0795\n",
      "Epoch:301, P:None, Loss:83.9337, Loss-ae:82.8186, Loss-topo:1.1151\n",
      "Epoch:302, P:None, Loss:78.1880, Loss-ae:77.2258, Loss-topo:0.9622\n",
      "Epoch:303, P:None, Loss:83.4996, Loss-ae:82.4320, Loss-topo:1.0675\n",
      "Epoch:304, P:None, Loss:81.9778, Loss-ae:80.8356, Loss-topo:1.1422\n",
      "Epoch:305, P:None, Loss:80.6678, Loss-ae:79.6797, Loss-topo:0.9881\n",
      "Epoch:306, P:None, Loss:80.6884, Loss-ae:79.6593, Loss-topo:1.0291\n",
      "Epoch:307, P:None, Loss:80.2342, Loss-ae:79.2419, Loss-topo:0.9923\n",
      "Epoch:308, P:None, Loss:80.9502, Loss-ae:79.9272, Loss-topo:1.0231\n",
      "Epoch:309, P:None, Loss:84.1446, Loss-ae:83.1390, Loss-topo:1.0056\n",
      "Epoch:310, P:None, Loss:81.6831, Loss-ae:80.6208, Loss-topo:1.0623\n",
      "Epoch:311, P:None, Loss:81.8397, Loss-ae:80.8315, Loss-topo:1.0083\n",
      "Epoch:312, P:None, Loss:79.2542, Loss-ae:78.2936, Loss-topo:0.9605\n",
      "Epoch:313, P:None, Loss:83.7525, Loss-ae:82.6928, Loss-topo:1.0597\n",
      "Epoch:314, P:None, Loss:79.5356, Loss-ae:78.6001, Loss-topo:0.9355\n",
      "Epoch:315, P:None, Loss:80.5654, Loss-ae:79.5372, Loss-topo:1.0283\n",
      "Epoch:316, P:None, Loss:80.8760, Loss-ae:79.8359, Loss-topo:1.0401\n",
      "Epoch:317, P:None, Loss:81.3107, Loss-ae:80.3287, Loss-topo:0.9820\n",
      "Epoch:318, P:None, Loss:80.3873, Loss-ae:79.3682, Loss-topo:1.0191\n",
      "Epoch:319, P:None, Loss:81.6646, Loss-ae:80.6434, Loss-topo:1.0212\n",
      "Epoch:320, P:None, Loss:80.1556, Loss-ae:79.1885, Loss-topo:0.9670\n",
      "Epoch:321, P:None, Loss:81.0755, Loss-ae:80.0972, Loss-topo:0.9783\n",
      "Epoch:322, P:None, Loss:83.2570, Loss-ae:82.2919, Loss-topo:0.9650\n",
      "Epoch:323, P:None, Loss:81.0964, Loss-ae:80.1724, Loss-topo:0.9240\n",
      "Epoch:324, P:None, Loss:79.4157, Loss-ae:78.5100, Loss-topo:0.9056\n",
      "Epoch:325, P:None, Loss:78.5463, Loss-ae:77.6715, Loss-topo:0.8748\n",
      "Epoch:326, P:None, Loss:82.3277, Loss-ae:81.4253, Loss-topo:0.9024\n",
      "Epoch:327, P:None, Loss:81.1346, Loss-ae:80.2101, Loss-topo:0.9245\n",
      "Epoch:328, P:None, Loss:79.9711, Loss-ae:79.0077, Loss-topo:0.9633\n",
      "Epoch:329, P:None, Loss:80.4592, Loss-ae:79.5385, Loss-topo:0.9207\n",
      "Epoch:330, P:None, Loss:85.2285, Loss-ae:84.2582, Loss-topo:0.9702\n",
      "Epoch:331, P:None, Loss:85.1122, Loss-ae:84.1002, Loss-topo:1.0120\n",
      "Epoch:332, P:None, Loss:77.8485, Loss-ae:76.9652, Loss-topo:0.8833\n",
      "Epoch:333, P:None, Loss:79.1276, Loss-ae:78.2559, Loss-topo:0.8718\n",
      "Epoch:334, P:None, Loss:79.4233, Loss-ae:78.5801, Loss-topo:0.8433\n",
      "Epoch:335, P:None, Loss:79.5404, Loss-ae:78.7079, Loss-topo:0.8325\n",
      "Epoch:336, P:None, Loss:81.4232, Loss-ae:80.5162, Loss-topo:0.9070\n",
      "Epoch:337, P:None, Loss:78.3286, Loss-ae:77.5162, Loss-topo:0.8124\n",
      "Epoch:338, P:None, Loss:79.2024, Loss-ae:78.2897, Loss-topo:0.9127\n",
      "Epoch:339, P:None, Loss:80.2196, Loss-ae:79.3337, Loss-topo:0.8859\n",
      "Epoch:340, P:None, Loss:79.3447, Loss-ae:78.5162, Loss-topo:0.8285\n",
      "Epoch:341, P:None, Loss:78.0953, Loss-ae:77.3358, Loss-topo:0.7594\n",
      "Epoch:342, P:None, Loss:83.3196, Loss-ae:82.4639, Loss-topo:0.8557\n",
      "Epoch:343, P:None, Loss:80.6653, Loss-ae:79.8585, Loss-topo:0.8068\n",
      "Epoch:344, P:None, Loss:83.5320, Loss-ae:82.7266, Loss-topo:0.8054\n",
      "Epoch:345, P:None, Loss:84.3821, Loss-ae:83.5259, Loss-topo:0.8562\n",
      "Epoch:346, P:None, Loss:77.3698, Loss-ae:76.6237, Loss-topo:0.7461\n",
      "Epoch:347, P:None, Loss:79.9546, Loss-ae:79.1897, Loss-topo:0.7650\n",
      "Epoch:348, P:None, Loss:82.4812, Loss-ae:81.5857, Loss-topo:0.8955\n",
      "Epoch:349, P:None, Loss:77.4749, Loss-ae:76.7188, Loss-topo:0.7561\n",
      "Epoch:350, P:None, Loss:77.6132, Loss-ae:76.8503, Loss-topo:0.7629\n",
      "Epoch:351, P:None, Loss:78.3713, Loss-ae:77.6262, Loss-topo:0.7452\n",
      "Epoch:352, P:None, Loss:79.8628, Loss-ae:79.0838, Loss-topo:0.7790\n",
      "Epoch:353, P:None, Loss:78.8345, Loss-ae:78.0605, Loss-topo:0.7740\n",
      "Epoch:354, P:None, Loss:80.6728, Loss-ae:79.9195, Loss-topo:0.7533\n",
      "Epoch:355, P:None, Loss:81.6300, Loss-ae:80.8264, Loss-topo:0.8036\n",
      "Epoch:356, P:None, Loss:80.8594, Loss-ae:80.1513, Loss-topo:0.7081\n",
      "Epoch:357, P:None, Loss:80.4534, Loss-ae:79.7209, Loss-topo:0.7325\n",
      "Epoch:358, P:None, Loss:78.7608, Loss-ae:78.0081, Loss-topo:0.7527\n",
      "Epoch:359, P:None, Loss:76.3939, Loss-ae:75.6633, Loss-topo:0.7306\n",
      "Epoch:360, P:None, Loss:77.1221, Loss-ae:76.4093, Loss-topo:0.7128\n",
      "Epoch:361, P:None, Loss:77.7045, Loss-ae:76.9355, Loss-topo:0.7690\n",
      "Epoch:362, P:None, Loss:77.9988, Loss-ae:77.2989, Loss-topo:0.6999\n",
      "Epoch:363, P:None, Loss:78.3213, Loss-ae:77.5946, Loss-topo:0.7267\n",
      "Epoch:364, P:None, Loss:76.4199, Loss-ae:75.7308, Loss-topo:0.6891\n",
      "Epoch:365, P:None, Loss:78.8796, Loss-ae:78.1329, Loss-topo:0.7467\n",
      "Epoch:366, P:None, Loss:80.1147, Loss-ae:79.3807, Loss-topo:0.7340\n",
      "Epoch:367, P:None, Loss:78.9368, Loss-ae:78.2109, Loss-topo:0.7259\n",
      "Epoch:368, P:None, Loss:80.9734, Loss-ae:80.1836, Loss-topo:0.7898\n",
      "Epoch:369, P:None, Loss:82.3974, Loss-ae:81.6969, Loss-topo:0.7005\n",
      "Epoch:370, P:None, Loss:80.0359, Loss-ae:79.2700, Loss-topo:0.7659\n",
      "Epoch:371, P:None, Loss:78.5515, Loss-ae:77.9047, Loss-topo:0.6468\n",
      "Epoch:372, P:None, Loss:78.1866, Loss-ae:77.4630, Loss-topo:0.7237\n",
      "Epoch:373, P:None, Loss:78.7247, Loss-ae:78.0126, Loss-topo:0.7121\n",
      "Epoch:374, P:None, Loss:81.1603, Loss-ae:80.4047, Loss-topo:0.7556\n",
      "Epoch:375, P:None, Loss:79.8778, Loss-ae:79.1866, Loss-topo:0.6913\n",
      "Epoch:376, P:None, Loss:80.8112, Loss-ae:80.1316, Loss-topo:0.6796\n",
      "Epoch:377, P:None, Loss:79.5392, Loss-ae:78.8659, Loss-topo:0.6733\n",
      "Epoch:378, P:None, Loss:79.2863, Loss-ae:78.5277, Loss-topo:0.7586\n",
      "Epoch:379, P:None, Loss:77.9311, Loss-ae:77.2331, Loss-topo:0.6981\n",
      "Epoch:380, P:None, Loss:78.7810, Loss-ae:78.0968, Loss-topo:0.6842\n",
      "Epoch:381, P:None, Loss:80.0703, Loss-ae:79.3711, Loss-topo:0.6992\n",
      "Epoch:382, P:None, Loss:80.0301, Loss-ae:79.3835, Loss-topo:0.6467\n",
      "Epoch:383, P:None, Loss:77.4138, Loss-ae:76.7781, Loss-topo:0.6357\n",
      "Epoch:384, P:None, Loss:79.4623, Loss-ae:78.7870, Loss-topo:0.6753\n",
      "Epoch:385, P:None, Loss:80.2217, Loss-ae:79.6037, Loss-topo:0.6180\n",
      "Epoch:386, P:None, Loss:78.4738, Loss-ae:77.8542, Loss-topo:0.6196\n",
      "Epoch:387, P:None, Loss:79.5062, Loss-ae:78.8312, Loss-topo:0.6749\n",
      "Epoch:388, P:None, Loss:78.0670, Loss-ae:77.4194, Loss-topo:0.6476\n",
      "Epoch:389, P:None, Loss:78.3289, Loss-ae:77.6779, Loss-topo:0.6510\n",
      "Epoch:390, P:None, Loss:76.3298, Loss-ae:75.7518, Loss-topo:0.5780\n",
      "Epoch:391, P:None, Loss:78.5414, Loss-ae:77.9496, Loss-topo:0.5918\n",
      "Epoch:392, P:None, Loss:77.3567, Loss-ae:76.7674, Loss-topo:0.5893\n",
      "Epoch:393, P:None, Loss:79.4534, Loss-ae:78.8452, Loss-topo:0.6081\n",
      "Epoch:394, P:None, Loss:77.6974, Loss-ae:77.0920, Loss-topo:0.6054\n",
      "Epoch:395, P:None, Loss:78.0146, Loss-ae:77.4184, Loss-topo:0.5962\n",
      "Epoch:396, P:None, Loss:77.4103, Loss-ae:76.8213, Loss-topo:0.5890\n",
      "Epoch:397, P:None, Loss:77.8679, Loss-ae:77.2410, Loss-topo:0.6269\n",
      "Epoch:398, P:None, Loss:78.6842, Loss-ae:78.0777, Loss-topo:0.6065\n",
      "Epoch:399, P:None, Loss:77.1607, Loss-ae:76.5602, Loss-topo:0.6004\n",
      "Epoch:400, P:None, Loss:79.4478, Loss-ae:78.8814, Loss-topo:0.5664\n",
      "Epoch:401, P:None, Loss:77.4168, Loss-ae:76.8718, Loss-topo:0.5450\n",
      "Epoch:402, P:None, Loss:78.1147, Loss-ae:77.5079, Loss-topo:0.6068\n",
      "Epoch:403, P:None, Loss:80.0199, Loss-ae:79.4192, Loss-topo:0.6007\n",
      "Epoch:404, P:None, Loss:77.1232, Loss-ae:76.5527, Loss-topo:0.5705\n",
      "Epoch:405, P:None, Loss:77.3158, Loss-ae:76.7486, Loss-topo:0.5671\n",
      "Epoch:406, P:None, Loss:79.7532, Loss-ae:79.1842, Loss-topo:0.5690\n",
      "Epoch:407, P:None, Loss:77.3093, Loss-ae:76.7647, Loss-topo:0.5447\n",
      "Epoch:408, P:None, Loss:80.4044, Loss-ae:79.8191, Loss-topo:0.5853\n",
      "Epoch:409, P:None, Loss:77.2178, Loss-ae:76.6775, Loss-topo:0.5403\n",
      "Epoch:410, P:None, Loss:77.6167, Loss-ae:77.0576, Loss-topo:0.5591\n",
      "Epoch:411, P:None, Loss:75.1853, Loss-ae:74.6837, Loss-topo:0.5017\n",
      "Epoch:412, P:None, Loss:78.5476, Loss-ae:78.0054, Loss-topo:0.5422\n",
      "Epoch:413, P:None, Loss:75.9811, Loss-ae:75.4404, Loss-topo:0.5406\n",
      "Epoch:414, P:None, Loss:78.6135, Loss-ae:78.0315, Loss-topo:0.5821\n",
      "Epoch:415, P:None, Loss:76.9630, Loss-ae:76.4270, Loss-topo:0.5360\n",
      "Epoch:416, P:None, Loss:77.3233, Loss-ae:76.8039, Loss-topo:0.5193\n",
      "Epoch:417, P:None, Loss:77.0330, Loss-ae:76.5011, Loss-topo:0.5319\n",
      "Epoch:418, P:None, Loss:76.7131, Loss-ae:76.2124, Loss-topo:0.5008\n",
      "Epoch:419, P:None, Loss:74.3320, Loss-ae:73.8283, Loss-topo:0.5037\n",
      "Epoch:420, P:None, Loss:77.8898, Loss-ae:77.3439, Loss-topo:0.5459\n",
      "Epoch:421, P:None, Loss:78.7914, Loss-ae:78.2252, Loss-topo:0.5662\n",
      "Epoch:422, P:None, Loss:77.6534, Loss-ae:77.1292, Loss-topo:0.5242\n",
      "Epoch:423, P:None, Loss:79.9995, Loss-ae:79.4233, Loss-topo:0.5763\n",
      "Epoch:424, P:None, Loss:77.3326, Loss-ae:76.8001, Loss-topo:0.5324\n",
      "Epoch:425, P:None, Loss:77.1981, Loss-ae:76.7051, Loss-topo:0.4930\n",
      "Epoch:426, P:None, Loss:75.7582, Loss-ae:75.2515, Loss-topo:0.5067\n",
      "Epoch:427, P:None, Loss:79.2832, Loss-ae:78.7685, Loss-topo:0.5147\n",
      "Epoch:428, P:None, Loss:77.3956, Loss-ae:76.8940, Loss-topo:0.5016\n",
      "Epoch:429, P:None, Loss:80.8570, Loss-ae:80.4167, Loss-topo:0.4403\n",
      "Epoch:430, P:None, Loss:75.6030, Loss-ae:75.0548, Loss-topo:0.5483\n",
      "Epoch:431, P:None, Loss:77.5907, Loss-ae:77.0600, Loss-topo:0.5306\n",
      "Epoch:432, P:None, Loss:77.6830, Loss-ae:77.1991, Loss-topo:0.4839\n",
      "Epoch:433, P:None, Loss:76.1600, Loss-ae:75.6616, Loss-topo:0.4985\n",
      "Epoch:434, P:None, Loss:74.2626, Loss-ae:73.8057, Loss-topo:0.4569\n",
      "Epoch:435, P:None, Loss:78.7191, Loss-ae:78.2358, Loss-topo:0.4832\n",
      "Epoch:436, P:None, Loss:77.1073, Loss-ae:76.5968, Loss-topo:0.5104\n",
      "Epoch:437, P:None, Loss:77.0023, Loss-ae:76.5162, Loss-topo:0.4861\n",
      "Epoch:438, P:None, Loss:75.0645, Loss-ae:74.6128, Loss-topo:0.4517\n",
      "Epoch:439, P:None, Loss:74.2060, Loss-ae:73.7911, Loss-topo:0.4149\n",
      "Epoch:440, P:None, Loss:79.9040, Loss-ae:79.4016, Loss-topo:0.5024\n",
      "Epoch:441, P:None, Loss:76.2095, Loss-ae:75.7746, Loss-topo:0.4348\n",
      "Epoch:442, P:None, Loss:76.5477, Loss-ae:76.0979, Loss-topo:0.4498\n",
      "Epoch:443, P:None, Loss:76.7870, Loss-ae:76.3292, Loss-topo:0.4578\n",
      "Epoch:444, P:None, Loss:76.6845, Loss-ae:76.2154, Loss-topo:0.4690\n",
      "Epoch:445, P:None, Loss:77.2165, Loss-ae:76.7325, Loss-topo:0.4840\n",
      "Epoch:446, P:None, Loss:76.2550, Loss-ae:75.7659, Loss-topo:0.4891\n",
      "Epoch:447, P:None, Loss:78.2288, Loss-ae:77.7105, Loss-topo:0.5183\n",
      "Epoch:448, P:None, Loss:75.6963, Loss-ae:75.2399, Loss-topo:0.4564\n",
      "Epoch:449, P:None, Loss:77.7047, Loss-ae:77.2481, Loss-topo:0.4566\n",
      "Epoch:450, P:None, Loss:74.0324, Loss-ae:73.6470, Loss-topo:0.3854\n",
      "Epoch:451, P:None, Loss:75.8587, Loss-ae:75.4226, Loss-topo:0.4362\n",
      "Epoch:452, P:None, Loss:78.6517, Loss-ae:78.1640, Loss-topo:0.4877\n",
      "Epoch:453, P:None, Loss:79.1138, Loss-ae:78.6536, Loss-topo:0.4601\n",
      "Epoch:454, P:None, Loss:77.9893, Loss-ae:77.4928, Loss-topo:0.4965\n",
      "Epoch:455, P:None, Loss:73.6399, Loss-ae:73.2346, Loss-topo:0.4053\n",
      "Epoch:456, P:None, Loss:75.2472, Loss-ae:74.8265, Loss-topo:0.4207\n",
      "Epoch:457, P:None, Loss:82.2890, Loss-ae:81.8483, Loss-topo:0.4407\n",
      "Epoch:458, P:None, Loss:75.6330, Loss-ae:75.1889, Loss-topo:0.4441\n",
      "Epoch:459, P:None, Loss:76.7474, Loss-ae:76.3128, Loss-topo:0.4346\n",
      "Epoch:460, P:None, Loss:76.1123, Loss-ae:75.7158, Loss-topo:0.3965\n",
      "Epoch:461, P:None, Loss:77.3752, Loss-ae:76.9569, Loss-topo:0.4183\n",
      "Epoch:462, P:None, Loss:74.6488, Loss-ae:74.2416, Loss-topo:0.4072\n",
      "Epoch:463, P:None, Loss:74.7023, Loss-ae:74.3444, Loss-topo:0.3580\n",
      "Epoch:464, P:None, Loss:76.0992, Loss-ae:75.6464, Loss-topo:0.4527\n",
      "Epoch:465, P:None, Loss:75.4459, Loss-ae:75.0159, Loss-topo:0.4300\n",
      "Epoch:466, P:None, Loss:80.5381, Loss-ae:80.0526, Loss-topo:0.4855\n",
      "Epoch:467, P:None, Loss:74.3008, Loss-ae:73.9211, Loss-topo:0.3797\n",
      "Epoch:468, P:None, Loss:75.2964, Loss-ae:74.8951, Loss-topo:0.4013\n",
      "Epoch:469, P:None, Loss:79.0687, Loss-ae:78.6435, Loss-topo:0.4252\n",
      "Epoch:470, P:None, Loss:76.4419, Loss-ae:76.0511, Loss-topo:0.3908\n",
      "Epoch:471, P:None, Loss:77.1318, Loss-ae:76.6691, Loss-topo:0.4627\n",
      "Epoch:472, P:None, Loss:73.2464, Loss-ae:72.8455, Loss-topo:0.4009\n",
      "Epoch:473, P:None, Loss:77.5653, Loss-ae:77.1539, Loss-topo:0.4113\n",
      "Epoch:474, P:None, Loss:73.9776, Loss-ae:73.5521, Loss-topo:0.4256\n",
      "Epoch:475, P:None, Loss:76.7846, Loss-ae:76.3930, Loss-topo:0.3916\n"
     ]
    }
   ],
   "source": [
    "import pickle\n",
    "\n",
    "# Variables to reuse\n",
    "save_id = 4\n",
    "model_name = 'ConvolutionalAutoencoder_custom_dim3'\n",
    "model_dim = 10\n",
    "model_epc = 500\n",
    "model_lams = [1, 10, 100, 1000]\n",
    "\n",
    "for model_lam in model_lams:\n",
    "    # Training model\n",
    "    topo_reducer = CustomTopoDimRedTransform(\n",
    "        model_name=model_name,\n",
    "        model_lambda=model_lam,\n",
    "        patience=None,\n",
    "        num_epochs=model_epc,\n",
    "        from_dim=180,\n",
    "        to_dim=model_dim\n",
    "    )\n",
    "\n",
    "    title_plot = \"MotionSense 20Hz\\nTopoAE lambda {}\".format(model_lam)\n",
    "    topo_reducer.fit(train_HD, train_Y, title_plot=title_plot)\n",
    "\n",
    "    # Variables to reuse\n",
    "    filename = 'data/{}_{}_{}_{}_{}.pkl'.format(model_name, model_lam, model_dim, model_epc, save_id)\n",
    "\n",
    "    filehandler = open(filename, 'wb')\n",
    "    pickle.dump(topo_reducer, filehandler)\n",
    "    filehandler.close()"
   ]
  }
 ],
 "metadata": {
  "kernelspec": {
   "display_name": "Python 3 (ipykernel)",
   "language": "python",
   "name": "python3"
  },
  "language_info": {
   "codemirror_mode": {
    "name": "ipython",
    "version": 3
   },
   "file_extension": ".py",
   "mimetype": "text/x-python",
   "name": "python",
   "nbconvert_exporter": "python",
   "pygments_lexer": "ipython3",
   "version": "3.8.10"
  }
 },
 "nbformat": 4,
 "nbformat_minor": 5
}
