{
 "cells": [
  {
   "cell_type": "code",
   "execution_count": 1,
   "id": "7e1630ed-63c8-4ee7-86c9-62dfb528b9a2",
   "metadata": {
    "execution": {
     "iopub.execute_input": "2022-11-28T20:53:14.603762Z",
     "iopub.status.busy": "2022-11-28T20:53:14.603365Z",
     "iopub.status.idle": "2022-11-28T20:53:14.628882Z",
     "shell.execute_reply": "2022-11-28T20:53:14.627792Z",
     "shell.execute_reply.started": "2022-11-28T20:53:14.603721Z"
    }
   },
   "outputs": [],
   "source": [
    "%load_ext autoreload\n",
    "%autoreload 2"
   ]
  },
  {
   "cell_type": "code",
   "execution_count": 2,
   "id": "c1e18129",
   "metadata": {
    "execution": {
     "iopub.execute_input": "2022-11-28T20:53:14.630666Z",
     "iopub.status.busy": "2022-11-28T20:53:14.630283Z",
     "iopub.status.idle": "2022-11-28T20:53:17.265291Z",
     "shell.execute_reply": "2022-11-28T20:53:17.263385Z",
     "shell.execute_reply.started": "2022-11-28T20:53:14.630629Z"
    }
   },
   "outputs": [
    {
     "name": "stdout",
     "output_type": "stream",
     "text": [
      "True\n",
      "2\n",
      "0\n",
      "<torch.cuda.device object at 0x7f6e446a7c70>\n",
      "NVIDIA TITAN Xp\n"
     ]
    }
   ],
   "source": [
    "import torch\n",
    "print(torch.cuda.is_available()) # True\n",
    "print(torch.cuda.device_count()) # 1\n",
    "print(torch.cuda.current_device()) # 0\n",
    "print(torch.cuda.device(0)) # <torch.cuda.device at 0x7efce0b03be0>\n",
    "print(torch.cuda.get_device_name(0)) # 'GeForce GTX 950M'"
   ]
  },
  {
   "cell_type": "code",
   "execution_count": 3,
   "id": "2da911e3-e82f-47c9-8090-f71f453956ee",
   "metadata": {
    "execution": {
     "iopub.execute_input": "2022-11-28T20:53:17.269112Z",
     "iopub.status.busy": "2022-11-28T20:53:17.268013Z",
     "iopub.status.idle": "2022-11-28T20:53:17.305820Z",
     "shell.execute_reply": "2022-11-28T20:53:17.304237Z",
     "shell.execute_reply.started": "2022-11-28T20:53:17.269033Z"
    }
   },
   "outputs": [],
   "source": [
    "import sys\n",
    "sys.path.append(\"../../..\")"
   ]
  },
  {
   "cell_type": "code",
   "execution_count": 4,
   "id": "5f067405-ab8c-4f22-b056-ab9e1febe71c",
   "metadata": {
    "execution": {
     "iopub.execute_input": "2022-11-28T20:53:17.307953Z",
     "iopub.status.busy": "2022-11-28T20:53:17.307388Z",
     "iopub.status.idle": "2022-11-28T20:53:18.369100Z",
     "shell.execute_reply": "2022-11-28T20:53:18.367570Z",
     "shell.execute_reply.started": "2022-11-28T20:53:17.307917Z"
    }
   },
   "outputs": [],
   "source": [
    "import numpy as np\n",
    "import pandas as pd\n",
    "import matplotlib.pyplot as plt"
   ]
  },
  {
   "cell_type": "code",
   "execution_count": 5,
   "id": "cc5007e3-ef19-4658-ac7d-2a6f617bb9c6",
   "metadata": {
    "execution": {
     "iopub.execute_input": "2022-11-28T20:53:18.374448Z",
     "iopub.status.busy": "2022-11-28T20:53:18.373692Z",
     "iopub.status.idle": "2022-11-28T20:53:30.148044Z",
     "shell.execute_reply": "2022-11-28T20:53:30.146545Z",
     "shell.execute_reply.started": "2022-11-28T20:53:18.374402Z"
    }
   },
   "outputs": [
    {
     "name": "stderr",
     "output_type": "stream",
     "text": [
      "2022-11-28 20:53:27.043797: I tensorflow/core/platform/cpu_feature_guard.cc:193] This TensorFlow binary is optimized with oneAPI Deep Neural Network Library (oneDNN) to use the following CPU instructions in performance-critical operations:  AVX2 AVX512F FMA\n",
      "To enable them in other operations, rebuild TensorFlow with the appropriate compiler flags.\n",
      "2022-11-28 20:53:28.661107: W tensorflow/compiler/xla/stream_executor/platform/default/dso_loader.cc:64] Could not load dynamic library 'libnvinfer.so.7'; dlerror: libnvinfer.so.7: cannot open shared object file: No such file or directory\n",
      "2022-11-28 20:53:28.661226: W tensorflow/compiler/xla/stream_executor/platform/default/dso_loader.cc:64] Could not load dynamic library 'libnvinfer_plugin.so.7'; dlerror: libnvinfer_plugin.so.7: cannot open shared object file: No such file or directory\n",
      "2022-11-28 20:53:28.661242: W tensorflow/compiler/tf2tensorrt/utils/py_utils.cc:38] TF-TRT Warning: Cannot dlopen some TensorRT libraries. If you would like to use Nvidia GPU with TensorRT, please make sure the missing libraries mentioned above are installed properly.\n"
     ]
    }
   ],
   "source": [
    "from librep.datasets.har.loaders import (\n",
    "    MotionSense_BalancedView20HZ\n",
    ")"
   ]
  },
  {
   "cell_type": "code",
   "execution_count": 6,
   "id": "2f9f66b2-7b1c-4d4e-a0e3-cde9552a595a",
   "metadata": {
    "execution": {
     "iopub.execute_input": "2022-11-28T20:53:30.151813Z",
     "iopub.status.busy": "2022-11-28T20:53:30.150596Z",
     "iopub.status.idle": "2022-11-28T20:53:30.263706Z",
     "shell.execute_reply": "2022-11-28T20:53:30.262169Z",
     "shell.execute_reply.started": "2022-11-28T20:53:30.151732Z"
    }
   },
   "outputs": [],
   "source": [
    "from librep.transforms.topo_ae import (\n",
    "    TopologicalDimensionalityReduction,\n",
    "    CustomTopoDimRedTransform\n",
    ")\n",
    "from librep.transforms import UMAP\n",
    "from sklearn.manifold import TSNE\n",
    "from experiments.Topological_ae.Experiment_utils import *\n",
    "from librep.datasets.multimodal import TransformMultiModalDataset\n",
    "from librep.transforms.fft import FFT"
   ]
  },
  {
   "cell_type": "code",
   "execution_count": 7,
   "id": "85bea424-07ff-47ec-945a-aef385afe7a7",
   "metadata": {
    "execution": {
     "iopub.execute_input": "2022-11-28T20:53:30.265967Z",
     "iopub.status.busy": "2022-11-28T20:53:30.265343Z",
     "iopub.status.idle": "2022-11-28T20:53:30.353568Z",
     "shell.execute_reply": "2022-11-28T20:53:30.351598Z",
     "shell.execute_reply.started": "2022-11-28T20:53:30.265923Z"
    }
   },
   "outputs": [],
   "source": [
    "# MotionSense Loader\n",
    "loader = MotionSense_BalancedView20HZ(\n",
    "    root_dir=\"../../../data/views/MotionSense/balanced_view_20Hz_with_gravity_9.81_acc_standard\", \n",
    "    download=False\n",
    ")\n",
    "\n",
    "# Print the readme (optional)\n",
    "# loader.print_readme()"
   ]
  },
  {
   "cell_type": "code",
   "execution_count": 8,
   "id": "3d817b0c-4e6b-4227-9b48-cd23c3df190d",
   "metadata": {
    "execution": {
     "iopub.execute_input": "2022-11-28T20:53:30.356920Z",
     "iopub.status.busy": "2022-11-28T20:53:30.356159Z",
     "iopub.status.idle": "2022-11-28T20:53:31.149937Z",
     "shell.execute_reply": "2022-11-28T20:53:31.148566Z",
     "shell.execute_reply.started": "2022-11-28T20:53:30.356850Z"
    }
   },
   "outputs": [
    {
     "data": {
      "text/plain": [
       "(PandasMultiModalDataset: samples=4020, features=360, no. window=6, label_columns='standard activity code',\n",
       " PandasMultiModalDataset: samples=1020, features=360, no. window=6, label_columns='standard activity code')"
      ]
     },
     "execution_count": 8,
     "metadata": {},
     "output_type": "execute_result"
    }
   ],
   "source": [
    "# Load the dataset\n",
    "# If concat_train_validation is true, return a tuple (train+validation, test)\n",
    "train_val, test = loader.load(concat_train_validation=True, label=loader.standard_label)\n",
    "train_val, test"
   ]
  },
  {
   "cell_type": "code",
   "execution_count": 9,
   "id": "9491b1e0-0b60-439c-9bed-ea0ee7918b68",
   "metadata": {
    "execution": {
     "iopub.execute_input": "2022-11-28T20:53:31.152203Z",
     "iopub.status.busy": "2022-11-28T20:53:31.151595Z",
     "iopub.status.idle": "2022-11-28T20:53:31.286227Z",
     "shell.execute_reply": "2022-11-28T20:53:31.284457Z",
     "shell.execute_reply.started": "2022-11-28T20:53:31.152164Z"
    }
   },
   "outputs": [],
   "source": [
    "train_HD = np.array(train_val[:][0])\n",
    "train_Y = np.array(train_val[:][1])\n",
    "test_HD = np.array(test[:][0])\n",
    "test_Y = np.array(test[:][1])"
   ]
  },
  {
   "cell_type": "code",
   "execution_count": 10,
   "id": "cc4810ac-c560-4b23-9b72-481a2d0f1a91",
   "metadata": {
    "execution": {
     "iopub.execute_input": "2022-11-28T20:53:31.288711Z",
     "iopub.status.busy": "2022-11-28T20:53:31.288119Z",
     "iopub.status.idle": "2022-11-28T20:53:31.397282Z",
     "shell.execute_reply": "2022-11-28T20:53:31.395690Z",
     "shell.execute_reply.started": "2022-11-28T20:53:31.288664Z"
    }
   },
   "outputs": [
    {
     "name": "stdout",
     "output_type": "stream",
     "text": [
      "(4020, 360) (4020,) (1020, 360) (1020,)\n"
     ]
    }
   ],
   "source": [
    "print(train_HD.shape, train_Y.shape, test_HD.shape, test_Y.shape)"
   ]
  },
  {
   "cell_type": "markdown",
   "id": "4c93d061-6ea0-418b-b690-2d977f6297c9",
   "metadata": {},
   "source": [
    "# Aplicar FFT"
   ]
  },
  {
   "cell_type": "code",
   "execution_count": 11,
   "id": "e5255de5-0259-404a-a2d8-507ad4f2ee2f",
   "metadata": {
    "execution": {
     "iopub.execute_input": "2022-11-28T20:53:31.399409Z",
     "iopub.status.busy": "2022-11-28T20:53:31.398846Z",
     "iopub.status.idle": "2022-11-28T20:53:31.487496Z",
     "shell.execute_reply": "2022-11-28T20:53:31.485867Z",
     "shell.execute_reply.started": "2022-11-28T20:53:31.399372Z"
    }
   },
   "outputs": [],
   "source": [
    "fft_transform = FFT(centered = True)\n",
    "transformer = TransformMultiModalDataset(\n",
    "    transforms=[fft_transform],\n",
    "    new_window_name_prefix=\"fft.\"\n",
    ")"
   ]
  },
  {
   "cell_type": "code",
   "execution_count": 12,
   "id": "29195f38-f8a9-4167-937f-d3f98ddc7642",
   "metadata": {
    "execution": {
     "iopub.execute_input": "2022-11-28T20:53:31.489903Z",
     "iopub.status.busy": "2022-11-28T20:53:31.489284Z",
     "iopub.status.idle": "2022-11-28T20:53:32.301386Z",
     "shell.execute_reply": "2022-11-28T20:53:32.298205Z",
     "shell.execute_reply.started": "2022-11-28T20:53:31.489860Z"
    }
   },
   "outputs": [],
   "source": [
    "train_dataset_fft = transformer(train_val)\n",
    "test_dataset_fft = transformer(test)"
   ]
  },
  {
   "cell_type": "code",
   "execution_count": 13,
   "id": "3c8cfc25-0323-498a-931d-1249078f2796",
   "metadata": {
    "execution": {
     "iopub.execute_input": "2022-11-28T20:53:32.304662Z",
     "iopub.status.busy": "2022-11-28T20:53:32.303817Z",
     "iopub.status.idle": "2022-11-28T20:53:32.404263Z",
     "shell.execute_reply": "2022-11-28T20:53:32.402657Z",
     "shell.execute_reply.started": "2022-11-28T20:53:32.304602Z"
    }
   },
   "outputs": [
    {
     "name": "stdout",
     "output_type": "stream",
     "text": [
      "(4020, 180)\n",
      "(1020, 180)\n"
     ]
    }
   ],
   "source": [
    "print(train_dataset_fft.X.shape)\n",
    "print(test_dataset_fft.X.shape)"
   ]
  },
  {
   "cell_type": "code",
   "execution_count": 14,
   "id": "d413cc20-e5b5-4594-b1f7-f11153c00c5f",
   "metadata": {
    "execution": {
     "iopub.execute_input": "2022-11-28T20:53:32.406643Z",
     "iopub.status.busy": "2022-11-28T20:53:32.406025Z",
     "iopub.status.idle": "2022-11-28T20:53:32.494711Z",
     "shell.execute_reply": "2022-11-28T20:53:32.493163Z",
     "shell.execute_reply.started": "2022-11-28T20:53:32.406600Z"
    }
   },
   "outputs": [
    {
     "name": "stdout",
     "output_type": "stream",
     "text": [
      "797.3368276806895\n"
     ]
    }
   ],
   "source": [
    "print(np.max(train_dataset_fft.X))"
   ]
  },
  {
   "cell_type": "code",
   "execution_count": 15,
   "id": "fea2e105-a571-4a2f-ac76-096b08a6ef2f",
   "metadata": {
    "execution": {
     "iopub.execute_input": "2022-11-28T20:53:32.497998Z",
     "iopub.status.busy": "2022-11-28T20:53:32.497226Z",
     "iopub.status.idle": "2022-11-28T20:53:32.602140Z",
     "shell.execute_reply": "2022-11-28T20:53:32.600702Z",
     "shell.execute_reply.started": "2022-11-28T20:53:32.497926Z"
    }
   },
   "outputs": [],
   "source": [
    "train_HD = train_dataset_fft.X\n",
    "train_LD = None\n",
    "train_Y = train_dataset_fft.y\n",
    "test_HD = test_dataset_fft.X\n",
    "test_LD = None\n",
    "test_Y = test_dataset_fft.y"
   ]
  },
  {
   "cell_type": "code",
   "execution_count": 16,
   "id": "ee13aef1-77c7-42a9-930b-b1a56f980d25",
   "metadata": {
    "execution": {
     "iopub.execute_input": "2022-11-28T20:53:32.604507Z",
     "iopub.status.busy": "2022-11-28T20:53:32.603902Z",
     "iopub.status.idle": "2022-11-28T20:53:32.695243Z",
     "shell.execute_reply": "2022-11-28T20:53:32.693238Z",
     "shell.execute_reply.started": "2022-11-28T20:53:32.604467Z"
    }
   },
   "outputs": [
    {
     "name": "stdout",
     "output_type": "stream",
     "text": [
      "(4020, 180) (4020,) (1020, 180) (1020,)\n"
     ]
    }
   ],
   "source": [
    "print(train_HD.shape, train_Y.shape, test_HD.shape, test_Y.shape)"
   ]
  },
  {
   "cell_type": "markdown",
   "id": "04adbc2e-4af6-40a4-85dc-99b2336d656c",
   "metadata": {},
   "source": [
    "# Visualization helper"
   ]
  },
  {
   "cell_type": "code",
   "execution_count": 17,
   "id": "d56d7ec7-6bf5-4c32-91aa-d48a8746a71e",
   "metadata": {
    "execution": {
     "iopub.execute_input": "2022-11-28T20:53:32.698659Z",
     "iopub.status.busy": "2022-11-28T20:53:32.697911Z",
     "iopub.status.idle": "2022-11-28T20:53:32.791647Z",
     "shell.execute_reply": "2022-11-28T20:53:32.789953Z",
     "shell.execute_reply.started": "2022-11-28T20:53:32.698590Z"
    }
   },
   "outputs": [],
   "source": [
    "# 0: sit (569 train, 101 validation, 170 test)\n",
    "# 1: stand (569 train, 101 validation, 170 test)\n",
    "# 2: walk (569 train, 101 validation, 170 test)\n",
    "# 3: stair up (569 train, 101 validation, 170 test)\n",
    "# 4: stair down (569 train, 101 validation, 170 test)\n",
    "# 5: run (569 train, 101 validation, 170 test)\n",
    "def visualize(X, Y):\n",
    "    labels = ['sit', 'stand', 'walk', 'stair up', 'stair down', 'run']\n",
    "    df = pd.DataFrame(dict(x=X[:,0], y=X[:,1], label=Y))\n",
    "    groups = df.groupby('label')\n",
    "    fig, ax = plt.subplots()\n",
    "    ax.margins(0.05)\n",
    "    for name, group in groups:\n",
    "        ax.plot(group.x, group.y, marker='.', linestyle='', ms=8, label=labels[name])\n",
    "    # Shrink current axis by 20%\n",
    "    box = ax.get_position()\n",
    "    ax.set_position([box.x0, box.y0, box.width * 0.8, box.height])\n",
    "\n",
    "    # Put a legend to the right of the current axis\n",
    "    ax.legend(loc='center left', bbox_to_anchor=(1, 0.5))\n",
    "    plt.show()"
   ]
  },
  {
   "cell_type": "markdown",
   "id": "d49f04a7-fe78-4692-b571-44911744a350",
   "metadata": {},
   "source": [
    "## Reading model"
   ]
  },
  {
   "cell_type": "code",
   "execution_count": 18,
   "id": "87afbe46-932a-4912-b87f-59787849db0d",
   "metadata": {
    "execution": {
     "iopub.execute_input": "2022-11-28T20:53:32.794039Z",
     "iopub.status.busy": "2022-11-28T20:53:32.793423Z",
     "iopub.status.idle": "2022-11-28T20:53:32.880660Z",
     "shell.execute_reply": "2022-11-28T20:53:32.879304Z",
     "shell.execute_reply.started": "2022-11-28T20:53:32.793995Z"
    }
   },
   "outputs": [],
   "source": [
    "# Variables to reuse\n",
    "save_id = 0\n",
    "model_name = 'ConvolutionalAutoencoder_custom_dim3'\n",
    "model_dim = 10\n",
    "model_epc = 10\n",
    "model_lam = 0"
   ]
  },
  {
   "cell_type": "code",
   "execution_count": 19,
   "id": "b7b2e31d-2ac8-496e-8203-c5e8b583619a",
   "metadata": {
    "execution": {
     "iopub.execute_input": "2022-11-28T20:53:32.889102Z",
     "iopub.status.busy": "2022-11-28T20:53:32.888491Z",
     "iopub.status.idle": "2022-11-28T20:53:32.974370Z",
     "shell.execute_reply": "2022-11-28T20:53:32.972965Z",
     "shell.execute_reply.started": "2022-11-28T20:53:32.889058Z"
    },
    "tags": []
   },
   "outputs": [],
   "source": [
    "filename = 'data/{}_{}_{}_{}_{}.pkl'.format(model_name, model_lam, model_dim, model_epc, save_id)"
   ]
  },
  {
   "cell_type": "code",
   "execution_count": 20,
   "id": "413827b9-da2c-4347-ada8-2f9642851a21",
   "metadata": {
    "execution": {
     "iopub.execute_input": "2022-11-28T20:53:32.976386Z",
     "iopub.status.busy": "2022-11-28T20:53:32.975869Z",
     "iopub.status.idle": "2022-11-28T20:53:33.350702Z",
     "shell.execute_reply": "2022-11-28T20:53:33.349188Z",
     "shell.execute_reply.started": "2022-11-28T20:53:32.976350Z"
    },
    "tags": []
   },
   "outputs": [],
   "source": [
    "import pickle\n",
    "filehandler = open(filename, 'rb')\n",
    "model_reducer = pickle.load(filehandler)\n",
    "filehandler.close()"
   ]
  },
  {
   "cell_type": "code",
   "execution_count": 21,
   "id": "3e98d66c-b630-493e-a3d0-6aee364a1caa",
   "metadata": {
    "execution": {
     "iopub.execute_input": "2022-11-28T20:53:33.352899Z",
     "iopub.status.busy": "2022-11-28T20:53:33.352373Z",
     "iopub.status.idle": "2022-11-28T20:53:40.871975Z",
     "shell.execute_reply": "2022-11-28T20:53:40.870016Z",
     "shell.execute_reply.started": "2022-11-28T20:53:33.352862Z"
    }
   },
   "outputs": [],
   "source": [
    "train_LD = model_reducer.transform(train_HD)\n",
    "test_LD = model_reducer.transform(test_HD)"
   ]
  },
  {
   "cell_type": "code",
   "execution_count": 22,
   "id": "4456c1f2-f856-44b5-b4c3-1c1b59781951",
   "metadata": {
    "execution": {
     "iopub.execute_input": "2022-11-28T20:53:40.874805Z",
     "iopub.status.busy": "2022-11-28T20:53:40.874309Z",
     "iopub.status.idle": "2022-11-28T20:53:41.000259Z",
     "shell.execute_reply": "2022-11-28T20:53:40.999052Z",
     "shell.execute_reply.started": "2022-11-28T20:53:40.874748Z"
    }
   },
   "outputs": [
    {
     "name": "stdout",
     "output_type": "stream",
     "text": [
      "TRAIN LD RESHAPED (4020, 10)\n",
      "TEST LD RESHAPED (1020, 10)\n"
     ]
    }
   ],
   "source": [
    "train_LD = np.reshape(model_reducer.transform(train_HD), (-1, model_dim))\n",
    "print('TRAIN LD RESHAPED', train_LD.shape)\n",
    "test_LD = np.reshape(model_reducer.transform(test_HD), (-1, model_dim))\n",
    "print('TEST LD RESHAPED', test_LD.shape)"
   ]
  },
  {
   "cell_type": "code",
   "execution_count": 23,
   "id": "52697960-6cb0-4f76-a033-21828d9effbd",
   "metadata": {
    "execution": {
     "iopub.execute_input": "2022-11-28T20:53:41.002225Z",
     "iopub.status.busy": "2022-11-28T20:53:41.001743Z",
     "iopub.status.idle": "2022-11-28T20:53:57.373984Z",
     "shell.execute_reply": "2022-11-28T20:53:57.371913Z",
     "shell.execute_reply.started": "2022-11-28T20:53:41.002187Z"
    }
   },
   "outputs": [
    {
     "data": {
      "text/plain": [
       "{'RF-ACC': 0.762549019607843,\n",
       " 'RF-F1': 0.7548111364680328,\n",
       " 'SVC-ACC': 0.7607843137254902,\n",
       " 'SVC-F1': 0.7579548378335957,\n",
       " 'KNN-ACC': 0.753921568627451,\n",
       " 'KNN-F1': 0.7487885140161009}"
      ]
     },
     "execution_count": 23,
     "metadata": {},
     "output_type": "execute_result"
    }
   ],
   "source": [
    "# experiments_result = run_experiments(train_HD, train_LD, train_Y, test_HD, test_LD, test_Y)\n",
    "# experiments_result"
   ]
  },
  {
   "cell_type": "code",
   "execution_count": 24,
   "id": "97126520-db06-4926-9f62-b8382a68d077",
   "metadata": {
    "execution": {
     "iopub.execute_input": "2022-11-28T20:53:57.377579Z",
     "iopub.status.busy": "2022-11-28T20:53:57.376665Z",
     "iopub.status.idle": "2022-11-28T20:56:30.315685Z",
     "shell.execute_reply": "2022-11-28T20:56:30.314353Z",
     "shell.execute_reply.started": "2022-11-28T20:53:57.377507Z"
    },
    "tags": []
   },
   "outputs": [
    {
     "name": "stderr",
     "output_type": "stream",
     "text": [
      "/usr/local/lib/python3.8/dist-packages/sklearn/manifold/_t_sne.py:800: FutureWarning: The default initialization in TSNE will change from 'random' to 'pca' in 1.2.\n",
      "  warnings.warn(\n",
      "/usr/local/lib/python3.8/dist-packages/sklearn/manifold/_t_sne.py:810: FutureWarning: The default learning rate in TSNE will change from 200.0 to 'auto' in 1.2.\n",
      "  warnings.warn(\n"
     ]
    },
    {
     "data": {
      "image/png": "[encoded data removed]",
      "text/plain": [
       "<Figure size 640x480 with 1 Axes>"
      ]
     },
     "metadata": {},
     "output_type": "display_data"
    }
   ],
   "source": [
    "# Visualizing\n",
    "tsne = TSNE()\n",
    "test_2D = tsne.fit_transform(test_LD)\n",
    "visualize(test_2D, test_Y)"
   ]
  },
  {
   "cell_type": "code",
   "execution_count": 25,
   "id": "e5154540-0a5b-470e-b1d5-ebe6562afd39",
   "metadata": {
    "execution": {
     "iopub.execute_input": "2022-11-28T20:56:30.318292Z",
     "iopub.status.busy": "2022-11-28T20:56:30.317550Z",
     "iopub.status.idle": "2022-11-28T20:56:30.450724Z",
     "shell.execute_reply": "2022-11-28T20:56:30.448431Z",
     "shell.execute_reply.started": "2022-11-28T20:56:30.318234Z"
    },
    "tags": []
   },
   "outputs": [
    {
     "data": {
      "text/plain": [
       "[2192.9523315429688,\n",
       " 1179.6461087740386,\n",
       " 540.5448056734525,\n",
       " 433.29185603215143,\n",
       " 391.7328197772686,\n",
       " 345.10167283278247,\n",
       " 283.7007986215445,\n",
       " 248.4894285935622,\n",
       " 228.09786987304688,\n",
       " 208.76931938758264]"
      ]
     },
     "execution_count": 25,
     "metadata": {},
     "output_type": "execute_result"
    }
   ],
   "source": [
    "model_reducer.train_final_error"
   ]
  }
 ],
 "metadata": {
  "kernelspec": {
   "display_name": "Python 3 (ipykernel)",
   "language": "python",
   "name": "python3"
  },
  "language_info": {
   "codemirror_mode": {
    "name": "ipython",
    "version": 3
   },
   "file_extension": ".py",
   "mimetype": "text/x-python",
   "name": "python",
   "nbconvert_exporter": "python",
   "pygments_lexer": "ipython3",
   "version": "3.8.10"
  }
 },
 "nbformat": 4,
 "nbformat_minor": 5
}
