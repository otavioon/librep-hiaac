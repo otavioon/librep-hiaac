{
 "cells": [
  {
   "cell_type": "code",
   "execution_count": 1,
   "id": "7e1630ed-63c8-4ee7-86c9-62dfb528b9a2",
   "metadata": {
    "execution": {
     "iopub.execute_input": "2022-11-29T11:06:59.794701Z",
     "iopub.status.busy": "2022-11-29T11:06:59.794223Z",
     "iopub.status.idle": "2022-11-29T11:06:59.831405Z",
     "shell.execute_reply": "2022-11-29T11:06:59.830017Z",
     "shell.execute_reply.started": "2022-11-29T11:06:59.794654Z"
    }
   },
   "outputs": [],
   "source": [
    "%load_ext autoreload\n",
    "%autoreload 2"
   ]
  },
  {
   "cell_type": "code",
   "execution_count": 2,
   "id": "2da911e3-e82f-47c9-8090-f71f453956ee",
   "metadata": {
    "execution": {
     "iopub.execute_input": "2022-11-29T11:06:59.833123Z",
     "iopub.status.busy": "2022-11-29T11:06:59.832765Z",
     "iopub.status.idle": "2022-11-29T11:06:59.871911Z",
     "shell.execute_reply": "2022-11-29T11:06:59.870536Z",
     "shell.execute_reply.started": "2022-11-29T11:06:59.833089Z"
    },
    "tags": []
   },
   "outputs": [],
   "source": [
    "import sys\n",
    "sys.path.append(\"../../..\")"
   ]
  },
  {
   "cell_type": "code",
   "execution_count": 3,
   "id": "5f067405-ab8c-4f22-b056-ab9e1febe71c",
   "metadata": {
    "execution": {
     "iopub.execute_input": "2022-11-29T11:06:59.873781Z",
     "iopub.status.busy": "2022-11-29T11:06:59.873261Z",
     "iopub.status.idle": "2022-11-29T11:07:01.070176Z",
     "shell.execute_reply": "2022-11-29T11:07:01.068277Z",
     "shell.execute_reply.started": "2022-11-29T11:06:59.873747Z"
    }
   },
   "outputs": [],
   "source": [
    "import numpy as np\n",
    "import pandas as pd\n",
    "import matplotlib.pyplot as plt"
   ]
  },
  {
   "cell_type": "code",
   "execution_count": 4,
   "id": "cc5007e3-ef19-4658-ac7d-2a6f617bb9c6",
   "metadata": {
    "execution": {
     "iopub.execute_input": "2022-11-29T11:07:01.073034Z",
     "iopub.status.busy": "2022-11-29T11:07:01.072049Z",
     "iopub.status.idle": "2022-11-29T11:07:12.439033Z",
     "shell.execute_reply": "2022-11-29T11:07:12.437543Z",
     "shell.execute_reply.started": "2022-11-29T11:07:01.072958Z"
    }
   },
   "outputs": [
    {
     "name": "stderr",
     "output_type": "stream",
     "text": [
      "2022-11-29 11:07:09.582897: I tensorflow/core/platform/cpu_feature_guard.cc:193] This TensorFlow binary is optimized with oneAPI Deep Neural Network Library (oneDNN) to use the following CPU instructions in performance-critical operations:  AVX2 AVX512F FMA\n",
      "To enable them in other operations, rebuild TensorFlow with the appropriate compiler flags.\n",
      "2022-11-29 11:07:09.803571: W tensorflow/compiler/xla/stream_executor/platform/default/dso_loader.cc:64] Could not load dynamic library 'libcudart.so.11.0'; dlerror: libcudart.so.11.0: cannot open shared object file: No such file or directory\n",
      "2022-11-29 11:07:09.803607: I tensorflow/compiler/xla/stream_executor/cuda/cudart_stub.cc:29] Ignore above cudart dlerror if you do not have a GPU set up on your machine.\n",
      "2022-11-29 11:07:11.041211: W tensorflow/compiler/xla/stream_executor/platform/default/dso_loader.cc:64] Could not load dynamic library 'libnvinfer.so.7'; dlerror: libnvinfer.so.7: cannot open shared object file: No such file or directory\n",
      "2022-11-29 11:07:11.041326: W tensorflow/compiler/xla/stream_executor/platform/default/dso_loader.cc:64] Could not load dynamic library 'libnvinfer_plugin.so.7'; dlerror: libnvinfer_plugin.so.7: cannot open shared object file: No such file or directory\n",
      "2022-11-29 11:07:11.041341: W tensorflow/compiler/tf2tensorrt/utils/py_utils.cc:38] TF-TRT Warning: Cannot dlopen some TensorRT libraries. If you would like to use Nvidia GPU with TensorRT, please make sure the missing libraries mentioned above are installed properly.\n"
     ]
    }
   ],
   "source": [
    "from librep.datasets.har.loaders import (\n",
    "    MotionSense_BalancedView20HZ\n",
    ")"
   ]
  },
  {
   "cell_type": "code",
   "execution_count": 5,
   "id": "2f9f66b2-7b1c-4d4e-a0e3-cde9552a595a",
   "metadata": {
    "execution": {
     "iopub.execute_input": "2022-11-29T11:07:12.441919Z",
     "iopub.status.busy": "2022-11-29T11:07:12.441180Z",
     "iopub.status.idle": "2022-11-29T11:07:14.749767Z",
     "shell.execute_reply": "2022-11-29T11:07:14.748110Z",
     "shell.execute_reply.started": "2022-11-29T11:07:12.441875Z"
    }
   },
   "outputs": [],
   "source": [
    "from librep.transforms.topo_ae import (\n",
    "    TopologicalDimensionalityReduction,\n",
    "    CustomTopoDimRedTransform\n",
    ")\n",
    "from librep.transforms import UMAP\n",
    "from sklearn.manifold import TSNE\n",
    "from experiments.Topological_ae.Experiment_utils import *\n",
    "from librep.datasets.multimodal import TransformMultiModalDataset\n",
    "from librep.transforms.fft import FFT"
   ]
  },
  {
   "cell_type": "markdown",
   "id": "d49f04a7-fe78-4692-b571-44911744a350",
   "metadata": {},
   "source": [
    "## Reading model"
   ]
  },
  {
   "cell_type": "code",
   "execution_count": 7,
   "id": "61b896c7-2cf0-43ab-ab29-e5cca2314518",
   "metadata": {
    "execution": {
     "iopub.execute_input": "2022-11-29T11:07:37.800957Z",
     "iopub.status.busy": "2022-11-29T11:07:37.800072Z",
     "iopub.status.idle": "2022-11-29T11:07:38.507841Z",
     "shell.execute_reply": "2022-11-29T11:07:38.506008Z",
     "shell.execute_reply.started": "2022-11-29T11:07:37.800855Z"
    },
    "tags": []
   },
   "outputs": [
    {
     "name": "stdout",
     "output_type": "stream",
     "text": [
      "╒══════════════════╤══════════╤═══════════════╤═══════════════╤═══════════════╤═══════════════╤═══════════════╤═══════════════╕\n",
      "│ Modelo           │   Lambda │ RF-ACC        │ RF-F1         │ SVC-ACC       │ SVC-F1        │ KNN-ACC       │ KNN-F1        │\n",
      "╞══════════════════╪══════════╪═══════════════╪═══════════════╪═══════════════╪═══════════════╪═══════════════╪═══════════════╡\n",
      "│ Conv_custom_dim3 │     0    │ 0.7799±0.0058 │ 0.7791±0.0062 │ 0.6756±0.0151 │ 0.7301±0.0153 │ 0.7593±0.0198 │ 0.7581±0.0196 │\n",
      "├──────────────────┼──────────┼───────────────┼───────────────┼───────────────┼───────────────┼───────────────┼───────────────┤\n",
      "│ Conv_custom_dim3 │     0.1  │ 0.7842±0.0182 │ 0.7831±0.0184 │ 0.6984±0.0153 │ 0.7425±0.0134 │ 0.7504±0.0080 │ 0.7478±0.0086 │\n",
      "├──────────────────┼──────────┼───────────────┼───────────────┼───────────────┼───────────────┼───────────────┼───────────────┤\n",
      "│ Conv_custom_dim3 │     0.01 │ 0.7730±0.0498 │ 0.7798±0.0340 │ 0.6951±0.0174 │ 0.7489±0.0180 │ 0.7447±0.0340 │ 0.7526±0.0204 │\n",
      "├──────────────────┼──────────┼───────────────┼───────────────┼───────────────┼───────────────┼───────────────┼───────────────┤\n",
      "│ Conv_custom_dim3 │     1    │ 0.7655±0.0429 │ 0.7651±0.0413 │ 0.6837±0.0146 │ 0.7213±0.0294 │ 0.7285±0.0465 │ 0.7277±0.0461 │\n",
      "├──────────────────┼──────────┼───────────────┼───────────────┼───────────────┼───────────────┼───────────────┼───────────────┤\n",
      "│ Conv_custom_dim3 │    10    │ 0.7742±0.0175 │ 0.7740±0.0160 │ 0.7089±0.0265 │ 0.7404±0.0100 │ 0.7463±0.0318 │ 0.7456±0.0304 │\n",
      "╘══════════════════╧══════════╧═══════════════╧═══════════════╧═══════════════╧═══════════════╧═══════════════╧═══════════════╛\n"
     ]
    }
   ],
   "source": [
    "import pickle\n",
    "import matplotlib.pyplot as plt\n",
    "from tabulate import tabulate\n",
    "# Variables to reuse\n",
    "save_ids = range(5)\n",
    "model_name = 'ConvolutionalAutoencoder_custom_dim3'\n",
    "model_dim = 10\n",
    "model_epc = 500\n",
    "model_lams = [0, 0.1, 0.01, 1, 10]\n",
    "\n",
    "data = {\n",
    "    'Modelo': ['Conv_custom_dim3']*len(model_lams),\n",
    "    'Lambda': model_lams,\n",
    "    'RF-ACC': [],\n",
    "    'RF-F1': [],\n",
    "    'SVC-ACC': [],\n",
    "    'SVC-F1': [],\n",
    "    'KNN-ACC': [],\n",
    "    'KNN-F1': [],\n",
    "    }\n",
    "for model_lam in model_lams:\n",
    "    rf_acc = []\n",
    "    rf_f1 = []\n",
    "    svc_acc = []\n",
    "    svc_f1 = []\n",
    "    knn_acc = []\n",
    "    knn_f1 = []\n",
    "    recon_error = []\n",
    "    for save_id in save_ids:\n",
    "        filename = 'data/{}_{}_{}_{}_{}.pkl'.format(model_name, model_lam, model_dim, model_epc, save_id)\n",
    "        filehandler = open(filename, 'rb')\n",
    "        model = pickle.load(filehandler)\n",
    "        filehandler.close()\n",
    "        recon_error.append(model.train_recon_error[-1])\n",
    "\n",
    "        filename = 'data/{}_{}_{}_{}_{}.acc_f1.pkl'.format(model_name, model_lam, model_dim, model_epc, save_id)\n",
    "        filehandler = open(filename, 'rb')\n",
    "        evaluation = pickle.load(filehandler)\n",
    "        filehandler.close()\n",
    "        rf_acc.append(evaluation['RF-ACC'])\n",
    "        rf_f1.append(evaluation['RF-F1'])\n",
    "        svc_acc.append(evaluation['SVC-ACC'])\n",
    "        svc_f1.append(evaluation['SVC-F1'])\n",
    "        knn_acc.append(evaluation['KNN-ACC'])\n",
    "        knn_f1.append(evaluation['KNN-F1'])\n",
    "    data['RF-ACC'].append(\"{:.4f}±{:.4f}\".format(np.mean(rf_acc), np.std(rf_acc)))\n",
    "    data['RF-F1'].append(\"{:.4f}±{:.4f}\".format(np.mean(rf_f1), np.std(rf_f1)))\n",
    "    data['SVC-ACC'].append(\"{:.4f}±{:.4f}\".format(np.mean(svc_acc), np.std(svc_acc)))\n",
    "    data['SVC-F1'].append(\"{:.4f}±{:.4f}\".format(np.mean(svc_f1), np.std(svc_f1)))\n",
    "    data['KNN-ACC'].append(\"{:.4f}±{:.4f}\".format(np.mean(knn_acc), np.std(knn_acc)))\n",
    "    data['KNN-F1'].append(\"{:.4f}±{:.4f}\".format(np.mean(knn_f1), np.std(knn_f1)))\n",
    "print(tabulate(data, headers='keys', tablefmt='fancy_grid'))"
   ]
  }
 ],
 "metadata": {
  "kernelspec": {
   "display_name": "Python 3 (ipykernel)",
   "language": "python",
   "name": "python3"
  },
  "language_info": {
   "codemirror_mode": {
    "name": "ipython",
    "version": 3
   },
   "file_extension": ".py",
   "mimetype": "text/x-python",
   "name": "python",
   "nbconvert_exporter": "python",
   "pygments_lexer": "ipython3",
   "version": "3.8.10"
  }
 },
 "nbformat": 4,
 "nbformat_minor": 5
}
