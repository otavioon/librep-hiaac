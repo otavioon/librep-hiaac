{
 "cells": [
  {
   "cell_type": "code",
   "execution_count": 1,
   "id": "40df6f11-a295-4bb3-8ad7-c167a0adb0e6",
   "metadata": {},
   "outputs": [],
   "source": [
    "%load_ext autoreload\n",
    "%autoreload 2"
   ]
  },
  {
   "cell_type": "code",
   "execution_count": 2,
   "id": "96ae4be2-202a-476a-85fa-478520f4a951",
   "metadata": {},
   "outputs": [
    {
     "name": "stderr",
     "output_type": "stream",
     "text": [
      "2022-10-25 11:02:06.459020: W tensorflow/stream_executor/platform/default/dso_loader.cc:64] Could not load dynamic library 'libcudart.so.11.0'; dlerror: libcudart.so.11.0: cannot open shared object file: No such file or directory\n",
      "2022-10-25 11:02:06.459041: I tensorflow/stream_executor/cuda/cudart_stub.cc:29] Ignore above cudart dlerror if you do not have a GPU set up on your machine.\n"
     ]
    }
   ],
   "source": [
    "from pathlib import Path  # For defining dataset Paths\n",
    "import sys                # For include librep package\n",
    "sys.path.append(\"../../..\")\n",
    "\n",
    "# Third party imports\n",
    "import pandas as pd\n",
    "import numpy as np\n",
    "import matplotlib.pyplot as plt\n",
    "\n",
    "# Librep imports\n",
    "from librep.utils.dataset import PandasDatasetsIO          # For quick load train, test and validation CSVs\n",
    "from librep.datasets.multimodal import PandasMultiModalDataset # Wrap CSVs to librep's `Dataset` interface"
   ]
  },
  {
   "cell_type": "code",
   "execution_count": 3,
   "id": "7a423355-2d96-48a5-918f-e29e4777de03",
   "metadata": {},
   "outputs": [],
   "source": [
    "from librep.utils.workflow import SimpleTrainEvalWorkflow, MultiRunWorkflow\n",
    "from librep.metrics.report import ClassificationReport\n",
    "from librep.estimators import RandomForestClassifier\n",
    "from sklearn.svm import SVC\n",
    "from sklearn.neighbors import KNeighborsClassifier\n",
    "from librep.metrics.dimred_evaluator import DimensionalityReductionQualityReport\n",
    "\n",
    "from librep.transforms.topo_ae import TopologicalDimensionalityReduction\n",
    "from librep.estimators.ae.torch.models.topological_ae.topological_ae import TopologicallyRegularizedAutoencoder\n",
    "from librep.transforms import UMAP\n",
    "from tabulate import tabulate"
   ]
  },
  {
   "cell_type": "markdown",
   "id": "69f7a12c-ed5b-4424-bdf2-0635e4393c6a",
   "metadata": {},
   "source": [
    "# Preparing Table\n",
    "\n",
    "Columns:\n",
    "* RF (Accuracy, F1)\n",
    "* SVC (Accuracy, F1)\n",
    "* KNN (Accuracy, F1)\n",
    "* Trustworthiness\n",
    "* Continuity\n",
    "* Co-k-nearest-neighbor-size\n",
    "\n",
    "Rows:\n",
    "* UMAP (2 dim)\n",
    "* Generic Autoencoders\n",
    "* Topological autoencoders (L=1)\n",
    "* Topological autoencoders (L=100)"
   ]
  },
  {
   "cell_type": "code",
   "execution_count": 4,
   "id": "3a4c4d9e-dcbe-4ab1-90d2-d9d5df30229c",
   "metadata": {},
   "outputs": [
    {
     "name": "stdout",
     "output_type": "stream",
     "text": [
      "╒═════════════════╤════════╤══════════════╤═══════════════════╤═════════════════════╕\n",
      "│ Metrics         │ UMAP   │ Generic-AE   │ Topo-AEv2 (L=1)   │ Topo-AEv2 (L=100)   │\n",
      "╞═════════════════╪════════╪══════════════╪═══════════════════╪═════════════════════╡\n",
      "│ RF-ACC          │ -      │ -            │ -                 │ -                   │\n",
      "├─────────────────┼────────┼──────────────┼───────────────────┼─────────────────────┤\n",
      "│ RF-F1           │ -      │ -            │ -                 │ -                   │\n",
      "├─────────────────┼────────┼──────────────┼───────────────────┼─────────────────────┤\n",
      "│ SVC-ACC         │ -      │ -            │ -                 │ -                   │\n",
      "├─────────────────┼────────┼──────────────┼───────────────────┼─────────────────────┤\n",
      "│ SVC-F1          │ -      │ -            │ -                 │ -                   │\n",
      "├─────────────────┼────────┼──────────────┼───────────────────┼─────────────────────┤\n",
      "│ KNN-ACC         │ -      │ -            │ -                 │ -                   │\n",
      "├─────────────────┼────────┼──────────────┼───────────────────┼─────────────────────┤\n",
      "│ KNN-F1          │ -      │ -            │ -                 │ -                   │\n",
      "├─────────────────┼────────┼──────────────┼───────────────────┼─────────────────────┤\n",
      "│ Trustworthiness │ -      │ -            │ -                 │ -                   │\n",
      "├─────────────────┼────────┼──────────────┼───────────────────┼─────────────────────┤\n",
      "│ Continuity      │ -      │ -            │ -                 │ -                   │\n",
      "├─────────────────┼────────┼──────────────┼───────────────────┼─────────────────────┤\n",
      "│ Co-k-NNs        │ -      │ -            │ -                 │ -                   │\n",
      "╘═════════════════╧════════╧══════════════╧═══════════════════╧═════════════════════╛\n"
     ]
    }
   ],
   "source": [
    "def print_table(table_info):\n",
    "    tabulated = tabulate(\n",
    "        table_info,\n",
    "        headers='keys',\n",
    "        tablefmt='fancy_grid',\n",
    "        missingval='-'\n",
    "    )\n",
    "    print(tabulated)\n",
    "\n",
    "\n",
    "table_info = {\n",
    "    'Metrics': ['RF-ACC', 'RF-F1',\n",
    "                'SVC-ACC', 'SVC-F1',\n",
    "                'KNN-ACC', 'KNN-F1',\n",
    "                'Trustworthiness',\n",
    "                'Continuity',\n",
    "                'Co-k-NNs'],\n",
    "    'UMAP': ['-']*9,\n",
    "    'Generic-AE': ['-']*9,\n",
    "    'Topo-AEv2 (L=1)': ['-']*9,\n",
    "    'Topo-AEv2 (L=100)': ['-']*9\n",
    "}\n",
    "print_table(table_info)"
   ]
  },
  {
   "cell_type": "markdown",
   "id": "33a3c1d5-1e3c-4bf2-b4cb-86dabeb01b2e",
   "metadata": {},
   "source": [
    "# Visualization helper"
   ]
  },
  {
   "cell_type": "code",
   "execution_count": 5,
   "id": "41934c11-dbd6-4ac2-956d-d6a103e1a41d",
   "metadata": {},
   "outputs": [],
   "source": [
    "def visualize(X, Y, filtered=None, xlim=None, ylim=None):\n",
    "    data_grouped = list(zip(X, Y))\n",
    "    uniques = filtered\n",
    "    if filtered is None:\n",
    "        uniques = np.unique(Y)\n",
    "    \n",
    "    for uval in uniques:\n",
    "        data = [pair[0] for pair in data_grouped if pair[1]==uval]\n",
    "        data_x = [unit[0] for unit in data]\n",
    "        data_y = [unit[1] for unit in data]\n",
    "        plt.scatter(data_x, data_y, label = uval)\n",
    "    # print(data)\n",
    "    if xlim:\n",
    "        plt.xlim(xlim)\n",
    "    if ylim:\n",
    "        plt.ylim(ylim)\n",
    "    plt.grid()\n",
    "    plt.legend()\n",
    "    plt.show()"
   ]
  },
  {
   "cell_type": "code",
   "execution_count": 6,
   "id": "42894747-02af-43dc-a7de-82a40fc37f72",
   "metadata": {},
   "outputs": [],
   "source": [
    "# Path for KuHar resampled to 20Hz view with the same activities (and labels numbers)\n",
    "# It is assumed that the directory will contain (train.csv, test.csv and validation.csv)\n",
    "dataset_path = Path(\"../../../data/old-views/KuHar/resampled_view_20Hz\")"
   ]
  },
  {
   "cell_type": "code",
   "execution_count": 7,
   "id": "de491788-8150-4578-a248-996c054c21a2",
   "metadata": {},
   "outputs": [],
   "source": [
    "# Kuhar dataframes\n",
    "train, validation, test = PandasDatasetsIO(dataset_path).load()"
   ]
  },
  {
   "cell_type": "code",
   "execution_count": 8,
   "id": "017e09b2-e292-4e2a-80a4-0e506c9a4311",
   "metadata": {},
   "outputs": [
    {
     "data": {
      "text/html": [
       "<div>\n",
       "<style scoped>\n",
       "    .dataframe tbody tr th:only-of-type {\n",
       "        vertical-align: middle;\n",
       "    }\n",
       "\n",
       "    .dataframe tbody tr th {\n",
       "        vertical-align: top;\n",
       "    }\n",
       "\n",
       "    .dataframe thead th {\n",
       "        text-align: right;\n",
       "    }\n",
       "</style>\n",
       "<table border=\"1\" class=\"dataframe\">\n",
       "  <thead>\n",
       "    <tr style=\"text-align: right;\">\n",
       "      <th></th>\n",
       "      <th>Unnamed: 0</th>\n",
       "      <th>accel-x-0</th>\n",
       "      <th>accel-x-1</th>\n",
       "      <th>accel-x-2</th>\n",
       "      <th>accel-x-3</th>\n",
       "      <th>accel-x-4</th>\n",
       "      <th>accel-x-5</th>\n",
       "      <th>accel-x-6</th>\n",
       "      <th>accel-x-7</th>\n",
       "      <th>accel-x-8</th>\n",
       "      <th>...</th>\n",
       "      <th>accel-start-time</th>\n",
       "      <th>gyro-start-time</th>\n",
       "      <th>accel-end-time</th>\n",
       "      <th>gyro-end-time</th>\n",
       "      <th>activity code</th>\n",
       "      <th>length</th>\n",
       "      <th>serial</th>\n",
       "      <th>index</th>\n",
       "      <th>user</th>\n",
       "      <th>normalized activity code</th>\n",
       "    </tr>\n",
       "  </thead>\n",
       "  <tbody>\n",
       "    <tr>\n",
       "      <th>0</th>\n",
       "      <td>0</td>\n",
       "      <td>0.001911</td>\n",
       "      <td>-0.014536</td>\n",
       "      <td>0.005845</td>\n",
       "      <td>0.003675</td>\n",
       "      <td>-0.014972</td>\n",
       "      <td>0.025607</td>\n",
       "      <td>0.000478</td>\n",
       "      <td>-0.031141</td>\n",
       "      <td>-0.014827</td>\n",
       "      <td>...</td>\n",
       "      <td>23.235</td>\n",
       "      <td>23.223</td>\n",
       "      <td>26.260</td>\n",
       "      <td>26.249</td>\n",
       "      <td>0</td>\n",
       "      <td>300</td>\n",
       "      <td>1</td>\n",
       "      <td>2100</td>\n",
       "      <td>1051</td>\n",
       "      <td>1</td>\n",
       "    </tr>\n",
       "    <tr>\n",
       "      <th>1</th>\n",
       "      <td>1</td>\n",
       "      <td>0.004114</td>\n",
       "      <td>-0.003186</td>\n",
       "      <td>0.000759</td>\n",
       "      <td>0.012450</td>\n",
       "      <td>-0.032074</td>\n",
       "      <td>0.007270</td>\n",
       "      <td>-0.000470</td>\n",
       "      <td>0.006980</td>\n",
       "      <td>0.021400</td>\n",
       "      <td>...</td>\n",
       "      <td>56.292</td>\n",
       "      <td>56.292</td>\n",
       "      <td>59.245</td>\n",
       "      <td>59.245</td>\n",
       "      <td>0</td>\n",
       "      <td>300</td>\n",
       "      <td>1</td>\n",
       "      <td>5700</td>\n",
       "      <td>1037</td>\n",
       "      <td>1</td>\n",
       "    </tr>\n",
       "    <tr>\n",
       "      <th>2</th>\n",
       "      <td>2</td>\n",
       "      <td>-0.011282</td>\n",
       "      <td>-0.002432</td>\n",
       "      <td>-0.003199</td>\n",
       "      <td>0.008152</td>\n",
       "      <td>-0.021763</td>\n",
       "      <td>0.000309</td>\n",
       "      <td>-0.004968</td>\n",
       "      <td>-0.009551</td>\n",
       "      <td>0.001497</td>\n",
       "      <td>...</td>\n",
       "      <td>27.268</td>\n",
       "      <td>27.267</td>\n",
       "      <td>30.290</td>\n",
       "      <td>30.291</td>\n",
       "      <td>0</td>\n",
       "      <td>300</td>\n",
       "      <td>1</td>\n",
       "      <td>2700</td>\n",
       "      <td>1075</td>\n",
       "      <td>1</td>\n",
       "    </tr>\n",
       "    <tr>\n",
       "      <th>3</th>\n",
       "      <td>3</td>\n",
       "      <td>-0.009241</td>\n",
       "      <td>-0.004666</td>\n",
       "      <td>0.021606</td>\n",
       "      <td>-0.007200</td>\n",
       "      <td>0.003091</td>\n",
       "      <td>0.001630</td>\n",
       "      <td>0.005057</td>\n",
       "      <td>-0.008149</td>\n",
       "      <td>0.013167</td>\n",
       "      <td>...</td>\n",
       "      <td>39.421</td>\n",
       "      <td>39.420</td>\n",
       "      <td>42.441</td>\n",
       "      <td>42.440</td>\n",
       "      <td>0</td>\n",
       "      <td>300</td>\n",
       "      <td>6</td>\n",
       "      <td>3900</td>\n",
       "      <td>1008</td>\n",
       "      <td>1</td>\n",
       "    </tr>\n",
       "    <tr>\n",
       "      <th>4</th>\n",
       "      <td>4</td>\n",
       "      <td>-0.013083</td>\n",
       "      <td>-0.005612</td>\n",
       "      <td>0.001645</td>\n",
       "      <td>0.006823</td>\n",
       "      <td>-0.004159</td>\n",
       "      <td>0.000415</td>\n",
       "      <td>0.008178</td>\n",
       "      <td>0.002637</td>\n",
       "      <td>-0.000827</td>\n",
       "      <td>...</td>\n",
       "      <td>23.703</td>\n",
       "      <td>23.703</td>\n",
       "      <td>26.656</td>\n",
       "      <td>26.656</td>\n",
       "      <td>0</td>\n",
       "      <td>300</td>\n",
       "      <td>1</td>\n",
       "      <td>2400</td>\n",
       "      <td>1038</td>\n",
       "      <td>1</td>\n",
       "    </tr>\n",
       "  </tbody>\n",
       "</table>\n",
       "<p>5 rows × 371 columns</p>\n",
       "</div>"
      ],
      "text/plain": [
       "   Unnamed: 0  accel-x-0  accel-x-1  accel-x-2  accel-x-3  accel-x-4  \\\n",
       "0           0   0.001911  -0.014536   0.005845   0.003675  -0.014972   \n",
       "1           1   0.004114  -0.003186   0.000759   0.012450  -0.032074   \n",
       "2           2  -0.011282  -0.002432  -0.003199   0.008152  -0.021763   \n",
       "3           3  -0.009241  -0.004666   0.021606  -0.007200   0.003091   \n",
       "4           4  -0.013083  -0.005612   0.001645   0.006823  -0.004159   \n",
       "\n",
       "   accel-x-5  accel-x-6  accel-x-7  accel-x-8  ...  accel-start-time  \\\n",
       "0   0.025607   0.000478  -0.031141  -0.014827  ...            23.235   \n",
       "1   0.007270  -0.000470   0.006980   0.021400  ...            56.292   \n",
       "2   0.000309  -0.004968  -0.009551   0.001497  ...            27.268   \n",
       "3   0.001630   0.005057  -0.008149   0.013167  ...            39.421   \n",
       "4   0.000415   0.008178   0.002637  -0.000827  ...            23.703   \n",
       "\n",
       "   gyro-start-time  accel-end-time  gyro-end-time  activity code  length  \\\n",
       "0           23.223          26.260         26.249              0     300   \n",
       "1           56.292          59.245         59.245              0     300   \n",
       "2           27.267          30.290         30.291              0     300   \n",
       "3           39.420          42.441         42.440              0     300   \n",
       "4           23.703          26.656         26.656              0     300   \n",
       "\n",
       "   serial  index  user  normalized activity code  \n",
       "0       1   2100  1051                         1  \n",
       "1       1   5700  1037                         1  \n",
       "2       1   2700  1075                         1  \n",
       "3       6   3900  1008                         1  \n",
       "4       1   2400  1038                         1  \n",
       "\n",
       "[5 rows x 371 columns]"
      ]
     },
     "execution_count": 8,
     "metadata": {},
     "output_type": "execute_result"
    }
   ],
   "source": [
    "train.head()"
   ]
  },
  {
   "cell_type": "code",
   "execution_count": 12,
   "id": "809d729e-fdac-40b6-bff2-082932c51389",
   "metadata": {},
   "outputs": [
    {
     "data": {
      "text/html": [
       "<div>\n",
       "<style scoped>\n",
       "    .dataframe tbody tr th:only-of-type {\n",
       "        vertical-align: middle;\n",
       "    }\n",
       "\n",
       "    .dataframe tbody tr th {\n",
       "        vertical-align: top;\n",
       "    }\n",
       "\n",
       "    .dataframe thead th {\n",
       "        text-align: right;\n",
       "    }\n",
       "</style>\n",
       "<table border=\"1\" class=\"dataframe\">\n",
       "  <thead>\n",
       "    <tr style=\"text-align: right;\">\n",
       "      <th></th>\n",
       "      <th>Unnamed: 0</th>\n",
       "      <th>accel-x-0</th>\n",
       "      <th>accel-x-1</th>\n",
       "      <th>accel-x-2</th>\n",
       "      <th>accel-x-3</th>\n",
       "      <th>accel-x-4</th>\n",
       "      <th>accel-x-5</th>\n",
       "      <th>accel-x-6</th>\n",
       "      <th>accel-x-7</th>\n",
       "      <th>accel-x-8</th>\n",
       "      <th>...</th>\n",
       "      <th>accel-start-time</th>\n",
       "      <th>gyro-start-time</th>\n",
       "      <th>accel-end-time</th>\n",
       "      <th>gyro-end-time</th>\n",
       "      <th>activity code</th>\n",
       "      <th>length</th>\n",
       "      <th>serial</th>\n",
       "      <th>index</th>\n",
       "      <th>user</th>\n",
       "      <th>normalized activity code</th>\n",
       "    </tr>\n",
       "  </thead>\n",
       "  <tbody>\n",
       "    <tr>\n",
       "      <th>0</th>\n",
       "      <td>0</td>\n",
       "      <td>-0.021279</td>\n",
       "      <td>0.013468</td>\n",
       "      <td>-0.011310</td>\n",
       "      <td>-0.005406</td>\n",
       "      <td>0.020326</td>\n",
       "      <td>-0.018800</td>\n",
       "      <td>0.004246</td>\n",
       "      <td>0.007885</td>\n",
       "      <td>-0.011867</td>\n",
       "      <td>...</td>\n",
       "      <td>50.376</td>\n",
       "      <td>50.377</td>\n",
       "      <td>53.330</td>\n",
       "      <td>53.329</td>\n",
       "      <td>0</td>\n",
       "      <td>300</td>\n",
       "      <td>6</td>\n",
       "      <td>5100</td>\n",
       "      <td>1002</td>\n",
       "      <td>1</td>\n",
       "    </tr>\n",
       "    <tr>\n",
       "      <th>1</th>\n",
       "      <td>1</td>\n",
       "      <td>-0.002741</td>\n",
       "      <td>-0.010053</td>\n",
       "      <td>0.022356</td>\n",
       "      <td>-0.005700</td>\n",
       "      <td>-0.013992</td>\n",
       "      <td>0.013761</td>\n",
       "      <td>-0.004215</td>\n",
       "      <td>0.003825</td>\n",
       "      <td>0.001193</td>\n",
       "      <td>...</td>\n",
       "      <td>34.257</td>\n",
       "      <td>34.256</td>\n",
       "      <td>37.279</td>\n",
       "      <td>37.278</td>\n",
       "      <td>0</td>\n",
       "      <td>300</td>\n",
       "      <td>1</td>\n",
       "      <td>2400</td>\n",
       "      <td>1071</td>\n",
       "      <td>1</td>\n",
       "    </tr>\n",
       "    <tr>\n",
       "      <th>2</th>\n",
       "      <td>2</td>\n",
       "      <td>0.022436</td>\n",
       "      <td>0.029110</td>\n",
       "      <td>0.033489</td>\n",
       "      <td>-0.000278</td>\n",
       "      <td>0.031139</td>\n",
       "      <td>0.027510</td>\n",
       "      <td>-0.035793</td>\n",
       "      <td>0.061300</td>\n",
       "      <td>0.076966</td>\n",
       "      <td>...</td>\n",
       "      <td>23.000</td>\n",
       "      <td>23.021</td>\n",
       "      <td>26.000</td>\n",
       "      <td>26.011</td>\n",
       "      <td>0</td>\n",
       "      <td>300</td>\n",
       "      <td>1</td>\n",
       "      <td>2100</td>\n",
       "      <td>1006</td>\n",
       "      <td>1</td>\n",
       "    </tr>\n",
       "    <tr>\n",
       "      <th>3</th>\n",
       "      <td>3</td>\n",
       "      <td>0.058840</td>\n",
       "      <td>-0.010605</td>\n",
       "      <td>-0.053551</td>\n",
       "      <td>-0.018422</td>\n",
       "      <td>-0.008076</td>\n",
       "      <td>0.046824</td>\n",
       "      <td>-0.065903</td>\n",
       "      <td>0.029762</td>\n",
       "      <td>-0.025369</td>\n",
       "      <td>...</td>\n",
       "      <td>33.360</td>\n",
       "      <td>33.361</td>\n",
       "      <td>36.382</td>\n",
       "      <td>36.381</td>\n",
       "      <td>0</td>\n",
       "      <td>300</td>\n",
       "      <td>1</td>\n",
       "      <td>3300</td>\n",
       "      <td>1062</td>\n",
       "      <td>1</td>\n",
       "    </tr>\n",
       "    <tr>\n",
       "      <th>4</th>\n",
       "      <td>4</td>\n",
       "      <td>-0.004448</td>\n",
       "      <td>0.025600</td>\n",
       "      <td>0.041798</td>\n",
       "      <td>0.008540</td>\n",
       "      <td>0.058998</td>\n",
       "      <td>-0.025635</td>\n",
       "      <td>0.023540</td>\n",
       "      <td>0.030024</td>\n",
       "      <td>0.038034</td>\n",
       "      <td>...</td>\n",
       "      <td>51.047</td>\n",
       "      <td>51.082</td>\n",
       "      <td>54.036</td>\n",
       "      <td>54.071</td>\n",
       "      <td>0</td>\n",
       "      <td>300</td>\n",
       "      <td>1</td>\n",
       "      <td>5100</td>\n",
       "      <td>1002</td>\n",
       "      <td>1</td>\n",
       "    </tr>\n",
       "    <tr>\n",
       "      <th>...</th>\n",
       "      <td>...</td>\n",
       "      <td>...</td>\n",
       "      <td>...</td>\n",
       "      <td>...</td>\n",
       "      <td>...</td>\n",
       "      <td>...</td>\n",
       "      <td>...</td>\n",
       "      <td>...</td>\n",
       "      <td>...</td>\n",
       "      <td>...</td>\n",
       "      <td>...</td>\n",
       "      <td>...</td>\n",
       "      <td>...</td>\n",
       "      <td>...</td>\n",
       "      <td>...</td>\n",
       "      <td>...</td>\n",
       "      <td>...</td>\n",
       "      <td>...</td>\n",
       "      <td>...</td>\n",
       "      <td>...</td>\n",
       "      <td>...</td>\n",
       "    </tr>\n",
       "    <tr>\n",
       "      <th>103</th>\n",
       "      <td>103</td>\n",
       "      <td>1.812188</td>\n",
       "      <td>-1.363256</td>\n",
       "      <td>-1.107902</td>\n",
       "      <td>-0.398794</td>\n",
       "      <td>6.946164</td>\n",
       "      <td>-1.175522</td>\n",
       "      <td>-3.794939</td>\n",
       "      <td>-12.774434</td>\n",
       "      <td>10.715954</td>\n",
       "      <td>...</td>\n",
       "      <td>100.078</td>\n",
       "      <td>100.079</td>\n",
       "      <td>103.101</td>\n",
       "      <td>103.100</td>\n",
       "      <td>17</td>\n",
       "      <td>300</td>\n",
       "      <td>2</td>\n",
       "      <td>9900</td>\n",
       "      <td>1086</td>\n",
       "      <td>17</td>\n",
       "    </tr>\n",
       "    <tr>\n",
       "      <th>104</th>\n",
       "      <td>104</td>\n",
       "      <td>-3.930554</td>\n",
       "      <td>-0.858333</td>\n",
       "      <td>-1.649402</td>\n",
       "      <td>-1.636995</td>\n",
       "      <td>-2.248331</td>\n",
       "      <td>0.826358</td>\n",
       "      <td>5.017454</td>\n",
       "      <td>4.163620</td>\n",
       "      <td>4.687047</td>\n",
       "      <td>...</td>\n",
       "      <td>6.072</td>\n",
       "      <td>6.071</td>\n",
       "      <td>9.093</td>\n",
       "      <td>9.094</td>\n",
       "      <td>17</td>\n",
       "      <td>300</td>\n",
       "      <td>2</td>\n",
       "      <td>600</td>\n",
       "      <td>1086</td>\n",
       "      <td>17</td>\n",
       "    </tr>\n",
       "    <tr>\n",
       "      <th>105</th>\n",
       "      <td>105</td>\n",
       "      <td>-0.339082</td>\n",
       "      <td>-7.972644</td>\n",
       "      <td>-2.062553</td>\n",
       "      <td>7.242298</td>\n",
       "      <td>7.987153</td>\n",
       "      <td>5.894993</td>\n",
       "      <td>-0.323923</td>\n",
       "      <td>-3.816436</td>\n",
       "      <td>-3.005231</td>\n",
       "      <td>...</td>\n",
       "      <td>42.453</td>\n",
       "      <td>42.462</td>\n",
       "      <td>45.475</td>\n",
       "      <td>45.485</td>\n",
       "      <td>17</td>\n",
       "      <td>300</td>\n",
       "      <td>1</td>\n",
       "      <td>4200</td>\n",
       "      <td>1086</td>\n",
       "      <td>17</td>\n",
       "    </tr>\n",
       "    <tr>\n",
       "      <th>106</th>\n",
       "      <td>106</td>\n",
       "      <td>-3.373832</td>\n",
       "      <td>0.856221</td>\n",
       "      <td>1.631452</td>\n",
       "      <td>0.989593</td>\n",
       "      <td>2.707865</td>\n",
       "      <td>-0.712865</td>\n",
       "      <td>1.609405</td>\n",
       "      <td>-1.019713</td>\n",
       "      <td>-0.290725</td>\n",
       "      <td>...</td>\n",
       "      <td>27.288</td>\n",
       "      <td>27.300</td>\n",
       "      <td>30.311</td>\n",
       "      <td>30.323</td>\n",
       "      <td>17</td>\n",
       "      <td>300</td>\n",
       "      <td>1</td>\n",
       "      <td>2700</td>\n",
       "      <td>1086</td>\n",
       "      <td>17</td>\n",
       "    </tr>\n",
       "    <tr>\n",
       "      <th>107</th>\n",
       "      <td>107</td>\n",
       "      <td>3.288202</td>\n",
       "      <td>1.412169</td>\n",
       "      <td>-4.066074</td>\n",
       "      <td>-1.165259</td>\n",
       "      <td>-2.333750</td>\n",
       "      <td>-0.883621</td>\n",
       "      <td>0.481071</td>\n",
       "      <td>3.067909</td>\n",
       "      <td>-0.660125</td>\n",
       "      <td>...</td>\n",
       "      <td>45.484</td>\n",
       "      <td>45.495</td>\n",
       "      <td>48.508</td>\n",
       "      <td>48.516</td>\n",
       "      <td>17</td>\n",
       "      <td>300</td>\n",
       "      <td>1</td>\n",
       "      <td>4500</td>\n",
       "      <td>1086</td>\n",
       "      <td>17</td>\n",
       "    </tr>\n",
       "  </tbody>\n",
       "</table>\n",
       "<p>108 rows × 371 columns</p>\n",
       "</div>"
      ],
      "text/plain": [
       "     Unnamed: 0  accel-x-0  accel-x-1  accel-x-2  accel-x-3  accel-x-4  \\\n",
       "0             0  -0.021279   0.013468  -0.011310  -0.005406   0.020326   \n",
       "1             1  -0.002741  -0.010053   0.022356  -0.005700  -0.013992   \n",
       "2             2   0.022436   0.029110   0.033489  -0.000278   0.031139   \n",
       "3             3   0.058840  -0.010605  -0.053551  -0.018422  -0.008076   \n",
       "4             4  -0.004448   0.025600   0.041798   0.008540   0.058998   \n",
       "..          ...        ...        ...        ...        ...        ...   \n",
       "103         103   1.812188  -1.363256  -1.107902  -0.398794   6.946164   \n",
       "104         104  -3.930554  -0.858333  -1.649402  -1.636995  -2.248331   \n",
       "105         105  -0.339082  -7.972644  -2.062553   7.242298   7.987153   \n",
       "106         106  -3.373832   0.856221   1.631452   0.989593   2.707865   \n",
       "107         107   3.288202   1.412169  -4.066074  -1.165259  -2.333750   \n",
       "\n",
       "     accel-x-5  accel-x-6  accel-x-7  accel-x-8  ...  accel-start-time  \\\n",
       "0    -0.018800   0.004246   0.007885  -0.011867  ...            50.376   \n",
       "1     0.013761  -0.004215   0.003825   0.001193  ...            34.257   \n",
       "2     0.027510  -0.035793   0.061300   0.076966  ...            23.000   \n",
       "3     0.046824  -0.065903   0.029762  -0.025369  ...            33.360   \n",
       "4    -0.025635   0.023540   0.030024   0.038034  ...            51.047   \n",
       "..         ...        ...        ...        ...  ...               ...   \n",
       "103  -1.175522  -3.794939 -12.774434  10.715954  ...           100.078   \n",
       "104   0.826358   5.017454   4.163620   4.687047  ...             6.072   \n",
       "105   5.894993  -0.323923  -3.816436  -3.005231  ...            42.453   \n",
       "106  -0.712865   1.609405  -1.019713  -0.290725  ...            27.288   \n",
       "107  -0.883621   0.481071   3.067909  -0.660125  ...            45.484   \n",
       "\n",
       "     gyro-start-time  accel-end-time  gyro-end-time  activity code  length  \\\n",
       "0             50.377          53.330         53.329              0     300   \n",
       "1             34.256          37.279         37.278              0     300   \n",
       "2             23.021          26.000         26.011              0     300   \n",
       "3             33.361          36.382         36.381              0     300   \n",
       "4             51.082          54.036         54.071              0     300   \n",
       "..               ...             ...            ...            ...     ...   \n",
       "103          100.079         103.101        103.100             17     300   \n",
       "104            6.071           9.093          9.094             17     300   \n",
       "105           42.462          45.475         45.485             17     300   \n",
       "106           27.300          30.311         30.323             17     300   \n",
       "107           45.495          48.508         48.516             17     300   \n",
       "\n",
       "     serial  index  user  normalized activity code  \n",
       "0         6   5100  1002                         1  \n",
       "1         1   2400  1071                         1  \n",
       "2         1   2100  1006                         1  \n",
       "3         1   3300  1062                         1  \n",
       "4         1   5100  1002                         1  \n",
       "..      ...    ...   ...                       ...  \n",
       "103       2   9900  1086                        17  \n",
       "104       2    600  1086                        17  \n",
       "105       1   4200  1086                        17  \n",
       "106       1   2700  1086                        17  \n",
       "107       1   4500  1086                        17  \n",
       "\n",
       "[108 rows x 371 columns]"
      ]
     },
     "execution_count": 12,
     "metadata": {},
     "output_type": "execute_result"
    }
   ],
   "source": [
    "validation"
   ]
  },
  {
   "cell_type": "code",
   "execution_count": 11,
   "id": "93fcf334-e144-4a24-8e01-80df59e32372",
   "metadata": {},
   "outputs": [
    {
     "ename": "AssertionError",
     "evalue": "",
     "output_type": "error",
     "traceback": [
      "\u001b[0;31m---------------------------------------------------------------------------\u001b[0m",
      "\u001b[0;31mAssertionError\u001b[0m                            Traceback (most recent call last)",
      "Input \u001b[0;32mIn [11]\u001b[0m, in \u001b[0;36m<cell line: 1>\u001b[0;34m()\u001b[0m\n\u001b[0;32m----> 1\u001b[0m \u001b[38;5;28;01massert\u001b[39;00m \u001b[38;5;241m1\u001b[39m \u001b[38;5;241m==\u001b[39m \u001b[38;5;241m0\u001b[39m\n",
      "\u001b[0;31mAssertionError\u001b[0m: "
     ]
    }
   ],
   "source": [
    "assert 1 == 0"
   ]
  },
  {
   "cell_type": "code",
   "execution_count": null,
   "id": "1eb43522-3bbf-4369-af25-6aba6bbe7547",
   "metadata": {},
   "outputs": [],
   "source": [
    "# Kuhar features to select\n",
    "features = [\n",
    "    \"accel-x\",\n",
    "    \"accel-y\",\n",
    "    \"accel-z\",\n",
    "    \"gyro-x\",\n",
    "    \"gyro-y\",\n",
    "    \"gyro-z\"\n",
    "]\n",
    "\n",
    "# Creating the datasets\n",
    "\n",
    "# Train\n",
    "train_dataset = PandasMultiModalDataset(\n",
    "    train,\n",
    "    feature_prefixes=features,\n",
    "    label_columns=\"activity code\",\n",
    "    as_array=True\n",
    ")\n",
    "\n",
    "# Validation\n",
    "validation_dataset = PandasMultiModalDataset(\n",
    "    validation,\n",
    "    feature_prefixes=features,\n",
    "    label_columns=\"activity code\",\n",
    "    as_array=True\n",
    ")\n",
    "\n",
    "# Test\n",
    "test_dataset = PandasMultiModalDataset(\n",
    "    test,\n",
    "    feature_prefixes=features,\n",
    "    label_columns=\"activity code\",\n",
    "    as_array=True\n",
    ")"
   ]
  },
  {
   "cell_type": "markdown",
   "id": "8cf48059-4f54-4949-a729-eb4c83c83da9",
   "metadata": {},
   "source": [
    "# Transforming KuHAR to 20Hzs"
   ]
  },
  {
   "cell_type": "code",
   "execution_count": null,
   "id": "8966bf11-2c32-4901-9a9f-c7f40735a63d",
   "metadata": {},
   "outputs": [],
   "source": [
    "from librep.datasets.multimodal import TransformMultiModalDataset\n",
    "from librep.transforms.fft import FFT"
   ]
  },
  {
   "cell_type": "code",
   "execution_count": null,
   "id": "1e9a59e3-f891-4479-84cf-ef32e543dce9",
   "metadata": {},
   "outputs": [],
   "source": [
    "fft_transform = FFT(centered = True)\n",
    "transformer = TransformMultiModalDataset(\n",
    "    transforms=[fft_transform],\n",
    "    new_window_name_prefix=\"fft.\"\n",
    ")"
   ]
  },
  {
   "cell_type": "code",
   "execution_count": null,
   "id": "58ac2abb-b3f6-4729-ab08-e87a5d279343",
   "metadata": {},
   "outputs": [],
   "source": [
    "train_dataset_fft = transformer(train_dataset)\n",
    "validation_dataset_fft = transformer(validation_dataset)\n",
    "test_dataset_fft = transformer(test_dataset)"
   ]
  },
  {
   "cell_type": "code",
   "execution_count": null,
   "id": "0b81d10b-7ac8-41b5-8a18-453954828edc",
   "metadata": {},
   "outputs": [],
   "source": [
    "print(train_dataset_fft.X.shape)\n",
    "print(validation_dataset_fft.X.shape)\n",
    "print(test_dataset_fft.X.shape)"
   ]
  },
  {
   "cell_type": "code",
   "execution_count": null,
   "id": "e66de95c-9631-4a7e-8465-ef7df0de2b99",
   "metadata": {},
   "outputs": [],
   "source": [
    "print(np.max(train_dataset_fft.X))"
   ]
  },
  {
   "cell_type": "code",
   "execution_count": null,
   "id": "373929cf-94f3-400c-9f16-6b9846f6bbc3",
   "metadata": {},
   "outputs": [],
   "source": [
    "train_dataset_fft.X"
   ]
  },
  {
   "cell_type": "code",
   "execution_count": null,
   "id": "a2ace16e-1d84-447c-a3fb-0014b93e8f25",
   "metadata": {},
   "outputs": [],
   "source": [
    "train_HD = train_dataset_fft.X\n",
    "train_LD = None\n",
    "train_Y = train_dataset_fft.y\n",
    "test_HD = test_dataset_fft.X\n",
    "test_LD = None\n",
    "test_Y = test_dataset_fft.y"
   ]
  },
  {
   "cell_type": "markdown",
   "id": "71409f92-8cd5-434b-919f-d068996dbc66",
   "metadata": {
    "tags": []
   },
   "source": [
    "# Applying Scaler"
   ]
  },
  {
   "cell_type": "markdown",
   "id": "01e9b17e-f585-4143-942f-b9138a69c24e",
   "metadata": {},
   "source": [
    "MinMaxScaler, MaxAbsScaler and StandardScaler apply the scaling PER FEATURE, which means the distance between points would actually be modified, and so, the ranking as well.\n",
    "Because of this, a new Scaler is used"
   ]
  },
  {
   "cell_type": "code",
   "execution_count": null,
   "id": "9fac6c23-05f3-4008-99ab-8c67e46242b6",
   "metadata": {},
   "outputs": [],
   "source": [
    "# import numpy as np\n",
    "# import matplotlib.pyplot as plt\n",
    "# import scipy.fftpack\n",
    "\n",
    "# # Number of samplepoints\n",
    "# N = 600\n",
    "# # sample spacing\n",
    "# T = 1.0 / 800.0\n",
    "# x = np.linspace(0.0, N*T, N)\n",
    "# y = np.sin(50.0 * 2.0*np.pi*x) + 0.5*np.sin(80.0 * 2.0*np.pi*x)\n",
    "# yf = scipy.fftpack.fft(y)\n",
    "# xf = np.linspace(0.0, 1.0/(2.0*T), N//2)\n",
    "\n",
    "\n",
    "# # print(x)\n",
    "# # print(xf)\n",
    "\n",
    "# fig, ax = plt.subplots()\n",
    "# # ax.plot(xf, 2.0/N * np.abs(yf[:N//2]))\n",
    "# ax.plot(x,y)\n",
    "# plt.show()\n",
    "\n",
    "# fig, ax = plt.subplots()\n",
    "# ax.plot(xf, 2.0/N * np.abs(yf[:N//2]))\n",
    "# # ax.plot(x,y)\n",
    "# plt.show()\n"
   ]
  },
  {
   "cell_type": "code",
   "execution_count": null,
   "id": "5b229f79-777c-42dd-9e8e-fc0f0e82c4cd",
   "metadata": {},
   "outputs": [],
   "source": [
    "# import numpy as np\n",
    "# import matplotlib.pyplot as plt\n",
    "# import scipy.fftpack\n",
    "\n",
    "# # Number of samplepoints\n",
    "# N = 600\n",
    "# # sample spacing\n",
    "# T = 1.0 / 800.0\n",
    "# x = np.linspace(0.0, N*T, N)\n",
    "# y = 2*(np.sin(50.0 * 2.0*np.pi*x) + 0.5*np.sin(80.0 * 2.0*np.pi*x))\n",
    "# yf = scipy.fftpack.fft(y)\n",
    "# xf = np.linspace(0.0, 1.0/(2.0*T), N//2)\n",
    "\n",
    "\n",
    "# # print(x)\n",
    "# # print(xf)\n",
    "\n",
    "# fig, ax = plt.subplots()\n",
    "# # ax.plot(xf, 2.0/N * np.abs(yf[:N//2]))\n",
    "# ax.plot(x,y)\n",
    "# plt.show()\n",
    "\n",
    "# fig, ax = plt.subplots()\n",
    "# ax.plot(xf, 2.0/N * np.abs(yf[:N//2]))\n",
    "# # ax.plot(x,y)\n",
    "# plt.show()\n"
   ]
  },
  {
   "cell_type": "code",
   "execution_count": null,
   "id": "46248f1a-e532-4c3a-8f3d-5ce8f97a95b2",
   "metadata": {},
   "outputs": [],
   "source": [
    "# from sklearn import preprocessing\n",
    "\n",
    "# scaler = preprocessing.MinMaxScaler()"
   ]
  },
  {
   "cell_type": "code",
   "execution_count": null,
   "id": "7743e300-d869-4128-a490-f6eac79155fe",
   "metadata": {},
   "outputs": [],
   "source": [
    "# train_HD = scaler.fit_transform(train_dataset_fft.X)\n",
    "# train_LD = None\n",
    "# # train_Y = train_dataset_fft.y\n",
    "# test_HD = scaler.fit_transform(test_dataset_fft.X)\n",
    "# test_LD = None\n",
    "# # test_Y = test_dataset_fft.y"
   ]
  },
  {
   "cell_type": "markdown",
   "id": "cf4a74dc-f5b0-4bcb-9027-8f301cd4fc9b",
   "metadata": {
    "tags": []
   },
   "source": [
    "## Set Reporter"
   ]
  },
  {
   "cell_type": "code",
   "execution_count": null,
   "id": "517c120c-b28a-4940-a6e6-278ab9bd98eb",
   "metadata": {},
   "outputs": [],
   "source": [
    "reporter = ClassificationReport(\n",
    "    use_accuracy=True, \n",
    "    use_f1_score=True,\n",
    "    use_classification_report=False,\n",
    "    use_confusion_matrix=False,\n",
    "    plot_confusion_matrix=False\n",
    ")"
   ]
  },
  {
   "cell_type": "markdown",
   "id": "5d6cdf66-a7b4-4a22-84a6-6f77036da576",
   "metadata": {
    "tags": []
   },
   "source": [
    "# **SECTION:** Reducing with Generic AE"
   ]
  },
  {
   "cell_type": "markdown",
   "id": "07ddffca-de30-4ed9-b052-3db59efceaa0",
   "metadata": {},
   "source": [
    "The topological autoencoder can be used as a generic one by applying a lambda value of 0."
   ]
  },
  {
   "cell_type": "code",
   "execution_count": null,
   "id": "04cb2e0e-c9b3-4c3a-9b4e-4301a75a19cf",
   "metadata": {},
   "outputs": [],
   "source": [
    "kwargs = {'input_dims':180, 'custom_dim':2}\n",
    "input_shape = (-1, 1, 180)\n",
    "topoae_lambda = 0\n",
    "topo_reducer = TopologicalDimensionalityReduction(\n",
    "    ae_model='DeepAEforKuhar180ver2',\n",
    "    lam = topoae_lambda,\n",
    "    ae_kwargs = kwargs,\n",
    "    input_shape = input_shape,\n",
    "    patience=10\n",
    ")"
   ]
  },
  {
   "cell_type": "code",
   "execution_count": null,
   "id": "a596dfb0-fa46-483b-81d7-7d033a279b34",
   "metadata": {},
   "outputs": [],
   "source": [
    "title_plot = \"KUHAR 20Hz\\nTopoAE lambda \" + str(topoae_lambda)\n",
    "topo_reducer.fit(train_HD, train_Y, title_plot=title_plot)"
   ]
  },
  {
   "cell_type": "code",
   "execution_count": null,
   "id": "27674f22-3729-4a48-9a63-0f0dd50ae167",
   "metadata": {},
   "outputs": [],
   "source": [
    "train_LD = np.reshape(topo_reducer.transform(train_HD), (-1,2))\n",
    "print('TRAIN LD RESHAPED', train_LD.shape)\n",
    "test_LD = np.reshape(topo_reducer.transform(test_HD), (-1,2))\n",
    "print('TEST LD RESHAPED', test_LD.shape)"
   ]
  },
  {
   "cell_type": "code",
   "execution_count": null,
   "id": "c6e0a5df-871a-4588-8707-06bf3560e87b",
   "metadata": {},
   "outputs": [],
   "source": [
    "train_LD_pd = pd.DataFrame(train_LD)\n",
    "train_LD_pd['y'] = train_Y\n",
    "train_pmd = PandasMultiModalDataset(\n",
    "    train_LD_pd,\n",
    "    label_columns=\"y\",\n",
    "    as_array=True\n",
    ")\n",
    "\n",
    "test_LD_pd = pd.DataFrame(test_LD)\n",
    "test_LD_pd['y'] = test_Y\n",
    "\n",
    "test_pmd = PandasMultiModalDataset(\n",
    "    test_LD_pd,\n",
    "    label_columns=\"y\",\n",
    "    as_array=True\n",
    ")"
   ]
  },
  {
   "cell_type": "markdown",
   "id": "23b236bf-4685-4f0a-b02b-89693d92e4da",
   "metadata": {
    "tags": []
   },
   "source": [
    "## Experiment for Random Forest"
   ]
  },
  {
   "cell_type": "code",
   "execution_count": null,
   "id": "57049b28-13f9-439a-a15b-20612cf669b0",
   "metadata": {},
   "outputs": [],
   "source": [
    "experiment = SimpleTrainEvalWorkflow(\n",
    "    estimator=RandomForestClassifier,\n",
    "    estimator_creation_kwags ={'n_estimators':100} ,\n",
    "    do_not_instantiate=False,\n",
    "    do_fit=True,\n",
    "    evaluator=reporter)\n",
    "\n",
    "multi_run_experiment = MultiRunWorkflow(workflow=experiment, num_runs=10, debug=False)"
   ]
  },
  {
   "cell_type": "code",
   "execution_count": null,
   "id": "b85ca0d2-a4c1-4a3e-af14-af6fcae0281d",
   "metadata": {},
   "outputs": [],
   "source": [
    "result = multi_run_experiment(train_pmd, test_pmd)"
   ]
  },
  {
   "cell_type": "code",
   "execution_count": null,
   "id": "48431342-4f0c-44e7-a3d0-30278feb6428",
   "metadata": {},
   "outputs": [],
   "source": [
    "accuracy = np.mean([run['result'][0]['accuracy'] for run in result['runs']])\n",
    "f1 = np.mean([run['result'][0]['f1 score (weighted)'] for run in result['runs']])\n",
    "print('ACCURACY', accuracy)\n",
    "print('F1', f1)"
   ]
  },
  {
   "cell_type": "code",
   "execution_count": null,
   "id": "2fd4712f-4976-428e-8cbc-8ce7895fecdf",
   "metadata": {},
   "outputs": [],
   "source": [
    "table_info['Generic-AE'][0] = accuracy\n",
    "table_info['Generic-AE'][1] = f1\n",
    "print_table(table_info)"
   ]
  },
  {
   "cell_type": "markdown",
   "id": "4bd7f5b5-3d3a-4c3e-8ce1-ee9148cf9896",
   "metadata": {},
   "source": [
    "## Experiment for SVC"
   ]
  },
  {
   "cell_type": "code",
   "execution_count": null,
   "id": "9c907340-e8a5-4ced-9e97-250790b9bb5e",
   "metadata": {},
   "outputs": [],
   "source": [
    "experiment = SimpleTrainEvalWorkflow(\n",
    "    estimator=SVC, \n",
    "    estimator_creation_kwags ={'C':3.0, 'kernel':\"rbf\"} ,\n",
    "    do_not_instantiate=False, \n",
    "    do_fit=True,\n",
    "    evaluator=reporter)\n",
    "\n",
    "multi_run_experiment = MultiRunWorkflow(workflow=experiment, num_runs=1, debug=False)"
   ]
  },
  {
   "cell_type": "code",
   "execution_count": null,
   "id": "0eefbfdb-af98-4a0e-8d97-604ecb2170fe",
   "metadata": {},
   "outputs": [],
   "source": [
    "result = multi_run_experiment(train_pmd, test_pmd)"
   ]
  },
  {
   "cell_type": "code",
   "execution_count": null,
   "id": "62e9d7f8-0d72-46e2-9431-a1cffade5f2a",
   "metadata": {},
   "outputs": [],
   "source": [
    "accuracy = np.mean([run['result'][0]['accuracy'] for run in result['runs']])\n",
    "f1 = np.mean([run['result'][0]['f1 score (weighted)'] for run in result['runs']])\n",
    "print('ACCURACY', accuracy)\n",
    "print('F1', f1)"
   ]
  },
  {
   "cell_type": "code",
   "execution_count": null,
   "id": "57c9f69b-097a-4aff-a1bc-38f5d331eb4e",
   "metadata": {},
   "outputs": [],
   "source": [
    "table_info['Generic-AE'][2] = accuracy\n",
    "table_info['Generic-AE'][3] = f1\n",
    "print_table(table_info)"
   ]
  },
  {
   "cell_type": "markdown",
   "id": "bf47acae-1816-45a5-9ec3-875db801b050",
   "metadata": {},
   "source": [
    "## Experiment for KNN"
   ]
  },
  {
   "cell_type": "code",
   "execution_count": null,
   "id": "1ddb7520-ef7e-4a47-a482-2367ee13787e",
   "metadata": {},
   "outputs": [],
   "source": [
    "experiment = SimpleTrainEvalWorkflow(\n",
    "    estimator=KNeighborsClassifier,\n",
    "    estimator_creation_kwags ={'n_neighbors' :1} ,\n",
    "    do_not_instantiate=False,\n",
    "    do_fit=True,\n",
    "    evaluator=reporter\n",
    ")\n",
    "\n",
    "multi_run_experiment = MultiRunWorkflow(workflow=experiment, num_runs=1, debug=False)"
   ]
  },
  {
   "cell_type": "code",
   "execution_count": null,
   "id": "182d5e52-9588-48b0-bc05-b35897bc1351",
   "metadata": {},
   "outputs": [],
   "source": [
    "result = multi_run_experiment(train_pmd, test_pmd)"
   ]
  },
  {
   "cell_type": "code",
   "execution_count": null,
   "id": "e20aa509-fe30-4ec4-852a-8eb7bebc6b49",
   "metadata": {},
   "outputs": [],
   "source": [
    "accuracy = np.mean([run['result'][0]['accuracy'] for run in result['runs']])\n",
    "f1 = np.mean([run['result'][0]['f1 score (weighted)'] for run in result['runs']])\n",
    "print('ACCURACY', accuracy)\n",
    "print('F1', f1)"
   ]
  },
  {
   "cell_type": "code",
   "execution_count": null,
   "id": "7e008a9d-28b0-4725-9c1b-8b2e8f69e95e",
   "metadata": {},
   "outputs": [],
   "source": [
    "table_info['Generic-AE'][4] = accuracy\n",
    "table_info['Generic-AE'][5] = f1\n",
    "print_table(table_info)"
   ]
  },
  {
   "cell_type": "markdown",
   "id": "b1076071-5c71-4497-a4a6-fb44151a5111",
   "metadata": {},
   "source": [
    "## Obtain quality metrics"
   ]
  },
  {
   "cell_type": "code",
   "execution_count": null,
   "id": "6ac94c46-94a8-4dfd-a68a-6ff341c7b04b",
   "metadata": {},
   "outputs": [],
   "source": [
    "metrics_reporter = DimensionalityReductionQualityReport()\n",
    "metrics_report = metrics_reporter.evaluate([test_HD, test_LD])"
   ]
  },
  {
   "cell_type": "code",
   "execution_count": null,
   "id": "bcf1a10b-bedc-4294-8a23-b6d7725570cb",
   "metadata": {},
   "outputs": [],
   "source": [
    "metrics_report"
   ]
  },
  {
   "cell_type": "code",
   "execution_count": null,
   "id": "b20f1bfe-2c91-46cc-a9dd-ecdc6458fab2",
   "metadata": {},
   "outputs": [],
   "source": [
    "table_info['Generic-AE'][6] = metrics_report['trustworthiness']\n",
    "table_info['Generic-AE'][7] = metrics_report['continuity']\n",
    "table_info['Generic-AE'][8] = metrics_report['co k nearest neighbor size']\n",
    "print_table(table_info)"
   ]
  },
  {
   "cell_type": "markdown",
   "id": "29143bdc-8cc8-4030-98ca-964cca5c11bb",
   "metadata": {},
   "source": [
    "## Visualization"
   ]
  },
  {
   "cell_type": "code",
   "execution_count": null,
   "id": "b944ee0c-2914-477d-b16b-da81a99647c8",
   "metadata": {},
   "outputs": [],
   "source": [
    "filter_to_use = [0,1,2,3,4,5]\n",
    "visualize(test_LD, test_Y)\n",
    "# visualize(test_LD, test_Y, filtered=filter_to_use, xlim=(-1,0), ylim=(-0.5,1.75))\n",
    "visualize(test_LD, test_Y, filtered=filter_to_use)\n",
    "for f in filter_to_use:\n",
    "    # visualize(test_LD, test_Y, filtered=[f], xlim=(-1,0), ylim=(-0.5,1.75))\n",
    "    visualize(test_LD, test_Y, filtered=[f])\n",
    "# 0 sit\n",
    "# 1 stand\n",
    "# 2 walk\n",
    "# 3 stair up\n",
    "# 4 stair down\n",
    "# 5 run"
   ]
  },
  {
   "cell_type": "markdown",
   "id": "1ad0f3ee-9908-4f24-90a7-f1f26bcedbd3",
   "metadata": {
    "tags": []
   },
   "source": [
    "# **SECTION:** Topological AE (lambda=1)"
   ]
  },
  {
   "cell_type": "code",
   "execution_count": null,
   "id": "781c084e-15e1-4b90-bdf2-7b48897f76cf",
   "metadata": {},
   "outputs": [],
   "source": [
    "from librep.transforms.topo_ae import TopologicalDimensionalityReduction\n",
    "from librep.estimators.ae.torch.models.topological_ae.topological_ae import TopologicallyRegularizedAutoencoder\n",
    "kwargs = {'input_dims':180, 'custom_dim':2}\n",
    "input_shape = (-1, 1, 180)\n",
    "topoae_lambda = 1\n",
    "topo_reducer = TopologicalDimensionalityReduction(ae_model='DeepAEforKuhar180ver2', lam=topoae_lambda,\n",
    "                                                      ae_kwargs=kwargs, input_shape=input_shape, patience=10)"
   ]
  },
  {
   "cell_type": "code",
   "execution_count": null,
   "id": "5e09d3ab-4b11-4a44-a3ae-b07826b2e911",
   "metadata": {},
   "outputs": [],
   "source": [
    "title_plot = \"KUHAR 20Hz\\nTopoAE lambda \" + str(topoae_lambda)\n",
    "topo_reducer.fit(train_HD, train_Y, title_plot=title_plot)"
   ]
  },
  {
   "cell_type": "code",
   "execution_count": null,
   "id": "f2fc9d19-306e-49d2-8a67-c9befbff6715",
   "metadata": {},
   "outputs": [],
   "source": [
    "train_LD = np.reshape(topo_reducer.transform(train_HD), (-1,2))\n",
    "print('TRAIN LD RESHAPED', train_LD.shape)\n",
    "test_LD = np.reshape(topo_reducer.transform(test_HD), (-1,2))\n",
    "print('TEST LD RESHAPED', test_LD.shape)"
   ]
  },
  {
   "cell_type": "code",
   "execution_count": null,
   "id": "e1ac996e-7e64-4015-b672-a0e275ed896e",
   "metadata": {},
   "outputs": [],
   "source": [
    "train_LD_pd = pd.DataFrame(train_LD)\n",
    "train_LD_pd['y'] = train_Y\n",
    "train_pmd = PandasMultiModalDataset(\n",
    "    train_LD_pd,\n",
    "    label_columns=\"y\",\n",
    "    as_array=True\n",
    ")\n",
    "\n",
    "test_LD_pd = pd.DataFrame(test_LD)\n",
    "test_LD_pd['y'] = test_Y\n",
    "\n",
    "test_pmd = PandasMultiModalDataset(\n",
    "    test_LD_pd,\n",
    "    label_columns=\"y\",\n",
    "    as_array=True\n",
    ")"
   ]
  },
  {
   "cell_type": "markdown",
   "id": "073670c2-7335-41a4-92d9-875a2bd702b1",
   "metadata": {},
   "source": [
    "## Experiment for Random Forest"
   ]
  },
  {
   "cell_type": "code",
   "execution_count": null,
   "id": "6a6727ab-ad90-4e5c-9b88-21cdb04b9b44",
   "metadata": {},
   "outputs": [],
   "source": [
    "experiment = SimpleTrainEvalWorkflow(\n",
    "    estimator=RandomForestClassifier,\n",
    "    estimator_creation_kwags ={'n_estimators':100} ,\n",
    "    do_not_instantiate=False,\n",
    "    do_fit=True,\n",
    "    evaluator=reporter)\n",
    "\n",
    "multi_run_experiment = MultiRunWorkflow(workflow=experiment, num_runs=10, debug=False)"
   ]
  },
  {
   "cell_type": "code",
   "execution_count": null,
   "id": "97498a09-3e27-4229-9052-89e8cb9dee61",
   "metadata": {},
   "outputs": [],
   "source": [
    "result = multi_run_experiment(train_pmd, test_pmd)"
   ]
  },
  {
   "cell_type": "code",
   "execution_count": null,
   "id": "29c7eb9c-fad3-4a02-ad45-e6b7d60be348",
   "metadata": {},
   "outputs": [],
   "source": [
    "accuracy = np.mean([run['result'][0]['accuracy'] for run in result['runs']])\n",
    "f1 = np.mean([run['result'][0]['f1 score (weighted)'] for run in result['runs']])\n",
    "print('ACCURACY', accuracy)\n",
    "print('F1', f1)"
   ]
  },
  {
   "cell_type": "code",
   "execution_count": null,
   "id": "03181a4f-20c8-45f9-97e5-c0c5d7224551",
   "metadata": {},
   "outputs": [],
   "source": [
    "table_info['Topo-AEv2 (L=1)'][0] = accuracy\n",
    "table_info['Topo-AEv2 (L=1)'][1] = f1\n",
    "print_table(table_info)"
   ]
  },
  {
   "cell_type": "markdown",
   "id": "d74d0fa4-f56a-4d96-810f-280945458e75",
   "metadata": {},
   "source": [
    "## Experiment for SVC"
   ]
  },
  {
   "cell_type": "code",
   "execution_count": null,
   "id": "f953fc45-b815-4183-81c5-a4fd5dbb48a9",
   "metadata": {},
   "outputs": [],
   "source": [
    "experiment = SimpleTrainEvalWorkflow(\n",
    "    estimator=SVC, \n",
    "    estimator_creation_kwags ={'C':3.0, 'kernel':\"rbf\"} ,\n",
    "    do_not_instantiate=False, \n",
    "    do_fit=True,\n",
    "    evaluator=reporter)\n",
    "\n",
    "multi_run_experiment = MultiRunWorkflow(workflow=experiment, num_runs=1, debug=False)"
   ]
  },
  {
   "cell_type": "code",
   "execution_count": null,
   "id": "fd551f4c-d2e3-43cf-804d-bbb68df390f8",
   "metadata": {},
   "outputs": [],
   "source": [
    "result = multi_run_experiment(train_pmd, test_pmd)"
   ]
  },
  {
   "cell_type": "code",
   "execution_count": null,
   "id": "541f82e5-a336-4433-8b22-00b69ac2d5c8",
   "metadata": {},
   "outputs": [],
   "source": [
    "accuracy = np.mean([run['result'][0]['accuracy'] for run in result['runs']])\n",
    "f1 = np.mean([run['result'][0]['f1 score (weighted)'] for run in result['runs']])\n",
    "print('ACCURACY', accuracy)\n",
    "print('F1', f1)"
   ]
  },
  {
   "cell_type": "code",
   "execution_count": null,
   "id": "f0ca7ee3-c8ca-474b-a35c-9d4fe8949434",
   "metadata": {},
   "outputs": [],
   "source": [
    "table_info['Topo-AEv2 (L=1)'][2] = accuracy\n",
    "table_info['Topo-AEv2 (L=1)'][3] = f1\n",
    "print_table(table_info)"
   ]
  },
  {
   "cell_type": "markdown",
   "id": "0448bb0b-3dc6-4d03-92ea-5db5fe33bc32",
   "metadata": {},
   "source": [
    "## Experiment for KNN"
   ]
  },
  {
   "cell_type": "code",
   "execution_count": null,
   "id": "165505c2-0da4-4a4c-93a6-9006d7ec2489",
   "metadata": {},
   "outputs": [],
   "source": [
    "experiment = SimpleTrainEvalWorkflow(\n",
    "    estimator=KNeighborsClassifier,\n",
    "    estimator_creation_kwags ={'n_neighbors' :1} ,\n",
    "    do_not_instantiate=False,\n",
    "    do_fit=True,\n",
    "    evaluator=reporter\n",
    ")\n",
    "\n",
    "multi_run_experiment = MultiRunWorkflow(workflow=experiment, num_runs=1, debug=False)"
   ]
  },
  {
   "cell_type": "code",
   "execution_count": null,
   "id": "98613c7e-3413-48a8-a431-1c1f0ed5ba0b",
   "metadata": {},
   "outputs": [],
   "source": [
    "result = multi_run_experiment(train_pmd, test_pmd)"
   ]
  },
  {
   "cell_type": "code",
   "execution_count": null,
   "id": "e141a45d-c365-4da0-90c9-f64dade9e038",
   "metadata": {},
   "outputs": [],
   "source": [
    "accuracy = np.mean([run['result'][0]['accuracy'] for run in result['runs']])\n",
    "f1 = np.mean([run['result'][0]['f1 score (weighted)'] for run in result['runs']])\n",
    "print('ACCURACY', accuracy)\n",
    "print('F1', f1)"
   ]
  },
  {
   "cell_type": "code",
   "execution_count": null,
   "id": "3e89d9ed-c125-4b41-89c6-b950cd67fc3e",
   "metadata": {},
   "outputs": [],
   "source": [
    "table_info['Topo-AEv2 (L=1)'][4] = accuracy\n",
    "table_info['Topo-AEv2 (L=1)'][5] = f1\n",
    "print_table(table_info)"
   ]
  },
  {
   "cell_type": "markdown",
   "id": "629c31db-1c68-4764-ac06-e42e3d937d75",
   "metadata": {},
   "source": [
    "## Obtain quality metrics"
   ]
  },
  {
   "cell_type": "code",
   "execution_count": null,
   "id": "d3ada64b-59a1-45e2-bd1d-097903f66647",
   "metadata": {},
   "outputs": [],
   "source": [
    "metrics_reporter = DimensionalityReductionQualityReport()\n",
    "metrics_report = metrics_reporter.evaluate([test_HD, test_LD])"
   ]
  },
  {
   "cell_type": "code",
   "execution_count": null,
   "id": "f295de78-74eb-41c8-825f-00a1b02abff0",
   "metadata": {},
   "outputs": [],
   "source": [
    "metrics_report"
   ]
  },
  {
   "cell_type": "code",
   "execution_count": null,
   "id": "b972890f-b7cf-48e6-88f4-f6132134cc9f",
   "metadata": {},
   "outputs": [],
   "source": [
    "table_info['Topo-AEv2 (L=1)'][6] = metrics_report['trustworthiness']\n",
    "table_info['Topo-AEv2 (L=1)'][7] = metrics_report['continuity']\n",
    "table_info['Topo-AEv2 (L=1)'][8] = metrics_report['co k nearest neighbor size']\n",
    "print_table(table_info)"
   ]
  },
  {
   "cell_type": "markdown",
   "id": "6164619b-9a9e-434f-a4d5-53d96e43e177",
   "metadata": {},
   "source": [
    "## Visualization"
   ]
  },
  {
   "cell_type": "code",
   "execution_count": null,
   "id": "81007b9f-4dbe-4603-bc89-e494197ac483",
   "metadata": {},
   "outputs": [],
   "source": [
    "filter_to_use = [0,1,2,3,4,5]\n",
    "visualize(test_LD, test_Y)\n",
    "# visualize(test_LD, test_Y, filtered=filter_to_use, xlim=(-1,0), ylim=(-0.5,1.75))\n",
    "visualize(test_LD, test_Y, filtered=filter_to_use)\n",
    "for f in filter_to_use:\n",
    "    # visualize(test_LD, test_Y, filtered=[f], xlim=(-1,0), ylim=(-0.5,1.75))\n",
    "    visualize(test_LD, test_Y, filtered=[f])\n",
    "# 0 sit\n",
    "# 1 stand\n",
    "# 2 walk\n",
    "# 3 stair up\n",
    "# 4 stair down\n",
    "# 5 run"
   ]
  },
  {
   "cell_type": "markdown",
   "id": "03dcfe1c-f8a1-4b3b-bb14-c6b1a978e15f",
   "metadata": {
    "tags": []
   },
   "source": [
    "# **SECTION:** Topological AE (lambda=100)"
   ]
  },
  {
   "cell_type": "code",
   "execution_count": null,
   "id": "97dc9045-2091-43dd-8eaf-ae4891ba87a9",
   "metadata": {},
   "outputs": [],
   "source": [
    "from librep.transforms.topo_ae import TopologicalDimensionalityReduction\n",
    "from librep.estimators.ae.torch.models.topological_ae.topological_ae import TopologicallyRegularizedAutoencoder\n",
    "kwargs = {'input_dims':180, 'custom_dim':2}\n",
    "input_shape = (-1, 1, 180)\n",
    "topoae_lambda = 100\n",
    "topo_reducer = TopologicalDimensionalityReduction(ae_model='DeepAEforKuhar180ver2', lam=topoae_lambda,\n",
    "                                                      ae_kwargs=kwargs, input_shape=input_shape, patience=10)"
   ]
  },
  {
   "cell_type": "code",
   "execution_count": null,
   "id": "e9e0d951-16b3-4993-9132-01d3b4c32c91",
   "metadata": {},
   "outputs": [],
   "source": [
    "title_plot = \"KUHAR 20Hz\\nTopoAE lambda \" + str(topoae_lambda)\n",
    "topo_reducer.fit(train_HD, train_Y, title_plot=title_plot)"
   ]
  },
  {
   "cell_type": "code",
   "execution_count": null,
   "id": "d6ca5d04-aef6-4e79-a72d-134274a0f049",
   "metadata": {},
   "outputs": [],
   "source": [
    "train_LD = np.reshape(topo_reducer.transform(train_HD), (-1,2))\n",
    "print('TRAIN LD RESHAPED', train_LD.shape)\n",
    "test_LD = np.reshape(topo_reducer.transform(test_HD), (-1,2))\n",
    "print('TEST LD RESHAPED', test_LD.shape)"
   ]
  },
  {
   "cell_type": "code",
   "execution_count": null,
   "id": "0cc923e6-18e8-4ca1-970b-b8e2d1f7b118",
   "metadata": {},
   "outputs": [],
   "source": [
    "train_LD_pd = pd.DataFrame(train_LD)\n",
    "train_LD_pd['y'] = train_Y\n",
    "train_pmd = PandasMultiModalDataset(\n",
    "    train_LD_pd,\n",
    "    label_columns=\"y\",\n",
    "    as_array=True\n",
    ")\n",
    "\n",
    "test_LD_pd = pd.DataFrame(test_LD)\n",
    "test_LD_pd['y'] = test_Y\n",
    "\n",
    "test_pmd = PandasMultiModalDataset(\n",
    "    test_LD_pd,\n",
    "    label_columns=\"y\",\n",
    "    as_array=True\n",
    ")"
   ]
  },
  {
   "cell_type": "markdown",
   "id": "5d2ad61a-2fda-47cf-8943-28d579cae302",
   "metadata": {},
   "source": [
    "## Experiment for Random Forest"
   ]
  },
  {
   "cell_type": "code",
   "execution_count": null,
   "id": "f532877b-ffc6-4201-903c-8e09c9743366",
   "metadata": {},
   "outputs": [],
   "source": [
    "experiment = SimpleTrainEvalWorkflow(\n",
    "    estimator=RandomForestClassifier,\n",
    "    estimator_creation_kwags ={'n_estimators':100} ,\n",
    "    do_not_instantiate=False,\n",
    "    do_fit=True,\n",
    "    evaluator=reporter)\n",
    "\n",
    "multi_run_experiment = MultiRunWorkflow(workflow=experiment, num_runs=10, debug=False)"
   ]
  },
  {
   "cell_type": "code",
   "execution_count": null,
   "id": "75686198-0e7b-41eb-82c2-80b6a75d9ca7",
   "metadata": {},
   "outputs": [],
   "source": [
    "result = multi_run_experiment(train_pmd, test_pmd)"
   ]
  },
  {
   "cell_type": "code",
   "execution_count": null,
   "id": "ccdef8b8-e79a-4989-8218-ed0f86be9826",
   "metadata": {},
   "outputs": [],
   "source": [
    "accuracy = np.mean([run['result'][0]['accuracy'] for run in result['runs']])\n",
    "f1 = np.mean([run['result'][0]['f1 score (weighted)'] for run in result['runs']])\n",
    "print('ACCURACY', accuracy)\n",
    "print('F1', f1)"
   ]
  },
  {
   "cell_type": "code",
   "execution_count": null,
   "id": "646252b6-2eea-4708-93d7-67b7ee66e21f",
   "metadata": {},
   "outputs": [],
   "source": [
    "table_info['Topo-AEv2 (L=100)'][0] = accuracy\n",
    "table_info['Topo-AEv2 (L=100)'][1] = f1\n",
    "print_table(table_info)"
   ]
  },
  {
   "cell_type": "markdown",
   "id": "168bbc18-992d-4b81-8935-ed9e6ab4b253",
   "metadata": {},
   "source": [
    "## Experiment for SVC"
   ]
  },
  {
   "cell_type": "code",
   "execution_count": null,
   "id": "2c48cf0c-7f53-4e0e-a515-0f9655bc62c1",
   "metadata": {},
   "outputs": [],
   "source": [
    "experiment = SimpleTrainEvalWorkflow(\n",
    "    estimator=SVC, \n",
    "    estimator_creation_kwags ={'C':3.0, 'kernel':\"rbf\"} ,\n",
    "    do_not_instantiate=False, \n",
    "    do_fit=True,\n",
    "    evaluator=reporter)\n",
    "\n",
    "multi_run_experiment = MultiRunWorkflow(workflow=experiment, num_runs=1, debug=False)"
   ]
  },
  {
   "cell_type": "code",
   "execution_count": null,
   "id": "80376dde-a13e-4e05-ae27-78946447119c",
   "metadata": {},
   "outputs": [],
   "source": [
    "result = multi_run_experiment(train_pmd, test_pmd)"
   ]
  },
  {
   "cell_type": "code",
   "execution_count": null,
   "id": "3b4317d8-4611-4fd5-8c99-29960f291b80",
   "metadata": {},
   "outputs": [],
   "source": [
    "accuracy = np.mean([run['result'][0]['accuracy'] for run in result['runs']])\n",
    "f1 = np.mean([run['result'][0]['f1 score (weighted)'] for run in result['runs']])\n",
    "print('ACCURACY', accuracy)\n",
    "print('F1', f1)"
   ]
  },
  {
   "cell_type": "code",
   "execution_count": null,
   "id": "64c2a8f2-8611-4410-823a-1d4c5f51bb83",
   "metadata": {},
   "outputs": [],
   "source": [
    "table_info['Topo-AEv2 (L=100)'][2] = accuracy\n",
    "table_info['Topo-AEv2 (L=100)'][3] = f1\n",
    "print_table(table_info)"
   ]
  },
  {
   "cell_type": "markdown",
   "id": "003c23ff-6da3-4151-aade-c08b9342dd15",
   "metadata": {},
   "source": [
    "## Experiment for KNN"
   ]
  },
  {
   "cell_type": "code",
   "execution_count": null,
   "id": "529f9be3-d469-40db-b395-b5992ab74bcf",
   "metadata": {},
   "outputs": [],
   "source": [
    "experiment = SimpleTrainEvalWorkflow(\n",
    "    estimator=KNeighborsClassifier,\n",
    "    estimator_creation_kwags ={'n_neighbors' :1} ,\n",
    "    do_not_instantiate=False,\n",
    "    do_fit=True,\n",
    "    evaluator=reporter\n",
    ")\n",
    "\n",
    "multi_run_experiment = MultiRunWorkflow(workflow=experiment, num_runs=1, debug=False)"
   ]
  },
  {
   "cell_type": "code",
   "execution_count": null,
   "id": "19fe2afa-c400-4bf4-9735-b3212c887152",
   "metadata": {},
   "outputs": [],
   "source": [
    "result = multi_run_experiment(train_pmd, test_pmd)"
   ]
  },
  {
   "cell_type": "code",
   "execution_count": null,
   "id": "8951f132-f797-480e-b250-28f358650d37",
   "metadata": {},
   "outputs": [],
   "source": [
    "accuracy = np.mean([run['result'][0]['accuracy'] for run in result['runs']])\n",
    "f1 = np.mean([run['result'][0]['f1 score (weighted)'] for run in result['runs']])\n",
    "print('ACCURACY', accuracy)\n",
    "print('F1', f1)"
   ]
  },
  {
   "cell_type": "code",
   "execution_count": null,
   "id": "59c247b3-b71c-46e9-9134-fc9c467dd707",
   "metadata": {},
   "outputs": [],
   "source": [
    "table_info['Topo-AEv2 (L=100)'][4] = accuracy\n",
    "table_info['Topo-AEv2 (L=100)'][5] = f1\n",
    "print_table(table_info)"
   ]
  },
  {
   "cell_type": "markdown",
   "id": "ef8ffac9-b486-441d-9e40-bee70f6fd362",
   "metadata": {},
   "source": [
    "## Obtain quality metrics"
   ]
  },
  {
   "cell_type": "code",
   "execution_count": null,
   "id": "7cc4a69e-d7e7-4559-a107-9c59c26ba551",
   "metadata": {},
   "outputs": [],
   "source": [
    "metrics_reporter = DimensionalityReductionQualityReport()\n",
    "metrics_report = metrics_reporter.evaluate([test_HD, test_LD])"
   ]
  },
  {
   "cell_type": "code",
   "execution_count": null,
   "id": "e389d291-7c0f-4556-9379-fdeb99990e21",
   "metadata": {},
   "outputs": [],
   "source": [
    "metrics_report"
   ]
  },
  {
   "cell_type": "code",
   "execution_count": null,
   "id": "9916d886-dfc5-4b1b-9f8a-1518678a50b7",
   "metadata": {},
   "outputs": [],
   "source": [
    "table_info['Topo-AEv2 (L=100)'][6] = metrics_report['trustworthiness']\n",
    "table_info['Topo-AEv2 (L=100)'][7] = metrics_report['continuity']\n",
    "table_info['Topo-AEv2 (L=100)'][8] = metrics_report['co k nearest neighbor size']\n",
    "print_table(table_info)"
   ]
  },
  {
   "cell_type": "markdown",
   "id": "39f7ddc1-2e9d-49eb-bc9a-448be0cfc094",
   "metadata": {},
   "source": [
    "## Visualization"
   ]
  },
  {
   "cell_type": "code",
   "execution_count": null,
   "id": "1b26da82-33dc-40e6-b592-37ea06fcf1b2",
   "metadata": {},
   "outputs": [],
   "source": [
    "filter_to_use = [0,1,2,3,4,5]\n",
    "visualize(test_LD, test_Y)\n",
    "# visualize(test_LD, test_Y, filtered=filter_to_use, xlim=(-1,0), ylim=(-0.5,1.75))\n",
    "visualize(test_LD, test_Y, filtered=filter_to_use)\n",
    "for f in filter_to_use:\n",
    "    # visualize(test_LD, test_Y, filtered=[f], xlim=(-1,0), ylim=(-0.5,1.75))\n",
    "    visualize(test_LD, test_Y, filtered=[f])\n",
    "# 0 sit\n",
    "# 1 stand\n",
    "# 2 walk\n",
    "# 3 stair up\n",
    "# 4 stair down\n",
    "# 5 run"
   ]
  },
  {
   "cell_type": "markdown",
   "id": "61e715bc-7cd6-4661-8d33-29248bc2b631",
   "metadata": {
    "tags": []
   },
   "source": [
    "# **SECTION:** UMAP"
   ]
  },
  {
   "cell_type": "code",
   "execution_count": null,
   "id": "bb3e4f34-2a18-4ae4-b9a9-253c1468f3f3",
   "metadata": {},
   "outputs": [],
   "source": [
    "umap_reducer = UMAP()\n",
    "umap_reducer.fit(train_HD, train_Y)"
   ]
  },
  {
   "cell_type": "code",
   "execution_count": null,
   "id": "6cd2cc99-8e29-40a8-8328-0fd601be73ec",
   "metadata": {},
   "outputs": [],
   "source": [
    "train_LD = np.reshape(umap_reducer.transform(train_HD), (-1,2))\n",
    "print('TRAIN LD RESHAPED', train_LD.shape)\n",
    "test_LD = np.reshape(umap_reducer.transform(test_HD), (-1,2))\n",
    "print('TEST LD RESHAPED', test_LD.shape)"
   ]
  },
  {
   "cell_type": "code",
   "execution_count": null,
   "id": "2da058d2-a13e-4f75-9c16-18d6c5a4d41a",
   "metadata": {},
   "outputs": [],
   "source": [
    "train_LD_pd = pd.DataFrame(train_LD)\n",
    "train_LD_pd['y'] = train_Y\n",
    "train_pmd = PandasMultiModalDataset(\n",
    "    train_LD_pd,\n",
    "    label_columns=\"y\",\n",
    "    as_array=True\n",
    ")\n",
    "\n",
    "test_LD_pd = pd.DataFrame(test_LD)\n",
    "test_LD_pd['y'] = test_Y\n",
    "\n",
    "test_pmd = PandasMultiModalDataset(\n",
    "    test_LD_pd,\n",
    "    label_columns=\"y\",\n",
    "    as_array=True\n",
    ")"
   ]
  },
  {
   "cell_type": "markdown",
   "id": "82f9cabf-486a-4d10-8389-74541fcb9c04",
   "metadata": {},
   "source": [
    "## Experiment for Random Forest"
   ]
  },
  {
   "cell_type": "code",
   "execution_count": null,
   "id": "3a680b6c-b251-4f61-9496-6526e48f07d5",
   "metadata": {},
   "outputs": [],
   "source": [
    "experiment = SimpleTrainEvalWorkflow(\n",
    "    estimator=RandomForestClassifier,\n",
    "    estimator_creation_kwags ={'n_estimators':100} ,\n",
    "    do_not_instantiate=False,\n",
    "    do_fit=True,\n",
    "    evaluator=reporter)\n",
    "\n",
    "multi_run_experiment = MultiRunWorkflow(workflow=experiment, num_runs=10, debug=False)"
   ]
  },
  {
   "cell_type": "code",
   "execution_count": null,
   "id": "e79f6a8f-a7aa-4514-adbe-91c728b37013",
   "metadata": {},
   "outputs": [],
   "source": [
    "result = multi_run_experiment(train_pmd, test_pmd)"
   ]
  },
  {
   "cell_type": "code",
   "execution_count": null,
   "id": "e4154fdd-d84a-441d-a116-5ff8eb7ff0d7",
   "metadata": {},
   "outputs": [],
   "source": [
    "accuracy = np.mean([run['result'][0]['accuracy'] for run in result['runs']])\n",
    "f1 = np.mean([run['result'][0]['f1 score (weighted)'] for run in result['runs']])\n",
    "print('ACCURACY', accuracy)\n",
    "print('F1', f1)"
   ]
  },
  {
   "cell_type": "code",
   "execution_count": null,
   "id": "c2fcc05e-548d-4a02-ad35-fa3dc5949672",
   "metadata": {},
   "outputs": [],
   "source": [
    "table_info['UMAP'][0] = accuracy\n",
    "table_info['UMAP'][1] = f1\n",
    "print_table(table_info)"
   ]
  },
  {
   "cell_type": "markdown",
   "id": "134febe1-2d93-454c-a9a3-34700b537689",
   "metadata": {},
   "source": [
    "## Experiment for SVC"
   ]
  },
  {
   "cell_type": "code",
   "execution_count": null,
   "id": "69c0038f-0c56-44dd-a43a-5982e6bdf8eb",
   "metadata": {},
   "outputs": [],
   "source": [
    "experiment = SimpleTrainEvalWorkflow(\n",
    "    estimator=SVC, \n",
    "    estimator_creation_kwags ={'C':3.0, 'kernel':\"rbf\"} ,\n",
    "    do_not_instantiate=False, \n",
    "    do_fit=True,\n",
    "    evaluator=reporter)\n",
    "\n",
    "multi_run_experiment = MultiRunWorkflow(workflow=experiment, num_runs=1, debug=False)"
   ]
  },
  {
   "cell_type": "code",
   "execution_count": null,
   "id": "8cdd043d-99b4-41d3-a43b-1480ef03acd0",
   "metadata": {},
   "outputs": [],
   "source": [
    "result = multi_run_experiment(train_pmd, test_pmd)"
   ]
  },
  {
   "cell_type": "code",
   "execution_count": null,
   "id": "dad16c60-04f2-4fcf-a59c-049cdabe0e9a",
   "metadata": {},
   "outputs": [],
   "source": [
    "accuracy = np.mean([run['result'][0]['accuracy'] for run in result['runs']])\n",
    "f1 = np.mean([run['result'][0]['f1 score (weighted)'] for run in result['runs']])\n",
    "print('ACCURACY', accuracy)\n",
    "print('F1', f1)"
   ]
  },
  {
   "cell_type": "code",
   "execution_count": null,
   "id": "148ec19a-5d62-4de2-9b15-7031a5bc6185",
   "metadata": {},
   "outputs": [],
   "source": [
    "table_info['UMAP'][2] = accuracy\n",
    "table_info['UMAP'][3] = f1\n",
    "print_table(table_info)"
   ]
  },
  {
   "cell_type": "markdown",
   "id": "e2c9f786-7dbd-4c0f-ac87-70960770540e",
   "metadata": {},
   "source": [
    "## Experiment for KNN"
   ]
  },
  {
   "cell_type": "code",
   "execution_count": null,
   "id": "943660f0-8318-4a84-a9b1-b97c90b8c0ea",
   "metadata": {},
   "outputs": [],
   "source": [
    "experiment = SimpleTrainEvalWorkflow(\n",
    "    estimator=KNeighborsClassifier,\n",
    "    estimator_creation_kwags ={'n_neighbors' :1} ,\n",
    "    do_not_instantiate=False,\n",
    "    do_fit=True,\n",
    "    evaluator=reporter\n",
    ")\n",
    "\n",
    "multi_run_experiment = MultiRunWorkflow(workflow=experiment, num_runs=1, debug=False)"
   ]
  },
  {
   "cell_type": "code",
   "execution_count": null,
   "id": "426ea6ac-3888-470a-97f7-49ec5714e645",
   "metadata": {},
   "outputs": [],
   "source": [
    "result = multi_run_experiment(train_pmd, test_pmd)"
   ]
  },
  {
   "cell_type": "code",
   "execution_count": null,
   "id": "abf2c674-400a-4625-b8c3-8b8980d9f29d",
   "metadata": {},
   "outputs": [],
   "source": [
    "accuracy = np.mean([run['result'][0]['accuracy'] for run in result['runs']])\n",
    "f1 = np.mean([run['result'][0]['f1 score (weighted)'] for run in result['runs']])\n",
    "print('ACCURACY', accuracy)\n",
    "print('F1', f1)"
   ]
  },
  {
   "cell_type": "code",
   "execution_count": null,
   "id": "227df482-49b9-4ee5-bd4b-eb0c33182404",
   "metadata": {},
   "outputs": [],
   "source": [
    "table_info['UMAP'][4] = accuracy\n",
    "table_info['UMAP'][5] = f1\n",
    "print_table(table_info)"
   ]
  },
  {
   "cell_type": "markdown",
   "id": "1ca3fce7-df2b-48a4-932e-bf16f56ea68b",
   "metadata": {},
   "source": [
    "## Obtain quality metrics"
   ]
  },
  {
   "cell_type": "code",
   "execution_count": null,
   "id": "a3bc64e8-c11b-4a5e-b0e6-87c19847b117",
   "metadata": {},
   "outputs": [],
   "source": [
    "metrics_reporter = DimensionalityReductionQualityReport()\n",
    "metrics_report = metrics_reporter.evaluate([test_HD, test_LD])"
   ]
  },
  {
   "cell_type": "code",
   "execution_count": null,
   "id": "86993c52-d5cc-45f4-b20a-6ad90a718483",
   "metadata": {},
   "outputs": [],
   "source": [
    "metrics_report"
   ]
  },
  {
   "cell_type": "code",
   "execution_count": null,
   "id": "6492b6cd-e2b7-42ac-80d0-5e207569c99a",
   "metadata": {},
   "outputs": [],
   "source": [
    "table_info['UMAP'][6] = metrics_report['trustworthiness']\n",
    "table_info['UMAP'][7] = metrics_report['continuity']\n",
    "table_info['UMAP'][8] = metrics_report['co k nearest neighbor size']\n",
    "print_table(table_info)"
   ]
  },
  {
   "cell_type": "markdown",
   "id": "f9f9f81c-a758-4212-9f03-76418eca1e63",
   "metadata": {},
   "source": [
    "## Visualization"
   ]
  },
  {
   "cell_type": "code",
   "execution_count": null,
   "id": "73f3cecd-e2d0-4b2a-ba31-b6c29a96fdd8",
   "metadata": {},
   "outputs": [],
   "source": [
    "filter_to_use = [0,1,2,3,4,5]\n",
    "visualize(test_LD, test_Y)\n",
    "# visualize(test_LD, test_Y, filtered=filter_to_use, xlim=(-1,0), ylim=(-0.5,1.75))\n",
    "visualize(test_LD, test_Y, filtered=filter_to_use)\n",
    "for f in filter_to_use:\n",
    "    # visualize(test_LD, test_Y, filtered=[f], xlim=(-1,0), ylim=(-0.5,1.75))\n",
    "    visualize(test_LD, test_Y, filtered=[f])\n",
    "# 0 sit\n",
    "# 1 stand\n",
    "# 2 walk\n",
    "# 3 stair up\n",
    "# 4 stair down\n",
    "# 5 run"
   ]
  },
  {
   "cell_type": "code",
   "execution_count": null,
   "id": "10bd7a5e-e570-4976-a119-60417b64053d",
   "metadata": {},
   "outputs": [],
   "source": []
  }
 ],
 "metadata": {
  "kernelspec": {
   "display_name": "Python 3 (ipykernel)",
   "language": "python",
   "name": "python3"
  },
  "language_info": {
   "codemirror_mode": {
    "name": "ipython",
    "version": 3
   },
   "file_extension": ".py",
   "mimetype": "text/x-python",
   "name": "python",
   "nbconvert_exporter": "python",
   "pygments_lexer": "ipython3",
   "version": "3.8.10"
  }
 },
 "nbformat": 4,
 "nbformat_minor": 5
}
