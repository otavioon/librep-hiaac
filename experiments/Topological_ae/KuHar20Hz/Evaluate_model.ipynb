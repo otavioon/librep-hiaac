{
 "cells": [
  {
   "cell_type": "code",
   "execution_count": 1,
   "id": "7e1630ed-63c8-4ee7-86c9-62dfb528b9a2",
   "metadata": {
    "execution": {
     "iopub.execute_input": "2022-11-29T11:04:21.271877Z",
     "iopub.status.busy": "2022-11-29T11:04:21.271456Z",
     "iopub.status.idle": "2022-11-29T11:04:21.301563Z",
     "shell.execute_reply": "2022-11-29T11:04:21.300049Z",
     "shell.execute_reply.started": "2022-11-29T11:04:21.271836Z"
    }
   },
   "outputs": [],
   "source": [
    "%load_ext autoreload\n",
    "%autoreload 2"
   ]
  },
  {
   "cell_type": "code",
   "execution_count": 2,
   "id": "2da911e3-e82f-47c9-8090-f71f453956ee",
   "metadata": {
    "execution": {
     "iopub.execute_input": "2022-11-29T11:04:21.303801Z",
     "iopub.status.busy": "2022-11-29T11:04:21.303267Z",
     "iopub.status.idle": "2022-11-29T11:04:21.353504Z",
     "shell.execute_reply": "2022-11-29T11:04:21.352191Z",
     "shell.execute_reply.started": "2022-11-29T11:04:21.303761Z"
    }
   },
   "outputs": [],
   "source": [
    "import sys\n",
    "sys.path.append(\"../../..\")"
   ]
  },
  {
   "cell_type": "code",
   "execution_count": 3,
   "id": "5f067405-ab8c-4f22-b056-ab9e1febe71c",
   "metadata": {
    "execution": {
     "iopub.execute_input": "2022-11-29T11:04:21.355817Z",
     "iopub.status.busy": "2022-11-29T11:04:21.355309Z",
     "iopub.status.idle": "2022-11-29T11:04:22.534168Z",
     "shell.execute_reply": "2022-11-29T11:04:22.532070Z",
     "shell.execute_reply.started": "2022-11-29T11:04:21.355771Z"
    }
   },
   "outputs": [],
   "source": [
    "import numpy as np\n",
    "import pandas as pd\n",
    "import matplotlib.pyplot as plt"
   ]
  },
  {
   "cell_type": "code",
   "execution_count": 4,
   "id": "cc5007e3-ef19-4658-ac7d-2a6f617bb9c6",
   "metadata": {
    "execution": {
     "iopub.execute_input": "2022-11-29T11:04:22.537163Z",
     "iopub.status.busy": "2022-11-29T11:04:22.536390Z",
     "iopub.status.idle": "2022-11-29T11:04:34.020946Z",
     "shell.execute_reply": "2022-11-29T11:04:34.019090Z",
     "shell.execute_reply.started": "2022-11-29T11:04:22.537120Z"
    }
   },
   "outputs": [
    {
     "name": "stderr",
     "output_type": "stream",
     "text": [
      "2022-11-29 11:04:31.173193: I tensorflow/core/platform/cpu_feature_guard.cc:193] This TensorFlow binary is optimized with oneAPI Deep Neural Network Library (oneDNN) to use the following CPU instructions in performance-critical operations:  AVX2 AVX512F FMA\n",
      "To enable them in other operations, rebuild TensorFlow with the appropriate compiler flags.\n",
      "2022-11-29 11:04:31.378240: W tensorflow/compiler/xla/stream_executor/platform/default/dso_loader.cc:64] Could not load dynamic library 'libcudart.so.11.0'; dlerror: libcudart.so.11.0: cannot open shared object file: No such file or directory\n",
      "2022-11-29 11:04:31.378277: I tensorflow/compiler/xla/stream_executor/cuda/cudart_stub.cc:29] Ignore above cudart dlerror if you do not have a GPU set up on your machine.\n",
      "2022-11-29 11:04:32.616822: W tensorflow/compiler/xla/stream_executor/platform/default/dso_loader.cc:64] Could not load dynamic library 'libnvinfer.so.7'; dlerror: libnvinfer.so.7: cannot open shared object file: No such file or directory\n",
      "2022-11-29 11:04:32.616952: W tensorflow/compiler/xla/stream_executor/platform/default/dso_loader.cc:64] Could not load dynamic library 'libnvinfer_plugin.so.7'; dlerror: libnvinfer_plugin.so.7: cannot open shared object file: No such file or directory\n",
      "2022-11-29 11:04:32.616968: W tensorflow/compiler/tf2tensorrt/utils/py_utils.cc:38] TF-TRT Warning: Cannot dlopen some TensorRT libraries. If you would like to use Nvidia GPU with TensorRT, please make sure the missing libraries mentioned above are installed properly.\n"
     ]
    }
   ],
   "source": [
    "from librep.datasets.har.loaders import (\n",
    "    KuHar_BalancedView20HzMotionSenseEquivalent\n",
    ")"
   ]
  },
  {
   "cell_type": "code",
   "execution_count": 5,
   "id": "2f9f66b2-7b1c-4d4e-a0e3-cde9552a595a",
   "metadata": {
    "execution": {
     "iopub.execute_input": "2022-11-29T11:04:34.023555Z",
     "iopub.status.busy": "2022-11-29T11:04:34.022837Z",
     "iopub.status.idle": "2022-11-29T11:04:36.305026Z",
     "shell.execute_reply": "2022-11-29T11:04:36.303203Z",
     "shell.execute_reply.started": "2022-11-29T11:04:34.023507Z"
    }
   },
   "outputs": [],
   "source": [
    "from librep.transforms.topo_ae import (\n",
    "    TopologicalDimensionalityReduction,\n",
    "    CustomTopoDimRedTransform\n",
    ")\n",
    "from librep.transforms import UMAP\n",
    "from sklearn.manifold import TSNE\n",
    "from experiments.Topological_ae.Experiment_utils import *\n",
    "from librep.datasets.multimodal import TransformMultiModalDataset\n",
    "from librep.transforms.fft import FFT"
   ]
  },
  {
   "cell_type": "code",
   "execution_count": 6,
   "id": "85bea424-07ff-47ec-945a-aef385afe7a7",
   "metadata": {
    "execution": {
     "iopub.execute_input": "2022-11-29T11:04:36.307699Z",
     "iopub.status.busy": "2022-11-29T11:04:36.306713Z",
     "iopub.status.idle": "2022-11-29T11:04:36.397061Z",
     "shell.execute_reply": "2022-11-29T11:04:36.395380Z",
     "shell.execute_reply.started": "2022-11-29T11:04:36.307657Z"
    }
   },
   "outputs": [],
   "source": [
    "loader = KuHar_BalancedView20HzMotionSenseEquivalent(\n",
    "    root_dir=\"../../../data/views/KuHar/balanced_20Hz_motionsense_equivalent-v1\", \n",
    "    download=False\n",
    ")"
   ]
  },
  {
   "cell_type": "code",
   "execution_count": 7,
   "id": "3d817b0c-4e6b-4227-9b48-cd23c3df190d",
   "metadata": {
    "execution": {
     "iopub.execute_input": "2022-11-29T11:04:36.403167Z",
     "iopub.status.busy": "2022-11-29T11:04:36.402487Z",
     "iopub.status.idle": "2022-11-29T11:04:36.978086Z",
     "shell.execute_reply": "2022-11-29T11:04:36.976023Z",
     "shell.execute_reply.started": "2022-11-29T11:04:36.403120Z"
    }
   },
   "outputs": [
    {
     "data": {
      "text/plain": [
       "(PandasMultiModalDataset: samples=3114, features=360, no. window=6, label_columns='standard activity code',\n",
       " PandasMultiModalDataset: samples=246, features=360, no. window=6, label_columns='standard activity code')"
      ]
     },
     "execution_count": 7,
     "metadata": {},
     "output_type": "execute_result"
    }
   ],
   "source": [
    "# Load the dataset\n",
    "# If concat_train_validation is true, return a tuple (train+validation, test)\n",
    "train_val, test = loader.load(concat_train_validation=True, label=loader.standard_label)\n",
    "train_val, test"
   ]
  },
  {
   "cell_type": "code",
   "execution_count": 8,
   "id": "9491b1e0-0b60-439c-9bed-ea0ee7918b68",
   "metadata": {
    "execution": {
     "iopub.execute_input": "2022-11-29T11:04:36.980614Z",
     "iopub.status.busy": "2022-11-29T11:04:36.980163Z",
     "iopub.status.idle": "2022-11-29T11:04:37.099556Z",
     "shell.execute_reply": "2022-11-29T11:04:37.097930Z",
     "shell.execute_reply.started": "2022-11-29T11:04:36.980564Z"
    }
   },
   "outputs": [],
   "source": [
    "train_HD = np.array(train_val[:][0])\n",
    "train_Y = np.array(train_val[:][1])\n",
    "test_HD = np.array(test[:][0])\n",
    "test_Y = np.array(test[:][1])"
   ]
  },
  {
   "cell_type": "code",
   "execution_count": 9,
   "id": "cc4810ac-c560-4b23-9b72-481a2d0f1a91",
   "metadata": {
    "execution": {
     "iopub.execute_input": "2022-11-29T11:04:37.101662Z",
     "iopub.status.busy": "2022-11-29T11:04:37.101129Z",
     "iopub.status.idle": "2022-11-29T11:04:37.190787Z",
     "shell.execute_reply": "2022-11-29T11:04:37.188936Z",
     "shell.execute_reply.started": "2022-11-29T11:04:37.101625Z"
    }
   },
   "outputs": [
    {
     "name": "stdout",
     "output_type": "stream",
     "text": [
      "(3114, 360) (3114,) (246, 360) (246,)\n"
     ]
    }
   ],
   "source": [
    "print(train_HD.shape, train_Y.shape, test_HD.shape, test_Y.shape)"
   ]
  },
  {
   "cell_type": "markdown",
   "id": "4c93d061-6ea0-418b-b690-2d977f6297c9",
   "metadata": {},
   "source": [
    "# Aplicar FFT"
   ]
  },
  {
   "cell_type": "code",
   "execution_count": 10,
   "id": "e5255de5-0259-404a-a2d8-507ad4f2ee2f",
   "metadata": {
    "execution": {
     "iopub.execute_input": "2022-11-29T11:04:37.193253Z",
     "iopub.status.busy": "2022-11-29T11:04:37.192662Z",
     "iopub.status.idle": "2022-11-29T11:04:37.295626Z",
     "shell.execute_reply": "2022-11-29T11:04:37.294235Z",
     "shell.execute_reply.started": "2022-11-29T11:04:37.193214Z"
    }
   },
   "outputs": [],
   "source": [
    "fft_transform = FFT(centered = True)\n",
    "transformer = TransformMultiModalDataset(\n",
    "    transforms=[fft_transform],\n",
    "    new_window_name_prefix=\"fft.\"\n",
    ")"
   ]
  },
  {
   "cell_type": "code",
   "execution_count": 11,
   "id": "29195f38-f8a9-4167-937f-d3f98ddc7642",
   "metadata": {
    "execution": {
     "iopub.execute_input": "2022-11-29T11:04:37.298226Z",
     "iopub.status.busy": "2022-11-29T11:04:37.297606Z",
     "iopub.status.idle": "2022-11-29T11:04:37.811093Z",
     "shell.execute_reply": "2022-11-29T11:04:37.809098Z",
     "shell.execute_reply.started": "2022-11-29T11:04:37.298187Z"
    }
   },
   "outputs": [],
   "source": [
    "train_dataset_fft = transformer(train_val)\n",
    "test_dataset_fft = transformer(test)"
   ]
  },
  {
   "cell_type": "code",
   "execution_count": 12,
   "id": "3c8cfc25-0323-498a-931d-1249078f2796",
   "metadata": {
    "execution": {
     "iopub.execute_input": "2022-11-29T11:04:37.813761Z",
     "iopub.status.busy": "2022-11-29T11:04:37.813080Z",
     "iopub.status.idle": "2022-11-29T11:04:37.931004Z",
     "shell.execute_reply": "2022-11-29T11:04:37.929357Z",
     "shell.execute_reply.started": "2022-11-29T11:04:37.813716Z"
    }
   },
   "outputs": [
    {
     "name": "stdout",
     "output_type": "stream",
     "text": [
      "(3114, 180)\n",
      "(246, 180)\n"
     ]
    }
   ],
   "source": [
    "print(train_dataset_fft.X.shape)\n",
    "print(test_dataset_fft.X.shape)"
   ]
  },
  {
   "cell_type": "code",
   "execution_count": 13,
   "id": "d413cc20-e5b5-4594-b1f7-f11153c00c5f",
   "metadata": {
    "execution": {
     "iopub.execute_input": "2022-11-29T11:04:37.932930Z",
     "iopub.status.busy": "2022-11-29T11:04:37.932552Z",
     "iopub.status.idle": "2022-11-29T11:04:38.024309Z",
     "shell.execute_reply": "2022-11-29T11:04:38.022648Z",
     "shell.execute_reply.started": "2022-11-29T11:04:37.932897Z"
    }
   },
   "outputs": [
    {
     "name": "stdout",
     "output_type": "stream",
     "text": [
      "1199.4899017510002\n"
     ]
    }
   ],
   "source": [
    "print(np.max(train_dataset_fft.X))"
   ]
  },
  {
   "cell_type": "code",
   "execution_count": 14,
   "id": "fea2e105-a571-4a2f-ac76-096b08a6ef2f",
   "metadata": {
    "execution": {
     "iopub.execute_input": "2022-11-29T11:04:38.026863Z",
     "iopub.status.busy": "2022-11-29T11:04:38.026225Z",
     "iopub.status.idle": "2022-11-29T11:04:38.115514Z",
     "shell.execute_reply": "2022-11-29T11:04:38.114013Z",
     "shell.execute_reply.started": "2022-11-29T11:04:38.026821Z"
    }
   },
   "outputs": [],
   "source": [
    "train_HD = train_dataset_fft.X\n",
    "train_LD = None\n",
    "train_Y = train_dataset_fft.y\n",
    "test_HD = test_dataset_fft.X\n",
    "test_LD = None\n",
    "test_Y = test_dataset_fft.y"
   ]
  },
  {
   "cell_type": "code",
   "execution_count": 15,
   "id": "ee13aef1-77c7-42a9-930b-b1a56f980d25",
   "metadata": {
    "execution": {
     "iopub.execute_input": "2022-11-29T11:04:38.117699Z",
     "iopub.status.busy": "2022-11-29T11:04:38.117310Z",
     "iopub.status.idle": "2022-11-29T11:04:38.207891Z",
     "shell.execute_reply": "2022-11-29T11:04:38.206262Z",
     "shell.execute_reply.started": "2022-11-29T11:04:38.117664Z"
    }
   },
   "outputs": [
    {
     "name": "stdout",
     "output_type": "stream",
     "text": [
      "(3114, 180) (3114,) (246, 180) (246,)\n"
     ]
    }
   ],
   "source": [
    "print(train_HD.shape, train_Y.shape, test_HD.shape, test_Y.shape)"
   ]
  },
  {
   "cell_type": "markdown",
   "id": "d49f04a7-fe78-4692-b571-44911744a350",
   "metadata": {},
   "source": [
    "## Reading model"
   ]
  },
  {
   "cell_type": "code",
   "execution_count": 16,
   "id": "61b896c7-2cf0-43ab-ab29-e5cca2314518",
   "metadata": {
    "execution": {
     "iopub.execute_input": "2022-11-29T11:04:38.210167Z",
     "iopub.status.busy": "2022-11-29T11:04:38.209714Z",
     "iopub.status.idle": "2022-11-29T11:05:54.398873Z",
     "shell.execute_reply": "2022-11-29T11:05:54.396457Z",
     "shell.execute_reply.started": "2022-11-29T11:04:38.210126Z"
    },
    "tags": []
   },
   "outputs": [
    {
     "name": "stdout",
     "output_type": "stream",
     "text": [
      "TRAIN LD RESHAPED (3114, 10)\n",
      "TEST LD RESHAPED (246, 10)\n",
      "TRAIN LD RESHAPED (3114, 10)\n",
      "TEST LD RESHAPED (246, 10)\n",
      "TRAIN LD RESHAPED (3114, 10)\n",
      "TEST LD RESHAPED (246, 10)\n",
      "TRAIN LD RESHAPED (3114, 10)\n",
      "TEST LD RESHAPED (246, 10)\n",
      "TRAIN LD RESHAPED (3114, 10)\n",
      "TEST LD RESHAPED (246, 10)\n"
     ]
    }
   ],
   "source": [
    "import pickle\n",
    "\n",
    "# Variables to reuse\n",
    "save_ids = range(5)\n",
    "model_name = 'ConvolutionalAutoencoder_custom_dim3'\n",
    "model_dim = 10\n",
    "model_epc = 500\n",
    "model_lams = [10]\n",
    "\n",
    "for model_lam in model_lams:\n",
    "    for save_id in save_ids:\n",
    "        filename = 'data/{}_{}_{}_{}_{}.pkl'.format(model_name, model_lam, model_dim, model_epc, save_id)\n",
    "        filehandler = open(filename, 'rb')\n",
    "        model_reducer = pickle.load(filehandler)\n",
    "        filehandler.close()\n",
    "        train_LD = model_reducer.transform(train_HD)\n",
    "        test_LD = model_reducer.transform(test_HD)\n",
    "        train_LD = np.reshape(train_LD, (-1, model_dim))\n",
    "        print('TRAIN LD RESHAPED', train_LD.shape)\n",
    "        test_LD = np.reshape(test_LD, (-1, model_dim))\n",
    "        print('TEST LD RESHAPED', test_LD.shape)\n",
    "        experiments_result = run_experiments(train_HD, train_LD, train_Y, test_HD, test_LD, test_Y)\n",
    "        filename_to_save = 'data/{}_{}_{}_{}_{}.acc_f1.pkl'.format(model_name, model_lam, model_dim, model_epc, save_id)\n",
    "        filehandler = open(filename_to_save, 'wb')\n",
    "        pickle.dump(experiments_result, filehandler)\n",
    "        filehandler.close()"
   ]
  }
 ],
 "metadata": {
  "kernelspec": {
   "display_name": "Python 3 (ipykernel)",
   "language": "python",
   "name": "python3"
  },
  "language_info": {
   "codemirror_mode": {
    "name": "ipython",
    "version": 3
   },
   "file_extension": ".py",
   "mimetype": "text/x-python",
   "name": "python",
   "nbconvert_exporter": "python",
   "pygments_lexer": "ipython3",
   "version": "3.8.10"
  }
 },
 "nbformat": 4,
 "nbformat_minor": 5
}
