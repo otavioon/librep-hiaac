{
 "cells": [
  {
   "cell_type": "code",
   "execution_count": 1,
   "id": "40df6f11-a295-4bb3-8ad7-c167a0adb0e6",
   "metadata": {},
   "outputs": [],
   "source": [
    "%load_ext autoreload\n",
    "%autoreload 2"
   ]
  },
  {
   "cell_type": "code",
   "execution_count": 2,
   "id": "96ae4be2-202a-476a-85fa-478520f4a951",
   "metadata": {},
   "outputs": [],
   "source": [
    "from pathlib import Path  # For defining dataset Paths\n",
    "import sys                # For include librep package\n",
    "sys.path.append(\"../../..\")\n",
    "\n",
    "# Third party imports\n",
    "import numpy as np\n",
    "import matplotlib.pyplot as plt"
   ]
  },
  {
   "cell_type": "code",
   "execution_count": 3,
   "id": "7a423355-2d96-48a5-918f-e29e4777de03",
   "metadata": {},
   "outputs": [
    {
     "name": "stderr",
     "output_type": "stream",
     "text": [
      "2022-11-04 13:17:23.096730: W tensorflow/stream_executor/platform/default/dso_loader.cc:64] Could not load dynamic library 'libcudart.so.11.0'; dlerror: libcudart.so.11.0: cannot open shared object file: No such file or directory\n",
      "2022-11-04 13:17:23.096751: I tensorflow/stream_executor/cuda/cudart_stub.cc:29] Ignore above cudart dlerror if you do not have a GPU set up on your machine.\n"
     ]
    }
   ],
   "source": [
    "from librep.utils.workflow import SimpleTrainEvalWorkflow, MultiRunWorkflow\n",
    "from librep.metrics.report import ClassificationReport\n",
    "from librep.estimators import RandomForestClassifier\n",
    "from sklearn.svm import SVC\n",
    "from sklearn.neighbors import KNeighborsClassifier\n",
    "from librep.metrics.dimred_evaluator import DimensionalityReductionQualityReport\n",
    "\n",
    "from librep.transforms.topo_ae import TopologicalDimensionalityReduction, CustomTopoDimRedTransform\n",
    "# from librep.estimators.ae.torch.models.topological_ae.topological_ae import TopologicallyRegularizedAutoencoder\n",
    "from librep.transforms import UMAP\n",
    "from tabulate import tabulate"
   ]
  },
  {
   "cell_type": "code",
   "execution_count": 4,
   "id": "c608afd1-657c-403d-b497-1a27a6a8d480",
   "metadata": {},
   "outputs": [],
   "source": [
    "from Experiments_topoae_KuHar20Hz_helper import *\n",
    "kuhar_data = obtainKuHar20Hz()\n",
    "train_HD = kuhar_data['train_HD']\n",
    "train_LD = kuhar_data['train_LD']\n",
    "train_Y = kuhar_data['train_Y']\n",
    "test_HD = kuhar_data['test_HD']\n",
    "test_LD = kuhar_data['test_LD']\n",
    "test_Y = kuhar_data['test_Y']"
   ]
  },
  {
   "cell_type": "markdown",
   "id": "69f7a12c-ed5b-4424-bdf2-0635e4393c6a",
   "metadata": {},
   "source": [
    "# Preparing Table\n",
    "\n",
    "Columns:\n",
    "* RF (Accuracy, F1)\n",
    "* SVC (Accuracy, F1)\n",
    "* KNN (Accuracy, F1)\n",
    "* Trustworthiness\n",
    "* Continuity\n",
    "* Co-k-nearest-neighbor-size\n",
    "\n",
    "Rows:\n",
    "* UMAP (2 dim)\n",
    "* Generic Autoencoders\n",
    "* Topological autoencoders (L=1)\n",
    "* Topological autoencoders (L=100)"
   ]
  },
  {
   "cell_type": "code",
   "execution_count": 5,
   "id": "3a4c4d9e-dcbe-4ab1-90d2-d9d5df30229c",
   "metadata": {},
   "outputs": [
    {
     "name": "stdout",
     "output_type": "stream",
     "text": [
      "╒═════════════════╤════════╤══════════════╤═══════════════════╤═════════════════════╤══════════════╤════════════════╕\n",
      "│ Metrics         │ UMAP   │ Generic-AE   │ Topo-AEv2 (L=1)   │ Topo-AEv2 (L=100)   │ M-AE (L=1)   │ M-AE (L=100)   │\n",
      "╞═════════════════╪════════╪══════════════╪═══════════════════╪═════════════════════╪══════════════╪════════════════╡\n",
      "│ RF-ACC          │ -      │ -            │ -                 │ -                   │ -            │ -              │\n",
      "├─────────────────┼────────┼──────────────┼───────────────────┼─────────────────────┼──────────────┼────────────────┤\n",
      "│ RF-F1           │ -      │ -            │ -                 │ -                   │ -            │ -              │\n",
      "├─────────────────┼────────┼──────────────┼───────────────────┼─────────────────────┼──────────────┼────────────────┤\n",
      "│ SVC-ACC         │ -      │ -            │ -                 │ -                   │ -            │ -              │\n",
      "├─────────────────┼────────┼──────────────┼───────────────────┼─────────────────────┼──────────────┼────────────────┤\n",
      "│ SVC-F1          │ -      │ -            │ -                 │ -                   │ -            │ -              │\n",
      "├─────────────────┼────────┼──────────────┼───────────────────┼─────────────────────┼──────────────┼────────────────┤\n",
      "│ KNN-ACC         │ -      │ -            │ -                 │ -                   │ -            │ -              │\n",
      "├─────────────────┼────────┼──────────────┼───────────────────┼─────────────────────┼──────────────┼────────────────┤\n",
      "│ KNN-F1          │ -      │ -            │ -                 │ -                   │ -            │ -              │\n",
      "├─────────────────┼────────┼──────────────┼───────────────────┼─────────────────────┼──────────────┼────────────────┤\n",
      "│ Trustworthiness │ -      │ -            │ -                 │ -                   │ -            │ -              │\n",
      "├─────────────────┼────────┼──────────────┼───────────────────┼─────────────────────┼──────────────┼────────────────┤\n",
      "│ Continuity      │ -      │ -            │ -                 │ -                   │ -            │ -              │\n",
      "├─────────────────┼────────┼──────────────┼───────────────────┼─────────────────────┼──────────────┼────────────────┤\n",
      "│ Co-k-NNs        │ -      │ -            │ -                 │ -                   │ -            │ -              │\n",
      "╘═════════════════╧════════╧══════════════╧═══════════════════╧═════════════════════╧══════════════╧════════════════╛\n"
     ]
    }
   ],
   "source": [
    "def print_table(table_info):\n",
    "    tabulated = tabulate(\n",
    "        table_info,\n",
    "        headers='keys',\n",
    "        tablefmt='fancy_grid',\n",
    "        missingval='-'\n",
    "    )\n",
    "    print(tabulated)\n",
    "\n",
    "\n",
    "table_info = {\n",
    "    'Metrics': ['RF-ACC', 'RF-F1',\n",
    "                'SVC-ACC', 'SVC-F1',\n",
    "                'KNN-ACC', 'KNN-F1',\n",
    "                'Trustworthiness',\n",
    "                'Continuity',\n",
    "                'Co-k-NNs'],\n",
    "    'UMAP': ['-']*9,\n",
    "    'Generic-AE': ['-']*9,\n",
    "    'Topo-AEv2 (L=1)': ['-']*9,\n",
    "    'Topo-AEv2 (L=100)': ['-']*9,\n",
    "    'M-AE (L=1)': ['-']*9,\n",
    "    'M-AE (L=100)': ['-']*9\n",
    "}\n",
    "print_table(table_info)"
   ]
  },
  {
   "cell_type": "markdown",
   "id": "33a3c1d5-1e3c-4bf2-b4cb-86dabeb01b2e",
   "metadata": {
    "tags": []
   },
   "source": [
    "# Visualization helper"
   ]
  },
  {
   "cell_type": "code",
   "execution_count": 6,
   "id": "41934c11-dbd6-4ac2-956d-d6a103e1a41d",
   "metadata": {},
   "outputs": [],
   "source": [
    "# 0 sit\n",
    "# 1 stand\n",
    "# 2 walk\n",
    "# 3 stair up\n",
    "# 4 stair down\n",
    "# 5 run\n",
    "def visualize(X, Y):\n",
    "    labels = ['sit', 'stand', 'walk', 'stair up', 'stair down', 'run']\n",
    "    df = pd.DataFrame(dict(x=X[:,0], y=X[:,1], label=Y))\n",
    "    groups = df.groupby('label')\n",
    "    fig, ax = plt.subplots()\n",
    "    ax.margins(0.05)\n",
    "    for name, group in groups:\n",
    "        ax.plot(group.x, group.y, marker='.', linestyle='', ms=8, label=labels[name])\n",
    "    ax.legend()\n",
    "    plt.show()"
   ]
  },
  {
   "cell_type": "markdown",
   "id": "71409f92-8cd5-434b-919f-d068996dbc66",
   "metadata": {
    "tags": []
   },
   "source": [
    "# Applying Scaler"
   ]
  },
  {
   "cell_type": "markdown",
   "id": "01e9b17e-f585-4143-942f-b9138a69c24e",
   "metadata": {},
   "source": [
    "MinMaxScaler, MaxAbsScaler and StandardScaler apply the scaling PER FEATURE, which means the distance between points would actually be modified, and so, the ranking as well.\n",
    "Because of this, a new Scaler is used"
   ]
  },
  {
   "cell_type": "code",
   "execution_count": 7,
   "id": "9fac6c23-05f3-4008-99ab-8c67e46242b6",
   "metadata": {},
   "outputs": [],
   "source": [
    "# import numpy as np\n",
    "# import matplotlib.pyplot as plt\n",
    "# import scipy.fftpack\n",
    "\n",
    "# # Number of samplepoints\n",
    "# N = 600\n",
    "# # sample spacing\n",
    "# T = 1.0 / 800.0\n",
    "# x = np.linspace(0.0, N*T, N)\n",
    "# y = np.sin(50.0 * 2.0*np.pi*x) + 0.5*np.sin(80.0 * 2.0*np.pi*x)\n",
    "# yf = scipy.fftpack.fft(y)\n",
    "# xf = np.linspace(0.0, 1.0/(2.0*T), N//2)\n",
    "\n",
    "\n",
    "# # print(x)\n",
    "# # print(xf)\n",
    "\n",
    "# fig, ax = plt.subplots()\n",
    "# # ax.plot(xf, 2.0/N * np.abs(yf[:N//2]))\n",
    "# ax.plot(x,y)\n",
    "# plt.show()\n",
    "\n",
    "# fig, ax = plt.subplots()\n",
    "# ax.plot(xf, 2.0/N * np.abs(yf[:N//2]))\n",
    "# # ax.plot(x,y)\n",
    "# plt.show()\n"
   ]
  },
  {
   "cell_type": "code",
   "execution_count": 8,
   "id": "5b229f79-777c-42dd-9e8e-fc0f0e82c4cd",
   "metadata": {},
   "outputs": [],
   "source": [
    "# import numpy as np\n",
    "# import matplotlib.pyplot as plt\n",
    "# import scipy.fftpack\n",
    "\n",
    "# # Number of samplepoints\n",
    "# N = 600\n",
    "# # sample spacing\n",
    "# T = 1.0 / 800.0\n",
    "# x = np.linspace(0.0, N*T, N)\n",
    "# y = 2*(np.sin(50.0 * 2.0*np.pi*x) + 0.5*np.sin(80.0 * 2.0*np.pi*x))\n",
    "# yf = scipy.fftpack.fft(y)\n",
    "# xf = np.linspace(0.0, 1.0/(2.0*T), N//2)\n",
    "\n",
    "\n",
    "# # print(x)\n",
    "# # print(xf)\n",
    "\n",
    "# fig, ax = plt.subplots()\n",
    "# # ax.plot(xf, 2.0/N * np.abs(yf[:N//2]))\n",
    "# ax.plot(x,y)\n",
    "# plt.show()\n",
    "\n",
    "# fig, ax = plt.subplots()\n",
    "# ax.plot(xf, 2.0/N * np.abs(yf[:N//2]))\n",
    "# # ax.plot(x,y)\n",
    "# plt.show()\n"
   ]
  },
  {
   "cell_type": "code",
   "execution_count": 9,
   "id": "46248f1a-e532-4c3a-8f3d-5ce8f97a95b2",
   "metadata": {},
   "outputs": [],
   "source": [
    "# from sklearn import preprocessing\n",
    "\n",
    "# scaler = preprocessing.MinMaxScaler()"
   ]
  },
  {
   "cell_type": "code",
   "execution_count": 10,
   "id": "7743e300-d869-4128-a490-f6eac79155fe",
   "metadata": {},
   "outputs": [],
   "source": [
    "# train_HD = scaler.fit_transform(train_dataset_fft.X)\n",
    "# train_LD = None\n",
    "# # train_Y = train_dataset_fft.y\n",
    "# test_HD = scaler.fit_transform(test_dataset_fft.X)\n",
    "# test_LD = None\n",
    "# # test_Y = test_dataset_fft.y"
   ]
  },
  {
   "cell_type": "markdown",
   "id": "5d6cdf66-a7b4-4a22-84a6-6f77036da576",
   "metadata": {
    "tags": []
   },
   "source": [
    "# **SECTION:** Reducing with Generic AE"
   ]
  },
  {
   "cell_type": "markdown",
   "id": "07ddffca-de30-4ed9-b052-3db59efceaa0",
   "metadata": {},
   "source": [
    "The topological autoencoder can be used as a generic one by applying a lambda value of 0."
   ]
  },
  {
   "cell_type": "code",
   "execution_count": 11,
   "id": "dcdcc621-fa0a-4e1a-8533-cf9bd00a2ff8",
   "metadata": {},
   "outputs": [],
   "source": [
    "model_lam = 0\n",
    "model_dim = 10\n",
    "model_epc = 175"
   ]
  },
  {
   "cell_type": "code",
   "execution_count": 12,
   "id": "f7eb6b25-16f2-4999-be5d-546727fdcf14",
   "metadata": {},
   "outputs": [
    {
     "name": "stdout",
     "output_type": "stream",
     "text": [
      "Topologically Regularized DeepAE_custom_dim\n",
      "Using python to compute signatures\n"
     ]
    },
    {
     "ename": "TypeError",
     "evalue": "ABCMeta object argument after ** must be a mapping, not tuple",
     "output_type": "error",
     "traceback": [
      "\u001b[0;31m---------------------------------------------------------------------------\u001b[0m",
      "\u001b[0;31mTypeError\u001b[0m                                 Traceback (most recent call last)",
      "Input \u001b[0;32mIn [12]\u001b[0m, in \u001b[0;36m<cell line: 1>\u001b[0;34m()\u001b[0m\n\u001b[0;32m----> 1\u001b[0m reducer \u001b[38;5;241m=\u001b[39m \u001b[43mCustomTopoDimRedTransform\u001b[49m\u001b[43m(\u001b[49m\n\u001b[1;32m      2\u001b[0m \u001b[43m    \u001b[49m\u001b[43mmodel_name\u001b[49m\u001b[38;5;241;43m=\u001b[39;49m\u001b[38;5;124;43m'\u001b[39;49m\u001b[38;5;124;43mDeepAE_custom_dim\u001b[39;49m\u001b[38;5;124;43m'\u001b[39;49m\u001b[43m,\u001b[49m\n\u001b[1;32m      3\u001b[0m \u001b[43m    \u001b[49m\u001b[43mmodel_lambda\u001b[49m\u001b[38;5;241;43m=\u001b[39;49m\u001b[38;5;241;43m1\u001b[39;49m\u001b[43m,\u001b[49m\n\u001b[1;32m      4\u001b[0m \u001b[43m    \u001b[49m\u001b[43mpatience\u001b[49m\u001b[38;5;241;43m=\u001b[39;49m\u001b[38;5;28;43;01mNone\u001b[39;49;00m\u001b[43m,\u001b[49m\n\u001b[1;32m      5\u001b[0m \u001b[43m    \u001b[49m\u001b[43mnum_epochs\u001b[49m\u001b[38;5;241;43m=\u001b[39;49m\u001b[38;5;241;43m175\u001b[39;49m\u001b[43m,\u001b[49m\n\u001b[1;32m      6\u001b[0m \u001b[43m    \u001b[49m\u001b[43mfrom_dim\u001b[49m\u001b[38;5;241;43m=\u001b[39;49m\u001b[38;5;241;43m180\u001b[39;49m\u001b[43m,\u001b[49m\n\u001b[1;32m      7\u001b[0m \u001b[43m    \u001b[49m\u001b[43mto_dim\u001b[49m\u001b[38;5;241;43m=\u001b[39;49m\u001b[38;5;241;43m10\u001b[39;49m\n\u001b[1;32m      8\u001b[0m \u001b[43m)\u001b[49m\n",
      "File \u001b[0;32m~/librep-hiaac/experiments/Topological_ae/KuHar20Hz/../../../librep/transforms/topo_ae.py:181\u001b[0m, in \u001b[0;36mCustomTopoDimRedTransform.__init__\u001b[0;34m(self, model_name, model_lambda, patience, num_epochs, from_dim, to_dim, batch_size)\u001b[0m\n\u001b[1;32m    179\u001b[0m \u001b[38;5;28mself\u001b[39m\u001b[38;5;241m.\u001b[39mnum_epochs \u001b[38;5;241m=\u001b[39m num_epochs\n\u001b[1;32m    180\u001b[0m ae_kwargs \u001b[38;5;241m=\u001b[39m {\u001b[38;5;124m'\u001b[39m\u001b[38;5;124minput_dims\u001b[39m\u001b[38;5;124m'\u001b[39m:(\u001b[38;5;241m1\u001b[39m, from_dim), \u001b[38;5;124m'\u001b[39m\u001b[38;5;124mcustom_dim\u001b[39m\u001b[38;5;124m'\u001b[39m:to_dim},\n\u001b[0;32m--> 181\u001b[0m \u001b[38;5;28mself\u001b[39m\u001b[38;5;241m.\u001b[39mmodel \u001b[38;5;241m=\u001b[39m \u001b[43mTopologicallyRegularizedAutoencoder\u001b[49m\u001b[43m(\u001b[49m\n\u001b[1;32m    182\u001b[0m \u001b[43m    \u001b[49m\u001b[43mautoencoder_model\u001b[49m\u001b[38;5;241;43m=\u001b[39;49m\u001b[43mmodel_name\u001b[49m\u001b[43m,\u001b[49m\n\u001b[1;32m    183\u001b[0m \u001b[43m    \u001b[49m\u001b[43mlam\u001b[49m\u001b[38;5;241;43m=\u001b[39;49m\u001b[43mmodel_lambda\u001b[49m\u001b[43m,\u001b[49m\n\u001b[1;32m    184\u001b[0m \u001b[43m    \u001b[49m\u001b[43mae_kwargs\u001b[49m\u001b[38;5;241;43m=\u001b[39;49m\u001b[43mae_kwargs\u001b[49m\n\u001b[1;32m    185\u001b[0m \u001b[43m\u001b[49m\u001b[43m)\u001b[49m\n\u001b[1;32m    186\u001b[0m \u001b[38;5;28mself\u001b[39m\u001b[38;5;241m.\u001b[39moptimizer \u001b[38;5;241m=\u001b[39m Adam(\u001b[38;5;28mself\u001b[39m\u001b[38;5;241m.\u001b[39mmodel\u001b[38;5;241m.\u001b[39mparameters(), lr\u001b[38;5;241m=\u001b[39m\u001b[38;5;241m1e-3\u001b[39m, weight_decay\u001b[38;5;241m=\u001b[39m\u001b[38;5;241m1e-5\u001b[39m)\n\u001b[1;32m    187\u001b[0m \u001b[38;5;28mself\u001b[39m\u001b[38;5;241m.\u001b[39mbatch_size \u001b[38;5;241m=\u001b[39m batch_size\n",
      "File \u001b[0;32m~/librep-hiaac/experiments/Topological_ae/KuHar20Hz/../../../librep/estimators/ae/torch/models/topological_ae/topological_ae.py:27\u001b[0m, in \u001b[0;36mTopologicallyRegularizedAutoencoder.__init__\u001b[0;34m(self, lam, autoencoder_model, ae_kwargs, toposig_kwargs)\u001b[0m\n\u001b[1;32m     25\u001b[0m toposig_kwargs \u001b[38;5;241m=\u001b[39m toposig_kwargs \u001b[38;5;28;01mif\u001b[39;00m toposig_kwargs \u001b[38;5;28;01melse\u001b[39;00m {}\n\u001b[1;32m     26\u001b[0m \u001b[38;5;28mself\u001b[39m\u001b[38;5;241m.\u001b[39mtopo_sig \u001b[38;5;241m=\u001b[39m TopologicalSignatureDistance(\u001b[38;5;241m*\u001b[39m\u001b[38;5;241m*\u001b[39mtoposig_kwargs)\n\u001b[0;32m---> 27\u001b[0m \u001b[38;5;28mself\u001b[39m\u001b[38;5;241m.\u001b[39mautoencoder \u001b[38;5;241m=\u001b[39m \u001b[38;5;28;43mgetattr\u001b[39;49m\u001b[43m(\u001b[49m\u001b[43mmodel_submodules\u001b[49m\u001b[43m,\u001b[49m\u001b[43m \u001b[49m\u001b[43mautoencoder_model\u001b[49m\u001b[43m)\u001b[49m\u001b[43m(\u001b[49m\u001b[38;5;241;43m*\u001b[39;49m\u001b[38;5;241;43m*\u001b[39;49m\u001b[43mae_kwargs\u001b[49m\u001b[43m)\u001b[49m\n\u001b[1;32m     28\u001b[0m \u001b[38;5;28mself\u001b[39m\u001b[38;5;241m.\u001b[39mlatent_norm \u001b[38;5;241m=\u001b[39m torch\u001b[38;5;241m.\u001b[39mnn\u001b[38;5;241m.\u001b[39mParameter(data\u001b[38;5;241m=\u001b[39mtorch\u001b[38;5;241m.\u001b[39mones(\u001b[38;5;241m1\u001b[39m),\n\u001b[1;32m     29\u001b[0m                                       requires_grad\u001b[38;5;241m=\u001b[39m\u001b[38;5;28;01mTrue\u001b[39;00m)\n",
      "\u001b[0;31mTypeError\u001b[0m: ABCMeta object argument after ** must be a mapping, not tuple"
     ]
    }
   ],
   "source": [
    "reducer = CustomTopoDimRedTransform(\n",
    "    model_name='DeepAE_custom_dim',\n",
    "    model_lambda=1,\n",
    "    patience=None,\n",
    "    num_epochs=175,\n",
    "    from_dim=180,\n",
    "    to_dim=10\n",
    ")"
   ]
  },
  {
   "cell_type": "code",
   "execution_count": null,
   "id": "04cb2e0e-c9b3-4c3a-9b4e-4301a75a19cf",
   "metadata": {},
   "outputs": [],
   "source": [
    "\n",
    "topo_reducer = TopologicalDimensionalityReduction(\n",
    "    ae_model='DeepAE_custom_dim',\n",
    "    lam = model_lam,\n",
    "    ae_kwargs = {'input_dims':(1, 180), 'custom_dim':model_dim},\n",
    "    input_shape = (-1, 1, 180),\n",
    "    patience = None,\n",
    "    num_epochs = model_epc\n",
    ")\n",
    "# kwargs = {'input_dims':180, 'custom_dim':2}\n",
    "# input_shape = (-1, 1, 180)\n",
    "# topoae_lambda = 0\n",
    "# topo_reducer = TopologicalDimensionalityReduction(\n",
    "#     ae_model='DeepAE_custom_dim',\n",
    "#     lam = topoae_lambda,\n",
    "#     ae_kwargs = kwargs,\n",
    "#     input_shape = input_shape,\n",
    "#     patience=10\n",
    "# )"
   ]
  },
  {
   "cell_type": "code",
   "execution_count": null,
   "id": "a596dfb0-fa46-483b-81d7-7d033a279b34",
   "metadata": {
    "tags": []
   },
   "outputs": [],
   "source": [
    "title_plot = \"KUHAR 20Hz\\nTopoAE lambda \" + str(topoae_lambda)\n",
    "topo_reducer.fit(train_HD, train_Y, title_plot=title_plot)"
   ]
  },
  {
   "cell_type": "code",
   "execution_count": null,
   "id": "27674f22-3729-4a48-9a63-0f0dd50ae167",
   "metadata": {},
   "outputs": [],
   "source": [
    "train_LD = np.reshape(topo_reducer.transform(train_HD), (-1,2))\n",
    "print('TRAIN LD RESHAPED', train_LD.shape)\n",
    "test_LD = np.reshape(topo_reducer.transform(test_HD), (-1,2))\n",
    "print('TEST LD RESHAPED', test_LD.shape)"
   ]
  },
  {
   "cell_type": "markdown",
   "id": "9c9ddead-ba2f-42dc-a41c-b7e49d346d33",
   "metadata": {},
   "source": [
    "## Obtain classification metrics (RF, SVC, KNN)"
   ]
  },
  {
   "cell_type": "code",
   "execution_count": null,
   "id": "ec937784-0431-4869-863e-bf898a353cdd",
   "metadata": {},
   "outputs": [],
   "source": [
    "experiments_result = run_experiments(train_HD, train_LD, train_Y, test_HD, test_LD, test_Y)\n",
    "experiments_result"
   ]
  },
  {
   "cell_type": "code",
   "execution_count": null,
   "id": "2fd4712f-4976-428e-8cbc-8ce7895fecdf",
   "metadata": {},
   "outputs": [],
   "source": [
    "table_info['Generic-AE'][0] = experiments_result['RF-ACC']\n",
    "table_info['Generic-AE'][1] = experiments_result['RF-F1']\n",
    "table_info['Generic-AE'][2] = experiments_result['SVC-ACC']\n",
    "table_info['Generic-AE'][3] = experiments_result['SVC-F1']\n",
    "table_info['Generic-AE'][4] = experiments_result['KNN-ACC']\n",
    "table_info['Generic-AE'][5] = experiments_result['KNN-F1']\n",
    "\n",
    "print_table(table_info)"
   ]
  },
  {
   "cell_type": "markdown",
   "id": "b1076071-5c71-4497-a4a6-fb44151a5111",
   "metadata": {},
   "source": [
    "## Obtain quality metrics"
   ]
  },
  {
   "cell_type": "code",
   "execution_count": null,
   "id": "6ac94c46-94a8-4dfd-a68a-6ff341c7b04b",
   "metadata": {},
   "outputs": [],
   "source": [
    "metrics_reporter = DimensionalityReductionQualityReport()\n",
    "metrics_report = metrics_reporter.evaluate([test_HD, test_LD])"
   ]
  },
  {
   "cell_type": "code",
   "execution_count": null,
   "id": "bcf1a10b-bedc-4294-8a23-b6d7725570cb",
   "metadata": {},
   "outputs": [],
   "source": [
    "metrics_report"
   ]
  },
  {
   "cell_type": "code",
   "execution_count": null,
   "id": "b20f1bfe-2c91-46cc-a9dd-ecdc6458fab2",
   "metadata": {},
   "outputs": [],
   "source": [
    "table_info['Generic-AE'][6] = metrics_report['trustworthiness']\n",
    "table_info['Generic-AE'][7] = metrics_report['continuity']\n",
    "table_info['Generic-AE'][8] = metrics_report['co k nearest neighbor size']\n",
    "print_table(table_info)"
   ]
  },
  {
   "cell_type": "markdown",
   "id": "29143bdc-8cc8-4030-98ca-964cca5c11bb",
   "metadata": {},
   "source": [
    "## Visualization"
   ]
  },
  {
   "cell_type": "code",
   "execution_count": null,
   "id": "b944ee0c-2914-477d-b16b-da81a99647c8",
   "metadata": {
    "tags": []
   },
   "outputs": [],
   "source": [
    "filter_to_use = [0,1,2,3,4,5]\n",
    "visualize(test_LD, test_Y)\n",
    "# visualize(test_LD, test_Y, filtered=filter_to_use, xlim=(-1,0), ylim=(-0.5,1.75))\n",
    "visualize(test_LD, test_Y, filtered=filter_to_use)\n",
    "# for f in filter_to_use:\n",
    "    # visualize(test_LD, test_Y, filtered=[f], xlim=(-1,0), ylim=(-0.5,1.75))\n",
    "    # visualize(test_LD, test_Y, filtered=[f])\n",
    "# 0 sit\n",
    "# 1 stand\n",
    "# 2 walk\n",
    "# 3 stair up\n",
    "# 4 stair down\n",
    "# 5 run"
   ]
  },
  {
   "cell_type": "markdown",
   "id": "1ad0f3ee-9908-4f24-90a7-f1f26bcedbd3",
   "metadata": {
    "tags": []
   },
   "source": [
    "# **SECTION:** Topological AE (lambda=1)"
   ]
  },
  {
   "cell_type": "code",
   "execution_count": null,
   "id": "781c084e-15e1-4b90-bdf2-7b48897f76cf",
   "metadata": {},
   "outputs": [],
   "source": [
    "from librep.transforms.topo_ae import TopologicalDimensionalityReduction\n",
    "from librep.estimators.ae.torch.models.topological_ae.topological_ae import TopologicallyRegularizedAutoencoder\n",
    "kwargs = {'input_dims':180, 'custom_dim':2}\n",
    "input_shape = (-1, 1, 180)\n",
    "topoae_lambda = 1\n",
    "topo_reducer = TopologicalDimensionalityReduction(ae_model='DeepAEforKuhar180ver2', lam=topoae_lambda,\n",
    "                                                      ae_kwargs=kwargs, input_shape=input_shape, patience=10)"
   ]
  },
  {
   "cell_type": "code",
   "execution_count": null,
   "id": "5e09d3ab-4b11-4a44-a3ae-b07826b2e911",
   "metadata": {},
   "outputs": [],
   "source": [
    "title_plot = \"KUHAR 20Hz\\nTopoAE lambda \" + str(topoae_lambda)\n",
    "topo_reducer.fit(train_HD, train_Y, title_plot=title_plot)"
   ]
  },
  {
   "cell_type": "code",
   "execution_count": null,
   "id": "f2fc9d19-306e-49d2-8a67-c9befbff6715",
   "metadata": {},
   "outputs": [],
   "source": [
    "train_LD = np.reshape(topo_reducer.transform(train_HD), (-1,2))\n",
    "print('TRAIN LD RESHAPED', train_LD.shape)\n",
    "test_LD = np.reshape(topo_reducer.transform(test_HD), (-1,2))\n",
    "print('TEST LD RESHAPED', test_LD.shape)"
   ]
  },
  {
   "cell_type": "markdown",
   "id": "2cf5d988-94b8-47f9-8d67-5fc76e4eeba0",
   "metadata": {},
   "source": [
    "## Obtain classification metrics (RF, SVC, KNN)"
   ]
  },
  {
   "cell_type": "code",
   "execution_count": null,
   "id": "1aa14c6a-d868-445d-93bb-f86b7ca03a12",
   "metadata": {},
   "outputs": [],
   "source": [
    "experiments_result = run_experiments(train_HD, train_LD, train_Y, test_HD, test_LD, test_Y)\n",
    "experiments_result"
   ]
  },
  {
   "cell_type": "code",
   "execution_count": null,
   "id": "de85e537-7e2c-48dd-8bf5-d37e9613f890",
   "metadata": {},
   "outputs": [],
   "source": [
    "table_info['Topo-AEv2 (L=1)'][0] = experiments_result['RF-ACC']\n",
    "table_info['Topo-AEv2 (L=1)'][1] = experiments_result['RF-F1']\n",
    "table_info['Topo-AEv2 (L=1)'][2] = experiments_result['SVC-ACC']\n",
    "table_info['Topo-AEv2 (L=1)'][3] = experiments_result['SVC-F1']\n",
    "table_info['Topo-AEv2 (L=1)'][4] = experiments_result['KNN-ACC']\n",
    "table_info['Topo-AEv2 (L=1)'][5] = experiments_result['KNN-F1']\n",
    "\n",
    "print_table(table_info)"
   ]
  },
  {
   "cell_type": "markdown",
   "id": "629c31db-1c68-4764-ac06-e42e3d937d75",
   "metadata": {},
   "source": [
    "## Obtain quality metrics"
   ]
  },
  {
   "cell_type": "code",
   "execution_count": null,
   "id": "d3ada64b-59a1-45e2-bd1d-097903f66647",
   "metadata": {},
   "outputs": [],
   "source": [
    "metrics_reporter = DimensionalityReductionQualityReport()\n",
    "metrics_report = metrics_reporter.evaluate([test_HD, test_LD])"
   ]
  },
  {
   "cell_type": "code",
   "execution_count": null,
   "id": "f295de78-74eb-41c8-825f-00a1b02abff0",
   "metadata": {},
   "outputs": [],
   "source": [
    "metrics_report"
   ]
  },
  {
   "cell_type": "code",
   "execution_count": null,
   "id": "b972890f-b7cf-48e6-88f4-f6132134cc9f",
   "metadata": {},
   "outputs": [],
   "source": [
    "table_info['Topo-AEv2 (L=1)'][6] = metrics_report['trustworthiness']\n",
    "table_info['Topo-AEv2 (L=1)'][7] = metrics_report['continuity']\n",
    "table_info['Topo-AEv2 (L=1)'][8] = metrics_report['co k nearest neighbor size']\n",
    "print_table(table_info)"
   ]
  },
  {
   "cell_type": "markdown",
   "id": "6164619b-9a9e-434f-a4d5-53d96e43e177",
   "metadata": {},
   "source": [
    "## Visualization"
   ]
  },
  {
   "cell_type": "code",
   "execution_count": null,
   "id": "81007b9f-4dbe-4603-bc89-e494197ac483",
   "metadata": {
    "tags": []
   },
   "outputs": [],
   "source": [
    "filter_to_use = [0,1,2,3,4,5]\n",
    "visualize(test_LD, test_Y)\n",
    "# visualize(test_LD, test_Y, filtered=filter_to_use, xlim=(-1,0), ylim=(-0.5,1.75))\n",
    "visualize(test_LD, test_Y, filtered=filter_to_use)\n",
    "# for f in filter_to_use:\n",
    "    # visualize(test_LD, test_Y, filtered=[f], xlim=(-1,0), ylim=(-0.5,1.75))\n",
    "    # visualize(test_LD, test_Y, filtered=[f])\n",
    "# 0 sit\n",
    "# 1 stand\n",
    "# 2 walk\n",
    "# 3 stair up\n",
    "# 4 stair down\n",
    "# 5 run"
   ]
  },
  {
   "cell_type": "markdown",
   "id": "03dcfe1c-f8a1-4b3b-bb14-c6b1a978e15f",
   "metadata": {
    "tags": []
   },
   "source": [
    "# **SECTION:** Topological AE (lambda=100)"
   ]
  },
  {
   "cell_type": "code",
   "execution_count": null,
   "id": "97dc9045-2091-43dd-8eaf-ae4891ba87a9",
   "metadata": {},
   "outputs": [],
   "source": [
    "from librep.transforms.topo_ae import TopologicalDimensionalityReduction\n",
    "from librep.estimators.ae.torch.models.topological_ae.topological_ae import TopologicallyRegularizedAutoencoder\n",
    "kwargs = {'input_dims':180, 'custom_dim':2}\n",
    "input_shape = (-1, 1, 180)\n",
    "topoae_lambda = 100\n",
    "topo_reducer = TopologicalDimensionalityReduction(ae_model='DeepAEforKuhar180ver2', lam=topoae_lambda,\n",
    "                                                      ae_kwargs=kwargs, input_shape=input_shape, patience=10)"
   ]
  },
  {
   "cell_type": "code",
   "execution_count": null,
   "id": "e9e0d951-16b3-4993-9132-01d3b4c32c91",
   "metadata": {},
   "outputs": [],
   "source": [
    "title_plot = \"KUHAR 20Hz\\nTopoAE lambda \" + str(topoae_lambda)\n",
    "topo_reducer.fit(train_HD, train_Y, title_plot=title_plot)"
   ]
  },
  {
   "cell_type": "code",
   "execution_count": null,
   "id": "d6ca5d04-aef6-4e79-a72d-134274a0f049",
   "metadata": {},
   "outputs": [],
   "source": [
    "train_LD = np.reshape(topo_reducer.transform(train_HD), (-1,2))\n",
    "print('TRAIN LD RESHAPED', train_LD.shape)\n",
    "test_LD = np.reshape(topo_reducer.transform(test_HD), (-1,2))\n",
    "print('TEST LD RESHAPED', test_LD.shape)"
   ]
  },
  {
   "cell_type": "markdown",
   "id": "44d27153-d050-4169-9298-5b3e99b21d5f",
   "metadata": {},
   "source": [
    "## Obtain classification metrics (RF, SVC, KNN)"
   ]
  },
  {
   "cell_type": "code",
   "execution_count": null,
   "id": "6e400093-fd1b-4032-8e92-f40c69d38603",
   "metadata": {},
   "outputs": [],
   "source": [
    "experiments_result = run_experiments(train_HD, train_LD, train_Y, test_HD, test_LD, test_Y)\n",
    "experiments_result"
   ]
  },
  {
   "cell_type": "code",
   "execution_count": null,
   "id": "b1e1102a-cf26-4023-923a-c4eb92727bb0",
   "metadata": {},
   "outputs": [],
   "source": [
    "table_info['Topo-AEv2 (L=100)'][0] = experiments_result['RF-ACC']\n",
    "table_info['Topo-AEv2 (L=100)'][1] = experiments_result['RF-F1']\n",
    "table_info['Topo-AEv2 (L=100)'][2] = experiments_result['SVC-ACC']\n",
    "table_info['Topo-AEv2 (L=100)'][3] = experiments_result['SVC-F1']\n",
    "table_info['Topo-AEv2 (L=100)'][4] = experiments_result['KNN-ACC']\n",
    "table_info['Topo-AEv2 (L=100)'][5] = experiments_result['KNN-F1']\n",
    "\n",
    "print_table(table_info)"
   ]
  },
  {
   "cell_type": "markdown",
   "id": "ef8ffac9-b486-441d-9e40-bee70f6fd362",
   "metadata": {},
   "source": [
    "## Obtain quality metrics"
   ]
  },
  {
   "cell_type": "code",
   "execution_count": null,
   "id": "7cc4a69e-d7e7-4559-a107-9c59c26ba551",
   "metadata": {},
   "outputs": [],
   "source": [
    "metrics_reporter = DimensionalityReductionQualityReport()\n",
    "metrics_report = metrics_reporter.evaluate([test_HD, test_LD])"
   ]
  },
  {
   "cell_type": "code",
   "execution_count": null,
   "id": "e389d291-7c0f-4556-9379-fdeb99990e21",
   "metadata": {},
   "outputs": [],
   "source": [
    "metrics_report"
   ]
  },
  {
   "cell_type": "code",
   "execution_count": null,
   "id": "9916d886-dfc5-4b1b-9f8a-1518678a50b7",
   "metadata": {},
   "outputs": [],
   "source": [
    "table_info['Topo-AEv2 (L=100)'][6] = metrics_report['trustworthiness']\n",
    "table_info['Topo-AEv2 (L=100)'][7] = metrics_report['continuity']\n",
    "table_info['Topo-AEv2 (L=100)'][8] = metrics_report['co k nearest neighbor size']\n",
    "print_table(table_info)"
   ]
  },
  {
   "cell_type": "markdown",
   "id": "39f7ddc1-2e9d-49eb-bc9a-448be0cfc094",
   "metadata": {},
   "source": [
    "## Visualization"
   ]
  },
  {
   "cell_type": "code",
   "execution_count": null,
   "id": "1b26da82-33dc-40e6-b592-37ea06fcf1b2",
   "metadata": {
    "tags": []
   },
   "outputs": [],
   "source": [
    "filter_to_use = [0,1,2,3,4,5]\n",
    "visualize(test_LD, test_Y)\n",
    "# visualize(test_LD, test_Y, filtered=filter_to_use, xlim=(-1,0), ylim=(-0.5,1.75))\n",
    "visualize(test_LD, test_Y, filtered=filter_to_use)\n",
    "# for f in filter_to_use:\n",
    "    # visualize(test_LD, test_Y, filtered=[f], xlim=(-1,0), ylim=(-0.5,1.75))\n",
    "    # visualize(test_LD, test_Y, filtered=[f])\n",
    "# 0 sit\n",
    "# 1 stand\n",
    "# 2 walk\n",
    "# 3 stair up\n",
    "# 4 stair down\n",
    "# 5 run"
   ]
  },
  {
   "cell_type": "markdown",
   "id": "61e715bc-7cd6-4661-8d33-29248bc2b631",
   "metadata": {
    "tags": []
   },
   "source": [
    "# **SECTION:** UMAP"
   ]
  },
  {
   "cell_type": "code",
   "execution_count": null,
   "id": "bb3e4f34-2a18-4ae4-b9a9-253c1468f3f3",
   "metadata": {},
   "outputs": [],
   "source": [
    "umap_reducer = UMAP()\n",
    "umap_reducer.fit(train_HD, train_Y)"
   ]
  },
  {
   "cell_type": "code",
   "execution_count": null,
   "id": "6cd2cc99-8e29-40a8-8328-0fd601be73ec",
   "metadata": {
    "tags": []
   },
   "outputs": [],
   "source": [
    "train_LD = np.reshape(umap_reducer.transform(train_HD), (-1,2))\n",
    "print('TRAIN LD RESHAPED', train_LD.shape)\n",
    "test_LD = np.reshape(umap_reducer.transform(test_HD), (-1,2))\n",
    "print('TEST LD RESHAPED', test_LD.shape)"
   ]
  },
  {
   "cell_type": "markdown",
   "id": "f052ee4a-7226-44b7-9895-023c3cf93143",
   "metadata": {},
   "source": [
    "## Obtain classification metrics (RF, SVC, KNN)"
   ]
  },
  {
   "cell_type": "code",
   "execution_count": null,
   "id": "5b242093-b472-4040-9e3f-be936ac65a4e",
   "metadata": {},
   "outputs": [],
   "source": [
    "experiments_result = run_experiments(train_HD, train_LD, train_Y, test_HD, test_LD, test_Y)\n",
    "experiments_result"
   ]
  },
  {
   "cell_type": "code",
   "execution_count": null,
   "id": "6151bcbc-9f78-45ed-929b-891bd5048d07",
   "metadata": {},
   "outputs": [],
   "source": [
    "table_info['UMAP'][0] = experiments_result['RF-ACC']\n",
    "table_info['UMAP'][1] = experiments_result['RF-F1']\n",
    "table_info['UMAP'][2] = experiments_result['SVC-ACC']\n",
    "table_info['UMAP'][3] = experiments_result['SVC-F1']\n",
    "table_info['UMAP'][4] = experiments_result['KNN-ACC']\n",
    "table_info['UMAP'][5] = experiments_result['KNN-F1']\n",
    "\n",
    "print_table(table_info)"
   ]
  },
  {
   "cell_type": "markdown",
   "id": "1ca3fce7-df2b-48a4-932e-bf16f56ea68b",
   "metadata": {},
   "source": [
    "## Obtain quality metrics"
   ]
  },
  {
   "cell_type": "code",
   "execution_count": null,
   "id": "a3bc64e8-c11b-4a5e-b0e6-87c19847b117",
   "metadata": {},
   "outputs": [],
   "source": [
    "metrics_reporter = DimensionalityReductionQualityReport()\n",
    "metrics_report = metrics_reporter.evaluate([test_HD, test_LD])"
   ]
  },
  {
   "cell_type": "code",
   "execution_count": null,
   "id": "86993c52-d5cc-45f4-b20a-6ad90a718483",
   "metadata": {},
   "outputs": [],
   "source": [
    "metrics_report"
   ]
  },
  {
   "cell_type": "code",
   "execution_count": null,
   "id": "6492b6cd-e2b7-42ac-80d0-5e207569c99a",
   "metadata": {},
   "outputs": [],
   "source": [
    "table_info['UMAP'][6] = metrics_report['trustworthiness']\n",
    "table_info['UMAP'][7] = metrics_report['continuity']\n",
    "table_info['UMAP'][8] = metrics_report['co k nearest neighbor size']\n",
    "print_table(table_info)"
   ]
  },
  {
   "cell_type": "markdown",
   "id": "f9f9f81c-a758-4212-9f03-76418eca1e63",
   "metadata": {},
   "source": [
    "## Visualization"
   ]
  },
  {
   "cell_type": "code",
   "execution_count": null,
   "id": "73f3cecd-e2d0-4b2a-ba31-b6c29a96fdd8",
   "metadata": {},
   "outputs": [],
   "source": [
    "filter_to_use = [0,1,2,3,4,5]\n",
    "visualize(test_LD, test_Y)\n",
    "# visualize(test_LD, test_Y, filtered=filter_to_use, xlim=(-1,0), ylim=(-0.5,1.75))\n",
    "visualize(test_LD, test_Y, filtered=filter_to_use)\n",
    "# for f in filter_to_use:\n",
    "    # visualize(test_LD, test_Y, filtered=[f], xlim=(-1,0), ylim=(-0.5,1.75))\n",
    "    # visualize(test_LD, test_Y, filtered=[f])\n",
    "# 0 sit\n",
    "# 1 stand\n",
    "# 2 walk\n",
    "# 3 stair up\n",
    "# 4 stair down\n",
    "# 5 run"
   ]
  },
  {
   "cell_type": "markdown",
   "id": "bcf2e616-e1ba-4abd-9bb8-9c4a126e11bb",
   "metadata": {
    "tags": []
   },
   "source": [
    "# **SECTION:** Metrics AE (metric=coknns, lambda=1)"
   ]
  },
  {
   "cell_type": "code",
   "execution_count": null,
   "id": "a91d8755-894d-4be6-a7c6-b3dbc9568e62",
   "metadata": {},
   "outputs": [],
   "source": [
    "from librep.transforms.adapted_ae import AdaptedAEDimensionalityReduction\n",
    "from librep.estimators.ae.torch.models.topological_ae.topological_ae import MetricsRegularizedAutoencoder\n",
    "kwargs = {'input_dims':180, 'custom_dim':2}\n",
    "input_shape = (-1, 1, 180)\n",
    "mae_lambda = 1\n",
    "mae_reducer = AdaptedAEDimensionalityReduction(\n",
    "    ae_model='DeepAEforKuhar180ver2',\n",
    "    lam=mae_lambda,\n",
    "    metric='coknns',\n",
    "    ae_kwargs=kwargs,\n",
    "    input_shape=input_shape,\n",
    "    patience=10\n",
    ")"
   ]
  },
  {
   "cell_type": "code",
   "execution_count": null,
   "id": "1156ecc2-557b-459a-a704-7fc247b88c8c",
   "metadata": {},
   "outputs": [],
   "source": [
    "title_plot = \"KUHAR 20Hz\\nAdaptedAE lambda \" + str(mae_lambda)\n",
    "mae_reducer.fit(train_HD, train_Y, title_plot=title_plot)"
   ]
  },
  {
   "cell_type": "code",
   "execution_count": null,
   "id": "8380ae9f-853f-48af-aac2-414095c1ab06",
   "metadata": {},
   "outputs": [],
   "source": [
    "train_LD = np.reshape(mae_reducer.transform(train_HD), (-1,2))\n",
    "print('TRAIN LD RESHAPED', train_LD.shape)\n",
    "test_LD = np.reshape(mae_reducer.transform(test_HD), (-1,2))\n",
    "print('TEST LD RESHAPED', test_LD.shape)"
   ]
  },
  {
   "cell_type": "markdown",
   "id": "0b026581-1b00-4546-b072-505e2a93b3c8",
   "metadata": {},
   "source": [
    "## Obtain classification metrics (RF, SVC, KNN)"
   ]
  },
  {
   "cell_type": "code",
   "execution_count": null,
   "id": "c483bd37-71b2-48f8-a564-f35da920e5d9",
   "metadata": {},
   "outputs": [],
   "source": [
    "experiments_result = run_experiments(train_HD, train_LD, train_Y, test_HD, test_LD, test_Y)\n",
    "experiments_result"
   ]
  },
  {
   "cell_type": "code",
   "execution_count": null,
   "id": "406f494d-2d80-434b-8d60-ef20a0244c9e",
   "metadata": {},
   "outputs": [],
   "source": [
    "table_info['M-AE (L=1)'][0] = experiments_result['RF-ACC']\n",
    "table_info['M-AE (L=1)'][1] = experiments_result['RF-F1']\n",
    "table_info['M-AE (L=1)'][2] = experiments_result['SVC-ACC']\n",
    "table_info['M-AE (L=1)'][3] = experiments_result['SVC-F1']\n",
    "table_info['M-AE (L=1)'][4] = experiments_result['KNN-ACC']\n",
    "table_info['M-AE (L=1)'][5] = experiments_result['KNN-F1']\n",
    "\n",
    "print_table(table_info)"
   ]
  },
  {
   "cell_type": "markdown",
   "id": "6b93f5ca-8253-4f40-9190-9fccda38615c",
   "metadata": {},
   "source": [
    "## Obtain quality metrics"
   ]
  },
  {
   "cell_type": "code",
   "execution_count": null,
   "id": "081aab0f-d66c-4692-a3d3-e3d5788698b0",
   "metadata": {},
   "outputs": [],
   "source": [
    "metrics_reporter = DimensionalityReductionQualityReport()\n",
    "metrics_report = metrics_reporter.evaluate([test_HD, test_LD])"
   ]
  },
  {
   "cell_type": "code",
   "execution_count": null,
   "id": "1e745248-6ea6-4bab-ad84-7df9096a2f01",
   "metadata": {},
   "outputs": [],
   "source": [
    "metrics_report"
   ]
  },
  {
   "cell_type": "code",
   "execution_count": null,
   "id": "bf3cd63a-8d19-4c05-acd3-60b7cb7d76c5",
   "metadata": {},
   "outputs": [],
   "source": [
    "table_info['M-AE (L=1)'][6] = metrics_report['trustworthiness']\n",
    "table_info['M-AE (L=1)'][7] = metrics_report['continuity']\n",
    "table_info['M-AE (L=1)'][8] = metrics_report['co k nearest neighbor size']\n",
    "print_table(table_info)"
   ]
  },
  {
   "cell_type": "markdown",
   "id": "787528ea-293f-4a60-929d-60290946dcc0",
   "metadata": {},
   "source": [
    "## Visualization"
   ]
  },
  {
   "cell_type": "code",
   "execution_count": null,
   "id": "d5c34a59-e88a-49b7-9c97-6401f081760f",
   "metadata": {
    "tags": []
   },
   "outputs": [],
   "source": [
    "filter_to_use = [0,1,2,3,4,5]\n",
    "visualize(test_LD, test_Y)\n",
    "# visualize(test_LD, test_Y, filtered=filter_to_use, xlim=(-1,0), ylim=(-0.5,1.75))\n",
    "visualize(test_LD, test_Y, filtered=filter_to_use)\n",
    "# for f in filter_to_use:\n",
    "    # visualize(test_LD, test_Y, filtered=[f], xlim=(-1,0), ylim=(-0.5,1.75))\n",
    "    # visualize(test_LD, test_Y, filtered=[f])\n",
    "# 0 sit\n",
    "# 1 stand\n",
    "# 2 walk\n",
    "# 3 stair up\n",
    "# 4 stair down\n",
    "# 5 run"
   ]
  },
  {
   "cell_type": "markdown",
   "id": "4663f939-2dd5-4b98-87f8-c6e78467716c",
   "metadata": {
    "tags": []
   },
   "source": [
    "# **SECTION:** Metrics AE (metric=coknns, lambda=100)"
   ]
  },
  {
   "cell_type": "code",
   "execution_count": null,
   "id": "6e17a672-37ef-420a-8c6f-9491facc050d",
   "metadata": {},
   "outputs": [],
   "source": [
    "from librep.transforms.adapted_ae import AdaptedAEDimensionalityReduction\n",
    "from librep.estimators.ae.torch.models.topological_ae.topological_ae import MetricsRegularizedAutoencoder\n",
    "kwargs = {'input_dims':180, 'custom_dim':2}\n",
    "input_shape = (-1, 1, 180)\n",
    "mae_lambda = 100\n",
    "mae_reducer = AdaptedAEDimensionalityReduction(\n",
    "    ae_model='DeepAEforKuhar180ver2',\n",
    "    lam=mae_lambda,\n",
    "    metric='coknns',\n",
    "    ae_kwargs=kwargs,\n",
    "    input_shape=input_shape,\n",
    "    patience=10\n",
    ")"
   ]
  },
  {
   "cell_type": "code",
   "execution_count": null,
   "id": "8d2e01f8-3db9-46dd-8a89-f614752c0a00",
   "metadata": {},
   "outputs": [],
   "source": [
    "title_plot = \"KUHAR 20Hz\\nAdaptedAE lambda \" + str(mae_lambda)\n",
    "mae_reducer.fit(train_HD, train_Y, title_plot=title_plot)"
   ]
  },
  {
   "cell_type": "code",
   "execution_count": null,
   "id": "1acfa185-e4ae-4182-b522-41a2b3db3b7a",
   "metadata": {},
   "outputs": [],
   "source": [
    "train_LD = np.reshape(mae_reducer.transform(train_HD), (-1,2))\n",
    "print('TRAIN LD RESHAPED', train_LD.shape)\n",
    "test_LD = np.reshape(mae_reducer.transform(test_HD), (-1,2))\n",
    "print('TEST LD RESHAPED', test_LD.shape)"
   ]
  },
  {
   "cell_type": "markdown",
   "id": "1a8b895a-ef55-4613-b546-64c54c3a5aaf",
   "metadata": {},
   "source": [
    "## Obtain classification metrics (RF, SVC, KNN)"
   ]
  },
  {
   "cell_type": "code",
   "execution_count": null,
   "id": "29a5e743-e008-4a22-be18-603de6b31df4",
   "metadata": {},
   "outputs": [],
   "source": [
    "experiments_result = run_experiments(train_HD, train_LD, train_Y, test_HD, test_LD, test_Y)\n",
    "experiments_result"
   ]
  },
  {
   "cell_type": "code",
   "execution_count": null,
   "id": "d8b5358b-e18e-4e47-942e-6f2577d17481",
   "metadata": {},
   "outputs": [],
   "source": [
    "table_info['M-AE (L=100)'][0] = experiments_result['RF-ACC']\n",
    "table_info['M-AE (L=100)'][1] = experiments_result['RF-F1']\n",
    "table_info['M-AE (L=100)'][2] = experiments_result['SVC-ACC']\n",
    "table_info['M-AE (L=100)'][3] = experiments_result['SVC-F1']\n",
    "table_info['M-AE (L=100)'][4] = experiments_result['KNN-ACC']\n",
    "table_info['M-AE (L=100)'][5] = experiments_result['KNN-F1']\n",
    "\n",
    "print_table(table_info)"
   ]
  },
  {
   "cell_type": "markdown",
   "id": "153dd8fb-e980-43b1-8300-84213c1115e7",
   "metadata": {},
   "source": [
    "## Obtain quality metrics"
   ]
  },
  {
   "cell_type": "code",
   "execution_count": null,
   "id": "a7a1bff6-6849-4223-8bf7-e1448a908c24",
   "metadata": {},
   "outputs": [],
   "source": [
    "metrics_reporter = DimensionalityReductionQualityReport()\n",
    "metrics_report = metrics_reporter.evaluate([test_HD, test_LD])"
   ]
  },
  {
   "cell_type": "code",
   "execution_count": null,
   "id": "f15850a2-881e-4901-8ee7-1ef4e00ec8e4",
   "metadata": {},
   "outputs": [],
   "source": [
    "metrics_report"
   ]
  },
  {
   "cell_type": "code",
   "execution_count": null,
   "id": "1064282f-e1aa-4eff-a80b-12cb68542f42",
   "metadata": {},
   "outputs": [],
   "source": [
    "table_info['M-AE (L=100)'][6] = metrics_report['trustworthiness']\n",
    "table_info['M-AE (L=100)'][7] = metrics_report['continuity']\n",
    "table_info['M-AE (L=100)'][8] = metrics_report['co k nearest neighbor size']\n",
    "print_table(table_info)"
   ]
  },
  {
   "cell_type": "markdown",
   "id": "10d89d7a-e70a-42bd-8ab5-8d48b7268f18",
   "metadata": {},
   "source": [
    "## Visualization"
   ]
  },
  {
   "cell_type": "code",
   "execution_count": null,
   "id": "3854ed23-f741-4907-aa61-0b2634b1c5c4",
   "metadata": {
    "tags": []
   },
   "outputs": [],
   "source": [
    "filter_to_use = [0,1,2,3,4,5]\n",
    "visualize(test_LD, test_Y)\n",
    "# visualize(test_LD, test_Y, filtered=filter_to_use, xlim=(-1,0), ylim=(-0.5,1.75))\n",
    "visualize(test_LD, test_Y, filtered=filter_to_use)\n",
    "# for f in filter_to_use:\n",
    "    # visualize(test_LD, test_Y, filtered=[f], xlim=(-1,0), ylim=(-0.5,1.75))\n",
    "    # visualize(test_LD, test_Y, filtered=[f])\n",
    "# 0 sit\n",
    "# 1 stand\n",
    "# 2 walk\n",
    "# 3 stair up\n",
    "# 4 stair down\n",
    "# 5 run"
   ]
  },
  {
   "cell_type": "code",
   "execution_count": null,
   "id": "10bd7a5e-e570-4976-a119-60417b64053d",
   "metadata": {},
   "outputs": [],
   "source": []
  }
 ],
 "metadata": {
  "kernelspec": {
   "display_name": "Python 3 (ipykernel)",
   "language": "python",
   "name": "python3"
  },
  "language_info": {
   "codemirror_mode": {
    "name": "ipython",
    "version": 3
   },
   "file_extension": ".py",
   "mimetype": "text/x-python",
   "name": "python",
   "nbconvert_exporter": "python",
   "pygments_lexer": "ipython3",
   "version": "3.8.10"
  }
 },
 "nbformat": 4,
 "nbformat_minor": 5
}
