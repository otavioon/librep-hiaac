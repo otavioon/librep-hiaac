{
 "cells": [
  {
   "cell_type": "code",
   "execution_count": 4,
   "id": "70e701f6-1637-4b84-89c4-8e5455ebab8a",
   "metadata": {},
   "outputs": [
    {
     "name": "stdout",
     "output_type": "stream",
     "text": [
      "╒═════════════════╤═══════════════╕\n",
      "│ Metrics         │   Topo-AE L=1 │\n",
      "╞═════════════════╪═══════════════╡\n",
      "│ RF-ACC          │      0.497354 │\n",
      "├─────────────────┼───────────────┤\n",
      "│ RF-F1           │      0.504815 │\n",
      "├─────────────────┼───────────────┤\n",
      "│ SVC-ACC         │      0.436508 │\n",
      "├─────────────────┼───────────────┤\n",
      "│ SVC-F1          │      0.457653 │\n",
      "├─────────────────┼───────────────┤\n",
      "│ KNN-ACC         │      0.44709  │\n",
      "├─────────────────┼───────────────┤\n",
      "│ KNN-F1          │      0.453811 │\n",
      "├─────────────────┼───────────────┤\n",
      "│ Trustworthiness │      0.901993 │\n",
      "├─────────────────┼───────────────┤\n",
      "│ Continuity      │      0.961327 │\n",
      "├─────────────────┼───────────────┤\n",
      "│ Co-k-NNs        │      0.442805 │\n",
      "╘═════════════════╧═══════════════╛\n"
     ]
    }
   ],
   "source": [
    "from tabulate import tabulate\n",
    "data = {\n",
    "    'Metrics': [\n",
    "        'RF-ACC',\n",
    "        'RF-F1',\n",
    "        'SVC-ACC',\n",
    "        'SVC-F1',\n",
    "        'KNN-ACC',\n",
    "        'KNN-F1',\n",
    "        'Trustworthiness',\n",
    "        'Continuity',\n",
    "        'Co-k-NNs'\n",
    "    ],\n",
    "    'Topo-AE L=1': [0.497354, 0.504815, 0.436508, 0.457653, 0.44709, 0.453811, 0.901993, 0.961327, 0.442805],\n",
    "    'Topo-AE L=100': [0.467196, 0.479733, 0.47619, 0.504946, 0.436508, 0.43942, 0.894048, 0.949481, 0.406001]\n",
    "}\n",
    "data_tab = tabulate(\n",
    "    data,\n",
    "    headers='keys',\n",
    "    tablefmt='fancy_grid',\n",
    "    missingval='-'\n",
    ")\n",
    "print(data_tab)"
   ]
  }
 ],
 "metadata": {
  "kernelspec": {
   "display_name": "Python 3 (ipykernel)",
   "language": "python",
   "name": "python3"
  },
  "language_info": {
   "codemirror_mode": {
    "name": "ipython",
    "version": 3
   },
   "file_extension": ".py",
   "mimetype": "text/x-python",
   "name": "python",
   "nbconvert_exporter": "python",
   "pygments_lexer": "ipython3",
   "version": "3.8.10"
  }
 },
 "nbformat": 4,
 "nbformat_minor": 5
}
