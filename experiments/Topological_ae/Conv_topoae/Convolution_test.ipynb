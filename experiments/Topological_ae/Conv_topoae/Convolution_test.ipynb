{
 "cells": [
  {
   "cell_type": "code",
   "execution_count": 4,
   "id": "30f0dd1e-8d42-4edb-a4b4-6b865067b7e4",
   "metadata": {},
   "outputs": [
    {
     "name": "stdout",
     "output_type": "stream",
     "text": [
      "FROM torch.Size([22, 1, 52]) TO torch.Size([22, 1, 50]) TO torch.Size([22, 1, 48])\n"
     ]
    }
   ],
   "source": [
    "# Import Library\n",
    "import torch\n",
    "import torch.nn as nn\n",
    "# Using nn.Conv1d() function\n",
    "c = nn.Conv1d(in_channels=1, out_channels=1, kernel_size=3, stride=1)\n",
    "# Declaring a input variable\n",
    "input = torch.randn(22, 1, 52)\n",
    "output = c(input)\n",
    "output2 = c(output)\n",
    "# Print output\n",
    "print('FROM', input.shape, 'TO', output.shape, 'TO', output2.shape)"
   ]
  },
  {
   "cell_type": "code",
   "execution_count": 2,
   "id": "2fab1c52-9b8b-47e5-b755-e8929bd8f13b",
   "metadata": {},
   "outputs": [
    {
     "data": {
      "text/plain": [
       "torch.Size([22, 1, 52])"
      ]
     },
     "execution_count": 2,
     "metadata": {},
     "output_type": "execute_result"
    }
   ],
   "source": [
    "input.shape"
   ]
  },
  {
   "cell_type": "code",
   "execution_count": 3,
   "id": "f387fde5-96b6-4f19-be6b-9b5bfcfaa090",
   "metadata": {},
   "outputs": [
    {
     "data": {
      "text/plain": [
       "torch.Size([22, 1, 50])"
      ]
     },
     "execution_count": 3,
     "metadata": {},
     "output_type": "execute_result"
    }
   ],
   "source": [
    "output.shape"
   ]
  },
  {
   "cell_type": "code",
   "execution_count": null,
   "id": "f9455aec-3f83-40cd-8bbd-7a8dd023f3f4",
   "metadata": {},
   "outputs": [],
   "source": []
  }
 ],
 "metadata": {
  "kernelspec": {
   "display_name": "Python 3 (ipykernel)",
   "language": "python",
   "name": "python3"
  },
  "language_info": {
   "codemirror_mode": {
    "name": "ipython",
    "version": 3
   },
   "file_extension": ".py",
   "mimetype": "text/x-python",
   "name": "python",
   "nbconvert_exporter": "python",
   "pygments_lexer": "ipython3",
   "version": "3.8.10"
  }
 },
 "nbformat": 4,
 "nbformat_minor": 5
}
