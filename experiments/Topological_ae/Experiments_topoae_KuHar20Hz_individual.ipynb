{
 "cells": [
  {
   "cell_type": "code",
   "execution_count": 1,
   "id": "40df6f11-a295-4bb3-8ad7-c167a0adb0e6",
   "metadata": {},
   "outputs": [],
   "source": [
    "%load_ext autoreload\n",
    "%autoreload 2"
   ]
  },
  {
   "cell_type": "code",
   "execution_count": 2,
   "id": "96ae4be2-202a-476a-85fa-478520f4a951",
   "metadata": {},
   "outputs": [
    {
     "name": "stderr",
     "output_type": "stream",
     "text": [
      "2022-10-11 11:08:46.478389: W tensorflow/stream_executor/platform/default/dso_loader.cc:64] Could not load dynamic library 'libcudart.so.11.0'; dlerror: libcudart.so.11.0: cannot open shared object file: No such file or directory\n",
      "2022-10-11 11:08:46.478409: I tensorflow/stream_executor/cuda/cudart_stub.cc:29] Ignore above cudart dlerror if you do not have a GPU set up on your machine.\n"
     ]
    }
   ],
   "source": [
    "from pathlib import Path  # For defining dataset Paths\n",
    "import sys                # For include librep package\n",
    "sys.path.append(\"../..\")\n",
    "\n",
    "# Third party imports\n",
    "import pandas as pd\n",
    "import numpy as np\n",
    "\n",
    "# Librep imports\n",
    "from librep.utils.dataset import PandasDatasetsIO          # For quick load train, test and validation CSVs\n",
    "from librep.datasets.multimodal import PandasMultiModalDataset # Wrap CSVs to librep's `Dataset` interface"
   ]
  },
  {
   "cell_type": "code",
   "execution_count": 24,
   "id": "7a423355-2d96-48a5-918f-e29e4777de03",
   "metadata": {},
   "outputs": [],
   "source": [
    "from librep.utils.workflow import SimpleTrainEvalWorkflow, MultiRunWorkflow\n",
    "from librep.estimators import RandomForestClassifier\n",
    "from sklearn.svm import SVC\n",
    "from sklearn.neighbors import KNeighborsClassifier\n",
    "\n",
    "from librep.metrics.report import ClassificationReport\n",
    "import yaml"
   ]
  },
  {
   "cell_type": "code",
   "execution_count": 3,
   "id": "42894747-02af-43dc-a7de-82a40fc37f72",
   "metadata": {},
   "outputs": [],
   "source": [
    "# Path for KuHar resampled to 20Hz view with the same activities (and labels numbers)\n",
    "# It is assumed that the directory will contain (train.csv, test.csv and validation.csv)\n",
    "dataset_path = Path(\"../../data/old-views/KuHar/resampled_view_20Hz\")"
   ]
  },
  {
   "cell_type": "code",
   "execution_count": 4,
   "id": "de491788-8150-4578-a248-996c054c21a2",
   "metadata": {},
   "outputs": [],
   "source": [
    "# Kuhar dataframes\n",
    "train, validation, test = PandasDatasetsIO(dataset_path).load()"
   ]
  },
  {
   "cell_type": "code",
   "execution_count": 5,
   "id": "017e09b2-e292-4e2a-80a4-0e506c9a4311",
   "metadata": {},
   "outputs": [
    {
     "data": {
      "text/html": [
       "<div>\n",
       "<style scoped>\n",
       "    .dataframe tbody tr th:only-of-type {\n",
       "        vertical-align: middle;\n",
       "    }\n",
       "\n",
       "    .dataframe tbody tr th {\n",
       "        vertical-align: top;\n",
       "    }\n",
       "\n",
       "    .dataframe thead th {\n",
       "        text-align: right;\n",
       "    }\n",
       "</style>\n",
       "<table border=\"1\" class=\"dataframe\">\n",
       "  <thead>\n",
       "    <tr style=\"text-align: right;\">\n",
       "      <th></th>\n",
       "      <th>Unnamed: 0</th>\n",
       "      <th>accel-x-0</th>\n",
       "      <th>accel-x-1</th>\n",
       "      <th>accel-x-2</th>\n",
       "      <th>accel-x-3</th>\n",
       "      <th>accel-x-4</th>\n",
       "      <th>accel-x-5</th>\n",
       "      <th>accel-x-6</th>\n",
       "      <th>accel-x-7</th>\n",
       "      <th>accel-x-8</th>\n",
       "      <th>...</th>\n",
       "      <th>accel-start-time</th>\n",
       "      <th>gyro-start-time</th>\n",
       "      <th>accel-end-time</th>\n",
       "      <th>gyro-end-time</th>\n",
       "      <th>activity code</th>\n",
       "      <th>length</th>\n",
       "      <th>serial</th>\n",
       "      <th>index</th>\n",
       "      <th>user</th>\n",
       "      <th>normalized activity code</th>\n",
       "    </tr>\n",
       "  </thead>\n",
       "  <tbody>\n",
       "    <tr>\n",
       "      <th>0</th>\n",
       "      <td>0</td>\n",
       "      <td>0.001911</td>\n",
       "      <td>-0.014536</td>\n",
       "      <td>0.005845</td>\n",
       "      <td>0.003675</td>\n",
       "      <td>-0.014972</td>\n",
       "      <td>0.025607</td>\n",
       "      <td>0.000478</td>\n",
       "      <td>-0.031141</td>\n",
       "      <td>-0.014827</td>\n",
       "      <td>...</td>\n",
       "      <td>23.235</td>\n",
       "      <td>23.223</td>\n",
       "      <td>26.260</td>\n",
       "      <td>26.249</td>\n",
       "      <td>0</td>\n",
       "      <td>300</td>\n",
       "      <td>1</td>\n",
       "      <td>2100</td>\n",
       "      <td>1051</td>\n",
       "      <td>1</td>\n",
       "    </tr>\n",
       "    <tr>\n",
       "      <th>1</th>\n",
       "      <td>1</td>\n",
       "      <td>0.004114</td>\n",
       "      <td>-0.003186</td>\n",
       "      <td>0.000759</td>\n",
       "      <td>0.012450</td>\n",
       "      <td>-0.032074</td>\n",
       "      <td>0.007270</td>\n",
       "      <td>-0.000470</td>\n",
       "      <td>0.006980</td>\n",
       "      <td>0.021400</td>\n",
       "      <td>...</td>\n",
       "      <td>56.292</td>\n",
       "      <td>56.292</td>\n",
       "      <td>59.245</td>\n",
       "      <td>59.245</td>\n",
       "      <td>0</td>\n",
       "      <td>300</td>\n",
       "      <td>1</td>\n",
       "      <td>5700</td>\n",
       "      <td>1037</td>\n",
       "      <td>1</td>\n",
       "    </tr>\n",
       "    <tr>\n",
       "      <th>2</th>\n",
       "      <td>2</td>\n",
       "      <td>-0.011282</td>\n",
       "      <td>-0.002432</td>\n",
       "      <td>-0.003199</td>\n",
       "      <td>0.008152</td>\n",
       "      <td>-0.021763</td>\n",
       "      <td>0.000309</td>\n",
       "      <td>-0.004968</td>\n",
       "      <td>-0.009551</td>\n",
       "      <td>0.001497</td>\n",
       "      <td>...</td>\n",
       "      <td>27.268</td>\n",
       "      <td>27.267</td>\n",
       "      <td>30.290</td>\n",
       "      <td>30.291</td>\n",
       "      <td>0</td>\n",
       "      <td>300</td>\n",
       "      <td>1</td>\n",
       "      <td>2700</td>\n",
       "      <td>1075</td>\n",
       "      <td>1</td>\n",
       "    </tr>\n",
       "    <tr>\n",
       "      <th>3</th>\n",
       "      <td>3</td>\n",
       "      <td>-0.009241</td>\n",
       "      <td>-0.004666</td>\n",
       "      <td>0.021606</td>\n",
       "      <td>-0.007200</td>\n",
       "      <td>0.003091</td>\n",
       "      <td>0.001630</td>\n",
       "      <td>0.005057</td>\n",
       "      <td>-0.008149</td>\n",
       "      <td>0.013167</td>\n",
       "      <td>...</td>\n",
       "      <td>39.421</td>\n",
       "      <td>39.420</td>\n",
       "      <td>42.441</td>\n",
       "      <td>42.440</td>\n",
       "      <td>0</td>\n",
       "      <td>300</td>\n",
       "      <td>6</td>\n",
       "      <td>3900</td>\n",
       "      <td>1008</td>\n",
       "      <td>1</td>\n",
       "    </tr>\n",
       "    <tr>\n",
       "      <th>4</th>\n",
       "      <td>4</td>\n",
       "      <td>-0.013083</td>\n",
       "      <td>-0.005612</td>\n",
       "      <td>0.001645</td>\n",
       "      <td>0.006823</td>\n",
       "      <td>-0.004159</td>\n",
       "      <td>0.000415</td>\n",
       "      <td>0.008178</td>\n",
       "      <td>0.002637</td>\n",
       "      <td>-0.000827</td>\n",
       "      <td>...</td>\n",
       "      <td>23.703</td>\n",
       "      <td>23.703</td>\n",
       "      <td>26.656</td>\n",
       "      <td>26.656</td>\n",
       "      <td>0</td>\n",
       "      <td>300</td>\n",
       "      <td>1</td>\n",
       "      <td>2400</td>\n",
       "      <td>1038</td>\n",
       "      <td>1</td>\n",
       "    </tr>\n",
       "  </tbody>\n",
       "</table>\n",
       "<p>5 rows × 371 columns</p>\n",
       "</div>"
      ],
      "text/plain": [
       "   Unnamed: 0  accel-x-0  accel-x-1  accel-x-2  accel-x-3  accel-x-4  \\\n",
       "0           0   0.001911  -0.014536   0.005845   0.003675  -0.014972   \n",
       "1           1   0.004114  -0.003186   0.000759   0.012450  -0.032074   \n",
       "2           2  -0.011282  -0.002432  -0.003199   0.008152  -0.021763   \n",
       "3           3  -0.009241  -0.004666   0.021606  -0.007200   0.003091   \n",
       "4           4  -0.013083  -0.005612   0.001645   0.006823  -0.004159   \n",
       "\n",
       "   accel-x-5  accel-x-6  accel-x-7  accel-x-8  ...  accel-start-time  \\\n",
       "0   0.025607   0.000478  -0.031141  -0.014827  ...            23.235   \n",
       "1   0.007270  -0.000470   0.006980   0.021400  ...            56.292   \n",
       "2   0.000309  -0.004968  -0.009551   0.001497  ...            27.268   \n",
       "3   0.001630   0.005057  -0.008149   0.013167  ...            39.421   \n",
       "4   0.000415   0.008178   0.002637  -0.000827  ...            23.703   \n",
       "\n",
       "   gyro-start-time  accel-end-time  gyro-end-time  activity code  length  \\\n",
       "0           23.223          26.260         26.249              0     300   \n",
       "1           56.292          59.245         59.245              0     300   \n",
       "2           27.267          30.290         30.291              0     300   \n",
       "3           39.420          42.441         42.440              0     300   \n",
       "4           23.703          26.656         26.656              0     300   \n",
       "\n",
       "   serial  index  user  normalized activity code  \n",
       "0       1   2100  1051                         1  \n",
       "1       1   5700  1037                         1  \n",
       "2       1   2700  1075                         1  \n",
       "3       6   3900  1008                         1  \n",
       "4       1   2400  1038                         1  \n",
       "\n",
       "[5 rows x 371 columns]"
      ]
     },
     "execution_count": 5,
     "metadata": {},
     "output_type": "execute_result"
    }
   ],
   "source": [
    "train.head()"
   ]
  },
  {
   "cell_type": "code",
   "execution_count": 6,
   "id": "1eb43522-3bbf-4369-af25-6aba6bbe7547",
   "metadata": {},
   "outputs": [],
   "source": [
    "# Kuhar features to select\n",
    "features = [\n",
    "    \"accel-x\",\n",
    "    \"accel-y\",\n",
    "    \"accel-z\",\n",
    "    \"gyro-x\",\n",
    "    \"gyro-y\",\n",
    "    \"gyro-z\"\n",
    "]\n",
    "\n",
    "# Creating the datasets\n",
    "\n",
    "# Train\n",
    "train_dataset = PandasMultiModalDataset(\n",
    "    train,\n",
    "    feature_prefixes=features,\n",
    "    label_columns=\"activity code\",\n",
    "    as_array=True\n",
    ")\n",
    "\n",
    "# Validation\n",
    "validation_dataset = PandasMultiModalDataset(\n",
    "    validation,\n",
    "    feature_prefixes=features,\n",
    "    label_columns=\"activity code\",\n",
    "    as_array=True\n",
    ")\n",
    "\n",
    "# Test\n",
    "test_dataset = PandasMultiModalDataset(\n",
    "    test,\n",
    "    feature_prefixes=features,\n",
    "    label_columns=\"activity code\",\n",
    "    as_array=True\n",
    ")"
   ]
  },
  {
   "cell_type": "code",
   "execution_count": 7,
   "id": "8966bf11-2c32-4901-9a9f-c7f40735a63d",
   "metadata": {},
   "outputs": [],
   "source": [
    "from librep.datasets.multimodal import TransformMultiModalDataset\n",
    "from librep.transforms.fft import FFT"
   ]
  },
  {
   "cell_type": "code",
   "execution_count": 8,
   "id": "1e9a59e3-f891-4479-84cf-ef32e543dce9",
   "metadata": {},
   "outputs": [],
   "source": [
    "fft_transform = FFT(centered = True)\n",
    "transformer = TransformMultiModalDataset(transforms=[fft_transform], new_window_name_prefix=\"fft.\")"
   ]
  },
  {
   "cell_type": "code",
   "execution_count": 9,
   "id": "58ac2abb-b3f6-4729-ab08-e87a5d279343",
   "metadata": {},
   "outputs": [],
   "source": [
    "train_dataset_fft = transformer(train_dataset)\n",
    "validation_dataset_fft = transformer(validation_dataset)\n",
    "test_dataset_fft = transformer(test_dataset)"
   ]
  },
  {
   "cell_type": "code",
   "execution_count": 10,
   "id": "0b81d10b-7ac8-41b5-8a18-453954828edc",
   "metadata": {},
   "outputs": [
    {
     "name": "stdout",
     "output_type": "stream",
     "text": [
      "(3330, 180)\n",
      "(108, 180)\n",
      "(378, 180)\n"
     ]
    }
   ],
   "source": [
    "print(train_dataset_fft.X.shape)\n",
    "print(validation_dataset_fft.X.shape)\n",
    "print(test_dataset_fft.X.shape)"
   ]
  },
  {
   "cell_type": "code",
   "execution_count": 11,
   "id": "e66de95c-9631-4a7e-8465-ef7df0de2b99",
   "metadata": {},
   "outputs": [
    {
     "name": "stdout",
     "output_type": "stream",
     "text": [
      "1182.4630044066\n"
     ]
    }
   ],
   "source": [
    "print(np.max(train_dataset_fft.X))"
   ]
  },
  {
   "cell_type": "code",
   "execution_count": 12,
   "id": "373929cf-94f3-400c-9f16-6b9846f6bbc3",
   "metadata": {},
   "outputs": [
    {
     "data": {
      "text/plain": [
       "array([[2.08923330e-02, 1.12081089e-01, 6.03699767e-02, ...,\n",
       "        6.86907330e-03, 1.25349286e-02, 1.69158661e-02],\n",
       "       [1.53802877e-02, 8.24343989e-02, 4.18766153e-02, ...,\n",
       "        3.72912157e-03, 3.98584265e-03, 1.71193131e-02],\n",
       "       [5.21272671e-02, 4.82816195e-02, 8.93573044e-02, ...,\n",
       "        9.75422945e-03, 2.66463902e-02, 7.84359780e-03],\n",
       "       ...,\n",
       "       [2.46594280e+00, 2.97792077e+01, 2.58438841e+01, ...,\n",
       "        1.43625028e+00, 7.98405975e-01, 2.66617405e-01],\n",
       "       [3.12703194e+00, 2.12859482e+01, 9.31637610e+00, ...,\n",
       "        4.71804217e-01, 9.06413206e-01, 6.75740676e-01],\n",
       "       [1.48890233e+01, 6.63385820e+00, 8.58902995e+00, ...,\n",
       "        3.19953749e-01, 1.27100790e-01, 3.83110579e-01]])"
      ]
     },
     "execution_count": 12,
     "metadata": {},
     "output_type": "execute_result"
    }
   ],
   "source": [
    "train_dataset_fft.X"
   ]
  },
  {
   "cell_type": "code",
   "execution_count": 13,
   "id": "a2ace16e-1d84-447c-a3fb-0014b93e8f25",
   "metadata": {},
   "outputs": [],
   "source": [
    "train_HD = train_dataset_fft.X\n",
    "train_LD = None\n",
    "train_Y = train_dataset_fft.y\n",
    "test_HD = test_dataset_fft.X\n",
    "test_LD = None\n",
    "test_Y = test_dataset_fft.y"
   ]
  },
  {
   "cell_type": "markdown",
   "id": "71409f92-8cd5-434b-919f-d068996dbc66",
   "metadata": {},
   "source": [
    "# Applying Scaler"
   ]
  },
  {
   "cell_type": "code",
   "execution_count": 14,
   "id": "46248f1a-e532-4c3a-8f3d-5ce8f97a95b2",
   "metadata": {},
   "outputs": [],
   "source": [
    "# from sklearn import preprocessing\n",
    "\n",
    "# scaler = preprocessing.MinMaxScaler()\n",
    "# train_scaled = scaler.fit_transform(train_dataset_fft.X)\n",
    "# test_scaled = scaler.fit_transform(test_dataset_fft.X)"
   ]
  },
  {
   "cell_type": "code",
   "execution_count": 15,
   "id": "08ea5136-59dd-4e00-8037-8545ad3a3890",
   "metadata": {},
   "outputs": [
    {
     "data": {
      "text/plain": [
       "(0.0, 1.0000000000000002)"
      ]
     },
     "execution_count": 15,
     "metadata": {},
     "output_type": "execute_result"
    }
   ],
   "source": [
    "# np.min(train_scaled), np.max(test_scaled)"
   ]
  },
  {
   "cell_type": "code",
   "execution_count": 16,
   "id": "7743e300-d869-4128-a490-f6eac79155fe",
   "metadata": {},
   "outputs": [],
   "source": [
    "# train_HD = scaler.fit_transform(train_dataset_fft.X)\n",
    "# train_LD = None\n",
    "# train_Y = train_dataset_fft.y\n",
    "# test_HD = scaler.fit_transform(test_dataset_fft.X)\n",
    "# test_LD = None\n",
    "# test_Y = test_dataset_fft.y"
   ]
  },
  {
   "cell_type": "markdown",
   "id": "a44c6b39-8bc9-43ec-9e6d-043b1501d22e",
   "metadata": {},
   "source": [
    "# Reducing with UMAP"
   ]
  },
  {
   "cell_type": "code",
   "execution_count": 17,
   "id": "3c7ddd57-133f-40c5-bec3-f60c235a0396",
   "metadata": {},
   "outputs": [
    {
     "data": {
      "text/html": [
       "<style>#sk-container-id-1 {color: black;background-color: white;}#sk-container-id-1 pre{padding: 0;}#sk-container-id-1 div.sk-toggleable {background-color: white;}#sk-container-id-1 label.sk-toggleable__label {cursor: pointer;display: block;width: 100%;margin-bottom: 0;padding: 0.3em;box-sizing: border-box;text-align: center;}#sk-container-id-1 label.sk-toggleable__label-arrow:before {content: \"▸\";float: left;margin-right: 0.25em;color: #696969;}#sk-container-id-1 label.sk-toggleable__label-arrow:hover:before {color: black;}#sk-container-id-1 div.sk-estimator:hover label.sk-toggleable__label-arrow:before {color: black;}#sk-container-id-1 div.sk-toggleable__content {max-height: 0;max-width: 0;overflow: hidden;text-align: left;background-color: #f0f8ff;}#sk-container-id-1 div.sk-toggleable__content pre {margin: 0.2em;color: black;border-radius: 0.25em;background-color: #f0f8ff;}#sk-container-id-1 input.sk-toggleable__control:checked~div.sk-toggleable__content {max-height: 200px;max-width: 100%;overflow: auto;}#sk-container-id-1 input.sk-toggleable__control:checked~label.sk-toggleable__label-arrow:before {content: \"▾\";}#sk-container-id-1 div.sk-estimator input.sk-toggleable__control:checked~label.sk-toggleable__label {background-color: #d4ebff;}#sk-container-id-1 div.sk-label input.sk-toggleable__control:checked~label.sk-toggleable__label {background-color: #d4ebff;}#sk-container-id-1 input.sk-hidden--visually {border: 0;clip: rect(1px 1px 1px 1px);clip: rect(1px, 1px, 1px, 1px);height: 1px;margin: -1px;overflow: hidden;padding: 0;position: absolute;width: 1px;}#sk-container-id-1 div.sk-estimator {font-family: monospace;background-color: #f0f8ff;border: 1px dotted black;border-radius: 0.25em;box-sizing: border-box;margin-bottom: 0.5em;}#sk-container-id-1 div.sk-estimator:hover {background-color: #d4ebff;}#sk-container-id-1 div.sk-parallel-item::after {content: \"\";width: 100%;border-bottom: 1px solid gray;flex-grow: 1;}#sk-container-id-1 div.sk-label:hover label.sk-toggleable__label {background-color: #d4ebff;}#sk-container-id-1 div.sk-serial::before {content: \"\";position: absolute;border-left: 1px solid gray;box-sizing: border-box;top: 0;bottom: 0;left: 50%;z-index: 0;}#sk-container-id-1 div.sk-serial {display: flex;flex-direction: column;align-items: center;background-color: white;padding-right: 0.2em;padding-left: 0.2em;position: relative;}#sk-container-id-1 div.sk-item {position: relative;z-index: 1;}#sk-container-id-1 div.sk-parallel {display: flex;align-items: stretch;justify-content: center;background-color: white;position: relative;}#sk-container-id-1 div.sk-item::before, #sk-container-id-1 div.sk-parallel-item::before {content: \"\";position: absolute;border-left: 1px solid gray;box-sizing: border-box;top: 0;bottom: 0;left: 50%;z-index: -1;}#sk-container-id-1 div.sk-parallel-item {display: flex;flex-direction: column;z-index: 1;position: relative;background-color: white;}#sk-container-id-1 div.sk-parallel-item:first-child::after {align-self: flex-end;width: 50%;}#sk-container-id-1 div.sk-parallel-item:last-child::after {align-self: flex-start;width: 50%;}#sk-container-id-1 div.sk-parallel-item:only-child::after {width: 0;}#sk-container-id-1 div.sk-dashed-wrapped {border: 1px dashed gray;margin: 0 0.4em 0.5em 0.4em;box-sizing: border-box;padding-bottom: 0.4em;background-color: white;}#sk-container-id-1 div.sk-label label {font-family: monospace;font-weight: bold;display: inline-block;line-height: 1.2em;}#sk-container-id-1 div.sk-label-container {text-align: center;}#sk-container-id-1 div.sk-container {/* jupyter's `normalize.less` sets `[hidden] { display: none; }` but bootstrap.min.css set `[hidden] { display: none !important; }` so we also need the `!important` here to be able to override the default hidden behavior on the sphinx rendered scikit-learn.org. See: https://github.com/scikit-learn/scikit-learn/issues/21755 */display: inline-block !important;position: relative;}#sk-container-id-1 div.sk-text-repr-fallback {display: none;}</style><div id=\"sk-container-id-1\" class=\"sk-top-container\"><div class=\"sk-text-repr-fallback\"><pre>UMAP(tqdm_kwds={&#x27;bar_format&#x27;: &#x27;{desc}: {percentage:3.0f}%| {bar} {n_fmt}/{total_fmt} [{elapsed}]&#x27;, &#x27;desc&#x27;: &#x27;Epochs completed&#x27;, &#x27;disable&#x27;: True})</pre><b>In a Jupyter environment, please rerun this cell to show the HTML representation or trust the notebook. <br />On GitHub, the HTML representation is unable to render, please try loading this page with nbviewer.org.</b></div><div class=\"sk-container\" hidden><div class=\"sk-item\"><div class=\"sk-estimator sk-toggleable\"><input class=\"sk-toggleable__control sk-hidden--visually\" id=\"sk-estimator-id-1\" type=\"checkbox\" checked><label for=\"sk-estimator-id-1\" class=\"sk-toggleable__label sk-toggleable__label-arrow\">UMAP</label><div class=\"sk-toggleable__content\"><pre>UMAP(tqdm_kwds={&#x27;bar_format&#x27;: &#x27;{desc}: {percentage:3.0f}%| {bar} {n_fmt}/{total_fmt} [{elapsed}]&#x27;, &#x27;desc&#x27;: &#x27;Epochs completed&#x27;, &#x27;disable&#x27;: True})</pre></div></div></div></div></div>"
      ],
      "text/plain": [
       "UMAP(tqdm_kwds={'bar_format': '{desc}: {percentage:3.0f}%| {bar} {n_fmt}/{total_fmt} [{elapsed}]', 'desc': 'Epochs completed', 'disable': True})"
      ]
     },
     "execution_count": 17,
     "metadata": {},
     "output_type": "execute_result"
    }
   ],
   "source": [
    "from librep.transforms import UMAP\n",
    "transformer = UMAP()\n",
    "transformer.fit(train_dataset_fft.X, train_dataset_fft.y)"
   ]
  },
  {
   "cell_type": "markdown",
   "id": "17e96a7c-825d-490f-81a2-7a380c801507",
   "metadata": {},
   "source": [
    "## Computing accuracy values"
   ]
  },
  {
   "cell_type": "code",
   "execution_count": null,
   "id": "e096e2e2-6baf-409a-841c-712936394f22",
   "metadata": {},
   "outputs": [],
   "source": []
  },
  {
   "cell_type": "markdown",
   "id": "5d6cdf66-a7b4-4a22-84a6-6f77036da576",
   "metadata": {},
   "source": [
    "# Generic AE"
   ]
  },
  {
   "cell_type": "markdown",
   "id": "07ddffca-de30-4ed9-b052-3db59efceaa0",
   "metadata": {},
   "source": [
    "The topological autoencoder can be used as a generic one by applying a lambda value of 0."
   ]
  },
  {
   "cell_type": "code",
   "execution_count": 18,
   "id": "04cb2e0e-c9b3-4c3a-9b4e-4301a75a19cf",
   "metadata": {},
   "outputs": [
    {
     "name": "stdout",
     "output_type": "stream",
     "text": [
      "Topologically Regularized DeepAEforKuhar180ver2\n",
      "Using python to compute signatures\n",
      "DeepAEforKuhar180ver2, Input: 180 Inner dim: 2\n"
     ]
    }
   ],
   "source": [
    "from librep.transforms.topo_ae import TopologicalDimensionalityReduction\n",
    "from librep.estimators.ae.torch.models.topological_ae.topological_ae import TopologicallyRegularizedAutoencoder\n",
    "kwargs = {'input_dims':180, 'custom_dim':2}\n",
    "input_shape = (-1, 1, 180)\n",
    "topo_reducer = TopologicalDimensionalityReduction(ae_model='DeepAEforKuhar180ver2',\n",
    "                                               lam=0, ae_kwargs=kwargs,\n",
    "                                               input_shape=input_shape, patience=10)"
   ]
  },
  {
   "cell_type": "code",
   "execution_count": 19,
   "id": "a596dfb0-fa46-483b-81d7-7d033a279b34",
   "metadata": {},
   "outputs": [
    {
     "name": "stdout",
     "output_type": "stream",
     "text": [
      "Epoch:1, P:10, Loss:0.0056, Loss-ae:0.0056, Loss-topo:0.0369\n",
      "Epoch:2, P:10, Loss:0.0049, Loss-ae:0.0049, Loss-topo:0.0218\n",
      "Epoch:3, P:10, Loss:0.0033, Loss-ae:0.0033, Loss-topo:0.0154\n",
      "Epoch:4, P:10, Loss:0.0032, Loss-ae:0.0032, Loss-topo:0.0175\n",
      "Epoch:5, P:10, Loss:0.0031, Loss-ae:0.0031, Loss-topo:0.0147\n",
      "Epoch:6, P:10, Loss:0.0031, Loss-ae:0.0031, Loss-topo:0.0132\n",
      "Epoch:7, P:9, Loss:0.0027, Loss-ae:0.0027, Loss-topo:0.0166\n",
      "Epoch:8, P:10, Loss:0.0025, Loss-ae:0.0025, Loss-topo:0.0168\n",
      "Epoch:9, P:10, Loss:0.0028, Loss-ae:0.0028, Loss-topo:0.0159\n",
      "Epoch:10, P:9, Loss:0.0025, Loss-ae:0.0025, Loss-topo:0.0148\n",
      "Epoch:11, P:8, Loss:0.0025, Loss-ae:0.0025, Loss-topo:0.0217\n",
      "Epoch:12, P:10, Loss:0.0024, Loss-ae:0.0024, Loss-topo:0.0218\n",
      "Epoch:13, P:10, Loss:0.0025, Loss-ae:0.0025, Loss-topo:0.0174\n",
      "Epoch:14, P:9, Loss:0.0025, Loss-ae:0.0025, Loss-topo:0.0518\n",
      "Epoch:15, P:8, Loss:0.0024, Loss-ae:0.0024, Loss-topo:0.0184\n",
      "Epoch:16, P:10, Loss:0.0024, Loss-ae:0.0024, Loss-topo:0.0234\n",
      "Epoch:17, P:10, Loss:0.0026, Loss-ae:0.0026, Loss-topo:0.0223\n",
      "Epoch:18, P:9, Loss:0.0024, Loss-ae:0.0024, Loss-topo:0.0238\n",
      "Epoch:19, P:8, Loss:0.0022, Loss-ae:0.0022, Loss-topo:0.0256\n",
      "Epoch:20, P:10, Loss:0.0022, Loss-ae:0.0022, Loss-topo:0.0245\n",
      "Epoch:21, P:10, Loss:0.0024, Loss-ae:0.0024, Loss-topo:0.0232\n",
      "Epoch:22, P:9, Loss:0.0024, Loss-ae:0.0024, Loss-topo:0.0203\n",
      "Epoch:23, P:8, Loss:0.0027, Loss-ae:0.0027, Loss-topo:0.0295\n",
      "Epoch:24, P:7, Loss:0.0024, Loss-ae:0.0024, Loss-topo:0.0808\n",
      "Epoch:25, P:6, Loss:0.0023, Loss-ae:0.0023, Loss-topo:0.0292\n",
      "Epoch:26, P:5, Loss:0.0022, Loss-ae:0.0022, Loss-topo:0.0276\n",
      "Epoch:27, P:10, Loss:0.0021, Loss-ae:0.0021, Loss-topo:0.0317\n",
      "Epoch:28, P:10, Loss:0.0026, Loss-ae:0.0026, Loss-topo:0.0635\n",
      "Epoch:29, P:9, Loss:0.0021, Loss-ae:0.0021, Loss-topo:0.0493\n",
      "Epoch:30, P:10, Loss:0.0021, Loss-ae:0.0021, Loss-topo:0.0515\n",
      "Epoch:31, P:9, Loss:0.0023, Loss-ae:0.0023, Loss-topo:0.1710\n",
      "Epoch:32, P:8, Loss:0.0022, Loss-ae:0.0022, Loss-topo:0.3046\n",
      "Epoch:33, P:7, Loss:0.0022, Loss-ae:0.0022, Loss-topo:0.0711\n",
      "Epoch:34, P:6, Loss:0.0023, Loss-ae:0.0023, Loss-topo:0.2290\n",
      "Epoch:35, P:5, Loss:0.0022, Loss-ae:0.0022, Loss-topo:0.2832\n",
      "Epoch:36, P:4, Loss:0.0022, Loss-ae:0.0022, Loss-topo:0.1150\n",
      "Epoch:37, P:3, Loss:0.0022, Loss-ae:0.0022, Loss-topo:0.0662\n",
      "Epoch:38, P:2, Loss:0.0024, Loss-ae:0.0024, Loss-topo:0.1381\n",
      "Epoch:39, P:1, Loss:0.0025, Loss-ae:0.0025, Loss-topo:0.2750\n",
      "Epoch:40, P:0, Loss:0.0022, Loss-ae:0.0022, Loss-topo:0.2155\n"
     ]
    },
    {
     "data": {
      "image/png": "[encoded data removed]",
      "text/plain": [
       "<Figure size 1000x1000 with 2 Axes>"
      ]
     },
     "metadata": {},
     "output_type": "display_data"
    },
    {
     "data": {
      "text/plain": [
       "<librep.transforms.topo_ae.TopologicalDimensionalityReduction at 0x7fb223c7b6a0>"
      ]
     },
     "execution_count": 19,
     "metadata": {},
     "output_type": "execute_result"
    }
   ],
   "source": [
    "title_plot = \"KUHAR 20Hz\\nTopoAE lambda 0\"\n",
    "topo_reducer.fit(train_HD, train_Y, title_plot=title_plot)"
   ]
  },
  {
   "cell_type": "code",
   "execution_count": 21,
   "id": "27674f22-3729-4a48-9a63-0f0dd50ae167",
   "metadata": {},
   "outputs": [
    {
     "name": "stdout",
     "output_type": "stream",
     "text": [
      "TRAIN LD RESHAPED (3330, 2)\n",
      "TEST LD RESHAPED (378, 2)\n"
     ]
    }
   ],
   "source": [
    "train_LD = np.reshape(topo_reducer.transform(train_HD), (-1,2))\n",
    "print('TRAIN LD RESHAPED', train_LD.shape)\n",
    "test_LD = np.reshape(topo_reducer.transform(test_HD), (-1,2))\n",
    "print('TEST LD RESHAPED', test_LD.shape)"
   ]
  },
  {
   "cell_type": "code",
   "execution_count": 25,
   "id": "517c120c-b28a-4940-a6e6-278ab9bd98eb",
   "metadata": {},
   "outputs": [],
   "source": [
    "reporter = ClassificationReport(use_accuracy=True, use_f1_score=True, use_classification_report=False, use_confusion_matrix=False, plot_confusion_matrix=False)\n",
    "experiment = SimpleTrainEvalWorkflow(estimator=RandomForestClassifier, estimator_creation_kwags ={'n_estimators':100} , do_not_instantiate=False, do_fit=True, evaluator=reporter)\n",
    "multi_run_experiment = MultiRunWorkflow(workflow=experiment, num_runs=3, debug=False)"
   ]
  },
  {
   "cell_type": "code",
   "execution_count": 29,
   "id": "c6e0a5df-871a-4588-8707-06bf3560e87b",
   "metadata": {},
   "outputs": [
    {
     "name": "stdout",
     "output_type": "stream",
     "text": [
      "{'runs': [{'run id': 1, 'start': 1665487444.1709168, 'end': 1665487444.5473838, 'time taken': 0.3764669895172119, 'result': [{'accuracy': 0.09259259259259259, 'f1 score (weighted)': 0.12413054914885668, 'f1 score (micro)': 0.09259259259259259, 'f1 score (macro)': 0.06105463603632851}]}, {'run id': 2, 'start': 1665487444.547386, 'end': 1665487444.9208248, 'time taken': 0.37343883514404297, 'result': [{'accuracy': 0.09523809523809523, 'f1 score (weighted)': 0.12558018461464707, 'f1 score (micro)': 0.09523809523809523, 'f1 score (macro)': 0.06489600586154343}]}, {'run id': 3, 'start': 1665487444.9208267, 'end': 1665487445.2968917, 'time taken': 0.3760650157928467, 'result': [{'accuracy': 0.09788359788359788, 'f1 score (weighted)': 0.12616334655762043, 'f1 score (micro)': 0.09788359788359789, 'f1 score (macro)': 0.06960384920957535}]}]}\n",
      "runs:\n",
      "-   end: 1665487444.5473838\n",
      "    result:\n",
      "    -   accuracy: 0.09259259259259259\n",
      "        f1 score (macro): 0.06105463603632851\n",
      "        f1 score (micro): 0.09259259259259259\n",
      "        f1 score (weighted): 0.12413054914885668\n",
      "    run id: 1\n",
      "    start: 1665487444.1709168\n",
      "    time taken: 0.3764669895172119\n",
      "-   end: 1665487444.9208248\n",
      "    result:\n",
      "    -   accuracy: 0.09523809523809523\n",
      "        f1 score (macro): 0.06489600586154343\n",
      "        f1 score (micro): 0.09523809523809523\n",
      "        f1 score (weighted): 0.12558018461464707\n",
      "    run id: 2\n",
      "    start: 1665487444.547386\n",
      "    time taken: 0.37343883514404297\n",
      "-   end: 1665487445.2968917\n",
      "    result:\n",
      "    -   accuracy: 0.09788359788359788\n",
      "        f1 score (macro): 0.06960384920957535\n",
      "        f1 score (micro): 0.09788359788359789\n",
      "        f1 score (weighted): 0.12616334655762043\n",
      "    run id: 3\n",
      "    start: 1665487444.9208267\n",
      "    time taken: 0.3760650157928467\n",
      "\n"
     ]
    }
   ],
   "source": [
    "train_LD_pd = pd.DataFrame(train_LD)\n",
    "train_LD_pd['y'] = train_Y\n",
    "train_pmd = PandasMultiModalDataset(\n",
    "    train_LD_pd,\n",
    "    label_columns=\"y\",\n",
    "    as_array=True\n",
    ")\n",
    "\n",
    "test_LD_pd = pd.DataFrame(test_LD)\n",
    "test_LD_pd['y'] = test_Y\n",
    "\n",
    "test_pmd = PandasMultiModalDataset(\n",
    "    test_LD_pd,\n",
    "    label_columns=\"y\",\n",
    "    as_array=True\n",
    ")\n",
    "result = multi_run_experiment(train_pmd, test_pmd)\n",
    "print(result['runs'][])\n",
    "print(yaml.dump(result, sort_keys=True, indent=4))"
   ]
  },
  {
   "cell_type": "code",
   "execution_count": null,
   "id": "e1575aa5-75ac-4cab-b678-8ddf369d2223",
   "metadata": {},
   "outputs": [],
   "source": [
    "\n",
    "\n",
    "reporter = ClassificationReport(use_accuracy=True, use_f1_score=True, use_classification_report=False, use_confusion_matrix=False, plot_confusion_matrix=False)\n",
    "experiment = SimpleTrainEvalWorkflow(estimator=RandomForestClassifier, estimator_creation_kwags ={'n_estimators':100} , do_not_instantiate=False, do_fit=True, evaluator=reporter)\n",
    "multi_run_experiment = MultiRunWorkflow(workflow=experiment, num_runs=3, debug=False)"
   ]
  },
  {
   "cell_type": "markdown",
   "id": "1ad0f3ee-9908-4f24-90a7-f1f26bcedbd3",
   "metadata": {},
   "source": [
    "# Topological AE"
   ]
  },
  {
   "cell_type": "code",
   "execution_count": null,
   "id": "781c084e-15e1-4b90-bdf2-7b48897f76cf",
   "metadata": {},
   "outputs": [],
   "source": [
    "from librep.transforms.topo_ae import TopologicalDimensionalityReduction\n",
    "from librep.estimators.ae.torch.models.topological_ae.topological_ae import TopologicallyRegularizedAutoencoder\n",
    "kwargs = {'input_dims':180, 'custom_dim':2}\n",
    "input_shape = (-1, 1, 180)\n",
    "topoae_lambda = 1000\n",
    "transform_topoae = TopologicalDimensionalityReduction(ae_model='DeepAEforKuhar180ver2', lam=topoae_lambda,\n",
    "                                                      ae_kwargs=kwargs, input_shape=input_shape, patience=10)"
   ]
  },
  {
   "cell_type": "code",
   "execution_count": null,
   "id": "5e09d3ab-4b11-4a44-a3ae-b07826b2e911",
   "metadata": {},
   "outputs": [],
   "source": [
    "title_plot = \"KUHAR 20Hz\\nTopoAE lambda \" + str(topoae_lambda)\n",
    "transform_topoae.fit(train_dataset_fft.X, train_dataset_fft.y, title_plot=title_plot)\n",
    "# assert 1==0"
   ]
  },
  {
   "cell_type": "code",
   "execution_count": null,
   "id": "5f9f757d-616a-4654-8ced-73dbd2677132",
   "metadata": {},
   "outputs": [],
   "source": [
    "test_applied_topoae = transform_topoae.transform(test_dataset_fft.X)\n",
    "print('ORIGINAL', test_applied_topoae.shape)\n",
    "test_applied_topoae = np.reshape(test_applied_topoae, (-1,2))\n",
    "print('RESHAPED', test_applied_topoae.shape)"
   ]
  },
  {
   "cell_type": "code",
   "execution_count": null,
   "id": "023b950c-df3c-49d6-a670-43f7c57243f8",
   "metadata": {},
   "outputs": [],
   "source": [
    "train_applied_topoae = transform_topoae.transform(train_dataset_fft.X)\n",
    "print('ORIGINAL', train_applied_topoae.shape)\n",
    "train_applied_topoae = np.reshape(train_applied_topoae, (-1,2))\n",
    "print('RESHAPED', train_applied_topoae.shape)"
   ]
  },
  {
   "cell_type": "code",
   "execution_count": null,
   "id": "8f6642f6-7edc-42cd-8aad-a8c78d5d9235",
   "metadata": {},
   "outputs": [],
   "source": [
    "from librep.transforms import TSNE\n",
    "import numpy as np\n",
    "import matplotlib.pyplot as plt\n",
    "\n",
    "def visualize(X, Y, filtered=None, xlim=None, ylim=None):\n",
    "    data_grouped = list(zip(X, Y))\n",
    "    uniques = filtered\n",
    "    if filtered is None:\n",
    "        uniques = np.unique(Y)\n",
    "    \n",
    "    for uval in uniques:\n",
    "        data = [pair[0] for pair in data_grouped if pair[1]==uval]\n",
    "        data_x = [unit[0] for unit in data]\n",
    "        data_y = [unit[1] for unit in data]\n",
    "        plt.scatter(data_x, data_y, label = uval)\n",
    "    # print(data)\n",
    "    if xlim:\n",
    "        plt.xlim(xlim)\n",
    "    if ylim:\n",
    "        plt.ylim(ylim)\n",
    "    plt.grid()\n",
    "    plt.legend()\n",
    "    plt.show()\n"
   ]
  },
  {
   "cell_type": "code",
   "execution_count": null,
   "id": "dfc11ca8-7adb-4c17-8534-502d39c0d39b",
   "metadata": {},
   "outputs": [],
   "source": [
    "visualize(test_applied_topoae, test_dataset_fft.y)"
   ]
  },
  {
   "cell_type": "code",
   "execution_count": null,
   "id": "20ea4c42-9f33-4f2a-89ef-2df0deb8648d",
   "metadata": {},
   "outputs": [],
   "source": [
    "# filtered\n",
    "filter_to_use = [0,1,2,3,4,5]\n",
    "visualize(test_applied_topoae, test_dataset_fft.y, filtered=filter_to_use, xlim=(-1,0), ylim=(-0.5,1.75))\n",
    "for f in filter_to_use:\n",
    "    visualize(test_applied_topoae, test_dataset_fft.y, filtered=[f], xlim=(-1,0), ylim=(-0.5,1.75))\n",
    "# visualize(test_applied_topoae, test_dataset_fft.y, filtered=[1])\n",
    "# 0 sit\n",
    "# 1 stand\n",
    "# 2 walk\n",
    "# 3 stair up\n",
    "# 4 stair down\n",
    "# 5 run"
   ]
  },
  {
   "cell_type": "code",
   "execution_count": null,
   "id": "847cc400-a44b-4922-b86c-6d64fa240082",
   "metadata": {},
   "outputs": [],
   "source": []
  },
  {
   "cell_type": "code",
   "execution_count": null,
   "id": "eee60e08-dfaf-4eba-8e6d-435f07fe78ef",
   "metadata": {},
   "outputs": [],
   "source": [
    "from librep.metrics.dimred_evaluator import DimensionalityReductionQualityReport\n",
    "metrics_reporter = DimensionalityReductionQualityReport()\n",
    "metrics_train_applied_topoae = metrics_reporter.evaluate([test_dataset_fft.X, test_applied_topoae])\n",
    "print(metrics_train_applied_topoae)"
   ]
  },
  {
   "cell_type": "code",
   "execution_count": null,
   "id": "4bc088a1-967d-44c6-8e2b-7d91382676d5",
   "metadata": {},
   "outputs": [],
   "source": [
    "from librep.utils.workflow import SimpleTrainEvalWorkflow, MultiRunWorkflow\n",
    "from librep.estimators import RandomForestClassifier\n",
    "from librep.metrics.report import ClassificationReport\n",
    "import yaml\n",
    "\n",
    "reporter = ClassificationReport(use_accuracy=True, use_f1_score=True, use_classification_report=False, use_confusion_matrix=False, plot_confusion_matrix=False)\n",
    "experiment = SimpleTrainEvalWorkflow(estimator=RandomForestClassifier, estimator_creation_kwags ={'n_estimators':100} , do_not_instantiate=False, do_fit=True, evaluator=reporter)\n",
    "multi_run_experiment = MultiRunWorkflow(workflow=experiment, num_runs=3, debug=False)"
   ]
  },
  {
   "cell_type": "code",
   "execution_count": null,
   "id": "633f3d78-2c1a-43e8-9175-7f0243a250bd",
   "metadata": {},
   "outputs": [],
   "source": [
    "combined_train_dset = PandasMultiModalDataset(\n",
    "    pd.concat([train, validation]),\n",
    "    feature_prefixes=features,\n",
    "    label_columns=\"activity code\",\n",
    "    as_array=True\n",
    ")\n",
    "\n",
    "\n",
    "result = multi_run_experiment(combined_train_dset, test_dataset)\n",
    "print(yaml.dump(result, sort_keys=True, indent=4))"
   ]
  },
  {
   "cell_type": "code",
   "execution_count": null,
   "id": "a62169d9-001c-4df0-a37f-7141ba3e5530",
   "metadata": {},
   "outputs": [],
   "source": [
    "combined_train_dset_fft = transformer(combined_train_dset)\n",
    "\n",
    "result = multi_run_experiment(combined_train_dset_fft, test_dataset_fft)\n",
    "print(yaml.dump(result, sort_keys=True, indent=4))"
   ]
  },
  {
   "cell_type": "code",
   "execution_count": null,
   "id": "1f87bfdd-5ec9-4496-9094-2fd5dfc484f2",
   "metadata": {},
   "outputs": [],
   "source": [
    "print(train_dataset_fft.y)\n",
    "\n",
    "print(combined_train_dset.data.shape)"
   ]
  },
  {
   "cell_type": "code",
   "execution_count": null,
   "id": "8921b2fd-63ff-4a69-9bb2-24bcba17e857",
   "metadata": {},
   "outputs": [],
   "source": [
    "import pandas as pd\n",
    "\n",
    "# Using the latent space\n",
    "train_applied_topoae = transform_topoae.transform(train_dataset_fft.X)\n",
    "print('ORIGINAL', train_applied_topoae.shape)\n",
    "train_applied_topoae = np.reshape(train_applied_topoae, (-1,2))\n",
    "print('RESHAPED', train_applied_topoae.shape)\n",
    "\n",
    "train_applied_topoae_pd = pd.DataFrame(train_applied_topoae)\n",
    "train_applied_topoae_pd['y'] = train_dataset_fft.y\n",
    "# print('FINAL', train_applied_topoae_pd)\n",
    "\n",
    "\n",
    "topoae_train_dset = PandasMultiModalDataset(\n",
    "    train_applied_topoae_pd,\n",
    "    label_columns=\"y\",\n",
    "    as_array=True\n",
    ")\n",
    "\n",
    "test_applied_topoae_pd = pd.DataFrame(test_applied_topoae)\n",
    "test_applied_topoae_pd['y'] = test_dataset_fft.y\n",
    "# print('FINAL', test_applied_topoae_pd)\n",
    "\n",
    "topoae_test_dset = PandasMultiModalDataset(\n",
    "    test_applied_topoae_pd,\n",
    "    label_columns=\"y\",\n",
    "    as_array=True\n",
    ")\n",
    "result = multi_run_experiment(topoae_train_dset, topoae_test_dset)\n",
    "print(yaml.dump(result, sort_keys=True, indent=4))"
   ]
  },
  {
   "cell_type": "markdown",
   "id": "f0e5fe55-1de7-46d8-af1c-33706ad018a2",
   "metadata": {},
   "source": [
    "# SVC"
   ]
  },
  {
   "cell_type": "code",
   "execution_count": null,
   "id": "143808b8-6c0a-4dc3-88db-bf467f791eae",
   "metadata": {},
   "outputs": [],
   "source": [
    "experiment = SimpleTrainEvalWorkflow(estimator=SVC, estimator_creation_kwags ={'C':3.0, 'kernel':\"rbf\"} , do_not_instantiate=False, do_fit=True, evaluator=reporter)\n",
    "multi_run_experiment = MultiRunWorkflow(workflow=experiment, num_runs=3, debug=False)\n",
    "\n",
    "result = multi_run_experiment(topoae_train_dset, topoae_test_dset)\n",
    "print(yaml.dump(result, sort_keys=True, indent=4))"
   ]
  },
  {
   "cell_type": "code",
   "execution_count": null,
   "id": "1156731c-43c8-4715-8735-c0ba3418609f",
   "metadata": {},
   "outputs": [],
   "source": [
    "\n",
    "experiment = SimpleTrainEvalWorkflow(estimator=KNeighborsClassifier, estimator_creation_kwags ={'n_neighbors' :1} , do_not_instantiate=False, do_fit=True, evaluator=reporter)\n",
    "multi_run_experiment = MultiRunWorkflow(workflow=experiment, num_runs=3, debug=False)\n",
    "\n",
    "result = multi_run_experiment(topoae_train_dset, topoae_test_dset)\n",
    "print(yaml.dump(result, sort_keys=True, indent=4))"
   ]
  },
  {
   "cell_type": "code",
   "execution_count": null,
   "id": "a8bcba68-96fb-4b2e-8571-d4d3d2b423a0",
   "metadata": {},
   "outputs": [],
   "source": []
  }
 ],
 "metadata": {
  "kernelspec": {
   "display_name": "Python 3 (ipykernel)",
   "language": "python",
   "name": "python3"
  },
  "language_info": {
   "codemirror_mode": {
    "name": "ipython",
    "version": 3
   },
   "file_extension": ".py",
   "mimetype": "text/x-python",
   "name": "python",
   "nbconvert_exporter": "python",
   "pygments_lexer": "ipython3",
   "version": "3.8.10"
  }
 },
 "nbformat": 4,
 "nbformat_minor": 5
}
