{
 "cells": [
  {
   "cell_type": "code",
   "execution_count": null,
   "id": "0af9cc0e-a94b-4a99-b532-896148cf6966",
   "metadata": {},
   "outputs": [],
   "source": [
    "import numpy as np\n",
    "import matplotlib.pyplot as plt\n",
    "\n",
    "dimensions = [5, 6, 7, 8, 9]\n",
    "\n",
    "accuracy_over_dimensions_RF = [0.6952, 0.5886, 0.6595, 0.6698, 0.7130]\n",
    "accuracy_over_dimensions_SVC = [0.5847, 0.5053, 0.4497, 0.5741, 0.6455]\n",
    "accuracy_over_dimensions_KNN = [0.6857, 0.5926, 0.6376, 0.6561, 0.6984]\n",
    "\n",
    "x = np.array(range(len(dimensions)))\n",
    "my_xticks = [str(val) for val in dimensions]\n",
    "plt.xticks(x, my_xticks)\n",
    "plt.grid()\n",
    "plt.plot(accuracy_over_dimensions_RF, label='RF')\n",
    "plt.plot(accuracy_over_dimensions_SVC, label='SVC')\n",
    "plt.plot(accuracy_over_dimensions_KNN, label='KNN')\n",
    "plt.title('Accuracy over dimensionalities - TopoAE')\n",
    "plt.ylabel('Accuracy')\n",
    "plt.xlabel('Dimensionality')\n",
    "plt.ylim((0,1))\n",
    "plt.show()\n"
   ]
  }
 ],
 "metadata": {
  "kernelspec": {
   "display_name": "Python 3 (ipykernel)",
   "language": "python",
   "name": "python3"
  },
  "language_info": {
   "codemirror_mode": {
    "name": "ipython",
    "version": 3
   },
   "file_extension": ".py",
   "mimetype": "text/x-python",
   "name": "python",
   "nbconvert_exporter": "python",
   "pygments_lexer": "ipython3",
   "version": "3.8.10"
  }
 },
 "nbformat": 4,
 "nbformat_minor": 5
}
