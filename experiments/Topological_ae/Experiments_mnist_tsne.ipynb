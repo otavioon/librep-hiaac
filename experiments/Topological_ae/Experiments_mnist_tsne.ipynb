{
 "cells": [
  {
   "cell_type": "markdown",
   "id": "bdd291af-db8b-4107-8057-6b6ea9b005c9",
   "metadata": {},
   "source": [
    "# Experiment MNIST - TSNE\n",
    "\n",
    "This experiment tries to replicate the reult obtained by the paper https://arxiv.org/pdf/1906.00722.pdf where a process of dimensionality reduction was applied on the mnist dataset, and values of 0.946 for Trustworthiness and 0.938 for continuity were obtained. "
   ]
  },
  {
   "cell_type": "markdown",
   "id": "702416b0-6a22-4b4d-8df7-55146a3318a9",
   "metadata": {},
   "source": [
    "## Basic imports"
   ]
  },
  {
   "cell_type": "code",
   "execution_count": 1,
   "id": "46de2ac5-1944-44fc-9230-f3e33c1100fd",
   "metadata": {},
   "outputs": [],
   "source": [
    "%load_ext autoreload\n",
    "%autoreload 2"
   ]
  },
  {
   "cell_type": "code",
   "execution_count": 2,
   "id": "29206a2e-4b50-42d5-9eeb-7c23a49e2db9",
   "metadata": {},
   "outputs": [
    {
     "name": "stdout",
     "output_type": "stream",
     "text": [
      "['/home/hubert/librep-hiaac/experiments/Topological_ae', '/usr/lib/python38.zip', '/usr/lib/python3.8', '/usr/lib/python3.8/lib-dynload', '', '/usr/local/lib/python3.8/dist-packages', '/usr/lib/python3/dist-packages']\n"
     ]
    }
   ],
   "source": [
    "import sys\n",
    "import numpy as np\n",
    "import pandas as pd\n",
    "from pathlib import Path\n",
    "print(sys.path)\n",
    "sys.path.append(\"../../\")"
   ]
  },
  {
   "cell_type": "markdown",
   "id": "ddf0f407-1d31-470a-9c2c-8e23400a6d7c",
   "metadata": {},
   "source": [
    "## Loading the dataset"
   ]
  },
  {
   "cell_type": "code",
   "execution_count": 3,
   "id": "e4076acd-7480-4ba1-8ff7-9b7164f5a49f",
   "metadata": {},
   "outputs": [
    {
     "name": "stderr",
     "output_type": "stream",
     "text": [
      "2022-10-09 16:26:59.058631: W tensorflow/stream_executor/platform/default/dso_loader.cc:64] Could not load dynamic library 'libcudart.so.11.0'; dlerror: libcudart.so.11.0: cannot open shared object file: No such file or directory\n",
      "2022-10-09 16:26:59.058700: I tensorflow/stream_executor/cuda/cudart_stub.cc:29] Ignore above cudart dlerror if you do not have a GPU set up on your machine.\n"
     ]
    }
   ],
   "source": [
    "from librep.transforms import TSNE\n",
    "from librep.transforms import UMAP\n",
    "from librep.datasets.multimodal import TransformMultiModalDataset, ArrayMultiModalDataset, WindowedTransform\n",
    "from librep.metrics.dimred_evaluator import DimensionalityReductionQualityReport, MultiDimensionalityReductionQualityReport\n",
    "from librep.datasets.har.loaders import MNISTView"
   ]
  },
  {
   "cell_type": "code",
   "execution_count": 4,
   "id": "f5d96530-95af-4f91-b8e2-b8294833215e",
   "metadata": {},
   "outputs": [],
   "source": [
    "loader = MNISTView(\"../../data/old-views/MNIST/default/\", download=False)\n",
    "train_val_mnist, test_mnist = loader.load(concat_train_validation=True)"
   ]
  },
  {
   "cell_type": "code",
   "execution_count": 5,
   "id": "37285d43-e6f5-46b1-a43d-028afeafc4fa",
   "metadata": {},
   "outputs": [
    {
     "data": {
      "text/plain": [
       "(PandasMultiModalDataset: samples=60000, features=785, no. window=1,\n",
       " PandasMultiModalDataset: samples=10000, features=785, no. window=1)"
      ]
     },
     "execution_count": 5,
     "metadata": {},
     "output_type": "execute_result"
    }
   ],
   "source": [
    "train_val_mnist, test_mnist"
   ]
  },
  {
   "cell_type": "code",
   "execution_count": 6,
   "id": "5bbc66fa-24a9-42c4-bd75-9aeeb1353f60",
   "metadata": {},
   "outputs": [],
   "source": [
    "train_val_pd_X = train_val_mnist.data.iloc[:,1:]\n",
    "train_val_pd_Y = train_val_mnist.data.iloc[:,0]\n",
    "test_pd_X = test_mnist.data.iloc[:,1:]\n",
    "test_pd_Y = test_mnist.data.iloc[:,0]"
   ]
  },
  {
   "cell_type": "code",
   "execution_count": 7,
   "id": "dd7465d6-66a2-4a2e-958c-80e76cf1f070",
   "metadata": {},
   "outputs": [
    {
     "data": {
      "text/html": [
       "<div>\n",
       "<style scoped>\n",
       "    .dataframe tbody tr th:only-of-type {\n",
       "        vertical-align: middle;\n",
       "    }\n",
       "\n",
       "    .dataframe tbody tr th {\n",
       "        vertical-align: top;\n",
       "    }\n",
       "\n",
       "    .dataframe thead th {\n",
       "        text-align: right;\n",
       "    }\n",
       "</style>\n",
       "<table border=\"1\" class=\"dataframe\">\n",
       "  <thead>\n",
       "    <tr style=\"text-align: right;\">\n",
       "      <th></th>\n",
       "      <th>1x1</th>\n",
       "      <th>1x2</th>\n",
       "      <th>1x3</th>\n",
       "      <th>1x4</th>\n",
       "      <th>1x5</th>\n",
       "      <th>1x6</th>\n",
       "      <th>1x7</th>\n",
       "      <th>1x8</th>\n",
       "      <th>1x9</th>\n",
       "      <th>1x10</th>\n",
       "      <th>...</th>\n",
       "      <th>28x19</th>\n",
       "      <th>28x20</th>\n",
       "      <th>28x21</th>\n",
       "      <th>28x22</th>\n",
       "      <th>28x23</th>\n",
       "      <th>28x24</th>\n",
       "      <th>28x25</th>\n",
       "      <th>28x26</th>\n",
       "      <th>28x27</th>\n",
       "      <th>28x28</th>\n",
       "    </tr>\n",
       "  </thead>\n",
       "  <tbody>\n",
       "    <tr>\n",
       "      <th>0</th>\n",
       "      <td>0</td>\n",
       "      <td>0</td>\n",
       "      <td>0</td>\n",
       "      <td>0</td>\n",
       "      <td>0</td>\n",
       "      <td>0</td>\n",
       "      <td>0</td>\n",
       "      <td>0</td>\n",
       "      <td>0</td>\n",
       "      <td>0</td>\n",
       "      <td>...</td>\n",
       "      <td>0</td>\n",
       "      <td>0</td>\n",
       "      <td>0</td>\n",
       "      <td>0</td>\n",
       "      <td>0</td>\n",
       "      <td>0</td>\n",
       "      <td>0</td>\n",
       "      <td>0</td>\n",
       "      <td>0</td>\n",
       "      <td>0</td>\n",
       "    </tr>\n",
       "    <tr>\n",
       "      <th>1</th>\n",
       "      <td>0</td>\n",
       "      <td>0</td>\n",
       "      <td>0</td>\n",
       "      <td>0</td>\n",
       "      <td>0</td>\n",
       "      <td>0</td>\n",
       "      <td>0</td>\n",
       "      <td>0</td>\n",
       "      <td>0</td>\n",
       "      <td>0</td>\n",
       "      <td>...</td>\n",
       "      <td>0</td>\n",
       "      <td>0</td>\n",
       "      <td>0</td>\n",
       "      <td>0</td>\n",
       "      <td>0</td>\n",
       "      <td>0</td>\n",
       "      <td>0</td>\n",
       "      <td>0</td>\n",
       "      <td>0</td>\n",
       "      <td>0</td>\n",
       "    </tr>\n",
       "    <tr>\n",
       "      <th>2</th>\n",
       "      <td>0</td>\n",
       "      <td>0</td>\n",
       "      <td>0</td>\n",
       "      <td>0</td>\n",
       "      <td>0</td>\n",
       "      <td>0</td>\n",
       "      <td>0</td>\n",
       "      <td>0</td>\n",
       "      <td>0</td>\n",
       "      <td>0</td>\n",
       "      <td>...</td>\n",
       "      <td>0</td>\n",
       "      <td>0</td>\n",
       "      <td>0</td>\n",
       "      <td>0</td>\n",
       "      <td>0</td>\n",
       "      <td>0</td>\n",
       "      <td>0</td>\n",
       "      <td>0</td>\n",
       "      <td>0</td>\n",
       "      <td>0</td>\n",
       "    </tr>\n",
       "    <tr>\n",
       "      <th>3</th>\n",
       "      <td>0</td>\n",
       "      <td>0</td>\n",
       "      <td>0</td>\n",
       "      <td>0</td>\n",
       "      <td>0</td>\n",
       "      <td>0</td>\n",
       "      <td>0</td>\n",
       "      <td>0</td>\n",
       "      <td>0</td>\n",
       "      <td>0</td>\n",
       "      <td>...</td>\n",
       "      <td>0</td>\n",
       "      <td>0</td>\n",
       "      <td>0</td>\n",
       "      <td>0</td>\n",
       "      <td>0</td>\n",
       "      <td>0</td>\n",
       "      <td>0</td>\n",
       "      <td>0</td>\n",
       "      <td>0</td>\n",
       "      <td>0</td>\n",
       "    </tr>\n",
       "    <tr>\n",
       "      <th>4</th>\n",
       "      <td>0</td>\n",
       "      <td>0</td>\n",
       "      <td>0</td>\n",
       "      <td>0</td>\n",
       "      <td>0</td>\n",
       "      <td>0</td>\n",
       "      <td>0</td>\n",
       "      <td>0</td>\n",
       "      <td>0</td>\n",
       "      <td>0</td>\n",
       "      <td>...</td>\n",
       "      <td>0</td>\n",
       "      <td>0</td>\n",
       "      <td>0</td>\n",
       "      <td>0</td>\n",
       "      <td>0</td>\n",
       "      <td>0</td>\n",
       "      <td>0</td>\n",
       "      <td>0</td>\n",
       "      <td>0</td>\n",
       "      <td>0</td>\n",
       "    </tr>\n",
       "    <tr>\n",
       "      <th>...</th>\n",
       "      <td>...</td>\n",
       "      <td>...</td>\n",
       "      <td>...</td>\n",
       "      <td>...</td>\n",
       "      <td>...</td>\n",
       "      <td>...</td>\n",
       "      <td>...</td>\n",
       "      <td>...</td>\n",
       "      <td>...</td>\n",
       "      <td>...</td>\n",
       "      <td>...</td>\n",
       "      <td>...</td>\n",
       "      <td>...</td>\n",
       "      <td>...</td>\n",
       "      <td>...</td>\n",
       "      <td>...</td>\n",
       "      <td>...</td>\n",
       "      <td>...</td>\n",
       "      <td>...</td>\n",
       "      <td>...</td>\n",
       "      <td>...</td>\n",
       "    </tr>\n",
       "    <tr>\n",
       "      <th>9995</th>\n",
       "      <td>0</td>\n",
       "      <td>0</td>\n",
       "      <td>0</td>\n",
       "      <td>0</td>\n",
       "      <td>0</td>\n",
       "      <td>0</td>\n",
       "      <td>0</td>\n",
       "      <td>0</td>\n",
       "      <td>0</td>\n",
       "      <td>0</td>\n",
       "      <td>...</td>\n",
       "      <td>0</td>\n",
       "      <td>0</td>\n",
       "      <td>0</td>\n",
       "      <td>0</td>\n",
       "      <td>0</td>\n",
       "      <td>0</td>\n",
       "      <td>0</td>\n",
       "      <td>0</td>\n",
       "      <td>0</td>\n",
       "      <td>0</td>\n",
       "    </tr>\n",
       "    <tr>\n",
       "      <th>9996</th>\n",
       "      <td>0</td>\n",
       "      <td>0</td>\n",
       "      <td>0</td>\n",
       "      <td>0</td>\n",
       "      <td>0</td>\n",
       "      <td>0</td>\n",
       "      <td>0</td>\n",
       "      <td>0</td>\n",
       "      <td>0</td>\n",
       "      <td>0</td>\n",
       "      <td>...</td>\n",
       "      <td>0</td>\n",
       "      <td>0</td>\n",
       "      <td>0</td>\n",
       "      <td>0</td>\n",
       "      <td>0</td>\n",
       "      <td>0</td>\n",
       "      <td>0</td>\n",
       "      <td>0</td>\n",
       "      <td>0</td>\n",
       "      <td>0</td>\n",
       "    </tr>\n",
       "    <tr>\n",
       "      <th>9997</th>\n",
       "      <td>0</td>\n",
       "      <td>0</td>\n",
       "      <td>0</td>\n",
       "      <td>0</td>\n",
       "      <td>0</td>\n",
       "      <td>0</td>\n",
       "      <td>0</td>\n",
       "      <td>0</td>\n",
       "      <td>0</td>\n",
       "      <td>0</td>\n",
       "      <td>...</td>\n",
       "      <td>0</td>\n",
       "      <td>0</td>\n",
       "      <td>0</td>\n",
       "      <td>0</td>\n",
       "      <td>0</td>\n",
       "      <td>0</td>\n",
       "      <td>0</td>\n",
       "      <td>0</td>\n",
       "      <td>0</td>\n",
       "      <td>0</td>\n",
       "    </tr>\n",
       "    <tr>\n",
       "      <th>9998</th>\n",
       "      <td>0</td>\n",
       "      <td>0</td>\n",
       "      <td>0</td>\n",
       "      <td>0</td>\n",
       "      <td>0</td>\n",
       "      <td>0</td>\n",
       "      <td>0</td>\n",
       "      <td>0</td>\n",
       "      <td>0</td>\n",
       "      <td>0</td>\n",
       "      <td>...</td>\n",
       "      <td>0</td>\n",
       "      <td>0</td>\n",
       "      <td>0</td>\n",
       "      <td>0</td>\n",
       "      <td>0</td>\n",
       "      <td>0</td>\n",
       "      <td>0</td>\n",
       "      <td>0</td>\n",
       "      <td>0</td>\n",
       "      <td>0</td>\n",
       "    </tr>\n",
       "    <tr>\n",
       "      <th>9999</th>\n",
       "      <td>0</td>\n",
       "      <td>0</td>\n",
       "      <td>0</td>\n",
       "      <td>0</td>\n",
       "      <td>0</td>\n",
       "      <td>0</td>\n",
       "      <td>0</td>\n",
       "      <td>0</td>\n",
       "      <td>0</td>\n",
       "      <td>0</td>\n",
       "      <td>...</td>\n",
       "      <td>0</td>\n",
       "      <td>0</td>\n",
       "      <td>0</td>\n",
       "      <td>0</td>\n",
       "      <td>0</td>\n",
       "      <td>0</td>\n",
       "      <td>0</td>\n",
       "      <td>0</td>\n",
       "      <td>0</td>\n",
       "      <td>0</td>\n",
       "    </tr>\n",
       "  </tbody>\n",
       "</table>\n",
       "<p>10000 rows × 784 columns</p>\n",
       "</div>"
      ],
      "text/plain": [
       "      1x1  1x2  1x3  1x4  1x5  1x6  1x7  1x8  1x9  1x10  ...  28x19  28x20  \\\n",
       "0       0    0    0    0    0    0    0    0    0     0  ...      0      0   \n",
       "1       0    0    0    0    0    0    0    0    0     0  ...      0      0   \n",
       "2       0    0    0    0    0    0    0    0    0     0  ...      0      0   \n",
       "3       0    0    0    0    0    0    0    0    0     0  ...      0      0   \n",
       "4       0    0    0    0    0    0    0    0    0     0  ...      0      0   \n",
       "...   ...  ...  ...  ...  ...  ...  ...  ...  ...   ...  ...    ...    ...   \n",
       "9995    0    0    0    0    0    0    0    0    0     0  ...      0      0   \n",
       "9996    0    0    0    0    0    0    0    0    0     0  ...      0      0   \n",
       "9997    0    0    0    0    0    0    0    0    0     0  ...      0      0   \n",
       "9998    0    0    0    0    0    0    0    0    0     0  ...      0      0   \n",
       "9999    0    0    0    0    0    0    0    0    0     0  ...      0      0   \n",
       "\n",
       "      28x21  28x22  28x23  28x24  28x25  28x26  28x27  28x28  \n",
       "0         0      0      0      0      0      0      0      0  \n",
       "1         0      0      0      0      0      0      0      0  \n",
       "2         0      0      0      0      0      0      0      0  \n",
       "3         0      0      0      0      0      0      0      0  \n",
       "4         0      0      0      0      0      0      0      0  \n",
       "...     ...    ...    ...    ...    ...    ...    ...    ...  \n",
       "9995      0      0      0      0      0      0      0      0  \n",
       "9996      0      0      0      0      0      0      0      0  \n",
       "9997      0      0      0      0      0      0      0      0  \n",
       "9998      0      0      0      0      0      0      0      0  \n",
       "9999      0      0      0      0      0      0      0      0  \n",
       "\n",
       "[10000 rows x 784 columns]"
      ]
     },
     "execution_count": 7,
     "metadata": {},
     "output_type": "execute_result"
    }
   ],
   "source": [
    "test_pd_X"
   ]
  },
  {
   "cell_type": "code",
   "execution_count": 8,
   "id": "21e31303-2227-45b7-b793-6a1277396f0c",
   "metadata": {},
   "outputs": [],
   "source": [
    "# # Code to create new view for mnist\n",
    "# columns = ['pixel-' + str(val) for val in range(784)]\n",
    "# columns.insert(0, 'label')\n",
    "# train_val_mnist.data.columns = columns\n",
    "# train_val_mnist.data.to_csv('DATA_MNIST.csv', index=False)"
   ]
  },
  {
   "cell_type": "markdown",
   "id": "6fa792ad-dac5-4786-aede-f4376f386e05",
   "metadata": {},
   "source": [
    "# Reduce with TSNE"
   ]
  },
  {
   "cell_type": "code",
   "execution_count": 9,
   "id": "d23735ef-17c3-42f4-b004-5689de40e43c",
   "metadata": {
    "tags": []
   },
   "outputs": [
    {
     "ename": "AssertionError",
     "evalue": "",
     "output_type": "error",
     "traceback": [
      "\u001b[0;31m---------------------------------------------------------------------------\u001b[0m",
      "\u001b[0;31mAssertionError\u001b[0m                            Traceback (most recent call last)",
      "Input \u001b[0;32mIn [9]\u001b[0m, in \u001b[0;36m<cell line: 1>\u001b[0;34m()\u001b[0m\n\u001b[0;32m----> 1\u001b[0m \u001b[38;5;28;01massert\u001b[39;00m \u001b[38;5;241m1\u001b[39m\u001b[38;5;241m==\u001b[39m\u001b[38;5;241m0\u001b[39m\n\u001b[1;32m      2\u001b[0m tsne_reducer \u001b[38;5;241m=\u001b[39m TSNE()\n\u001b[1;32m      3\u001b[0m train_val_pd_X_reduced \u001b[38;5;241m=\u001b[39m tsne_reducer\u001b[38;5;241m.\u001b[39mfit_transform(train_val_pd_X)\n",
      "\u001b[0;31mAssertionError\u001b[0m: "
     ]
    }
   ],
   "source": [
    "# assert 1==0\n",
    "tsne_reducer = TSNE()\n",
    "train_val_pd_X_reduced = tsne_reducer.fit_transform(train_val_pd_X)\n",
    "test_pd_X_reduced = tsne_reducer.fit_transform(test_pd_X)"
   ]
  },
  {
   "cell_type": "code",
   "execution_count": null,
   "id": "fa033187-34c2-4a6f-b697-ed1b6c4c3b93",
   "metadata": {},
   "outputs": [],
   "source": [
    "# train_x = np.array(train_val_mnist.data.iloc[:,1:])\n",
    "# train_y = np.array(train_val_mnist.data.iloc[:,0])\n",
    "# test_x = np.array(test_mnist.data.iloc[:,1:])\n",
    "# test_y = np.array(test_mnist.data.iloc[:,0])"
   ]
  },
  {
   "cell_type": "code",
   "execution_count": null,
   "id": "9ba19d17-98fc-4692-99e9-d17c7503ebbc",
   "metadata": {},
   "outputs": [],
   "source": [
    "# mnist_dataset_train = ArrayMultiModalDataset(X=train_x, y=train_y, window_slices=[(0, 28*28)], \n",
    "#                                              window_names=[\"px\"])\n",
    "# mnist_dataset_test = ArrayMultiModalDataset(X=test_x, y=test_y, window_slices=[(0, 28*28)], \n",
    "#                                              window_names=[\"px\"])"
   ]
  },
  {
   "cell_type": "code",
   "execution_count": null,
   "id": "9a5984f3-50e4-4447-a2fb-394c44183a52",
   "metadata": {},
   "outputs": [],
   "source": [
    "# transform_tsne = TSNE()\n",
    "# transformer = TransformMultiModalDataset(transforms=[transform_tsne])\n",
    "# train_applied_tsne = transformer(mnist_dataset_train)\n",
    "# test_applied_tsne = transformer(mnist_dataset_test)"
   ]
  },
  {
   "cell_type": "code",
   "execution_count": null,
   "id": "cf6f4020-a41d-4c08-8d50-a4faced7defc",
   "metadata": {},
   "outputs": [],
   "source": [
    "metrics_reporter = DimensionalityReductionQualityReport()\n",
    "metrics_train_applied_tsne = metrics_reporter.evaluate([train_val_pd_X, train_val_pd_X_reduced])\n",
    "print(metrics_train_applied_tsne)"
   ]
  },
  {
   "cell_type": "code",
   "execution_count": null,
   "id": "33b831fb-6607-4974-8f29-48742093647e",
   "metadata": {},
   "outputs": [],
   "source": [
    "metrics_reporter = DimensionalityReductionQualityReport()\n",
    "metrics_test_applied_tsne = metrics_reporter.evaluate([test_pd_X, test_pd_X_reduced])\n",
    "print(metrics_test_applied_tsne)"
   ]
  },
  {
   "cell_type": "markdown",
   "id": "c8ab174e-3411-4b29-82be-79ae73e6b384",
   "metadata": {},
   "source": [
    "# Reduce with UMAP"
   ]
  },
  {
   "cell_type": "code",
   "execution_count": null,
   "id": "d6ce7dba-7123-4b5e-b49d-c88e0f1470a8",
   "metadata": {},
   "outputs": [],
   "source": [
    "umap_reducer = UMAP()\n",
    "train_val_pd_X_reduced = umap_reducer.fit_transform(train_val_pd_X)\n",
    "test_pd_X_reduced = umap_reducer.fit_transform(test_pd_X)"
   ]
  },
  {
   "cell_type": "code",
   "execution_count": null,
   "id": "274d1af7-0144-4470-928a-5e18da821aac",
   "metadata": {},
   "outputs": [],
   "source": [
    "metrics_reporter = DimensionalityReductionQualityReport()\n",
    "metrics_train_applied_tsne = metrics_reporter.evaluate([train_val_pd_X, train_val_pd_X_reduced])\n",
    "print(metrics_train_applied_tsne)"
   ]
  },
  {
   "cell_type": "code",
   "execution_count": null,
   "id": "10e73cc5-91e8-44b2-ad65-dd3e83321450",
   "metadata": {},
   "outputs": [],
   "source": [
    "metrics_reporter = DimensionalityReductionQualityReport()\n",
    "metrics_test_applied_tsne = metrics_reporter.evaluate([test_pd_X, test_pd_X_reduced])\n",
    "print(metrics_test_applied_tsne)"
   ]
  },
  {
   "cell_type": "code",
   "execution_count": null,
   "id": "5024a8e7-0e5a-4d54-8e76-27f353981ee1",
   "metadata": {},
   "outputs": [],
   "source": [
    "# transform_umap = UMAP()\n",
    "# transformer = TransformMultiModalDataset(transforms=[transform_umap])\n",
    "# train_applied_umap = transformer(mnist_dataset_train)\n",
    "# test_applied_umap = transformer(mnist_dataset_test)"
   ]
  },
  {
   "cell_type": "code",
   "execution_count": null,
   "id": "3e3ee9e8-e752-474a-b3f4-fd0e99bfbbfb",
   "metadata": {},
   "outputs": [],
   "source": [
    "# metrics_reporter = DimensionalityReductionQualityReport(sampling_threshold=60000)\n",
    "# metrics_train_applied_umap = metrics_reporter.evaluate([mnist_dataset_train, train_applied_umap])\n",
    "# print(metrics_train_applied_umap)"
   ]
  },
  {
   "cell_type": "code",
   "execution_count": null,
   "id": "8d42d5c8-8fcd-48a9-b36f-0ef94b66fe57",
   "metadata": {},
   "outputs": [],
   "source": [
    "# metrics_reporter = DimensionalityReductionQualityReport(sampling_threshold=10000)\n",
    "# metrics_test_applied_umap = metrics_reporter.evaluate([mnist_dataset_test, test_applied_umap])\n",
    "# print(metrics_test_applied_umap)"
   ]
  },
  {
   "cell_type": "code",
   "execution_count": null,
   "id": "5c23835e-ffc8-4067-9384-e975806f80f8",
   "metadata": {},
   "outputs": [],
   "source": []
  }
 ],
 "metadata": {
  "kernelspec": {
   "display_name": "Python 3 (ipykernel)",
   "language": "python",
   "name": "python3"
  },
  "language_info": {
   "codemirror_mode": {
    "name": "ipython",
    "version": 3
   },
   "file_extension": ".py",
   "mimetype": "text/x-python",
   "name": "python",
   "nbconvert_exporter": "python",
   "pygments_lexer": "ipython3",
   "version": "3.8.10"
  }
 },
 "nbformat": 4,
 "nbformat_minor": 5
}
