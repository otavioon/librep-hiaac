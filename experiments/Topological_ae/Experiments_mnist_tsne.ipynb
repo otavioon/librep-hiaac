{
 "cells": [
  {
   "cell_type": "markdown",
   "id": "bdd291af-db8b-4107-8057-6b6ea9b005c9",
   "metadata": {},
   "source": [
    "# Experiment MNIST - TSNE\n",
    "\n",
    "This experiment tries to replicate the reult obtained by the paper https://arxiv.org/pdf/1906.00722.pdf where a process of dimensionality reduction was applied on the mnist dataset, and values of 0.946 for Trustworthiness and 0.938 for continuity were obtained. "
   ]
  },
  {
   "cell_type": "markdown",
   "id": "702416b0-6a22-4b4d-8df7-55146a3318a9",
   "metadata": {},
   "source": [
    "## Basic imports"
   ]
  },
  {
   "cell_type": "code",
   "execution_count": 1,
   "id": "46de2ac5-1944-44fc-9230-f3e33c1100fd",
   "metadata": {},
   "outputs": [],
   "source": [
    "%load_ext autoreload\n",
    "%autoreload 2"
   ]
  },
  {
   "cell_type": "code",
   "execution_count": 2,
   "id": "29206a2e-4b50-42d5-9eeb-7c23a49e2db9",
   "metadata": {},
   "outputs": [
    {
     "name": "stderr",
     "output_type": "stream",
     "text": [
      "2022-10-13 18:04:33.923422: W tensorflow/stream_executor/platform/default/dso_loader.cc:64] Could not load dynamic library 'libcudart.so.11.0'; dlerror: libcudart.so.11.0: cannot open shared object file: No such file or directory\n",
      "2022-10-13 18:04:33.923489: I tensorflow/stream_executor/cuda/cudart_stub.cc:29] Ignore above cudart dlerror if you do not have a GPU set up on your machine.\n"
     ]
    },
    {
     "name": "stdout",
     "output_type": "stream",
     "text": [
      "['/home/hubert/librep-hiaac/experiments/Topological_ae', '/usr/lib/python38.zip', '/usr/lib/python3.8', '/usr/lib/python3.8/lib-dynload', '', '/home/hubert/.local/lib/python3.8/site-packages', '/usr/local/lib/python3.8/dist-packages', '/usr/lib/python3/dist-packages', '../..']\n"
     ]
    }
   ],
   "source": [
    "import tensorflow as tf\n",
    "import sys\n",
    "import numpy as np\n",
    "import pandas as pd\n",
    "from pathlib import Path\n",
    "sys.path.append(\"../..\")\n",
    "print(sys.path)"
   ]
  },
  {
   "cell_type": "markdown",
   "id": "ddf0f407-1d31-470a-9c2c-8e23400a6d7c",
   "metadata": {},
   "source": [
    "## Loading the dataset"
   ]
  },
  {
   "cell_type": "markdown",
   "id": "09ab4df5-5fa7-41aa-a125-6879b8ea3be1",
   "metadata": {},
   "source": [
    "The dataset is loaded with Keras temporarily because thers is no access to a local mnist dataset. Further versions will use the dataset properly."
   ]
  },
  {
   "cell_type": "code",
   "execution_count": 3,
   "id": "e4076acd-7480-4ba1-8ff7-9b7164f5a49f",
   "metadata": {},
   "outputs": [],
   "source": [
    "from librep.transforms import TSNE\n",
    "from librep.transforms import UMAP\n",
    "from TopoAEMetrics import MeasureCalculator\n",
    "from librep.datasets.multimodal import TransformMultiModalDataset, ArrayMultiModalDataset, WindowedTransform\n",
    "# from librep.metrics.dimred_evaluator import DimensionalityReductionQualityReport, MultiDimensionalityReductionQualityReport\n",
    "# from librep.datasets.har.loaders import MNISTView"
   ]
  },
  {
   "cell_type": "code",
   "execution_count": 4,
   "id": "f5d96530-95af-4f91-b8e2-b8294833215e",
   "metadata": {},
   "outputs": [],
   "source": [
    "# loader = MNISTView(\"../../data/old-views/MNIST/default/\", download=False)\n",
    "# train_val_mnist, test_mnist = loader.load(concat_train_validation=True)"
   ]
  },
  {
   "cell_type": "code",
   "execution_count": 5,
   "id": "37285d43-e6f5-46b1-a43d-028afeafc4fa",
   "metadata": {},
   "outputs": [],
   "source": [
    "# train_val_mnist, test_mnist"
   ]
  },
  {
   "cell_type": "code",
   "execution_count": 6,
   "id": "5bbc66fa-24a9-42c4-bd75-9aeeb1353f60",
   "metadata": {},
   "outputs": [],
   "source": [
    "# train_val_pd_X = train_val_mnist.data.iloc[:,1:]\n",
    "# train_val_pd_Y = train_val_mnist.data.iloc[:,0]\n",
    "# test_pd_X = test_mnist.data.iloc[:,1:]\n",
    "# test_pd_Y = test_mnist.data.iloc[:,0]"
   ]
  },
  {
   "cell_type": "code",
   "execution_count": 7,
   "id": "11641dc6-de0b-4563-921d-840fc879ee52",
   "metadata": {},
   "outputs": [],
   "source": [
    "(x_train, y_train), (x_test, y_test) = tf.keras.datasets.mnist.load_data()\n",
    "assert x_train.shape == (60000, 28, 28)\n",
    "assert x_test.shape == (10000, 28, 28)\n",
    "assert y_train.shape == (60000,)\n",
    "assert y_test.shape == (10000,)\n",
    "train_val_pd_X = np.reshape(x_train, (-1, 28*28))\n",
    "train_val_pd_Y = y_train\n",
    "test_pd_X = np.reshape(x_test, (-1, 28*28))\n",
    "test_pd_Y = y_test"
   ]
  },
  {
   "cell_type": "code",
   "execution_count": 8,
   "id": "dd7465d6-66a2-4a2e-958c-80e76cf1f070",
   "metadata": {},
   "outputs": [
    {
     "data": {
      "text/plain": [
       "(10000, 784)"
      ]
     },
     "execution_count": 8,
     "metadata": {},
     "output_type": "execute_result"
    }
   ],
   "source": [
    "test_pd_X.shape"
   ]
  },
  {
   "cell_type": "code",
   "execution_count": 9,
   "id": "21e31303-2227-45b7-b793-6a1277396f0c",
   "metadata": {},
   "outputs": [],
   "source": [
    "# # Code to create new view for mnist\n",
    "# columns = ['pixel-' + str(val) for val in range(784)]\n",
    "# columns.insert(0, 'label')\n",
    "# train_val_mnist.data.columns = columns\n",
    "# train_val_mnist.data.to_csv('DATA_MNIST.csv', index=False)"
   ]
  },
  {
   "cell_type": "markdown",
   "id": "6fa792ad-dac5-4786-aede-f4376f386e05",
   "metadata": {},
   "source": [
    "# Reduce with TSNE"
   ]
  },
  {
   "cell_type": "markdown",
   "id": "af75217d-8f4e-4c21-8f16-22b48d274174",
   "metadata": {},
   "source": [
    "TSNE is applied to the train and test mnist datasets. TSNE was applied directly temporarily. The DimensionalityReductionQualityReport evaluates a set of datasets, where the first is the high-dimensional dataset and the second is the low-dimensional dataset. Further versions of DimensionalityReductionQualityReport will evaluate a set of low-dimensional datasets to plot metrics over dimensions.\n",
    "The test for the 60000 datapoints was commented until a more powerful machine is available."
   ]
  },
  {
   "cell_type": "code",
   "execution_count": 10,
   "id": "d23735ef-17c3-42f4-b004-5689de40e43c",
   "metadata": {
    "tags": []
   },
   "outputs": [
    {
     "name": "stderr",
     "output_type": "stream",
     "text": [
      "/usr/local/lib/python3.8/dist-packages/sklearn/manifold/_t_sne.py:800: FutureWarning: The default initialization in TSNE will change from 'random' to 'pca' in 1.2.\n",
      "  warnings.warn(\n",
      "/usr/local/lib/python3.8/dist-packages/sklearn/manifold/_t_sne.py:810: FutureWarning: The default learning rate in TSNE will change from 200.0 to 'auto' in 1.2.\n",
      "  warnings.warn(\n",
      "/usr/local/lib/python3.8/dist-packages/sklearn/manifold/_t_sne.py:800: FutureWarning: The default initialization in TSNE will change from 'random' to 'pca' in 1.2.\n",
      "  warnings.warn(\n",
      "/usr/local/lib/python3.8/dist-packages/sklearn/manifold/_t_sne.py:810: FutureWarning: The default learning rate in TSNE will change from 200.0 to 'auto' in 1.2.\n",
      "  warnings.warn(\n"
     ]
    }
   ],
   "source": [
    "tsne_reducer = TSNE()\n",
    "train_val_pd_X_reduced = tsne_reducer.fit_transform(train_val_pd_X)\n",
    "test_pd_X_reduced = tsne_reducer.fit_transform(test_pd_X)"
   ]
  },
  {
   "cell_type": "code",
   "execution_count": 11,
   "id": "fa033187-34c2-4a6f-b697-ed1b6c4c3b93",
   "metadata": {},
   "outputs": [],
   "source": [
    "# train_x = np.array(train_val_mnist.data.iloc[:,1:])\n",
    "# train_y = np.array(train_val_mnist.data.iloc[:,0])\n",
    "# test_x = np.array(test_mnist.data.iloc[:,1:])\n",
    "# test_y = np.array(test_mnist.data.iloc[:,0])"
   ]
  },
  {
   "cell_type": "code",
   "execution_count": 12,
   "id": "9ba19d17-98fc-4692-99e9-d17c7503ebbc",
   "metadata": {},
   "outputs": [],
   "source": [
    "# mnist_dataset_train = ArrayMultiModalDataset(X=train_x, y=train_y, window_slices=[(0, 28*28)], \n",
    "#                                              window_names=[\"px\"])\n",
    "# mnist_dataset_test = ArrayMultiModalDataset(X=test_x, y=test_y, window_slices=[(0, 28*28)], \n",
    "#                                              window_names=[\"px\"])"
   ]
  },
  {
   "cell_type": "code",
   "execution_count": 13,
   "id": "9a5984f3-50e4-4447-a2fb-394c44183a52",
   "metadata": {},
   "outputs": [],
   "source": [
    "# transform_tsne = TSNE()\n",
    "# transformer = TransformMultiModalDataset(transforms=[transform_tsne])\n",
    "# train_applied_tsne = transformer(mnist_dataset_train)\n",
    "# test_applied_tsne = transformer(mnist_dataset_test)"
   ]
  },
  {
   "cell_type": "code",
   "execution_count": 14,
   "id": "cf6f4020-a41d-4c08-8d50-a4faced7defc",
   "metadata": {},
   "outputs": [],
   "source": [
    "# metrics_reporter = DimensionalityReductionQualityReport()\n",
    "# metrics_train_applied_tsne = metrics_reporter.evaluate([train_val_pd_X, train_val_pd_X_reduced])\n",
    "# print(metrics_train_applied_tsne)"
   ]
  },
  {
   "cell_type": "markdown",
   "id": "a5702d12-d5e0-4f83-87a2-243af6af4161",
   "metadata": {},
   "source": [
    "## Trustworthiness - pyDRMetrics"
   ]
  },
  {
   "cell_type": "code",
   "execution_count": 15,
   "id": "33b831fb-6607-4974-8f29-48742093647e",
   "metadata": {},
   "outputs": [],
   "source": [
    "# metrics_reporter = DimensionalityReductionQualityReport()\n",
    "# metrics_test_applied_tsne = metrics_reporter.evaluate([test_pd_X, test_pd_X_reduced])\n",
    "# print(metrics_test_applied_tsne)"
   ]
  },
  {
   "cell_type": "markdown",
   "id": "34089761-7b67-4679-bbdc-3632f18d7dc1",
   "metadata": {},
   "source": [
    "## Trustworthiness - TopoAE"
   ]
  },
  {
   "cell_type": "code",
   "execution_count": 16,
   "id": "fb77ddfc-f012-4216-b06d-f6e785889567",
   "metadata": {},
   "outputs": [
    {
     "data": {
      "text/plain": [
       "0.9818272359760783"
      ]
     },
     "execution_count": 16,
     "metadata": {},
     "output_type": "execute_result"
    }
   ],
   "source": [
    "mcalculator = MeasureCalculator(test_pd_X, test_pd_X_reduced, 15)\n",
    "mcalculator.trustworthiness(15)"
   ]
  },
  {
   "cell_type": "code",
   "execution_count": null,
   "id": "15257e4b-373f-4f5c-9e72-71c4c6c9bc68",
   "metadata": {},
   "outputs": [],
   "source": [
    "mcalculator = MeasureCalculator(train_val_pd_X, train_val_pd_X_reduced, 15)\n",
    "mcalculator.trustworthiness(15)"
   ]
  },
  {
   "cell_type": "code",
   "execution_count": null,
   "id": "e3ef2969-629b-4f22-951b-4170c395db8a",
   "metadata": {},
   "outputs": [],
   "source": [
    "assert 1 == 0 "
   ]
  },
  {
   "cell_type": "markdown",
   "id": "c8ab174e-3411-4b29-82be-79ae73e6b384",
   "metadata": {},
   "source": [
    "# Reduce with UMAP"
   ]
  },
  {
   "cell_type": "code",
   "execution_count": null,
   "id": "d6ce7dba-7123-4b5e-b49d-c88e0f1470a8",
   "metadata": {},
   "outputs": [],
   "source": [
    "umap_reducer = UMAP()\n",
    "train_val_pd_X_reduced = umap_reducer.fit_transform(train_val_pd_X)\n",
    "test_pd_X_reduced = umap_reducer.fit_transform(test_pd_X)"
   ]
  },
  {
   "cell_type": "code",
   "execution_count": null,
   "id": "274d1af7-0144-4470-928a-5e18da821aac",
   "metadata": {},
   "outputs": [],
   "source": [
    "# metrics_reporter = DimensionalityReductionQualityReport()\n",
    "# metrics_train_applied_tsne = metrics_reporter.evaluate([train_val_pd_X, train_val_pd_X_reduced])\n",
    "# print(metrics_train_applied_tsne)"
   ]
  },
  {
   "cell_type": "code",
   "execution_count": null,
   "id": "10e73cc5-91e8-44b2-ad65-dd3e83321450",
   "metadata": {},
   "outputs": [],
   "source": [
    "metrics_reporter = DimensionalityReductionQualityReport()\n",
    "metrics_test_applied_tsne = metrics_reporter.evaluate([test_pd_X, test_pd_X_reduced])\n",
    "print(metrics_test_applied_tsne)"
   ]
  },
  {
   "cell_type": "code",
   "execution_count": null,
   "id": "5024a8e7-0e5a-4d54-8e76-27f353981ee1",
   "metadata": {},
   "outputs": [],
   "source": [
    "# transform_umap = UMAP()\n",
    "# transformer = TransformMultiModalDataset(transforms=[transform_umap])\n",
    "# train_applied_umap = transformer(mnist_dataset_train)\n",
    "# test_applied_umap = transformer(mnist_dataset_test)"
   ]
  },
  {
   "cell_type": "code",
   "execution_count": null,
   "id": "3e3ee9e8-e752-474a-b3f4-fd0e99bfbbfb",
   "metadata": {},
   "outputs": [],
   "source": [
    "# metrics_reporter = DimensionalityReductionQualityReport(sampling_threshold=60000)\n",
    "# metrics_train_applied_umap = metrics_reporter.evaluate([mnist_dataset_train, train_applied_umap])\n",
    "# print(metrics_train_applied_umap)"
   ]
  },
  {
   "cell_type": "code",
   "execution_count": null,
   "id": "8d42d5c8-8fcd-48a9-b36f-0ef94b66fe57",
   "metadata": {},
   "outputs": [],
   "source": [
    "# metrics_reporter = DimensionalityReductionQualityReport(sampling_threshold=10000)\n",
    "# metrics_test_applied_umap = metrics_reporter.evaluate([mnist_dataset_test, test_applied_umap])\n",
    "# print(metrics_test_applied_umap)"
   ]
  },
  {
   "cell_type": "code",
   "execution_count": null,
   "id": "5c23835e-ffc8-4067-9384-e975806f80f8",
   "metadata": {},
   "outputs": [],
   "source": []
  }
 ],
 "metadata": {
  "kernelspec": {
   "display_name": "Python 3 (ipykernel)",
   "language": "python",
   "name": "python3"
  },
  "language_info": {
   "codemirror_mode": {
    "name": "ipython",
    "version": 3
   },
   "file_extension": ".py",
   "mimetype": "text/x-python",
   "name": "python",
   "nbconvert_exporter": "python",
   "pygments_lexer": "ipython3",
   "version": "3.8.10"
  }
 },
 "nbformat": 4,
 "nbformat_minor": 5
}
