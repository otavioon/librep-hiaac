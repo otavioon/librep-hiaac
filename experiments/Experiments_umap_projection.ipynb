{
 "cells": [
  {
   "cell_type": "markdown",
   "id": "53d9dc44-8e5e-4246-87e9-5c25726234b0",
   "metadata": {},
   "source": [
    "# Experiments on KuHar Resampled to 20Hz\n",
    "\n",
    "This notebook will perform basic experiments on the balanced KuHar dataset with the following steps:\n",
    "1. Quick load train, test and validation CSV subsets from the balanced KuHar dataset using `PandasDatasetsIO` helper\n",
    "2. Subclassing the `Dataset` interface using `PandasMultiModalDataset`\n",
    "3. Apply the fourier transform on the dataset\n",
    "4. Apply t-SNE in both datasets together in time and frequency domains\n",
    "\n",
    "The experiments will evaluate the distrbution between KuHar and MotionSense on the balanced datasets in both time and frequency domains."
   ]
  },
  {
   "cell_type": "markdown",
   "id": "b9e9fd58-02a1-488b-8eab-064b7fdae874",
   "metadata": {},
   "source": [
    "## Common imports and definitions"
   ]
  },
  {
   "cell_type": "code",
   "execution_count": 1,
   "id": "ec6da551-6b53-4ed0-b382-65b3b9d1181c",
   "metadata": {
    "tags": []
   },
   "outputs": [
    {
     "name": "stderr",
     "output_type": "stream",
     "text": [
      "2022-09-20 12:20:56.573862: W tensorflow/stream_executor/platform/default/dso_loader.cc:64] Could not load dynamic library 'libcudart.so.11.0'; dlerror: libcudart.so.11.0: cannot open shared object file: No such file or directory\n",
      "2022-09-20 12:20:56.573884: I tensorflow/stream_executor/cuda/cudart_stub.cc:29] Ignore above cudart dlerror if you do not have a GPU set up on your machine.\n"
     ]
    }
   ],
   "source": [
    "from pathlib import Path  # For defining dataset Paths\n",
    "import sys                # For include librep package\n",
    "\n",
    "# This must be done if librep is not installed via pip,\n",
    "# as this directory (examples) is appart from librep package root\n",
    "sys.path.append(\"..\")\n",
    "\n",
    "# Third party imports\n",
    "import pandas as pd\n",
    "import numpy as np\n",
    "\n",
    "# Librep imports\n",
    "from librep.utils.dataset import PandasDatasetsIO          # For quick load train, test and validation CSVs\n",
    "from librep.datasets.multimodal import PandasMultiModalDataset # Wrap CSVs to librep's `Dataset` interface"
   ]
  },
  {
   "cell_type": "markdown",
   "id": "76dc7e5c-c0b5-4e1c-be82-935aebb822f6",
   "metadata": {},
   "source": [
    "## Loading data\n",
    "Change the path to use in other datasets"
   ]
  },
  {
   "cell_type": "code",
   "execution_count": 2,
   "id": "58562d97-10a2-4081-a773-eb34a2da75f4",
   "metadata": {
    "tags": []
   },
   "outputs": [],
   "source": [
    "# Path for KuHar resampled to 30Hz view with the same activities (and labels numbers)\n",
    "# It is assumed that the directory will contain (train.csv, test.csv and validation.csv)\n",
    "dataset_path_extrasensory = Path(\"../data/views/ExtraSensory/balanced_view_resampled_20Hz\")\n",
    "# dataset_path_extrasensory = Path(\"../data/views/ExtraSensory/unbalanced_train_only_resampled_20hz\")\n",
    "dataset_path_kuhar = Path(\"../data/views/KuHar/resampled_view_20Hz\")\n",
    "dataset_path_motionsense = Path(\"../data/views/MotionSense/resampled_view_20Hz\")"
   ]
  },
  {
   "cell_type": "markdown",
   "id": "25ad8212-0cb3-4080-8345-c771ca6eda24",
   "metadata": {},
   "source": [
    "Once paths is defined, we can load the CSV as pandas dataframes"
   ]
  },
  {
   "cell_type": "code",
   "execution_count": 3,
   "id": "00dc7ad4-7931-4985-be40-f29f3ddf0739",
   "metadata": {
    "tags": []
   },
   "outputs": [
    {
     "ename": "FileNotFoundError",
     "evalue": "[Errno 2] No such file or directory: '../data/views/ExtraSensory/balanced_view_resampled_20Hz/train.csv'",
     "output_type": "error",
     "traceback": [
      "\u001b[0;31m---------------------------------------------------------------------------\u001b[0m",
      "\u001b[0;31mFileNotFoundError\u001b[0m                         Traceback (most recent call last)",
      "Input \u001b[0;32mIn [3]\u001b[0m, in \u001b[0;36m<cell line: 2>\u001b[0;34m()\u001b[0m\n\u001b[1;32m      1\u001b[0m \u001b[38;5;66;03m# Kuhar/Motionsense dataframes\u001b[39;00m\n\u001b[0;32m----> 2\u001b[0m train_extrasensory, validation_extrasensory, test_extrasensory \u001b[38;5;241m=\u001b[39m \u001b[43mPandasDatasetsIO\u001b[49m\u001b[43m(\u001b[49m\u001b[43mdataset_path_extrasensory\u001b[49m\u001b[43m)\u001b[49m\u001b[38;5;241;43m.\u001b[39;49m\u001b[43mload\u001b[49m\u001b[43m(\u001b[49m\u001b[43m)\u001b[49m\n\u001b[1;32m      3\u001b[0m train_kuhar, validation_kuhar, test_kuhar \u001b[38;5;241m=\u001b[39m PandasDatasetsIO(dataset_path_kuhar)\u001b[38;5;241m.\u001b[39mload()\n\u001b[1;32m      4\u001b[0m train_motionsense, validation_motionsense, test_motionsense \u001b[38;5;241m=\u001b[39m PandasDatasetsIO(dataset_path_motionsense)\u001b[38;5;241m.\u001b[39mload()\n",
      "File \u001b[0;32m~/librep-hiaac/experiments/../librep/utils/dataset.py:63\u001b[0m, in \u001b[0;36mPandasDatasetsIO.load\u001b[0;34m(self, load_train, load_validation, load_test)\u001b[0m\n\u001b[1;32m     55\u001b[0m \u001b[38;5;28;01mdef\u001b[39;00m \u001b[38;5;21mload\u001b[39m(\n\u001b[1;32m     56\u001b[0m     \u001b[38;5;28mself\u001b[39m,\n\u001b[1;32m     57\u001b[0m     load_train: \u001b[38;5;28mbool\u001b[39m \u001b[38;5;241m=\u001b[39m \u001b[38;5;28;01mTrue\u001b[39;00m,\n\u001b[0;32m   (...)\u001b[0m\n\u001b[1;32m     60\u001b[0m ) \u001b[38;5;241m-\u001b[39m\u001b[38;5;241m>\u001b[39m Tuple[pd\u001b[38;5;241m.\u001b[39mDataFrame, pd\u001b[38;5;241m.\u001b[39mDataFrame, pd\u001b[38;5;241m.\u001b[39mDataFrame]:\n\u001b[1;32m     61\u001b[0m     \u001b[38;5;66;03m# Load train file\u001b[39;00m\n\u001b[1;32m     62\u001b[0m     train_filename \u001b[38;5;241m=\u001b[39m \u001b[38;5;28mself\u001b[39m\u001b[38;5;241m.\u001b[39mpath \u001b[38;5;241m/\u001b[39m \u001b[38;5;28mself\u001b[39m\u001b[38;5;241m.\u001b[39mtrain_filename\n\u001b[0;32m---> 63\u001b[0m     train \u001b[38;5;241m=\u001b[39m \u001b[43mpd\u001b[49m\u001b[38;5;241;43m.\u001b[39;49m\u001b[43mread_csv\u001b[49m\u001b[43m(\u001b[49m\u001b[43mtrain_filename\u001b[49m\u001b[43m)\u001b[49m \u001b[38;5;28;01mif\u001b[39;00m load_train \u001b[38;5;28;01melse\u001b[39;00m \u001b[38;5;28;01mNone\u001b[39;00m\n\u001b[1;32m     64\u001b[0m     \u001b[38;5;66;03m# Load validation file\u001b[39;00m\n\u001b[1;32m     65\u001b[0m     validation_filename \u001b[38;5;241m=\u001b[39m \u001b[38;5;28mself\u001b[39m\u001b[38;5;241m.\u001b[39mpath \u001b[38;5;241m/\u001b[39m \u001b[38;5;28mself\u001b[39m\u001b[38;5;241m.\u001b[39mvalidation_filename\n",
      "File \u001b[0;32m/usr/local/lib/python3.8/dist-packages/pandas/util/_decorators.py:311\u001b[0m, in \u001b[0;36mdeprecate_nonkeyword_arguments.<locals>.decorate.<locals>.wrapper\u001b[0;34m(*args, **kwargs)\u001b[0m\n\u001b[1;32m    305\u001b[0m \u001b[38;5;28;01mif\u001b[39;00m \u001b[38;5;28mlen\u001b[39m(args) \u001b[38;5;241m>\u001b[39m num_allow_args:\n\u001b[1;32m    306\u001b[0m     warnings\u001b[38;5;241m.\u001b[39mwarn(\n\u001b[1;32m    307\u001b[0m         msg\u001b[38;5;241m.\u001b[39mformat(arguments\u001b[38;5;241m=\u001b[39marguments),\n\u001b[1;32m    308\u001b[0m         \u001b[38;5;167;01mFutureWarning\u001b[39;00m,\n\u001b[1;32m    309\u001b[0m         stacklevel\u001b[38;5;241m=\u001b[39mstacklevel,\n\u001b[1;32m    310\u001b[0m     )\n\u001b[0;32m--> 311\u001b[0m \u001b[38;5;28;01mreturn\u001b[39;00m \u001b[43mfunc\u001b[49m\u001b[43m(\u001b[49m\u001b[38;5;241;43m*\u001b[39;49m\u001b[43margs\u001b[49m\u001b[43m,\u001b[49m\u001b[43m \u001b[49m\u001b[38;5;241;43m*\u001b[39;49m\u001b[38;5;241;43m*\u001b[39;49m\u001b[43mkwargs\u001b[49m\u001b[43m)\u001b[49m\n",
      "File \u001b[0;32m/usr/local/lib/python3.8/dist-packages/pandas/io/parsers/readers.py:680\u001b[0m, in \u001b[0;36mread_csv\u001b[0;34m(filepath_or_buffer, sep, delimiter, header, names, index_col, usecols, squeeze, prefix, mangle_dupe_cols, dtype, engine, converters, true_values, false_values, skipinitialspace, skiprows, skipfooter, nrows, na_values, keep_default_na, na_filter, verbose, skip_blank_lines, parse_dates, infer_datetime_format, keep_date_col, date_parser, dayfirst, cache_dates, iterator, chunksize, compression, thousands, decimal, lineterminator, quotechar, quoting, doublequote, escapechar, comment, encoding, encoding_errors, dialect, error_bad_lines, warn_bad_lines, on_bad_lines, delim_whitespace, low_memory, memory_map, float_precision, storage_options)\u001b[0m\n\u001b[1;32m    665\u001b[0m kwds_defaults \u001b[38;5;241m=\u001b[39m _refine_defaults_read(\n\u001b[1;32m    666\u001b[0m     dialect,\n\u001b[1;32m    667\u001b[0m     delimiter,\n\u001b[0;32m   (...)\u001b[0m\n\u001b[1;32m    676\u001b[0m     defaults\u001b[38;5;241m=\u001b[39m{\u001b[38;5;124m\"\u001b[39m\u001b[38;5;124mdelimiter\u001b[39m\u001b[38;5;124m\"\u001b[39m: \u001b[38;5;124m\"\u001b[39m\u001b[38;5;124m,\u001b[39m\u001b[38;5;124m\"\u001b[39m},\n\u001b[1;32m    677\u001b[0m )\n\u001b[1;32m    678\u001b[0m kwds\u001b[38;5;241m.\u001b[39mupdate(kwds_defaults)\n\u001b[0;32m--> 680\u001b[0m \u001b[38;5;28;01mreturn\u001b[39;00m \u001b[43m_read\u001b[49m\u001b[43m(\u001b[49m\u001b[43mfilepath_or_buffer\u001b[49m\u001b[43m,\u001b[49m\u001b[43m \u001b[49m\u001b[43mkwds\u001b[49m\u001b[43m)\u001b[49m\n",
      "File \u001b[0;32m/usr/local/lib/python3.8/dist-packages/pandas/io/parsers/readers.py:575\u001b[0m, in \u001b[0;36m_read\u001b[0;34m(filepath_or_buffer, kwds)\u001b[0m\n\u001b[1;32m    572\u001b[0m _validate_names(kwds\u001b[38;5;241m.\u001b[39mget(\u001b[38;5;124m\"\u001b[39m\u001b[38;5;124mnames\u001b[39m\u001b[38;5;124m\"\u001b[39m, \u001b[38;5;28;01mNone\u001b[39;00m))\n\u001b[1;32m    574\u001b[0m \u001b[38;5;66;03m# Create the parser.\u001b[39;00m\n\u001b[0;32m--> 575\u001b[0m parser \u001b[38;5;241m=\u001b[39m \u001b[43mTextFileReader\u001b[49m\u001b[43m(\u001b[49m\u001b[43mfilepath_or_buffer\u001b[49m\u001b[43m,\u001b[49m\u001b[43m \u001b[49m\u001b[38;5;241;43m*\u001b[39;49m\u001b[38;5;241;43m*\u001b[39;49m\u001b[43mkwds\u001b[49m\u001b[43m)\u001b[49m\n\u001b[1;32m    577\u001b[0m \u001b[38;5;28;01mif\u001b[39;00m chunksize \u001b[38;5;129;01mor\u001b[39;00m iterator:\n\u001b[1;32m    578\u001b[0m     \u001b[38;5;28;01mreturn\u001b[39;00m parser\n",
      "File \u001b[0;32m/usr/local/lib/python3.8/dist-packages/pandas/io/parsers/readers.py:934\u001b[0m, in \u001b[0;36mTextFileReader.__init__\u001b[0;34m(self, f, engine, **kwds)\u001b[0m\n\u001b[1;32m    931\u001b[0m     \u001b[38;5;28mself\u001b[39m\u001b[38;5;241m.\u001b[39moptions[\u001b[38;5;124m\"\u001b[39m\u001b[38;5;124mhas_index_names\u001b[39m\u001b[38;5;124m\"\u001b[39m] \u001b[38;5;241m=\u001b[39m kwds[\u001b[38;5;124m\"\u001b[39m\u001b[38;5;124mhas_index_names\u001b[39m\u001b[38;5;124m\"\u001b[39m]\n\u001b[1;32m    933\u001b[0m \u001b[38;5;28mself\u001b[39m\u001b[38;5;241m.\u001b[39mhandles: IOHandles \u001b[38;5;241m|\u001b[39m \u001b[38;5;28;01mNone\u001b[39;00m \u001b[38;5;241m=\u001b[39m \u001b[38;5;28;01mNone\u001b[39;00m\n\u001b[0;32m--> 934\u001b[0m \u001b[38;5;28mself\u001b[39m\u001b[38;5;241m.\u001b[39m_engine \u001b[38;5;241m=\u001b[39m \u001b[38;5;28;43mself\u001b[39;49m\u001b[38;5;241;43m.\u001b[39;49m\u001b[43m_make_engine\u001b[49m\u001b[43m(\u001b[49m\u001b[43mf\u001b[49m\u001b[43m,\u001b[49m\u001b[43m \u001b[49m\u001b[38;5;28;43mself\u001b[39;49m\u001b[38;5;241;43m.\u001b[39;49m\u001b[43mengine\u001b[49m\u001b[43m)\u001b[49m\n",
      "File \u001b[0;32m/usr/local/lib/python3.8/dist-packages/pandas/io/parsers/readers.py:1218\u001b[0m, in \u001b[0;36mTextFileReader._make_engine\u001b[0;34m(self, f, engine)\u001b[0m\n\u001b[1;32m   1214\u001b[0m     mode \u001b[38;5;241m=\u001b[39m \u001b[38;5;124m\"\u001b[39m\u001b[38;5;124mrb\u001b[39m\u001b[38;5;124m\"\u001b[39m\n\u001b[1;32m   1215\u001b[0m \u001b[38;5;66;03m# error: No overload variant of \"get_handle\" matches argument types\u001b[39;00m\n\u001b[1;32m   1216\u001b[0m \u001b[38;5;66;03m# \"Union[str, PathLike[str], ReadCsvBuffer[bytes], ReadCsvBuffer[str]]\"\u001b[39;00m\n\u001b[1;32m   1217\u001b[0m \u001b[38;5;66;03m# , \"str\", \"bool\", \"Any\", \"Any\", \"Any\", \"Any\", \"Any\"\u001b[39;00m\n\u001b[0;32m-> 1218\u001b[0m \u001b[38;5;28mself\u001b[39m\u001b[38;5;241m.\u001b[39mhandles \u001b[38;5;241m=\u001b[39m \u001b[43mget_handle\u001b[49m\u001b[43m(\u001b[49m\u001b[43m  \u001b[49m\u001b[38;5;66;43;03m# type: ignore[call-overload]\u001b[39;49;00m\n\u001b[1;32m   1219\u001b[0m \u001b[43m    \u001b[49m\u001b[43mf\u001b[49m\u001b[43m,\u001b[49m\n\u001b[1;32m   1220\u001b[0m \u001b[43m    \u001b[49m\u001b[43mmode\u001b[49m\u001b[43m,\u001b[49m\n\u001b[1;32m   1221\u001b[0m \u001b[43m    \u001b[49m\u001b[43mencoding\u001b[49m\u001b[38;5;241;43m=\u001b[39;49m\u001b[38;5;28;43mself\u001b[39;49m\u001b[38;5;241;43m.\u001b[39;49m\u001b[43moptions\u001b[49m\u001b[38;5;241;43m.\u001b[39;49m\u001b[43mget\u001b[49m\u001b[43m(\u001b[49m\u001b[38;5;124;43m\"\u001b[39;49m\u001b[38;5;124;43mencoding\u001b[39;49m\u001b[38;5;124;43m\"\u001b[39;49m\u001b[43m,\u001b[49m\u001b[43m \u001b[49m\u001b[38;5;28;43;01mNone\u001b[39;49;00m\u001b[43m)\u001b[49m\u001b[43m,\u001b[49m\n\u001b[1;32m   1222\u001b[0m \u001b[43m    \u001b[49m\u001b[43mcompression\u001b[49m\u001b[38;5;241;43m=\u001b[39;49m\u001b[38;5;28;43mself\u001b[39;49m\u001b[38;5;241;43m.\u001b[39;49m\u001b[43moptions\u001b[49m\u001b[38;5;241;43m.\u001b[39;49m\u001b[43mget\u001b[49m\u001b[43m(\u001b[49m\u001b[38;5;124;43m\"\u001b[39;49m\u001b[38;5;124;43mcompression\u001b[39;49m\u001b[38;5;124;43m\"\u001b[39;49m\u001b[43m,\u001b[49m\u001b[43m \u001b[49m\u001b[38;5;28;43;01mNone\u001b[39;49;00m\u001b[43m)\u001b[49m\u001b[43m,\u001b[49m\n\u001b[1;32m   1223\u001b[0m \u001b[43m    \u001b[49m\u001b[43mmemory_map\u001b[49m\u001b[38;5;241;43m=\u001b[39;49m\u001b[38;5;28;43mself\u001b[39;49m\u001b[38;5;241;43m.\u001b[39;49m\u001b[43moptions\u001b[49m\u001b[38;5;241;43m.\u001b[39;49m\u001b[43mget\u001b[49m\u001b[43m(\u001b[49m\u001b[38;5;124;43m\"\u001b[39;49m\u001b[38;5;124;43mmemory_map\u001b[39;49m\u001b[38;5;124;43m\"\u001b[39;49m\u001b[43m,\u001b[49m\u001b[43m \u001b[49m\u001b[38;5;28;43;01mFalse\u001b[39;49;00m\u001b[43m)\u001b[49m\u001b[43m,\u001b[49m\n\u001b[1;32m   1224\u001b[0m \u001b[43m    \u001b[49m\u001b[43mis_text\u001b[49m\u001b[38;5;241;43m=\u001b[39;49m\u001b[43mis_text\u001b[49m\u001b[43m,\u001b[49m\n\u001b[1;32m   1225\u001b[0m \u001b[43m    \u001b[49m\u001b[43merrors\u001b[49m\u001b[38;5;241;43m=\u001b[39;49m\u001b[38;5;28;43mself\u001b[39;49m\u001b[38;5;241;43m.\u001b[39;49m\u001b[43moptions\u001b[49m\u001b[38;5;241;43m.\u001b[39;49m\u001b[43mget\u001b[49m\u001b[43m(\u001b[49m\u001b[38;5;124;43m\"\u001b[39;49m\u001b[38;5;124;43mencoding_errors\u001b[39;49m\u001b[38;5;124;43m\"\u001b[39;49m\u001b[43m,\u001b[49m\u001b[43m \u001b[49m\u001b[38;5;124;43m\"\u001b[39;49m\u001b[38;5;124;43mstrict\u001b[39;49m\u001b[38;5;124;43m\"\u001b[39;49m\u001b[43m)\u001b[49m\u001b[43m,\u001b[49m\n\u001b[1;32m   1226\u001b[0m \u001b[43m    \u001b[49m\u001b[43mstorage_options\u001b[49m\u001b[38;5;241;43m=\u001b[39;49m\u001b[38;5;28;43mself\u001b[39;49m\u001b[38;5;241;43m.\u001b[39;49m\u001b[43moptions\u001b[49m\u001b[38;5;241;43m.\u001b[39;49m\u001b[43mget\u001b[49m\u001b[43m(\u001b[49m\u001b[38;5;124;43m\"\u001b[39;49m\u001b[38;5;124;43mstorage_options\u001b[39;49m\u001b[38;5;124;43m\"\u001b[39;49m\u001b[43m,\u001b[49m\u001b[43m \u001b[49m\u001b[38;5;28;43;01mNone\u001b[39;49;00m\u001b[43m)\u001b[49m\u001b[43m,\u001b[49m\n\u001b[1;32m   1227\u001b[0m \u001b[43m\u001b[49m\u001b[43m)\u001b[49m\n\u001b[1;32m   1228\u001b[0m \u001b[38;5;28;01massert\u001b[39;00m \u001b[38;5;28mself\u001b[39m\u001b[38;5;241m.\u001b[39mhandles \u001b[38;5;129;01mis\u001b[39;00m \u001b[38;5;129;01mnot\u001b[39;00m \u001b[38;5;28;01mNone\u001b[39;00m\n\u001b[1;32m   1229\u001b[0m f \u001b[38;5;241m=\u001b[39m \u001b[38;5;28mself\u001b[39m\u001b[38;5;241m.\u001b[39mhandles\u001b[38;5;241m.\u001b[39mhandle\n",
      "File \u001b[0;32m/usr/local/lib/python3.8/dist-packages/pandas/io/common.py:786\u001b[0m, in \u001b[0;36mget_handle\u001b[0;34m(path_or_buf, mode, encoding, compression, memory_map, is_text, errors, storage_options)\u001b[0m\n\u001b[1;32m    781\u001b[0m \u001b[38;5;28;01melif\u001b[39;00m \u001b[38;5;28misinstance\u001b[39m(handle, \u001b[38;5;28mstr\u001b[39m):\n\u001b[1;32m    782\u001b[0m     \u001b[38;5;66;03m# Check whether the filename is to be opened in binary mode.\u001b[39;00m\n\u001b[1;32m    783\u001b[0m     \u001b[38;5;66;03m# Binary mode does not support 'encoding' and 'newline'.\u001b[39;00m\n\u001b[1;32m    784\u001b[0m     \u001b[38;5;28;01mif\u001b[39;00m ioargs\u001b[38;5;241m.\u001b[39mencoding \u001b[38;5;129;01mand\u001b[39;00m \u001b[38;5;124m\"\u001b[39m\u001b[38;5;124mb\u001b[39m\u001b[38;5;124m\"\u001b[39m \u001b[38;5;129;01mnot\u001b[39;00m \u001b[38;5;129;01min\u001b[39;00m ioargs\u001b[38;5;241m.\u001b[39mmode:\n\u001b[1;32m    785\u001b[0m         \u001b[38;5;66;03m# Encoding\u001b[39;00m\n\u001b[0;32m--> 786\u001b[0m         handle \u001b[38;5;241m=\u001b[39m \u001b[38;5;28;43mopen\u001b[39;49m\u001b[43m(\u001b[49m\n\u001b[1;32m    787\u001b[0m \u001b[43m            \u001b[49m\u001b[43mhandle\u001b[49m\u001b[43m,\u001b[49m\n\u001b[1;32m    788\u001b[0m \u001b[43m            \u001b[49m\u001b[43mioargs\u001b[49m\u001b[38;5;241;43m.\u001b[39;49m\u001b[43mmode\u001b[49m\u001b[43m,\u001b[49m\n\u001b[1;32m    789\u001b[0m \u001b[43m            \u001b[49m\u001b[43mencoding\u001b[49m\u001b[38;5;241;43m=\u001b[39;49m\u001b[43mioargs\u001b[49m\u001b[38;5;241;43m.\u001b[39;49m\u001b[43mencoding\u001b[49m\u001b[43m,\u001b[49m\n\u001b[1;32m    790\u001b[0m \u001b[43m            \u001b[49m\u001b[43merrors\u001b[49m\u001b[38;5;241;43m=\u001b[39;49m\u001b[43merrors\u001b[49m\u001b[43m,\u001b[49m\n\u001b[1;32m    791\u001b[0m \u001b[43m            \u001b[49m\u001b[43mnewline\u001b[49m\u001b[38;5;241;43m=\u001b[39;49m\u001b[38;5;124;43m\"\u001b[39;49m\u001b[38;5;124;43m\"\u001b[39;49m\u001b[43m,\u001b[49m\n\u001b[1;32m    792\u001b[0m \u001b[43m        \u001b[49m\u001b[43m)\u001b[49m\n\u001b[1;32m    793\u001b[0m     \u001b[38;5;28;01melse\u001b[39;00m:\n\u001b[1;32m    794\u001b[0m         \u001b[38;5;66;03m# Binary mode\u001b[39;00m\n\u001b[1;32m    795\u001b[0m         handle \u001b[38;5;241m=\u001b[39m \u001b[38;5;28mopen\u001b[39m(handle, ioargs\u001b[38;5;241m.\u001b[39mmode)\n",
      "\u001b[0;31mFileNotFoundError\u001b[0m: [Errno 2] No such file or directory: '../data/views/ExtraSensory/balanced_view_resampled_20Hz/train.csv'"
     ]
    }
   ],
   "source": [
    "# Kuhar/Motionsense dataframes\n",
    "train_extrasensory, validation_extrasensory, test_extrasensory = PandasDatasetsIO(dataset_path_extrasensory).load()\n",
    "train_kuhar, validation_kuhar, test_kuhar = PandasDatasetsIO(dataset_path_kuhar).load()\n",
    "train_motionsense, validation_motionsense, test_motionsense = PandasDatasetsIO(dataset_path_motionsense).load()"
   ]
  },
  {
   "cell_type": "code",
   "execution_count": null,
   "id": "b4256fb8-e8c1-44bd-be72-6a979aca4375",
   "metadata": {},
   "outputs": [],
   "source": [
    "all_data_kuhar = pd.concat([train_kuhar, validation_kuhar, test_kuhar])\n",
    "all_data_motionsense = pd.concat([train_motionsense, validation_motionsense, test_motionsense])\n",
    "\n",
    "X = [0 for i in range(len(all_data_kuhar))]\n",
    "all_data_kuhar['Dataset'] = X\n",
    "\n",
    "X = [1 for i in range(len(all_data_motionsense))]\n",
    "all_data_motionsense['Dataset'] = X"
   ]
  },
  {
   "cell_type": "markdown",
   "id": "efd76ec5-71f6-4a03-9138-05db4aa1b3bd",
   "metadata": {},
   "source": [
    "## Removing activities that don't exist in MotionSense and changing their codes."
   ]
  },
  {
   "cell_type": "code",
   "execution_count": null,
   "id": "f9db556b-488a-4ee1-b1cd-c27f4aaf5e05",
   "metadata": {},
   "outputs": [],
   "source": [
    "activity_kuhar = {\n",
    "        0: \"Stand\",\n",
    "        1: \"Sit\",\n",
    "        11: \"Walk\",\n",
    "        14: \"Run\",\n",
    "        15: \"Stair-up\",\n",
    "        16: \"Stair-down\",\n",
    "}\n",
    "\n",
    "activity_motionsense = {\n",
    "        3: \"std\",\n",
    "        2: \"sit\",\n",
    "        4: \"wlk\",\n",
    "        5: \"jog\",\n",
    "        1: \"ups\",\n",
    "        0: \"dws\"\n",
    "}\n",
    "\n",
    "kh = list(activity_kuhar.keys())\n",
    "ms = list(activity_motionsense.keys())\n",
    "l = [k for k in range(6)]\n",
    "kh"
   ]
  },
  {
   "cell_type": "code",
   "execution_count": null,
   "id": "41d42624-c583-4aec-8804-4efa4b825070",
   "metadata": {
    "tags": []
   },
   "outputs": [],
   "source": [
    "all_data_kuhar = all_data_kuhar[all_data_kuhar['activity code'].isin(kh)]"
   ]
  },
  {
   "cell_type": "code",
   "execution_count": null,
   "id": "b965b069-588e-4431-924e-99978a42f529",
   "metadata": {},
   "outputs": [],
   "source": [
    "all_data_kuhar['activity code'].unique()"
   ]
  },
  {
   "cell_type": "code",
   "execution_count": null,
   "id": "a0d1a4f5-84b2-4347-b5ee-30ef885b4179",
   "metadata": {
    "tags": []
   },
   "outputs": [],
   "source": [
    "for k in range(6):\n",
    "    all_data_kuhar['activity code'] = all_data_kuhar['activity code'].replace(kh[k], k+6)"
   ]
  },
  {
   "cell_type": "code",
   "execution_count": null,
   "id": "b062e800-f641-4927-bbe3-893eb73ed3f4",
   "metadata": {},
   "outputs": [],
   "source": [
    "all_data_kuhar['activity code'].unique()"
   ]
  },
  {
   "cell_type": "markdown",
   "id": "a23fb756-7214-4d21-8d89-95e5367df981",
   "metadata": {},
   "source": [
    "## Creating a Librep dataset from pandas dataframes\n",
    "\n",
    "Change the features to use in other datasets"
   ]
  },
  {
   "cell_type": "code",
   "execution_count": null,
   "id": "98a5ec5b-5bd4-4f76-aedc-4deff2b5d752",
   "metadata": {},
   "outputs": [],
   "source": [
    "features_motionsense = list(all_data_motionsense.columns[1:-6]) + ['Dataset', 'activity code']\n",
    "# all_data_motionsense.head()"
   ]
  },
  {
   "cell_type": "code",
   "execution_count": null,
   "id": "f2b5186e-ea80-4981-8535-78ca9ee3f536",
   "metadata": {},
   "outputs": [],
   "source": [
    "features_kuhar = list(all_data_kuhar.columns[1:-10]) + ['Dataset', 'activity code']\n",
    "# all_data_kuhar"
   ]
  },
  {
   "cell_type": "code",
   "execution_count": null,
   "id": "8ef27d26-51d9-418a-ac5c-7c9076b5a8fd",
   "metadata": {},
   "outputs": [],
   "source": [
    "X1 = np.array(all_data_kuhar[features_kuhar])\n",
    "X2 = np.array(all_data_motionsense[features_motionsense])"
   ]
  },
  {
   "cell_type": "code",
   "execution_count": null,
   "id": "8ffc63f5-d8cf-43d2-be60-5a4a49fdd420",
   "metadata": {},
   "outputs": [],
   "source": [
    "all_data = pd.DataFrame(np.concatenate((X1, X2)), columns=list(features_kuhar))\n",
    "all_data"
   ]
  },
  {
   "cell_type": "code",
   "execution_count": null,
   "id": "382dc81d-6ff4-446e-ac97-c801199abad4",
   "metadata": {},
   "outputs": [],
   "source": [
    "features = features_kuhar[:-2]\n",
    "# features"
   ]
  },
  {
   "cell_type": "markdown",
   "id": "ac48dfd2-5a51-4471-b9ad-ee37e8476d74",
   "metadata": {},
   "source": [
    "## t-SNE Transform"
   ]
  },
  {
   "cell_type": "code",
   "execution_count": null,
   "id": "f0d63c1f-cc3e-406b-9373-54867840215b",
   "metadata": {},
   "outputs": [],
   "source": [
    "from sklearn.manifold import TSNE\n",
    "\n",
    "tsne_model = TSNE(random_state=42)\n",
    "tsne_df = tsne_model.fit_transform(all_data[features])"
   ]
  },
  {
   "cell_type": "code",
   "execution_count": null,
   "id": "b83aae79-f28a-41a7-a82b-87d45375a947",
   "metadata": {
    "tags": []
   },
   "outputs": [],
   "source": [
    "tsne_df = pd.DataFrame(tsne_df, columns=[\"X\", \"Y\"])\n",
    "tsne_df\n",
    "tsne_df[\"class\"] = all_data['Dataset']"
   ]
  },
  {
   "cell_type": "code",
   "execution_count": null,
   "id": "73322191-4bbb-4d05-8f5d-c68525795bc0",
   "metadata": {},
   "outputs": [],
   "source": [
    "import matplotlib.pyplot as plt\n",
    "\n",
    "fig = plt.figure(figsize=(8,8))\n",
    "ax = fig.add_subplot(1,1,1)\n",
    "ax.set_xlabel('X', fontsize=15)\n",
    "ax.set_ylabel('Y', fontsize=15)\n",
    "ax.set_title(\"T-SNE - Time domain - Chart of the datasets KuHar and MotionSense - 20Hz\", fontsize=14)\n",
    "\n",
    "labels = []\n",
    "for c, ds in tsne_df.groupby([\"class\"]):\n",
    "    ax.scatter(ds[\"X\"], ds[\"Y\"], marker='.')\n",
    "    if c  == 0:\n",
    "        labels.append('KuHar')\n",
    "    else:\n",
    "        labels.append('MotionSense')\n",
    "#     else:\n",
    "#         labels.append(f\"{c}\")\n",
    "ax.legend(labels, bbox_to_anchor = (1.28, 1.))\n",
    "ax.grid()\n",
    "plt.show()"
   ]
  },
  {
   "cell_type": "markdown",
   "id": "30b6c0a4-f6ff-4937-89bb-df8959ee2734",
   "metadata": {},
   "source": [
    "Lets show the datasets in the frequency domain and compare with the result above"
   ]
  },
  {
   "cell_type": "markdown",
   "id": "5a58623b-b64f-4fba-9622-e906e7ea87a7",
   "metadata": {
    "tags": []
   },
   "source": [
    "## Creating a Librep dataset from pandas dataframes\n",
    "\n",
    "Change the features to use in other datasets"
   ]
  },
  {
   "cell_type": "code",
   "execution_count": null,
   "id": "1032700c-2c97-4e77-a99b-195ea91b21b5",
   "metadata": {},
   "outputs": [],
   "source": [
    "# Kuhar and MotionSense features to select\n",
    "features = [\n",
    "    \"accel-x\",\n",
    "    \"accel-y\",\n",
    "    \"accel-z\",\n",
    "    \"gyro-x\",\n",
    "    \"gyro-y\",\n",
    "    \"gyro-z\"\n",
    "]\n",
    "\n",
    "# Creating the datasets\n",
    "\n",
    "# Train\n",
    "all_data_multimodal = PandasMultiModalDataset(\n",
    "    all_data,\n",
    "    feature_prefixes=features,\n",
    "    label_columns=\"Dataset\",\n",
    "    as_array=True\n",
    ")"
   ]
  },
  {
   "cell_type": "markdown",
   "id": "e044f068-d9a0-4ede-a83c-da1d99c97b38",
   "metadata": {},
   "source": [
    "## Fourier Transform"
   ]
  },
  {
   "cell_type": "code",
   "execution_count": null,
   "id": "3dcdbe38-67ed-4fa0-9fec-003ad5650f7d",
   "metadata": {
    "tags": []
   },
   "outputs": [],
   "source": [
    "from librep.datasets.multimodal import TransformMultiModalDataset\n",
    "from librep.transforms.fft import FFT"
   ]
  },
  {
   "cell_type": "code",
   "execution_count": null,
   "id": "8ff029d9-ac41-4a29-9170-7d547fac4684",
   "metadata": {
    "tags": []
   },
   "outputs": [],
   "source": [
    "fft_transform = FFT(centered = True)\n",
    "transformer = TransformMultiModalDataset(transforms=[fft_transform], new_window_name_prefix=\"fft.\")"
   ]
  },
  {
   "cell_type": "markdown",
   "id": "a8c31f8f-503e-4922-91b4-c52b826e46f5",
   "metadata": {
    "tags": []
   },
   "source": [
    "### Use FFT in the data"
   ]
  },
  {
   "cell_type": "code",
   "execution_count": null,
   "id": "dcf2ba82-4ed4-415e-a446-7b7cf6d46ddd",
   "metadata": {},
   "outputs": [],
   "source": [
    "all_data_multimodal_fft = transformer(all_data_multimodal)\n",
    "\n",
    "tsne_model = TSNE(random_state=42)\n",
    "tsne_df = tsne_model.fit_transform(all_data_multimodal_fft.X)\n",
    "\n",
    "tsne_df = pd.DataFrame(tsne_df, columns=[\"X\", \"Y\"])\n",
    "tsne_df\n",
    "tsne_df[\"class\"] = all_data_multimodal_fft.y\n",
    "\n",
    "fig = plt.figure(figsize=(8,8))\n",
    "ax = fig.add_subplot(1,1,1)\n",
    "ax.set_xlabel('X', fontsize=15)\n",
    "ax.set_ylabel('Y', fontsize=15)\n",
    "ax.set_title(\"T-SNE - Frequency domain - Chart of the datasets KuHar and MotionSense - 20Hz\", fontsize=14)\n",
    "\n",
    "labels = []\n",
    "for c, ds in tsne_df.groupby([\"class\"]):\n",
    "    ax.scatter(ds[\"X\"], ds[\"Y\"], marker='.')\n",
    "    if c  == 0:\n",
    "        labels.append('KuHar')\n",
    "    else:\n",
    "        labels.append('MotionSense')\n",
    "#     else:\n",
    "#         labels.append(f\"{c}\")\n",
    "ax.legend(labels, bbox_to_anchor = (1.28, 1.))\n",
    "ax.grid()\n",
    "plt.show()"
   ]
  },
  {
   "cell_type": "markdown",
   "id": "e5c846a4-cdc0-4d59-8339-c321b615386c",
   "metadata": {
    "tags": []
   },
   "source": [
    "## Use t-SNE to show separete classes"
   ]
  },
  {
   "cell_type": "code",
   "execution_count": null,
   "id": "a15a7e28-319d-4c1d-85a8-c3a2c42701d2",
   "metadata": {},
   "outputs": [],
   "source": [
    "def transformMultimodal(X):\n",
    "    # Kuhar and MotionSense features to select\n",
    "    features = [\n",
    "        \"accel-x\",\n",
    "        \"accel-y\",\n",
    "        \"accel-z\",\n",
    "        \"gyro-x\",\n",
    "        \"gyro-y\",\n",
    "        \"gyro-z\"\n",
    "    ]\n",
    "\n",
    "    # Creating the datasets\n",
    "\n",
    "    # Train\n",
    "    data_multimodal = PandasMultiModalDataset(\n",
    "        X,\n",
    "        feature_prefixes=features,\n",
    "        label_columns=\"activity code\",\n",
    "        as_array=True\n",
    "    )\n",
    "    return data_multimodal\n",
    "\n",
    "def tsne(data, num_classes, classes, transforms, title):\n",
    "\n",
    "    X = data[data['activity code'].isin(num_classes)]\n",
    "    X_new = transformMultimodal(X)\n",
    "\n",
    "    transformer = TransformMultiModalDataset(transforms=transforms, new_window_name_prefix=\"transform.\")\n",
    "    data_multimodal_fft = transformer(X_new)\n",
    "    \n",
    "    tsne_model = TSNE(random_state=42)\n",
    "    tsne_df = tsne_model.fit_transform(data_multimodal_fft.X)\n",
    "\n",
    "    tsne_df = pd.DataFrame(tsne_df, columns=[\"X\", \"Y\"])\n",
    "    tsne_df\n",
    "    tsne_df[\"class\"] = data_multimodal_fft.y\n",
    "\n",
    "    fig = plt.figure(figsize=(8,8))\n",
    "    ax = fig.add_subplot(1,1,1)\n",
    "    ax.set_xlabel('X', fontsize=15)\n",
    "    ax.set_ylabel('Y', fontsize=15)\n",
    "    ax.set_title(title, fontsize=14)\n",
    "\n",
    "    labels = []\n",
    "    for c, ds in tsne_df.groupby([\"class\"]):\n",
    "        ax.scatter(ds[\"X\"], ds[\"Y\"], marker='.')\n",
    "        if c  in num_classes:\n",
    "            idx = num_classes.index(c)\n",
    "            labels.append(classes[num_classes[idx]])\n",
    "        # else:\n",
    "        #     labels.append(classes[num_classes[1]])\n",
    "\n",
    "    ax.legend(labels, bbox_to_anchor = (1.28, 1.))\n",
    "    ax.grid()\n",
    "    plt.show()\n",
    "fft_transform = FFT(centered = True)"
   ]
  },
  {
   "cell_type": "code",
   "execution_count": null,
   "id": "c7f6746b-31d6-44f8-a751-cacdd3c6f0f8",
   "metadata": {},
   "outputs": [],
   "source": [
    "pares = [[0, 11], [1, 10], [2, 7], [3, 6], [4, 8], [5, 9]]\n",
    "\n",
    "labels_ms = ['Downstairs', 'Upstairs', 'Sitting', 'Standing', 'Walking', 'Jogging']\n",
    "labels_kh = [\"Stand\", \"Sit\", \"Walk\", \"Run\", \"Stair-up\", \"Stair-down\"]\n",
    "\n",
    "classes = []\n",
    "for c in labels_ms:\n",
    "    classes.append(c + ' - MS')\n",
    "for c in labels_kh:\n",
    "    classes.append(c + ' - KH')\n",
    "classes"
   ]
  },
  {
   "cell_type": "code",
   "execution_count": null,
   "id": "46850b2d-bdb0-4503-89f9-413d9010f4b4",
   "metadata": {},
   "outputs": [],
   "source": [
    "transforms = [fft_transform]\n",
    "title = \"T-SNE - Frequency domain - Chart of the datasets KuHar and MotionSense - 20Hz\"\n",
    "for i in range(6):\n",
    "    tsne(all_data, pares[i], classes, transforms, title)\n",
    "tsne(all_data, [*pares[4], *pares[5]], classes, transforms, title)"
   ]
  },
  {
   "cell_type": "markdown",
   "id": "e1648e0d-8984-43a6-aebb-32899de67ef0",
   "metadata": {},
   "source": [
    "## What happens if we use statistic features?"
   ]
  },
  {
   "cell_type": "code",
   "execution_count": null,
   "id": "ddc09ccd-4c40-4395-8f6f-7efe323e83cf",
   "metadata": {},
   "outputs": [],
   "source": [
    "from librep.transforms.stats import StatsTransform\n",
    "\n",
    "stats_transform = StatsTransform()\n",
    "transforms = [stats_transform]\n",
    "title = \"T-SNE - Statistic features - Chart of the datasets KuHar and MotionSense - 20Hz\"\n",
    "\n",
    "for i in range(6):\n",
    "    tsne(all_data, pares[i], classes, transforms, title)\n",
    "\n",
    "tsne(all_data, [*pares[4], *pares[5]], classes, transforms, title)"
   ]
  },
  {
   "cell_type": "code",
   "execution_count": null,
   "id": "de5ee5cf-b0f3-4a3c-b390-0c2a6110de97",
   "metadata": {},
   "outputs": [],
   "source": [
    "transformer = TransformMultiModalDataset(transforms=[stats_transform], new_window_name_prefix=\"st.\")\n",
    "all_data_multimodal_st = transformer(all_data_multimodal)\n",
    "\n",
    "tsne_model = TSNE(random_state=42)\n",
    "tsne_df = tsne_model.fit_transform(all_data_multimodal_st.X)\n",
    "\n",
    "tsne_df = pd.DataFrame(tsne_df, columns=[\"X\", \"Y\"])\n",
    "tsne_df\n",
    "tsne_df[\"class\"] = all_data_multimodal_st.y\n",
    "\n",
    "fig = plt.figure(figsize=(8,8))\n",
    "ax = fig.add_subplot(1,1,1)\n",
    "ax.set_xlabel('X', fontsize=15)\n",
    "ax.set_ylabel('Y', fontsize=15)\n",
    "ax.set_title(title, fontsize=14)\n",
    "\n",
    "labels = []\n",
    "for c, ds in tsne_df.groupby([\"class\"]):\n",
    "    ax.scatter(ds[\"X\"], ds[\"Y\"], marker='.')\n",
    "    if c  == 0:\n",
    "        labels.append('KuHar')\n",
    "    else:\n",
    "        labels.append('MotionSense')\n",
    "#     else:\n",
    "#         labels.append(f\"{c}\")\n",
    "ax.legend(labels, bbox_to_anchor = (1.28, 1.))\n",
    "ax.grid()\n",
    "plt.show()"
   ]
  },
  {
   "cell_type": "code",
   "execution_count": null,
   "id": "5ff990b9-0802-4be8-b9c1-c8b9c6f73da8",
   "metadata": {},
   "outputs": [],
   "source": [
    "from librep.transforms.stats import StatsTransform\n",
    "\n",
    "stats_transform = StatsTransform()\n",
    "transforms = [fft_transform, stats_transform]\n",
    "title = \"T-SNE - FFT + Statistic features - Chart of the datasets KuHar and MotionSense - 20Hz\"\n",
    "\n",
    "for i in range(6):\n",
    "    tsne(all_data, pares[i], classes, transforms, title)\n",
    "\n",
    "tsne(all_data, [*pares[4], *pares[5]], classes, transforms, title)"
   ]
  },
  {
   "cell_type": "code",
   "execution_count": null,
   "id": "f0340058-aaaf-4bf1-8425-aeb3bcf40e28",
   "metadata": {},
   "outputs": [],
   "source": [
    "transformer = TransformMultiModalDataset(transforms=[fft_transform, stats_transform], \n",
    "                                         new_window_name_prefix=\"st.\")\n",
    "all_data_multimodal_fft_st = transformer(all_data_multimodal)\n",
    "\n",
    "tsne_model = TSNE(random_state=42)\n",
    "tsne_df = tsne_model.fit_transform(all_data_multimodal_fft_st.X)\n",
    "\n",
    "tsne_df = pd.DataFrame(tsne_df, columns=[\"X\", \"Y\"])\n",
    "tsne_df\n",
    "tsne_df[\"class\"] = all_data_multimodal_fft_st.y\n",
    "\n",
    "fig = plt.figure(figsize=(8,8))\n",
    "ax = fig.add_subplot(1,1,1)\n",
    "ax.set_xlabel('X', fontsize=15)\n",
    "ax.set_ylabel('Y', fontsize=15)\n",
    "ax.set_title(title, fontsize=14)\n",
    "\n",
    "labels = []\n",
    "for c, ds in tsne_df.groupby([\"class\"]):\n",
    "    ax.scatter(ds[\"X\"], ds[\"Y\"], marker='.')\n",
    "    if c  == 0:\n",
    "        labels.append('KuHar')\n",
    "    else:\n",
    "        labels.append('MotionSense')\n",
    "#     else:\n",
    "#         labels.append(f\"{c}\")\n",
    "ax.legend(labels, bbox_to_anchor = (1.28, 1.))\n",
    "ax.grid()\n",
    "plt.show()"
   ]
  }
 ],
 "metadata": {
  "kernelspec": {
   "display_name": "Python 3 (ipykernel)",
   "language": "python",
   "name": "python3"
  },
  "language_info": {
   "codemirror_mode": {
    "name": "ipython",
    "version": 3
   },
   "file_extension": ".py",
   "mimetype": "text/x-python",
   "name": "python",
   "nbconvert_exporter": "python",
   "pygments_lexer": "ipython3",
   "version": "3.8.10"
  }
 },
 "nbformat": 4,
 "nbformat_minor": 5
}
