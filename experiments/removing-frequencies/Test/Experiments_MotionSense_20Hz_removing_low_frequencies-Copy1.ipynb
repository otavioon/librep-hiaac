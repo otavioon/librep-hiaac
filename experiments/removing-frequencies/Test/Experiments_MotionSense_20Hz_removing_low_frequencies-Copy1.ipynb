{
 "cells": [
  {
   "cell_type": "markdown",
   "id": "53d9dc44-8e5e-4246-87e9-5c25726234b0",
   "metadata": {},
   "source": [
    "# Experiments on MotionSense Resampled to 20Hz\n",
    "\n",
    "This notebook will perform basic experiments on the balanced KuHar dataset with the following steps:\n",
    "1. Quick load train, test and validation CSV subsets from the balanced KuHar dataset using `PandasDatasetsIO` helper\n",
    "2. Subclassing the `Dataset` interface using `PandasMultiModalDataset`\n",
    "3. Apply the fourier transform on the dataset\n",
    "4. Train and evaluate SVM, KNN and Random Forest classification models in the frequency domain, removing low frequencies. Train models by entering range of features (eg 0 to 10Hz, 1 to 10Hz, ..., 9 to 10Hz) and compare performances when adding low frequencies.\n",
    "\n",
    "The experiments will evaluate the performance of SVM, KNN and RF models on the balanced KuHar dataset in both time and frequency domains."
   ]
  },
  {
   "cell_type": "markdown",
   "id": "b9e9fd58-02a1-488b-8eab-064b7fdae874",
   "metadata": {},
   "source": [
    "## Common imports and definitions"
   ]
  },
  {
   "cell_type": "code",
   "execution_count": 1,
   "id": "ec6da551-6b53-4ed0-b382-65b3b9d1181c",
   "metadata": {
    "tags": []
   },
   "outputs": [
    {
     "name": "stderr",
     "output_type": "stream",
     "text": [
      "2022-09-19 18:02:36.815132: W tensorflow/stream_executor/platform/default/dso_loader.cc:64] Could not load dynamic library 'libcudart.so.11.0'; dlerror: libcudart.so.11.0: cannot open shared object file: No such file or directory\n",
      "2022-09-19 18:02:36.815152: I tensorflow/stream_executor/cuda/cudart_stub.cc:29] Ignore above cudart dlerror if you do not have a GPU set up on your machine.\n"
     ]
    }
   ],
   "source": [
    "from pathlib import Path  # For defining dataset Paths\n",
    "import sys                # For include librep package\n",
    "\n",
    "# This must be done if librep is not installed via pip,\n",
    "# as this directory (examples) is appart from librep package root\n",
    "sys.path.append(\"../../..\")\n",
    "\n",
    "# Third party imports\n",
    "import pandas as pd\n",
    "import numpy as np\n",
    "\n",
    "# Librep imports\n",
    "from librep.utils.dataset import PandasDatasetsIO          # For quick load train, test and validation CSVs\n",
    "from librep.datasets.multimodal import PandasMultiModalDataset # Wrap CSVs to librep's `Dataset` interface"
   ]
  },
  {
   "cell_type": "markdown",
   "id": "76dc7e5c-c0b5-4e1c-be82-935aebb822f6",
   "metadata": {},
   "source": [
    "## Loading data\n",
    "Change the path to use in other datasets"
   ]
  },
  {
   "cell_type": "code",
   "execution_count": 2,
   "id": "58562d97-10a2-4081-a773-eb34a2da75f4",
   "metadata": {
    "tags": []
   },
   "outputs": [],
   "source": [
    "# Path for KuHar resampled to 50Hz view with the same activities (and labels numbers)\n",
    "# It is assumed that the directory will contain (train.csv, test.csv and validation.csv)\n",
    "dataset_path = Path(\"../../../data/views/MotionSense/resampled_view_20Hz\")"
   ]
  },
  {
   "cell_type": "markdown",
   "id": "25ad8212-0cb3-4080-8345-c771ca6eda24",
   "metadata": {},
   "source": [
    "Once paths is defined, we can load the CSV as pandas dataframes"
   ]
  },
  {
   "cell_type": "code",
   "execution_count": 3,
   "id": "00dc7ad4-7931-4985-be40-f29f3ddf0739",
   "metadata": {
    "tags": []
   },
   "outputs": [],
   "source": [
    "# Kuhar dataframes\n",
    "train, validation, test = PandasDatasetsIO(dataset_path).load()"
   ]
  },
  {
   "cell_type": "markdown",
   "id": "9e88a3de-5f0f-4799-b947-e16fab0fd7e2",
   "metadata": {},
   "source": [
    "Lets take a look in the train dataframes"
   ]
  },
  {
   "cell_type": "code",
   "execution_count": 4,
   "id": "6bf01fc5-59c6-4318-8e24-87b2b6e52b6e",
   "metadata": {
    "tags": []
   },
   "outputs": [
    {
     "data": {
      "text/html": [
       "<div>\n",
       "<style scoped>\n",
       "    .dataframe tbody tr th:only-of-type {\n",
       "        vertical-align: middle;\n",
       "    }\n",
       "\n",
       "    .dataframe tbody tr th {\n",
       "        vertical-align: top;\n",
       "    }\n",
       "\n",
       "    .dataframe thead th {\n",
       "        text-align: right;\n",
       "    }\n",
       "</style>\n",
       "<table border=\"1\" class=\"dataframe\">\n",
       "  <thead>\n",
       "    <tr style=\"text-align: right;\">\n",
       "      <th></th>\n",
       "      <th>Unnamed: 0</th>\n",
       "      <th>userAcceleration.x-0</th>\n",
       "      <th>userAcceleration.x-1</th>\n",
       "      <th>userAcceleration.x-2</th>\n",
       "      <th>userAcceleration.x-3</th>\n",
       "      <th>userAcceleration.x-4</th>\n",
       "      <th>userAcceleration.x-5</th>\n",
       "      <th>userAcceleration.x-6</th>\n",
       "      <th>userAcceleration.x-7</th>\n",
       "      <th>userAcceleration.x-8</th>\n",
       "      <th>...</th>\n",
       "      <th>rotationRate.z-55</th>\n",
       "      <th>rotationRate.z-56</th>\n",
       "      <th>rotationRate.z-57</th>\n",
       "      <th>rotationRate.z-58</th>\n",
       "      <th>rotationRate.z-59</th>\n",
       "      <th>activity code</th>\n",
       "      <th>length</th>\n",
       "      <th>trial_code</th>\n",
       "      <th>index</th>\n",
       "      <th>user</th>\n",
       "    </tr>\n",
       "  </thead>\n",
       "  <tbody>\n",
       "    <tr>\n",
       "      <th>0</th>\n",
       "      <td>0</td>\n",
       "      <td>-0.101581</td>\n",
       "      <td>-0.221355</td>\n",
       "      <td>-0.234016</td>\n",
       "      <td>-0.264552</td>\n",
       "      <td>-0.200991</td>\n",
       "      <td>-0.208962</td>\n",
       "      <td>-0.308408</td>\n",
       "      <td>0.089943</td>\n",
       "      <td>-0.382516</td>\n",
       "      <td>...</td>\n",
       "      <td>-0.099006</td>\n",
       "      <td>-0.171130</td>\n",
       "      <td>0.292608</td>\n",
       "      <td>0.932535</td>\n",
       "      <td>0.782147</td>\n",
       "      <td>0</td>\n",
       "      <td>150</td>\n",
       "      <td>1</td>\n",
       "      <td>150</td>\n",
       "      <td>11</td>\n",
       "    </tr>\n",
       "    <tr>\n",
       "      <th>1</th>\n",
       "      <td>1</td>\n",
       "      <td>-0.082527</td>\n",
       "      <td>0.201136</td>\n",
       "      <td>-0.017408</td>\n",
       "      <td>0.120404</td>\n",
       "      <td>-0.179599</td>\n",
       "      <td>-0.013960</td>\n",
       "      <td>-0.014233</td>\n",
       "      <td>0.253264</td>\n",
       "      <td>0.684288</td>\n",
       "      <td>...</td>\n",
       "      <td>-0.838042</td>\n",
       "      <td>0.241819</td>\n",
       "      <td>0.718420</td>\n",
       "      <td>0.336507</td>\n",
       "      <td>0.936563</td>\n",
       "      <td>0</td>\n",
       "      <td>150</td>\n",
       "      <td>1</td>\n",
       "      <td>900</td>\n",
       "      <td>12</td>\n",
       "    </tr>\n",
       "    <tr>\n",
       "      <th>2</th>\n",
       "      <td>2</td>\n",
       "      <td>0.108323</td>\n",
       "      <td>-0.045941</td>\n",
       "      <td>0.017410</td>\n",
       "      <td>0.010881</td>\n",
       "      <td>0.019035</td>\n",
       "      <td>-0.157225</td>\n",
       "      <td>0.016889</td>\n",
       "      <td>-0.076276</td>\n",
       "      <td>0.149599</td>\n",
       "      <td>...</td>\n",
       "      <td>0.497304</td>\n",
       "      <td>0.732298</td>\n",
       "      <td>0.667477</td>\n",
       "      <td>-0.025386</td>\n",
       "      <td>-0.037093</td>\n",
       "      <td>0</td>\n",
       "      <td>150</td>\n",
       "      <td>1</td>\n",
       "      <td>1050</td>\n",
       "      <td>21</td>\n",
       "    </tr>\n",
       "    <tr>\n",
       "      <th>3</th>\n",
       "      <td>3</td>\n",
       "      <td>-0.370755</td>\n",
       "      <td>-0.495850</td>\n",
       "      <td>0.205895</td>\n",
       "      <td>0.455012</td>\n",
       "      <td>0.113117</td>\n",
       "      <td>-0.327512</td>\n",
       "      <td>0.111760</td>\n",
       "      <td>0.001935</td>\n",
       "      <td>-0.844532</td>\n",
       "      <td>...</td>\n",
       "      <td>0.919908</td>\n",
       "      <td>0.037076</td>\n",
       "      <td>-0.993926</td>\n",
       "      <td>-0.182277</td>\n",
       "      <td>0.317828</td>\n",
       "      <td>0</td>\n",
       "      <td>150</td>\n",
       "      <td>2</td>\n",
       "      <td>150</td>\n",
       "      <td>17</td>\n",
       "    </tr>\n",
       "    <tr>\n",
       "      <th>4</th>\n",
       "      <td>4</td>\n",
       "      <td>-0.005683</td>\n",
       "      <td>0.452370</td>\n",
       "      <td>0.028475</td>\n",
       "      <td>0.402016</td>\n",
       "      <td>0.168378</td>\n",
       "      <td>0.353346</td>\n",
       "      <td>0.182684</td>\n",
       "      <td>0.042545</td>\n",
       "      <td>0.001530</td>\n",
       "      <td>...</td>\n",
       "      <td>-0.060734</td>\n",
       "      <td>0.496173</td>\n",
       "      <td>1.265226</td>\n",
       "      <td>1.502311</td>\n",
       "      <td>0.857408</td>\n",
       "      <td>0</td>\n",
       "      <td>150</td>\n",
       "      <td>11</td>\n",
       "      <td>450</td>\n",
       "      <td>21</td>\n",
       "    </tr>\n",
       "  </tbody>\n",
       "</table>\n",
       "<p>5 rows × 366 columns</p>\n",
       "</div>"
      ],
      "text/plain": [
       "   Unnamed: 0  userAcceleration.x-0  userAcceleration.x-1  \\\n",
       "0           0             -0.101581             -0.221355   \n",
       "1           1             -0.082527              0.201136   \n",
       "2           2              0.108323             -0.045941   \n",
       "3           3             -0.370755             -0.495850   \n",
       "4           4             -0.005683              0.452370   \n",
       "\n",
       "   userAcceleration.x-2  userAcceleration.x-3  userAcceleration.x-4  \\\n",
       "0             -0.234016             -0.264552             -0.200991   \n",
       "1             -0.017408              0.120404             -0.179599   \n",
       "2              0.017410              0.010881              0.019035   \n",
       "3              0.205895              0.455012              0.113117   \n",
       "4              0.028475              0.402016              0.168378   \n",
       "\n",
       "   userAcceleration.x-5  userAcceleration.x-6  userAcceleration.x-7  \\\n",
       "0             -0.208962             -0.308408              0.089943   \n",
       "1             -0.013960             -0.014233              0.253264   \n",
       "2             -0.157225              0.016889             -0.076276   \n",
       "3             -0.327512              0.111760              0.001935   \n",
       "4              0.353346              0.182684              0.042545   \n",
       "\n",
       "   userAcceleration.x-8  ...  rotationRate.z-55  rotationRate.z-56  \\\n",
       "0             -0.382516  ...          -0.099006          -0.171130   \n",
       "1              0.684288  ...          -0.838042           0.241819   \n",
       "2              0.149599  ...           0.497304           0.732298   \n",
       "3             -0.844532  ...           0.919908           0.037076   \n",
       "4              0.001530  ...          -0.060734           0.496173   \n",
       "\n",
       "   rotationRate.z-57  rotationRate.z-58  rotationRate.z-59  activity code  \\\n",
       "0           0.292608           0.932535           0.782147              0   \n",
       "1           0.718420           0.336507           0.936563              0   \n",
       "2           0.667477          -0.025386          -0.037093              0   \n",
       "3          -0.993926          -0.182277           0.317828              0   \n",
       "4           1.265226           1.502311           0.857408              0   \n",
       "\n",
       "   length  trial_code  index  user  \n",
       "0     150           1    150    11  \n",
       "1     150           1    900    12  \n",
       "2     150           1   1050    21  \n",
       "3     150           2    150    17  \n",
       "4     150          11    450    21  \n",
       "\n",
       "[5 rows x 366 columns]"
      ]
     },
     "execution_count": 4,
     "metadata": {},
     "output_type": "execute_result"
    }
   ],
   "source": [
    "train.head()"
   ]
  },
  {
   "cell_type": "markdown",
   "id": "5a58623b-b64f-4fba-9622-e906e7ea87a7",
   "metadata": {},
   "source": [
    "## Creating a Librep dataset from pandas dataframes\n",
    "\n",
    "Change the features to use in other datasets"
   ]
  },
  {
   "cell_type": "code",
   "execution_count": 5,
   "id": "b83aae79-f28a-41a7-a82b-87d45375a947",
   "metadata": {
    "tags": []
   },
   "outputs": [],
   "source": [
    "# MotionSense features to select\n",
    "features = [\n",
    "    \"userAcceleration.x\",\n",
    "    \"userAcceleration.y\",\n",
    "    \"userAcceleration.z\",\n",
    "    \"rotationRate.x\",\n",
    "    \"rotationRate.y\",\n",
    "    \"rotationRate.z\"\n",
    "]\n",
    "\n",
    "# Creating the datasets\n",
    "\n",
    "# Train\n",
    "train_dataset = PandasMultiModalDataset(\n",
    "    pd.concat([train, validation]),\n",
    "    feature_prefixes=features,\n",
    "    label_columns=\"activity code\",\n",
    "    as_array=True\n",
    ")\n",
    "\n",
    "# # Validation\n",
    "# validation_dataset = PandasMultiModalDataset(\n",
    "#     validation,\n",
    "#     feature_prefixes=features,\n",
    "#     label_columns=\"activity code\",\n",
    "#     as_array=True\n",
    "# )\n",
    "\n",
    "# Test\n",
    "test_dataset = PandasMultiModalDataset(\n",
    "    test,\n",
    "    feature_prefixes=features,\n",
    "    label_columns=\"activity code\",\n",
    "    as_array=True\n",
    ")"
   ]
  },
  {
   "cell_type": "markdown",
   "id": "e044f068-d9a0-4ede-a83c-da1d99c97b38",
   "metadata": {},
   "source": [
    "## Fourier Transform"
   ]
  },
  {
   "cell_type": "code",
   "execution_count": 6,
   "id": "3dcdbe38-67ed-4fa0-9fec-003ad5650f7d",
   "metadata": {
    "tags": []
   },
   "outputs": [],
   "source": [
    "from librep.datasets.multimodal import TransformMultiModalDataset\n",
    "from librep.transforms.fft import FFT"
   ]
  },
  {
   "cell_type": "code",
   "execution_count": 7,
   "id": "8ff029d9-ac41-4a29-9170-7d547fac4684",
   "metadata": {
    "tags": []
   },
   "outputs": [],
   "source": [
    "fft_transform = FFT(centered = True)\n",
    "transformer = TransformMultiModalDataset(transforms=[fft_transform], new_window_name_prefix=\"fft.\")"
   ]
  },
  {
   "cell_type": "markdown",
   "id": "14432baa-cec3-4b58-bd91-cb24ac2cba51",
   "metadata": {},
   "source": [
    "### Use FFT in Kuhar"
   ]
  },
  {
   "cell_type": "code",
   "execution_count": 8,
   "id": "80a68329-9f6d-4d44-b2ed-e7ee3f8f752d",
   "metadata": {},
   "outputs": [],
   "source": [
    "from librep.datasets.multimodal.multimodal import ArrayMultiModalDataset\n",
    "from librep.transforms.removeFrequencies import RemoveFrequencies\n",
    "\n",
    "fs_cut = 10\n",
    "train_fft = transformer(train_dataset)\n",
    "test_fft = transformer(test_dataset)\n",
    "\n",
    "num_windows = train_fft.num_windows # It's equal the number of sensors\n",
    "num_per_slices = train_fft.window_slices[0][1] # It's equal the number of features for sensor\n",
    "num_per_frequency = num_per_slices // fs_cut"
   ]
  },
  {
   "cell_type": "markdown",
   "id": "e4387db2-e8c0-4d6c-9534-32266dd829f4",
   "metadata": {},
   "source": [
    "## Train and evaluate Random Forest classifier"
   ]
  },
  {
   "cell_type": "code",
   "execution_count": 9,
   "id": "a4cac18a-20d2-4c42-8805-7d02c4dabba0",
   "metadata": {},
   "outputs": [],
   "source": [
    "from librep.utils.workflow import SimpleTrainEvalWorkflow, MultiRunWorkflow\n",
    "from librep.estimators import RandomForestClassifier\n",
    "from librep.metrics.report import ClassificationReport\n",
    "import yaml\n",
    "\n",
    "reporter = ClassificationReport(use_accuracy=True, use_f1_score=True, use_classification_report=False, use_confusion_matrix=False, plot_confusion_matrix=False)\n",
    "experiment = SimpleTrainEvalWorkflow(estimator=RandomForestClassifier, estimator_creation_kwags ={'n_estimators':1000} , do_not_instantiate=False, do_fit=True, evaluator=reporter)\n",
    "multi_run_experiment = MultiRunWorkflow(workflow=experiment, num_runs=10, debug=False)"
   ]
  },
  {
   "cell_type": "code",
   "execution_count": null,
   "id": "52dec014-fe08-4774-a9d2-fa924b1c9d31",
   "metadata": {},
   "outputs": [
    {
     "name": "stdout",
     "output_type": "stream",
     "text": [
      "Iteração:  0\n",
      "Iteração:  1\n",
      "Iteração:  2\n",
      "Iteração:  3\n",
      "Iteração:  4\n",
      "Iteração:  5\n",
      "Iteração:  6\n",
      "Iteração:  7\n",
      "Iteração:  8\n"
     ]
    }
   ],
   "source": [
    "results_rf = []\n",
    "\n",
    "k = 0\n",
    "while(k < fs_cut):\n",
    "    frequencies_to_remove = [i for i in range(k*num_per_frequency)]\n",
    "\n",
    "    frequencies_transform = RemoveFrequencies(interval=frequencies_to_remove)\n",
    "    transformer = TransformMultiModalDataset(transforms=[frequencies_transform])\n",
    "\n",
    "    train_fft_reduced = transformer(train_fft)\n",
    "    test_fft_reduced = transformer(test_fft)\n",
    "\n",
    "    result = multi_run_experiment(train_fft_reduced, test_fft_reduced)\n",
    "    results_rf.append(result)\n",
    "    print('Iteração: ', k)\n",
    "    k+=1"
   ]
  },
  {
   "cell_type": "markdown",
   "id": "f1d5da25-a1dd-472f-9ed9-a3f456022c31",
   "metadata": {},
   "source": [
    "## Train and evaluate Support Vector Machine classifier"
   ]
  },
  {
   "cell_type": "code",
   "execution_count": null,
   "id": "009a6764-6b45-4d88-a437-b58bbcc7debc",
   "metadata": {},
   "outputs": [],
   "source": [
    "from librep.estimators import SVC\n",
    "\n",
    "experiment = SimpleTrainEvalWorkflow(estimator=SVC, estimator_creation_kwags ={'C':3.0, 'kernel':\"rbf\"} , do_not_instantiate=False, do_fit=True, evaluator=reporter)\n",
    "multi_run_experiment = MultiRunWorkflow(workflow=experiment, num_runs=10, debug=False)\n",
    "\n",
    "results_svc = []\n",
    "\n",
    "k = 0\n",
    "while(k < fs_cut):\n",
    "    frequencies_to_remove = [i for i in range(k)]\n",
    "\n",
    "    frequencies_transform = RemoveFrequencies(interval=frequencies_to_remove)\n",
    "    transformer = TransformMultiModalDataset(transforms=[frequencies_transform], \n",
    "                                             new_window_name_prefix=\"fft.\")\n",
    "\n",
    "    train_fft_reduced = transformer(train_fft)\n",
    "    test_fft_reduced = transformer(test_fft)\n",
    "\n",
    "    result = multi_run_experiment(train_fft_reduced, test_fft_reduced)\n",
    "    results_svc.append(result)\n",
    "    print('Iteração: ', k)\n",
    "    k+=1"
   ]
  },
  {
   "cell_type": "markdown",
   "id": "2cf2bcb7-eb7c-46f5-9542-b873ae14f5af",
   "metadata": {},
   "source": [
    "## Train and evaluate K Neighbors Classifier classifier"
   ]
  },
  {
   "cell_type": "code",
   "execution_count": null,
   "id": "267f4b44-2bc5-40a2-bae2-85ddbd9697c5",
   "metadata": {},
   "outputs": [],
   "source": [
    "from librep.estimators import KNeighborsClassifier\n",
    "\n",
    "experiment = SimpleTrainEvalWorkflow(estimator=KNeighborsClassifier, estimator_creation_kwags ={'n_neighbors' :1} , do_not_instantiate=False, do_fit=True, evaluator=reporter)\n",
    "multi_run_experiment = MultiRunWorkflow(workflow=experiment, num_runs=10, debug=False)\n",
    "\n",
    "results_knn = []\n",
    "k = 0\n",
    "while(k < fs_cut):\n",
    "    frequencies_to_remove = [i for i in range(k*num_per_frequency)]\n",
    "\n",
    "    frequencies_transform = RemoveFrequencies(interval=frequencies_to_remove)\n",
    "    transformer = TransformMultiModalDataset(transforms=[frequencies_transform])\n",
    "\n",
    "    train_fft_reduced = transformer(train_fft)\n",
    "    test_fft_reduced = transformer(test_fft)\n",
    "\n",
    "    result = multi_run_experiment(train_fft_reduced, test_fft_reduced)\n",
    "    results_knn.append(result)\n",
    "    print('Iteração: ', k)\n",
    "    k+=1"
   ]
  },
  {
   "cell_type": "code",
   "execution_count": null,
   "id": "cc250378-64d0-4839-9457-b2db2bdb9294",
   "metadata": {},
   "outputs": [],
   "source": [
    "def chart(classifiers, metric, xlabel, title, fs_cut):\n",
    "    X = np.arange(1, fs_cut+1, 1)\n",
    "    X = ['[{}, {}]'.format(i, fs_cut) for i in range(0, fs_cut)]\n",
    "    for classifier in classifiers:\n",
    "        plt.plot(X, classifiers[classifier][metric], label=classifier) \n",
    "\n",
    "    plt.xlabel(xlabel) \n",
    "    plt.ylabel(metric) \n",
    "    plt.title(title) \n",
    "    plt.xlim(0,fs_cut-1)\n",
    "    plt.legend() \n",
    "    plt.grid()\n",
    "    plt.show()"
   ]
  },
  {
   "cell_type": "code",
   "execution_count": null,
   "id": "9fd9e7f7-df15-4a12-9ab9-e4a65b0e2a64",
   "metadata": {},
   "outputs": [],
   "source": [
    "import matplotlib.pyplot as plt\n",
    "\n",
    "metrics = ['accuracy', 'f1 score (weighted)', 'f1 score (micro)', 'f1 score (macro)']\n",
    "\n",
    "scores_rf = {metric:[] for metric in metrics}\n",
    "scores_rf_average = {metric:[] for metric in metrics}\n",
    "\n",
    "scores_svc = {metric:[] for metric in metrics}\n",
    "scores_svc_average = {metric:[] for metric in metrics}\n",
    "\n",
    "scores_knn = {metric:[] for metric in metrics}\n",
    "scores_knn_average = {metric:[] for metric in metrics}\n",
    "\n",
    "for metric in metrics:\n",
    "    for i in range(fs_cut):\n",
    "            score_rf, score_svc, score_knn = [], [], []\n",
    "            for j in range(10):\n",
    "                value_rf = results_rf[i]['runs'][j]['result'][0][metric]\n",
    "                score_rf.append(100*value_rf)\n",
    "\n",
    "                value_svc = results_svc[i]['runs'][j]['result'][0][metric]\n",
    "                score_svc.append(100*value_svc)\n",
    "\n",
    "                value_knn = results_knn[i]['runs'][j]['result'][0][metric]\n",
    "                score_knn.append(100*value_knn)\n",
    "\n",
    "            scores_rf[metric].append(score_rf)\n",
    "            scores_rf_average[metric].append(np.mean(score_rf))\n",
    "\n",
    "            scores_svc[metric].append(score_svc)\n",
    "            scores_svc_average[metric].append(np.mean(score_svc))\n",
    "\n",
    "            scores_knn[metric].append(score_knn)\n",
    "            scores_knn_average[metric].append(np.mean(score_knn))\n",
    "\n",
    "classifiers = {\n",
    "    'RandomForestClassifier (n_estimators: 1000)' : scores_rf_average,\n",
    "    'SVC (C:3.0, kernel:rbf)' : scores_svc_average,\n",
    "    'KNN (n_neighbors :1)' : scores_knn_average\n",
    "}\n",
    "for metric in metrics:\n",
    "    xlabel = \"Intervalo de frequências\"\n",
    "    # ylabel = metric\n",
    "    title = \"Gráfico de {} sobre o intervalo de frequências \\n Frequências altas - MotionSense {}Hz \\n Acelerômetro e giroscópio\".format(metric, \n",
    "                                                                                                    fs_cut*2)\n",
    "    chart(classifiers, metric, xlabel, title, fs_cut)"
   ]
  },
  {
   "cell_type": "code",
   "execution_count": null,
   "id": "b22366b7-9ff3-4ebf-a718-d8257afed77d",
   "metadata": {},
   "outputs": [],
   "source": [
    "import pickle\n",
    "\n",
    "def inserirArquivo(result, geekyfile):\n",
    "\n",
    "    try: \n",
    "        geeky_file = open(geekyfile, 'wb') \n",
    "        pickle.dump(result, geeky_file) \n",
    "        geeky_file.close() \n",
    "\n",
    "    except: \n",
    "        print(\"Something went wrong\")\n",
    "\n",
    "arq_name = 'MotionSense_20Hz_removing_low_high_frequencies'\n",
    "inserirArquivo(classifiers, arq_name)"
   ]
  },
  {
   "cell_type": "code",
   "execution_count": null,
   "id": "cf48b70e-2378-4cbc-8420-aaa14185dc20",
   "metadata": {},
   "outputs": [],
   "source": []
  }
 ],
 "metadata": {
  "kernelspec": {
   "display_name": "Python 3 (ipykernel)",
   "language": "python",
   "name": "python3"
  },
  "language_info": {
   "codemirror_mode": {
    "name": "ipython",
    "version": 3
   },
   "file_extension": ".py",
   "mimetype": "text/x-python",
   "name": "python",
   "nbconvert_exporter": "python",
   "pygments_lexer": "ipython3",
   "version": "3.8.10"
  }
 },
 "nbformat": 4,
 "nbformat_minor": 5
}
