{
 "cells": [
  {
   "cell_type": "markdown",
   "id": "53d9dc44-8e5e-4246-87e9-5c25726234b0",
   "metadata": {},
   "source": [
    "# Experiments MotionSense resampled to 30Hz\n",
    "\n",
    "This notebook will perform basic experiments on the balanced MotionSense dataset with the following steps:\n",
    "1. Quick load train, test and validation CSV subsets from the balanced MotionSense dataset using `PandasDatasetsIO` helper\n",
    "2. Subclassing the `Dataset` interface using `PandasMultiModalDataset`\n",
    "3. Apply the fourier transform on the dataset\n",
    "4. Train and evaluate SVM, KNN and Random Forest classification models in both time and frequency domains\n",
    "\n",
    "The experiments will evaluate the performance of SVM, KNN and RF models on the balanced MotionSense dataset in both time and frequency domains."
   ]
  },
  {
   "cell_type": "markdown",
   "id": "b9e9fd58-02a1-488b-8eab-064b7fdae874",
   "metadata": {},
   "source": [
    "## Common imports and definitions"
   ]
  },
  {
   "cell_type": "code",
   "execution_count": 11,
   "id": "ec6da551-6b53-4ed0-b382-65b3b9d1181c",
   "metadata": {
    "tags": []
   },
   "outputs": [],
   "source": [
    "from pathlib import Path  # For defining dataset Paths\n",
    "import sys                # For include librep package\n",
    "\n",
    "# This must be done if librep is not installed via pip,\n",
    "# as this directory (examples) is appart from librep package root\n",
    "sys.path.append(\"..\")\n",
    "\n",
    "# Third party imports\n",
    "import pandas as pd\n",
    "import numpy as np\n",
    "\n",
    "# Librep imports\n",
    "from librep.utils.dataset import PandasDatasetsIO          # For quick load train, test and validation CSVs\n",
    "from librep.datasets.multimodal import PandasMultiModalDataset # Wrap CSVs to librep's `Dataset` interface"
   ]
  },
  {
   "cell_type": "markdown",
   "id": "76dc7e5c-c0b5-4e1c-be82-935aebb822f6",
   "metadata": {},
   "source": [
    "## Loading data\n",
    "Change the path to use in other datasets"
   ]
  },
  {
   "cell_type": "code",
   "execution_count": 12,
   "id": "58562d97-10a2-4081-a773-eb34a2da75f4",
   "metadata": {
    "tags": []
   },
   "outputs": [],
   "source": [
    "# Path for MotionSense balanced view resampled to 30Hz with the same activities (and labels numbers)\n",
    "# It is assumed that the directory will contain (train.csv, test.csv and validation.csv)\n",
    "dataset_path = Path(\"../data/views/MotionSense/resampled_view_30Hz\")"
   ]
  },
  {
   "cell_type": "markdown",
   "id": "25ad8212-0cb3-4080-8345-c771ca6eda24",
   "metadata": {},
   "source": [
    "Once paths is defined, we can load the CSV as pandas dataframes"
   ]
  },
  {
   "cell_type": "code",
   "execution_count": 13,
   "id": "00dc7ad4-7931-4985-be40-f29f3ddf0739",
   "metadata": {
    "tags": []
   },
   "outputs": [],
   "source": [
    "# MotionSense dataframes\n",
    "train, validation, test = PandasDatasetsIO(dataset_path).load()"
   ]
  },
  {
   "cell_type": "markdown",
   "id": "9e88a3de-5f0f-4799-b947-e16fab0fd7e2",
   "metadata": {},
   "source": [
    "Letś take a look in the train dataframes"
   ]
  },
  {
   "cell_type": "code",
   "execution_count": 14,
   "id": "6bf01fc5-59c6-4318-8e24-87b2b6e52b6e",
   "metadata": {
    "tags": []
   },
   "outputs": [
    {
     "data": {
      "text/html": [
       "<div>\n",
       "<style scoped>\n",
       "    .dataframe tbody tr th:only-of-type {\n",
       "        vertical-align: middle;\n",
       "    }\n",
       "\n",
       "    .dataframe tbody tr th {\n",
       "        vertical-align: top;\n",
       "    }\n",
       "\n",
       "    .dataframe thead th {\n",
       "        text-align: right;\n",
       "    }\n",
       "</style>\n",
       "<table border=\"1\" class=\"dataframe\">\n",
       "  <thead>\n",
       "    <tr style=\"text-align: right;\">\n",
       "      <th></th>\n",
       "      <th>Unnamed: 0</th>\n",
       "      <th>userAcceleration.x-0</th>\n",
       "      <th>userAcceleration.x-1</th>\n",
       "      <th>userAcceleration.x-2</th>\n",
       "      <th>userAcceleration.x-3</th>\n",
       "      <th>userAcceleration.x-4</th>\n",
       "      <th>userAcceleration.x-5</th>\n",
       "      <th>userAcceleration.x-6</th>\n",
       "      <th>userAcceleration.x-7</th>\n",
       "      <th>userAcceleration.x-8</th>\n",
       "      <th>...</th>\n",
       "      <th>attitude.yaw-85</th>\n",
       "      <th>attitude.yaw-86</th>\n",
       "      <th>attitude.yaw-87</th>\n",
       "      <th>attitude.yaw-88</th>\n",
       "      <th>attitude.yaw-89</th>\n",
       "      <th>activity code</th>\n",
       "      <th>length</th>\n",
       "      <th>trial_code</th>\n",
       "      <th>index</th>\n",
       "      <th>user</th>\n",
       "    </tr>\n",
       "  </thead>\n",
       "  <tbody>\n",
       "    <tr>\n",
       "      <th>0</th>\n",
       "      <td>0</td>\n",
       "      <td>-0.186833</td>\n",
       "      <td>-0.179195</td>\n",
       "      <td>-0.226435</td>\n",
       "      <td>-0.234763</td>\n",
       "      <td>-0.267824</td>\n",
       "      <td>-0.234534</td>\n",
       "      <td>-0.235421</td>\n",
       "      <td>-0.133759</td>\n",
       "      <td>-0.297125</td>\n",
       "      <td>...</td>\n",
       "      <td>2.156109</td>\n",
       "      <td>2.049595</td>\n",
       "      <td>1.995176</td>\n",
       "      <td>1.728849</td>\n",
       "      <td>1.746608</td>\n",
       "      <td>0</td>\n",
       "      <td>150</td>\n",
       "      <td>1</td>\n",
       "      <td>150</td>\n",
       "      <td>11</td>\n",
       "    </tr>\n",
       "    <tr>\n",
       "      <th>1</th>\n",
       "      <td>1</td>\n",
       "      <td>-0.054442</td>\n",
       "      <td>0.260099</td>\n",
       "      <td>0.022933</td>\n",
       "      <td>0.019339</td>\n",
       "      <td>0.148599</td>\n",
       "      <td>-0.036896</td>\n",
       "      <td>-0.125777</td>\n",
       "      <td>-0.110877</td>\n",
       "      <td>0.016260</td>\n",
       "      <td>...</td>\n",
       "      <td>-0.632965</td>\n",
       "      <td>-0.742283</td>\n",
       "      <td>-0.935655</td>\n",
       "      <td>-1.089888</td>\n",
       "      <td>-1.548738</td>\n",
       "      <td>0</td>\n",
       "      <td>150</td>\n",
       "      <td>1</td>\n",
       "      <td>900</td>\n",
       "      <td>12</td>\n",
       "    </tr>\n",
       "    <tr>\n",
       "      <th>2</th>\n",
       "      <td>2</td>\n",
       "      <td>-0.007696</td>\n",
       "      <td>-0.009515</td>\n",
       "      <td>0.051284</td>\n",
       "      <td>-0.082342</td>\n",
       "      <td>0.046316</td>\n",
       "      <td>0.062557</td>\n",
       "      <td>-0.032338</td>\n",
       "      <td>-0.108787</td>\n",
       "      <td>-0.090480</td>\n",
       "      <td>...</td>\n",
       "      <td>0.824134</td>\n",
       "      <td>1.034692</td>\n",
       "      <td>1.392084</td>\n",
       "      <td>1.444181</td>\n",
       "      <td>1.626350</td>\n",
       "      <td>0</td>\n",
       "      <td>150</td>\n",
       "      <td>1</td>\n",
       "      <td>1050</td>\n",
       "      <td>21</td>\n",
       "    </tr>\n",
       "    <tr>\n",
       "      <th>3</th>\n",
       "      <td>3</td>\n",
       "      <td>-0.435023</td>\n",
       "      <td>-0.557701</td>\n",
       "      <td>-0.284523</td>\n",
       "      <td>0.142448</td>\n",
       "      <td>0.545683</td>\n",
       "      <td>0.363495</td>\n",
       "      <td>0.006622</td>\n",
       "      <td>-0.042397</td>\n",
       "      <td>-0.412486</td>\n",
       "      <td>...</td>\n",
       "      <td>-3.207119</td>\n",
       "      <td>-2.682709</td>\n",
       "      <td>-3.187662</td>\n",
       "      <td>-2.674180</td>\n",
       "      <td>-3.534511</td>\n",
       "      <td>0</td>\n",
       "      <td>150</td>\n",
       "      <td>2</td>\n",
       "      <td>150</td>\n",
       "      <td>17</td>\n",
       "    </tr>\n",
       "    <tr>\n",
       "      <th>4</th>\n",
       "      <td>4</td>\n",
       "      <td>0.098066</td>\n",
       "      <td>0.398057</td>\n",
       "      <td>0.321284</td>\n",
       "      <td>-0.024039</td>\n",
       "      <td>0.372623</td>\n",
       "      <td>0.302234</td>\n",
       "      <td>0.199685</td>\n",
       "      <td>0.285311</td>\n",
       "      <td>0.319281</td>\n",
       "      <td>...</td>\n",
       "      <td>-0.294709</td>\n",
       "      <td>-0.208773</td>\n",
       "      <td>-0.335625</td>\n",
       "      <td>-0.209796</td>\n",
       "      <td>-0.416804</td>\n",
       "      <td>0</td>\n",
       "      <td>150</td>\n",
       "      <td>11</td>\n",
       "      <td>450</td>\n",
       "      <td>21</td>\n",
       "    </tr>\n",
       "  </tbody>\n",
       "</table>\n",
       "<p>5 rows × 546 columns</p>\n",
       "</div>"
      ],
      "text/plain": [
       "   Unnamed: 0  userAcceleration.x-0  userAcceleration.x-1  \\\n",
       "0           0             -0.186833             -0.179195   \n",
       "1           1             -0.054442              0.260099   \n",
       "2           2             -0.007696             -0.009515   \n",
       "3           3             -0.435023             -0.557701   \n",
       "4           4              0.098066              0.398057   \n",
       "\n",
       "   userAcceleration.x-2  userAcceleration.x-3  userAcceleration.x-4  \\\n",
       "0             -0.226435             -0.234763             -0.267824   \n",
       "1              0.022933              0.019339              0.148599   \n",
       "2              0.051284             -0.082342              0.046316   \n",
       "3             -0.284523              0.142448              0.545683   \n",
       "4              0.321284             -0.024039              0.372623   \n",
       "\n",
       "   userAcceleration.x-5  userAcceleration.x-6  userAcceleration.x-7  \\\n",
       "0             -0.234534             -0.235421             -0.133759   \n",
       "1             -0.036896             -0.125777             -0.110877   \n",
       "2              0.062557             -0.032338             -0.108787   \n",
       "3              0.363495              0.006622             -0.042397   \n",
       "4              0.302234              0.199685              0.285311   \n",
       "\n",
       "   userAcceleration.x-8  ...  attitude.yaw-85  attitude.yaw-86  \\\n",
       "0             -0.297125  ...         2.156109         2.049595   \n",
       "1              0.016260  ...        -0.632965        -0.742283   \n",
       "2             -0.090480  ...         0.824134         1.034692   \n",
       "3             -0.412486  ...        -3.207119        -2.682709   \n",
       "4              0.319281  ...        -0.294709        -0.208773   \n",
       "\n",
       "   attitude.yaw-87  attitude.yaw-88  attitude.yaw-89  activity code  length  \\\n",
       "0         1.995176         1.728849         1.746608              0     150   \n",
       "1        -0.935655        -1.089888        -1.548738              0     150   \n",
       "2         1.392084         1.444181         1.626350              0     150   \n",
       "3        -3.187662        -2.674180        -3.534511              0     150   \n",
       "4        -0.335625        -0.209796        -0.416804              0     150   \n",
       "\n",
       "   trial_code  index  user  \n",
       "0           1    150    11  \n",
       "1           1    900    12  \n",
       "2           1   1050    21  \n",
       "3           2    150    17  \n",
       "4          11    450    21  \n",
       "\n",
       "[5 rows x 546 columns]"
      ]
     },
     "execution_count": 14,
     "metadata": {},
     "output_type": "execute_result"
    }
   ],
   "source": [
    "train.head()"
   ]
  },
  {
   "cell_type": "markdown",
   "id": "5a58623b-b64f-4fba-9622-e906e7ea87a7",
   "metadata": {},
   "source": [
    "## Creating a Librep dataset from pandas dataframes\n",
    "\n",
    "Change the features to use in other datasets"
   ]
  },
  {
   "cell_type": "code",
   "execution_count": 15,
   "id": "b83aae79-f28a-41a7-a82b-87d45375a947",
   "metadata": {
    "tags": []
   },
   "outputs": [],
   "source": [
    "# MotionSense features to select\n",
    "features = [\n",
    "    \"userAcceleration.x\",\n",
    "    \"userAcceleration.y\",\n",
    "    \"userAcceleration.z\",\n",
    "    \"rotationRate.x\",\n",
    "    \"rotationRate.y\",\n",
    "    \"rotationRate.z\"\n",
    "]\n",
    "\n",
    "# Creating the datasets\n",
    "\n",
    "# Train\n",
    "train_dataset = PandasMultiModalDataset(\n",
    "    train,\n",
    "    feature_prefixes=features,\n",
    "    label_columns=\"activity code\",\n",
    "    as_array=True\n",
    ")\n",
    "\n",
    "# Validation\n",
    "validation_dataset = PandasMultiModalDataset(\n",
    "    validation,\n",
    "    feature_prefixes=features,\n",
    "    label_columns=\"activity code\",\n",
    "    as_array=True\n",
    ")\n",
    "\n",
    "# Test\n",
    "test_dataset = PandasMultiModalDataset(\n",
    "    test,\n",
    "    feature_prefixes=features,\n",
    "    label_columns=\"activity code\",\n",
    "    as_array=True\n",
    ")"
   ]
  },
  {
   "cell_type": "markdown",
   "id": "4e1a6ac9-c31d-48b4-8cb4-bb10e7a4b659",
   "metadata": {},
   "source": [
    "## Inspect sample"
   ]
  },
  {
   "cell_type": "code",
   "execution_count": 6,
   "id": "424755b0-8954-4b4f-b9d1-616ccdff7f08",
   "metadata": {
    "tags": []
   },
   "outputs": [
    {
     "name": "stdout",
     "output_type": "stream",
     "text": [
      "(array([-0.18683339, -0.17919536, -0.22643513, -0.23476344, -0.26782356,\n",
      "       -0.23453445, -0.2354211 , -0.1337593 , -0.29712457, -0.31929832,\n",
      "        0.00895068,  0.04136671, -0.44593038, -0.22804557,  0.05055849,\n",
      "        0.18823314, -0.030559  , -0.07449108,  0.03599696, -0.05251227,\n",
      "       -0.12043554, -0.29996206, -0.45056719,  0.14682301,  0.01642679,\n",
      "        0.10086693,  0.15613708, -0.09381404, -0.27903132, -0.27132581,\n",
      "       -0.19943854, -0.32235544, -0.28174771, -0.18833807, -0.17593017,\n",
      "       -0.25836724, -0.41380716, -0.6389691 , -0.06662236,  0.61091861,\n",
      "        0.12311657,  0.07509425,  0.13265687,  0.13606525, -0.0760303 ,\n",
      "       -0.19980975,  0.00869801,  0.35475446, -0.23697373, -0.36777466,\n",
      "       -0.24567402,  0.15071201,  0.14458744, -0.10843151, -0.0182671 ,\n",
      "       -0.08241991, -0.03545809, -0.27308637, -0.31968743, -0.17252916,\n",
      "        0.28114138,  0.32462763, -0.05580723,  0.13851364,  0.1309981 ,\n",
      "       -0.13054706, -0.35103624, -0.20315897,  0.23055327,  0.14958711,\n",
      "       -0.21868229, -0.17026508, -0.43630976, -0.14759122, -0.10772603,\n",
      "        0.00561347, -0.03636226, -0.17544141, -0.47363754, -0.32509977,\n",
      "        0.07996614,  0.35842729, -0.19057757,  0.01621167,  0.38365743,\n",
      "        0.01499854, -0.38925399, -0.21740173,  0.19728185,  0.3264873 ,\n",
      "       -0.03958829,  0.00625524, -0.02345414,  0.1424666 ,  0.08277361,\n",
      "        0.11835372,  0.12505122,  0.31998942,  0.62845749,  0.58052547,\n",
      "        0.16643296, -0.02121139,  0.09283378,  0.68260763,  0.39408191,\n",
      "       -0.23534057, -0.41775615, -0.33307573, -0.40598526, -0.15627155,\n",
      "        0.25699569,  0.25121215, -0.18902419,  0.64614035, -0.00737563,\n",
      "       -0.32634006,  0.56996836,  0.06386431,  0.07904579, -0.02315239,\n",
      "       -0.180017  , -0.2643672 , -0.09949635, -0.06501337, -0.37338781,\n",
      "       -0.30271996,  0.27166965,  0.70022092,  0.52024929, -0.04690575,\n",
      "       -0.17532688,  0.33898905, -0.00492716, -0.50572863, -0.59150239,\n",
      "       -0.60715695,  0.00414121,  0.27813117, -0.1168283 ,  0.13898978,\n",
      "        0.4085488 ,  1.03615218,  0.20868774, -0.39552013,  0.24048832,\n",
      "        0.24269889,  0.00415717, -0.38612525, -0.00595862,  0.07159603,\n",
      "        0.25136562, -0.23282786,  0.0029613 ,  0.21457927, -0.22534132,\n",
      "       -0.37476879, -0.47500486,  0.08453232,  0.07083636,  0.01768825,\n",
      "       -0.05762698, -0.10462999,  0.15683118,  0.58223875, -0.3539641 ,\n",
      "       -0.98189058,  0.44668313, -0.05921513,  0.00409523, -0.03057458,\n",
      "        0.00345442, -0.19793244, -0.49411566,  0.02539484,  0.36672262,\n",
      "       -0.09076398, -0.44939913, -0.33801663,  0.55792572,  0.0693192 ,\n",
      "        0.01288246,  0.09206505,  0.13570778,  0.0455731 ,  0.12144845,\n",
      "       -0.13696095, -0.00249792,  0.15068883,  0.05986468,  0.05298602,\n",
      "        0.17576661, -0.39627978, -0.31512159, -0.30723633, -0.33634774,\n",
      "       -0.36279768, -0.29376946, -0.341164  , -0.27712551,  0.07019755,\n",
      "        0.43214311,  0.36868857,  0.15767187, -0.878412  , -0.45487324,\n",
      "       -0.26191896, -0.29491496,  0.23373917, -0.19707499,  0.06254945,\n",
      "       -0.05010415,  0.24156012,  0.08787894,  0.10805345,  0.0843197 ,\n",
      "       -0.02468393,  0.03153326, -0.13914313, -0.13621259, -0.25994374,\n",
      "        0.00993962, -0.20133725, -0.24970224, -0.0926674 ,  0.092655  ,\n",
      "       -0.01689136, -0.247979  , -0.02267041,  0.14081157,  0.51178947,\n",
      "        0.02556089,  0.44013123, -0.21507461, -0.25502017,  0.12507229,\n",
      "        0.35062933,  0.33989921,  0.05649702, -0.01678517, -0.09756738,\n",
      "       -0.29845258, -0.13058052,  0.05732318, -0.2190366 , -0.11459417,\n",
      "        0.09846514,  0.25639015, -0.06586787, -0.31720164,  0.4502544 ,\n",
      "        0.19378004, -0.25634653, -0.14130525, -0.15489794, -0.30868314,\n",
      "       -0.02900111,  0.33625932,  0.07814246,  0.07570005, -0.05575403,\n",
      "       -0.20767947, -0.47376618, -0.05121231, -0.0254601 , -0.05318966,\n",
      "       -0.03290904,  0.40783031, -0.07737708, -0.40636184,  0.11231926]), 0)\n"
     ]
    }
   ],
   "source": [
    "# Lets print the first sample of kh_train dataset.\n",
    "# Is a tuple, with an vector of 1800 elements as first element and the label as second\n",
    "x = train_dataset[0]\n",
    "print(x)"
   ]
  },
  {
   "cell_type": "code",
   "execution_count": 7,
   "id": "e5ed5b71-6cdb-4c3f-9e08-d2e21a26520e",
   "metadata": {
    "tags": []
   },
   "outputs": [
    {
     "name": "stdout",
     "output_type": "stream",
     "text": [
      "The sample 0: [-0.18683339 -0.17919536 -0.22643513 -0.23476344 -0.26782356 -0.23453445\n",
      " -0.2354211  -0.1337593  -0.29712457 -0.31929832  0.00895068  0.04136671\n",
      " -0.44593038 -0.22804557  0.05055849  0.18823314 -0.030559   -0.07449108\n",
      "  0.03599696 -0.05251227 -0.12043554 -0.29996206 -0.45056719  0.14682301\n",
      "  0.01642679  0.10086693  0.15613708 -0.09381404 -0.27903132 -0.27132581\n",
      " -0.19943854 -0.32235544 -0.28174771 -0.18833807 -0.17593017 -0.25836724\n",
      " -0.41380716 -0.6389691  -0.06662236  0.61091861  0.12311657  0.07509425\n",
      "  0.13265687  0.13606525 -0.0760303  -0.19980975  0.00869801  0.35475446\n",
      " -0.23697373 -0.36777466 -0.24567402  0.15071201  0.14458744 -0.10843151\n",
      " -0.0182671  -0.08241991 -0.03545809 -0.27308637 -0.31968743 -0.17252916\n",
      "  0.28114138  0.32462763 -0.05580723  0.13851364  0.1309981  -0.13054706\n",
      " -0.35103624 -0.20315897  0.23055327  0.14958711 -0.21868229 -0.17026508\n",
      " -0.43630976 -0.14759122 -0.10772603  0.00561347 -0.03636226 -0.17544141\n",
      " -0.47363754 -0.32509977  0.07996614  0.35842729 -0.19057757  0.01621167\n",
      "  0.38365743  0.01499854 -0.38925399 -0.21740173  0.19728185  0.3264873\n",
      " -0.03958829  0.00625524 -0.02345414  0.1424666   0.08277361  0.11835372\n",
      "  0.12505122  0.31998942  0.62845749  0.58052547  0.16643296 -0.02121139\n",
      "  0.09283378  0.68260763  0.39408191 -0.23534057 -0.41775615 -0.33307573\n",
      " -0.40598526 -0.15627155  0.25699569  0.25121215 -0.18902419  0.64614035\n",
      " -0.00737563 -0.32634006  0.56996836  0.06386431  0.07904579 -0.02315239\n",
      " -0.180017   -0.2643672  -0.09949635 -0.06501337 -0.37338781 -0.30271996\n",
      "  0.27166965  0.70022092  0.52024929 -0.04690575 -0.17532688  0.33898905\n",
      " -0.00492716 -0.50572863 -0.59150239 -0.60715695  0.00414121  0.27813117\n",
      " -0.1168283   0.13898978  0.4085488   1.03615218  0.20868774 -0.39552013\n",
      "  0.24048832  0.24269889  0.00415717 -0.38612525 -0.00595862  0.07159603\n",
      "  0.25136562 -0.23282786  0.0029613   0.21457927 -0.22534132 -0.37476879\n",
      " -0.47500486  0.08453232  0.07083636  0.01768825 -0.05762698 -0.10462999\n",
      "  0.15683118  0.58223875 -0.3539641  -0.98189058  0.44668313 -0.05921513\n",
      "  0.00409523 -0.03057458  0.00345442 -0.19793244 -0.49411566  0.02539484\n",
      "  0.36672262 -0.09076398 -0.44939913 -0.33801663  0.55792572  0.0693192\n",
      "  0.01288246  0.09206505  0.13570778  0.0455731   0.12144845 -0.13696095\n",
      " -0.00249792  0.15068883  0.05986468  0.05298602  0.17576661 -0.39627978\n",
      " -0.31512159 -0.30723633 -0.33634774 -0.36279768 -0.29376946 -0.341164\n",
      " -0.27712551  0.07019755  0.43214311  0.36868857  0.15767187 -0.878412\n",
      " -0.45487324 -0.26191896 -0.29491496  0.23373917 -0.19707499  0.06254945\n",
      " -0.05010415  0.24156012  0.08787894  0.10805345  0.0843197  -0.02468393\n",
      "  0.03153326 -0.13914313 -0.13621259 -0.25994374  0.00993962 -0.20133725\n",
      " -0.24970224 -0.0926674   0.092655   -0.01689136 -0.247979   -0.02267041\n",
      "  0.14081157  0.51178947  0.02556089  0.44013123 -0.21507461 -0.25502017\n",
      "  0.12507229  0.35062933  0.33989921  0.05649702 -0.01678517 -0.09756738\n",
      " -0.29845258 -0.13058052  0.05732318 -0.2190366  -0.11459417  0.09846514\n",
      "  0.25639015 -0.06586787 -0.31720164  0.4502544   0.19378004 -0.25634653\n",
      " -0.14130525 -0.15489794 -0.30868314 -0.02900111  0.33625932  0.07814246\n",
      "  0.07570005 -0.05575403 -0.20767947 -0.47376618 -0.05121231 -0.0254601\n",
      " -0.05318966 -0.03290904  0.40783031 -0.07737708 -0.40636184  0.11231926]\n",
      "Shape of sample 0: (270,)\n",
      "The label of sample 0: 0\n"
     ]
    }
   ],
   "source": [
    "# Inspecting sample\n",
    "print(f\"The sample 0: {x[0]}\")\n",
    "print(f\"Shape of sample 0: {x[0].shape}\")\n",
    "print(f\"The label of sample 0: {x[0]}\")"
   ]
  },
  {
   "cell_type": "markdown",
   "id": "e044f068-d9a0-4ede-a83c-da1d99c97b38",
   "metadata": {},
   "source": [
    "## Fourier Transform"
   ]
  },
  {
   "cell_type": "code",
   "execution_count": 8,
   "id": "3dcdbe38-67ed-4fa0-9fec-003ad5650f7d",
   "metadata": {
    "tags": []
   },
   "outputs": [],
   "source": [
    "from librep.datasets.multimodal import TransformMultiModalDataset\n",
    "from librep.transforms.fft import FFT"
   ]
  },
  {
   "cell_type": "code",
   "execution_count": 9,
   "id": "8ff029d9-ac41-4a29-9170-7d547fac4684",
   "metadata": {
    "tags": []
   },
   "outputs": [],
   "source": [
    "fft_transform = FFT(centered = True)\n",
    "transformer = TransformMultiModalDataset(transforms=[fft_transform], new_window_name_prefix=\"fft.\")"
   ]
  },
  {
   "cell_type": "markdown",
   "id": "14432baa-cec3-4b58-bd91-cb24ac2cba51",
   "metadata": {},
   "source": [
    "### Use FFT in MotionSense"
   ]
  },
  {
   "cell_type": "code",
   "execution_count": 10,
   "id": "b3f13126-ca3c-416b-ac68-5d40e46050c3",
   "metadata": {
    "tags": []
   },
   "outputs": [
    {
     "ename": "ValueError",
     "evalue": "invalid number of data points (0) specified",
     "output_type": "error",
     "traceback": [
      "\u001b[0;31m---------------------------------------------------------------------------\u001b[0m",
      "\u001b[0;31mValueError\u001b[0m                                Traceback (most recent call last)",
      "Input \u001b[0;32mIn [10]\u001b[0m, in \u001b[0;36m<cell line: 1>\u001b[0;34m()\u001b[0m\n\u001b[0;32m----> 1\u001b[0m train_dataset_fft \u001b[38;5;241m=\u001b[39m \u001b[43mtransformer\u001b[49m\u001b[43m(\u001b[49m\u001b[43mtrain_dataset\u001b[49m\u001b[43m)\u001b[49m\n\u001b[1;32m      2\u001b[0m validation_dataset_fft \u001b[38;5;241m=\u001b[39m transformer(validation_dataset)\n\u001b[1;32m      3\u001b[0m test_dataset_fft \u001b[38;5;241m=\u001b[39m transformer(test_dataset)\n",
      "File \u001b[0;32m~/librep-hiaac/experiments/../librep/datasets/multimodal/transformer.py:52\u001b[0m, in \u001b[0;36mTransformMultiModalDataset.__call__\u001b[0;34m(self, dataset)\u001b[0m\n\u001b[1;32m     50\u001b[0m X \u001b[38;5;241m=\u001b[39m new_dataset[:][\u001b[38;5;241m0\u001b[39m]\n\u001b[1;32m     51\u001b[0m y \u001b[38;5;241m=\u001b[39m new_dataset[:][\u001b[38;5;241m1\u001b[39m]\n\u001b[0;32m---> 52\u001b[0m new_X \u001b[38;5;241m=\u001b[39m \u001b[38;5;28;43mself\u001b[39;49m\u001b[38;5;241;43m.\u001b[39;49m\u001b[43m__transform_sample\u001b[49m\u001b[43m(\u001b[49m\n\u001b[1;32m     53\u001b[0m \u001b[43m    \u001b[49m\u001b[43mtransform\u001b[49m\u001b[38;5;241;43m=\u001b[39;49m\u001b[43mtransform\u001b[49m\u001b[43m,\u001b[49m\n\u001b[1;32m     54\u001b[0m \u001b[43m    \u001b[49m\u001b[43mX\u001b[49m\u001b[38;5;241;43m=\u001b[39;49m\u001b[43mX\u001b[49m\u001b[43m,\u001b[49m\n\u001b[1;32m     55\u001b[0m \u001b[43m    \u001b[49m\u001b[43my\u001b[49m\u001b[38;5;241;43m=\u001b[39;49m\u001b[43my\u001b[49m\u001b[43m,\u001b[49m\n\u001b[1;32m     56\u001b[0m \u001b[43m    \u001b[49m\u001b[43mslices\u001b[49m\u001b[38;5;241;43m=\u001b[39;49m\u001b[43mnew_dataset\u001b[49m\u001b[38;5;241;43m.\u001b[39;49m\u001b[43mwindow_slices\u001b[49m\u001b[43m,\u001b[49m\n\u001b[1;32m     57\u001b[0m \u001b[43m\u001b[49m\u001b[43m)\u001b[49m\n\u001b[1;32m     58\u001b[0m new_y \u001b[38;5;241m=\u001b[39m y\n\u001b[1;32m     60\u001b[0m \u001b[38;5;66;03m# Calculate new slices\u001b[39;00m\n",
      "File \u001b[0;32m~/librep-hiaac/experiments/../librep/datasets/multimodal/transformer.py:42\u001b[0m, in \u001b[0;36mTransformMultiModalDataset.__transform_sample\u001b[0;34m(self, transform, X, y, slices)\u001b[0m\n\u001b[1;32m     35\u001b[0m \u001b[38;5;28;01mdef\u001b[39;00m \u001b[38;5;21m__transform_sample\u001b[39m(\n\u001b[1;32m     36\u001b[0m     \u001b[38;5;28mself\u001b[39m,\n\u001b[1;32m     37\u001b[0m     transform: Transform,\n\u001b[0;32m   (...)\u001b[0m\n\u001b[1;32m     40\u001b[0m     slices: List[Tuple[\u001b[38;5;28mint\u001b[39m, \u001b[38;5;28mint\u001b[39m]],\n\u001b[1;32m     41\u001b[0m ):\n\u001b[0;32m---> 42\u001b[0m     \u001b[38;5;28;01mreturn\u001b[39;00m [\n\u001b[1;32m     43\u001b[0m         transform\u001b[38;5;241m.\u001b[39mfit_transform(X[\u001b[38;5;241m.\u001b[39m\u001b[38;5;241m.\u001b[39m\u001b[38;5;241m.\u001b[39m, start:end], y)\n\u001b[1;32m     44\u001b[0m         \u001b[38;5;28;01mfor\u001b[39;00m start, end \u001b[38;5;129;01min\u001b[39;00m slices\n\u001b[1;32m     45\u001b[0m     ]\n",
      "File \u001b[0;32m~/librep-hiaac/experiments/../librep/datasets/multimodal/transformer.py:43\u001b[0m, in \u001b[0;36m<listcomp>\u001b[0;34m(.0)\u001b[0m\n\u001b[1;32m     35\u001b[0m \u001b[38;5;28;01mdef\u001b[39;00m \u001b[38;5;21m__transform_sample\u001b[39m(\n\u001b[1;32m     36\u001b[0m     \u001b[38;5;28mself\u001b[39m,\n\u001b[1;32m     37\u001b[0m     transform: Transform,\n\u001b[0;32m   (...)\u001b[0m\n\u001b[1;32m     40\u001b[0m     slices: List[Tuple[\u001b[38;5;28mint\u001b[39m, \u001b[38;5;28mint\u001b[39m]],\n\u001b[1;32m     41\u001b[0m ):\n\u001b[1;32m     42\u001b[0m     \u001b[38;5;28;01mreturn\u001b[39;00m [\n\u001b[0;32m---> 43\u001b[0m         \u001b[43mtransform\u001b[49m\u001b[38;5;241;43m.\u001b[39;49m\u001b[43mfit_transform\u001b[49m\u001b[43m(\u001b[49m\u001b[43mX\u001b[49m\u001b[43m[\u001b[49m\u001b[38;5;241;43m.\u001b[39;49m\u001b[38;5;241;43m.\u001b[39;49m\u001b[38;5;241;43m.\u001b[39;49m\u001b[43m,\u001b[49m\u001b[43m \u001b[49m\u001b[43mstart\u001b[49m\u001b[43m:\u001b[49m\u001b[43mend\u001b[49m\u001b[43m]\u001b[49m\u001b[43m,\u001b[49m\u001b[43m \u001b[49m\u001b[43my\u001b[49m\u001b[43m)\u001b[49m\n\u001b[1;32m     44\u001b[0m         \u001b[38;5;28;01mfor\u001b[39;00m start, end \u001b[38;5;129;01min\u001b[39;00m slices\n\u001b[1;32m     45\u001b[0m     ]\n",
      "File \u001b[0;32m~/librep-hiaac/experiments/../librep/base/transform.py:54\u001b[0m, in \u001b[0;36mTransform.fit_transform\u001b[0;34m(self, X, y, **fit_params)\u001b[0m\n\u001b[1;32m     52\u001b[0m \u001b[38;5;28;01mdef\u001b[39;00m \u001b[38;5;21mfit_transform\u001b[39m(\u001b[38;5;28mself\u001b[39m, X: ArrayLike, y: ArrayLike \u001b[38;5;241m=\u001b[39m \u001b[38;5;28;01mNone\u001b[39;00m, \u001b[38;5;241m*\u001b[39m\u001b[38;5;241m*\u001b[39mfit_params):\n\u001b[1;32m     53\u001b[0m     \u001b[38;5;28mself\u001b[39m\u001b[38;5;241m.\u001b[39mfit(X, y, \u001b[38;5;241m*\u001b[39m\u001b[38;5;241m*\u001b[39mfit_params)\n\u001b[0;32m---> 54\u001b[0m     \u001b[38;5;28;01mreturn\u001b[39;00m \u001b[38;5;28;43mself\u001b[39;49m\u001b[38;5;241;43m.\u001b[39;49m\u001b[43mtransform\u001b[49m\u001b[43m(\u001b[49m\u001b[43mX\u001b[49m\u001b[43m)\u001b[49m\n",
      "File \u001b[0;32m~/librep-hiaac/experiments/../librep/transforms/fft.py:68\u001b[0m, in \u001b[0;36mFFT.transform\u001b[0;34m(self, X)\u001b[0m\n\u001b[1;32m     66\u001b[0m datas \u001b[38;5;241m=\u001b[39m []\n\u001b[1;32m     67\u001b[0m \u001b[38;5;28;01mfor\u001b[39;00m data \u001b[38;5;129;01min\u001b[39;00m X:\n\u001b[0;32m---> 68\u001b[0m     data \u001b[38;5;241m=\u001b[39m \u001b[43mfftpack\u001b[49m\u001b[38;5;241;43m.\u001b[39;49m\u001b[43mfft\u001b[49m\u001b[43m(\u001b[49m\u001b[43mdata\u001b[49m\u001b[43m)\u001b[49m\n\u001b[1;32m     69\u001b[0m     \u001b[38;5;28;01mif\u001b[39;00m \u001b[38;5;28mself\u001b[39m\u001b[38;5;241m.\u001b[39mabsolute:\n\u001b[1;32m     70\u001b[0m         data \u001b[38;5;241m=\u001b[39m np\u001b[38;5;241m.\u001b[39mabs(data)\n",
      "File \u001b[0;32m/usr/local/lib/python3.8/dist-packages/scipy/fftpack/_basic.py:87\u001b[0m, in \u001b[0;36mfft\u001b[0;34m(x, n, axis, overwrite_x)\u001b[0m\n\u001b[1;32m     12\u001b[0m \u001b[38;5;28;01mdef\u001b[39;00m \u001b[38;5;21mfft\u001b[39m(x, n\u001b[38;5;241m=\u001b[39m\u001b[38;5;28;01mNone\u001b[39;00m, axis\u001b[38;5;241m=\u001b[39m\u001b[38;5;241m-\u001b[39m\u001b[38;5;241m1\u001b[39m, overwrite_x\u001b[38;5;241m=\u001b[39m\u001b[38;5;28;01mFalse\u001b[39;00m):\n\u001b[1;32m     13\u001b[0m     \u001b[38;5;124;03m\"\"\"\u001b[39;00m\n\u001b[1;32m     14\u001b[0m \u001b[38;5;124;03m    Return discrete Fourier transform of real or complex sequence.\u001b[39;00m\n\u001b[1;32m     15\u001b[0m \n\u001b[0;32m   (...)\u001b[0m\n\u001b[1;32m     85\u001b[0m \n\u001b[1;32m     86\u001b[0m \u001b[38;5;124;03m    \"\"\"\u001b[39;00m\n\u001b[0;32m---> 87\u001b[0m     \u001b[38;5;28;01mreturn\u001b[39;00m \u001b[43m_pocketfft\u001b[49m\u001b[38;5;241;43m.\u001b[39;49m\u001b[43mfft\u001b[49m\u001b[43m(\u001b[49m\u001b[43mx\u001b[49m\u001b[43m,\u001b[49m\u001b[43m \u001b[49m\u001b[43mn\u001b[49m\u001b[43m,\u001b[49m\u001b[43m \u001b[49m\u001b[43maxis\u001b[49m\u001b[43m,\u001b[49m\u001b[43m \u001b[49m\u001b[38;5;28;43;01mNone\u001b[39;49;00m\u001b[43m,\u001b[49m\u001b[43m \u001b[49m\u001b[43moverwrite_x\u001b[49m\u001b[43m)\u001b[49m\n",
      "File \u001b[0;32m/usr/local/lib/python3.8/dist-packages/scipy/fft/_pocketfft/basic.py:26\u001b[0m, in \u001b[0;36mc2c\u001b[0;34m(forward, x, n, axis, norm, overwrite_x, workers, plan)\u001b[0m\n\u001b[1;32m     24\u001b[0m     overwrite_x \u001b[38;5;241m=\u001b[39m overwrite_x \u001b[38;5;129;01mor\u001b[39;00m copied\n\u001b[1;32m     25\u001b[0m \u001b[38;5;28;01melif\u001b[39;00m tmp\u001b[38;5;241m.\u001b[39mshape[axis] \u001b[38;5;241m<\u001b[39m \u001b[38;5;241m1\u001b[39m:\n\u001b[0;32m---> 26\u001b[0m     \u001b[38;5;28;01mraise\u001b[39;00m \u001b[38;5;167;01mValueError\u001b[39;00m(\u001b[38;5;124m\"\u001b[39m\u001b[38;5;124minvalid number of data points (\u001b[39m\u001b[38;5;132;01m{0}\u001b[39;00m\u001b[38;5;124m) specified\u001b[39m\u001b[38;5;124m\"\u001b[39m\n\u001b[1;32m     27\u001b[0m                      \u001b[38;5;241m.\u001b[39mformat(tmp\u001b[38;5;241m.\u001b[39mshape[axis]))\n\u001b[1;32m     29\u001b[0m out \u001b[38;5;241m=\u001b[39m (tmp \u001b[38;5;28;01mif\u001b[39;00m overwrite_x \u001b[38;5;129;01mand\u001b[39;00m tmp\u001b[38;5;241m.\u001b[39mdtype\u001b[38;5;241m.\u001b[39mkind \u001b[38;5;241m==\u001b[39m \u001b[38;5;124m'\u001b[39m\u001b[38;5;124mc\u001b[39m\u001b[38;5;124m'\u001b[39m \u001b[38;5;28;01melse\u001b[39;00m \u001b[38;5;28;01mNone\u001b[39;00m)\n\u001b[1;32m     31\u001b[0m \u001b[38;5;28;01mreturn\u001b[39;00m pfft\u001b[38;5;241m.\u001b[39mc2c(tmp, (axis,), forward, norm, out, workers)\n",
      "\u001b[0;31mValueError\u001b[0m: invalid number of data points (0) specified"
     ]
    }
   ],
   "source": [
    "train_dataset_fft = transformer(train_dataset)\n",
    "validation_dataset_fft = transformer(validation_dataset)\n",
    "test_dataset_fft = transformer(test_dataset)"
   ]
  },
  {
   "cell_type": "code",
   "execution_count": null,
   "id": "e06eb8db-9ee0-400c-8d31-13495c9a567b",
   "metadata": {
    "tags": []
   },
   "outputs": [],
   "source": [
    "train_dataset[:][0]"
   ]
  },
  {
   "cell_type": "code",
   "execution_count": 12,
   "id": "17b3fd29-8045-47d8-b6df-096c93cce0e3",
   "metadata": {},
   "outputs": [
    {
     "data": {
      "text/plain": [
       "array([[ 0.4051    ,  1.02004708,  1.07645137, ...,  0.81610676,\n",
       "         1.46963384,  0.38973439],\n",
       "       [12.27775   ,  4.13506303,  2.19762137, ...,  2.24368189,\n",
       "         3.28249292,  0.97427267],\n",
       "       [ 9.830147  ,  4.4287738 ,  5.70037324, ...,  0.62088193,\n",
       "         0.92075927,  0.48567778],\n",
       "       ...,\n",
       "       [ 1.303547  ,  4.4969612 ,  3.74262557, ...,  3.49895555,\n",
       "         0.98426705,  7.3453344 ],\n",
       "       [ 2.758783  ,  2.02576464,  0.89622788, ...,  3.34989765,\n",
       "         2.32798646,  1.80279953],\n",
       "       [ 9.720902  ,  1.55661245,  3.92530048, ...,  5.51747107,\n",
       "         1.05656395,  2.57233132]])"
      ]
     },
     "execution_count": 12,
     "metadata": {},
     "output_type": "execute_result"
    }
   ],
   "source": [
    "train_dataset_fft[:][0]"
   ]
  },
  {
   "cell_type": "markdown",
   "id": "e4387db2-e8c0-4d6c-9534-32266dd829f4",
   "metadata": {},
   "source": [
    "## Train and evaluate Random Forest classifier"
   ]
  },
  {
   "cell_type": "code",
   "execution_count": 13,
   "id": "a4cac18a-20d2-4c42-8805-7d02c4dabba0",
   "metadata": {},
   "outputs": [],
   "source": [
    "from librep.utils.workflow import SimpleTrainEvalWorkflow, MultiRunWorkflow\n",
    "from librep.estimators import RandomForestClassifier\n",
    "from librep.metrics.report import ClassificationReport\n",
    "import yaml\n",
    "\n",
    "reporter = ClassificationReport(use_accuracy=True, use_f1_score=True, use_classification_report=False, use_confusion_matrix=False, plot_confusion_matrix=False)\n",
    "experiment = SimpleTrainEvalWorkflow(estimator=RandomForestClassifier, estimator_creation_kwags ={'n_estimators':100} , do_not_instantiate=False, do_fit=True, evaluator=reporter)\n",
    "multi_run_experiment = MultiRunWorkflow(workflow=experiment, num_runs=3, debug=False)"
   ]
  },
  {
   "cell_type": "code",
   "execution_count": 14,
   "id": "c80ec130-2533-4e34-9c9c-deda4a50eb0b",
   "metadata": {},
   "outputs": [
    {
     "name": "stdout",
     "output_type": "stream",
     "text": [
      "runs:\n",
      "-   end: 1662058691.958451\n",
      "    result:\n",
      "    -   accuracy: 0.8274161735700197\n",
      "        f1 score (macro): 0.8265047544211411\n",
      "        f1 score (micro): 0.8274161735700197\n",
      "        f1 score (weighted): 0.8283275927188983\n",
      "    run id: 1\n",
      "    start: 1662058685.637917\n",
      "    time taken: 6.320533990859985\n",
      "-   end: 1662058698.2649539\n",
      "    result:\n",
      "    -   accuracy: 0.814595660749507\n",
      "        f1 score (macro): 0.8132132157540464\n",
      "        f1 score (micro): 0.814595660749507\n",
      "        f1 score (weighted): 0.8159781057449675\n",
      "    run id: 2\n",
      "    start: 1662058691.9584527\n",
      "    time taken: 6.306501150131226\n",
      "-   end: 1662058704.5732756\n",
      "    result:\n",
      "    -   accuracy: 0.8185404339250493\n",
      "        f1 score (macro): 0.816785371802641\n",
      "        f1 score (micro): 0.8185404339250493\n",
      "        f1 score (weighted): 0.8202954960474576\n",
      "    run id: 3\n",
      "    start: 1662058698.2649558\n",
      "    time taken: 6.308319807052612\n",
      "\n"
     ]
    }
   ],
   "source": [
    "combined_train_dset = PandasMultiModalDataset(\n",
    "    pd.concat([train, validation]),\n",
    "    feature_prefixes=features,\n",
    "    label_columns=\"activity code\",\n",
    "    as_array=True\n",
    ")\n",
    "\n",
    "\n",
    "result = multi_run_experiment(combined_train_dset, test_dataset)\n",
    "print(yaml.dump(result, sort_keys=True, indent=4))"
   ]
  },
  {
   "cell_type": "code",
   "execution_count": 15,
   "id": "8144d32a-0f46-4019-a8b8-94f925102dab",
   "metadata": {},
   "outputs": [
    {
     "name": "stdout",
     "output_type": "stream",
     "text": [
      "runs:\n",
      "-   end: 1662058709.0840907\n",
      "    result:\n",
      "    -   accuracy: 0.8224852071005917\n",
      "        f1 score (macro): 0.8249361596193524\n",
      "        f1 score (micro): 0.8224852071005917\n",
      "        f1 score (weighted): 0.8200342545818312\n",
      "    run id: 1\n",
      "    start: 1662058704.8035216\n",
      "    time taken: 4.280569076538086\n",
      "-   end: 1662058713.3284512\n",
      "    result:\n",
      "    -   accuracy: 0.8284023668639053\n",
      "        f1 score (macro): 0.8309968376624209\n",
      "        f1 score (micro): 0.8284023668639053\n",
      "        f1 score (weighted): 0.8258078960653898\n",
      "    run id: 2\n",
      "    start: 1662058709.0840921\n",
      "    time taken: 4.244359016418457\n",
      "-   end: 1662058717.5715759\n",
      "    result:\n",
      "    -   accuracy: 0.8175542406311637\n",
      "        f1 score (macro): 0.8207150680020541\n",
      "        f1 score (micro): 0.8175542406311638\n",
      "        f1 score (weighted): 0.8143934132602735\n",
      "    run id: 3\n",
      "    start: 1662058713.3284528\n",
      "    time taken: 4.2431230545043945\n",
      "\n"
     ]
    }
   ],
   "source": [
    "combined_train_dset_fft = transformer(combined_train_dset)\n",
    "\n",
    "result = multi_run_experiment(combined_train_dset_fft, test_dataset_fft)\n",
    "print(yaml.dump(result, sort_keys=True, indent=4))"
   ]
  },
  {
   "cell_type": "markdown",
   "id": "f1d5da25-a1dd-472f-9ed9-a3f456022c31",
   "metadata": {},
   "source": [
    "## Train and evaluate Support Vector Machine classifier"
   ]
  },
  {
   "cell_type": "code",
   "execution_count": 16,
   "id": "009a6764-6b45-4d88-a437-b58bbcc7debc",
   "metadata": {},
   "outputs": [
    {
     "name": "stdout",
     "output_type": "stream",
     "text": [
      "runs:\n",
      "-   end: 1662058722.2264612\n",
      "    result:\n",
      "    -   accuracy: 0.6390532544378699\n",
      "        f1 score (macro): 0.6133353886470502\n",
      "        f1 score (micro): 0.6390532544378699\n",
      "        f1 score (weighted): 0.6647711202286894\n",
      "    run id: 1\n",
      "    start: 1662058717.5770545\n",
      "    time taken: 4.649406671524048\n",
      "-   end: 1662058727.040984\n",
      "    result:\n",
      "    -   accuracy: 0.6390532544378699\n",
      "        f1 score (macro): 0.6133353886470502\n",
      "        f1 score (micro): 0.6390532544378699\n",
      "        f1 score (weighted): 0.6647711202286894\n",
      "    run id: 2\n",
      "    start: 1662058722.226463\n",
      "    time taken: 4.814520835876465\n",
      "-   end: 1662058731.7785027\n",
      "    result:\n",
      "    -   accuracy: 0.6390532544378699\n",
      "        f1 score (macro): 0.6133353886470502\n",
      "        f1 score (micro): 0.6390532544378699\n",
      "        f1 score (weighted): 0.6647711202286894\n",
      "    run id: 3\n",
      "    start: 1662058727.0409856\n",
      "    time taken: 4.7375171184539795\n",
      "\n"
     ]
    }
   ],
   "source": [
    "#from librep.estimators import SVC\n",
    "from sklearn.svm import SVC\n",
    "\n",
    "experiment = SimpleTrainEvalWorkflow(estimator=SVC, estimator_creation_kwags ={'C':3.0, 'kernel':\"rbf\"} , do_not_instantiate=False, do_fit=True, evaluator=reporter)\n",
    "multi_run_experiment = MultiRunWorkflow(workflow=experiment, num_runs=3, debug=False)\n",
    "\n",
    "result = multi_run_experiment(combined_train_dset, test_dataset)\n",
    "print(yaml.dump(result, sort_keys=True, indent=4))"
   ]
  },
  {
   "cell_type": "code",
   "execution_count": 17,
   "id": "8e2d9c26-f8f7-42aa-9d80-d9f103a2f06e",
   "metadata": {},
   "outputs": [
    {
     "name": "stdout",
     "output_type": "stream",
     "text": [
      "runs:\n",
      "-   end: 1662058732.6979492\n",
      "    result:\n",
      "    -   accuracy: 0.8648915187376726\n",
      "        f1 score (macro): 0.864679230820583\n",
      "        f1 score (micro): 0.8648915187376726\n",
      "        f1 score (weighted): 0.8651038066547622\n",
      "    run id: 1\n",
      "    start: 1662058731.7835605\n",
      "    time taken: 0.9143886566162109\n",
      "-   end: 1662058733.6290216\n",
      "    result:\n",
      "    -   accuracy: 0.8648915187376726\n",
      "        f1 score (macro): 0.864679230820583\n",
      "        f1 score (micro): 0.8648915187376726\n",
      "        f1 score (weighted): 0.8651038066547622\n",
      "    run id: 2\n",
      "    start: 1662058732.6979506\n",
      "    time taken: 0.9310710430145264\n",
      "-   end: 1662058734.5476532\n",
      "    result:\n",
      "    -   accuracy: 0.8648915187376726\n",
      "        f1 score (macro): 0.864679230820583\n",
      "        f1 score (micro): 0.8648915187376726\n",
      "        f1 score (weighted): 0.8651038066547622\n",
      "    run id: 3\n",
      "    start: 1662058733.6290236\n",
      "    time taken: 0.9186296463012695\n",
      "\n"
     ]
    }
   ],
   "source": [
    "result = multi_run_experiment(combined_train_dset_fft, test_dataset_fft)\n",
    "print(yaml.dump(result, sort_keys=True, indent=4))"
   ]
  },
  {
   "cell_type": "markdown",
   "id": "2cf2bcb7-eb7c-46f5-9542-b873ae14f5af",
   "metadata": {},
   "source": [
    "## Train and evaluate K Neighbors Classifier classifier"
   ]
  },
  {
   "cell_type": "code",
   "execution_count": 18,
   "id": "267f4b44-2bc5-40a2-bae2-85ddbd9697c5",
   "metadata": {},
   "outputs": [
    {
     "name": "stdout",
     "output_type": "stream",
     "text": [
      "runs:\n",
      "-   end: 1662058734.8791718\n",
      "    result:\n",
      "    -   accuracy: 0.5029585798816568\n",
      "        f1 score (macro): 0.49825668094091674\n",
      "        f1 score (micro): 0.5029585798816568\n",
      "        f1 score (weighted): 0.5076604788223971\n",
      "    run id: 1\n",
      "    start: 1662058734.5530987\n",
      "    time taken: 0.32607316970825195\n",
      "-   end: 1662058734.9548812\n",
      "    result:\n",
      "    -   accuracy: 0.5029585798816568\n",
      "        f1 score (macro): 0.49825668094091674\n",
      "        f1 score (micro): 0.5029585798816568\n",
      "        f1 score (weighted): 0.5076604788223971\n",
      "    run id: 2\n",
      "    start: 1662058734.8791757\n",
      "    time taken: 0.07570552825927734\n",
      "-   end: 1662058735.0284004\n",
      "    result:\n",
      "    -   accuracy: 0.5029585798816568\n",
      "        f1 score (macro): 0.49825668094091674\n",
      "        f1 score (micro): 0.5029585798816568\n",
      "        f1 score (weighted): 0.5076604788223971\n",
      "    run id: 3\n",
      "    start: 1662058734.9548829\n",
      "    time taken: 0.0735175609588623\n",
      "\n"
     ]
    }
   ],
   "source": [
    "#from librep.estimators import KNeighborsClassifier\n",
    "from sklearn.neighbors import KNeighborsClassifier\n",
    "\n",
    "experiment = SimpleTrainEvalWorkflow(estimator=KNeighborsClassifier, estimator_creation_kwags ={'n_neighbors' :1} , do_not_instantiate=False, do_fit=True, evaluator=reporter)\n",
    "multi_run_experiment = MultiRunWorkflow(workflow=experiment, num_runs=3, debug=False)\n",
    "\n",
    "result = multi_run_experiment(combined_train_dset, test_dataset)\n",
    "print(yaml.dump(result, sort_keys=True, indent=4))"
   ]
  },
  {
   "cell_type": "code",
   "execution_count": 19,
   "id": "d464e02b-a75f-4f19-9446-f717fa0d5d5b",
   "metadata": {},
   "outputs": [
    {
     "name": "stdout",
     "output_type": "stream",
     "text": [
      "runs:\n",
      "-   end: 1662058735.080295\n",
      "    result:\n",
      "    -   accuracy: 0.7889546351084813\n",
      "        f1 score (macro): 0.791422475633086\n",
      "        f1 score (micro): 0.7889546351084813\n",
      "        f1 score (weighted): 0.7864867945838767\n",
      "    run id: 1\n",
      "    start: 1662058735.0344865\n",
      "    time taken: 0.04580855369567871\n",
      "-   end: 1662058735.11995\n",
      "    result:\n",
      "    -   accuracy: 0.7889546351084813\n",
      "        f1 score (macro): 0.791422475633086\n",
      "        f1 score (micro): 0.7889546351084813\n",
      "        f1 score (weighted): 0.7864867945838767\n",
      "    run id: 2\n",
      "    start: 1662058735.080297\n",
      "    time taken: 0.03965306282043457\n",
      "-   end: 1662058735.158503\n",
      "    result:\n",
      "    -   accuracy: 0.7889546351084813\n",
      "        f1 score (macro): 0.791422475633086\n",
      "        f1 score (micro): 0.7889546351084813\n",
      "        f1 score (weighted): 0.7864867945838767\n",
      "    run id: 3\n",
      "    start: 1662058735.119952\n",
      "    time taken: 0.03855109214782715\n",
      "\n"
     ]
    }
   ],
   "source": [
    "result = multi_run_experiment(combined_train_dset_fft, test_dataset_fft)\n",
    "print(yaml.dump(result, sort_keys=True, indent=4))"
   ]
  },
  {
   "cell_type": "code",
   "execution_count": null,
   "id": "5ecc7c88-1978-4f00-9f91-a0de55294868",
   "metadata": {},
   "outputs": [],
   "source": []
  }
 ],
 "metadata": {
  "kernelspec": {
   "display_name": "Python 3 (ipykernel)",
   "language": "python",
   "name": "python3"
  },
  "language_info": {
   "codemirror_mode": {
    "name": "ipython",
    "version": 3
   },
   "file_extension": ".py",
   "mimetype": "text/x-python",
   "name": "python",
   "nbconvert_exporter": "python",
   "pygments_lexer": "ipython3",
   "version": "3.8.10"
  }
 },
 "nbformat": 4,
 "nbformat_minor": 5
}
