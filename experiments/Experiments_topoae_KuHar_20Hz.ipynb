{
 "cells": [
  {
   "cell_type": "code",
   "execution_count": 25,
   "id": "40df6f11-a295-4bb3-8ad7-c167a0adb0e6",
   "metadata": {},
   "outputs": [],
   "source": [
    "%load_ext autoreload\n",
    "%autoreload 2"
   ]
  },
  {
   "cell_type": "code",
   "execution_count": 1,
   "id": "96ae4be2-202a-476a-85fa-478520f4a951",
   "metadata": {},
   "outputs": [
    {
     "name": "stderr",
     "output_type": "stream",
     "text": [
      "2022-09-20 04:42:28.054738: W tensorflow/stream_executor/platform/default/dso_loader.cc:64] Could not load dynamic library 'libcudart.so.11.0'; dlerror: libcudart.so.11.0: cannot open shared object file: No such file or directory\n",
      "2022-09-20 04:42:28.054768: I tensorflow/stream_executor/cuda/cudart_stub.cc:29] Ignore above cudart dlerror if you do not have a GPU set up on your machine.\n"
     ]
    }
   ],
   "source": [
    "from pathlib import Path  # For defining dataset Paths\n",
    "import sys                # For include librep package\n",
    "\n",
    "# This must be done if librep is not installed via pip,\n",
    "# as this directory (examples) is appart from librep package root\n",
    "sys.path.append(\"..\")\n",
    "\n",
    "# Third party imports\n",
    "import pandas as pd\n",
    "import numpy as np\n",
    "\n",
    "# Librep imports\n",
    "from librep.utils.dataset import PandasDatasetsIO          # For quick load train, test and validation CSVs\n",
    "from librep.datasets.multimodal import PandasMultiModalDataset # Wrap CSVs to librep's `Dataset` interface"
   ]
  },
  {
   "cell_type": "code",
   "execution_count": 2,
   "id": "42894747-02af-43dc-a7de-82a40fc37f72",
   "metadata": {},
   "outputs": [],
   "source": [
    "# Path for KuHar resampled to 20Hz view with the same activities (and labels numbers)\n",
    "# It is assumed that the directory will contain (train.csv, test.csv and validation.csv)\n",
    "dataset_path = Path(\"../data/views/KuHar/resampled_view_20Hz\")"
   ]
  },
  {
   "cell_type": "code",
   "execution_count": 3,
   "id": "de491788-8150-4578-a248-996c054c21a2",
   "metadata": {},
   "outputs": [],
   "source": [
    "# Kuhar dataframes\n",
    "train, validation, test = PandasDatasetsIO(dataset_path).load()"
   ]
  },
  {
   "cell_type": "code",
   "execution_count": 4,
   "id": "017e09b2-e292-4e2a-80a4-0e506c9a4311",
   "metadata": {},
   "outputs": [
    {
     "data": {
      "text/html": [
       "<div>\n",
       "<style scoped>\n",
       "    .dataframe tbody tr th:only-of-type {\n",
       "        vertical-align: middle;\n",
       "    }\n",
       "\n",
       "    .dataframe tbody tr th {\n",
       "        vertical-align: top;\n",
       "    }\n",
       "\n",
       "    .dataframe thead th {\n",
       "        text-align: right;\n",
       "    }\n",
       "</style>\n",
       "<table border=\"1\" class=\"dataframe\">\n",
       "  <thead>\n",
       "    <tr style=\"text-align: right;\">\n",
       "      <th></th>\n",
       "      <th>Unnamed: 0</th>\n",
       "      <th>accel-x-0</th>\n",
       "      <th>accel-x-1</th>\n",
       "      <th>accel-x-2</th>\n",
       "      <th>accel-x-3</th>\n",
       "      <th>accel-x-4</th>\n",
       "      <th>accel-x-5</th>\n",
       "      <th>accel-x-6</th>\n",
       "      <th>accel-x-7</th>\n",
       "      <th>accel-x-8</th>\n",
       "      <th>...</th>\n",
       "      <th>gyro-z-59</th>\n",
       "      <th>accel-start-time</th>\n",
       "      <th>gyro-start-time</th>\n",
       "      <th>accel-end-time</th>\n",
       "      <th>gyro-end-time</th>\n",
       "      <th>activity code</th>\n",
       "      <th>length</th>\n",
       "      <th>serial</th>\n",
       "      <th>index</th>\n",
       "      <th>user</th>\n",
       "    </tr>\n",
       "  </thead>\n",
       "  <tbody>\n",
       "    <tr>\n",
       "      <th>0</th>\n",
       "      <td>0</td>\n",
       "      <td>0.001911</td>\n",
       "      <td>-0.014536</td>\n",
       "      <td>0.005845</td>\n",
       "      <td>0.003675</td>\n",
       "      <td>-0.014972</td>\n",
       "      <td>0.025607</td>\n",
       "      <td>0.000478</td>\n",
       "      <td>-0.031141</td>\n",
       "      <td>-0.014827</td>\n",
       "      <td>...</td>\n",
       "      <td>0.004456</td>\n",
       "      <td>23.235</td>\n",
       "      <td>23.223</td>\n",
       "      <td>26.260</td>\n",
       "      <td>26.249</td>\n",
       "      <td>0</td>\n",
       "      <td>300</td>\n",
       "      <td>1</td>\n",
       "      <td>2100</td>\n",
       "      <td>1051</td>\n",
       "    </tr>\n",
       "    <tr>\n",
       "      <th>1</th>\n",
       "      <td>1</td>\n",
       "      <td>0.004114</td>\n",
       "      <td>-0.003186</td>\n",
       "      <td>0.000759</td>\n",
       "      <td>0.012450</td>\n",
       "      <td>-0.032074</td>\n",
       "      <td>0.007270</td>\n",
       "      <td>-0.000470</td>\n",
       "      <td>0.006980</td>\n",
       "      <td>0.021400</td>\n",
       "      <td>...</td>\n",
       "      <td>0.002979</td>\n",
       "      <td>56.292</td>\n",
       "      <td>56.292</td>\n",
       "      <td>59.245</td>\n",
       "      <td>59.245</td>\n",
       "      <td>0</td>\n",
       "      <td>300</td>\n",
       "      <td>1</td>\n",
       "      <td>5700</td>\n",
       "      <td>1037</td>\n",
       "    </tr>\n",
       "    <tr>\n",
       "      <th>2</th>\n",
       "      <td>2</td>\n",
       "      <td>-0.011282</td>\n",
       "      <td>-0.002432</td>\n",
       "      <td>-0.003199</td>\n",
       "      <td>0.008152</td>\n",
       "      <td>-0.021763</td>\n",
       "      <td>0.000309</td>\n",
       "      <td>-0.004968</td>\n",
       "      <td>-0.009551</td>\n",
       "      <td>0.001497</td>\n",
       "      <td>...</td>\n",
       "      <td>0.003343</td>\n",
       "      <td>27.268</td>\n",
       "      <td>27.267</td>\n",
       "      <td>30.290</td>\n",
       "      <td>30.291</td>\n",
       "      <td>0</td>\n",
       "      <td>300</td>\n",
       "      <td>1</td>\n",
       "      <td>2700</td>\n",
       "      <td>1075</td>\n",
       "    </tr>\n",
       "    <tr>\n",
       "      <th>3</th>\n",
       "      <td>3</td>\n",
       "      <td>-0.009241</td>\n",
       "      <td>-0.004666</td>\n",
       "      <td>0.021606</td>\n",
       "      <td>-0.007200</td>\n",
       "      <td>0.003091</td>\n",
       "      <td>0.001630</td>\n",
       "      <td>0.005057</td>\n",
       "      <td>-0.008149</td>\n",
       "      <td>0.013167</td>\n",
       "      <td>...</td>\n",
       "      <td>-0.002053</td>\n",
       "      <td>39.421</td>\n",
       "      <td>39.420</td>\n",
       "      <td>42.441</td>\n",
       "      <td>42.440</td>\n",
       "      <td>0</td>\n",
       "      <td>300</td>\n",
       "      <td>6</td>\n",
       "      <td>3900</td>\n",
       "      <td>1008</td>\n",
       "    </tr>\n",
       "    <tr>\n",
       "      <th>4</th>\n",
       "      <td>4</td>\n",
       "      <td>-0.013083</td>\n",
       "      <td>-0.005612</td>\n",
       "      <td>0.001645</td>\n",
       "      <td>0.006823</td>\n",
       "      <td>-0.004159</td>\n",
       "      <td>0.000415</td>\n",
       "      <td>0.008178</td>\n",
       "      <td>0.002637</td>\n",
       "      <td>-0.000827</td>\n",
       "      <td>...</td>\n",
       "      <td>0.002603</td>\n",
       "      <td>23.703</td>\n",
       "      <td>23.703</td>\n",
       "      <td>26.656</td>\n",
       "      <td>26.656</td>\n",
       "      <td>0</td>\n",
       "      <td>300</td>\n",
       "      <td>1</td>\n",
       "      <td>2400</td>\n",
       "      <td>1038</td>\n",
       "    </tr>\n",
       "  </tbody>\n",
       "</table>\n",
       "<p>5 rows × 370 columns</p>\n",
       "</div>"
      ],
      "text/plain": [
       "   Unnamed: 0  accel-x-0  accel-x-1  accel-x-2  accel-x-3  accel-x-4  \\\n",
       "0           0   0.001911  -0.014536   0.005845   0.003675  -0.014972   \n",
       "1           1   0.004114  -0.003186   0.000759   0.012450  -0.032074   \n",
       "2           2  -0.011282  -0.002432  -0.003199   0.008152  -0.021763   \n",
       "3           3  -0.009241  -0.004666   0.021606  -0.007200   0.003091   \n",
       "4           4  -0.013083  -0.005612   0.001645   0.006823  -0.004159   \n",
       "\n",
       "   accel-x-5  accel-x-6  accel-x-7  accel-x-8  ...  gyro-z-59  \\\n",
       "0   0.025607   0.000478  -0.031141  -0.014827  ...   0.004456   \n",
       "1   0.007270  -0.000470   0.006980   0.021400  ...   0.002979   \n",
       "2   0.000309  -0.004968  -0.009551   0.001497  ...   0.003343   \n",
       "3   0.001630   0.005057  -0.008149   0.013167  ...  -0.002053   \n",
       "4   0.000415   0.008178   0.002637  -0.000827  ...   0.002603   \n",
       "\n",
       "   accel-start-time  gyro-start-time  accel-end-time  gyro-end-time  \\\n",
       "0            23.235           23.223          26.260         26.249   \n",
       "1            56.292           56.292          59.245         59.245   \n",
       "2            27.268           27.267          30.290         30.291   \n",
       "3            39.421           39.420          42.441         42.440   \n",
       "4            23.703           23.703          26.656         26.656   \n",
       "\n",
       "   activity code  length  serial  index  user  \n",
       "0              0     300       1   2100  1051  \n",
       "1              0     300       1   5700  1037  \n",
       "2              0     300       1   2700  1075  \n",
       "3              0     300       6   3900  1008  \n",
       "4              0     300       1   2400  1038  \n",
       "\n",
       "[5 rows x 370 columns]"
      ]
     },
     "execution_count": 4,
     "metadata": {},
     "output_type": "execute_result"
    }
   ],
   "source": [
    "train.head()"
   ]
  },
  {
   "cell_type": "code",
   "execution_count": 5,
   "id": "1eb43522-3bbf-4369-af25-6aba6bbe7547",
   "metadata": {},
   "outputs": [],
   "source": [
    "# Kuhar features to select\n",
    "features = [\n",
    "    \"accel-x\",\n",
    "    \"accel-y\",\n",
    "    \"accel-z\",\n",
    "    \"gyro-x\",\n",
    "    \"gyro-y\",\n",
    "    \"gyro-z\"\n",
    "]\n",
    "\n",
    "# Creating the datasets\n",
    "\n",
    "# Train\n",
    "train_dataset = PandasMultiModalDataset(\n",
    "    train,\n",
    "    feature_prefixes=features,\n",
    "    label_columns=\"activity code\",\n",
    "    as_array=True\n",
    ")\n",
    "\n",
    "# Validation\n",
    "validation_dataset = PandasMultiModalDataset(\n",
    "    validation,\n",
    "    feature_prefixes=features,\n",
    "    label_columns=\"activity code\",\n",
    "    as_array=True\n",
    ")\n",
    "\n",
    "# Test\n",
    "test_dataset = PandasMultiModalDataset(\n",
    "    test,\n",
    "    feature_prefixes=features,\n",
    "    label_columns=\"activity code\",\n",
    "    as_array=True\n",
    ")"
   ]
  },
  {
   "cell_type": "code",
   "execution_count": 6,
   "id": "1b1c1691-71b2-4d67-b2d4-05f582a3519a",
   "metadata": {},
   "outputs": [
    {
     "name": "stdout",
     "output_type": "stream",
     "text": [
      "(array([ 1.91093286e-03, -1.45361925e-02,  5.84452385e-03,  3.67495627e-03,\n",
      "       -1.49718059e-02,  2.56068907e-02,  4.77538088e-04, -3.11405362e-02,\n",
      "       -1.48270261e-02,  7.69834863e-03,  1.06101665e-02, -5.96475630e-02,\n",
      "       -3.35511310e-03, -1.65885925e-03,  3.94389738e-02, -4.28711994e-02,\n",
      "       -4.65577088e-03, -1.44686791e-02, -7.36948774e-03, -3.87024460e-03,\n",
      "        6.24744252e-02, -1.79626835e-02,  3.22744928e-03, -3.75961022e-03,\n",
      "        1.46163449e-02, -1.07502353e-02, -9.27218103e-03,  5.06417325e-03,\n",
      "        1.40691624e-02,  1.60138354e-02, -5.34838152e-02, -3.29858611e-03,\n",
      "        2.31031426e-02,  2.27906805e-02,  2.54595798e-03,  1.75255266e-02,\n",
      "       -5.10498318e-03, -2.07463519e-02,  1.32902011e-02,  1.37572046e-02,\n",
      "        7.17675958e-03, -2.01445217e-02,  5.47817384e-03, -7.66570074e-04,\n",
      "        1.94831071e-02, -1.11694213e-03,  2.27235363e-02, -1.49616813e-02,\n",
      "       -9.71672954e-03, -7.12839038e-03,  9.02811373e-03, -1.57676951e-03,\n",
      "       -5.51378813e-03, -3.61854449e-03, -9.16178207e-03,  1.69776410e-02,\n",
      "       -3.65341848e-03, -2.29361283e-02, -2.51271512e-03,  3.50588067e-02,\n",
      "        1.34097916e-02, -2.86866022e-02,  3.13640354e-02,  2.14215116e-02,\n",
      "        3.76450564e-02,  2.72862467e-02,  1.18754617e-02, -8.73142208e-03,\n",
      "        1.56951736e-02, -9.60600105e-03, -8.02965606e-03, -1.05411233e-02,\n",
      "        8.81743755e-03,  1.05434222e-03,  3.57281273e-02,  2.85509448e-02,\n",
      "       -8.11741138e-03,  1.01184825e-02,  6.48321568e-03,  2.80916583e-02,\n",
      "        2.88418042e-02, -1.58334984e-02, -5.94322804e-03,  1.68041560e-02,\n",
      "       -1.35507525e-02,  1.42835046e-03,  3.70229135e-02, -1.52175851e-02,\n",
      "        1.81973624e-02, -2.02431129e-02,  5.88782102e-03, -1.67712935e-02,\n",
      "        4.15055713e-02,  3.76236078e-02,  2.19586336e-02, -3.88094867e-02,\n",
      "       -1.89869025e-02, -1.90194601e-02,  6.39374426e-03, -7.14791916e-04,\n",
      "        4.34153850e-03, -1.90827653e-02,  4.59865180e-02, -1.56772566e-02,\n",
      "        8.96156458e-03,  1.82556948e-02,  3.37270797e-03,  3.75693740e-03,\n",
      "        1.04510934e-02,  1.11305805e-02,  1.73146210e-03, -2.45532444e-04,\n",
      "        1.75448576e-02, -1.42765479e-02,  2.24175603e-02, -1.33758721e-02,\n",
      "        3.71316100e-02,  7.20344782e-04,  2.56569482e-02,  1.53204085e-02,\n",
      "        4.13408630e-02,  9.53977102e-03,  1.88488717e-02,  5.31042211e-04,\n",
      "        1.89937465e-02,  1.71144631e-03, -1.25389876e-02,  6.01461319e-02,\n",
      "       -2.08127468e-02, -1.66242802e-02,  2.88122438e-02,  4.54398706e-02,\n",
      "        2.84262845e-02, -8.14001007e-03, -2.50915735e-02,  1.73446860e-02,\n",
      "       -1.96477605e-02, -3.99661544e-03,  1.62781505e-02, -3.03350627e-02,\n",
      "       -3.09627855e-02,  9.20580431e-02,  1.22237525e-02,  1.27397116e-02,\n",
      "       -2.27211872e-02, -4.41356155e-03, -4.37855741e-04,  3.42928352e-03,\n",
      "       -2.26680512e-02,  2.44519406e-02,  3.33897989e-02,  3.65026211e-02,\n",
      "       -3.24061174e-03, -1.56898823e-02, -2.46776979e-03, -1.64977781e-02,\n",
      "        1.17570524e-02,  1.20854136e-02, -1.37706039e-02, -5.93245313e-03,\n",
      "        9.60821658e-03,  2.31071984e-02,  4.06783195e-03, -1.01720614e-02,\n",
      "        4.96362266e-03, -2.30411016e-02,  1.57054006e-02, -1.10608521e-03,\n",
      "       -1.39945640e-03, -6.05414417e-03,  1.16314467e-02, -2.65536489e-02,\n",
      "        3.23659084e-02,  2.70854070e-03,  9.71409212e-03, -2.89741786e-02,\n",
      "       -1.80448634e-02,  1.98445981e-03,  1.82632584e-02, -4.15042289e-02,\n",
      "       -7.02005930e-04, -1.71430948e-03,  1.02124586e-02,  4.13945018e-03,\n",
      "        2.15593418e-04,  7.73742476e-04, -2.22867310e-03,  6.67756884e-04,\n",
      "        6.88333095e-03,  9.71816337e-03,  9.65125257e-03,  7.78365689e-03,\n",
      "        1.15265992e-02,  1.14950023e-02,  5.87734654e-03, -3.13029193e-03,\n",
      "        6.98508048e-03,  9.14435740e-03,  8.08203037e-03,  6.70093116e-03,\n",
      "       -2.02473995e-03, -3.85983972e-03,  2.65903073e-03,  8.69244805e-03,\n",
      "        8.40438413e-03,  1.03157723e-02,  7.37343578e-03,  7.26032030e-03,\n",
      "        1.11106755e-02,  8.11344459e-03,  1.26662654e-02,  1.47307212e-02,\n",
      "        1.63745136e-02,  5.68322553e-03, -1.41754379e-04,  1.23455285e-03,\n",
      "        5.17628433e-03,  1.02147651e-02,  1.18328984e-02,  1.28249489e-02,\n",
      "        1.20594695e-02,  1.38056682e-02,  8.73994471e-03,  1.66651934e-03,\n",
      "        2.10280602e-03, -2.39456086e-03, -2.15244985e-03,  4.44813522e-03,\n",
      "        7.36722376e-03,  6.71221261e-03,  1.02594611e-02,  1.01624543e-02,\n",
      "        8.17515129e-03,  1.15769729e-02,  1.33690791e-02,  1.47692500e-02,\n",
      "        1.23967867e-02,  1.01232441e-02,  7.87240871e-03,  4.69532232e-03,\n",
      "        6.58407198e-03,  1.47788664e-03,  5.05246681e-03,  4.68545991e-03,\n",
      "        2.57068698e-03,  1.12845290e-03,  8.91959459e-03, -1.87966215e-03,\n",
      "       -2.73838444e-03, -3.45441871e-03,  3.38269409e-03,  7.21707236e-04,\n",
      "        9.98568549e-05,  3.19009532e-03,  1.66967855e-02,  1.52996999e-02,\n",
      "        6.02541679e-03,  1.36155560e-03, -1.35444518e-02, -1.70457541e-02,\n",
      "       -7.62469462e-03, -2.37015872e-03, -3.24957075e-03, -2.31124467e-04,\n",
      "       -7.99090189e-03, -2.04476179e-03, -9.55618825e-03, -7.96606084e-03,\n",
      "       -9.43930540e-03, -2.24625471e-03, -5.07889164e-03, -1.91768315e-02,\n",
      "       -1.18343283e-02, -1.14688285e-02,  2.72726320e-03, -5.44057656e-03,\n",
      "        8.15101970e-03, -3.66968816e-04, -5.19386881e-03, -2.21638316e-03,\n",
      "        7.22586505e-04, -5.23040354e-03, -1.00092196e-03, -6.47100058e-03,\n",
      "       -5.29216649e-03, -4.33703686e-03, -2.62992491e-03,  2.25779011e-03,\n",
      "       -8.96403768e-03, -7.01505332e-03, -4.21662193e-03,  5.40173782e-03,\n",
      "        7.89641691e-05, -5.85682507e-04,  8.97479774e-04, -2.38163515e-03,\n",
      "        5.95296435e-03, -3.40176037e-03, -1.11610067e-02, -7.39497622e-04,\n",
      "       -8.17403979e-04,  7.91188456e-04,  2.35790599e-03, -7.63296478e-04,\n",
      "       -3.97019896e-03, -1.28618541e-03, -3.24486581e-03, -3.33107507e-03,\n",
      "       -2.34526713e-03,  1.96906384e-03,  8.05225728e-04,  4.72270099e-03,\n",
      "        9.31744850e-03,  8.20026220e-03,  3.30221329e-03,  1.76438423e-03,\n",
      "        7.53322879e-03,  7.05281468e-03,  7.43511617e-03,  7.47282645e-03,\n",
      "        6.81188044e-03,  1.12811297e-03,  7.13475257e-03,  8.82500450e-03,\n",
      "        9.14488397e-03,  7.47806552e-03,  9.97418548e-03,  1.18400235e-02,\n",
      "        1.02508038e-02,  9.25750437e-03,  9.06417247e-03,  1.07677978e-02,\n",
      "        1.22450681e-02,  6.88661580e-03,  4.93114258e-03,  6.51178367e-03,\n",
      "        5.73218396e-03,  7.48079129e-03,  8.68261382e-03,  9.33316823e-03,\n",
      "        9.26778214e-03,  6.69900231e-03,  5.46731233e-03,  2.17066768e-03,\n",
      "        9.31033096e-04, -5.57211486e-04,  1.12075129e-05, -3.60370070e-04,\n",
      "       -1.97137189e-03, -2.44242144e-03, -3.03315609e-04,  3.38358141e-03,\n",
      "        1.82513508e-03,  1.37147931e-03,  1.83300530e-03,  4.46431044e-03,\n",
      "        1.80080189e-03,  3.45654902e-03,  2.32869360e-03,  4.45589801e-03]), 0)\n"
     ]
    }
   ],
   "source": [
    "# Lets print the first sample of kh_train dataset.\n",
    "# Is a tuple, with an vector of 1800 elements as first element and the label as second\n",
    "x = train_dataset[0]\n",
    "print(x)"
   ]
  },
  {
   "cell_type": "code",
   "execution_count": 7,
   "id": "8966bf11-2c32-4901-9a9f-c7f40735a63d",
   "metadata": {},
   "outputs": [],
   "source": [
    "from librep.datasets.multimodal import TransformMultiModalDataset\n",
    "from librep.transforms.fft import FFT"
   ]
  },
  {
   "cell_type": "code",
   "execution_count": 8,
   "id": "1e9a59e3-f891-4479-84cf-ef32e543dce9",
   "metadata": {},
   "outputs": [],
   "source": [
    "fft_transform = FFT(centered = True)\n",
    "transformer = TransformMultiModalDataset(transforms=[fft_transform], new_window_name_prefix=\"fft.\")"
   ]
  },
  {
   "cell_type": "code",
   "execution_count": 9,
   "id": "58ac2abb-b3f6-4729-ab08-e87a5d279343",
   "metadata": {},
   "outputs": [],
   "source": [
    "train_dataset_fft = transformer(train_dataset)\n",
    "validation_dataset_fft = transformer(validation_dataset)\n",
    "test_dataset_fft = transformer(test_dataset)"
   ]
  },
  {
   "cell_type": "code",
   "execution_count": 11,
   "id": "0b81d10b-7ac8-41b5-8a18-453954828edc",
   "metadata": {},
   "outputs": [
    {
     "name": "stdout",
     "output_type": "stream",
     "text": [
      "(3330, 180)\n",
      "(108, 180)\n",
      "(378, 180)\n"
     ]
    }
   ],
   "source": [
    "print(train_dataset_fft.X.shape)\n",
    "print(validation_dataset_fft.X.shape)\n",
    "print(test_dataset_fft.X.shape)"
   ]
  },
  {
   "cell_type": "code",
   "execution_count": null,
   "id": "e66de95c-9631-4a7e-8465-ef7df0de2b99",
   "metadata": {},
   "outputs": [],
   "source": []
  },
  {
   "cell_type": "code",
   "execution_count": 34,
   "id": "781c084e-15e1-4b90-bdf2-7b48897f76cf",
   "metadata": {},
   "outputs": [
    {
     "name": "stdout",
     "output_type": "stream",
     "text": [
      "Topologically Regularized DeepAEforKuhar180\n",
      "Using python to compute signatures\n",
      "DeepAEforKuhar180, Input: 180 Inner dim: 3\n"
     ]
    }
   ],
   "source": [
    "from librep.transforms.topo_ae import TopologicalDimensionalityReduction\n",
    "from librep.estimators.ae.torch.models.topological_ae.topological_ae import TopologicallyRegularizedAutoencoder\n",
    "kwargs = {'input_dims':180, 'custom_dim':3}\n",
    "input_shape = (-1, 1, 180)\n",
    "transform_topoae = TopologicalDimensionalityReduction(ae_model='DeepAEforKuhar180',\n",
    "                                                      ae_kwargs=kwargs, input_shape=input_shape)"
   ]
  },
  {
   "cell_type": "code",
   "execution_count": 35,
   "id": "5e09d3ab-4b11-4a44-a3ae-b07826b2e911",
   "metadata": {},
   "outputs": [
    {
     "name": "stdout",
     "output_type": "stream",
     "text": [
      "Epoch:1, Loss:5.4388\n",
      "Epoch:2, Loss:16.0613\n",
      "Epoch:3, Loss:13.8071\n",
      "Epoch:4, Loss:0.6178\n",
      "Epoch:5, Loss:45.1977\n",
      "Epoch:6, Loss:35.7210\n",
      "Epoch:7, Loss:66.5052\n",
      "Epoch:8, Loss:900.0685\n",
      "Epoch:9, Loss:56.1310\n",
      "Epoch:10, Loss:41.6147\n",
      "Epoch:11, Loss:82.9860\n",
      "Epoch:12, Loss:13.0534\n",
      "Epoch:13, Loss:28.6053\n"
     ]
    },
    {
     "data": {
      "text/plain": [
       "<librep.transforms.topo_ae.TopologicalDimensionalityReduction at 0x7f50c4654b80>"
      ]
     },
     "execution_count": 35,
     "metadata": {},
     "output_type": "execute_result"
    }
   ],
   "source": [
    "transform_topoae.fit(train_dataset_fft.X)"
   ]
  },
  {
   "cell_type": "code",
   "execution_count": 42,
   "id": "5f9f757d-616a-4654-8ced-73dbd2677132",
   "metadata": {},
   "outputs": [
    {
     "name": "stdout",
     "output_type": "stream",
     "text": [
      "ORIGINAL (378, 1, 3)\n",
      "RESHAPED (378, 3)\n"
     ]
    }
   ],
   "source": [
    "test_applied_topoae = transform_topoae.transform(test_dataset_fft.X)\n",
    "print('ORIGINAL', test_applied_topoae.shape)\n",
    "test_applied_topoae = np.reshape(test_applied_topoae, (-1,3))\n",
    "print('RESHAPED', test_applied_topoae.shape)"
   ]
  },
  {
   "cell_type": "code",
   "execution_count": null,
   "id": "023b950c-df3c-49d6-a670-43f7c57243f8",
   "metadata": {},
   "outputs": [],
   "source": []
  },
  {
   "cell_type": "code",
   "execution_count": 47,
   "id": "eee60e08-dfaf-4eba-8e6d-435f07fe78ef",
   "metadata": {},
   "outputs": [
    {
     "name": "stdout",
     "output_type": "stream",
     "text": [
      "{'residual variance (pearson)': 0.5913135322579415, 'residual variance (spearman)': 0.5816854991996547, 'trustworthiness': 0.7929546573399855, 'continuity': 0.8778444785704314, 'co k nearest neighbor size': 0.24336870026525198, 'local continuity meta criterion': 0.20081550877589027, 'local property': 0.3857387376146404, 'global property': 0.8034139822635268}\n"
     ]
    }
   ],
   "source": [
    "from librep.metrics.dimred_evaluator import DimensionalityReductionQualityReport\n",
    "metrics_reporter = DimensionalityReductionQualityReport(sampling_threshold=378)\n",
    "metrics_train_applied_topoae = metrics_reporter.evaluate([test_dataset_fft.X, test_applied_topoae])\n",
    "print(metrics_train_applied_topoae)"
   ]
  },
  {
   "cell_type": "code",
   "execution_count": 48,
   "id": "4bc088a1-967d-44c6-8e2b-7d91382676d5",
   "metadata": {},
   "outputs": [],
   "source": [
    "from librep.utils.workflow import SimpleTrainEvalWorkflow, MultiRunWorkflow\n",
    "from librep.estimators import RandomForestClassifier\n",
    "from librep.metrics.report import ClassificationReport\n",
    "import yaml\n",
    "\n",
    "reporter = ClassificationReport(use_accuracy=True, use_f1_score=True, use_classification_report=False, use_confusion_matrix=False, plot_confusion_matrix=False)\n",
    "experiment = SimpleTrainEvalWorkflow(estimator=RandomForestClassifier, estimator_creation_kwags ={'n_estimators':100} , do_not_instantiate=False, do_fit=True, evaluator=reporter)\n",
    "multi_run_experiment = MultiRunWorkflow(workflow=experiment, num_runs=3, debug=False)"
   ]
  },
  {
   "cell_type": "code",
   "execution_count": 49,
   "id": "633f3d78-2c1a-43e8-9175-7f0243a250bd",
   "metadata": {},
   "outputs": [
    {
     "name": "stdout",
     "output_type": "stream",
     "text": [
      "runs:\n",
      "-   end: 1663664887.552666\n",
      "    result:\n",
      "    -   accuracy: 0.701058201058201\n",
      "        f1 score (macro): 0.6921452380549326\n",
      "        f1 score (micro): 0.701058201058201\n",
      "        f1 score (weighted): 0.7099711640614697\n",
      "    run id: 1\n",
      "    start: 1663664882.08597\n",
      "    time taken: 5.46669602394104\n",
      "-   end: 1663664892.011342\n",
      "    result:\n",
      "    -   accuracy: 0.7275132275132276\n",
      "        f1 score (macro): 0.7144602057859362\n",
      "        f1 score (micro): 0.7275132275132276\n",
      "        f1 score (weighted): 0.740566249240519\n",
      "    run id: 2\n",
      "    start: 1663664887.5526676\n",
      "    time taken: 4.458674430847168\n",
      "-   end: 1663664896.432762\n",
      "    result:\n",
      "    -   accuracy: 0.7195767195767195\n",
      "        f1 score (macro): 0.7042066830506104\n",
      "        f1 score (micro): 0.7195767195767196\n",
      "        f1 score (weighted): 0.7349467561028287\n",
      "    run id: 3\n",
      "    start: 1663664892.011344\n",
      "    time taken: 4.421417951583862\n",
      "\n"
     ]
    }
   ],
   "source": [
    "combined_train_dset = PandasMultiModalDataset(\n",
    "    pd.concat([train, validation]),\n",
    "    feature_prefixes=features,\n",
    "    label_columns=\"activity code\",\n",
    "    as_array=True\n",
    ")\n",
    "\n",
    "\n",
    "result = multi_run_experiment(combined_train_dset, test_dataset)\n",
    "print(yaml.dump(result, sort_keys=True, indent=4))"
   ]
  },
  {
   "cell_type": "code",
   "execution_count": 50,
   "id": "a62169d9-001c-4df0-a37f-7141ba3e5530",
   "metadata": {},
   "outputs": [
    {
     "name": "stdout",
     "output_type": "stream",
     "text": [
      "runs:\n",
      "-   end: 1663665019.8602655\n",
      "    result:\n",
      "    -   accuracy: 0.8201058201058201\n",
      "        f1 score (macro): 0.8181350671579567\n",
      "        f1 score (micro): 0.8201058201058201\n",
      "        f1 score (weighted): 0.8220765730536835\n",
      "    run id: 1\n",
      "    start: 1663665016.84495\n",
      "    time taken: 3.015315532684326\n",
      "-   end: 1663665022.5059454\n",
      "    result:\n",
      "    -   accuracy: 0.8386243386243386\n",
      "        f1 score (macro): 0.8357999884987348\n",
      "        f1 score (micro): 0.8386243386243385\n",
      "        f1 score (weighted): 0.8414486887499422\n",
      "    run id: 2\n",
      "    start: 1663665019.8602676\n",
      "    time taken: 2.6456778049468994\n",
      "-   end: 1663665025.1512365\n",
      "    result:\n",
      "    -   accuracy: 0.8306878306878307\n",
      "        f1 score (macro): 0.8259884854853735\n",
      "        f1 score (micro): 0.8306878306878307\n",
      "        f1 score (weighted): 0.8353871758902878\n",
      "    run id: 3\n",
      "    start: 1663665022.5059476\n",
      "    time taken: 2.6452889442443848\n",
      "\n"
     ]
    }
   ],
   "source": [
    "combined_train_dset_fft = transformer(combined_train_dset)\n",
    "\n",
    "result = multi_run_experiment(combined_train_dset_fft, test_dataset_fft)\n",
    "print(yaml.dump(result, sort_keys=True, indent=4))"
   ]
  },
  {
   "cell_type": "code",
   "execution_count": 67,
   "id": "1f87bfdd-5ec9-4496-9094-2fd5dfc484f2",
   "metadata": {},
   "outputs": [
    {
     "name": "stdout",
     "output_type": "stream",
     "text": [
      "[ 0  0  0 ... 17 17 17]\n",
      "(3438, 370)\n"
     ]
    }
   ],
   "source": [
    "print(train_dataset_fft.y)\n",
    "\n",
    "print(combined_train_dset.data.shape)"
   ]
  },
  {
   "cell_type": "code",
   "execution_count": 74,
   "id": "8921b2fd-63ff-4a69-9bb2-24bcba17e857",
   "metadata": {},
   "outputs": [
    {
     "name": "stdout",
     "output_type": "stream",
     "text": [
      "ORIGINAL (3330, 1, 3)\n",
      "RESHAPED (3330, 3)\n",
      "runs:\n",
      "-   end: 1663667430.2590716\n",
      "    result:\n",
      "    -   accuracy: 0.29894179894179895\n",
      "        f1 score (macro): 0.29371077390429573\n",
      "        f1 score (micro): 0.29894179894179895\n",
      "        f1 score (weighted): 0.3041728239793022\n",
      "    run id: 1\n",
      "    start: 1663667429.8684719\n",
      "    time taken: 0.39059972763061523\n",
      "-   end: 1663667430.6462574\n",
      "    result:\n",
      "    -   accuracy: 0.2962962962962963\n",
      "        f1 score (macro): 0.2913466717904681\n",
      "        f1 score (micro): 0.2962962962962963\n",
      "        f1 score (weighted): 0.3012459208021245\n",
      "    run id: 2\n",
      "    start: 1663667430.2590737\n",
      "    time taken: 0.38718366622924805\n",
      "-   end: 1663667431.0362937\n",
      "    result:\n",
      "    -   accuracy: 0.30952380952380953\n",
      "        f1 score (macro): 0.30314404181075016\n",
      "        f1 score (micro): 0.30952380952380953\n",
      "        f1 score (weighted): 0.31590357723686885\n",
      "    run id: 3\n",
      "    start: 1663667430.6462598\n",
      "    time taken: 0.3900339603424072\n",
      "\n"
     ]
    }
   ],
   "source": [
    "import pandas as pd\n",
    "\n",
    "# Using the latent space\n",
    "train_applied_topoae = transform_topoae.transform(train_dataset_fft.X)\n",
    "print('ORIGINAL', train_applied_topoae.shape)\n",
    "train_applied_topoae = np.reshape(train_applied_topoae, (-1,3))\n",
    "print('RESHAPED', train_applied_topoae.shape)\n",
    "\n",
    "train_applied_topoae_pd = pd.DataFrame(train_applied_topoae)\n",
    "train_applied_topoae_pd['y'] = train_dataset_fft.y\n",
    "# print('FINAL', train_applied_topoae_pd)\n",
    "\n",
    "\n",
    "topoae_train_dset = PandasMultiModalDataset(\n",
    "    train_applied_topoae_pd,\n",
    "    label_columns=\"y\",\n",
    "    as_array=True\n",
    ")\n",
    "\n",
    "test_applied_topoae_pd = pd.DataFrame(test_applied_topoae)\n",
    "test_applied_topoae_pd['y'] = test_dataset_fft.y\n",
    "# print('FINAL', test_applied_topoae_pd)\n",
    "\n",
    "topoae_test_dset = PandasMultiModalDataset(\n",
    "    test_applied_topoae_pd,\n",
    "    label_columns=\"y\",\n",
    "    as_array=True\n",
    ")\n",
    "result = multi_run_experiment(topoae_train_dset, topoae_test_dset)\n",
    "print(yaml.dump(result, sort_keys=True, indent=4))"
   ]
  },
  {
   "cell_type": "markdown",
   "id": "f0e5fe55-1de7-46d8-af1c-33706ad018a2",
   "metadata": {},
   "source": [
    "# Dimensionality exploration"
   ]
  },
  {
   "cell_type": "code",
   "execution_count": null,
   "id": "143808b8-6c0a-4dc3-88db-bf467f791eae",
   "metadata": {},
   "outputs": [],
   "source": []
  }
 ],
 "metadata": {
  "kernelspec": {
   "display_name": "Python 3 (ipykernel)",
   "language": "python",
   "name": "python3"
  },
  "language_info": {
   "codemirror_mode": {
    "name": "ipython",
    "version": 3
   },
   "file_extension": ".py",
   "mimetype": "text/x-python",
   "name": "python",
   "nbconvert_exporter": "python",
   "pygments_lexer": "ipython3",
   "version": "3.8.10"
  }
 },
 "nbformat": 4,
 "nbformat_minor": 5
}
