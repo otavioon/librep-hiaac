{
 "cells": [
  {
   "cell_type": "markdown",
   "id": "ea402ac5-031d-4b8a-b330-b71f2085f956",
   "metadata": {},
   "source": [
    "# Pre-processing MotionSense Dataset and Generate Views "
   ]
  },
  {
   "cell_type": "code",
   "execution_count": 1,
   "id": "498254b0-ea10-4f02-b718-d26ce855b77b",
   "metadata": {
    "tags": []
   },
   "outputs": [],
   "source": [
    "%load_ext autoreload\n",
    "%autoreload 2\n",
    "\n",
    "import sys\n",
    "\n",
    "sys.path.append(\"../../\")"
   ]
  },
  {
   "cell_type": "code",
   "execution_count": 2,
   "id": "fad53baa-1190-4969-9ae9-489321c5966e",
   "metadata": {
    "tags": []
   },
   "outputs": [
    {
     "name": "stderr",
     "output_type": "stream",
     "text": [
      "2022-10-21 21:13:03.649651: W tensorflow/stream_executor/platform/default/dso_loader.cc:64] Could not load dynamic library 'libcudart.so.11.0'; dlerror: libcudart.so.11.0: cannot open shared object file: No such file or directory\n",
      "2022-10-21 21:13:03.649671: I tensorflow/stream_executor/cuda/cudart_stub.cc:29] Ignore above cudart dlerror if you do not have a GPU set up on your machine.\n"
     ]
    }
   ],
   "source": [
    "from pathlib import Path\n",
    "from typing import List\n",
    "import hashlib\n",
    "import pandas as pd\n",
    "\n",
    "from librep.datasets.har.motionsense import (\n",
    "    RawMotionSense,\n",
    "    RawMotionSenseIterator,\n",
    "    MotionSenseDatasetGenerator\n",
    ")\n",
    "from librep.utils.dataset import PandasDatasetsIO\n",
    "\n",
    "%matplotlib inline"
   ]
  },
  {
   "cell_type": "code",
   "execution_count": 3,
   "id": "12bf855c-9947-4174-980c-5942527eaf04",
   "metadata": {
    "tags": []
   },
   "outputs": [
    {
     "data": {
      "text/plain": [
       "MotionSense Dataset at: '../../data/datasets/MotionSense/A_DeviceMotion_data'"
      ]
     },
     "execution_count": 3,
     "metadata": {},
     "output_type": "execute_result"
    }
   ],
   "source": [
    "dataset_dir = Path(\"../../data/datasets/MotionSense/A_DeviceMotion_data\")\n",
    "motionsense_dataset = RawMotionSense(dataset_dir, download=False)\n",
    "motionsense_dataset"
   ]
  },
  {
   "cell_type": "code",
   "execution_count": 4,
   "id": "366c2abc",
   "metadata": {
    "tags": []
   },
   "outputs": [
    {
     "data": {
      "text/plain": [
       "['dws', 'ups', 'sit', 'std', 'wlk', 'jog']"
      ]
     },
     "execution_count": 4,
     "metadata": {},
     "output_type": "execute_result"
    }
   ],
   "source": [
    "act_names = [motionsense_dataset.activity_names[i] for i in motionsense_dataset.activities]\n",
    "act_names"
   ]
  },
  {
   "cell_type": "code",
   "execution_count": 5,
   "id": "39ffda3f-7686-49d1-a02d-576e4207b6c9",
   "metadata": {
    "tags": []
   },
   "outputs": [
    {
     "data": {
      "text/plain": [
       "MotionSense Iterator: users=24, activities=6"
      ]
     },
     "execution_count": 5,
     "metadata": {},
     "output_type": "execute_result"
    }
   ],
   "source": [
    "iterator = RawMotionSenseIterator(motionsense_dataset, users_to_select=None, activities_to_select=None)\n",
    "iterator"
   ]
  },
  {
   "cell_type": "code",
   "execution_count": 6,
   "id": "f75a8cb6-5083-44f9-bfbd-50f55836bb75",
   "metadata": {
    "tags": []
   },
   "outputs": [
    {
     "data": {
      "text/plain": [
       "Dataset generator: time_window=60, overlap=0"
      ]
     },
     "execution_count": 6,
     "metadata": {},
     "output_type": "execute_result"
    }
   ],
   "source": [
    "motionsense_v1 = MotionSenseDatasetGenerator(iterator, time_window=60, window_overlap=0, add_gravity=True)\n",
    "motionsense_v1"
   ]
  },
  {
   "cell_type": "code",
   "execution_count": 7,
   "id": "add044d7-6666-4f31-93e5-d4af57e01e56",
   "metadata": {
    "tags": []
   },
   "outputs": [
    {
     "name": "stderr",
     "output_type": "stream",
     "text": [
      "Generating full df over MotionSense View: 360it [00:18, 19.78it/s]\n"
     ]
    }
   ],
   "source": [
    "train, validation, test = motionsense_v1.create_datasets(\n",
    "    train_size=0.7,\n",
    "    validation_size=0.1,\n",
    "    test_size=0.2,\n",
    "    ensure_distinct_users_per_dataset=True,\n",
    "    balance_samples=True,\n",
    "    seed=0\n",
    ")"
   ]
  },
  {
   "cell_type": "code",
   "execution_count": 8,
   "id": "9f0dcb11-f07e-4e60-a859-ea209900beb0",
   "metadata": {
    "tags": []
   },
   "outputs": [
    {
     "name": "stdout",
     "output_type": "stream",
     "text": [
      "11bb43fa2de39298cb24ac0a0bfa97c415f4f6f7\n",
      "ac8b35f17555d0f2e25470079e5beb5b8d114346\n",
      "e027edb2d15b42c0ac07ac289b6f92512f18e4b5\n"
     ]
    }
   ],
   "source": [
    "print(hashlib.sha1(pd.util.hash_pandas_object(train).values).hexdigest())\n",
    "print(hashlib.sha1(pd.util.hash_pandas_object(validation).values).hexdigest())\n",
    "print(hashlib.sha1(pd.util.hash_pandas_object(test).values).hexdigest())"
   ]
  },
  {
   "cell_type": "code",
   "execution_count": 9,
   "id": "c7a9cda8-f111-4715-94c2-e474574149ab",
   "metadata": {
    "tags": []
   },
   "outputs": [
    {
     "data": {
      "text/plain": [
       "PandasDatasetIO at '../../data_2/views/MotionSense/balanced_view'"
      ]
     },
     "execution_count": 9,
     "metadata": {},
     "output_type": "execute_result"
    }
   ],
   "source": [
    "output_path = Path(\"../../data_2/views/MotionSense/balanced_view\")\n",
    "\n",
    "description = \"\"\"# Balanced MotionSense\n",
    "\n",
    "This view contains train, validation and test subsets in the following proportions:\n",
    "- Train: 70% of samples\n",
    "- Validation: 10% of samples\n",
    "- Test: 20% of samples\n",
    "\n",
    "After splits, the datasets were balanced in relation to the activity code column, that is, each subset have the same number of activitiy samples.\n",
    "\n",
    "**NOTE**: Each subset contain samples from distinct users, that is, samples of one user belongs exclusivelly to one of three subsets.\n",
    "\"\"\"\n",
    "pandas_io = PandasDatasetsIO(output_path)\n",
    "pandas_io"
   ]
  },
  {
   "cell_type": "code",
   "execution_count": 10,
   "id": "4f4a9c1b-beca-4c22-a84a-319fc341e709",
   "metadata": {
    "tags": []
   },
   "outputs": [],
   "source": [
    "pandas_io.save(\n",
    "    train=train, \n",
    "    validation=validation, \n",
    "    test=test, \n",
    "    description=description\n",
    ")"
   ]
  }
 ],
 "metadata": {
  "kernelspec": {
   "display_name": "Python 3 (ipykernel)",
   "language": "python",
   "name": "python3"
  },
  "language_info": {
   "codemirror_mode": {
    "name": "ipython",
    "version": 3
   },
   "file_extension": ".py",
   "mimetype": "text/x-python",
   "name": "python",
   "nbconvert_exporter": "python",
   "pygments_lexer": "ipython3",
   "version": "3.8.10"
  }
 },
 "nbformat": 4,
 "nbformat_minor": 5
}
