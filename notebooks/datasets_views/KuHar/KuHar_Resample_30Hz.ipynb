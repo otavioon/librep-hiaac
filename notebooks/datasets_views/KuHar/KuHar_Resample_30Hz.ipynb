{
 "cells": [
  {
   "cell_type": "markdown",
   "id": "9a0c0e3e-a130-465c-8aec-671bdd27bf3f",
   "metadata": {},
   "source": [
    "# Resampling KuHar to 30Hz"
   ]
  },
  {
   "cell_type": "code",
   "execution_count": 1,
   "id": "498254b0-ea10-4f02-b718-d26ce855b77b",
   "metadata": {
    "tags": []
   },
   "outputs": [],
   "source": [
    "%load_ext autoreload\n",
    "%autoreload 2\n",
    "\n",
    "import sys\n",
    "\n",
    "sys.path.append(\"../../../\")"
   ]
  },
  {
   "cell_type": "code",
   "execution_count": 2,
   "id": "fad53baa-1190-4969-9ae9-489321c5966e",
   "metadata": {
    "tags": []
   },
   "outputs": [
    {
     "name": "stderr",
     "output_type": "stream",
     "text": [
      "2022-08-31 23:53:01.986959: W tensorflow/stream_executor/platform/default/dso_loader.cc:64] Could not load dynamic library 'libcudart.so.11.0'; dlerror: libcudart.so.11.0: cannot open shared object file: No such file or directory\n",
      "2022-08-31 23:53:01.986979: I tensorflow/stream_executor/cuda/cudart_stub.cc:29] Ignore above cudart dlerror if you do not have a GPU set up on your machine.\n"
     ]
    }
   ],
   "source": [
    "from pathlib import Path\n",
    "\n",
    "import numpy as np\n",
    "import pandas as pd\n",
    "\n",
    "from librep.utils.dataset import PandasDatasetsIO          # For quick load train, test and validation CSVs\n",
    "from librep.datasets.multimodal import PandasMultiModalDataset # Wrap CSVs to librep's `Dataset` interface\n",
    "\n",
    "from librep.datasets.multimodal import TransformMultiModalDataset\n",
    "from librep.transforms.resampler import SimpleResampler"
   ]
  },
  {
   "cell_type": "markdown",
   "id": "b3a70d59-2c17-4b67-ac3f-7a2a3306ed74",
   "metadata": {
    "tags": []
   },
   "source": [
    "## Loading data"
   ]
  },
  {
   "cell_type": "code",
   "execution_count": 3,
   "id": "db74f2f3-4ed1-49a4-a5b7-40d607ef451c",
   "metadata": {
    "tags": []
   },
   "outputs": [],
   "source": [
    "# Path for KuHar balanced view with the same activities (and labels numbers) as MotionSense\n",
    "# It is assumed that the directory will contain (train.csv, test.csv and validation.csv)\n",
    "kuhar_dataset_path = Path(\"../../../data/views/KuHar/balanced_view\")"
   ]
  },
  {
   "cell_type": "markdown",
   "id": "1dfd6084-06e9-4345-af28-1ff1926c01d6",
   "metadata": {},
   "source": [
    "Once paths is defined, we can load the CSV as pandas dataframes"
   ]
  },
  {
   "cell_type": "code",
   "execution_count": 4,
   "id": "d4cb9c09-10be-4838-996d-6e078db6836c",
   "metadata": {
    "tags": []
   },
   "outputs": [],
   "source": [
    "# Kuhar dataframes\n",
    "kh_train, kh_validation, kh_test = PandasDatasetsIO(kuhar_dataset_path).load()"
   ]
  },
  {
   "cell_type": "markdown",
   "id": "97d66571-2951-49ab-9872-55c61a7d7610",
   "metadata": {},
   "source": [
    "Letś take a look in the train dataframes"
   ]
  },
  {
   "cell_type": "code",
   "execution_count": 5,
   "id": "daa289bb-d2a8-4975-b48d-e52dad59e04c",
   "metadata": {
    "tags": []
   },
   "outputs": [
    {
     "data": {
      "text/html": [
       "<div>\n",
       "<style scoped>\n",
       "    .dataframe tbody tr th:only-of-type {\n",
       "        vertical-align: middle;\n",
       "    }\n",
       "\n",
       "    .dataframe tbody tr th {\n",
       "        vertical-align: top;\n",
       "    }\n",
       "\n",
       "    .dataframe thead th {\n",
       "        text-align: right;\n",
       "    }\n",
       "</style>\n",
       "<table border=\"1\" class=\"dataframe\">\n",
       "  <thead>\n",
       "    <tr style=\"text-align: right;\">\n",
       "      <th></th>\n",
       "      <th>Unnamed: 0</th>\n",
       "      <th>accel-x-0</th>\n",
       "      <th>accel-x-1</th>\n",
       "      <th>accel-x-2</th>\n",
       "      <th>accel-x-3</th>\n",
       "      <th>accel-x-4</th>\n",
       "      <th>accel-x-5</th>\n",
       "      <th>accel-x-6</th>\n",
       "      <th>accel-x-7</th>\n",
       "      <th>accel-x-8</th>\n",
       "      <th>...</th>\n",
       "      <th>gyro-z-299</th>\n",
       "      <th>accel-start-time</th>\n",
       "      <th>gyro-start-time</th>\n",
       "      <th>accel-end-time</th>\n",
       "      <th>gyro-end-time</th>\n",
       "      <th>activity code</th>\n",
       "      <th>length</th>\n",
       "      <th>serial</th>\n",
       "      <th>index</th>\n",
       "      <th>user</th>\n",
       "    </tr>\n",
       "  </thead>\n",
       "  <tbody>\n",
       "    <tr>\n",
       "      <th>0</th>\n",
       "      <td>0</td>\n",
       "      <td>-0.007251</td>\n",
       "      <td>-0.016431</td>\n",
       "      <td>-0.001900</td>\n",
       "      <td>-0.020529</td>\n",
       "      <td>-0.027133</td>\n",
       "      <td>-0.019558</td>\n",
       "      <td>-0.014525</td>\n",
       "      <td>-0.002541</td>\n",
       "      <td>0.016369</td>\n",
       "      <td>...</td>\n",
       "      <td>0.002956</td>\n",
       "      <td>23.235</td>\n",
       "      <td>23.223</td>\n",
       "      <td>26.260</td>\n",
       "      <td>26.249</td>\n",
       "      <td>0</td>\n",
       "      <td>300</td>\n",
       "      <td>1</td>\n",
       "      <td>2100</td>\n",
       "      <td>1051</td>\n",
       "    </tr>\n",
       "    <tr>\n",
       "      <th>1</th>\n",
       "      <td>1</td>\n",
       "      <td>-0.008128</td>\n",
       "      <td>-0.006837</td>\n",
       "      <td>0.008597</td>\n",
       "      <td>0.014337</td>\n",
       "      <td>0.006973</td>\n",
       "      <td>0.003250</td>\n",
       "      <td>-0.005086</td>\n",
       "      <td>-0.014379</td>\n",
       "      <td>-0.007034</td>\n",
       "      <td>...</td>\n",
       "      <td>0.001709</td>\n",
       "      <td>56.292</td>\n",
       "      <td>56.292</td>\n",
       "      <td>59.245</td>\n",
       "      <td>59.245</td>\n",
       "      <td>0</td>\n",
       "      <td>300</td>\n",
       "      <td>1</td>\n",
       "      <td>5700</td>\n",
       "      <td>1037</td>\n",
       "    </tr>\n",
       "    <tr>\n",
       "      <th>2</th>\n",
       "      <td>2</td>\n",
       "      <td>-0.033081</td>\n",
       "      <td>-0.037222</td>\n",
       "      <td>-0.043654</td>\n",
       "      <td>-0.038211</td>\n",
       "      <td>0.014246</td>\n",
       "      <td>0.063478</td>\n",
       "      <td>0.043582</td>\n",
       "      <td>-0.013673</td>\n",
       "      <td>-0.029928</td>\n",
       "      <td>...</td>\n",
       "      <td>0.002550</td>\n",
       "      <td>27.268</td>\n",
       "      <td>27.267</td>\n",
       "      <td>30.290</td>\n",
       "      <td>30.291</td>\n",
       "      <td>0</td>\n",
       "      <td>300</td>\n",
       "      <td>1</td>\n",
       "      <td>2700</td>\n",
       "      <td>1075</td>\n",
       "    </tr>\n",
       "    <tr>\n",
       "      <th>3</th>\n",
       "      <td>3</td>\n",
       "      <td>-0.009740</td>\n",
       "      <td>-0.016656</td>\n",
       "      <td>0.002454</td>\n",
       "      <td>-0.023503</td>\n",
       "      <td>-0.023115</td>\n",
       "      <td>-0.006241</td>\n",
       "      <td>0.017415</td>\n",
       "      <td>0.014765</td>\n",
       "      <td>0.019231</td>\n",
       "      <td>...</td>\n",
       "      <td>0.002969</td>\n",
       "      <td>39.421</td>\n",
       "      <td>39.420</td>\n",
       "      <td>42.441</td>\n",
       "      <td>42.440</td>\n",
       "      <td>0</td>\n",
       "      <td>300</td>\n",
       "      <td>6</td>\n",
       "      <td>3900</td>\n",
       "      <td>1008</td>\n",
       "    </tr>\n",
       "    <tr>\n",
       "      <th>4</th>\n",
       "      <td>4</td>\n",
       "      <td>0.029113</td>\n",
       "      <td>0.042745</td>\n",
       "      <td>0.017337</td>\n",
       "      <td>-0.015903</td>\n",
       "      <td>-0.027398</td>\n",
       "      <td>-0.010438</td>\n",
       "      <td>-0.026766</td>\n",
       "      <td>-0.013397</td>\n",
       "      <td>-0.008499</td>\n",
       "      <td>...</td>\n",
       "      <td>0.006943</td>\n",
       "      <td>23.703</td>\n",
       "      <td>23.703</td>\n",
       "      <td>26.656</td>\n",
       "      <td>26.656</td>\n",
       "      <td>0</td>\n",
       "      <td>300</td>\n",
       "      <td>1</td>\n",
       "      <td>2400</td>\n",
       "      <td>1038</td>\n",
       "    </tr>\n",
       "  </tbody>\n",
       "</table>\n",
       "<p>5 rows × 1810 columns</p>\n",
       "</div>"
      ],
      "text/plain": [
       "   Unnamed: 0  accel-x-0  accel-x-1  accel-x-2  accel-x-3  accel-x-4  \\\n",
       "0           0  -0.007251  -0.016431  -0.001900  -0.020529  -0.027133   \n",
       "1           1  -0.008128  -0.006837   0.008597   0.014337   0.006973   \n",
       "2           2  -0.033081  -0.037222  -0.043654  -0.038211   0.014246   \n",
       "3           3  -0.009740  -0.016656   0.002454  -0.023503  -0.023115   \n",
       "4           4   0.029113   0.042745   0.017337  -0.015903  -0.027398   \n",
       "\n",
       "   accel-x-5  accel-x-6  accel-x-7  accel-x-8  ...  gyro-z-299  \\\n",
       "0  -0.019558  -0.014525  -0.002541   0.016369  ...    0.002956   \n",
       "1   0.003250  -0.005086  -0.014379  -0.007034  ...    0.001709   \n",
       "2   0.063478   0.043582  -0.013673  -0.029928  ...    0.002550   \n",
       "3  -0.006241   0.017415   0.014765   0.019231  ...    0.002969   \n",
       "4  -0.010438  -0.026766  -0.013397  -0.008499  ...    0.006943   \n",
       "\n",
       "   accel-start-time  gyro-start-time  accel-end-time  gyro-end-time  \\\n",
       "0            23.235           23.223          26.260         26.249   \n",
       "1            56.292           56.292          59.245         59.245   \n",
       "2            27.268           27.267          30.290         30.291   \n",
       "3            39.421           39.420          42.441         42.440   \n",
       "4            23.703           23.703          26.656         26.656   \n",
       "\n",
       "   activity code  length  serial  index  user  \n",
       "0              0     300       1   2100  1051  \n",
       "1              0     300       1   5700  1037  \n",
       "2              0     300       1   2700  1075  \n",
       "3              0     300       6   3900  1008  \n",
       "4              0     300       1   2400  1038  \n",
       "\n",
       "[5 rows x 1810 columns]"
      ]
     },
     "execution_count": 5,
     "metadata": {},
     "output_type": "execute_result"
    }
   ],
   "source": [
    "kh_train.head()"
   ]
  },
  {
   "cell_type": "markdown",
   "id": "a82d0f7d-3bc0-492f-be47-ddd5f6e52d7e",
   "metadata": {},
   "source": [
    "## Creating librep dataset "
   ]
  },
  {
   "cell_type": "code",
   "execution_count": 6,
   "id": "052a9842-a462-40ee-ae55-f930fc4397ea",
   "metadata": {},
   "outputs": [],
   "source": [
    "# Kuhar features to select\n",
    "features = [\n",
    "    \"accel-x\",\n",
    "    \"accel-y\",\n",
    "    \"accel-z\",\n",
    "    \"gyro-x\",\n",
    "    \"gyro-y\",\n",
    "    \"gyro-z\"\n",
    "]\n",
    "\n",
    "# Creating the datasets\n",
    "\n",
    "# Train\n",
    "kh_train_dataset = PandasMultiModalDataset(\n",
    "    kh_train,\n",
    "    feature_prefixes=features,\n",
    "    label_columns=\"activity code\",\n",
    "    as_array=True\n",
    ")\n",
    "\n",
    "# Validation\n",
    "kh_validation_dataset = PandasMultiModalDataset(\n",
    "    kh_validation,\n",
    "    feature_prefixes=features,\n",
    "    label_columns=\"activity code\",\n",
    "    as_array=True\n",
    ")\n",
    "\n",
    "# Test\n",
    "kh_test_dataset = PandasMultiModalDataset(\n",
    "    kh_test,\n",
    "    feature_prefixes=features,\n",
    "    label_columns=\"activity code\",\n",
    "    as_array=True\n",
    ")"
   ]
  },
  {
   "cell_type": "code",
   "execution_count": 7,
   "id": "bd5e10eb-02f3-41d0-89eb-08d4afd9ef6c",
   "metadata": {},
   "outputs": [
    {
     "data": {
      "text/plain": [
       "Index(['Unnamed: 0', 'accel-x-0', 'accel-x-1', 'accel-x-2', 'accel-x-3',\n",
       "       'accel-x-4', 'accel-x-5', 'accel-x-6', 'accel-x-7', 'accel-x-8',\n",
       "       ...\n",
       "       'gyro-z-299', 'accel-start-time', 'gyro-start-time', 'accel-end-time',\n",
       "       'gyro-end-time', 'activity code', 'length', 'serial', 'index', 'user'],\n",
       "      dtype='object', length=1810)"
      ]
     },
     "execution_count": 7,
     "metadata": {},
     "output_type": "execute_result"
    }
   ],
   "source": [
    "kh_train.columns"
   ]
  },
  {
   "cell_type": "markdown",
   "id": "830745ff-c6af-4d4d-98db-33e7804f1288",
   "metadata": {},
   "source": [
    "## Inspect the sample"
   ]
  },
  {
   "cell_type": "code",
   "execution_count": 8,
   "id": "100009c2-3a2a-4a6c-8236-112c8ed43b96",
   "metadata": {},
   "outputs": [
    {
     "name": "stdout",
     "output_type": "stream",
     "text": [
      "(array([-0.00725079, -0.01643086, -0.00189972, ...,  0.00295611,\n",
      "        0.00295611,  0.00295611]), 0)\n",
      "The sample 0: [-0.00725079 -0.01643086 -0.00189972 ...  0.00295611  0.00295611\n",
      "  0.00295611]\n",
      "Shape of sample 0: (1800,)\n",
      "The label of sample 0: 0\n"
     ]
    }
   ],
   "source": [
    "# Lets print the first sample of kh_train dataset.\n",
    "# Is a tuple, with an vector of 1800 elements as first element and the label as second\n",
    "x = kh_train_dataset[0]\n",
    "print(x)\n",
    "\n",
    "# Inspecting sample\n",
    "print(f\"The sample 0: {x[0]}\")\n",
    "print(f\"Shape of sample 0: {x[0].shape}\")\n",
    "print(f\"The label of sample 0: {x[1]}\")"
   ]
  },
  {
   "cell_type": "markdown",
   "id": "cd10c49b-b6dc-4ee5-a985-66f038cc8f0d",
   "metadata": {},
   "source": [
    "## Checking the window"
   ]
  },
  {
   "cell_type": "code",
   "execution_count": 9,
   "id": "76fe00af-2b48-4482-96c7-c8f3556bab23",
   "metadata": {},
   "outputs": [
    {
     "name": "stdout",
     "output_type": "stream",
     "text": [
      "Kuhar train have 6 windows\n",
      "Each sample train can be sliced at: [(0, 300), (300, 600), (600, 900), (900, 1200), (1200, 1500), (1500, 1800)]\n",
      "Each slice has the following name associated: ['accel-x', 'accel-y', 'accel-z', 'gyro-x', 'gyro-y', 'gyro-z']\n"
     ]
    }
   ],
   "source": [
    "print(f\"Kuhar train have {kh_train_dataset.num_windows} windows\")\n",
    "print(f\"Each sample train can be sliced at: {kh_train_dataset.window_slices}\")\n",
    "print(f\"Each slice has the following name associated: {kh_train_dataset.window_names}\")"
   ]
  },
  {
   "cell_type": "markdown",
   "id": "f4df78f4-af82-45df-ba0a-fd29149e3742",
   "metadata": {},
   "source": [
    "## Activities dictionary"
   ]
  },
  {
   "cell_type": "code",
   "execution_count": 10,
   "id": "c37b5465-dfd2-4247-add6-00af7da1bda3",
   "metadata": {},
   "outputs": [],
   "source": [
    "act_names = ['Stand',\n",
    " 'Sit',\n",
    " 'Talk-sit',\n",
    " 'Talk-stand',\n",
    " 'Stand-sit',\n",
    " 'Lay',\n",
    " 'Lay-stand',\n",
    " 'Pick',\n",
    " 'Jump',\n",
    " 'Push-up',\n",
    " 'Sit-up',\n",
    " 'Walk',\n",
    " 'Walk-backwards',\n",
    " 'Walk-circle',\n",
    " 'Run',\n",
    " 'Stair-up',\n",
    " 'Stair-down',\n",
    " 'Table-tennis']"
   ]
  },
  {
   "cell_type": "code",
   "execution_count": 11,
   "id": "4e393b93-c96b-4d52-8d84-f34131a71ccd",
   "metadata": {},
   "outputs": [],
   "source": [
    "act_dict = {}\n",
    "for i in range(0, len(act_names)):\n",
    "    act_dict[act_names[i]] = i"
   ]
  },
  {
   "cell_type": "markdown",
   "id": "3c2665c4-07ed-491a-8e5f-ccd2950b68fc",
   "metadata": {},
   "source": [
    "## Resampling"
   ]
  },
  {
   "cell_type": "markdown",
   "id": "956dda53-e163-4b18-9f47-8e11285c65db",
   "metadata": {},
   "source": [
    "### Setting the column names"
   ]
  },
  {
   "cell_type": "code",
   "execution_count": 12,
   "id": "5d9b7fda-d800-435b-8561-e9046de3d910",
   "metadata": {},
   "outputs": [],
   "source": [
    "accel_x = [\"accel-x-\"+str(i) for i in range(0, 90)]\n",
    "accel_y = [\"accel-y-\"+str(i) for i in range(0, 90)]\n",
    "accel_z = [\"accel-z-\"+str(i) for i in range(0, 90)]\n",
    "gyro_x = [\"gyro-x-\"+str(i) for i in range(0, 90)]\n",
    "gyro_y = [\"gyro-y-\"+str(i) for i in range(0, 90)]\n",
    "gyro_z = [\"gyro-z-\"+str(i) for i in range(0, 90)]\n",
    "columns = np.concatenate((accel_x, accel_y, accel_z, gyro_x, gyro_y, gyro_z))"
   ]
  },
  {
   "cell_type": "markdown",
   "id": "e1041873-9914-43d0-83ba-faa101af6445",
   "metadata": {},
   "source": [
    "### Creating the resampled dataframes"
   ]
  },
  {
   "cell_type": "code",
   "execution_count": 13,
   "id": "b8e8fb3c-a607-47fa-9b09-e63c9d49ac88",
   "metadata": {},
   "outputs": [],
   "source": [
    "resampler = SimpleResampler(new_sample_size=90)\n",
    "transformer = TransformMultiModalDataset(transforms=[resampler], new_window_name_prefix=\"resampled-30Hz.\")"
   ]
  },
  {
   "cell_type": "code",
   "execution_count": 14,
   "id": "e660df4e-d095-4a26-a8d2-8053212b0e8a",
   "metadata": {},
   "outputs": [],
   "source": [
    "resampled_kh_train_samples_df = pd.DataFrame(transformer(kh_train_dataset)[:][0], columns=columns)\n",
    "resampled_kh_train = pd.concat([resampled_kh_train_samples_df, kh_train.iloc[:, -9:]], axis=1)\n",
    "\n",
    "resampled_kh_validation_samples_df = pd.DataFrame(transformer(kh_validation_dataset)[:][0], columns=columns)\n",
    "resampled_kh_validation = pd.concat([resampled_kh_validation_samples_df, kh_validation.iloc[:, -9:]], axis=1)\n",
    "\n",
    "resampled_kh_test_samples_df = pd.DataFrame(transformer(kh_test_dataset)[:][0], columns=columns)\n",
    "resampled_kh_test = pd.concat([resampled_kh_test_samples_df, kh_test.iloc[:, -9:]], axis=1)"
   ]
  },
  {
   "cell_type": "markdown",
   "id": "414442e4-b5af-4d86-9cf2-2ac42b83c38f",
   "metadata": {},
   "source": [
    "### Creating the datasets"
   ]
  },
  {
   "cell_type": "code",
   "execution_count": 15,
   "id": "1f510f01-e678-4047-b037-90bd6b713219",
   "metadata": {},
   "outputs": [],
   "source": [
    "resampled_kh_train_dataset = PandasMultiModalDataset(\n",
    "    resampled_kh_train,\n",
    "    feature_prefixes=features,\n",
    "    label_columns=\"activity code\",\n",
    "    as_array=True\n",
    ")\n",
    "\n",
    "resampled_kh_validation_dataset = PandasMultiModalDataset(\n",
    "    resampled_kh_validation,\n",
    "    feature_prefixes=features,\n",
    "    label_columns=\"activity code\",\n",
    "    as_array=True\n",
    ")\n",
    "\n",
    "resampled_kh_test_dataset = PandasMultiModalDataset(\n",
    "    resampled_kh_test,\n",
    "    feature_prefixes=features,\n",
    "    label_columns=\"activity code\",\n",
    "    as_array=True\n",
    ")"
   ]
  },
  {
   "cell_type": "markdown",
   "id": "e0b9df7d-cc3e-466a-9719-dd083d4ee68d",
   "metadata": {},
   "source": [
    "## Saving the resampled data"
   ]
  },
  {
   "cell_type": "code",
   "execution_count": 27,
   "id": "c7a9cda8-f111-4715-94c2-e474574149ab",
   "metadata": {
    "tags": []
   },
   "outputs": [
    {
     "name": "stdout",
     "output_type": "stream",
     "text": [
      "# Resampled to 30Hz KuHar View\n",
      "\n",
      "This view contains train, validation and test subsets in the following proportions:\n",
      "- Train: 70% of samples\n",
      "- Validation: 10% of samples\n",
      "- Test: 20% of samples\n",
      "\n",
      "After splits, the datasets were balanced in relation to the activity code column, that is, each subset have the same number of activitiy samples.\n",
      "\n",
      "## Activities:\n",
      "- Stand: 0 (185 train, 6 validation, 21 test)\n",
      "- Sit: 1 (185 train, 6 validation, 21 test)\n",
      "- Talk-sit: 2 (185 train, 6 validation, 21 test)\n",
      "- Talk-stand: 3 (185 train, 6 validation, 21 test)\n",
      "- Stand-sit: 4 (185 train, 6 validation, 21 test)\n",
      "- Lay: 5 (185 train, 6 validation, 21 test)\n",
      "- Lay-stand: 6 (185 train, 6 validation, 21 test)\n",
      "- Pick: 7 (185 train, 6 validation, 21 test)\n",
      "- Jump: 8 (185 train, 6 validation, 21 test)\n",
      "- Push-up: 9 (185 train, 6 validation, 21 test)\n",
      "- Sit-up: 10 (185 train, 6 validation, 21 test)\n",
      "- Walk: 11 (185 train, 6 validation, 21 test)\n",
      "- Walk-backwards: 12 (185 train, 6 validation, 21 test)\n",
      "- Walk-circle: 13 (185 train, 6 validation, 21 test)\n",
      "- Run: 14 (185 train, 6 validation, 21 test)\n",
      "- Stair-up: 15 (185 train, 6 validation, 21 test)\n",
      "- Stair-down: 16 (185 train, 6 validation, 21 test)\n",
      "- Table-tennis: 17 (185 train, 6 validation, 21 test)\n",
      "\n",
      "## Users\n",
      "- 62 users train dataset: 1003 (29 samples), 1004 (58 samples), 1005 (25 samples), 1008 (71 samples), 1011 (24 samples), 1013 (54 samples), 1014 (120 samples), 1015 (56 samples), 1016 (39 samples), 1017 (24 samples), 1018 (35 samples), 1020 (32 samples), 1021 (39 samples), 1022 (102 samples), 1023 (63 samples), 1024 (117 samples), 1025 (39 samples), 1026 (89 samples), 1027 (64 samples), 1029 (39 samples), 1031 (42 samples), 1032 (21 samples), 1033 (18 samples), 1034 (138 samples), 1035 (7 samples), 1037 (67 samples), 1038 (48 samples), 1039 (103 samples), 1040 (92 samples), 1041 (96 samples), 1042 (85 samples), 1043 (87 samples), 1046 (82 samples), 1047 (37 samples), 1048 (38 samples), 1049 (36 samples), 1051 (28 samples), 1053 (29 samples), 1054 (8 samples), 1055 (36 samples), 1058 (29 samples), 1060 (31 samples), 1061 (33 samples), 1063 (27 samples), 1064 (19 samples), 1067 (16 samples), 1068 (32 samples), 1069 (25 samples), 1070 (33 samples), 1073 (15 samples), 1074 (14 samples), 1075 (17 samples), 1076 (31 samples), 1078 (20 samples), 1079 (26 samples), 1081 (51 samples), 1083 (30 samples), 1084 (29 samples), 1085 (29 samples), 1087 (32 samples), 1090 (42 samples), 1101 (532 samples).\n",
      "- 9 users validation dataset: 1002 (58 samples), 1006 (5 samples), 1019 (6 samples), 1062 (6 samples), 1065 (3 samples), 1071 (13 samples), 1072 (1 samples), 1082 (10 samples), 1086 (6 samples).\n",
      "- 18 users test dataset: 1001 (12 samples), 1007 (19 samples), 1009 (8 samples), 1010 (6 samples), 1028 (10 samples), 1030 (29 samples), 1036 (45 samples), 1044 (66 samples), 1045 (58 samples), 1050 (10 samples), 1052 (14 samples), 1056 (22 samples), 1057 (10 samples), 1066 (15 samples), 1077 (23 samples), 1080 (10 samples), 1088 (10 samples), 1089 (11 samples).\n",
      "\n",
      "**NOTE**: Each subset contain samples from distinct users, that is, samples of one user belongs exclusivelly to one of three subsets.\n",
      "\n",
      "\n"
     ]
    }
   ],
   "source": [
    "output_path = Path(\"../../../data/views/KuHar/resampled_view_30Hz\")\n",
    "\n",
    "train_act_samples = resampled_kh_train[\"activity code\"].value_counts().to_dict()\n",
    "validation_act_samples = resampled_kh_validation[\"activity code\"].value_counts().to_dict()\n",
    "test_act_samples = resampled_kh_test[\"activity code\"].value_counts().to_dict()\n",
    "activities = [f\"- {name}: {code} ({train_act_samples[code]} train, {validation_act_samples[code]} validation, {test_act_samples[code]} test)\" for name, code in act_dict.items()]\n",
    "activities = \"\\n\".join(activities)\n",
    "\n",
    "train_users = [f\"{user} ({no_samples} samples)\" for user, no_samples in sorted(resampled_kh_train[\"user\"].value_counts().sort_values().items(), key=lambda x: x[0])]\n",
    "train_users = ', '.join(train_users)\n",
    "validation_users = [f\"{user} ({no_samples} samples)\" for user, no_samples in sorted(resampled_kh_validation[\"user\"].value_counts().sort_values().items(), key=lambda x: x[0])]\n",
    "validation_users = ', '.join(validation_users)\n",
    "test_users = [f\"{user} ({no_samples} samples)\" for user, no_samples in sorted(resampled_kh_test[\"user\"].value_counts().items(), key=lambda x: x[0])]\n",
    "test_users = ', '.join(test_users)\n",
    "\n",
    "\n",
    "description = f\"\"\"# Resampled to 30Hz KuHar View\n",
    "\n",
    "This view contains train, validation and test subsets in the following proportions:\n",
    "- Train: 70% of samples\n",
    "- Validation: 10% of samples\n",
    "- Test: 20% of samples\n",
    "\n",
    "After splits, the datasets were balanced in relation to the activity code column, that is, each subset have the same number of activitiy samples.\n",
    "\n",
    "## Activities:\n",
    "{activities}\n",
    "\n",
    "## Users\n",
    "- {len(resampled_kh_train.user.unique())} users train dataset: {train_users}.\n",
    "- {len(resampled_kh_validation.user.unique())} users validation dataset: {validation_users}.\n",
    "- {len(resampled_kh_test.user.unique())} users test dataset: {test_users}.\n",
    "\n",
    "**NOTE**: Each subset contain samples from distinct users, that is, samples of one user belongs exclusivelly to one of three subsets.\n",
    "\n",
    "\"\"\"\n",
    "\n",
    "print(description)\n",
    "pandas_io = PandasDatasetsIO(output_path)"
   ]
  },
  {
   "cell_type": "code",
   "execution_count": 28,
   "id": "4f4a9c1b-beca-4c22-a84a-319fc341e709",
   "metadata": {
    "tags": []
   },
   "outputs": [],
   "source": [
    "pandas_io.save(train=resampled_kh_train, validation=resampled_kh_validation, test=resampled_kh_test, description=description)"
   ]
  },
  {
   "cell_type": "code",
   "execution_count": null,
   "id": "12550e7c-7fe3-47aa-87e5-44d1da8cf8d3",
   "metadata": {},
   "outputs": [],
   "source": []
  }
 ],
 "metadata": {
  "kernelspec": {
   "display_name": "Python 3 (ipykernel)",
   "language": "python",
   "name": "python3"
  },
  "language_info": {
   "codemirror_mode": {
    "name": "ipython",
    "version": 3
   },
   "file_extension": ".py",
   "mimetype": "text/x-python",
   "name": "python",
   "nbconvert_exporter": "python",
   "pygments_lexer": "ipython3",
   "version": "3.8.10"
  }
 },
 "nbformat": 4,
 "nbformat_minor": 5
}
