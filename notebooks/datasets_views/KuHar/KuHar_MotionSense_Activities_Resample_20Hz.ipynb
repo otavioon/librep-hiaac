{
 "cells": [
  {
   "cell_type": "markdown",
   "id": "9a0c0e3e-a130-465c-8aec-671bdd27bf3f",
   "metadata": {},
   "source": [
    "# Resampling KuHar with MotionSense activities to 20Hz"
   ]
  },
  {
   "cell_type": "code",
   "execution_count": 1,
   "id": "498254b0-ea10-4f02-b718-d26ce855b77b",
   "metadata": {
    "tags": []
   },
   "outputs": [],
   "source": [
    "%load_ext autoreload\n",
    "%autoreload 2\n",
    "\n",
    "import sys\n",
    "\n",
    "sys.path.append(\"../../../\")"
   ]
  },
  {
   "cell_type": "code",
   "execution_count": 2,
   "id": "fad53baa-1190-4969-9ae9-489321c5966e",
   "metadata": {
    "tags": []
   },
   "outputs": [],
   "source": [
    "from pathlib import Path\n",
    "\n",
    "import numpy as np\n",
    "import pandas as pd\n",
    "\n",
    "from librep.utils.dataset import PandasDatasetsIO          # For quick load train, test and validation CSVs\n",
    "from librep.datasets.multimodal import PandasMultiModalDataset # Wrap CSVs to librep's `Dataset` interface\n",
    "\n",
    "from librep.datasets.multimodal import TransformMultiModalDataset\n",
    "from librep.transforms.resampler import SimpleResampler"
   ]
  },
  {
   "cell_type": "markdown",
   "id": "b3a70d59-2c17-4b67-ac3f-7a2a3306ed74",
   "metadata": {
    "tags": []
   },
   "source": [
    "## Loading data"
   ]
  },
  {
   "cell_type": "code",
   "execution_count": 3,
   "id": "db74f2f3-4ed1-49a4-a5b7-40d607ef451c",
   "metadata": {
    "tags": []
   },
   "outputs": [],
   "source": [
    "# Path for KuHar balanced view with the same activities (and labels numbers) as MotionSense\n",
    "# It is assumed that the directory will contain (train.csv, test.csv and validation.csv)\n",
    "kuhar_dataset_path = Path(\"../../../data/views/KuHar/balanced_motionsense_equivalent_view\")"
   ]
  },
  {
   "cell_type": "markdown",
   "id": "1dfd6084-06e9-4345-af28-1ff1926c01d6",
   "metadata": {},
   "source": [
    "Once paths is defined, we can load the CSV as pandas dataframes"
   ]
  },
  {
   "cell_type": "code",
   "execution_count": 4,
   "id": "d4cb9c09-10be-4838-996d-6e078db6836c",
   "metadata": {
    "tags": []
   },
   "outputs": [],
   "source": [
    "# Kuhar dataframes\n",
    "kh_train, kh_validation, kh_test = PandasDatasetsIO(kuhar_dataset_path).load()"
   ]
  },
  {
   "cell_type": "markdown",
   "id": "97d66571-2951-49ab-9872-55c61a7d7610",
   "metadata": {},
   "source": [
    "Letś take a look in the train dataframes"
   ]
  },
  {
   "cell_type": "code",
   "execution_count": 5,
   "id": "daa289bb-d2a8-4975-b48d-e52dad59e04c",
   "metadata": {
    "tags": []
   },
   "outputs": [
    {
     "data": {
      "text/html": [
       "<div>\n",
       "<style scoped>\n",
       "    .dataframe tbody tr th:only-of-type {\n",
       "        vertical-align: middle;\n",
       "    }\n",
       "\n",
       "    .dataframe tbody tr th {\n",
       "        vertical-align: top;\n",
       "    }\n",
       "\n",
       "    .dataframe thead th {\n",
       "        text-align: right;\n",
       "    }\n",
       "</style>\n",
       "<table border=\"1\" class=\"dataframe\">\n",
       "  <thead>\n",
       "    <tr style=\"text-align: right;\">\n",
       "      <th></th>\n",
       "      <th>Unnamed: 0</th>\n",
       "      <th>accel-x-0</th>\n",
       "      <th>accel-x-1</th>\n",
       "      <th>accel-x-2</th>\n",
       "      <th>accel-x-3</th>\n",
       "      <th>accel-x-4</th>\n",
       "      <th>accel-x-5</th>\n",
       "      <th>accel-x-6</th>\n",
       "      <th>accel-x-7</th>\n",
       "      <th>accel-x-8</th>\n",
       "      <th>...</th>\n",
       "      <th>accel-start-time</th>\n",
       "      <th>gyro-start-time</th>\n",
       "      <th>accel-end-time</th>\n",
       "      <th>gyro-end-time</th>\n",
       "      <th>activity code</th>\n",
       "      <th>length</th>\n",
       "      <th>serial</th>\n",
       "      <th>index</th>\n",
       "      <th>user</th>\n",
       "      <th>normalized activity code</th>\n",
       "    </tr>\n",
       "  </thead>\n",
       "  <tbody>\n",
       "    <tr>\n",
       "      <th>0</th>\n",
       "      <td>0</td>\n",
       "      <td>3.804435</td>\n",
       "      <td>4.461484</td>\n",
       "      <td>5.098265</td>\n",
       "      <td>5.633330</td>\n",
       "      <td>5.949605</td>\n",
       "      <td>5.865928</td>\n",
       "      <td>5.490818</td>\n",
       "      <td>5.178724</td>\n",
       "      <td>4.903305</td>\n",
       "      <td>...</td>\n",
       "      <td>9.159</td>\n",
       "      <td>9.160</td>\n",
       "      <td>12.199</td>\n",
       "      <td>12.201</td>\n",
       "      <td>0</td>\n",
       "      <td>300</td>\n",
       "      <td>23</td>\n",
       "      <td>900</td>\n",
       "      <td>1101</td>\n",
       "      <td>4</td>\n",
       "    </tr>\n",
       "    <tr>\n",
       "      <th>1</th>\n",
       "      <td>1</td>\n",
       "      <td>-2.625497</td>\n",
       "      <td>-2.580110</td>\n",
       "      <td>-2.602727</td>\n",
       "      <td>-2.606654</td>\n",
       "      <td>-2.498523</td>\n",
       "      <td>-2.376706</td>\n",
       "      <td>-2.323041</td>\n",
       "      <td>-2.309243</td>\n",
       "      <td>-2.359475</td>\n",
       "      <td>...</td>\n",
       "      <td>9.167</td>\n",
       "      <td>9.166</td>\n",
       "      <td>12.211</td>\n",
       "      <td>12.208</td>\n",
       "      <td>0</td>\n",
       "      <td>300</td>\n",
       "      <td>43</td>\n",
       "      <td>900</td>\n",
       "      <td>1101</td>\n",
       "      <td>4</td>\n",
       "    </tr>\n",
       "    <tr>\n",
       "      <th>2</th>\n",
       "      <td>2</td>\n",
       "      <td>-5.197734</td>\n",
       "      <td>-3.238093</td>\n",
       "      <td>-1.691018</td>\n",
       "      <td>-0.301669</td>\n",
       "      <td>0.546108</td>\n",
       "      <td>1.183569</td>\n",
       "      <td>1.874060</td>\n",
       "      <td>2.399963</td>\n",
       "      <td>2.718681</td>\n",
       "      <td>...</td>\n",
       "      <td>15.262</td>\n",
       "      <td>15.263</td>\n",
       "      <td>18.298</td>\n",
       "      <td>18.299</td>\n",
       "      <td>0</td>\n",
       "      <td>300</td>\n",
       "      <td>24</td>\n",
       "      <td>1500</td>\n",
       "      <td>1101</td>\n",
       "      <td>4</td>\n",
       "    </tr>\n",
       "    <tr>\n",
       "      <th>3</th>\n",
       "      <td>3</td>\n",
       "      <td>-3.956416</td>\n",
       "      <td>-3.492933</td>\n",
       "      <td>-3.084537</td>\n",
       "      <td>-2.849711</td>\n",
       "      <td>-2.748260</td>\n",
       "      <td>-2.742799</td>\n",
       "      <td>-2.801168</td>\n",
       "      <td>-2.875001</td>\n",
       "      <td>-2.925813</td>\n",
       "      <td>...</td>\n",
       "      <td>33.572</td>\n",
       "      <td>33.583</td>\n",
       "      <td>36.615</td>\n",
       "      <td>36.626</td>\n",
       "      <td>0</td>\n",
       "      <td>300</td>\n",
       "      <td>41</td>\n",
       "      <td>3300</td>\n",
       "      <td>1101</td>\n",
       "      <td>4</td>\n",
       "    </tr>\n",
       "    <tr>\n",
       "      <th>4</th>\n",
       "      <td>4</td>\n",
       "      <td>0.470529</td>\n",
       "      <td>0.253190</td>\n",
       "      <td>0.049246</td>\n",
       "      <td>-0.075565</td>\n",
       "      <td>-0.150161</td>\n",
       "      <td>-0.084733</td>\n",
       "      <td>0.092960</td>\n",
       "      <td>0.292096</td>\n",
       "      <td>0.418061</td>\n",
       "      <td>...</td>\n",
       "      <td>0.008</td>\n",
       "      <td>0.007</td>\n",
       "      <td>3.047</td>\n",
       "      <td>3.048</td>\n",
       "      <td>0</td>\n",
       "      <td>300</td>\n",
       "      <td>30</td>\n",
       "      <td>0</td>\n",
       "      <td>1101</td>\n",
       "      <td>4</td>\n",
       "    </tr>\n",
       "  </tbody>\n",
       "</table>\n",
       "<p>5 rows × 1811 columns</p>\n",
       "</div>"
      ],
      "text/plain": [
       "   Unnamed: 0  accel-x-0  accel-x-1  accel-x-2  accel-x-3  accel-x-4  \\\n",
       "0           0   3.804435   4.461484   5.098265   5.633330   5.949605   \n",
       "1           1  -2.625497  -2.580110  -2.602727  -2.606654  -2.498523   \n",
       "2           2  -5.197734  -3.238093  -1.691018  -0.301669   0.546108   \n",
       "3           3  -3.956416  -3.492933  -3.084537  -2.849711  -2.748260   \n",
       "4           4   0.470529   0.253190   0.049246  -0.075565  -0.150161   \n",
       "\n",
       "   accel-x-5  accel-x-6  accel-x-7  accel-x-8  ...  accel-start-time  \\\n",
       "0   5.865928   5.490818   5.178724   4.903305  ...             9.159   \n",
       "1  -2.376706  -2.323041  -2.309243  -2.359475  ...             9.167   \n",
       "2   1.183569   1.874060   2.399963   2.718681  ...            15.262   \n",
       "3  -2.742799  -2.801168  -2.875001  -2.925813  ...            33.572   \n",
       "4  -0.084733   0.092960   0.292096   0.418061  ...             0.008   \n",
       "\n",
       "   gyro-start-time  accel-end-time  gyro-end-time  activity code  length  \\\n",
       "0            9.160          12.199         12.201              0     300   \n",
       "1            9.166          12.211         12.208              0     300   \n",
       "2           15.263          18.298         18.299              0     300   \n",
       "3           33.583          36.615         36.626              0     300   \n",
       "4            0.007           3.047          3.048              0     300   \n",
       "\n",
       "   serial  index  user  normalized activity code  \n",
       "0      23    900  1101                         4  \n",
       "1      43    900  1101                         4  \n",
       "2      24   1500  1101                         4  \n",
       "3      41   3300  1101                         4  \n",
       "4      30      0  1101                         4  \n",
       "\n",
       "[5 rows x 1811 columns]"
      ]
     },
     "execution_count": 5,
     "metadata": {},
     "output_type": "execute_result"
    }
   ],
   "source": [
    "kh_train.head()"
   ]
  },
  {
   "cell_type": "markdown",
   "id": "a82d0f7d-3bc0-492f-be47-ddd5f6e52d7e",
   "metadata": {},
   "source": [
    "## Creating librep dataset "
   ]
  },
  {
   "cell_type": "code",
   "execution_count": 6,
   "id": "052a9842-a462-40ee-ae55-f930fc4397ea",
   "metadata": {},
   "outputs": [],
   "source": [
    "# Kuhar features to select\n",
    "features = [\n",
    "    \"accel-x\",\n",
    "    \"accel-y\",\n",
    "    \"accel-z\",\n",
    "    \"gyro-x\",\n",
    "    \"gyro-y\",\n",
    "    \"gyro-z\"\n",
    "]\n",
    "\n",
    "# Creating the datasets\n",
    "\n",
    "# Train\n",
    "kh_train_dataset = PandasMultiModalDataset(\n",
    "    kh_train,\n",
    "    feature_prefixes=features,\n",
    "    label_columns=\"normalized activity code\",\n",
    "    as_array=True\n",
    ")\n",
    "\n",
    "# Validation\n",
    "kh_validation_dataset = PandasMultiModalDataset(\n",
    "    kh_validation,\n",
    "    feature_prefixes=features,\n",
    "    label_columns=\"normalized activity code\",\n",
    "    as_array=True\n",
    ")\n",
    "\n",
    "# Test\n",
    "kh_test_dataset = PandasMultiModalDataset(\n",
    "    kh_test,\n",
    "    feature_prefixes=features,\n",
    "    label_columns=\"normalized activity code\",\n",
    "    as_array=True\n",
    ")"
   ]
  },
  {
   "cell_type": "code",
   "execution_count": 7,
   "id": "bd5e10eb-02f3-41d0-89eb-08d4afd9ef6c",
   "metadata": {},
   "outputs": [
    {
     "data": {
      "text/plain": [
       "Index(['Unnamed: 0', 'accel-x-0', 'accel-x-1', 'accel-x-2', 'accel-x-3',\n",
       "       'accel-x-4', 'accel-x-5', 'accel-x-6', 'accel-x-7', 'accel-x-8',\n",
       "       ...\n",
       "       'accel-start-time', 'gyro-start-time', 'accel-end-time',\n",
       "       'gyro-end-time', 'activity code', 'length', 'serial', 'index', 'user',\n",
       "       'normalized activity code'],\n",
       "      dtype='object', length=1811)"
      ]
     },
     "execution_count": 7,
     "metadata": {},
     "output_type": "execute_result"
    }
   ],
   "source": [
    "kh_train.columns"
   ]
  },
  {
   "cell_type": "markdown",
   "id": "830745ff-c6af-4d4d-98db-33e7804f1288",
   "metadata": {},
   "source": [
    "## Inspect the sample"
   ]
  },
  {
   "cell_type": "code",
   "execution_count": 8,
   "id": "100009c2-3a2a-4a6c-8236-112c8ed43b96",
   "metadata": {},
   "outputs": [
    {
     "name": "stdout",
     "output_type": "stream",
     "text": [
      "(array([ 3.8044353 ,  4.4614844 ,  5.0982647 , ..., -0.10786453,\n",
      "       -0.03970453, -0.00881953]), 4)\n",
      "The sample 0: [ 3.8044353   4.4614844   5.0982647  ... -0.10786453 -0.03970453\n",
      " -0.00881953]\n",
      "Shape of sample 0: (1800,)\n",
      "The label of sample 0: 4\n"
     ]
    }
   ],
   "source": [
    "# Lets print the first sample of kh_train dataset.\n",
    "# Is a tuple, with an vector of 1800 elements as first element and the label as second\n",
    "x = kh_train_dataset[0]\n",
    "print(x)\n",
    "\n",
    "# Inspecting sample\n",
    "print(f\"The sample 0: {x[0]}\")\n",
    "print(f\"Shape of sample 0: {x[0].shape}\")\n",
    "print(f\"The label of sample 0: {x[1]}\")"
   ]
  },
  {
   "cell_type": "markdown",
   "id": "cd10c49b-b6dc-4ee5-a985-66f038cc8f0d",
   "metadata": {},
   "source": [
    "## Checking the window"
   ]
  },
  {
   "cell_type": "code",
   "execution_count": 9,
   "id": "76fe00af-2b48-4482-96c7-c8f3556bab23",
   "metadata": {},
   "outputs": [
    {
     "name": "stdout",
     "output_type": "stream",
     "text": [
      "Kuhar train have 6 windows\n",
      "Each sample train can be sliced at: [(0, 300), (300, 600), (600, 900), (900, 1200), (1200, 1500), (1500, 1800)]\n",
      "Each slice has the following name associated: ['accel-x', 'accel-y', 'accel-z', 'gyro-x', 'gyro-y', 'gyro-z']\n"
     ]
    }
   ],
   "source": [
    "print(f\"Kuhar train have {kh_train_dataset.num_windows} windows\")\n",
    "print(f\"Each sample train can be sliced at: {kh_train_dataset.window_slices}\")\n",
    "print(f\"Each slice has the following name associated: {kh_train_dataset.window_names}\")"
   ]
  },
  {
   "cell_type": "markdown",
   "id": "f4df78f4-af82-45df-ba0a-fd29149e3742",
   "metadata": {},
   "source": [
    "## Activities dictionary"
   ]
  },
  {
   "cell_type": "code",
   "execution_count": 10,
   "id": "c37b5465-dfd2-4247-add6-00af7da1bda3",
   "metadata": {},
   "outputs": [],
   "source": [
    "act_names = ['Sit',\n",
    " 'Stand',\n",
    " 'Walk',\n",
    " 'Stair-up',\n",
    " 'Stair-down',\n",
    " 'Run']"
   ]
  },
  {
   "cell_type": "code",
   "execution_count": 11,
   "id": "4e393b93-c96b-4d52-8d84-f34131a71ccd",
   "metadata": {},
   "outputs": [],
   "source": [
    "act_dict = {}\n",
    "for i in range(0, len(act_names)):\n",
    "    act_dict[act_names[i]] = i"
   ]
  },
  {
   "cell_type": "markdown",
   "id": "3c2665c4-07ed-491a-8e5f-ccd2950b68fc",
   "metadata": {},
   "source": [
    "## Resampling"
   ]
  },
  {
   "cell_type": "markdown",
   "id": "956dda53-e163-4b18-9f47-8e11285c65db",
   "metadata": {},
   "source": [
    "### Setting the column names"
   ]
  },
  {
   "cell_type": "code",
   "execution_count": 12,
   "id": "5d9b7fda-d800-435b-8561-e9046de3d910",
   "metadata": {},
   "outputs": [],
   "source": [
    "accel_x = [\"accel-x-\"+str(i) for i in range(0, 60)]\n",
    "accel_y = [\"accel-y-\"+str(i) for i in range(0, 60)]\n",
    "accel_z = [\"accel-z-\"+str(i) for i in range(0, 60)]\n",
    "gyro_x = [\"gyro-x-\"+str(i) for i in range(0, 60)]\n",
    "gyro_y = [\"gyro-y-\"+str(i) for i in range(0, 60)]\n",
    "gyro_z = [\"gyro-z-\"+str(i) for i in range(0, 60)]\n",
    "columns = np.concatenate((accel_x, accel_y, accel_z, gyro_x, gyro_y, gyro_z))"
   ]
  },
  {
   "cell_type": "markdown",
   "id": "e1041873-9914-43d0-83ba-faa101af6445",
   "metadata": {},
   "source": [
    "### Creating the resampled dataframes"
   ]
  },
  {
   "cell_type": "code",
   "execution_count": 13,
   "id": "b8e8fb3c-a607-47fa-9b09-e63c9d49ac88",
   "metadata": {},
   "outputs": [],
   "source": [
    "resampler = SimpleResampler(new_sample_size=60)\n",
    "transformer = TransformMultiModalDataset(transforms=[resampler], new_window_name_prefix=\"resampled-20Hz.\")"
   ]
  },
  {
   "cell_type": "code",
   "execution_count": 14,
   "id": "e660df4e-d095-4a26-a8d2-8053212b0e8a",
   "metadata": {},
   "outputs": [],
   "source": [
    "resampled_kh_train_samples_df = pd.DataFrame(transformer(kh_train_dataset)[:][0], columns=columns)\n",
    "resampled_kh_train = pd.concat([resampled_kh_train_samples_df, kh_train.iloc[:, -9:]], axis=1)\n",
    "\n",
    "resampled_kh_validation_samples_df = pd.DataFrame(transformer(kh_validation_dataset)[:][0], columns=columns)\n",
    "resampled_kh_validation = pd.concat([resampled_kh_validation_samples_df, kh_validation.iloc[:, -9:]], axis=1)\n",
    "\n",
    "resampled_kh_test_samples_df = pd.DataFrame(transformer(kh_test_dataset)[:][0], columns=columns)\n",
    "resampled_kh_test = pd.concat([resampled_kh_test_samples_df, kh_test.iloc[:, -9:]], axis=1)"
   ]
  },
  {
   "cell_type": "markdown",
   "id": "414442e4-b5af-4d86-9cf2-2ac42b83c38f",
   "metadata": {},
   "source": [
    "### Creating the datasets"
   ]
  },
  {
   "cell_type": "code",
   "execution_count": 15,
   "id": "1f510f01-e678-4047-b037-90bd6b713219",
   "metadata": {},
   "outputs": [],
   "source": [
    "resampled_kh_train_dataset = PandasMultiModalDataset(\n",
    "    resampled_kh_train,\n",
    "    feature_prefixes=features,\n",
    "    label_columns=\"normalized activity code\",\n",
    "    as_array=True\n",
    ")\n",
    "\n",
    "resampled_kh_validation_dataset = PandasMultiModalDataset(\n",
    "    resampled_kh_validation,\n",
    "    feature_prefixes=features,\n",
    "    label_columns=\"normalized activity code\",\n",
    "    as_array=True\n",
    ")\n",
    "\n",
    "resampled_kh_test_dataset = PandasMultiModalDataset(\n",
    "    resampled_kh_test,\n",
    "    feature_prefixes=features,\n",
    "    label_columns=\"normalized activity code\",\n",
    "    as_array=True\n",
    ")"
   ]
  },
  {
   "cell_type": "markdown",
   "id": "e0b9df7d-cc3e-466a-9719-dd083d4ee68d",
   "metadata": {},
   "source": [
    "## Saving the resampled data"
   ]
  },
  {
   "cell_type": "code",
   "execution_count": 16,
   "id": "2ab3fa79-1181-4c53-8db4-b0f6e9dab1d1",
   "metadata": {},
   "outputs": [],
   "source": [
    "act_code = {v: k for k, v in act_dict.items()}\n",
    "normalized_activity_names = {key: act_code[key] for key in range(0,6)}"
   ]
  },
  {
   "cell_type": "code",
   "execution_count": 17,
   "id": "c7a9cda8-f111-4715-94c2-e474574149ab",
   "metadata": {
    "tags": []
   },
   "outputs": [
    {
     "name": "stdout",
     "output_type": "stream",
     "text": [
      "# Balanced KuHar View Resampled to 20Hz\n",
      "\n",
      "This view contains train, validation and test subsets in the following proportions:\n",
      "- Train: 70% of samples\n",
      "- Validation: 10% of samples\n",
      "- Test: 20% of samples\n",
      "\n",
      "After splits, the datasets were balanced in relation to the activity code column, that is, each subset have the same number of activitiy samples.\n",
      "\n",
      "## Activities:\n",
      "- 0: Sit (485 train, 34 validation, 41 test)\n",
      "- 1: Stand (485 train, 34 validation, 41 test)\n",
      "- 2: Walk (485 train, 34 validation, 41 test)\n",
      "- 3: Stair-up (485 train, 34 validation, 41 test)\n",
      "- 4: Stair-down (485 train, 34 validation, 41 test)\n",
      "- 5: Run (485 train, 34 validation, 41 test)\n",
      "\n",
      "## Users\n",
      "- 56 users train dataset: 1001 (11 samples), 1002 (104 samples), 1003 (13 samples), 1004 (48 samples), 1006 (21 samples), 1007 (18 samples), 1008 (29 samples), 1009 (20 samples), 1013 (25 samples), 1014 (65 samples), 1015 (27 samples), 1016 (20 samples), 1017 (12 samples), 1018 (17 samples), 1019 (17 samples), 1020 (11 samples), 1022 (58 samples), 1024 (122 samples), 1025 (14 samples), 1027 (63 samples), 1028 (16 samples), 1029 (17 samples), 1031 (33 samples), 1034 (128 samples), 1035 (17 samples), 1037 (66 samples), 1038 (46 samples), 1039 (119 samples), 1041 (78 samples), 1043 (98 samples), 1044 (119 samples), 1045 (62 samples), 1048 (26 samples), 1049 (19 samples), 1051 (18 samples), 1052 (24 samples), 1053 (16 samples), 1055 (12 samples), 1056 (18 samples), 1058 (14 samples), 1060 (14 samples), 1062 (19 samples), 1063 (27 samples), 1064 (20 samples), 1066 (13 samples), 1069 (16 samples), 1071 (21 samples), 1072 (13 samples), 1073 (14 samples), 1074 (18 samples), 1076 (12 samples), 1077 (15 samples), 1078 (16 samples), 1080 (24 samples), 1081 (19 samples), 1101 (988 samples).\n",
      "- 7 users validation dataset: 1032 (10 samples), 1042 (98 samples), 1046 (56 samples), 1054 (6 samples), 1065 (7 samples), 1070 (12 samples), 1075 (15 samples).\n",
      "- 17 users test dataset: 1005 (4 samples), 1010 (7 samples), 1011 (5 samples), 1021 (7 samples), 1023 (40 samples), 1026 (53 samples), 1030 (3 samples), 1033 (2 samples), 1036 (36 samples), 1040 (52 samples), 1047 (9 samples), 1050 (8 samples), 1057 (3 samples), 1061 (3 samples), 1067 (4 samples), 1068 (8 samples), 1079 (2 samples).\n",
      "\n",
      "**NOTE**: Each subset contain samples from distinct users, that is, samples of one user belongs exclusivelly to one of three subsets.\n",
      "\n",
      "\n"
     ]
    }
   ],
   "source": [
    "output_path = Path(\"../../../data/views/KuHar/balanced_motionsense_equivalent_resampled_view_20Hz\")\n",
    "\n",
    "train_act_samples = resampled_kh_train[\"normalized activity code\"].value_counts().to_dict()\n",
    "validation_act_samples = resampled_kh_validation[\"normalized activity code\"].value_counts().to_dict()\n",
    "test_act_samples = resampled_kh_test[\"normalized activity code\"].value_counts().to_dict()\n",
    "activities = [f\"- {name}: {code} ({train_act_samples[name]} train, {validation_act_samples[name]} validation, {test_act_samples[name]} test)\" for name, code in normalized_activity_names.items()]\n",
    "activities = \"\\n\".join(activities)\n",
    "\n",
    "train_users = [f\"{user} ({no_samples} samples)\" for user, no_samples in sorted(resampled_kh_train[\"user\"].value_counts().sort_values().items(), key=lambda x: x[0])]\n",
    "train_users = ', '.join(train_users)\n",
    "validation_users = [f\"{user} ({no_samples} samples)\" for user, no_samples in sorted(resampled_kh_validation[\"user\"].value_counts().sort_values().items(), key=lambda x: x[0])]\n",
    "validation_users = ', '.join(validation_users)\n",
    "test_users = [f\"{user} ({no_samples} samples)\" for user, no_samples in sorted(resampled_kh_test[\"user\"].value_counts().items(), key=lambda x: x[0])]\n",
    "test_users = ', '.join(test_users)\n",
    "\n",
    "\n",
    "description = f\"\"\"# Balanced KuHar View Resampled to 20Hz\n",
    "\n",
    "This view contains train, validation and test subsets in the following proportions:\n",
    "- Train: 70% of samples\n",
    "- Validation: 10% of samples\n",
    "- Test: 20% of samples\n",
    "\n",
    "After splits, the datasets were balanced in relation to the activity code column, that is, each subset have the same number of activitiy samples.\n",
    "\n",
    "## Activities:\n",
    "{activities}\n",
    "\n",
    "## Users\n",
    "- {len(resampled_kh_train.user.unique())} users train dataset: {train_users}.\n",
    "- {len(resampled_kh_validation.user.unique())} users validation dataset: {validation_users}.\n",
    "- {len(resampled_kh_test.user.unique())} users test dataset: {test_users}.\n",
    "\n",
    "**NOTE**: Each subset contain samples from distinct users, that is, samples of one user belongs exclusivelly to one of three subsets.\n",
    "\n",
    "\"\"\"\n",
    "\n",
    "print(description)\n",
    "pandas_io = PandasDatasetsIO(output_path)"
   ]
  },
  {
   "cell_type": "code",
   "execution_count": 18,
   "id": "4f4a9c1b-beca-4c22-a84a-319fc341e709",
   "metadata": {
    "tags": []
   },
   "outputs": [],
   "source": [
    "pandas_io.save(train=resampled_kh_train, validation=resampled_kh_validation, test=resampled_kh_test, description=description)"
   ]
  },
  {
   "cell_type": "code",
   "execution_count": null,
   "id": "bda1c1c6-5e45-410b-8072-3ea215455059",
   "metadata": {},
   "outputs": [],
   "source": []
  }
 ],
 "metadata": {
  "kernelspec": {
   "display_name": "Python 3 (ipykernel)",
   "language": "python",
   "name": "python3"
  },
  "language_info": {
   "codemirror_mode": {
    "name": "ipython",
    "version": 3
   },
   "file_extension": ".py",
   "mimetype": "text/x-python",
   "name": "python",
   "nbconvert_exporter": "python",
   "pygments_lexer": "ipython3",
   "version": "3.8.10"
  }
 },
 "nbformat": 4,
 "nbformat_minor": 5
}
