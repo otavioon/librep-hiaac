{
 "cells": [
  {
   "cell_type": "code",
   "execution_count": 1,
   "id": "bd9cf7dd-30ed-418b-9abe-f317d9fa3ccb",
   "metadata": {
    "execution": {
     "iopub.execute_input": "2022-11-10T14:51:40.910433Z",
     "iopub.status.busy": "2022-11-10T14:51:40.909535Z",
     "iopub.status.idle": "2022-11-10T14:51:40.990883Z",
     "shell.execute_reply": "2022-11-10T14:51:40.987711Z",
     "shell.execute_reply.started": "2022-11-10T14:51:40.910244Z"
    },
    "tags": []
   },
   "outputs": [],
   "source": [
    "import sys\n",
    "sys.path.append(\"../../../\")"
   ]
  },
  {
   "cell_type": "code",
   "execution_count": 2,
   "id": "61878ddb-bdf3-4890-94e6-c4a82e9f7b93",
   "metadata": {
    "execution": {
     "iopub.execute_input": "2022-11-10T14:51:40.995564Z",
     "iopub.status.busy": "2022-11-10T14:51:40.994787Z",
     "iopub.status.idle": "2022-11-10T14:52:07.431211Z",
     "shell.execute_reply": "2022-11-10T14:52:07.428509Z",
     "shell.execute_reply.started": "2022-11-10T14:51:40.995487Z"
    },
    "tags": []
   },
   "outputs": [
    {
     "name": "stderr",
     "output_type": "stream",
     "text": [
      "2022-11-10 14:51:57.417300: W tensorflow/stream_executor/platform/default/dso_loader.cc:64] Could not load dynamic library 'libcudart.so.11.0'; dlerror: libcudart.so.11.0: cannot open shared object file: No such file or directory\n",
      "2022-11-10 14:51:57.417372: I tensorflow/stream_executor/cuda/cudart_stub.cc:29] Ignore above cudart dlerror if you do not have a GPU set up on your machine.\n"
     ]
    }
   ],
   "source": [
    "from pathlib import Path\n",
    "\n",
    "import numpy as np\n",
    "import pandas as pd\n",
    "import tqdm\n",
    "import matplotlib.pyplot as plt\n",
    "from tqdm.contrib.concurrent import thread_map\n",
    "\n",
    "from librep.datasets.har.generator import HARDatasetGenerator, DatasetSplitError\n",
    "\n",
    "from typing import List, Tuple, Dict, Union, Optional\n",
    "import random\n",
    "\n",
    "%matplotlib inline"
   ]
  },
  {
   "cell_type": "code",
   "execution_count": 3,
   "id": "73e887e6-7cb4-4e40-9002-45166cc792a5",
   "metadata": {
    "execution": {
     "iopub.execute_input": "2022-11-10T14:52:07.437008Z",
     "iopub.status.busy": "2022-11-10T14:52:07.435821Z",
     "iopub.status.idle": "2022-11-10T14:52:07.446553Z",
     "shell.execute_reply": "2022-11-10T14:52:07.445468Z",
     "shell.execute_reply.started": "2022-11-10T14:52:07.436927Z"
    },
    "tags": []
   },
   "outputs": [],
   "source": [
    "standard_activity_codes = {\n",
    "    0: \"sit\",\n",
    "    1: \"stand\",\n",
    "    2: \"walk\",\n",
    "    3: \"stair up\",\n",
    "    4: \"stair down\",\n",
    "    5: \"run\",\n",
    "    6: \"stair up and down\"\n",
    "}\n",
    "\n",
    "standard_activity_names =  {v: k for k, v in standard_activity_codes.items()}"
   ]
  },
  {
   "cell_type": "markdown",
   "id": "69c7d089-64c7-4ce8-994d-05786c003b45",
   "metadata": {},
   "source": [
    "## Loading files"
   ]
  },
  {
   "cell_type": "code",
   "execution_count": 4,
   "id": "3882ee4e-a517-4d2b-8cec-cbe00aeeba09",
   "metadata": {
    "execution": {
     "iopub.execute_input": "2022-11-10T14:52:07.448509Z",
     "iopub.status.busy": "2022-11-10T14:52:07.448102Z",
     "iopub.status.idle": "2022-11-10T14:52:07.623501Z",
     "shell.execute_reply": "2022-11-10T14:52:07.622922Z",
     "shell.execute_reply.started": "2022-11-10T14:52:07.448470Z"
    },
    "tags": []
   },
   "outputs": [
    {
     "name": "stdout",
     "output_type": "stream",
     "text": [
      "('00EABED2-271D-49D8-B599-1D4A09240601', {'data': PosixPath('../../../../data/datasets/ExtraSensory/raw/00EABED2-271D-49D8-B599-1D4A09240601_raw.csv'), 'label': PosixPath('../../../../data/datasets/ExtraSensory/labels/00EABED2-271D-49D8-B599-1D4A09240601_labels.csv')})\n"
     ]
    }
   ],
   "source": [
    "es_dir = Path(\"../../../../data/datasets/ExtraSensory/raw\")\n",
    "label_dir = Path(\"../../../../data/datasets/ExtraSensory/labels\")\n",
    "es_files = sorted(list(es_dir.rglob(\"*.csv\")))\n",
    "es_files = {\n",
    "    f.stem.split(\"_\")[0]: {\n",
    "        \"data\": f,\n",
    "        \"label\": next(label_dir.glob(f\"{f.stem.split('_')[0]}*\"))\n",
    "    }\n",
    "    for f in es_files\n",
    "}\n",
    "\n",
    "print(list(es_files.items())[0])"
   ]
  },
  {
   "cell_type": "code",
   "execution_count": 5,
   "id": "fae4039c-69ad-4576-a653-4f73a6562257",
   "metadata": {
    "execution": {
     "iopub.execute_input": "2022-11-10T14:52:07.624989Z",
     "iopub.status.busy": "2022-11-10T14:52:07.624824Z",
     "iopub.status.idle": "2022-11-10T14:52:07.696701Z",
     "shell.execute_reply": "2022-11-10T14:52:07.696104Z",
     "shell.execute_reply.started": "2022-11-10T14:52:07.624973Z"
    },
    "tags": []
   },
   "outputs": [],
   "source": [
    "def label_map(merged_label):\n",
    "    if not isinstance(merged_label, str):\n",
    "        return float('nan')\n",
    "    if \"SITTING\" in merged_label:\n",
    "        return standard_activity_names[\"sit\"]\n",
    "    elif \"OR_standing\" in merged_label:\n",
    "        return standard_activity_names[\"stand\"]\n",
    "    elif \"FIX_walking\" in merged_label:\n",
    "        return standard_activity_names[\"walk\"]\n",
    "    elif \"FIX_running\" in merged_label:\n",
    "        return standard_activity_names[\"run\"]\n",
    "    else:\n",
    "        return float('nan')"
   ]
  },
  {
   "cell_type": "code",
   "execution_count": 6,
   "id": "9689b8dd-7db6-49a0-992d-fdb14328f884",
   "metadata": {
    "execution": {
     "iopub.execute_input": "2022-11-10T14:52:07.697654Z",
     "iopub.status.busy": "2022-11-10T14:52:07.697382Z",
     "iopub.status.idle": "2022-11-10T15:26:10.892332Z",
     "shell.execute_reply": "2022-11-10T15:26:10.891814Z",
     "shell.execute_reply.started": "2022-11-10T14:52:07.697635Z"
    },
    "tags": []
   },
   "outputs": [
    {
     "name": "stderr",
     "output_type": "stream",
     "text": [
      "Procesing files...: 100%|█████████████████████████████████████████████| 57/57 [34:03<00:00, 35.84s/it]\n"
     ]
    }
   ],
   "source": [
    "maintain = [\n",
    "    'timestamp source', 'accelerometer timestamp', 'accelerometer-x',\n",
    "    'accelerometer-y', 'accelerometer-z', 'gyroscope timestamp',\n",
    "    'gyroscope-x', 'gyroscope-y', 'gyroscope-z', 'gravity timestamp',\n",
    "    'gravity-x', 'gravity-y', 'gravity-z', 'merged label',\n",
    "    'standard activity code'\n",
    "]\n",
    "\n",
    "output_dir = Path(\"../../../../data/datasets/ExtraSensory/raw_processed\")\n",
    "\n",
    "for user, values in tqdm.tqdm(es_files.items(), total=len(es_files), desc=\"Procesing files...\"):\n",
    "    data, label = pd.read_csv(values[\"data\"]), pd.read_csv(values[\"label\"])\n",
    "\n",
    "    # Merge the dataframes\n",
    "    merged_df = pd.merge(data, label, on=\"timestamp source\")\n",
    "\n",
    "    # Drop samples that does not match these conditions:\n",
    "    # Is not a SITTING, nor stand, nor walk, not run\n",
    "    # merged_df = merged_df.drop(merged_df[\n",
    "    #     (merged_df[\"SITTING\"] == False) &\n",
    "    #     (merged_df[\"OR_standing\"] == False) &\n",
    "    #     (merged_df[\"FIX_walking\"] == False) &\n",
    "    #     (merged_df[\"FIX_running\"] == False)].index)\n",
    "\n",
    "    # Make standard label\n",
    "    merged_df[\"standard activity code\"] = merged_df[\"merged label\"].apply(label_map)\n",
    "    merged_df = merged_df[merged_df['standard activity code'].notna()]\n",
    "    merged_df = merged_df[maintain]\n",
    "\n",
    "    merged_df[\"standard activity code\"] = merged_df[\"standard activity code\"].astype(int)\n",
    "    merged_df[\"user\"] = user\n",
    "    merged_df = merged_df.reset_index(drop=True)\n",
    "    merged_df.to_csv(output_dir / f\"{user}.csv\", index=False)"
   ]
  },
  {
   "cell_type": "markdown",
   "id": "99aa9656-c957-4787-8e5a-7066fb4be71a",
   "metadata": {},
   "source": [
    "## Join merged dfs in a single dataframe"
   ]
  },
  {
   "cell_type": "raw",
   "id": "7d5d5f31-2e25-43fd-b1b0-e2702622078e",
   "metadata": {
    "execution": {
     "iopub.execute_input": "2022-11-10T16:22:04.112779Z",
     "iopub.status.busy": "2022-11-10T16:22:04.112548Z",
     "iopub.status.idle": "2022-11-10T16:31:20.382482Z",
     "shell.execute_reply": "2022-11-10T16:31:20.382050Z",
     "shell.execute_reply.started": "2022-11-10T16:22:04.112760Z"
    },
    "tags": []
   },
   "source": [
    "full_es_file = output_dir / \"the_extra_sensory.csv\"\n",
    "full_es_file.parent.mkdir(parents=True, exist_ok=True)\n",
    "with full_es_file.open(\"w\") as es_file:\n",
    "    es_file.write(\",\".join(maintain + [\"user\"]))\n",
    "    es_file.write(\"\\n\")\n",
    "\n",
    "    for user_file in tqdm.tqdm(list(output_dir.glob(\"*.csv\")), desc=\"Merging files into a single file...\"):\n",
    "        if \"the_extra_sensory\" in str(user_file):\n",
    "            continue\n",
    "        with user_file.open(\"r\") as f:\n",
    "            for line in f:\n",
    "                es_file.write(line)"
   ]
  },
  {
   "cell_type": "markdown",
   "id": "83181818-021c-4483-8e8f-f43acbcd732b",
   "metadata": {},
   "source": [
    "## Process"
   ]
  },
  {
   "cell_type": "code",
   "execution_count": null,
   "id": "97748ace-4f9f-4ec1-9297-fc1b05929c5e",
   "metadata": {
    "execution": {
     "iopub.execute_input": "2022-11-10T22:44:36.542491Z",
     "iopub.status.busy": "2022-11-10T22:44:36.541641Z"
    },
    "tags": []
   },
   "outputs": [
    {
     "name": "stderr",
     "output_type": "stream",
     "text": [
      "  0%|                                                                                      | 0/57 [00:00<?, ?it/s]"
     ]
    }
   ],
   "source": [
    "from scipy import signal\n",
    "import scipy\n",
    "import itertools\n",
    "\n",
    "h = signal.butter(3, 0.3, 'hp', fs=50, output='sos')\n",
    "\n",
    "time = 800 / 40 # Number of samples (es default) / frequency (es default) = seconds (20)\n",
    "\n",
    "for f in tqdm.tqdm(list(output_dir.glob(\"*.csv\"))):\n",
    "    df = pd.read_csv(f)\n",
    "    \n",
    "    # Check if it is in G or m/s**2\n",
    "    for name, subdf in df.groupby(\"timestamp source\"):\n",
    "        subdf[\"norm\"] = np.sqrt((subdf[\"accelerometer-x\"])**2 + (subdf[\"accelerometer-y\"])**2 + (subdf[\"accelerometer-z\"])**2)\n",
    "        if np.mean(subdf[\"norm\"]) < 6:\n",
    "            G_val = scipy.constants.g\n",
    "        else:\n",
    "            G_val = 1  # neutral multiplication element\n",
    "        \n",
    "    dfs = []\n",
    "    for i, (name, subdf) in enumerate(df.groupby(\"timestamp source\")):\n",
    "        new_df = pd.DataFrame()\n",
    "        for sensor, axis in itertools.product([\"accelerometer\", \"gyroscope\"], [\"x\",\"y\",\"z\"]):\n",
    "            column = f\"{sensor}-{axis}\"\n",
    "            values = (df[column] * G_val).values\n",
    "            values = signal.sosfiltfilt(h, values)\n",
    "            values = signal.resample(values, int(time*20))\n",
    "            new_df[column] = values\n",
    "        new_df[\"timestamp source\"] = name\n",
    "        new_df[\"merged label\"] = subdf[\"merged label\"].values[0]\n",
    "        new_df[\"standard activity code\"] = subdf[\"standard activity code\"].values[0]\n",
    "        new_df[\"user\"] = subdf[\"user\"].values[0]\n",
    "        dfs.append(new_df)\n",
    "\n",
    "    df = pd.concat(dfs).reset_index(drop=True)\n",
    "    df.to_csv(f, index=False)"
   ]
  },
  {
   "cell_type": "code",
   "execution_count": 113,
   "id": "e9d8213d-dd0d-4064-a31a-e7fb314e0f60",
   "metadata": {
    "execution": {
     "iopub.execute_input": "2022-11-10T21:20:20.216380Z",
     "iopub.status.busy": "2022-11-10T21:20:20.215511Z",
     "iopub.status.idle": "2022-11-10T21:20:20.233419Z",
     "shell.execute_reply": "2022-11-10T21:20:20.233006Z",
     "shell.execute_reply.started": "2022-11-10T21:20:20.216302Z"
    },
    "tags": []
   },
   "outputs": [
    {
     "data": {
      "text/html": [
       "<div>\n",
       "<style scoped>\n",
       "    .dataframe tbody tr th:only-of-type {\n",
       "        vertical-align: middle;\n",
       "    }\n",
       "\n",
       "    .dataframe tbody tr th {\n",
       "        vertical-align: top;\n",
       "    }\n",
       "\n",
       "    .dataframe thead th {\n",
       "        text-align: right;\n",
       "    }\n",
       "</style>\n",
       "<table border=\"1\" class=\"dataframe\">\n",
       "  <thead>\n",
       "    <tr style=\"text-align: right;\">\n",
       "      <th></th>\n",
       "      <th>Unnamed: 0</th>\n",
       "      <th>timestamp source</th>\n",
       "      <th>accelerometer timestamp</th>\n",
       "      <th>accelerometer-x</th>\n",
       "      <th>accelerometer-y</th>\n",
       "      <th>accelerometer-z</th>\n",
       "      <th>gyroscope timestamp</th>\n",
       "      <th>gyroscope-x</th>\n",
       "      <th>gyroscope-y</th>\n",
       "      <th>gyroscope-z</th>\n",
       "      <th>gravity timestamp</th>\n",
       "      <th>gravity-x</th>\n",
       "      <th>gravity-y</th>\n",
       "      <th>gravity-z</th>\n",
       "      <th>merged label</th>\n",
       "      <th>standard activity code</th>\n",
       "      <th>user</th>\n",
       "    </tr>\n",
       "  </thead>\n",
       "  <tbody>\n",
       "    <tr>\n",
       "      <th>0</th>\n",
       "      <td>0</td>\n",
       "      <td>1441314267</td>\n",
       "      <td>412821.030</td>\n",
       "      <td>0.581726</td>\n",
       "      <td>0.306107</td>\n",
       "      <td>9.660019</td>\n",
       "      <td>412821.100</td>\n",
       "      <td>0.065582</td>\n",
       "      <td>0.190674</td>\n",
       "      <td>0.019821</td>\n",
       "      <td>412821.100</td>\n",
       "      <td>0.065582</td>\n",
       "      <td>0.190674</td>\n",
       "      <td>0.019821</td>\n",
       "      <td>SITTING</td>\n",
       "      <td>0</td>\n",
       "      <td>33A85C34-CFE4-4732-9E73-0A7AC861B27A</td>\n",
       "    </tr>\n",
       "    <tr>\n",
       "      <th>1</th>\n",
       "      <td>1</td>\n",
       "      <td>1441314267</td>\n",
       "      <td>412821.030</td>\n",
       "      <td>0.625000</td>\n",
       "      <td>0.306107</td>\n",
       "      <td>9.679260</td>\n",
       "      <td>412821.100</td>\n",
       "      <td>0.007904</td>\n",
       "      <td>-0.017609</td>\n",
       "      <td>-0.002609</td>\n",
       "      <td>412821.100</td>\n",
       "      <td>0.007904</td>\n",
       "      <td>-0.017609</td>\n",
       "      <td>-0.002609</td>\n",
       "      <td>SITTING</td>\n",
       "      <td>0</td>\n",
       "      <td>33A85C34-CFE4-4732-9E73-0A7AC861B27A</td>\n",
       "    </tr>\n",
       "    <tr>\n",
       "      <th>2</th>\n",
       "      <td>2</td>\n",
       "      <td>1441314267</td>\n",
       "      <td>412821.060</td>\n",
       "      <td>0.573517</td>\n",
       "      <td>0.306107</td>\n",
       "      <td>9.642181</td>\n",
       "      <td>412821.120</td>\n",
       "      <td>0.010040</td>\n",
       "      <td>0.002686</td>\n",
       "      <td>0.000595</td>\n",
       "      <td>412821.120</td>\n",
       "      <td>0.010040</td>\n",
       "      <td>0.002686</td>\n",
       "      <td>0.000595</td>\n",
       "      <td>SITTING</td>\n",
       "      <td>0</td>\n",
       "      <td>33A85C34-CFE4-4732-9E73-0A7AC861B27A</td>\n",
       "    </tr>\n",
       "    <tr>\n",
       "      <th>3</th>\n",
       "      <td>3</td>\n",
       "      <td>1441314267</td>\n",
       "      <td>412821.100</td>\n",
       "      <td>0.610733</td>\n",
       "      <td>0.306107</td>\n",
       "      <td>9.636200</td>\n",
       "      <td>412821.160</td>\n",
       "      <td>0.014313</td>\n",
       "      <td>0.005890</td>\n",
       "      <td>0.000595</td>\n",
       "      <td>412821.160</td>\n",
       "      <td>0.014313</td>\n",
       "      <td>0.005890</td>\n",
       "      <td>0.000595</td>\n",
       "      <td>SITTING</td>\n",
       "      <td>0</td>\n",
       "      <td>33A85C34-CFE4-4732-9E73-0A7AC861B27A</td>\n",
       "    </tr>\n",
       "    <tr>\n",
       "      <th>4</th>\n",
       "      <td>4</td>\n",
       "      <td>1441314267</td>\n",
       "      <td>412821.100</td>\n",
       "      <td>0.689697</td>\n",
       "      <td>0.310532</td>\n",
       "      <td>9.650925</td>\n",
       "      <td>412821.200</td>\n",
       "      <td>0.005768</td>\n",
       "      <td>-0.000519</td>\n",
       "      <td>-0.001541</td>\n",
       "      <td>412821.200</td>\n",
       "      <td>0.005768</td>\n",
       "      <td>-0.000519</td>\n",
       "      <td>-0.001541</td>\n",
       "      <td>SITTING</td>\n",
       "      <td>0</td>\n",
       "      <td>33A85C34-CFE4-4732-9E73-0A7AC861B27A</td>\n",
       "    </tr>\n",
       "    <tr>\n",
       "      <th>...</th>\n",
       "      <td>...</td>\n",
       "      <td>...</td>\n",
       "      <td>...</td>\n",
       "      <td>...</td>\n",
       "      <td>...</td>\n",
       "      <td>...</td>\n",
       "      <td>...</td>\n",
       "      <td>...</td>\n",
       "      <td>...</td>\n",
       "      <td>...</td>\n",
       "      <td>...</td>\n",
       "      <td>...</td>\n",
       "      <td>...</td>\n",
       "      <td>...</td>\n",
       "      <td>...</td>\n",
       "      <td>...</td>\n",
       "      <td>...</td>\n",
       "    </tr>\n",
       "    <tr>\n",
       "      <th>2267195</th>\n",
       "      <td>2267195</td>\n",
       "      <td>1441925785</td>\n",
       "      <td>44657.050</td>\n",
       "      <td>-3.179245</td>\n",
       "      <td>-0.670960</td>\n",
       "      <td>9.002930</td>\n",
       "      <td>44661.105</td>\n",
       "      <td>-0.000259</td>\n",
       "      <td>0.001022</td>\n",
       "      <td>0.000839</td>\n",
       "      <td>44661.105</td>\n",
       "      <td>-0.000259</td>\n",
       "      <td>0.001022</td>\n",
       "      <td>0.000839</td>\n",
       "      <td>COMPUTER_WORK, LOC_main_workplace, PHONE_IN_PO...</td>\n",
       "      <td>0</td>\n",
       "      <td>33A85C34-CFE4-4732-9E73-0A7AC861B27A</td>\n",
       "    </tr>\n",
       "    <tr>\n",
       "      <th>2267196</th>\n",
       "      <td>2267196</td>\n",
       "      <td>1441925785</td>\n",
       "      <td>44657.070</td>\n",
       "      <td>-3.180283</td>\n",
       "      <td>-0.670960</td>\n",
       "      <td>9.003967</td>\n",
       "      <td>44661.130</td>\n",
       "      <td>0.002945</td>\n",
       "      <td>-0.000046</td>\n",
       "      <td>-0.001297</td>\n",
       "      <td>44661.130</td>\n",
       "      <td>0.002945</td>\n",
       "      <td>-0.000046</td>\n",
       "      <td>-0.001297</td>\n",
       "      <td>COMPUTER_WORK, LOC_main_workplace, PHONE_IN_PO...</td>\n",
       "      <td>0</td>\n",
       "      <td>33A85C34-CFE4-4732-9E73-0A7AC861B27A</td>\n",
       "    </tr>\n",
       "    <tr>\n",
       "      <th>2267197</th>\n",
       "      <td>2267197</td>\n",
       "      <td>1441925785</td>\n",
       "      <td>44657.094</td>\n",
       "      <td>-3.190308</td>\n",
       "      <td>-0.670960</td>\n",
       "      <td>9.003967</td>\n",
       "      <td>44661.156</td>\n",
       "      <td>0.002945</td>\n",
       "      <td>-0.001114</td>\n",
       "      <td>0.000839</td>\n",
       "      <td>44661.156</td>\n",
       "      <td>0.002945</td>\n",
       "      <td>-0.001114</td>\n",
       "      <td>0.000839</td>\n",
       "      <td>COMPUTER_WORK, LOC_main_workplace, PHONE_IN_PO...</td>\n",
       "      <td>0</td>\n",
       "      <td>33A85C34-CFE4-4732-9E73-0A7AC861B27A</td>\n",
       "    </tr>\n",
       "    <tr>\n",
       "      <th>2267198</th>\n",
       "      <td>2267198</td>\n",
       "      <td>1441925785</td>\n",
       "      <td>44657.113</td>\n",
       "      <td>-3.199432</td>\n",
       "      <td>-0.655731</td>\n",
       "      <td>8.988739</td>\n",
       "      <td>44661.180</td>\n",
       "      <td>0.000809</td>\n",
       "      <td>-0.000046</td>\n",
       "      <td>-0.002365</td>\n",
       "      <td>44661.180</td>\n",
       "      <td>0.000809</td>\n",
       "      <td>-0.000046</td>\n",
       "      <td>-0.002365</td>\n",
       "      <td>COMPUTER_WORK, LOC_main_workplace, PHONE_IN_PO...</td>\n",
       "      <td>0</td>\n",
       "      <td>33A85C34-CFE4-4732-9E73-0A7AC861B27A</td>\n",
       "    </tr>\n",
       "    <tr>\n",
       "      <th>2267199</th>\n",
       "      <td>2267199</td>\n",
       "      <td>1441925785</td>\n",
       "      <td>44657.133</td>\n",
       "      <td>-3.180283</td>\n",
       "      <td>-0.670960</td>\n",
       "      <td>8.986160</td>\n",
       "      <td>44661.207</td>\n",
       "      <td>-0.000259</td>\n",
       "      <td>0.001022</td>\n",
       "      <td>-0.001297</td>\n",
       "      <td>44661.207</td>\n",
       "      <td>-0.000259</td>\n",
       "      <td>0.001022</td>\n",
       "      <td>-0.001297</td>\n",
       "      <td>COMPUTER_WORK, LOC_main_workplace, PHONE_IN_PO...</td>\n",
       "      <td>0</td>\n",
       "      <td>33A85C34-CFE4-4732-9E73-0A7AC861B27A</td>\n",
       "    </tr>\n",
       "  </tbody>\n",
       "</table>\n",
       "<p>2267200 rows × 17 columns</p>\n",
       "</div>"
      ],
      "text/plain": [
       "         Unnamed: 0  timestamp source  accelerometer timestamp  \\\n",
       "0                 0        1441314267               412821.030   \n",
       "1                 1        1441314267               412821.030   \n",
       "2                 2        1441314267               412821.060   \n",
       "3                 3        1441314267               412821.100   \n",
       "4                 4        1441314267               412821.100   \n",
       "...             ...               ...                      ...   \n",
       "2267195     2267195        1441925785                44657.050   \n",
       "2267196     2267196        1441925785                44657.070   \n",
       "2267197     2267197        1441925785                44657.094   \n",
       "2267198     2267198        1441925785                44657.113   \n",
       "2267199     2267199        1441925785                44657.133   \n",
       "\n",
       "         accelerometer-x  accelerometer-y  accelerometer-z  \\\n",
       "0               0.581726         0.306107         9.660019   \n",
       "1               0.625000         0.306107         9.679260   \n",
       "2               0.573517         0.306107         9.642181   \n",
       "3               0.610733         0.306107         9.636200   \n",
       "4               0.689697         0.310532         9.650925   \n",
       "...                  ...              ...              ...   \n",
       "2267195        -3.179245        -0.670960         9.002930   \n",
       "2267196        -3.180283        -0.670960         9.003967   \n",
       "2267197        -3.190308        -0.670960         9.003967   \n",
       "2267198        -3.199432        -0.655731         8.988739   \n",
       "2267199        -3.180283        -0.670960         8.986160   \n",
       "\n",
       "         gyroscope timestamp  gyroscope-x  gyroscope-y  gyroscope-z  \\\n",
       "0                 412821.100     0.065582     0.190674     0.019821   \n",
       "1                 412821.100     0.007904    -0.017609    -0.002609   \n",
       "2                 412821.120     0.010040     0.002686     0.000595   \n",
       "3                 412821.160     0.014313     0.005890     0.000595   \n",
       "4                 412821.200     0.005768    -0.000519    -0.001541   \n",
       "...                      ...          ...          ...          ...   \n",
       "2267195            44661.105    -0.000259     0.001022     0.000839   \n",
       "2267196            44661.130     0.002945    -0.000046    -0.001297   \n",
       "2267197            44661.156     0.002945    -0.001114     0.000839   \n",
       "2267198            44661.180     0.000809    -0.000046    -0.002365   \n",
       "2267199            44661.207    -0.000259     0.001022    -0.001297   \n",
       "\n",
       "         gravity timestamp  gravity-x  gravity-y  gravity-z  \\\n",
       "0               412821.100   0.065582   0.190674   0.019821   \n",
       "1               412821.100   0.007904  -0.017609  -0.002609   \n",
       "2               412821.120   0.010040   0.002686   0.000595   \n",
       "3               412821.160   0.014313   0.005890   0.000595   \n",
       "4               412821.200   0.005768  -0.000519  -0.001541   \n",
       "...                    ...        ...        ...        ...   \n",
       "2267195          44661.105  -0.000259   0.001022   0.000839   \n",
       "2267196          44661.130   0.002945  -0.000046  -0.001297   \n",
       "2267197          44661.156   0.002945  -0.001114   0.000839   \n",
       "2267198          44661.180   0.000809  -0.000046  -0.002365   \n",
       "2267199          44661.207  -0.000259   0.001022  -0.001297   \n",
       "\n",
       "                                              merged label  \\\n",
       "0                                                  SITTING   \n",
       "1                                                  SITTING   \n",
       "2                                                  SITTING   \n",
       "3                                                  SITTING   \n",
       "4                                                  SITTING   \n",
       "...                                                    ...   \n",
       "2267195  COMPUTER_WORK, LOC_main_workplace, PHONE_IN_PO...   \n",
       "2267196  COMPUTER_WORK, LOC_main_workplace, PHONE_IN_PO...   \n",
       "2267197  COMPUTER_WORK, LOC_main_workplace, PHONE_IN_PO...   \n",
       "2267198  COMPUTER_WORK, LOC_main_workplace, PHONE_IN_PO...   \n",
       "2267199  COMPUTER_WORK, LOC_main_workplace, PHONE_IN_PO...   \n",
       "\n",
       "         standard activity code                                  user  \n",
       "0                             0  33A85C34-CFE4-4732-9E73-0A7AC861B27A  \n",
       "1                             0  33A85C34-CFE4-4732-9E73-0A7AC861B27A  \n",
       "2                             0  33A85C34-CFE4-4732-9E73-0A7AC861B27A  \n",
       "3                             0  33A85C34-CFE4-4732-9E73-0A7AC861B27A  \n",
       "4                             0  33A85C34-CFE4-4732-9E73-0A7AC861B27A  \n",
       "...                         ...                                   ...  \n",
       "2267195                       0  33A85C34-CFE4-4732-9E73-0A7AC861B27A  \n",
       "2267196                       0  33A85C34-CFE4-4732-9E73-0A7AC861B27A  \n",
       "2267197                       0  33A85C34-CFE4-4732-9E73-0A7AC861B27A  \n",
       "2267198                       0  33A85C34-CFE4-4732-9E73-0A7AC861B27A  \n",
       "2267199                       0  33A85C34-CFE4-4732-9E73-0A7AC861B27A  \n",
       "\n",
       "[2267200 rows x 17 columns]"
      ]
     },
     "execution_count": 113,
     "metadata": {},
     "output_type": "execute_result"
    }
   ],
   "source": [
    "df"
   ]
  },
  {
   "cell_type": "code",
   "execution_count": 106,
   "id": "865960b6-2f15-440b-a8f8-2191078cc739",
   "metadata": {
    "execution": {
     "iopub.execute_input": "2022-11-10T17:44:35.776321Z",
     "iopub.status.busy": "2022-11-10T17:44:35.776113Z",
     "iopub.status.idle": "2022-11-10T17:44:35.780512Z",
     "shell.execute_reply": "2022-11-10T17:44:35.780041Z",
     "shell.execute_reply.started": "2022-11-10T17:44:35.776304Z"
    },
    "tags": []
   },
   "outputs": [
    {
     "data": {
      "text/plain": [
       "True"
      ]
     },
     "execution_count": 106,
     "metadata": {},
     "output_type": "execute_result"
    }
   ],
   "source": [
    "np.mean(df[\"sum\"]) < 6"
   ]
  },
  {
   "cell_type": "code",
   "execution_count": 72,
   "id": "1e13e3fd-6f4b-4b37-9c82-d52b6c35df07",
   "metadata": {
    "execution": {
     "iopub.execute_input": "2022-11-10T17:12:45.910909Z",
     "iopub.status.busy": "2022-11-10T17:12:45.910044Z",
     "iopub.status.idle": "2022-11-10T17:12:46.032398Z",
     "shell.execute_reply": "2022-11-10T17:12:46.031927Z",
     "shell.execute_reply.started": "2022-11-10T17:12:45.910831Z"
    },
    "tags": []
   },
   "outputs": [
    {
     "data": {
      "text/plain": [
       "<AxesSubplot:>"
      ]
     },
     "execution_count": 72,
     "metadata": {},
     "output_type": "execute_result"
    },
    {
     "data": {
      "image/png": "[encoded data removed]",
      "text/plain": [
       "<Figure size 640x480 with 1 Axes>"
      ]
     },
     "metadata": {},
     "output_type": "display_data"
    }
   ],
   "source": [
    "pd.DataFrame(values)[\"y mean\"].hist()"
   ]
  },
  {
   "cell_type": "code",
   "execution_count": 73,
   "id": "96d794fa-e500-4a06-b998-79e09754a16c",
   "metadata": {
    "execution": {
     "iopub.execute_input": "2022-11-10T17:12:57.480189Z",
     "iopub.status.busy": "2022-11-10T17:12:57.479328Z",
     "iopub.status.idle": "2022-11-10T17:12:57.604825Z",
     "shell.execute_reply": "2022-11-10T17:12:57.604209Z",
     "shell.execute_reply.started": "2022-11-10T17:12:57.480110Z"
    },
    "tags": []
   },
   "outputs": [
    {
     "data": {
      "text/plain": [
       "<AxesSubplot:>"
      ]
     },
     "execution_count": 73,
     "metadata": {},
     "output_type": "execute_result"
    },
    {
     "data": {
      "image/png": "[encoded data removed]",
      "text/plain": [
       "<Figure size 640x480 with 1 Axes>"
      ]
     },
     "metadata": {},
     "output_type": "display_data"
    }
   ],
   "source": [
    "pd.DataFrame(values)[\"z mean\"].hist()"
   ]
  }
 ],
 "metadata": {
  "kernelspec": {
   "display_name": "Python 3 (ipykernel)",
   "language": "python",
   "name": "python3"
  },
  "language_info": {
   "codemirror_mode": {
    "name": "ipython",
    "version": 3
   },
   "file_extension": ".py",
   "mimetype": "text/x-python",
   "name": "python",
   "nbconvert_exporter": "python",
   "pygments_lexer": "ipython3",
   "version": "3.8.10"
  }
 },
 "nbformat": 4,
 "nbformat_minor": 5
}
