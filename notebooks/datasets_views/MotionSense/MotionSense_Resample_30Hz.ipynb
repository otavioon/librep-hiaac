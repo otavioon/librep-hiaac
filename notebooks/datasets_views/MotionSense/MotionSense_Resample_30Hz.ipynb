{
 "cells": [
  {
   "cell_type": "markdown",
   "id": "9a0c0e3e-a130-465c-8aec-671bdd27bf3f",
   "metadata": {},
   "source": [
    "# Resampling MotionSense to 30Hz"
   ]
  },
  {
   "cell_type": "code",
   "execution_count": 1,
   "id": "498254b0-ea10-4f02-b718-d26ce855b77b",
   "metadata": {
    "tags": []
   },
   "outputs": [],
   "source": [
    "%load_ext autoreload\n",
    "%autoreload 2\n",
    "\n",
    "import sys\n",
    "\n",
    "sys.path.append(\"../../../\")"
   ]
  },
  {
   "cell_type": "code",
   "execution_count": 2,
   "id": "fad53baa-1190-4969-9ae9-489321c5966e",
   "metadata": {
    "tags": []
   },
   "outputs": [],
   "source": [
    "from pathlib import Path\n",
    "\n",
    "import numpy as np\n",
    "import pandas as pd\n",
    "\n",
    "from librep.utils.dataset import PandasDatasetsIO          # For quick load train, test and validation CSVs\n",
    "from librep.datasets.multimodal import PandasMultiModalDataset # Wrap CSVs to librep's `Dataset` interface\n",
    "\n",
    "from librep.datasets.multimodal import TransformMultiModalDataset\n",
    "from librep.transforms.resampler import SimpleResampler"
   ]
  },
  {
   "cell_type": "markdown",
   "id": "b3a70d59-2c17-4b67-ac3f-7a2a3306ed74",
   "metadata": {
    "tags": []
   },
   "source": [
    "## Loading data"
   ]
  },
  {
   "cell_type": "code",
   "execution_count": 3,
   "id": "db74f2f3-4ed1-49a4-a5b7-40d607ef451c",
   "metadata": {
    "tags": []
   },
   "outputs": [],
   "source": [
    "# Path for MotionSense balanced view with the same activities (and labels numbers) as MotionSense\n",
    "# It is assumed that the directory will contain (train.csv, test.csv and validation.csv)\n",
    "motionsense_dataset_path = Path(\"../../../data/views/MotionSense/balanced_view\")"
   ]
  },
  {
   "cell_type": "markdown",
   "id": "1dfd6084-06e9-4345-af28-1ff1926c01d6",
   "metadata": {},
   "source": [
    "Once paths is defined, we can load the CSV as pandas dataframes"
   ]
  },
  {
   "cell_type": "code",
   "execution_count": 4,
   "id": "d4cb9c09-10be-4838-996d-6e078db6836c",
   "metadata": {
    "tags": []
   },
   "outputs": [],
   "source": [
    "# Motionsense dataframes\n",
    "ms_train, ms_validation, ms_test = PandasDatasetsIO(motionsense_dataset_path).load()"
   ]
  },
  {
   "cell_type": "markdown",
   "id": "97d66571-2951-49ab-9872-55c61a7d7610",
   "metadata": {},
   "source": [
    "Letś take a look in the train dataframes"
   ]
  },
  {
   "cell_type": "code",
   "execution_count": 5,
   "id": "daa289bb-d2a8-4975-b48d-e52dad59e04c",
   "metadata": {
    "tags": []
   },
   "outputs": [
    {
     "data": {
      "text/html": [
       "<div>\n",
       "<style scoped>\n",
       "    .dataframe tbody tr th:only-of-type {\n",
       "        vertical-align: middle;\n",
       "    }\n",
       "\n",
       "    .dataframe tbody tr th {\n",
       "        vertical-align: top;\n",
       "    }\n",
       "\n",
       "    .dataframe thead th {\n",
       "        text-align: right;\n",
       "    }\n",
       "</style>\n",
       "<table border=\"1\" class=\"dataframe\">\n",
       "  <thead>\n",
       "    <tr style=\"text-align: right;\">\n",
       "      <th></th>\n",
       "      <th>Unnamed: 0</th>\n",
       "      <th>attitude.roll-0</th>\n",
       "      <th>attitude.roll-1</th>\n",
       "      <th>attitude.roll-2</th>\n",
       "      <th>attitude.roll-3</th>\n",
       "      <th>attitude.roll-4</th>\n",
       "      <th>attitude.roll-5</th>\n",
       "      <th>attitude.roll-6</th>\n",
       "      <th>attitude.roll-7</th>\n",
       "      <th>attitude.roll-8</th>\n",
       "      <th>...</th>\n",
       "      <th>userAcceleration.z-146</th>\n",
       "      <th>userAcceleration.z-147</th>\n",
       "      <th>userAcceleration.z-148</th>\n",
       "      <th>userAcceleration.z-149</th>\n",
       "      <th>activity code</th>\n",
       "      <th>length</th>\n",
       "      <th>trial_code</th>\n",
       "      <th>index</th>\n",
       "      <th>user</th>\n",
       "      <th>normalized activity code</th>\n",
       "    </tr>\n",
       "  </thead>\n",
       "  <tbody>\n",
       "    <tr>\n",
       "      <th>0</th>\n",
       "      <td>0</td>\n",
       "      <td>1.962846</td>\n",
       "      <td>1.921332</td>\n",
       "      <td>1.877961</td>\n",
       "      <td>1.828619</td>\n",
       "      <td>1.773968</td>\n",
       "      <td>1.719602</td>\n",
       "      <td>1.665240</td>\n",
       "      <td>1.616507</td>\n",
       "      <td>1.579558</td>\n",
       "      <td>...</td>\n",
       "      <td>-0.410893</td>\n",
       "      <td>-0.349788</td>\n",
       "      <td>0.020158</td>\n",
       "      <td>0.236074</td>\n",
       "      <td>0</td>\n",
       "      <td>150</td>\n",
       "      <td>1</td>\n",
       "      <td>150</td>\n",
       "      <td>11</td>\n",
       "      <td>4</td>\n",
       "    </tr>\n",
       "    <tr>\n",
       "      <th>1</th>\n",
       "      <td>1</td>\n",
       "      <td>-0.458128</td>\n",
       "      <td>-0.503994</td>\n",
       "      <td>-0.525220</td>\n",
       "      <td>-0.556961</td>\n",
       "      <td>-0.619681</td>\n",
       "      <td>-0.728183</td>\n",
       "      <td>-0.844220</td>\n",
       "      <td>-0.937235</td>\n",
       "      <td>-1.018289</td>\n",
       "      <td>...</td>\n",
       "      <td>0.209356</td>\n",
       "      <td>0.045844</td>\n",
       "      <td>-0.171495</td>\n",
       "      <td>-0.279159</td>\n",
       "      <td>0</td>\n",
       "      <td>150</td>\n",
       "      <td>1</td>\n",
       "      <td>900</td>\n",
       "      <td>12</td>\n",
       "      <td>4</td>\n",
       "    </tr>\n",
       "    <tr>\n",
       "      <th>2</th>\n",
       "      <td>2</td>\n",
       "      <td>0.854208</td>\n",
       "      <td>0.887741</td>\n",
       "      <td>0.945390</td>\n",
       "      <td>1.018196</td>\n",
       "      <td>1.072981</td>\n",
       "      <td>1.099024</td>\n",
       "      <td>1.117173</td>\n",
       "      <td>1.145710</td>\n",
       "      <td>1.176665</td>\n",
       "      <td>...</td>\n",
       "      <td>0.035212</td>\n",
       "      <td>-0.023136</td>\n",
       "      <td>-0.038015</td>\n",
       "      <td>0.040352</td>\n",
       "      <td>0</td>\n",
       "      <td>150</td>\n",
       "      <td>1</td>\n",
       "      <td>1050</td>\n",
       "      <td>21</td>\n",
       "      <td>4</td>\n",
       "    </tr>\n",
       "    <tr>\n",
       "      <th>3</th>\n",
       "      <td>3</td>\n",
       "      <td>1.030491</td>\n",
       "      <td>1.065353</td>\n",
       "      <td>1.093455</td>\n",
       "      <td>1.097724</td>\n",
       "      <td>1.071357</td>\n",
       "      <td>1.038327</td>\n",
       "      <td>1.004383</td>\n",
       "      <td>0.972705</td>\n",
       "      <td>0.970985</td>\n",
       "      <td>...</td>\n",
       "      <td>-0.296363</td>\n",
       "      <td>-0.286543</td>\n",
       "      <td>-0.514901</td>\n",
       "      <td>-0.449945</td>\n",
       "      <td>0</td>\n",
       "      <td>150</td>\n",
       "      <td>2</td>\n",
       "      <td>150</td>\n",
       "      <td>17</td>\n",
       "      <td>4</td>\n",
       "    </tr>\n",
       "    <tr>\n",
       "      <th>4</th>\n",
       "      <td>4</td>\n",
       "      <td>-2.674791</td>\n",
       "      <td>-2.548334</td>\n",
       "      <td>-2.361486</td>\n",
       "      <td>-2.109103</td>\n",
       "      <td>-1.826062</td>\n",
       "      <td>-1.564544</td>\n",
       "      <td>-1.341344</td>\n",
       "      <td>-1.179871</td>\n",
       "      <td>-1.083587</td>\n",
       "      <td>...</td>\n",
       "      <td>-0.048874</td>\n",
       "      <td>-0.267644</td>\n",
       "      <td>-0.392915</td>\n",
       "      <td>-0.291261</td>\n",
       "      <td>0</td>\n",
       "      <td>150</td>\n",
       "      <td>11</td>\n",
       "      <td>450</td>\n",
       "      <td>21</td>\n",
       "      <td>4</td>\n",
       "    </tr>\n",
       "  </tbody>\n",
       "</table>\n",
       "<p>5 rows × 1807 columns</p>\n",
       "</div>"
      ],
      "text/plain": [
       "   Unnamed: 0  attitude.roll-0  attitude.roll-1  attitude.roll-2  \\\n",
       "0           0         1.962846         1.921332         1.877961   \n",
       "1           1        -0.458128        -0.503994        -0.525220   \n",
       "2           2         0.854208         0.887741         0.945390   \n",
       "3           3         1.030491         1.065353         1.093455   \n",
       "4           4        -2.674791        -2.548334        -2.361486   \n",
       "\n",
       "   attitude.roll-3  attitude.roll-4  attitude.roll-5  attitude.roll-6  \\\n",
       "0         1.828619         1.773968         1.719602         1.665240   \n",
       "1        -0.556961        -0.619681        -0.728183        -0.844220   \n",
       "2         1.018196         1.072981         1.099024         1.117173   \n",
       "3         1.097724         1.071357         1.038327         1.004383   \n",
       "4        -2.109103        -1.826062        -1.564544        -1.341344   \n",
       "\n",
       "   attitude.roll-7  attitude.roll-8  ...  userAcceleration.z-146  \\\n",
       "0         1.616507         1.579558  ...               -0.410893   \n",
       "1        -0.937235        -1.018289  ...                0.209356   \n",
       "2         1.145710         1.176665  ...                0.035212   \n",
       "3         0.972705         0.970985  ...               -0.296363   \n",
       "4        -1.179871        -1.083587  ...               -0.048874   \n",
       "\n",
       "   userAcceleration.z-147  userAcceleration.z-148  userAcceleration.z-149  \\\n",
       "0               -0.349788                0.020158                0.236074   \n",
       "1                0.045844               -0.171495               -0.279159   \n",
       "2               -0.023136               -0.038015                0.040352   \n",
       "3               -0.286543               -0.514901               -0.449945   \n",
       "4               -0.267644               -0.392915               -0.291261   \n",
       "\n",
       "   activity code  length  trial_code  index  user  normalized activity code  \n",
       "0              0     150           1    150    11                         4  \n",
       "1              0     150           1    900    12                         4  \n",
       "2              0     150           1   1050    21                         4  \n",
       "3              0     150           2    150    17                         4  \n",
       "4              0     150          11    450    21                         4  \n",
       "\n",
       "[5 rows x 1807 columns]"
      ]
     },
     "execution_count": 5,
     "metadata": {},
     "output_type": "execute_result"
    }
   ],
   "source": [
    "ms_train.head()"
   ]
  },
  {
   "cell_type": "markdown",
   "id": "a82d0f7d-3bc0-492f-be47-ddd5f6e52d7e",
   "metadata": {},
   "source": [
    "## Creating librep dataset "
   ]
  },
  {
   "cell_type": "code",
   "execution_count": 6,
   "id": "052a9842-a462-40ee-ae55-f930fc4397ea",
   "metadata": {},
   "outputs": [],
   "source": [
    "# Motionsense features to select\n",
    "features = [\n",
    "    \"userAcceleration.x\",\n",
    "    \"userAcceleration.y\",\n",
    "    \"userAcceleration.z\",\n",
    "    \"rotationRate.x\",\n",
    "    \"rotationRate.y\",\n",
    "    \"rotationRate.z\"\n",
    "]\n",
    "\n",
    "# Creating the datasets\n",
    "\n",
    "# Train\n",
    "ms_train_dataset = PandasMultiModalDataset(\n",
    "    ms_train,\n",
    "    feature_prefixes=features,\n",
    "    label_columns=\"normalized activity code\",\n",
    "    as_array=True\n",
    ")\n",
    "\n",
    "# Validation\n",
    "ms_validation_dataset = PandasMultiModalDataset(\n",
    "    ms_validation,\n",
    "    feature_prefixes=features,\n",
    "    label_columns=\"normalized activity code\",\n",
    "    as_array=True\n",
    ")\n",
    "\n",
    "# Test\n",
    "ms_test_dataset = PandasMultiModalDataset(\n",
    "    ms_test,\n",
    "    feature_prefixes=features,\n",
    "    label_columns=\"normalized activity code\",\n",
    "    as_array=True\n",
    ")"
   ]
  },
  {
   "cell_type": "code",
   "execution_count": 7,
   "id": "bd5e10eb-02f3-41d0-89eb-08d4afd9ef6c",
   "metadata": {},
   "outputs": [
    {
     "data": {
      "text/plain": [
       "Index(['Unnamed: 0', 'attitude.roll-0', 'attitude.roll-1', 'attitude.roll-2',\n",
       "       'attitude.roll-3', 'attitude.roll-4', 'attitude.roll-5',\n",
       "       'attitude.roll-6', 'attitude.roll-7', 'attitude.roll-8',\n",
       "       ...\n",
       "       'userAcceleration.z-146', 'userAcceleration.z-147',\n",
       "       'userAcceleration.z-148', 'userAcceleration.z-149', 'activity code',\n",
       "       'length', 'trial_code', 'index', 'user', 'normalized activity code'],\n",
       "      dtype='object', length=1807)"
      ]
     },
     "execution_count": 7,
     "metadata": {},
     "output_type": "execute_result"
    }
   ],
   "source": [
    "ms_train.columns"
   ]
  },
  {
   "cell_type": "markdown",
   "id": "830745ff-c6af-4d4d-98db-33e7804f1288",
   "metadata": {},
   "source": [
    "## Inspect the sample"
   ]
  },
  {
   "cell_type": "code",
   "execution_count": 8,
   "id": "100009c2-3a2a-4a6c-8236-112c8ed43b96",
   "metadata": {},
   "outputs": [
    {
     "name": "stdout",
     "output_type": "stream",
     "text": [
      "The sample 0: [-2.547700e-01 -1.947490e-01 -1.761130e-01 -1.938550e-01 -2.660080e-01\n",
      " -2.217610e-01 -2.494890e-01 -2.760730e-01 -2.373710e-01 -2.373490e-01\n",
      " -2.313310e-01 -1.722840e-01 -1.461070e-01 -2.276050e-01 -3.829260e-01\n",
      " -3.187740e-01 -1.111440e-01  3.439900e-02  1.214240e-01 -1.570880e-01\n",
      " -4.630930e-01 -3.902580e-01 -1.376360e-01  1.734600e-02  9.102500e-02\n",
      "  2.303000e-01  6.665400e-02 -8.479700e-02 -8.206900e-02 -1.534800e-02\n",
      "  2.010200e-02  2.014600e-02 -8.539600e-02 -1.337190e-01 -9.849300e-02\n",
      " -3.688900e-01 -4.145870e-01 -4.104480e-01  3.891700e-02  2.787010e-01\n",
      " -1.036980e-01  6.972800e-02  1.535100e-01  1.390830e-01  1.127850e-01\n",
      " -1.264410e-01 -2.113060e-01 -2.880330e-01 -3.026940e-01 -2.229810e-01\n",
      " -1.907640e-01 -2.740590e-01 -3.405890e-01 -3.028110e-01 -2.228760e-01\n",
      " -2.063950e-01 -1.629620e-01 -1.781440e-01 -2.476790e-01 -3.032110e-01\n",
      " -4.050310e-01 -6.022220e-01 -5.712880e-01 -3.343420e-01  4.065160e-01\n",
      "  5.664790e-01  3.743940e-01  3.247700e-02  7.595600e-02  9.021600e-02\n",
      "  1.392560e-01  1.689870e-01  8.593700e-02 -2.469300e-02 -1.389390e-01\n",
      " -1.839540e-01 -2.164460e-01  2.256980e-01  2.576170e-01  2.387750e-01\n",
      " -2.580610e-01 -3.689910e-01 -4.291060e-01 -1.574210e-01 -2.093470e-01\n",
      "  1.638770e-01  2.760320e-01  6.185300e-02 -1.335440e-01 -3.985700e-02\n",
      " -6.051000e-03 -1.036840e-01 -5.365500e-02 -1.316900e-02 -1.302300e-01\n",
      " -2.714390e-01 -3.152540e-01 -3.340630e-01 -2.024300e-01 -1.203100e-02\n",
      "  2.379030e-01  4.863860e-01  1.760450e-01 -3.341000e-03  1.255500e-02\n",
      "  6.439800e-02  2.609890e-01  5.226700e-02 -8.225500e-02 -2.184270e-01\n",
      " -3.543730e-01 -3.409090e-01 -1.004720e-01  1.729800e-01  2.255770e-01\n",
      "  2.539140e-01 -1.946800e-01 -2.588860e-01 -2.758100e-02 -3.923250e-01\n",
      " -4.250680e-01 -2.163190e-01 -1.972850e-01 -6.651700e-02 -3.599000e-02\n",
      " -8.369100e-02  7.159600e-02 -6.311400e-02 -1.698330e-01 -2.547580e-01\n",
      " -5.117370e-01 -4.033360e-01 -3.045050e-01  3.102900e-02  2.520130e-01\n",
      "  3.370530e-01  9.317700e-02 -2.813860e-01 -1.075400e-01  2.681700e-01\n",
      "  3.858640e-01  1.885140e-01 -5.981100e-02 -3.640370e-01 -3.845030e-01\n",
      " -2.203610e-01  3.843500e-02  2.682160e-01  3.464780e-01  1.932950e-01\n",
      "  1.291470e-01 -3.052800e-02 -3.281100e-02 -2.536200e-02  6.045300e-02\n",
      "  1.282210e-01  1.076180e-01  1.075410e-01  8.339900e-02  1.179480e-01\n",
      "  1.601070e-01  1.725370e-01  3.939800e-01  5.963520e-01  6.611820e-01\n",
      "  5.761290e-01  3.478070e-01  8.502800e-02  1.974200e-02 -7.517200e-02\n",
      "  1.627060e-01  3.651210e-01  8.279500e-01  4.636980e-01  1.296190e-01\n",
      " -2.510490e-01 -3.762770e-01 -4.253920e-01 -3.380130e-01 -3.418200e-01\n",
      " -4.249630e-01 -2.883570e-01 -9.198100e-02  1.958120e-01  3.782320e-01\n",
      "  1.798580e-01 -3.354000e-03 -2.106150e-01  5.311900e-01  6.913310e-01\n",
      " -4.582500e-02 -5.124090e-01 -8.837100e-02  4.862230e-01  4.710670e-01\n",
      "  3.238200e-02  2.872400e-02  9.019800e-02  2.801700e-02 -1.184370e-01\n",
      " -1.639360e-01 -2.438700e-01 -2.787480e-01 -1.234580e-01 -2.686300e-02\n",
      " -8.688400e-02 -2.469460e-01 -3.795690e-01 -3.999200e-01 -1.282910e-01\n",
      "  3.474480e-01  5.359450e-01  6.817660e-01  7.032160e-01  2.343860e-01\n",
      " -6.648200e-02 -1.586980e-01 -1.490050e-01  2.753280e-01  3.457310e-01\n",
      "  1.507400e-02 -4.341710e-01 -4.925760e-01 -5.752100e-01 -6.573180e-01\n",
      " -5.682120e-01 -3.864240e-01  2.729840e-01  2.235830e-01  7.273600e-02\n",
      " -6.636000e-03 -2.552400e-02 -2.456200e-02  7.175420e-01  3.682010e-01\n",
      "  1.039000e+00  9.797960e-01 -2.504970e-01 -4.919250e-01  6.449700e-02\n",
      "  1.355500e-01  2.012820e-01  3.690990e-01  4.610000e-02 -2.744560e-01\n",
      " -3.420200e-01 -1.380150e-01 -2.271500e-02  5.803600e-02  2.157080e-01\n",
      "  2.071880e-01 -7.629000e-03 -2.737830e-01 -1.138360e-01  1.945690e-01\n",
      "  2.142590e-01 -4.402300e-02 -2.866590e-01 -3.583920e-01 -4.439530e-01\n",
      " -4.388750e-01 -2.516190e-01  2.311050e-01  1.291820e-01 -4.557800e-02\n",
      "  4.371000e-03  7.786300e-02 -8.741000e-02 -2.877020e-01  1.830840e-01\n",
      "  1.012520e-01  2.697340e-01  8.332970e-01 -1.713880e-01 -1.013376e+00\n",
      " -7.898400e-01 -2.317010e-01  6.703970e-01 -3.537500e-02 -1.035610e-01\n",
      " -1.620000e-04 -9.104000e-03  1.958400e-02 -4.875300e-02 -6.081800e-02\n",
      " -9.759800e-02 -4.942430e-01 -5.096310e-01 -2.985600e-02  2.385970e-01\n",
      "  3.335570e-01  1.672950e-01 -1.947600e-01 -4.056950e-01 -5.180620e-01\n",
      " -3.133980e-01  2.081980e-01  6.209040e-01  2.809930e-01 -2.726840e-01\n",
      " -1.058350e-01  6.761700e-02  1.399390e-01  1.453400e-01  5.336800e-02\n",
      "  7.789900e-02  1.054450e-01  8.009500e-02 -7.414900e-02 -1.707020e-01\n",
      "  1.916100e-02  1.297430e-01  1.054040e-01  1.462110e-01 -4.028000e-03\n",
      " -9.922000e-03  2.977590e-01  4.271100e-02 -3.126390e-01 -4.261990e-01\n",
      " -3.035560e-01 -3.207110e-01 -2.626670e-01 -3.653100e-01 -3.737960e-01\n",
      " -3.017770e-01 -3.659210e-01 -3.018140e-01 -2.755590e-01 -3.904460e-01\n",
      " -2.768190e-01 -7.531800e-02  1.566900e-01  3.555690e-01  5.055550e-01\n",
      "  3.256840e-01  2.651880e-01  1.694250e-01 -9.172340e-01 -8.256400e-01\n",
      " -4.424040e-01 -2.140710e-01 -2.905240e-01 -4.495580e-01  3.601600e-02\n",
      "  2.432280e-01 -7.852600e-02 -1.632410e-01  1.250000e-04  3.869800e-02\n",
      " -2.146000e-02  8.668500e-02  2.391170e-01  2.053930e-01  2.403000e-03\n",
      "  6.712200e-02  2.212560e-01  1.568000e-03 -2.650400e-02 -2.390800e-02\n",
      "  1.486560e-01 -2.118380e-01 -8.537900e-02 -1.167920e-01 -1.987300e-01\n",
      " -3.105820e-01 -5.690300e-02  4.757300e-02 -2.036830e-01 -2.463960e-01\n",
      " -2.358350e-01 -1.711030e-01 -7.768700e-02  9.665100e-02  1.022700e-01\n",
      " -3.791700e-02 -2.021800e-01 -1.977680e-01 -9.965400e-02  2.242900e-02\n",
      "  1.876350e-01  3.765600e-01  4.663420e-01  1.872010e-01 -6.450800e-02\n",
      "  5.774490e-01  1.856540e-01 -4.495970e-01 -3.338070e-01  4.413300e-02\n",
      "  2.894000e-02  2.470190e-01  4.708800e-01  3.080190e-01  2.546030e-01\n",
      "  3.686700e-02  5.809000e-03 -5.962000e-03 -1.106870e-01 -1.589010e-01\n",
      " -2.541240e-01 -3.452260e-01 -7.388000e-03  9.808300e-02 -1.078080e-01\n",
      " -1.773460e-01 -2.216740e-01 -5.118600e-02  5.294100e-02  1.530100e-01\n",
      "  2.909510e-01  1.755610e-01 -3.259660e-01 -1.987950e-01 -7.141500e-02\n",
      "  2.502630e-01  7.598400e-01 -1.002620e-01 -3.731180e-01  3.905200e-02\n",
      " -2.481060e-01 -2.883030e-01  9.929400e-02 -4.606910e-01 -2.765540e-01\n",
      "  1.306400e-02  2.985620e-01  2.512940e-01  1.358390e-01  8.675500e-02\n",
      "  6.834500e-02 -4.896100e-02 -1.203200e-02 -1.667590e-01 -3.775810e-01\n",
      " -4.841040e-01 -1.915580e-01 -4.091200e-02 -2.062000e-03 -2.848800e-02\n",
      " -3.155200e-02 -1.731170e-01  1.442250e-01  2.886540e-01  3.663060e-01\n",
      " -7.677000e-02 -4.108930e-01 -3.497880e-01  2.015800e-02  2.360740e-01\n",
      "  5.280150e-01  4.461590e-01  5.787910e-01  7.225300e-01  8.346170e-01\n",
      "  8.453150e-01  8.717700e-01  8.727700e-01  8.251530e-01  7.046250e-01\n",
      "  3.598530e-01  1.197470e-01 -1.795810e-01 -6.127110e-01 -1.387479e+00\n",
      " -2.000695e+00 -2.539422e+00 -3.242448e+00 -3.244804e+00 -2.674434e+00\n",
      " -2.727425e+00 -2.462753e+00 -1.874176e+00 -1.462373e+00 -1.373212e+00\n",
      " -1.542686e+00 -1.302850e+00 -1.034024e+00 -6.927480e-01 -4.553340e-01\n",
      " -1.866660e-01  2.426640e-01  5.776990e-01  6.862720e-01  2.810200e-02\n",
      " -8.011490e-01 -1.028676e+00 -4.477510e-01 -8.087470e-01 -6.119500e-02\n",
      "  1.079500e-02 -2.209600e-01 -2.506400e-01  1.117370e-01 -3.381510e-01\n",
      " -8.654000e-02  8.548770e-01  1.035697e+00  6.888330e-01  6.372440e-01\n",
      "  4.533450e-01  1.511820e-01  1.060300e-01 -1.007140e-01 -3.493440e-01\n",
      " -5.086950e-01 -9.852540e-01 -8.544710e-01 -6.491730e-01 -5.560320e-01\n",
      " -8.678410e-01 -9.603970e-01 -1.740030e+00 -2.441905e+00 -2.627213e+00\n",
      " -2.453885e+00 -1.926079e+00 -8.680710e-01 -1.071970e-01  7.710400e-02\n",
      "  5.463680e-01  1.012000e+00  1.308145e+00  1.756813e+00  2.298936e+00\n",
      "  2.480437e+00  1.883115e+00  1.159759e+00  1.058808e+00  1.185255e+00\n",
      "  1.437893e+00  1.161851e+00  1.162799e+00 -4.281800e-01 -8.265930e-01\n",
      " -8.518480e-01 -2.120291e+00  1.184140e-01  1.334680e-01  2.639180e-01\n",
      "  4.044970e-01  2.339980e-01 -4.984200e-02  1.113060e-01 -1.905420e-01\n",
      " -3.235160e-01 -8.664700e-01 -1.508432e+00 -2.186635e+00 -2.941362e+00\n",
      " -3.166579e+00 -2.554543e+00 -1.969284e+00 -1.287137e+00 -4.722710e-01\n",
      "  7.879600e-02  6.650200e-01  1.160405e+00  1.668173e+00  2.376584e+00\n",
      "  3.001359e+00  3.270561e+00  2.533935e+00  1.661997e+00  1.276325e+00\n",
      "  7.943350e-01  3.469870e-01  1.057470e+00  5.228770e-01 -1.322249e+00\n",
      "  2.237950e-01 -3.376700e-01 -1.817528e+00  4.981420e-01 -3.302020e-01\n",
      " -3.857400e-01 -6.950700e-02 -1.827640e-01  1.403010e-01  6.583000e-03\n",
      " -4.152000e-01 -8.824780e-01 -1.924503e+00 -2.856270e+00 -3.431435e+00\n",
      " -3.475779e+00 -2.676979e+00 -1.773019e+00 -7.518170e-01  2.080600e-02\n",
      "  8.864610e-01  1.369627e+00  1.415353e+00  1.832793e+00  2.310178e+00\n",
      "  3.077064e+00  2.793688e+00  1.828656e+00  1.365193e+00  1.505900e+00\n",
      " -1.125301e+00 -1.078070e+00 -1.007143e+00 -9.654610e-01 -8.596930e-01\n",
      " -7.652750e-01 -7.432790e-01 -3.414410e-01  4.188000e-02 -3.183070e-01\n",
      " -7.245740e-01 -8.479280e-01 -7.658350e-01 -5.649470e-01 -3.451530e-01\n",
      " -5.550050e-01 -6.072000e-01 -1.411610e-01 -1.476090e-01  1.743800e-01\n",
      " -2.642670e-01 -1.156028e+00 -1.470315e+00 -1.276752e+00 -1.283836e+00\n",
      " -2.073225e+00 -2.295889e+00 -2.317852e+00 -1.987057e+00 -2.045515e+00\n",
      " -2.218281e+00 -2.327383e+00 -2.471644e+00 -2.267579e+00 -2.153908e+00\n",
      " -1.664711e+00 -1.312245e+00 -1.366130e-01  6.032690e-01 -6.236980e-01\n",
      " -1.320982e+00 -2.120780e-01 -1.951711e+00 -1.752657e+00 -2.137949e+00\n",
      " -1.876286e+00 -8.271000e-01 -9.194650e-01 -9.459590e-01 -6.450100e-01\n",
      " -7.189670e-01 -9.864520e-01 -8.328640e-01 -8.107500e-02  5.411690e-01\n",
      "  3.482770e-01  2.124140e-01  2.943220e-01  5.826080e-01  5.550940e-01\n",
      "  6.332740e-01  6.008300e-01  5.462600e-01  4.590400e-02 -5.290640e-01\n",
      " -6.182420e-01 -1.286221e+00 -1.382800e-01  2.571160e-01  2.858340e-01\n",
      " -9.249200e-02 -6.874170e-01 -1.203107e+00 -1.111627e+00 -1.841600e-01\n",
      "  7.137770e-01  2.887800e-02 -9.878030e-01 -1.572657e+00 -9.407890e-01\n",
      " -3.004800e-02  6.420300e-02  6.133680e-01  2.125250e-01 -1.088330e-01\n",
      " -5.219900e-02 -2.606510e-01  6.820210e-01  1.763020e-01  3.202900e-02\n",
      "  1.869500e-02  6.845000e-03 -2.159740e-01  6.934140e-01  1.004239e+00\n",
      "  1.202392e+00  1.465258e+00  1.485688e+00  1.244314e+00  8.911090e-01\n",
      "  1.228210e-01 -2.158530e-01 -1.250390e-01  3.100870e-01  9.158440e-01\n",
      "  1.190284e+00  7.179370e-01 -3.650410e-01 -1.269237e+00 -1.481560e+00\n",
      " -6.706430e-01 -1.907440e-01 -1.006533e+00 -1.957387e+00 -1.958748e+00\n",
      " -1.423499e+00 -2.772200e-01  2.531449e+00  8.100820e-01 -7.851770e-01\n",
      " -1.729300e-02 -4.753400e-02  6.257100e-02  3.813480e-01 -1.281960e-01\n",
      " -2.231110e-01 -3.358520e-01  6.037880e-01  8.461890e-01  1.238688e+00\n",
      "  1.301260e+00  1.346291e+00  8.898340e-01  9.478000e-01  2.826530e-01\n",
      " -6.276350e-01 -7.844130e-01 -9.265000e-02  4.820030e-01  1.331044e+00\n",
      "  1.199068e+00 -4.930970e-01 -1.969544e+00 -1.771269e+00 -5.379220e-01\n",
      "  7.606460e-01 -4.097540e-01 -2.039136e+00 -3.166604e+00 -2.468545e+00\n",
      "  8.036500e-02  6.157300e-02  5.813600e-02  1.659090e-01  2.584230e-01\n",
      "  3.470400e-01  4.176990e-01  3.595070e-01  1.792220e-01  4.851800e-02\n",
      " -8.582900e-02 -1.984430e-01 -2.220030e-01 -2.669470e-01 -4.809440e-01\n",
      " -7.498770e-01 -8.165980e-01 -6.020520e-01 -3.200500e-01 -6.166490e-01\n",
      " -8.984680e-01 -1.096302e+00 -1.332138e+00 -1.609384e+00 -1.513680e+00\n",
      " -1.628152e+00 -1.564234e+00 -1.100857e+00 -7.378380e-01 -4.444800e-01\n",
      " -9.734600e-02  1.739160e-01  2.618990e-01  2.848290e-01  1.348070e-01\n",
      " -2.700590e-01 -5.701330e-01 -6.989730e-01 -1.063502e+00 -1.502157e+00\n",
      " -8.843960e-01 -6.716550e-01  1.614430e-01  6.839440e-01  4.569680e-01\n",
      " -1.942930e-01 -1.837210e-01 -1.524290e-01 -1.526820e-01 -2.431580e-01\n",
      " -2.379430e-01 -2.172780e-01 -2.252680e-01 -2.383580e-01 -3.199400e-01\n",
      " -4.286970e-01 -4.051460e-01 -2.227400e-01 -3.366800e-02  1.058870e-01\n",
      "  6.400000e-03 -3.242850e-01 -9.193190e-01 -1.456624e+00 -1.632370e+00\n",
      " -1.592589e+00 -1.238737e+00 -7.179350e-01 -3.574090e-01 -5.057100e-01\n",
      " -6.077010e-01 -3.537220e-01 -5.402700e-02  3.890970e-01  8.147110e-01\n",
      "  1.212207e+00  1.444989e+00  1.375010e+00  9.349460e-01  2.534940e-01\n",
      " -2.137890e-01 -8.995000e-01 -1.036930e+00 -9.150690e-01 -6.589310e-01\n",
      " -6.805440e-01 -1.998920e-01 -5.176790e-01 -3.363970e-01 -6.824500e-02\n",
      "  2.136960e-01  3.941180e-01  4.180590e-01  3.678120e-01  4.219220e-01\n",
      "  5.339700e-01  5.362500e-01  2.465250e-01 -7.516500e-02 -3.363580e-01\n",
      " -6.168290e-01 -6.356210e-01 -6.765150e-01 -3.262030e-01 -1.375540e-01\n",
      "  1.763100e-02  1.494500e-01  4.170810e-01  7.198200e-01  9.878230e-01\n",
      "  1.184496e+00  1.352404e+00  8.729450e-01  4.546710e-01  3.302020e-01\n",
      "  9.541300e-02 -5.917740e-01 -1.091407e+00 -6.581690e-01 -2.556110e-01\n",
      " -2.190900e-01 -4.280720e-01 -3.060900e-01 -1.045557e+00 -5.091010e-01\n",
      "  3.633700e-01  1.109206e+00  6.585570e-01  2.332150e-01  2.296410e-01\n",
      "  1.326110e-01 -6.726300e-02 -3.655820e-01 -4.672360e-01 -3.977620e-01\n",
      " -2.238530e-01 -7.172600e-02 -1.560290e-01 -9.301700e-02 -2.339860e-01\n",
      " -2.149520e-01  2.560000e-02  2.457290e-01  3.829870e-01  5.620660e-01\n",
      "  9.631370e-01  1.123959e+00  1.039189e+00  4.776490e-01  1.412900e-02]\n",
      "Shape of sample 0: (900,)\n",
      "The label of sample 0: 4\n"
     ]
    }
   ],
   "source": [
    "# Lets print the first sample of ms_train dataset.\n",
    "# Is a tuple, with an vector of 900 elements as first element and the label as second\n",
    "x = ms_train_dataset[0]\n",
    "\n",
    "# Inspecting sample\n",
    "print(f\"The sample 0: {x[0]}\")\n",
    "print(f\"Shape of sample 0: {x[0].shape}\")\n",
    "print(f\"The label of sample 0: {x[1]}\")"
   ]
  },
  {
   "cell_type": "markdown",
   "id": "cd10c49b-b6dc-4ee5-a985-66f038cc8f0d",
   "metadata": {},
   "source": [
    "## Checking the window"
   ]
  },
  {
   "cell_type": "code",
   "execution_count": 9,
   "id": "76fe00af-2b48-4482-96c7-c8f3556bab23",
   "metadata": {},
   "outputs": [
    {
     "name": "stdout",
     "output_type": "stream",
     "text": [
      "MotionSense train have 6 windows\n",
      "Each sample train can be sliced at: [(0, 150), (150, 300), (300, 450), (450, 600), (600, 750), (750, 900)]\n",
      "Each slice has the following name associated: ['userAcceleration.x', 'userAcceleration.y', 'userAcceleration.z', 'rotationRate.x', 'rotationRate.y', 'rotationRate.z']\n"
     ]
    }
   ],
   "source": [
    "print(f\"MotionSense train have {ms_train_dataset.num_windows} windows\")\n",
    "print(f\"Each sample train can be sliced at: {ms_train_dataset.window_slices}\")\n",
    "print(f\"Each slice has the following name associated: {ms_train_dataset.window_names}\")"
   ]
  },
  {
   "cell_type": "markdown",
   "id": "f4df78f4-af82-45df-ba0a-fd29149e3742",
   "metadata": {},
   "source": [
    "## Activities dictionary"
   ]
  },
  {
   "cell_type": "code",
   "execution_count": 10,
   "id": "c37b5465-dfd2-4247-add6-00af7da1bda3",
   "metadata": {},
   "outputs": [],
   "source": [
    "act_names = ['sit',\n",
    "             'std',\n",
    "             'wlk',\n",
    "             'ups',\n",
    "             'dws',\n",
    "             'jog']"
   ]
  },
  {
   "cell_type": "code",
   "execution_count": 11,
   "id": "4e393b93-c96b-4d52-8d84-f34131a71ccd",
   "metadata": {},
   "outputs": [],
   "source": [
    "act_dict = {}\n",
    "for i in range(0, len(act_names)):\n",
    "    act_dict[act_names[i]] = i"
   ]
  },
  {
   "cell_type": "markdown",
   "id": "3c2665c4-07ed-491a-8e5f-ccd2950b68fc",
   "metadata": {},
   "source": [
    "## Resampling"
   ]
  },
  {
   "cell_type": "markdown",
   "id": "956dda53-e163-4b18-9f47-8e11285c65db",
   "metadata": {},
   "source": [
    "### Setting the column names"
   ]
  },
  {
   "cell_type": "code",
   "execution_count": 12,
   "id": "5d9b7fda-d800-435b-8561-e9046de3d910",
   "metadata": {},
   "outputs": [],
   "source": [
    "accel_x = [\"userAcceleration.x-\"+str(i) for i in range(0, 90)]\n",
    "accel_y = [\"userAcceleration.y-\"+str(i) for i in range(0, 90)]\n",
    "accel_z = [\"userAcceleration.z-\"+str(i) for i in range(0, 90)]\n",
    "gyro_x = [\"rotationRate.x-\"+str(i) for i in range(0, 90)]\n",
    "gyro_y = [\"rotationRate.y-\"+str(i) for i in range(0, 90)]\n",
    "gyro_z = [\"rotationRate.z-\"+str(i) for i in range(0, 90)]\n",
    "columns = np.concatenate((accel_x, accel_y, accel_z, gyro_x, gyro_y, gyro_z))"
   ]
  },
  {
   "cell_type": "markdown",
   "id": "e1041873-9914-43d0-83ba-faa101af6445",
   "metadata": {},
   "source": [
    "### Creating the resampled dataframes"
   ]
  },
  {
   "cell_type": "code",
   "execution_count": 13,
   "id": "b8e8fb3c-a607-47fa-9b09-e63c9d49ac88",
   "metadata": {},
   "outputs": [],
   "source": [
    "resampler = SimpleResampler(new_sample_size=90)\n",
    "transformer = TransformMultiModalDataset(transforms=[resampler], new_window_name_prefix=\"resampled-30Hz.\")"
   ]
  },
  {
   "cell_type": "code",
   "execution_count": 14,
   "id": "9ba012fc-9702-4e6e-96ad-1dd2572504cb",
   "metadata": {},
   "outputs": [],
   "source": [
    "resampled_ms_train_samples_df = pd.DataFrame(transformer(ms_train_dataset)[:][0], columns=columns)\n",
    "resampled_ms_train = pd.concat([resampled_ms_train_samples_df, ms_train.iloc[:, -6:]], axis=1)\n",
    "\n",
    "resampled_ms_validation_samples_df = pd.DataFrame(transformer(ms_validation_dataset)[:][0], columns=columns)\n",
    "resampled_ms_validation = pd.concat([resampled_ms_validation_samples_df, ms_validation.iloc[:, -6:]], axis=1)\n",
    "\n",
    "resampled_ms_test_samples_df = pd.DataFrame(transformer(ms_test_dataset)[:][0], columns=columns)\n",
    "resampled_ms_test = pd.concat([resampled_ms_test_samples_df, ms_test.iloc[:, -6:]], axis=1)"
   ]
  },
  {
   "cell_type": "markdown",
   "id": "414442e4-b5af-4d86-9cf2-2ac42b83c38f",
   "metadata": {},
   "source": [
    "### Creating the datasets"
   ]
  },
  {
   "cell_type": "code",
   "execution_count": 15,
   "id": "1f510f01-e678-4047-b037-90bd6b713219",
   "metadata": {},
   "outputs": [],
   "source": [
    "resampled_ms_train_dataset = PandasMultiModalDataset(\n",
    "    resampled_ms_train,\n",
    "    feature_prefixes=features,\n",
    "    label_columns=\"activity code\",\n",
    "    as_array=True\n",
    ")\n",
    "\n",
    "resampled_ms_validation_dataset = PandasMultiModalDataset(\n",
    "    resampled_ms_validation,\n",
    "    feature_prefixes=features,\n",
    "    label_columns=\"activity code\",\n",
    "    as_array=True\n",
    ")\n",
    "\n",
    "resampled_ms_test_dataset = PandasMultiModalDataset(\n",
    "    resampled_ms_test,\n",
    "    feature_prefixes=features,\n",
    "    label_columns=\"activity code\",\n",
    "    as_array=True\n",
    ")"
   ]
  },
  {
   "cell_type": "markdown",
   "id": "e0b9df7d-cc3e-466a-9719-dd083d4ee68d",
   "metadata": {},
   "source": [
    "## Saving the resampled data"
   ]
  },
  {
   "cell_type": "code",
   "execution_count": 16,
   "id": "c7a9cda8-f111-4715-94c2-e474574149ab",
   "metadata": {
    "tags": []
   },
   "outputs": [
    {
     "name": "stdout",
     "output_type": "stream",
     "text": [
      "# Resampled to 30Hz MotionSense View\n",
      "\n",
      "This view contains train, validation and test subsets in the following proportions:\n",
      "- Train: 70% of samples\n",
      "- Validation: 10% of samples\n",
      "- Test: 20% of samples\n",
      "\n",
      "After splits, the datasets were balanced in relation to the activity code column, that is, each subset have the same number of activitiy samples.\n",
      "\n",
      "## Activities:\n",
      "- sit: 0 (569 train, 101 validation, 170 test)\n",
      "- std: 1 (569 train, 101 validation, 170 test)\n",
      "- wlk: 2 (569 train, 101 validation, 170 test)\n",
      "- ups: 3 (569 train, 101 validation, 170 test)\n",
      "- dws: 4 (569 train, 101 validation, 170 test)\n",
      "- jog: 5 (569 train, 101 validation, 170 test)\n",
      "\n",
      "## Users\n",
      "- 16 users train dataset: 1 (218 samples), 2 (219 samples), 5 (185 samples), 6 (218 samples), 8 (233 samples), 9 (202 samples), 10 (218 samples), 11 (211 samples), 12 (197 samples), 13 (183 samples), 15 (208 samples), 16 (246 samples), 17 (209 samples), 21 (254 samples), 22 (200 samples), 23 (213 samples).\n",
      "- 3 users validation dataset: 4 (190 samples), 7 (211 samples), 20 (205 samples).\n",
      "- 5 users test dataset: 3 (222 samples), 14 (183 samples), 18 (223 samples), 19 (233 samples), 24 (159 samples).\n",
      "\n",
      "**NOTE**: Each subset contain samples from distinct users, that is, samples of one user belongs exclusivelly to one of three subsets.\n",
      "\n",
      "\n"
     ]
    }
   ],
   "source": [
    "output_path = Path(\"../../../data/views/MotionSense/resampled_view_30Hz\")\n",
    "\n",
    "train_act_samples = resampled_ms_train[\"normalized activity code\"].value_counts().to_dict()\n",
    "validation_act_samples = resampled_ms_validation[\"normalized activity code\"].value_counts().to_dict()\n",
    "test_act_samples = resampled_ms_test[\"normalized activity code\"].value_counts().to_dict()\n",
    "activities = [f\"- {name}: {code} ({train_act_samples[code]} train, {validation_act_samples[code]} validation, {test_act_samples[code]} test)\" for name, code in act_dict.items()]\n",
    "activities = \"\\n\".join(activities)\n",
    "\n",
    "train_users = [f\"{user} ({no_samples} samples)\" for user, no_samples in sorted(resampled_ms_train[\"user\"].value_counts().sort_values().items(), key=lambda x: x[0])]\n",
    "train_users = ', '.join(train_users)\n",
    "validation_users = [f\"{user} ({no_samples} samples)\" for user, no_samples in sorted(resampled_ms_validation[\"user\"].value_counts().sort_values().items(), key=lambda x: x[0])]\n",
    "validation_users = ', '.join(validation_users)\n",
    "test_users = [f\"{user} ({no_samples} samples)\" for user, no_samples in sorted(resampled_ms_test[\"user\"].value_counts().items(), key=lambda x: x[0])]\n",
    "test_users = ', '.join(test_users)\n",
    "\n",
    "description = f\"\"\"# Resampled to 30Hz MotionSense View\n",
    "\n",
    "This view contains train, validation and test subsets in the following proportions:\n",
    "- Train: 70% of samples\n",
    "- Validation: 10% of samples\n",
    "- Test: 20% of samples\n",
    "\n",
    "After splits, the datasets were balanced in relation to the activity code column, that is, each subset have the same number of activitiy samples.\n",
    "\n",
    "## Activities:\n",
    "{activities}\n",
    "\n",
    "## Users\n",
    "- {len(resampled_ms_train.user.unique())} users train dataset: {train_users}.\n",
    "- {len(resampled_ms_validation.user.unique())} users validation dataset: {validation_users}.\n",
    "- {len(resampled_ms_test.user.unique())} users test dataset: {test_users}.\n",
    "\n",
    "**NOTE**: Each subset contain samples from distinct users, that is, samples of one user belongs exclusivelly to one of three subsets.\n",
    "\n",
    "\"\"\"\n",
    "\n",
    "print(description)\n",
    "pandas_io = PandasDatasetsIO(output_path)\n"
   ]
  },
  {
   "cell_type": "code",
   "execution_count": 17,
   "id": "4f4a9c1b-beca-4c22-a84a-319fc341e709",
   "metadata": {
    "tags": []
   },
   "outputs": [],
   "source": [
    "pandas_io.save(train=resampled_ms_train, validation=resampled_ms_validation, test=resampled_ms_test, description=description)"
   ]
  },
  {
   "cell_type": "code",
   "execution_count": null,
   "id": "50f5be6a-47e3-4e28-a824-22a20d6520f1",
   "metadata": {},
   "outputs": [],
   "source": []
  }
 ],
 "metadata": {
  "kernelspec": {
   "display_name": "Python 3 (ipykernel)",
   "language": "python",
   "name": "python3"
  },
  "language_info": {
   "codemirror_mode": {
    "name": "ipython",
    "version": 3
   },
   "file_extension": ".py",
   "mimetype": "text/x-python",
   "name": "python",
   "nbconvert_exporter": "python",
   "pygments_lexer": "ipython3",
   "version": "3.8.10"
  }
 },
 "nbformat": 4,
 "nbformat_minor": 5
}
