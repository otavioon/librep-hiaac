{
 "cells": [
  {
   "cell_type": "markdown",
   "id": "9a0c0e3e-a130-465c-8aec-671bdd27bf3f",
   "metadata": {},
   "source": [
    "# Generate view of Resampling MotionSense 20Hz without Gravity - Multiplying acc by 9.81m/s²"
   ]
  },
  {
   "cell_type": "code",
   "execution_count": 1,
   "id": "498254b0-ea10-4f02-b718-d26ce855b77b",
   "metadata": {
    "tags": []
   },
   "outputs": [],
   "source": [
    "%load_ext autoreload\n",
    "%autoreload 2\n",
    "\n",
    "import sys\n",
    "\n",
    "sys.path.append(\"../../../\")"
   ]
  },
  {
   "cell_type": "code",
   "execution_count": 2,
   "id": "fad53baa-1190-4969-9ae9-489321c5966e",
   "metadata": {
    "tags": []
   },
   "outputs": [
    {
     "name": "stderr",
     "output_type": "stream",
     "text": [
      "2022-10-24 13:48:19.902570: W tensorflow/stream_executor/platform/default/dso_loader.cc:64] Could not load dynamic library 'libcudart.so.11.0'; dlerror: libcudart.so.11.0: cannot open shared object file: No such file or directory\n",
      "2022-10-24 13:48:19.902593: I tensorflow/stream_executor/cuda/cudart_stub.cc:29] Ignore above cudart dlerror if you do not have a GPU set up on your machine.\n"
     ]
    }
   ],
   "source": [
    "from pathlib import Path\n",
    "\n",
    "import numpy as np\n",
    "import pandas as pd\n",
    "\n",
    "from librep.utils.dataset import PandasDatasetsIO          # For quick load train, test and validation CSVs\n",
    "from librep.datasets.multimodal import PandasMultiModalDataset # Wrap CSVs to librep's `Dataset` interface\n",
    "\n",
    "from librep.datasets.multimodal import TransformMultiModalDataset\n",
    "from librep.transforms.resampler import SimpleResampler"
   ]
  },
  {
   "cell_type": "markdown",
   "id": "b3a70d59-2c17-4b67-ac3f-7a2a3306ed74",
   "metadata": {
    "tags": []
   },
   "source": [
    "## Loading data"
   ]
  },
  {
   "cell_type": "code",
   "execution_count": 3,
   "id": "db74f2f3-4ed1-49a4-a5b7-40d607ef451c",
   "metadata": {
    "tags": []
   },
   "outputs": [],
   "source": [
    "# Path for MotionSense balanced view with the same activities (and labels numbers) as MotionSense\n",
    "# It is assumed that the directory will contain (train.csv, test.csv and validation.csv)\n",
    "motionsense_dataset_path = Path(\"../../../data_2/views/MotionSense/balanced_view_20Hz_without_gravity_9.81_acc\")"
   ]
  },
  {
   "cell_type": "markdown",
   "id": "1dfd6084-06e9-4345-af28-1ff1926c01d6",
   "metadata": {},
   "source": [
    "Once paths is defined, we can load the CSV as pandas dataframes"
   ]
  },
  {
   "cell_type": "code",
   "execution_count": 4,
   "id": "d4cb9c09-10be-4838-996d-6e078db6836c",
   "metadata": {
    "tags": []
   },
   "outputs": [],
   "source": [
    "# Motionsense dataframes\n",
    "ms_train, ms_validation, ms_test = PandasDatasetsIO(motionsense_dataset_path).load()"
   ]
  },
  {
   "cell_type": "markdown",
   "id": "97d66571-2951-49ab-9872-55c61a7d7610",
   "metadata": {},
   "source": [
    "Letś take a look in the train dataframes"
   ]
  },
  {
   "cell_type": "code",
   "execution_count": 5,
   "id": "daa289bb-d2a8-4975-b48d-e52dad59e04c",
   "metadata": {
    "tags": []
   },
   "outputs": [
    {
     "data": {
      "text/html": [
       "<div>\n",
       "<style scoped>\n",
       "    .dataframe tbody tr th:only-of-type {\n",
       "        vertical-align: middle;\n",
       "    }\n",
       "\n",
       "    .dataframe tbody tr th {\n",
       "        vertical-align: top;\n",
       "    }\n",
       "\n",
       "    .dataframe thead th {\n",
       "        text-align: right;\n",
       "    }\n",
       "</style>\n",
       "<table border=\"1\" class=\"dataframe\">\n",
       "  <thead>\n",
       "    <tr style=\"text-align: right;\">\n",
       "      <th></th>\n",
       "      <th>Unnamed: 0</th>\n",
       "      <th>attitude.roll-0</th>\n",
       "      <th>attitude.roll-1</th>\n",
       "      <th>attitude.roll-2</th>\n",
       "      <th>attitude.roll-3</th>\n",
       "      <th>attitude.roll-4</th>\n",
       "      <th>attitude.roll-5</th>\n",
       "      <th>attitude.roll-6</th>\n",
       "      <th>attitude.roll-7</th>\n",
       "      <th>attitude.roll-8</th>\n",
       "      <th>...</th>\n",
       "      <th>userAcceleration.z-55</th>\n",
       "      <th>userAcceleration.z-56</th>\n",
       "      <th>userAcceleration.z-57</th>\n",
       "      <th>userAcceleration.z-58</th>\n",
       "      <th>userAcceleration.z-59</th>\n",
       "      <th>activity code</th>\n",
       "      <th>length</th>\n",
       "      <th>trial_code</th>\n",
       "      <th>index</th>\n",
       "      <th>user</th>\n",
       "    </tr>\n",
       "  </thead>\n",
       "  <tbody>\n",
       "    <tr>\n",
       "      <th>0</th>\n",
       "      <td>0</td>\n",
       "      <td>1.889417</td>\n",
       "      <td>1.746010</td>\n",
       "      <td>1.626414</td>\n",
       "      <td>1.524156</td>\n",
       "      <td>1.477292</td>\n",
       "      <td>1.540848</td>\n",
       "      <td>1.835174</td>\n",
       "      <td>2.169155</td>\n",
       "      <td>2.381869</td>\n",
       "      <td>...</td>\n",
       "      <td>-0.481697</td>\n",
       "      <td>2.898665</td>\n",
       "      <td>-3.262189</td>\n",
       "      <td>1.214370</td>\n",
       "      <td>1.388106</td>\n",
       "      <td>0</td>\n",
       "      <td>60</td>\n",
       "      <td>1</td>\n",
       "      <td>60</td>\n",
       "      <td>11</td>\n",
       "    </tr>\n",
       "    <tr>\n",
       "      <th>1</th>\n",
       "      <td>1</td>\n",
       "      <td>-0.932351</td>\n",
       "      <td>-0.590616</td>\n",
       "      <td>-0.454007</td>\n",
       "      <td>-0.354352</td>\n",
       "      <td>-0.365440</td>\n",
       "      <td>-0.726303</td>\n",
       "      <td>-0.719105</td>\n",
       "      <td>-0.477289</td>\n",
       "      <td>-0.381332</td>\n",
       "      <td>...</td>\n",
       "      <td>-3.736886</td>\n",
       "      <td>-4.542936</td>\n",
       "      <td>-2.194738</td>\n",
       "      <td>0.824636</td>\n",
       "      <td>2.221683</td>\n",
       "      <td>0</td>\n",
       "      <td>60</td>\n",
       "      <td>1</td>\n",
       "      <td>360</td>\n",
       "      <td>12</td>\n",
       "    </tr>\n",
       "    <tr>\n",
       "      <th>2</th>\n",
       "      <td>2</td>\n",
       "      <td>0.943969</td>\n",
       "      <td>1.070786</td>\n",
       "      <td>1.152662</td>\n",
       "      <td>1.168503</td>\n",
       "      <td>1.127455</td>\n",
       "      <td>0.938647</td>\n",
       "      <td>0.685419</td>\n",
       "      <td>0.464904</td>\n",
       "      <td>0.329442</td>\n",
       "      <td>...</td>\n",
       "      <td>-0.790130</td>\n",
       "      <td>1.167755</td>\n",
       "      <td>1.851910</td>\n",
       "      <td>-0.304773</td>\n",
       "      <td>0.707864</td>\n",
       "      <td>0</td>\n",
       "      <td>60</td>\n",
       "      <td>1</td>\n",
       "      <td>420</td>\n",
       "      <td>21</td>\n",
       "    </tr>\n",
       "    <tr>\n",
       "      <th>3</th>\n",
       "      <td>3</td>\n",
       "      <td>1.115902</td>\n",
       "      <td>1.042144</td>\n",
       "      <td>1.048972</td>\n",
       "      <td>0.940828</td>\n",
       "      <td>1.100253</td>\n",
       "      <td>1.027048</td>\n",
       "      <td>1.122392</td>\n",
       "      <td>0.970569</td>\n",
       "      <td>0.871801</td>\n",
       "      <td>...</td>\n",
       "      <td>5.230980</td>\n",
       "      <td>-0.822671</td>\n",
       "      <td>-4.315992</td>\n",
       "      <td>-2.595920</td>\n",
       "      <td>-4.700728</td>\n",
       "      <td>0</td>\n",
       "      <td>60</td>\n",
       "      <td>2</td>\n",
       "      <td>60</td>\n",
       "      <td>17</td>\n",
       "    </tr>\n",
       "    <tr>\n",
       "      <th>4</th>\n",
       "      <td>4</td>\n",
       "      <td>-1.170714</td>\n",
       "      <td>-1.020319</td>\n",
       "      <td>-0.925709</td>\n",
       "      <td>-0.897242</td>\n",
       "      <td>-0.860512</td>\n",
       "      <td>-0.818319</td>\n",
       "      <td>-0.820717</td>\n",
       "      <td>-0.851184</td>\n",
       "      <td>-0.859504</td>\n",
       "      <td>...</td>\n",
       "      <td>-1.710276</td>\n",
       "      <td>-3.050549</td>\n",
       "      <td>1.768746</td>\n",
       "      <td>1.529880</td>\n",
       "      <td>0.094784</td>\n",
       "      <td>0</td>\n",
       "      <td>60</td>\n",
       "      <td>11</td>\n",
       "      <td>180</td>\n",
       "      <td>21</td>\n",
       "    </tr>\n",
       "  </tbody>\n",
       "</table>\n",
       "<p>5 rows × 726 columns</p>\n",
       "</div>"
      ],
      "text/plain": [
       "   Unnamed: 0  attitude.roll-0  attitude.roll-1  attitude.roll-2  \\\n",
       "0           0         1.889417         1.746010         1.626414   \n",
       "1           1        -0.932351        -0.590616        -0.454007   \n",
       "2           2         0.943969         1.070786         1.152662   \n",
       "3           3         1.115902         1.042144         1.048972   \n",
       "4           4        -1.170714        -1.020319        -0.925709   \n",
       "\n",
       "   attitude.roll-3  attitude.roll-4  attitude.roll-5  attitude.roll-6  \\\n",
       "0         1.524156         1.477292         1.540848         1.835174   \n",
       "1        -0.354352        -0.365440        -0.726303        -0.719105   \n",
       "2         1.168503         1.127455         0.938647         0.685419   \n",
       "3         0.940828         1.100253         1.027048         1.122392   \n",
       "4        -0.897242        -0.860512        -0.818319        -0.820717   \n",
       "\n",
       "   attitude.roll-7  attitude.roll-8  ...  userAcceleration.z-55  \\\n",
       "0         2.169155         2.381869  ...              -0.481697   \n",
       "1        -0.477289        -0.381332  ...              -3.736886   \n",
       "2         0.464904         0.329442  ...              -0.790130   \n",
       "3         0.970569         0.871801  ...               5.230980   \n",
       "4        -0.851184        -0.859504  ...              -1.710276   \n",
       "\n",
       "   userAcceleration.z-56  userAcceleration.z-57  userAcceleration.z-58  \\\n",
       "0               2.898665              -3.262189               1.214370   \n",
       "1              -4.542936              -2.194738               0.824636   \n",
       "2               1.167755               1.851910              -0.304773   \n",
       "3              -0.822671              -4.315992              -2.595920   \n",
       "4              -3.050549               1.768746               1.529880   \n",
       "\n",
       "   userAcceleration.z-59  activity code  length  trial_code  index  user  \n",
       "0               1.388106              0      60           1     60    11  \n",
       "1               2.221683              0      60           1    360    12  \n",
       "2               0.707864              0      60           1    420    21  \n",
       "3              -4.700728              0      60           2     60    17  \n",
       "4               0.094784              0      60          11    180    21  \n",
       "\n",
       "[5 rows x 726 columns]"
      ]
     },
     "execution_count": 5,
     "metadata": {},
     "output_type": "execute_result"
    }
   ],
   "source": [
    "ms_train.head()"
   ]
  },
  {
   "cell_type": "markdown",
   "id": "f248601c-0851-4cf7-b7ae-9d9144bb77be",
   "metadata": {},
   "source": [
    "Multiplying accelerometer by 9.81m/s²"
   ]
  },
  {
   "cell_type": "code",
   "execution_count": 6,
   "id": "f94e8afb-0c53-42e2-a5db-3356468796a8",
   "metadata": {},
   "outputs": [],
   "source": [
    "# for i in range(150):\n",
    "#     ms_train[\"userAcceleration.x-{}\".format(i)] = (ms_train[\"userAcceleration.x-{}\".format(i)])*9.81\n",
    "#     ms_train[\"userAcceleration.y-{}\".format(i)] = (ms_train[\"userAcceleration.y-{}\".format(i)])*9.81\n",
    "#     ms_train[\"userAcceleration.z-{}\".format(i)] = (ms_train[\"userAcceleration.z-{}\".format(i)])*9.81\n",
    "#     ms_validation[\"userAcceleration.x-{}\".format(i)] = (ms_validation[\"userAcceleration.x-{}\".format(i)])*9.81\n",
    "#     ms_validation[\"userAcceleration.y-{}\".format(i)] = (ms_validation[\"userAcceleration.y-{}\".format(i)])*9.81\n",
    "#     ms_validation[\"userAcceleration.z-{}\".format(i)] = (ms_validation[\"userAcceleration.z-{}\".format(i)])*9.81\n",
    "#     ms_test[\"userAcceleration.x-{}\".format(i)] = (ms_test[\"userAcceleration.x-{}\".format(i)])*9.81\n",
    "#     ms_test[\"userAcceleration.y-{}\".format(i)] = (ms_test[\"userAcceleration.y-{}\".format(i)])*9.81\n",
    "#     ms_test[\"userAcceleration.z-{}\".format(i)] = (ms_test[\"userAcceleration.z-{}\".format(i)])*9.81"
   ]
  },
  {
   "cell_type": "markdown",
   "id": "a82d0f7d-3bc0-492f-be47-ddd5f6e52d7e",
   "metadata": {},
   "source": [
    "## Creating librep dataset "
   ]
  },
  {
   "cell_type": "code",
   "execution_count": 7,
   "id": "052a9842-a462-40ee-ae55-f930fc4397ea",
   "metadata": {},
   "outputs": [],
   "source": [
    "# Motionsense features to select\n",
    "features = [\n",
    "    \"userAcceleration.x\",\n",
    "    \"userAcceleration.y\",\n",
    "    \"userAcceleration.z\",\n",
    "    \"rotationRate.x\",\n",
    "    \"rotationRate.y\",\n",
    "    \"rotationRate.z\"\n",
    "]\n",
    "\n",
    "# Creating the datasets\n",
    "\n",
    "# Train\n",
    "ms_train_dataset = PandasMultiModalDataset(\n",
    "    ms_train,\n",
    "    feature_prefixes=features,\n",
    "    label_columns=\"activity code\",\n",
    "    as_array=True\n",
    ")\n",
    "\n",
    "# Validation\n",
    "ms_validation_dataset = PandasMultiModalDataset(\n",
    "    ms_validation,\n",
    "    feature_prefixes=features,\n",
    "    label_columns=\"activity code\",\n",
    "    as_array=True\n",
    ")\n",
    "\n",
    "# Test\n",
    "ms_test_dataset = PandasMultiModalDataset(\n",
    "    ms_test,\n",
    "    feature_prefixes=features,\n",
    "    label_columns=\"activity code\",\n",
    "    as_array=True\n",
    ")"
   ]
  },
  {
   "cell_type": "code",
   "execution_count": 8,
   "id": "bd5e10eb-02f3-41d0-89eb-08d4afd9ef6c",
   "metadata": {},
   "outputs": [
    {
     "data": {
      "text/plain": [
       "Index(['Unnamed: 0', 'attitude.roll-0', 'attitude.roll-1', 'attitude.roll-2',\n",
       "       'attitude.roll-3', 'attitude.roll-4', 'attitude.roll-5',\n",
       "       'attitude.roll-6', 'attitude.roll-7', 'attitude.roll-8',\n",
       "       ...\n",
       "       'userAcceleration.z-55', 'userAcceleration.z-56',\n",
       "       'userAcceleration.z-57', 'userAcceleration.z-58',\n",
       "       'userAcceleration.z-59', 'activity code', 'length', 'trial_code',\n",
       "       'index', 'user'],\n",
       "      dtype='object', length=726)"
      ]
     },
     "execution_count": 8,
     "metadata": {},
     "output_type": "execute_result"
    }
   ],
   "source": [
    "ms_train.columns"
   ]
  },
  {
   "cell_type": "markdown",
   "id": "830745ff-c6af-4d4d-98db-33e7804f1288",
   "metadata": {},
   "source": [
    "## Inspect the sample"
   ]
  },
  {
   "cell_type": "code",
   "execution_count": 9,
   "id": "100009c2-3a2a-4a6c-8236-112c8ed43b96",
   "metadata": {
    "tags": []
   },
   "outputs": [],
   "source": [
    "# Lets print the first sample of ms_train dataset.\n",
    "# Is a tuple, with an vector of 900 elements as first element and the label as second\n",
    "x = ms_train_dataset[0]\n",
    "# print(x)\n",
    "\n",
    "# Inspecting sample\n",
    "# print(f\"The sample 0: {x[0]}\")\n",
    "# print(f\"Shape of sample 0: {x[0].shape}\")\n",
    "# print(f\"The label of sample 0: {x[1]}\")"
   ]
  },
  {
   "cell_type": "markdown",
   "id": "cd10c49b-b6dc-4ee5-a985-66f038cc8f0d",
   "metadata": {},
   "source": [
    "## Checking the window"
   ]
  },
  {
   "cell_type": "code",
   "execution_count": 10,
   "id": "76fe00af-2b48-4482-96c7-c8f3556bab23",
   "metadata": {},
   "outputs": [
    {
     "name": "stdout",
     "output_type": "stream",
     "text": [
      "MotionSense train have 6 windows\n",
      "Each sample train can be sliced at: [(0, 60), (60, 120), (120, 180), (180, 240), (240, 300), (300, 360)]\n",
      "Each slice has the following name associated: ['userAcceleration.x', 'userAcceleration.y', 'userAcceleration.z', 'rotationRate.x', 'rotationRate.y', 'rotationRate.z']\n"
     ]
    }
   ],
   "source": [
    "print(f\"MotionSense train have {ms_train_dataset.num_windows} windows\")\n",
    "print(f\"Each sample train can be sliced at: {ms_train_dataset.window_slices}\")\n",
    "print(f\"Each slice has the following name associated: {ms_train_dataset.window_names}\")"
   ]
  },
  {
   "cell_type": "markdown",
   "id": "f4df78f4-af82-45df-ba0a-fd29149e3742",
   "metadata": {},
   "source": [
    "## Activities dictionary"
   ]
  },
  {
   "cell_type": "code",
   "execution_count": 11,
   "id": "c37b5465-dfd2-4247-add6-00af7da1bda3",
   "metadata": {},
   "outputs": [],
   "source": [
    "act_names = ['dws',\n",
    "             'ups',\n",
    "             'sit',\n",
    "             'std',\n",
    "             'wlk',\n",
    "             'jog']"
   ]
  },
  {
   "cell_type": "code",
   "execution_count": 12,
   "id": "4e393b93-c96b-4d52-8d84-f34131a71ccd",
   "metadata": {},
   "outputs": [],
   "source": [
    "act_dict = {}\n",
    "for i in range(0, len(act_names)):\n",
    "    act_dict[act_names[i]] = i"
   ]
  },
  {
   "cell_type": "markdown",
   "id": "3c2665c4-07ed-491a-8e5f-ccd2950b68fc",
   "metadata": {},
   "source": [
    "## Resampling"
   ]
  },
  {
   "cell_type": "markdown",
   "id": "956dda53-e163-4b18-9f47-8e11285c65db",
   "metadata": {},
   "source": [
    "### Setting the column names"
   ]
  },
  {
   "cell_type": "code",
   "execution_count": 13,
   "id": "5d9b7fda-d800-435b-8561-e9046de3d910",
   "metadata": {},
   "outputs": [],
   "source": [
    "accel_x = [\"userAcceleration.x-\"+str(i) for i in range(0, 60)]\n",
    "accel_y = [\"userAcceleration.y-\"+str(i) for i in range(0, 60)]\n",
    "accel_z = [\"userAcceleration.z-\"+str(i) for i in range(0, 60)]\n",
    "gyro_x = [\"rotationRate.x-\"+str(i) for i in range(0, 60)]\n",
    "gyro_y = [\"rotationRate.y-\"+str(i) for i in range(0, 60)]\n",
    "gyro_z = [\"rotationRate.z-\"+str(i) for i in range(0, 60)]\n",
    "columns = np.concatenate((accel_x, accel_y, accel_z, gyro_x, gyro_y, gyro_z))"
   ]
  },
  {
   "cell_type": "markdown",
   "id": "e1041873-9914-43d0-83ba-faa101af6445",
   "metadata": {},
   "source": [
    "### Creating the resampled dataframes"
   ]
  },
  {
   "cell_type": "code",
   "execution_count": 14,
   "id": "b8e8fb3c-a607-47fa-9b09-e63c9d49ac88",
   "metadata": {},
   "outputs": [],
   "source": [
    "#resampler = SimpleResampler(new_sample_size=60)\n",
    "transformer = TransformMultiModalDataset(transforms=[], new_window_name_prefix=\"resampled-20Hz.\")"
   ]
  },
  {
   "cell_type": "code",
   "execution_count": 15,
   "id": "9ba012fc-9702-4e6e-96ad-1dd2572504cb",
   "metadata": {},
   "outputs": [],
   "source": [
    "resampled_ms_train_samples_df = pd.DataFrame(transformer(ms_train_dataset)[:][0], columns=columns)\n",
    "resampled_ms_train = pd.concat([resampled_ms_train_samples_df, ms_train.iloc[:, -5:]], axis=1)\n",
    "\n",
    "resampled_ms_validation_samples_df = pd.DataFrame(transformer(ms_validation_dataset)[:][0], columns=columns)\n",
    "resampled_ms_validation = pd.concat([resampled_ms_validation_samples_df, ms_validation.iloc[:, -5:]], axis=1)\n",
    "\n",
    "resampled_ms_test_samples_df = pd.DataFrame(transformer(ms_test_dataset)[:][0], columns=columns)\n",
    "resampled_ms_test = pd.concat([resampled_ms_test_samples_df, ms_test.iloc[:, -5:]], axis=1)"
   ]
  },
  {
   "cell_type": "markdown",
   "id": "414442e4-b5af-4d86-9cf2-2ac42b83c38f",
   "metadata": {},
   "source": [
    "### Creating the datasets"
   ]
  },
  {
   "cell_type": "code",
   "execution_count": 16,
   "id": "1f510f01-e678-4047-b037-90bd6b713219",
   "metadata": {},
   "outputs": [],
   "source": [
    "resampled_ms_train_dataset = PandasMultiModalDataset(\n",
    "    resampled_ms_train,\n",
    "    feature_prefixes=features,\n",
    "    label_columns=\"activity code\",\n",
    "    as_array=True\n",
    ")\n",
    "\n",
    "resampled_ms_validation_dataset = PandasMultiModalDataset(\n",
    "    resampled_ms_validation,\n",
    "    feature_prefixes=features,\n",
    "    label_columns=\"activity code\",\n",
    "    as_array=True\n",
    ")\n",
    "\n",
    "resampled_ms_test_dataset = PandasMultiModalDataset(\n",
    "    resampled_ms_test,\n",
    "    feature_prefixes=features,\n",
    "    label_columns=\"activity code\",\n",
    "    as_array=True\n",
    ")"
   ]
  },
  {
   "cell_type": "markdown",
   "id": "e0b9df7d-cc3e-466a-9719-dd083d4ee68d",
   "metadata": {},
   "source": [
    "## Saving the resampled data"
   ]
  },
  {
   "cell_type": "code",
   "execution_count": 17,
   "id": "c7a9cda8-f111-4715-94c2-e474574149ab",
   "metadata": {
    "tags": []
   },
   "outputs": [
    {
     "name": "stdout",
     "output_type": "stream",
     "text": [
      "# Resampled to 20Hz MotionSense View - Multiplied acc by 9.81m/s²\n",
      "\n",
      "This view contains train, validation and test subsets in the following proportions:\n",
      "- Train: 70% of samples\n",
      "- Validation: 10% of samples\n",
      "- Test: 20% of samples\n",
      "\n",
      "After splits, the datasets were balanced in relation to the activity code column, that is, each subset have the same number of activitiy samples.\n",
      "\n",
      "## Activities:\n",
      "- dws: 0 (569 train, 101 validation, 170 test)\n",
      "- ups: 1 (569 train, 101 validation, 170 test)\n",
      "- sit: 2 (569 train, 101 validation, 170 test)\n",
      "- std: 3 (569 train, 101 validation, 170 test)\n",
      "- wlk: 4 (569 train, 101 validation, 170 test)\n",
      "- jog: 5 (569 train, 101 validation, 170 test)\n",
      "\n",
      "## Users\n",
      "- 16 users train dataset: 1 (218 samples), 2 (219 samples), 5 (185 samples), 6 (218 samples), 8 (233 samples), 9 (202 samples), 10 (218 samples), 11 (211 samples), 12 (197 samples), 13 (183 samples), 15 (208 samples), 16 (246 samples), 17 (209 samples), 21 (254 samples), 22 (200 samples), 23 (213 samples).\n",
      "- 3 users validation dataset: 4 (190 samples), 7 (211 samples), 20 (205 samples).\n",
      "- 5 users test dataset: 3 (222 samples), 14 (183 samples), 18 (223 samples), 19 (233 samples), 24 (159 samples).\n",
      "\n",
      "**NOTE**: Each subset contain samples from distinct users, that is, samples of one user belongs exclusivelly to one of three subsets.\n",
      "\n",
      "\n"
     ]
    }
   ],
   "source": [
    "output_path = Path(\"../../../data_2/views/MotionSense/resampled_view_20Hz_without_gravity_9.81_acc\")\n",
    "\n",
    "train_act_samples = resampled_ms_train[\"activity code\"].value_counts().to_dict()\n",
    "validation_act_samples = resampled_ms_validation[\"activity code\"].value_counts().to_dict()\n",
    "test_act_samples = resampled_ms_test[\"activity code\"].value_counts().to_dict()\n",
    "activities = [f\"- {name}: {code} ({train_act_samples[code]} train, {validation_act_samples[code]} validation, {test_act_samples[code]} test)\" for name, code in act_dict.items()]\n",
    "activities = \"\\n\".join(activities)\n",
    "\n",
    "train_users = [f\"{user} ({no_samples} samples)\" for user, no_samples in sorted(resampled_ms_train[\"user\"].value_counts().sort_values().items(), key=lambda x: x[0])]\n",
    "train_users = ', '.join(train_users)\n",
    "validation_users = [f\"{user} ({no_samples} samples)\" for user, no_samples in sorted(resampled_ms_validation[\"user\"].value_counts().sort_values().items(), key=lambda x: x[0])]\n",
    "validation_users = ', '.join(validation_users)\n",
    "test_users = [f\"{user} ({no_samples} samples)\" for user, no_samples in sorted(resampled_ms_test[\"user\"].value_counts().items(), key=lambda x: x[0])]\n",
    "test_users = ', '.join(test_users)\n",
    "\n",
    "description = f\"\"\"# Resampled to 20Hz MotionSense View - Multiplied acc by 9.81m/s²\n",
    "\n",
    "This view contains train, validation and test subsets in the following proportions:\n",
    "- Train: 70% of samples\n",
    "- Validation: 10% of samples\n",
    "- Test: 20% of samples\n",
    "\n",
    "After splits, the datasets were balanced in relation to the activity code column, that is, each subset have the same number of activitiy samples.\n",
    "\n",
    "## Activities:\n",
    "{activities}\n",
    "\n",
    "## Users\n",
    "- {len(resampled_ms_train.user.unique())} users train dataset: {train_users}.\n",
    "- {len(resampled_ms_validation.user.unique())} users validation dataset: {validation_users}.\n",
    "- {len(resampled_ms_test.user.unique())} users test dataset: {test_users}.\n",
    "\n",
    "**NOTE**: Each subset contain samples from distinct users, that is, samples of one user belongs exclusivelly to one of three subsets.\n",
    "\n",
    "\"\"\"\n",
    "\n",
    "print(description)\n",
    "pandas_io = PandasDatasetsIO(output_path)"
   ]
  },
  {
   "cell_type": "code",
   "execution_count": 18,
   "id": "4f4a9c1b-beca-4c22-a84a-319fc341e709",
   "metadata": {
    "tags": []
   },
   "outputs": [],
   "source": [
    "pandas_io.save(train=resampled_ms_train, validation=resampled_ms_validation, test=resampled_ms_test, description=description)"
   ]
  },
  {
   "cell_type": "code",
   "execution_count": 19,
   "id": "50f5be6a-47e3-4e28-a824-22a20d6520f1",
   "metadata": {
    "tags": []
   },
   "outputs": [],
   "source": [
    "from matplotlib import pyplot as plt"
   ]
  },
  {
   "cell_type": "code",
   "execution_count": 20,
   "id": "cbbf375c-b0d1-45c7-92ef-a00a4c23fd01",
   "metadata": {
    "tags": []
   },
   "outputs": [
    {
     "data": {
      "text/plain": [
       "[<matplotlib.lines.Line2D at 0x7f17afff5820>]"
      ]
     },
     "execution_count": 20,
     "metadata": {},
     "output_type": "execute_result"
    },
    {
     "data": {
      "image/png": "[encoded data removed]",
      "text/plain": [
       "<Figure size 640x480 with 1 Axes>"
      ]
     },
     "metadata": {},
     "output_type": "display_data"
    }
   ],
   "source": [
    "plt.plot(np.array(resampled_ms_test.iloc[0,:-5]))"
   ]
  },
  {
   "cell_type": "code",
   "execution_count": null,
   "id": "3919f588-5566-4aa7-8da0-f1e78d6f1921",
   "metadata": {},
   "outputs": [],
   "source": []
  }
 ],
 "metadata": {
  "kernelspec": {
   "display_name": "Python 3 (ipykernel)",
   "language": "python",
   "name": "python3"
  },
  "language_info": {
   "codemirror_mode": {
    "name": "ipython",
    "version": 3
   },
   "file_extension": ".py",
   "mimetype": "text/x-python",
   "name": "python",
   "nbconvert_exporter": "python",
   "pygments_lexer": "ipython3",
   "version": "3.8.10"
  }
 },
 "nbformat": 4,
 "nbformat_minor": 5
}
