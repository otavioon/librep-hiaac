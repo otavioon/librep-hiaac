{
 "cells": [
  {
   "cell_type": "markdown",
   "id": "9a0c0e3e-a130-465c-8aec-671bdd27bf3f",
   "metadata": {},
   "source": [
    "# Resampling MotionSense to 20Hz - Multiplying acc by 9.81m/s²"
   ]
  },
  {
   "cell_type": "code",
   "execution_count": 1,
   "id": "498254b0-ea10-4f02-b718-d26ce855b77b",
   "metadata": {
    "tags": []
   },
   "outputs": [],
   "source": [
    "%load_ext autoreload\n",
    "%autoreload 2\n",
    "\n",
    "import sys\n",
    "\n",
    "sys.path.append(\"../../../\")"
   ]
  },
  {
   "cell_type": "code",
   "execution_count": 2,
   "id": "fad53baa-1190-4969-9ae9-489321c5966e",
   "metadata": {
    "tags": []
   },
   "outputs": [
    {
     "name": "stderr",
     "output_type": "stream",
     "text": [
      "2022-10-14 17:18:49.519365: W tensorflow/stream_executor/platform/default/dso_loader.cc:64] Could not load dynamic library 'libcudart.so.11.0'; dlerror: libcudart.so.11.0: cannot open shared object file: No such file or directory\n",
      "2022-10-14 17:18:49.519386: I tensorflow/stream_executor/cuda/cudart_stub.cc:29] Ignore above cudart dlerror if you do not have a GPU set up on your machine.\n"
     ]
    }
   ],
   "source": [
    "from pathlib import Path\n",
    "\n",
    "import numpy as np\n",
    "import pandas as pd\n",
    "\n",
    "from librep.utils.dataset import PandasDatasetsIO          # For quick load train, test and validation CSVs\n",
    "from librep.datasets.multimodal import PandasMultiModalDataset # Wrap CSVs to librep's `Dataset` interface\n",
    "\n",
    "from librep.datasets.multimodal import TransformMultiModalDataset\n",
    "from librep.transforms.resampler import SimpleResampler"
   ]
  },
  {
   "cell_type": "markdown",
   "id": "b3a70d59-2c17-4b67-ac3f-7a2a3306ed74",
   "metadata": {
    "tags": []
   },
   "source": [
    "## Loading data"
   ]
  },
  {
   "cell_type": "code",
   "execution_count": 3,
   "id": "db74f2f3-4ed1-49a4-a5b7-40d607ef451c",
   "metadata": {
    "tags": []
   },
   "outputs": [],
   "source": [
    "# Path for MotionSense balanced view with the same activities (and labels numbers) as MotionSense\n",
    "# It is assumed that the directory will contain (train.csv, test.csv and validation.csv)\n",
    "motionsense_dataset_path = Path(\"../../../data_2/views/MotionSense/balanced_view\")"
   ]
  },
  {
   "cell_type": "markdown",
   "id": "1dfd6084-06e9-4345-af28-1ff1926c01d6",
   "metadata": {},
   "source": [
    "Once paths is defined, we can load the CSV as pandas dataframes"
   ]
  },
  {
   "cell_type": "code",
   "execution_count": 4,
   "id": "d4cb9c09-10be-4838-996d-6e078db6836c",
   "metadata": {
    "tags": []
   },
   "outputs": [],
   "source": [
    "# Motionsense dataframes\n",
    "ms_train, ms_validation, ms_test = PandasDatasetsIO(motionsense_dataset_path).load()"
   ]
  },
  {
   "cell_type": "markdown",
   "id": "97d66571-2951-49ab-9872-55c61a7d7610",
   "metadata": {},
   "source": [
    "Letś take a look in the train dataframes"
   ]
  },
  {
   "cell_type": "code",
   "execution_count": 5,
   "id": "daa289bb-d2a8-4975-b48d-e52dad59e04c",
   "metadata": {
    "tags": []
   },
   "outputs": [
    {
     "data": {
      "text/html": [
       "<div>\n",
       "<style scoped>\n",
       "    .dataframe tbody tr th:only-of-type {\n",
       "        vertical-align: middle;\n",
       "    }\n",
       "\n",
       "    .dataframe tbody tr th {\n",
       "        vertical-align: top;\n",
       "    }\n",
       "\n",
       "    .dataframe thead th {\n",
       "        text-align: right;\n",
       "    }\n",
       "</style>\n",
       "<table border=\"1\" class=\"dataframe\">\n",
       "  <thead>\n",
       "    <tr style=\"text-align: right;\">\n",
       "      <th></th>\n",
       "      <th>Unnamed: 0</th>\n",
       "      <th>attitude.roll-0</th>\n",
       "      <th>attitude.roll-1</th>\n",
       "      <th>attitude.roll-2</th>\n",
       "      <th>attitude.roll-3</th>\n",
       "      <th>attitude.roll-4</th>\n",
       "      <th>attitude.roll-5</th>\n",
       "      <th>attitude.roll-6</th>\n",
       "      <th>attitude.roll-7</th>\n",
       "      <th>attitude.roll-8</th>\n",
       "      <th>...</th>\n",
       "      <th>userAcceleration.z-145</th>\n",
       "      <th>userAcceleration.z-146</th>\n",
       "      <th>userAcceleration.z-147</th>\n",
       "      <th>userAcceleration.z-148</th>\n",
       "      <th>userAcceleration.z-149</th>\n",
       "      <th>activity code</th>\n",
       "      <th>length</th>\n",
       "      <th>trial_code</th>\n",
       "      <th>index</th>\n",
       "      <th>user</th>\n",
       "    </tr>\n",
       "  </thead>\n",
       "  <tbody>\n",
       "    <tr>\n",
       "      <th>0</th>\n",
       "      <td>0</td>\n",
       "      <td>1.962846</td>\n",
       "      <td>1.921332</td>\n",
       "      <td>1.877961</td>\n",
       "      <td>1.828619</td>\n",
       "      <td>1.773968</td>\n",
       "      <td>1.719602</td>\n",
       "      <td>1.665240</td>\n",
       "      <td>1.616507</td>\n",
       "      <td>1.579558</td>\n",
       "      <td>...</td>\n",
       "      <td>-0.076770</td>\n",
       "      <td>-0.410893</td>\n",
       "      <td>-0.349788</td>\n",
       "      <td>0.020158</td>\n",
       "      <td>0.236074</td>\n",
       "      <td>0</td>\n",
       "      <td>150</td>\n",
       "      <td>1</td>\n",
       "      <td>150</td>\n",
       "      <td>11</td>\n",
       "    </tr>\n",
       "    <tr>\n",
       "      <th>1</th>\n",
       "      <td>1</td>\n",
       "      <td>-0.458128</td>\n",
       "      <td>-0.503994</td>\n",
       "      <td>-0.525220</td>\n",
       "      <td>-0.556961</td>\n",
       "      <td>-0.619681</td>\n",
       "      <td>-0.728183</td>\n",
       "      <td>-0.844220</td>\n",
       "      <td>-0.937235</td>\n",
       "      <td>-1.018289</td>\n",
       "      <td>...</td>\n",
       "      <td>0.080776</td>\n",
       "      <td>0.209356</td>\n",
       "      <td>0.045844</td>\n",
       "      <td>-0.171495</td>\n",
       "      <td>-0.279159</td>\n",
       "      <td>0</td>\n",
       "      <td>150</td>\n",
       "      <td>1</td>\n",
       "      <td>900</td>\n",
       "      <td>12</td>\n",
       "    </tr>\n",
       "    <tr>\n",
       "      <th>2</th>\n",
       "      <td>2</td>\n",
       "      <td>0.854208</td>\n",
       "      <td>0.887741</td>\n",
       "      <td>0.945390</td>\n",
       "      <td>1.018196</td>\n",
       "      <td>1.072981</td>\n",
       "      <td>1.099024</td>\n",
       "      <td>1.117173</td>\n",
       "      <td>1.145710</td>\n",
       "      <td>1.176665</td>\n",
       "      <td>...</td>\n",
       "      <td>0.143923</td>\n",
       "      <td>0.035212</td>\n",
       "      <td>-0.023136</td>\n",
       "      <td>-0.038015</td>\n",
       "      <td>0.040352</td>\n",
       "      <td>0</td>\n",
       "      <td>150</td>\n",
       "      <td>1</td>\n",
       "      <td>1050</td>\n",
       "      <td>21</td>\n",
       "    </tr>\n",
       "    <tr>\n",
       "      <th>3</th>\n",
       "      <td>3</td>\n",
       "      <td>1.030491</td>\n",
       "      <td>1.065353</td>\n",
       "      <td>1.093455</td>\n",
       "      <td>1.097724</td>\n",
       "      <td>1.071357</td>\n",
       "      <td>1.038327</td>\n",
       "      <td>1.004383</td>\n",
       "      <td>0.972705</td>\n",
       "      <td>0.970985</td>\n",
       "      <td>...</td>\n",
       "      <td>-0.183913</td>\n",
       "      <td>-0.296363</td>\n",
       "      <td>-0.286543</td>\n",
       "      <td>-0.514901</td>\n",
       "      <td>-0.449945</td>\n",
       "      <td>0</td>\n",
       "      <td>150</td>\n",
       "      <td>2</td>\n",
       "      <td>150</td>\n",
       "      <td>17</td>\n",
       "    </tr>\n",
       "    <tr>\n",
       "      <th>4</th>\n",
       "      <td>4</td>\n",
       "      <td>-2.674791</td>\n",
       "      <td>-2.548334</td>\n",
       "      <td>-2.361486</td>\n",
       "      <td>-2.109103</td>\n",
       "      <td>-1.826062</td>\n",
       "      <td>-1.564544</td>\n",
       "      <td>-1.341344</td>\n",
       "      <td>-1.179871</td>\n",
       "      <td>-1.083587</td>\n",
       "      <td>...</td>\n",
       "      <td>0.060069</td>\n",
       "      <td>-0.048874</td>\n",
       "      <td>-0.267644</td>\n",
       "      <td>-0.392915</td>\n",
       "      <td>-0.291261</td>\n",
       "      <td>0</td>\n",
       "      <td>150</td>\n",
       "      <td>11</td>\n",
       "      <td>450</td>\n",
       "      <td>21</td>\n",
       "    </tr>\n",
       "  </tbody>\n",
       "</table>\n",
       "<p>5 rows × 1806 columns</p>\n",
       "</div>"
      ],
      "text/plain": [
       "   Unnamed: 0  attitude.roll-0  attitude.roll-1  attitude.roll-2  \\\n",
       "0           0         1.962846         1.921332         1.877961   \n",
       "1           1        -0.458128        -0.503994        -0.525220   \n",
       "2           2         0.854208         0.887741         0.945390   \n",
       "3           3         1.030491         1.065353         1.093455   \n",
       "4           4        -2.674791        -2.548334        -2.361486   \n",
       "\n",
       "   attitude.roll-3  attitude.roll-4  attitude.roll-5  attitude.roll-6  \\\n",
       "0         1.828619         1.773968         1.719602         1.665240   \n",
       "1        -0.556961        -0.619681        -0.728183        -0.844220   \n",
       "2         1.018196         1.072981         1.099024         1.117173   \n",
       "3         1.097724         1.071357         1.038327         1.004383   \n",
       "4        -2.109103        -1.826062        -1.564544        -1.341344   \n",
       "\n",
       "   attitude.roll-7  attitude.roll-8  ...  userAcceleration.z-145  \\\n",
       "0         1.616507         1.579558  ...               -0.076770   \n",
       "1        -0.937235        -1.018289  ...                0.080776   \n",
       "2         1.145710         1.176665  ...                0.143923   \n",
       "3         0.972705         0.970985  ...               -0.183913   \n",
       "4        -1.179871        -1.083587  ...                0.060069   \n",
       "\n",
       "   userAcceleration.z-146  userAcceleration.z-147  userAcceleration.z-148  \\\n",
       "0               -0.410893               -0.349788                0.020158   \n",
       "1                0.209356                0.045844               -0.171495   \n",
       "2                0.035212               -0.023136               -0.038015   \n",
       "3               -0.296363               -0.286543               -0.514901   \n",
       "4               -0.048874               -0.267644               -0.392915   \n",
       "\n",
       "   userAcceleration.z-149  activity code  length  trial_code  index  user  \n",
       "0                0.236074              0     150           1    150    11  \n",
       "1               -0.279159              0     150           1    900    12  \n",
       "2                0.040352              0     150           1   1050    21  \n",
       "3               -0.449945              0     150           2    150    17  \n",
       "4               -0.291261              0     150          11    450    21  \n",
       "\n",
       "[5 rows x 1806 columns]"
      ]
     },
     "execution_count": 5,
     "metadata": {},
     "output_type": "execute_result"
    }
   ],
   "source": [
    "ms_train.head()"
   ]
  },
  {
   "cell_type": "markdown",
   "id": "f248601c-0851-4cf7-b7ae-9d9144bb77be",
   "metadata": {},
   "source": [
    "Multiplying accelerometer by 9.81m/s²"
   ]
  },
  {
   "cell_type": "code",
   "execution_count": 6,
   "id": "f94e8afb-0c53-42e2-a5db-3356468796a8",
   "metadata": {},
   "outputs": [],
   "source": [
    "for i in range(150):\n",
    "    ms_train[\"userAcceleration.x-{}\".format(i)] = (ms_train[\"userAcceleration.x-{}\".format(i)])*9.81\n",
    "    ms_train[\"userAcceleration.y-{}\".format(i)] = (ms_train[\"userAcceleration.y-{}\".format(i)])*9.81\n",
    "    ms_train[\"userAcceleration.z-{}\".format(i)] = (ms_train[\"userAcceleration.z-{}\".format(i)])*9.81\n",
    "    ms_validation[\"userAcceleration.x-{}\".format(i)] = (ms_validation[\"userAcceleration.x-{}\".format(i)])*9.81\n",
    "    ms_validation[\"userAcceleration.y-{}\".format(i)] = (ms_validation[\"userAcceleration.y-{}\".format(i)])*9.81\n",
    "    ms_validation[\"userAcceleration.z-{}\".format(i)] = (ms_validation[\"userAcceleration.z-{}\".format(i)])*9.81\n",
    "    ms_test[\"userAcceleration.x-{}\".format(i)] = (ms_test[\"userAcceleration.x-{}\".format(i)])*9.81\n",
    "    ms_test[\"userAcceleration.y-{}\".format(i)] = (ms_test[\"userAcceleration.y-{}\".format(i)])*9.81\n",
    "    ms_test[\"userAcceleration.z-{}\".format(i)] = (ms_test[\"userAcceleration.z-{}\".format(i)])*9.81"
   ]
  },
  {
   "cell_type": "markdown",
   "id": "a82d0f7d-3bc0-492f-be47-ddd5f6e52d7e",
   "metadata": {},
   "source": [
    "## Creating librep dataset "
   ]
  },
  {
   "cell_type": "code",
   "execution_count": 7,
   "id": "052a9842-a462-40ee-ae55-f930fc4397ea",
   "metadata": {},
   "outputs": [],
   "source": [
    "# Motionsense features to select\n",
    "features = [\n",
    "    \"userAcceleration.x\",\n",
    "    \"userAcceleration.y\",\n",
    "    \"userAcceleration.z\",\n",
    "    \"rotationRate.x\",\n",
    "    \"rotationRate.y\",\n",
    "    \"rotationRate.z\"\n",
    "]\n",
    "\n",
    "# Creating the datasets\n",
    "\n",
    "# Train\n",
    "ms_train_dataset = PandasMultiModalDataset(\n",
    "    ms_train,\n",
    "    feature_prefixes=features,\n",
    "    label_columns=\"activity code\",\n",
    "    as_array=True\n",
    ")\n",
    "\n",
    "# Validation\n",
    "ms_validation_dataset = PandasMultiModalDataset(\n",
    "    ms_validation,\n",
    "    feature_prefixes=features,\n",
    "    label_columns=\"activity code\",\n",
    "    as_array=True\n",
    ")\n",
    "\n",
    "# Test\n",
    "ms_test_dataset = PandasMultiModalDataset(\n",
    "    ms_test,\n",
    "    feature_prefixes=features,\n",
    "    label_columns=\"activity code\",\n",
    "    as_array=True\n",
    ")"
   ]
  },
  {
   "cell_type": "code",
   "execution_count": 8,
   "id": "bd5e10eb-02f3-41d0-89eb-08d4afd9ef6c",
   "metadata": {},
   "outputs": [
    {
     "data": {
      "text/plain": [
       "Index(['Unnamed: 0', 'attitude.roll-0', 'attitude.roll-1', 'attitude.roll-2',\n",
       "       'attitude.roll-3', 'attitude.roll-4', 'attitude.roll-5',\n",
       "       'attitude.roll-6', 'attitude.roll-7', 'attitude.roll-8',\n",
       "       ...\n",
       "       'userAcceleration.z-145', 'userAcceleration.z-146',\n",
       "       'userAcceleration.z-147', 'userAcceleration.z-148',\n",
       "       'userAcceleration.z-149', 'activity code', 'length', 'trial_code',\n",
       "       'index', 'user'],\n",
       "      dtype='object', length=1806)"
      ]
     },
     "execution_count": 8,
     "metadata": {},
     "output_type": "execute_result"
    }
   ],
   "source": [
    "ms_train.columns"
   ]
  },
  {
   "cell_type": "markdown",
   "id": "830745ff-c6af-4d4d-98db-33e7804f1288",
   "metadata": {},
   "source": [
    "## Inspect the sample"
   ]
  },
  {
   "cell_type": "code",
   "execution_count": 9,
   "id": "100009c2-3a2a-4a6c-8236-112c8ed43b96",
   "metadata": {
    "tags": []
   },
   "outputs": [],
   "source": [
    "# Lets print the first sample of ms_train dataset.\n",
    "# Is a tuple, with an vector of 900 elements as first element and the label as second\n",
    "x = ms_train_dataset[0]\n",
    "# print(x)\n",
    "\n",
    "# Inspecting sample\n",
    "# print(f\"The sample 0: {x[0]}\")\n",
    "# print(f\"Shape of sample 0: {x[0].shape}\")\n",
    "# print(f\"The label of sample 0: {x[1]}\")"
   ]
  },
  {
   "cell_type": "markdown",
   "id": "cd10c49b-b6dc-4ee5-a985-66f038cc8f0d",
   "metadata": {},
   "source": [
    "## Checking the window"
   ]
  },
  {
   "cell_type": "code",
   "execution_count": 10,
   "id": "76fe00af-2b48-4482-96c7-c8f3556bab23",
   "metadata": {},
   "outputs": [
    {
     "name": "stdout",
     "output_type": "stream",
     "text": [
      "MotionSense train have 6 windows\n",
      "Each sample train can be sliced at: [(0, 150), (150, 300), (300, 450), (450, 600), (600, 750), (750, 900)]\n",
      "Each slice has the following name associated: ['userAcceleration.x', 'userAcceleration.y', 'userAcceleration.z', 'rotationRate.x', 'rotationRate.y', 'rotationRate.z']\n"
     ]
    }
   ],
   "source": [
    "print(f\"MotionSense train have {ms_train_dataset.num_windows} windows\")\n",
    "print(f\"Each sample train can be sliced at: {ms_train_dataset.window_slices}\")\n",
    "print(f\"Each slice has the following name associated: {ms_train_dataset.window_names}\")"
   ]
  },
  {
   "cell_type": "markdown",
   "id": "f4df78f4-af82-45df-ba0a-fd29149e3742",
   "metadata": {},
   "source": [
    "## Activities dictionary"
   ]
  },
  {
   "cell_type": "code",
   "execution_count": 11,
   "id": "c37b5465-dfd2-4247-add6-00af7da1bda3",
   "metadata": {},
   "outputs": [],
   "source": [
    "act_names = ['dws',\n",
    "             'ups',\n",
    "             'sit',\n",
    "             'std',\n",
    "             'wlk',\n",
    "             'jog']"
   ]
  },
  {
   "cell_type": "code",
   "execution_count": 12,
   "id": "4e393b93-c96b-4d52-8d84-f34131a71ccd",
   "metadata": {},
   "outputs": [],
   "source": [
    "act_dict = {}\n",
    "for i in range(0, len(act_names)):\n",
    "    act_dict[act_names[i]] = i"
   ]
  },
  {
   "cell_type": "markdown",
   "id": "3c2665c4-07ed-491a-8e5f-ccd2950b68fc",
   "metadata": {},
   "source": [
    "## Resampling"
   ]
  },
  {
   "cell_type": "markdown",
   "id": "956dda53-e163-4b18-9f47-8e11285c65db",
   "metadata": {},
   "source": [
    "### Setting the column names"
   ]
  },
  {
   "cell_type": "code",
   "execution_count": 13,
   "id": "5d9b7fda-d800-435b-8561-e9046de3d910",
   "metadata": {},
   "outputs": [],
   "source": [
    "accel_x = [\"userAcceleration.x-\"+str(i) for i in range(0, 60)]\n",
    "accel_y = [\"userAcceleration.y-\"+str(i) for i in range(0, 60)]\n",
    "accel_z = [\"userAcceleration.z-\"+str(i) for i in range(0, 60)]\n",
    "gyro_x = [\"rotationRate.x-\"+str(i) for i in range(0, 60)]\n",
    "gyro_y = [\"rotationRate.y-\"+str(i) for i in range(0, 60)]\n",
    "gyro_z = [\"rotationRate.z-\"+str(i) for i in range(0, 60)]\n",
    "columns = np.concatenate((accel_x, accel_y, accel_z, gyro_x, gyro_y, gyro_z))"
   ]
  },
  {
   "cell_type": "markdown",
   "id": "e1041873-9914-43d0-83ba-faa101af6445",
   "metadata": {},
   "source": [
    "### Creating the resampled dataframes"
   ]
  },
  {
   "cell_type": "code",
   "execution_count": 14,
   "id": "b8e8fb3c-a607-47fa-9b09-e63c9d49ac88",
   "metadata": {},
   "outputs": [],
   "source": [
    "resampler = SimpleResampler(new_sample_size=60)\n",
    "transformer = TransformMultiModalDataset(transforms=[resampler], new_window_name_prefix=\"resampled-20Hz.\")"
   ]
  },
  {
   "cell_type": "code",
   "execution_count": 15,
   "id": "9ba012fc-9702-4e6e-96ad-1dd2572504cb",
   "metadata": {},
   "outputs": [],
   "source": [
    "resampled_ms_train_samples_df = pd.DataFrame(transformer(ms_train_dataset)[:][0], columns=columns)\n",
    "resampled_ms_train = pd.concat([resampled_ms_train_samples_df, ms_train.iloc[:, -5:]], axis=1)\n",
    "\n",
    "resampled_ms_validation_samples_df = pd.DataFrame(transformer(ms_validation_dataset)[:][0], columns=columns)\n",
    "resampled_ms_validation = pd.concat([resampled_ms_validation_samples_df, ms_validation.iloc[:, -5:]], axis=1)\n",
    "\n",
    "resampled_ms_test_samples_df = pd.DataFrame(transformer(ms_test_dataset)[:][0], columns=columns)\n",
    "resampled_ms_test = pd.concat([resampled_ms_test_samples_df, ms_test.iloc[:, -5:]], axis=1)"
   ]
  },
  {
   "cell_type": "markdown",
   "id": "414442e4-b5af-4d86-9cf2-2ac42b83c38f",
   "metadata": {},
   "source": [
    "### Creating the datasets"
   ]
  },
  {
   "cell_type": "code",
   "execution_count": 16,
   "id": "1f510f01-e678-4047-b037-90bd6b713219",
   "metadata": {},
   "outputs": [],
   "source": [
    "resampled_ms_train_dataset = PandasMultiModalDataset(\n",
    "    resampled_ms_train,\n",
    "    feature_prefixes=features,\n",
    "    label_columns=\"activity code\",\n",
    "    as_array=True\n",
    ")\n",
    "\n",
    "resampled_ms_validation_dataset = PandasMultiModalDataset(\n",
    "    resampled_ms_validation,\n",
    "    feature_prefixes=features,\n",
    "    label_columns=\"activity code\",\n",
    "    as_array=True\n",
    ")\n",
    "\n",
    "resampled_ms_test_dataset = PandasMultiModalDataset(\n",
    "    resampled_ms_test,\n",
    "    feature_prefixes=features,\n",
    "    label_columns=\"activity code\",\n",
    "    as_array=True\n",
    ")"
   ]
  },
  {
   "cell_type": "markdown",
   "id": "e0b9df7d-cc3e-466a-9719-dd083d4ee68d",
   "metadata": {},
   "source": [
    "## Saving the resampled data"
   ]
  },
  {
   "cell_type": "code",
   "execution_count": 17,
   "id": "c7a9cda8-f111-4715-94c2-e474574149ab",
   "metadata": {
    "tags": []
   },
   "outputs": [
    {
     "name": "stdout",
     "output_type": "stream",
     "text": [
      "# Resampled to 20Hz MotionSense View - Multiplied acc by 9.81m/s²\n",
      "\n",
      "This view contains train, validation and test subsets in the following proportions:\n",
      "- Train: 70% of samples\n",
      "- Validation: 10% of samples\n",
      "- Test: 20% of samples\n",
      "\n",
      "After splits, the datasets were balanced in relation to the activity code column, that is, each subset have the same number of activitiy samples.\n",
      "\n",
      "## Activities:\n",
      "- dws: 0 (569 train, 101 validation, 170 test)\n",
      "- ups: 1 (569 train, 101 validation, 170 test)\n",
      "- sit: 2 (569 train, 101 validation, 170 test)\n",
      "- std: 3 (569 train, 101 validation, 170 test)\n",
      "- wlk: 4 (569 train, 101 validation, 170 test)\n",
      "- jog: 5 (569 train, 101 validation, 170 test)\n",
      "\n",
      "## Users\n",
      "- 16 users train dataset: 1 (218 samples), 2 (219 samples), 5 (185 samples), 6 (218 samples), 8 (233 samples), 9 (202 samples), 10 (218 samples), 11 (211 samples), 12 (197 samples), 13 (183 samples), 15 (208 samples), 16 (246 samples), 17 (209 samples), 21 (254 samples), 22 (200 samples), 23 (213 samples).\n",
      "- 3 users validation dataset: 4 (190 samples), 7 (211 samples), 20 (205 samples).\n",
      "- 5 users test dataset: 3 (222 samples), 14 (183 samples), 18 (223 samples), 19 (233 samples), 24 (159 samples).\n",
      "\n",
      "**NOTE**: Each subset contain samples from distinct users, that is, samples of one user belongs exclusivelly to one of three subsets.\n",
      "\n",
      "\n"
     ]
    }
   ],
   "source": [
    "output_path = Path(\"../../../data_2/views/MotionSense/resampled_view_20Hz_9.81_acc\")\n",
    "\n",
    "train_act_samples = resampled_ms_train[\"activity code\"].value_counts().to_dict()\n",
    "validation_act_samples = resampled_ms_validation[\"activity code\"].value_counts().to_dict()\n",
    "test_act_samples = resampled_ms_test[\"activity code\"].value_counts().to_dict()\n",
    "activities = [f\"- {name}: {code} ({train_act_samples[code]} train, {validation_act_samples[code]} validation, {test_act_samples[code]} test)\" for name, code in act_dict.items()]\n",
    "activities = \"\\n\".join(activities)\n",
    "\n",
    "train_users = [f\"{user} ({no_samples} samples)\" for user, no_samples in sorted(resampled_ms_train[\"user\"].value_counts().sort_values().items(), key=lambda x: x[0])]\n",
    "train_users = ', '.join(train_users)\n",
    "validation_users = [f\"{user} ({no_samples} samples)\" for user, no_samples in sorted(resampled_ms_validation[\"user\"].value_counts().sort_values().items(), key=lambda x: x[0])]\n",
    "validation_users = ', '.join(validation_users)\n",
    "test_users = [f\"{user} ({no_samples} samples)\" for user, no_samples in sorted(resampled_ms_test[\"user\"].value_counts().items(), key=lambda x: x[0])]\n",
    "test_users = ', '.join(test_users)\n",
    "\n",
    "description = f\"\"\"# Resampled to 20Hz MotionSense View - Multiplied acc by 9.81m/s²\n",
    "\n",
    "This view contains train, validation and test subsets in the following proportions:\n",
    "- Train: 70% of samples\n",
    "- Validation: 10% of samples\n",
    "- Test: 20% of samples\n",
    "\n",
    "After splits, the datasets were balanced in relation to the activity code column, that is, each subset have the same number of activitiy samples.\n",
    "\n",
    "## Activities:\n",
    "{activities}\n",
    "\n",
    "## Users\n",
    "- {len(resampled_ms_train.user.unique())} users train dataset: {train_users}.\n",
    "- {len(resampled_ms_validation.user.unique())} users validation dataset: {validation_users}.\n",
    "- {len(resampled_ms_test.user.unique())} users test dataset: {test_users}.\n",
    "\n",
    "**NOTE**: Each subset contain samples from distinct users, that is, samples of one user belongs exclusivelly to one of three subsets.\n",
    "\n",
    "\"\"\"\n",
    "\n",
    "print(description)\n",
    "pandas_io = PandasDatasetsIO(output_path)"
   ]
  },
  {
   "cell_type": "code",
   "execution_count": 18,
   "id": "4f4a9c1b-beca-4c22-a84a-319fc341e709",
   "metadata": {
    "tags": []
   },
   "outputs": [],
   "source": [
    "pandas_io.save(train=resampled_ms_train, validation=resampled_ms_validation, test=resampled_ms_test, description=description)"
   ]
  },
  {
   "cell_type": "code",
   "execution_count": 19,
   "id": "50f5be6a-47e3-4e28-a824-22a20d6520f1",
   "metadata": {
    "tags": []
   },
   "outputs": [],
   "source": [
    "from matplotlib import pyplot as plt"
   ]
  },
  {
   "cell_type": "code",
   "execution_count": 22,
   "id": "cbbf375c-b0d1-45c7-92ef-a00a4c23fd01",
   "metadata": {
    "tags": []
   },
   "outputs": [
    {
     "data": {
      "text/plain": [
       "[<matplotlib.lines.Line2D at 0x7fb3808dd4f0>]"
      ]
     },
     "execution_count": 22,
     "metadata": {},
     "output_type": "execute_result"
    },
    {
     "data": {
      "image/png": "[encoded data removed]",
      "text/plain": [
       "<Figure size 640x480 with 1 Axes>"
      ]
     },
     "metadata": {},
     "output_type": "display_data"
    }
   ],
   "source": [
    "plt.plot(np.array(resampled_ms_test.iloc[0,:180]))"
   ]
  },
  {
   "cell_type": "code",
   "execution_count": null,
   "id": "3919f588-5566-4aa7-8da0-f1e78d6f1921",
   "metadata": {},
   "outputs": [],
   "source": []
  }
 ],
 "metadata": {
  "kernelspec": {
   "display_name": "Python 3 (ipykernel)",
   "language": "python",
   "name": "python3"
  },
  "language_info": {
   "codemirror_mode": {
    "name": "ipython",
    "version": 3
   },
   "file_extension": ".py",
   "mimetype": "text/x-python",
   "name": "python",
   "nbconvert_exporter": "python",
   "pygments_lexer": "ipython3",
   "version": "3.8.10"
  }
 },
 "nbformat": 4,
 "nbformat_minor": 5
}
