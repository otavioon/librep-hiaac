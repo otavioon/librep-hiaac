{
 "cells": [
  {
   "cell_type": "markdown",
   "id": "9a0c0e3e-a130-465c-8aec-671bdd27bf3f",
   "metadata": {},
   "source": [
    "# Generate view of Resampling MotionSense 20Hz with Gravity - Multiplying acc by 9.81m/s²\n"
   ]
  },
  {
   "cell_type": "code",
   "execution_count": 1,
   "id": "498254b0-ea10-4f02-b718-d26ce855b77b",
   "metadata": {
    "tags": []
   },
   "outputs": [],
   "source": [
    "%load_ext autoreload\n",
    "%autoreload 2\n",
    "\n",
    "import sys\n",
    "\n",
    "sys.path.append(\"../../../\")"
   ]
  },
  {
   "cell_type": "code",
   "execution_count": 2,
   "id": "fad53baa-1190-4969-9ae9-489321c5966e",
   "metadata": {
    "tags": []
   },
   "outputs": [
    {
     "name": "stderr",
     "output_type": "stream",
     "text": [
      "2022-10-24 13:28:11.545095: W tensorflow/stream_executor/platform/default/dso_loader.cc:64] Could not load dynamic library 'libcudart.so.11.0'; dlerror: libcudart.so.11.0: cannot open shared object file: No such file or directory\n",
      "2022-10-24 13:28:11.545115: I tensorflow/stream_executor/cuda/cudart_stub.cc:29] Ignore above cudart dlerror if you do not have a GPU set up on your machine.\n"
     ]
    }
   ],
   "source": [
    "from pathlib import Path\n",
    "\n",
    "import numpy as np\n",
    "import pandas as pd\n",
    "\n",
    "from librep.utils.dataset import PandasDatasetsIO          # For quick load train, test and validation CSVs\n",
    "from librep.datasets.multimodal import PandasMultiModalDataset # Wrap CSVs to librep's `Dataset` interface\n",
    "\n",
    "from librep.datasets.multimodal import TransformMultiModalDataset\n",
    "from librep.transforms.resampler import SimpleResampler"
   ]
  },
  {
   "cell_type": "markdown",
   "id": "b3a70d59-2c17-4b67-ac3f-7a2a3306ed74",
   "metadata": {
    "tags": []
   },
   "source": [
    "## Loading data"
   ]
  },
  {
   "cell_type": "code",
   "execution_count": 3,
   "id": "db74f2f3-4ed1-49a4-a5b7-40d607ef451c",
   "metadata": {
    "tags": []
   },
   "outputs": [],
   "source": [
    "# Path for MotionSense balanced view with the same activities (and labels numbers) as MotionSense\n",
    "# It is assumed that the directory will contain (train.csv, test.csv and validation.csv)\n",
    "motionsense_dataset_path = Path(\"../../../data_2/views/MotionSense/balanced_view_20Hz_with_gravity_9.81_acc\")"
   ]
  },
  {
   "cell_type": "markdown",
   "id": "1dfd6084-06e9-4345-af28-1ff1926c01d6",
   "metadata": {},
   "source": [
    "Once paths is defined, we can load the CSV as pandas dataframes"
   ]
  },
  {
   "cell_type": "code",
   "execution_count": 4,
   "id": "d4cb9c09-10be-4838-996d-6e078db6836c",
   "metadata": {
    "tags": []
   },
   "outputs": [],
   "source": [
    "# Motionsense dataframes\n",
    "ms_train, ms_validation, ms_test = PandasDatasetsIO(motionsense_dataset_path).load()"
   ]
  },
  {
   "cell_type": "markdown",
   "id": "97d66571-2951-49ab-9872-55c61a7d7610",
   "metadata": {},
   "source": [
    "Letś take a look in the train dataframes"
   ]
  },
  {
   "cell_type": "code",
   "execution_count": 5,
   "id": "daa289bb-d2a8-4975-b48d-e52dad59e04c",
   "metadata": {
    "tags": []
   },
   "outputs": [
    {
     "data": {
      "text/html": [
       "<div>\n",
       "<style scoped>\n",
       "    .dataframe tbody tr th:only-of-type {\n",
       "        vertical-align: middle;\n",
       "    }\n",
       "\n",
       "    .dataframe tbody tr th {\n",
       "        vertical-align: top;\n",
       "    }\n",
       "\n",
       "    .dataframe thead th {\n",
       "        text-align: right;\n",
       "    }\n",
       "</style>\n",
       "<table border=\"1\" class=\"dataframe\">\n",
       "  <thead>\n",
       "    <tr style=\"text-align: right;\">\n",
       "      <th></th>\n",
       "      <th>Unnamed: 0</th>\n",
       "      <th>attitude.roll-0</th>\n",
       "      <th>attitude.roll-1</th>\n",
       "      <th>attitude.roll-2</th>\n",
       "      <th>attitude.roll-3</th>\n",
       "      <th>attitude.roll-4</th>\n",
       "      <th>attitude.roll-5</th>\n",
       "      <th>attitude.roll-6</th>\n",
       "      <th>attitude.roll-7</th>\n",
       "      <th>attitude.roll-8</th>\n",
       "      <th>...</th>\n",
       "      <th>userAcceleration.z-55</th>\n",
       "      <th>userAcceleration.z-56</th>\n",
       "      <th>userAcceleration.z-57</th>\n",
       "      <th>userAcceleration.z-58</th>\n",
       "      <th>userAcceleration.z-59</th>\n",
       "      <th>activity code</th>\n",
       "      <th>length</th>\n",
       "      <th>trial_code</th>\n",
       "      <th>index</th>\n",
       "      <th>user</th>\n",
       "    </tr>\n",
       "  </thead>\n",
       "  <tbody>\n",
       "    <tr>\n",
       "      <th>0</th>\n",
       "      <td>0</td>\n",
       "      <td>1.889417</td>\n",
       "      <td>1.746010</td>\n",
       "      <td>1.626414</td>\n",
       "      <td>1.524156</td>\n",
       "      <td>1.477292</td>\n",
       "      <td>1.540848</td>\n",
       "      <td>1.835174</td>\n",
       "      <td>2.169155</td>\n",
       "      <td>2.381869</td>\n",
       "      <td>...</td>\n",
       "      <td>5.087023</td>\n",
       "      <td>7.615663</td>\n",
       "      <td>0.275465</td>\n",
       "      <td>3.603861</td>\n",
       "      <td>2.898827</td>\n",
       "      <td>0</td>\n",
       "      <td>60</td>\n",
       "      <td>1</td>\n",
       "      <td>60</td>\n",
       "      <td>11</td>\n",
       "    </tr>\n",
       "    <tr>\n",
       "      <th>1</th>\n",
       "      <td>1</td>\n",
       "      <td>-0.932351</td>\n",
       "      <td>-0.590616</td>\n",
       "      <td>-0.454007</td>\n",
       "      <td>-0.354352</td>\n",
       "      <td>-0.365440</td>\n",
       "      <td>-0.726303</td>\n",
       "      <td>-0.719105</td>\n",
       "      <td>-0.477289</td>\n",
       "      <td>-0.381332</td>\n",
       "      <td>...</td>\n",
       "      <td>-1.914404</td>\n",
       "      <td>-2.362701</td>\n",
       "      <td>-0.011703</td>\n",
       "      <td>3.049693</td>\n",
       "      <td>3.799317</td>\n",
       "      <td>0</td>\n",
       "      <td>60</td>\n",
       "      <td>1</td>\n",
       "      <td>360</td>\n",
       "      <td>12</td>\n",
       "    </tr>\n",
       "    <tr>\n",
       "      <th>2</th>\n",
       "      <td>2</td>\n",
       "      <td>0.943969</td>\n",
       "      <td>1.070786</td>\n",
       "      <td>1.152662</td>\n",
       "      <td>1.168503</td>\n",
       "      <td>1.127455</td>\n",
       "      <td>0.938647</td>\n",
       "      <td>0.685419</td>\n",
       "      <td>0.464904</td>\n",
       "      <td>0.329442</td>\n",
       "      <td>...</td>\n",
       "      <td>-2.115705</td>\n",
       "      <td>0.150657</td>\n",
       "      <td>1.255064</td>\n",
       "      <td>-0.613088</td>\n",
       "      <td>0.491069</td>\n",
       "      <td>0</td>\n",
       "      <td>60</td>\n",
       "      <td>1</td>\n",
       "      <td>420</td>\n",
       "      <td>21</td>\n",
       "    </tr>\n",
       "    <tr>\n",
       "      <th>3</th>\n",
       "      <td>3</td>\n",
       "      <td>1.115902</td>\n",
       "      <td>1.042144</td>\n",
       "      <td>1.048972</td>\n",
       "      <td>0.940828</td>\n",
       "      <td>1.100253</td>\n",
       "      <td>1.027048</td>\n",
       "      <td>1.122392</td>\n",
       "      <td>0.970569</td>\n",
       "      <td>0.871801</td>\n",
       "      <td>...</td>\n",
       "      <td>4.094289</td>\n",
       "      <td>-1.737017</td>\n",
       "      <td>-4.811020</td>\n",
       "      <td>-3.287566</td>\n",
       "      <td>-5.689480</td>\n",
       "      <td>0</td>\n",
       "      <td>60</td>\n",
       "      <td>2</td>\n",
       "      <td>60</td>\n",
       "      <td>17</td>\n",
       "    </tr>\n",
       "    <tr>\n",
       "      <th>4</th>\n",
       "      <td>4</td>\n",
       "      <td>-1.170714</td>\n",
       "      <td>-1.020319</td>\n",
       "      <td>-0.925709</td>\n",
       "      <td>-0.897242</td>\n",
       "      <td>-0.860512</td>\n",
       "      <td>-0.818319</td>\n",
       "      <td>-0.820717</td>\n",
       "      <td>-0.851184</td>\n",
       "      <td>-0.859504</td>\n",
       "      <td>...</td>\n",
       "      <td>-3.922422</td>\n",
       "      <td>-4.883872</td>\n",
       "      <td>-0.313049</td>\n",
       "      <td>-0.733289</td>\n",
       "      <td>-2.217584</td>\n",
       "      <td>0</td>\n",
       "      <td>60</td>\n",
       "      <td>11</td>\n",
       "      <td>180</td>\n",
       "      <td>21</td>\n",
       "    </tr>\n",
       "  </tbody>\n",
       "</table>\n",
       "<p>5 rows × 726 columns</p>\n",
       "</div>"
      ],
      "text/plain": [
       "   Unnamed: 0  attitude.roll-0  attitude.roll-1  attitude.roll-2  \\\n",
       "0           0         1.889417         1.746010         1.626414   \n",
       "1           1        -0.932351        -0.590616        -0.454007   \n",
       "2           2         0.943969         1.070786         1.152662   \n",
       "3           3         1.115902         1.042144         1.048972   \n",
       "4           4        -1.170714        -1.020319        -0.925709   \n",
       "\n",
       "   attitude.roll-3  attitude.roll-4  attitude.roll-5  attitude.roll-6  \\\n",
       "0         1.524156         1.477292         1.540848         1.835174   \n",
       "1        -0.354352        -0.365440        -0.726303        -0.719105   \n",
       "2         1.168503         1.127455         0.938647         0.685419   \n",
       "3         0.940828         1.100253         1.027048         1.122392   \n",
       "4        -0.897242        -0.860512        -0.818319        -0.820717   \n",
       "\n",
       "   attitude.roll-7  attitude.roll-8  ...  userAcceleration.z-55  \\\n",
       "0         2.169155         2.381869  ...               5.087023   \n",
       "1        -0.477289        -0.381332  ...              -1.914404   \n",
       "2         0.464904         0.329442  ...              -2.115705   \n",
       "3         0.970569         0.871801  ...               4.094289   \n",
       "4        -0.851184        -0.859504  ...              -3.922422   \n",
       "\n",
       "   userAcceleration.z-56  userAcceleration.z-57  userAcceleration.z-58  \\\n",
       "0               7.615663               0.275465               3.603861   \n",
       "1              -2.362701              -0.011703               3.049693   \n",
       "2               0.150657               1.255064              -0.613088   \n",
       "3              -1.737017              -4.811020              -3.287566   \n",
       "4              -4.883872              -0.313049              -0.733289   \n",
       "\n",
       "   userAcceleration.z-59  activity code  length  trial_code  index  user  \n",
       "0               2.898827              0      60           1     60    11  \n",
       "1               3.799317              0      60           1    360    12  \n",
       "2               0.491069              0      60           1    420    21  \n",
       "3              -5.689480              0      60           2     60    17  \n",
       "4              -2.217584              0      60          11    180    21  \n",
       "\n",
       "[5 rows x 726 columns]"
      ]
     },
     "execution_count": 5,
     "metadata": {},
     "output_type": "execute_result"
    }
   ],
   "source": [
    "ms_train.head()"
   ]
  },
  {
   "cell_type": "markdown",
   "id": "5a60530d-d6de-48d9-8a54-cfad16501211",
   "metadata": {},
   "source": [
    "Summing the gravity component and multiplying accelerometer by 9.81m/s²"
   ]
  },
  {
   "cell_type": "code",
   "execution_count": 6,
   "id": "9d36309a-629d-42ea-bb6d-3b5e89d3adf8",
   "metadata": {},
   "outputs": [],
   "source": [
    "# for i in range(150):\n",
    "#     ms_train[\"userAcceleration.x-{}\".format(i)] = (ms_train[\"userAcceleration.x-{}\".format(i)] + ms_train[\"gravity.x-{}\".format(i)])*9.81\n",
    "#     ms_train[\"userAcceleration.y-{}\".format(i)] = (ms_train[\"userAcceleration.y-{}\".format(i)] + ms_train[\"gravity.y-{}\".format(i)])*9.81\n",
    "#     ms_train[\"userAcceleration.z-{}\".format(i)] = (ms_train[\"userAcceleration.z-{}\".format(i)] + ms_train[\"gravity.z-{}\".format(i)])*9.81\n",
    "#     ms_validation[\"userAcceleration.x-{}\".format(i)] = (ms_validation[\"userAcceleration.x-{}\".format(i)] + ms_validation[\"gravity.x-{}\".format(i)])*9.81\n",
    "#     ms_validation[\"userAcceleration.y-{}\".format(i)] = (ms_validation[\"userAcceleration.y-{}\".format(i)] + ms_validation[\"gravity.y-{}\".format(i)])*9.81\n",
    "#     ms_validation[\"userAcceleration.z-{}\".format(i)] = (ms_validation[\"userAcceleration.z-{}\".format(i)] + ms_validation[\"gravity.z-{}\".format(i)])*9.81\n",
    "#     ms_test[\"userAcceleration.x-{}\".format(i)] = (ms_test[\"userAcceleration.x-{}\".format(i)] + ms_test[\"gravity.x-{}\".format(i)])*9.81\n",
    "#     ms_test[\"userAcceleration.y-{}\".format(i)] = (ms_test[\"userAcceleration.y-{}\".format(i)] + ms_test[\"gravity.y-{}\".format(i)])*9.81\n",
    "#     ms_test[\"userAcceleration.z-{}\".format(i)] = (ms_test[\"userAcceleration.z-{}\".format(i)] + ms_test[\"gravity.z-{}\".format(i)])*9.81\n",
    "    \n",
    "\n",
    "    \n",
    "    "
   ]
  },
  {
   "cell_type": "markdown",
   "id": "a82d0f7d-3bc0-492f-be47-ddd5f6e52d7e",
   "metadata": {},
   "source": [
    "## Creating librep dataset "
   ]
  },
  {
   "cell_type": "code",
   "execution_count": 7,
   "id": "052a9842-a462-40ee-ae55-f930fc4397ea",
   "metadata": {},
   "outputs": [],
   "source": [
    "# Motionsense features to select\n",
    "features = [\n",
    "    \"userAcceleration.x\",\n",
    "    \"userAcceleration.y\",\n",
    "    \"userAcceleration.z\",    \n",
    "    \"rotationRate.x\",\n",
    "    \"rotationRate.y\",\n",
    "    \"rotationRate.z\"\n",
    "]\n",
    "\n",
    "# Creating the datasets\n",
    "\n",
    "# Train\n",
    "ms_train_dataset = PandasMultiModalDataset(\n",
    "    ms_train,\n",
    "    feature_prefixes=features,\n",
    "    label_columns=\"activity code\",\n",
    "    as_array=True\n",
    ")\n",
    "\n",
    "# Validation\n",
    "ms_validation_dataset = PandasMultiModalDataset(\n",
    "    ms_validation,\n",
    "    feature_prefixes=features,\n",
    "    label_columns=\"activity code\",\n",
    "    as_array=True\n",
    ")\n",
    "\n",
    "# Test\n",
    "ms_test_dataset = PandasMultiModalDataset(\n",
    "    ms_test,\n",
    "    feature_prefixes=features,\n",
    "    label_columns=\"activity code\",\n",
    "    as_array=True\n",
    ")"
   ]
  },
  {
   "cell_type": "code",
   "execution_count": 8,
   "id": "bd5e10eb-02f3-41d0-89eb-08d4afd9ef6c",
   "metadata": {},
   "outputs": [
    {
     "data": {
      "text/plain": [
       "PandasMultiModalDataset: samples=3414, features=360, no. window=6, label_columns='activity code'"
      ]
     },
     "execution_count": 8,
     "metadata": {},
     "output_type": "execute_result"
    }
   ],
   "source": [
    "ms_train_dataset"
   ]
  },
  {
   "cell_type": "markdown",
   "id": "830745ff-c6af-4d4d-98db-33e7804f1288",
   "metadata": {},
   "source": [
    "## Inspect the sample"
   ]
  },
  {
   "cell_type": "code",
   "execution_count": 9,
   "id": "100009c2-3a2a-4a6c-8236-112c8ed43b96",
   "metadata": {
    "tags": []
   },
   "outputs": [
    {
     "name": "stdout",
     "output_type": "stream",
     "text": [
      "(array([ 2.22303591e+00,  1.46445323e+00,  1.90857146e+00,  1.78598570e+00,\n",
      "        2.71199945e+00,  4.02571061e-01,  4.48155362e+00,  3.53039127e-01,\n",
      "        1.38853656e+00,  4.27926253e+00,  2.09050970e+00,  2.31505122e+00,\n",
      "        3.02804176e+00,  5.97075437e-02,  1.61161068e+00,  3.93719016e+00,\n",
      "        4.11638504e+00,  3.04021349e+00,  5.13079976e-01,  1.44371551e+00,\n",
      "        4.19847693e-01,  1.40546346e+00,  1.39235191e+00, -1.75674438e+00,\n",
      "       -6.00815136e-01,  7.15583190e+00,  2.17579577e+00,  3.41468828e+00,\n",
      "        1.67700695e+00,  5.45665083e-01,  5.20971381e+00,  1.03333509e+00,\n",
      "       -6.14787826e-01,  4.21467305e+00,  1.70101598e+00,  1.65523621e+00,\n",
      "        1.59689789e+00, -3.92203701e-01,  2.29824680e-01,  5.46069812e+00,\n",
      "        2.12197503e+00,  2.90304515e+00,  8.38929028e-01, -9.00897649e-01,\n",
      "        4.84448405e+00,  3.21925859e+00, -7.28201879e-02, -2.12988600e-01,\n",
      "        1.68215920e+00,  2.23953567e+00,  6.97905204e-01, -2.24955520e+00,\n",
      "        4.13388582e+00,  2.39884620e+00,  2.47177431e+00,  4.25449440e+00,\n",
      "       -2.13338911e+00,  4.05523916e+00,  5.41365364e+00,  2.69092344e+00,\n",
      "        9.10821134e+00,  9.19662686e+00,  1.04614544e+01,  9.39562873e+00,\n",
      "        1.31935016e+01,  1.47394567e+01,  1.04688734e+01,  8.98914416e+00,\n",
      "        1.56402346e+01,  7.02831049e+00,  5.41376145e+00,  4.02153397e+00,\n",
      "        9.62212969e+00,  9.63900802e+00,  1.10380178e+01,  9.80168884e+00,\n",
      "        8.63297826e+00,  1.20822005e+01,  7.90529318e+00,  8.00078102e+00,\n",
      "        6.39918392e+00,  8.72563558e+00,  4.47717048e+00,  1.22066515e+01,\n",
      "        1.50533544e+01,  7.76516695e+00,  9.06361348e+00,  8.54485161e+00,\n",
      "        1.57800203e+00,  5.09422557e+00,  1.05173680e+01,  9.08003475e+00,\n",
      "        1.26157072e+01,  1.78205570e+01,  6.14278925e+00,  1.22117461e+01,\n",
      "        9.19237028e+00,  6.76636892e+00,  1.01395532e+01,  9.06852549e+00,\n",
      "        6.83135396e+00,  9.64717930e+00,  2.78594889e+00,  7.56190280e+00,\n",
      "        9.19518669e+00,  9.80223782e+00,  7.06062676e+00,  1.47665386e+01,\n",
      "        4.72125867e+00,  6.27183836e+00,  1.13394181e+01,  7.66055336e+00,\n",
      "        9.41638082e+00,  3.50950095e+00,  8.46473513e+00,  9.55569896e+00,\n",
      "        2.74945830e+00,  1.17119749e+01,  8.81892074e+00,  4.40725263e+00,\n",
      "        1.65972815e+00,  2.35984873e+00, -1.40765024e-01, -1.88244550e-01,\n",
      "        2.51733147e-01,  1.19357420e+00,  5.16589894e-01, -1.21058556e+00,\n",
      "        1.38881023e-01,  3.82331211e-01,  6.38559424e-01,  1.37441753e+00,\n",
      "        5.00924579e+00,  8.22335889e+00, -1.70937828e-01, -2.64779665e+00,\n",
      "        1.17205047e+00,  2.99139767e+00,  2.05473721e+00,  2.36428958e+00,\n",
      "        3.55437605e+00,  2.81531443e+00,  2.90584805e+00,  2.56267990e+00,\n",
      "        2.06102674e+00,  2.86801149e+00,  4.27519503e+00,  2.35692692e+00,\n",
      "        5.11824847e+00,  2.67205812e+00,  1.12232154e+00,  4.81974611e+00,\n",
      "        4.37597749e+00,  3.68478579e+00, -3.02247295e-01,  4.21287846e+00,\n",
      "        5.62121749e+00,  2.74689766e+00,  2.33563875e+00,  2.08219652e+00,\n",
      "        5.64245299e+00,  3.41609404e+00,  6.32119007e+00,  4.83697583e+00,\n",
      "        6.75646251e-01,  5.78819643e+00, -3.96376600e-01,  9.43471212e-01,\n",
      "       -7.08635075e-01,  4.40623867e+00,  3.62445951e+00,  3.06329502e+00,\n",
      "        8.84555590e-01,  2.84885650e+00,  5.88054216e+00,  5.08702266e+00,\n",
      "        7.61566325e+00,  2.75464882e-01,  3.60386132e+00,  2.89882746e+00,\n",
      "        5.80012231e-01,  8.24089702e-01,  8.93244336e-01,  5.40499668e-01,\n",
      "       -1.94183545e-01, -1.68740393e+00, -3.07885556e+00, -2.80403594e+00,\n",
      "       -1.84896218e+00, -1.39347170e+00, -1.03172705e+00, -1.91119499e-01,\n",
      "        5.72866113e-01, -4.30763712e-01, -8.03656602e-01,  1.28742374e-02,\n",
      "       -2.87507405e-01,  1.98596292e-01,  8.84149155e-01,  4.18102188e-01,\n",
      "       -2.14632627e-02, -6.03322166e-01, -8.34381307e-01, -6.73042080e-01,\n",
      "       -2.19735976e+00, -2.35882542e+00, -4.53213587e-01,  6.40081681e-01,\n",
      "        1.72273145e+00,  2.25995542e+00,  1.01188155e+00,  1.46177976e+00,\n",
      "        2.36870608e-02, -1.31885263e+00,  5.69218158e-02,  3.39054155e-01,\n",
      "       -7.23708048e-02, -5.17526580e-01, -2.38422485e+00, -2.84607741e+00,\n",
      "       -1.14524957e+00,  4.74401166e-01,  1.83133254e+00,  3.15769367e+00,\n",
      "        1.57919207e+00,  7.37862421e-01,  1.10955595e-01, -7.35169451e-01,\n",
      "       -3.06559340e-01, -1.78890112e-01,  4.65331208e-02, -9.55032576e-01,\n",
      "       -3.19162510e+00, -2.77404072e+00, -1.64360033e-01,  1.18756494e+00,\n",
      "        2.29771827e+00,  2.55570258e+00,  1.36635188e+00,  1.52842049e+00,\n",
      "       -9.21392320e-01, -9.81671556e-01, -2.24141507e-01, -5.36830323e-01,\n",
      "       -6.92968808e-01, -5.47008648e-01, -1.81998353e-01, -2.43898442e-01,\n",
      "       -1.29380275e+00, -1.76098642e+00, -2.28138278e+00, -2.07132217e+00,\n",
      "       -2.46573174e+00, -1.77686606e+00, -1.68909376e-01, -5.68154441e-01,\n",
      "       -1.72303772e+00, -1.75787558e+00, -6.98159282e-01, -9.49798132e-01,\n",
      "       -3.47317940e-01,  4.05023512e-01,  3.66472743e-01,  6.83105435e-01,\n",
      "        2.37956499e-01, -9.09637181e-01,  4.13985741e-02, -2.12963649e-01,\n",
      "       -1.06427479e+00,  3.83032251e-01, -1.35592588e+00,  1.62247701e-02,\n",
      "        2.35573442e-01, -6.72557945e-02,  3.16648198e-01, -1.20934741e-01,\n",
      "        4.89516587e-01,  1.43006515e+00,  1.20659655e+00, -3.99290997e-02,\n",
      "        3.60487600e-01,  9.76939017e-01, -1.38248922e+00, -3.69754383e-01,\n",
      "       -2.07103544e+00, -8.13753041e-03,  8.24852376e-01, -4.52516835e-01,\n",
      "        3.88087197e-01, -3.92686576e-01,  1.32692393e+00,  1.02136115e+00,\n",
      "        7.64216630e-01, -1.01178139e+00,  1.44582931e+00, -9.06323335e-01,\n",
      "       -7.83856239e-01, -6.82569389e-01, -2.67034592e+00,  1.75657700e-01,\n",
      "        1.09896983e-01,  2.67443611e-01,  3.95281688e-01, -8.22213058e-02,\n",
      "       -1.61100182e-01, -6.70870447e-01, -5.66856376e-01, -7.05442055e-01,\n",
      "       -1.39699948e+00, -1.62266385e+00, -1.10246353e+00, -1.59656602e-01,\n",
      "        2.87606571e-01, -1.22144184e-01, -9.31754508e-01, -1.13993710e+00,\n",
      "        3.45882133e-01,  9.45595184e-02, -2.49279879e-01, -1.86478249e-01,\n",
      "       -2.60414691e-01, -3.81460215e-01, -1.51031454e-01,  2.10515790e-02,\n",
      "       -1.27550938e+00, -1.50812953e+00, -5.42319598e-01, -4.89441823e-01,\n",
      "        2.43028647e-01,  1.31825386e+00,  1.03877096e+00, -5.29546183e-01,\n",
      "       -9.63880814e-01, -4.60236145e-01, -3.19856967e-01,  2.94386866e-01,\n",
      "        4.11619398e-01,  5.02191056e-01, -4.42533377e-02, -6.92026476e-01,\n",
      "       -3.27543298e-01,  1.01731536e-01,  7.92105727e-01,  1.19032545e+00,\n",
      "        5.65475800e-01, -4.85677601e-01, -6.52299882e-01, -2.25204440e-01,\n",
      "       -7.30609681e-01,  8.10573304e-01,  2.66838600e-01, -4.81001418e-02,\n",
      "       -5.04225390e-01, -3.70990641e-02, -2.67195815e-01,  7.91518968e-02,\n",
      "        4.78797300e-01,  1.17436924e+00,  1.07574051e-01, -2.01973000e-01]), 0)\n",
      "The sample 0: [ 2.22303591e+00  1.46445323e+00  1.90857146e+00  1.78598570e+00\n",
      "  2.71199945e+00  4.02571061e-01  4.48155362e+00  3.53039127e-01\n",
      "  1.38853656e+00  4.27926253e+00  2.09050970e+00  2.31505122e+00\n",
      "  3.02804176e+00  5.97075437e-02  1.61161068e+00  3.93719016e+00\n",
      "  4.11638504e+00  3.04021349e+00  5.13079976e-01  1.44371551e+00\n",
      "  4.19847693e-01  1.40546346e+00  1.39235191e+00 -1.75674438e+00\n",
      " -6.00815136e-01  7.15583190e+00  2.17579577e+00  3.41468828e+00\n",
      "  1.67700695e+00  5.45665083e-01  5.20971381e+00  1.03333509e+00\n",
      " -6.14787826e-01  4.21467305e+00  1.70101598e+00  1.65523621e+00\n",
      "  1.59689789e+00 -3.92203701e-01  2.29824680e-01  5.46069812e+00\n",
      "  2.12197503e+00  2.90304515e+00  8.38929028e-01 -9.00897649e-01\n",
      "  4.84448405e+00  3.21925859e+00 -7.28201879e-02 -2.12988600e-01\n",
      "  1.68215920e+00  2.23953567e+00  6.97905204e-01 -2.24955520e+00\n",
      "  4.13388582e+00  2.39884620e+00  2.47177431e+00  4.25449440e+00\n",
      " -2.13338911e+00  4.05523916e+00  5.41365364e+00  2.69092344e+00\n",
      "  9.10821134e+00  9.19662686e+00  1.04614544e+01  9.39562873e+00\n",
      "  1.31935016e+01  1.47394567e+01  1.04688734e+01  8.98914416e+00\n",
      "  1.56402346e+01  7.02831049e+00  5.41376145e+00  4.02153397e+00\n",
      "  9.62212969e+00  9.63900802e+00  1.10380178e+01  9.80168884e+00\n",
      "  8.63297826e+00  1.20822005e+01  7.90529318e+00  8.00078102e+00\n",
      "  6.39918392e+00  8.72563558e+00  4.47717048e+00  1.22066515e+01\n",
      "  1.50533544e+01  7.76516695e+00  9.06361348e+00  8.54485161e+00\n",
      "  1.57800203e+00  5.09422557e+00  1.05173680e+01  9.08003475e+00\n",
      "  1.26157072e+01  1.78205570e+01  6.14278925e+00  1.22117461e+01\n",
      "  9.19237028e+00  6.76636892e+00  1.01395532e+01  9.06852549e+00\n",
      "  6.83135396e+00  9.64717930e+00  2.78594889e+00  7.56190280e+00\n",
      "  9.19518669e+00  9.80223782e+00  7.06062676e+00  1.47665386e+01\n",
      "  4.72125867e+00  6.27183836e+00  1.13394181e+01  7.66055336e+00\n",
      "  9.41638082e+00  3.50950095e+00  8.46473513e+00  9.55569896e+00\n",
      "  2.74945830e+00  1.17119749e+01  8.81892074e+00  4.40725263e+00\n",
      "  1.65972815e+00  2.35984873e+00 -1.40765024e-01 -1.88244550e-01\n",
      "  2.51733147e-01  1.19357420e+00  5.16589894e-01 -1.21058556e+00\n",
      "  1.38881023e-01  3.82331211e-01  6.38559424e-01  1.37441753e+00\n",
      "  5.00924579e+00  8.22335889e+00 -1.70937828e-01 -2.64779665e+00\n",
      "  1.17205047e+00  2.99139767e+00  2.05473721e+00  2.36428958e+00\n",
      "  3.55437605e+00  2.81531443e+00  2.90584805e+00  2.56267990e+00\n",
      "  2.06102674e+00  2.86801149e+00  4.27519503e+00  2.35692692e+00\n",
      "  5.11824847e+00  2.67205812e+00  1.12232154e+00  4.81974611e+00\n",
      "  4.37597749e+00  3.68478579e+00 -3.02247295e-01  4.21287846e+00\n",
      "  5.62121749e+00  2.74689766e+00  2.33563875e+00  2.08219652e+00\n",
      "  5.64245299e+00  3.41609404e+00  6.32119007e+00  4.83697583e+00\n",
      "  6.75646251e-01  5.78819643e+00 -3.96376600e-01  9.43471212e-01\n",
      " -7.08635075e-01  4.40623867e+00  3.62445951e+00  3.06329502e+00\n",
      "  8.84555590e-01  2.84885650e+00  5.88054216e+00  5.08702266e+00\n",
      "  7.61566325e+00  2.75464882e-01  3.60386132e+00  2.89882746e+00\n",
      "  5.80012231e-01  8.24089702e-01  8.93244336e-01  5.40499668e-01\n",
      " -1.94183545e-01 -1.68740393e+00 -3.07885556e+00 -2.80403594e+00\n",
      " -1.84896218e+00 -1.39347170e+00 -1.03172705e+00 -1.91119499e-01\n",
      "  5.72866113e-01 -4.30763712e-01 -8.03656602e-01  1.28742374e-02\n",
      " -2.87507405e-01  1.98596292e-01  8.84149155e-01  4.18102188e-01\n",
      " -2.14632627e-02 -6.03322166e-01 -8.34381307e-01 -6.73042080e-01\n",
      " -2.19735976e+00 -2.35882542e+00 -4.53213587e-01  6.40081681e-01\n",
      "  1.72273145e+00  2.25995542e+00  1.01188155e+00  1.46177976e+00\n",
      "  2.36870608e-02 -1.31885263e+00  5.69218158e-02  3.39054155e-01\n",
      " -7.23708048e-02 -5.17526580e-01 -2.38422485e+00 -2.84607741e+00\n",
      " -1.14524957e+00  4.74401166e-01  1.83133254e+00  3.15769367e+00\n",
      "  1.57919207e+00  7.37862421e-01  1.10955595e-01 -7.35169451e-01\n",
      " -3.06559340e-01 -1.78890112e-01  4.65331208e-02 -9.55032576e-01\n",
      " -3.19162510e+00 -2.77404072e+00 -1.64360033e-01  1.18756494e+00\n",
      "  2.29771827e+00  2.55570258e+00  1.36635188e+00  1.52842049e+00\n",
      " -9.21392320e-01 -9.81671556e-01 -2.24141507e-01 -5.36830323e-01\n",
      " -6.92968808e-01 -5.47008648e-01 -1.81998353e-01 -2.43898442e-01\n",
      " -1.29380275e+00 -1.76098642e+00 -2.28138278e+00 -2.07132217e+00\n",
      " -2.46573174e+00 -1.77686606e+00 -1.68909376e-01 -5.68154441e-01\n",
      " -1.72303772e+00 -1.75787558e+00 -6.98159282e-01 -9.49798132e-01\n",
      " -3.47317940e-01  4.05023512e-01  3.66472743e-01  6.83105435e-01\n",
      "  2.37956499e-01 -9.09637181e-01  4.13985741e-02 -2.12963649e-01\n",
      " -1.06427479e+00  3.83032251e-01 -1.35592588e+00  1.62247701e-02\n",
      "  2.35573442e-01 -6.72557945e-02  3.16648198e-01 -1.20934741e-01\n",
      "  4.89516587e-01  1.43006515e+00  1.20659655e+00 -3.99290997e-02\n",
      "  3.60487600e-01  9.76939017e-01 -1.38248922e+00 -3.69754383e-01\n",
      " -2.07103544e+00 -8.13753041e-03  8.24852376e-01 -4.52516835e-01\n",
      "  3.88087197e-01 -3.92686576e-01  1.32692393e+00  1.02136115e+00\n",
      "  7.64216630e-01 -1.01178139e+00  1.44582931e+00 -9.06323335e-01\n",
      " -7.83856239e-01 -6.82569389e-01 -2.67034592e+00  1.75657700e-01\n",
      "  1.09896983e-01  2.67443611e-01  3.95281688e-01 -8.22213058e-02\n",
      " -1.61100182e-01 -6.70870447e-01 -5.66856376e-01 -7.05442055e-01\n",
      " -1.39699948e+00 -1.62266385e+00 -1.10246353e+00 -1.59656602e-01\n",
      "  2.87606571e-01 -1.22144184e-01 -9.31754508e-01 -1.13993710e+00\n",
      "  3.45882133e-01  9.45595184e-02 -2.49279879e-01 -1.86478249e-01\n",
      " -2.60414691e-01 -3.81460215e-01 -1.51031454e-01  2.10515790e-02\n",
      " -1.27550938e+00 -1.50812953e+00 -5.42319598e-01 -4.89441823e-01\n",
      "  2.43028647e-01  1.31825386e+00  1.03877096e+00 -5.29546183e-01\n",
      " -9.63880814e-01 -4.60236145e-01 -3.19856967e-01  2.94386866e-01\n",
      "  4.11619398e-01  5.02191056e-01 -4.42533377e-02 -6.92026476e-01\n",
      " -3.27543298e-01  1.01731536e-01  7.92105727e-01  1.19032545e+00\n",
      "  5.65475800e-01 -4.85677601e-01 -6.52299882e-01 -2.25204440e-01\n",
      " -7.30609681e-01  8.10573304e-01  2.66838600e-01 -4.81001418e-02\n",
      " -5.04225390e-01 -3.70990641e-02 -2.67195815e-01  7.91518968e-02\n",
      "  4.78797300e-01  1.17436924e+00  1.07574051e-01 -2.01973000e-01]\n",
      "Shape of sample 0: (360,)\n",
      "The label of sample 0: 0\n"
     ]
    }
   ],
   "source": [
    "# Lets print the first sample of ms_train dataset.\n",
    "# Is a tuple, with an vector of 900 elements as first element and the label as second\n",
    "x = ms_train_dataset[0]\n",
    "print(x)\n",
    "\n",
    "#Inspecting sample\n",
    "print(f\"The sample 0: {x[0]}\")\n",
    "print(f\"Shape of sample 0: {x[0].shape}\")\n",
    "print(f\"The label of sample 0: {x[1]}\")"
   ]
  },
  {
   "cell_type": "markdown",
   "id": "cd10c49b-b6dc-4ee5-a985-66f038cc8f0d",
   "metadata": {},
   "source": [
    "## Checking the window"
   ]
  },
  {
   "cell_type": "code",
   "execution_count": 10,
   "id": "76fe00af-2b48-4482-96c7-c8f3556bab23",
   "metadata": {},
   "outputs": [
    {
     "name": "stdout",
     "output_type": "stream",
     "text": [
      "MotionSense train have 6 windows\n",
      "Each sample train can be sliced at: [(0, 60), (60, 120), (120, 180), (180, 240), (240, 300), (300, 360)]\n",
      "Each slice has the following name associated: ['userAcceleration.x', 'userAcceleration.y', 'userAcceleration.z', 'rotationRate.x', 'rotationRate.y', 'rotationRate.z']\n"
     ]
    }
   ],
   "source": [
    "print(f\"MotionSense train have {ms_train_dataset.num_windows} windows\")\n",
    "print(f\"Each sample train can be sliced at: {ms_train_dataset.window_slices}\")\n",
    "print(f\"Each slice has the following name associated: {ms_train_dataset.window_names}\")"
   ]
  },
  {
   "cell_type": "markdown",
   "id": "f4df78f4-af82-45df-ba0a-fd29149e3742",
   "metadata": {},
   "source": [
    "## Activities dictionary"
   ]
  },
  {
   "cell_type": "code",
   "execution_count": 11,
   "id": "c37b5465-dfd2-4247-add6-00af7da1bda3",
   "metadata": {},
   "outputs": [],
   "source": [
    "act_names = ['dws',\n",
    "             'ups',\n",
    "             'sit',\n",
    "             'std',\n",
    "             'wlk',\n",
    "             'jog']"
   ]
  },
  {
   "cell_type": "code",
   "execution_count": 12,
   "id": "4e393b93-c96b-4d52-8d84-f34131a71ccd",
   "metadata": {},
   "outputs": [],
   "source": [
    "act_dict = {}\n",
    "for i in range(0, len(act_names)):\n",
    "    act_dict[act_names[i]] = i"
   ]
  },
  {
   "cell_type": "markdown",
   "id": "3c2665c4-07ed-491a-8e5f-ccd2950b68fc",
   "metadata": {},
   "source": [
    "## Resampling"
   ]
  },
  {
   "cell_type": "markdown",
   "id": "956dda53-e163-4b18-9f47-8e11285c65db",
   "metadata": {},
   "source": [
    "### Setting the column names"
   ]
  },
  {
   "cell_type": "code",
   "execution_count": 13,
   "id": "5d9b7fda-d800-435b-8561-e9046de3d910",
   "metadata": {},
   "outputs": [],
   "source": [
    "accel_x = [\"userAcceleration.x-\"+str(i) for i in range(0, 60)]\n",
    "accel_y = [\"userAcceleration.y-\"+str(i) for i in range(0, 60)]\n",
    "accel_z = [\"userAcceleration.z-\"+str(i) for i in range(0, 60)]\n",
    "gyro_x = [\"rotationRate.x-\"+str(i) for i in range(0, 60)]\n",
    "gyro_y = [\"rotationRate.y-\"+str(i) for i in range(0, 60)]\n",
    "gyro_z = [\"rotationRate.z-\"+str(i) for i in range(0, 60)]\n",
    "columns = np.concatenate((accel_x, accel_y, accel_z, gyro_x, gyro_y, gyro_z))"
   ]
  },
  {
   "cell_type": "markdown",
   "id": "e1041873-9914-43d0-83ba-faa101af6445",
   "metadata": {},
   "source": [
    "### Creating the resampled dataframes"
   ]
  },
  {
   "cell_type": "code",
   "execution_count": 14,
   "id": "b8e8fb3c-a607-47fa-9b09-e63c9d49ac88",
   "metadata": {},
   "outputs": [],
   "source": [
    "# resampler = SimpleResampler(new_sample_size=60)\n",
    "transformer = TransformMultiModalDataset(transforms=[], new_window_name_prefix=\"resampled-20Hz.\")"
   ]
  },
  {
   "cell_type": "code",
   "execution_count": 15,
   "id": "9ba012fc-9702-4e6e-96ad-1dd2572504cb",
   "metadata": {},
   "outputs": [],
   "source": [
    "resampled_ms_train_samples_df = pd.DataFrame(transformer(ms_train_dataset)[:][0], columns=columns)\n",
    "resampled_ms_train = pd.concat([resampled_ms_train_samples_df, ms_train.iloc[:, -5:]], axis=1)\n",
    "\n",
    "resampled_ms_validation_samples_df = pd.DataFrame(transformer(ms_validation_dataset)[:][0], columns=columns)\n",
    "resampled_ms_validation = pd.concat([resampled_ms_validation_samples_df, ms_validation.iloc[:, -5:]], axis=1)\n",
    "\n",
    "resampled_ms_test_samples_df = pd.DataFrame(transformer(ms_test_dataset)[:][0], columns=columns)\n",
    "resampled_ms_test = pd.concat([resampled_ms_test_samples_df, ms_test.iloc[:, -5:]], axis=1)"
   ]
  },
  {
   "cell_type": "markdown",
   "id": "414442e4-b5af-4d86-9cf2-2ac42b83c38f",
   "metadata": {},
   "source": [
    "### Creating the datasets"
   ]
  },
  {
   "cell_type": "code",
   "execution_count": 16,
   "id": "1f510f01-e678-4047-b037-90bd6b713219",
   "metadata": {},
   "outputs": [],
   "source": [
    "resampled_ms_train_dataset = PandasMultiModalDataset(\n",
    "    resampled_ms_train,\n",
    "    feature_prefixes=features,\n",
    "    label_columns=\"activity code\",\n",
    "    as_array=True\n",
    ")\n",
    "\n",
    "resampled_ms_validation_dataset = PandasMultiModalDataset(\n",
    "    resampled_ms_validation,\n",
    "    feature_prefixes=features,\n",
    "    label_columns=\"activity code\",\n",
    "    as_array=True\n",
    ")\n",
    "\n",
    "resampled_ms_test_dataset = PandasMultiModalDataset(\n",
    "    resampled_ms_test,\n",
    "    feature_prefixes=features,\n",
    "    label_columns=\"activity code\",\n",
    "    as_array=True\n",
    ")"
   ]
  },
  {
   "cell_type": "markdown",
   "id": "e0b9df7d-cc3e-466a-9719-dd083d4ee68d",
   "metadata": {},
   "source": [
    "## Saving the resampled data"
   ]
  },
  {
   "cell_type": "code",
   "execution_count": 17,
   "id": "c7a9cda8-f111-4715-94c2-e474574149ab",
   "metadata": {
    "tags": []
   },
   "outputs": [
    {
     "name": "stdout",
     "output_type": "stream",
     "text": [
      "# Resampled to 20Hz MotionSense View With Gravity\n",
      "\n",
      "This view contains train, validation and test subsets in the following proportions:\n",
      "- Train: 70% of samples\n",
      "- Validation: 10% of samples\n",
      "- Test: 20% of samples\n",
      "\n",
      "After splits, the datasets were balanced in relation to the activity code column, that is, each subset have the same number of activitiy samples.\n",
      "\n",
      "## Activities:\n",
      "- dws: 0 (569 train, 101 validation, 170 test)\n",
      "- ups: 1 (569 train, 101 validation, 170 test)\n",
      "- sit: 2 (569 train, 101 validation, 170 test)\n",
      "- std: 3 (569 train, 101 validation, 170 test)\n",
      "- wlk: 4 (569 train, 101 validation, 170 test)\n",
      "- jog: 5 (569 train, 101 validation, 170 test)\n",
      "\n",
      "## Users\n",
      "- 16 users train dataset: 1 (218 samples), 2 (219 samples), 5 (185 samples), 6 (218 samples), 8 (233 samples), 9 (202 samples), 10 (218 samples), 11 (211 samples), 12 (197 samples), 13 (183 samples), 15 (208 samples), 16 (246 samples), 17 (209 samples), 21 (254 samples), 22 (200 samples), 23 (213 samples).\n",
      "- 3 users validation dataset: 4 (190 samples), 7 (211 samples), 20 (205 samples).\n",
      "- 5 users test dataset: 3 (222 samples), 14 (183 samples), 18 (223 samples), 19 (233 samples), 24 (159 samples).\n",
      "\n",
      "**NOTE**: Each subset contain samples from distinct users, that is, samples of one user belongs exclusivelly to one of three subsets.\n",
      "\n",
      "\n"
     ]
    }
   ],
   "source": [
    "output_path = Path(\"../../../data_2/views/MotionSense/resampled_view_20Hz_with_gravity_9.81_acc\")\n",
    "\n",
    "train_act_samples = resampled_ms_train[\"activity code\"].value_counts().to_dict()\n",
    "validation_act_samples = resampled_ms_validation[\"activity code\"].value_counts().to_dict()\n",
    "test_act_samples = resampled_ms_test[\"activity code\"].value_counts().to_dict()\n",
    "activities = [f\"- {name}: {code} ({train_act_samples[code]} train, {validation_act_samples[code]} validation, {test_act_samples[code]} test)\" for name, code in act_dict.items()]\n",
    "activities = \"\\n\".join(activities)\n",
    "\n",
    "train_users = [f\"{user} ({no_samples} samples)\" for user, no_samples in sorted(resampled_ms_train[\"user\"].value_counts().sort_values().items(), key=lambda x: x[0])]\n",
    "train_users = ', '.join(train_users)\n",
    "validation_users = [f\"{user} ({no_samples} samples)\" for user, no_samples in sorted(resampled_ms_validation[\"user\"].value_counts().sort_values().items(), key=lambda x: x[0])]\n",
    "validation_users = ', '.join(validation_users)\n",
    "test_users = [f\"{user} ({no_samples} samples)\" for user, no_samples in sorted(resampled_ms_test[\"user\"].value_counts().items(), key=lambda x: x[0])]\n",
    "test_users = ', '.join(test_users)\n",
    "\n",
    "description = f\"\"\"# Resampled to 20Hz MotionSense View With Gravity\n",
    "\n",
    "This view contains train, validation and test subsets in the following proportions:\n",
    "- Train: 70% of samples\n",
    "- Validation: 10% of samples\n",
    "- Test: 20% of samples\n",
    "\n",
    "After splits, the datasets were balanced in relation to the activity code column, that is, each subset have the same number of activitiy samples.\n",
    "\n",
    "## Activities:\n",
    "{activities}\n",
    "\n",
    "## Users\n",
    "- {len(resampled_ms_train.user.unique())} users train dataset: {train_users}.\n",
    "- {len(resampled_ms_validation.user.unique())} users validation dataset: {validation_users}.\n",
    "- {len(resampled_ms_test.user.unique())} users test dataset: {test_users}.\n",
    "\n",
    "**NOTE**: Each subset contain samples from distinct users, that is, samples of one user belongs exclusivelly to one of three subsets.\n",
    "\n",
    "\"\"\"\n",
    "\n",
    "print(description)\n",
    "pandas_io = PandasDatasetsIO(output_path)"
   ]
  },
  {
   "cell_type": "code",
   "execution_count": 18,
   "id": "4f4a9c1b-beca-4c22-a84a-319fc341e709",
   "metadata": {
    "tags": []
   },
   "outputs": [],
   "source": [
    "pandas_io.save(train=resampled_ms_train, validation=resampled_ms_validation, test=resampled_ms_test, description=description)"
   ]
  },
  {
   "cell_type": "code",
   "execution_count": 19,
   "id": "812e6fd9-8a5a-46bf-8549-db53fe67c4bc",
   "metadata": {
    "tags": []
   },
   "outputs": [],
   "source": [
    "from matplotlib import pyplot as plt"
   ]
  },
  {
   "cell_type": "code",
   "execution_count": 21,
   "id": "6149c486-4d30-4f80-8973-1e75dd805661",
   "metadata": {
    "tags": []
   },
   "outputs": [
    {
     "data": {
      "text/plain": [
       "[<matplotlib.lines.Line2D at 0x7f41e8937070>]"
      ]
     },
     "execution_count": 21,
     "metadata": {},
     "output_type": "execute_result"
    },
    {
     "data": {
      "image/png": "[encoded data removed]",
      "text/plain": [
       "<Figure size 640x480 with 1 Axes>"
      ]
     },
     "metadata": {},
     "output_type": "display_data"
    }
   ],
   "source": [
    "plt.plot(resampled_ms_train.iloc[0,:-5])"
   ]
  },
  {
   "cell_type": "code",
   "execution_count": null,
   "id": "50b10bde-7b7e-4f7e-87a4-81f1c51d1087",
   "metadata": {},
   "outputs": [],
   "source": []
  }
 ],
 "metadata": {
  "kernelspec": {
   "display_name": "Python 3 (ipykernel)",
   "language": "python",
   "name": "python3"
  },
  "language_info": {
   "codemirror_mode": {
    "name": "ipython",
    "version": 3
   },
   "file_extension": ".py",
   "mimetype": "text/x-python",
   "name": "python",
   "nbconvert_exporter": "python",
   "pygments_lexer": "ipython3",
   "version": "3.8.10"
  }
 },
 "nbformat": 4,
 "nbformat_minor": 5
}
