{
 "cells": [
  {
   "cell_type": "markdown",
   "id": "ea54f721-8136-400a-8a35-d517ec967d31",
   "metadata": {},
   "source": [
    "# Testing Dataset Loaders\n",
    "\n",
    "Example of loading the following datasets (classes):\n",
    "\n",
    "- KuHarResampledView20HZ\n",
    "- MotionSenseResampledView20HZ\n",
    "- CHARMUnbalancedView\n",
    "- WISDMInterpolatedUnbalancedView\n",
    "- UCIHARUnbalancedView\n",
    "\n",
    "To load the datasets, you must:\n",
    "\n",
    "- Wrap the dataset path arround one of the above classes (`root_dir` argument). You may want to download the dataset setting `download` argument to `True`\n",
    "- Use `load` function. It will create `PandasMultiModalDataset` objects"
   ]
  },
  {
   "cell_type": "code",
   "execution_count": 1,
   "id": "d39459e8-c002-49b0-a3f2-dd2c6109aa7b",
   "metadata": {
    "execution": {
     "iopub.execute_input": "2022-10-07T18:59:35.103301Z",
     "iopub.status.busy": "2022-10-07T18:59:35.103011Z",
     "iopub.status.idle": "2022-10-07T18:59:35.113740Z",
     "shell.execute_reply": "2022-10-07T18:59:35.113285Z",
     "shell.execute_reply.started": "2022-10-07T18:59:35.103285Z"
    },
    "tags": []
   },
   "outputs": [],
   "source": [
    "%load_ext autoreload\n",
    "%autoreload 2"
   ]
  },
  {
   "cell_type": "code",
   "execution_count": 2,
   "id": "2b1204d2-2b93-42b1-b5db-249bad888dbf",
   "metadata": {
    "execution": {
     "iopub.execute_input": "2022-10-07T18:59:35.114524Z",
     "iopub.status.busy": "2022-10-07T18:59:35.114322Z",
     "iopub.status.idle": "2022-10-07T18:59:35.278967Z",
     "shell.execute_reply": "2022-10-07T18:59:35.278336Z",
     "shell.execute_reply.started": "2022-10-07T18:59:35.114508Z"
    },
    "tags": []
   },
   "outputs": [],
   "source": [
    "import sys\n",
    "sys.path.append(\"..\")"
   ]
  },
  {
   "cell_type": "code",
   "execution_count": 3,
   "id": "11d6799d-9de9-4678-a9bf-a889005f6748",
   "metadata": {
    "execution": {
     "iopub.execute_input": "2022-10-07T18:59:41.688159Z",
     "iopub.status.busy": "2022-10-07T18:59:41.687360Z",
     "iopub.status.idle": "2022-10-07T18:59:46.860508Z",
     "shell.execute_reply": "2022-10-07T18:59:46.859937Z",
     "shell.execute_reply.started": "2022-10-07T18:59:41.688085Z"
    },
    "tags": []
   },
   "outputs": [
    {
     "name": "stderr",
     "output_type": "stream",
     "text": [
      "2022-10-07 18:59:45.630046: W tensorflow/stream_executor/platform/default/dso_loader.cc:64] Could not load dynamic library 'libcudart.so.11.0'; dlerror: libcudart.so.11.0: cannot open shared object file: No such file or directory\n",
      "2022-10-07 18:59:45.630067: I tensorflow/stream_executor/cuda/cudart_stub.cc:29] Ignore above cudart dlerror if you do not have a GPU set up on your machine.\n"
     ]
    }
   ],
   "source": [
    "from librep.datasets.har.loaders import (\n",
    "    KuHar_BalancedView20HzMotionSenseEquivalent,\n",
    "    MotionSense_BalancedView20HZ,\n",
    "    ExtraSensorySense_UnbalancedView20HZ,\n",
    "    CHARM_BalancedView20Hz,\n",
    "    WISDM_UnbalancedView20Hz,\n",
    "    UCIHAR_UnbalancedView20Hz\n",
    ")"
   ]
  },
  {
   "cell_type": "markdown",
   "id": "b682955b-faf0-4d91-aeca-79762f6441f6",
   "metadata": {},
   "source": [
    "## KuHar"
   ]
  },
  {
   "cell_type": "code",
   "execution_count": 14,
   "id": "fa9f017c-290d-41e6-b2af-3b3b12d6ba1e",
   "metadata": {
    "execution": {
     "iopub.execute_input": "2022-10-07T19:03:38.254903Z",
     "iopub.status.busy": "2022-10-07T19:03:38.254430Z",
     "iopub.status.idle": "2022-10-07T19:03:38.300342Z",
     "shell.execute_reply": "2022-10-07T19:03:38.299795Z",
     "shell.execute_reply.started": "2022-10-07T19:03:38.254861Z"
    },
    "tags": []
   },
   "outputs": [
    {
     "data": {
      "text/markdown": [
       "# Balanced KuHar View Resampled to 20Hz\n",
       "\n",
       "This is a view from [KuHar v5](https://data.mendeley.com/datasets/45f952y38r/5) that was spllited into 3s windows and was resampled to 20Hz using the [FFT method](https://docs.scipy.org/doc/scipy/reference/generated/scipy.signal.resample.html#scipy.signal.resample). \n",
       "\n",
       "The data was first splitted in three sets: train, validation and test. Each one with the following proportions:\n",
       "- Train: 70% of samples\n",
       "- Validation: 10% of samples\n",
       "- Test: 20% of samples\n",
       "\n",
       "After splits, the datasets were balanced in relation to the activity code column, that is, each subset have the same number of activitiy samples.\n",
       "\n",
       "**NOTE**: Each subset contain samples from distinct users, that is, samples of one user belongs exclusivelly to one of three subsets.\n",
       "\n",
       "## Activity codes\n",
       "- 0: stair down (485 train, 34 validation, 41 test) \n",
       "- 1: stair up (485 train, 34 validation, 41 test) \n",
       "- 2: sit (485 train, 34 validation, 41 test) \n",
       "- 3: stand (485 train, 34 validation, 41 test) \n",
       "- 4: walk (485 train, 34 validation, 41 test) \n",
       "- 5: run (485 train, 34 validation, 41 test) \n",
       " \n",
       "\n",
       "## Standartized activity codes\n",
       "- 0: sit (485 train, 34 validation, 41 test) \n",
       "- 1: stand (485 train, 34 validation, 41 test) \n",
       "- 2: walk (485 train, 34 validation, 41 test) \n",
       "- 3: stair up (485 train, 34 validation, 41 test) \n",
       "- 4: stair down (485 train, 34 validation, 41 test) \n",
       "- 5: run (485 train, 34 validation, 41 test) \n",
       "      \n",
       "\n",
       "\n"
      ],
      "text/plain": [
       "<IPython.core.display.Markdown object>"
      ]
     },
     "metadata": {},
     "output_type": "display_data"
    }
   ],
   "source": [
    "loader = KuHar_BalancedView20HzMotionSenseEquivalent(\n",
    "    root_dir=\"../../data/views/KuHar/balanced_20Hz_motionsense_equivalent-v1\",\n",
    "    download=False)\n",
    "\n",
    "loader.print_readme()"
   ]
  },
  {
   "cell_type": "code",
   "execution_count": 11,
   "id": "62970933-75a0-4122-b275-36434aaf066f",
   "metadata": {
    "execution": {
     "iopub.execute_input": "2022-10-07T19:03:28.754120Z",
     "iopub.status.busy": "2022-10-07T19:03:28.753258Z",
     "iopub.status.idle": "2022-10-07T19:03:29.335606Z",
     "shell.execute_reply": "2022-10-07T19:03:29.335058Z",
     "shell.execute_reply.started": "2022-10-07T19:03:28.754043Z"
    },
    "tags": []
   },
   "outputs": [
    {
     "data": {
      "text/plain": [
       "PandasMultiModalDataset: samples=3114, features=360, no. window=6, label_columns='standard activity code'"
      ]
     },
     "execution_count": 11,
     "metadata": {},
     "output_type": "execute_result"
    }
   ],
   "source": [
    "train_val, test = loader.load(concat_train_validation=True, label=loader.standard_label)\n",
    "train_val"
   ]
  },
  {
   "cell_type": "code",
   "execution_count": 12,
   "id": "961273c4-7989-4ee9-a055-41c872591c7c",
   "metadata": {
    "execution": {
     "iopub.execute_input": "2022-10-07T19:03:31.122500Z",
     "iopub.status.busy": "2022-10-07T19:03:31.122261Z",
     "iopub.status.idle": "2022-10-07T19:03:31.156624Z",
     "shell.execute_reply": "2022-10-07T19:03:31.156145Z",
     "shell.execute_reply.started": "2022-10-07T19:03:31.122480Z"
    },
    "tags": []
   },
   "outputs": [
    {
     "data": {
      "text/plain": [
       "{0: 'sit', 1: 'stand', 2: 'walk', 3: 'stair up', 4: 'stair down', 5: 'run'}"
      ]
     },
     "execution_count": 12,
     "metadata": {},
     "output_type": "execute_result"
    }
   ],
   "source": [
    "loader.standard_activity_codes"
   ]
  },
  {
   "cell_type": "markdown",
   "id": "315bb023-a286-4e13-9db1-6d2f88f34d72",
   "metadata": {},
   "source": [
    "## MotionSense"
   ]
  },
  {
   "cell_type": "code",
   "execution_count": 15,
   "id": "4064765f-567c-4559-b472-90c0269075b1",
   "metadata": {
    "execution": {
     "iopub.execute_input": "2022-10-07T19:04:27.861646Z",
     "iopub.status.busy": "2022-10-07T19:04:27.861446Z",
     "iopub.status.idle": "2022-10-07T19:04:27.916971Z",
     "shell.execute_reply": "2022-10-07T19:04:27.915143Z",
     "shell.execute_reply.started": "2022-10-07T19:04:27.861630Z"
    },
    "tags": []
   },
   "outputs": [
    {
     "data": {
      "text/markdown": [
       "# Balanced MotionSense View Resampled to 20Hz\n",
       "\n",
       "This is a view from [KuHar v5](https://data.mendeley.com/datasets/45f952y38r/5) that was spllited into 3s windows and was resampled to 20Hz using the [FFT method](https://docs.scipy.org/doc/scipy/reference/generated/scipy.signal.resample.html#scipy.signal.resample). \n",
       "\n",
       "The data was first splitted in three sets: train, validation and test. Each one with the following proportions:\n",
       "- Train: 70% of samples\n",
       "- Validation: 10% of samples\n",
       "- Test: 20% of samples\n",
       "\n",
       "After splits, the datasets were balanced in relation to the activity code column, that is, each subset have the same number of activitiy samples.\n",
       "\n",
       "**NOTE**: Each subset contain samples from distinct users, that is, samples of one user belongs exclusivelly to one of three subsets.\n",
       "\n",
       "## Activity codes\n",
       "- 0: downstairs (569 train, 101 validation, 170 test) \n",
       "- 1: upstairs (569 train, 101 validation, 170 test) \n",
       "- 2: sitting (569 train, 101 validation, 170 test) \n",
       "- 3: standing (569 train, 101 validation, 170 test) \n",
       "- 4: walking (569 train, 101 validation, 170 test) \n",
       "- 5: jogging (569 train, 101 validation, 170 test) \n",
       " \n",
       "\n",
       "## Standartized activity codes\n",
       "- 0: sit (569 train, 101 validation, 170 test) \n",
       "- 1: stand (569 train, 101 validation, 170 test) \n",
       "- 2: walk (569 train, 101 validation, 170 test) \n",
       "- 3: stair up (569 train, 101 validation, 170 test) \n",
       "- 4: stair down (569 train, 101 validation, 170 test) \n",
       "- 5: run (569 train, 101 validation, 170 test) \n",
       "      \n",
       "\n",
       "\n"
      ],
      "text/plain": [
       "<IPython.core.display.Markdown object>"
      ]
     },
     "metadata": {},
     "output_type": "display_data"
    }
   ],
   "source": [
    "# MotionSense Loader\n",
    "loader = MotionSense_BalancedView20HZ(\n",
    "    root_dir=\"../../data/views/MotionSense/balanced_20Hz-v1\", \n",
    "    download=False\n",
    ")\n",
    "\n",
    "# Print the readme (optional)\n",
    "loader.print_readme()"
   ]
  },
  {
   "cell_type": "code",
   "execution_count": 17,
   "id": "07c101ae-623f-424e-b835-0aab8631f92a",
   "metadata": {
    "execution": {
     "iopub.execute_input": "2022-10-07T19:04:52.326234Z",
     "iopub.status.busy": "2022-10-07T19:04:52.325719Z",
     "iopub.status.idle": "2022-10-07T19:04:52.619235Z",
     "shell.execute_reply": "2022-10-07T19:04:52.618738Z",
     "shell.execute_reply.started": "2022-10-07T19:04:52.326214Z"
    },
    "tags": []
   },
   "outputs": [
    {
     "data": {
      "text/plain": [
       "(PandasMultiModalDataset: samples=4020, features=360, no. window=6, label_columns='standard activity code',\n",
       " PandasMultiModalDataset: samples=1020, features=360, no. window=6, label_columns='standard activity code')"
      ]
     },
     "execution_count": 17,
     "metadata": {},
     "output_type": "execute_result"
    }
   ],
   "source": [
    "# Load the dataset\n",
    "# If concat_train_validation is true, return a tuple (train+validation, test)\n",
    "train_val, test = loader.load(concat_train_validation=True, label=loader.standard_label)\n",
    "train_val, test"
   ]
  },
  {
   "cell_type": "markdown",
   "id": "4fd43785-5056-4015-824a-bae3e64a491a",
   "metadata": {},
   "source": [
    "## CHARM"
   ]
  },
  {
   "cell_type": "code",
   "execution_count": 18,
   "id": "a892e6cf-f646-4272-9bef-949c12eeabbe",
   "metadata": {
    "execution": {
     "iopub.execute_input": "2022-10-07T19:05:28.681139Z",
     "iopub.status.busy": "2022-10-07T19:05:28.680667Z",
     "iopub.status.idle": "2022-10-07T19:05:28.758464Z",
     "shell.execute_reply": "2022-10-07T19:05:28.757990Z",
     "shell.execute_reply.started": "2022-10-07T19:05:28.681098Z"
    },
    "tags": []
   },
   "outputs": [
    {
     "data": {
      "text/markdown": [
       "# Balanced CHARM View\n",
       "\n",
       "This is a view from [CHARM dataset](https://zenodo.org/record/4642560) that was spllited into 3s windows. The sample rate was 20Hz.\n",
       "\n",
       "The data was first splitted in two sets: train and test. Each one with the following proportions:\n",
       "- Train: 70% of samples\n",
       "- Test: 30% of samples\n",
       "\n",
       "After splits, the datasets were balanced in relation to the activity code column, that is, each subset have the same number of activitiy samples.\n",
       "\n",
       "**NOTE**: Each subset contain samples from distinct users, that is, samples of one user belongs exclusivelly to one of three subsets.\n",
       "\n",
       "## Activity codes\n",
       "- 0: sitting on a chair (105 train, 0 validation, 33 test) \n",
       "- 1: sitting on a couch (105 train, 0 validation, 33 test) \n",
       "- 2: standing (105 train, 0 validation, 33 test) \n",
       "- 6: walking (105 train, 0 validation, 33 test) \n",
       "- 7: running (105 train, 0 validation, 33 test) \n",
       "- 8: walking upstairs (105 train, 0 validation, 33 test) \n",
       "- 9: walking downstairs (105 train, 0 validation, 33 test) \n",
       " \n",
       "\n",
       "## Standartized activity codes\n",
       "- 0: sit (210 train, 0 validation, 66 test) \n",
       "- 1: stand (105 train, 0 validation, 33 test) \n",
       "- 2: walk (105 train, 0 validation, 33 test) \n",
       "- 3: stair up (105 train, 0 validation, 33 test) \n",
       "- 4: stair down (105 train, 0 validation, 33 test) \n",
       "- 5: run (105 train, 0 validation, 33 test) \n",
       "      \n",
       "\n",
       "\n"
      ],
      "text/plain": [
       "<IPython.core.display.Markdown object>"
      ]
     },
     "metadata": {},
     "output_type": "display_data"
    }
   ],
   "source": [
    "# CHARM Loader\n",
    "loader = CHARM_BalancedView20Hz(\n",
    "    \"../../data/views/CHARM/balanced_20Hz_train_test-v1\", \n",
    "    download=False\n",
    ")\n",
    "\n",
    "# Print the readme (optional)\n",
    "loader.print_readme()"
   ]
  },
  {
   "cell_type": "code",
   "execution_count": 19,
   "id": "28810b09-a54b-4cfb-a459-132f85af8f9d",
   "metadata": {
    "execution": {
     "iopub.execute_input": "2022-10-07T19:05:42.512780Z",
     "iopub.status.busy": "2022-10-07T19:05:42.511924Z",
     "iopub.status.idle": "2022-10-07T19:05:42.809636Z",
     "shell.execute_reply": "2022-10-07T19:05:42.809149Z",
     "shell.execute_reply.started": "2022-10-07T19:05:42.512703Z"
    },
    "tags": []
   },
   "outputs": [
    {
     "data": {
      "text/plain": [
       "(PandasMultiModalDataset: samples=735, features=360, no. window=6, label_columns='standard activity code',\n",
       " PandasMultiModalDataset: samples=231, features=360, no. window=6, label_columns='standard activity code')"
      ]
     },
     "execution_count": 19,
     "metadata": {},
     "output_type": "execute_result"
    }
   ],
   "source": [
    "# Load the dataset\n",
    "# If concat_train_validation is true, return a tuple (train+validation, test)\n",
    "train_val, test = loader.load(concat_train_validation=True, label=loader.standard_label)\n",
    "train_val, test"
   ]
  },
  {
   "cell_type": "markdown",
   "id": "9d61fdde-4be5-48a7-bbe0-c0b70fc5d2c2",
   "metadata": {},
   "source": [
    "## WISDM"
   ]
  },
  {
   "cell_type": "code",
   "execution_count": 20,
   "id": "9bcb3962-ff94-4b78-b67c-83614efcff04",
   "metadata": {
    "execution": {
     "iopub.execute_input": "2022-10-07T19:06:18.757372Z",
     "iopub.status.busy": "2022-10-07T19:06:18.756497Z",
     "iopub.status.idle": "2022-10-07T19:06:18.804428Z",
     "shell.execute_reply": "2022-10-07T19:06:18.803953Z",
     "shell.execute_reply.started": "2022-10-07T19:06:18.757295Z"
    },
    "tags": []
   },
   "outputs": [
    {
     "data": {
      "text/markdown": [
       "# Unbalanced WISDM View Resampled to 20Hz\n",
       "\n",
       "This view contain only the train and test files for [WISDM dataset](https://archive.ics.uci.edu/ml/datasets/WISDM+Smartphone+and+Smartwatch+Activity+and+Biometrics+Dataset) (70% samples train and 30% test).\n",
       "The dataset was sampled at 20Hz and interpolated using the cubic spline method due to non stable sampling.\n",
       "\n",
       "## Activity codes\n",
       "- 0: walking (2188 train, 0 validation, 886 test) \n",
       "- 1: jogging (2070 train, 0 validation, 887 test) \n",
       "- 2: stairs (2187 train, 0 validation, 827 test) \n",
       "- 3: sitting (2189 train, 0 validation, 886 test) \n",
       "- 4: standing (2189 train, 0 validation, 887 test) \n",
       " \n",
       "\n",
       "## Standartized activity codes\n",
       "- 0: sit (2189 train, 0 validation, 886 test) \n",
       "- 1: stand (2189 train, 0 validation, 887 test) \n",
       "- 2: walk (2188 train, 0 validation, 886 test) \n",
       "- 5: run (2070 train, 0 validation, 887 test) \n",
       "- 6: stair up and down (2187 train, 0 validation, 827 test) \n",
       "      \n",
       "\n",
       "\n"
      ],
      "text/plain": [
       "<IPython.core.display.Markdown object>"
      ]
     },
     "metadata": {},
     "output_type": "display_data"
    }
   ],
   "source": [
    "# WISDM Loader\n",
    "loader = WISDM_UnbalancedView20Hz(\n",
    "    \"../../data/views/WISDM/unbalanced_20Hz_train_test-v1\", \n",
    "    download=False\n",
    ")\n",
    "\n",
    "# Print the readme (optional)\n",
    "loader.print_readme()"
   ]
  },
  {
   "cell_type": "code",
   "execution_count": 21,
   "id": "353d211f-5753-47f4-b107-7d5253d1c926",
   "metadata": {
    "execution": {
     "iopub.execute_input": "2022-10-07T19:06:29.249103Z",
     "iopub.status.busy": "2022-10-07T19:06:29.248486Z",
     "iopub.status.idle": "2022-10-07T19:06:30.449783Z",
     "shell.execute_reply": "2022-10-07T19:06:30.449302Z",
     "shell.execute_reply.started": "2022-10-07T19:06:29.249047Z"
    },
    "tags": []
   },
   "outputs": [
    {
     "data": {
      "text/plain": [
       "(PandasMultiModalDataset: samples=10823, features=360, no. window=6, label_columns='standard activity code',\n",
       " PandasMultiModalDataset: samples=4373, features=360, no. window=6, label_columns='standard activity code')"
      ]
     },
     "execution_count": 21,
     "metadata": {},
     "output_type": "execute_result"
    }
   ],
   "source": [
    "# Load the dataset\n",
    "# If concat_train_validation is true, return a tuple (train+validation, test)\n",
    "train_val, test = loader.load(concat_train_validation=True, label=loader.standard_label)\n",
    "train_val, test"
   ]
  },
  {
   "cell_type": "markdown",
   "id": "e5d7af93-2aef-43c5-8fe9-2a64d9a2f02f",
   "metadata": {},
   "source": [
    "## UCI-HAR"
   ]
  },
  {
   "cell_type": "code",
   "execution_count": 24,
   "id": "a611aa11-6ef3-4453-bb4d-20908e0316c0",
   "metadata": {
    "execution": {
     "iopub.execute_input": "2022-10-07T19:07:27.507285Z",
     "iopub.status.busy": "2022-10-07T19:07:27.507078Z",
     "iopub.status.idle": "2022-10-07T19:07:27.540919Z",
     "shell.execute_reply": "2022-10-07T19:07:27.540351Z",
     "shell.execute_reply.started": "2022-10-07T19:07:27.507268Z"
    },
    "tags": []
   },
   "outputs": [
    {
     "data": {
      "text/markdown": [
       "# Balanced CHARM View\n",
       "\n",
       "This is a view from [CHARM dataset](https://zenodo.org/record/4642560) that was spllited into 3s windows. The sample rate was 20Hz.\n",
       "\n",
       "The data was first splitted in two sets: train and test. Each one with the following proportions:\n",
       "- Train: 70% of samples\n",
       "- Test: 30% of samples\n",
       "\n",
       "After splits, the datasets were balanced in relation to the activity code column, that is, each subset have the same number of activitiy samples.\n",
       "\n",
       "**NOTE**: Each subset contain samples from distinct users, that is, samples of one user belongs exclusivelly to one of three subsets.\n",
       "\n",
       "## Activity codes\n",
       "- 0: sitting on a chair (105 train, 0 validation, 33 test) \n",
       "- 1: sitting on a couch (105 train, 0 validation, 33 test) \n",
       "- 2: standing (105 train, 0 validation, 33 test) \n",
       "- 6: walking (105 train, 0 validation, 33 test) \n",
       "- 7: running (105 train, 0 validation, 33 test) \n",
       "- 8: walking upstairs (105 train, 0 validation, 33 test) \n",
       "- 9: walking downstairs (105 train, 0 validation, 33 test) \n",
       " \n",
       "\n",
       "## Standartized activity codes\n",
       "- 0: sit (210 train, 0 validation, 66 test) \n",
       "- 1: stand (105 train, 0 validation, 33 test) \n",
       "- 2: walk (105 train, 0 validation, 33 test) \n",
       "- 3: stair up (105 train, 0 validation, 33 test) \n",
       "- 4: stair down (105 train, 0 validation, 33 test) \n",
       "- 5: run (105 train, 0 validation, 33 test) \n",
       "      \n",
       "\n",
       "\n"
      ],
      "text/plain": [
       "<IPython.core.display.Markdown object>"
      ]
     },
     "metadata": {},
     "output_type": "display_data"
    }
   ],
   "source": [
    "# UCI-HAR Loader\n",
    "loader = UCIHAR_UnbalancedView20Hz(\n",
    "    \"../../data/views/CHARM/balanced_20Hz_train_test-v1\", \n",
    "    download=False\n",
    ")\n",
    "\n",
    "# Print the readme (optional)\n",
    "loader.print_readme()"
   ]
  },
  {
   "cell_type": "code",
   "execution_count": 25,
   "id": "02250e4f-d2d7-4a8c-8f60-ca359b35dfcf",
   "metadata": {
    "execution": {
     "iopub.execute_input": "2022-10-07T19:07:30.502788Z",
     "iopub.status.busy": "2022-10-07T19:07:30.502251Z",
     "iopub.status.idle": "2022-10-07T19:07:30.597075Z",
     "shell.execute_reply": "2022-10-07T19:07:30.596708Z",
     "shell.execute_reply.started": "2022-10-07T19:07:30.502765Z"
    },
    "tags": []
   },
   "outputs": [
    {
     "data": {
      "text/plain": [
       "(PandasMultiModalDataset: samples=735, features=360, no. window=6, label_columns='activity code',\n",
       " PandasMultiModalDataset: samples=231, features=360, no. window=6, label_columns='activity code')"
      ]
     },
     "execution_count": 25,
     "metadata": {},
     "output_type": "execute_result"
    }
   ],
   "source": [
    "# Load the dataset\n",
    "# If concat_train_validation is true, return a tuple (train+validation, test)\n",
    "train_val, test = loader.load(concat_train_validation=True)\n",
    "train_val, test"
   ]
  }
 ],
 "metadata": {
  "kernelspec": {
   "display_name": "Python 3 (ipykernel)",
   "language": "python",
   "name": "python3"
  },
  "language_info": {
   "codemirror_mode": {
    "name": "ipython",
    "version": 3
   },
   "file_extension": ".py",
   "mimetype": "text/x-python",
   "name": "python",
   "nbconvert_exporter": "python",
   "pygments_lexer": "ipython3",
   "version": "3.8.10"
  }
 },
 "nbformat": 4,
 "nbformat_minor": 5
}
