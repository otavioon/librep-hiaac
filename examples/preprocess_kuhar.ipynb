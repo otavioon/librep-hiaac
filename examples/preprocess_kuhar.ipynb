{
 "cells": [
  {
   "cell_type": "markdown",
   "id": "9a0c0e3e-a130-465c-8aec-671bdd27bf3f",
   "metadata": {},
   "source": [
    "# An Example of Pre-processing KuHar Dataset"
   ]
  },
  {
   "cell_type": "code",
   "execution_count": 1,
   "id": "498254b0-ea10-4f02-b718-d26ce855b77b",
   "metadata": {
    "execution": {
     "iopub.execute_input": "2022-08-15T23:55:18.851537Z",
     "iopub.status.busy": "2022-08-15T23:55:18.851436Z",
     "iopub.status.idle": "2022-08-15T23:55:18.861123Z",
     "shell.execute_reply": "2022-08-15T23:55:18.860837Z",
     "shell.execute_reply.started": "2022-08-15T23:55:18.851523Z"
    },
    "tags": []
   },
   "outputs": [],
   "source": [
    "%load_ext autoreload\n",
    "%autoreload 2\n",
    "\n",
    "import sys\n",
    "\n",
    "sys.path.append(\"..\")"
   ]
  },
  {
   "cell_type": "code",
   "execution_count": 2,
   "id": "fad53baa-1190-4969-9ae9-489321c5966e",
   "metadata": {
    "execution": {
     "iopub.execute_input": "2022-08-15T23:55:18.861732Z",
     "iopub.status.busy": "2022-08-15T23:55:18.861601Z",
     "iopub.status.idle": "2022-08-15T23:55:19.504500Z",
     "shell.execute_reply": "2022-08-15T23:55:19.504110Z",
     "shell.execute_reply.started": "2022-08-15T23:55:18.861718Z"
    },
    "tags": []
   },
   "outputs": [],
   "source": [
    "from pathlib import Path\n",
    "from typing import List\n",
    "import hashlib\n",
    "\n",
    "import numpy as np\n",
    "import pandas as pd\n",
    "\n",
    "from librep.datasets.kuhar import (\n",
    "    RawKuHar,\n",
    "    RawKuHarIterator,\n",
    "    KuHarDatasetGenerator,\n",
    "    KuHarDataset,\n",
    ")\n",
    "\n",
    "from librep.utils.dataset import load_full_data, PandasDatasetsIO\n",
    "\n",
    "%matplotlib inline"
   ]
  },
  {
   "cell_type": "code",
   "execution_count": 3,
   "id": "12bf855c-9947-4174-980c-5942527eaf04",
   "metadata": {
    "execution": {
     "iopub.execute_input": "2022-08-15T23:55:19.505210Z",
     "iopub.status.busy": "2022-08-15T23:55:19.505105Z",
     "iopub.status.idle": "2022-08-15T23:55:19.535701Z",
     "shell.execute_reply": "2022-08-15T23:55:19.535284Z",
     "shell.execute_reply.started": "2022-08-15T23:55:19.505196Z"
    },
    "tags": []
   },
   "outputs": [
    {
     "data": {
      "text/plain": [
       "KuHar Dataset at: '../data/datasets/KuHar/1.Raw_time_domain_data'"
      ]
     },
     "execution_count": 3,
     "metadata": {},
     "output_type": "execute_result"
    }
   ],
   "source": [
    "dataset_dir = Path(\"../data/datasets/KuHar/1.Raw_time_domain_data\")\n",
    "kuhar_dataset = RawKuHar(dataset_dir, download=False)\n",
    "kuhar_dataset"
   ]
  },
  {
   "cell_type": "code",
   "execution_count": 4,
   "id": "366c2abc",
   "metadata": {
    "execution": {
     "iopub.execute_input": "2022-08-15T23:55:19.536422Z",
     "iopub.status.busy": "2022-08-15T23:55:19.536271Z",
     "iopub.status.idle": "2022-08-15T23:55:19.547517Z",
     "shell.execute_reply": "2022-08-15T23:55:19.547090Z",
     "shell.execute_reply.started": "2022-08-15T23:55:19.536405Z"
    },
    "tags": []
   },
   "outputs": [
    {
     "data": {
      "text/plain": [
       "['Stand',\n",
       " 'Sit',\n",
       " 'Talk-sit',\n",
       " 'Talk-stand',\n",
       " 'Stand-sit',\n",
       " 'Lay',\n",
       " 'Lay-stand',\n",
       " 'Pick',\n",
       " 'Jump',\n",
       " 'Push-up',\n",
       " 'Sit-up',\n",
       " 'Walk',\n",
       " 'Walk-backwards',\n",
       " 'Walk-circle',\n",
       " 'Run',\n",
       " 'Stair-up',\n",
       " 'Stair-down',\n",
       " 'Table-tennis']"
      ]
     },
     "execution_count": 4,
     "metadata": {},
     "output_type": "execute_result"
    }
   ],
   "source": [
    "act_names = [kuhar_dataset.activity_names[i] for i in range(18)]\n",
    "act_names"
   ]
  },
  {
   "cell_type": "markdown",
   "id": "52a73f33-547b-444e-b513-e80f50f2eb5d",
   "metadata": {},
   "source": [
    "## Creating a KuHar Balanced View"
   ]
  },
  {
   "cell_type": "code",
   "execution_count": 5,
   "id": "39ffda3f-7686-49d1-a02d-576e4207b6c9",
   "metadata": {
    "execution": {
     "iopub.execute_input": "2022-08-15T23:55:19.548385Z",
     "iopub.status.busy": "2022-08-15T23:55:19.548095Z",
     "iopub.status.idle": "2022-08-15T23:55:19.558173Z",
     "shell.execute_reply": "2022-08-15T23:55:19.557876Z",
     "shell.execute_reply.started": "2022-08-15T23:55:19.548368Z"
    },
    "tags": []
   },
   "outputs": [
    {
     "data": {
      "text/plain": [
       "Kuhar Iterator: users=89, activities=18"
      ]
     },
     "execution_count": 5,
     "metadata": {},
     "output_type": "execute_result"
    }
   ],
   "source": [
    "iterator = RawKuHarIterator(kuhar_dataset)\n",
    "iterator"
   ]
  },
  {
   "cell_type": "code",
   "execution_count": 6,
   "id": "f75a8cb6-5083-44f9-bfbd-50f55836bb75",
   "metadata": {
    "execution": {
     "iopub.execute_input": "2022-08-15T23:55:19.558939Z",
     "iopub.status.busy": "2022-08-15T23:55:19.558794Z",
     "iopub.status.idle": "2022-08-15T23:55:19.568962Z",
     "shell.execute_reply": "2022-08-15T23:55:19.568611Z",
     "shell.execute_reply.started": "2022-08-15T23:55:19.558925Z"
    },
    "tags": []
   },
   "outputs": [
    {
     "data": {
      "text/plain": [
       "Dataset generator: time_window=300, overlap=0"
      ]
     },
     "execution_count": 6,
     "metadata": {},
     "output_type": "execute_result"
    }
   ],
   "source": [
    "kuhar_generator = KuHarDatasetGenerator(iterator, time_window=300, window_overlap=0)\n",
    "kuhar_generator"
   ]
  },
  {
   "cell_type": "code",
   "execution_count": 7,
   "id": "add044d7-6666-4f31-93e5-d4af57e01e56",
   "metadata": {
    "execution": {
     "iopub.execute_input": "2022-08-15T23:55:19.570406Z",
     "iopub.status.busy": "2022-08-15T23:55:19.570261Z",
     "iopub.status.idle": "2022-08-15T23:56:51.377060Z",
     "shell.execute_reply": "2022-08-15T23:56:51.376648Z",
     "shell.execute_reply.started": "2022-08-15T23:55:19.570390Z"
    },
    "tags": []
   },
   "outputs": [
    {
     "name": "stderr",
     "output_type": "stream",
     "text": [
      "Generating full df over KuHar View: 1945it [01:30, 21.46it/s]\n"
     ]
    }
   ],
   "source": [
    "train, validation, test = kuhar_generator.create_datasets(\n",
    "    train_size=0.7,\n",
    "    validation_size=0.1,\n",
    "    test_size=0.2,\n",
    "    ensure_distinct_users_per_dataset=True,\n",
    "    balance_samples=True,\n",
    "    seed=0\n",
    ")"
   ]
  },
  {
   "cell_type": "code",
   "execution_count": 8,
   "id": "9f0dcb11-f07e-4e60-a859-ea209900beb0",
   "metadata": {
    "execution": {
     "iopub.execute_input": "2022-08-15T23:56:51.377918Z",
     "iopub.status.busy": "2022-08-15T23:56:51.377703Z",
     "iopub.status.idle": "2022-08-15T23:56:51.743177Z",
     "shell.execute_reply": "2022-08-15T23:56:51.742746Z",
     "shell.execute_reply.started": "2022-08-15T23:56:51.377886Z"
    },
    "tags": []
   },
   "outputs": [
    {
     "name": "stdout",
     "output_type": "stream",
     "text": [
      "ca61c922fc72ef34f12bb19c954f63e20d552e1c\n",
      "53190325648181a44390dd332815ff82d67b6e66\n",
      "788444769fed9b4a2910739f680a33634a5715dd\n"
     ]
    }
   ],
   "source": [
    "print(hashlib.sha1(pd.util.hash_pandas_object(train).values).hexdigest())\n",
    "print(hashlib.sha1(pd.util.hash_pandas_object(validation).values).hexdigest())\n",
    "print(hashlib.sha1(pd.util.hash_pandas_object(test).values).hexdigest())"
   ]
  },
  {
   "cell_type": "code",
   "execution_count": 9,
   "id": "c7a9cda8-f111-4715-94c2-e474574149ab",
   "metadata": {
    "execution": {
     "iopub.execute_input": "2022-08-15T23:56:51.743870Z",
     "iopub.status.busy": "2022-08-15T23:56:51.743757Z",
     "iopub.status.idle": "2022-08-15T23:56:51.758915Z",
     "shell.execute_reply": "2022-08-15T23:56:51.758464Z",
     "shell.execute_reply.started": "2022-08-15T23:56:51.743855Z"
    },
    "tags": []
   },
   "outputs": [
    {
     "name": "stdout",
     "output_type": "stream",
     "text": [
      "# Balanced KuHar View\n",
      "\n",
      "This view contains train, validation and test subsets in the following proportions:\n",
      "- Train: 70% of samples\n",
      "- Validation: 10% of samples\n",
      "- Test: 20% of samples\n",
      "\n",
      "After splits, the datasets were balanced in relation to the activity code column, that is, each subset have the same number of activitiy samples.\n",
      "\n",
      "## Activities:\n",
      "- 0: Stand (176 train, 13 validation, 24 test)\n",
      "- 1: Sit (176 train, 13 validation, 24 test)\n",
      "- 2: Talk-sit (176 train, 13 validation, 24 test)\n",
      "- 3: Talk-stand (176 train, 13 validation, 24 test)\n",
      "- 4: Stand-sit (176 train, 13 validation, 24 test)\n",
      "- 5: Lay (176 train, 13 validation, 24 test)\n",
      "- 6: Lay-stand (176 train, 13 validation, 24 test)\n",
      "- 7: Pick (176 train, 13 validation, 24 test)\n",
      "- 8: Jump (176 train, 13 validation, 24 test)\n",
      "- 9: Push-up (176 train, 13 validation, 24 test)\n",
      "- 10: Sit-up (176 train, 13 validation, 24 test)\n",
      "- 11: Walk (176 train, 13 validation, 24 test)\n",
      "- 12: Walk-backwards (176 train, 13 validation, 24 test)\n",
      "- 13: Walk-circle (176 train, 13 validation, 24 test)\n",
      "- 14: Run (176 train, 13 validation, 24 test)\n",
      "- 15: Stair-up (176 train, 13 validation, 24 test)\n",
      "- 16: Stair-down (176 train, 13 validation, 24 test)\n",
      "- 17: Table-tennis (176 train, 13 validation, 24 test)\n",
      "\n",
      "## Users\n",
      "- 62 users train dataset: 1002 (86 samples), 1005 (33 samples), 1006 (21 samples), 1007 (29 samples), 1008 (56 samples), 1010 (12 samples), 1013 (48 samples), 1014 (117 samples), 1015 (72 samples), 1016 (26 samples), 1017 (21 samples), 1019 (27 samples), 1020 (25 samples), 1021 (31 samples), 1022 (89 samples), 1024 (103 samples), 1025 (27 samples), 1026 (87 samples), 1027 (54 samples), 1028 (21 samples), 1030 (36 samples), 1031 (46 samples), 1032 (21 samples), 1033 (16 samples), 1034 (120 samples), 1037 (55 samples), 1038 (58 samples), 1039 (105 samples), 1040 (73 samples), 1041 (87 samples), 1042 (81 samples), 1043 (81 samples), 1044 (94 samples), 1045 (59 samples), 1047 (32 samples), 1048 (32 samples), 1049 (31 samples), 1053 (19 samples), 1054 (9 samples), 1055 (29 samples), 1056 (17 samples), 1058 (27 samples), 1060 (30 samples), 1063 (30 samples), 1066 (19 samples), 1067 (15 samples), 1068 (38 samples), 1070 (26 samples), 1071 (41 samples), 1073 (8 samples), 1075 (11 samples), 1076 (29 samples), 1077 (32 samples), 1078 (16 samples), 1079 (15 samples), 1082 (123 samples), 1083 (30 samples), 1084 (28 samples), 1086 (36 samples), 1087 (24 samples), 1088 (30 samples), 1101 (474 samples).\n",
      "- 9 users validation dataset: 1009 (15 samples), 1029 (14 samples), 1035 (2 samples), 1036 (53 samples), 1046 (69 samples), 1052 (22 samples), 1061 (34 samples), 1064 (12 samples), 1090 (13 samples).\n",
      "- 18 users test dataset: 1001 (18 samples), 1003 (26 samples), 1004 (72 samples), 1011 (12 samples), 1018 (21 samples), 1023 (70 samples), 1050 (28 samples), 1051 (21 samples), 1057 (14 samples), 1062 (17 samples), 1065 (17 samples), 1069 (20 samples), 1072 (19 samples), 1074 (15 samples), 1080 (14 samples), 1081 (31 samples), 1085 (6 samples), 1089 (11 samples).\n",
      "\n",
      "**NOTE**: Each subset contain samples from distinct users, that is, samples of one user belongs exclusivelly to one of three subsets.\n",
      "\n",
      "\n"
     ]
    }
   ],
   "source": [
    "output_path = Path(\"../data/views/KuHar/balanced_view\")\n",
    "\n",
    "train_act_samples = train[\"activity code\"].value_counts().to_dict()\n",
    "validation_act_samples = validation[\"activity code\"].value_counts().to_dict()\n",
    "test_act_samples = test[\"activity code\"].value_counts().to_dict()\n",
    "activities = [f\"- {name}: {code} ({train_act_samples[name]} train, {validation_act_samples[name]} validation, {test_act_samples[name]} test)\" for name, code in kuhar_dataset.activity_names.items()]\n",
    "activities = \"\\n\".join(activities)\n",
    "\n",
    "train_users = [f\"{user} ({no_samples} samples)\" for user, no_samples in sorted(train[\"user\"].value_counts().sort_values().items(), key=lambda x: x[0])]\n",
    "train_users = ', '.join(train_users)\n",
    "validation_users = [f\"{user} ({no_samples} samples)\" for user, no_samples in sorted(validation[\"user\"].value_counts().sort_values().items(), key=lambda x: x[0])]\n",
    "validation_users = ', '.join(validation_users)\n",
    "test_users = [f\"{user} ({no_samples} samples)\" for user, no_samples in sorted(test[\"user\"].value_counts().items(), key=lambda x: x[0])]\n",
    "test_users = ', '.join(test_users)\n",
    "\n",
    "\n",
    "description = f\"\"\"# Balanced KuHar View\n",
    "\n",
    "This view contains train, validation and test subsets in the following proportions:\n",
    "- Train: 70% of samples\n",
    "- Validation: 10% of samples\n",
    "- Test: 20% of samples\n",
    "\n",
    "After splits, the datasets were balanced in relation to the activity code column, that is, each subset have the same number of activitiy samples.\n",
    "\n",
    "## Activities:\n",
    "{activities}\n",
    "\n",
    "## Users\n",
    "- {len(train.user.unique())} users train dataset: {train_users}.\n",
    "- {len(validation.user.unique())} users validation dataset: {validation_users}.\n",
    "- {len(test.user.unique())} users test dataset: {test_users}.\n",
    "\n",
    "**NOTE**: Each subset contain samples from distinct users, that is, samples of one user belongs exclusivelly to one of three subsets.\n",
    "\n",
    "\"\"\"\n",
    "\n",
    "print(description)\n",
    "pandas_io = PandasDatasetsIO(output_path)"
   ]
  },
  {
   "cell_type": "code",
   "execution_count": 10,
   "id": "4f4a9c1b-beca-4c22-a84a-319fc341e709",
   "metadata": {
    "execution": {
     "iopub.execute_input": "2022-08-15T23:56:51.759533Z",
     "iopub.status.busy": "2022-08-15T23:56:51.759425Z",
     "iopub.status.idle": "2022-08-15T23:56:56.038853Z",
     "shell.execute_reply": "2022-08-15T23:56:56.038423Z",
     "shell.execute_reply.started": "2022-08-15T23:56:51.759519Z"
    },
    "tags": []
   },
   "outputs": [],
   "source": [
    "pandas_io.save(train=train, validation=validation, test=test, description=description)"
   ]
  },
  {
   "cell_type": "markdown",
   "id": "c56fd8d5-7db8-4e59-ad87-fe3b9aef7ce1",
   "metadata": {},
   "source": [
    "## Creating a Non-Balanced KuHar Balanced View"
   ]
  },
  {
   "cell_type": "code",
   "execution_count": 11,
   "id": "1cb1a94c-594b-4703-86ee-ec3d73611216",
   "metadata": {
    "execution": {
     "iopub.execute_input": "2022-08-15T23:56:56.039497Z",
     "iopub.status.busy": "2022-08-15T23:56:56.039394Z",
     "iopub.status.idle": "2022-08-15T23:58:28.438960Z",
     "shell.execute_reply": "2022-08-15T23:58:28.438513Z",
     "shell.execute_reply.started": "2022-08-15T23:56:56.039484Z"
    }
   },
   "outputs": [
    {
     "name": "stderr",
     "output_type": "stream",
     "text": [
      "Generating full df over KuHar View: 1945it [01:31, 21.37it/s]\n"
     ]
    }
   ],
   "source": [
    "train, validation, test = kuhar_generator.create_datasets(\n",
    "    train_size=0.7,\n",
    "    validation_size=0.1,\n",
    "    test_size=0.2,\n",
    "    ensure_distinct_users_per_dataset=True,\n",
    "    balance_samples=False,\n",
    "    seed=0\n",
    ")"
   ]
  },
  {
   "cell_type": "code",
   "execution_count": 12,
   "id": "6954d3b8-2aed-49d0-b79a-5882b3688f41",
   "metadata": {
    "execution": {
     "iopub.execute_input": "2022-08-15T23:58:28.439640Z",
     "iopub.status.busy": "2022-08-15T23:58:28.439531Z",
     "iopub.status.idle": "2022-08-15T23:58:28.940897Z",
     "shell.execute_reply": "2022-08-15T23:58:28.940411Z",
     "shell.execute_reply.started": "2022-08-15T23:58:28.439626Z"
    }
   },
   "outputs": [
    {
     "name": "stdout",
     "output_type": "stream",
     "text": [
      "7f86d5cebdc4a20af30d506e80f17498af521c92\n",
      "aaf4800108b16aac80b2169331c5d9f112bd21c3\n",
      "c41fa9a09d4641d982c215648a8c2e04eef5abde\n"
     ]
    }
   ],
   "source": [
    "print(hashlib.sha1(pd.util.hash_pandas_object(train).values).hexdigest())\n",
    "print(hashlib.sha1(pd.util.hash_pandas_object(validation).values).hexdigest())\n",
    "print(hashlib.sha1(pd.util.hash_pandas_object(test).values).hexdigest())"
   ]
  },
  {
   "cell_type": "code",
   "execution_count": 13,
   "id": "17174f0d-d729-47cc-9f74-e6bd1abc65cd",
   "metadata": {
    "execution": {
     "iopub.execute_input": "2022-08-15T23:58:28.942014Z",
     "iopub.status.busy": "2022-08-15T23:58:28.941831Z",
     "iopub.status.idle": "2022-08-15T23:58:28.961852Z",
     "shell.execute_reply": "2022-08-15T23:58:28.961354Z",
     "shell.execute_reply.started": "2022-08-15T23:58:28.941990Z"
    }
   },
   "outputs": [
    {
     "name": "stdout",
     "output_type": "stream",
     "text": [
      "# Non-Balanced KuHar View\n",
      "\n",
      "This view contains train, validation and test subsets in the following proportions:\n",
      "- Train: 70% of samples\n",
      "- Validation: 10% of samples\n",
      "- Test: 20% of samples\n",
      "\n",
      "## Activities:\n",
      "- 0: Stand (1391 train, 141 validation, 298 test)\n",
      "- 1: Sit (1401 train, 146 validation, 265 test)\n",
      "- 2: Talk-sit (1356 train, 147 validation, 247 test)\n",
      "- 3: Talk-stand (1405 train, 146 validation, 269 test)\n",
      "- 4: Stand-sit (1552 train, 162 validation, 314 test)\n",
      "- 5: Lay (1359 train, 143 validation, 280 test)\n",
      "- 6: Lay-stand (1340 train, 128 validation, 219 test)\n",
      "- 7: Pick (1029 train, 90 validation, 162 test)\n",
      "- 8: Jump (557 train, 27 validation, 72 test)\n",
      "- 9: Push-up (432 train, 13 validation, 24 test)\n",
      "- 10: Sit-up (894 train, 29 validation, 70 test)\n",
      "- 11: Walk (615 train, 87 validation, 89 test)\n",
      "- 12: Walk-backwards (232 train, 19 validation, 39 test)\n",
      "- 13: Walk-circle (176 train, 21 validation, 44 test)\n",
      "- 14: Run (497 train, 24 validation, 39 test)\n",
      "- 15: Stair-up (752 train, 30 validation, 32 test)\n",
      "- 16: Stair-down (735 train, 27 validation, 31 test)\n",
      "- 17: Table-tennis (261 train, 57 validation, 122 test)\n",
      "\n",
      "## Users\n",
      "- 62 users train dataset: 1002 (486 samples), 1005 (200 samples), 1006 (174 samples), 1007 (211 samples), 1008 (393 samples), 1010 (122 samples), 1013 (351 samples), 1014 (567 samples), 1015 (388 samples), 1016 (195 samples), 1017 (189 samples), 1019 (188 samples), 1020 (180 samples), 1021 (219 samples), 1022 (574 samples), 1024 (371 samples), 1025 (198 samples), 1026 (502 samples), 1027 (266 samples), 1028 (155 samples), 1030 (213 samples), 1031 (214 samples), 1032 (156 samples), 1033 (134 samples), 1034 (540 samples), 1037 (281 samples), 1038 (229 samples), 1039 (480 samples), 1040 (422 samples), 1041 (406 samples), 1042 (317 samples), 1043 (319 samples), 1044 (298 samples), 1045 (260 samples), 1047 (159 samples), 1048 (170 samples), 1049 (172 samples), 1053 (148 samples), 1054 (80 samples), 1055 (193 samples), 1056 (166 samples), 1058 (180 samples), 1060 (189 samples), 1063 (224 samples), 1066 (129 samples), 1067 (113 samples), 1068 (165 samples), 1070 (175 samples), 1071 (260 samples), 1073 (81 samples), 1075 (110 samples), 1076 (188 samples), 1077 (164 samples), 1078 (142 samples), 1079 (149 samples), 1082 (300 samples), 1083 (40 samples), 1084 (45 samples), 1086 (59 samples), 1087 (40 samples), 1088 (40 samples), 1101 (1905 samples).\n",
      "- 9 users validation dataset: 1009 (118 samples), 1029 (180 samples), 1035 (22 samples), 1036 (249 samples), 1046 (280 samples), 1052 (177 samples), 1061 (194 samples), 1064 (160 samples), 1090 (57 samples).\n",
      "- 18 users test dataset: 1001 (177 samples), 1003 (199 samples), 1004 (270 samples), 1011 (165 samples), 1018 (207 samples), 1023 (271 samples), 1050 (154 samples), 1051 (118 samples), 1057 (146 samples), 1062 (127 samples), 1065 (138 samples), 1069 (188 samples), 1072 (138 samples), 1074 (111 samples), 1080 (42 samples), 1081 (83 samples), 1085 (40 samples), 1089 (42 samples).\n",
      "\n",
      "**NOTE**: Each subset contain samples from distinct users, that is, samples of one user belongs exclusivelly to one of three subsets.\n",
      "\n",
      "\n"
     ]
    }
   ],
   "source": [
    "output_path = Path(\"../data/views/KuHar/non_balanced_view\")\n",
    "\n",
    "train_act_samples = train[\"activity code\"].value_counts().to_dict()\n",
    "validation_act_samples = validation[\"activity code\"].value_counts().to_dict()\n",
    "test_act_samples = test[\"activity code\"].value_counts().to_dict()\n",
    "activities = [f\"- {name}: {code} ({train_act_samples[name]} train, {validation_act_samples[name]} validation, {test_act_samples[name]} test)\" for name, code in kuhar_dataset.activity_names.items()]\n",
    "activities = \"\\n\".join(activities)\n",
    "\n",
    "train_users = [f\"{user} ({no_samples} samples)\" for user, no_samples in sorted(train[\"user\"].value_counts().sort_values().items(), key=lambda x: x[0])]\n",
    "train_users = ', '.join(train_users)\n",
    "validation_users = [f\"{user} ({no_samples} samples)\" for user, no_samples in sorted(validation[\"user\"].value_counts().sort_values().items(), key=lambda x: x[0])]\n",
    "validation_users = ', '.join(validation_users)\n",
    "test_users = [f\"{user} ({no_samples} samples)\" for user, no_samples in sorted(test[\"user\"].value_counts().items(), key=lambda x: x[0])]\n",
    "test_users = ', '.join(test_users)\n",
    "\n",
    "\n",
    "description = f\"\"\"# Non-Balanced KuHar View\n",
    "\n",
    "This view contains train, validation and test subsets in the following proportions:\n",
    "- Train: 70% of samples\n",
    "- Validation: 10% of samples\n",
    "- Test: 20% of samples\n",
    "\n",
    "## Activities:\n",
    "{activities}\n",
    "\n",
    "## Users\n",
    "- {len(train.user.unique())} users train dataset: {train_users}.\n",
    "- {len(validation.user.unique())} users validation dataset: {validation_users}.\n",
    "- {len(test.user.unique())} users test dataset: {test_users}.\n",
    "\n",
    "**NOTE**: Each subset contain samples from distinct users, that is, samples of one user belongs exclusivelly to one of three subsets.\n",
    "\n",
    "\"\"\"\n",
    "\n",
    "print(description)\n",
    "pandas_io = PandasDatasetsIO(output_path)"
   ]
  },
  {
   "cell_type": "code",
   "execution_count": 14,
   "id": "f61b795e-de42-498f-a57d-5aebf81c27d0",
   "metadata": {
    "execution": {
     "iopub.execute_input": "2022-08-15T23:58:28.962831Z",
     "iopub.status.busy": "2022-08-15T23:58:28.962669Z",
     "iopub.status.idle": "2022-08-15T23:58:51.858795Z",
     "shell.execute_reply": "2022-08-15T23:58:51.858376Z",
     "shell.execute_reply.started": "2022-08-15T23:58:28.962810Z"
    }
   },
   "outputs": [],
   "source": [
    "pandas_io.save(train=train, validation=validation, test=test, description=description)"
   ]
  },
  {
   "cell_type": "markdown",
   "id": "ba5414e2-1a75-4f51-86aa-0b6606628915",
   "metadata": {},
   "source": [
    "## Creating a Balanced Kuhar with Only MotionSense activities"
   ]
  },
  {
   "cell_type": "code",
   "execution_count": 15,
   "id": "67f96cfd-8a22-4c09-a4bc-841e6eb66b38",
   "metadata": {
    "execution": {
     "iopub.execute_input": "2022-08-15T23:58:51.859605Z",
     "iopub.status.busy": "2022-08-15T23:58:51.859342Z",
     "iopub.status.idle": "2022-08-15T23:58:51.868947Z",
     "shell.execute_reply": "2022-08-15T23:58:51.868614Z",
     "shell.execute_reply.started": "2022-08-15T23:58:51.859590Z"
    },
    "tags": []
   },
   "outputs": [
    {
     "name": "stdout",
     "output_type": "stream",
     "text": [
      "MotionSense equivalent activity codes: [16, 15, 1, 0, 11, 14]\n",
      "The codes will be remaped as motionsense: 16 will become 0, 15 will become 1, 1 will become 2, 0 will become 3, 11 will become 4, 14 will become 5\n"
     ]
    }
   ],
   "source": [
    "activities_to_select = [\n",
    "    \"Stair-down\",\n",
    "    \"Stair-up\",\n",
    "    \"Sit\",\n",
    "    \"Stand\",\n",
    "    \"Walk\",\n",
    "    \"Run\"\n",
    "]\n",
    "\n",
    "activity_codes = [\n",
    "    kuhar_dataset.activity_codes[act_name]\n",
    "    for act_name in activities_to_select\n",
    "]\n",
    "\n",
    "print(f\"MotionSense equivalent activity codes: {activity_codes}\")\n",
    "\n",
    "activity_remap = {\n",
    "    code: i\n",
    "    for i, code in enumerate(activity_codes)\n",
    "}\n",
    "print(f\"The codes will be remaped as motionsense: {', '.join(f'{old} will become {new}' for old, new in activity_remap.items())}\")"
   ]
  },
  {
   "cell_type": "code",
   "execution_count": 16,
   "id": "71c6a470-3954-41ac-abb0-d5d04b5fcbb8",
   "metadata": {
    "execution": {
     "iopub.execute_input": "2022-08-15T23:58:51.869547Z",
     "iopub.status.busy": "2022-08-15T23:58:51.869448Z",
     "iopub.status.idle": "2022-08-15T23:58:51.879221Z",
     "shell.execute_reply": "2022-08-15T23:58:51.878841Z",
     "shell.execute_reply.started": "2022-08-15T23:58:51.869534Z"
    },
    "tags": []
   },
   "outputs": [
    {
     "data": {
      "text/plain": [
       "Kuhar Iterator: users=89, activities=6"
      ]
     },
     "execution_count": 16,
     "metadata": {},
     "output_type": "execute_result"
    }
   ],
   "source": [
    "iterator = RawKuHarIterator(kuhar_dataset, activities=activity_codes)\n",
    "iterator"
   ]
  },
  {
   "cell_type": "code",
   "execution_count": 17,
   "id": "225e66fd-d440-4fd6-b40f-5a9c513d6c89",
   "metadata": {
    "execution": {
     "iopub.execute_input": "2022-08-15T23:58:51.879875Z",
     "iopub.status.busy": "2022-08-15T23:58:51.879766Z",
     "iopub.status.idle": "2022-08-15T23:58:51.890049Z",
     "shell.execute_reply": "2022-08-15T23:58:51.889607Z",
     "shell.execute_reply.started": "2022-08-15T23:58:51.879861Z"
    },
    "tags": []
   },
   "outputs": [
    {
     "data": {
      "text/plain": [
       "Dataset generator: time_window=300, overlap=0"
      ]
     },
     "execution_count": 17,
     "metadata": {},
     "output_type": "execute_result"
    }
   ],
   "source": [
    "kuhar_generator = KuHarDatasetGenerator(iterator, time_window=300, window_overlap=0)\n",
    "kuhar_generator"
   ]
  },
  {
   "cell_type": "code",
   "execution_count": 18,
   "id": "d98151c7-7b23-4e09-812a-a3e30cc7bfb8",
   "metadata": {
    "execution": {
     "iopub.execute_input": "2022-08-15T23:58:51.890785Z",
     "iopub.status.busy": "2022-08-15T23:58:51.890636Z",
     "iopub.status.idle": "2022-08-15T23:59:21.086006Z",
     "shell.execute_reply": "2022-08-15T23:59:21.085641Z",
     "shell.execute_reply.started": "2022-08-15T23:58:51.890765Z"
    },
    "tags": []
   },
   "outputs": [
    {
     "name": "stderr",
     "output_type": "stream",
     "text": [
      "Generating full df over KuHar View: 625it [00:28, 21.74it/s]\n",
      "/home/lopani/Documents/Doutorado/UNICAMP/H.IAAC-Meta4/librep-hiaac/examples/../librep/datasets/kuhar.py:431: SettingWithCopyWarning: \n",
      "A value is trying to be set on a copy of a slice from a DataFrame.\n",
      "Try using .loc[row_indexer,col_indexer] = value instead\n",
      "\n",
      "See the caveats in the documentation: https://pandas.pydata.org/pandas-docs/stable/user_guide/indexing.html#returning-a-view-versus-a-copy\n",
      "  train.replace({\"activity code\": activities_remap}, inplace=True)\n",
      "/home/lopani/Documents/Doutorado/UNICAMP/H.IAAC-Meta4/librep-hiaac/examples/../librep/datasets/kuhar.py:432: SettingWithCopyWarning: \n",
      "A value is trying to be set on a copy of a slice from a DataFrame.\n",
      "Try using .loc[row_indexer,col_indexer] = value instead\n",
      "\n",
      "See the caveats in the documentation: https://pandas.pydata.org/pandas-docs/stable/user_guide/indexing.html#returning-a-view-versus-a-copy\n",
      "  validation.replace({\"activity code\": activities_remap}, inplace=True)\n",
      "/home/lopani/Documents/Doutorado/UNICAMP/H.IAAC-Meta4/librep-hiaac/examples/../librep/datasets/kuhar.py:433: SettingWithCopyWarning: \n",
      "A value is trying to be set on a copy of a slice from a DataFrame.\n",
      "Try using .loc[row_indexer,col_indexer] = value instead\n",
      "\n",
      "See the caveats in the documentation: https://pandas.pydata.org/pandas-docs/stable/user_guide/indexing.html#returning-a-view-versus-a-copy\n",
      "  test.replace({\"activity code\": activities_remap}, inplace=True)\n"
     ]
    }
   ],
   "source": [
    "train, validation, test = kuhar_generator.create_datasets(\n",
    "    train_size=0.7,\n",
    "    validation_size=0.1,\n",
    "    test_size=0.2,\n",
    "    ensure_distinct_users_per_dataset=True,\n",
    "    balance_samples=True,\n",
    "    activities_remap=activity_remap,\n",
    "    seed=0\n",
    ")"
   ]
  },
  {
   "cell_type": "code",
   "execution_count": 19,
   "id": "7c89103e-0285-4e3f-b8e0-119f7942e515",
   "metadata": {
    "execution": {
     "iopub.execute_input": "2022-08-15T23:59:21.086698Z",
     "iopub.status.busy": "2022-08-15T23:59:21.086575Z",
     "iopub.status.idle": "2022-08-15T23:59:21.402982Z",
     "shell.execute_reply": "2022-08-15T23:59:21.402461Z",
     "shell.execute_reply.started": "2022-08-15T23:59:21.086680Z"
    }
   },
   "outputs": [
    {
     "name": "stdout",
     "output_type": "stream",
     "text": [
      "d2f65a92a465ec6c7ed4043ddb0d29d1e2512f4d\n",
      "be157d48d43b077bc741110a36ddede4bbafe27d\n",
      "fef3d897a8fbd6c20f45f70095c69bde637ce057\n"
     ]
    }
   ],
   "source": [
    "print(hashlib.sha1(pd.util.hash_pandas_object(train).values).hexdigest())\n",
    "print(hashlib.sha1(pd.util.hash_pandas_object(validation).values).hexdigest())\n",
    "print(hashlib.sha1(pd.util.hash_pandas_object(test).values).hexdigest())"
   ]
  },
  {
   "cell_type": "code",
   "execution_count": 20,
   "id": "9cd98e09-d7fa-4991-a62c-17e4488c9e80",
   "metadata": {
    "execution": {
     "iopub.execute_input": "2022-08-15T23:59:21.403774Z",
     "iopub.status.busy": "2022-08-15T23:59:21.403638Z",
     "iopub.status.idle": "2022-08-15T23:59:21.417741Z",
     "shell.execute_reply": "2022-08-15T23:59:21.417344Z",
     "shell.execute_reply.started": "2022-08-15T23:59:21.403731Z"
    },
    "tags": []
   },
   "outputs": [
    {
     "name": "stdout",
     "output_type": "stream",
     "text": [
      "# Balanced MotionSense equivalent KuHar Dataset\n",
      "\n",
      "This view contains train, validation and test subsets in the following proportions:\n",
      "- Train: 70% of samples\n",
      "- Validation: 10% of samples\n",
      "- Test: 20% of samples\n",
      "\n",
      "After splits, the datasets were balanced in relation to the activity code column, that is, each subset have the same number of activitiy samples.\n",
      "\n",
      "## Activities:\n",
      "\n",
      "This view contains only samples with activities codes equivalent to MotionSense.\n",
      "In this way, only activities: Stair-down, Stair-up, Sit, Stand, Walk, Run, were selected.\n",
      "To each activity were assigned the same MotionSense activity code, thus: 16 (Stair-down in KuHar) became 0 (in MotionSense), 15 (Stair-up in KuHar) became 1 (in MotionSense), 1 (Sit in KuHar) became 2 (in MotionSense), 0 (Stand in KuHar) became 3 (in MotionSense), 11 (Walk in KuHar) became 4 (in MotionSense), 14 (Run in KuHar) became 5 (in MotionSense)\n",
      "\n",
      "- 0: Stair-down (231 train, 10 validation, 104 test)\n",
      "- 1: Stair-up (231 train, 10 validation, 104 test)\n",
      "- 2: Sit (231 train, 10 validation, 104 test)\n",
      "- 3: Stand (231 train, 10 validation, 104 test)\n",
      "- 4: Walk (231 train, 10 validation, 104 test)\n",
      "- 5: Run (231 train, 10 validation, 104 test)\n",
      "\n",
      "## Users\n",
      "- 56 users train dataset: 1001 (8 samples), 1002 (78 samples), 1003 (11 samples), 1004 (57 samples), 1006 (6 samples), 1007 (9 samples), 1011 (12 samples), 1013 (16 samples), 1014 (35 samples), 1015 (14 samples), 1016 (10 samples), 1017 (5 samples), 1018 (5 samples), 1019 (8 samples), 1021 (4 samples), 1022 (33 samples), 1023 (55 samples), 1024 (93 samples), 1026 (57 samples), 1027 (56 samples), 1028 (6 samples), 1029 (9 samples), 1030 (8 samples), 1032 (7 samples), 1035 (7 samples), 1036 (45 samples), 1037 (48 samples), 1038 (32 samples), 1039 (79 samples), 1040 (59 samples), 1042 (97 samples), 1044 (97 samples), 1045 (47 samples), 1046 (61 samples), 1047 (5 samples), 1048 (9 samples), 1049 (15 samples), 1050 (13 samples), 1053 (8 samples), 1054 (5 samples), 1055 (3 samples), 1057 (4 samples), 1058 (12 samples), 1061 (11 samples), 1062 (10 samples), 1064 (7 samples), 1066 (7 samples), 1067 (2 samples), 1068 (13 samples), 1074 (13 samples), 1075 (15 samples), 1076 (6 samples), 1077 (14 samples), 1078 (10 samples), 1080 (16 samples), 1081 (14 samples).\n",
      "- 7 users validation dataset: 1005 (2 samples), 1031 (6 samples), 1033 (2 samples), 1041 (41 samples), 1051 (4 samples), 1069 (1 samples), 1073 (4 samples).\n",
      "- 17 users test dataset: 1008 (26 samples), 1009 (12 samples), 1010 (11 samples), 1020 (12 samples), 1025 (7 samples), 1034 (100 samples), 1043 (62 samples), 1052 (23 samples), 1056 (9 samples), 1060 (8 samples), 1063 (17 samples), 1065 (12 samples), 1070 (15 samples), 1071 (15 samples), 1072 (7 samples), 1079 (9 samples), 1101 (279 samples).\n",
      "\n",
      "**NOTE**: Each subset contain samples from distinct users, that is, samples of one user belongs exclusivelly to one of three subsets.\n",
      "\n",
      "\n"
     ]
    }
   ],
   "source": [
    "output_path = Path(\"../data/views/KuHar/balanced_motionsense_equivalent_view\")\n",
    "\n",
    "train_act_samples = train[\"activity code\"].value_counts().to_dict()\n",
    "validation_act_samples = validation[\"activity code\"].value_counts().to_dict()\n",
    "test_act_samples = test[\"activity code\"].value_counts().to_dict()\n",
    "activities = [\n",
    "    f\"- {new}: {kuhar_dataset.activity_names[old]} ({train_act_samples[new]} train, {validation_act_samples[new]} validation, {test_act_samples[new]} test)\"\n",
    "    for old, new in activity_remap.items()\n",
    "]\n",
    "activities = \"\\n\".join(activities)\n",
    "\n",
    "train_users = [\n",
    "    f\"{user} ({no_samples} samples)\"\n",
    "    for user, no_samples in sorted(\n",
    "        train[\"user\"].value_counts().sort_values().items(), key=lambda x: x[0]\n",
    "    )\n",
    "]\n",
    "train_users = \", \".join(train_users)\n",
    "validation_users = [\n",
    "    f\"{user} ({no_samples} samples)\"\n",
    "    for user, no_samples in sorted(\n",
    "        validation[\"user\"].value_counts().sort_values().items(), key=lambda x: x[0]\n",
    "    )\n",
    "]\n",
    "validation_users = \", \".join(validation_users)\n",
    "test_users = [\n",
    "    f\"{user} ({no_samples} samples)\"\n",
    "    for user, no_samples in sorted(\n",
    "        test[\"user\"].value_counts().items(), key=lambda x: x[0]\n",
    "    )\n",
    "]\n",
    "test_users = \", \".join(test_users)\n",
    "\n",
    "\n",
    "description = f\"\"\"# Balanced MotionSense equivalent KuHar Dataset\n",
    "\n",
    "This view contains train, validation and test subsets in the following proportions:\n",
    "- Train: 70% of samples\n",
    "- Validation: 10% of samples\n",
    "- Test: 20% of samples\n",
    "\n",
    "After splits, the datasets were balanced in relation to the activity code column, that is, each subset have the same number of activitiy samples.\n",
    "\n",
    "## Activities:\n",
    "\n",
    "This view contains only samples with activities codes equivalent to MotionSense.\n",
    "In this way, only activities: {', '.join(activities_to_select)}, were selected.\n",
    "To each activity were assigned the same MotionSense activity code, thus: {', '.join(f'{old} ({kuhar_dataset.activity_names[old]} in KuHar) became {new} (in MotionSense)' for old, new in activity_remap.items())}\n",
    "\n",
    "{activities}\n",
    "\n",
    "## Users\n",
    "- {len(train.user.unique())} users train dataset: {train_users}.\n",
    "- {len(validation.user.unique())} users validation dataset: {validation_users}.\n",
    "- {len(test.user.unique())} users test dataset: {test_users}.\n",
    "\n",
    "**NOTE**: Each subset contain samples from distinct users, that is, samples of one user belongs exclusivelly to one of three subsets.\n",
    "\n",
    "\"\"\"\n",
    "\n",
    "print(description)\n",
    "pandas_io = PandasDatasetsIO(output_path)"
   ]
  },
  {
   "cell_type": "code",
   "execution_count": 21,
   "id": "dffa79ba-58f2-4b2f-800d-774dc72e10ef",
   "metadata": {
    "execution": {
     "iopub.execute_input": "2022-08-15T23:59:21.418385Z",
     "iopub.status.busy": "2022-08-15T23:59:21.418284Z",
     "iopub.status.idle": "2022-08-15T23:59:23.778478Z",
     "shell.execute_reply": "2022-08-15T23:59:23.777559Z",
     "shell.execute_reply.started": "2022-08-15T23:59:21.418372Z"
    },
    "tags": []
   },
   "outputs": [],
   "source": [
    "pandas_io.save(train=train, validation=validation, test=test, description=description)"
   ]
  },
  {
   "cell_type": "markdown",
   "id": "7627170e-d694-49de-8e22-54bf237980d7",
   "metadata": {},
   "source": [
    "## Creating a Non-Balanced Kuhar with Only MotionSense activities"
   ]
  },
  {
   "cell_type": "code",
   "execution_count": 22,
   "id": "56c243c2-1217-431f-81d2-89c8da98702a",
   "metadata": {
    "execution": {
     "iopub.execute_input": "2022-08-15T23:59:23.780114Z",
     "iopub.status.busy": "2022-08-15T23:59:23.779749Z",
     "iopub.status.idle": "2022-08-15T23:59:52.360967Z",
     "shell.execute_reply": "2022-08-15T23:59:52.360609Z",
     "shell.execute_reply.started": "2022-08-15T23:59:23.780074Z"
    }
   },
   "outputs": [
    {
     "name": "stderr",
     "output_type": "stream",
     "text": [
      "Generating full df over KuHar View: 625it [00:28, 22.08it/s]\n",
      "/home/lopani/Documents/Doutorado/UNICAMP/H.IAAC-Meta4/librep-hiaac/examples/../librep/datasets/kuhar.py:431: SettingWithCopyWarning: \n",
      "A value is trying to be set on a copy of a slice from a DataFrame.\n",
      "Try using .loc[row_indexer,col_indexer] = value instead\n",
      "\n",
      "See the caveats in the documentation: https://pandas.pydata.org/pandas-docs/stable/user_guide/indexing.html#returning-a-view-versus-a-copy\n",
      "  train.replace({\"activity code\": activities_remap}, inplace=True)\n",
      "/home/lopani/Documents/Doutorado/UNICAMP/H.IAAC-Meta4/librep-hiaac/examples/../librep/datasets/kuhar.py:432: SettingWithCopyWarning: \n",
      "A value is trying to be set on a copy of a slice from a DataFrame.\n",
      "Try using .loc[row_indexer,col_indexer] = value instead\n",
      "\n",
      "See the caveats in the documentation: https://pandas.pydata.org/pandas-docs/stable/user_guide/indexing.html#returning-a-view-versus-a-copy\n",
      "  validation.replace({\"activity code\": activities_remap}, inplace=True)\n",
      "/home/lopani/Documents/Doutorado/UNICAMP/H.IAAC-Meta4/librep-hiaac/examples/../librep/datasets/kuhar.py:433: SettingWithCopyWarning: \n",
      "A value is trying to be set on a copy of a slice from a DataFrame.\n",
      "Try using .loc[row_indexer,col_indexer] = value instead\n",
      "\n",
      "See the caveats in the documentation: https://pandas.pydata.org/pandas-docs/stable/user_guide/indexing.html#returning-a-view-versus-a-copy\n",
      "  test.replace({\"activity code\": activities_remap}, inplace=True)\n"
     ]
    }
   ],
   "source": [
    "train, validation, test = kuhar_generator.create_datasets(\n",
    "    train_size=0.7,\n",
    "    validation_size=0.1,\n",
    "    test_size=0.2,\n",
    "    ensure_distinct_users_per_dataset=True,\n",
    "    balance_samples=False,\n",
    "    activities_remap=activity_remap,\n",
    "    seed=0\n",
    ")"
   ]
  },
  {
   "cell_type": "code",
   "execution_count": 23,
   "id": "eea13cb9-0edf-4009-b766-1059a7f38ef4",
   "metadata": {
    "execution": {
     "iopub.execute_input": "2022-08-15T23:59:52.361632Z",
     "iopub.status.busy": "2022-08-15T23:59:52.361526Z",
     "iopub.status.idle": "2022-08-15T23:59:52.695896Z",
     "shell.execute_reply": "2022-08-15T23:59:52.695520Z",
     "shell.execute_reply.started": "2022-08-15T23:59:52.361618Z"
    }
   },
   "outputs": [
    {
     "name": "stdout",
     "output_type": "stream",
     "text": [
      "9bb7b85f4d2225a1c792267e1a6ecc094c90e2e0\n",
      "fc5f14633cc6c27e7a1d6cb880db8309b4a83fa8\n",
      "17afce3067ecec5fd2c1f10b56ac8be08f4fb8ab\n"
     ]
    }
   ],
   "source": [
    "print(hashlib.sha1(pd.util.hash_pandas_object(train).values).hexdigest())\n",
    "print(hashlib.sha1(pd.util.hash_pandas_object(validation).values).hexdigest())\n",
    "print(hashlib.sha1(pd.util.hash_pandas_object(test).values).hexdigest())"
   ]
  },
  {
   "cell_type": "code",
   "execution_count": 24,
   "id": "1345fc75-dc42-4a2b-9910-e1079b5a85a4",
   "metadata": {
    "execution": {
     "iopub.execute_input": "2022-08-15T23:59:52.696683Z",
     "iopub.status.busy": "2022-08-15T23:59:52.696543Z",
     "iopub.status.idle": "2022-08-15T23:59:52.711779Z",
     "shell.execute_reply": "2022-08-15T23:59:52.711344Z",
     "shell.execute_reply.started": "2022-08-15T23:59:52.696668Z"
    }
   },
   "outputs": [
    {
     "name": "stdout",
     "output_type": "stream",
     "text": [
      "# Non-Balanced MotionSense equivalent KuHar Dataset View\n",
      "\n",
      "This view contains train, validation and test subsets in the following proportions:\n",
      "- Train: 70% of samples\n",
      "- Validation: 10% of samples\n",
      "- Test: 20% of samples\n",
      "\n",
      "## Activities:\n",
      "\n",
      "This view contains only samples with activities codes equivalent to MotionSense.\n",
      "In this way, only activities: Stair-down, Stair-up, Sit, Stand, Walk, Run, were selected.\n",
      "To each activity were assigned the same MotionSense activity code, thus: 16 (Stair-down in KuHar) became 0 (in MotionSense), 15 (Stair-up in KuHar) became 1 (in MotionSense), 1 (Sit in KuHar) became 2 (in MotionSense), 0 (Stand in KuHar) became 3 (in MotionSense), 11 (Walk in KuHar) became 4 (in MotionSense), 14 (Run in KuHar) became 5 (in MotionSense)\n",
      "\n",
      "- 0: Stair-down (242 train, 13 validation, 538 test)\n",
      "- 1: Stair-up (254 train, 18 validation, 542 test)\n",
      "- 2: Sit (1273 train, 160 validation, 379 test)\n",
      "- 3: Stand (1273 train, 160 validation, 397 test)\n",
      "- 4: Walk (630 train, 57 validation, 104 test)\n",
      "- 5: Run (231 train, 10 validation, 319 test)\n",
      "\n",
      "## Users\n",
      "- 56 users train dataset: 1001 (42 samples), 1002 (164 samples), 1003 (43 samples), 1004 (94 samples), 1006 (41 samples), 1007 (40 samples), 1011 (40 samples), 1013 (77 samples), 1014 (148 samples), 1015 (79 samples), 1016 (42 samples), 1017 (40 samples), 1018 (40 samples), 1019 (40 samples), 1021 (42 samples), 1022 (145 samples), 1023 (102 samples), 1024 (172 samples), 1026 (152 samples), 1027 (99 samples), 1028 (40 samples), 1029 (40 samples), 1030 (41 samples), 1032 (40 samples), 1035 (22 samples), 1036 (94 samples), 1037 (110 samples), 1038 (85 samples), 1039 (187 samples), 1040 (142 samples), 1042 (163 samples), 1044 (158 samples), 1045 (101 samples), 1046 (115 samples), 1047 (49 samples), 1048 (46 samples), 1049 (51 samples), 1050 (45 samples), 1053 (40 samples), 1054 (40 samples), 1055 (40 samples), 1057 (45 samples), 1058 (40 samples), 1061 (48 samples), 1062 (41 samples), 1064 (44 samples), 1066 (38 samples), 1067 (41 samples), 1068 (58 samples), 1074 (43 samples), 1075 (41 samples), 1076 (41 samples), 1077 (41 samples), 1078 (40 samples), 1080 (26 samples), 1081 (25 samples).\n",
      "- 7 users validation dataset: 1005 (39 samples), 1031 (63 samples), 1033 (40 samples), 1041 (146 samples), 1051 (50 samples), 1069 (40 samples), 1073 (40 samples).\n",
      "- 17 users test dataset: 1008 (80 samples), 1009 (40 samples), 1010 (39 samples), 1020 (42 samples), 1025 (39 samples), 1034 (182 samples), 1043 (152 samples), 1052 (52 samples), 1056 (40 samples), 1060 (39 samples), 1063 (78 samples), 1065 (39 samples), 1070 (40 samples), 1071 (58 samples), 1072 (39 samples), 1079 (41 samples), 1101 (1279 samples).\n",
      "\n",
      "**NOTE**: Each subset contain samples from distinct users, that is, samples of one user belongs exclusivelly to one of three subsets.\n",
      "\n",
      "\n"
     ]
    }
   ],
   "source": [
    "output_path = Path(\"../data/views/KuHar/non_balanced_motionsense_equivalent_view\")\n",
    "\n",
    "train_act_samples = train[\"activity code\"].value_counts().to_dict()\n",
    "validation_act_samples = validation[\"activity code\"].value_counts().to_dict()\n",
    "test_act_samples = test[\"activity code\"].value_counts().to_dict()\n",
    "activities = [\n",
    "    f\"- {new}: {kuhar_dataset.activity_names[old]} ({train_act_samples[new]} train, {validation_act_samples[new]} validation, {test_act_samples[new]} test)\"\n",
    "    for old, new in activity_remap.items()\n",
    "]\n",
    "activities = \"\\n\".join(activities)\n",
    "\n",
    "train_users = [\n",
    "    f\"{user} ({no_samples} samples)\"\n",
    "    for user, no_samples in sorted(\n",
    "        train[\"user\"].value_counts().sort_values().items(), key=lambda x: x[0]\n",
    "    )\n",
    "]\n",
    "train_users = \", \".join(train_users)\n",
    "validation_users = [\n",
    "    f\"{user} ({no_samples} samples)\"\n",
    "    for user, no_samples in sorted(\n",
    "        validation[\"user\"].value_counts().sort_values().items(), key=lambda x: x[0]\n",
    "    )\n",
    "]\n",
    "validation_users = \", \".join(validation_users)\n",
    "test_users = [\n",
    "    f\"{user} ({no_samples} samples)\"\n",
    "    for user, no_samples in sorted(\n",
    "        test[\"user\"].value_counts().items(), key=lambda x: x[0]\n",
    "    )\n",
    "]\n",
    "test_users = \", \".join(test_users)\n",
    "\n",
    "\n",
    "description = f\"\"\"# Non-Balanced MotionSense equivalent KuHar Dataset View\n",
    "\n",
    "This view contains train, validation and test subsets in the following proportions:\n",
    "- Train: 70% of samples\n",
    "- Validation: 10% of samples\n",
    "- Test: 20% of samples\n",
    "\n",
    "## Activities:\n",
    "\n",
    "This view contains only samples with activities codes equivalent to MotionSense.\n",
    "In this way, only activities: {', '.join(activities_to_select)}, were selected.\n",
    "To each activity were assigned the same MotionSense activity code, thus: {', '.join(f'{old} ({kuhar_dataset.activity_names[old]} in KuHar) became {new} (in MotionSense)' for old, new in activity_remap.items())}\n",
    "\n",
    "{activities}\n",
    "\n",
    "## Users\n",
    "- {len(train.user.unique())} users train dataset: {train_users}.\n",
    "- {len(validation.user.unique())} users validation dataset: {validation_users}.\n",
    "- {len(test.user.unique())} users test dataset: {test_users}.\n",
    "\n",
    "**NOTE**: Each subset contain samples from distinct users, that is, samples of one user belongs exclusivelly to one of three subsets.\n",
    "\n",
    "\"\"\"\n",
    "\n",
    "print(description)\n",
    "pandas_io = PandasDatasetsIO(output_path)"
   ]
  },
  {
   "cell_type": "code",
   "execution_count": 25,
   "id": "84a0cb2d-1ba4-44cc-9e19-a679cc9c5d09",
   "metadata": {
    "execution": {
     "iopub.execute_input": "2022-08-15T23:59:52.712433Z",
     "iopub.status.busy": "2022-08-15T23:59:52.712292Z",
     "iopub.status.idle": "2022-08-16T00:00:00.279574Z",
     "shell.execute_reply": "2022-08-16T00:00:00.279153Z",
     "shell.execute_reply.started": "2022-08-15T23:59:52.712418Z"
    },
    "tags": []
   },
   "outputs": [],
   "source": [
    "pandas_io.save(train=train, validation=validation, test=test, description=description)"
   ]
  }
 ],
 "metadata": {
  "kernelspec": {
   "display_name": "Python 3 (ipykernel)",
   "language": "python",
   "name": "python3"
  },
  "language_info": {
   "codemirror_mode": {
    "name": "ipython",
    "version": 3
   },
   "file_extension": ".py",
   "mimetype": "text/x-python",
   "name": "python",
   "nbconvert_exporter": "python",
   "pygments_lexer": "ipython3",
   "version": "3.8.10"
  }
 },
 "nbformat": 4,
 "nbformat_minor": 5
}
