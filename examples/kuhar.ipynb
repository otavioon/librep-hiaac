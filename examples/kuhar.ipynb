{
 "cells": [
  {
   "cell_type": "code",
   "execution_count": 1,
   "id": "4a388f49-f4a3-464a-aaad-eed1456d2020",
   "metadata": {
    "execution": {
     "iopub.execute_input": "2022-08-08T15:43:57.477362Z",
     "iopub.status.busy": "2022-08-08T15:43:57.477231Z",
     "iopub.status.idle": "2022-08-08T15:43:57.485988Z",
     "shell.execute_reply": "2022-08-08T15:43:57.485679Z",
     "shell.execute_reply.started": "2022-08-08T15:43:57.477347Z"
    },
    "tags": []
   },
   "outputs": [],
   "source": [
    "%load_ext autoreload\n",
    "%autoreload 2\n",
    "\n",
    "import sys\n",
    "\n",
    "sys.path.append(\"..\")"
   ]
  },
  {
   "cell_type": "code",
   "execution_count": 2,
   "id": "4812c02f-06b8-432c-957a-d4c110220c96",
   "metadata": {
    "execution": {
     "iopub.execute_input": "2022-08-08T15:43:57.644905Z",
     "iopub.status.busy": "2022-08-08T15:43:57.644767Z",
     "iopub.status.idle": "2022-08-08T15:43:57.906793Z",
     "shell.execute_reply": "2022-08-08T15:43:57.906430Z",
     "shell.execute_reply.started": "2022-08-08T15:43:57.644890Z"
    },
    "tags": []
   },
   "outputs": [],
   "source": [
    "from pathlib import Path\n",
    "\n",
    "from librep.datasets.kuhar import (\n",
    "    RawKuHar,\n",
    "    RawKuHarIterator,\n",
    "    KuHarDatasetGenerator,\n",
    "    KuHarDataset,\n",
    ")"
   ]
  },
  {
   "cell_type": "code",
   "execution_count": 3,
   "id": "02e654af-e35b-4ff3-b04d-d94237248e53",
   "metadata": {
    "execution": {
     "iopub.execute_input": "2022-08-08T15:43:57.919390Z",
     "iopub.status.busy": "2022-08-08T15:43:57.919045Z",
     "iopub.status.idle": "2022-08-08T15:43:57.954104Z",
     "shell.execute_reply": "2022-08-08T15:43:57.953647Z",
     "shell.execute_reply.started": "2022-08-08T15:43:57.919363Z"
    },
    "tags": []
   },
   "outputs": [
    {
     "data": {
      "text/plain": [
       "KuHar Dataset at: '../data/datasets/KuHar/1.Raw_time_domain_data'"
      ]
     },
     "execution_count": 3,
     "metadata": {},
     "output_type": "execute_result"
    }
   ],
   "source": [
    "dataset_dir = Path(\"../data/datasets/KuHar/1.Raw_time_domain_data\")\n",
    "kuhar_dataset = RawKuHar(dataset_dir, download=False)\n",
    "kuhar_dataset"
   ]
  },
  {
   "cell_type": "code",
   "execution_count": 4,
   "id": "5619be67-ece6-4a67-b86b-574421a4d6b0",
   "metadata": {
    "execution": {
     "iopub.execute_input": "2022-08-08T15:43:58.025461Z",
     "iopub.status.busy": "2022-08-08T15:43:58.025245Z",
     "iopub.status.idle": "2022-08-08T15:43:58.035863Z",
     "shell.execute_reply": "2022-08-08T15:43:58.035442Z",
     "shell.execute_reply.started": "2022-08-08T15:43:58.025443Z"
    },
    "tags": []
   },
   "outputs": [
    {
     "data": {
      "text/plain": [
       "Kuhar Iterator: users=89, activities=18"
      ]
     },
     "execution_count": 4,
     "metadata": {},
     "output_type": "execute_result"
    }
   ],
   "source": [
    "iterator = RawKuHarIterator(kuhar_dataset)\n",
    "iterator"
   ]
  },
  {
   "cell_type": "code",
   "execution_count": 5,
   "id": "21f3ee88-3e33-43bd-a309-0e723eb8f6b7",
   "metadata": {
    "execution": {
     "iopub.execute_input": "2022-08-08T15:43:58.255394Z",
     "iopub.status.busy": "2022-08-08T15:43:58.255181Z",
     "iopub.status.idle": "2022-08-08T15:43:58.266113Z",
     "shell.execute_reply": "2022-08-08T15:43:58.265679Z",
     "shell.execute_reply.started": "2022-08-08T15:43:58.255376Z"
    },
    "tags": []
   },
   "outputs": [
    {
     "data": {
      "text/plain": [
       "Dataset generator: time_window=300, overlap=0, labels=class"
      ]
     },
     "execution_count": 5,
     "metadata": {},
     "output_type": "execute_result"
    }
   ],
   "source": [
    "kuhar_v1 = KuHarDatasetGenerator(iterator, time_window=300, window_overlap=0)\n",
    "kuhar_v1"
   ]
  },
  {
   "cell_type": "code",
   "execution_count": 6,
   "id": "9b294019-3764-408f-b303-49b126a948d8",
   "metadata": {
    "execution": {
     "iopub.execute_input": "2022-08-08T15:43:58.715215Z",
     "iopub.status.busy": "2022-08-08T15:43:58.714829Z",
     "iopub.status.idle": "2022-08-08T15:45:30.130068Z",
     "shell.execute_reply": "2022-08-08T15:45:30.129231Z",
     "shell.execute_reply.started": "2022-08-08T15:43:58.715197Z"
    },
    "tags": []
   },
   "outputs": [
    {
     "name": "stderr",
     "output_type": "stream",
     "text": [
      "Generating full df over KuHar View: 1945it [01:30, 21.51it/s]\n"
     ]
    },
    {
     "ename": "TypeError",
     "evalue": "train_test_split() got an unexpected keyword argument 'seed'",
     "output_type": "error",
     "traceback": [
      "\u001b[0;31m---------------------------------------------------------------------------\u001b[0m",
      "\u001b[0;31mTypeError\u001b[0m                                 Traceback (most recent call last)",
      "Input \u001b[0;32mIn [6]\u001b[0m, in \u001b[0;36m<cell line: 1>\u001b[0;34m()\u001b[0m\n\u001b[0;32m----> 1\u001b[0m train, validation, test \u001b[38;5;241m=\u001b[39m \u001b[43mkuhar_v1\u001b[49m\u001b[38;5;241;43m.\u001b[39;49m\u001b[43mcreate_datasets\u001b[49m\u001b[43m(\u001b[49m\n\u001b[1;32m      2\u001b[0m \u001b[43m    \u001b[49m\u001b[43mtrain_size\u001b[49m\u001b[38;5;241;43m=\u001b[39;49m\u001b[38;5;241;43m0.7\u001b[39;49m\u001b[43m,\u001b[49m\n\u001b[1;32m      3\u001b[0m \u001b[43m    \u001b[49m\u001b[43mvalidation_size\u001b[49m\u001b[38;5;241;43m=\u001b[39;49m\u001b[38;5;241;43m0.1\u001b[39;49m\u001b[43m,\u001b[49m\n\u001b[1;32m      4\u001b[0m \u001b[43m    \u001b[49m\u001b[43mtest_size\u001b[49m\u001b[38;5;241;43m=\u001b[39;49m\u001b[38;5;241;43m0.2\u001b[39;49m\u001b[43m,\u001b[49m\n\u001b[1;32m      5\u001b[0m \u001b[43m    \u001b[49m\u001b[43mensure_distinct_users_per_dataset\u001b[49m\u001b[38;5;241;43m=\u001b[39;49m\u001b[38;5;28;43;01mTrue\u001b[39;49;00m\u001b[43m,\u001b[49m\n\u001b[1;32m      6\u001b[0m \u001b[43m    \u001b[49m\u001b[43mbalance_samples\u001b[49m\u001b[38;5;241;43m=\u001b[39;49m\u001b[38;5;28;43;01mTrue\u001b[39;49;00m\u001b[43m,\u001b[49m\n\u001b[1;32m      7\u001b[0m \u001b[43m    \u001b[49m\u001b[43mseed\u001b[49m\u001b[38;5;241;43m=\u001b[39;49m\u001b[38;5;241;43m0\u001b[39;49m\n\u001b[1;32m      8\u001b[0m \u001b[43m)\u001b[49m\n",
      "File \u001b[0;32m~/examples/../librep/datasets/kuhar.py:410\u001b[0m, in \u001b[0;36mKuHarDatasetGenerator.create_datasets\u001b[0;34m(self, train_size, validation_size, test_size, ensure_distinct_users_per_dataset, balance_samples, activities_remap, seed, use_tqdm)\u001b[0m\n\u001b[1;32m    407\u001b[0m users \u001b[38;5;241m=\u001b[39m df[\u001b[38;5;124m\"\u001b[39m\u001b[38;5;124muser\u001b[39m\u001b[38;5;124m\"\u001b[39m]\u001b[38;5;241m.\u001b[39munique()\n\u001b[1;32m    408\u001b[0m activities \u001b[38;5;241m=\u001b[39m df[\u001b[38;5;124m\"\u001b[39m\u001b[38;5;124mclass\u001b[39m\u001b[38;5;124m\"\u001b[39m]\u001b[38;5;241m.\u001b[39munique()\n\u001b[0;32m--> 410\u001b[0m train, validation, test \u001b[38;5;241m=\u001b[39m \u001b[38;5;28;43mself\u001b[39;49m\u001b[38;5;241;43m.\u001b[39;49m\u001b[43mtrain_test_split\u001b[49m\u001b[43m(\u001b[49m\n\u001b[1;32m    411\u001b[0m \u001b[43m    \u001b[49m\u001b[43mdf\u001b[49m\u001b[38;5;241;43m=\u001b[39;49m\u001b[43mdf\u001b[49m\u001b[43m,\u001b[49m\n\u001b[1;32m    412\u001b[0m \u001b[43m    \u001b[49m\u001b[43musers\u001b[49m\u001b[38;5;241;43m=\u001b[39;49m\u001b[43musers\u001b[49m\u001b[43m,\u001b[49m\n\u001b[1;32m    413\u001b[0m \u001b[43m    \u001b[49m\u001b[43mactivities\u001b[49m\u001b[38;5;241;43m=\u001b[39;49m\u001b[43mactivities\u001b[49m\u001b[43m,\u001b[49m\n\u001b[1;32m    414\u001b[0m \u001b[43m    \u001b[49m\u001b[43mtrain_size\u001b[49m\u001b[38;5;241;43m=\u001b[39;49m\u001b[43mtrain_size\u001b[49m\u001b[43m,\u001b[49m\n\u001b[1;32m    415\u001b[0m \u001b[43m    \u001b[49m\u001b[43mvalidation_size\u001b[49m\u001b[38;5;241;43m=\u001b[39;49m\u001b[43mvalidation_size\u001b[49m\u001b[43m,\u001b[49m\n\u001b[1;32m    416\u001b[0m \u001b[43m    \u001b[49m\u001b[43mtest_size\u001b[49m\u001b[38;5;241;43m=\u001b[39;49m\u001b[43mtest_size\u001b[49m\u001b[43m,\u001b[49m\n\u001b[1;32m    417\u001b[0m \u001b[43m    \u001b[49m\u001b[43mensure_distinct_users_per_dataset\u001b[49m\u001b[38;5;241;43m=\u001b[39;49m\u001b[43mensure_distinct_users_per_dataset\u001b[49m\u001b[43m,\u001b[49m\n\u001b[1;32m    418\u001b[0m \u001b[43m    \u001b[49m\u001b[43mseed\u001b[49m\u001b[38;5;241;43m=\u001b[39;49m\u001b[43mseed\u001b[49m\u001b[43m)\u001b[49m\n\u001b[1;32m    420\u001b[0m \u001b[38;5;28;01mif\u001b[39;00m ensure_distinct_users_per_dataset:\n\u001b[1;32m    421\u001b[0m     \u001b[38;5;28;01mif\u001b[39;00m (\u001b[38;5;129;01mnot\u001b[39;00m \u001b[38;5;28mself\u001b[39m\u001b[38;5;241m.\u001b[39mcheck_if_unique_per_df(train, [validation, test]) \u001b[38;5;129;01mor\u001b[39;00m\n\u001b[1;32m    422\u001b[0m             \u001b[38;5;129;01mnot\u001b[39;00m \u001b[38;5;28mself\u001b[39m\u001b[38;5;241m.\u001b[39mcheck_if_unique_per_df(validation, [train, test])\n\u001b[1;32m    423\u001b[0m             \u001b[38;5;129;01mor\u001b[39;00m\n\u001b[1;32m    424\u001b[0m             \u001b[38;5;129;01mnot\u001b[39;00m \u001b[38;5;28mself\u001b[39m\u001b[38;5;241m.\u001b[39mcheck_if_unique_per_df(test, [validation, train])):\n",
      "\u001b[0;31mTypeError\u001b[0m: train_test_split() got an unexpected keyword argument 'seed'"
     ]
    }
   ],
   "source": [
    "train, validation, test = kuhar_v1.create_datasets(\n",
    "    train_size=0.7,\n",
    "    validation_size=0.1,\n",
    "    test_size=0.2,\n",
    "    ensure_distinct_users_per_dataset=True,\n",
    "    balance_samples=True,\n",
    "    seed=0\n",
    ")"
   ]
  },
  {
   "cell_type": "code",
   "execution_count": null,
   "id": "70597700-c437-4a00-9a7f-eaf9b8380454",
   "metadata": {
    "execution": {
     "iopub.status.busy": "2022-08-08T15:45:30.131578Z",
     "iopub.status.idle": "2022-08-08T15:45:30.131775Z",
     "shell.execute_reply": "2022-08-08T15:45:30.131695Z",
     "shell.execute_reply.started": "2022-08-08T15:45:30.131686Z"
    },
    "tags": []
   },
   "outputs": [],
   "source": [
    "train_dataset_accel = KuHarDataset(train, sensors=[\"accel-x\", \"accel-y\", \"accel-z\"], label_columns=[\"class\", \"user\"], as_array=False)\n",
    "train_dataset = KuHarDataset(train)\n",
    "validation_dataset = KuHarDataset(validation)\n",
    "test_dataset = KuHarDataset(test)\n",
    "\n",
    "\n",
    "print(train_dataset_accel)\n",
    "print(train_dataset)\n",
    "print(validation_dataset)\n",
    "print(test_dataset)"
   ]
  },
  {
   "cell_type": "code",
   "execution_count": null,
   "id": "fe83048f-d21a-4b2e-ba8f-2991ce5be916",
   "metadata": {
    "execution": {
     "iopub.status.busy": "2022-08-08T15:45:30.132382Z",
     "iopub.status.idle": "2022-08-08T15:45:30.132609Z",
     "shell.execute_reply": "2022-08-08T15:45:30.132527Z",
     "shell.execute_reply.started": "2022-08-08T15:45:30.132518Z"
    },
    "tags": []
   },
   "outputs": [],
   "source": [
    "from librep.utils.dataset import load_full_data\n",
    "\n",
    "x, y = load_full_data(train_dataset, return_X_y=True)"
   ]
  },
  {
   "cell_type": "code",
   "execution_count": null,
   "id": "373ae3f3-4c7e-476b-8bec-4cfb3d6f3bd3",
   "metadata": {
    "execution": {
     "iopub.status.busy": "2022-08-08T15:45:30.133132Z",
     "iopub.status.idle": "2022-08-08T15:45:30.133367Z",
     "shell.execute_reply": "2022-08-08T15:45:30.133237Z",
     "shell.execute_reply.started": "2022-08-08T15:45:30.133228Z"
    },
    "tags": []
   },
   "outputs": [],
   "source": [
    "x.shape, y.shape"
   ]
  },
  {
   "cell_type": "code",
   "execution_count": null,
   "id": "cc034bcc-6f8c-4199-ac33-94ef73736e80",
   "metadata": {
    "execution": {
     "iopub.status.busy": "2022-08-08T15:45:30.133919Z",
     "iopub.status.idle": "2022-08-08T15:45:30.134078Z",
     "shell.execute_reply": "2022-08-08T15:45:30.134001Z",
     "shell.execute_reply.started": "2022-08-08T15:45:30.133992Z"
    },
    "tags": []
   },
   "outputs": [],
   "source": [
    "x[10], y[10]"
   ]
  },
  {
   "cell_type": "code",
   "execution_count": null,
   "id": "ba380828-ff73-4551-b75d-df6fef8f9d84",
   "metadata": {},
   "outputs": [],
   "source": []
  }
 ],
 "metadata": {
  "kernelspec": {
   "display_name": "Python 3 (ipykernel)",
   "language": "python",
   "name": "python3"
  },
  "language_info": {
   "codemirror_mode": {
    "name": "ipython",
    "version": 3
   },
   "file_extension": ".py",
   "mimetype": "text/x-python",
   "name": "python",
   "nbconvert_exporter": "python",
   "pygments_lexer": "ipython3",
   "version": "3.8.10"
  }
 },
 "nbformat": 4,
 "nbformat_minor": 5
}
