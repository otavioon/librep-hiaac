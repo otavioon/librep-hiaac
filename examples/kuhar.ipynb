{
 "cells": [
  {
   "cell_type": "code",
   "execution_count": 15,
   "id": "4a388f49-f4a3-464a-aaad-eed1456d2020",
   "metadata": {
    "execution": {
     "iopub.execute_input": "2022-07-30T00:08:32.418570Z",
     "iopub.status.busy": "2022-07-30T00:08:32.418319Z",
     "iopub.status.idle": "2022-07-30T00:08:32.441078Z",
     "shell.execute_reply": "2022-07-30T00:08:32.440315Z",
     "shell.execute_reply.started": "2022-07-30T00:08:32.418553Z"
    },
    "tags": []
   },
   "outputs": [
    {
     "name": "stdout",
     "output_type": "stream",
     "text": [
      "The autoreload extension is already loaded. To reload it, use:\n",
      "  %reload_ext autoreload\n"
     ]
    }
   ],
   "source": [
    "%load_ext autoreload\n",
    "%autoreload 2\n",
    "\n",
    "import sys\n",
    "\n",
    "sys.path.append(\"..\")"
   ]
  },
  {
   "cell_type": "code",
   "execution_count": 2,
   "id": "4812c02f-06b8-432c-957a-d4c110220c96",
   "metadata": {
    "execution": {
     "iopub.execute_input": "2022-07-29T18:46:53.759784Z",
     "iopub.status.busy": "2022-07-29T18:46:53.759628Z",
     "iopub.status.idle": "2022-07-29T18:46:54.660099Z",
     "shell.execute_reply": "2022-07-29T18:46:54.659403Z",
     "shell.execute_reply.started": "2022-07-29T18:46:53.759769Z"
    },
    "tags": []
   },
   "outputs": [],
   "source": [
    "from pathlib import Path\n",
    "\n",
    "from librep.datasets.kuhar.raw import RawKuHar, TrimmedRawKuHar\n",
    "from librep.datasets.kuhar.views import KuHarV1, TimeSeriesKuHarView"
   ]
  },
  {
   "cell_type": "code",
   "execution_count": 3,
   "id": "02e654af-e35b-4ff3-b04d-d94237248e53",
   "metadata": {
    "execution": {
     "iopub.execute_input": "2022-07-29T18:46:54.661807Z",
     "iopub.status.busy": "2022-07-29T18:46:54.661027Z",
     "iopub.status.idle": "2022-07-29T18:46:54.688700Z",
     "shell.execute_reply": "2022-07-29T18:46:54.688022Z",
     "shell.execute_reply.started": "2022-07-29T18:46:54.661765Z"
    },
    "tags": []
   },
   "outputs": [
    {
     "data": {
      "text/plain": [
       "KuHar Dataset at: '../data/datasets/KuHar/1.Raw_time_domain_data'"
      ]
     },
     "execution_count": 3,
     "metadata": {},
     "output_type": "execute_result"
    }
   ],
   "source": [
    "dataset_dir = Path(\"../data/datasets/KuHar/1.Raw_time_domain_data\")\n",
    "kuhar_dataset = RawKuHar(dataset_dir, download=False)\n",
    "kuhar_dataset"
   ]
  },
  {
   "cell_type": "code",
   "execution_count": 4,
   "id": "5619be67-ece6-4a67-b86b-574421a4d6b0",
   "metadata": {
    "execution": {
     "iopub.execute_input": "2022-07-29T18:46:54.689773Z",
     "iopub.status.busy": "2022-07-29T18:46:54.689458Z",
     "iopub.status.idle": "2022-07-29T18:46:54.734001Z",
     "shell.execute_reply": "2022-07-29T18:46:54.733302Z",
     "shell.execute_reply.started": "2022-07-29T18:46:54.689756Z"
    },
    "tags": []
   },
   "outputs": [
    {
     "data": {
      "text/plain": [
       "<librep.datasets.kuhar.views.TimeSeriesKuHarView at 0x7f3a4d9d9670>"
      ]
     },
     "execution_count": 4,
     "metadata": {},
     "output_type": "execute_result"
    }
   ],
   "source": [
    "time_series_view = TimeSeriesKuHarView(kuhar_dataset, window=300, overlap=0)\n",
    "time_series_view"
   ]
  },
  {
   "cell_type": "code",
   "execution_count": 5,
   "id": "21f3ee88-3e33-43bd-a309-0e723eb8f6b7",
   "metadata": {
    "execution": {
     "iopub.execute_input": "2022-07-29T18:46:54.736634Z",
     "iopub.status.busy": "2022-07-29T18:46:54.736083Z",
     "iopub.status.idle": "2022-07-29T18:46:54.792538Z",
     "shell.execute_reply": "2022-07-29T18:46:54.791813Z",
     "shell.execute_reply.started": "2022-07-29T18:46:54.736613Z"
    },
    "tags": []
   },
   "outputs": [
    {
     "data": {
      "text/plain": [
       "<librep.datasets.kuhar.views.KuHarV1 at 0x7f3ac58b0bb0>"
      ]
     },
     "execution_count": 5,
     "metadata": {},
     "output_type": "execute_result"
    }
   ],
   "source": [
    "kuhar_v1 = KuHarV1(time_series_view)\n",
    "kuhar_v1"
   ]
  },
  {
   "cell_type": "code",
   "execution_count": 6,
   "id": "9b294019-3764-408f-b303-49b126a948d8",
   "metadata": {
    "execution": {
     "iopub.execute_input": "2022-07-29T18:46:54.793514Z",
     "iopub.status.busy": "2022-07-29T18:46:54.793328Z",
     "iopub.status.idle": "2022-07-29T18:48:50.768302Z",
     "shell.execute_reply": "2022-07-29T18:48:50.767503Z",
     "shell.execute_reply.started": "2022-07-29T18:46:54.793498Z"
    },
    "tags": []
   },
   "outputs": [
    {
     "name": "stderr",
     "output_type": "stream",
     "text": [
      "Generating time windows: 1945it [01:54, 16.94it/s]\n"
     ]
    },
    {
     "name": "stdout",
     "output_type": "stream",
     "text": [
      "PandasDataset: samples=3366, features=1800, label_column='class'\n",
      "PandasDataset: samples=126, features=1800, label_column='class'\n",
      "PandasDataset: samples=702, features=1800, label_column='class'\n"
     ]
    }
   ],
   "source": [
    "train, validation, test = kuhar_v1.generate(\n",
    "    train_size=0.7, validation_size=0.1, test_size=0.2\n",
    ")\n",
    "print(train)\n",
    "print(validation)\n",
    "print(test)"
   ]
  },
  {
   "cell_type": "code",
   "execution_count": 12,
   "id": "fe83048f-d21a-4b2e-ba8f-2991ce5be916",
   "metadata": {
    "execution": {
     "iopub.execute_input": "2022-07-29T18:50:55.336974Z",
     "iopub.status.busy": "2022-07-29T18:50:55.336721Z",
     "iopub.status.idle": "2022-07-29T18:51:00.338757Z",
     "shell.execute_reply": "2022-07-29T18:51:00.338106Z",
     "shell.execute_reply.started": "2022-07-29T18:50:55.336957Z"
    },
    "tags": []
   },
   "outputs": [],
   "source": [
    "from librep.utils.dataset import load_full_data\n",
    "x, y = load_full_data(train, return_X_y=True)"
   ]
  },
  {
   "cell_type": "code",
   "execution_count": 14,
   "id": "373ae3f3-4c7e-476b-8bec-4cfb3d6f3bd3",
   "metadata": {
    "execution": {
     "iopub.execute_input": "2022-07-29T18:51:08.147673Z",
     "iopub.status.busy": "2022-07-29T18:51:08.147228Z",
     "iopub.status.idle": "2022-07-29T18:51:08.158927Z",
     "shell.execute_reply": "2022-07-29T18:51:08.158353Z",
     "shell.execute_reply.started": "2022-07-29T18:51:08.147654Z"
    },
    "tags": []
   },
   "outputs": [
    {
     "data": {
      "text/plain": [
       "((3366, 1800), (3366,))"
      ]
     },
     "execution_count": 14,
     "metadata": {},
     "output_type": "execute_result"
    }
   ],
   "source": [
    "x.shape, y.shape"
   ]
  }
 ],
 "metadata": {
  "kernelspec": {
   "display_name": "Python 3 (ipykernel)",
   "language": "python",
   "name": "python3"
  },
  "language_info": {
   "codemirror_mode": {
    "name": "ipython",
    "version": 3
   },
   "file_extension": ".py",
   "mimetype": "text/x-python",
   "name": "python",
   "nbconvert_exporter": "python",
   "pygments_lexer": "ipython3",
   "version": "3.8.10"
  }
 },
 "nbformat": 4,
 "nbformat_minor": 5
}
