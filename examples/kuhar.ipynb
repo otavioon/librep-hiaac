{
 "cells": [
  {
   "cell_type": "code",
   "execution_count": 1,
   "id": "4a388f49-f4a3-464a-aaad-eed1456d2020",
   "metadata": {
    "execution": {
     "iopub.execute_input": "2022-07-31T14:55:58.460358Z",
     "iopub.status.busy": "2022-07-31T14:55:58.460201Z",
     "iopub.status.idle": "2022-07-31T14:55:58.469702Z",
     "shell.execute_reply": "2022-07-31T14:55:58.469357Z",
     "shell.execute_reply.started": "2022-07-31T14:55:58.460342Z"
    },
    "tags": []
   },
   "outputs": [],
   "source": [
    "%load_ext autoreload\n",
    "%autoreload 2\n",
    "\n",
    "import sys\n",
    "\n",
    "sys.path.append(\"..\")"
   ]
  },
  {
   "cell_type": "code",
   "execution_count": 2,
   "id": "4812c02f-06b8-432c-957a-d4c110220c96",
   "metadata": {
    "execution": {
     "iopub.execute_input": "2022-07-31T14:55:58.470342Z",
     "iopub.status.busy": "2022-07-31T14:55:58.470211Z",
     "iopub.status.idle": "2022-07-31T14:55:58.709366Z",
     "shell.execute_reply": "2022-07-31T14:55:58.708985Z",
     "shell.execute_reply.started": "2022-07-31T14:55:58.470328Z"
    },
    "tags": []
   },
   "outputs": [],
   "source": [
    "from pathlib import Path\n",
    "\n",
    "from librep.datasets.kuhar.raw import RawKuHar\n",
    "from librep.datasets.kuhar.views import KuHarDatasetGenerator, KuHarRawIterator"
   ]
  },
  {
   "cell_type": "code",
   "execution_count": 3,
   "id": "02e654af-e35b-4ff3-b04d-d94237248e53",
   "metadata": {
    "execution": {
     "iopub.execute_input": "2022-07-31T14:55:58.710058Z",
     "iopub.status.busy": "2022-07-31T14:55:58.709947Z",
     "iopub.status.idle": "2022-07-31T14:55:58.732517Z",
     "shell.execute_reply": "2022-07-31T14:55:58.732142Z",
     "shell.execute_reply.started": "2022-07-31T14:55:58.710043Z"
    },
    "tags": []
   },
   "outputs": [
    {
     "data": {
      "text/plain": [
       "KuHar Dataset at: '../data/datasets/KuHar/1.Raw_time_domain_data'"
      ]
     },
     "execution_count": 3,
     "metadata": {},
     "output_type": "execute_result"
    }
   ],
   "source": [
    "dataset_dir = Path(\"../data/datasets/KuHar/1.Raw_time_domain_data\")\n",
    "kuhar_dataset = RawKuHar(dataset_dir, download=False)\n",
    "kuhar_dataset"
   ]
  },
  {
   "cell_type": "code",
   "execution_count": 4,
   "id": "5619be67-ece6-4a67-b86b-574421a4d6b0",
   "metadata": {
    "execution": {
     "iopub.execute_input": "2022-07-31T14:55:58.733226Z",
     "iopub.status.busy": "2022-07-31T14:55:58.733073Z",
     "iopub.status.idle": "2022-07-31T14:55:58.743568Z",
     "shell.execute_reply": "2022-07-31T14:55:58.743146Z",
     "shell.execute_reply.started": "2022-07-31T14:55:58.733207Z"
    },
    "tags": []
   },
   "outputs": [
    {
     "data": {
      "text/plain": [
       "KuharView: users=89, activities=18"
      ]
     },
     "execution_count": 4,
     "metadata": {},
     "output_type": "execute_result"
    }
   ],
   "source": [
    "iterator = KuHarRawIterator(kuhar_dataset)\n",
    "iterator"
   ]
  },
  {
   "cell_type": "code",
   "execution_count": 5,
   "id": "21f3ee88-3e33-43bd-a309-0e723eb8f6b7",
   "metadata": {
    "execution": {
     "iopub.execute_input": "2022-07-31T14:55:58.744522Z",
     "iopub.status.busy": "2022-07-31T14:55:58.744319Z",
     "iopub.status.idle": "2022-07-31T14:55:58.756747Z",
     "shell.execute_reply": "2022-07-31T14:55:58.756427Z",
     "shell.execute_reply.started": "2022-07-31T14:55:58.744499Z"
    },
    "tags": []
   },
   "outputs": [
    {
     "data": {
      "text/plain": [
       "Dataset generator: time_window=300, overlap=0, labels=class"
      ]
     },
     "execution_count": 5,
     "metadata": {},
     "output_type": "execute_result"
    }
   ],
   "source": [
    "kuhar_v1 = KuHarDatasetGenerator(iterator, time_window=300, window_overlap=0)\n",
    "kuhar_v1"
   ]
  },
  {
   "cell_type": "code",
   "execution_count": 6,
   "id": "9b294019-3764-408f-b303-49b126a948d8",
   "metadata": {
    "execution": {
     "iopub.execute_input": "2022-07-31T14:55:58.757386Z",
     "iopub.status.busy": "2022-07-31T14:55:58.757249Z",
     "iopub.status.idle": "2022-07-31T14:57:26.218359Z",
     "shell.execute_reply": "2022-07-31T14:57:26.217858Z",
     "shell.execute_reply.started": "2022-07-31T14:55:58.757371Z"
    },
    "tags": []
   },
   "outputs": [
    {
     "name": "stderr",
     "output_type": "stream",
     "text": [
      "Generating full df over KuHar View: 1945it [01:26, 22.49it/s]\n"
     ]
    },
    {
     "name": "stdout",
     "output_type": "stream",
     "text": [
      "PandasDataset: samples=14279, features=1800, label_column='class'\n",
      "PandasDataset: samples=1424, features=1800, label_column='class'\n",
      "PandasDataset: samples=4334, features=1800, label_column='class'\n"
     ]
    }
   ],
   "source": [
    "train, validation, test = kuhar_v1.create_datasets(\n",
    "    train_size=0.7,\n",
    "    validation_size=0.1,\n",
    "    test_size=0.2,\n",
    "    ensure_distinct_users_per_dataset=False,\n",
    "    balance_samples=False,\n",
    ")\n",
    "print(train)\n",
    "print(validation)\n",
    "print(test)"
   ]
  },
  {
   "cell_type": "code",
   "execution_count": 7,
   "id": "fe83048f-d21a-4b2e-ba8f-2991ce5be916",
   "metadata": {
    "execution": {
     "iopub.execute_input": "2022-07-31T14:57:26.219928Z",
     "iopub.status.busy": "2022-07-31T14:57:26.219765Z",
     "iopub.status.idle": "2022-07-31T14:57:41.882513Z",
     "shell.execute_reply": "2022-07-31T14:57:41.882070Z",
     "shell.execute_reply.started": "2022-07-31T14:57:26.219897Z"
    },
    "tags": []
   },
   "outputs": [],
   "source": [
    "from librep.utils.dataset import load_full_data\n",
    "\n",
    "x, y = load_full_data(train, return_X_y=True)"
   ]
  },
  {
   "cell_type": "code",
   "execution_count": 8,
   "id": "373ae3f3-4c7e-476b-8bec-4cfb3d6f3bd3",
   "metadata": {
    "execution": {
     "iopub.execute_input": "2022-07-31T14:57:41.883184Z",
     "iopub.status.busy": "2022-07-31T14:57:41.883069Z",
     "iopub.status.idle": "2022-07-31T14:57:41.893013Z",
     "shell.execute_reply": "2022-07-31T14:57:41.892638Z",
     "shell.execute_reply.started": "2022-07-31T14:57:41.883169Z"
    },
    "tags": []
   },
   "outputs": [
    {
     "data": {
      "text/plain": [
       "((14279, 1800), (14279,))"
      ]
     },
     "execution_count": 8,
     "metadata": {},
     "output_type": "execute_result"
    }
   ],
   "source": [
    "x.shape, y.shape"
   ]
  },
  {
   "cell_type": "code",
   "execution_count": 11,
   "id": "cc034bcc-6f8c-4199-ac33-94ef73736e80",
   "metadata": {
    "execution": {
     "iopub.execute_input": "2022-07-31T14:58:05.678190Z",
     "iopub.status.busy": "2022-07-31T14:58:05.677715Z",
     "iopub.status.idle": "2022-07-31T14:58:05.692782Z",
     "shell.execute_reply": "2022-07-31T14:58:05.692421Z",
     "shell.execute_reply.started": "2022-07-31T14:58:05.678150Z"
    },
    "tags": []
   },
   "outputs": [
    {
     "data": {
      "text/plain": [
       "(array([6.3103285 , 9.832279  , 7.780205  , ..., 0.5237436 , 0.2836736 ,\n",
       "        0.08453153]),\n",
       " 12)"
      ]
     },
     "execution_count": 11,
     "metadata": {},
     "output_type": "execute_result"
    }
   ],
   "source": [
    "x[10], y[10]"
   ]
  },
  {
   "cell_type": "code",
   "execution_count": null,
   "id": "46a17f52-102d-4824-8c4a-6760850a9b29",
   "metadata": {},
   "outputs": [],
   "source": []
  }
 ],
 "metadata": {
  "kernelspec": {
   "display_name": "Python 3 (ipykernel)",
   "language": "python",
   "name": "python3"
  },
  "language_info": {
   "codemirror_mode": {
    "name": "ipython",
    "version": 3
   },
   "file_extension": ".py",
   "mimetype": "text/x-python",
   "name": "python",
   "nbconvert_exporter": "python",
   "pygments_lexer": "ipython3",
   "version": "3.8.10"
  }
 },
 "nbformat": 4,
 "nbformat_minor": 5
}
