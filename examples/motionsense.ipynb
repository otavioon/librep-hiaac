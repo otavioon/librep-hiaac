{
 "cells": [
  {
   "cell_type": "markdown",
   "id": "faa25327-6b2c-491a-9ed6-718312880e28",
   "metadata": {},
   "source": [
    "# Example of Training with MotionSense"
   ]
  },
  {
   "cell_type": "code",
   "execution_count": 1,
   "id": "e9820ad5-a563-4ba9-912b-aa75f35b67bc",
   "metadata": {
    "execution": {
     "iopub.execute_input": "2022-08-24T16:27:40.508698Z",
     "iopub.status.busy": "2022-08-24T16:27:40.508589Z",
     "iopub.status.idle": "2022-08-24T16:27:40.519479Z",
     "shell.execute_reply": "2022-08-24T16:27:40.518895Z",
     "shell.execute_reply.started": "2022-08-24T16:27:40.508683Z"
    },
    "tags": []
   },
   "outputs": [],
   "source": [
    "%load_ext autoreload\n",
    "%autoreload 2"
   ]
  },
  {
   "cell_type": "code",
   "execution_count": 2,
   "id": "c837fe5a-d359-46c1-8aa8-9a5043ae37f9",
   "metadata": {
    "execution": {
     "iopub.execute_input": "2022-08-24T16:27:40.520404Z",
     "iopub.status.busy": "2022-08-24T16:27:40.520236Z",
     "iopub.status.idle": "2022-08-24T16:27:40.723522Z",
     "shell.execute_reply": "2022-08-24T16:27:40.723073Z",
     "shell.execute_reply.started": "2022-08-24T16:27:40.520387Z"
    },
    "tags": []
   },
   "outputs": [],
   "source": [
    "import sys\n",
    "import pandas as pd\n",
    "from pathlib import Path\n",
    "\n",
    "sys.path.append(\"..\")"
   ]
  },
  {
   "cell_type": "markdown",
   "id": "72fc160c-b7c7-4e15-bf79-6e8d97d9fb50",
   "metadata": {},
   "source": [
    "## Read Processed Data"
   ]
  },
  {
   "cell_type": "code",
   "execution_count": 3,
   "id": "e690c5cf-fa42-43b0-ac01-8fbef4a99498",
   "metadata": {
    "execution": {
     "iopub.execute_input": "2022-08-24T16:27:40.724142Z",
     "iopub.status.busy": "2022-08-24T16:27:40.724040Z",
     "iopub.status.idle": "2022-08-24T16:27:45.722010Z",
     "shell.execute_reply": "2022-08-24T16:27:45.721630Z",
     "shell.execute_reply.started": "2022-08-24T16:27:40.724129Z"
    },
    "tags": []
   },
   "outputs": [],
   "source": [
    "from librep.utils.dataset import PandasDatasetsIO"
   ]
  },
  {
   "cell_type": "code",
   "execution_count": 4,
   "id": "f999085a-ddf5-477d-8f89-e609519e74fe",
   "metadata": {
    "execution": {
     "iopub.execute_input": "2022-08-24T16:27:45.722682Z",
     "iopub.status.busy": "2022-08-24T16:27:45.722564Z",
     "iopub.status.idle": "2022-08-24T16:27:47.030449Z",
     "shell.execute_reply": "2022-08-24T16:27:47.030052Z",
     "shell.execute_reply.started": "2022-08-24T16:27:45.722668Z"
    },
    "tags": []
   },
   "outputs": [],
   "source": [
    "dataset_path = Path(\"../data/views/MotionSense/balanced_view\")\n",
    "train, validation, test = PandasDatasetsIO(dataset_path).load()"
   ]
  },
  {
   "cell_type": "code",
   "execution_count": 5,
   "id": "e75aaf02-e570-4fe8-89f7-272af288d0c8",
   "metadata": {
    "execution": {
     "iopub.execute_input": "2022-08-24T16:27:47.031200Z",
     "iopub.status.busy": "2022-08-24T16:27:47.031054Z",
     "iopub.status.idle": "2022-08-24T16:27:47.113259Z",
     "shell.execute_reply": "2022-08-24T16:27:47.112878Z",
     "shell.execute_reply.started": "2022-08-24T16:27:47.031185Z"
    },
    "tags": []
   },
   "outputs": [
    {
     "data": {
      "text/html": [
       "<div>\n",
       "<style scoped>\n",
       "    .dataframe tbody tr th:only-of-type {\n",
       "        vertical-align: middle;\n",
       "    }\n",
       "\n",
       "    .dataframe tbody tr th {\n",
       "        vertical-align: top;\n",
       "    }\n",
       "\n",
       "    .dataframe thead th {\n",
       "        text-align: right;\n",
       "    }\n",
       "</style>\n",
       "<table border=\"1\" class=\"dataframe\">\n",
       "  <thead>\n",
       "    <tr style=\"text-align: right;\">\n",
       "      <th></th>\n",
       "      <th>Unnamed: 0</th>\n",
       "      <th>attitude.roll-0</th>\n",
       "      <th>attitude.roll-1</th>\n",
       "      <th>attitude.roll-2</th>\n",
       "      <th>attitude.roll-3</th>\n",
       "      <th>attitude.roll-4</th>\n",
       "      <th>attitude.roll-5</th>\n",
       "      <th>attitude.roll-6</th>\n",
       "      <th>attitude.roll-7</th>\n",
       "      <th>attitude.roll-8</th>\n",
       "      <th>...</th>\n",
       "      <th>userAcceleration.z-295</th>\n",
       "      <th>userAcceleration.z-296</th>\n",
       "      <th>userAcceleration.z-297</th>\n",
       "      <th>userAcceleration.z-298</th>\n",
       "      <th>userAcceleration.z-299</th>\n",
       "      <th>activity code</th>\n",
       "      <th>length</th>\n",
       "      <th>trial_code</th>\n",
       "      <th>index</th>\n",
       "      <th>user</th>\n",
       "    </tr>\n",
       "  </thead>\n",
       "  <tbody>\n",
       "    <tr>\n",
       "      <th>0</th>\n",
       "      <td>0</td>\n",
       "      <td>1.093387</td>\n",
       "      <td>1.129419</td>\n",
       "      <td>1.166286</td>\n",
       "      <td>1.176539</td>\n",
       "      <td>1.218638</td>\n",
       "      <td>1.218076</td>\n",
       "      <td>1.169095</td>\n",
       "      <td>1.104227</td>\n",
       "      <td>1.041327</td>\n",
       "      <td>...</td>\n",
       "      <td>0.025803</td>\n",
       "      <td>0.015770</td>\n",
       "      <td>0.109555</td>\n",
       "      <td>0.172113</td>\n",
       "      <td>0.248941</td>\n",
       "      <td>0</td>\n",
       "      <td>300</td>\n",
       "      <td>1</td>\n",
       "      <td>1200</td>\n",
       "      <td>16</td>\n",
       "    </tr>\n",
       "    <tr>\n",
       "      <th>1</th>\n",
       "      <td>1</td>\n",
       "      <td>1.528132</td>\n",
       "      <td>1.527992</td>\n",
       "      <td>1.527765</td>\n",
       "      <td>1.516768</td>\n",
       "      <td>1.493941</td>\n",
       "      <td>1.476302</td>\n",
       "      <td>1.455153</td>\n",
       "      <td>1.441702</td>\n",
       "      <td>1.443440</td>\n",
       "      <td>...</td>\n",
       "      <td>0.578416</td>\n",
       "      <td>0.572674</td>\n",
       "      <td>0.490945</td>\n",
       "      <td>0.345010</td>\n",
       "      <td>0.129649</td>\n",
       "      <td>0</td>\n",
       "      <td>300</td>\n",
       "      <td>1</td>\n",
       "      <td>0</td>\n",
       "      <td>1</td>\n",
       "    </tr>\n",
       "    <tr>\n",
       "      <th>2</th>\n",
       "      <td>2</td>\n",
       "      <td>-1.331274</td>\n",
       "      <td>-1.315688</td>\n",
       "      <td>-1.315034</td>\n",
       "      <td>-1.315621</td>\n",
       "      <td>-1.287623</td>\n",
       "      <td>-1.218232</td>\n",
       "      <td>-1.139884</td>\n",
       "      <td>-1.054611</td>\n",
       "      <td>-0.970854</td>\n",
       "      <td>...</td>\n",
       "      <td>0.102089</td>\n",
       "      <td>0.124263</td>\n",
       "      <td>0.122183</td>\n",
       "      <td>0.125418</td>\n",
       "      <td>0.230901</td>\n",
       "      <td>0</td>\n",
       "      <td>300</td>\n",
       "      <td>2</td>\n",
       "      <td>600</td>\n",
       "      <td>21</td>\n",
       "    </tr>\n",
       "    <tr>\n",
       "      <th>3</th>\n",
       "      <td>3</td>\n",
       "      <td>0.715184</td>\n",
       "      <td>0.679044</td>\n",
       "      <td>0.662668</td>\n",
       "      <td>0.662928</td>\n",
       "      <td>0.670537</td>\n",
       "      <td>0.666622</td>\n",
       "      <td>0.652839</td>\n",
       "      <td>0.662879</td>\n",
       "      <td>0.723967</td>\n",
       "      <td>...</td>\n",
       "      <td>-0.033105</td>\n",
       "      <td>0.119528</td>\n",
       "      <td>0.057709</td>\n",
       "      <td>-0.057865</td>\n",
       "      <td>-0.097547</td>\n",
       "      <td>0</td>\n",
       "      <td>300</td>\n",
       "      <td>11</td>\n",
       "      <td>0</td>\n",
       "      <td>7</td>\n",
       "    </tr>\n",
       "    <tr>\n",
       "      <th>4</th>\n",
       "      <td>4</td>\n",
       "      <td>-2.004835</td>\n",
       "      <td>-2.041697</td>\n",
       "      <td>-2.044302</td>\n",
       "      <td>-2.038474</td>\n",
       "      <td>-2.055756</td>\n",
       "      <td>-2.102689</td>\n",
       "      <td>-2.158746</td>\n",
       "      <td>-2.202283</td>\n",
       "      <td>-2.232511</td>\n",
       "      <td>...</td>\n",
       "      <td>0.072444</td>\n",
       "      <td>0.005214</td>\n",
       "      <td>-0.231522</td>\n",
       "      <td>-0.560348</td>\n",
       "      <td>-0.678777</td>\n",
       "      <td>0</td>\n",
       "      <td>300</td>\n",
       "      <td>2</td>\n",
       "      <td>1800</td>\n",
       "      <td>19</td>\n",
       "    </tr>\n",
       "    <tr>\n",
       "      <th>...</th>\n",
       "      <td>...</td>\n",
       "      <td>...</td>\n",
       "      <td>...</td>\n",
       "      <td>...</td>\n",
       "      <td>...</td>\n",
       "      <td>...</td>\n",
       "      <td>...</td>\n",
       "      <td>...</td>\n",
       "      <td>...</td>\n",
       "      <td>...</td>\n",
       "      <td>...</td>\n",
       "      <td>...</td>\n",
       "      <td>...</td>\n",
       "      <td>...</td>\n",
       "      <td>...</td>\n",
       "      <td>...</td>\n",
       "      <td>...</td>\n",
       "      <td>...</td>\n",
       "      <td>...</td>\n",
       "      <td>...</td>\n",
       "      <td>...</td>\n",
       "    </tr>\n",
       "    <tr>\n",
       "      <th>1909</th>\n",
       "      <td>325</td>\n",
       "      <td>-0.809114</td>\n",
       "      <td>-0.504596</td>\n",
       "      <td>-0.200415</td>\n",
       "      <td>-0.069472</td>\n",
       "      <td>-0.009363</td>\n",
       "      <td>-0.019789</td>\n",
       "      <td>-0.084377</td>\n",
       "      <td>-0.162347</td>\n",
       "      <td>-0.184036</td>\n",
       "      <td>...</td>\n",
       "      <td>-0.754819</td>\n",
       "      <td>-0.570919</td>\n",
       "      <td>-1.006368</td>\n",
       "      <td>-1.232031</td>\n",
       "      <td>-0.321935</td>\n",
       "      <td>5</td>\n",
       "      <td>300</td>\n",
       "      <td>16</td>\n",
       "      <td>0</td>\n",
       "      <td>6</td>\n",
       "    </tr>\n",
       "    <tr>\n",
       "      <th>1910</th>\n",
       "      <td>326</td>\n",
       "      <td>1.225254</td>\n",
       "      <td>1.219554</td>\n",
       "      <td>1.262265</td>\n",
       "      <td>1.213586</td>\n",
       "      <td>1.229215</td>\n",
       "      <td>1.309294</td>\n",
       "      <td>1.371141</td>\n",
       "      <td>1.403459</td>\n",
       "      <td>1.491145</td>\n",
       "      <td>...</td>\n",
       "      <td>1.737598</td>\n",
       "      <td>1.105376</td>\n",
       "      <td>-0.184008</td>\n",
       "      <td>-1.426659</td>\n",
       "      <td>-1.711004</td>\n",
       "      <td>5</td>\n",
       "      <td>300</td>\n",
       "      <td>9</td>\n",
       "      <td>4500</td>\n",
       "      <td>2</td>\n",
       "    </tr>\n",
       "    <tr>\n",
       "      <th>1911</th>\n",
       "      <td>327</td>\n",
       "      <td>3.138105</td>\n",
       "      <td>-3.105622</td>\n",
       "      <td>-3.073557</td>\n",
       "      <td>-3.034694</td>\n",
       "      <td>-2.983038</td>\n",
       "      <td>-2.938967</td>\n",
       "      <td>-2.891639</td>\n",
       "      <td>-2.733605</td>\n",
       "      <td>-1.150408</td>\n",
       "      <td>...</td>\n",
       "      <td>-1.048692</td>\n",
       "      <td>-0.806513</td>\n",
       "      <td>-0.533924</td>\n",
       "      <td>1.383309</td>\n",
       "      <td>-0.669395</td>\n",
       "      <td>5</td>\n",
       "      <td>300</td>\n",
       "      <td>9</td>\n",
       "      <td>0</td>\n",
       "      <td>6</td>\n",
       "    </tr>\n",
       "    <tr>\n",
       "      <th>1912</th>\n",
       "      <td>328</td>\n",
       "      <td>1.476984</td>\n",
       "      <td>1.582842</td>\n",
       "      <td>1.692089</td>\n",
       "      <td>1.797948</td>\n",
       "      <td>1.852740</td>\n",
       "      <td>1.886674</td>\n",
       "      <td>1.885654</td>\n",
       "      <td>1.810233</td>\n",
       "      <td>1.708376</td>\n",
       "      <td>...</td>\n",
       "      <td>-0.326163</td>\n",
       "      <td>-0.657696</td>\n",
       "      <td>-0.787899</td>\n",
       "      <td>0.421130</td>\n",
       "      <td>0.055916</td>\n",
       "      <td>5</td>\n",
       "      <td>300</td>\n",
       "      <td>9</td>\n",
       "      <td>600</td>\n",
       "      <td>2</td>\n",
       "    </tr>\n",
       "    <tr>\n",
       "      <th>1913</th>\n",
       "      <td>329</td>\n",
       "      <td>1.080556</td>\n",
       "      <td>1.184144</td>\n",
       "      <td>1.290674</td>\n",
       "      <td>1.377341</td>\n",
       "      <td>1.504204</td>\n",
       "      <td>1.603406</td>\n",
       "      <td>1.656496</td>\n",
       "      <td>1.690602</td>\n",
       "      <td>1.661182</td>\n",
       "      <td>...</td>\n",
       "      <td>1.386765</td>\n",
       "      <td>1.357538</td>\n",
       "      <td>0.993484</td>\n",
       "      <td>-0.389625</td>\n",
       "      <td>0.076809</td>\n",
       "      <td>5</td>\n",
       "      <td>300</td>\n",
       "      <td>9</td>\n",
       "      <td>1500</td>\n",
       "      <td>2</td>\n",
       "    </tr>\n",
       "  </tbody>\n",
       "</table>\n",
       "<p>1914 rows × 3606 columns</p>\n",
       "</div>"
      ],
      "text/plain": [
       "      Unnamed: 0  attitude.roll-0  attitude.roll-1  attitude.roll-2  \\\n",
       "0              0         1.093387         1.129419         1.166286   \n",
       "1              1         1.528132         1.527992         1.527765   \n",
       "2              2        -1.331274        -1.315688        -1.315034   \n",
       "3              3         0.715184         0.679044         0.662668   \n",
       "4              4        -2.004835        -2.041697        -2.044302   \n",
       "...          ...              ...              ...              ...   \n",
       "1909         325        -0.809114        -0.504596        -0.200415   \n",
       "1910         326         1.225254         1.219554         1.262265   \n",
       "1911         327         3.138105        -3.105622        -3.073557   \n",
       "1912         328         1.476984         1.582842         1.692089   \n",
       "1913         329         1.080556         1.184144         1.290674   \n",
       "\n",
       "      attitude.roll-3  attitude.roll-4  attitude.roll-5  attitude.roll-6  \\\n",
       "0            1.176539         1.218638         1.218076         1.169095   \n",
       "1            1.516768         1.493941         1.476302         1.455153   \n",
       "2           -1.315621        -1.287623        -1.218232        -1.139884   \n",
       "3            0.662928         0.670537         0.666622         0.652839   \n",
       "4           -2.038474        -2.055756        -2.102689        -2.158746   \n",
       "...               ...              ...              ...              ...   \n",
       "1909        -0.069472        -0.009363        -0.019789        -0.084377   \n",
       "1910         1.213586         1.229215         1.309294         1.371141   \n",
       "1911        -3.034694        -2.983038        -2.938967        -2.891639   \n",
       "1912         1.797948         1.852740         1.886674         1.885654   \n",
       "1913         1.377341         1.504204         1.603406         1.656496   \n",
       "\n",
       "      attitude.roll-7  attitude.roll-8  ...  userAcceleration.z-295  \\\n",
       "0            1.104227         1.041327  ...                0.025803   \n",
       "1            1.441702         1.443440  ...                0.578416   \n",
       "2           -1.054611        -0.970854  ...                0.102089   \n",
       "3            0.662879         0.723967  ...               -0.033105   \n",
       "4           -2.202283        -2.232511  ...                0.072444   \n",
       "...               ...              ...  ...                     ...   \n",
       "1909        -0.162347        -0.184036  ...               -0.754819   \n",
       "1910         1.403459         1.491145  ...                1.737598   \n",
       "1911        -2.733605        -1.150408  ...               -1.048692   \n",
       "1912         1.810233         1.708376  ...               -0.326163   \n",
       "1913         1.690602         1.661182  ...                1.386765   \n",
       "\n",
       "      userAcceleration.z-296  userAcceleration.z-297  userAcceleration.z-298  \\\n",
       "0                   0.015770                0.109555                0.172113   \n",
       "1                   0.572674                0.490945                0.345010   \n",
       "2                   0.124263                0.122183                0.125418   \n",
       "3                   0.119528                0.057709               -0.057865   \n",
       "4                   0.005214               -0.231522               -0.560348   \n",
       "...                      ...                     ...                     ...   \n",
       "1909               -0.570919               -1.006368               -1.232031   \n",
       "1910                1.105376               -0.184008               -1.426659   \n",
       "1911               -0.806513               -0.533924                1.383309   \n",
       "1912               -0.657696               -0.787899                0.421130   \n",
       "1913                1.357538                0.993484               -0.389625   \n",
       "\n",
       "      userAcceleration.z-299  activity code  length  trial_code  index  user  \n",
       "0                   0.248941              0     300           1   1200    16  \n",
       "1                   0.129649              0     300           1      0     1  \n",
       "2                   0.230901              0     300           2    600    21  \n",
       "3                  -0.097547              0     300          11      0     7  \n",
       "4                  -0.678777              0     300           2   1800    19  \n",
       "...                      ...            ...     ...         ...    ...   ...  \n",
       "1909               -0.321935              5     300          16      0     6  \n",
       "1910               -1.711004              5     300           9   4500     2  \n",
       "1911               -0.669395              5     300           9      0     6  \n",
       "1912                0.055916              5     300           9    600     2  \n",
       "1913                0.076809              5     300           9   1500     2  \n",
       "\n",
       "[1914 rows x 3606 columns]"
      ]
     },
     "execution_count": 5,
     "metadata": {},
     "output_type": "execute_result"
    }
   ],
   "source": [
    "train = pd.concat([train, validation], ignore_index=True)\n",
    "train"
   ]
  },
  {
   "cell_type": "markdown",
   "id": "ea02b41b-6fb3-4e95-89fd-4c9e4fff921d",
   "metadata": {},
   "source": [
    "## Create the MotionSense Dataset"
   ]
  },
  {
   "cell_type": "code",
   "execution_count": 6,
   "id": "38f8f00f-3c51-47a6-9d1d-84866a5d844d",
   "metadata": {
    "execution": {
     "iopub.execute_input": "2022-08-24T16:27:47.113874Z",
     "iopub.status.busy": "2022-08-24T16:27:47.113758Z",
     "iopub.status.idle": "2022-08-24T16:27:47.140944Z",
     "shell.execute_reply": "2022-08-24T16:27:47.140554Z",
     "shell.execute_reply.started": "2022-08-24T16:27:47.113860Z"
    },
    "tags": []
   },
   "outputs": [],
   "source": [
    "from librep.datasets.common import PandasMultiModalDataset"
   ]
  },
  {
   "cell_type": "code",
   "execution_count": 7,
   "id": "8ab3ea14-32e5-4b29-aacc-674209c7a933",
   "metadata": {
    "execution": {
     "iopub.execute_input": "2022-08-24T16:27:47.142624Z",
     "iopub.status.busy": "2022-08-24T16:27:47.142418Z",
     "iopub.status.idle": "2022-08-24T16:27:47.183058Z",
     "shell.execute_reply": "2022-08-24T16:27:47.182654Z",
     "shell.execute_reply.started": "2022-08-24T16:27:47.142602Z"
    },
    "tags": []
   },
   "outputs": [],
   "source": [
    "features = [\n",
    "    \"userAcceleration.x\",\n",
    "    \"userAcceleration.y\",\n",
    "    \"userAcceleration.z\",\n",
    "    \"rotationRate.x\",\n",
    "    \"rotationRate.y\",\n",
    "    \"rotationRate.z\"\n",
    "]\n",
    "\n",
    "train_dataset = PandasMultiModalDataset(\n",
    "    train,\n",
    "    feature_prefixes=features,\n",
    "    label_columns=\"activity code\",\n",
    "    as_array=True\n",
    ")\n",
    "validation_dataset = PandasMultiModalDataset(\n",
    "    validation,\n",
    "    feature_prefixes=features,\n",
    "    label_columns=\"activity code\",\n",
    "    as_array=True\n",
    ")\n",
    "test_dataset = PandasMultiModalDataset(\n",
    "    test,\n",
    "    feature_prefixes=features,\n",
    "    label_columns=\"activity code\",\n",
    "    as_array=True\n",
    ")"
   ]
  },
  {
   "cell_type": "code",
   "execution_count": 8,
   "id": "f14c259f-7800-4ab9-8890-9f2da8feca99",
   "metadata": {
    "execution": {
     "iopub.execute_input": "2022-08-24T16:27:47.183740Z",
     "iopub.status.busy": "2022-08-24T16:27:47.183602Z",
     "iopub.status.idle": "2022-08-24T16:27:47.213968Z",
     "shell.execute_reply": "2022-08-24T16:27:47.213483Z",
     "shell.execute_reply.started": "2022-08-24T16:27:47.183725Z"
    },
    "tags": []
   },
   "outputs": [
    {
     "data": {
      "text/plain": [
       "(array([-0.120843,  0.470622,  0.269861, ..., -0.046833, -0.283947,\n",
       "        -0.521564]),\n",
       " 0)"
      ]
     },
     "execution_count": 8,
     "metadata": {},
     "output_type": "execute_result"
    }
   ],
   "source": [
    "train_dataset[0]"
   ]
  },
  {
   "cell_type": "code",
   "execution_count": 9,
   "id": "57b6f02d-e0e2-438b-9547-9740ca05d3d1",
   "metadata": {
    "execution": {
     "iopub.execute_input": "2022-08-24T16:27:47.214748Z",
     "iopub.status.busy": "2022-08-24T16:27:47.214596Z",
     "iopub.status.idle": "2022-08-24T16:27:47.241919Z",
     "shell.execute_reply": "2022-08-24T16:27:47.241574Z",
     "shell.execute_reply.started": "2022-08-24T16:27:47.214731Z"
    },
    "tags": []
   },
   "outputs": [
    {
     "data": {
      "text/plain": [
       "([(0, 300), (300, 600), (600, 900), (900, 1200), (1200, 1500), (1500, 1800)],\n",
       " ['userAcceleration.x',\n",
       "  'userAcceleration.y',\n",
       "  'userAcceleration.z',\n",
       "  'rotationRate.x',\n",
       "  'rotationRate.y',\n",
       "  'rotationRate.z'],\n",
       " 6)"
      ]
     },
     "execution_count": 9,
     "metadata": {},
     "output_type": "execute_result"
    }
   ],
   "source": [
    "train_dataset.window_slices, train_dataset.window_names, train_dataset.num_windows"
   ]
  },
  {
   "cell_type": "code",
   "execution_count": 10,
   "id": "91462ee9-e382-4267-b2d6-4ac2308ca961",
   "metadata": {
    "execution": {
     "iopub.execute_input": "2022-08-24T16:27:47.242547Z",
     "iopub.status.busy": "2022-08-24T16:27:47.242409Z",
     "iopub.status.idle": "2022-08-24T16:27:47.267504Z",
     "shell.execute_reply": "2022-08-24T16:27:47.267137Z",
     "shell.execute_reply.started": "2022-08-24T16:27:47.242532Z"
    },
    "tags": []
   },
   "outputs": [],
   "source": [
    "from librep.datasets.common import TransformMultiModalDataset\n",
    "from librep.transforms.fft import FFT"
   ]
  },
  {
   "cell_type": "code",
   "execution_count": 11,
   "id": "efc39e40-e26b-4898-8b3b-e130c9c798ea",
   "metadata": {
    "execution": {
     "iopub.execute_input": "2022-08-24T16:27:47.268281Z",
     "iopub.status.busy": "2022-08-24T16:27:47.268124Z",
     "iopub.status.idle": "2022-08-24T16:27:52.170778Z",
     "shell.execute_reply": "2022-08-24T16:27:52.170366Z",
     "shell.execute_reply.started": "2022-08-24T16:27:47.268265Z"
    },
    "tags": []
   },
   "outputs": [
    {
     "data": {
      "text/plain": [
       "([(0, 300), (300, 600), (600, 900), (900, 1200), (1200, 1500), (1500, 1800)],\n",
       " ['fft.userAcceleration.x',\n",
       "  'fft.userAcceleration.y',\n",
       "  'fft.userAcceleration.z',\n",
       "  'fft.rotationRate.x',\n",
       "  'fft.rotationRate.y',\n",
       "  'fft.rotationRate.z'],\n",
       " 6)"
      ]
     },
     "execution_count": 11,
     "metadata": {},
     "output_type": "execute_result"
    }
   ],
   "source": [
    "fft_transform = FFT()\n",
    "transformer = TransformMultiModalDataset(transforms=[fft_transform], new_window_name_prefix=\"fft.\")\n",
    "train_dataset_fft = transformer(train_dataset)\n",
    "validation_dataset_fft = transformer(validation_dataset)\n",
    "test_dataset_fft = transformer(test_dataset)\n",
    "train_dataset_fft.window_slices, train_dataset_fft.window_names, train_dataset_fft.num_windows"
   ]
  },
  {
   "cell_type": "code",
   "execution_count": 12,
   "id": "b47ac3ca-a4c1-46b0-a81e-07a374bc2216",
   "metadata": {
    "execution": {
     "iopub.execute_input": "2022-08-24T16:27:52.171484Z",
     "iopub.status.busy": "2022-08-24T16:27:52.171351Z",
     "iopub.status.idle": "2022-08-24T16:28:06.422943Z",
     "shell.execute_reply": "2022-08-24T16:28:06.422598Z",
     "shell.execute_reply.started": "2022-08-24T16:27:52.171470Z"
    },
    "tags": []
   },
   "outputs": [
    {
     "data": {
      "text/plain": [
       "([(0, 19), (19, 38), (38, 57), (57, 76), (76, 95), (95, 114)],\n",
       " ['fft-stats.userAcceleration.x',\n",
       "  'fft-stats.userAcceleration.y',\n",
       "  'fft-stats.userAcceleration.z',\n",
       "  'fft-stats.rotationRate.x',\n",
       "  'fft-stats.rotationRate.y',\n",
       "  'fft-stats.rotationRate.z'],\n",
       " 6)"
      ]
     },
     "execution_count": 12,
     "metadata": {},
     "output_type": "execute_result"
    }
   ],
   "source": [
    "from librep.datasets.common import TransformMultiModalDataset\n",
    "from librep.transforms.fft import FFT\n",
    "from librep.transforms.stats import StatsTransform\n",
    "\n",
    "fft_transform = FFT()\n",
    "stats_transform = StatsTransform()\n",
    "transformer = TransformMultiModalDataset(transforms=[fft_transform, stats_transform], new_window_name_prefix=\"fft-stats.\")\n",
    "train_dataset_fft_stats = transformer(train_dataset)\n",
    "validation_dataset_fft_stats = transformer(validation_dataset)\n",
    "test_dataset_fft_stats = transformer(test_dataset)\n",
    "train_dataset_fft_stats.window_slices, train_dataset_fft_stats.window_names, train_dataset_fft_stats.num_windows"
   ]
  },
  {
   "cell_type": "code",
   "execution_count": 13,
   "id": "08b702cd-6940-4bad-a5cb-c47d290efd8e",
   "metadata": {
    "execution": {
     "iopub.execute_input": "2022-08-24T16:28:06.423600Z",
     "iopub.status.busy": "2022-08-24T16:28:06.423488Z",
     "iopub.status.idle": "2022-08-24T16:28:06.495946Z",
     "shell.execute_reply": "2022-08-24T16:28:06.495563Z",
     "shell.execute_reply.started": "2022-08-24T16:28:06.423586Z"
    },
    "tags": []
   },
   "outputs": [
    {
     "data": {
      "text/plain": [
       "([(0, 300),\n",
       "  (300, 600),\n",
       "  (600, 900),\n",
       "  (900, 1200),\n",
       "  (1200, 1500),\n",
       "  (1500, 1800),\n",
       "  (1800, 1819),\n",
       "  (1819, 1838),\n",
       "  (1838, 1857),\n",
       "  (1857, 1876),\n",
       "  (1876, 1895),\n",
       "  (1895, 1914)],\n",
       " ['fft.userAcceleration.x',\n",
       "  'fft.userAcceleration.y',\n",
       "  'fft.userAcceleration.z',\n",
       "  'fft.rotationRate.x',\n",
       "  'fft.rotationRate.y',\n",
       "  'fft.rotationRate.z',\n",
       "  'fft-stats.userAcceleration.x',\n",
       "  'fft-stats.userAcceleration.y',\n",
       "  'fft-stats.userAcceleration.z',\n",
       "  'fft-stats.rotationRate.x',\n",
       "  'fft-stats.rotationRate.y',\n",
       "  'fft-stats.rotationRate.z'],\n",
       " 12)"
      ]
     },
     "execution_count": 13,
     "metadata": {},
     "output_type": "execute_result"
    }
   ],
   "source": [
    "from librep.datasets.common import combine_multi_modal_datasets\n",
    "combined_train_dset = combine_multi_modal_datasets(train_dataset_fft, train_dataset_fft_stats)\n",
    "combined_test_dset = combine_multi_modal_datasets(test_dataset_fft, test_dataset_fft_stats)\n",
    "combined_train_dset.window_slices, combined_train_dset.window_names, combined_train_dset.num_windows"
   ]
  },
  {
   "cell_type": "code",
   "execution_count": 14,
   "id": "b92962e8-9144-4c90-b2ba-7c973d64daf9",
   "metadata": {
    "execution": {
     "iopub.execute_input": "2022-08-24T16:28:06.496646Z",
     "iopub.status.busy": "2022-08-24T16:28:06.496531Z",
     "iopub.status.idle": "2022-08-24T16:28:12.035833Z",
     "shell.execute_reply": "2022-08-24T16:28:12.035375Z",
     "shell.execute_reply.started": "2022-08-24T16:28:06.496630Z"
    },
    "tags": []
   },
   "outputs": [
    {
     "data": {
      "text/plain": [
       "([(0, 100), (100, 200), (200, 300), (300, 400), (400, 500), (500, 600)],\n",
       " ['resample-100-fft.userAcceleration.x',\n",
       "  'resample-100-fft.userAcceleration.y',\n",
       "  'resample-100-fft.userAcceleration.z',\n",
       "  'resample-100-fft.rotationRate.x',\n",
       "  'resample-100-fft.rotationRate.y',\n",
       "  'resample-100-fft.rotationRate.z'],\n",
       " 6)"
      ]
     },
     "execution_count": 14,
     "metadata": {},
     "output_type": "execute_result"
    }
   ],
   "source": [
    "from librep.datasets.common import TransformMultiModalDataset\n",
    "from librep.transforms.fft import FFT\n",
    "from librep.transforms.resampler import SimpleResampler\n",
    "from librep.transforms.stats import StatsTransform\n",
    "\n",
    "resampler = SimpleResampler(new_sample_size=100)\n",
    "fft_transform = FFT()\n",
    "stats_transform = StatsTransform()\n",
    "transformer = TransformMultiModalDataset(transforms=[resampler, fft_transform], new_window_name_prefix=\"resample-100-fft.\")\n",
    "resampled_train_dataset_fft_stats = transformer(train_dataset)\n",
    "resampled_validation_dataset_fft_stats = transformer(validation_dataset)\n",
    "resampled_test_dataset_fft_stats = transformer(test_dataset)\n",
    "resampled_train_dataset_fft_stats.window_slices, resampled_train_dataset_fft_stats.window_names, resampled_train_dataset_fft_stats.num_windows"
   ]
  },
  {
   "cell_type": "markdown",
   "id": "202ae715-f2bb-4dc4-84dc-383ec009776f",
   "metadata": {},
   "source": [
    "## Train"
   ]
  },
  {
   "cell_type": "code",
   "execution_count": 15,
   "id": "cd4dd9da-6371-4c2f-b921-8886f64526ab",
   "metadata": {
    "execution": {
     "iopub.execute_input": "2022-08-24T16:28:12.036649Z",
     "iopub.status.busy": "2022-08-24T16:28:12.036509Z",
     "iopub.status.idle": "2022-08-24T16:28:12.064232Z",
     "shell.execute_reply": "2022-08-24T16:28:12.063872Z",
     "shell.execute_reply.started": "2022-08-24T16:28:12.036635Z"
    },
    "tags": []
   },
   "outputs": [],
   "source": [
    "from librep.utils.workflow import SimpleTrainEvalWorkflow, MultiRunWorkflow\n",
    "from librep.estimators import RandomForestClassifier\n",
    "from librep.metrics.report import ClassificationReport\n",
    "import yaml\n",
    "\n",
    "reporter = ClassificationReport(use_accuracy=True, use_f1_score=True, use_classification_report=False, use_confusion_matrix=False, plot_confusion_matrix=False)\n",
    "experiment = SimpleTrainEvalWorkflow(estimator=RandomForestClassifier, do_not_instantiate=False, do_fit=True, evaluator=reporter)\n",
    "multi_run_experiment = MultiRunWorkflow(workflow=experiment, num_runs=3, debug=False)"
   ]
  },
  {
   "cell_type": "code",
   "execution_count": 16,
   "id": "12670662-e649-4a6f-8574-2c1d39e19b34",
   "metadata": {
    "execution": {
     "iopub.execute_input": "2022-08-24T16:28:12.064962Z",
     "iopub.status.busy": "2022-08-24T16:28:12.064801Z",
     "iopub.status.idle": "2022-08-24T16:28:22.570915Z",
     "shell.execute_reply": "2022-08-24T16:28:22.570392Z",
     "shell.execute_reply.started": "2022-08-24T16:28:12.064947Z"
    },
    "tags": []
   },
   "outputs": [
    {
     "name": "stdout",
     "output_type": "stream",
     "text": [
      "runs:\n",
      "-   end: 1661358495.6756208\n",
      "    result:\n",
      "    -   accuracy: 0.8170731707317073\n",
      "        f1 score (macro): 0.8151771512943607\n",
      "        f1 score (micro): 0.8170731707317073\n",
      "        f1 score (weighted): 0.818969190169054\n",
      "    -   accuracy: 1.0\n",
      "        f1 score (macro): 1.0\n",
      "        f1 score (micro): 1.0\n",
      "        f1 score (weighted): 1.0\n",
      "    -   accuracy: 0.8170731707317073\n",
      "        f1 score (macro): 0.8151771512943607\n",
      "        f1 score (micro): 0.8170731707317073\n",
      "        f1 score (weighted): 0.818969190169054\n",
      "    run id: 1\n",
      "    start: 1661358492.0876389\n",
      "    time taken: 3.587981939315796\n",
      "-   end: 1661358499.126598\n",
      "    result:\n",
      "    -   accuracy: 0.8028455284552846\n",
      "        f1 score (macro): 0.798936696907584\n",
      "        f1 score (micro): 0.8028455284552846\n",
      "        f1 score (weighted): 0.8067543600029852\n",
      "    -   accuracy: 1.0\n",
      "        f1 score (macro): 1.0\n",
      "        f1 score (micro): 1.0\n",
      "        f1 score (weighted): 1.0\n",
      "    -   accuracy: 0.8028455284552846\n",
      "        f1 score (macro): 0.798936696907584\n",
      "        f1 score (micro): 0.8028455284552846\n",
      "        f1 score (weighted): 0.8067543600029852\n",
      "    run id: 2\n",
      "    start: 1661358495.6756227\n",
      "    time taken: 3.450975179672241\n",
      "-   end: 1661358502.5658338\n",
      "    result:\n",
      "    -   accuracy: 0.8028455284552846\n",
      "        f1 score (macro): 0.7996183104696893\n",
      "        f1 score (micro): 0.8028455284552846\n",
      "        f1 score (weighted): 0.8060727464408797\n",
      "    -   accuracy: 1.0\n",
      "        f1 score (macro): 1.0\n",
      "        f1 score (micro): 1.0\n",
      "        f1 score (weighted): 1.0\n",
      "    -   accuracy: 0.8028455284552846\n",
      "        f1 score (macro): 0.7996183104696893\n",
      "        f1 score (micro): 0.8028455284552846\n",
      "        f1 score (weighted): 0.8060727464408797\n",
      "    run id: 3\n",
      "    start: 1661358499.1265993\n",
      "    time taken: 3.439234495162964\n",
      "\n"
     ]
    }
   ],
   "source": [
    "result = multi_run_experiment(train_dataset, [test_dataset, validation_dataset, test_dataset])\n",
    "print(yaml.dump(result, sort_keys=True, indent=4))"
   ]
  },
  {
   "cell_type": "code",
   "execution_count": 17,
   "id": "504f4a90-b09b-4903-9f64-068bd1b6ed6e",
   "metadata": {
    "execution": {
     "iopub.execute_input": "2022-08-24T16:28:22.571894Z",
     "iopub.status.busy": "2022-08-24T16:28:22.571674Z",
     "iopub.status.idle": "2022-08-24T16:28:32.382316Z",
     "shell.execute_reply": "2022-08-24T16:28:32.381804Z",
     "shell.execute_reply.started": "2022-08-24T16:28:22.571874Z"
    },
    "tags": []
   },
   "outputs": [
    {
     "name": "stdout",
     "output_type": "stream",
     "text": [
      "runs:\n",
      "-   end: 1661358505.8749197\n",
      "    result:\n",
      "    -   accuracy: 0.8739837398373984\n",
      "        f1 score (macro): 0.8749246057323559\n",
      "        f1 score (micro): 0.8739837398373984\n",
      "        f1 score (weighted): 0.8730428739424408\n",
      "    run id: 1\n",
      "    start: 1661358502.6077354\n",
      "    time taken: 3.267184257507324\n",
      "-   end: 1661358509.127251\n",
      "    result:\n",
      "    -   accuracy: 0.8739837398373984\n",
      "        f1 score (macro): 0.8746529985547061\n",
      "        f1 score (micro): 0.8739837398373984\n",
      "        f1 score (weighted): 0.8733144811200905\n",
      "    run id: 2\n",
      "    start: 1661358505.8749216\n",
      "    time taken: 3.2523293495178223\n",
      "-   end: 1661358512.3787897\n",
      "    result:\n",
      "    -   accuracy: 0.8821138211382114\n",
      "        f1 score (macro): 0.8822914007362329\n",
      "        f1 score (micro): 0.8821138211382114\n",
      "        f1 score (weighted): 0.88193624154019\n",
      "    run id: 3\n",
      "    start: 1661358509.1272526\n",
      "    time taken: 3.2515370845794678\n",
      "\n"
     ]
    }
   ],
   "source": [
    "result = multi_run_experiment(train_dataset_fft, test_dataset_fft)\n",
    "print(yaml.dump(result, sort_keys=True, indent=4))"
   ]
  },
  {
   "cell_type": "code",
   "execution_count": 18,
   "id": "63dc4d32-c02b-44e0-9d65-bfb0ba7ce39e",
   "metadata": {
    "execution": {
     "iopub.execute_input": "2022-08-24T16:28:32.382933Z",
     "iopub.status.busy": "2022-08-24T16:28:32.382802Z",
     "iopub.status.idle": "2022-08-24T16:28:34.198540Z",
     "shell.execute_reply": "2022-08-24T16:28:34.198146Z",
     "shell.execute_reply.started": "2022-08-24T16:28:32.382919Z"
    },
    "tags": []
   },
   "outputs": [
    {
     "name": "stdout",
     "output_type": "stream",
     "text": [
      "runs:\n",
      "-   end: 1661358513.014757\n",
      "    result:\n",
      "    -   accuracy: 0.8841463414634146\n",
      "        f1 score (macro): 0.8834618755170088\n",
      "        f1 score (micro): 0.8841463414634146\n",
      "        f1 score (weighted): 0.8848308074098206\n",
      "    run id: 1\n",
      "    start: 1661358512.406693\n",
      "    time taken: 0.6080639362335205\n",
      "-   end: 1661358513.6241663\n",
      "    result:\n",
      "    -   accuracy: 0.8943089430894309\n",
      "        f1 score (macro): 0.8938535908395183\n",
      "        f1 score (micro): 0.8943089430894309\n",
      "        f1 score (weighted): 0.8947642953393434\n",
      "    run id: 2\n",
      "    start: 1661358513.014759\n",
      "    time taken: 0.6094071865081787\n",
      "-   end: 1661358514.1949937\n",
      "    result:\n",
      "    -   accuracy: 0.8943089430894309\n",
      "        f1 score (macro): 0.8937693982024348\n",
      "        f1 score (micro): 0.8943089430894309\n",
      "        f1 score (weighted): 0.8948484879764268\n",
      "    run id: 3\n",
      "    start: 1661358513.624168\n",
      "    time taken: 0.5708258152008057\n",
      "\n"
     ]
    }
   ],
   "source": [
    "result = multi_run_experiment(train_dataset_fft_stats, test_dataset_fft_stats)\n",
    "print(yaml.dump(result, sort_keys=True, indent=4))"
   ]
  },
  {
   "cell_type": "code",
   "execution_count": 19,
   "id": "37934d68-4f04-46ef-ad6e-47f1e84f43cb",
   "metadata": {
    "execution": {
     "iopub.execute_input": "2022-08-24T16:28:34.199162Z",
     "iopub.status.busy": "2022-08-24T16:28:34.199057Z",
     "iopub.status.idle": "2022-08-24T16:28:43.428228Z",
     "shell.execute_reply": "2022-08-24T16:28:43.427746Z",
     "shell.execute_reply.started": "2022-08-24T16:28:34.199149Z"
    },
    "tags": []
   },
   "outputs": [
    {
     "name": "stdout",
     "output_type": "stream",
     "text": [
      "runs:\n",
      "-   end: 1661358517.3558223\n",
      "    result:\n",
      "    -   accuracy: 0.9146341463414634\n",
      "        f1 score (macro): 0.9144495847390727\n",
      "        f1 score (micro): 0.9146341463414634\n",
      "        f1 score (weighted): 0.9148187079438542\n",
      "    run id: 1\n",
      "    start: 1661358514.2219176\n",
      "    time taken: 3.1339046955108643\n",
      "-   end: 1661358520.3571053\n",
      "    result:\n",
      "    -   accuracy: 0.9207317073170732\n",
      "        f1 score (macro): 0.9206176698645715\n",
      "        f1 score (micro): 0.9207317073170733\n",
      "        f1 score (weighted): 0.9208457447695747\n",
      "    run id: 2\n",
      "    start: 1661358517.3558238\n",
      "    time taken: 3.001281499862671\n",
      "-   end: 1661358523.4246764\n",
      "    result:\n",
      "    -   accuracy: 0.9146341463414634\n",
      "        f1 score (macro): 0.9145765580734723\n",
      "        f1 score (micro): 0.9146341463414634\n",
      "        f1 score (weighted): 0.9146917346094545\n",
      "    run id: 3\n",
      "    start: 1661358520.357107\n",
      "    time taken: 3.0675694942474365\n",
      "\n"
     ]
    }
   ],
   "source": [
    "result = multi_run_experiment(combined_train_dset, combined_test_dset)\n",
    "print(yaml.dump(result, sort_keys=True, indent=4))"
   ]
  },
  {
   "cell_type": "code",
   "execution_count": 20,
   "id": "0ed10449-10b9-4ae9-abb6-aec6cedc32d1",
   "metadata": {
    "execution": {
     "iopub.execute_input": "2022-08-24T16:28:43.428896Z",
     "iopub.status.busy": "2022-08-24T16:28:43.428791Z",
     "iopub.status.idle": "2022-08-24T16:28:48.839753Z",
     "shell.execute_reply": "2022-08-24T16:28:48.839203Z",
     "shell.execute_reply.started": "2022-08-24T16:28:43.428882Z"
    }
   },
   "outputs": [
    {
     "name": "stdout",
     "output_type": "stream",
     "text": [
      "runs:\n",
      "-   end: 1661358525.2980206\n",
      "    result:\n",
      "    -   accuracy: 0.8922764227642277\n",
      "        f1 score (macro): 0.8928631115978655\n",
      "        f1 score (micro): 0.8922764227642277\n",
      "        f1 score (weighted): 0.8916897339305897\n",
      "    run id: 1\n",
      "    start: 1661358523.4526699\n",
      "    time taken: 1.845350742340088\n",
      "-   end: 1661358527.0441542\n",
      "    result:\n",
      "    -   accuracy: 0.8943089430894309\n",
      "        f1 score (macro): 0.8954620898421632\n",
      "        f1 score (micro): 0.8943089430894309\n",
      "        f1 score (weighted): 0.8931557963366987\n",
      "    run id: 2\n",
      "    start: 1661358525.2980227\n",
      "    time taken: 1.746131420135498\n",
      "-   end: 1661358528.8356023\n",
      "    result:\n",
      "    -   accuracy: 0.8882113821138211\n",
      "        f1 score (macro): 0.8889239243704087\n",
      "        f1 score (micro): 0.8882113821138212\n",
      "        f1 score (weighted): 0.8874988398572334\n",
      "    run id: 3\n",
      "    start: 1661358527.0441558\n",
      "    time taken: 1.7914464473724365\n",
      "\n"
     ]
    }
   ],
   "source": [
    "result = multi_run_experiment(resampled_train_dataset_fft_stats, resampled_test_dataset_fft_stats)\n",
    "print(yaml.dump(result, sort_keys=True, indent=4))"
   ]
  },
  {
   "cell_type": "code",
   "execution_count": null,
   "id": "34407f64-d71c-46bb-995e-bde1e5cfcf9a",
   "metadata": {},
   "outputs": [],
   "source": []
  }
 ],
 "metadata": {
  "kernelspec": {
   "display_name": "Python 3 (ipykernel)",
   "language": "python",
   "name": "python3"
  },
  "language_info": {
   "codemirror_mode": {
    "name": "ipython",
    "version": 3
   },
   "file_extension": ".py",
   "mimetype": "text/x-python",
   "name": "python",
   "nbconvert_exporter": "python",
   "pygments_lexer": "ipython3",
   "version": "3.8.10"
  }
 },
 "nbformat": 4,
 "nbformat_minor": 5
}
