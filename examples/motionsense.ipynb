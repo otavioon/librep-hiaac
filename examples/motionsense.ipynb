{
 "cells": [
  {
   "cell_type": "markdown",
   "id": "faa25327-6b2c-491a-9ed6-718312880e28",
   "metadata": {},
   "source": [
    "# Example of Training with MotionSense"
   ]
  },
  {
   "cell_type": "code",
   "execution_count": 21,
   "id": "e9820ad5-a563-4ba9-912b-aa75f35b67bc",
   "metadata": {
    "execution": {
     "iopub.execute_input": "2022-08-26T13:10:56.209997Z",
     "iopub.status.busy": "2022-08-26T13:10:56.209805Z",
     "iopub.status.idle": "2022-08-26T13:10:56.239668Z",
     "shell.execute_reply": "2022-08-26T13:10:56.239208Z",
     "shell.execute_reply.started": "2022-08-26T13:10:56.209980Z"
    },
    "tags": []
   },
   "outputs": [
    {
     "name": "stdout",
     "output_type": "stream",
     "text": [
      "The autoreload extension is already loaded. To reload it, use:\n",
      "  %reload_ext autoreload\n"
     ]
    }
   ],
   "source": [
    "%load_ext autoreload\n",
    "%autoreload 2"
   ]
  },
  {
   "cell_type": "code",
   "execution_count": 22,
   "id": "c837fe5a-d359-46c1-8aa8-9a5043ae37f9",
   "metadata": {
    "execution": {
     "iopub.execute_input": "2022-08-26T13:10:57.311953Z",
     "iopub.status.busy": "2022-08-26T13:10:57.311773Z",
     "iopub.status.idle": "2022-08-26T13:10:57.341838Z",
     "shell.execute_reply": "2022-08-26T13:10:57.341440Z",
     "shell.execute_reply.started": "2022-08-26T13:10:57.311937Z"
    },
    "tags": []
   },
   "outputs": [],
   "source": [
    "import sys\n",
    "import pandas as pd\n",
    "from pathlib import Path\n",
    "\n",
    "sys.path.append(\"..\")"
   ]
  },
  {
   "cell_type": "markdown",
   "id": "72fc160c-b7c7-4e15-bf79-6e8d97d9fb50",
   "metadata": {},
   "source": [
    "## Read Processed Data"
   ]
  },
  {
   "cell_type": "code",
   "execution_count": 23,
   "id": "e690c5cf-fa42-43b0-ac01-8fbef4a99498",
   "metadata": {
    "execution": {
     "iopub.execute_input": "2022-08-26T13:11:01.328937Z",
     "iopub.status.busy": "2022-08-26T13:11:01.328679Z",
     "iopub.status.idle": "2022-08-26T13:11:01.358011Z",
     "shell.execute_reply": "2022-08-26T13:11:01.357530Z",
     "shell.execute_reply.started": "2022-08-26T13:11:01.328913Z"
    },
    "tags": []
   },
   "outputs": [],
   "source": [
    "from librep.utils.dataset import PandasDatasetsIO"
   ]
  },
  {
   "cell_type": "code",
   "execution_count": 24,
   "id": "f999085a-ddf5-477d-8f89-e609519e74fe",
   "metadata": {
    "execution": {
     "iopub.execute_input": "2022-08-26T13:11:03.625750Z",
     "iopub.status.busy": "2022-08-26T13:11:03.625562Z",
     "iopub.status.idle": "2022-08-26T13:11:04.972952Z",
     "shell.execute_reply": "2022-08-26T13:11:04.972514Z",
     "shell.execute_reply.started": "2022-08-26T13:11:03.625733Z"
    },
    "tags": []
   },
   "outputs": [],
   "source": [
    "dataset_path = Path(\"../data/views/MotionSense/balanced_view\")\n",
    "train, validation, test = PandasDatasetsIO(dataset_path).load()"
   ]
  },
  {
   "cell_type": "code",
   "execution_count": 25,
   "id": "e75aaf02-e570-4fe8-89f7-272af288d0c8",
   "metadata": {
    "execution": {
     "iopub.execute_input": "2022-08-26T13:11:05.373794Z",
     "iopub.status.busy": "2022-08-26T13:11:05.373652Z",
     "iopub.status.idle": "2022-08-26T13:11:05.473329Z",
     "shell.execute_reply": "2022-08-26T13:11:05.472973Z",
     "shell.execute_reply.started": "2022-08-26T13:11:05.373778Z"
    },
    "tags": []
   },
   "outputs": [
    {
     "data": {
      "text/html": [
       "<div>\n",
       "<style scoped>\n",
       "    .dataframe tbody tr th:only-of-type {\n",
       "        vertical-align: middle;\n",
       "    }\n",
       "\n",
       "    .dataframe tbody tr th {\n",
       "        vertical-align: top;\n",
       "    }\n",
       "\n",
       "    .dataframe thead th {\n",
       "        text-align: right;\n",
       "    }\n",
       "</style>\n",
       "<table border=\"1\" class=\"dataframe\">\n",
       "  <thead>\n",
       "    <tr style=\"text-align: right;\">\n",
       "      <th></th>\n",
       "      <th>Unnamed: 0</th>\n",
       "      <th>attitude.roll-0</th>\n",
       "      <th>attitude.roll-1</th>\n",
       "      <th>attitude.roll-2</th>\n",
       "      <th>attitude.roll-3</th>\n",
       "      <th>attitude.roll-4</th>\n",
       "      <th>attitude.roll-5</th>\n",
       "      <th>attitude.roll-6</th>\n",
       "      <th>attitude.roll-7</th>\n",
       "      <th>attitude.roll-8</th>\n",
       "      <th>...</th>\n",
       "      <th>userAcceleration.z-295</th>\n",
       "      <th>userAcceleration.z-296</th>\n",
       "      <th>userAcceleration.z-297</th>\n",
       "      <th>userAcceleration.z-298</th>\n",
       "      <th>userAcceleration.z-299</th>\n",
       "      <th>activity code</th>\n",
       "      <th>length</th>\n",
       "      <th>trial_code</th>\n",
       "      <th>index</th>\n",
       "      <th>user</th>\n",
       "    </tr>\n",
       "  </thead>\n",
       "  <tbody>\n",
       "    <tr>\n",
       "      <th>0</th>\n",
       "      <td>0</td>\n",
       "      <td>1.093387</td>\n",
       "      <td>1.129419</td>\n",
       "      <td>1.166286</td>\n",
       "      <td>1.176539</td>\n",
       "      <td>1.218638</td>\n",
       "      <td>1.218076</td>\n",
       "      <td>1.169095</td>\n",
       "      <td>1.104227</td>\n",
       "      <td>1.041327</td>\n",
       "      <td>...</td>\n",
       "      <td>0.025803</td>\n",
       "      <td>0.015770</td>\n",
       "      <td>0.109555</td>\n",
       "      <td>0.172113</td>\n",
       "      <td>0.248941</td>\n",
       "      <td>0</td>\n",
       "      <td>300</td>\n",
       "      <td>1</td>\n",
       "      <td>1200</td>\n",
       "      <td>16</td>\n",
       "    </tr>\n",
       "    <tr>\n",
       "      <th>1</th>\n",
       "      <td>1</td>\n",
       "      <td>1.528132</td>\n",
       "      <td>1.527992</td>\n",
       "      <td>1.527765</td>\n",
       "      <td>1.516768</td>\n",
       "      <td>1.493941</td>\n",
       "      <td>1.476302</td>\n",
       "      <td>1.455153</td>\n",
       "      <td>1.441702</td>\n",
       "      <td>1.443440</td>\n",
       "      <td>...</td>\n",
       "      <td>0.578416</td>\n",
       "      <td>0.572674</td>\n",
       "      <td>0.490945</td>\n",
       "      <td>0.345010</td>\n",
       "      <td>0.129649</td>\n",
       "      <td>0</td>\n",
       "      <td>300</td>\n",
       "      <td>1</td>\n",
       "      <td>0</td>\n",
       "      <td>1</td>\n",
       "    </tr>\n",
       "    <tr>\n",
       "      <th>2</th>\n",
       "      <td>2</td>\n",
       "      <td>-1.331274</td>\n",
       "      <td>-1.315688</td>\n",
       "      <td>-1.315034</td>\n",
       "      <td>-1.315621</td>\n",
       "      <td>-1.287623</td>\n",
       "      <td>-1.218232</td>\n",
       "      <td>-1.139884</td>\n",
       "      <td>-1.054611</td>\n",
       "      <td>-0.970854</td>\n",
       "      <td>...</td>\n",
       "      <td>0.102089</td>\n",
       "      <td>0.124263</td>\n",
       "      <td>0.122183</td>\n",
       "      <td>0.125418</td>\n",
       "      <td>0.230901</td>\n",
       "      <td>0</td>\n",
       "      <td>300</td>\n",
       "      <td>2</td>\n",
       "      <td>600</td>\n",
       "      <td>21</td>\n",
       "    </tr>\n",
       "    <tr>\n",
       "      <th>3</th>\n",
       "      <td>3</td>\n",
       "      <td>0.715184</td>\n",
       "      <td>0.679044</td>\n",
       "      <td>0.662668</td>\n",
       "      <td>0.662928</td>\n",
       "      <td>0.670537</td>\n",
       "      <td>0.666622</td>\n",
       "      <td>0.652839</td>\n",
       "      <td>0.662879</td>\n",
       "      <td>0.723967</td>\n",
       "      <td>...</td>\n",
       "      <td>-0.033105</td>\n",
       "      <td>0.119528</td>\n",
       "      <td>0.057709</td>\n",
       "      <td>-0.057865</td>\n",
       "      <td>-0.097547</td>\n",
       "      <td>0</td>\n",
       "      <td>300</td>\n",
       "      <td>11</td>\n",
       "      <td>0</td>\n",
       "      <td>7</td>\n",
       "    </tr>\n",
       "    <tr>\n",
       "      <th>4</th>\n",
       "      <td>4</td>\n",
       "      <td>-2.004835</td>\n",
       "      <td>-2.041697</td>\n",
       "      <td>-2.044302</td>\n",
       "      <td>-2.038474</td>\n",
       "      <td>-2.055756</td>\n",
       "      <td>-2.102689</td>\n",
       "      <td>-2.158746</td>\n",
       "      <td>-2.202283</td>\n",
       "      <td>-2.232511</td>\n",
       "      <td>...</td>\n",
       "      <td>0.072444</td>\n",
       "      <td>0.005214</td>\n",
       "      <td>-0.231522</td>\n",
       "      <td>-0.560348</td>\n",
       "      <td>-0.678777</td>\n",
       "      <td>0</td>\n",
       "      <td>300</td>\n",
       "      <td>2</td>\n",
       "      <td>1800</td>\n",
       "      <td>19</td>\n",
       "    </tr>\n",
       "    <tr>\n",
       "      <th>...</th>\n",
       "      <td>...</td>\n",
       "      <td>...</td>\n",
       "      <td>...</td>\n",
       "      <td>...</td>\n",
       "      <td>...</td>\n",
       "      <td>...</td>\n",
       "      <td>...</td>\n",
       "      <td>...</td>\n",
       "      <td>...</td>\n",
       "      <td>...</td>\n",
       "      <td>...</td>\n",
       "      <td>...</td>\n",
       "      <td>...</td>\n",
       "      <td>...</td>\n",
       "      <td>...</td>\n",
       "      <td>...</td>\n",
       "      <td>...</td>\n",
       "      <td>...</td>\n",
       "      <td>...</td>\n",
       "      <td>...</td>\n",
       "      <td>...</td>\n",
       "    </tr>\n",
       "    <tr>\n",
       "      <th>1909</th>\n",
       "      <td>325</td>\n",
       "      <td>-0.809114</td>\n",
       "      <td>-0.504596</td>\n",
       "      <td>-0.200415</td>\n",
       "      <td>-0.069472</td>\n",
       "      <td>-0.009363</td>\n",
       "      <td>-0.019789</td>\n",
       "      <td>-0.084377</td>\n",
       "      <td>-0.162347</td>\n",
       "      <td>-0.184036</td>\n",
       "      <td>...</td>\n",
       "      <td>-0.754819</td>\n",
       "      <td>-0.570919</td>\n",
       "      <td>-1.006368</td>\n",
       "      <td>-1.232031</td>\n",
       "      <td>-0.321935</td>\n",
       "      <td>5</td>\n",
       "      <td>300</td>\n",
       "      <td>16</td>\n",
       "      <td>0</td>\n",
       "      <td>6</td>\n",
       "    </tr>\n",
       "    <tr>\n",
       "      <th>1910</th>\n",
       "      <td>326</td>\n",
       "      <td>1.225254</td>\n",
       "      <td>1.219554</td>\n",
       "      <td>1.262265</td>\n",
       "      <td>1.213586</td>\n",
       "      <td>1.229215</td>\n",
       "      <td>1.309294</td>\n",
       "      <td>1.371141</td>\n",
       "      <td>1.403459</td>\n",
       "      <td>1.491145</td>\n",
       "      <td>...</td>\n",
       "      <td>1.737598</td>\n",
       "      <td>1.105376</td>\n",
       "      <td>-0.184008</td>\n",
       "      <td>-1.426659</td>\n",
       "      <td>-1.711004</td>\n",
       "      <td>5</td>\n",
       "      <td>300</td>\n",
       "      <td>9</td>\n",
       "      <td>4500</td>\n",
       "      <td>2</td>\n",
       "    </tr>\n",
       "    <tr>\n",
       "      <th>1911</th>\n",
       "      <td>327</td>\n",
       "      <td>3.138105</td>\n",
       "      <td>-3.105622</td>\n",
       "      <td>-3.073557</td>\n",
       "      <td>-3.034694</td>\n",
       "      <td>-2.983038</td>\n",
       "      <td>-2.938967</td>\n",
       "      <td>-2.891639</td>\n",
       "      <td>-2.733605</td>\n",
       "      <td>-1.150408</td>\n",
       "      <td>...</td>\n",
       "      <td>-1.048692</td>\n",
       "      <td>-0.806513</td>\n",
       "      <td>-0.533924</td>\n",
       "      <td>1.383309</td>\n",
       "      <td>-0.669395</td>\n",
       "      <td>5</td>\n",
       "      <td>300</td>\n",
       "      <td>9</td>\n",
       "      <td>0</td>\n",
       "      <td>6</td>\n",
       "    </tr>\n",
       "    <tr>\n",
       "      <th>1912</th>\n",
       "      <td>328</td>\n",
       "      <td>1.476984</td>\n",
       "      <td>1.582842</td>\n",
       "      <td>1.692089</td>\n",
       "      <td>1.797948</td>\n",
       "      <td>1.852740</td>\n",
       "      <td>1.886674</td>\n",
       "      <td>1.885654</td>\n",
       "      <td>1.810233</td>\n",
       "      <td>1.708376</td>\n",
       "      <td>...</td>\n",
       "      <td>-0.326163</td>\n",
       "      <td>-0.657696</td>\n",
       "      <td>-0.787899</td>\n",
       "      <td>0.421130</td>\n",
       "      <td>0.055916</td>\n",
       "      <td>5</td>\n",
       "      <td>300</td>\n",
       "      <td>9</td>\n",
       "      <td>600</td>\n",
       "      <td>2</td>\n",
       "    </tr>\n",
       "    <tr>\n",
       "      <th>1913</th>\n",
       "      <td>329</td>\n",
       "      <td>1.080556</td>\n",
       "      <td>1.184144</td>\n",
       "      <td>1.290674</td>\n",
       "      <td>1.377341</td>\n",
       "      <td>1.504204</td>\n",
       "      <td>1.603406</td>\n",
       "      <td>1.656496</td>\n",
       "      <td>1.690602</td>\n",
       "      <td>1.661182</td>\n",
       "      <td>...</td>\n",
       "      <td>1.386765</td>\n",
       "      <td>1.357538</td>\n",
       "      <td>0.993484</td>\n",
       "      <td>-0.389625</td>\n",
       "      <td>0.076809</td>\n",
       "      <td>5</td>\n",
       "      <td>300</td>\n",
       "      <td>9</td>\n",
       "      <td>1500</td>\n",
       "      <td>2</td>\n",
       "    </tr>\n",
       "  </tbody>\n",
       "</table>\n",
       "<p>1914 rows × 3606 columns</p>\n",
       "</div>"
      ],
      "text/plain": [
       "      Unnamed: 0  attitude.roll-0  attitude.roll-1  attitude.roll-2  \\\n",
       "0              0         1.093387         1.129419         1.166286   \n",
       "1              1         1.528132         1.527992         1.527765   \n",
       "2              2        -1.331274        -1.315688        -1.315034   \n",
       "3              3         0.715184         0.679044         0.662668   \n",
       "4              4        -2.004835        -2.041697        -2.044302   \n",
       "...          ...              ...              ...              ...   \n",
       "1909         325        -0.809114        -0.504596        -0.200415   \n",
       "1910         326         1.225254         1.219554         1.262265   \n",
       "1911         327         3.138105        -3.105622        -3.073557   \n",
       "1912         328         1.476984         1.582842         1.692089   \n",
       "1913         329         1.080556         1.184144         1.290674   \n",
       "\n",
       "      attitude.roll-3  attitude.roll-4  attitude.roll-5  attitude.roll-6  \\\n",
       "0            1.176539         1.218638         1.218076         1.169095   \n",
       "1            1.516768         1.493941         1.476302         1.455153   \n",
       "2           -1.315621        -1.287623        -1.218232        -1.139884   \n",
       "3            0.662928         0.670537         0.666622         0.652839   \n",
       "4           -2.038474        -2.055756        -2.102689        -2.158746   \n",
       "...               ...              ...              ...              ...   \n",
       "1909        -0.069472        -0.009363        -0.019789        -0.084377   \n",
       "1910         1.213586         1.229215         1.309294         1.371141   \n",
       "1911        -3.034694        -2.983038        -2.938967        -2.891639   \n",
       "1912         1.797948         1.852740         1.886674         1.885654   \n",
       "1913         1.377341         1.504204         1.603406         1.656496   \n",
       "\n",
       "      attitude.roll-7  attitude.roll-8  ...  userAcceleration.z-295  \\\n",
       "0            1.104227         1.041327  ...                0.025803   \n",
       "1            1.441702         1.443440  ...                0.578416   \n",
       "2           -1.054611        -0.970854  ...                0.102089   \n",
       "3            0.662879         0.723967  ...               -0.033105   \n",
       "4           -2.202283        -2.232511  ...                0.072444   \n",
       "...               ...              ...  ...                     ...   \n",
       "1909        -0.162347        -0.184036  ...               -0.754819   \n",
       "1910         1.403459         1.491145  ...                1.737598   \n",
       "1911        -2.733605        -1.150408  ...               -1.048692   \n",
       "1912         1.810233         1.708376  ...               -0.326163   \n",
       "1913         1.690602         1.661182  ...                1.386765   \n",
       "\n",
       "      userAcceleration.z-296  userAcceleration.z-297  userAcceleration.z-298  \\\n",
       "0                   0.015770                0.109555                0.172113   \n",
       "1                   0.572674                0.490945                0.345010   \n",
       "2                   0.124263                0.122183                0.125418   \n",
       "3                   0.119528                0.057709               -0.057865   \n",
       "4                   0.005214               -0.231522               -0.560348   \n",
       "...                      ...                     ...                     ...   \n",
       "1909               -0.570919               -1.006368               -1.232031   \n",
       "1910                1.105376               -0.184008               -1.426659   \n",
       "1911               -0.806513               -0.533924                1.383309   \n",
       "1912               -0.657696               -0.787899                0.421130   \n",
       "1913                1.357538                0.993484               -0.389625   \n",
       "\n",
       "      userAcceleration.z-299  activity code  length  trial_code  index  user  \n",
       "0                   0.248941              0     300           1   1200    16  \n",
       "1                   0.129649              0     300           1      0     1  \n",
       "2                   0.230901              0     300           2    600    21  \n",
       "3                  -0.097547              0     300          11      0     7  \n",
       "4                  -0.678777              0     300           2   1800    19  \n",
       "...                      ...            ...     ...         ...    ...   ...  \n",
       "1909               -0.321935              5     300          16      0     6  \n",
       "1910               -1.711004              5     300           9   4500     2  \n",
       "1911               -0.669395              5     300           9      0     6  \n",
       "1912                0.055916              5     300           9    600     2  \n",
       "1913                0.076809              5     300           9   1500     2  \n",
       "\n",
       "[1914 rows x 3606 columns]"
      ]
     },
     "execution_count": 25,
     "metadata": {},
     "output_type": "execute_result"
    }
   ],
   "source": [
    "train = pd.concat([train, validation], ignore_index=True)\n",
    "train"
   ]
  },
  {
   "cell_type": "markdown",
   "id": "ea02b41b-6fb3-4e95-89fd-4c9e4fff921d",
   "metadata": {},
   "source": [
    "## Create the MotionSense Dataset"
   ]
  },
  {
   "cell_type": "code",
   "execution_count": 26,
   "id": "38f8f00f-3c51-47a6-9d1d-84866a5d844d",
   "metadata": {
    "execution": {
     "iopub.execute_input": "2022-08-26T13:11:17.108249Z",
     "iopub.status.busy": "2022-08-26T13:11:17.107861Z",
     "iopub.status.idle": "2022-08-26T13:11:17.141425Z",
     "shell.execute_reply": "2022-08-26T13:11:17.141021Z",
     "shell.execute_reply.started": "2022-08-26T13:11:17.108230Z"
    },
    "tags": []
   },
   "outputs": [],
   "source": [
    "from librep.datasets.multimodal import PandasMultiModalDataset"
   ]
  },
  {
   "cell_type": "code",
   "execution_count": 27,
   "id": "8ab3ea14-32e5-4b29-aacc-674209c7a933",
   "metadata": {
    "execution": {
     "iopub.execute_input": "2022-08-26T13:11:19.297460Z",
     "iopub.status.busy": "2022-08-26T13:11:19.297320Z",
     "iopub.status.idle": "2022-08-26T13:11:19.343747Z",
     "shell.execute_reply": "2022-08-26T13:11:19.343296Z",
     "shell.execute_reply.started": "2022-08-26T13:11:19.297445Z"
    },
    "tags": []
   },
   "outputs": [],
   "source": [
    "features = [\n",
    "    \"userAcceleration.x\",\n",
    "    \"userAcceleration.y\",\n",
    "    \"userAcceleration.z\",\n",
    "    \"rotationRate.x\",\n",
    "    \"rotationRate.y\",\n",
    "    \"rotationRate.z\"\n",
    "]\n",
    "\n",
    "train_dataset = PandasMultiModalDataset(\n",
    "    train,\n",
    "    feature_prefixes=features,\n",
    "    label_columns=\"activity code\",\n",
    "    as_array=True\n",
    ")\n",
    "validation_dataset = PandasMultiModalDataset(\n",
    "    validation,\n",
    "    feature_prefixes=features,\n",
    "    label_columns=\"activity code\",\n",
    "    as_array=True\n",
    ")\n",
    "test_dataset = PandasMultiModalDataset(\n",
    "    test,\n",
    "    feature_prefixes=features,\n",
    "    label_columns=\"activity code\",\n",
    "    as_array=True\n",
    ")"
   ]
  },
  {
   "cell_type": "code",
   "execution_count": 28,
   "id": "f14c259f-7800-4ab9-8890-9f2da8feca99",
   "metadata": {
    "execution": {
     "iopub.execute_input": "2022-08-26T13:11:20.070120Z",
     "iopub.status.busy": "2022-08-26T13:11:20.069804Z",
     "iopub.status.idle": "2022-08-26T13:11:20.109373Z",
     "shell.execute_reply": "2022-08-26T13:11:20.108984Z",
     "shell.execute_reply.started": "2022-08-26T13:11:20.070102Z"
    },
    "tags": []
   },
   "outputs": [
    {
     "data": {
      "text/plain": [
       "(array([-0.120843,  0.470622,  0.269861, ..., -0.046833, -0.283947,\n",
       "        -0.521564]),\n",
       " 0)"
      ]
     },
     "execution_count": 28,
     "metadata": {},
     "output_type": "execute_result"
    }
   ],
   "source": [
    "train_dataset[0]"
   ]
  },
  {
   "cell_type": "code",
   "execution_count": 29,
   "id": "57b6f02d-e0e2-438b-9547-9740ca05d3d1",
   "metadata": {
    "execution": {
     "iopub.execute_input": "2022-08-26T13:11:20.797746Z",
     "iopub.status.busy": "2022-08-26T13:11:20.797568Z",
     "iopub.status.idle": "2022-08-26T13:11:20.828530Z",
     "shell.execute_reply": "2022-08-26T13:11:20.827916Z",
     "shell.execute_reply.started": "2022-08-26T13:11:20.797730Z"
    },
    "tags": []
   },
   "outputs": [
    {
     "data": {
      "text/plain": [
       "([(0, 300), (300, 600), (600, 900), (900, 1200), (1200, 1500), (1500, 1800)],\n",
       " ['userAcceleration.x',\n",
       "  'userAcceleration.y',\n",
       "  'userAcceleration.z',\n",
       "  'rotationRate.x',\n",
       "  'rotationRate.y',\n",
       "  'rotationRate.z'],\n",
       " 6)"
      ]
     },
     "execution_count": 29,
     "metadata": {},
     "output_type": "execute_result"
    }
   ],
   "source": [
    "train_dataset.window_slices, train_dataset.window_names, train_dataset.num_windows"
   ]
  },
  {
   "cell_type": "code",
   "execution_count": 30,
   "id": "91462ee9-e382-4267-b2d6-4ac2308ca961",
   "metadata": {
    "execution": {
     "iopub.execute_input": "2022-08-26T13:11:30.549640Z",
     "iopub.status.busy": "2022-08-26T13:11:30.549376Z",
     "iopub.status.idle": "2022-08-26T13:11:30.579588Z",
     "shell.execute_reply": "2022-08-26T13:11:30.579251Z",
     "shell.execute_reply.started": "2022-08-26T13:11:30.549614Z"
    },
    "tags": []
   },
   "outputs": [],
   "source": [
    "from librep.datasets.multimodal import TransformMultiModalDataset\n",
    "from librep.transforms.fft import FFT"
   ]
  },
  {
   "cell_type": "code",
   "execution_count": 31,
   "id": "efc39e40-e26b-4898-8b3b-e130c9c798ea",
   "metadata": {
    "execution": {
     "iopub.execute_input": "2022-08-26T13:11:33.241485Z",
     "iopub.status.busy": "2022-08-26T13:11:33.241310Z",
     "iopub.status.idle": "2022-08-26T13:11:33.539067Z",
     "shell.execute_reply": "2022-08-26T13:11:33.538732Z",
     "shell.execute_reply.started": "2022-08-26T13:11:33.241470Z"
    },
    "tags": []
   },
   "outputs": [
    {
     "data": {
      "text/plain": [
       "([(0, 300), (300, 600), (600, 900), (900, 1200), (1200, 1500), (1500, 1800)],\n",
       " ['fft.userAcceleration.x',\n",
       "  'fft.userAcceleration.y',\n",
       "  'fft.userAcceleration.z',\n",
       "  'fft.rotationRate.x',\n",
       "  'fft.rotationRate.y',\n",
       "  'fft.rotationRate.z'],\n",
       " 6)"
      ]
     },
     "execution_count": 31,
     "metadata": {},
     "output_type": "execute_result"
    }
   ],
   "source": [
    "fft_transform = FFT()\n",
    "transformer = TransformMultiModalDataset(transforms=[fft_transform], new_window_name_prefix=\"fft.\")\n",
    "train_dataset_fft = transformer(train_dataset)\n",
    "validation_dataset_fft = transformer(validation_dataset)\n",
    "test_dataset_fft = transformer(test_dataset)\n",
    "train_dataset_fft.window_slices, train_dataset_fft.window_names, train_dataset_fft.num_windows"
   ]
  },
  {
   "cell_type": "code",
   "execution_count": 32,
   "id": "b47ac3ca-a4c1-46b0-a81e-07a374bc2216",
   "metadata": {
    "execution": {
     "iopub.execute_input": "2022-08-26T13:11:38.821852Z",
     "iopub.status.busy": "2022-08-26T13:11:38.821676Z",
     "iopub.status.idle": "2022-08-26T13:11:49.559854Z",
     "shell.execute_reply": "2022-08-26T13:11:49.559458Z",
     "shell.execute_reply.started": "2022-08-26T13:11:38.821836Z"
    },
    "tags": []
   },
   "outputs": [
    {
     "data": {
      "text/plain": [
       "([(0, 19), (19, 38), (38, 57), (57, 76), (76, 95), (95, 114)],\n",
       " ['fft-stats.userAcceleration.x',\n",
       "  'fft-stats.userAcceleration.y',\n",
       "  'fft-stats.userAcceleration.z',\n",
       "  'fft-stats.rotationRate.x',\n",
       "  'fft-stats.rotationRate.y',\n",
       "  'fft-stats.rotationRate.z'],\n",
       " 6)"
      ]
     },
     "execution_count": 32,
     "metadata": {},
     "output_type": "execute_result"
    }
   ],
   "source": [
    "from librep.datasets.multimodal import TransformMultiModalDataset\n",
    "from librep.transforms.fft import FFT\n",
    "from librep.transforms.stats import StatsTransform\n",
    "\n",
    "fft_transform = FFT()\n",
    "stats_transform = StatsTransform()\n",
    "transformer = TransformMultiModalDataset(transforms=[fft_transform, stats_transform], new_window_name_prefix=\"fft-stats.\")\n",
    "train_dataset_fft_stats = transformer(train_dataset)\n",
    "validation_dataset_fft_stats = transformer(validation_dataset)\n",
    "test_dataset_fft_stats = transformer(test_dataset)\n",
    "train_dataset_fft_stats.window_slices, train_dataset_fft_stats.window_names, train_dataset_fft_stats.num_windows"
   ]
  },
  {
   "cell_type": "code",
   "execution_count": 34,
   "id": "08b702cd-6940-4bad-a5cb-c47d290efd8e",
   "metadata": {
    "execution": {
     "iopub.execute_input": "2022-08-26T13:13:20.059221Z",
     "iopub.status.busy": "2022-08-26T13:13:20.059051Z",
     "iopub.status.idle": "2022-08-26T13:13:20.097289Z",
     "shell.execute_reply": "2022-08-26T13:13:20.096910Z",
     "shell.execute_reply.started": "2022-08-26T13:13:20.059206Z"
    },
    "tags": []
   },
   "outputs": [
    {
     "data": {
      "text/plain": [
       "([(0, 300),\n",
       "  (300, 600),\n",
       "  (600, 900),\n",
       "  (900, 1200),\n",
       "  (1200, 1500),\n",
       "  (1500, 1800),\n",
       "  (1800, 1819),\n",
       "  (1819, 1838),\n",
       "  (1838, 1857),\n",
       "  (1857, 1876),\n",
       "  (1876, 1895),\n",
       "  (1895, 1914)],\n",
       " ['fft.userAcceleration.x',\n",
       "  'fft.userAcceleration.y',\n",
       "  'fft.userAcceleration.z',\n",
       "  'fft.rotationRate.x',\n",
       "  'fft.rotationRate.y',\n",
       "  'fft.rotationRate.z',\n",
       "  'fft-stats.userAcceleration.x',\n",
       "  'fft-stats.userAcceleration.y',\n",
       "  'fft-stats.userAcceleration.z',\n",
       "  'fft-stats.rotationRate.x',\n",
       "  'fft-stats.rotationRate.y',\n",
       "  'fft-stats.rotationRate.z'],\n",
       " 12)"
      ]
     },
     "execution_count": 34,
     "metadata": {},
     "output_type": "execute_result"
    }
   ],
   "source": [
    "from librep.datasets.multimodal import combine_multi_modal_datasets\n",
    "combined_train_dset = combine_multi_modal_datasets(train_dataset_fft, train_dataset_fft_stats)\n",
    "combined_test_dset = combine_multi_modal_datasets(test_dataset_fft, test_dataset_fft_stats)\n",
    "combined_train_dset.window_slices, combined_train_dset.window_names, combined_train_dset.num_windows"
   ]
  },
  {
   "cell_type": "code",
   "execution_count": 35,
   "id": "b92962e8-9144-4c90-b2ba-7c973d64daf9",
   "metadata": {
    "execution": {
     "iopub.execute_input": "2022-08-26T13:13:43.469598Z",
     "iopub.status.busy": "2022-08-26T13:13:43.469419Z",
     "iopub.status.idle": "2022-08-26T13:13:44.214889Z",
     "shell.execute_reply": "2022-08-26T13:13:44.214564Z",
     "shell.execute_reply.started": "2022-08-26T13:13:43.469578Z"
    },
    "tags": []
   },
   "outputs": [
    {
     "data": {
      "text/plain": [
       "([(0, 100), (100, 200), (200, 300), (300, 400), (400, 500), (500, 600)],\n",
       " ['resample-100-fft.userAcceleration.x',\n",
       "  'resample-100-fft.userAcceleration.y',\n",
       "  'resample-100-fft.userAcceleration.z',\n",
       "  'resample-100-fft.rotationRate.x',\n",
       "  'resample-100-fft.rotationRate.y',\n",
       "  'resample-100-fft.rotationRate.z'],\n",
       " 6)"
      ]
     },
     "execution_count": 35,
     "metadata": {},
     "output_type": "execute_result"
    }
   ],
   "source": [
    "from librep.datasets.multimodal import TransformMultiModalDataset\n",
    "from librep.transforms.fft import FFT\n",
    "from librep.transforms.resampler import SimpleResampler\n",
    "from librep.transforms.stats import StatsTransform\n",
    "\n",
    "resampler = SimpleResampler(new_sample_size=100)\n",
    "fft_transform = FFT()\n",
    "stats_transform = StatsTransform()\n",
    "transformer = TransformMultiModalDataset(transforms=[resampler, fft_transform], new_window_name_prefix=\"resample-100-fft.\")\n",
    "resampled_train_dataset_fft_stats = transformer(train_dataset)\n",
    "resampled_validation_dataset_fft_stats = transformer(validation_dataset)\n",
    "resampled_test_dataset_fft_stats = transformer(test_dataset)\n",
    "resampled_train_dataset_fft_stats.window_slices, resampled_train_dataset_fft_stats.window_names, resampled_train_dataset_fft_stats.num_windows"
   ]
  },
  {
   "cell_type": "markdown",
   "id": "202ae715-f2bb-4dc4-84dc-383ec009776f",
   "metadata": {},
   "source": [
    "## Train"
   ]
  },
  {
   "cell_type": "code",
   "execution_count": 36,
   "id": "cd4dd9da-6371-4c2f-b921-8886f64526ab",
   "metadata": {
    "execution": {
     "iopub.execute_input": "2022-08-26T13:13:54.219579Z",
     "iopub.status.busy": "2022-08-26T13:13:54.219385Z",
     "iopub.status.idle": "2022-08-26T13:13:54.251290Z",
     "shell.execute_reply": "2022-08-26T13:13:54.250397Z",
     "shell.execute_reply.started": "2022-08-26T13:13:54.219562Z"
    },
    "tags": []
   },
   "outputs": [],
   "source": [
    "from librep.utils.workflow import SimpleTrainEvalWorkflow, MultiRunWorkflow\n",
    "from librep.estimators import RandomForestClassifier\n",
    "from librep.metrics.report import ClassificationReport\n",
    "import yaml\n",
    "\n",
    "reporter = ClassificationReport(use_accuracy=True, use_f1_score=True, use_classification_report=False, use_confusion_matrix=False, plot_confusion_matrix=False)\n",
    "experiment = SimpleTrainEvalWorkflow(estimator=RandomForestClassifier, do_not_instantiate=False, do_fit=True, evaluator=reporter)\n",
    "multi_run_experiment = MultiRunWorkflow(workflow=experiment, num_runs=3, debug=False)"
   ]
  },
  {
   "cell_type": "code",
   "execution_count": 37,
   "id": "12670662-e649-4a6f-8574-2c1d39e19b34",
   "metadata": {
    "execution": {
     "iopub.execute_input": "2022-08-26T13:13:57.029326Z",
     "iopub.status.busy": "2022-08-26T13:13:57.029137Z",
     "iopub.status.idle": "2022-08-26T13:14:08.570376Z",
     "shell.execute_reply": "2022-08-26T13:14:08.570009Z",
     "shell.execute_reply.started": "2022-08-26T13:13:57.029309Z"
    },
    "tags": []
   },
   "outputs": [
    {
     "name": "stdout",
     "output_type": "stream",
     "text": [
      "runs:\n",
      "-   end: 1661519640.8258512\n",
      "    result:\n",
      "    -   accuracy: 0.8028455284552846\n",
      "        f1 score (macro): 0.8001367810489692\n",
      "        f1 score (micro): 0.8028455284552846\n",
      "        f1 score (weighted): 0.8055542758616\n",
      "    -   accuracy: 1.0\n",
      "        f1 score (macro): 1.0\n",
      "        f1 score (micro): 1.0\n",
      "        f1 score (weighted): 1.0\n",
      "    -   accuracy: 0.8028455284552846\n",
      "        f1 score (macro): 0.8001367810489692\n",
      "        f1 score (micro): 0.8028455284552846\n",
      "        f1 score (weighted): 0.8055542758616\n",
      "    run id: 1\n",
      "    start: 1661519637.0573373\n",
      "    time taken: 3.7685139179229736\n",
      "-   end: 1661519644.7929575\n",
      "    result:\n",
      "    -   accuracy: 0.8130081300813008\n",
      "        f1 score (macro): 0.8083405172585767\n",
      "        f1 score (micro): 0.8130081300813008\n",
      "        f1 score (weighted): 0.8176757429040249\n",
      "    -   accuracy: 1.0\n",
      "        f1 score (macro): 1.0\n",
      "        f1 score (micro): 1.0\n",
      "        f1 score (weighted): 1.0\n",
      "    -   accuracy: 0.8130081300813008\n",
      "        f1 score (macro): 0.8083405172585767\n",
      "        f1 score (micro): 0.8130081300813008\n",
      "        f1 score (weighted): 0.8176757429040249\n",
      "    run id: 2\n",
      "    start: 1661519640.8258536\n",
      "    time taken: 3.967103958129883\n",
      "-   end: 1661519648.5646605\n",
      "    result:\n",
      "    -   accuracy: 0.8170731707317073\n",
      "        f1 score (macro): 0.8144032180425492\n",
      "        f1 score (micro): 0.8170731707317073\n",
      "        f1 score (weighted): 0.8197431234208655\n",
      "    -   accuracy: 1.0\n",
      "        f1 score (macro): 1.0\n",
      "        f1 score (micro): 1.0\n",
      "        f1 score (weighted): 1.0\n",
      "    -   accuracy: 0.8170731707317073\n",
      "        f1 score (macro): 0.8144032180425492\n",
      "        f1 score (micro): 0.8170731707317073\n",
      "        f1 score (weighted): 0.8197431234208655\n",
      "    run id: 3\n",
      "    start: 1661519644.7929595\n",
      "    time taken: 3.7717010974884033\n",
      "\n"
     ]
    }
   ],
   "source": [
    "result = multi_run_experiment(train_dataset, [test_dataset, validation_dataset, test_dataset])\n",
    "print(yaml.dump(result, sort_keys=True, indent=4))"
   ]
  },
  {
   "cell_type": "code",
   "execution_count": 38,
   "id": "504f4a90-b09b-4903-9f64-068bd1b6ed6e",
   "metadata": {
    "execution": {
     "iopub.execute_input": "2022-08-26T13:14:08.653627Z",
     "iopub.status.busy": "2022-08-26T13:14:08.653495Z",
     "iopub.status.idle": "2022-08-26T13:14:19.042007Z",
     "shell.execute_reply": "2022-08-26T13:14:19.041573Z",
     "shell.execute_reply.started": "2022-08-26T13:14:08.653611Z"
    },
    "tags": []
   },
   "outputs": [
    {
     "name": "stdout",
     "output_type": "stream",
     "text": [
      "runs:\n",
      "-   end: 1661519652.2399166\n",
      "    result:\n",
      "    -   accuracy: 0.8780487804878049\n",
      "        f1 score (macro): 0.8787366742308159\n",
      "        f1 score (micro): 0.8780487804878049\n",
      "        f1 score (weighted): 0.8773608867447937\n",
      "    run id: 1\n",
      "    start: 1661519648.6803925\n",
      "    time taken: 3.5595240592956543\n",
      "-   end: 1661519655.661257\n",
      "    result:\n",
      "    -   accuracy: 0.8821138211382114\n",
      "        f1 score (macro): 0.8823800752325783\n",
      "        f1 score (micro): 0.8821138211382114\n",
      "        f1 score (weighted): 0.8818475670438444\n",
      "    run id: 2\n",
      "    start: 1661519652.23992\n",
      "    time taken: 3.421337127685547\n",
      "-   end: 1661519659.0383623\n",
      "    result:\n",
      "    -   accuracy: 0.8821138211382114\n",
      "        f1 score (macro): 0.8829159311206777\n",
      "        f1 score (micro): 0.8821138211382114\n",
      "        f1 score (weighted): 0.881311711155745\n",
      "    run id: 3\n",
      "    start: 1661519655.6612585\n",
      "    time taken: 3.377103805541992\n",
      "\n"
     ]
    }
   ],
   "source": [
    "result = multi_run_experiment(train_dataset_fft, test_dataset_fft)\n",
    "print(yaml.dump(result, sort_keys=True, indent=4))"
   ]
  },
  {
   "cell_type": "code",
   "execution_count": 39,
   "id": "63dc4d32-c02b-44e0-9d65-bfb0ba7ce39e",
   "metadata": {
    "execution": {
     "iopub.execute_input": "2022-08-26T13:14:19.043055Z",
     "iopub.status.busy": "2022-08-26T13:14:19.042877Z",
     "iopub.status.idle": "2022-08-26T13:14:20.973746Z",
     "shell.execute_reply": "2022-08-26T13:14:20.973286Z",
     "shell.execute_reply.started": "2022-08-26T13:14:19.043036Z"
    },
    "tags": []
   },
   "outputs": [
    {
     "name": "stdout",
     "output_type": "stream",
     "text": [
      "runs:\n",
      "-   end: 1661519659.7032201\n",
      "    result:\n",
      "    -   accuracy: 0.8943089430894309\n",
      "        f1 score (macro): 0.8937923706809404\n",
      "        f1 score (micro): 0.8943089430894309\n",
      "        f1 score (weighted): 0.8948255154979214\n",
      "    run id: 1\n",
      "    start: 1661519659.0696335\n",
      "    time taken: 0.6335866451263428\n",
      "-   end: 1661519660.3548586\n",
      "    result:\n",
      "    -   accuracy: 0.8841463414634146\n",
      "        f1 score (macro): 0.8836762217260113\n",
      "        f1 score (micro): 0.8841463414634146\n",
      "        f1 score (weighted): 0.884616461200818\n",
      "    run id: 2\n",
      "    start: 1661519659.7032225\n",
      "    time taken: 0.6516361236572266\n",
      "-   end: 1661519660.970105\n",
      "    result:\n",
      "    -   accuracy: 0.8963414634146342\n",
      "        f1 score (macro): 0.895699486716449\n",
      "        f1 score (micro): 0.8963414634146342\n",
      "        f1 score (weighted): 0.8969834401128193\n",
      "    run id: 3\n",
      "    start: 1661519660.3548605\n",
      "    time taken: 0.6152443885803223\n",
      "\n"
     ]
    }
   ],
   "source": [
    "result = multi_run_experiment(train_dataset_fft_stats, test_dataset_fft_stats)\n",
    "print(yaml.dump(result, sort_keys=True, indent=4))"
   ]
  },
  {
   "cell_type": "code",
   "execution_count": 40,
   "id": "37934d68-4f04-46ef-ad6e-47f1e84f43cb",
   "metadata": {
    "execution": {
     "iopub.execute_input": "2022-08-26T13:14:20.974574Z",
     "iopub.status.busy": "2022-08-26T13:14:20.974416Z",
     "iopub.status.idle": "2022-08-26T13:14:30.911686Z",
     "shell.execute_reply": "2022-08-26T13:14:30.911335Z",
     "shell.execute_reply.started": "2022-08-26T13:14:20.974552Z"
    },
    "tags": []
   },
   "outputs": [
    {
     "name": "stdout",
     "output_type": "stream",
     "text": [
      "runs:\n",
      "-   end: 1661519664.3230143\n",
      "    result:\n",
      "    -   accuracy: 0.9186991869918699\n",
      "        f1 score (macro): 0.9182317792570172\n",
      "        f1 score (micro): 0.91869918699187\n",
      "        f1 score (weighted): 0.9191665947267227\n",
      "    run id: 1\n",
      "    start: 1661519661.0026617\n",
      "    time taken: 3.320352554321289\n",
      "-   end: 1661519667.6212258\n",
      "    result:\n",
      "    -   accuracy: 0.9227642276422764\n",
      "        f1 score (macro): 0.9225678216150697\n",
      "        f1 score (micro): 0.9227642276422763\n",
      "        f1 score (weighted): 0.9229606336694832\n",
      "    run id: 2\n",
      "    start: 1661519664.3230164\n",
      "    time taken: 3.2982094287872314\n",
      "-   end: 1661519670.9082303\n",
      "    result:\n",
      "    -   accuracy: 0.9065040650406504\n",
      "        f1 score (macro): 0.9064962947204198\n",
      "        f1 score (micro): 0.9065040650406504\n",
      "        f1 score (weighted): 0.9065118353608811\n",
      "    run id: 3\n",
      "    start: 1661519667.6212282\n",
      "    time taken: 3.2870020866394043\n",
      "\n"
     ]
    }
   ],
   "source": [
    "result = multi_run_experiment(combined_train_dset, combined_test_dset)\n",
    "print(yaml.dump(result, sort_keys=True, indent=4))"
   ]
  },
  {
   "cell_type": "code",
   "execution_count": 42,
   "id": "0ed10449-10b9-4ae9-abb6-aec6cedc32d1",
   "metadata": {
    "execution": {
     "iopub.execute_input": "2022-08-26T13:14:56.570939Z",
     "iopub.status.busy": "2022-08-26T13:14:56.570757Z",
     "iopub.status.idle": "2022-08-26T13:15:02.339974Z",
     "shell.execute_reply": "2022-08-26T13:15:02.339500Z",
     "shell.execute_reply.started": "2022-08-26T13:14:56.570922Z"
    },
    "tags": []
   },
   "outputs": [
    {
     "name": "stdout",
     "output_type": "stream",
     "text": [
      "runs:\n",
      "-   end: 1661519698.4826944\n",
      "    result:\n",
      "    -   accuracy: 0.8780487804878049\n",
      "        f1 score (macro): 0.8793346813660081\n",
      "        f1 score (micro): 0.8780487804878049\n",
      "        f1 score (weighted): 0.8767628796096014\n",
      "    run id: 1\n",
      "    start: 1661519696.5960474\n",
      "    time taken: 1.8866469860076904\n",
      "-   end: 1661519700.4154677\n",
      "    result:\n",
      "    -   accuracy: 0.9065040650406504\n",
      "        f1 score (macro): 0.9065941043776761\n",
      "        f1 score (micro): 0.9065040650406504\n",
      "        f1 score (weighted): 0.9064140257036247\n",
      "    run id: 2\n",
      "    start: 1661519698.4826968\n",
      "    time taken: 1.9327709674835205\n",
      "-   end: 1661519702.3362632\n",
      "    result:\n",
      "    -   accuracy: 0.8963414634146342\n",
      "        f1 score (macro): 0.8968320728507485\n",
      "        f1 score (micro): 0.8963414634146342\n",
      "        f1 score (weighted): 0.8958508539785197\n",
      "    run id: 3\n",
      "    start: 1661519700.4154694\n",
      "    time taken: 1.9207937717437744\n",
      "\n"
     ]
    }
   ],
   "source": [
    "result = multi_run_experiment(resampled_train_dataset_fft_stats, resampled_test_dataset_fft_stats)\n",
    "print(yaml.dump(result, sort_keys=True, indent=4))"
   ]
  },
  {
   "cell_type": "code",
   "execution_count": null,
   "id": "34407f64-d71c-46bb-995e-bde1e5cfcf9a",
   "metadata": {},
   "outputs": [],
   "source": []
  }
 ],
 "metadata": {
  "kernelspec": {
   "display_name": "Python 3 (ipykernel)",
   "language": "python",
   "name": "python3"
  },
  "language_info": {
   "codemirror_mode": {
    "name": "ipython",
    "version": 3
   },
   "file_extension": ".py",
   "mimetype": "text/x-python",
   "name": "python",
   "nbconvert_exporter": "python",
   "pygments_lexer": "ipython3",
   "version": "3.8.10"
  }
 },
 "nbformat": 4,
 "nbformat_minor": 5
}
