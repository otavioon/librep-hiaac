{
 "cells": [
  {
   "cell_type": "markdown",
   "id": "faa25327-6b2c-491a-9ed6-718312880e28",
   "metadata": {},
   "source": [
    "# Example of Training with MotionSense"
   ]
  },
  {
   "cell_type": "code",
   "execution_count": 1,
   "id": "e9820ad5-a563-4ba9-912b-aa75f35b67bc",
   "metadata": {
    "execution": {
     "iopub.execute_input": "2022-08-26T11:25:13.902149Z",
     "iopub.status.busy": "2022-08-26T11:25:13.902039Z",
     "iopub.status.idle": "2022-08-26T11:25:13.910113Z",
     "shell.execute_reply": "2022-08-26T11:25:13.909784Z",
     "shell.execute_reply.started": "2022-08-26T11:25:13.902131Z"
    },
    "tags": []
   },
   "outputs": [],
   "source": [
    "%load_ext autoreload\n",
    "%autoreload 2"
   ]
  },
  {
   "cell_type": "code",
   "execution_count": 2,
   "id": "c837fe5a-d359-46c1-8aa8-9a5043ae37f9",
   "metadata": {
    "execution": {
     "iopub.execute_input": "2022-08-26T11:25:13.910747Z",
     "iopub.status.busy": "2022-08-26T11:25:13.910620Z",
     "iopub.status.idle": "2022-08-26T11:25:14.137913Z",
     "shell.execute_reply": "2022-08-26T11:25:14.137477Z",
     "shell.execute_reply.started": "2022-08-26T11:25:13.910733Z"
    },
    "tags": []
   },
   "outputs": [],
   "source": [
    "import sys\n",
    "import pandas as pd\n",
    "from pathlib import Path\n",
    "\n",
    "sys.path.append(\"..\")"
   ]
  },
  {
   "cell_type": "markdown",
   "id": "72fc160c-b7c7-4e15-bf79-6e8d97d9fb50",
   "metadata": {},
   "source": [
    "## Read Processed Data"
   ]
  },
  {
   "cell_type": "code",
   "execution_count": 3,
   "id": "e690c5cf-fa42-43b0-ac01-8fbef4a99498",
   "metadata": {
    "execution": {
     "iopub.execute_input": "2022-08-26T11:25:14.138685Z",
     "iopub.status.busy": "2022-08-26T11:25:14.138532Z",
     "iopub.status.idle": "2022-08-26T11:25:19.124835Z",
     "shell.execute_reply": "2022-08-26T11:25:19.124449Z",
     "shell.execute_reply.started": "2022-08-26T11:25:14.138669Z"
    },
    "tags": []
   },
   "outputs": [],
   "source": [
    "from librep.utils.dataset import PandasDatasetsIO"
   ]
  },
  {
   "cell_type": "code",
   "execution_count": 4,
   "id": "f999085a-ddf5-477d-8f89-e609519e74fe",
   "metadata": {
    "execution": {
     "iopub.execute_input": "2022-08-26T11:25:19.125506Z",
     "iopub.status.busy": "2022-08-26T11:25:19.125396Z",
     "iopub.status.idle": "2022-08-26T11:25:20.541252Z",
     "shell.execute_reply": "2022-08-26T11:25:20.540803Z",
     "shell.execute_reply.started": "2022-08-26T11:25:19.125491Z"
    },
    "tags": []
   },
   "outputs": [],
   "source": [
    "dataset_path = Path(\"../data/views/MotionSense/balanced_view\")\n",
    "train, validation, test = PandasDatasetsIO(dataset_path).load()"
   ]
  },
  {
   "cell_type": "code",
   "execution_count": 5,
   "id": "e75aaf02-e570-4fe8-89f7-272af288d0c8",
   "metadata": {
    "execution": {
     "iopub.execute_input": "2022-08-26T11:25:20.542296Z",
     "iopub.status.busy": "2022-08-26T11:25:20.542082Z",
     "iopub.status.idle": "2022-08-26T11:25:20.604884Z",
     "shell.execute_reply": "2022-08-26T11:25:20.604437Z",
     "shell.execute_reply.started": "2022-08-26T11:25:20.542273Z"
    },
    "tags": []
   },
   "outputs": [
    {
     "data": {
      "text/html": [
       "<div>\n",
       "<style scoped>\n",
       "    .dataframe tbody tr th:only-of-type {\n",
       "        vertical-align: middle;\n",
       "    }\n",
       "\n",
       "    .dataframe tbody tr th {\n",
       "        vertical-align: top;\n",
       "    }\n",
       "\n",
       "    .dataframe thead th {\n",
       "        text-align: right;\n",
       "    }\n",
       "</style>\n",
       "<table border=\"1\" class=\"dataframe\">\n",
       "  <thead>\n",
       "    <tr style=\"text-align: right;\">\n",
       "      <th></th>\n",
       "      <th>Unnamed: 0</th>\n",
       "      <th>attitude.roll-0</th>\n",
       "      <th>attitude.roll-1</th>\n",
       "      <th>attitude.roll-2</th>\n",
       "      <th>attitude.roll-3</th>\n",
       "      <th>attitude.roll-4</th>\n",
       "      <th>attitude.roll-5</th>\n",
       "      <th>attitude.roll-6</th>\n",
       "      <th>attitude.roll-7</th>\n",
       "      <th>attitude.roll-8</th>\n",
       "      <th>...</th>\n",
       "      <th>userAcceleration.z-295</th>\n",
       "      <th>userAcceleration.z-296</th>\n",
       "      <th>userAcceleration.z-297</th>\n",
       "      <th>userAcceleration.z-298</th>\n",
       "      <th>userAcceleration.z-299</th>\n",
       "      <th>activity code</th>\n",
       "      <th>length</th>\n",
       "      <th>trial_code</th>\n",
       "      <th>index</th>\n",
       "      <th>user</th>\n",
       "    </tr>\n",
       "  </thead>\n",
       "  <tbody>\n",
       "    <tr>\n",
       "      <th>0</th>\n",
       "      <td>0</td>\n",
       "      <td>1.093387</td>\n",
       "      <td>1.129419</td>\n",
       "      <td>1.166286</td>\n",
       "      <td>1.176539</td>\n",
       "      <td>1.218638</td>\n",
       "      <td>1.218076</td>\n",
       "      <td>1.169095</td>\n",
       "      <td>1.104227</td>\n",
       "      <td>1.041327</td>\n",
       "      <td>...</td>\n",
       "      <td>0.025803</td>\n",
       "      <td>0.015770</td>\n",
       "      <td>0.109555</td>\n",
       "      <td>0.172113</td>\n",
       "      <td>0.248941</td>\n",
       "      <td>0</td>\n",
       "      <td>300</td>\n",
       "      <td>1</td>\n",
       "      <td>1200</td>\n",
       "      <td>16</td>\n",
       "    </tr>\n",
       "    <tr>\n",
       "      <th>1</th>\n",
       "      <td>1</td>\n",
       "      <td>1.528132</td>\n",
       "      <td>1.527992</td>\n",
       "      <td>1.527765</td>\n",
       "      <td>1.516768</td>\n",
       "      <td>1.493941</td>\n",
       "      <td>1.476302</td>\n",
       "      <td>1.455153</td>\n",
       "      <td>1.441702</td>\n",
       "      <td>1.443440</td>\n",
       "      <td>...</td>\n",
       "      <td>0.578416</td>\n",
       "      <td>0.572674</td>\n",
       "      <td>0.490945</td>\n",
       "      <td>0.345010</td>\n",
       "      <td>0.129649</td>\n",
       "      <td>0</td>\n",
       "      <td>300</td>\n",
       "      <td>1</td>\n",
       "      <td>0</td>\n",
       "      <td>1</td>\n",
       "    </tr>\n",
       "    <tr>\n",
       "      <th>2</th>\n",
       "      <td>2</td>\n",
       "      <td>-1.331274</td>\n",
       "      <td>-1.315688</td>\n",
       "      <td>-1.315034</td>\n",
       "      <td>-1.315621</td>\n",
       "      <td>-1.287623</td>\n",
       "      <td>-1.218232</td>\n",
       "      <td>-1.139884</td>\n",
       "      <td>-1.054611</td>\n",
       "      <td>-0.970854</td>\n",
       "      <td>...</td>\n",
       "      <td>0.102089</td>\n",
       "      <td>0.124263</td>\n",
       "      <td>0.122183</td>\n",
       "      <td>0.125418</td>\n",
       "      <td>0.230901</td>\n",
       "      <td>0</td>\n",
       "      <td>300</td>\n",
       "      <td>2</td>\n",
       "      <td>600</td>\n",
       "      <td>21</td>\n",
       "    </tr>\n",
       "    <tr>\n",
       "      <th>3</th>\n",
       "      <td>3</td>\n",
       "      <td>0.715184</td>\n",
       "      <td>0.679044</td>\n",
       "      <td>0.662668</td>\n",
       "      <td>0.662928</td>\n",
       "      <td>0.670537</td>\n",
       "      <td>0.666622</td>\n",
       "      <td>0.652839</td>\n",
       "      <td>0.662879</td>\n",
       "      <td>0.723967</td>\n",
       "      <td>...</td>\n",
       "      <td>-0.033105</td>\n",
       "      <td>0.119528</td>\n",
       "      <td>0.057709</td>\n",
       "      <td>-0.057865</td>\n",
       "      <td>-0.097547</td>\n",
       "      <td>0</td>\n",
       "      <td>300</td>\n",
       "      <td>11</td>\n",
       "      <td>0</td>\n",
       "      <td>7</td>\n",
       "    </tr>\n",
       "    <tr>\n",
       "      <th>4</th>\n",
       "      <td>4</td>\n",
       "      <td>-2.004835</td>\n",
       "      <td>-2.041697</td>\n",
       "      <td>-2.044302</td>\n",
       "      <td>-2.038474</td>\n",
       "      <td>-2.055756</td>\n",
       "      <td>-2.102689</td>\n",
       "      <td>-2.158746</td>\n",
       "      <td>-2.202283</td>\n",
       "      <td>-2.232511</td>\n",
       "      <td>...</td>\n",
       "      <td>0.072444</td>\n",
       "      <td>0.005214</td>\n",
       "      <td>-0.231522</td>\n",
       "      <td>-0.560348</td>\n",
       "      <td>-0.678777</td>\n",
       "      <td>0</td>\n",
       "      <td>300</td>\n",
       "      <td>2</td>\n",
       "      <td>1800</td>\n",
       "      <td>19</td>\n",
       "    </tr>\n",
       "    <tr>\n",
       "      <th>...</th>\n",
       "      <td>...</td>\n",
       "      <td>...</td>\n",
       "      <td>...</td>\n",
       "      <td>...</td>\n",
       "      <td>...</td>\n",
       "      <td>...</td>\n",
       "      <td>...</td>\n",
       "      <td>...</td>\n",
       "      <td>...</td>\n",
       "      <td>...</td>\n",
       "      <td>...</td>\n",
       "      <td>...</td>\n",
       "      <td>...</td>\n",
       "      <td>...</td>\n",
       "      <td>...</td>\n",
       "      <td>...</td>\n",
       "      <td>...</td>\n",
       "      <td>...</td>\n",
       "      <td>...</td>\n",
       "      <td>...</td>\n",
       "      <td>...</td>\n",
       "    </tr>\n",
       "    <tr>\n",
       "      <th>1909</th>\n",
       "      <td>325</td>\n",
       "      <td>-0.809114</td>\n",
       "      <td>-0.504596</td>\n",
       "      <td>-0.200415</td>\n",
       "      <td>-0.069472</td>\n",
       "      <td>-0.009363</td>\n",
       "      <td>-0.019789</td>\n",
       "      <td>-0.084377</td>\n",
       "      <td>-0.162347</td>\n",
       "      <td>-0.184036</td>\n",
       "      <td>...</td>\n",
       "      <td>-0.754819</td>\n",
       "      <td>-0.570919</td>\n",
       "      <td>-1.006368</td>\n",
       "      <td>-1.232031</td>\n",
       "      <td>-0.321935</td>\n",
       "      <td>5</td>\n",
       "      <td>300</td>\n",
       "      <td>16</td>\n",
       "      <td>0</td>\n",
       "      <td>6</td>\n",
       "    </tr>\n",
       "    <tr>\n",
       "      <th>1910</th>\n",
       "      <td>326</td>\n",
       "      <td>1.225254</td>\n",
       "      <td>1.219554</td>\n",
       "      <td>1.262265</td>\n",
       "      <td>1.213586</td>\n",
       "      <td>1.229215</td>\n",
       "      <td>1.309294</td>\n",
       "      <td>1.371141</td>\n",
       "      <td>1.403459</td>\n",
       "      <td>1.491145</td>\n",
       "      <td>...</td>\n",
       "      <td>1.737598</td>\n",
       "      <td>1.105376</td>\n",
       "      <td>-0.184008</td>\n",
       "      <td>-1.426659</td>\n",
       "      <td>-1.711004</td>\n",
       "      <td>5</td>\n",
       "      <td>300</td>\n",
       "      <td>9</td>\n",
       "      <td>4500</td>\n",
       "      <td>2</td>\n",
       "    </tr>\n",
       "    <tr>\n",
       "      <th>1911</th>\n",
       "      <td>327</td>\n",
       "      <td>3.138105</td>\n",
       "      <td>-3.105622</td>\n",
       "      <td>-3.073557</td>\n",
       "      <td>-3.034694</td>\n",
       "      <td>-2.983038</td>\n",
       "      <td>-2.938967</td>\n",
       "      <td>-2.891639</td>\n",
       "      <td>-2.733605</td>\n",
       "      <td>-1.150408</td>\n",
       "      <td>...</td>\n",
       "      <td>-1.048692</td>\n",
       "      <td>-0.806513</td>\n",
       "      <td>-0.533924</td>\n",
       "      <td>1.383309</td>\n",
       "      <td>-0.669395</td>\n",
       "      <td>5</td>\n",
       "      <td>300</td>\n",
       "      <td>9</td>\n",
       "      <td>0</td>\n",
       "      <td>6</td>\n",
       "    </tr>\n",
       "    <tr>\n",
       "      <th>1912</th>\n",
       "      <td>328</td>\n",
       "      <td>1.476984</td>\n",
       "      <td>1.582842</td>\n",
       "      <td>1.692089</td>\n",
       "      <td>1.797948</td>\n",
       "      <td>1.852740</td>\n",
       "      <td>1.886674</td>\n",
       "      <td>1.885654</td>\n",
       "      <td>1.810233</td>\n",
       "      <td>1.708376</td>\n",
       "      <td>...</td>\n",
       "      <td>-0.326163</td>\n",
       "      <td>-0.657696</td>\n",
       "      <td>-0.787899</td>\n",
       "      <td>0.421130</td>\n",
       "      <td>0.055916</td>\n",
       "      <td>5</td>\n",
       "      <td>300</td>\n",
       "      <td>9</td>\n",
       "      <td>600</td>\n",
       "      <td>2</td>\n",
       "    </tr>\n",
       "    <tr>\n",
       "      <th>1913</th>\n",
       "      <td>329</td>\n",
       "      <td>1.080556</td>\n",
       "      <td>1.184144</td>\n",
       "      <td>1.290674</td>\n",
       "      <td>1.377341</td>\n",
       "      <td>1.504204</td>\n",
       "      <td>1.603406</td>\n",
       "      <td>1.656496</td>\n",
       "      <td>1.690602</td>\n",
       "      <td>1.661182</td>\n",
       "      <td>...</td>\n",
       "      <td>1.386765</td>\n",
       "      <td>1.357538</td>\n",
       "      <td>0.993484</td>\n",
       "      <td>-0.389625</td>\n",
       "      <td>0.076809</td>\n",
       "      <td>5</td>\n",
       "      <td>300</td>\n",
       "      <td>9</td>\n",
       "      <td>1500</td>\n",
       "      <td>2</td>\n",
       "    </tr>\n",
       "  </tbody>\n",
       "</table>\n",
       "<p>1914 rows × 3606 columns</p>\n",
       "</div>"
      ],
      "text/plain": [
       "      Unnamed: 0  attitude.roll-0  attitude.roll-1  attitude.roll-2  \\\n",
       "0              0         1.093387         1.129419         1.166286   \n",
       "1              1         1.528132         1.527992         1.527765   \n",
       "2              2        -1.331274        -1.315688        -1.315034   \n",
       "3              3         0.715184         0.679044         0.662668   \n",
       "4              4        -2.004835        -2.041697        -2.044302   \n",
       "...          ...              ...              ...              ...   \n",
       "1909         325        -0.809114        -0.504596        -0.200415   \n",
       "1910         326         1.225254         1.219554         1.262265   \n",
       "1911         327         3.138105        -3.105622        -3.073557   \n",
       "1912         328         1.476984         1.582842         1.692089   \n",
       "1913         329         1.080556         1.184144         1.290674   \n",
       "\n",
       "      attitude.roll-3  attitude.roll-4  attitude.roll-5  attitude.roll-6  \\\n",
       "0            1.176539         1.218638         1.218076         1.169095   \n",
       "1            1.516768         1.493941         1.476302         1.455153   \n",
       "2           -1.315621        -1.287623        -1.218232        -1.139884   \n",
       "3            0.662928         0.670537         0.666622         0.652839   \n",
       "4           -2.038474        -2.055756        -2.102689        -2.158746   \n",
       "...               ...              ...              ...              ...   \n",
       "1909        -0.069472        -0.009363        -0.019789        -0.084377   \n",
       "1910         1.213586         1.229215         1.309294         1.371141   \n",
       "1911        -3.034694        -2.983038        -2.938967        -2.891639   \n",
       "1912         1.797948         1.852740         1.886674         1.885654   \n",
       "1913         1.377341         1.504204         1.603406         1.656496   \n",
       "\n",
       "      attitude.roll-7  attitude.roll-8  ...  userAcceleration.z-295  \\\n",
       "0            1.104227         1.041327  ...                0.025803   \n",
       "1            1.441702         1.443440  ...                0.578416   \n",
       "2           -1.054611        -0.970854  ...                0.102089   \n",
       "3            0.662879         0.723967  ...               -0.033105   \n",
       "4           -2.202283        -2.232511  ...                0.072444   \n",
       "...               ...              ...  ...                     ...   \n",
       "1909        -0.162347        -0.184036  ...               -0.754819   \n",
       "1910         1.403459         1.491145  ...                1.737598   \n",
       "1911        -2.733605        -1.150408  ...               -1.048692   \n",
       "1912         1.810233         1.708376  ...               -0.326163   \n",
       "1913         1.690602         1.661182  ...                1.386765   \n",
       "\n",
       "      userAcceleration.z-296  userAcceleration.z-297  userAcceleration.z-298  \\\n",
       "0                   0.015770                0.109555                0.172113   \n",
       "1                   0.572674                0.490945                0.345010   \n",
       "2                   0.124263                0.122183                0.125418   \n",
       "3                   0.119528                0.057709               -0.057865   \n",
       "4                   0.005214               -0.231522               -0.560348   \n",
       "...                      ...                     ...                     ...   \n",
       "1909               -0.570919               -1.006368               -1.232031   \n",
       "1910                1.105376               -0.184008               -1.426659   \n",
       "1911               -0.806513               -0.533924                1.383309   \n",
       "1912               -0.657696               -0.787899                0.421130   \n",
       "1913                1.357538                0.993484               -0.389625   \n",
       "\n",
       "      userAcceleration.z-299  activity code  length  trial_code  index  user  \n",
       "0                   0.248941              0     300           1   1200    16  \n",
       "1                   0.129649              0     300           1      0     1  \n",
       "2                   0.230901              0     300           2    600    21  \n",
       "3                  -0.097547              0     300          11      0     7  \n",
       "4                  -0.678777              0     300           2   1800    19  \n",
       "...                      ...            ...     ...         ...    ...   ...  \n",
       "1909               -0.321935              5     300          16      0     6  \n",
       "1910               -1.711004              5     300           9   4500     2  \n",
       "1911               -0.669395              5     300           9      0     6  \n",
       "1912                0.055916              5     300           9    600     2  \n",
       "1913                0.076809              5     300           9   1500     2  \n",
       "\n",
       "[1914 rows x 3606 columns]"
      ]
     },
     "execution_count": 5,
     "metadata": {},
     "output_type": "execute_result"
    }
   ],
   "source": [
    "train = pd.concat([train, validation], ignore_index=True)\n",
    "train"
   ]
  },
  {
   "cell_type": "markdown",
   "id": "ea02b41b-6fb3-4e95-89fd-4c9e4fff921d",
   "metadata": {},
   "source": [
    "## Create the MotionSense Dataset"
   ]
  },
  {
   "cell_type": "code",
   "execution_count": 6,
   "id": "38f8f00f-3c51-47a6-9d1d-84866a5d844d",
   "metadata": {
    "execution": {
     "iopub.execute_input": "2022-08-26T11:25:20.605764Z",
     "iopub.status.busy": "2022-08-26T11:25:20.605586Z",
     "iopub.status.idle": "2022-08-26T11:25:20.645118Z",
     "shell.execute_reply": "2022-08-26T11:25:20.644550Z",
     "shell.execute_reply.started": "2022-08-26T11:25:20.605738Z"
    },
    "tags": []
   },
   "outputs": [],
   "source": [
    "from librep.datasets.common import PandasMultiModalDataset"
   ]
  },
  {
   "cell_type": "code",
   "execution_count": 7,
   "id": "8ab3ea14-32e5-4b29-aacc-674209c7a933",
   "metadata": {
    "execution": {
     "iopub.execute_input": "2022-08-26T11:25:20.647163Z",
     "iopub.status.busy": "2022-08-26T11:25:20.646953Z",
     "iopub.status.idle": "2022-08-26T11:25:20.705674Z",
     "shell.execute_reply": "2022-08-26T11:25:20.705281Z",
     "shell.execute_reply.started": "2022-08-26T11:25:20.647140Z"
    },
    "tags": []
   },
   "outputs": [],
   "source": [
    "features = [\n",
    "    \"userAcceleration.x\",\n",
    "    \"userAcceleration.y\",\n",
    "    \"userAcceleration.z\",\n",
    "    \"rotationRate.x\",\n",
    "    \"rotationRate.y\",\n",
    "    \"rotationRate.z\"\n",
    "]\n",
    "\n",
    "train_dataset = PandasMultiModalDataset(\n",
    "    train,\n",
    "    feature_prefixes=features,\n",
    "    label_columns=\"activity code\",\n",
    "    as_array=True\n",
    ")\n",
    "validation_dataset = PandasMultiModalDataset(\n",
    "    validation,\n",
    "    feature_prefixes=features,\n",
    "    label_columns=\"activity code\",\n",
    "    as_array=True\n",
    ")\n",
    "test_dataset = PandasMultiModalDataset(\n",
    "    test,\n",
    "    feature_prefixes=features,\n",
    "    label_columns=\"activity code\",\n",
    "    as_array=True\n",
    ")"
   ]
  },
  {
   "cell_type": "code",
   "execution_count": 8,
   "id": "f14c259f-7800-4ab9-8890-9f2da8feca99",
   "metadata": {
    "execution": {
     "iopub.execute_input": "2022-08-26T11:25:20.706377Z",
     "iopub.status.busy": "2022-08-26T11:25:20.706234Z",
     "iopub.status.idle": "2022-08-26T11:25:20.737795Z",
     "shell.execute_reply": "2022-08-26T11:25:20.737428Z",
     "shell.execute_reply.started": "2022-08-26T11:25:20.706362Z"
    },
    "tags": []
   },
   "outputs": [
    {
     "data": {
      "text/plain": [
       "(array([-0.120843,  0.470622,  0.269861, ..., -0.046833, -0.283947,\n",
       "        -0.521564]),\n",
       " 0)"
      ]
     },
     "execution_count": 8,
     "metadata": {},
     "output_type": "execute_result"
    }
   ],
   "source": [
    "train_dataset[0]"
   ]
  },
  {
   "cell_type": "code",
   "execution_count": 9,
   "id": "57b6f02d-e0e2-438b-9547-9740ca05d3d1",
   "metadata": {
    "execution": {
     "iopub.execute_input": "2022-08-26T11:25:20.738495Z",
     "iopub.status.busy": "2022-08-26T11:25:20.738352Z",
     "iopub.status.idle": "2022-08-26T11:25:20.765536Z",
     "shell.execute_reply": "2022-08-26T11:25:20.765090Z",
     "shell.execute_reply.started": "2022-08-26T11:25:20.738479Z"
    },
    "tags": []
   },
   "outputs": [
    {
     "data": {
      "text/plain": [
       "([(0, 300), (300, 600), (600, 900), (900, 1200), (1200, 1500), (1500, 1800)],\n",
       " ['userAcceleration.x',\n",
       "  'userAcceleration.y',\n",
       "  'userAcceleration.z',\n",
       "  'rotationRate.x',\n",
       "  'rotationRate.y',\n",
       "  'rotationRate.z'],\n",
       " 6)"
      ]
     },
     "execution_count": 9,
     "metadata": {},
     "output_type": "execute_result"
    }
   ],
   "source": [
    "train_dataset.window_slices, train_dataset.window_names, train_dataset.num_windows"
   ]
  },
  {
   "cell_type": "code",
   "execution_count": 10,
   "id": "91462ee9-e382-4267-b2d6-4ac2308ca961",
   "metadata": {
    "execution": {
     "iopub.execute_input": "2022-08-26T11:25:20.766380Z",
     "iopub.status.busy": "2022-08-26T11:25:20.766212Z",
     "iopub.status.idle": "2022-08-26T11:25:20.794942Z",
     "shell.execute_reply": "2022-08-26T11:25:20.794578Z",
     "shell.execute_reply.started": "2022-08-26T11:25:20.766365Z"
    },
    "tags": []
   },
   "outputs": [],
   "source": [
    "from librep.datasets.common import TransformMultiModalDataset\n",
    "from librep.transforms.fft import FFT"
   ]
  },
  {
   "cell_type": "code",
   "execution_count": 11,
   "id": "efc39e40-e26b-4898-8b3b-e130c9c798ea",
   "metadata": {
    "execution": {
     "iopub.execute_input": "2022-08-26T11:25:20.795652Z",
     "iopub.status.busy": "2022-08-26T11:25:20.795507Z",
     "iopub.status.idle": "2022-08-26T11:25:21.088608Z",
     "shell.execute_reply": "2022-08-26T11:25:21.088147Z",
     "shell.execute_reply.started": "2022-08-26T11:25:20.795636Z"
    },
    "tags": []
   },
   "outputs": [
    {
     "data": {
      "text/plain": [
       "([(0, 300), (300, 600), (600, 900), (900, 1200), (1200, 1500), (1500, 1800)],\n",
       " ['fft.userAcceleration.x',\n",
       "  'fft.userAcceleration.y',\n",
       "  'fft.userAcceleration.z',\n",
       "  'fft.rotationRate.x',\n",
       "  'fft.rotationRate.y',\n",
       "  'fft.rotationRate.z'],\n",
       " 6)"
      ]
     },
     "execution_count": 11,
     "metadata": {},
     "output_type": "execute_result"
    }
   ],
   "source": [
    "fft_transform = FFT()\n",
    "transformer = TransformMultiModalDataset(transforms=[fft_transform], new_window_name_prefix=\"fft.\")\n",
    "train_dataset_fft = transformer(train_dataset)\n",
    "validation_dataset_fft = transformer(validation_dataset)\n",
    "test_dataset_fft = transformer(test_dataset)\n",
    "train_dataset_fft.window_slices, train_dataset_fft.window_names, train_dataset_fft.num_windows"
   ]
  },
  {
   "cell_type": "code",
   "execution_count": 12,
   "id": "b47ac3ca-a4c1-46b0-a81e-07a374bc2216",
   "metadata": {
    "execution": {
     "iopub.execute_input": "2022-08-26T11:25:21.089398Z",
     "iopub.status.busy": "2022-08-26T11:25:21.089251Z",
     "iopub.status.idle": "2022-08-26T11:25:31.651943Z",
     "shell.execute_reply": "2022-08-26T11:25:31.651386Z",
     "shell.execute_reply.started": "2022-08-26T11:25:21.089382Z"
    },
    "tags": []
   },
   "outputs": [
    {
     "data": {
      "text/plain": [
       "([(0, 19), (19, 38), (38, 57), (57, 76), (76, 95), (95, 114)],\n",
       " ['fft-stats.userAcceleration.x',\n",
       "  'fft-stats.userAcceleration.y',\n",
       "  'fft-stats.userAcceleration.z',\n",
       "  'fft-stats.rotationRate.x',\n",
       "  'fft-stats.rotationRate.y',\n",
       "  'fft-stats.rotationRate.z'],\n",
       " 6)"
      ]
     },
     "execution_count": 12,
     "metadata": {},
     "output_type": "execute_result"
    }
   ],
   "source": [
    "from librep.datasets.common import TransformMultiModalDataset\n",
    "from librep.transforms.fft import FFT\n",
    "from librep.transforms.stats import StatsTransform\n",
    "\n",
    "fft_transform = FFT()\n",
    "stats_transform = StatsTransform()\n",
    "transformer = TransformMultiModalDataset(transforms=[fft_transform, stats_transform], new_window_name_prefix=\"fft-stats.\")\n",
    "train_dataset_fft_stats = transformer(train_dataset)\n",
    "validation_dataset_fft_stats = transformer(validation_dataset)\n",
    "test_dataset_fft_stats = transformer(test_dataset)\n",
    "train_dataset_fft_stats.window_slices, train_dataset_fft_stats.window_names, train_dataset_fft_stats.num_windows"
   ]
  },
  {
   "cell_type": "code",
   "execution_count": 13,
   "id": "08b702cd-6940-4bad-a5cb-c47d290efd8e",
   "metadata": {
    "execution": {
     "iopub.execute_input": "2022-08-26T11:25:31.653120Z",
     "iopub.status.busy": "2022-08-26T11:25:31.652931Z",
     "iopub.status.idle": "2022-08-26T11:25:31.691601Z",
     "shell.execute_reply": "2022-08-26T11:25:31.691139Z",
     "shell.execute_reply.started": "2022-08-26T11:25:31.653097Z"
    },
    "tags": []
   },
   "outputs": [
    {
     "data": {
      "text/plain": [
       "([(0, 300),\n",
       "  (300, 600),\n",
       "  (600, 900),\n",
       "  (900, 1200),\n",
       "  (1200, 1500),\n",
       "  (1500, 1800),\n",
       "  (1800, 1819),\n",
       "  (1819, 1838),\n",
       "  (1838, 1857),\n",
       "  (1857, 1876),\n",
       "  (1876, 1895),\n",
       "  (1895, 1914)],\n",
       " ['fft.userAcceleration.x',\n",
       "  'fft.userAcceleration.y',\n",
       "  'fft.userAcceleration.z',\n",
       "  'fft.rotationRate.x',\n",
       "  'fft.rotationRate.y',\n",
       "  'fft.rotationRate.z',\n",
       "  'fft-stats.userAcceleration.x',\n",
       "  'fft-stats.userAcceleration.y',\n",
       "  'fft-stats.userAcceleration.z',\n",
       "  'fft-stats.rotationRate.x',\n",
       "  'fft-stats.rotationRate.y',\n",
       "  'fft-stats.rotationRate.z'],\n",
       " 12)"
      ]
     },
     "execution_count": 13,
     "metadata": {},
     "output_type": "execute_result"
    }
   ],
   "source": [
    "from librep.datasets.common import combine_multi_modal_datasets\n",
    "combined_train_dset = combine_multi_modal_datasets(train_dataset_fft, train_dataset_fft_stats)\n",
    "combined_test_dset = combine_multi_modal_datasets(test_dataset_fft, test_dataset_fft_stats)\n",
    "combined_train_dset.window_slices, combined_train_dset.window_names, combined_train_dset.num_windows"
   ]
  },
  {
   "cell_type": "code",
   "execution_count": 14,
   "id": "b92962e8-9144-4c90-b2ba-7c973d64daf9",
   "metadata": {
    "execution": {
     "iopub.execute_input": "2022-08-26T11:25:31.692209Z",
     "iopub.status.busy": "2022-08-26T11:25:31.692103Z",
     "iopub.status.idle": "2022-08-26T11:25:32.465732Z",
     "shell.execute_reply": "2022-08-26T11:25:32.465323Z",
     "shell.execute_reply.started": "2022-08-26T11:25:31.692194Z"
    },
    "tags": []
   },
   "outputs": [
    {
     "data": {
      "text/plain": [
       "([(0, 100), (100, 200), (200, 300), (300, 400), (400, 500), (500, 600)],\n",
       " ['resample-100-fft.userAcceleration.x',\n",
       "  'resample-100-fft.userAcceleration.y',\n",
       "  'resample-100-fft.userAcceleration.z',\n",
       "  'resample-100-fft.rotationRate.x',\n",
       "  'resample-100-fft.rotationRate.y',\n",
       "  'resample-100-fft.rotationRate.z'],\n",
       " 6)"
      ]
     },
     "execution_count": 14,
     "metadata": {},
     "output_type": "execute_result"
    }
   ],
   "source": [
    "from librep.datasets.common import TransformMultiModalDataset\n",
    "from librep.transforms.fft import FFT\n",
    "from librep.transforms.resampler import SimpleResampler\n",
    "from librep.transforms.stats import StatsTransform\n",
    "\n",
    "resampler = SimpleResampler(new_sample_size=100)\n",
    "fft_transform = FFT()\n",
    "stats_transform = StatsTransform()\n",
    "transformer = TransformMultiModalDataset(transforms=[resampler, fft_transform], new_window_name_prefix=\"resample-100-fft.\")\n",
    "resampled_train_dataset_fft_stats = transformer(train_dataset)\n",
    "resampled_validation_dataset_fft_stats = transformer(validation_dataset)\n",
    "resampled_test_dataset_fft_stats = transformer(test_dataset)\n",
    "resampled_train_dataset_fft_stats.window_slices, resampled_train_dataset_fft_stats.window_names, resampled_train_dataset_fft_stats.num_windows"
   ]
  },
  {
   "cell_type": "markdown",
   "id": "202ae715-f2bb-4dc4-84dc-383ec009776f",
   "metadata": {},
   "source": [
    "## Train"
   ]
  },
  {
   "cell_type": "code",
   "execution_count": 15,
   "id": "cd4dd9da-6371-4c2f-b921-8886f64526ab",
   "metadata": {
    "execution": {
     "iopub.execute_input": "2022-08-26T11:25:32.466496Z",
     "iopub.status.busy": "2022-08-26T11:25:32.466329Z",
     "iopub.status.idle": "2022-08-26T11:25:32.497993Z",
     "shell.execute_reply": "2022-08-26T11:25:32.497538Z",
     "shell.execute_reply.started": "2022-08-26T11:25:32.466478Z"
    },
    "tags": []
   },
   "outputs": [],
   "source": [
    "from librep.utils.workflow import SimpleTrainEvalWorkflow, MultiRunWorkflow\n",
    "from librep.estimators import RandomForestClassifier\n",
    "from librep.metrics.report import ClassificationReport\n",
    "import yaml\n",
    "\n",
    "reporter = ClassificationReport(use_accuracy=True, use_f1_score=True, use_classification_report=False, use_confusion_matrix=False, plot_confusion_matrix=False)\n",
    "experiment = SimpleTrainEvalWorkflow(estimator=RandomForestClassifier, do_not_instantiate=False, do_fit=True, evaluator=reporter)\n",
    "multi_run_experiment = MultiRunWorkflow(workflow=experiment, num_runs=3, debug=False)"
   ]
  },
  {
   "cell_type": "code",
   "execution_count": 16,
   "id": "12670662-e649-4a6f-8574-2c1d39e19b34",
   "metadata": {
    "execution": {
     "iopub.execute_input": "2022-08-26T11:25:32.498770Z",
     "iopub.status.busy": "2022-08-26T11:25:32.498629Z",
     "iopub.status.idle": "2022-08-26T11:25:43.294715Z",
     "shell.execute_reply": "2022-08-26T11:25:43.294274Z",
     "shell.execute_reply.started": "2022-08-26T11:25:32.498753Z"
    },
    "tags": []
   },
   "outputs": [
    {
     "name": "stdout",
     "output_type": "stream",
     "text": [
      "runs:\n",
      "-   end: 1661513136.1440182\n",
      "    result:\n",
      "    -   accuracy: 0.8150406504065041\n",
      "        f1 score (macro): 0.8098418723418722\n",
      "        f1 score (micro): 0.815040650406504\n",
      "        f1 score (weighted): 0.8202394284711358\n",
      "    -   accuracy: 1.0\n",
      "        f1 score (macro): 1.0\n",
      "        f1 score (micro): 1.0\n",
      "        f1 score (weighted): 1.0\n",
      "    -   accuracy: 0.8150406504065041\n",
      "        f1 score (macro): 0.8098418723418722\n",
      "        f1 score (micro): 0.815040650406504\n",
      "        f1 score (weighted): 0.8202394284711358\n",
      "    run id: 1\n",
      "    start: 1661513132.5255127\n",
      "    time taken: 3.6185054779052734\n",
      "-   end: 1661513139.7552896\n",
      "    result:\n",
      "    -   accuracy: 0.8150406504065041\n",
      "        f1 score (macro): 0.8121380243702302\n",
      "        f1 score (micro): 0.815040650406504\n",
      "        f1 score (weighted): 0.817943276442778\n",
      "    -   accuracy: 1.0\n",
      "        f1 score (macro): 1.0\n",
      "        f1 score (micro): 1.0\n",
      "        f1 score (weighted): 1.0\n",
      "    -   accuracy: 0.8150406504065041\n",
      "        f1 score (macro): 0.8121380243702302\n",
      "        f1 score (micro): 0.815040650406504\n",
      "        f1 score (weighted): 0.817943276442778\n",
      "    run id: 2\n",
      "    start: 1661513136.1440203\n",
      "    time taken: 3.611269235610962\n",
      "-   end: 1661513143.2899187\n",
      "    result:\n",
      "    -   accuracy: 0.8008130081300813\n",
      "        f1 score (macro): 0.7975678229432922\n",
      "        f1 score (micro): 0.8008130081300813\n",
      "        f1 score (weighted): 0.8040581933168703\n",
      "    -   accuracy: 1.0\n",
      "        f1 score (macro): 1.0\n",
      "        f1 score (micro): 1.0\n",
      "        f1 score (weighted): 1.0\n",
      "    -   accuracy: 0.8008130081300813\n",
      "        f1 score (macro): 0.7975678229432922\n",
      "        f1 score (micro): 0.8008130081300813\n",
      "        f1 score (weighted): 0.8040581933168703\n",
      "    run id: 3\n",
      "    start: 1661513139.7552915\n",
      "    time taken: 3.5346271991729736\n",
      "\n"
     ]
    }
   ],
   "source": [
    "result = multi_run_experiment(train_dataset, [test_dataset, validation_dataset, test_dataset])\n",
    "print(yaml.dump(result, sort_keys=True, indent=4))"
   ]
  },
  {
   "cell_type": "code",
   "execution_count": 17,
   "id": "504f4a90-b09b-4903-9f64-068bd1b6ed6e",
   "metadata": {
    "execution": {
     "iopub.execute_input": "2022-08-26T11:25:43.295400Z",
     "iopub.status.busy": "2022-08-26T11:25:43.295260Z",
     "iopub.status.idle": "2022-08-26T11:25:53.424136Z",
     "shell.execute_reply": "2022-08-26T11:25:53.423760Z",
     "shell.execute_reply.started": "2022-08-26T11:25:43.295372Z"
    },
    "tags": []
   },
   "outputs": [
    {
     "name": "stdout",
     "output_type": "stream",
     "text": [
      "runs:\n",
      "-   end: 1661513146.7407334\n",
      "    result:\n",
      "    -   accuracy: 0.8699186991869918\n",
      "        f1 score (macro): 0.8705454465519927\n",
      "        f1 score (micro): 0.8699186991869918\n",
      "        f1 score (weighted): 0.869291951821991\n",
      "    run id: 1\n",
      "    start: 1661513143.3195405\n",
      "    time taken: 3.4211928844451904\n",
      "-   end: 1661513150.0958517\n",
      "    result:\n",
      "    -   accuracy: 0.8699186991869918\n",
      "        f1 score (macro): 0.8705010046399061\n",
      "        f1 score (micro): 0.8699186991869918\n",
      "        f1 score (weighted): 0.8693363937340779\n",
      "    run id: 2\n",
      "    start: 1661513146.740736\n",
      "    time taken: 3.3551156520843506\n",
      "-   end: 1661513153.420568\n",
      "    result:\n",
      "    -   accuracy: 0.8841463414634146\n",
      "        f1 score (macro): 0.8843136787042575\n",
      "        f1 score (micro): 0.8841463414634146\n",
      "        f1 score (weighted): 0.8839790042225717\n",
      "    run id: 3\n",
      "    start: 1661513150.0958536\n",
      "    time taken: 3.324714422225952\n",
      "\n"
     ]
    }
   ],
   "source": [
    "result = multi_run_experiment(train_dataset_fft, test_dataset_fft)\n",
    "print(yaml.dump(result, sort_keys=True, indent=4))"
   ]
  },
  {
   "cell_type": "code",
   "execution_count": 18,
   "id": "63dc4d32-c02b-44e0-9d65-bfb0ba7ce39e",
   "metadata": {
    "execution": {
     "iopub.execute_input": "2022-08-26T11:25:53.424759Z",
     "iopub.status.busy": "2022-08-26T11:25:53.424649Z",
     "iopub.status.idle": "2022-08-26T11:25:55.350499Z",
     "shell.execute_reply": "2022-08-26T11:25:55.349829Z",
     "shell.execute_reply.started": "2022-08-26T11:25:53.424744Z"
    },
    "tags": []
   },
   "outputs": [
    {
     "name": "stdout",
     "output_type": "stream",
     "text": [
      "runs:\n",
      "-   end: 1661513154.094371\n",
      "    result:\n",
      "    -   accuracy: 0.8800813008130082\n",
      "        f1 score (macro): 0.8794803381309997\n",
      "        f1 score (micro): 0.8800813008130082\n",
      "        f1 score (weighted): 0.8806822634950168\n",
      "    run id: 1\n",
      "    start: 1661513153.4523408\n",
      "    time taken: 0.6420302391052246\n",
      "-   end: 1661513154.7389846\n",
      "    result:\n",
      "    -   accuracy: 0.8943089430894309\n",
      "        f1 score (macro): 0.8937953524848465\n",
      "        f1 score (micro): 0.8943089430894309\n",
      "        f1 score (weighted): 0.8948225336940152\n",
      "    run id: 2\n",
      "    start: 1661513154.0943727\n",
      "    time taken: 0.6446118354797363\n",
      "-   end: 1661513155.3466985\n",
      "    result:\n",
      "    -   accuracy: 0.8882113821138211\n",
      "        f1 score (macro): 0.8876278777741605\n",
      "        f1 score (micro): 0.8882113821138212\n",
      "        f1 score (weighted): 0.8887948864534818\n",
      "    run id: 3\n",
      "    start: 1661513154.7389865\n",
      "    time taken: 0.6077120304107666\n",
      "\n"
     ]
    }
   ],
   "source": [
    "result = multi_run_experiment(train_dataset_fft_stats, test_dataset_fft_stats)\n",
    "print(yaml.dump(result, sort_keys=True, indent=4))"
   ]
  },
  {
   "cell_type": "code",
   "execution_count": 19,
   "id": "37934d68-4f04-46ef-ad6e-47f1e84f43cb",
   "metadata": {
    "execution": {
     "iopub.execute_input": "2022-08-26T11:25:55.352213Z",
     "iopub.status.busy": "2022-08-26T11:25:55.351964Z",
     "iopub.status.idle": "2022-08-26T11:26:05.159928Z",
     "shell.execute_reply": "2022-08-26T11:26:05.159491Z",
     "shell.execute_reply.started": "2022-08-26T11:25:55.352180Z"
    },
    "tags": []
   },
   "outputs": [
    {
     "name": "stdout",
     "output_type": "stream",
     "text": [
      "runs:\n",
      "-   end: 1661513158.6550667\n",
      "    result:\n",
      "    -   accuracy: 0.9186991869918699\n",
      "        f1 score (macro): 0.9183400049840075\n",
      "        f1 score (micro): 0.91869918699187\n",
      "        f1 score (weighted): 0.9190583689997323\n",
      "    run id: 1\n",
      "    start: 1661513155.3782516\n",
      "    time taken: 3.276815176010132\n",
      "-   end: 1661513161.9197142\n",
      "    result:\n",
      "    -   accuracy: 0.9146341463414634\n",
      "        f1 score (macro): 0.9142737491618368\n",
      "        f1 score (micro): 0.9146341463414634\n",
      "        f1 score (weighted): 0.9149945435210902\n",
      "    run id: 2\n",
      "    start: 1661513158.6550684\n",
      "    time taken: 3.26464581489563\n",
      "-   end: 1661513165.1564567\n",
      "    result:\n",
      "    -   accuracy: 0.9146341463414634\n",
      "        f1 score (macro): 0.9142408964933458\n",
      "        f1 score (micro): 0.9146341463414634\n",
      "        f1 score (weighted): 0.9150273961895811\n",
      "    run id: 3\n",
      "    start: 1661513161.9197161\n",
      "    time taken: 3.2367405891418457\n",
      "\n"
     ]
    }
   ],
   "source": [
    "result = multi_run_experiment(combined_train_dset, combined_test_dset)\n",
    "print(yaml.dump(result, sort_keys=True, indent=4))"
   ]
  },
  {
   "cell_type": "code",
   "execution_count": 20,
   "id": "0ed10449-10b9-4ae9-abb6-aec6cedc32d1",
   "metadata": {
    "execution": {
     "iopub.execute_input": "2022-08-26T11:26:05.160570Z",
     "iopub.status.busy": "2022-08-26T11:26:05.160461Z",
     "iopub.status.idle": "2022-08-26T11:26:10.736843Z",
     "shell.execute_reply": "2022-08-26T11:26:10.736292Z",
     "shell.execute_reply.started": "2022-08-26T11:26:05.160556Z"
    }
   },
   "outputs": [
    {
     "name": "stdout",
     "output_type": "stream",
     "text": [
      "runs:\n",
      "-   end: 1661513167.0767672\n",
      "    result:\n",
      "    -   accuracy: 0.8902439024390244\n",
      "        f1 score (macro): 0.8905842604540278\n",
      "        f1 score (micro): 0.8902439024390244\n",
      "        f1 score (weighted): 0.8899035444240209\n",
      "    run id: 1\n",
      "    start: 1661513165.1840918\n",
      "    time taken: 1.8926753997802734\n",
      "-   end: 1661513168.8901148\n",
      "    result:\n",
      "    -   accuracy: 0.9004065040650406\n",
      "        f1 score (macro): 0.9009225014472774\n",
      "        f1 score (micro): 0.9004065040650406\n",
      "        f1 score (weighted): 0.8998905066828039\n",
      "    run id: 2\n",
      "    start: 1661513167.0767696\n",
      "    time taken: 1.813345193862915\n",
      "-   end: 1661513170.7317297\n",
      "    result:\n",
      "    -   accuracy: 0.8983739837398373\n",
      "        f1 score (macro): 0.8988526768661472\n",
      "        f1 score (micro): 0.8983739837398373\n",
      "        f1 score (weighted): 0.8978952906135275\n",
      "    run id: 3\n",
      "    start: 1661513168.8901165\n",
      "    time taken: 1.8416132926940918\n",
      "\n"
     ]
    }
   ],
   "source": [
    "result = multi_run_experiment(resampled_train_dataset_fft_stats, resampled_test_dataset_fft_stats)\n",
    "print(yaml.dump(result, sort_keys=True, indent=4))"
   ]
  },
  {
   "cell_type": "code",
   "execution_count": null,
   "id": "34407f64-d71c-46bb-995e-bde1e5cfcf9a",
   "metadata": {},
   "outputs": [],
   "source": []
  }
 ],
 "metadata": {
  "kernelspec": {
   "display_name": "Python 3 (ipykernel)",
   "language": "python",
   "name": "python3"
  },
  "language_info": {
   "codemirror_mode": {
    "name": "ipython",
    "version": 3
   },
   "file_extension": ".py",
   "mimetype": "text/x-python",
   "name": "python",
   "nbconvert_exporter": "python",
   "pygments_lexer": "ipython3",
   "version": "3.8.10"
  }
 },
 "nbformat": 4,
 "nbformat_minor": 5
}
