{
 "cells": [
  {
   "cell_type": "code",
   "execution_count": 1,
   "id": "498254b0-ea10-4f02-b718-d26ce855b77b",
   "metadata": {
    "execution": {
     "iopub.execute_input": "2022-08-08T17:08:56.812465Z",
     "iopub.status.busy": "2022-08-08T17:08:56.812361Z",
     "iopub.status.idle": "2022-08-08T17:08:56.822653Z",
     "shell.execute_reply": "2022-08-08T17:08:56.822239Z",
     "shell.execute_reply.started": "2022-08-08T17:08:56.812450Z"
    },
    "tags": []
   },
   "outputs": [],
   "source": [
    "%load_ext autoreload\n",
    "%autoreload 2\n",
    "\n",
    "import sys\n",
    "\n",
    "sys.path.append(\"..\")"
   ]
  },
  {
   "cell_type": "code",
   "execution_count": 51,
   "id": "fad53baa-1190-4969-9ae9-489321c5966e",
   "metadata": {
    "execution": {
     "iopub.execute_input": "2022-08-08T17:20:56.945384Z",
     "iopub.status.busy": "2022-08-08T17:20:56.945237Z",
     "iopub.status.idle": "2022-08-08T17:20:56.960602Z",
     "shell.execute_reply": "2022-08-08T17:20:56.960152Z",
     "shell.execute_reply.started": "2022-08-08T17:20:56.945368Z"
    },
    "tags": []
   },
   "outputs": [],
   "source": [
    "from pathlib import Path\n",
    "from typing import List\n",
    "import matplotlib.pyplot as plt\n",
    "\n",
    "import numpy as np\n",
    "import pandas as pd\n",
    "from sklearn.ensemble import RandomForestClassifier\n",
    "from sklearn.metrics import (\n",
    "    classification_report,\n",
    "    confusion_matrix,\n",
    "    ConfusionMatrixDisplay,\n",
    "    accuracy_score\n",
    ")\n",
    "\n",
    "from librep.datasets.motionsense import (\n",
    "    RawMotionSense,\n",
    "    RawMotionSenseIterator,\n",
    "    MotionSenseDatasetGenerator,\n",
    "    MotionSenseDataset,\n",
    ")\n",
    "from librep.utils.dataset import load_full_data\n",
    "\n",
    "%matplotlib inline"
   ]
  },
  {
   "cell_type": "code",
   "execution_count": 3,
   "id": "12bf855c-9947-4174-980c-5942527eaf04",
   "metadata": {
    "execution": {
     "iopub.execute_input": "2022-08-08T17:08:57.334592Z",
     "iopub.status.busy": "2022-08-08T17:08:57.334416Z",
     "iopub.status.idle": "2022-08-08T17:08:57.354245Z",
     "shell.execute_reply": "2022-08-08T17:08:57.353771Z",
     "shell.execute_reply.started": "2022-08-08T17:08:57.334564Z"
    },
    "tags": []
   },
   "outputs": [
    {
     "data": {
      "text/plain": [
       "MotionSense Dataset at: '../data/datasets/MotionSense/A_DeviceMotion_data'"
      ]
     },
     "execution_count": 3,
     "metadata": {},
     "output_type": "execute_result"
    }
   ],
   "source": [
    "dataset_dir = Path(\"../data/datasets/MotionSense/A_DeviceMotion_data\")\n",
    "motionsense_dataset = RawMotionSense(dataset_dir, download=False)\n",
    "motionsense_dataset"
   ]
  },
  {
   "cell_type": "code",
   "execution_count": 4,
   "id": "366c2abc",
   "metadata": {
    "execution": {
     "iopub.execute_input": "2022-08-08T17:08:57.354949Z",
     "iopub.status.busy": "2022-08-08T17:08:57.354809Z",
     "iopub.status.idle": "2022-08-08T17:08:57.367609Z",
     "shell.execute_reply": "2022-08-08T17:08:57.367232Z",
     "shell.execute_reply.started": "2022-08-08T17:08:57.354935Z"
    },
    "tags": []
   },
   "outputs": [
    {
     "data": {
      "text/plain": [
       "['dws', 'ups', 'sit', 'std', 'wlk', 'jog']"
      ]
     },
     "execution_count": 4,
     "metadata": {},
     "output_type": "execute_result"
    }
   ],
   "source": [
    "act_names = [motionsense_dataset.activity_names[i] for i in range(6)]\n",
    "act_names"
   ]
  },
  {
   "cell_type": "code",
   "execution_count": 5,
   "id": "39ffda3f-7686-49d1-a02d-576e4207b6c9",
   "metadata": {
    "execution": {
     "iopub.execute_input": "2022-08-08T17:08:57.368319Z",
     "iopub.status.busy": "2022-08-08T17:08:57.368185Z",
     "iopub.status.idle": "2022-08-08T17:08:57.380820Z",
     "shell.execute_reply": "2022-08-08T17:08:57.380462Z",
     "shell.execute_reply.started": "2022-08-08T17:08:57.368305Z"
    },
    "tags": []
   },
   "outputs": [
    {
     "data": {
      "text/plain": [
       "MotionSense Iterator: users=24, activities=6"
      ]
     },
     "execution_count": 5,
     "metadata": {},
     "output_type": "execute_result"
    }
   ],
   "source": [
    "iterator = RawMotionSenseIterator(motionsense_dataset)\n",
    "iterator"
   ]
  },
  {
   "cell_type": "code",
   "execution_count": 6,
   "id": "f75a8cb6-5083-44f9-bfbd-50f55836bb75",
   "metadata": {
    "execution": {
     "iopub.execute_input": "2022-08-08T17:08:57.381476Z",
     "iopub.status.busy": "2022-08-08T17:08:57.381349Z",
     "iopub.status.idle": "2022-08-08T17:08:57.392917Z",
     "shell.execute_reply": "2022-08-08T17:08:57.392595Z",
     "shell.execute_reply.started": "2022-08-08T17:08:57.381462Z"
    },
    "tags": []
   },
   "outputs": [
    {
     "data": {
      "text/plain": [
       "Dataset generator: time_window=300, overlap=0, labels=class"
      ]
     },
     "execution_count": 6,
     "metadata": {},
     "output_type": "execute_result"
    }
   ],
   "source": [
    "motionsense_v1 = MotionSenseDatasetGenerator(iterator, time_window=300, window_overlap=0)\n",
    "motionsense_v1"
   ]
  },
  {
   "cell_type": "code",
   "execution_count": 7,
   "id": "add044d7-6666-4f31-93e5-d4af57e01e56",
   "metadata": {
    "execution": {
     "iopub.execute_input": "2022-08-08T17:08:57.394345Z",
     "iopub.status.busy": "2022-08-08T17:08:57.394241Z",
     "iopub.status.idle": "2022-08-08T17:09:25.408628Z",
     "shell.execute_reply": "2022-08-08T17:09:25.408155Z",
     "shell.execute_reply.started": "2022-08-08T17:08:57.394332Z"
    },
    "tags": []
   },
   "outputs": [
    {
     "name": "stderr",
     "output_type": "stream",
     "text": [
      "Generating full df over MotionSense View: 360it [00:27, 13.03it/s]\n"
     ]
    }
   ],
   "source": [
    "train, validation, test = motionsense_v1.create_datasets(\n",
    "    train_size=0.7,\n",
    "    validation_size=0.1,\n",
    "    test_size=0.2,\n",
    "    ensure_distinct_users_per_dataset=True,\n",
    "    balance_samples=True,\n",
    "    seed=0\n",
    ")"
   ]
  },
  {
   "cell_type": "markdown",
   "id": "c17d9eac-c169-4b59-b48a-21b8b4eb8c04",
   "metadata": {},
   "source": [
    "# Time"
   ]
  },
  {
   "cell_type": "code",
   "execution_count": 8,
   "id": "5ada518c-debe-48cd-84d9-11ccffb16eee",
   "metadata": {
    "execution": {
     "iopub.execute_input": "2022-08-08T17:09:25.409261Z",
     "iopub.status.busy": "2022-08-08T17:09:25.409157Z",
     "iopub.status.idle": "2022-08-08T17:09:25.424129Z",
     "shell.execute_reply": "2022-08-08T17:09:25.423788Z",
     "shell.execute_reply.started": "2022-08-08T17:09:25.409247Z"
    },
    "tags": []
   },
   "outputs": [],
   "source": [
    "train_dataset = MotionSenseDataset(train, sensors=[\"userAcceleration\", \"rotationRate\"], label_columns=\"class\")\n",
    "validation_dataset = MotionSenseDataset(validation, sensors=[\"userAcceleration\", \"rotationRate\"], label_columns=\"class\")\n",
    "test_dataset = MotionSenseDataset(test, sensors=[\"userAcceleration\", \"rotationRate\"], label_columns=\"class\")"
   ]
  },
  {
   "cell_type": "code",
   "execution_count": 9,
   "id": "e9fa1c3b-99a9-4455-baaa-e8927e943c0d",
   "metadata": {
    "execution": {
     "iopub.execute_input": "2022-08-08T17:09:25.424821Z",
     "iopub.status.busy": "2022-08-08T17:09:25.424647Z",
     "iopub.status.idle": "2022-08-08T17:09:29.455978Z",
     "shell.execute_reply": "2022-08-08T17:09:29.455572Z",
     "shell.execute_reply.started": "2022-08-08T17:09:25.424807Z"
    },
    "tags": []
   },
   "outputs": [],
   "source": [
    "train_x, train_y = load_full_data(train_dataset, return_X_y=True)\n",
    "validation_x, validation_y = load_full_data(validation_dataset, return_X_y=True)\n",
    "test_x, test_y = load_full_data(test_dataset, return_X_y=True)"
   ]
  },
  {
   "cell_type": "code",
   "execution_count": 10,
   "id": "9eb1a1f3-743f-4653-8278-9648a4e4afb7",
   "metadata": {
    "execution": {
     "iopub.execute_input": "2022-08-08T17:09:29.456635Z",
     "iopub.status.busy": "2022-08-08T17:09:29.456530Z",
     "iopub.status.idle": "2022-08-08T17:09:29.476438Z",
     "shell.execute_reply": "2022-08-08T17:09:29.475975Z",
     "shell.execute_reply.started": "2022-08-08T17:09:29.456621Z"
    }
   },
   "outputs": [
    {
     "data": {
      "text/plain": [
       "((1914, 1800), (1914,))"
      ]
     },
     "execution_count": 10,
     "metadata": {},
     "output_type": "execute_result"
    }
   ],
   "source": [
    "train_val_x = np.concatenate([train_x, validation_x])\n",
    "train_val_y = np.concatenate([train_y, validation_y])\n",
    "train_val_x.shape, train_val_y.shape"
   ]
  },
  {
   "cell_type": "code",
   "execution_count": 11,
   "id": "2623791d-7630-4290-9dd7-29eb828ba427",
   "metadata": {
    "execution": {
     "iopub.execute_input": "2022-08-08T17:09:29.477118Z",
     "iopub.status.busy": "2022-08-08T17:09:29.477010Z",
     "iopub.status.idle": "2022-08-08T17:09:33.086898Z",
     "shell.execute_reply": "2022-08-08T17:09:33.086413Z",
     "shell.execute_reply.started": "2022-08-08T17:09:29.477104Z"
    },
    "tags": []
   },
   "outputs": [
    {
     "data": {
      "text/plain": [
       "RandomForestClassifier()"
      ]
     },
     "execution_count": 11,
     "metadata": {},
     "output_type": "execute_result"
    }
   ],
   "source": [
    "model = RandomForestClassifier()\n",
    "model.fit(train_val_x, train_val_y)"
   ]
  },
  {
   "cell_type": "code",
   "execution_count": 12,
   "id": "e348e140-1a60-4807-aff6-053d2c682587",
   "metadata": {
    "execution": {
     "iopub.execute_input": "2022-08-08T17:09:33.087704Z",
     "iopub.status.busy": "2022-08-08T17:09:33.087552Z",
     "iopub.status.idle": "2022-08-08T17:09:33.101742Z",
     "shell.execute_reply": "2022-08-08T17:09:33.101277Z",
     "shell.execute_reply.started": "2022-08-08T17:09:33.087683Z"
    },
    "tags": []
   },
   "outputs": [
    {
     "data": {
      "text/plain": [
       "((492, 1800), (492,))"
      ]
     },
     "execution_count": 12,
     "metadata": {},
     "output_type": "execute_result"
    }
   ],
   "source": [
    "test_x.shape, test_y.shape"
   ]
  },
  {
   "cell_type": "code",
   "execution_count": 13,
   "id": "0289eca2-e4c4-46f0-84fb-01fb32a5efd9",
   "metadata": {
    "execution": {
     "iopub.execute_input": "2022-08-08T17:09:33.102632Z",
     "iopub.status.busy": "2022-08-08T17:09:33.102432Z",
     "iopub.status.idle": "2022-08-08T17:09:33.133335Z",
     "shell.execute_reply": "2022-08-08T17:09:33.132930Z",
     "shell.execute_reply.started": "2022-08-08T17:09:33.102610Z"
    },
    "tags": []
   },
   "outputs": [],
   "source": [
    "y_pred = model.predict(test_x)"
   ]
  },
  {
   "cell_type": "code",
   "execution_count": 14,
   "id": "4052ea9e-ead8-453d-bc89-751e95c7aaca",
   "metadata": {
    "execution": {
     "iopub.execute_input": "2022-08-08T17:09:33.134039Z",
     "iopub.status.busy": "2022-08-08T17:09:33.133892Z",
     "iopub.status.idle": "2022-08-08T17:09:33.149567Z",
     "shell.execute_reply": "2022-08-08T17:09:33.149141Z",
     "shell.execute_reply.started": "2022-08-08T17:09:33.134023Z"
    },
    "tags": []
   },
   "outputs": [
    {
     "name": "stdout",
     "output_type": "stream",
     "text": [
      "              precision    recall  f1-score   support\n",
      "\n",
      "         dws       0.69      0.80      0.74        82\n",
      "         ups       0.87      0.74      0.80        82\n",
      "         sit       0.95      0.68      0.79        82\n",
      "         std       0.75      0.96      0.84        82\n",
      "         wlk       0.70      0.60      0.64        82\n",
      "         jog       0.89      1.00      0.94        82\n",
      "\n",
      "    accuracy                           0.80       492\n",
      "   macro avg       0.81      0.80      0.80       492\n",
      "weighted avg       0.81      0.80      0.80       492\n",
      "\n"
     ]
    }
   ],
   "source": [
    "print(classification_report(test_y, y_pred, target_names=act_names))"
   ]
  },
  {
   "cell_type": "code",
   "execution_count": 55,
   "id": "18924197-2cfd-444e-a20b-e5313f05fb2a",
   "metadata": {
    "execution": {
     "iopub.execute_input": "2022-08-08T17:21:18.015290Z",
     "iopub.status.busy": "2022-08-08T17:21:18.015118Z",
     "iopub.status.idle": "2022-08-08T17:21:18.224204Z",
     "shell.execute_reply": "2022-08-08T17:21:18.223747Z",
     "shell.execute_reply.started": "2022-08-08T17:21:18.015274Z"
    },
    "tags": []
   },
   "outputs": [
    {
     "data": {
      "image/png": "[encoded data removed]",
      "text/plain": [
       "<Figure size 864x864 with 2 Axes>"
      ]
     },
     "metadata": {
      "needs_background": "light"
     },
     "output_type": "display_data"
    }
   ],
   "source": [
    "acc = accuracy_score(test_y, y_pred)\n",
    "fig, ax = plt.subplots(figsize=(12, 12))\n",
    "ax.set_title(f\"MotionSense accuracy score: {acc:.3f}\")\n",
    "ConfusionMatrixDisplay.from_predictions(\n",
    "    test_y,\n",
    "    y_pred,\n",
    "    display_labels=act_names,\n",
    "    normalize=\"all\",\n",
    "    ax=ax,\n",
    "    xticks_rotation=45\n",
    ")\n",
    "plt.show()"
   ]
  },
  {
   "cell_type": "markdown",
   "id": "2f5ea24d-5126-48d4-8fcf-a23123b49b16",
   "metadata": {},
   "source": [
    "# FFT"
   ]
  },
  {
   "cell_type": "code",
   "execution_count": 15,
   "id": "2e96730c-5866-4b31-a0e1-756a0dd53857",
   "metadata": {
    "execution": {
     "iopub.execute_input": "2022-08-08T17:09:33.150299Z",
     "iopub.status.busy": "2022-08-08T17:09:33.150150Z",
     "iopub.status.idle": "2022-08-08T17:09:33.169112Z",
     "shell.execute_reply": "2022-08-08T17:09:33.168766Z",
     "shell.execute_reply.started": "2022-08-08T17:09:33.150284Z"
    },
    "tags": []
   },
   "outputs": [],
   "source": [
    "from librep.utils.dataset import MultiFeatureDataset\n",
    "from librep.transforms.fft import FFT\n",
    "from functools import partial\n",
    "\n",
    "features = [\n",
    "    \"userAcceleration.x\",\n",
    "    \"userAcceleration.y\",\n",
    "    \"userAcceleration.z\",\n",
    "    \"rotationRate.x\",\n",
    "    \"rotationRate.y\",\n",
    "    \"rotationRate.z\"\n",
    "]\n",
    "\n",
    "fft_transform = FFT()\n",
    "\n",
    "collate_fn = np.concatenate\n",
    "\n",
    "fft_train_dataset = MultiFeatureDataset(\n",
    "    train,\n",
    "    features_columns=features,\n",
    "    label_columns=\"class\",\n",
    "    per_sample_transform=fft_transform,\n",
    "    collate_fn=collate_fn\n",
    ")\n",
    "\n",
    "fft_validation_dataset = MultiFeatureDataset(\n",
    "    validation,\n",
    "    features_columns=features,\n",
    "    label_columns=\"class\",\n",
    "    per_sample_transform=fft_transform,\n",
    "    collate_fn=collate_fn\n",
    ")\n",
    "\n",
    "fft_test_dataset = MultiFeatureDataset(\n",
    "    test,\n",
    "    features_columns=features,\n",
    "    label_columns=\"class\",\n",
    "    per_sample_transform=fft_transform,\n",
    "    collate_fn=collate_fn\n",
    ")"
   ]
  },
  {
   "cell_type": "code",
   "execution_count": 16,
   "id": "c7bb1a95-974e-44d3-845b-daf3c20eb5bc",
   "metadata": {
    "execution": {
     "iopub.execute_input": "2022-08-08T17:09:33.169756Z",
     "iopub.status.busy": "2022-08-08T17:09:33.169650Z",
     "iopub.status.idle": "2022-08-08T17:09:55.066526Z",
     "shell.execute_reply": "2022-08-08T17:09:55.066073Z",
     "shell.execute_reply.started": "2022-08-08T17:09:33.169741Z"
    },
    "tags": []
   },
   "outputs": [],
   "source": [
    "fft_train_x, fft_train_y = load_full_data(fft_train_dataset, return_X_y=True)\n",
    "fft_validation_x, fft_validation_y = load_full_data(fft_validation_dataset, return_X_y=True)\n",
    "fft_test_x, fft_test_y = load_full_data(fft_test_dataset, return_X_y=True)"
   ]
  },
  {
   "cell_type": "code",
   "execution_count": 17,
   "id": "4602fee1-da8e-40f1-8d9e-e664fd750912",
   "metadata": {
    "execution": {
     "iopub.execute_input": "2022-08-08T17:09:55.067354Z",
     "iopub.status.busy": "2022-08-08T17:09:55.067224Z",
     "iopub.status.idle": "2022-08-08T17:09:55.087690Z",
     "shell.execute_reply": "2022-08-08T17:09:55.087209Z",
     "shell.execute_reply.started": "2022-08-08T17:09:55.067339Z"
    }
   },
   "outputs": [
    {
     "data": {
      "text/plain": [
       "((1914, 1800), (1914,))"
      ]
     },
     "execution_count": 17,
     "metadata": {},
     "output_type": "execute_result"
    }
   ],
   "source": [
    "fft_train_val_x = np.concatenate([fft_train_x, fft_validation_x])\n",
    "fft_train_val_y = np.concatenate([fft_train_y, fft_validation_y])\n",
    "fft_train_val_x.shape, fft_train_val_y.shape"
   ]
  },
  {
   "cell_type": "code",
   "execution_count": 18,
   "id": "80d226b4-326d-4875-b803-45e8fd819176",
   "metadata": {
    "execution": {
     "iopub.execute_input": "2022-08-08T17:09:55.088515Z",
     "iopub.status.busy": "2022-08-08T17:09:55.088357Z",
     "iopub.status.idle": "2022-08-08T17:09:58.380449Z",
     "shell.execute_reply": "2022-08-08T17:09:58.380136Z",
     "shell.execute_reply.started": "2022-08-08T17:09:55.088494Z"
    }
   },
   "outputs": [
    {
     "data": {
      "text/plain": [
       "RandomForestClassifier()"
      ]
     },
     "execution_count": 18,
     "metadata": {},
     "output_type": "execute_result"
    }
   ],
   "source": [
    "model = RandomForestClassifier()\n",
    "model.fit(fft_train_val_x, fft_train_val_y)"
   ]
  },
  {
   "cell_type": "code",
   "execution_count": 19,
   "id": "7d8441d9-6626-4de2-b4f0-1e96ff6c39e2",
   "metadata": {
    "execution": {
     "iopub.execute_input": "2022-08-08T17:09:58.381080Z",
     "iopub.status.busy": "2022-08-08T17:09:58.380949Z",
     "iopub.status.idle": "2022-08-08T17:09:58.393521Z",
     "shell.execute_reply": "2022-08-08T17:09:58.393160Z",
     "shell.execute_reply.started": "2022-08-08T17:09:58.381066Z"
    }
   },
   "outputs": [
    {
     "data": {
      "text/plain": [
       "((492, 1800), (492,))"
      ]
     },
     "execution_count": 19,
     "metadata": {},
     "output_type": "execute_result"
    }
   ],
   "source": [
    "fft_test_x.shape, fft_test_y.shape"
   ]
  },
  {
   "cell_type": "code",
   "execution_count": 20,
   "id": "a2058a00-250e-44e9-a937-9535fed42d18",
   "metadata": {
    "execution": {
     "iopub.execute_input": "2022-08-08T17:09:58.394208Z",
     "iopub.status.busy": "2022-08-08T17:09:58.394070Z",
     "iopub.status.idle": "2022-08-08T17:09:58.420022Z",
     "shell.execute_reply": "2022-08-08T17:09:58.419654Z",
     "shell.execute_reply.started": "2022-08-08T17:09:58.394194Z"
    }
   },
   "outputs": [],
   "source": [
    "fft_y_pred = model.predict(fft_test_x)"
   ]
  },
  {
   "cell_type": "code",
   "execution_count": 21,
   "id": "59a2a95e-0e7e-4f43-a667-28b3720c2dce",
   "metadata": {
    "execution": {
     "iopub.execute_input": "2022-08-08T17:09:58.420674Z",
     "iopub.status.busy": "2022-08-08T17:09:58.420565Z",
     "iopub.status.idle": "2022-08-08T17:09:58.435402Z",
     "shell.execute_reply": "2022-08-08T17:09:58.435010Z",
     "shell.execute_reply.started": "2022-08-08T17:09:58.420660Z"
    }
   },
   "outputs": [
    {
     "name": "stdout",
     "output_type": "stream",
     "text": [
      "              precision    recall  f1-score   support\n",
      "\n",
      "         dws       0.74      0.88      0.80        82\n",
      "         ups       0.91      0.78      0.84        82\n",
      "         sit       0.97      0.79      0.87        82\n",
      "         std       0.82      0.98      0.89        82\n",
      "         wlk       0.93      0.90      0.91        82\n",
      "         jog       0.95      0.94      0.94        82\n",
      "\n",
      "    accuracy                           0.88       492\n",
      "   macro avg       0.89      0.88      0.88       492\n",
      "weighted avg       0.89      0.88      0.88       492\n",
      "\n"
     ]
    }
   ],
   "source": [
    "print(classification_report(fft_test_y, fft_y_pred, target_names=act_names))"
   ]
  },
  {
   "cell_type": "code",
   "execution_count": 57,
   "id": "6e76f766-af5c-46b8-a0d1-8c801eb95096",
   "metadata": {
    "execution": {
     "iopub.execute_input": "2022-08-08T17:21:47.549370Z",
     "iopub.status.busy": "2022-08-08T17:21:47.549235Z",
     "iopub.status.idle": "2022-08-08T17:21:47.776618Z",
     "shell.execute_reply": "2022-08-08T17:21:47.776231Z",
     "shell.execute_reply.started": "2022-08-08T17:21:47.549355Z"
    },
    "tags": []
   },
   "outputs": [
    {
     "data": {
      "image/png": "[encoded data removed]",
      "text/plain": [
       "<Figure size 864x864 with 2 Axes>"
      ]
     },
     "metadata": {
      "needs_background": "light"
     },
     "output_type": "display_data"
    }
   ],
   "source": [
    "acc = accuracy_score(fft_test_y, fft_y_pred)\n",
    "fig, ax = plt.subplots(figsize=(12, 12))\n",
    "ax.set_title(f\"MotionSense accuracy score: {acc:.3f}\")\n",
    "ConfusionMatrixDisplay.from_predictions(\n",
    "    fft_test_y,\n",
    "    fft_y_pred,\n",
    "    display_labels=act_names,\n",
    "    normalize=\"all\",\n",
    "    ax=ax,\n",
    "    xticks_rotation=45\n",
    ")\n",
    "plt.show()"
   ]
  },
  {
   "cell_type": "markdown",
   "id": "eb4b1848-693e-4703-85ea-a8db802f3ce3",
   "metadata": {},
   "source": [
    "# Fused"
   ]
  },
  {
   "cell_type": "code",
   "execution_count": 22,
   "id": "652d4b75-7798-4776-8b8e-91c9c2e68b78",
   "metadata": {
    "execution": {
     "iopub.execute_input": "2022-08-08T17:09:58.436157Z",
     "iopub.status.busy": "2022-08-08T17:09:58.435988Z",
     "iopub.status.idle": "2022-08-08T17:09:58.463040Z",
     "shell.execute_reply": "2022-08-08T17:09:58.462582Z",
     "shell.execute_reply.started": "2022-08-08T17:09:58.436136Z"
    },
    "tags": []
   },
   "outputs": [
    {
     "data": {
      "text/plain": [
       "((1914, 3600), (1914,))"
      ]
     },
     "execution_count": 22,
     "metadata": {},
     "output_type": "execute_result"
    }
   ],
   "source": [
    "fused_train_val_x = np.concatenate([train_val_x, fft_train_val_x], axis=1)\n",
    "fused_train_val_y = train_val_y\n",
    "fused_train_val_x.shape, fused_train_val_y.shape"
   ]
  },
  {
   "cell_type": "code",
   "execution_count": 23,
   "id": "95f7b8a9-1ca1-4ec1-ad00-c3649f3e142a",
   "metadata": {
    "execution": {
     "iopub.execute_input": "2022-08-08T17:09:58.463753Z",
     "iopub.status.busy": "2022-08-08T17:09:58.463612Z",
     "iopub.status.idle": "2022-08-08T17:09:58.481173Z",
     "shell.execute_reply": "2022-08-08T17:09:58.480719Z",
     "shell.execute_reply.started": "2022-08-08T17:09:58.463737Z"
    },
    "tags": []
   },
   "outputs": [
    {
     "data": {
      "text/plain": [
       "((492, 3600), (492,))"
      ]
     },
     "execution_count": 23,
     "metadata": {},
     "output_type": "execute_result"
    }
   ],
   "source": [
    "fused_test_x = np.concatenate([test_x, fft_test_x], axis=1)\n",
    "fused_test_y = test_y\n",
    "fused_test_x.shape, fused_test_y.shape"
   ]
  },
  {
   "cell_type": "code",
   "execution_count": 24,
   "id": "b12d1d6c-0117-4a93-8e7e-f33ad310b7d1",
   "metadata": {
    "execution": {
     "iopub.execute_input": "2022-08-08T17:09:58.481998Z",
     "iopub.status.busy": "2022-08-08T17:09:58.481819Z",
     "iopub.status.idle": "2022-08-08T17:10:03.141930Z",
     "shell.execute_reply": "2022-08-08T17:10:03.141476Z",
     "shell.execute_reply.started": "2022-08-08T17:09:58.481980Z"
    },
    "tags": []
   },
   "outputs": [
    {
     "data": {
      "text/plain": [
       "RandomForestClassifier()"
      ]
     },
     "execution_count": 24,
     "metadata": {},
     "output_type": "execute_result"
    }
   ],
   "source": [
    "model = RandomForestClassifier()\n",
    "model.fit(fused_train_val_x, fused_train_val_y)"
   ]
  },
  {
   "cell_type": "code",
   "execution_count": 25,
   "id": "fce4633d-9d32-4678-831f-1bb6eae8b36b",
   "metadata": {
    "execution": {
     "iopub.execute_input": "2022-08-08T17:10:03.142620Z",
     "iopub.status.busy": "2022-08-08T17:10:03.142483Z",
     "iopub.status.idle": "2022-08-08T17:10:03.171608Z",
     "shell.execute_reply": "2022-08-08T17:10:03.171175Z",
     "shell.execute_reply.started": "2022-08-08T17:10:03.142606Z"
    },
    "tags": []
   },
   "outputs": [],
   "source": [
    "fused_y_pred = model.predict(fused_test_x)"
   ]
  },
  {
   "cell_type": "code",
   "execution_count": 26,
   "id": "d55d4947-1e48-4dc1-99dc-8a15e60a3166",
   "metadata": {
    "execution": {
     "iopub.execute_input": "2022-08-08T17:10:03.173688Z",
     "iopub.status.busy": "2022-08-08T17:10:03.173585Z",
     "iopub.status.idle": "2022-08-08T17:10:03.187781Z",
     "shell.execute_reply": "2022-08-08T17:10:03.187357Z",
     "shell.execute_reply.started": "2022-08-08T17:10:03.173674Z"
    },
    "tags": []
   },
   "outputs": [
    {
     "name": "stdout",
     "output_type": "stream",
     "text": [
      "              precision    recall  f1-score   support\n",
      "\n",
      "         dws       0.78      0.90      0.84        82\n",
      "         ups       0.92      0.87      0.89        82\n",
      "         sit       0.93      0.82      0.87        82\n",
      "         std       0.84      0.94      0.89        82\n",
      "         wlk       0.92      0.85      0.89        82\n",
      "         jog       0.94      0.91      0.93        82\n",
      "\n",
      "    accuracy                           0.88       492\n",
      "   macro avg       0.89      0.88      0.88       492\n",
      "weighted avg       0.89      0.88      0.88       492\n",
      "\n"
     ]
    }
   ],
   "source": [
    "print(classification_report(fused_test_y, fused_y_pred, target_names=act_names))"
   ]
  },
  {
   "cell_type": "code",
   "execution_count": 58,
   "id": "e53ed3ff-254a-4008-8d25-815b570932d2",
   "metadata": {
    "execution": {
     "iopub.execute_input": "2022-08-08T17:22:06.804741Z",
     "iopub.status.busy": "2022-08-08T17:22:06.804551Z",
     "iopub.status.idle": "2022-08-08T17:22:07.021803Z",
     "shell.execute_reply": "2022-08-08T17:22:07.021409Z",
     "shell.execute_reply.started": "2022-08-08T17:22:06.804708Z"
    },
    "tags": []
   },
   "outputs": [
    {
     "data": {
      "image/png": "[encoded data removed]",
      "text/plain": [
       "<Figure size 864x864 with 2 Axes>"
      ]
     },
     "metadata": {
      "needs_background": "light"
     },
     "output_type": "display_data"
    }
   ],
   "source": [
    "acc = accuracy_score(fused_test_y, fused_y_pred)\n",
    "fig, ax = plt.subplots(figsize=(12, 12))\n",
    "ax.set_title(f\"MotionSense accuracy score: {acc:.3f}\")\n",
    "ConfusionMatrixDisplay.from_predictions(\n",
    "    fused_test_y,\n",
    "    fused_y_pred,\n",
    "    display_labels=act_names,\n",
    "    normalize=\"all\",\n",
    "    ax=ax,\n",
    "    xticks_rotation=45\n",
    ")\n",
    "plt.show()"
   ]
  }
 ],
 "metadata": {
  "kernelspec": {
   "display_name": "Python 3 (ipykernel)",
   "language": "python",
   "name": "python3"
  },
  "language_info": {
   "codemirror_mode": {
    "name": "ipython",
    "version": 3
   },
   "file_extension": ".py",
   "mimetype": "text/x-python",
   "name": "python",
   "nbconvert_exporter": "python",
   "pygments_lexer": "ipython3",
   "version": "3.8.10"
  }
 },
 "nbformat": 4,
 "nbformat_minor": 5
}
