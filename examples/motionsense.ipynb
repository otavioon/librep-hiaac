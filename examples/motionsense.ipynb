{
 "cells": [
  {
   "cell_type": "markdown",
   "id": "faa25327-6b2c-491a-9ed6-718312880e28",
   "metadata": {},
   "source": [
    "# Example of Training with MotionSense"
   ]
  },
  {
   "cell_type": "code",
   "execution_count": 1,
   "id": "e9820ad5-a563-4ba9-912b-aa75f35b67bc",
   "metadata": {
    "execution": {
     "iopub.execute_input": "2022-08-24T15:46:02.015927Z",
     "iopub.status.busy": "2022-08-24T15:46:02.015823Z",
     "iopub.status.idle": "2022-08-24T15:46:02.024555Z",
     "shell.execute_reply": "2022-08-24T15:46:02.024219Z",
     "shell.execute_reply.started": "2022-08-24T15:46:02.015913Z"
    },
    "tags": []
   },
   "outputs": [],
   "source": [
    "%load_ext autoreload\n",
    "%autoreload 2"
   ]
  },
  {
   "cell_type": "code",
   "execution_count": 2,
   "id": "c837fe5a-d359-46c1-8aa8-9a5043ae37f9",
   "metadata": {
    "execution": {
     "iopub.execute_input": "2022-08-24T15:46:02.025227Z",
     "iopub.status.busy": "2022-08-24T15:46:02.025093Z",
     "iopub.status.idle": "2022-08-24T15:46:02.226614Z",
     "shell.execute_reply": "2022-08-24T15:46:02.226182Z",
     "shell.execute_reply.started": "2022-08-24T15:46:02.025213Z"
    },
    "tags": []
   },
   "outputs": [],
   "source": [
    "import sys\n",
    "import pandas as pd\n",
    "from pathlib import Path\n",
    "\n",
    "sys.path.append(\"..\")"
   ]
  },
  {
   "cell_type": "markdown",
   "id": "72fc160c-b7c7-4e15-bf79-6e8d97d9fb50",
   "metadata": {},
   "source": [
    "## Read Processed Data"
   ]
  },
  {
   "cell_type": "code",
   "execution_count": 3,
   "id": "e690c5cf-fa42-43b0-ac01-8fbef4a99498",
   "metadata": {
    "execution": {
     "iopub.execute_input": "2022-08-24T15:46:02.231666Z",
     "iopub.status.busy": "2022-08-24T15:46:02.231564Z",
     "iopub.status.idle": "2022-08-24T15:46:06.421899Z",
     "shell.execute_reply": "2022-08-24T15:46:06.421485Z",
     "shell.execute_reply.started": "2022-08-24T15:46:02.231652Z"
    },
    "tags": []
   },
   "outputs": [],
   "source": [
    "from librep.utils.dataset import PandasDatasetsIO"
   ]
  },
  {
   "cell_type": "code",
   "execution_count": 4,
   "id": "f999085a-ddf5-477d-8f89-e609519e74fe",
   "metadata": {
    "execution": {
     "iopub.execute_input": "2022-08-24T15:46:06.422628Z",
     "iopub.status.busy": "2022-08-24T15:46:06.422505Z",
     "iopub.status.idle": "2022-08-24T15:46:07.741214Z",
     "shell.execute_reply": "2022-08-24T15:46:07.740761Z",
     "shell.execute_reply.started": "2022-08-24T15:46:06.422613Z"
    },
    "tags": []
   },
   "outputs": [],
   "source": [
    "dataset_path = Path(\"../data/views/MotionSense/balanced_view\")\n",
    "train, validation, test = PandasDatasetsIO(dataset_path).load()"
   ]
  },
  {
   "cell_type": "code",
   "execution_count": 5,
   "id": "e75aaf02-e570-4fe8-89f7-272af288d0c8",
   "metadata": {
    "execution": {
     "iopub.execute_input": "2022-08-24T15:46:07.742086Z",
     "iopub.status.busy": "2022-08-24T15:46:07.741923Z",
     "iopub.status.idle": "2022-08-24T15:46:07.854794Z",
     "shell.execute_reply": "2022-08-24T15:46:07.854361Z",
     "shell.execute_reply.started": "2022-08-24T15:46:07.742069Z"
    },
    "tags": []
   },
   "outputs": [
    {
     "data": {
      "text/html": [
       "<div>\n",
       "<style scoped>\n",
       "    .dataframe tbody tr th:only-of-type {\n",
       "        vertical-align: middle;\n",
       "    }\n",
       "\n",
       "    .dataframe tbody tr th {\n",
       "        vertical-align: top;\n",
       "    }\n",
       "\n",
       "    .dataframe thead th {\n",
       "        text-align: right;\n",
       "    }\n",
       "</style>\n",
       "<table border=\"1\" class=\"dataframe\">\n",
       "  <thead>\n",
       "    <tr style=\"text-align: right;\">\n",
       "      <th></th>\n",
       "      <th>Unnamed: 0</th>\n",
       "      <th>attitude.roll-0</th>\n",
       "      <th>attitude.roll-1</th>\n",
       "      <th>attitude.roll-2</th>\n",
       "      <th>attitude.roll-3</th>\n",
       "      <th>attitude.roll-4</th>\n",
       "      <th>attitude.roll-5</th>\n",
       "      <th>attitude.roll-6</th>\n",
       "      <th>attitude.roll-7</th>\n",
       "      <th>attitude.roll-8</th>\n",
       "      <th>...</th>\n",
       "      <th>userAcceleration.z-295</th>\n",
       "      <th>userAcceleration.z-296</th>\n",
       "      <th>userAcceleration.z-297</th>\n",
       "      <th>userAcceleration.z-298</th>\n",
       "      <th>userAcceleration.z-299</th>\n",
       "      <th>activity code</th>\n",
       "      <th>length</th>\n",
       "      <th>trial_code</th>\n",
       "      <th>index</th>\n",
       "      <th>user</th>\n",
       "    </tr>\n",
       "  </thead>\n",
       "  <tbody>\n",
       "    <tr>\n",
       "      <th>0</th>\n",
       "      <td>0</td>\n",
       "      <td>1.093387</td>\n",
       "      <td>1.129419</td>\n",
       "      <td>1.166286</td>\n",
       "      <td>1.176539</td>\n",
       "      <td>1.218638</td>\n",
       "      <td>1.218076</td>\n",
       "      <td>1.169095</td>\n",
       "      <td>1.104227</td>\n",
       "      <td>1.041327</td>\n",
       "      <td>...</td>\n",
       "      <td>0.025803</td>\n",
       "      <td>0.015770</td>\n",
       "      <td>0.109555</td>\n",
       "      <td>0.172113</td>\n",
       "      <td>0.248941</td>\n",
       "      <td>0</td>\n",
       "      <td>300</td>\n",
       "      <td>1</td>\n",
       "      <td>1200</td>\n",
       "      <td>16</td>\n",
       "    </tr>\n",
       "    <tr>\n",
       "      <th>1</th>\n",
       "      <td>1</td>\n",
       "      <td>1.528132</td>\n",
       "      <td>1.527992</td>\n",
       "      <td>1.527765</td>\n",
       "      <td>1.516768</td>\n",
       "      <td>1.493941</td>\n",
       "      <td>1.476302</td>\n",
       "      <td>1.455153</td>\n",
       "      <td>1.441702</td>\n",
       "      <td>1.443440</td>\n",
       "      <td>...</td>\n",
       "      <td>0.578416</td>\n",
       "      <td>0.572674</td>\n",
       "      <td>0.490945</td>\n",
       "      <td>0.345010</td>\n",
       "      <td>0.129649</td>\n",
       "      <td>0</td>\n",
       "      <td>300</td>\n",
       "      <td>1</td>\n",
       "      <td>0</td>\n",
       "      <td>1</td>\n",
       "    </tr>\n",
       "    <tr>\n",
       "      <th>2</th>\n",
       "      <td>2</td>\n",
       "      <td>-1.331274</td>\n",
       "      <td>-1.315688</td>\n",
       "      <td>-1.315034</td>\n",
       "      <td>-1.315621</td>\n",
       "      <td>-1.287623</td>\n",
       "      <td>-1.218232</td>\n",
       "      <td>-1.139884</td>\n",
       "      <td>-1.054611</td>\n",
       "      <td>-0.970854</td>\n",
       "      <td>...</td>\n",
       "      <td>0.102089</td>\n",
       "      <td>0.124263</td>\n",
       "      <td>0.122183</td>\n",
       "      <td>0.125418</td>\n",
       "      <td>0.230901</td>\n",
       "      <td>0</td>\n",
       "      <td>300</td>\n",
       "      <td>2</td>\n",
       "      <td>600</td>\n",
       "      <td>21</td>\n",
       "    </tr>\n",
       "    <tr>\n",
       "      <th>3</th>\n",
       "      <td>3</td>\n",
       "      <td>0.715184</td>\n",
       "      <td>0.679044</td>\n",
       "      <td>0.662668</td>\n",
       "      <td>0.662928</td>\n",
       "      <td>0.670537</td>\n",
       "      <td>0.666622</td>\n",
       "      <td>0.652839</td>\n",
       "      <td>0.662879</td>\n",
       "      <td>0.723967</td>\n",
       "      <td>...</td>\n",
       "      <td>-0.033105</td>\n",
       "      <td>0.119528</td>\n",
       "      <td>0.057709</td>\n",
       "      <td>-0.057865</td>\n",
       "      <td>-0.097547</td>\n",
       "      <td>0</td>\n",
       "      <td>300</td>\n",
       "      <td>11</td>\n",
       "      <td>0</td>\n",
       "      <td>7</td>\n",
       "    </tr>\n",
       "    <tr>\n",
       "      <th>4</th>\n",
       "      <td>4</td>\n",
       "      <td>-2.004835</td>\n",
       "      <td>-2.041697</td>\n",
       "      <td>-2.044302</td>\n",
       "      <td>-2.038474</td>\n",
       "      <td>-2.055756</td>\n",
       "      <td>-2.102689</td>\n",
       "      <td>-2.158746</td>\n",
       "      <td>-2.202283</td>\n",
       "      <td>-2.232511</td>\n",
       "      <td>...</td>\n",
       "      <td>0.072444</td>\n",
       "      <td>0.005214</td>\n",
       "      <td>-0.231522</td>\n",
       "      <td>-0.560348</td>\n",
       "      <td>-0.678777</td>\n",
       "      <td>0</td>\n",
       "      <td>300</td>\n",
       "      <td>2</td>\n",
       "      <td>1800</td>\n",
       "      <td>19</td>\n",
       "    </tr>\n",
       "    <tr>\n",
       "      <th>...</th>\n",
       "      <td>...</td>\n",
       "      <td>...</td>\n",
       "      <td>...</td>\n",
       "      <td>...</td>\n",
       "      <td>...</td>\n",
       "      <td>...</td>\n",
       "      <td>...</td>\n",
       "      <td>...</td>\n",
       "      <td>...</td>\n",
       "      <td>...</td>\n",
       "      <td>...</td>\n",
       "      <td>...</td>\n",
       "      <td>...</td>\n",
       "      <td>...</td>\n",
       "      <td>...</td>\n",
       "      <td>...</td>\n",
       "      <td>...</td>\n",
       "      <td>...</td>\n",
       "      <td>...</td>\n",
       "      <td>...</td>\n",
       "      <td>...</td>\n",
       "    </tr>\n",
       "    <tr>\n",
       "      <th>1909</th>\n",
       "      <td>325</td>\n",
       "      <td>-0.809114</td>\n",
       "      <td>-0.504596</td>\n",
       "      <td>-0.200415</td>\n",
       "      <td>-0.069472</td>\n",
       "      <td>-0.009363</td>\n",
       "      <td>-0.019789</td>\n",
       "      <td>-0.084377</td>\n",
       "      <td>-0.162347</td>\n",
       "      <td>-0.184036</td>\n",
       "      <td>...</td>\n",
       "      <td>-0.754819</td>\n",
       "      <td>-0.570919</td>\n",
       "      <td>-1.006368</td>\n",
       "      <td>-1.232031</td>\n",
       "      <td>-0.321935</td>\n",
       "      <td>5</td>\n",
       "      <td>300</td>\n",
       "      <td>16</td>\n",
       "      <td>0</td>\n",
       "      <td>6</td>\n",
       "    </tr>\n",
       "    <tr>\n",
       "      <th>1910</th>\n",
       "      <td>326</td>\n",
       "      <td>1.225254</td>\n",
       "      <td>1.219554</td>\n",
       "      <td>1.262265</td>\n",
       "      <td>1.213586</td>\n",
       "      <td>1.229215</td>\n",
       "      <td>1.309294</td>\n",
       "      <td>1.371141</td>\n",
       "      <td>1.403459</td>\n",
       "      <td>1.491145</td>\n",
       "      <td>...</td>\n",
       "      <td>1.737598</td>\n",
       "      <td>1.105376</td>\n",
       "      <td>-0.184008</td>\n",
       "      <td>-1.426659</td>\n",
       "      <td>-1.711004</td>\n",
       "      <td>5</td>\n",
       "      <td>300</td>\n",
       "      <td>9</td>\n",
       "      <td>4500</td>\n",
       "      <td>2</td>\n",
       "    </tr>\n",
       "    <tr>\n",
       "      <th>1911</th>\n",
       "      <td>327</td>\n",
       "      <td>3.138105</td>\n",
       "      <td>-3.105622</td>\n",
       "      <td>-3.073557</td>\n",
       "      <td>-3.034694</td>\n",
       "      <td>-2.983038</td>\n",
       "      <td>-2.938967</td>\n",
       "      <td>-2.891639</td>\n",
       "      <td>-2.733605</td>\n",
       "      <td>-1.150408</td>\n",
       "      <td>...</td>\n",
       "      <td>-1.048692</td>\n",
       "      <td>-0.806513</td>\n",
       "      <td>-0.533924</td>\n",
       "      <td>1.383309</td>\n",
       "      <td>-0.669395</td>\n",
       "      <td>5</td>\n",
       "      <td>300</td>\n",
       "      <td>9</td>\n",
       "      <td>0</td>\n",
       "      <td>6</td>\n",
       "    </tr>\n",
       "    <tr>\n",
       "      <th>1912</th>\n",
       "      <td>328</td>\n",
       "      <td>1.476984</td>\n",
       "      <td>1.582842</td>\n",
       "      <td>1.692089</td>\n",
       "      <td>1.797948</td>\n",
       "      <td>1.852740</td>\n",
       "      <td>1.886674</td>\n",
       "      <td>1.885654</td>\n",
       "      <td>1.810233</td>\n",
       "      <td>1.708376</td>\n",
       "      <td>...</td>\n",
       "      <td>-0.326163</td>\n",
       "      <td>-0.657696</td>\n",
       "      <td>-0.787899</td>\n",
       "      <td>0.421130</td>\n",
       "      <td>0.055916</td>\n",
       "      <td>5</td>\n",
       "      <td>300</td>\n",
       "      <td>9</td>\n",
       "      <td>600</td>\n",
       "      <td>2</td>\n",
       "    </tr>\n",
       "    <tr>\n",
       "      <th>1913</th>\n",
       "      <td>329</td>\n",
       "      <td>1.080556</td>\n",
       "      <td>1.184144</td>\n",
       "      <td>1.290674</td>\n",
       "      <td>1.377341</td>\n",
       "      <td>1.504204</td>\n",
       "      <td>1.603406</td>\n",
       "      <td>1.656496</td>\n",
       "      <td>1.690602</td>\n",
       "      <td>1.661182</td>\n",
       "      <td>...</td>\n",
       "      <td>1.386765</td>\n",
       "      <td>1.357538</td>\n",
       "      <td>0.993484</td>\n",
       "      <td>-0.389625</td>\n",
       "      <td>0.076809</td>\n",
       "      <td>5</td>\n",
       "      <td>300</td>\n",
       "      <td>9</td>\n",
       "      <td>1500</td>\n",
       "      <td>2</td>\n",
       "    </tr>\n",
       "  </tbody>\n",
       "</table>\n",
       "<p>1914 rows × 3606 columns</p>\n",
       "</div>"
      ],
      "text/plain": [
       "      Unnamed: 0  attitude.roll-0  attitude.roll-1  attitude.roll-2  \\\n",
       "0              0         1.093387         1.129419         1.166286   \n",
       "1              1         1.528132         1.527992         1.527765   \n",
       "2              2        -1.331274        -1.315688        -1.315034   \n",
       "3              3         0.715184         0.679044         0.662668   \n",
       "4              4        -2.004835        -2.041697        -2.044302   \n",
       "...          ...              ...              ...              ...   \n",
       "1909         325        -0.809114        -0.504596        -0.200415   \n",
       "1910         326         1.225254         1.219554         1.262265   \n",
       "1911         327         3.138105        -3.105622        -3.073557   \n",
       "1912         328         1.476984         1.582842         1.692089   \n",
       "1913         329         1.080556         1.184144         1.290674   \n",
       "\n",
       "      attitude.roll-3  attitude.roll-4  attitude.roll-5  attitude.roll-6  \\\n",
       "0            1.176539         1.218638         1.218076         1.169095   \n",
       "1            1.516768         1.493941         1.476302         1.455153   \n",
       "2           -1.315621        -1.287623        -1.218232        -1.139884   \n",
       "3            0.662928         0.670537         0.666622         0.652839   \n",
       "4           -2.038474        -2.055756        -2.102689        -2.158746   \n",
       "...               ...              ...              ...              ...   \n",
       "1909        -0.069472        -0.009363        -0.019789        -0.084377   \n",
       "1910         1.213586         1.229215         1.309294         1.371141   \n",
       "1911        -3.034694        -2.983038        -2.938967        -2.891639   \n",
       "1912         1.797948         1.852740         1.886674         1.885654   \n",
       "1913         1.377341         1.504204         1.603406         1.656496   \n",
       "\n",
       "      attitude.roll-7  attitude.roll-8  ...  userAcceleration.z-295  \\\n",
       "0            1.104227         1.041327  ...                0.025803   \n",
       "1            1.441702         1.443440  ...                0.578416   \n",
       "2           -1.054611        -0.970854  ...                0.102089   \n",
       "3            0.662879         0.723967  ...               -0.033105   \n",
       "4           -2.202283        -2.232511  ...                0.072444   \n",
       "...               ...              ...  ...                     ...   \n",
       "1909        -0.162347        -0.184036  ...               -0.754819   \n",
       "1910         1.403459         1.491145  ...                1.737598   \n",
       "1911        -2.733605        -1.150408  ...               -1.048692   \n",
       "1912         1.810233         1.708376  ...               -0.326163   \n",
       "1913         1.690602         1.661182  ...                1.386765   \n",
       "\n",
       "      userAcceleration.z-296  userAcceleration.z-297  userAcceleration.z-298  \\\n",
       "0                   0.015770                0.109555                0.172113   \n",
       "1                   0.572674                0.490945                0.345010   \n",
       "2                   0.124263                0.122183                0.125418   \n",
       "3                   0.119528                0.057709               -0.057865   \n",
       "4                   0.005214               -0.231522               -0.560348   \n",
       "...                      ...                     ...                     ...   \n",
       "1909               -0.570919               -1.006368               -1.232031   \n",
       "1910                1.105376               -0.184008               -1.426659   \n",
       "1911               -0.806513               -0.533924                1.383309   \n",
       "1912               -0.657696               -0.787899                0.421130   \n",
       "1913                1.357538                0.993484               -0.389625   \n",
       "\n",
       "      userAcceleration.z-299  activity code  length  trial_code  index  user  \n",
       "0                   0.248941              0     300           1   1200    16  \n",
       "1                   0.129649              0     300           1      0     1  \n",
       "2                   0.230901              0     300           2    600    21  \n",
       "3                  -0.097547              0     300          11      0     7  \n",
       "4                  -0.678777              0     300           2   1800    19  \n",
       "...                      ...            ...     ...         ...    ...   ...  \n",
       "1909               -0.321935              5     300          16      0     6  \n",
       "1910               -1.711004              5     300           9   4500     2  \n",
       "1911               -0.669395              5     300           9      0     6  \n",
       "1912                0.055916              5     300           9    600     2  \n",
       "1913                0.076809              5     300           9   1500     2  \n",
       "\n",
       "[1914 rows x 3606 columns]"
      ]
     },
     "execution_count": 5,
     "metadata": {},
     "output_type": "execute_result"
    }
   ],
   "source": [
    "train = pd.concat([train, validation], ignore_index=True)\n",
    "train"
   ]
  },
  {
   "cell_type": "markdown",
   "id": "ea02b41b-6fb3-4e95-89fd-4c9e4fff921d",
   "metadata": {},
   "source": [
    "## Create the MotionSense Dataset"
   ]
  },
  {
   "cell_type": "code",
   "execution_count": 6,
   "id": "38f8f00f-3c51-47a6-9d1d-84866a5d844d",
   "metadata": {
    "execution": {
     "iopub.execute_input": "2022-08-24T15:46:14.046786Z",
     "iopub.status.busy": "2022-08-24T15:46:14.046279Z",
     "iopub.status.idle": "2022-08-24T15:46:14.076392Z",
     "shell.execute_reply": "2022-08-24T15:46:14.075918Z",
     "shell.execute_reply.started": "2022-08-24T15:46:14.046753Z"
    },
    "tags": []
   },
   "outputs": [],
   "source": [
    "from librep.datasets.common import PandasMultiModalDataset"
   ]
  },
  {
   "cell_type": "code",
   "execution_count": 7,
   "id": "8ab3ea14-32e5-4b29-aacc-674209c7a933",
   "metadata": {
    "execution": {
     "iopub.execute_input": "2022-08-24T15:46:14.411557Z",
     "iopub.status.busy": "2022-08-24T15:46:14.411390Z",
     "iopub.status.idle": "2022-08-24T15:46:14.451704Z",
     "shell.execute_reply": "2022-08-24T15:46:14.451214Z",
     "shell.execute_reply.started": "2022-08-24T15:46:14.411539Z"
    },
    "tags": []
   },
   "outputs": [],
   "source": [
    "features = [\n",
    "    \"userAcceleration.x\",\n",
    "    \"userAcceleration.y\",\n",
    "    \"userAcceleration.z\",\n",
    "    \"rotationRate.x\",\n",
    "    \"rotationRate.y\",\n",
    "    \"rotationRate.z\"\n",
    "]\n",
    "\n",
    "train_dataset = PandasMultiModalDataset(\n",
    "    train,\n",
    "    feature_prefixes=features,\n",
    "    label_columns=\"activity code\",\n",
    "    as_array=True\n",
    ")\n",
    "validation_dataset = PandasMultiModalDataset(\n",
    "    validation,\n",
    "    feature_prefixes=features,\n",
    "    label_columns=\"activity code\",\n",
    "    as_array=True\n",
    ")\n",
    "test_dataset = PandasMultiModalDataset(\n",
    "    test,\n",
    "    feature_prefixes=features,\n",
    "    label_columns=\"activity code\",\n",
    "    as_array=True\n",
    ")"
   ]
  },
  {
   "cell_type": "code",
   "execution_count": 8,
   "id": "f14c259f-7800-4ab9-8890-9f2da8feca99",
   "metadata": {
    "execution": {
     "iopub.execute_input": "2022-08-24T15:46:15.498436Z",
     "iopub.status.busy": "2022-08-24T15:46:15.498282Z",
     "iopub.status.idle": "2022-08-24T15:46:15.528544Z",
     "shell.execute_reply": "2022-08-24T15:46:15.528009Z",
     "shell.execute_reply.started": "2022-08-24T15:46:15.498421Z"
    },
    "tags": []
   },
   "outputs": [
    {
     "data": {
      "text/plain": [
       "(array([-0.120843,  0.470622,  0.269861, ..., -0.046833, -0.283947,\n",
       "        -0.521564]),\n",
       " 0)"
      ]
     },
     "execution_count": 8,
     "metadata": {},
     "output_type": "execute_result"
    }
   ],
   "source": [
    "train_dataset[0]"
   ]
  },
  {
   "cell_type": "code",
   "execution_count": 9,
   "id": "57b6f02d-e0e2-438b-9547-9740ca05d3d1",
   "metadata": {
    "execution": {
     "iopub.execute_input": "2022-08-24T15:46:16.968720Z",
     "iopub.status.busy": "2022-08-24T15:46:16.968563Z",
     "iopub.status.idle": "2022-08-24T15:46:16.994090Z",
     "shell.execute_reply": "2022-08-24T15:46:16.993631Z",
     "shell.execute_reply.started": "2022-08-24T15:46:16.968703Z"
    },
    "tags": []
   },
   "outputs": [
    {
     "data": {
      "text/plain": [
       "([(0, 300), (300, 600), (600, 900), (900, 1200), (1200, 1500), (1500, 1800)],\n",
       " ['userAcceleration.x',\n",
       "  'userAcceleration.y',\n",
       "  'userAcceleration.z',\n",
       "  'rotationRate.x',\n",
       "  'rotationRate.y',\n",
       "  'rotationRate.z'],\n",
       " 6)"
      ]
     },
     "execution_count": 9,
     "metadata": {},
     "output_type": "execute_result"
    }
   ],
   "source": [
    "train_dataset.window_slices, train_dataset.window_names, train_dataset.num_windows"
   ]
  },
  {
   "cell_type": "code",
   "execution_count": 10,
   "id": "91462ee9-e382-4267-b2d6-4ac2308ca961",
   "metadata": {
    "execution": {
     "iopub.execute_input": "2022-08-24T15:46:19.582767Z",
     "iopub.status.busy": "2022-08-24T15:46:19.582628Z",
     "iopub.status.idle": "2022-08-24T15:46:19.606267Z",
     "shell.execute_reply": "2022-08-24T15:46:19.605919Z",
     "shell.execute_reply.started": "2022-08-24T15:46:19.582752Z"
    },
    "tags": []
   },
   "outputs": [],
   "source": [
    "from librep.datasets.common import TransformMultiModalDataset\n",
    "from librep.transforms.fft import FFT"
   ]
  },
  {
   "cell_type": "code",
   "execution_count": 11,
   "id": "efc39e40-e26b-4898-8b3b-e130c9c798ea",
   "metadata": {
    "execution": {
     "iopub.execute_input": "2022-08-24T15:46:20.242164Z",
     "iopub.status.busy": "2022-08-24T15:46:20.241631Z",
     "iopub.status.idle": "2022-08-24T15:46:25.020842Z",
     "shell.execute_reply": "2022-08-24T15:46:25.020382Z",
     "shell.execute_reply.started": "2022-08-24T15:46:20.242137Z"
    },
    "tags": []
   },
   "outputs": [
    {
     "data": {
      "text/plain": [
       "([(0, 300), (300, 600), (600, 900), (900, 1200), (1200, 1500), (1500, 1800)],\n",
       " ['fft.userAcceleration.x',\n",
       "  'fft.userAcceleration.y',\n",
       "  'fft.userAcceleration.z',\n",
       "  'fft.rotationRate.x',\n",
       "  'fft.rotationRate.y',\n",
       "  'fft.rotationRate.z'],\n",
       " 6)"
      ]
     },
     "execution_count": 11,
     "metadata": {},
     "output_type": "execute_result"
    }
   ],
   "source": [
    "fft_transform = FFT()\n",
    "transformer = TransformMultiModalDataset(transforms=[fft_transform], new_window_name_prefix=\"fft.\")\n",
    "train_dataset_fft = transformer(train_dataset)\n",
    "validation_dataset_fft = transformer(validation_dataset)\n",
    "test_dataset_fft = transformer(test_dataset)\n",
    "train_dataset_fft.window_slices, train_dataset_fft.window_names, train_dataset_fft.num_windows"
   ]
  },
  {
   "cell_type": "code",
   "execution_count": 12,
   "id": "b47ac3ca-a4c1-46b0-a81e-07a374bc2216",
   "metadata": {
    "execution": {
     "iopub.execute_input": "2022-08-24T15:46:25.110861Z",
     "iopub.status.busy": "2022-08-24T15:46:25.110695Z",
     "iopub.status.idle": "2022-08-24T15:46:39.897524Z",
     "shell.execute_reply": "2022-08-24T15:46:39.897148Z",
     "shell.execute_reply.started": "2022-08-24T15:46:25.110847Z"
    },
    "tags": []
   },
   "outputs": [
    {
     "data": {
      "text/plain": [
       "([(0, 19), (19, 38), (38, 57), (57, 76), (76, 95), (95, 114)],\n",
       " ['fft-stats.fft-stats.userAcceleration.x',\n",
       "  'fft-stats.fft-stats.userAcceleration.y',\n",
       "  'fft-stats.fft-stats.userAcceleration.z',\n",
       "  'fft-stats.fft-stats.rotationRate.x',\n",
       "  'fft-stats.fft-stats.rotationRate.y',\n",
       "  'fft-stats.fft-stats.rotationRate.z'],\n",
       " 6)"
      ]
     },
     "execution_count": 12,
     "metadata": {},
     "output_type": "execute_result"
    }
   ],
   "source": [
    "from librep.datasets.common import TransformMultiModalDataset\n",
    "from librep.transforms.fft import FFT\n",
    "from librep.transforms.stats import StatsTransform\n",
    "\n",
    "fft_transform = FFT()\n",
    "stats_transform = StatsTransform()\n",
    "transformer = TransformMultiModalDataset(transforms=[fft_transform, stats_transform], new_window_name_prefix=\"fft-stats.\")\n",
    "train_dataset_fft_stats = transformer(train_dataset)\n",
    "validation_dataset_fft_stats = transformer(validation_dataset)\n",
    "test_dataset_fft_stats = transformer(test_dataset)\n",
    "train_dataset_fft_stats.window_slices, train_dataset_fft_stats.window_names, train_dataset_fft_stats.num_windows"
   ]
  },
  {
   "cell_type": "code",
   "execution_count": 13,
   "id": "08b702cd-6940-4bad-a5cb-c47d290efd8e",
   "metadata": {
    "execution": {
     "iopub.execute_input": "2022-08-24T15:46:39.898630Z",
     "iopub.status.busy": "2022-08-24T15:46:39.898381Z",
     "iopub.status.idle": "2022-08-24T15:46:39.954030Z",
     "shell.execute_reply": "2022-08-24T15:46:39.953499Z",
     "shell.execute_reply.started": "2022-08-24T15:46:39.898615Z"
    },
    "tags": []
   },
   "outputs": [
    {
     "data": {
      "text/plain": [
       "([(0, 300),\n",
       "  (300, 600),\n",
       "  (600, 900),\n",
       "  (900, 1200),\n",
       "  (1200, 1500),\n",
       "  (1500, 1800),\n",
       "  (1800, 1819),\n",
       "  (1819, 1838),\n",
       "  (1838, 1857),\n",
       "  (1857, 1876),\n",
       "  (1876, 1895),\n",
       "  (1895, 1914)],\n",
       " ['fft.userAcceleration.x',\n",
       "  'fft.userAcceleration.y',\n",
       "  'fft.userAcceleration.z',\n",
       "  'fft.rotationRate.x',\n",
       "  'fft.rotationRate.y',\n",
       "  'fft.rotationRate.z',\n",
       "  'fft-stats.fft-stats.userAcceleration.x',\n",
       "  'fft-stats.fft-stats.userAcceleration.y',\n",
       "  'fft-stats.fft-stats.userAcceleration.z',\n",
       "  'fft-stats.fft-stats.rotationRate.x',\n",
       "  'fft-stats.fft-stats.rotationRate.y',\n",
       "  'fft-stats.fft-stats.rotationRate.z'],\n",
       " 12)"
      ]
     },
     "execution_count": 13,
     "metadata": {},
     "output_type": "execute_result"
    }
   ],
   "source": [
    "from librep.datasets.common import combine_multi_modal_datasets\n",
    "combined_train_dset = combine_multi_modal_datasets(train_dataset_fft, train_dataset_fft_stats)\n",
    "combined_test_dset = combine_multi_modal_datasets(test_dataset_fft, test_dataset_fft_stats)\n",
    "combined_train_dset.window_slices, combined_train_dset.window_names, combined_train_dset.num_windows"
   ]
  },
  {
   "cell_type": "markdown",
   "id": "202ae715-f2bb-4dc4-84dc-383ec009776f",
   "metadata": {},
   "source": [
    "## Train"
   ]
  },
  {
   "cell_type": "code",
   "execution_count": 39,
   "id": "cd4dd9da-6371-4c2f-b921-8886f64526ab",
   "metadata": {
    "execution": {
     "iopub.execute_input": "2022-08-24T16:11:03.967914Z",
     "iopub.status.busy": "2022-08-24T16:11:03.967451Z",
     "iopub.status.idle": "2022-08-24T16:11:03.993003Z",
     "shell.execute_reply": "2022-08-24T16:11:03.992637Z",
     "shell.execute_reply.started": "2022-08-24T16:11:03.967891Z"
    },
    "tags": []
   },
   "outputs": [],
   "source": [
    "from librep.utils.workflow import SimpleTrainEvalWorkflow, MultiRunWorkflow\n",
    "from librep.estimators import RandomForestClassifier\n",
    "from librep.metrics.report import ClassificationReport\n",
    "import yaml\n",
    "\n",
    "reporter = ClassificationReport(use_accuracy=True, use_f1_score=True, use_classification_report=False, use_confusion_matrix=False)\n",
    "experiment = SimpleTrainEvalWorkflow(estimator=RandomForestClassifier, do_not_instantiate=False, do_fit=True, evaluator=reporter)\n",
    "multi_run_experiment = MultiRunWorkflow(workflow=experiment, num_runs=3, debug=False)"
   ]
  },
  {
   "cell_type": "code",
   "execution_count": 40,
   "id": "12670662-e649-4a6f-8574-2c1d39e19b34",
   "metadata": {
    "execution": {
     "iopub.execute_input": "2022-08-24T16:11:04.257124Z",
     "iopub.status.busy": "2022-08-24T16:11:04.256856Z",
     "iopub.status.idle": "2022-08-24T16:11:14.919296Z",
     "shell.execute_reply": "2022-08-24T16:11:14.918783Z",
     "shell.execute_reply.started": "2022-08-24T16:11:04.257096Z"
    },
    "tags": []
   },
   "outputs": [
    {
     "name": "stdout",
     "output_type": "stream",
     "text": [
      "runs:\n",
      "- end: 1661357467.8791676\n",
      "  result:\n",
      "  - accuracy: 0.8333333333333334\n",
      "    f1 score (macro): 0.8308548014015757\n",
      "    f1 score (micro): 0.8333333333333334\n",
      "    f1 score (weighted): 0.8358118652650909\n",
      "  - accuracy: 1.0\n",
      "    f1 score (macro): 1.0\n",
      "    f1 score (micro): 1.0\n",
      "    f1 score (weighted): 1.0\n",
      "  - accuracy: 0.8333333333333334\n",
      "    f1 score (macro): 0.8308548014015757\n",
      "    f1 score (micro): 0.8333333333333334\n",
      "    f1 score (weighted): 0.8358118652650909\n",
      "  run id: 1\n",
      "  start: 1661357464.2828083\n",
      "  time taken: 3.5963592529296875\n",
      "- end: 1661357471.492173\n",
      "  result:\n",
      "  - accuracy: 0.8089430894308943\n",
      "    f1 score (macro): 0.8034815197811039\n",
      "    f1 score (micro): 0.8089430894308943\n",
      "    f1 score (weighted): 0.8144046590806847\n",
      "  - accuracy: 1.0\n",
      "    f1 score (macro): 1.0\n",
      "    f1 score (micro): 1.0\n",
      "    f1 score (weighted): 1.0\n",
      "  - accuracy: 0.8089430894308943\n",
      "    f1 score (macro): 0.8034815197811039\n",
      "    f1 score (micro): 0.8089430894308943\n",
      "    f1 score (weighted): 0.8144046590806847\n",
      "  run id: 2\n",
      "  start: 1661357467.8791695\n",
      "  time taken: 3.6130034923553467\n",
      "- end: 1661357474.9144013\n",
      "  result:\n",
      "  - accuracy: 0.8170731707317073\n",
      "    f1 score (macro): 0.8154298978816139\n",
      "    f1 score (micro): 0.8170731707317073\n",
      "    f1 score (weighted): 0.8187164435818005\n",
      "  - accuracy: 1.0\n",
      "    f1 score (macro): 1.0\n",
      "    f1 score (micro): 1.0\n",
      "    f1 score (weighted): 1.0\n",
      "  - accuracy: 0.8170731707317073\n",
      "    f1 score (macro): 0.8154298978816139\n",
      "    f1 score (micro): 0.8170731707317073\n",
      "    f1 score (weighted): 0.8187164435818005\n",
      "  run id: 3\n",
      "  start: 1661357471.4921746\n",
      "  time taken: 3.422226667404175\n",
      "\n"
     ]
    }
   ],
   "source": [
    "result = multi_run_experiment(train_dataset, [test_dataset, validation_dataset, test_dataset])\n",
    "print(yaml.dump(result))"
   ]
  },
  {
   "cell_type": "code",
   "execution_count": null,
   "id": "504f4a90-b09b-4903-9f64-068bd1b6ed6e",
   "metadata": {
    "execution": {
     "iopub.execute_input": "2022-08-24T16:11:14.999795Z",
     "iopub.status.busy": "2022-08-24T16:11:14.999671Z"
    },
    "tags": []
   },
   "outputs": [],
   "source": [
    "result = multi_run_experiment(train_dataset_fft, test_dataset_fft)\n",
    "print(yaml.dump(result))"
   ]
  },
  {
   "cell_type": "code",
   "execution_count": null,
   "id": "63dc4d32-c02b-44e0-9d65-bfb0ba7ce39e",
   "metadata": {
    "tags": []
   },
   "outputs": [],
   "source": [
    "result = multi_run_experiment(train_dataset_fft_stats, test_dataset_fft_stats)\n",
    "print(yaml.dump(result))"
   ]
  },
  {
   "cell_type": "code",
   "execution_count": null,
   "id": "37934d68-4f04-46ef-ad6e-47f1e84f43cb",
   "metadata": {
    "tags": []
   },
   "outputs": [],
   "source": [
    "result = multi_run_experiment(combined_train_dset, combined_test_dset)\n",
    "print(yaml.dump(result))"
   ]
  },
  {
   "cell_type": "code",
   "execution_count": null,
   "id": "0ed10449-10b9-4ae9-abb6-aec6cedc32d1",
   "metadata": {},
   "outputs": [],
   "source": []
  },
  {
   "cell_type": "code",
   "execution_count": null,
   "id": "4772f515-3709-48ca-bcda-af60e99e3943",
   "metadata": {},
   "outputs": [],
   "source": []
  },
  {
   "cell_type": "code",
   "execution_count": null,
   "id": "76edecae-4afb-4f13-a9a3-1d444ba97949",
   "metadata": {},
   "outputs": [],
   "source": []
  },
  {
   "cell_type": "code",
   "execution_count": null,
   "id": "84efc575-5cb7-4e04-8382-4c72449e7f5d",
   "metadata": {},
   "outputs": [],
   "source": []
  },
  {
   "cell_type": "code",
   "execution_count": null,
   "id": "35885dfb-36b3-45d7-95e5-9b516e033813",
   "metadata": {},
   "outputs": [],
   "source": []
  },
  {
   "cell_type": "code",
   "execution_count": null,
   "id": "ee1989e2-9d95-4d76-997b-0785d33bfd41",
   "metadata": {},
   "outputs": [],
   "source": []
  },
  {
   "cell_type": "code",
   "execution_count": null,
   "id": "34407f64-d71c-46bb-995e-bde1e5cfcf9a",
   "metadata": {},
   "outputs": [],
   "source": []
  },
  {
   "cell_type": "code",
   "execution_count": null,
   "id": "503bc3ba-df9c-47a5-b5b5-36917380ecdc",
   "metadata": {},
   "outputs": [],
   "source": []
  },
  {
   "cell_type": "code",
   "execution_count": 30,
   "id": "01272eb8-5c7e-4b7b-9264-f16c9d4f4bcc",
   "metadata": {
    "execution": {
     "iopub.execute_input": "2022-08-24T15:01:52.724212Z",
     "iopub.status.busy": "2022-08-24T15:01:52.723632Z",
     "iopub.status.idle": "2022-08-24T15:01:55.299247Z",
     "shell.execute_reply": "2022-08-24T15:01:55.298880Z",
     "shell.execute_reply.started": "2022-08-24T15:01:52.724192Z"
    },
    "tags": []
   },
   "outputs": [
    {
     "name": "stdout",
     "output_type": "stream",
     "text": [
      "              precision    recall  f1-score   support\n",
      "\n",
      "           0       0.85      0.80      0.82        88\n",
      "           1       0.80      0.89      0.85        74\n",
      "           2       0.79      0.89      0.84        73\n",
      "           3       0.90      0.81      0.86        91\n",
      "           4       0.98      0.93      0.95        86\n",
      "           5       0.93      0.95      0.94        80\n",
      "\n",
      "    accuracy                           0.88       492\n",
      "   macro avg       0.88      0.88      0.88       492\n",
      "weighted avg       0.88      0.88      0.88       492\n",
      "\n"
     ]
    }
   ],
   "source": [
    "experiment = SimpleTrainEvalWorkflow(estimator=RandomForestClassifier, do_not_instantiate=False, evaluator=classification_report)\n",
    "print(experiment(train_dataset_fft, test_dataset_fft))"
   ]
  },
  {
   "cell_type": "code",
   "execution_count": 32,
   "id": "8575b564-954d-44e1-8de2-e18044566c0c",
   "metadata": {
    "execution": {
     "iopub.execute_input": "2022-08-24T15:02:12.568935Z",
     "iopub.status.busy": "2022-08-24T15:02:12.568565Z",
     "iopub.status.idle": "2022-08-24T15:02:13.102854Z",
     "shell.execute_reply": "2022-08-24T15:02:13.102435Z",
     "shell.execute_reply.started": "2022-08-24T15:02:12.568909Z"
    },
    "tags": []
   },
   "outputs": [
    {
     "name": "stdout",
     "output_type": "stream",
     "text": [
      "              precision    recall  f1-score   support\n",
      "\n",
      "           0       0.95      0.97      0.96        80\n",
      "           1       0.93      0.85      0.89        89\n",
      "           2       0.84      0.88      0.86        78\n",
      "           3       0.89      0.85      0.87        86\n",
      "           4       0.83      0.93      0.88        73\n",
      "           5       1.00      0.95      0.98        86\n",
      "\n",
      "    accuracy                           0.91       492\n",
      "   macro avg       0.91      0.91      0.91       492\n",
      "weighted avg       0.91      0.91      0.91       492\n",
      "\n"
     ]
    }
   ],
   "source": [
    "experiment = SimpleTrainEvalWorkflow(estimator=RandomForestClassifier(), evaluator=classification_report)\n",
    "print(experiment(train_dataset_fft_stats, test_dataset_fft_stats))"
   ]
  },
  {
   "cell_type": "markdown",
   "id": "12bfcd78-e141-48ab-846d-4ce7f78651da",
   "metadata": {},
   "source": [
    "## Transform using FFT"
   ]
  },
  {
   "cell_type": "code",
   "execution_count": 18,
   "id": "af026cc9-9dc7-4e30-9bf5-d3f8600809d0",
   "metadata": {
    "execution": {
     "iopub.execute_input": "2022-08-24T11:25:58.874765Z",
     "iopub.status.busy": "2022-08-24T11:25:58.874587Z",
     "iopub.status.idle": "2022-08-24T11:25:58.901139Z",
     "shell.execute_reply": "2022-08-24T11:25:58.900698Z",
     "shell.execute_reply.started": "2022-08-24T11:25:58.874748Z"
    },
    "tags": []
   },
   "outputs": [],
   "source": [
    "from librep.transforms.fft import FFT\n",
    "from librep.utils.transform import TransformMultiModalDataset, WindowedTransform\n",
    "\n",
    "fft_transform = FFT()\n",
    "windowed_fft = WindowedTransform(fft_transform, window_size=train_dataset.window_size)\n",
    "transformer = TransformMultiModalDataset(transforms=[windowed_fft])"
   ]
  },
  {
   "cell_type": "code",
   "execution_count": 19,
   "id": "09846e53-cf30-4069-9843-bb71f5dc90c5",
   "metadata": {
    "execution": {
     "iopub.execute_input": "2022-08-24T11:26:03.743610Z",
     "iopub.status.busy": "2022-08-24T11:26:03.743273Z",
     "iopub.status.idle": "2022-08-24T11:26:08.560232Z",
     "shell.execute_reply": "2022-08-24T11:26:08.559755Z",
     "shell.execute_reply.started": "2022-08-24T11:26:03.743579Z"
    },
    "tags": []
   },
   "outputs": [],
   "source": [
    "train_dataset = transformer(train_dataset)\n",
    "validation_dataset = transformer(validation_dataset)\n",
    "test_dataset = transformer(test_dataset)"
   ]
  },
  {
   "cell_type": "code",
   "execution_count": 20,
   "id": "b5a1e263-8ba9-45af-8cd0-580fa98eef63",
   "metadata": {
    "execution": {
     "iopub.execute_input": "2022-08-24T11:26:48.745892Z",
     "iopub.status.busy": "2022-08-24T11:26:48.745736Z",
     "iopub.status.idle": "2022-08-24T11:26:48.773977Z",
     "shell.execute_reply": "2022-08-24T11:26:48.773585Z",
     "shell.execute_reply.started": "2022-08-24T11:26:48.745875Z"
    },
    "tags": []
   },
   "outputs": [
    {
     "name": "stdout",
     "output_type": "stream",
     "text": [
      "(array([10.552792  , 10.37517334,  2.77238079, ...,  0.6733317 ,\n",
      "       19.68947128, 43.23490809]), 0)\n"
     ]
    }
   ],
   "source": [
    "print(train_dataset[0])"
   ]
  },
  {
   "cell_type": "markdown",
   "id": "b0530df9-70f4-48ed-849a-8407bd9ea839",
   "metadata": {},
   "source": [
    "## Classify using Random Forest"
   ]
  },
  {
   "cell_type": "code",
   "execution_count": 18,
   "id": "e279962e-5f04-4fe4-a35e-8400ea77bcce",
   "metadata": {
    "execution": {
     "iopub.execute_input": "2022-08-24T14:28:05.319507Z",
     "iopub.status.busy": "2022-08-24T14:28:05.319122Z",
     "iopub.status.idle": "2022-08-24T14:28:05.356676Z",
     "shell.execute_reply": "2022-08-24T14:28:05.356234Z",
     "shell.execute_reply.started": "2022-08-24T14:28:05.319459Z"
    },
    "tags": []
   },
   "outputs": [],
   "source": [
    "from librep.estimators import RandomForestClassifier\n",
    "from librep.metrics import classification_report"
   ]
  },
  {
   "cell_type": "code",
   "execution_count": 19,
   "id": "922f5343-2118-400f-b449-2ec41c4779da",
   "metadata": {
    "execution": {
     "iopub.execute_input": "2022-08-24T14:28:13.778179Z",
     "iopub.status.busy": "2022-08-24T14:28:13.777964Z",
     "iopub.status.idle": "2022-08-24T14:28:16.505691Z",
     "shell.execute_reply": "2022-08-24T14:28:16.505122Z",
     "shell.execute_reply.started": "2022-08-24T14:28:13.778153Z"
    },
    "tags": []
   },
   "outputs": [
    {
     "data": {
      "text/plain": [
       "RandomForestClassifier()"
      ]
     },
     "execution_count": 19,
     "metadata": {},
     "output_type": "execute_result"
    }
   ],
   "source": [
    "model = RandomForestClassifier()\n",
    "model.fit(train_dataset[:][0], train_dataset[:][1])"
   ]
  },
  {
   "cell_type": "code",
   "execution_count": 20,
   "id": "d80d4321-ec61-4191-987b-b05c99f5525c",
   "metadata": {
    "execution": {
     "iopub.execute_input": "2022-08-24T14:28:16.657106Z",
     "iopub.status.busy": "2022-08-24T14:28:16.656904Z",
     "iopub.status.idle": "2022-08-24T14:28:16.701756Z",
     "shell.execute_reply": "2022-08-24T14:28:16.701280Z",
     "shell.execute_reply.started": "2022-08-24T14:28:16.657084Z"
    },
    "tags": []
   },
   "outputs": [],
   "source": [
    "y_pred = model.predict(test_dataset[:][0])"
   ]
  },
  {
   "cell_type": "code",
   "execution_count": 21,
   "id": "fcce830a-3bb9-4a02-868d-8d99acb41ea3",
   "metadata": {
    "execution": {
     "iopub.execute_input": "2022-08-24T14:28:19.798304Z",
     "iopub.status.busy": "2022-08-24T14:28:19.797913Z",
     "iopub.status.idle": "2022-08-24T14:28:19.831883Z",
     "shell.execute_reply": "2022-08-24T14:28:19.831516Z",
     "shell.execute_reply.started": "2022-08-24T14:28:19.798256Z"
    },
    "tags": []
   },
   "outputs": [
    {
     "name": "stdout",
     "output_type": "stream",
     "text": [
      "              precision    recall  f1-score   support\n",
      "\n",
      "           0       0.74      0.77      0.75        82\n",
      "           1       0.76      0.71      0.73        82\n",
      "           2       0.95      0.74      0.84        82\n",
      "           3       0.79      0.96      0.87        82\n",
      "           4       0.62      0.61      0.61        82\n",
      "           5       0.92      0.96      0.94        82\n",
      "\n",
      "    accuracy                           0.79       492\n",
      "   macro avg       0.80      0.79      0.79       492\n",
      "weighted avg       0.80      0.79      0.79       492\n",
      "\n"
     ]
    }
   ],
   "source": [
    "print(classification_report(test_dataset[:][1], y_pred))"
   ]
  },
  {
   "cell_type": "markdown",
   "id": "9c4c99b7-c189-4460-94bc-443ed56ff426",
   "metadata": {
    "execution": {
     "iopub.execute_input": "2022-08-11T23:34:41.577661Z",
     "iopub.status.busy": "2022-08-11T23:34:41.577052Z",
     "iopub.status.idle": "2022-08-11T23:34:41.597672Z",
     "shell.execute_reply": "2022-08-11T23:34:41.597118Z",
     "shell.execute_reply.started": "2022-08-11T23:34:41.577591Z"
    },
    "tags": []
   },
   "source": [
    "## Visualize Confusion Matrix"
   ]
  },
  {
   "cell_type": "code",
   "execution_count": 21,
   "id": "fd251c61-f031-43fb-843b-b664824986e7",
   "metadata": {
    "execution": {
     "iopub.execute_input": "2022-08-24T10:56:09.441038Z",
     "iopub.status.busy": "2022-08-24T10:56:09.440716Z",
     "iopub.status.idle": "2022-08-24T10:56:10.193504Z",
     "shell.execute_reply": "2022-08-24T10:56:10.193112Z",
     "shell.execute_reply.started": "2022-08-24T10:56:09.441000Z"
    },
    "tags": []
   },
   "outputs": [
    {
     "data": {
      "text/plain": [
       "<sklearn.metrics._plot.confusion_matrix.ConfusionMatrixDisplay at 0x7f890d81c6d0>"
      ]
     },
     "execution_count": 21,
     "metadata": {},
     "output_type": "execute_result"
    },
    {
     "data": {
      "image/png": "[encoded data removed]",
      "text/plain": [
       "<Figure size 432x288 with 2 Axes>"
      ]
     },
     "metadata": {
      "needs_background": "light"
     },
     "output_type": "display_data"
    }
   ],
   "source": [
    "from sklearn.metrics import ConfusionMatrixDisplay\n",
    "\n",
    "ConfusionMatrixDisplay.from_predictions(test_dataset[:][1], y_pred)"
   ]
  },
  {
   "cell_type": "markdown",
   "id": "369d21e3-93a9-43b2-89b6-7db0733db318",
   "metadata": {},
   "source": [
    "## Do all of this using a Experiment Helper"
   ]
  },
  {
   "cell_type": "code",
   "execution_count": 27,
   "id": "3e3ed3f1-f02b-4fe8-afea-d16004e67c81",
   "metadata": {
    "execution": {
     "iopub.execute_input": "2022-08-24T10:57:09.509323Z",
     "iopub.status.busy": "2022-08-24T10:57:09.508970Z",
     "iopub.status.idle": "2022-08-24T10:57:12.287302Z",
     "shell.execute_reply": "2022-08-24T10:57:12.286921Z",
     "shell.execute_reply.started": "2022-08-24T10:57:09.509292Z"
    },
    "tags": []
   },
   "outputs": [
    {
     "name": "stdout",
     "output_type": "stream",
     "text": [
      "              precision    recall  f1-score   support\n",
      "\n",
      "           0       0.94      0.73      0.82       105\n",
      "           1       0.90      0.94      0.92        79\n",
      "           2       0.79      0.90      0.84        72\n",
      "           3       0.91      0.82      0.86        92\n",
      "           4       0.77      0.88      0.82        72\n",
      "           5       0.85      0.97      0.91        72\n",
      "\n",
      "    accuracy                           0.86       492\n",
      "   macro avg       0.86      0.87      0.86       492\n",
      "weighted avg       0.87      0.86      0.86       492\n",
      "\n"
     ]
    }
   ],
   "source": [
    "from librep.utils.workflow import SimpleTrainEvalWorkflow\n",
    "\n",
    "experiment = SimpleTrainEvalWorkflow(estimator=RandomForestClassifier(), transforms=[windowed_fft], evaluator=classification_report)\n",
    "print(experiment(train_dataset, test_dataset))"
   ]
  }
 ],
 "metadata": {
  "kernelspec": {
   "display_name": "Python 3 (ipykernel)",
   "language": "python",
   "name": "python3"
  },
  "language_info": {
   "codemirror_mode": {
    "name": "ipython",
    "version": 3
   },
   "file_extension": ".py",
   "mimetype": "text/x-python",
   "name": "python",
   "nbconvert_exporter": "python",
   "pygments_lexer": "ipython3",
   "version": "3.8.10"
  }
 },
 "nbformat": 4,
 "nbformat_minor": 5
}
