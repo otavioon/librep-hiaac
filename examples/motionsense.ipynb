{
 "cells": [
  {
   "cell_type": "markdown",
   "id": "faa25327-6b2c-491a-9ed6-718312880e28",
   "metadata": {},
   "source": [
    "# Example of Training with MotionSense"
   ]
  },
  {
   "cell_type": "code",
   "execution_count": 1,
   "id": "e9820ad5-a563-4ba9-912b-aa75f35b67bc",
   "metadata": {
    "execution": {
     "iopub.execute_input": "2022-08-23T18:18:51.386457Z",
     "iopub.status.busy": "2022-08-23T18:18:51.386257Z",
     "iopub.status.idle": "2022-08-23T18:18:51.396056Z",
     "shell.execute_reply": "2022-08-23T18:18:51.395678Z",
     "shell.execute_reply.started": "2022-08-23T18:18:51.386441Z"
    },
    "tags": []
   },
   "outputs": [],
   "source": [
    "%load_ext autoreload\n",
    "%autoreload 2"
   ]
  },
  {
   "cell_type": "code",
   "execution_count": 2,
   "id": "c837fe5a-d359-46c1-8aa8-9a5043ae37f9",
   "metadata": {
    "execution": {
     "iopub.execute_input": "2022-08-23T18:18:51.397105Z",
     "iopub.status.busy": "2022-08-23T18:18:51.396802Z",
     "iopub.status.idle": "2022-08-23T18:18:51.403442Z",
     "shell.execute_reply": "2022-08-23T18:18:51.403088Z",
     "shell.execute_reply.started": "2022-08-23T18:18:51.397087Z"
    },
    "tags": []
   },
   "outputs": [],
   "source": [
    "import sys\n",
    "from pathlib import Path\n",
    "\n",
    "sys.path.append(\"..\")"
   ]
  },
  {
   "cell_type": "markdown",
   "id": "72fc160c-b7c7-4e15-bf79-6e8d97d9fb50",
   "metadata": {},
   "source": [
    "## Read Processed Data"
   ]
  },
  {
   "cell_type": "code",
   "execution_count": 3,
   "id": "e690c5cf-fa42-43b0-ac01-8fbef4a99498",
   "metadata": {
    "execution": {
     "iopub.execute_input": "2022-08-23T18:18:51.997144Z",
     "iopub.status.busy": "2022-08-23T18:18:51.997007Z",
     "iopub.status.idle": "2022-08-23T18:18:58.126955Z",
     "shell.execute_reply": "2022-08-23T18:18:58.126555Z",
     "shell.execute_reply.started": "2022-08-23T18:18:51.997129Z"
    },
    "tags": []
   },
   "outputs": [],
   "source": [
    "from librep.utils.dataset import load_full_data, PandasDatasetsIO"
   ]
  },
  {
   "cell_type": "code",
   "execution_count": 4,
   "id": "f999085a-ddf5-477d-8f89-e609519e74fe",
   "metadata": {
    "execution": {
     "iopub.execute_input": "2022-08-23T18:18:58.154457Z",
     "iopub.status.busy": "2022-08-23T18:18:58.154351Z",
     "iopub.status.idle": "2022-08-23T18:18:59.355346Z",
     "shell.execute_reply": "2022-08-23T18:18:59.354985Z",
     "shell.execute_reply.started": "2022-08-23T18:18:58.154443Z"
    },
    "tags": []
   },
   "outputs": [],
   "source": [
    "dataset_path = Path(\"../data/views/MotionSense/balanced_view\")\n",
    "train, validation, test = PandasDatasetsIO(dataset_path).load()"
   ]
  },
  {
   "cell_type": "markdown",
   "id": "ea02b41b-6fb3-4e95-89fd-4c9e4fff921d",
   "metadata": {},
   "source": [
    "## Create the MotionSense Dataset"
   ]
  },
  {
   "cell_type": "code",
   "execution_count": 5,
   "id": "44851035-10be-47c0-88ea-c91f0ba882c4",
   "metadata": {
    "execution": {
     "iopub.execute_input": "2022-08-23T18:18:59.356256Z",
     "iopub.status.busy": "2022-08-23T18:18:59.356126Z",
     "iopub.status.idle": "2022-08-23T18:18:59.391227Z",
     "shell.execute_reply": "2022-08-23T18:18:59.390818Z",
     "shell.execute_reply.started": "2022-08-23T18:18:59.356240Z"
    },
    "tags": []
   },
   "outputs": [],
   "source": [
    "from librep.datasets.motionsense import MotionSenseDataset"
   ]
  },
  {
   "cell_type": "code",
   "execution_count": 6,
   "id": "8ab3ea14-32e5-4b29-aacc-674209c7a933",
   "metadata": {
    "execution": {
     "iopub.execute_input": "2022-08-19T13:22:00.491182Z",
     "iopub.status.busy": "2022-08-19T13:22:00.491074Z",
     "iopub.status.idle": "2022-08-19T13:22:00.517663Z",
     "shell.execute_reply": "2022-08-19T13:22:00.517215Z",
     "shell.execute_reply.started": "2022-08-19T13:22:00.491168Z"
    },
    "tags": []
   },
   "outputs": [],
   "source": [
    "train_dataset = MotionSenseDataset(\n",
    "    train,\n",
    "    sensors=[\"userAcceleration\", \"rotationRate\"],\n",
    "    label_columns=\"activity code\",\n",
    "    as_array=True\n",
    ")\n",
    "validation_dataset = MotionSenseDataset(\n",
    "    validation,\n",
    "    sensors=[\"userAcceleration\", \"rotationRate\"],\n",
    "    label_columns=\"activity code\",\n",
    "    as_array=True\n",
    ")\n",
    "test_dataset = MotionSenseDataset(\n",
    "    test, sensors=[\"userAcceleration\", \"rotationRate\"],\n",
    "    label_columns=\"activity code\",\n",
    "    as_array=True\n",
    ")"
   ]
  },
  {
   "cell_type": "code",
   "execution_count": 7,
   "id": "efc39e40-e26b-4898-8b3b-e130c9c798ea",
   "metadata": {
    "execution": {
     "iopub.execute_input": "2022-08-19T13:22:00.518423Z",
     "iopub.status.busy": "2022-08-19T13:22:00.518274Z",
     "iopub.status.idle": "2022-08-19T13:22:00.545952Z",
     "shell.execute_reply": "2022-08-19T13:22:00.545610Z",
     "shell.execute_reply.started": "2022-08-19T13:22:00.518408Z"
    },
    "tags": []
   },
   "outputs": [
    {
     "data": {
      "text/plain": [
       "3318"
      ]
     },
     "execution_count": 7,
     "metadata": {},
     "output_type": "execute_result"
    }
   ],
   "source": [
    "len(train_dataset)"
   ]
  },
  {
   "cell_type": "code",
   "execution_count": 8,
   "id": "12a58edb-fef5-4c61-8067-8b1986c0278d",
   "metadata": {
    "execution": {
     "iopub.execute_input": "2022-08-19T13:22:00.546600Z",
     "iopub.status.busy": "2022-08-19T13:22:00.546459Z",
     "iopub.status.idle": "2022-08-19T13:22:00.578730Z",
     "shell.execute_reply": "2022-08-19T13:22:00.578284Z",
     "shell.execute_reply.started": "2022-08-19T13:22:00.546585Z"
    },
    "tags": []
   },
   "outputs": [
    {
     "name": "stdout",
     "output_type": "stream",
     "text": [
      "(900,)\n"
     ]
    }
   ],
   "source": [
    "print(train_dataset[0][0].shape)"
   ]
  },
  {
   "cell_type": "markdown",
   "id": "12bfcd78-e141-48ab-846d-4ce7f78651da",
   "metadata": {},
   "source": [
    "## Transform using FFT"
   ]
  },
  {
   "cell_type": "code",
   "execution_count": 9,
   "id": "af026cc9-9dc7-4e30-9bf5-d3f8600809d0",
   "metadata": {
    "execution": {
     "iopub.execute_input": "2022-08-19T13:22:04.121059Z",
     "iopub.status.busy": "2022-08-19T13:22:04.120884Z",
     "iopub.status.idle": "2022-08-19T13:22:04.146874Z",
     "shell.execute_reply": "2022-08-19T13:22:04.146488Z",
     "shell.execute_reply.started": "2022-08-19T13:22:04.121044Z"
    },
    "tags": []
   },
   "outputs": [],
   "source": [
    "from librep.transforms.fft import FFT\n",
    "from librep.utils.transform import TransformDataset, WindowedTransform\n",
    "\n",
    "fft_transform = FFT()\n",
    "windowed_fft = WindowedTransform(fft_transform, window_size=300)\n",
    "transformer = TransformDataset(transforms=[windowed_fft])"
   ]
  },
  {
   "cell_type": "code",
   "execution_count": 10,
   "id": "09846e53-cf30-4069-9843-bb71f5dc90c5",
   "metadata": {
    "execution": {
     "iopub.execute_input": "2022-08-19T13:22:05.545028Z",
     "iopub.status.busy": "2022-08-19T13:22:05.544808Z",
     "iopub.status.idle": "2022-08-19T13:22:11.070418Z",
     "shell.execute_reply": "2022-08-19T13:22:11.069980Z",
     "shell.execute_reply.started": "2022-08-19T13:22:05.545010Z"
    },
    "tags": []
   },
   "outputs": [],
   "source": [
    "train_dataset = transformer(train_dataset)\n",
    "validation_dataset = transformer(validation_dataset)\n",
    "test_dataset = transformer(test_dataset)"
   ]
  },
  {
   "cell_type": "code",
   "execution_count": 11,
   "id": "b5a1e263-8ba9-45af-8cd0-580fa98eef63",
   "metadata": {
    "execution": {
     "iopub.execute_input": "2022-08-19T13:22:11.133538Z",
     "iopub.status.busy": "2022-08-19T13:22:11.133327Z",
     "iopub.status.idle": "2022-08-19T13:22:11.163507Z",
     "shell.execute_reply": "2022-08-19T13:22:11.163078Z",
     "shell.execute_reply.started": "2022-08-19T13:22:11.133517Z"
    },
    "tags": []
   },
   "outputs": [
    {
     "name": "stdout",
     "output_type": "stream",
     "text": [
      "(array([  0.578507  ,   1.17047469,   2.2247307 ,   3.82946018,\n",
      "         1.89243456,   4.92012634,   2.3256762 ,   4.48563564,\n",
      "         4.55495607,   6.46228751,   3.26315982,   7.29200139,\n",
      "        13.64615887,  24.90251322,  25.33374983,   6.84167448,\n",
      "        12.93846292,   7.15560121,   1.57171136,  10.03125441,\n",
      "         9.07741181,   5.81770429,  10.97510574,   1.53528844,\n",
      "        11.7214287 ,   8.15298799,   5.68056337,   1.14001754,\n",
      "        15.5988168 ,   5.81613078,  12.09041674,   7.19420792,\n",
      "         3.58583251,   8.81032359,  13.6674213 ,  10.23953044,\n",
      "         5.69067233,   6.07959614,   4.40435664,   4.01518886,\n",
      "         7.44766564,  11.20879541,   9.26177689,   5.28440761,\n",
      "         2.73177379,   9.38063995,   6.2054747 ,   3.52679441,\n",
      "         3.88950315,   2.21676968,   4.10850276,   4.95074076,\n",
      "         5.46994413,   6.28508821,  10.32181147,   4.17348632,\n",
      "         4.58373498,   3.43538693,   4.08989381,   5.71097303,\n",
      "         5.31304273,   5.3395437 ,   3.8085296 ,   0.70857595,\n",
      "         2.06410215,   3.46919693,   4.21411352,   6.29569991,\n",
      "         7.25408807,   3.33699094,   3.33728071,   4.51634304,\n",
      "         4.79670638,   4.99041118,   2.91267582,   1.19754888,\n",
      "         3.52470653,   4.62486133,   4.66273409,   3.27417138,\n",
      "         4.43794107,   5.33505475,   4.32430922,   2.13346534,\n",
      "         7.52985956,   6.17057786,   2.3975098 ,   2.53831934,\n",
      "         5.601381  ,   0.96488202,   4.29960203,   3.06762583,\n",
      "         4.62424937,   2.262024  ,   6.47164317,   2.2834296 ,\n",
      "         3.29822162,   1.69168872,   5.10772628,   1.84996884,\n",
      "         1.7618448 ,   1.05293185,   3.95558488,   2.41637377,\n",
      "         1.53271255,   1.96554652,   1.88312478,   0.76496216,\n",
      "         5.44319994,   2.87947247,   1.45420703,   3.20348267,\n",
      "         5.62262581,   1.89986504,   2.42152519,   2.06189472,\n",
      "         3.67583727,   2.3030213 ,   3.60830205,   3.19255575,\n",
      "         2.0058053 ,   1.03451442,   3.78780684,   1.05696388,\n",
      "         3.08948779,   3.54513787,   3.04426516,   2.53540586,\n",
      "         2.68447071,   1.55453222,   1.86262926,   2.44951716,\n",
      "         1.9462852 ,   2.02012111,   1.96307822,   2.75543096,\n",
      "         2.23131224,   1.95067672,   2.80106927,   2.47672104,\n",
      "         1.24375063,   2.48451037,   1.86301185,   0.44458764,\n",
      "         1.41039028,   2.23579407,   0.94914402,   1.89064966,\n",
      "         1.55957915,   1.21053005,   0.439667  ,   1.21053005,\n",
      "         1.55957915,   1.89064966,   0.94914402,   2.23579407,\n",
      "         1.41039028,   0.44458764,   1.86301185,   2.48451037,\n",
      "         1.24375063,   2.47672104,   2.80106927,   1.95067672,\n",
      "         2.23131224,   2.75543096,   1.96307822,   2.02012111,\n",
      "         1.9462852 ,   2.44951716,   1.86262926,   1.55453222,\n",
      "         2.68447071,   2.53540586,   3.04426516,   3.54513787,\n",
      "         3.08948779,   1.05696388,   3.78780684,   1.03451442,\n",
      "         2.0058053 ,   3.19255575,   3.60830205,   2.3030213 ,\n",
      "         3.67583727,   2.06189472,   2.42152519,   1.89986504,\n",
      "         5.62262581,   3.20348267,   1.45420703,   2.87947247,\n",
      "         5.44319994,   0.76496216,   1.88312478,   1.96554652,\n",
      "         1.53271255,   2.41637377,   3.95558488,   1.05293185,\n",
      "         1.7618448 ,   1.84996884,   5.10772628,   1.69168872,\n",
      "         3.29822162,   2.2834296 ,   6.47164317,   2.262024  ,\n",
      "         4.62424937,   3.06762583,   4.29960203,   0.96488202,\n",
      "         5.601381  ,   2.53831934,   2.3975098 ,   6.17057786,\n",
      "         7.52985956,   2.13346534,   4.32430922,   5.33505475,\n",
      "         4.43794107,   3.27417138,   4.66273409,   4.62486133,\n",
      "         3.52470653,   1.19754888,   2.91267582,   4.99041118,\n",
      "         4.79670638,   4.51634304,   3.33728071,   3.33699094,\n",
      "         7.25408807,   6.29569991,   4.21411352,   3.46919693,\n",
      "         2.06410215,   0.70857595,   3.8085296 ,   5.3395437 ,\n",
      "         5.31304273,   5.71097303,   4.08989381,   3.43538693,\n",
      "         4.58373498,   4.17348632,  10.32181147,   6.28508821,\n",
      "         5.46994413,   4.95074076,   4.10850276,   2.21676968,\n",
      "         3.88950315,   3.52679441,   6.2054747 ,   9.38063995,\n",
      "         2.73177379,   5.28440761,   9.26177689,  11.20879541,\n",
      "         7.44766564,   4.01518886,   4.40435664,   6.07959614,\n",
      "         5.69067233,  10.23953044,  13.6674213 ,   8.81032359,\n",
      "         3.58583251,   7.19420792,  12.09041674,   5.81613078,\n",
      "        15.5988168 ,   1.14001754,   5.68056337,   8.15298799,\n",
      "        11.7214287 ,   1.53528844,  10.97510574,   5.81770429,\n",
      "         9.07741181,  10.03125441,   1.57171136,   7.15560121,\n",
      "        12.93846292,   6.84167448,  25.33374983,  24.90251322,\n",
      "        13.64615887,   7.29200139,   3.26315982,   6.46228751,\n",
      "         4.55495607,   4.48563564,   2.3256762 ,   4.92012634,\n",
      "         1.89243456,   3.82946018,   2.2247307 ,   1.17047469,\n",
      "        12.257136  ,  15.83224593,  21.32272766,   6.18176811,\n",
      "        26.04522486,  17.85700957,  98.92239706, 120.03457688,\n",
      "        53.15581026,  15.29627138,  22.39839386,   9.34100719,\n",
      "        21.95770563,  61.14594611,  74.81852147,  21.71210341,\n",
      "        22.40825192,  14.45963569,  11.44356055,   8.49965923,\n",
      "        41.04249598,  35.00335302,   4.58092441,  17.81733608,\n",
      "        12.80863457,   5.05884102,  13.18470492,  13.62839403,\n",
      "        18.20676347,   4.76790628,   6.37750985,  10.87090711,\n",
      "        17.93856876,   6.314305  ,  13.33194267,   3.79489469,\n",
      "        13.09184955,   3.68534471,  13.07519397,   4.56513385,\n",
      "         7.07757824,  12.6309761 ,   8.04936593,   2.55805243,\n",
      "         5.53440542,   7.74882375,  11.41206354,  15.30800612,\n",
      "         9.52428207,   4.18401271,   4.34205143,   8.09966549,\n",
      "         9.10620254,   5.01412616,  12.0578926 ,   9.61524337,\n",
      "         0.78259224,   6.33186107,   5.09181199,   8.59142982,\n",
      "         0.96532959,   1.88482838,   2.91363084,   2.56764751,\n",
      "         5.67352648,   0.84360386,   4.52879377,   8.41022213,\n",
      "         3.63044855,   3.31466485,   1.99234781,   5.17596643,\n",
      "         2.95947313,   4.98927721,   4.67999158,   4.79841135,\n",
      "         0.82936797,   2.82910733,   5.79361093,   3.07341284,\n",
      "         0.6344018 ,   5.07321027,   4.87674012,   0.55004506,\n",
      "         2.43499611,   2.40137158,   5.01260332,   4.76648005,\n",
      "         3.05239346,   2.47111848,   0.82745889,   2.42707016,\n",
      "         2.50748343,   2.19920927,   1.54105763,   6.75139818,\n",
      "         3.24010189,   3.1734804 ,   1.14119949,   0.98148357,\n",
      "         0.89030037,   2.34269861,   1.47125213,   1.26679525,\n",
      "         1.9041458 ,   3.32619831,   1.93906976,   2.36656126,\n",
      "         1.04552383,   6.2964356 ,   2.22250742,   3.10278335,\n",
      "         0.95256114,   0.38973128,   1.18284865,   3.2254676 ,\n",
      "         0.96024283,   0.67858718,   2.11156502,   2.95154502,\n",
      "         1.31809684,   1.93890556,   1.54187562,   4.64545784,\n",
      "         2.25873921,   3.53035127,   0.36165573,   0.64831671,\n",
      "         0.90852977,   3.39119015,   0.32927687,   1.00191298,\n",
      "         0.6040251 ,   4.71076642,   0.95839796,   2.13989194,\n",
      "         1.00458176,   3.4870845 ,   0.53706517,   4.51836932,\n",
      "         1.23477888,   0.54505016,   0.6318477 ,   3.16466966,\n",
      "         0.64933572,   1.19931717,   0.14058698,   3.89472858,\n",
      "         1.02089266,   2.67295679,   1.176766  ,   2.67295679,\n",
      "         1.02089266,   3.89472858,   0.14058698,   1.19931717,\n",
      "         0.64933572,   3.16466966,   0.6318477 ,   0.54505016,\n",
      "         1.23477888,   4.51836932,   0.53706517,   3.4870845 ,\n",
      "         1.00458176,   2.13989194,   0.95839796,   4.71076642,\n",
      "         0.6040251 ,   1.00191298,   0.32927687,   3.39119015,\n",
      "         0.90852977,   0.64831671,   0.36165573,   3.53035127,\n",
      "         2.25873921,   4.64545784,   1.54187562,   1.93890556,\n",
      "         1.31809684,   2.95154502,   2.11156502,   0.67858718,\n",
      "         0.96024283,   3.2254676 ,   1.18284865,   0.38973128,\n",
      "         0.95256114,   3.10278335,   2.22250742,   6.2964356 ,\n",
      "         1.04552383,   2.36656126,   1.93906976,   3.32619831,\n",
      "         1.9041458 ,   1.26679525,   1.47125213,   2.34269861,\n",
      "         0.89030037,   0.98148357,   1.14119949,   3.1734804 ,\n",
      "         3.24010189,   6.75139818,   1.54105763,   2.19920927,\n",
      "         2.50748343,   2.42707016,   0.82745889,   2.47111848,\n",
      "         3.05239346,   4.76648005,   5.01260332,   2.40137158,\n",
      "         2.43499611,   0.55004506,   4.87674012,   5.07321027,\n",
      "         0.6344018 ,   3.07341284,   5.79361093,   2.82910733,\n",
      "         0.82936797,   4.79841135,   4.67999158,   4.98927721,\n",
      "         2.95947313,   5.17596643,   1.99234781,   3.31466485,\n",
      "         3.63044855,   8.41022213,   4.52879377,   0.84360386,\n",
      "         5.67352648,   2.56764751,   2.91363084,   1.88482838,\n",
      "         0.96532959,   8.59142982,   5.09181199,   6.33186107,\n",
      "         0.78259224,   9.61524337,  12.0578926 ,   5.01412616,\n",
      "         9.10620254,   8.09966549,   4.34205143,   4.18401271,\n",
      "         9.52428207,  15.30800612,  11.41206354,   7.74882375,\n",
      "         5.53440542,   2.55805243,   8.04936593,  12.6309761 ,\n",
      "         7.07757824,   4.56513385,  13.07519397,   3.68534471,\n",
      "        13.09184955,   3.79489469,  13.33194267,   6.314305  ,\n",
      "        17.93856876,  10.87090711,   6.37750985,   4.76790628,\n",
      "        18.20676347,  13.62839403,  13.18470492,   5.05884102,\n",
      "        12.80863457,  17.81733608,   4.58092441,  35.00335302,\n",
      "        41.04249598,   8.49965923,  11.44356055,  14.45963569,\n",
      "        22.40825192,  21.71210341,  74.81852147,  61.14594611,\n",
      "        21.95770563,   9.34100719,  22.39839386,  15.29627138,\n",
      "        53.15581026, 120.03457688,  98.92239706,  17.85700957,\n",
      "        26.04522486,   6.18176811,  21.32272766,  15.83224593,\n",
      "        11.649727  ,  12.35557688,  14.55431709,   4.91083862,\n",
      "        20.85740779,  12.41759493,  74.12979786,  34.635483  ,\n",
      "        44.64186597,  14.51238061,  19.09743756,  15.07142259,\n",
      "        29.24545506,  64.69389204,  88.72758756,  26.62104116,\n",
      "        28.75079528,   9.76347509,  17.44360183,  10.65000889,\n",
      "        31.01829129,  28.10774398,   9.54481699,  14.99391351,\n",
      "         8.40115133,  19.66445713,  18.70311453,  12.45113739,\n",
      "        30.01955529,   9.19877701,  10.810471  ,  14.65034173,\n",
      "        13.32296816,   4.67041142,  12.08999157,   9.22839729,\n",
      "         6.99853624,   8.76974575,  15.63134593,   3.77239033,\n",
      "         9.38998878,   3.36509536,  11.27147096,   5.90254931,\n",
      "        12.75800664,   8.59568612,  12.38389412,   8.81891499,\n",
      "         8.83427579,   2.31356145,   5.13501316,   4.39078758,\n",
      "        11.25465104,   3.94160358,  12.23165803,   6.21714598,\n",
      "         6.35051645,   1.72680775,   4.02673759,   5.15939646,\n",
      "         9.28009503,   3.75667159,   6.57207253,   4.74872375,\n",
      "         5.39689188,   1.788618  ,   9.05274489,   7.48511785,\n",
      "        13.38880961,   1.85595056,   3.65150141,   1.05526272,\n",
      "         5.5871312 ,   3.2814037 ,   3.38003402,   1.36062088,\n",
      "         4.26552392,   3.50907609,   4.3698942 ,   5.35502017,\n",
      "         5.23713755,   8.97832275,   4.40510602,   2.49160041,\n",
      "         6.33826732,   4.65671122,   2.70833502,   3.21992722,\n",
      "         3.59618486,   1.80429198,   2.62913276,   3.35278627,\n",
      "         4.44560188,   2.85415795,   4.63856787,   4.35461385,\n",
      "         3.43348778,   4.28497061,   5.31721008,   1.93278299,\n",
      "         0.90533843,   3.59585621,   2.02097284,   0.57467505,\n",
      "         2.99634668,   4.44131877,   2.12608873,   2.98803737,\n",
      "         3.91289993,   4.16469459,   0.95827131,   3.13056139,\n",
      "         2.94519546,   1.17098275,   0.45932275,   3.71516935,\n",
      "         2.89207342,   1.61064177,   4.82722356,   3.0514976 ,\n",
      "         1.68094907,   2.37061278,   1.26318444,   2.82489581,\n",
      "         1.30871922,   3.77744475,   3.62948671,   2.29971191,\n",
      "         2.19304023,   3.63791927,   1.42662963,   0.73559518,\n",
      "         2.55152335,   1.67331954,   0.46418825,   1.35529314,\n",
      "         1.44434726,   3.01822843,   1.5540383 ,   3.13168849,\n",
      "         2.7438567 ,   1.40583651,   1.3385863 ,   2.02515201,\n",
      "         0.69768885,   0.80120444,   0.72731521,   3.84657423,\n",
      "         0.98027333,   3.37271443,   1.783877  ,   3.37271443,\n",
      "         0.98027333,   3.84657423,   0.72731521,   0.80120444,\n",
      "         0.69768885,   2.02515201,   1.3385863 ,   1.40583651,\n",
      "         2.7438567 ,   3.13168849,   1.5540383 ,   3.01822843,\n",
      "         1.44434726,   1.35529314,   0.46418825,   1.67331954,\n",
      "         2.55152335,   0.73559518,   1.42662963,   3.63791927,\n",
      "         2.19304023,   2.29971191,   3.62948671,   3.77744475,\n",
      "         1.30871922,   2.82489581,   1.26318444,   2.37061278,\n",
      "         1.68094907,   3.0514976 ,   4.82722356,   1.61064177,\n",
      "         2.89207342,   3.71516935,   0.45932275,   1.17098275,\n",
      "         2.94519546,   3.13056139,   0.95827131,   4.16469459,\n",
      "         3.91289993,   2.98803737,   2.12608873,   4.44131877,\n",
      "         2.99634668,   0.57467505,   2.02097284,   3.59585621,\n",
      "         0.90533843,   1.93278299,   5.31721008,   4.28497061,\n",
      "         3.43348778,   4.35461385,   4.63856787,   2.85415795,\n",
      "         4.44560188,   3.35278627,   2.62913276,   1.80429198,\n",
      "         3.59618486,   3.21992722,   2.70833502,   4.65671122,\n",
      "         6.33826732,   2.49160041,   4.40510602,   8.97832275,\n",
      "         5.23713755,   5.35502017,   4.3698942 ,   3.50907609,\n",
      "         4.26552392,   1.36062088,   3.38003402,   3.2814037 ,\n",
      "         5.5871312 ,   1.05526272,   3.65150141,   1.85595056,\n",
      "        13.38880961,   7.48511785,   9.05274489,   1.788618  ,\n",
      "         5.39689188,   4.74872375,   6.57207253,   3.75667159,\n",
      "         9.28009503,   5.15939646,   4.02673759,   1.72680775,\n",
      "         6.35051645,   6.21714598,  12.23165803,   3.94160358,\n",
      "        11.25465104,   4.39078758,   5.13501316,   2.31356145,\n",
      "         8.83427579,   8.81891499,  12.38389412,   8.59568612,\n",
      "        12.75800664,   5.90254931,  11.27147096,   3.36509536,\n",
      "         9.38998878,   3.77239033,  15.63134593,   8.76974575,\n",
      "         6.99853624,   9.22839729,  12.08999157,   4.67041142,\n",
      "        13.32296816,  14.65034173,  10.810471  ,   9.19877701,\n",
      "        30.01955529,  12.45113739,  18.70311453,  19.66445713,\n",
      "         8.40115133,  14.99391351,   9.54481699,  28.10774398,\n",
      "        31.01829129,  10.65000889,  17.44360183,   9.76347509,\n",
      "        28.75079528,  26.62104116,  88.72758756,  64.69389204,\n",
      "        29.24545506,  15.07142259,  19.09743756,  14.51238061,\n",
      "        44.64186597,  34.635483  ,  74.12979786,  12.41759493,\n",
      "        20.85740779,   4.91083862,  14.55431709,  12.35557688]), 0)\n"
     ]
    }
   ],
   "source": [
    "print(train_dataset[0])"
   ]
  },
  {
   "cell_type": "markdown",
   "id": "b0530df9-70f4-48ed-849a-8407bd9ea839",
   "metadata": {},
   "source": [
    "## Classify using Random Forest"
   ]
  },
  {
   "cell_type": "code",
   "execution_count": 12,
   "id": "e279962e-5f04-4fe4-a35e-8400ea77bcce",
   "metadata": {
    "execution": {
     "iopub.execute_input": "2022-08-19T13:22:21.049397Z",
     "iopub.status.busy": "2022-08-19T13:22:21.049178Z",
     "iopub.status.idle": "2022-08-19T13:22:21.075430Z",
     "shell.execute_reply": "2022-08-19T13:22:21.075023Z",
     "shell.execute_reply.started": "2022-08-19T13:22:21.049373Z"
    },
    "tags": []
   },
   "outputs": [],
   "source": [
    "from librep.estimators import RandomForestClassifier\n",
    "from librep.metrics import classification_report"
   ]
  },
  {
   "cell_type": "code",
   "execution_count": 13,
   "id": "922f5343-2118-400f-b449-2ec41c4779da",
   "metadata": {
    "execution": {
     "iopub.execute_input": "2022-08-19T13:22:21.661121Z",
     "iopub.status.busy": "2022-08-19T13:22:21.660925Z",
     "iopub.status.idle": "2022-08-19T13:22:26.303683Z",
     "shell.execute_reply": "2022-08-19T13:22:26.302718Z",
     "shell.execute_reply.started": "2022-08-19T13:22:21.661105Z"
    },
    "tags": []
   },
   "outputs": [
    {
     "data": {
      "text/plain": [
       "RandomForestClassifier()"
      ]
     },
     "execution_count": 13,
     "metadata": {},
     "output_type": "execute_result"
    }
   ],
   "source": [
    "model = RandomForestClassifier()\n",
    "model.fit(train_dataset[:][0], train_dataset[:][1])"
   ]
  },
  {
   "cell_type": "code",
   "execution_count": 14,
   "id": "d80d4321-ec61-4191-987b-b05c99f5525c",
   "metadata": {
    "execution": {
     "iopub.execute_input": "2022-08-19T13:22:27.059001Z",
     "iopub.status.busy": "2022-08-19T13:22:27.058709Z",
     "iopub.status.idle": "2022-08-19T13:22:27.115145Z",
     "shell.execute_reply": "2022-08-19T13:22:27.114697Z",
     "shell.execute_reply.started": "2022-08-19T13:22:27.058972Z"
    },
    "tags": []
   },
   "outputs": [],
   "source": [
    "y_pred = model.predict(test_dataset[:][0])"
   ]
  },
  {
   "cell_type": "code",
   "execution_count": 15,
   "id": "fcce830a-3bb9-4a02-868d-8d99acb41ea3",
   "metadata": {
    "execution": {
     "iopub.execute_input": "2022-08-19T13:22:27.850213Z",
     "iopub.status.busy": "2022-08-19T13:22:27.849958Z",
     "iopub.status.idle": "2022-08-19T13:22:27.885695Z",
     "shell.execute_reply": "2022-08-19T13:22:27.885251Z",
     "shell.execute_reply.started": "2022-08-19T13:22:27.850184Z"
    },
    "tags": []
   },
   "outputs": [
    {
     "name": "stdout",
     "output_type": "stream",
     "text": [
      "              precision    recall  f1-score   support\n",
      "\n",
      "           0       0.66      0.87      0.75       169\n",
      "           1       0.75      0.83      0.79       169\n",
      "           2       0.93      0.76      0.84       169\n",
      "           3       0.80      0.94      0.86       169\n",
      "           4       0.96      0.63      0.76       169\n",
      "           5       0.97      0.89      0.93       169\n",
      "\n",
      "    accuracy                           0.82      1014\n",
      "   macro avg       0.84      0.82      0.82      1014\n",
      "weighted avg       0.84      0.82      0.82      1014\n",
      "\n"
     ]
    }
   ],
   "source": [
    "print(classification_report(test_dataset[:][1], y_pred))"
   ]
  },
  {
   "cell_type": "markdown",
   "id": "9c4c99b7-c189-4460-94bc-443ed56ff426",
   "metadata": {
    "execution": {
     "iopub.execute_input": "2022-08-11T23:34:41.577661Z",
     "iopub.status.busy": "2022-08-11T23:34:41.577052Z",
     "iopub.status.idle": "2022-08-11T23:34:41.597672Z",
     "shell.execute_reply": "2022-08-11T23:34:41.597118Z",
     "shell.execute_reply.started": "2022-08-11T23:34:41.577591Z"
    },
    "tags": []
   },
   "source": [
    "## Visualize Confusion Matrix"
   ]
  },
  {
   "cell_type": "code",
   "execution_count": 16,
   "id": "fd251c61-f031-43fb-843b-b664824986e7",
   "metadata": {
    "execution": {
     "iopub.execute_input": "2022-08-19T13:22:30.962955Z",
     "iopub.status.busy": "2022-08-19T13:22:30.962806Z",
     "iopub.status.idle": "2022-08-19T13:22:31.647946Z",
     "shell.execute_reply": "2022-08-19T13:22:31.647433Z",
     "shell.execute_reply.started": "2022-08-19T13:22:30.962939Z"
    },
    "tags": []
   },
   "outputs": [
    {
     "data": {
      "text/plain": [
       "<sklearn.metrics._plot.confusion_matrix.ConfusionMatrixDisplay at 0x7fb7950fcd60>"
      ]
     },
     "execution_count": 16,
     "metadata": {},
     "output_type": "execute_result"
    },
    {
     "data": {
      "image/png": "[encoded data removed]",
      "text/plain": [
       "<Figure size 432x288 with 2 Axes>"
      ]
     },
     "metadata": {
      "needs_background": "light"
     },
     "output_type": "display_data"
    }
   ],
   "source": [
    "from sklearn.metrics import ConfusionMatrixDisplay\n",
    "\n",
    "ConfusionMatrixDisplay.from_predictions(test_dataset[:][1], y_pred)"
   ]
  },
  {
   "cell_type": "markdown",
   "id": "369d21e3-93a9-43b2-89b6-7db0733db318",
   "metadata": {},
   "source": [
    "## Do all of this using a Experiment Helper"
   ]
  },
  {
   "cell_type": "code",
   "execution_count": 22,
   "id": "3e3ed3f1-f02b-4fe8-afea-d16004e67c81",
   "metadata": {
    "execution": {
     "iopub.execute_input": "2022-08-19T13:25:31.106238Z",
     "iopub.status.busy": "2022-08-19T13:25:31.105599Z",
     "iopub.status.idle": "2022-08-19T13:25:36.106731Z",
     "shell.execute_reply": "2022-08-19T13:25:36.106339Z",
     "shell.execute_reply.started": "2022-08-19T13:25:31.106152Z"
    },
    "tags": []
   },
   "outputs": [
    {
     "name": "stdout",
     "output_type": "stream",
     "text": [
      "              precision    recall  f1-score   support\n",
      "\n",
      "           0       0.91      0.67      0.77       231\n",
      "           1       0.87      0.84      0.85       176\n",
      "           2       0.76      0.91      0.83       141\n",
      "           3       0.93      0.79      0.85       199\n",
      "           4       0.46      0.85      0.60        92\n",
      "           5       0.96      0.93      0.95       175\n",
      "\n",
      "    accuracy                           0.82      1014\n",
      "   macro avg       0.82      0.83      0.81      1014\n",
      "weighted avg       0.86      0.82      0.82      1014\n",
      "\n"
     ]
    }
   ],
   "source": [
    "from librep.utils.workflow import SimpleTrainEvalWorkflow\n",
    "\n",
    "experiment = SimpleTrainEvalWorkflow(estimator=RandomForestClassifier(), transforms=[windowed_fft], evaluator=classification_report)\n",
    "print(experiment(train_dataset, test_dataset))"
   ]
  }
 ],
 "metadata": {
  "kernelspec": {
   "display_name": "Python 3 (ipykernel)",
   "language": "python",
   "name": "python3"
  },
  "language_info": {
   "codemirror_mode": {
    "name": "ipython",
    "version": 3
   },
   "file_extension": ".py",
   "mimetype": "text/x-python",
   "name": "python",
   "nbconvert_exporter": "python",
   "pygments_lexer": "ipython3",
   "version": "3.8.10"
  }
 },
 "nbformat": 4,
 "nbformat_minor": 5
}
