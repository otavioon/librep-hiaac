{
 "cells": [
  {
   "cell_type": "markdown",
   "id": "fcc64e80-f814-4eae-b75a-bc7d732d8f39",
   "metadata": {},
   "source": [
    "# Train without normalize\n",
    "\n",
    "This notebook will use the KuHar view (balanced_motionsense_equivalent_view) and will:\n",
    "\n",
    "1. Apply DFT over dataset windows\n",
    "2. Train three times with RF, SVM and KNN, and take the average accuracy and f1-score\n",
    "3. Plot UMAP and T-SNE"
   ]
  },
  {
   "cell_type": "code",
   "execution_count": 1,
   "id": "798ee558-bb9f-4b19-b325-0481439c3317",
   "metadata": {},
   "outputs": [],
   "source": [
    "import sys\n",
    "sys.path.append(\"..\")"
   ]
  },
  {
   "cell_type": "code",
   "execution_count": 2,
   "id": "2405ce97-68e6-4596-8121-89c89c775c32",
   "metadata": {},
   "outputs": [
    {
     "name": "stderr",
     "output_type": "stream",
     "text": [
      "2022-10-31 15:21:37.863368: W tensorflow/stream_executor/platform/default/dso_loader.cc:64] Could not load dynamic library 'libcudart.so.11.0'; dlerror: libcudart.so.11.0: cannot open shared object file: No such file or directory\n",
      "2022-10-31 15:21:37.863388: I tensorflow/stream_executor/cuda/cudart_stub.cc:29] Ignore above cudart dlerror if you do not have a GPU set up on your machine.\n"
     ]
    }
   ],
   "source": [
    "import numpy as np\n",
    "import pandas as pd\n",
    "import matplotlib.pyplot as plt\n",
    "from umap import UMAP\n",
    "#from sklearn.preprocessing import StandardScaler\n",
    "from sklearn.manifold import TSNE\n",
    "\n",
    "from librep.datasets.har.loaders import KuHar_BalancedView20HzMotionSenseEquivalent\n",
    "from librep.datasets.multimodal import TransformMultiModalDataset, WindowedTransform\n",
    "from librep.transforms.fft import FFT\n",
    "from librep.utils.workflow import SimpleTrainEvalWorkflow, MultiRunWorkflow\n",
    "from librep.estimators import RandomForestClassifier, SVC, KNeighborsClassifier\n",
    "from librep.metrics.report import ClassificationReport\n",
    "from librep.transforms.resampler import SimpleResampler"
   ]
  },
  {
   "cell_type": "code",
   "execution_count": 3,
   "id": "34cd4c3b-96a3-4bc1-8eeb-2d2631f0edda",
   "metadata": {},
   "outputs": [
    {
     "data": {
      "text/plain": [
       "PandasMultiModalDataset: samples=3114, features=360, no. window=6, label_columns='standard activity code'"
      ]
     },
     "execution_count": 3,
     "metadata": {},
     "output_type": "execute_result"
    }
   ],
   "source": [
    "# Load KuHar, creating PandasMultiModalDatasets with the correct pre-defined windows\n",
    "loader = KuHar_BalancedView20HzMotionSenseEquivalent(\"../../data/views/KuHar/balanced_20Hz_motionsense_equivalent-v1\", \n",
    "                              download=False)\n",
    "train_val, test = loader.load(concat_train_validation=True, label=\"standard activity code\")\n",
    "train_val"
   ]
  },
  {
   "cell_type": "code",
   "execution_count": 4,
   "id": "e4035c48-e903-466c-989d-a24c31e3e53b",
   "metadata": {},
   "outputs": [
    {
     "data": {
      "text/plain": [
       "(['accel-x', 'accel-y', 'accel-z', 'gyro-x', 'gyro-y', 'gyro-z'],\n",
       " [(0, 60), (60, 120), (120, 180), (180, 240), (240, 300), (300, 360)])"
      ]
     },
     "execution_count": 4,
     "metadata": {},
     "output_type": "execute_result"
    }
   ],
   "source": [
    "train_val.window_names, train_val.window_slices"
   ]
  },
  {
   "cell_type": "code",
   "execution_count": 5,
   "id": "b0a3d33d-f632-4bee-b4b4-1ed6bfb6c398",
   "metadata": {},
   "outputs": [
    {
     "data": {
      "text/plain": [
       "array([[ -1.04282825,   7.06961015,   3.45567162, ...,   0.50890319,\n",
       "         -0.11305444,  -0.38018973],\n",
       "       [ -2.43790048,  -2.62844861,  -2.16686063, ...,  -0.09413675,\n",
       "         -0.23829967,   0.3772596 ],\n",
       "       [ -0.66433712,   0.48346468,   3.09023849, ...,   0.28845053,\n",
       "          0.11892508,   0.28859494],\n",
       "       ...,\n",
       "       [  3.92724394,  19.31137994,   0.4036726 , ...,   0.92610044,\n",
       "          1.03635366,  -0.09064377],\n",
       "       [ -7.20889409, -11.73424672,  13.67743163, ...,  -0.13913523,\n",
       "          0.74242743,   0.76542017],\n",
       "       [ -1.30519969,   0.77625489,  -2.01040912, ...,   0.53948006,\n",
       "          1.16119165,  -0.4627136 ]])"
      ]
     },
     "execution_count": 5,
     "metadata": {},
     "output_type": "execute_result"
    }
   ],
   "source": [
    "# Checking the whole data...\n",
    "train_val[:][0]"
   ]
  },
  {
   "cell_type": "code",
   "execution_count": 6,
   "id": "3c80c291-0249-40e4-9465-6c3aac9f8864",
   "metadata": {},
   "outputs": [
    {
     "data": {
      "text/plain": [
       "(360,)"
      ]
     },
     "execution_count": 6,
     "metadata": {},
     "output_type": "execute_result"
    }
   ],
   "source": [
    "train_val[0][0].shape"
   ]
  },
  {
   "cell_type": "code",
   "execution_count": 7,
   "id": "7ac76705-ef00-4097-a992-8aaf58cf38f8",
   "metadata": {},
   "outputs": [],
   "source": [
    "# Create the objects\n",
    "\n",
    "fft_transform = FFT(centered=True)\n",
    "\n",
    "# Compose the transform\n",
    "# First apply the normalizer over whole dataset and then apply FFT over each window\n",
    "transformer = TransformMultiModalDataset(\n",
    "    transforms=[fft_transform], new_window_name_prefix=\"fft.\"\n",
    ")"
   ]
  },
  {
   "cell_type": "code",
   "execution_count": 8,
   "id": "c332caf7-dd47-4a02-b430-44f781c7d953",
   "metadata": {},
   "outputs": [],
   "source": [
    "# Transform it and generate a new dataset!\n",
    "train_val_fft = transformer(train_val)\n",
    "test_fft = transformer(test)"
   ]
  },
  {
   "cell_type": "code",
   "execution_count": 9,
   "id": "0d98324e-d947-4419-9856-0db55322b72c",
   "metadata": {},
   "outputs": [
    {
     "data": {
      "text/plain": [
       "array([[ 5.02447148,  1.61251322,  6.76232259, ...,  0.61856338,\n",
       "         1.44669533,  0.76661466],\n",
       "       [ 3.57299732, 10.83009996, 11.81552738, ...,  0.33707892,\n",
       "         0.57328104,  1.73237447],\n",
       "       [18.92428589, 22.85409918, 26.51434407, ...,  1.28323215,\n",
       "         0.74769824,  1.31400771],\n",
       "       ...,\n",
       "       [37.2112309 , 19.57891073, 22.52651437, ...,  1.15467725,\n",
       "         1.07398967,  3.41019869],\n",
       "       [58.00138092, 13.80286188, 11.50619146, ...,  1.93344645,\n",
       "         6.26234023,  2.55844602],\n",
       "       [22.52434513, 15.52963032,  4.92321122, ...,  5.31483603,\n",
       "         3.63845394,  1.15570768]])"
      ]
     },
     "execution_count": 9,
     "metadata": {},
     "output_type": "execute_result"
    }
   ],
   "source": [
    "# Checking the whole data...\n",
    "train_val_fft[:][0]"
   ]
  },
  {
   "cell_type": "markdown",
   "id": "1dd3b086-9c88-406e-a209-bbf20a8a41fa",
   "metadata": {},
   "source": [
    "## Classification\n",
    "\n",
    "Let's take the transformed datasets and train using RandomForest, SVM and KNN 3 times each. Then take the average accuracy and f1-score over the runs"
   ]
  },
  {
   "cell_type": "code",
   "execution_count": 10,
   "id": "99f6a48a-2e43-4c22-ad7d-0d816872e649",
   "metadata": {},
   "outputs": [],
   "source": [
    "# The reporter will be the same\n",
    "\n",
    "reporter = ClassificationReport(\n",
    "    use_accuracy=True,\n",
    "    use_f1_score=True,\n",
    "    use_classification_report=True,\n",
    "    use_confusion_matrix=True,\n",
    "    plot_confusion_matrix=True,\n",
    "    # normalize='true'\n",
    ")"
   ]
  },
  {
   "cell_type": "markdown",
   "id": "229e6d8a-f1a2-4da7-99ae-a3d6eedbd66b",
   "metadata": {},
   "source": [
    "### RandomForest"
   ]
  },
  {
   "cell_type": "code",
   "execution_count": 11,
   "id": "9bf5dc98-0e2e-4f5c-a744-aa0509d23da6",
   "metadata": {},
   "outputs": [
    {
     "data": {
      "image/png": "[encoded data removed]",
      "text/plain": [
       "<Figure size 640x480 with 2 Axes>"
      ]
     },
     "metadata": {},
     "output_type": "display_data"
    },
    {
     "name": "stdout",
     "output_type": "stream",
     "text": [
      "Mean accuracy (3 runs): 0.8902. Mean f1-score: 0.8901\n"
     ]
    }
   ],
   "source": [
    "experiment = SimpleTrainEvalWorkflow(\n",
    "    estimator=RandomForestClassifier,\n",
    "    do_not_instantiate=False,\n",
    "    do_fit=True,\n",
    "    evaluator=reporter,\n",
    ")\n",
    "\n",
    "multi_run_experiment = MultiRunWorkflow(workflow=experiment, num_runs=1, debug=False)\n",
    "results = multi_run_experiment(train_val_fft, [test_fft])\n",
    "\n",
    "mean_acc = np.average(\n",
    "    [res[\"result\"][0][\"accuracy\"] for res in results[\"runs\"]]\n",
    ")\n",
    "mean_f1 = np.average(\n",
    "    [res[\"result\"][0][\"f1 score (weighted)\"] for res in results[\"runs\"]]\n",
    ")\n",
    "print(f\"Mean accuracy (3 runs): {mean_acc:.4f}. Mean f1-score: {mean_f1:.4f}\")"
   ]
  },
  {
   "cell_type": "code",
   "execution_count": 12,
   "id": "2dd99c06-d53e-41bc-a98a-699922d77acc",
   "metadata": {},
   "outputs": [],
   "source": [
    "rf = RandomForestClassifier()\n",
    "rf.fit(X=train_val_fft[:][0], y=train_val[:][1])\n",
    "y_pred = rf.predict(test_fft[:][0])"
   ]
  },
  {
   "cell_type": "code",
   "execution_count": 13,
   "id": "41a42301-9b49-4eb4-acf2-d7357cf2ef4c",
   "metadata": {},
   "outputs": [
    {
     "data": {
      "text/plain": [
       "0.8792068073910893"
      ]
     },
     "execution_count": 13,
     "metadata": {},
     "output_type": "execute_result"
    }
   ],
   "source": [
    "from sklearn.metrics import (\n",
    "    classification_report,\n",
    "    accuracy_score,\n",
    "    f1_score,\n",
    "    confusion_matrix,\n",
    "    ConfusionMatrixDisplay\n",
    ")\n",
    "\n",
    "res = f1_score(test[:][1], y_pred, average=\"weighted\")\n",
    "res"
   ]
  },
  {
   "cell_type": "markdown",
   "id": "4c5d4e09-3446-45eb-8099-7a4130ce1cc8",
   "metadata": {},
   "source": [
    "## Plot UMAP and T-SNE"
   ]
  },
  {
   "cell_type": "code",
   "execution_count": 14,
   "id": "bed1490a-8a3d-41cd-91dd-31ae7a249863",
   "metadata": {},
   "outputs": [],
   "source": [
    "def plot(df, figsize: tuple = (5, 5), title: str = None, labels: dict = None):\n",
    "    fig, ax = plt.subplots(figsize=figsize)\n",
    "    for label, group_df in df.groupby(\"label\"):\n",
    "        label = labels[label] if labels is not None else label\n",
    "        ax.scatter(group_df.x, group_df.y, label=label)\n",
    "    ax.legend()\n",
    "    plt.title(title)\n",
    "    plt.show()"
   ]
  },
  {
   "cell_type": "code",
   "execution_count": 15,
   "id": "dc0a3df3-27e3-4d33-a2dc-433dd45628e9",
   "metadata": {},
   "outputs": [
    {
     "name": "stdout",
     "output_type": "stream",
     "text": [
      "{0: 'sit', 1: 'stand', 2: 'walk', 3: 'stair up', 4: 'stair down', 5: 'run'}\n"
     ]
    }
   ],
   "source": [
    "labels = {\n",
    "    0: \"sit\",\n",
    "    1: \"stand\",\n",
    "    2: \"walk\",\n",
    "    3: \"stair up\",\n",
    "    4: \"stair down\",\n",
    "    5: \"run\"\n",
    "}\n",
    "print(labels)"
   ]
  },
  {
   "cell_type": "markdown",
   "id": "2a53aff1-d4ad-43a9-b8d7-0de7b19fe328",
   "metadata": {},
   "source": [
    "### UMAP"
   ]
  },
  {
   "cell_type": "code",
   "execution_count": 16,
   "id": "ac4370c0-3ef1-457c-b40a-c1a694d0ff06",
   "metadata": {},
   "outputs": [
    {
     "data": {
      "text/plain": [
       "array([[-0.94131625, 10.672053  ],\n",
       "       [-1.066681  , 10.805359  ],\n",
       "       [-2.0805702 , 10.077073  ],\n",
       "       ...,\n",
       "       [ 3.8511686 , 19.15278   ],\n",
       "       [ 4.43544   , 20.326199  ],\n",
       "       [ 4.421839  , 19.560732  ]], dtype=float32)"
      ]
     },
     "execution_count": 16,
     "metadata": {},
     "output_type": "execute_result"
    }
   ],
   "source": [
    "model = UMAP(n_components=2)\n",
    "model.fit_transform(train_val_fft[:][0])\n",
    "# result = pd.DataFrame(model.fit_transform(train_val_fft[:][0]), columns=[\"x\", \"y\"])\n",
    "# result[\"label\"] = train_val_fft[:][1]\n",
    "# plot(result, title=\"UMAP on KuHar FFT data\", labels = labels)"
   ]
  },
  {
   "cell_type": "code",
   "execution_count": 17,
   "id": "4a3fc2d8-c3b2-471c-9d8b-830a51f0309a",
   "metadata": {},
   "outputs": [
    {
     "data": {
      "text/plain": [
       "array([  5.02447148,   1.61251322,   6.76232259,  10.26384841,\n",
       "        29.26908248,  17.54372747, 118.48658158, 138.42720262,\n",
       "        94.24430978,  49.22627182,  35.45593556,  24.87897343,\n",
       "        27.02631902, 104.5251306 ,  20.03777732,  79.39405212,\n",
       "        34.78729105,  34.46044913,  24.55927025,  42.89564689,\n",
       "        33.20679347,  33.77175868,  24.34724803,  39.41716641,\n",
       "         4.73864293,  24.00614346,  17.09904876,   7.19171167,\n",
       "        26.83075435,  27.57197313,   1.78088566,  13.66585042,\n",
       "        11.22619268,  36.75975242,   3.56771679,   7.48385022,\n",
       "         4.24605834,  15.72853646,   8.83199145,  16.2599116 ,\n",
       "        22.10469642,   8.39068229,  17.15094612,  34.36538536,\n",
       "        18.07976373,   9.68883817,  66.03489565,  19.73558208,\n",
       "        17.49794533,  18.66662912,  28.29853889,  15.6075191 ,\n",
       "        11.36365944,  29.49136768,  10.49791718,   6.13987281,\n",
       "        14.97551951,   1.38848241,   8.48597402,   8.54379177,\n",
       "        13.40340934,   6.04998625,   1.09898138,   5.58295664,\n",
       "        12.87200472,   8.67245799,  37.28670454,  28.83296911,\n",
       "        23.16489661,  17.16169527,   7.98593737,  17.41063999,\n",
       "        38.41356003,  28.4580888 ,  12.64776787,  29.19643043,\n",
       "        15.31877404,  10.90442257,  13.10619007,  21.11663902,\n",
       "        25.70605115,  20.05915567,  17.05503644,  26.00761712,\n",
       "        10.24053882,   9.38869286,  14.68391443,   6.7898189 ,\n",
       "        24.45441011,  26.95018245,   9.40244558,   8.61485232,\n",
       "         6.21012312,   6.89339925,   6.80926804,   6.24963916,\n",
       "         1.5946733 ,   6.1124067 ,   3.92498148,   4.84471995,\n",
       "         1.85855083,   2.5224238 ,   0.49645439,   6.47772742,\n",
       "         1.4028428 ,   0.93300029,   4.59231801,   1.98548399,\n",
       "         4.00005406,   1.10088702,   2.54670331,   1.36251709,\n",
       "         2.44303472,   1.61868608,   1.54272368,   2.35508519,\n",
       "         2.56093362,   1.8043449 ,   1.13864128,   1.52215238,\n",
       "         0.18990332,   0.99814611,   0.95583928,   1.62500926,\n",
       "         1.82221968,   0.61428617,   4.44477685,   0.25723406,\n",
       "         1.77920219,   2.24970941,   3.65777086,   0.79075217,\n",
       "         6.64969366,  11.39316018,   0.49469246,  11.64996688,\n",
       "         4.4298125 ,   2.6957758 ,   5.63103727,   5.15294149,\n",
       "         8.0684655 ,   8.0909005 ,   4.86251871,   8.28850983,\n",
       "         1.43933523,   3.94290783,   4.05904985,   1.27693565,\n",
       "         5.86910938,   7.38861102,   2.34483744,   1.71698001,\n",
       "         3.00380672,   1.62531257,   1.45091273,   1.23070057,\n",
       "         0.93096126,   2.12182886,   1.57617194,   1.4702686 ,\n",
       "         3.27469011,   2.22582832,   1.67547905,   1.98706746,\n",
       "         2.76487452,   1.08889589,   2.6191355 ,   1.64501516,\n",
       "         2.80600538,   2.78856576,   4.7702262 ,   0.56229982,\n",
       "         2.61920982,   3.77478188,   1.15383715,   2.31929033,\n",
       "         3.86269721,   0.61856338,   1.44669533,   0.76661466])"
      ]
     },
     "execution_count": 17,
     "metadata": {},
     "output_type": "execute_result"
    }
   ],
   "source": [
    "sample = train_val_fft[:1][0][0]\n",
    "sample"
   ]
  },
  {
   "cell_type": "code",
   "execution_count": 27,
   "id": "1a545c1d-6259-4ea4-9335-8a62a2aefc9c",
   "metadata": {},
   "outputs": [
    {
     "data": {
      "text/plain": [
       "array([[-0.8625466, 10.677162 ]], dtype=float32)"
      ]
     },
     "execution_count": 27,
     "metadata": {},
     "output_type": "execute_result"
    }
   ],
   "source": [
    "sample_transform = model.transform([sample])\n",
    "sample_transform"
   ]
  },
  {
   "cell_type": "code",
   "execution_count": 28,
   "id": "93733107-d7f1-4af3-8fe5-30fcd49c5635",
   "metadata": {},
   "outputs": [
    {
     "data": {
      "text/plain": [
       "array([13.9552145 , 13.922041  , 13.450786  , 14.117825  , 19.983341  ,\n",
       "       33.17117   , 86.76927   , 64.223335  , 33.551353  , 33.08399   ,\n",
       "       26.901524  , 29.090866  , 31.658474  , 45.212433  , 32.517612  ,\n",
       "       31.907063  , 25.433872  , 26.24625   , 27.355574  , 36.263577  ,\n",
       "       24.349684  , 21.659729  , 15.153107  , 13.153488  , 18.016645  ,\n",
       "       18.394625  , 19.701511  ,  7.9266973 , 10.145273  ,  8.017936  ,\n",
       "       16.781977  ,  2.338639  ,  3.02369   , 29.867025  , 12.885893  ,\n",
       "        7.6642804 , 13.600572  ,  7.820836  , 13.387361  , 23.353468  ,\n",
       "       26.205894  , 13.950124  , 12.208497  , 19.066     , 24.21389   ,\n",
       "       27.241068  , 33.910038  , 22.970406  , 22.922787  , 14.964573  ,\n",
       "       16.098137  , 15.260262  , 22.349277  , 14.2631035 , 12.12664   ,\n",
       "       13.873597  , 13.599333  , 12.177947  , 15.170348  , 12.417809  ,\n",
       "       19.015316  , 12.526237  , 10.505116  ,  8.867846  ,  6.4441533 ,\n",
       "       17.685894  , 40.536896  , 29.087263  , 21.654514  , 19.83168   ,\n",
       "       15.578066  , 21.753645  , 22.227783  , 36.778152  , 17.79788   ,\n",
       "       19.896328  , 17.206583  , 19.60747   , 21.949041  , 30.25833   ,\n",
       "       20.250538  , 15.503088  , 19.60301   ,  8.969955  , 16.065025  ,\n",
       "       24.449203  , 23.23245   , 15.514218  , 15.204499  ,  9.586658  ,\n",
       "       18.056313  , 10.886513  ,  6.828344  ,  6.7925334 ,  9.119632  ,\n",
       "       -0.748895  ,  9.462881  , -1.5557811 , -2.057154  ,  5.626058  ,\n",
       "       -0.38697013,  7.608043  , -2.6609428 ,  7.2063956 ,  8.238674  ,\n",
       "        8.831199  ,  9.104456  ,  8.0595255 ,  7.575062  ,  7.9731207 ,\n",
       "        7.0103226 ,  7.5999217 ,  7.7583055 ,  6.9245634 ,  7.177822  ,\n",
       "        7.1207514 ,  7.013019  , -3.9356174 ,  6.9718666 ,  6.694451  ,\n",
       "        7.1008406 ,  5.957122  , -2.1750834 ,  8.393704  , -2.6395483 ,\n",
       "       -2.35489   ,  3.5522096 ,  9.92578   , -0.9966369 ,  9.823669  ,\n",
       "       -0.9874557 ,  9.957277  ,  9.489738  , 12.775148  ,  8.85207   ,\n",
       "        9.888444  ,  7.7749705 ,  6.887077  , 10.455067  , 11.582258  ,\n",
       "       10.329198  ,  9.278157  ,  9.873158  , -1.2199221 ,  7.9738193 ,\n",
       "        9.246664  ,  9.032182  , -2.545571  , -1.6742946 ,  3.0087254 ,\n",
       "        6.799144  ,  6.2835345 ,  6.708153  ,  8.281034  ,  7.9212813 ,\n",
       "       -3.2179878 ,  7.2682157 , -2.8089333 , -2.1775904 , 11.250032  ,\n",
       "       10.886672  ,  6.7309275 ,  6.53282   , -3.057231  , -2.595656  ,\n",
       "        8.56965   ,  8.750348  , -1.3517302 ,  7.82163   ,  7.895546  ,\n",
       "        7.294847  , -1.8666219 ,  7.7738533 ,  7.268822  ,  7.0403414 ,\n",
       "        7.1899166 ,  6.977726  ,  6.807976  , -3.9842958 ,  6.6010995 ],\n",
       "      dtype=float32)"
      ]
     },
     "execution_count": 28,
     "metadata": {},
     "output_type": "execute_result"
    }
   ],
   "source": [
    "sample_inverse = model.inverse_transform(sample_transform)[0]\n",
    "sample_inverse"
   ]
  },
  {
   "cell_type": "code",
   "execution_count": 29,
   "id": "f0b88791-7c91-4854-bccc-2fc80ff444bb",
   "metadata": {},
   "outputs": [
    {
     "data": {
      "text/plain": [
       "74.20386735219685"
      ]
     },
     "execution_count": 29,
     "metadata": {},
     "output_type": "execute_result"
    }
   ],
   "source": [
    "diff = sample - sample_inverse\n",
    "max(np.abs(diff))"
   ]
  },
  {
   "cell_type": "code",
   "execution_count": 30,
   "id": "276ddf77-617a-40f1-a54e-1c7b5b7f6f6b",
   "metadata": {},
   "outputs": [
    {
     "data": {
      "text/plain": [
       "(array([[0.  , 0.  , 0.05, 0.02, 0.91, 0.02]]), array([4]))"
      ]
     },
     "execution_count": 30,
     "metadata": {},
     "output_type": "execute_result"
    }
   ],
   "source": [
    "rf.predict_proba([sample]), rf.predict([sample])"
   ]
  },
  {
   "cell_type": "code",
   "execution_count": 31,
   "id": "328c4f42-7817-480f-95a2-c4c161900003",
   "metadata": {},
   "outputs": [
    {
     "data": {
      "text/plain": [
       "(array([[0.03, 0.03, 0.04, 0.14, 0.3 , 0.46]]), array([5]))"
      ]
     },
     "execution_count": 31,
     "metadata": {},
     "output_type": "execute_result"
    }
   ],
   "source": [
    "rf.predict_proba([sample_inverse]), rf.predict([sample_inverse])"
   ]
  },
  {
   "cell_type": "code",
   "execution_count": 32,
   "id": "54e3a2c6-98b7-4c66-9b1c-1e2d6ae8d068",
   "metadata": {},
   "outputs": [],
   "source": [
    "test_fft_umap = model.transform(test_fft[:][0])\n",
    "test_fft_inverse = model.inverse_transform(test_fft_umap)"
   ]
  },
  {
   "cell_type": "code",
   "execution_count": 33,
   "id": "4bcf2697-f949-47ab-a539-fbdd17c06131",
   "metadata": {},
   "outputs": [],
   "source": [
    "y_pred_inverse = rf.predict(test_fft_inverse)"
   ]
  },
  {
   "cell_type": "code",
   "execution_count": 34,
   "id": "42273c8c-505c-45dc-b47c-756270cf8536",
   "metadata": {},
   "outputs": [
    {
     "data": {
      "text/plain": [
       "array([-1,  0, -1,  0,  2,  0, -1,  0,  0,  0,  0, -1,  0,  0,  0,  1,  0,\n",
       "        0,  1,  0,  0,  0,  0, -1, -1,  0,  0,  0,  0, -2, -1, -1, -1,  0,\n",
       "        0,  0, -1,  0,  0,  1,  0,  1,  0,  0,  1,  0,  0,  1,  1,  1,  0,\n",
       "        1,  1,  0, -1,  0,  1,  0, -1,  1,  0,  0, -1,  1, -1,  0,  0, -1,\n",
       "       -1, -1,  0,  0,  1, -1,  0,  0,  0, -1,  0,  0,  1, -1, -1, -3, -1,\n",
       "        0,  0,  1,  0,  0,  0, -1,  0, -1,  0, -3, -1,  0,  0,  0,  0,  0,\n",
       "        0, -1, -1, -1,  0,  0,  0,  0, -1, -1, -1, -1, -1, -3, -1, -1, -1,\n",
       "       -1, -1, -3, -3,  1,  0, -2,  0,  0,  1,  0, -2,  0,  1, -2,  0,  0,\n",
       "        0, -2,  1,  1,  0,  1,  1,  0,  0,  0,  0,  0,  1,  1,  0,  1,  0,\n",
       "        1,  0, -2,  0,  1, -2,  0,  1,  0,  0,  1, -2,  0,  0,  0,  0,  0,\n",
       "        0,  0,  0,  0, -2, -1,  0,  0,  0,  0,  0,  0,  0,  0, -2,  0,  0,\n",
       "        0,  1,  0, -2,  0,  0,  0,  0,  0,  0,  0, -2,  0,  0, -2,  0,  0,\n",
       "        0,  0,  0,  0, -1,  0,  0,  0,  0,  0,  0,  0,  0,  0,  0,  0,  0,\n",
       "        0,  0,  0,  0,  0,  0,  0,  0,  0,  0,  0,  0,  0,  0,  0,  0,  0,\n",
       "        0,  0,  0,  0,  0,  0,  0,  0])"
      ]
     },
     "execution_count": 34,
     "metadata": {},
     "output_type": "execute_result"
    }
   ],
   "source": [
    "diff_pred = y_pred - y_pred_inverse\n",
    "diff_pred"
   ]
  },
  {
   "cell_type": "code",
   "execution_count": 35,
   "id": "04d44e05-c11e-4e4c-8e04-8376dd562c38",
   "metadata": {},
   "outputs": [
    {
     "name": "stdout",
     "output_type": "stream",
     "text": [
      "90 246 0.36585365853658536\n"
     ]
    }
   ],
   "source": [
    "cont = 0\n",
    "for d in diff_pred:\n",
    "    if d != 0:\n",
    "        cont+=1\n",
    "print(cont, len(diff_pred), cont / len(diff_pred))"
   ]
  },
  {
   "cell_type": "code",
   "execution_count": null,
   "id": "29fbe835-6d4a-46f5-b6e8-d2fd3b635f20",
   "metadata": {},
   "outputs": [],
   "source": []
  }
 ],
 "metadata": {
  "kernelspec": {
   "display_name": "Python 3 (ipykernel)",
   "language": "python",
   "name": "python3"
  },
  "language_info": {
   "codemirror_mode": {
    "name": "ipython",
    "version": 3
   },
   "file_extension": ".py",
   "mimetype": "text/x-python",
   "name": "python",
   "nbconvert_exporter": "python",
   "pygments_lexer": "ipython3",
   "version": "3.8.10"
  }
 },
 "nbformat": 4,
 "nbformat_minor": 5
}
