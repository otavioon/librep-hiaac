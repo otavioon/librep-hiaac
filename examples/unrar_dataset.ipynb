{
 "cells": [
  {
   "cell_type": "code",
   "execution_count": 2,
   "id": "c0a093ff-e58d-4a1b-86da-b43a80d48275",
   "metadata": {},
   "outputs": [
    {
     "name": "stdout",
     "output_type": "stream",
     "text": [
      "patool: Extracting /data/views/WISDM.rar ...\n",
      "patool: running /usr/bin/unrar x -- /data/views/WISDM.rar\n",
      "patool:     with cwd='/data/views/WISDM_CORRECTED/interpolated_unbalanced_view_train_test-v1'\n",
      "patool: ... /data/views/WISDM.rar extracted to `/data/views/WISDM_CORRECTED/interpolated_unbalanced_view_train_test-v1'.\n"
     ]
    },
    {
     "data": {
      "text/plain": [
       "'/data/views/WISDM_CORRECTED/interpolated_unbalanced_view_train_test-v1'"
      ]
     },
     "execution_count": 2,
     "metadata": {},
     "output_type": "execute_result"
    }
   ],
   "source": [
    "import patoolib\n",
    "\n",
    "patoolib.extract_archive(\"/data/views/WISDM.rar\", outdir=\"/data/views/WISDM_CORRECTED/interpolated_unbalanced_view_train_test-v1\")"
   ]
  },
  {
   "cell_type": "code",
   "execution_count": null,
   "id": "78af01fc-f227-474d-9b7c-a82df20d57fa",
   "metadata": {},
   "outputs": [],
   "source": []
  }
 ],
 "metadata": {
  "kernelspec": {
   "display_name": "Python 3 (ipykernel)",
   "language": "python",
   "name": "python3"
  },
  "language_info": {
   "codemirror_mode": {
    "name": "ipython",
    "version": 3
   },
   "file_extension": ".py",
   "mimetype": "text/x-python",
   "name": "python",
   "nbconvert_exporter": "python",
   "pygments_lexer": "ipython3",
   "version": "3.8.10"
  }
 },
 "nbformat": 4,
 "nbformat_minor": 5
}
