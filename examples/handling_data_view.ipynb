{
 "cells": [
  {
   "cell_type": "markdown",
   "id": "53d9dc44-8e5e-4246-87e9-5c25726234b0",
   "metadata": {},
   "source": [
    "# Tutorial 1: Handling HAR dataset views and Transforms\n",
    "\n",
    "This tutorial will show how to:\n",
    "1. Quick load train, test and validation CSV subsets from a dataset using `PandasDatasetsIO` helper\n",
    "2. Subclassing the `Dataset` interface using `PandasMultiModalDataset`\n",
    "3. Acessing data and labels\n",
    "4. Apply transforms to a dataset\n",
    "5. Apply chain transforms to a dataset"
   ]
  },
  {
   "cell_type": "markdown",
   "id": "b9e9fd58-02a1-488b-8eab-064b7fdae874",
   "metadata": {},
   "source": [
    "## Common imports and definitions"
   ]
  },
  {
   "cell_type": "code",
   "execution_count": 1,
   "id": "ec6da551-6b53-4ed0-b382-65b3b9d1181c",
   "metadata": {
    "execution": {
     "iopub.execute_input": "2022-08-26T13:38:31.587182Z",
     "iopub.status.busy": "2022-08-26T13:38:31.587068Z",
     "iopub.status.idle": "2022-08-26T13:38:38.211379Z",
     "shell.execute_reply": "2022-08-26T13:38:38.210873Z",
     "shell.execute_reply.started": "2022-08-26T13:38:31.587165Z"
    },
    "tags": []
   },
   "outputs": [],
   "source": [
    "from pathlib import Path  # For defining dataset Paths\n",
    "import sys                # For include librep package\n",
    "\n",
    "# This must be done if librep is not installed via pip,\n",
    "# as this directory (examples) is appart from librep package root\n",
    "sys.path.append(\"..\")\n",
    "\n",
    "# Third party imports\n",
    "import pandas as pd\n",
    "import numpy as np\n",
    "\n",
    "# Librep imports\n",
    "from librep.utils.dataset import PandasDatasetsIO          # For quick load train, test and validation CSVs\n",
    "from librep.datasets.multimodal import PandasMultiModalDataset # Wrap CSVs to librep's `Dataset` interface"
   ]
  },
  {
   "cell_type": "markdown",
   "id": "76dc7e5c-c0b5-4e1c-be82-935aebb822f6",
   "metadata": {
    "tags": []
   },
   "source": [
    "## Loading data"
   ]
  },
  {
   "cell_type": "code",
   "execution_count": 2,
   "id": "58562d97-10a2-4081-a773-eb34a2da75f4",
   "metadata": {
    "execution": {
     "iopub.execute_input": "2022-08-26T13:38:38.212335Z",
     "iopub.status.busy": "2022-08-26T13:38:38.212175Z",
     "iopub.status.idle": "2022-08-26T13:38:38.214950Z",
     "shell.execute_reply": "2022-08-26T13:38:38.214597Z",
     "shell.execute_reply.started": "2022-08-26T13:38:38.212320Z"
    },
    "tags": []
   },
   "outputs": [],
   "source": [
    "# Path for KuHar balanced view with the same activities (and labels numbers) as MotionSense\n",
    "# It is assumed that the directory will contain (train.csv, test.csv and validation.csv)\n",
    "kuhar_dataset_path = Path(\"../data/views/KuHar/balanced_motionsense_equivalent_view\")\n",
    "\n",
    "# Path for Motionsese balanced view\n",
    "motionsense_dataset_path = Path(\"../data/views/MotionSense/balanced_view\")"
   ]
  },
  {
   "cell_type": "markdown",
   "id": "25ad8212-0cb3-4080-8345-c771ca6eda24",
   "metadata": {},
   "source": [
    "Once paths is defined, we can load the CSV as pandas dataframes"
   ]
  },
  {
   "cell_type": "code",
   "execution_count": 3,
   "id": "00dc7ad4-7931-4985-be40-f29f3ddf0739",
   "metadata": {
    "execution": {
     "iopub.execute_input": "2022-08-26T13:38:38.215825Z",
     "iopub.status.busy": "2022-08-26T13:38:38.215545Z",
     "iopub.status.idle": "2022-08-26T13:38:40.586745Z",
     "shell.execute_reply": "2022-08-26T13:38:40.586339Z",
     "shell.execute_reply.started": "2022-08-26T13:38:38.215808Z"
    },
    "tags": []
   },
   "outputs": [],
   "source": [
    "# Kuhar dataframes\n",
    "kh_train, kh_validation, kh_test = PandasDatasetsIO(kuhar_dataset_path).load()\n",
    "\n",
    "# MotionSense dataframes\n",
    "ms_train, ms_validation, ms_test = PandasDatasetsIO(motionsense_dataset_path).load()"
   ]
  },
  {
   "cell_type": "markdown",
   "id": "9e88a3de-5f0f-4799-b947-e16fab0fd7e2",
   "metadata": {},
   "source": [
    "Letś take a look in the train dataframes"
   ]
  },
  {
   "cell_type": "code",
   "execution_count": 4,
   "id": "6bf01fc5-59c6-4318-8e24-87b2b6e52b6e",
   "metadata": {
    "execution": {
     "iopub.execute_input": "2022-08-26T13:38:40.587440Z",
     "iopub.status.busy": "2022-08-26T13:38:40.587303Z",
     "iopub.status.idle": "2022-08-26T13:38:40.610202Z",
     "shell.execute_reply": "2022-08-26T13:38:40.609720Z",
     "shell.execute_reply.started": "2022-08-26T13:38:40.587426Z"
    },
    "tags": []
   },
   "outputs": [
    {
     "data": {
      "text/html": [
       "<div>\n",
       "<style scoped>\n",
       "    .dataframe tbody tr th:only-of-type {\n",
       "        vertical-align: middle;\n",
       "    }\n",
       "\n",
       "    .dataframe tbody tr th {\n",
       "        vertical-align: top;\n",
       "    }\n",
       "\n",
       "    .dataframe thead th {\n",
       "        text-align: right;\n",
       "    }\n",
       "</style>\n",
       "<table border=\"1\" class=\"dataframe\">\n",
       "  <thead>\n",
       "    <tr style=\"text-align: right;\">\n",
       "      <th></th>\n",
       "      <th>Unnamed: 0</th>\n",
       "      <th>accel-x-0</th>\n",
       "      <th>accel-x-1</th>\n",
       "      <th>accel-x-2</th>\n",
       "      <th>accel-x-3</th>\n",
       "      <th>accel-x-4</th>\n",
       "      <th>accel-x-5</th>\n",
       "      <th>accel-x-6</th>\n",
       "      <th>accel-x-7</th>\n",
       "      <th>accel-x-8</th>\n",
       "      <th>...</th>\n",
       "      <th>gyro-z-299</th>\n",
       "      <th>accel-start-time</th>\n",
       "      <th>gyro-start-time</th>\n",
       "      <th>accel-end-time</th>\n",
       "      <th>gyro-end-time</th>\n",
       "      <th>activity code</th>\n",
       "      <th>length</th>\n",
       "      <th>serial</th>\n",
       "      <th>index</th>\n",
       "      <th>user</th>\n",
       "    </tr>\n",
       "  </thead>\n",
       "  <tbody>\n",
       "    <tr>\n",
       "      <th>0</th>\n",
       "      <td>0</td>\n",
       "      <td>3.461310</td>\n",
       "      <td>-1.252847</td>\n",
       "      <td>-3.496563</td>\n",
       "      <td>-5.207304</td>\n",
       "      <td>-6.004595</td>\n",
       "      <td>-6.113169</td>\n",
       "      <td>-5.801509</td>\n",
       "      <td>-5.177825</td>\n",
       "      <td>-4.269927</td>\n",
       "      <td>...</td>\n",
       "      <td>0.364809</td>\n",
       "      <td>18.999</td>\n",
       "      <td>18.993</td>\n",
       "      <td>21.989</td>\n",
       "      <td>21.983</td>\n",
       "      <td>0</td>\n",
       "      <td>300</td>\n",
       "      <td>1</td>\n",
       "      <td>1800</td>\n",
       "      <td>1026</td>\n",
       "    </tr>\n",
       "    <tr>\n",
       "      <th>1</th>\n",
       "      <td>1</td>\n",
       "      <td>0.543923</td>\n",
       "      <td>2.928824</td>\n",
       "      <td>5.357442</td>\n",
       "      <td>7.666032</td>\n",
       "      <td>9.274595</td>\n",
       "      <td>9.504671</td>\n",
       "      <td>8.480812</td>\n",
       "      <td>7.024246</td>\n",
       "      <td>6.017520</td>\n",
       "      <td>...</td>\n",
       "      <td>0.516896</td>\n",
       "      <td>13.016</td>\n",
       "      <td>13.015</td>\n",
       "      <td>16.006</td>\n",
       "      <td>16.005</td>\n",
       "      <td>0</td>\n",
       "      <td>300</td>\n",
       "      <td>1</td>\n",
       "      <td>1200</td>\n",
       "      <td>1044</td>\n",
       "    </tr>\n",
       "    <tr>\n",
       "      <th>2</th>\n",
       "      <td>2</td>\n",
       "      <td>-5.489694</td>\n",
       "      <td>-7.227507</td>\n",
       "      <td>-8.707464</td>\n",
       "      <td>-10.075059</td>\n",
       "      <td>-10.948791</td>\n",
       "      <td>-10.493007</td>\n",
       "      <td>-9.060446</td>\n",
       "      <td>-8.766560</td>\n",
       "      <td>-8.540925</td>\n",
       "      <td>...</td>\n",
       "      <td>-0.478851</td>\n",
       "      <td>23.707</td>\n",
       "      <td>23.706</td>\n",
       "      <td>26.659</td>\n",
       "      <td>26.658</td>\n",
       "      <td>0</td>\n",
       "      <td>300</td>\n",
       "      <td>6</td>\n",
       "      <td>2400</td>\n",
       "      <td>1045</td>\n",
       "    </tr>\n",
       "    <tr>\n",
       "      <th>3</th>\n",
       "      <td>3</td>\n",
       "      <td>2.846000</td>\n",
       "      <td>3.760000</td>\n",
       "      <td>4.047900</td>\n",
       "      <td>3.738100</td>\n",
       "      <td>3.103400</td>\n",
       "      <td>2.184900</td>\n",
       "      <td>1.330600</td>\n",
       "      <td>0.328300</td>\n",
       "      <td>-0.904100</td>\n",
       "      <td>...</td>\n",
       "      <td>-0.236850</td>\n",
       "      <td>89.306</td>\n",
       "      <td>89.024</td>\n",
       "      <td>92.305</td>\n",
       "      <td>92.013</td>\n",
       "      <td>0</td>\n",
       "      <td>300</td>\n",
       "      <td>1</td>\n",
       "      <td>3900</td>\n",
       "      <td>1004</td>\n",
       "    </tr>\n",
       "    <tr>\n",
       "      <th>4</th>\n",
       "      <td>4</td>\n",
       "      <td>-4.132881</td>\n",
       "      <td>-4.075327</td>\n",
       "      <td>-3.745526</td>\n",
       "      <td>-3.110118</td>\n",
       "      <td>-2.204922</td>\n",
       "      <td>-1.180573</td>\n",
       "      <td>-0.275069</td>\n",
       "      <td>0.062984</td>\n",
       "      <td>-0.333226</td>\n",
       "      <td>...</td>\n",
       "      <td>0.255464</td>\n",
       "      <td>15.999</td>\n",
       "      <td>15.993</td>\n",
       "      <td>18.989</td>\n",
       "      <td>18.983</td>\n",
       "      <td>0</td>\n",
       "      <td>300</td>\n",
       "      <td>1</td>\n",
       "      <td>1500</td>\n",
       "      <td>1026</td>\n",
       "    </tr>\n",
       "  </tbody>\n",
       "</table>\n",
       "<p>5 rows × 1810 columns</p>\n",
       "</div>"
      ],
      "text/plain": [
       "   Unnamed: 0  accel-x-0  accel-x-1  accel-x-2  accel-x-3  accel-x-4  \\\n",
       "0           0   3.461310  -1.252847  -3.496563  -5.207304  -6.004595   \n",
       "1           1   0.543923   2.928824   5.357442   7.666032   9.274595   \n",
       "2           2  -5.489694  -7.227507  -8.707464 -10.075059 -10.948791   \n",
       "3           3   2.846000   3.760000   4.047900   3.738100   3.103400   \n",
       "4           4  -4.132881  -4.075327  -3.745526  -3.110118  -2.204922   \n",
       "\n",
       "   accel-x-5  accel-x-6  accel-x-7  accel-x-8  ...  gyro-z-299  \\\n",
       "0  -6.113169  -5.801509  -5.177825  -4.269927  ...    0.364809   \n",
       "1   9.504671   8.480812   7.024246   6.017520  ...    0.516896   \n",
       "2 -10.493007  -9.060446  -8.766560  -8.540925  ...   -0.478851   \n",
       "3   2.184900   1.330600   0.328300  -0.904100  ...   -0.236850   \n",
       "4  -1.180573  -0.275069   0.062984  -0.333226  ...    0.255464   \n",
       "\n",
       "   accel-start-time  gyro-start-time  accel-end-time  gyro-end-time  \\\n",
       "0            18.999           18.993          21.989         21.983   \n",
       "1            13.016           13.015          16.006         16.005   \n",
       "2            23.707           23.706          26.659         26.658   \n",
       "3            89.306           89.024          92.305         92.013   \n",
       "4            15.999           15.993          18.989         18.983   \n",
       "\n",
       "   activity code  length  serial  index  user  \n",
       "0              0     300       1   1800  1026  \n",
       "1              0     300       1   1200  1044  \n",
       "2              0     300       6   2400  1045  \n",
       "3              0     300       1   3900  1004  \n",
       "4              0     300       1   1500  1026  \n",
       "\n",
       "[5 rows x 1810 columns]"
      ]
     },
     "execution_count": 4,
     "metadata": {},
     "output_type": "execute_result"
    }
   ],
   "source": [
    "kh_train.head()"
   ]
  },
  {
   "cell_type": "code",
   "execution_count": 5,
   "id": "be445fa6-b06a-4b1c-8fbe-ac9c37490613",
   "metadata": {
    "execution": {
     "iopub.execute_input": "2022-08-26T13:38:40.610933Z",
     "iopub.status.busy": "2022-08-26T13:38:40.610782Z",
     "iopub.status.idle": "2022-08-26T13:38:40.627818Z",
     "shell.execute_reply": "2022-08-26T13:38:40.627425Z",
     "shell.execute_reply.started": "2022-08-26T13:38:40.610918Z"
    },
    "tags": []
   },
   "outputs": [
    {
     "data": {
      "text/html": [
       "<div>\n",
       "<style scoped>\n",
       "    .dataframe tbody tr th:only-of-type {\n",
       "        vertical-align: middle;\n",
       "    }\n",
       "\n",
       "    .dataframe tbody tr th {\n",
       "        vertical-align: top;\n",
       "    }\n",
       "\n",
       "    .dataframe thead th {\n",
       "        text-align: right;\n",
       "    }\n",
       "</style>\n",
       "<table border=\"1\" class=\"dataframe\">\n",
       "  <thead>\n",
       "    <tr style=\"text-align: right;\">\n",
       "      <th></th>\n",
       "      <th>Unnamed: 0</th>\n",
       "      <th>attitude.roll-0</th>\n",
       "      <th>attitude.roll-1</th>\n",
       "      <th>attitude.roll-2</th>\n",
       "      <th>attitude.roll-3</th>\n",
       "      <th>attitude.roll-4</th>\n",
       "      <th>attitude.roll-5</th>\n",
       "      <th>attitude.roll-6</th>\n",
       "      <th>attitude.roll-7</th>\n",
       "      <th>attitude.roll-8</th>\n",
       "      <th>...</th>\n",
       "      <th>userAcceleration.z-295</th>\n",
       "      <th>userAcceleration.z-296</th>\n",
       "      <th>userAcceleration.z-297</th>\n",
       "      <th>userAcceleration.z-298</th>\n",
       "      <th>userAcceleration.z-299</th>\n",
       "      <th>activity code</th>\n",
       "      <th>length</th>\n",
       "      <th>trial_code</th>\n",
       "      <th>index</th>\n",
       "      <th>user</th>\n",
       "    </tr>\n",
       "  </thead>\n",
       "  <tbody>\n",
       "    <tr>\n",
       "      <th>0</th>\n",
       "      <td>0</td>\n",
       "      <td>1.093387</td>\n",
       "      <td>1.129419</td>\n",
       "      <td>1.166286</td>\n",
       "      <td>1.176539</td>\n",
       "      <td>1.218638</td>\n",
       "      <td>1.218076</td>\n",
       "      <td>1.169095</td>\n",
       "      <td>1.104227</td>\n",
       "      <td>1.041327</td>\n",
       "      <td>...</td>\n",
       "      <td>0.025803</td>\n",
       "      <td>0.015770</td>\n",
       "      <td>0.109555</td>\n",
       "      <td>0.172113</td>\n",
       "      <td>0.248941</td>\n",
       "      <td>0</td>\n",
       "      <td>300</td>\n",
       "      <td>1</td>\n",
       "      <td>1200</td>\n",
       "      <td>16</td>\n",
       "    </tr>\n",
       "    <tr>\n",
       "      <th>1</th>\n",
       "      <td>1</td>\n",
       "      <td>1.528132</td>\n",
       "      <td>1.527992</td>\n",
       "      <td>1.527765</td>\n",
       "      <td>1.516768</td>\n",
       "      <td>1.493941</td>\n",
       "      <td>1.476302</td>\n",
       "      <td>1.455153</td>\n",
       "      <td>1.441702</td>\n",
       "      <td>1.443440</td>\n",
       "      <td>...</td>\n",
       "      <td>0.578416</td>\n",
       "      <td>0.572674</td>\n",
       "      <td>0.490945</td>\n",
       "      <td>0.345010</td>\n",
       "      <td>0.129649</td>\n",
       "      <td>0</td>\n",
       "      <td>300</td>\n",
       "      <td>1</td>\n",
       "      <td>0</td>\n",
       "      <td>1</td>\n",
       "    </tr>\n",
       "    <tr>\n",
       "      <th>2</th>\n",
       "      <td>2</td>\n",
       "      <td>-1.331274</td>\n",
       "      <td>-1.315688</td>\n",
       "      <td>-1.315034</td>\n",
       "      <td>-1.315621</td>\n",
       "      <td>-1.287623</td>\n",
       "      <td>-1.218232</td>\n",
       "      <td>-1.139884</td>\n",
       "      <td>-1.054611</td>\n",
       "      <td>-0.970854</td>\n",
       "      <td>...</td>\n",
       "      <td>0.102089</td>\n",
       "      <td>0.124263</td>\n",
       "      <td>0.122183</td>\n",
       "      <td>0.125418</td>\n",
       "      <td>0.230901</td>\n",
       "      <td>0</td>\n",
       "      <td>300</td>\n",
       "      <td>2</td>\n",
       "      <td>600</td>\n",
       "      <td>21</td>\n",
       "    </tr>\n",
       "    <tr>\n",
       "      <th>3</th>\n",
       "      <td>3</td>\n",
       "      <td>0.715184</td>\n",
       "      <td>0.679044</td>\n",
       "      <td>0.662668</td>\n",
       "      <td>0.662928</td>\n",
       "      <td>0.670537</td>\n",
       "      <td>0.666622</td>\n",
       "      <td>0.652839</td>\n",
       "      <td>0.662879</td>\n",
       "      <td>0.723967</td>\n",
       "      <td>...</td>\n",
       "      <td>-0.033105</td>\n",
       "      <td>0.119528</td>\n",
       "      <td>0.057709</td>\n",
       "      <td>-0.057865</td>\n",
       "      <td>-0.097547</td>\n",
       "      <td>0</td>\n",
       "      <td>300</td>\n",
       "      <td>11</td>\n",
       "      <td>0</td>\n",
       "      <td>7</td>\n",
       "    </tr>\n",
       "    <tr>\n",
       "      <th>4</th>\n",
       "      <td>4</td>\n",
       "      <td>-2.004835</td>\n",
       "      <td>-2.041697</td>\n",
       "      <td>-2.044302</td>\n",
       "      <td>-2.038474</td>\n",
       "      <td>-2.055756</td>\n",
       "      <td>-2.102689</td>\n",
       "      <td>-2.158746</td>\n",
       "      <td>-2.202283</td>\n",
       "      <td>-2.232511</td>\n",
       "      <td>...</td>\n",
       "      <td>0.072444</td>\n",
       "      <td>0.005214</td>\n",
       "      <td>-0.231522</td>\n",
       "      <td>-0.560348</td>\n",
       "      <td>-0.678777</td>\n",
       "      <td>0</td>\n",
       "      <td>300</td>\n",
       "      <td>2</td>\n",
       "      <td>1800</td>\n",
       "      <td>19</td>\n",
       "    </tr>\n",
       "  </tbody>\n",
       "</table>\n",
       "<p>5 rows × 3606 columns</p>\n",
       "</div>"
      ],
      "text/plain": [
       "   Unnamed: 0  attitude.roll-0  attitude.roll-1  attitude.roll-2  \\\n",
       "0           0         1.093387         1.129419         1.166286   \n",
       "1           1         1.528132         1.527992         1.527765   \n",
       "2           2        -1.331274        -1.315688        -1.315034   \n",
       "3           3         0.715184         0.679044         0.662668   \n",
       "4           4        -2.004835        -2.041697        -2.044302   \n",
       "\n",
       "   attitude.roll-3  attitude.roll-4  attitude.roll-5  attitude.roll-6  \\\n",
       "0         1.176539         1.218638         1.218076         1.169095   \n",
       "1         1.516768         1.493941         1.476302         1.455153   \n",
       "2        -1.315621        -1.287623        -1.218232        -1.139884   \n",
       "3         0.662928         0.670537         0.666622         0.652839   \n",
       "4        -2.038474        -2.055756        -2.102689        -2.158746   \n",
       "\n",
       "   attitude.roll-7  attitude.roll-8  ...  userAcceleration.z-295  \\\n",
       "0         1.104227         1.041327  ...                0.025803   \n",
       "1         1.441702         1.443440  ...                0.578416   \n",
       "2        -1.054611        -0.970854  ...                0.102089   \n",
       "3         0.662879         0.723967  ...               -0.033105   \n",
       "4        -2.202283        -2.232511  ...                0.072444   \n",
       "\n",
       "   userAcceleration.z-296  userAcceleration.z-297  userAcceleration.z-298  \\\n",
       "0                0.015770                0.109555                0.172113   \n",
       "1                0.572674                0.490945                0.345010   \n",
       "2                0.124263                0.122183                0.125418   \n",
       "3                0.119528                0.057709               -0.057865   \n",
       "4                0.005214               -0.231522               -0.560348   \n",
       "\n",
       "   userAcceleration.z-299  activity code  length  trial_code  index  user  \n",
       "0                0.248941              0     300           1   1200    16  \n",
       "1                0.129649              0     300           1      0     1  \n",
       "2                0.230901              0     300           2    600    21  \n",
       "3               -0.097547              0     300          11      0     7  \n",
       "4               -0.678777              0     300           2   1800    19  \n",
       "\n",
       "[5 rows x 3606 columns]"
      ]
     },
     "execution_count": 5,
     "metadata": {},
     "output_type": "execute_result"
    }
   ],
   "source": [
    "ms_train.head()"
   ]
  },
  {
   "cell_type": "markdown",
   "id": "5a58623b-b64f-4fba-9622-e906e7ea87a7",
   "metadata": {},
   "source": [
    "## Creating a Librep dataset from pandas dataframes\n",
    "\n",
    "We use the `PandasMultiModalDataset` class to create librep's dataset.\n",
    "When calling it, we must define:\n",
    "- The name of the features (column prefixes) that we want from dataframes\n",
    "- The name of the label column\n",
    "\n",
    "\n",
    "The dataset will wrap around librep's `Dataset` class, which override `__getitem__` and `__len__` methods.\n",
    "- Calling `len(dataset)` will return the number of rows in the dataframe\n",
    "- Calling `dataset[0]` will return a tuple with 2 elements: \n",
    "    - The first element is the sample (at row 0, in this case), with the selected features\n",
    "    - The second element is the label of this sample"
   ]
  },
  {
   "cell_type": "markdown",
   "id": "5c4a567a-2a3c-4428-b2f8-43eb1809f497",
   "metadata": {},
   "source": [
    "### Kuhar"
   ]
  },
  {
   "cell_type": "code",
   "execution_count": 6,
   "id": "b83aae79-f28a-41a7-a82b-87d45375a947",
   "metadata": {
    "execution": {
     "iopub.execute_input": "2022-08-26T13:38:40.628682Z",
     "iopub.status.busy": "2022-08-26T13:38:40.628509Z",
     "iopub.status.idle": "2022-08-26T13:38:40.642852Z",
     "shell.execute_reply": "2022-08-26T13:38:40.642377Z",
     "shell.execute_reply.started": "2022-08-26T13:38:40.628663Z"
    },
    "tags": []
   },
   "outputs": [],
   "source": [
    "# Kuhar features to select\n",
    "features = [\n",
    "    \"accel-x\",\n",
    "    \"accel-y\",\n",
    "    \"accel-z\",\n",
    "    \"gyro-x\",\n",
    "    \"gyro-y\",\n",
    "    \"gyro-z\"\n",
    "]\n",
    "\n",
    "# Creating the datasets\n",
    "\n",
    "# Train\n",
    "kh_train_dataset = PandasMultiModalDataset(\n",
    "    kh_train,\n",
    "    feature_prefixes=features,\n",
    "    label_columns=\"activity code\",\n",
    "    as_array=True\n",
    ")\n",
    "\n",
    "# Validation\n",
    "kh_validation_dataset = PandasMultiModalDataset(\n",
    "    kh_validation,\n",
    "    feature_prefixes=features,\n",
    "    label_columns=\"activity code\",\n",
    "    as_array=True\n",
    ")\n",
    "\n",
    "# Test\n",
    "kh_test_dataset = PandasMultiModalDataset(\n",
    "    kh_test,\n",
    "    feature_prefixes=features,\n",
    "    label_columns=\"activity code\",\n",
    "    as_array=True\n",
    ")"
   ]
  },
  {
   "cell_type": "markdown",
   "id": "0582591d-5536-42ce-9879-cae56f8e5b79",
   "metadata": {},
   "source": [
    "### MotionSense"
   ]
  },
  {
   "cell_type": "code",
   "execution_count": 7,
   "id": "2a82c4ae-eb36-4fe4-8dec-fbf84b0295d9",
   "metadata": {
    "execution": {
     "iopub.execute_input": "2022-08-26T13:38:40.644987Z",
     "iopub.status.busy": "2022-08-26T13:38:40.644798Z",
     "iopub.status.idle": "2022-08-26T13:38:40.668269Z",
     "shell.execute_reply": "2022-08-26T13:38:40.667630Z",
     "shell.execute_reply.started": "2022-08-26T13:38:40.644967Z"
    },
    "tags": []
   },
   "outputs": [],
   "source": [
    "# MotionSense features to select\n",
    "features = [\n",
    "    \"userAcceleration.x\",\n",
    "    \"userAcceleration.y\",\n",
    "    \"userAcceleration.z\",\n",
    "    \"rotationRate.x\",\n",
    "    \"rotationRate.y\",\n",
    "    \"rotationRate.z\"\n",
    "]\n",
    "\n",
    "# Creating the datasets\n",
    "\n",
    "# Train\n",
    "ms_train_dataset = PandasMultiModalDataset(\n",
    "    ms_train,\n",
    "    feature_prefixes=features,\n",
    "    label_columns=\"activity code\",\n",
    "    as_array=True\n",
    ")\n",
    "\n",
    "# Validation\n",
    "ms_validation_dataset = PandasMultiModalDataset(\n",
    "    ms_validation,\n",
    "    feature_prefixes=features,\n",
    "    label_columns=\"activity code\",\n",
    "    as_array=True\n",
    ")\n",
    "\n",
    "# Test\n",
    "ms_test_dataset = PandasMultiModalDataset(\n",
    "    ms_test,\n",
    "    feature_prefixes=features,\n",
    "    label_columns=\"activity code\",\n",
    "    as_array=True\n",
    ")"
   ]
  },
  {
   "cell_type": "markdown",
   "id": "4e1a6ac9-c31d-48b4-8cb4-bb10e7a4b659",
   "metadata": {},
   "source": [
    "## Inspect sample"
   ]
  },
  {
   "cell_type": "markdown",
   "id": "f1339a71-f309-4e06-b91f-4ae3aa55305c",
   "metadata": {},
   "source": [
    "### Kuhar"
   ]
  },
  {
   "cell_type": "code",
   "execution_count": 8,
   "id": "424755b0-8954-4b4f-b9d1-616ccdff7f08",
   "metadata": {
    "execution": {
     "iopub.execute_input": "2022-08-26T13:38:40.669386Z",
     "iopub.status.busy": "2022-08-26T13:38:40.669191Z",
     "iopub.status.idle": "2022-08-26T13:38:40.675526Z",
     "shell.execute_reply": "2022-08-26T13:38:40.675152Z",
     "shell.execute_reply.started": "2022-08-26T13:38:40.669367Z"
    },
    "tags": []
   },
   "outputs": [
    {
     "name": "stdout",
     "output_type": "stream",
     "text": [
      "(array([ 3.4613104 , -1.2528467 , -3.496563  , ...,  0.36297613,\n",
      "        0.40329325,  0.36480874]), 0)\n"
     ]
    }
   ],
   "source": [
    "# Lets print the first sample of kh_train dataset.\n",
    "# Is a tuple, with an vector of 1800 elements as first element and the label as second\n",
    "x = kh_train_dataset[0]\n",
    "print(x)"
   ]
  },
  {
   "cell_type": "code",
   "execution_count": 9,
   "id": "e5ed5b71-6cdb-4c3f-9e08-d2e21a26520e",
   "metadata": {
    "execution": {
     "iopub.execute_input": "2022-08-26T13:38:40.676243Z",
     "iopub.status.busy": "2022-08-26T13:38:40.676089Z",
     "iopub.status.idle": "2022-08-26T13:38:40.679599Z",
     "shell.execute_reply": "2022-08-26T13:38:40.679089Z",
     "shell.execute_reply.started": "2022-08-26T13:38:40.676228Z"
    },
    "tags": []
   },
   "outputs": [
    {
     "name": "stdout",
     "output_type": "stream",
     "text": [
      "The sample 0: [ 3.4613104  -1.2528467  -3.496563   ...  0.36297613  0.40329325\n",
      "  0.36480874]\n",
      "Shape of sample 0: (1800,)\n",
      "The label of sample 0: 0\n"
     ]
    }
   ],
   "source": [
    "# Inspecting sample\n",
    "print(f\"The sample 0: {x[0]}\")\n",
    "print(f\"Shape of sample 0: {x[0].shape}\")\n",
    "print(f\"The label of sample 0: {x[1]}\")"
   ]
  },
  {
   "cell_type": "markdown",
   "id": "3c9e3a9f-326e-4072-a23b-73fd11d77dd5",
   "metadata": {},
   "source": [
    "### MotionSense"
   ]
  },
  {
   "cell_type": "code",
   "execution_count": 10,
   "id": "eddb0782-6eee-49ab-8ac3-a3eec0d28ab8",
   "metadata": {
    "execution": {
     "iopub.execute_input": "2022-08-26T13:38:40.680558Z",
     "iopub.status.busy": "2022-08-26T13:38:40.680359Z",
     "iopub.status.idle": "2022-08-26T13:38:40.690710Z",
     "shell.execute_reply": "2022-08-26T13:38:40.690309Z",
     "shell.execute_reply.started": "2022-08-26T13:38:40.680537Z"
    },
    "tags": []
   },
   "outputs": [
    {
     "name": "stdout",
     "output_type": "stream",
     "text": [
      "(array([-0.120843,  0.470622,  0.269861, ..., -0.046833, -0.283947,\n",
      "       -0.521564]), 0)\n"
     ]
    }
   ],
   "source": [
    "# Lets print the first sample of kh_train dataset.\n",
    "# Is a tuple, with an vector of 1800 elements as first element and the label as second\n",
    "x = ms_train_dataset[0]\n",
    "print(x)"
   ]
  },
  {
   "cell_type": "code",
   "execution_count": 11,
   "id": "c9e43596-7108-440c-a2da-454b2624b35d",
   "metadata": {
    "execution": {
     "iopub.execute_input": "2022-08-26T13:38:40.691599Z",
     "iopub.status.busy": "2022-08-26T13:38:40.691419Z",
     "iopub.status.idle": "2022-08-26T13:38:40.694997Z",
     "shell.execute_reply": "2022-08-26T13:38:40.694588Z",
     "shell.execute_reply.started": "2022-08-26T13:38:40.691577Z"
    },
    "tags": []
   },
   "outputs": [
    {
     "name": "stdout",
     "output_type": "stream",
     "text": [
      "The sample 0: [-0.120843  0.470622  0.269861 ... -0.046833 -0.283947 -0.521564]\n",
      "Shape sample 0: (1800,)\n",
      "The label of sample 0: 0\n"
     ]
    }
   ],
   "source": [
    "# Inspecting sample\n",
    "print(f\"The sample 0: {x[0]}\")\n",
    "print(f\"Shape sample 0: {x[0].shape}\")\n",
    "print(f\"The label of sample 0: {x[1]}\")"
   ]
  },
  {
   "cell_type": "markdown",
   "id": "3fbb512d-2392-4ce3-acb7-2691451cb9e0",
   "metadata": {},
   "source": [
    "## Checking windows\n",
    "\n",
    "MultiModal datasets have windows as each sample can be composed by elements of different natures. For instance, a single sample of 1800 elements from KuHar dataset view is composed by accelerometer (3-axis) and gyroscope (3-axis).\n",
    "\n",
    "We can check which parts of the sample (window slices) correspoend to which sensors and axis checking the `window_slices`, `window_name` and `num_windows` atrributes.\n",
    "\n",
    "These values is automatically filled when using the `PandasMultiModalDataset` class."
   ]
  },
  {
   "cell_type": "markdown",
   "id": "eb4de7c8-667b-4fdb-a7d5-9871fb75a022",
   "metadata": {},
   "source": [
    "### Kuhar windows"
   ]
  },
  {
   "cell_type": "code",
   "execution_count": 12,
   "id": "ecb66a53-f029-4fa3-befc-b8cdb0b5c7fc",
   "metadata": {
    "execution": {
     "iopub.execute_input": "2022-08-26T13:38:40.695887Z",
     "iopub.status.busy": "2022-08-26T13:38:40.695695Z",
     "iopub.status.idle": "2022-08-26T13:38:40.698926Z",
     "shell.execute_reply": "2022-08-26T13:38:40.698497Z",
     "shell.execute_reply.started": "2022-08-26T13:38:40.695867Z"
    },
    "tags": []
   },
   "outputs": [
    {
     "name": "stdout",
     "output_type": "stream",
     "text": [
      "Kuhar train have 6 windows\n",
      "Each sample train can be sliced at: [(0, 300), (300, 600), (600, 900), (900, 1200), (1200, 1500), (1500, 1800)]\n",
      "Each slice has the following name associated: ['accel-x', 'accel-y', 'accel-z', 'gyro-x', 'gyro-y', 'gyro-z']\n"
     ]
    }
   ],
   "source": [
    "print(f\"Kuhar train have {kh_train_dataset.num_windows} windows\")\n",
    "print(f\"Each sample train can be sliced at: {kh_train_dataset.window_slices}\")\n",
    "print(f\"Each slice has the following name associated: {kh_train_dataset.window_names}\")"
   ]
  },
  {
   "cell_type": "markdown",
   "id": "6f401327-07f1-4d23-bcfb-5296aa05a796",
   "metadata": {
    "execution": {
     "iopub.execute_input": "2022-08-24T18:57:52.620198Z",
     "iopub.status.busy": "2022-08-24T18:57:52.619755Z",
     "iopub.status.idle": "2022-08-24T18:57:52.622115Z",
     "shell.execute_reply": "2022-08-24T18:57:52.621754Z",
     "shell.execute_reply.started": "2022-08-24T18:57:52.620179Z"
    },
    "tags": []
   },
   "source": [
    "### MotionSense windows"
   ]
  },
  {
   "cell_type": "code",
   "execution_count": 13,
   "id": "476d9083-1c79-41b5-a4dc-81a33d552d0b",
   "metadata": {
    "execution": {
     "iopub.execute_input": "2022-08-26T13:38:40.699831Z",
     "iopub.status.busy": "2022-08-26T13:38:40.699636Z",
     "iopub.status.idle": "2022-08-26T13:38:40.704108Z",
     "shell.execute_reply": "2022-08-26T13:38:40.703667Z",
     "shell.execute_reply.started": "2022-08-26T13:38:40.699809Z"
    },
    "tags": []
   },
   "outputs": [
    {
     "name": "stdout",
     "output_type": "stream",
     "text": [
      "Motionsense train have 6 windows\n",
      "Each sample train can be sliced at: [(0, 300), (300, 600), (600, 900), (900, 1200), (1200, 1500), (1500, 1800)]\n",
      "Each slice has the following name associated: ['userAcceleration.x', 'userAcceleration.y', 'userAcceleration.z', 'rotationRate.x', 'rotationRate.y', 'rotationRate.z']\n"
     ]
    }
   ],
   "source": [
    "print(f\"Motionsense train have {ms_train_dataset.num_windows} windows\")\n",
    "print(f\"Each sample train can be sliced at: {ms_train_dataset.window_slices}\")\n",
    "print(f\"Each slice has the following name associated: {ms_train_dataset.window_names}\")"
   ]
  },
  {
   "cell_type": "markdown",
   "id": "e044f068-d9a0-4ede-a83c-da1d99c97b38",
   "metadata": {},
   "source": [
    "## Transforms\n",
    "\n",
    "We can apply a chain of transforms to a single dataset using `TransformMultiModalDataset`.\n",
    "This class will iterate over the whole dataset and, for each window of each sample, will apply the transform.\n",
    "\n",
    "MultiModalDatasets allows applying transforms to a window of a sample instead of the whole sample"
   ]
  },
  {
   "cell_type": "code",
   "execution_count": 14,
   "id": "3dcdbe38-67ed-4fa0-9fec-003ad5650f7d",
   "metadata": {
    "execution": {
     "iopub.execute_input": "2022-08-26T13:38:40.704812Z",
     "iopub.status.busy": "2022-08-26T13:38:40.704689Z",
     "iopub.status.idle": "2022-08-26T13:38:40.708017Z",
     "shell.execute_reply": "2022-08-26T13:38:40.707442Z",
     "shell.execute_reply.started": "2022-08-26T13:38:40.704796Z"
    },
    "tags": []
   },
   "outputs": [],
   "source": [
    "from librep.datasets.multimodal import TransformMultiModalDataset\n",
    "from librep.transforms.fft import FFT\n",
    "from librep.transforms.stats import StatsTransform\n",
    "from librep.transforms.resampler import SimpleResampler"
   ]
  },
  {
   "cell_type": "code",
   "execution_count": 15,
   "id": "8ff029d9-ac41-4a29-9170-7d547fac4684",
   "metadata": {
    "execution": {
     "iopub.execute_input": "2022-08-26T13:38:40.709158Z",
     "iopub.status.busy": "2022-08-26T13:38:40.708973Z",
     "iopub.status.idle": "2022-08-26T13:38:40.712460Z",
     "shell.execute_reply": "2022-08-26T13:38:40.711788Z",
     "shell.execute_reply.started": "2022-08-26T13:38:40.709138Z"
    },
    "tags": []
   },
   "outputs": [],
   "source": [
    "resampler = SimpleResampler(new_sample_size=100)\n",
    "fft_transform = FFT()\n",
    "transformer = TransformMultiModalDataset(transforms=[resampler, fft_transform], new_window_name_prefix=\"resample-100-fft.\")"
   ]
  },
  {
   "cell_type": "markdown",
   "id": "14432baa-cec3-4b58-bd91-cb24ac2cba51",
   "metadata": {},
   "source": [
    "### Use Resample and FFT in Kuhar"
   ]
  },
  {
   "cell_type": "code",
   "execution_count": 16,
   "id": "b3f13126-ca3c-416b-ac68-5d40e46050c3",
   "metadata": {
    "execution": {
     "iopub.execute_input": "2022-08-26T13:38:40.713264Z",
     "iopub.status.busy": "2022-08-26T13:38:40.713114Z",
     "iopub.status.idle": "2022-08-26T13:38:41.346524Z",
     "shell.execute_reply": "2022-08-26T13:38:41.346082Z",
     "shell.execute_reply.started": "2022-08-26T13:38:40.713248Z"
    },
    "tags": []
   },
   "outputs": [],
   "source": [
    "resampled_kh_train_dataset_fft = transformer(kh_train_dataset)\n",
    "resampled_kh_validation_dataset_fft = transformer(kh_validation_dataset)\n",
    "resampled_kh_test_dataset_fft = transformer(kh_test_dataset)"
   ]
  },
  {
   "cell_type": "code",
   "execution_count": 17,
   "id": "e06eb8db-9ee0-400c-8d31-13495c9a567b",
   "metadata": {
    "execution": {
     "iopub.execute_input": "2022-08-26T13:38:41.347396Z",
     "iopub.status.busy": "2022-08-26T13:38:41.347236Z",
     "iopub.status.idle": "2022-08-26T13:38:41.356823Z",
     "shell.execute_reply": "2022-08-26T13:38:41.356411Z",
     "shell.execute_reply.started": "2022-08-26T13:38:41.347377Z"
    },
    "tags": []
   },
   "outputs": [
    {
     "data": {
      "text/plain": [
       "(array([1.59463682e+01, 8.65515034e+00, 2.27354416e+01, 1.97537874e+01,\n",
       "        9.25508722e+00, 7.09820675e+01, 7.20439930e+01, 8.63793839e+01,\n",
       "        5.51569339e+01, 2.55919794e+01, 3.23705964e+01, 2.55852007e+01,\n",
       "        2.20892355e+01, 1.81927479e+01, 5.00077102e+01, 1.13724929e+02,\n",
       "        7.78939711e+01, 6.27460963e+01, 2.61259616e+01, 2.55478458e+01,\n",
       "        2.59205229e+01, 3.36605549e+01, 3.97725356e+01, 7.62682196e+00,\n",
       "        3.12322281e+01, 1.70850192e+01, 2.67012667e+01, 2.30589481e+01,\n",
       "        1.21252088e+01, 4.10023238e+00, 5.18090094e+00, 1.21208434e+01,\n",
       "        9.54793754e+00, 8.47690534e+00, 9.66471919e+00, 6.59353515e+00,\n",
       "        4.18492000e+00, 1.85648103e+00, 1.10085834e+01, 9.44515729e+00,\n",
       "        1.21408122e+01, 3.26294045e-01, 2.99345158e+00, 3.11082536e+00,\n",
       "        4.64142178e+00, 1.44292597e+00, 8.50990863e+00, 9.02777719e+00,\n",
       "        1.34475812e+01, 3.02679706e+00, 1.14960365e+01, 3.02679706e+00,\n",
       "        1.34475812e+01, 9.02777719e+00, 8.50990863e+00, 1.44292597e+00,\n",
       "        4.64142178e+00, 3.11082536e+00, 2.99345158e+00, 3.26294045e-01,\n",
       "        1.21408122e+01, 9.44515729e+00, 1.10085834e+01, 1.85648103e+00,\n",
       "        4.18492000e+00, 6.59353515e+00, 9.66471919e+00, 8.47690534e+00,\n",
       "        9.54793754e+00, 1.21208434e+01, 5.18090094e+00, 4.10023238e+00,\n",
       "        1.21252088e+01, 2.30589481e+01, 2.67012667e+01, 1.70850192e+01,\n",
       "        3.12322281e+01, 7.62682196e+00, 3.97725356e+01, 3.36605549e+01,\n",
       "        2.59205229e+01, 2.55478458e+01, 2.61259616e+01, 6.27460963e+01,\n",
       "        7.78939711e+01, 1.13724929e+02, 5.00077102e+01, 1.81927479e+01,\n",
       "        2.20892355e+01, 2.55852007e+01, 3.23705964e+01, 2.55919794e+01,\n",
       "        5.51569339e+01, 8.63793839e+01, 7.20439930e+01, 7.09820675e+01,\n",
       "        9.25508722e+00, 1.97537874e+01, 2.27354416e+01, 8.65515034e+00,\n",
       "        1.85920677e+00, 1.45067755e+01, 5.07419891e+00, 3.48246355e+01,\n",
       "        1.69018968e+01, 1.35001329e+01, 3.22197402e+01, 2.56406150e+01,\n",
       "        4.59198533e+01, 1.45718324e+01, 4.94942106e+01, 4.34231104e+01,\n",
       "        1.64708311e+01, 1.84884787e+01, 3.23828227e+01, 9.95569767e+00,\n",
       "        4.90787431e+01, 3.02748256e+01, 6.69238099e+01, 1.14981470e+01,\n",
       "        4.60107974e+00, 1.32099930e+01, 7.16014729e+00, 3.04753905e+01,\n",
       "        4.57340847e+01, 1.39443310e+01, 1.36686389e+01, 1.13441666e+01,\n",
       "        2.69580141e+01, 3.77065808e+00, 4.59384740e+00, 1.63819185e+01,\n",
       "        1.28644963e+01, 7.38542781e+00, 2.49099523e+00, 4.09540445e+00,\n",
       "        6.18474207e+00, 8.45850434e+00, 6.02453008e+00, 5.54427648e+00,\n",
       "        8.52871880e+00, 3.46489845e+00, 2.70252212e+00, 2.14046217e+00,\n",
       "        2.17284628e+00, 4.10503941e+00, 1.38927425e+00, 5.42014260e+00,\n",
       "        6.40876210e+00, 4.99153866e+00, 1.62661608e+00, 4.99153866e+00,\n",
       "        6.40876210e+00, 5.42014260e+00, 1.38927425e+00, 4.10503941e+00,\n",
       "        2.17284628e+00, 2.14046217e+00, 2.70252212e+00, 3.46489845e+00,\n",
       "        8.52871880e+00, 5.54427648e+00, 6.02453008e+00, 8.45850434e+00,\n",
       "        6.18474207e+00, 4.09540445e+00, 2.49099523e+00, 7.38542781e+00,\n",
       "        1.28644963e+01, 1.63819185e+01, 4.59384740e+00, 3.77065808e+00,\n",
       "        2.69580141e+01, 1.13441666e+01, 1.36686389e+01, 1.39443310e+01,\n",
       "        4.57340847e+01, 3.04753905e+01, 7.16014729e+00, 1.32099930e+01,\n",
       "        4.60107974e+00, 1.14981470e+01, 6.69238099e+01, 3.02748256e+01,\n",
       "        4.90787431e+01, 9.95569767e+00, 3.23828227e+01, 1.84884787e+01,\n",
       "        1.64708311e+01, 4.34231104e+01, 4.94942106e+01, 1.45718324e+01,\n",
       "        4.59198533e+01, 2.56406150e+01, 3.22197402e+01, 1.35001329e+01,\n",
       "        1.69018968e+01, 3.48246355e+01, 5.07419891e+00, 1.45067755e+01,\n",
       "        2.36322334e+01, 2.10800202e+00, 8.52855504e+00, 7.29987869e+00,\n",
       "        4.57990342e+00, 3.24829639e+01, 7.05390430e+01, 1.66166960e+01,\n",
       "        3.33500252e+01, 1.90069370e+01, 1.85170006e+01, 4.20431814e+01,\n",
       "        3.98055637e+01, 4.12397788e+01, 3.44069170e+01, 1.60680056e+01,\n",
       "        2.79645189e+01, 2.03607559e+01, 1.05507512e+01, 8.36920378e+00,\n",
       "        2.63695757e+01, 5.01833063e+01, 7.36392805e+00, 9.62061832e+00,\n",
       "        3.62402401e+00, 1.25690379e+01, 1.59254018e+01, 5.08961210e+01,\n",
       "        2.60605990e+01, 3.09262623e+00, 1.22370804e+01, 1.30423775e+01,\n",
       "        1.34060248e+01, 9.86903794e+00, 2.07443485e+01, 2.54553382e+01,\n",
       "        1.96972135e+01, 1.26134817e+01, 1.64647802e+01, 4.67636906e+00,\n",
       "        1.16591398e+01, 1.41427645e+01, 8.47682166e+00, 1.61013628e+01,\n",
       "        1.12617361e+01, 5.19127612e+00, 5.11034222e+00, 9.70020333e+00,\n",
       "        1.26689309e+01, 1.47364497e+01, 2.34658905e+00, 1.47364497e+01,\n",
       "        1.26689309e+01, 9.70020333e+00, 5.11034222e+00, 5.19127612e+00,\n",
       "        1.12617361e+01, 1.61013628e+01, 8.47682166e+00, 1.41427645e+01,\n",
       "        1.16591398e+01, 4.67636906e+00, 1.64647802e+01, 1.26134817e+01,\n",
       "        1.96972135e+01, 2.54553382e+01, 2.07443485e+01, 9.86903794e+00,\n",
       "        1.34060248e+01, 1.30423775e+01, 1.22370804e+01, 3.09262623e+00,\n",
       "        2.60605990e+01, 5.08961210e+01, 1.59254018e+01, 1.25690379e+01,\n",
       "        3.62402401e+00, 9.62061832e+00, 7.36392805e+00, 5.01833063e+01,\n",
       "        2.63695757e+01, 8.36920378e+00, 1.05507512e+01, 2.03607559e+01,\n",
       "        2.79645189e+01, 1.60680056e+01, 3.44069170e+01, 4.12397788e+01,\n",
       "        3.98055637e+01, 4.20431814e+01, 1.85170006e+01, 1.90069370e+01,\n",
       "        3.33500252e+01, 1.66166960e+01, 7.05390430e+01, 3.24829639e+01,\n",
       "        4.57990342e+00, 7.29987869e+00, 8.52855504e+00, 2.10800202e+00,\n",
       "        5.09292602e+01, 1.53876451e+01, 1.52384163e+01, 2.67786831e+01,\n",
       "        1.12631186e+01, 7.53558243e+00, 1.47400329e+01, 8.92943305e+00,\n",
       "        2.03354113e+01, 6.66630355e+00, 8.40769160e+00, 8.29102760e+00,\n",
       "        2.98008153e+00, 5.40893324e-01, 8.08965797e+00, 4.76349331e+00,\n",
       "        9.01937709e+00, 3.44822751e+00, 6.40364631e+00, 4.85761092e+00,\n",
       "        1.94801161e+00, 6.72846110e+00, 6.56755589e-01, 2.32828085e+00,\n",
       "        1.73838975e+00, 2.08374765e+00, 3.21934051e+00, 1.77060838e+00,\n",
       "        1.26033167e+00, 3.04378971e+00, 1.02307254e+00, 1.39729455e+00,\n",
       "        2.43190705e-01, 1.12596331e+00, 1.42566217e+00, 1.94652739e+00,\n",
       "        3.40435632e-01, 1.17462387e+00, 1.61790411e+00, 9.70432876e-01,\n",
       "        2.07328047e+00, 1.23600746e+00, 1.65943838e+00, 4.54633135e-01,\n",
       "        4.13916466e-01, 1.35801706e+00, 1.16519895e+00, 1.36294435e+00,\n",
       "        7.21450802e-01, 3.39309078e-01, 7.02902641e-01, 3.39309078e-01,\n",
       "        7.21450802e-01, 1.36294435e+00, 1.16519895e+00, 1.35801706e+00,\n",
       "        4.13916466e-01, 4.54633135e-01, 1.65943838e+00, 1.23600746e+00,\n",
       "        2.07328047e+00, 9.70432876e-01, 1.61790411e+00, 1.17462387e+00,\n",
       "        3.40435632e-01, 1.94652739e+00, 1.42566217e+00, 1.12596331e+00,\n",
       "        2.43190705e-01, 1.39729455e+00, 1.02307254e+00, 3.04378971e+00,\n",
       "        1.26033167e+00, 1.77060838e+00, 3.21934051e+00, 2.08374765e+00,\n",
       "        1.73838975e+00, 2.32828085e+00, 6.56755589e-01, 6.72846110e+00,\n",
       "        1.94801161e+00, 4.85761092e+00, 6.40364631e+00, 3.44822751e+00,\n",
       "        9.01937709e+00, 4.76349331e+00, 8.08965797e+00, 5.40893324e-01,\n",
       "        2.98008153e+00, 8.29102760e+00, 8.40769160e+00, 6.66630355e+00,\n",
       "        2.03354113e+01, 8.92943305e+00, 1.47400329e+01, 7.53558243e+00,\n",
       "        1.12631186e+01, 2.67786831e+01, 1.52384163e+01, 1.53876451e+01,\n",
       "        5.02131532e-01, 2.59857721e+00, 4.38479626e+00, 1.17201551e+00,\n",
       "        6.63931937e+00, 7.94866774e+00, 7.07831226e+00, 2.36883566e+00,\n",
       "        5.41666936e+00, 1.05080958e+00, 4.77178946e+00, 1.10086604e+00,\n",
       "        3.32575198e+00, 1.79153660e+00, 8.43251643e+00, 1.53499604e+01,\n",
       "        9.33936282e+00, 9.34862169e+00, 4.85151938e+00, 2.10038315e+00,\n",
       "        4.50656217e+00, 9.97138810e+00, 5.81575281e+00, 1.47727691e+00,\n",
       "        2.04234373e+00, 2.52681630e-01, 1.66015504e+00, 1.08278150e+01,\n",
       "        4.55059052e+00, 1.52605965e+00, 2.50180010e+00, 2.52883046e+00,\n",
       "        2.00472358e+00, 1.73425927e+00, 4.40800259e+00, 3.86131271e+00,\n",
       "        1.71016744e+00, 1.90357683e+00, 1.67392616e+00, 1.70505680e-01,\n",
       "        1.51043238e+00, 2.09549395e+00, 1.50167882e+00, 5.88366407e-01,\n",
       "        2.03255282e+00, 1.56109542e+00, 9.47102599e-01, 6.96361816e-01,\n",
       "        1.30626373e+00, 1.28161554e+00, 7.36092385e-01, 1.28161554e+00,\n",
       "        1.30626373e+00, 6.96361816e-01, 9.47102599e-01, 1.56109542e+00,\n",
       "        2.03255282e+00, 5.88366407e-01, 1.50167882e+00, 2.09549395e+00,\n",
       "        1.51043238e+00, 1.70505680e-01, 1.67392616e+00, 1.90357683e+00,\n",
       "        1.71016744e+00, 3.86131271e+00, 4.40800259e+00, 1.73425927e+00,\n",
       "        2.00472358e+00, 2.52883046e+00, 2.50180010e+00, 1.52605965e+00,\n",
       "        4.55059052e+00, 1.08278150e+01, 1.66015504e+00, 2.52681630e-01,\n",
       "        2.04234373e+00, 1.47727691e+00, 5.81575281e+00, 9.97138810e+00,\n",
       "        4.50656217e+00, 2.10038315e+00, 4.85151938e+00, 9.34862169e+00,\n",
       "        9.33936282e+00, 1.53499604e+01, 8.43251643e+00, 1.79153660e+00,\n",
       "        3.32575198e+00, 1.10086604e+00, 4.77178946e+00, 1.05080958e+00,\n",
       "        5.41666936e+00, 2.36883566e+00, 7.07831226e+00, 7.94866774e+00,\n",
       "        6.63931937e+00, 1.17201551e+00, 4.38479626e+00, 2.59857721e+00,\n",
       "        1.16188608e+01, 3.14690103e+00, 3.74400538e+00, 6.48280586e+00,\n",
       "        9.69691316e-01, 5.21357285e-01, 3.37725573e+00, 1.67146347e+00,\n",
       "        7.81650550e+00, 4.72006538e+00, 3.70301626e+00, 5.00874805e+00,\n",
       "        1.72589714e+00, 2.19599231e+00, 1.34287352e+00, 3.71404836e+00,\n",
       "        3.12327013e+00, 1.04208972e+00, 1.57982142e+00, 3.48769939e+00,\n",
       "        2.01294606e+00, 8.57355563e-01, 4.18339206e+00, 3.59342004e+00,\n",
       "        1.78004100e+00, 3.70748410e+00, 2.47112767e+00, 7.38637437e-01,\n",
       "        1.97375112e+00, 2.29605363e+00, 1.44045699e+00, 1.82977171e+00,\n",
       "        1.00918477e+00, 5.55502835e-01, 4.11058710e-01, 7.22500924e-01,\n",
       "        6.93902583e-01, 4.64897520e-01, 7.92382609e-01, 3.30971358e-01,\n",
       "        8.08896474e-01, 7.46700193e-02, 4.16990158e-01, 7.68771132e-01,\n",
       "        5.09063470e-01, 3.70932714e-02, 2.14763625e-01, 5.25242795e-01,\n",
       "        6.55363478e-01, 4.30606629e-01, 5.45298746e-01, 4.30606629e-01,\n",
       "        6.55363478e-01, 5.25242795e-01, 2.14763625e-01, 3.70932714e-02,\n",
       "        5.09063470e-01, 7.68771132e-01, 4.16990158e-01, 7.46700193e-02,\n",
       "        8.08896474e-01, 3.30971358e-01, 7.92382609e-01, 4.64897520e-01,\n",
       "        6.93902583e-01, 7.22500924e-01, 4.11058710e-01, 5.55502835e-01,\n",
       "        1.00918477e+00, 1.82977171e+00, 1.44045699e+00, 2.29605363e+00,\n",
       "        1.97375112e+00, 7.38637437e-01, 2.47112767e+00, 3.70748410e+00,\n",
       "        1.78004100e+00, 3.59342004e+00, 4.18339206e+00, 8.57355563e-01,\n",
       "        2.01294606e+00, 3.48769939e+00, 1.57982142e+00, 1.04208972e+00,\n",
       "        3.12327013e+00, 3.71404836e+00, 1.34287352e+00, 2.19599231e+00,\n",
       "        1.72589714e+00, 5.00874805e+00, 3.70301626e+00, 4.72006538e+00,\n",
       "        7.81650550e+00, 1.67146347e+00, 3.37725573e+00, 5.21357285e-01,\n",
       "        9.69691316e-01, 6.48280586e+00, 3.74400538e+00, 3.14690103e+00]),\n",
       " 0)"
      ]
     },
     "execution_count": 17,
     "metadata": {},
     "output_type": "execute_result"
    }
   ],
   "source": [
    "resampled_kh_train_dataset_fft[0]"
   ]
  },
  {
   "cell_type": "markdown",
   "id": "49c73f84-af68-4f3f-894b-b9a806e21152",
   "metadata": {},
   "source": [
    "### Use Resample and FFT in MotionSense"
   ]
  },
  {
   "cell_type": "code",
   "execution_count": 18,
   "id": "f9e81b45-cb03-4fc5-a445-d003b94f290f",
   "metadata": {
    "execution": {
     "iopub.execute_input": "2022-08-26T13:38:41.357750Z",
     "iopub.status.busy": "2022-08-26T13:38:41.357559Z",
     "iopub.status.idle": "2022-08-26T13:38:42.110246Z",
     "shell.execute_reply": "2022-08-26T13:38:42.109862Z",
     "shell.execute_reply.started": "2022-08-26T13:38:41.357728Z"
    },
    "tags": []
   },
   "outputs": [],
   "source": [
    "resampled_ms_train_dataset_fft = transformer(ms_train_dataset)\n",
    "resampled_ms_validation_dataset_fft = transformer(ms_validation_dataset)\n",
    "resampled_ms_test_dataset_fft = transformer(ms_test_dataset)"
   ]
  }
 ],
 "metadata": {
  "kernelspec": {
   "display_name": "Python 3 (ipykernel)",
   "language": "python",
   "name": "python3"
  },
  "language_info": {
   "codemirror_mode": {
    "name": "ipython",
    "version": 3
   },
   "file_extension": ".py",
   "mimetype": "text/x-python",
   "name": "python",
   "nbconvert_exporter": "python",
   "pygments_lexer": "ipython3",
   "version": "3.8.10"
  }
 },
 "nbformat": 4,
 "nbformat_minor": 5
}
