{
 "cells": [
  {
   "cell_type": "code",
   "execution_count": 1,
   "id": "a73d1044-fcf7-4f29-8d86-bd44b872eb5f",
   "metadata": {},
   "outputs": [],
   "source": [
    "%load_ext autoreload\n",
    "%autoreload 2"
   ]
  },
  {
   "cell_type": "code",
   "execution_count": 2,
   "id": "cc1a8eda-a424-412a-bf48-96fa505a291b",
   "metadata": {},
   "outputs": [],
   "source": [
    "import sys\n",
    "sys.path.append(\"..\")"
   ]
  },
  {
   "cell_type": "code",
   "execution_count": 3,
   "id": "c02e862e-0598-49b0-bfae-6e9e9ffdc5af",
   "metadata": {},
   "outputs": [
    {
     "name": "stderr",
     "output_type": "stream",
     "text": [
      "2022-10-13 19:04:12.523773: W tensorflow/stream_executor/platform/default/dso_loader.cc:64] Could not load dynamic library 'libcudart.so.11.0'; dlerror: libcudart.so.11.0: cannot open shared object file: No such file or directory\n",
      "2022-10-13 19:04:12.523793: I tensorflow/stream_executor/cuda/cudart_stub.cc:29] Ignore above cudart dlerror if you do not have a GPU set up on your machine.\n"
     ]
    }
   ],
   "source": [
    "from librep.datasets.har.loaders import (\n",
    "    KuHar_BalancedView20HzMotionSenseEquivalent,\n",
    "    MotionSense_BalancedView20HZ,\n",
    "    ExtraSensorySense_UnbalancedView20HZ,\n",
    "    CHARM_BalancedView20Hz,\n",
    "    WISDM_UnbalancedView20Hz,\n",
    "    UCIHAR_UnbalancedView20Hz\n",
    ")"
   ]
  },
  {
   "cell_type": "code",
   "execution_count": 4,
   "id": "8b912ffd-25ec-4cdb-8d83-3c7e0654afc5",
   "metadata": {},
   "outputs": [
    {
     "data": {
      "text/markdown": [
       "# Unbalanced WISDM View Resampled to 20Hz\n",
       "\n",
       "This view contain only the train and test files for [WISDM dataset](https://archive.ics.uci.edu/ml/datasets/WISDM+Smartphone+and+Smartwatch+Activity+and+Biometrics+Dataset) (70% samples train and 30% test).\n",
       "The dataset was sampled at 20Hz and interpolated using the cubic spline method due to non stable sampling.\n",
       "\n",
       "## Activity codes\n",
       "- 0: walking (2188 train, 0 validation, 886 test) \n",
       "- 1: jogging (2070 train, 0 validation, 887 test) \n",
       "- 2: stairs (2187 train, 0 validation, 827 test) \n",
       "- 3: sitting (2189 train, 0 validation, 886 test) \n",
       "- 4: standing (2189 train, 0 validation, 887 test) \n",
       " \n",
       "\n",
       "## Standartized activity codes\n",
       "- 0: sit (2189 train, 0 validation, 886 test) \n",
       "- 1: stand (2189 train, 0 validation, 887 test) \n",
       "- 2: walk (2188 train, 0 validation, 886 test) \n",
       "- 5: run (2070 train, 0 validation, 887 test) \n",
       "- 6: stair up and down (2187 train, 0 validation, 827 test) \n",
       "      \n",
       "\n",
       "\n"
      ],
      "text/plain": [
       "<IPython.core.display.Markdown object>"
      ]
     },
     "metadata": {},
     "output_type": "display_data"
    }
   ],
   "source": [
    "# WISDM Loader\n",
    "loader = WISDM_UnbalancedView20Hz(\n",
    "    \"../../data/views/WISDM/unbalanced_20Hz_train_test-v1\", \n",
    "    download=False\n",
    ")\n",
    "\n",
    "# Print the readme (optional)\n",
    "loader.print_readme()"
   ]
  },
  {
   "cell_type": "code",
   "execution_count": 5,
   "id": "1c3c4aa2-eddc-4933-9796-52bd6c9bfa2a",
   "metadata": {},
   "outputs": [
    {
     "data": {
      "text/plain": [
       "PandasMultiModalDataset: samples=10823, features=360, no. window=6, label_columns='standard activity code'"
      ]
     },
     "execution_count": 5,
     "metadata": {},
     "output_type": "execute_result"
    }
   ],
   "source": [
    "train_val, test = loader.load(concat_train_validation=True, label=loader.standard_label)\n",
    "train_val.data['standard activity code'] = train_val.data['standard activity code'].astype('int')\n",
    "train_val"
   ]
  },
  {
   "cell_type": "code",
   "execution_count": 6,
   "id": "2e0e7822-bf5e-4219-98ad-b4a682b26d90",
   "metadata": {},
   "outputs": [
    {
     "data": {
      "text/html": [
       "<div>\n",
       "<style scoped>\n",
       "    .dataframe tbody tr th:only-of-type {\n",
       "        vertical-align: middle;\n",
       "    }\n",
       "\n",
       "    .dataframe tbody tr th {\n",
       "        vertical-align: top;\n",
       "    }\n",
       "\n",
       "    .dataframe thead th {\n",
       "        text-align: right;\n",
       "    }\n",
       "</style>\n",
       "<table border=\"1\" class=\"dataframe\">\n",
       "  <thead>\n",
       "    <tr style=\"text-align: right;\">\n",
       "      <th></th>\n",
       "      <th>accel-x-0</th>\n",
       "      <th>accel-x-1</th>\n",
       "      <th>accel-x-2</th>\n",
       "      <th>accel-x-3</th>\n",
       "      <th>accel-x-4</th>\n",
       "      <th>accel-x-5</th>\n",
       "      <th>accel-x-6</th>\n",
       "      <th>accel-x-7</th>\n",
       "      <th>accel-x-8</th>\n",
       "      <th>accel-x-9</th>\n",
       "      <th>...</th>\n",
       "      <th>gyro-z-53</th>\n",
       "      <th>gyro-z-54</th>\n",
       "      <th>gyro-z-55</th>\n",
       "      <th>gyro-z-56</th>\n",
       "      <th>gyro-z-57</th>\n",
       "      <th>gyro-z-58</th>\n",
       "      <th>gyro-z-59</th>\n",
       "      <th>activity code</th>\n",
       "      <th>user</th>\n",
       "      <th>standard activity code</th>\n",
       "    </tr>\n",
       "  </thead>\n",
       "  <tbody>\n",
       "    <tr>\n",
       "      <th>0</th>\n",
       "      <td>-0.364761</td>\n",
       "      <td>-0.900995</td>\n",
       "      <td>1.988477</td>\n",
       "      <td>0.504245</td>\n",
       "      <td>-2.074267</td>\n",
       "      <td>-4.365631</td>\n",
       "      <td>-0.503460</td>\n",
       "      <td>1.585056</td>\n",
       "      <td>-0.192807</td>\n",
       "      <td>-1.778517</td>\n",
       "      <td>...</td>\n",
       "      <td>0.021654</td>\n",
       "      <td>-0.008257</td>\n",
       "      <td>-0.392786</td>\n",
       "      <td>-0.329143</td>\n",
       "      <td>-0.074698</td>\n",
       "      <td>-0.027220</td>\n",
       "      <td>0.314905</td>\n",
       "      <td>0</td>\n",
       "      <td>1600</td>\n",
       "      <td>2</td>\n",
       "    </tr>\n",
       "    <tr>\n",
       "      <th>1</th>\n",
       "      <td>0.081002</td>\n",
       "      <td>-0.059554</td>\n",
       "      <td>0.429260</td>\n",
       "      <td>1.072248</td>\n",
       "      <td>-2.011736</td>\n",
       "      <td>-4.792650</td>\n",
       "      <td>-2.087036</td>\n",
       "      <td>0.663866</td>\n",
       "      <td>0.317017</td>\n",
       "      <td>-1.504834</td>\n",
       "      <td>...</td>\n",
       "      <td>0.345166</td>\n",
       "      <td>0.294343</td>\n",
       "      <td>-0.417068</td>\n",
       "      <td>-0.172208</td>\n",
       "      <td>0.067521</td>\n",
       "      <td>0.406141</td>\n",
       "      <td>0.615971</td>\n",
       "      <td>0</td>\n",
       "      <td>1600</td>\n",
       "      <td>2</td>\n",
       "    </tr>\n",
       "    <tr>\n",
       "      <th>2</th>\n",
       "      <td>0.192588</td>\n",
       "      <td>-0.855499</td>\n",
       "      <td>-1.242746</td>\n",
       "      <td>0.316417</td>\n",
       "      <td>-1.833108</td>\n",
       "      <td>-4.946311</td>\n",
       "      <td>1.429507</td>\n",
       "      <td>1.555702</td>\n",
       "      <td>-1.230934</td>\n",
       "      <td>-2.758278</td>\n",
       "      <td>...</td>\n",
       "      <td>0.341863</td>\n",
       "      <td>0.039910</td>\n",
       "      <td>-0.253467</td>\n",
       "      <td>-0.607339</td>\n",
       "      <td>-0.102324</td>\n",
       "      <td>0.100644</td>\n",
       "      <td>0.608968</td>\n",
       "      <td>0</td>\n",
       "      <td>1600</td>\n",
       "      <td>2</td>\n",
       "    </tr>\n",
       "    <tr>\n",
       "      <th>3</th>\n",
       "      <td>1.506239</td>\n",
       "      <td>-1.887573</td>\n",
       "      <td>-0.375515</td>\n",
       "      <td>0.282729</td>\n",
       "      <td>-2.745547</td>\n",
       "      <td>-5.598461</td>\n",
       "      <td>-1.923976</td>\n",
       "      <td>1.519264</td>\n",
       "      <td>0.538521</td>\n",
       "      <td>-2.826598</td>\n",
       "      <td>...</td>\n",
       "      <td>0.408067</td>\n",
       "      <td>0.268658</td>\n",
       "      <td>-0.341150</td>\n",
       "      <td>-0.359142</td>\n",
       "      <td>-0.065309</td>\n",
       "      <td>-0.015974</td>\n",
       "      <td>0.365056</td>\n",
       "      <td>0</td>\n",
       "      <td>1600</td>\n",
       "      <td>2</td>\n",
       "    </tr>\n",
       "    <tr>\n",
       "      <th>4</th>\n",
       "      <td>-0.494237</td>\n",
       "      <td>-0.791543</td>\n",
       "      <td>0.976555</td>\n",
       "      <td>1.730751</td>\n",
       "      <td>-4.135104</td>\n",
       "      <td>-7.033570</td>\n",
       "      <td>-3.470397</td>\n",
       "      <td>-1.347896</td>\n",
       "      <td>0.434743</td>\n",
       "      <td>0.326745</td>\n",
       "      <td>...</td>\n",
       "      <td>-0.459501</td>\n",
       "      <td>0.421399</td>\n",
       "      <td>-0.182202</td>\n",
       "      <td>-0.406128</td>\n",
       "      <td>-0.590792</td>\n",
       "      <td>-0.174049</td>\n",
       "      <td>0.307581</td>\n",
       "      <td>0</td>\n",
       "      <td>1600</td>\n",
       "      <td>2</td>\n",
       "    </tr>\n",
       "    <tr>\n",
       "      <th>...</th>\n",
       "      <td>...</td>\n",
       "      <td>...</td>\n",
       "      <td>...</td>\n",
       "      <td>...</td>\n",
       "      <td>...</td>\n",
       "      <td>...</td>\n",
       "      <td>...</td>\n",
       "      <td>...</td>\n",
       "      <td>...</td>\n",
       "      <td>...</td>\n",
       "      <td>...</td>\n",
       "      <td>...</td>\n",
       "      <td>...</td>\n",
       "      <td>...</td>\n",
       "      <td>...</td>\n",
       "      <td>...</td>\n",
       "      <td>...</td>\n",
       "      <td>...</td>\n",
       "      <td>...</td>\n",
       "      <td>...</td>\n",
       "      <td>...</td>\n",
       "    </tr>\n",
       "    <tr>\n",
       "      <th>10818</th>\n",
       "      <td>-0.705972</td>\n",
       "      <td>-0.726914</td>\n",
       "      <td>-0.808348</td>\n",
       "      <td>-0.727646</td>\n",
       "      <td>-0.519297</td>\n",
       "      <td>-0.706294</td>\n",
       "      <td>-0.778460</td>\n",
       "      <td>-0.935760</td>\n",
       "      <td>-0.656630</td>\n",
       "      <td>-0.765051</td>\n",
       "      <td>...</td>\n",
       "      <td>0.015264</td>\n",
       "      <td>0.003391</td>\n",
       "      <td>-0.007575</td>\n",
       "      <td>0.000763</td>\n",
       "      <td>0.015584</td>\n",
       "      <td>-0.014311</td>\n",
       "      <td>-0.016027</td>\n",
       "      <td>4</td>\n",
       "      <td>1635</td>\n",
       "      <td>1</td>\n",
       "    </tr>\n",
       "    <tr>\n",
       "      <th>10819</th>\n",
       "      <td>-0.608502</td>\n",
       "      <td>-0.795883</td>\n",
       "      <td>-0.552300</td>\n",
       "      <td>-0.851302</td>\n",
       "      <td>-0.894535</td>\n",
       "      <td>-0.706040</td>\n",
       "      <td>-0.784716</td>\n",
       "      <td>-0.855779</td>\n",
       "      <td>-0.704870</td>\n",
       "      <td>-0.683281</td>\n",
       "      <td>...</td>\n",
       "      <td>-0.003144</td>\n",
       "      <td>-0.002943</td>\n",
       "      <td>0.005729</td>\n",
       "      <td>-0.010290</td>\n",
       "      <td>-0.006023</td>\n",
       "      <td>-0.006458</td>\n",
       "      <td>-0.001189</td>\n",
       "      <td>4</td>\n",
       "      <td>1635</td>\n",
       "      <td>1</td>\n",
       "    </tr>\n",
       "    <tr>\n",
       "      <th>10820</th>\n",
       "      <td>-0.777215</td>\n",
       "      <td>-0.714181</td>\n",
       "      <td>-0.765897</td>\n",
       "      <td>-0.765035</td>\n",
       "      <td>-0.697754</td>\n",
       "      <td>-0.852415</td>\n",
       "      <td>-0.749396</td>\n",
       "      <td>-0.637518</td>\n",
       "      <td>-0.757676</td>\n",
       "      <td>-0.702906</td>\n",
       "      <td>...</td>\n",
       "      <td>-0.001254</td>\n",
       "      <td>0.006774</td>\n",
       "      <td>-0.001247</td>\n",
       "      <td>0.001032</td>\n",
       "      <td>0.006439</td>\n",
       "      <td>0.005181</td>\n",
       "      <td>0.011468</td>\n",
       "      <td>4</td>\n",
       "      <td>1635</td>\n",
       "      <td>1</td>\n",
       "    </tr>\n",
       "    <tr>\n",
       "      <th>10821</th>\n",
       "      <td>-1.073461</td>\n",
       "      <td>-0.614644</td>\n",
       "      <td>-0.764390</td>\n",
       "      <td>-0.546810</td>\n",
       "      <td>-0.874834</td>\n",
       "      <td>-0.619953</td>\n",
       "      <td>-0.698473</td>\n",
       "      <td>-0.924804</td>\n",
       "      <td>-0.704255</td>\n",
       "      <td>-0.736017</td>\n",
       "      <td>...</td>\n",
       "      <td>0.004119</td>\n",
       "      <td>0.000570</td>\n",
       "      <td>-0.035448</td>\n",
       "      <td>-0.028324</td>\n",
       "      <td>0.004960</td>\n",
       "      <td>0.002800</td>\n",
       "      <td>-0.004581</td>\n",
       "      <td>4</td>\n",
       "      <td>1635</td>\n",
       "      <td>1</td>\n",
       "    </tr>\n",
       "    <tr>\n",
       "      <th>10822</th>\n",
       "      <td>-0.503659</td>\n",
       "      <td>-0.243421</td>\n",
       "      <td>-0.368060</td>\n",
       "      <td>-0.487681</td>\n",
       "      <td>-0.438069</td>\n",
       "      <td>-0.466753</td>\n",
       "      <td>-0.376455</td>\n",
       "      <td>-0.196065</td>\n",
       "      <td>-0.218869</td>\n",
       "      <td>-0.128147</td>\n",
       "      <td>...</td>\n",
       "      <td>0.005046</td>\n",
       "      <td>0.020722</td>\n",
       "      <td>0.025654</td>\n",
       "      <td>0.019727</td>\n",
       "      <td>0.001174</td>\n",
       "      <td>0.004027</td>\n",
       "      <td>0.015823</td>\n",
       "      <td>4</td>\n",
       "      <td>1635</td>\n",
       "      <td>1</td>\n",
       "    </tr>\n",
       "  </tbody>\n",
       "</table>\n",
       "<p>10823 rows × 363 columns</p>\n",
       "</div>"
      ],
      "text/plain": [
       "       accel-x-0  accel-x-1  accel-x-2  accel-x-3  accel-x-4  accel-x-5  \\\n",
       "0      -0.364761  -0.900995   1.988477   0.504245  -2.074267  -4.365631   \n",
       "1       0.081002  -0.059554   0.429260   1.072248  -2.011736  -4.792650   \n",
       "2       0.192588  -0.855499  -1.242746   0.316417  -1.833108  -4.946311   \n",
       "3       1.506239  -1.887573  -0.375515   0.282729  -2.745547  -5.598461   \n",
       "4      -0.494237  -0.791543   0.976555   1.730751  -4.135104  -7.033570   \n",
       "...          ...        ...        ...        ...        ...        ...   \n",
       "10818  -0.705972  -0.726914  -0.808348  -0.727646  -0.519297  -0.706294   \n",
       "10819  -0.608502  -0.795883  -0.552300  -0.851302  -0.894535  -0.706040   \n",
       "10820  -0.777215  -0.714181  -0.765897  -0.765035  -0.697754  -0.852415   \n",
       "10821  -1.073461  -0.614644  -0.764390  -0.546810  -0.874834  -0.619953   \n",
       "10822  -0.503659  -0.243421  -0.368060  -0.487681  -0.438069  -0.466753   \n",
       "\n",
       "       accel-x-6  accel-x-7  accel-x-8  accel-x-9  ...  gyro-z-53  gyro-z-54  \\\n",
       "0      -0.503460   1.585056  -0.192807  -1.778517  ...   0.021654  -0.008257   \n",
       "1      -2.087036   0.663866   0.317017  -1.504834  ...   0.345166   0.294343   \n",
       "2       1.429507   1.555702  -1.230934  -2.758278  ...   0.341863   0.039910   \n",
       "3      -1.923976   1.519264   0.538521  -2.826598  ...   0.408067   0.268658   \n",
       "4      -3.470397  -1.347896   0.434743   0.326745  ...  -0.459501   0.421399   \n",
       "...          ...        ...        ...        ...  ...        ...        ...   \n",
       "10818  -0.778460  -0.935760  -0.656630  -0.765051  ...   0.015264   0.003391   \n",
       "10819  -0.784716  -0.855779  -0.704870  -0.683281  ...  -0.003144  -0.002943   \n",
       "10820  -0.749396  -0.637518  -0.757676  -0.702906  ...  -0.001254   0.006774   \n",
       "10821  -0.698473  -0.924804  -0.704255  -0.736017  ...   0.004119   0.000570   \n",
       "10822  -0.376455  -0.196065  -0.218869  -0.128147  ...   0.005046   0.020722   \n",
       "\n",
       "       gyro-z-55  gyro-z-56  gyro-z-57  gyro-z-58  gyro-z-59  activity code  \\\n",
       "0      -0.392786  -0.329143  -0.074698  -0.027220   0.314905              0   \n",
       "1      -0.417068  -0.172208   0.067521   0.406141   0.615971              0   \n",
       "2      -0.253467  -0.607339  -0.102324   0.100644   0.608968              0   \n",
       "3      -0.341150  -0.359142  -0.065309  -0.015974   0.365056              0   \n",
       "4      -0.182202  -0.406128  -0.590792  -0.174049   0.307581              0   \n",
       "...          ...        ...        ...        ...        ...            ...   \n",
       "10818  -0.007575   0.000763   0.015584  -0.014311  -0.016027              4   \n",
       "10819   0.005729  -0.010290  -0.006023  -0.006458  -0.001189              4   \n",
       "10820  -0.001247   0.001032   0.006439   0.005181   0.011468              4   \n",
       "10821  -0.035448  -0.028324   0.004960   0.002800  -0.004581              4   \n",
       "10822   0.025654   0.019727   0.001174   0.004027   0.015823              4   \n",
       "\n",
       "       user  standard activity code  \n",
       "0      1600                       2  \n",
       "1      1600                       2  \n",
       "2      1600                       2  \n",
       "3      1600                       2  \n",
       "4      1600                       2  \n",
       "...     ...                     ...  \n",
       "10818  1635                       1  \n",
       "10819  1635                       1  \n",
       "10820  1635                       1  \n",
       "10821  1635                       1  \n",
       "10822  1635                       1  \n",
       "\n",
       "[10823 rows x 363 columns]"
      ]
     },
     "execution_count": 6,
     "metadata": {},
     "output_type": "execute_result"
    }
   ],
   "source": [
    "train_val.data"
   ]
  },
  {
   "cell_type": "code",
   "execution_count": 7,
   "id": "03fa66fb-c45e-4386-9895-c36b558a7d79",
   "metadata": {},
   "outputs": [],
   "source": [
    "from librep.utils.workflow import SimpleTrainEvalWorkflow, MultiRunWorkflow\n",
    "from librep.estimators import RandomForestClassifier\n",
    "from librep.metrics.report import ClassificationReport\n",
    "import yaml\n",
    "\n",
    "reporter = ClassificationReport(use_accuracy=True, use_f1_score=True, use_classification_report=False, use_confusion_matrix=False, plot_confusion_matrix=False)\n",
    "experiment = SimpleTrainEvalWorkflow(estimator=RandomForestClassifier, estimator_creation_kwags ={'n_estimators':100} , do_not_instantiate=False, do_fit=True, evaluator=reporter)\n",
    "multi_run_experiment = MultiRunWorkflow(workflow=experiment, num_runs=3, debug=False)"
   ]
  },
  {
   "cell_type": "code",
   "execution_count": 8,
   "id": "83d9fe38-06d4-4bfb-9414-2d6ef76fb514",
   "metadata": {},
   "outputs": [],
   "source": [
    "# import numpy as np\n",
    "\n",
    "# result = multi_run_experiment(train_val, test)\n",
    "\n",
    "# averange = np.mean([result['runs'][i]['result'][0]['accuracy'] for i in range(3)])\n",
    "# averange"
   ]
  },
  {
   "cell_type": "code",
   "execution_count": 9,
   "id": "03dc7d79-1484-4d99-903a-0072de48d8d8",
   "metadata": {},
   "outputs": [],
   "source": [
    "from librep.datasets.multimodal import TransformMultiModalDataset"
   ]
  },
  {
   "cell_type": "code",
   "execution_count": 10,
   "id": "56b8c4d8-dfd1-48cb-841d-40ff5058716e",
   "metadata": {},
   "outputs": [],
   "source": [
    "from librep.transforms.filter import ButterWorthFilter\n",
    "\n",
    "filter_transform = ButterWorthFilter()\n",
    "transformer = TransformMultiModalDataset(transforms=[filter_transform], new_window_name_prefix=\"filter.\")"
   ]
  },
  {
   "cell_type": "code",
   "execution_count": 11,
   "id": "bf002cf3-2390-4c89-9b9c-35d8303f0f32",
   "metadata": {},
   "outputs": [],
   "source": [
    "# train_val_filtered = transformer(train_val)\n",
    "# test_filtered = transformer(test)\n",
    "\n",
    "# result = multi_run_experiment(train_val_filtered, test_filtered)\n",
    "\n",
    "# averange = np.mean([result['runs'][i]['result'][0]['accuracy'] for i in range(10)])\n",
    "# averange"
   ]
  },
  {
   "cell_type": "code",
   "execution_count": 12,
   "id": "b1adc64a-9fcd-47a7-b999-a21e783b2d42",
   "metadata": {},
   "outputs": [
    {
     "data": {
      "text/plain": [
       "-0.8667934435512187"
      ]
     },
     "execution_count": 12,
     "metadata": {},
     "output_type": "execute_result"
    }
   ],
   "source": [
    "import numpy as np\n",
    "X = np.array(train_val.data.iloc[:,:60])\n",
    "sample = X[0]\n",
    "np.mean(sample)"
   ]
  },
  {
   "cell_type": "code",
   "execution_count": 13,
   "id": "406de463-fcf7-4d8d-9d9e-ec11a773c1ba",
   "metadata": {},
   "outputs": [
    {
     "data": {
      "text/plain": [
       "[<matplotlib.lines.Line2D at 0x7f5a28fa9490>]"
      ]
     },
     "execution_count": 13,
     "metadata": {},
     "output_type": "execute_result"
    },
    {
     "data": {
      "image/png": "[encoded data removed]",
      "text/plain": [
       "<Figure size 640x480 with 1 Axes>"
      ]
     },
     "metadata": {},
     "output_type": "display_data"
    }
   ],
   "source": [
    "import matplotlib.pyplot as plt\n",
    "\n",
    "plt.plot(sample)"
   ]
  },
  {
   "cell_type": "code",
   "execution_count": 14,
   "id": "51f826cf-b114-4202-8e76-70c4653edad4",
   "metadata": {},
   "outputs": [
    {
     "data": {
      "text/plain": [
       "-0.0076676426580800615"
      ]
     },
     "execution_count": 14,
     "metadata": {},
     "output_type": "execute_result"
    }
   ],
   "source": [
    "from scipy import signal\n",
    "\n",
    "sos = signal.butter(3, .3, 'high', fs=20, output='sos')\n",
    "filtered = signal.sosfilt(sos, sample)\n",
    "np.mean(filtered)"
   ]
  },
  {
   "cell_type": "code",
   "execution_count": 15,
   "id": "21d2778f-437d-4408-8d1e-86f691fba575",
   "metadata": {},
   "outputs": [
    {
     "data": {
      "text/plain": [
       "[<matplotlib.lines.Line2D at 0x7f5a28ea7a60>]"
      ]
     },
     "execution_count": 15,
     "metadata": {},
     "output_type": "execute_result"
    },
    {
     "data": {
      "image/png": "[encoded data removed]",
      "text/plain": [
       "<Figure size 640x480 with 1 Axes>"
      ]
     },
     "metadata": {},
     "output_type": "display_data"
    }
   ],
   "source": [
    "plt.plot(filtered)"
   ]
  },
  {
   "cell_type": "code",
   "execution_count": 17,
   "id": "a258165a-b560-48e1-81f1-03f8e1ff05ae",
   "metadata": {},
   "outputs": [
    {
     "data": {
      "text/plain": [
       "-0.4774898126014146"
      ]
     },
     "execution_count": 17,
     "metadata": {},
     "output_type": "execute_result"
    }
   ],
   "source": [
    "from scipy import signal\n",
    "\n",
    "sos = signal.butter(3, .3, 'low', fs=20, output='sos')\n",
    "gravity = signal.sosfilt(sos, sample)\n",
    "np.mean(gravity)"
   ]
  },
  {
   "cell_type": "code",
   "execution_count": 18,
   "id": "4ba7211a-72ec-429d-b631-21c9929f7a4d",
   "metadata": {},
   "outputs": [],
   "source": [
    "sam = sample - (filtered + gravity)"
   ]
  },
  {
   "cell_type": "code",
   "execution_count": 19,
   "id": "29c66334-1958-447c-b662-7eab744501ff",
   "metadata": {},
   "outputs": [
    {
     "data": {
      "text/plain": [
       "[<matplotlib.lines.Line2D at 0x7f5a28e95d00>]"
      ]
     },
     "execution_count": 19,
     "metadata": {},
     "output_type": "execute_result"
    },
    {
     "data": {
      "image/png": "[encoded data removed]",
      "text/plain": [
       "<Figure size 640x480 with 1 Axes>"
      ]
     },
     "metadata": {},
     "output_type": "display_data"
    }
   ],
   "source": [
    "plt.plot(sam)"
   ]
  },
  {
   "cell_type": "code",
   "execution_count": null,
   "id": "977414f2-a8f0-4ef6-81c0-58e5752f80e0",
   "metadata": {},
   "outputs": [],
   "source": []
  }
 ],
 "metadata": {
  "kernelspec": {
   "display_name": "Python 3 (ipykernel)",
   "language": "python",
   "name": "python3"
  },
  "language_info": {
   "codemirror_mode": {
    "name": "ipython",
    "version": 3
   },
   "file_extension": ".py",
   "mimetype": "text/x-python",
   "name": "python",
   "nbconvert_exporter": "python",
   "pygments_lexer": "ipython3",
   "version": "3.8.10"
  }
 },
 "nbformat": 4,
 "nbformat_minor": 5
}
