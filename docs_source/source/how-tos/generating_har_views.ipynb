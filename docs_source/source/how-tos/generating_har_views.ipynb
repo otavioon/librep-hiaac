{
 "cells": [
  {
   "cell_type": "markdown",
   "id": "e1996765-2804-4037-9a0f-331e0ddab5b4",
   "metadata": {
    "execution": {
     "iopub.execute_input": "2022-08-30T21:13:40.381005Z",
     "iopub.status.busy": "2022-08-30T21:13:40.380750Z",
     "iopub.status.idle": "2022-08-30T21:13:40.384530Z",
     "shell.execute_reply": "2022-08-30T21:13:40.383859Z",
     "shell.execute_reply.started": "2022-08-30T21:13:40.380984Z"
    },
    "tags": []
   },
   "source": [
    "# Generating Views for HAR datasets"
   ]
  },
  {
   "cell_type": "markdown",
   "id": "291f4b95-26e9-42ce-b309-5350ef133756",
   "metadata": {},
   "source": [
    "## View creation"
   ]
  }
 ],
 "metadata": {
  "kernelspec": {
   "display_name": "Python 3 (ipykernel)",
   "language": "python",
   "name": "python3"
  },
  "language_info": {
   "codemirror_mode": {
    "name": "ipython",
    "version": 3
   },
   "file_extension": ".py",
   "mimetype": "text/x-python",
   "name": "python",
   "nbconvert_exporter": "python",
   "pygments_lexer": "ipython3",
   "version": "3.8.10"
  }
 },
 "nbformat": 4,
 "nbformat_minor": 5
}
