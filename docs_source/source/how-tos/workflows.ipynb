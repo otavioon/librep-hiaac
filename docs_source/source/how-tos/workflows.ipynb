{
 "cells": [
  {
   "cell_type": "markdown",
   "id": "2d431e08-7bc1-442a-b8e1-dd3cf82deb4f",
   "metadata": {},
   "source": [
    "# Workflows\n",
    "\n",
    "Workflows are sequence of steps used to generate a result. It takes a dataset as input, perform the steps and output something. \n",
    "Workflows tries to be customizable and can be applyied to different datasets.\n"
   ]
  },
  {
   "cell_type": "markdown",
   "id": "20f399db-80f2-4f88-8116-20542943d3cf",
   "metadata": {},
   "source": [
    "## Executing experiments"
   ]
  }
 ],
 "metadata": {
  "kernelspec": {
   "display_name": "Python 3 (ipykernel)",
   "language": "python",
   "name": "python3"
  },
  "language_info": {
   "codemirror_mode": {
    "name": "ipython",
    "version": 3
   },
   "file_extension": ".py",
   "mimetype": "text/x-python",
   "name": "python",
   "nbconvert_exporter": "python",
   "pygments_lexer": "ipython3",
   "version": "3.8.10"
  }
 },
 "nbformat": 4,
 "nbformat_minor": 5
}
